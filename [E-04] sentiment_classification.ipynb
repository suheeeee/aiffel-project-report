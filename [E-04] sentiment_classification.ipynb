{
 "cells": [
  {
   "cell_type": "markdown",
   "id": "synthetic-joshua",
   "metadata": {},
   "source": [
    "# 네이버 영화리뷰 감성분석\n",
    "\n",
    "---\n",
    "\n",
    "한국어로 된 네이버 영화 리뷰 텍스트를 이용하여 감성분석을 수행하고 이를 평가해본다."
   ]
  },
  {
   "cell_type": "markdown",
   "id": "adequate-lighter",
   "metadata": {},
   "source": [
    "## 데이터 준비와 확인\n",
    "---"
   ]
  },
  {
   "cell_type": "markdown",
   "id": "south-restaurant",
   "metadata": {},
   "source": [
    "- 데이터 불러오기"
   ]
  },
  {
   "cell_type": "code",
   "execution_count": 16,
   "id": "royal-nomination",
   "metadata": {
    "scrolled": true
   },
   "outputs": [
    {
     "data": {
      "text/html": [
       "<div>\n",
       "<style scoped>\n",
       "    .dataframe tbody tr th:only-of-type {\n",
       "        vertical-align: middle;\n",
       "    }\n",
       "\n",
       "    .dataframe tbody tr th {\n",
       "        vertical-align: top;\n",
       "    }\n",
       "\n",
       "    .dataframe thead th {\n",
       "        text-align: right;\n",
       "    }\n",
       "</style>\n",
       "<table border=\"1\" class=\"dataframe\">\n",
       "  <thead>\n",
       "    <tr style=\"text-align: right;\">\n",
       "      <th></th>\n",
       "      <th>id</th>\n",
       "      <th>document</th>\n",
       "      <th>label</th>\n",
       "    </tr>\n",
       "  </thead>\n",
       "  <tbody>\n",
       "    <tr>\n",
       "      <th>0</th>\n",
       "      <td>9976970</td>\n",
       "      <td>아 더빙.. 진짜 짜증나네요 목소리</td>\n",
       "      <td>0</td>\n",
       "    </tr>\n",
       "    <tr>\n",
       "      <th>1</th>\n",
       "      <td>3819312</td>\n",
       "      <td>흠...포스터보고 초딩영화줄....오버연기조차 가볍지 않구나</td>\n",
       "      <td>1</td>\n",
       "    </tr>\n",
       "    <tr>\n",
       "      <th>2</th>\n",
       "      <td>10265843</td>\n",
       "      <td>너무재밓었다그래서보는것을추천한다</td>\n",
       "      <td>0</td>\n",
       "    </tr>\n",
       "    <tr>\n",
       "      <th>3</th>\n",
       "      <td>9045019</td>\n",
       "      <td>교도소 이야기구먼 ..솔직히 재미는 없다..평점 조정</td>\n",
       "      <td>0</td>\n",
       "    </tr>\n",
       "    <tr>\n",
       "      <th>4</th>\n",
       "      <td>6483659</td>\n",
       "      <td>사이몬페그의 익살스런 연기가 돋보였던 영화!스파이더맨에서 늙어보이기만 했던 커스틴 ...</td>\n",
       "      <td>1</td>\n",
       "    </tr>\n",
       "  </tbody>\n",
       "</table>\n",
       "</div>"
      ],
      "text/plain": [
       "         id                                           document  label\n",
       "0   9976970                                아 더빙.. 진짜 짜증나네요 목소리      0\n",
       "1   3819312                  흠...포스터보고 초딩영화줄....오버연기조차 가볍지 않구나      1\n",
       "2  10265843                                  너무재밓었다그래서보는것을추천한다      0\n",
       "3   9045019                      교도소 이야기구먼 ..솔직히 재미는 없다..평점 조정      0\n",
       "4   6483659  사이몬페그의 익살스런 연기가 돋보였던 영화!스파이더맨에서 늙어보이기만 했던 커스틴 ...      1"
      ]
     },
     "metadata": {},
     "output_type": "display_data"
    },
    {
     "data": {
      "text/html": [
       "<div>\n",
       "<style scoped>\n",
       "    .dataframe tbody tr th:only-of-type {\n",
       "        vertical-align: middle;\n",
       "    }\n",
       "\n",
       "    .dataframe tbody tr th {\n",
       "        vertical-align: top;\n",
       "    }\n",
       "\n",
       "    .dataframe thead th {\n",
       "        text-align: right;\n",
       "    }\n",
       "</style>\n",
       "<table border=\"1\" class=\"dataframe\">\n",
       "  <thead>\n",
       "    <tr style=\"text-align: right;\">\n",
       "      <th></th>\n",
       "      <th>id</th>\n",
       "      <th>document</th>\n",
       "      <th>label</th>\n",
       "    </tr>\n",
       "  </thead>\n",
       "  <tbody>\n",
       "    <tr>\n",
       "      <th>149995</th>\n",
       "      <td>6222902</td>\n",
       "      <td>인간이 문제지.. 소는 뭔죄인가..</td>\n",
       "      <td>0</td>\n",
       "    </tr>\n",
       "    <tr>\n",
       "      <th>149996</th>\n",
       "      <td>8549745</td>\n",
       "      <td>평점이 너무 낮아서...</td>\n",
       "      <td>1</td>\n",
       "    </tr>\n",
       "    <tr>\n",
       "      <th>149997</th>\n",
       "      <td>9311800</td>\n",
       "      <td>이게 뭐요? 한국인은 거들먹거리고 필리핀 혼혈은 착하다?</td>\n",
       "      <td>0</td>\n",
       "    </tr>\n",
       "    <tr>\n",
       "      <th>149998</th>\n",
       "      <td>2376369</td>\n",
       "      <td>청춘 영화의 최고봉.방황과 우울했던 날들의 자화상</td>\n",
       "      <td>1</td>\n",
       "    </tr>\n",
       "    <tr>\n",
       "      <th>149999</th>\n",
       "      <td>9619869</td>\n",
       "      <td>한국 영화 최초로 수간하는 내용이 담긴 영화</td>\n",
       "      <td>0</td>\n",
       "    </tr>\n",
       "  </tbody>\n",
       "</table>\n",
       "</div>"
      ],
      "text/plain": [
       "             id                         document  label\n",
       "149995  6222902              인간이 문제지.. 소는 뭔죄인가..      0\n",
       "149996  8549745                    평점이 너무 낮아서...      1\n",
       "149997  9311800  이게 뭐요? 한국인은 거들먹거리고 필리핀 혼혈은 착하다?      0\n",
       "149998  2376369      청춘 영화의 최고봉.방황과 우울했던 날들의 자화상      1\n",
       "149999  9619869         한국 영화 최초로 수간하는 내용이 담긴 영화      0"
      ]
     },
     "metadata": {},
     "output_type": "display_data"
    }
   ],
   "source": [
    "train_data = pd.read_table(workspace_path + '/ratings_train.txt')\n",
    "test_data  = pd.read_table(workspace_path + '/ratings_test.txt')\n",
    "display(train_data.head(5))\n",
    "display(train_data.tail(5))"
   ]
  },
  {
   "cell_type": "markdown",
   "id": "sacred-butter",
   "metadata": {},
   "source": [
    "## 데이터로더 구성\n",
    "---\n",
    "\n",
    "데이터로더 `data_loader`는 다음 기능을 수행해야 한다.\n",
    "- 데이터의 중복 제거\n",
    "- NaN 결측치 제거\n",
    "- 한국어 토크나이저로 토큰화\n",
    "- 불용어(Stopwords) 제거\n",
    "- 사전`word_to_index` 구성\n",
    "- 텍스트 스트링을 사전 인덱스 스트링으로 변환\n",
    "- `X_train`, `y_train`, `X_test`, `y_test`, `word_to_index` 리턴"
   ]
  },
  {
   "cell_type": "code",
   "execution_count": 17,
   "id": "formed-allen",
   "metadata": {
    "scrolled": true
   },
   "outputs": [],
   "source": [
    "X_train, y_train, X_test, y_test, word_to_index = load_data(train_data, test_data)"
   ]
  },
  {
   "cell_type": "code",
   "execution_count": 18,
   "id": "improving-palestine",
   "metadata": {
    "scrolled": false
   },
   "outputs": [
    {
     "data": {
      "text/plain": [
       "10000"
      ]
     },
     "execution_count": 18,
     "metadata": {},
     "output_type": "execute_result"
    }
   ],
   "source": [
    "len(word_to_index.keys())"
   ]
  },
  {
   "cell_type": "code",
   "execution_count": 19,
   "id": "foreign-button",
   "metadata": {
    "scrolled": true
   },
   "outputs": [],
   "source": [
    "index_to_word = {index:word for word, index in word_to_index.items()}"
   ]
  },
  {
   "cell_type": "code",
   "execution_count": 20,
   "id": "heated-avatar",
   "metadata": {
    "scrolled": true
   },
   "outputs": [
    {
     "data": {
      "text/plain": [
       "'. .. 포스터 보고 초딩 영화 줄 . ... 오버 연기 조차 가볍 지 않 구나'"
      ]
     },
     "execution_count": 20,
     "metadata": {},
     "output_type": "execute_result"
    }
   ],
   "source": [
    "get_decoded_sentence(X_train[1], index_to_word)"
   ]
  },
  {
   "cell_type": "markdown",
   "id": "cheap-assistant",
   "metadata": {},
   "source": [
    "## 모델구성을 위한 데이터 분석 및 가공\n",
    "---\n",
    "- 데이터셋 내 문장 길이 분포"
   ]
  },
  {
   "cell_type": "code",
   "execution_count": 21,
   "id": "electric-absence",
   "metadata": {
    "scrolled": true
   },
   "outputs": [
    {
     "name": "stdout",
     "output_type": "stream",
     "text": [
      "문장길이 평균 :  15.969376315021577\n",
      "문장길이 최대 :  116\n",
      "문장길이 표준편차 :  12.843535456326455\n"
     ]
    }
   ],
   "source": [
    "total_data_text = list(X_train) + list(X_test)\n",
    "\n",
    "# 텍스트데이터 문장길이의 리스트를 생성한 후\n",
    "num_tokens = [len(tokens) for tokens in total_data_text]\n",
    "num_tokens = np.array(num_tokens)\n",
    "\n",
    "# 문장길이의 평균값, 최대값, 표준편차를 계산해 본다. \n",
    "print('문장길이 평균 : ', np.mean(num_tokens))\n",
    "print('문장길이 최대 : ', np.max(num_tokens))\n",
    "print('문장길이 표준편차 : ', np.std(num_tokens))"
   ]
  },
  {
   "cell_type": "markdown",
   "id": "several-habitat",
   "metadata": {},
   "source": [
    "- 적절한 최대 문장 길이 지정"
   ]
  },
  {
   "cell_type": "code",
   "execution_count": 22,
   "id": "herbal-notification",
   "metadata": {
    "scrolled": true
   },
   "outputs": [
    {
     "name": "stdout",
     "output_type": "stream",
     "text": [
      "pad_sequences maxlen :  41\n",
      "전체 문장의 0.9342988343341575%가 maxlen 설정값 이내에 포함됩니다. \n"
     ]
    }
   ],
   "source": [
    "max_tokens = np.mean(num_tokens) + 2 * np.std(num_tokens)\n",
    "# max_tokens = 100\n",
    "maxlen = int(max_tokens)\n",
    "print('pad_sequences maxlen : ', maxlen)\n",
    "print('전체 문장의 {}%가 maxlen 설정값 이내에 포함됩니다. '.format(np.sum(num_tokens < max_tokens) / len(num_tokens)))"
   ]
  },
  {
   "cell_type": "markdown",
   "id": "express-karaoke",
   "metadata": {},
   "source": [
    "- keras.preprocessing.sequence.pad_sequences 을 활용한 패딩 추가"
   ]
  },
  {
   "cell_type": "code",
   "execution_count": 23,
   "id": "stone-plant",
   "metadata": {
    "scrolled": true
   },
   "outputs": [
    {
     "data": {
      "text/plain": [
       "((146182, 41), (49157, 41))"
      ]
     },
     "execution_count": 23,
     "metadata": {},
     "output_type": "execute_result"
    }
   ],
   "source": [
    "X_train = add_padding(X_train, 'pre', maxlen)\n",
    "X_test = add_padding(X_test, 'pre', maxlen)\n",
    "X_train.shape, X_test.shape"
   ]
  },
  {
   "cell_type": "markdown",
   "id": "gross-corner",
   "metadata": {},
   "source": [
    "## 모델구성 및 validation set 구성\n",
    "---"
   ]
  },
  {
   "cell_type": "code",
   "execution_count": 24,
   "id": "under-iraqi",
   "metadata": {
    "scrolled": true
   },
   "outputs": [],
   "source": [
    "models = []\n",
    "model_names = ['RNN', '1_D_CNN', '1_D_1_Layer_CNN']\n",
    "vocab_size = len(word_to_index.keys())\n",
    "word_vector_dim = 16"
   ]
  },
  {
   "cell_type": "markdown",
   "id": "excellent-national",
   "metadata": {},
   "source": [
    "- RNN"
   ]
  },
  {
   "cell_type": "code",
   "execution_count": 25,
   "id": "structured-garlic",
   "metadata": {
    "scrolled": true
   },
   "outputs": [
    {
     "name": "stdout",
     "output_type": "stream",
     "text": [
      "WARNING:tensorflow:From /home/aiffel-dj1/anaconda3/envs/aiffel/lib/python3.7/site-packages/tensorflow/python/keras/initializers.py:119: calling RandomUniform.__init__ (from tensorflow.python.ops.init_ops) with dtype is deprecated and will be removed in a future version.\n",
      "Instructions for updating:\n",
      "Call initializer instance with the dtype argument instead of passing it to the constructor\n",
      "WARNING:tensorflow:From /home/aiffel-dj1/anaconda3/envs/aiffel/lib/python3.7/site-packages/tensorflow/python/ops/init_ops.py:1251: calling VarianceScaling.__init__ (from tensorflow.python.ops.init_ops) with dtype is deprecated and will be removed in a future version.\n",
      "Instructions for updating:\n",
      "Call initializer instance with the dtype argument instead of passing it to the constructor\n",
      "Model: \"sequential\"\n",
      "_________________________________________________________________\n",
      "Layer (type)                 Output Shape              Param #   \n",
      "=================================================================\n",
      "embedding (Embedding)        (None, None, 16)          160000    \n",
      "_________________________________________________________________\n",
      "lstm (LSTM)                  (None, 8)                 800       \n",
      "_________________________________________________________________\n",
      "dense (Dense)                (None, 8)                 72        \n",
      "_________________________________________________________________\n",
      "dense_1 (Dense)              (None, 1)                 9         \n",
      "=================================================================\n",
      "Total params: 160,881\n",
      "Trainable params: 160,881\n",
      "Non-trainable params: 0\n",
      "_________________________________________________________________\n"
     ]
    }
   ],
   "source": [
    "models.append(get_rnn_model(vocab_size, word_vector_dim, 8))"
   ]
  },
  {
   "cell_type": "markdown",
   "id": "worthy-sound",
   "metadata": {},
   "source": [
    "- 1-D Convolution Neural Network(1-D CNN)"
   ]
  },
  {
   "cell_type": "code",
   "execution_count": 26,
   "id": "touched-montana",
   "metadata": {
    "scrolled": false
   },
   "outputs": [
    {
     "name": "stdout",
     "output_type": "stream",
     "text": [
      "Model: \"sequential_1\"\n",
      "_________________________________________________________________\n",
      "Layer (type)                 Output Shape              Param #   \n",
      "=================================================================\n",
      "embedding_1 (Embedding)      (None, None, 16)          160000    \n",
      "_________________________________________________________________\n",
      "conv1d (Conv1D)              (None, None, 16)          1808      \n",
      "_________________________________________________________________\n",
      "max_pooling1d (MaxPooling1D) (None, None, 16)          0         \n",
      "_________________________________________________________________\n",
      "conv1d_1 (Conv1D)            (None, None, 16)          1808      \n",
      "_________________________________________________________________\n",
      "global_max_pooling1d (Global (None, 16)                0         \n",
      "_________________________________________________________________\n",
      "dense_2 (Dense)              (None, 8)                 136       \n",
      "_________________________________________________________________\n",
      "dense_3 (Dense)              (None, 1)                 9         \n",
      "=================================================================\n",
      "Total params: 163,761\n",
      "Trainable params: 163,761\n",
      "Non-trainable params: 0\n",
      "_________________________________________________________________\n"
     ]
    }
   ],
   "source": [
    "models.append(get_one_d_cnn_model(vocab_size, word_vector_dim))"
   ]
  },
  {
   "cell_type": "markdown",
   "id": "greek-generic",
   "metadata": {},
   "source": [
    "- 1-D Convolution Neural Network(1-D CNN) with one layer"
   ]
  },
  {
   "cell_type": "code",
   "execution_count": 27,
   "id": "sustainable-implementation",
   "metadata": {
    "scrolled": true
   },
   "outputs": [
    {
     "name": "stdout",
     "output_type": "stream",
     "text": [
      "Model: \"sequential_2\"\n",
      "_________________________________________________________________\n",
      "Layer (type)                 Output Shape              Param #   \n",
      "=================================================================\n",
      "embedding_2 (Embedding)      (None, None, 16)          160000    \n",
      "_________________________________________________________________\n",
      "global_max_pooling1d_1 (Glob (None, 16)                0         \n",
      "_________________________________________________________________\n",
      "dense_4 (Dense)              (None, 8)                 136       \n",
      "_________________________________________________________________\n",
      "dense_5 (Dense)              (None, 1)                 9         \n",
      "=================================================================\n",
      "Total params: 160,145\n",
      "Trainable params: 160,145\n",
      "Non-trainable params: 0\n",
      "_________________________________________________________________\n"
     ]
    }
   ],
   "source": [
    "models.append(get_one_d_one_l_cnn_model(vocab_size, word_vector_dim))"
   ]
  },
  {
   "cell_type": "markdown",
   "id": "union-willow",
   "metadata": {},
   "source": [
    "## 모델 훈련 개시\n",
    "---"
   ]
  },
  {
   "cell_type": "markdown",
   "id": "altered-notion",
   "metadata": {},
   "source": [
    "- validation set 분리"
   ]
  },
  {
   "cell_type": "code",
   "execution_count": 28,
   "id": "guilty-unknown",
   "metadata": {
    "scrolled": false
   },
   "outputs": [
    {
     "name": "stdout",
     "output_type": "stream",
     "text": [
      "(136182, 41)\n",
      "(136182,)\n"
     ]
    }
   ],
   "source": [
    "X_train, X_val, y_train, y_val = train_test_split(X_train, y_train, test_size=10000, random_state=42)\n",
    "print(X_train.shape)\n",
    "print(y_train.shape)"
   ]
  },
  {
   "cell_type": "markdown",
   "id": "exempt-update",
   "metadata": {},
   "source": [
    "- model 학습 시작"
   ]
  },
  {
   "cell_type": "code",
   "execution_count": 29,
   "id": "drawn-spelling",
   "metadata": {
    "scrolled": true
   },
   "outputs": [],
   "source": [
    "epochs=20"
   ]
  },
  {
   "cell_type": "code",
   "execution_count": 30,
   "id": "sustainable-occasions",
   "metadata": {
    "scrolled": true
   },
   "outputs": [
    {
     "name": "stdout",
     "output_type": "stream",
     "text": [
      "start train RNN ============================================== \n",
      "WARNING:tensorflow:From /home/aiffel-dj1/anaconda3/envs/aiffel/lib/python3.7/site-packages/tensorflow/python/ops/nn_impl.py:180: add_dispatch_support.<locals>.wrapper (from tensorflow.python.ops.array_ops) is deprecated and will be removed in a future version.\n",
      "Instructions for updating:\n",
      "Use tf.where in 2.0, which has the same broadcast rule as np.where\n",
      "Train on 136182 samples, validate on 10000 samples\n",
      "Epoch 1/20\n",
      "136182/136182 - 8s - loss: 0.4936 - acc: 0.7766 - val_loss: 0.3615 - val_acc: 0.8498\n",
      "Epoch 2/20\n",
      "136182/136182 - 7s - loss: 0.3400 - acc: 0.8564 - val_loss: 0.3482 - val_acc: 0.8471\n",
      "Epoch 3/20\n",
      "136182/136182 - 7s - loss: 0.3173 - acc: 0.8670 - val_loss: 0.3403 - val_acc: 0.8552\n",
      "Epoch 4/20\n",
      "136182/136182 - 8s - loss: 0.3052 - acc: 0.8724 - val_loss: 0.3394 - val_acc: 0.8521\n",
      "Epoch 5/20\n",
      "136182/136182 - 7s - loss: 0.2941 - acc: 0.8768 - val_loss: 0.3379 - val_acc: 0.8515\n",
      "Epoch 6/20\n",
      "136182/136182 - 7s - loss: 0.2836 - acc: 0.8812 - val_loss: 0.3411 - val_acc: 0.8496\n",
      "Epoch 7/20\n",
      "136182/136182 - 7s - loss: 0.2746 - acc: 0.8848 - val_loss: 0.3428 - val_acc: 0.8506\n",
      "Epoch 8/20\n",
      "136182/136182 - 7s - loss: 0.2631 - acc: 0.8898 - val_loss: 0.3494 - val_acc: 0.8505\n",
      "Epoch 9/20\n",
      "136182/136182 - 7s - loss: 0.2529 - acc: 0.8943 - val_loss: 0.3524 - val_acc: 0.8539\n",
      "Epoch 00009: early stopping\n",
      "train completed ============================================== \n",
      "start train 1_D_CNN ============================================== \n",
      "Train on 136182 samples, validate on 10000 samples\n",
      "Epoch 1/20\n",
      "136182/136182 - 2s - loss: 0.4774 - acc: 0.7703 - val_loss: 0.3528 - val_acc: 0.8460\n",
      "Epoch 2/20\n",
      "136182/136182 - 2s - loss: 0.3273 - acc: 0.8603 - val_loss: 0.3365 - val_acc: 0.8532\n",
      "Epoch 3/20\n",
      "136182/136182 - 2s - loss: 0.2964 - acc: 0.8765 - val_loss: 0.3331 - val_acc: 0.8541\n",
      "Epoch 4/20\n",
      "136182/136182 - 2s - loss: 0.2712 - acc: 0.8881 - val_loss: 0.3410 - val_acc: 0.8538\n",
      "Epoch 5/20\n",
      "136182/136182 - 2s - loss: 0.2433 - acc: 0.9026 - val_loss: 0.3487 - val_acc: 0.8539\n",
      "Epoch 6/20\n",
      "136182/136182 - 2s - loss: 0.2131 - acc: 0.9179 - val_loss: 0.3654 - val_acc: 0.8534\n",
      "Epoch 7/20\n",
      "136182/136182 - 2s - loss: 0.1818 - acc: 0.9333 - val_loss: 0.3887 - val_acc: 0.8510\n",
      "Epoch 00007: early stopping\n",
      "train completed ============================================== \n",
      "start train 1_D_1_Layer_CNN ============================================== \n",
      "Train on 136182 samples, validate on 10000 samples\n",
      "Epoch 1/20\n",
      "136182/136182 - 1s - loss: 0.6282 - acc: 0.6784 - val_loss: 0.5000 - val_acc: 0.8141\n",
      "Epoch 2/20\n",
      "136182/136182 - 1s - loss: 0.4057 - acc: 0.8372 - val_loss: 0.3665 - val_acc: 0.8443\n",
      "Epoch 3/20\n",
      "136182/136182 - 1s - loss: 0.3319 - acc: 0.8607 - val_loss: 0.3507 - val_acc: 0.8470\n",
      "Epoch 4/20\n",
      "136182/136182 - 1s - loss: 0.3021 - acc: 0.8741 - val_loss: 0.3495 - val_acc: 0.8482\n",
      "Epoch 5/20\n",
      "136182/136182 - 1s - loss: 0.2824 - acc: 0.8839 - val_loss: 0.3545 - val_acc: 0.8492\n",
      "Epoch 6/20\n",
      "136182/136182 - 1s - loss: 0.2667 - acc: 0.8915 - val_loss: 0.3613 - val_acc: 0.8480\n",
      "Epoch 7/20\n",
      "136182/136182 - 1s - loss: 0.2536 - acc: 0.8976 - val_loss: 0.3687 - val_acc: 0.8471\n",
      "Epoch 8/20\n",
      "136182/136182 - 1s - loss: 0.2421 - acc: 0.9031 - val_loss: 0.3796 - val_acc: 0.8455\n",
      "Epoch 00008: early stopping\n",
      "train completed ============================================== \n"
     ]
    }
   ],
   "source": [
    "histories = [train(models[i], model_names[i], X_train, y_train, X_val, y_val, epochs) \n",
    "             for i in range(len(models))]"
   ]
  },
  {
   "cell_type": "markdown",
   "id": "bulgarian-wichita",
   "metadata": {},
   "source": [
    "- 테스트셋으로 평가"
   ]
  },
  {
   "cell_type": "code",
   "execution_count": 31,
   "id": "special-giving",
   "metadata": {
    "scrolled": true
   },
   "outputs": [
    {
     "name": "stdout",
     "output_type": "stream",
     "text": [
      "49157/49157 - 6s - loss: 0.3640 - acc: 0.8479\n",
      "49157/49157 - 1s - loss: 0.3990 - acc: 0.8453\n",
      "49157/49157 - 1s - loss: 0.3896 - acc: 0.8405\n"
     ]
    },
    {
     "data": {
      "text/html": [
       "<div>\n",
       "<style scoped>\n",
       "    .dataframe tbody tr th:only-of-type {\n",
       "        vertical-align: middle;\n",
       "    }\n",
       "\n",
       "    .dataframe tbody tr th {\n",
       "        vertical-align: top;\n",
       "    }\n",
       "\n",
       "    .dataframe thead th {\n",
       "        text-align: right;\n",
       "    }\n",
       "</style>\n",
       "<table border=\"1\" class=\"dataframe\">\n",
       "  <thead>\n",
       "    <tr style=\"text-align: right;\">\n",
       "      <th></th>\n",
       "      <th>loss</th>\n",
       "      <th>accuracy</th>\n",
       "    </tr>\n",
       "  </thead>\n",
       "  <tbody>\n",
       "    <tr>\n",
       "      <th>RNN</th>\n",
       "      <td>0.363994</td>\n",
       "      <td>0.847875</td>\n",
       "    </tr>\n",
       "    <tr>\n",
       "      <th>1_D_CNN</th>\n",
       "      <td>0.398989</td>\n",
       "      <td>0.845251</td>\n",
       "    </tr>\n",
       "    <tr>\n",
       "      <th>1_D_1_Layer_CNN</th>\n",
       "      <td>0.389630</td>\n",
       "      <td>0.840491</td>\n",
       "    </tr>\n",
       "  </tbody>\n",
       "</table>\n",
       "</div>"
      ],
      "text/plain": [
       "                     loss  accuracy\n",
       "RNN              0.363994  0.847875\n",
       "1_D_CNN          0.398989  0.845251\n",
       "1_D_1_Layer_CNN  0.389630  0.840491"
      ]
     },
     "execution_count": 31,
     "metadata": {},
     "output_type": "execute_result"
    }
   ],
   "source": [
    "evaluation_res = [ models[i].evaluate(X_test,  y_test, verbose=2) for i in range(len(models)) ]\n",
    "df = pd.DataFrame(evaluation_res, index=model_names, columns=['loss', 'accuracy'])\n",
    "df"
   ]
  },
  {
   "cell_type": "markdown",
   "id": "transsexual-charity",
   "metadata": {},
   "source": [
    "테스트 결과 구상한 세가지 모델 중 RNN이 가장 성능이 좋았다."
   ]
  },
  {
   "cell_type": "markdown",
   "id": "serious-blade",
   "metadata": {},
   "source": [
    "## Loss, Accuracy 그래프 시각화\n",
    "---"
   ]
  },
  {
   "cell_type": "code",
   "execution_count": 32,
   "id": "addressed-california",
   "metadata": {
    "scrolled": false
   },
   "outputs": [
    {
     "name": "stderr",
     "output_type": "stream",
     "text": [
      "/home/aiffel-dj1/anaconda3/envs/aiffel/lib/python3.7/site-packages/ipykernel_launcher.py:12: UserWarning: Matplotlib is currently using module://ipykernel.pylab.backend_inline, which is a non-GUI backend, so cannot show the figure.\n",
      "  if sys.path[0] == '':\n"
     ]
    },
    {
     "data": {
      "image/png": "[encoded data removed]",
      "text/plain": [
       "<Figure size 1080x360 with 3 Axes>"
      ]
     },
     "metadata": {
      "needs_background": "light"
     },
     "output_type": "display_data"
    },
    {
     "data": {
      "image/png": "[encoded data removed]",
      "text/plain": [
       "<Figure size 1080x360 with 3 Axes>"
      ]
     },
     "metadata": {
      "needs_background": "light"
     },
     "output_type": "display_data"
    }
   ],
   "source": [
    "show_history_plot(histories, model_names)"
   ]
  },
  {
   "cell_type": "markdown",
   "id": "departmental-insertion",
   "metadata": {},
   "source": [
    "## 학습된 Embedding 레이어 분석\n",
    "---"
   ]
  },
  {
   "cell_type": "markdown",
   "id": "comic-creek",
   "metadata": {},
   "source": [
    "- 학습한 Embedding 파라미터를 txt 파일로 저장"
   ]
  },
  {
   "cell_type": "code",
   "execution_count": 33,
   "id": "forty-gauge",
   "metadata": {
    "scrolled": true
   },
   "outputs": [
    {
     "data": {
      "text/plain": [
       "array([[ 0.02435059, -0.07407113,  0.00871195, ..., -0.01922066,\n",
       "         0.02684289, -0.01014234],\n",
       "       [-0.02285335, -0.03341222, -0.02001619, ...,  0.01601448,\n",
       "         0.03994607, -0.03269925],\n",
       "       [-0.02863228,  0.01680109, -0.10421544, ..., -0.05001776,\n",
       "         0.03328235,  0.04511382],\n",
       "       ...,\n",
       "       [-0.140026  , -0.15502006, -0.09372608, ...,  0.1623353 ,\n",
       "         0.04926397,  0.15554827],\n",
       "       [-0.2259723 , -0.27662897, -0.20075093, ...,  0.19210947,\n",
       "        -0.05011493,  0.19194591],\n",
       "       [-0.00666549, -0.05850453, -0.01976708, ..., -0.04978821,\n",
       "        -0.01857595, -0.03466008]], dtype=float32)"
      ]
     },
     "execution_count": 33,
     "metadata": {},
     "output_type": "execute_result"
    }
   ],
   "source": [
    "models[0].get_weights()[0]"
   ]
  },
  {
   "cell_type": "code",
   "execution_count": 35,
   "id": "recreational-vinyl",
   "metadata": {
    "scrolled": false
   },
   "outputs": [],
   "source": [
    "save_embedding_layer(models, model_names)"
   ]
  },
  {
   "cell_type": "code",
   "execution_count": null,
   "id": "contemporary-helmet",
   "metadata": {
    "scrolled": true
   },
   "outputs": [],
   "source": [
    "!ls ./word2vec"
   ]
  },
  {
   "cell_type": "markdown",
   "id": "alike-championship",
   "metadata": {},
   "source": [
    "- 저장한 Embedding 파라미터를 읽어 word vector로 가져오기"
   ]
  },
  {
   "cell_type": "code",
   "execution_count": 37,
   "id": "wrong-sampling",
   "metadata": {
    "scrolled": false
   },
   "outputs": [],
   "source": [
    "from gensim.models.keyedvectors import Word2VecKeyedVectors\n",
    "\n",
    "base_path = workspace_path + '/data/suheeeee/'\n",
    "word_vectors = [Word2VecKeyedVectors.load_word2vec_format(base_path + key + '.txt', binary=False)\n",
    "                for key in model_names]"
   ]
  },
  {
   "cell_type": "code",
   "execution_count": 81,
   "id": "future-italian",
   "metadata": {
    "scrolled": false
   },
   "outputs": [
    {
     "name": "stdout",
     "output_type": "stream",
     "text": [
      "RNN\n"
     ]
    },
    {
     "data": {
      "text/html": [
       "<div>\n",
       "<style scoped>\n",
       "    .dataframe tbody tr th:only-of-type {\n",
       "        vertical-align: middle;\n",
       "    }\n",
       "\n",
       "    .dataframe tbody tr th {\n",
       "        vertical-align: top;\n",
       "    }\n",
       "\n",
       "    .dataframe thead th {\n",
       "        text-align: right;\n",
       "    }\n",
       "</style>\n",
       "<table border=\"1\" class=\"dataframe\">\n",
       "  <thead>\n",
       "    <tr style=\"text-align: right;\">\n",
       "      <th></th>\n",
       "      <th>1</th>\n",
       "      <th>2</th>\n",
       "      <th>3</th>\n",
       "      <th>4</th>\n",
       "      <th>5</th>\n",
       "      <th>6</th>\n",
       "      <th>7</th>\n",
       "      <th>8</th>\n",
       "      <th>9</th>\n",
       "    </tr>\n",
       "  </thead>\n",
       "  <tbody>\n",
       "    <tr>\n",
       "      <th>재미</th>\n",
       "      <td>너무</td>\n",
       "      <td>매우</td>\n",
       "      <td>심혜진</td>\n",
       "      <td>어이없이</td>\n",
       "      <td>거려서</td>\n",
       "      <td>다치</td>\n",
       "      <td>이렇게</td>\n",
       "      <td>완</td>\n",
       "      <td>넘</td>\n",
       "    </tr>\n",
       "    <tr>\n",
       "      <th>슬픔</th>\n",
       "      <td>ㅊ</td>\n",
       "      <td>공존</td>\n",
       "      <td>재발견</td>\n",
       "      <td>봣</td>\n",
       "      <td>메인</td>\n",
       "      <td>구입</td>\n",
       "      <td>틈</td>\n",
       "      <td>무서워서</td>\n",
       "      <td>안다</td>\n",
       "    </tr>\n",
       "    <tr>\n",
       "      <th>아깝</th>\n",
       "      <td>고대로</td>\n",
       "      <td>아까워</td>\n",
       "      <td>탐험</td>\n",
       "      <td>랍시고</td>\n",
       "      <td>모모</td>\n",
       "      <td>당첨</td>\n",
       "      <td>사이트</td>\n",
       "      <td>와요</td>\n",
       "      <td>멀미</td>\n",
       "    </tr>\n",
       "    <tr>\n",
       "      <th>명작</th>\n",
       "      <td>곁</td>\n",
       "      <td>명연기</td>\n",
       "      <td>개꿀</td>\n",
       "      <td>A</td>\n",
       "      <td>열린</td>\n",
       "      <td>조아</td>\n",
       "      <td>감탄</td>\n",
       "      <td>~~^^</td>\n",
       "      <td>완벽</td>\n",
       "    </tr>\n",
       "    <tr>\n",
       "      <th>별로</th>\n",
       "      <td>포기</td>\n",
       "      <td>어설퍼</td>\n",
       "      <td>실망</td>\n",
       "      <td>오만</td>\n",
       "      <td>어리석</td>\n",
       "      <td>아까웠</td>\n",
       "      <td>낮추</td>\n",
       "      <td>재미없</td>\n",
       "      <td>다라마</td>\n",
       "    </tr>\n",
       "    <tr>\n",
       "      <th>유치</th>\n",
       "      <td>대충</td>\n",
       "      <td>방어</td>\n",
       "      <td>난감</td>\n",
       "      <td>본다고</td>\n",
       "      <td>화내</td>\n",
       "      <td>구리</td>\n",
       "      <td>파탄</td>\n",
       "      <td>실망</td>\n",
       "      <td>기대치</td>\n",
       "    </tr>\n",
       "    <tr>\n",
       "      <th>답답</th>\n",
       "      <td>OOO</td>\n",
       "      <td>악몽</td>\n",
       "      <td>시시</td>\n",
       "      <td>포기</td>\n",
       "      <td>내려</td>\n",
       "      <td>치중</td>\n",
       "      <td>무한도전</td>\n",
       "      <td>제한</td>\n",
       "      <td>배달</td>\n",
       "    </tr>\n",
       "  </tbody>\n",
       "</table>\n",
       "</div>"
      ],
      "text/plain": [
       "      1    2    3     4    5    6     7     8    9\n",
       "재미   너무   매우  심혜진  어이없이  거려서   다치   이렇게     완    넘\n",
       "슬픔    ㅊ   공존  재발견     봣   메인   구입     틈  무서워서   안다\n",
       "아깝  고대로  아까워   탐험   랍시고   모모   당첨   사이트    와요   멀미\n",
       "명작    곁  명연기   개꿀     A   열린   조아    감탄  ~~^^   완벽\n",
       "별로   포기  어설퍼   실망    오만  어리석  아까웠    낮추   재미없  다라마\n",
       "유치   대충   방어   난감   본다고   화내   구리    파탄    실망  기대치\n",
       "답답  OOO   악몽   시시    포기   내려   치중  무한도전    제한   배달"
      ]
     },
     "metadata": {},
     "output_type": "display_data"
    },
    {
     "name": "stdout",
     "output_type": "stream",
     "text": [
      "1_D_CNN\n"
     ]
    },
    {
     "data": {
      "text/html": [
       "<div>\n",
       "<style scoped>\n",
       "    .dataframe tbody tr th:only-of-type {\n",
       "        vertical-align: middle;\n",
       "    }\n",
       "\n",
       "    .dataframe tbody tr th {\n",
       "        vertical-align: top;\n",
       "    }\n",
       "\n",
       "    .dataframe thead th {\n",
       "        text-align: right;\n",
       "    }\n",
       "</style>\n",
       "<table border=\"1\" class=\"dataframe\">\n",
       "  <thead>\n",
       "    <tr style=\"text-align: right;\">\n",
       "      <th></th>\n",
       "      <th>1</th>\n",
       "      <th>2</th>\n",
       "      <th>3</th>\n",
       "      <th>4</th>\n",
       "      <th>5</th>\n",
       "      <th>6</th>\n",
       "      <th>7</th>\n",
       "      <th>8</th>\n",
       "      <th>9</th>\n",
       "    </tr>\n",
       "  </thead>\n",
       "  <tbody>\n",
       "    <tr>\n",
       "      <th>재미</th>\n",
       "      <td>여지껏</td>\n",
       "      <td>강동원</td>\n",
       "      <td>열라</td>\n",
       "      <td>도록</td>\n",
       "      <td>흥미</td>\n",
       "      <td>나옴</td>\n",
       "      <td>이정현</td>\n",
       "      <td>매우</td>\n",
       "      <td>그래서</td>\n",
       "    </tr>\n",
       "    <tr>\n",
       "      <th>슬픔</th>\n",
       "      <td>구입</td>\n",
       "      <td>김새론</td>\n",
       "      <td>탕웨이</td>\n",
       "      <td>낙원</td>\n",
       "      <td>깜찍</td>\n",
       "      <td>과자</td>\n",
       "      <td>어짜피</td>\n",
       "      <td>클로이</td>\n",
       "      <td>마음껏</td>\n",
       "    </tr>\n",
       "    <tr>\n",
       "      <th>아깝</th>\n",
       "      <td>재탕</td>\n",
       "      <td>개판</td>\n",
       "      <td>다이애나</td>\n",
       "      <td>끊</td>\n",
       "      <td>박정희</td>\n",
       "      <td>약했</td>\n",
       "      <td>발단</td>\n",
       "      <td>에서부터</td>\n",
       "      <td>써도</td>\n",
       "    </tr>\n",
       "    <tr>\n",
       "      <th>명작</th>\n",
       "      <td>로라</td>\n",
       "      <td>진진</td>\n",
       "      <td>싯</td>\n",
       "      <td>모건</td>\n",
       "      <td>드라마틱</td>\n",
       "      <td>쵝오</td>\n",
       "      <td>재밌</td>\n",
       "      <td>완벽</td>\n",
       "      <td>월요일</td>\n",
       "    </tr>\n",
       "    <tr>\n",
       "      <th>별로</th>\n",
       "      <td>다이</td>\n",
       "      <td>더냐</td>\n",
       "      <td>동거</td>\n",
       "      <td>방어</td>\n",
       "      <td>퇴화</td>\n",
       "      <td>당혹</td>\n",
       "      <td>어설프</td>\n",
       "      <td>횡설수설</td>\n",
       "      <td>밥맛</td>\n",
       "    </tr>\n",
       "    <tr>\n",
       "      <th>유치</th>\n",
       "      <td>재주</td>\n",
       "      <td>단조</td>\n",
       "      <td>나열</td>\n",
       "      <td>무미건조</td>\n",
       "      <td>빤</td>\n",
       "      <td>걸렸</td>\n",
       "      <td>망</td>\n",
       "      <td>나사</td>\n",
       "      <td>근거</td>\n",
       "    </tr>\n",
       "    <tr>\n",
       "      <th>답답</th>\n",
       "      <td>온갖</td>\n",
       "      <td>ㅓ</td>\n",
       "      <td>달려가</td>\n",
       "      <td>아휴</td>\n",
       "      <td>내려</td>\n",
       "      <td>강조</td>\n",
       "      <td>모니터</td>\n",
       "      <td>봐온</td>\n",
       "      <td>밥맛</td>\n",
       "    </tr>\n",
       "  </tbody>\n",
       "</table>\n",
       "</div>"
      ],
      "text/plain": [
       "      1    2     3     4     5   6    7     8    9\n",
       "재미  여지껏  강동원    열라    도록    흥미  나옴  이정현    매우  그래서\n",
       "슬픔   구입  김새론   탕웨이    낙원    깜찍  과자  어짜피   클로이  마음껏\n",
       "아깝   재탕   개판  다이애나     끊   박정희  약했   발단  에서부터   써도\n",
       "명작   로라   진진     싯    모건  드라마틱  쵝오   재밌    완벽  월요일\n",
       "별로   다이   더냐    동거    방어    퇴화  당혹  어설프  횡설수설   밥맛\n",
       "유치   재주   단조    나열  무미건조     빤  걸렸    망    나사   근거\n",
       "답답   온갖    ㅓ   달려가    아휴    내려  강조  모니터    봐온   밥맛"
      ]
     },
     "metadata": {},
     "output_type": "display_data"
    },
    {
     "name": "stdout",
     "output_type": "stream",
     "text": [
      "1_D_1_Layer_CNN\n"
     ]
    },
    {
     "data": {
      "text/html": [
       "<div>\n",
       "<style scoped>\n",
       "    .dataframe tbody tr th:only-of-type {\n",
       "        vertical-align: middle;\n",
       "    }\n",
       "\n",
       "    .dataframe tbody tr th {\n",
       "        vertical-align: top;\n",
       "    }\n",
       "\n",
       "    .dataframe thead th {\n",
       "        text-align: right;\n",
       "    }\n",
       "</style>\n",
       "<table border=\"1\" class=\"dataframe\">\n",
       "  <thead>\n",
       "    <tr style=\"text-align: right;\">\n",
       "      <th></th>\n",
       "      <th>1</th>\n",
       "      <th>2</th>\n",
       "      <th>3</th>\n",
       "      <th>4</th>\n",
       "      <th>5</th>\n",
       "      <th>6</th>\n",
       "      <th>7</th>\n",
       "      <th>8</th>\n",
       "      <th>9</th>\n",
       "    </tr>\n",
       "  </thead>\n",
       "  <tbody>\n",
       "    <tr>\n",
       "      <th>재미</th>\n",
       "      <td>네</td>\n",
       "      <td>애슐리</td>\n",
       "      <td>가물가물</td>\n",
       "      <td>바티칸</td>\n",
       "      <td>한국</td>\n",
       "      <td>약해서</td>\n",
       "      <td>녀</td>\n",
       "      <td>향해</td>\n",
       "      <td>췌</td>\n",
       "    </tr>\n",
       "    <tr>\n",
       "      <th>슬픔</th>\n",
       "      <td>시절</td>\n",
       "      <td>집중력</td>\n",
       "      <td>많</td>\n",
       "      <td>멋있</td>\n",
       "      <td>간다</td>\n",
       "      <td>best</td>\n",
       "      <td>동안</td>\n",
       "      <td>최고</td>\n",
       "      <td>블록버스터</td>\n",
       "    </tr>\n",
       "    <tr>\n",
       "      <th>아깝</th>\n",
       "      <td>접속</td>\n",
       "      <td>글</td>\n",
       "      <td>버림</td>\n",
       "      <td>불가</td>\n",
       "      <td>쩝</td>\n",
       "      <td>뽕짝</td>\n",
       "      <td>0</td>\n",
       "      <td>꺅</td>\n",
       "      <td>제멋대로</td>\n",
       "    </tr>\n",
       "    <tr>\n",
       "      <th>명작</th>\n",
       "      <td>보냅니다</td>\n",
       "      <td>역시</td>\n",
       "      <td>춘</td>\n",
       "      <td>심오</td>\n",
       "      <td>완벽</td>\n",
       "      <td>여러</td>\n",
       "      <td>g</td>\n",
       "      <td>밋기</td>\n",
       "      <td>홀딱</td>\n",
       "    </tr>\n",
       "    <tr>\n",
       "      <th>별로</th>\n",
       "      <td>--;</td>\n",
       "      <td>신파극</td>\n",
       "      <td>씨발</td>\n",
       "      <td>내리</td>\n",
       "      <td>더러움</td>\n",
       "      <td>차라리</td>\n",
       "      <td>날렸</td>\n",
       "      <td>밋밋</td>\n",
       "      <td>살인</td>\n",
       "    </tr>\n",
       "    <tr>\n",
       "      <th>유치</th>\n",
       "      <td>뭔</td>\n",
       "      <td>재미없</td>\n",
       "      <td>도망</td>\n",
       "      <td>칭찬</td>\n",
       "      <td>패러디</td>\n",
       "      <td>저러</td>\n",
       "      <td>제작비</td>\n",
       "      <td>...;;;</td>\n",
       "      <td>유치뽕</td>\n",
       "    </tr>\n",
       "    <tr>\n",
       "      <th>답답</th>\n",
       "      <td>겉멋</td>\n",
       "      <td>무식</td>\n",
       "      <td>미국식</td>\n",
       "      <td>권</td>\n",
       "      <td>무적</td>\n",
       "      <td>앉</td>\n",
       "      <td>명치</td>\n",
       "      <td>초등학생</td>\n",
       "      <td>영상물</td>\n",
       "    </tr>\n",
       "  </tbody>\n",
       "</table>\n",
       "</div>"
      ],
      "text/plain": [
       "       1    2     3    4    5     6    7       8      9\n",
       "재미     네  애슐리  가물가물  바티칸   한국   약해서    녀      향해      췌\n",
       "슬픔    시절  집중력     많   멋있   간다  best   동안      최고  블록버스터\n",
       "아깝    접속    글    버림   불가    쩝    뽕짝    0       꺅   제멋대로\n",
       "명작  보냅니다   역시     춘   심오   완벽    여러    g      밋기     홀딱\n",
       "별로   --;  신파극    씨발   내리  더러움   차라리   날렸      밋밋     살인\n",
       "유치     뭔  재미없    도망   칭찬  패러디    저러  제작비  ...;;;    유치뽕\n",
       "답답    겉멋   무식   미국식    권   무적     앉   명치    초등학생    영상물"
      ]
     },
     "metadata": {},
     "output_type": "display_data"
    }
   ],
   "source": [
    "for i in range(len(word_vectors)): \n",
    "    print(model_names[i])\n",
    "    test_word2vector(word_vectors[i])"
   ]
  },
  {
   "cell_type": "markdown",
   "id": "portuguese-knight",
   "metadata": {},
   "source": [
    "## 한국어 Word2Vec 임베딩 활용하여 성능개선\n",
    "---"
   ]
  },
  {
   "cell_type": "markdown",
   "id": "extreme-adams",
   "metadata": {},
   "source": [
    "#### 한국어 Word2Vec load\n",
    "- 프로젝트를 위하여 세가지 word2vector를 사용하기로 하였다.\n",
    "1. https://github.com/Kyubyong/wordvectors 에서 제공하는 Pre-trained model\n",
    "2. https://github.com/Kyubyong/wordvectors 에서 제공하는 코드를 이용하여 생성한 wikipedia 데이터 기반의 word2vector\n",
    "3. https://ratsgo.github.io/embedding/downloaddata.html 에서 제공하는 단어 수준의 임베딩"
   ]
  },
  {
   "cell_type": "code",
   "execution_count": 67,
   "id": "cosmetic-disposition",
   "metadata": {
    "scrolled": false
   },
   "outputs": [
    {
     "name": "stdout",
     "output_type": "stream",
     "text": [
      "Kyubyong  suheeeee  word-embeddings  wordvectors\r\n"
     ]
    }
   ],
   "source": [
    "!ls ./data"
   ]
  },
  {
   "cell_type": "code",
   "execution_count": 90,
   "id": "defined-roberts",
   "metadata": {
    "scrolled": false
   },
   "outputs": [],
   "source": [
    "from gensim.models import word2vec\n",
    "paths = [ workspace_path + '/data/Kyubyong/ko.bin',\n",
    "          workspace_path + '/data/wordvectors/data/ko.bin', \n",
    "          workspace_path + '/data/word-embeddings/word2vec' ]\n",
    "wvs = [ word2vec.Word2Vec.load(path) for path in paths ]"
   ]
  },
  {
   "cell_type": "code",
   "execution_count": 91,
   "id": "developmental-summer",
   "metadata": {
    "scrolled": false
   },
   "outputs": [
    {
     "name": "stdout",
     "output_type": "stream",
     "text": [
      "(30185, 200)\n",
      "(10007, 100)\n",
      "(358043, 100)\n"
     ]
    }
   ],
   "source": [
    "for wv in wvs: print(wv.wv.vectors.shape)"
   ]
  },
  {
   "cell_type": "markdown",
   "id": "upper-ordinary",
   "metadata": {},
   "source": [
    "#### word2vector 테스트"
   ]
  },
  {
   "cell_type": "code",
   "execution_count": 92,
   "id": "level-mining",
   "metadata": {
    "scrolled": false
   },
   "outputs": [
    {
     "data": {
      "text/html": [
       "<div>\n",
       "<style scoped>\n",
       "    .dataframe tbody tr th:only-of-type {\n",
       "        vertical-align: middle;\n",
       "    }\n",
       "\n",
       "    .dataframe tbody tr th {\n",
       "        vertical-align: top;\n",
       "    }\n",
       "\n",
       "    .dataframe thead th {\n",
       "        text-align: right;\n",
       "    }\n",
       "</style>\n",
       "<table border=\"1\" class=\"dataframe\">\n",
       "  <thead>\n",
       "    <tr style=\"text-align: right;\">\n",
       "      <th></th>\n",
       "      <th>1</th>\n",
       "      <th>2</th>\n",
       "      <th>3</th>\n",
       "      <th>4</th>\n",
       "      <th>5</th>\n",
       "      <th>6</th>\n",
       "      <th>7</th>\n",
       "      <th>8</th>\n",
       "      <th>9</th>\n",
       "    </tr>\n",
       "  </thead>\n",
       "  <tbody>\n",
       "    <tr>\n",
       "      <th>재미</th>\n",
       "      <td>유머</td>\n",
       "      <td>매력</td>\n",
       "      <td>흥미</td>\n",
       "      <td>공짜</td>\n",
       "      <td>일자리</td>\n",
       "      <td>즐거움</td>\n",
       "      <td>비애</td>\n",
       "      <td>관객</td>\n",
       "      <td>향수</td>\n",
       "    </tr>\n",
       "    <tr>\n",
       "      <th>지루</th>\n",
       "      <td>편안</td>\n",
       "      <td>솔직</td>\n",
       "      <td>쓸쓸</td>\n",
       "      <td>차분</td>\n",
       "      <td>조용</td>\n",
       "      <td>냉정</td>\n",
       "      <td>자유분방</td>\n",
       "      <td>피곤</td>\n",
       "      <td>느긋</td>\n",
       "    </tr>\n",
       "    <tr>\n",
       "      <th>아깝</th>\n",
       "      <td>딱하</td>\n",
       "      <td>번거롭</td>\n",
       "      <td>아쉽</td>\n",
       "      <td>부끄럽</td>\n",
       "      <td>못마땅</td>\n",
       "      <td>편하</td>\n",
       "      <td>무난</td>\n",
       "      <td>애석</td>\n",
       "      <td>의아</td>\n",
       "    </tr>\n",
       "    <tr>\n",
       "      <th>명작</th>\n",
       "      <td>작품</td>\n",
       "      <td>대작</td>\n",
       "      <td>희극</td>\n",
       "      <td>희곡</td>\n",
       "      <td>거장</td>\n",
       "      <td>대표작</td>\n",
       "      <td>단편집</td>\n",
       "      <td>히트곡</td>\n",
       "      <td>가곡</td>\n",
       "    </tr>\n",
       "    <tr>\n",
       "      <th>별로</th>\n",
       "      <td>지역별</td>\n",
       "      <td>전혀</td>\n",
       "      <td>각기</td>\n",
       "      <td>개별</td>\n",
       "      <td>따로</td>\n",
       "      <td>마다</td>\n",
       "      <td>별</td>\n",
       "      <td>딱히</td>\n",
       "      <td>다소</td>\n",
       "    </tr>\n",
       "    <tr>\n",
       "      <th>유치</th>\n",
       "      <td>추진</td>\n",
       "      <td>확충</td>\n",
       "      <td>입주</td>\n",
       "      <td>선진화</td>\n",
       "      <td>육성</td>\n",
       "      <td>모금</td>\n",
       "      <td>신공항</td>\n",
       "      <td>확보</td>\n",
       "      <td>홍보</td>\n",
       "    </tr>\n",
       "    <tr>\n",
       "      <th>답답</th>\n",
       "      <td>무뚝뚝</td>\n",
       "      <td>난감</td>\n",
       "      <td>지저분</td>\n",
       "      <td>난잡</td>\n",
       "      <td>불쾌</td>\n",
       "      <td>비통</td>\n",
       "      <td>안타깝</td>\n",
       "      <td>멍청</td>\n",
       "      <td>간절</td>\n",
       "    </tr>\n",
       "  </tbody>\n",
       "</table>\n",
       "</div>"
      ],
      "text/plain": [
       "      1    2    3    4    5    6     7    8   9\n",
       "재미   유머   매력   흥미   공짜  일자리  즐거움    비애   관객  향수\n",
       "지루   편안   솔직   쓸쓸   차분   조용   냉정  자유분방   피곤  느긋\n",
       "아깝   딱하  번거롭   아쉽  부끄럽  못마땅   편하    무난   애석  의아\n",
       "명작   작품   대작   희극   희곡   거장  대표작   단편집  히트곡  가곡\n",
       "별로  지역별   전혀   각기   개별   따로   마다     별   딱히  다소\n",
       "유치   추진   확충   입주  선진화   육성   모금   신공항   확보  홍보\n",
       "답답  무뚝뚝   난감  지저분   난잡   불쾌   비통   안타깝   멍청  간절"
      ]
     },
     "metadata": {},
     "output_type": "display_data"
    },
    {
     "data": {
      "text/html": [
       "<div>\n",
       "<style scoped>\n",
       "    .dataframe tbody tr th:only-of-type {\n",
       "        vertical-align: middle;\n",
       "    }\n",
       "\n",
       "    .dataframe tbody tr th {\n",
       "        vertical-align: top;\n",
       "    }\n",
       "\n",
       "    .dataframe thead th {\n",
       "        text-align: right;\n",
       "    }\n",
       "</style>\n",
       "<table border=\"1\" class=\"dataframe\">\n",
       "  <thead>\n",
       "    <tr style=\"text-align: right;\">\n",
       "      <th></th>\n",
       "      <th>1</th>\n",
       "      <th>2</th>\n",
       "      <th>3</th>\n",
       "      <th>4</th>\n",
       "      <th>5</th>\n",
       "      <th>6</th>\n",
       "      <th>7</th>\n",
       "      <th>8</th>\n",
       "      <th>9</th>\n",
       "    </tr>\n",
       "  </thead>\n",
       "  <tbody>\n",
       "    <tr>\n",
       "      <th>재미</th>\n",
       "      <td>흥미</td>\n",
       "      <td>외모</td>\n",
       "      <td>매력</td>\n",
       "      <td>관객</td>\n",
       "      <td>면모</td>\n",
       "      <td>목소리</td>\n",
       "      <td>인기</td>\n",
       "      <td>분위기</td>\n",
       "      <td>재주</td>\n",
       "    </tr>\n",
       "    <tr>\n",
       "      <th>별로</th>\n",
       "      <td>별</td>\n",
       "      <td>지역별</td>\n",
       "      <td>따로</td>\n",
       "      <td>개별</td>\n",
       "      <td>전혀</td>\n",
       "      <td>각</td>\n",
       "      <td>마다</td>\n",
       "      <td>그다지</td>\n",
       "      <td>문항</td>\n",
       "    </tr>\n",
       "    <tr>\n",
       "      <th>유치</th>\n",
       "      <td>추진</td>\n",
       "      <td>확보</td>\n",
       "      <td>모금</td>\n",
       "      <td>마련</td>\n",
       "      <td>확충</td>\n",
       "      <td>조달</td>\n",
       "      <td>개설</td>\n",
       "      <td>육성</td>\n",
       "      <td>충당</td>\n",
       "    </tr>\n",
       "  </tbody>\n",
       "</table>\n",
       "</div>"
      ],
      "text/plain": [
       "     1    2   3   4   5    6   7    8   9\n",
       "재미  흥미   외모  매력  관객  면모  목소리  인기  분위기  재주\n",
       "별로   별  지역별  따로  개별  전혀    각  마다  그다지  문항\n",
       "유치  추진   확보  모금  마련  확충   조달  개설   육성  충당"
      ]
     },
     "metadata": {},
     "output_type": "display_data"
    },
    {
     "data": {
      "text/html": [
       "<div>\n",
       "<style scoped>\n",
       "    .dataframe tbody tr th:only-of-type {\n",
       "        vertical-align: middle;\n",
       "    }\n",
       "\n",
       "    .dataframe tbody tr th {\n",
       "        vertical-align: top;\n",
       "    }\n",
       "\n",
       "    .dataframe thead th {\n",
       "        text-align: right;\n",
       "    }\n",
       "</style>\n",
       "<table border=\"1\" class=\"dataframe\">\n",
       "  <thead>\n",
       "    <tr style=\"text-align: right;\">\n",
       "      <th></th>\n",
       "      <th>1</th>\n",
       "      <th>2</th>\n",
       "      <th>3</th>\n",
       "      <th>4</th>\n",
       "      <th>5</th>\n",
       "      <th>6</th>\n",
       "      <th>7</th>\n",
       "      <th>8</th>\n",
       "      <th>9</th>\n",
       "    </tr>\n",
       "  </thead>\n",
       "  <tbody>\n",
       "    <tr>\n",
       "      <th>재미</th>\n",
       "      <td>재미있</td>\n",
       "      <td>스릴감</td>\n",
       "      <td>재밌</td>\n",
       "      <td>스토리</td>\n",
       "      <td>~~~~~~~~</td>\n",
       "      <td>^^*</td>\n",
       "      <td>정말</td>\n",
       "      <td>무지무지</td>\n",
       "      <td>스릴</td>\n",
       "    </tr>\n",
       "    <tr>\n",
       "      <th>지루</th>\n",
       "      <td>흥미진진</td>\n",
       "      <td>졸립</td>\n",
       "      <td>찝찝</td>\n",
       "      <td>따분</td>\n",
       "      <td>..;;</td>\n",
       "      <td>산만</td>\n",
       "      <td>식상</td>\n",
       "      <td>갑갑</td>\n",
       "      <td>뻔해서</td>\n",
       "    </tr>\n",
       "    <tr>\n",
       "      <th>아깝</th>\n",
       "      <td>아까운</td>\n",
       "      <td>아까워</td>\n",
       "      <td>아까울</td>\n",
       "      <td>아까웠</td>\n",
       "      <td>진짜</td>\n",
       "      <td>..</td>\n",
       "      <td>반개</td>\n",
       "      <td>...</td>\n",
       "      <td>안타까워서</td>\n",
       "    </tr>\n",
       "    <tr>\n",
       "      <th>명작</th>\n",
       "      <td>걸작</td>\n",
       "      <td>졸작</td>\n",
       "      <td>.!!</td>\n",
       "      <td>정말</td>\n",
       "      <td>....</td>\n",
       "      <td>...</td>\n",
       "      <td>..</td>\n",
       "      <td>작품</td>\n",
       "      <td>~~~~~~~</td>\n",
       "    </tr>\n",
       "    <tr>\n",
       "      <th>별로</th>\n",
       "      <td>딱히</td>\n",
       "      <td>솔직히</td>\n",
       "      <td>별루</td>\n",
       "      <td>별론데</td>\n",
       "      <td>꽤</td>\n",
       "      <td>~~~~~~~~</td>\n",
       "      <td>그냥저냥</td>\n",
       "      <td>괜찬고</td>\n",
       "      <td>그래도</td>\n",
       "    </tr>\n",
       "    <tr>\n",
       "      <th>유치</th>\n",
       "      <td>기대</td>\n",
       "      <td>오글거리</td>\n",
       "      <td>.;;;</td>\n",
       "      <td>던데요</td>\n",
       "      <td>암튼</td>\n",
       "      <td>갑갑</td>\n",
       "      <td>정말</td>\n",
       "      <td>..;;</td>\n",
       "      <td>봣습니다</td>\n",
       "    </tr>\n",
       "    <tr>\n",
       "      <th>답답</th>\n",
       "      <td>갑갑</td>\n",
       "      <td>찝찝</td>\n",
       "      <td>산만</td>\n",
       "      <td>눈쌀</td>\n",
       "      <td>흐뭇</td>\n",
       "      <td>졸립</td>\n",
       "      <td>피곤</td>\n",
       "      <td>찜찜</td>\n",
       "      <td>깝깝</td>\n",
       "    </tr>\n",
       "  </tbody>\n",
       "</table>\n",
       "</div>"
      ],
      "text/plain": [
       "       1     2     3    4         5         6     7     8        9\n",
       "재미   재미있   스릴감    재밌  스토리  ~~~~~~~~       ^^*    정말  무지무지       스릴\n",
       "지루  흥미진진    졸립    찝찝   따분      ..;;        산만    식상    갑갑      뻔해서\n",
       "아깝   아까운   아까워   아까울  아까웠        진짜        ..    반개   ...    안타까워서\n",
       "명작    걸작    졸작   .!!   정말      ....       ...    ..    작품  ~~~~~~~\n",
       "별로    딱히   솔직히    별루  별론데         꽤  ~~~~~~~~  그냥저냥   괜찬고      그래도\n",
       "유치    기대  오글거리  .;;;  던데요        암튼        갑갑    정말  ..;;     봣습니다\n",
       "답답    갑갑    찝찝    산만   눈쌀        흐뭇        졸립    피곤    찜찜       깝깝"
      ]
     },
     "metadata": {},
     "output_type": "display_data"
    }
   ],
   "source": [
    "for wv in wvs: test_word2vector(wv.wv)"
   ]
  },
  {
   "cell_type": "code",
   "execution_count": null,
   "id": "behind-anger",
   "metadata": {
    "scrolled": false
   },
   "outputs": [],
   "source": [
    "첫번째 것이 가장 성능이 좋고 그 다음음 마지막 것"
   ]
  },
  {
   "cell_type": "markdown",
   "id": "adjusted-maldives",
   "metadata": {},
   "source": [
    "#### 모델의 임베딩 레이어를 Word2Vec의 것으로 교체"
   ]
  },
  {
   "cell_type": "markdown",
   "id": "continental-proceeding",
   "metadata": {},
   "source": [
    "- embedding matrix 생성"
   ]
  },
  {
   "cell_type": "code",
   "execution_count": 106,
   "id": "interstate-journalism",
   "metadata": {
    "scrolled": false
   },
   "outputs": [
    {
     "name": "stderr",
     "output_type": "stream",
     "text": [
      "/home/aiffel-dj1/anaconda3/envs/aiffel/lib/python3.7/site-packages/ipykernel_launcher.py:6: DeprecationWarning: Call to deprecated `__contains__` (Method will be removed in 4.0.0, use self.wv.__contains__() instead).\n",
      "  \n",
      "/home/aiffel-dj1/anaconda3/envs/aiffel/lib/python3.7/site-packages/ipykernel_launcher.py:7: DeprecationWarning: Call to deprecated `__getitem__` (Method will be removed in 4.0.0, use self.wv.__getitem__() instead).\n",
      "  import sys\n"
     ]
    }
   ],
   "source": [
    "vocab_size = len(word_to_index.keys()) \n",
    "embedding_matrixs = [ get_embedding_matrix(vocab_size, \n",
    "                                           wv.wv.vectors.shape[1], \n",
    "                                           index_to_word, wv) for wv in wvs ]"
   ]
  },
  {
   "cell_type": "markdown",
   "id": "gentle-worker",
   "metadata": {},
   "source": [
    "#### embedding matrix를 적용한 모델 생성"
   ]
  },
  {
   "cell_type": "code",
   "execution_count": 109,
   "id": "front-mining",
   "metadata": {
    "scrolled": true
   },
   "outputs": [
    {
     "name": "stderr",
     "output_type": "stream",
     "text": [
      "/home/aiffel-dj1/anaconda3/envs/aiffel/lib/python3.7/site-packages/ipykernel_launcher.py:3: FutureWarning: elementwise comparison failed; returning scalar instead, but in the future will perform elementwise comparison\n",
      "  This is separate from the ipykernel package so we can avoid doing imports until\n"
     ]
    },
    {
     "name": "stdout",
     "output_type": "stream",
     "text": [
      "Model: \"sequential_18\"\n",
      "_________________________________________________________________\n",
      "Layer (type)                 Output Shape              Param #   \n",
      "=================================================================\n",
      "embedding_16 (Embedding)     (None, 41, 200)           2000000   \n",
      "_________________________________________________________________\n",
      "lstm_8 (LSTM)                (None, 8)                 6688      \n",
      "_________________________________________________________________\n",
      "dense_24 (Dense)             (None, 8)                 72        \n",
      "_________________________________________________________________\n",
      "dense_25 (Dense)             (None, 1)                 9         \n",
      "=================================================================\n",
      "Total params: 2,006,769\n",
      "Trainable params: 2,006,769\n",
      "Non-trainable params: 0\n",
      "_________________________________________________________________\n",
      "Model: \"sequential_19\"\n",
      "_________________________________________________________________\n",
      "Layer (type)                 Output Shape              Param #   \n",
      "=================================================================\n",
      "embedding_17 (Embedding)     (None, 41, 200)           2000000   \n",
      "_________________________________________________________________\n",
      "conv1d_8 (Conv1D)            (None, 35, 16)            22416     \n",
      "_________________________________________________________________\n",
      "max_pooling1d_4 (MaxPooling1 (None, 7, 16)             0         \n",
      "_________________________________________________________________\n",
      "conv1d_9 (Conv1D)            (None, 1, 16)             1808      \n",
      "_________________________________________________________________\n",
      "global_max_pooling1d_8 (Glob (None, 16)                0         \n",
      "_________________________________________________________________\n",
      "dense_26 (Dense)             (None, 8)                 136       \n",
      "_________________________________________________________________\n",
      "dense_27 (Dense)             (None, 1)                 9         \n",
      "=================================================================\n",
      "Total params: 2,024,369\n",
      "Trainable params: 2,024,369\n",
      "Non-trainable params: 0\n",
      "_________________________________________________________________\n",
      "Model: \"sequential_20\"\n",
      "_________________________________________________________________\n",
      "Layer (type)                 Output Shape              Param #   \n",
      "=================================================================\n",
      "embedding_18 (Embedding)     (None, 41, 200)           2000000   \n",
      "_________________________________________________________________\n",
      "global_max_pooling1d_9 (Glob (None, 200)               0         \n",
      "_________________________________________________________________\n",
      "dense_28 (Dense)             (None, 8)                 1608      \n",
      "_________________________________________________________________\n",
      "dense_29 (Dense)             (None, 1)                 9         \n",
      "=================================================================\n",
      "Total params: 2,001,617\n",
      "Trainable params: 2,001,617\n",
      "Non-trainable params: 0\n",
      "_________________________________________________________________\n"
     ]
    },
    {
     "name": "stderr",
     "output_type": "stream",
     "text": [
      "/home/aiffel-dj1/anaconda3/envs/aiffel/lib/python3.7/site-packages/ipykernel_launcher.py:4: FutureWarning: elementwise comparison failed; returning scalar instead, but in the future will perform elementwise comparison\n",
      "  after removing the cwd from sys.path.\n"
     ]
    },
    {
     "name": "stdout",
     "output_type": "stream",
     "text": [
      "Model: \"sequential_21\"\n",
      "_________________________________________________________________\n",
      "Layer (type)                 Output Shape              Param #   \n",
      "=================================================================\n",
      "embedding_19 (Embedding)     (None, 41, 100)           1000000   \n",
      "_________________________________________________________________\n",
      "lstm_9 (LSTM)                (None, 8)                 3488      \n",
      "_________________________________________________________________\n",
      "dense_30 (Dense)             (None, 8)                 72        \n",
      "_________________________________________________________________\n",
      "dense_31 (Dense)             (None, 1)                 9         \n",
      "=================================================================\n",
      "Total params: 1,003,569\n",
      "Trainable params: 1,003,569\n",
      "Non-trainable params: 0\n",
      "_________________________________________________________________\n",
      "Model: \"sequential_22\"\n",
      "_________________________________________________________________\n",
      "Layer (type)                 Output Shape              Param #   \n",
      "=================================================================\n",
      "embedding_20 (Embedding)     (None, 41, 100)           1000000   \n",
      "_________________________________________________________________\n",
      "conv1d_10 (Conv1D)           (None, 35, 16)            11216     \n",
      "_________________________________________________________________\n",
      "max_pooling1d_5 (MaxPooling1 (None, 7, 16)             0         \n",
      "_________________________________________________________________\n",
      "conv1d_11 (Conv1D)           (None, 1, 16)             1808      \n",
      "_________________________________________________________________\n",
      "global_max_pooling1d_10 (Glo (None, 16)                0         \n",
      "_________________________________________________________________\n",
      "dense_32 (Dense)             (None, 8)                 136       \n",
      "_________________________________________________________________\n",
      "dense_33 (Dense)             (None, 1)                 9         \n",
      "=================================================================\n",
      "Total params: 1,013,169\n",
      "Trainable params: 1,013,169\n",
      "Non-trainable params: 0\n",
      "_________________________________________________________________\n",
      "Model: \"sequential_23\"\n",
      "_________________________________________________________________\n",
      "Layer (type)                 Output Shape              Param #   \n",
      "=================================================================\n",
      "embedding_21 (Embedding)     (None, 41, 100)           1000000   \n",
      "_________________________________________________________________\n",
      "global_max_pooling1d_11 (Glo (None, 100)               0         \n",
      "_________________________________________________________________\n",
      "dense_34 (Dense)             (None, 8)                 808       \n",
      "_________________________________________________________________\n",
      "dense_35 (Dense)             (None, 1)                 9         \n",
      "=================================================================\n",
      "Total params: 1,000,817\n",
      "Trainable params: 1,000,817\n",
      "Non-trainable params: 0\n",
      "_________________________________________________________________\n",
      "Model: \"sequential_24\"\n",
      "_________________________________________________________________\n",
      "Layer (type)                 Output Shape              Param #   \n",
      "=================================================================\n",
      "embedding_22 (Embedding)     (None, 41, 100)           1000000   \n",
      "_________________________________________________________________\n",
      "lstm_10 (LSTM)               (None, 8)                 3488      \n",
      "_________________________________________________________________\n",
      "dense_36 (Dense)             (None, 8)                 72        \n",
      "_________________________________________________________________\n",
      "dense_37 (Dense)             (None, 1)                 9         \n",
      "=================================================================\n",
      "Total params: 1,003,569\n",
      "Trainable params: 1,003,569\n",
      "Non-trainable params: 0\n",
      "_________________________________________________________________\n",
      "Model: \"sequential_25\"\n",
      "_________________________________________________________________\n",
      "Layer (type)                 Output Shape              Param #   \n",
      "=================================================================\n",
      "embedding_23 (Embedding)     (None, 41, 100)           1000000   \n",
      "_________________________________________________________________\n",
      "conv1d_12 (Conv1D)           (None, 35, 16)            11216     \n",
      "_________________________________________________________________\n",
      "max_pooling1d_6 (MaxPooling1 (None, 7, 16)             0         \n",
      "_________________________________________________________________\n",
      "conv1d_13 (Conv1D)           (None, 1, 16)             1808      \n",
      "_________________________________________________________________\n",
      "global_max_pooling1d_12 (Glo (None, 16)                0         \n",
      "_________________________________________________________________\n",
      "dense_38 (Dense)             (None, 8)                 136       \n",
      "_________________________________________________________________\n",
      "dense_39 (Dense)             (None, 1)                 9         \n",
      "=================================================================\n",
      "Total params: 1,013,169\n",
      "Trainable params: 1,013,169\n",
      "Non-trainable params: 0\n",
      "_________________________________________________________________\n",
      "Model: \"sequential_26\"\n",
      "_________________________________________________________________\n",
      "Layer (type)                 Output Shape              Param #   \n",
      "=================================================================\n",
      "embedding_24 (Embedding)     (None, 41, 100)           1000000   \n",
      "_________________________________________________________________\n",
      "global_max_pooling1d_13 (Glo (None, 100)               0         \n",
      "_________________________________________________________________\n",
      "dense_40 (Dense)             (None, 8)                 808       \n",
      "_________________________________________________________________\n",
      "dense_41 (Dense)             (None, 1)                 9         \n",
      "=================================================================\n",
      "Total params: 1,000,817\n",
      "Trainable params: 1,000,817\n",
      "Non-trainable params: 0\n",
      "_________________________________________________________________\n"
     ]
    }
   ],
   "source": [
    "word_vector_dims = [ wv.wv.vectors.shape[1] for wv in wvs ]\n",
    "model_group = [ [ get_rnn_model(vocab_size, word_vector_dims[i], 8, embedding_matrixs[i]),\n",
    "             get_one_d_cnn_model(vocab_size, word_vector_dims[i], embedding_matrixs[i]), \n",
    "             get_one_d_one_l_cnn_model(vocab_size, word_vector_dims[i], embedding_matrixs[i])] \n",
    "            for i in range(3) ]"
   ]
  },
  {
   "cell_type": "code",
   "execution_count": 111,
   "id": "neural-aluminum",
   "metadata": {
    "scrolled": false
   },
   "outputs": [
    {
     "data": {
      "text/plain": [
       "[[<tensorflow.python.keras.engine.sequential.Sequential at 0x7f83a8c65090>,\n",
       "  <tensorflow.python.keras.engine.sequential.Sequential at 0x7f83ebb23b50>,\n",
       "  <tensorflow.python.keras.engine.sequential.Sequential at 0x7f83ebfaddd0>],\n",
       " [<tensorflow.python.keras.engine.sequential.Sequential at 0x7f83eb7b3850>,\n",
       "  <tensorflow.python.keras.engine.sequential.Sequential at 0x7f8390ecdf50>,\n",
       "  <tensorflow.python.keras.engine.sequential.Sequential at 0x7f839052b450>],\n",
       " [<tensorflow.python.keras.engine.sequential.Sequential at 0x7f838fd787d0>,\n",
       "  <tensorflow.python.keras.engine.sequential.Sequential at 0x7f838d06fd90>,\n",
       "  <tensorflow.python.keras.engine.sequential.Sequential at 0x7f838c2fb350>]]"
      ]
     },
     "execution_count": 111,
     "metadata": {},
     "output_type": "execute_result"
    }
   ],
   "source": [
    "model_group"
   ]
  },
  {
   "cell_type": "markdown",
   "id": "committed-effort",
   "metadata": {},
   "source": [
    "#### 모델 학습"
   ]
  },
  {
   "cell_type": "code",
   "execution_count": 110,
   "id": "dressed-transfer",
   "metadata": {
    "scrolled": true
   },
   "outputs": [
    {
     "name": "stdout",
     "output_type": "stream",
     "text": [
      "start train RNN ============================================== \n",
      "Train on 136182 samples, validate on 10000 samples\n",
      "Epoch 1/20\n",
      "136182/136182 - 17s - loss: 0.5060 - acc: 0.7475 - val_loss: 0.3920 - val_acc: 0.8288\n",
      "Epoch 2/20\n",
      "136182/136182 - 17s - loss: 0.3572 - acc: 0.8457 - val_loss: 0.3569 - val_acc: 0.8443\n",
      "Epoch 3/20\n",
      "136182/136182 - 17s - loss: 0.3184 - acc: 0.8656 - val_loss: 0.3472 - val_acc: 0.8478\n",
      "Epoch 4/20\n",
      "136182/136182 - 17s - loss: 0.2967 - acc: 0.8766 - val_loss: 0.3444 - val_acc: 0.8523\n",
      "Epoch 5/20\n",
      "136182/136182 - 16s - loss: 0.2808 - acc: 0.8841 - val_loss: 0.3472 - val_acc: 0.8516\n",
      "Epoch 6/20\n",
      "136182/136182 - 17s - loss: 0.2676 - acc: 0.8907 - val_loss: 0.3609 - val_acc: 0.8491\n",
      "Epoch 7/20\n",
      "136182/136182 - 17s - loss: 0.2550 - acc: 0.8973 - val_loss: 0.3518 - val_acc: 0.8538\n",
      "Epoch 8/20\n",
      "136182/136182 - 16s - loss: 0.2431 - acc: 0.9024 - val_loss: 0.3585 - val_acc: 0.8524\n",
      "Epoch 00008: early stopping\n",
      "train completed ============================================== \n",
      "start train 1_D_CNN ============================================== \n",
      "Train on 136182 samples, validate on 10000 samples\n",
      "Epoch 1/20\n",
      "136182/136182 - 16s - loss: 0.5365 - acc: 0.7180 - val_loss: 0.4241 - val_acc: 0.8071\n",
      "Epoch 2/20\n",
      "136182/136182 - 16s - loss: 0.3797 - acc: 0.8314 - val_loss: 0.3692 - val_acc: 0.8387\n",
      "Epoch 3/20\n",
      "136182/136182 - 16s - loss: 0.3250 - acc: 0.8617 - val_loss: 0.3483 - val_acc: 0.8514\n",
      "Epoch 4/20\n",
      "136182/136182 - 16s - loss: 0.2912 - acc: 0.8803 - val_loss: 0.3416 - val_acc: 0.8531\n",
      "Epoch 5/20\n",
      "136182/136182 - 16s - loss: 0.2666 - acc: 0.8935 - val_loss: 0.3523 - val_acc: 0.8521\n",
      "Epoch 6/20\n",
      "136182/136182 - 15s - loss: 0.2474 - acc: 0.9033 - val_loss: 0.3655 - val_acc: 0.8478\n",
      "Epoch 7/20\n",
      "136182/136182 - 15s - loss: 0.2247 - acc: 0.9147 - val_loss: 0.3712 - val_acc: 0.8508\n",
      "Epoch 8/20\n",
      "136182/136182 - 15s - loss: 0.2054 - acc: 0.9234 - val_loss: 0.3876 - val_acc: 0.8474\n",
      "Epoch 00008: early stopping\n",
      "train completed ============================================== \n",
      "start train 1_D_1_Layer_CNN ============================================== \n",
      "Train on 136182 samples, validate on 10000 samples\n",
      "Epoch 1/20\n",
      "136182/136182 - 8s - loss: 0.6811 - acc: 0.5737 - val_loss: 0.6234 - val_acc: 0.6710\n",
      "Epoch 2/20\n",
      "136182/136182 - 8s - loss: 0.5669 - acc: 0.7126 - val_loss: 0.5307 - val_acc: 0.7365\n",
      "Epoch 3/20\n",
      "136182/136182 - 8s - loss: 0.4847 - acc: 0.7688 - val_loss: 0.4680 - val_acc: 0.7786\n",
      "Epoch 4/20\n",
      "136182/136182 - 8s - loss: 0.4374 - acc: 0.7978 - val_loss: 0.4398 - val_acc: 0.7991\n",
      "Epoch 5/20\n",
      "136182/136182 - 8s - loss: 0.4054 - acc: 0.8171 - val_loss: 0.4238 - val_acc: 0.8050\n",
      "Epoch 6/20\n",
      "136182/136182 - 8s - loss: 0.3820 - acc: 0.8303 - val_loss: 0.4094 - val_acc: 0.8157\n",
      "Epoch 7/20\n",
      "136182/136182 - 8s - loss: 0.3624 - acc: 0.8408 - val_loss: 0.4021 - val_acc: 0.8224\n",
      "Epoch 8/20\n",
      "136182/136182 - 8s - loss: 0.3463 - acc: 0.8492 - val_loss: 0.3954 - val_acc: 0.8245\n",
      "Epoch 9/20\n",
      "136182/136182 - 8s - loss: 0.3315 - acc: 0.8576 - val_loss: 0.3912 - val_acc: 0.8296\n",
      "Epoch 10/20\n",
      "136182/136182 - 8s - loss: 0.3186 - acc: 0.8648 - val_loss: 0.3877 - val_acc: 0.8321\n",
      "Epoch 11/20\n",
      "136182/136182 - 8s - loss: 0.3061 - acc: 0.8710 - val_loss: 0.3941 - val_acc: 0.8308\n",
      "Epoch 12/20\n",
      "136182/136182 - 8s - loss: 0.2947 - acc: 0.8763 - val_loss: 0.3999 - val_acc: 0.8272\n",
      "Epoch 13/20\n",
      "136182/136182 - 8s - loss: 0.2847 - acc: 0.8809 - val_loss: 0.3861 - val_acc: 0.8352\n",
      "Epoch 14/20\n",
      "136182/136182 - 8s - loss: 0.2730 - acc: 0.8872 - val_loss: 0.3869 - val_acc: 0.8354\n",
      "Epoch 15/20\n",
      "136182/136182 - 8s - loss: 0.2623 - acc: 0.8929 - val_loss: 0.3893 - val_acc: 0.8369\n",
      "Epoch 16/20\n",
      "136182/136182 - 8s - loss: 0.2526 - acc: 0.8980 - val_loss: 0.3914 - val_acc: 0.8363\n",
      "Epoch 17/20\n",
      "136182/136182 - 8s - loss: 0.2428 - acc: 0.9027 - val_loss: 0.3996 - val_acc: 0.8336\n",
      "Epoch 00017: early stopping\n",
      "train completed ============================================== \n",
      "start train RNN ============================================== \n",
      "Train on 136182 samples, validate on 10000 samples\n",
      "Epoch 1/20\n",
      "136182/136182 - 11s - loss: 0.5382 - acc: 0.7191 - val_loss: 0.4211 - val_acc: 0.8133\n",
      "Epoch 2/20\n",
      "136182/136182 - 11s - loss: 0.3826 - acc: 0.8340 - val_loss: 0.3743 - val_acc: 0.8390\n",
      "Epoch 3/20\n",
      "136182/136182 - 11s - loss: 0.3399 - acc: 0.8568 - val_loss: 0.3594 - val_acc: 0.8431\n",
      "Epoch 4/20\n",
      "136182/136182 - 10s - loss: 0.3182 - acc: 0.8672 - val_loss: 0.3568 - val_acc: 0.8477\n",
      "Epoch 5/20\n",
      "136182/136182 - 10s - loss: 0.3024 - acc: 0.8747 - val_loss: 0.3554 - val_acc: 0.8481\n",
      "Epoch 6/20\n",
      "136182/136182 - 10s - loss: 0.2905 - acc: 0.8813 - val_loss: 0.3553 - val_acc: 0.8482\n",
      "Epoch 7/20\n",
      "136182/136182 - 10s - loss: 0.2800 - acc: 0.8855 - val_loss: 0.3553 - val_acc: 0.8490\n",
      "Epoch 8/20\n",
      "136182/136182 - 10s - loss: 0.2708 - acc: 0.8899 - val_loss: 0.3616 - val_acc: 0.8482\n",
      "Epoch 9/20\n",
      "136182/136182 - 11s - loss: 0.2620 - acc: 0.8942 - val_loss: 0.3632 - val_acc: 0.8493\n",
      "Epoch 10/20\n",
      "136182/136182 - 10s - loss: 0.2538 - acc: 0.8979 - val_loss: 0.3613 - val_acc: 0.8484\n",
      "Epoch 00010: early stopping\n",
      "train completed ============================================== \n",
      "start train 1_D_CNN ============================================== \n",
      "Train on 136182 samples, validate on 10000 samples\n",
      "Epoch 1/20\n",
      "136182/136182 - 9s - loss: 0.5938 - acc: 0.6635 - val_loss: 0.4709 - val_acc: 0.7846\n",
      "Epoch 2/20\n",
      "136182/136182 - 9s - loss: 0.4170 - acc: 0.8106 - val_loss: 0.3921 - val_acc: 0.8262\n",
      "Epoch 3/20\n",
      "136182/136182 - 9s - loss: 0.3520 - acc: 0.8465 - val_loss: 0.3670 - val_acc: 0.8389\n",
      "Epoch 4/20\n",
      "136182/136182 - 9s - loss: 0.3179 - acc: 0.8644 - val_loss: 0.3599 - val_acc: 0.8432\n",
      "Epoch 5/20\n",
      "136182/136182 - 9s - loss: 0.2954 - acc: 0.8764 - val_loss: 0.3526 - val_acc: 0.8470\n",
      "Epoch 6/20\n",
      "136182/136182 - 9s - loss: 0.2785 - acc: 0.8849 - val_loss: 0.3605 - val_acc: 0.8465\n",
      "Epoch 7/20\n",
      "136182/136182 - 8s - loss: 0.2627 - acc: 0.8930 - val_loss: 0.3621 - val_acc: 0.8481\n",
      "Epoch 8/20\n",
      "136182/136182 - 8s - loss: 0.2488 - acc: 0.8998 - val_loss: 0.3769 - val_acc: 0.8405\n",
      "Epoch 9/20\n",
      "136182/136182 - 9s - loss: 0.2373 - acc: 0.9065 - val_loss: 0.3786 - val_acc: 0.8398\n",
      "Epoch 00009: early stopping\n",
      "train completed ============================================== \n",
      "start train 1_D_1_Layer_CNN ============================================== \n",
      "Train on 136182 samples, validate on 10000 samples\n",
      "Epoch 1/20\n",
      "136182/136182 - 5s - loss: 0.8422 - acc: 0.5390 - val_loss: 0.6724 - val_acc: 0.5967\n",
      "Epoch 2/20\n",
      "136182/136182 - 4s - loss: 0.6306 - acc: 0.6474 - val_loss: 0.5968 - val_acc: 0.6834\n",
      "Epoch 3/20\n",
      "136182/136182 - 4s - loss: 0.5681 - acc: 0.7082 - val_loss: 0.5450 - val_acc: 0.7292\n",
      "Epoch 4/20\n",
      "136182/136182 - 4s - loss: 0.5183 - acc: 0.7459 - val_loss: 0.5031 - val_acc: 0.7566\n",
      "Epoch 5/20\n",
      "136182/136182 - 4s - loss: 0.4787 - acc: 0.7714 - val_loss: 0.4737 - val_acc: 0.7748\n",
      "Epoch 6/20\n",
      "136182/136182 - 4s - loss: 0.4496 - acc: 0.7895 - val_loss: 0.4531 - val_acc: 0.7897\n",
      "Epoch 7/20\n",
      "136182/136182 - 4s - loss: 0.4269 - acc: 0.8027 - val_loss: 0.4377 - val_acc: 0.8001\n",
      "Epoch 8/20\n",
      "136182/136182 - 4s - loss: 0.4089 - acc: 0.8133 - val_loss: 0.4267 - val_acc: 0.8082\n",
      "Epoch 9/20\n",
      "136182/136182 - 4s - loss: 0.3939 - acc: 0.8223 - val_loss: 0.4187 - val_acc: 0.8128\n",
      "Epoch 10/20\n",
      "136182/136182 - 4s - loss: 0.3816 - acc: 0.8293 - val_loss: 0.4188 - val_acc: 0.8118\n",
      "Epoch 11/20\n",
      "136182/136182 - 4s - loss: 0.3703 - acc: 0.8359 - val_loss: 0.4065 - val_acc: 0.8211\n",
      "Epoch 12/20\n",
      "136182/136182 - 4s - loss: 0.3599 - acc: 0.8413 - val_loss: 0.4012 - val_acc: 0.8233\n",
      "Epoch 13/20\n",
      "136182/136182 - 5s - loss: 0.3507 - acc: 0.8463 - val_loss: 0.3971 - val_acc: 0.8253\n",
      "Epoch 14/20\n",
      "136182/136182 - 5s - loss: 0.3424 - acc: 0.8510 - val_loss: 0.3946 - val_acc: 0.8253\n",
      "Epoch 15/20\n",
      "136182/136182 - 4s - loss: 0.3337 - acc: 0.8553 - val_loss: 0.3932 - val_acc: 0.8286\n",
      "Epoch 16/20\n",
      "136182/136182 - 4s - loss: 0.3254 - acc: 0.8601 - val_loss: 0.3920 - val_acc: 0.8256\n",
      "Epoch 17/20\n",
      "136182/136182 - 4s - loss: 0.3185 - acc: 0.8638 - val_loss: 0.3895 - val_acc: 0.8319\n",
      "Epoch 18/20\n",
      "136182/136182 - 4s - loss: 0.3115 - acc: 0.8676 - val_loss: 0.3876 - val_acc: 0.8317\n",
      "Epoch 19/20\n",
      "136182/136182 - 4s - loss: 0.3040 - acc: 0.8712 - val_loss: 0.3905 - val_acc: 0.8303\n",
      "Epoch 20/20\n",
      "136182/136182 - 4s - loss: 0.2985 - acc: 0.8740 - val_loss: 0.3879 - val_acc: 0.8320\n",
      "train completed ============================================== \n",
      "start train RNN ============================================== \n",
      "Train on 136182 samples, validate on 10000 samples\n"
     ]
    },
    {
     "name": "stdout",
     "output_type": "stream",
     "text": [
      "Epoch 1/20\n",
      "136182/136182 - 11s - loss: 0.4676 - acc: 0.7735 - val_loss: 0.3659 - val_acc: 0.8452\n",
      "Epoch 2/20\n",
      "136182/136182 - 10s - loss: 0.3422 - acc: 0.8563 - val_loss: 0.3440 - val_acc: 0.8544\n",
      "Epoch 3/20\n",
      "136182/136182 - 10s - loss: 0.3133 - acc: 0.8705 - val_loss: 0.3451 - val_acc: 0.8543\n",
      "Epoch 4/20\n",
      "136182/136182 - 11s - loss: 0.2963 - acc: 0.8787 - val_loss: 0.3451 - val_acc: 0.8559\n",
      "Epoch 5/20\n",
      "136182/136182 - 12s - loss: 0.2838 - acc: 0.8842 - val_loss: 0.3403 - val_acc: 0.8559\n",
      "Epoch 6/20\n",
      "136182/136182 - 10s - loss: 0.2722 - acc: 0.8906 - val_loss: 0.3414 - val_acc: 0.8558\n",
      "Epoch 7/20\n",
      "136182/136182 - 10s - loss: 0.2616 - acc: 0.8952 - val_loss: 0.3483 - val_acc: 0.8535\n",
      "Epoch 8/20\n",
      "136182/136182 - 10s - loss: 0.2516 - acc: 0.9003 - val_loss: 0.3511 - val_acc: 0.8551\n",
      "Epoch 9/20\n",
      "136182/136182 - 10s - loss: 0.2422 - acc: 0.9052 - val_loss: 0.3550 - val_acc: 0.8528\n",
      "Epoch 00009: early stopping\n",
      "train completed ============================================== \n",
      "start train 1_D_CNN ============================================== \n",
      "Train on 136182 samples, validate on 10000 samples\n",
      "Epoch 1/20\n",
      "136182/136182 - 8s - loss: 0.4823 - acc: 0.7641 - val_loss: 0.3643 - val_acc: 0.8401\n",
      "Epoch 2/20\n",
      "136182/136182 - 8s - loss: 0.3394 - acc: 0.8536 - val_loss: 0.3457 - val_acc: 0.8488\n",
      "Epoch 3/20\n",
      "136182/136182 - 8s - loss: 0.3051 - acc: 0.8713 - val_loss: 0.3385 - val_acc: 0.8534\n",
      "Epoch 4/20\n",
      "136182/136182 - 8s - loss: 0.2781 - acc: 0.8847 - val_loss: 0.3383 - val_acc: 0.8582\n",
      "Epoch 5/20\n",
      "136182/136182 - 8s - loss: 0.2536 - acc: 0.8970 - val_loss: 0.3492 - val_acc: 0.8562\n",
      "Epoch 6/20\n",
      "136182/136182 - 8s - loss: 0.2261 - acc: 0.9105 - val_loss: 0.3639 - val_acc: 0.8508\n",
      "Epoch 7/20\n",
      "136182/136182 - 9s - loss: 0.1962 - acc: 0.9252 - val_loss: 0.3973 - val_acc: 0.8495\n",
      "Epoch 8/20\n",
      "136182/136182 - 8s - loss: 0.1687 - acc: 0.9379 - val_loss: 0.4071 - val_acc: 0.8485\n",
      "Epoch 00008: early stopping\n",
      "train completed ============================================== \n",
      "start train 1_D_1_Layer_CNN ============================================== \n",
      "Train on 136182 samples, validate on 10000 samples\n",
      "Epoch 1/20\n",
      "136182/136182 - 5s - loss: 0.6268 - acc: 0.6806 - val_loss: 0.4935 - val_acc: 0.7946\n",
      "Epoch 2/20\n",
      "136182/136182 - 4s - loss: 0.4172 - acc: 0.8164 - val_loss: 0.3798 - val_acc: 0.8316\n",
      "Epoch 3/20\n",
      "136182/136182 - 4s - loss: 0.3556 - acc: 0.8450 - val_loss: 0.3565 - val_acc: 0.8418\n",
      "Epoch 4/20\n",
      "136182/136182 - 4s - loss: 0.3280 - acc: 0.8599 - val_loss: 0.3465 - val_acc: 0.8488\n",
      "Epoch 5/20\n",
      "136182/136182 - 4s - loss: 0.3079 - acc: 0.8706 - val_loss: 0.3420 - val_acc: 0.8485\n",
      "Epoch 6/20\n",
      "136182/136182 - 4s - loss: 0.2912 - acc: 0.8792 - val_loss: 0.3407 - val_acc: 0.8518\n",
      "Epoch 7/20\n",
      "136182/136182 - 4s - loss: 0.2769 - acc: 0.8862 - val_loss: 0.3403 - val_acc: 0.8547\n",
      "Epoch 8/20\n",
      "136182/136182 - 4s - loss: 0.2637 - acc: 0.8931 - val_loss: 0.3435 - val_acc: 0.8535\n",
      "Epoch 9/20\n",
      "136182/136182 - 4s - loss: 0.2517 - acc: 0.8990 - val_loss: 0.3461 - val_acc: 0.8531\n",
      "Epoch 10/20\n",
      "136182/136182 - 4s - loss: 0.2398 - acc: 0.9051 - val_loss: 0.3528 - val_acc: 0.8521\n",
      "Epoch 11/20\n",
      "136182/136182 - 4s - loss: 0.2286 - acc: 0.9111 - val_loss: 0.3575 - val_acc: 0.8526\n",
      "Epoch 00011: early stopping\n",
      "train completed ============================================== \n"
     ]
    }
   ],
   "source": [
    "histories = []\n",
    "for models in model_group:\n",
    "    for i in range(len(models)):\n",
    "        histories.append(train(models[i], model_names[i], X_train, y_train, X_val, y_val, epochs))"
   ]
  },
  {
   "cell_type": "markdown",
   "id": "controlled-currency",
   "metadata": {},
   "source": [
    "#### 평가"
   ]
  },
  {
   "cell_type": "code",
   "execution_count": 119,
   "id": "dried-packet",
   "metadata": {
    "scrolled": false
   },
   "outputs": [
    {
     "name": "stdout",
     "output_type": "stream",
     "text": [
      "word2vec number :: 0\n",
      "49157/49157 - 7s - loss: 0.3677 - acc: 0.8501\n",
      "49157/49157 - 2s - loss: 0.4015 - acc: 0.8426\n",
      "49157/49157 - 1s - loss: 0.4099 - acc: 0.8279\n",
      "word2vec number :: 1\n",
      "49157/49157 - 7s - loss: 0.3693 - acc: 0.8480\n",
      "49157/49157 - 1s - loss: 0.3865 - acc: 0.8404\n",
      "49157/49157 - 1s - loss: 0.4011 - acc: 0.8256\n",
      "word2vec number :: 2\n",
      "49157/49157 - 6s - loss: 0.3640 - acc: 0.8479\n",
      "49157/49157 - 1s - loss: 0.4134 - acc: 0.8455\n",
      "49157/49157 - 1s - loss: 0.3715 - acc: 0.8458\n"
     ]
    }
   ],
   "source": [
    "for model_idx in range(len(model_group)):\n",
    "    print('word2vec number :: {}'.format(model_idx))\n",
    "    evaluation_res = [ model_group[model_idx][i].evaluate(X_test,  y_test, verbose=2)\n",
    "                       for i in range(len(model_group[model_idx])) ]"
   ]
  },
  {
   "cell_type": "markdown",
   "id": "stretch-marker",
   "metadata": {},
   "source": [
    "#### 추가실험\n",
    "- 결과가 가장 좋은 첫번째 word2vec와 rnn 모델을 이용하여 더 좋은 결과를 얻기 위해 하이퍼 파리미터를 조정해 보고자 한다."
   ]
  },
  {
   "cell_type": "code",
   "execution_count": 129,
   "id": "demanding-westminster",
   "metadata": {
    "scrolled": true
   },
   "outputs": [
    {
     "name": "stderr",
     "output_type": "stream",
     "text": [
      "/home/aiffel-dj1/anaconda3/envs/aiffel/lib/python3.7/site-packages/ipykernel_launcher.py:3: FutureWarning: elementwise comparison failed; returning scalar instead, but in the future will perform elementwise comparison\n",
      "  This is separate from the ipykernel package so we can avoid doing imports until\n"
     ]
    },
    {
     "name": "stdout",
     "output_type": "stream",
     "text": [
      "Model: \"sequential_33\"\n",
      "_________________________________________________________________\n",
      "Layer (type)                 Output Shape              Param #   \n",
      "=================================================================\n",
      "embedding_31 (Embedding)     (None, 41, 200)           2000000   \n",
      "_________________________________________________________________\n",
      "lstm_16 (LSTM)               (None, 16)                13888     \n",
      "_________________________________________________________________\n",
      "dense_52 (Dense)             (None, 16)                272       \n",
      "_________________________________________________________________\n",
      "dense_53 (Dense)             (None, 1)                 17        \n",
      "=================================================================\n",
      "Total params: 2,014,177\n",
      "Trainable params: 2,014,177\n",
      "Non-trainable params: 0\n",
      "_________________________________________________________________\n",
      "Model: \"sequential_34\"\n",
      "_________________________________________________________________\n",
      "Layer (type)                 Output Shape              Param #   \n",
      "=================================================================\n",
      "embedding_32 (Embedding)     (None, 41, 200)           2000000   \n",
      "_________________________________________________________________\n",
      "lstm_17 (LSTM)               (None, 32)                29824     \n",
      "_________________________________________________________________\n",
      "dense_54 (Dense)             (None, 32)                1056      \n",
      "_________________________________________________________________\n",
      "dense_55 (Dense)             (None, 1)                 33        \n",
      "=================================================================\n",
      "Total params: 2,030,913\n",
      "Trainable params: 2,030,913\n",
      "Non-trainable params: 0\n",
      "_________________________________________________________________\n",
      "Model: \"sequential_35\"\n",
      "_________________________________________________________________\n",
      "Layer (type)                 Output Shape              Param #   \n",
      "=================================================================\n",
      "embedding_33 (Embedding)     (None, 41, 200)           2000000   \n",
      "_________________________________________________________________\n",
      "lstm_18 (LSTM)               (None, 64)                67840     \n",
      "_________________________________________________________________\n",
      "dense_56 (Dense)             (None, 64)                4160      \n",
      "_________________________________________________________________\n",
      "dense_57 (Dense)             (None, 1)                 65        \n",
      "=================================================================\n",
      "Total params: 2,072,065\n",
      "Trainable params: 2,072,065\n",
      "Non-trainable params: 0\n",
      "_________________________________________________________________\n",
      "Model: \"sequential_36\"\n",
      "_________________________________________________________________\n",
      "Layer (type)                 Output Shape              Param #   \n",
      "=================================================================\n",
      "embedding_34 (Embedding)     (None, 41, 200)           2000000   \n",
      "_________________________________________________________________\n",
      "lstm_19 (LSTM)               (None, 128)               168448    \n",
      "_________________________________________________________________\n",
      "dense_58 (Dense)             (None, 128)               16512     \n",
      "_________________________________________________________________\n",
      "dense_59 (Dense)             (None, 1)                 129       \n",
      "=================================================================\n",
      "Total params: 2,185,089\n",
      "Trainable params: 2,185,089\n",
      "Non-trainable params: 0\n",
      "_________________________________________________________________\n",
      "Model: \"sequential_37\"\n",
      "_________________________________________________________________\n",
      "Layer (type)                 Output Shape              Param #   \n",
      "=================================================================\n",
      "embedding_35 (Embedding)     (None, 41, 200)           2000000   \n",
      "_________________________________________________________________\n",
      "lstm_20 (LSTM)               (None, 256)               467968    \n",
      "_________________________________________________________________\n",
      "dense_60 (Dense)             (None, 256)               65792     \n",
      "_________________________________________________________________\n",
      "dense_61 (Dense)             (None, 1)                 257       \n",
      "=================================================================\n",
      "Total params: 2,534,017\n",
      "Trainable params: 2,534,017\n",
      "Non-trainable params: 0\n",
      "_________________________________________________________________\n"
     ]
    }
   ],
   "source": [
    "word_vector_dims = wvs[0].wv.vectors.shape[1]\n",
    "vocab_size = len(word_to_index.keys()) \n",
    "\n",
    "rnn_models = [ get_rnn_model(vocab_size, word_vector_dims, 16, embedding_matrixs[0]),\n",
    "               get_rnn_model(vocab_size, word_vector_dims, 32, embedding_matrixs[0]),\n",
    "               get_rnn_model(vocab_size, word_vector_dims, 64, embedding_matrixs[0]),\n",
    "               get_rnn_model(vocab_size, word_vector_dims, 128, embedding_matrixs[0]),\n",
    "               get_rnn_model(vocab_size, word_vector_dims, 256, embedding_matrixs[0])]"
   ]
  },
  {
   "cell_type": "code",
   "execution_count": 130,
   "id": "oriented-tyler",
   "metadata": {
    "scrolled": false
   },
   "outputs": [
    {
     "name": "stdout",
     "output_type": "stream",
     "text": [
      "start train RNN ============================================== \n",
      "Train on 136182 samples, validate on 10000 samples\n",
      "Epoch 1/20\n",
      "136182/136182 - 19s - loss: 0.4977 - acc: 0.7506 - val_loss: 0.3878 - val_acc: 0.8277\n",
      "Epoch 2/20\n",
      "136182/136182 - 17s - loss: 0.3495 - acc: 0.8489 - val_loss: 0.3457 - val_acc: 0.8529\n",
      "Epoch 3/20\n",
      "136182/136182 - 17s - loss: 0.3092 - acc: 0.8697 - val_loss: 0.3383 - val_acc: 0.8545\n",
      "Epoch 4/20\n",
      "136182/136182 - 17s - loss: 0.2855 - acc: 0.8812 - val_loss: 0.3360 - val_acc: 0.8588\n",
      "Epoch 5/20\n",
      "136182/136182 - 18s - loss: 0.2681 - acc: 0.8904 - val_loss: 0.3409 - val_acc: 0.8556\n",
      "Epoch 6/20\n",
      "136182/136182 - 20s - loss: 0.2521 - acc: 0.8972 - val_loss: 0.3475 - val_acc: 0.8539\n",
      "Epoch 7/20\n",
      "136182/136182 - 19s - loss: 0.2380 - acc: 0.9043 - val_loss: 0.3557 - val_acc: 0.8551\n",
      "Epoch 8/20\n",
      "136182/136182 - 19s - loss: 0.2227 - acc: 0.9113 - val_loss: 0.3628 - val_acc: 0.8595\n",
      "Epoch 00008: early stopping\n",
      "train completed ============================================== \n",
      "start train RNN ============================================== \n",
      "Train on 136182 samples, validate on 10000 samples\n",
      "Epoch 1/20\n",
      "136182/136182 - 24s - loss: 0.4730 - acc: 0.7686 - val_loss: 0.3686 - val_acc: 0.8398\n",
      "Epoch 2/20\n",
      "136182/136182 - 22s - loss: 0.3384 - acc: 0.8544 - val_loss: 0.3345 - val_acc: 0.8566\n",
      "Epoch 3/20\n",
      "136182/136182 - 21s - loss: 0.2990 - acc: 0.8745 - val_loss: 0.3270 - val_acc: 0.8593\n",
      "Epoch 4/20\n",
      "136182/136182 - 22s - loss: 0.2735 - acc: 0.8867 - val_loss: 0.3250 - val_acc: 0.8619\n",
      "Epoch 5/20\n",
      "136182/136182 - 22s - loss: 0.2535 - acc: 0.8970 - val_loss: 0.3295 - val_acc: 0.8610\n",
      "Epoch 6/20\n",
      "136182/136182 - 22s - loss: 0.2338 - acc: 0.9059 - val_loss: 0.3321 - val_acc: 0.8648\n",
      "Epoch 7/20\n",
      "136182/136182 - 22s - loss: 0.2165 - acc: 0.9140 - val_loss: 0.3438 - val_acc: 0.8623\n",
      "Epoch 8/20\n",
      "136182/136182 - 21s - loss: 0.2018 - acc: 0.9213 - val_loss: 0.3558 - val_acc: 0.8625\n",
      "Epoch 00008: early stopping\n",
      "train completed ============================================== \n",
      "start train RNN ============================================== \n",
      "Train on 136182 samples, validate on 10000 samples\n",
      "Epoch 1/20\n",
      "136182/136182 - 35s - loss: 0.4510 - acc: 0.7827 - val_loss: 0.3594 - val_acc: 0.8398\n",
      "Epoch 2/20\n",
      "136182/136182 - 31s - loss: 0.3255 - acc: 0.8588 - val_loss: 0.3293 - val_acc: 0.8583\n",
      "Epoch 3/20\n",
      "136182/136182 - 31s - loss: 0.2866 - acc: 0.8790 - val_loss: 0.3238 - val_acc: 0.8577\n",
      "Epoch 4/20\n",
      "136182/136182 - 35s - loss: 0.2612 - acc: 0.8913 - val_loss: 0.3188 - val_acc: 0.8609\n",
      "Epoch 5/20\n",
      "136182/136182 - 35s - loss: 0.2388 - acc: 0.9019 - val_loss: 0.3287 - val_acc: 0.8629\n",
      "Epoch 6/20\n",
      "136182/136182 - 35s - loss: 0.2184 - acc: 0.9111 - val_loss: 0.3468 - val_acc: 0.8586\n",
      "Epoch 7/20\n",
      "136182/136182 - 34s - loss: 0.1979 - acc: 0.9210 - val_loss: 0.3407 - val_acc: 0.8620\n",
      "Epoch 8/20\n",
      "136182/136182 - 32s - loss: 0.1773 - acc: 0.9306 - val_loss: 0.3682 - val_acc: 0.8608\n",
      "Epoch 00008: early stopping\n",
      "train completed ============================================== \n",
      "start train RNN ============================================== \n",
      "Train on 136182 samples, validate on 10000 samples\n",
      "Epoch 1/20\n",
      "136182/136182 - 53s - loss: 0.4442 - acc: 0.7874 - val_loss: 0.3566 - val_acc: 0.8432\n",
      "Epoch 2/20\n",
      "136182/136182 - 53s - loss: 0.3170 - acc: 0.8634 - val_loss: 0.3193 - val_acc: 0.8609\n",
      "Epoch 3/20\n",
      "136182/136182 - 51s - loss: 0.2764 - acc: 0.8836 - val_loss: 0.3111 - val_acc: 0.8641\n",
      "Epoch 4/20\n",
      "136182/136182 - 54s - loss: 0.2464 - acc: 0.8984 - val_loss: 0.3138 - val_acc: 0.8670\n",
      "Epoch 5/20\n",
      "136182/136182 - 55s - loss: 0.2200 - acc: 0.9104 - val_loss: 0.3254 - val_acc: 0.8714\n",
      "Epoch 6/20\n",
      "136182/136182 - 56s - loss: 0.1937 - acc: 0.9223 - val_loss: 0.3277 - val_acc: 0.8678\n",
      "Epoch 7/20\n",
      "136182/136182 - 55s - loss: 0.1667 - acc: 0.9343 - val_loss: 0.3711 - val_acc: 0.8672\n",
      "Epoch 00007: early stopping\n",
      "train completed ============================================== \n",
      "start train RNN ============================================== \n",
      "Train on 136182 samples, validate on 10000 samples\n",
      "Epoch 1/20\n",
      "136182/136182 - 116s - loss: 0.4317 - acc: 0.7952 - val_loss: 0.3428 - val_acc: 0.8546\n",
      "Epoch 2/20\n",
      "136182/136182 - 114s - loss: 0.3110 - acc: 0.8666 - val_loss: 0.3137 - val_acc: 0.8654\n",
      "Epoch 3/20\n",
      "136182/136182 - 113s - loss: 0.2676 - acc: 0.8875 - val_loss: 0.3091 - val_acc: 0.8707\n",
      "Epoch 4/20\n",
      "136182/136182 - 104s - loss: 0.2343 - acc: 0.9037 - val_loss: 0.3050 - val_acc: 0.8725\n",
      "Epoch 5/20\n",
      "136182/136182 - 102s - loss: 0.1993 - acc: 0.9199 - val_loss: 0.3234 - val_acc: 0.8716\n",
      "Epoch 6/20\n",
      "136182/136182 - 103s - loss: 0.1614 - acc: 0.9362 - val_loss: 0.3497 - val_acc: 0.8670\n",
      "Epoch 7/20\n",
      "136182/136182 - 103s - loss: 0.1260 - acc: 0.9508 - val_loss: 0.4221 - val_acc: 0.8594\n",
      "Epoch 8/20\n",
      "136182/136182 - 92s - loss: 0.0957 - acc: 0.9627 - val_loss: 0.5029 - val_acc: 0.8610\n",
      "Epoch 00008: early stopping\n",
      "train completed ============================================== \n"
     ]
    }
   ],
   "source": [
    "rnn_models_history = [train(model, model_names[0], X_train, y_train, X_val, y_val, 20)\n",
    "                      for model in rnn_models ]"
   ]
  },
  {
   "cell_type": "code",
   "execution_count": 132,
   "id": "unique-crown",
   "metadata": {
    "scrolled": false
   },
   "outputs": [
    {
     "name": "stdout",
     "output_type": "stream",
     "text": [
      "49157/49157 - 6s - loss: 0.3705 - acc: 0.8526\n"
     ]
    },
    {
     "data": {
      "text/plain": [
       "[0.3704558219982323, 0.8525744]"
      ]
     },
     "execution_count": 132,
     "metadata": {},
     "output_type": "execute_result"
    }
   ],
   "source": [
    "rnn_models[0].evaluate(X_test,  y_test, verbose=2)"
   ]
  },
  {
   "cell_type": "code",
   "execution_count": 134,
   "id": "rapid-destruction",
   "metadata": {
    "scrolled": false
   },
   "outputs": [
    {
     "name": "stdout",
     "output_type": "stream",
     "text": [
      "49157/49157 - 6s - loss: 0.3705 - acc: 0.8526\n",
      "49157/49157 - 7s - loss: 0.3661 - acc: 0.8555\n",
      "49157/49157 - 7s - loss: 0.3715 - acc: 0.8567\n",
      "49157/49157 - 11s - loss: 0.3848 - acc: 0.8611\n",
      "49157/49157 - 28s - loss: 0.5107 - acc: 0.8587\n"
     ]
    }
   ],
   "source": [
    "evaluation_res = [ rnn_models[i].evaluate(X_test,  y_test, verbose=2) for i in range(len(rnn_models)) ]\n",
    "df = pd.DataFrame(evaluation_res, index=[16,32,64,128,256], columns=['loss', 'accuracy'])"
   ]
  },
  {
   "cell_type": "code",
   "execution_count": 135,
   "id": "smart-programming",
   "metadata": {
    "scrolled": true
   },
   "outputs": [
    {
     "data": {
      "text/html": [
       "<div>\n",
       "<style scoped>\n",
       "    .dataframe tbody tr th:only-of-type {\n",
       "        vertical-align: middle;\n",
       "    }\n",
       "\n",
       "    .dataframe tbody tr th {\n",
       "        vertical-align: top;\n",
       "    }\n",
       "\n",
       "    .dataframe thead th {\n",
       "        text-align: right;\n",
       "    }\n",
       "</style>\n",
       "<table border=\"1\" class=\"dataframe\">\n",
       "  <thead>\n",
       "    <tr style=\"text-align: right;\">\n",
       "      <th></th>\n",
       "      <th>loss</th>\n",
       "      <th>accuracy</th>\n",
       "    </tr>\n",
       "  </thead>\n",
       "  <tbody>\n",
       "    <tr>\n",
       "      <th>16</th>\n",
       "      <td>0.370456</td>\n",
       "      <td>0.852574</td>\n",
       "    </tr>\n",
       "    <tr>\n",
       "      <th>32</th>\n",
       "      <td>0.366094</td>\n",
       "      <td>0.855483</td>\n",
       "    </tr>\n",
       "    <tr>\n",
       "      <th>64</th>\n",
       "      <td>0.371462</td>\n",
       "      <td>0.856704</td>\n",
       "    </tr>\n",
       "    <tr>\n",
       "      <th>128</th>\n",
       "      <td>0.384762</td>\n",
       "      <td>0.861139</td>\n",
       "    </tr>\n",
       "    <tr>\n",
       "      <th>256</th>\n",
       "      <td>0.510656</td>\n",
       "      <td>0.858738</td>\n",
       "    </tr>\n",
       "  </tbody>\n",
       "</table>\n",
       "</div>"
      ],
      "text/plain": [
       "         loss  accuracy\n",
       "16   0.370456  0.852574\n",
       "32   0.366094  0.855483\n",
       "64   0.371462  0.856704\n",
       "128  0.384762  0.861139\n",
       "256  0.510656  0.858738"
      ]
     },
     "execution_count": 135,
     "metadata": {},
     "output_type": "execute_result"
    }
   ],
   "source": [
    "df"
   ]
  },
  {
   "cell_type": "markdown",
   "id": "final-socket",
   "metadata": {
    "scrolled": true
   },
   "source": [
    "## 결론\n",
    "---"
   ]
  },
  {
   "cell_type": "markdown",
   "id": "productive-progress",
   "metadata": {},
   "source": [
    "### 요약\n",
    "- 목표 : 네이버 영화리뷰 데이터셋을 이용하여 감성분류기를 만들어 본다.\n",
    "- 프로젝트 진행 과정\n",
    "    - 데이터 전처리\n",
    "        - 네이버 영화 리뷰 데이터셋을 다운로드 받아 불러들인다. [link](https://github.com/e9t/nsmc)\n",
    "        - 데이터 로더를 구성하여 데이터 중복제거, Mecab 토크나이저를 이용한 토큰화 등의 과정을 걸쳐 데이터를 컴퓨터가 이해할 수 있도록 수치화 시킨다.\n",
    "        - 문장의 길이를 적절가게 조정하여 모든 문장이 같은 길이를 가지도록 변환한다.\n",
    "    - 모델 설계/훈련/평가 : RNN, 1-D Convolution Neural Network, Global max pooling Layer 하나만을 사용하는 모델 -> 총 3개의 모델을 사용하여 훈련을 시키고 accuracy와 loss를 구한다. 이때, accuracy와 loss를 그래로 나타내어 추이를 확인한다.\n",
    "    - embedding layer 분석\n",
    "         - 위의 모델에서 학습된 embedding 파라미터를 txt 파일로 저장후 gesim을 이용하여 다시 읽어들여 word vector로 사용한다.\n",
    "         - 단어 10개를 선정하여 word vector의 성능을 평가한다.\n",
    "    - 기존에 학습된 Word Embedding 모델을 읽어들여 위 모델의 성능을 향상 시켜본다."
   ]
  },
  {
   "cell_type": "markdown",
   "id": "interior-reverse",
   "metadata": {},
   "source": [
    "### 프로젝트 평가\n",
    "1. 다양한 방법(3가지 이상의 모델)으로 Text Classification 태스크를 성공적으로 구현하였는가?\n",
    "- 3가지 모델을 수립하여 프로젝트를 진행하였고, 적절한 결과를 얻어내는 것에 성공하였다.\n",
    "\n",
    "2. gensim을 활용하여 자체학습된 혹은 사전학습된 임베딩 레이어를 분석하였는가? gensim의 유사단어 찾기를 활용하여 자체학습한 임베딩과 사전학습 임베딩을 적절히 분석하였는가?\n",
    "- 영화 평가에 자주 등장하는 7가지 단어(재미, 지루, 아깝, 명작, 별로, 유치, 답답)를 선정하여 자체학습한 임베딩과 사전학습 임베딩에서 위 단어와 가장 유사항 단어를 각 단어별로 10개씩 뽑내 내역을 확인하였다.\n",
    "- 프로젝트에서 총 3가지 사전학습 임베딩을 사용하였는데 유사단어 찾기에서 직관적으로 가장 좋은 성능을 보인 것은 세번째 임베딩이었다. 하지만, 이를 학습시킨 후 모델 성능 평가에서는 첫번째 임베딩이 가장 좋은 성능을 보여주었다.\n",
    "\n",
    "3. 한국어 Word2Vec을 활용하여 가시적인 성능향상을 달성하였는가? 네이버 영화리뷰 데이터 감성분석 정확도를 85% 이상 달성하였는가?\n",
    "-  같은 하이퍼 파마리터를 사용할였을 때, 다음과 같이 accuracy가 변화하였다.\n",
    "    | 모델 | 자제학습 | embedding1 | embedding2 | embedding3 |\n",
    "    |:----:|:--------:|:----------:|:----------:|:----------:|\n",
    "    | RNN  | 0.847875 | 0.8501     | 0.8480     | 0.8479     |\n",
    "    | 1-D CNN | 0.845251 | 0.8426  | 0.8404     | 0.8455     |\n",
    "    | GlobalMaxPooling1D | 0.840491 | 0.8279 | 0.8256 | 0.8458 |\n",
    "- 추가적으로 가장 성능이 좋았던 RNN-embedding1 조합을 이용하여 모델의 하이퍼마라메터 값이 units 값을 변경 시키며 실험을 진행하였을 때, 다음과 같이 accuracy가 변화하였다.\n",
    "    | units    | loss\t    | accuracy |\n",
    "    |:--------:|:----------:|:--------:|\n",
    "    | 16\t   | 0.370456\t| 0.852574 |\n",
    "    | 32\t   | 0.366094\t| 0.855483 |\n",
    "    | 64\t   | 0.371462\t| 0.856704 |\n",
    "    | 128\t   | 0.384762\t| 0.861139 |\n",
    "    | 256\t   | 0.510656\t| 0.858738 |\n",
    "- 프로젝트를 통하어 얻을 수 있었던 가장 높은 accuracy는 86%로 85% 이상을 달성하였다."
   ]
  },
  {
   "cell_type": "markdown",
   "id": "nonprofit-detail",
   "metadata": {},
   "source": [
    "### 회고\n",
    "1. 이번 프로젝트에서 어려웠던 점\n",
    "    - 프로젝트를 진행하는 것에 있어서 자연어 처리를 처음 진행해 본다!-는 점 자체가 어려웠다. 자연어는 이전에 주로 다루었던 텍스트 데이터와 이미지 데이터와 다르게 인코딩을 거치고 나면 원본을 어떤 느낌이었는지 전혀 알아볼 수 없기 때문에 중간과정을 print하여 보아도 이게 잘 처리 되고 있는 것인지 판단하기가 어려워 진행에 난항을 겪었다. 다행히도 shape를 자주 찍어보면 이 점을 조금이나마 극복할 수 있다는 것을 중간에 깨달아 프로젝트 후반에는 데이터의 형태에 어영부영 적응할 수 있었다.\n",
    "    - 가장 큰 고비는 accuracy가 85% 이상을 가지 못하여 해매이던 때였다. 루브릭 평가의 기준으로부터 미루어봤을 때, 기존에 학습 된 임베딩을 모델로 들고왔을 경우, accuracy의 극적으로 변화할 것만 같았는데 실상은 전혀 그렇지 못하였다. 그런 이유로 임베딩을 추가로 2개 더 가져와 테스트를 진행하였지만 결과를 비슷하였다. 최종적으로 85%를 넘어 86%에 도달한 것은 하이퍼 파라미터를 보정하여 모델을 변화시켜 주었을 때였다. 모델을 성능을 올리려면 하나의 요소에 집착할 것이 아니라 전체적으로 살피고 변화를 주어야 한다는 점을 깨닫게 된 순간이었다.\n",
    "2. 프로젝트를 진행하면서 알아낸 점 혹은 아직 모호한 점\n",
    "    - 기존의 classification과 다르게 이번 프로젝트의 predict 값은 0 또는 1로 딱 나오는 것이 아니라 0과 1 사이의 실수값으로 도출된다! 85%의 늪에서 허우적거리고 있던 시절, accuary 말고 다른 평가 지표들도 확인해 보고 싶어서 predict를 실행해 보고 알게 된 사항이다. 추가로 train 과정에서 accuracy와 loss 뿐만 아니라 precision과 recall 값도 history로 얻을 수 있다는 점도 알게 되었다. 다만, 해당 수치들을 어떻게 연산하는지에 대한 의문이 아직 남아 있다. prediect의 결과가 딱 기존에 입력하는 target 값과 다른데, 그럼 이 값을 반올림을 하거나 하는 과정을 거치는 것인지 아직 찾아보지 못하였다.\n",
    "3. 자기 다짐\n",
    "    - 이번 프로젝트 aiffel 인생에 있어서 큰 다짐을 하게 되었다. going deeper 단계에서 절대 자연어 처리 과정으로 가지 않을 것이다.....절대.......... .... .. ..  ..  .     ."
   ]
  },
  {
   "cell_type": "markdown",
   "id": "raising-argument",
   "metadata": {},
   "source": [
    "## Code Cellection\n",
    "---"
   ]
  },
  {
   "cell_type": "markdown",
   "id": "handed-venezuela",
   "metadata": {
    "heading_collapsed": true
   },
   "source": [
    "#### import packages"
   ]
  },
  {
   "cell_type": "code",
   "execution_count": 1,
   "id": "random-score",
   "metadata": {
    "hidden": true,
    "scrolled": false
   },
   "outputs": [
    {
     "name": "stderr",
     "output_type": "stream",
     "text": [
      "/home/aiffel-dj1/anaconda3/envs/aiffel/lib/python3.7/site-packages/tensorflow/python/framework/dtypes.py:516: FutureWarning: Passing (type, 1) or '1type' as a synonym of type is deprecated; in a future version of numpy, it will be understood as (type, (1,)) / '(1,)type'.\n",
      "  _np_qint8 = np.dtype([(\"qint8\", np.int8, 1)])\n",
      "/home/aiffel-dj1/anaconda3/envs/aiffel/lib/python3.7/site-packages/tensorflow/python/framework/dtypes.py:517: FutureWarning: Passing (type, 1) or '1type' as a synonym of type is deprecated; in a future version of numpy, it will be understood as (type, (1,)) / '(1,)type'.\n",
      "  _np_quint8 = np.dtype([(\"quint8\", np.uint8, 1)])\n",
      "/home/aiffel-dj1/anaconda3/envs/aiffel/lib/python3.7/site-packages/tensorflow/python/framework/dtypes.py:518: FutureWarning: Passing (type, 1) or '1type' as a synonym of type is deprecated; in a future version of numpy, it will be understood as (type, (1,)) / '(1,)type'.\n",
      "  _np_qint16 = np.dtype([(\"qint16\", np.int16, 1)])\n",
      "/home/aiffel-dj1/anaconda3/envs/aiffel/lib/python3.7/site-packages/tensorflow/python/framework/dtypes.py:519: FutureWarning: Passing (type, 1) or '1type' as a synonym of type is deprecated; in a future version of numpy, it will be understood as (type, (1,)) / '(1,)type'.\n",
      "  _np_quint16 = np.dtype([(\"quint16\", np.uint16, 1)])\n",
      "/home/aiffel-dj1/anaconda3/envs/aiffel/lib/python3.7/site-packages/tensorflow/python/framework/dtypes.py:520: FutureWarning: Passing (type, 1) or '1type' as a synonym of type is deprecated; in a future version of numpy, it will be understood as (type, (1,)) / '(1,)type'.\n",
      "  _np_qint32 = np.dtype([(\"qint32\", np.int32, 1)])\n",
      "/home/aiffel-dj1/anaconda3/envs/aiffel/lib/python3.7/site-packages/tensorflow/python/framework/dtypes.py:525: FutureWarning: Passing (type, 1) or '1type' as a synonym of type is deprecated; in a future version of numpy, it will be understood as (type, (1,)) / '(1,)type'.\n",
      "  np_resource = np.dtype([(\"resource\", np.ubyte, 1)])\n",
      "/home/aiffel-dj1/anaconda3/envs/aiffel/lib/python3.7/site-packages/tensorboard/compat/tensorflow_stub/dtypes.py:541: FutureWarning: Passing (type, 1) or '1type' as a synonym of type is deprecated; in a future version of numpy, it will be understood as (type, (1,)) / '(1,)type'.\n",
      "  _np_qint8 = np.dtype([(\"qint8\", np.int8, 1)])\n",
      "/home/aiffel-dj1/anaconda3/envs/aiffel/lib/python3.7/site-packages/tensorboard/compat/tensorflow_stub/dtypes.py:542: FutureWarning: Passing (type, 1) or '1type' as a synonym of type is deprecated; in a future version of numpy, it will be understood as (type, (1,)) / '(1,)type'.\n",
      "  _np_quint8 = np.dtype([(\"quint8\", np.uint8, 1)])\n",
      "/home/aiffel-dj1/anaconda3/envs/aiffel/lib/python3.7/site-packages/tensorboard/compat/tensorflow_stub/dtypes.py:543: FutureWarning: Passing (type, 1) or '1type' as a synonym of type is deprecated; in a future version of numpy, it will be understood as (type, (1,)) / '(1,)type'.\n",
      "  _np_qint16 = np.dtype([(\"qint16\", np.int16, 1)])\n",
      "/home/aiffel-dj1/anaconda3/envs/aiffel/lib/python3.7/site-packages/tensorboard/compat/tensorflow_stub/dtypes.py:544: FutureWarning: Passing (type, 1) or '1type' as a synonym of type is deprecated; in a future version of numpy, it will be understood as (type, (1,)) / '(1,)type'.\n",
      "  _np_quint16 = np.dtype([(\"quint16\", np.uint16, 1)])\n",
      "/home/aiffel-dj1/anaconda3/envs/aiffel/lib/python3.7/site-packages/tensorboard/compat/tensorflow_stub/dtypes.py:545: FutureWarning: Passing (type, 1) or '1type' as a synonym of type is deprecated; in a future version of numpy, it will be understood as (type, (1,)) / '(1,)type'.\n",
      "  _np_qint32 = np.dtype([(\"qint32\", np.int32, 1)])\n",
      "/home/aiffel-dj1/anaconda3/envs/aiffel/lib/python3.7/site-packages/tensorboard/compat/tensorflow_stub/dtypes.py:550: FutureWarning: Passing (type, 1) or '1type' as a synonym of type is deprecated; in a future version of numpy, it will be understood as (type, (1,)) / '(1,)type'.\n",
      "  np_resource = np.dtype([(\"resource\", np.ubyte, 1)])\n"
     ]
    }
   ],
   "source": [
    "import os\n",
    "import pandas as pd\n",
    "import numpy as np\n",
    "import urllib.request\n",
    "import re\n",
    "\n",
    "from konlpy.tag import Okt\n",
    "from konlpy.tag import Mecab\n",
    "from tensorflow import keras\n",
    "from tensorflow.keras.preprocessing.text import Tokenizer\n",
    "from tensorflow.keras.preprocessing.sequence import pad_sequences\n",
    "from tensorflow.keras.initializers import Constant\n",
    "from collections import Counter\n",
    "from sklearn.metrics import classification_report\n",
    "from sklearn.model_selection import train_test_split\n",
    "from tensorflow.keras.callbacks import EarlyStopping, ModelCheckpoint\n",
    "\n",
    "import matplotlib.pyplot as plt\n",
    "%matplotlib inline\n",
    "\n",
    "\n",
    "workspace_path = os.getenv('HOME')+'/workspace/aiffel-exploation-workspace/E04_sentiment_classification'"
   ]
  },
  {
   "cell_type": "markdown",
   "id": "missing-alberta",
   "metadata": {
    "heading_collapsed": true
   },
   "source": [
    "#### 데이터 로더 : `load_data`"
   ]
  },
  {
   "cell_type": "code",
   "execution_count": 2,
   "id": "stable-newfoundland",
   "metadata": {
    "hidden": true,
    "scrolled": false
   },
   "outputs": [],
   "source": [
    "def load_data(train_data, test_data, num_words=10000):\n",
    "    tokenizer = Mecab()\n",
    "    stopwords = ['의','가','이','은','들','는','좀','잘','걍','과','도','를','으로','자','에','와','한','하다']\n",
    "\n",
    "    train_data.drop_duplicates(subset=['document'], inplace=True)\n",
    "    train_data = train_data.dropna(how = 'any') \n",
    "    test_data.drop_duplicates(subset=['document'], inplace=True)\n",
    "    test_data = test_data.dropna(how = 'any') \n",
    "\n",
    "    X_train = []\n",
    "    for sentence in train_data['document']:\n",
    "        temp_X = tokenizer.morphs(sentence) # 토큰화\n",
    "        temp_X = [word for word in temp_X if not word in stopwords] # 불용어 제거\n",
    "        X_train.append(temp_X)\n",
    "\n",
    "    X_test = []\n",
    "    for sentence in test_data['document']:\n",
    "        temp_X = tokenizer.morphs(sentence) # 토큰화\n",
    "        temp_X = [word for word in temp_X if not word in stopwords] # 불용어 제거\n",
    "        X_test.append(temp_X)\n",
    "\n",
    "    words = np.concatenate(X_train).tolist()\n",
    "    counter = Counter(words)\n",
    "    counter = counter.most_common(10000-4)\n",
    "    vocab = ['<PAD>', '<BOS>', '<UNK>', '<UNUSED>'] + [key for key, _ in counter]\n",
    "    word_to_index = {word:index for index, word in enumerate(vocab)}\n",
    "\n",
    "    def wordlist_to_indexlist(wordlist):\n",
    "        return [word_to_index[word] if word in word_to_index else word_to_index['<UNK>'] for word in wordlist]\n",
    "\n",
    "    X_train = list(map(wordlist_to_indexlist, X_train))\n",
    "    X_test = list(map(wordlist_to_indexlist, X_test))\n",
    "\n",
    "    return X_train, np.array(list(train_data['label'])), X_test, np.array(list(test_data['label'])), word_to_index"
   ]
  },
  {
   "cell_type": "markdown",
   "id": "confident-cemetery",
   "metadata": {
    "heading_collapsed": true
   },
   "source": [
    "#### `get_encoded_sentence`"
   ]
  },
  {
   "cell_type": "code",
   "execution_count": 3,
   "id": "confident-receiver",
   "metadata": {
    "hidden": true,
    "scrolled": false
   },
   "outputs": [],
   "source": [
    "# 문장 1개를 활용할 딕셔너리와 함께 주면, 단어 인덱스 리스트 벡터로 변환해 주는 함수입니다. \n",
    "# 단, 모든 문장은 <BOS>로 시작하는 것으로 합니다. \n",
    "def get_encoded_sentence(sentence, word_to_index):\n",
    "    return [word_to_index['<BOS>']]+[word_to_index[word] if word in word_to_index else word_to_index['<UNK>'] for word in sentence.split()]"
   ]
  },
  {
   "cell_type": "markdown",
   "id": "brave-detector",
   "metadata": {
    "heading_collapsed": true
   },
   "source": [
    "#### `get_encoded_sentences`"
   ]
  },
  {
   "cell_type": "code",
   "execution_count": 4,
   "id": "japanese-briefing",
   "metadata": {
    "hidden": true,
    "scrolled": false
   },
   "outputs": [],
   "source": [
    "# 여러 개의 문장 리스트를 한꺼번에 단어 인덱스 리스트 벡터로 encode해 주는 함수입니다. \n",
    "def get_encoded_sentences(sentences, word_to_index):\n",
    "    return [get_encoded_sentence(sentence, word_to_index) for sentence in sentences]"
   ]
  },
  {
   "cell_type": "markdown",
   "id": "related-manchester",
   "metadata": {
    "heading_collapsed": true
   },
   "source": [
    "#### `get_decoded_sentence`"
   ]
  },
  {
   "cell_type": "code",
   "execution_count": 5,
   "id": "ceramic-float",
   "metadata": {
    "hidden": true,
    "scrolled": false
   },
   "outputs": [],
   "source": [
    "# 숫자 벡터로 encode된 문장을 원래대로 decode하는 함수입니다. \n",
    "def get_decoded_sentence(encoded_sentence, index_to_word):\n",
    "    return ' '.join(index_to_word[index] if index in index_to_word else '<UNK>' for index in encoded_sentence[1:])  #[1:]를 통해 <BOS>를 제외"
   ]
  },
  {
   "cell_type": "markdown",
   "id": "excessive-access",
   "metadata": {
    "heading_collapsed": true
   },
   "source": [
    "#### `get_decoded_sentences`"
   ]
  },
  {
   "cell_type": "code",
   "execution_count": 6,
   "id": "concerned-landscape",
   "metadata": {
    "hidden": true,
    "scrolled": false
   },
   "outputs": [],
   "source": [
    "# 여러개의 숫자 벡터로 encode된 문장을 한꺼번에 원래대로 decode하는 함수입니다. \n",
    "def get_decoded_sentences(encoded_sentences, index_to_word):\n",
    "    return [get_decoded_sentence(encoded_sentence, index_to_word) for encoded_sentence in encoded_sentences]"
   ]
  },
  {
   "cell_type": "markdown",
   "id": "modular-bread",
   "metadata": {
    "heading_collapsed": true
   },
   "source": [
    "#### `add_padding`"
   ]
  },
  {
   "cell_type": "code",
   "execution_count": 7,
   "id": "painful-civilization",
   "metadata": {
    "hidden": true,
    "scrolled": false
   },
   "outputs": [],
   "source": [
    "def add_padding(data, padding, maxlen):\n",
    "    return keras.preprocessing.sequence.pad_sequences(data,\n",
    "                                                      value=word_to_index[\"<PAD>\"],\n",
    "                                                      padding=padding, \n",
    "                                                      maxlen=maxlen)"
   ]
  },
  {
   "cell_type": "markdown",
   "id": "designing-chorus",
   "metadata": {
    "heading_collapsed": true
   },
   "source": [
    "#### `get_rnn_model`"
   ]
  },
  {
   "cell_type": "code",
   "execution_count": 8,
   "id": "vocational-exchange",
   "metadata": {
    "hidden": true,
    "scrolled": false
   },
   "outputs": [],
   "source": [
    "def get_rnn_model(vocab_size, word_vector_dim, units, embedding_matrix=\"\"):\n",
    "    rnn_model = keras.Sequential()\n",
    "    if embedding_matrix == \"\":\n",
    "        rnn_model.add(keras.layers.Embedding(vocab_size, word_vector_dim, input_shape=(None,)))\n",
    "    else:\n",
    "        rnn_model.add(keras.layers.Embedding(vocab_size, \n",
    "                                             word_vector_dim, \n",
    "                                             embeddings_initializer=Constant(embedding_matrix),  # 카피한 임베딩을 여기서 활용\n",
    "                                             input_length=maxlen, \n",
    "                                             trainable=True))   # trainable을 True로 주면 Fine-tuning\n",
    "    rnn_model.add(keras.layers.LSTM(units))\n",
    "    rnn_model.add(keras.layers.Dense(units, activation='relu'))\n",
    "    rnn_model.add(keras.layers.Dense(1, activation='sigmoid'))\n",
    "\n",
    "    rnn_model.summary()\n",
    "    return rnn_model"
   ]
  },
  {
   "cell_type": "markdown",
   "id": "viral-thickness",
   "metadata": {
    "heading_collapsed": true
   },
   "source": [
    "#### `get_one_d_cnn_model`"
   ]
  },
  {
   "cell_type": "code",
   "execution_count": 9,
   "id": "contained-planet",
   "metadata": {
    "hidden": true,
    "scrolled": false
   },
   "outputs": [],
   "source": [
    "def get_one_d_cnn_model(vocab_size, word_vector_dim, embedding_matrix=\"\"):\n",
    "    one_d_cnn_model = keras.Sequential()\n",
    "    \n",
    "    if embedding_matrix == \"\":\n",
    "        one_d_cnn_model.add(keras.layers.Embedding(vocab_size, word_vector_dim, input_shape=(None,)))\n",
    "    else:\n",
    "        one_d_cnn_model.add(keras.layers.Embedding(vocab_size, \n",
    "                                                   word_vector_dim, \n",
    "                                                   embeddings_initializer=Constant(embedding_matrix),  # 카피한 임베딩을 여기서 활용\n",
    "                                                   input_length=maxlen, \n",
    "                                                   trainable=True))   # trainable을 True로 주면 Fine-tuning\n",
    "    one_d_cnn_model.add(keras.layers.Conv1D(16, 7, activation='relu'))\n",
    "    one_d_cnn_model.add(keras.layers.MaxPooling1D(5))\n",
    "    one_d_cnn_model.add(keras.layers.Conv1D(16, 7, activation='relu'))\n",
    "    one_d_cnn_model.add(keras.layers.GlobalMaxPooling1D())\n",
    "    one_d_cnn_model.add(keras.layers.Dense(8, activation='relu'))\n",
    "    one_d_cnn_model.add(keras.layers.Dense(1, activation='sigmoid'))  # 최종 출력은 긍정/부정을 나타내는 1dim 입니다.\n",
    "\n",
    "    one_d_cnn_model.summary()\n",
    "    return one_d_cnn_model"
   ]
  },
  {
   "cell_type": "markdown",
   "id": "voluntary-comfort",
   "metadata": {
    "heading_collapsed": true
   },
   "source": [
    "#### `get_one_d_one_l_cnn_model`"
   ]
  },
  {
   "cell_type": "code",
   "execution_count": 10,
   "id": "proud-brighton",
   "metadata": {
    "hidden": true,
    "scrolled": false
   },
   "outputs": [],
   "source": [
    "def get_one_d_one_l_cnn_model(vocab_size, word_vector_dim, embedding_matrix=\"\"):\n",
    "    one_d_one_l_cnn_model = keras.Sequential()\n",
    "    if embedding_matrix == \"\":\n",
    "        one_d_one_l_cnn_model.add(keras.layers.Embedding(vocab_size, word_vector_dim, input_shape=(None,)))\n",
    "    else:\n",
    "        one_d_one_l_cnn_model.add(keras.layers.Embedding(vocab_size, \n",
    "                                                   word_vector_dim, \n",
    "                                                   embeddings_initializer=Constant(embedding_matrix),  # 카피한 임베딩을 여기서 활용\n",
    "                                                   input_length=maxlen, \n",
    "                                                   trainable=True))   # trainable을 True로 주면 Fine-tuning\n",
    "    one_d_one_l_cnn_model.add(keras.layers.GlobalMaxPooling1D())\n",
    "    one_d_one_l_cnn_model.add(keras.layers.Dense(8, activation='relu'))\n",
    "    one_d_one_l_cnn_model.add(keras.layers.Dense(1, activation='sigmoid'))  # 최종 출력은 긍정/부정을 나타내는 1dim 입니다.\n",
    "\n",
    "    one_d_one_l_cnn_model.summary()    \n",
    "    return one_d_one_l_cnn_model"
   ]
  },
  {
   "cell_type": "markdown",
   "id": "independent-outreach",
   "metadata": {
    "heading_collapsed": true
   },
   "source": [
    "#### `train`"
   ]
  },
  {
   "cell_type": "code",
   "execution_count": 125,
   "id": "recovered-fourth",
   "metadata": {
    "hidden": true,
    "scrolled": false
   },
   "outputs": [],
   "source": [
    "def train(model, model_name, X_train, y_train, X_val, y_val, epochs):\n",
    "    # val_loss이 증가하면, 과적합 징후므로 val_loss이 4회 증가하면 학습을 조기 종료(Early Stopping)\n",
    "    es = EarlyStopping(monitor='val_loss', mode='min', verbose=1, patience=4)\n",
    "\n",
    "    print(\"start train {} ============================================== \".format(model_name))\n",
    "    model.compile(optimizer='adam',\n",
    "                  loss='binary_crossentropy',\n",
    "                  metrics=['accuracy'])\n",
    "              \n",
    "    history = model.fit(X_train, y_train,\n",
    "                        epochs=epochs,\n",
    "                        callbacks=[es],\n",
    "                        batch_size=512,\n",
    "                        validation_data=(X_val, y_val),\n",
    "                        verbose=2)\n",
    "    print(\"train completed ============================================== \".format(model_name))\n",
    "    return history.history"
   ]
  },
  {
   "cell_type": "markdown",
   "id": "typical-container",
   "metadata": {
    "heading_collapsed": true
   },
   "source": [
    "#### `get_history_plot`"
   ]
  },
  {
   "cell_type": "code",
   "execution_count": 12,
   "id": "jewish-reliance",
   "metadata": {
    "hidden": true,
    "scrolled": false
   },
   "outputs": [],
   "source": [
    "def get_sub_plot(history, targets, labels, fig, n, title, color):\n",
    "    x = range(1, len(history[targets[0]]) +1 )\n",
    "    plt = fig.add_subplot(1, 3, n)\n",
    "    plt.plot(x, history[targets[0]], color + 'o', label=labels[0])\n",
    "    plt.plot(x, history[targets[1]], color,  label=labels[1])\n",
    "    plt.set_xlabel('Epochs')\n",
    "    plt.set_ylabel('Loss')\n",
    "    plt.set_title(title)\n",
    "    plt.legend()"
   ]
  },
  {
   "cell_type": "code",
   "execution_count": 13,
   "id": "chief-english",
   "metadata": {
    "hidden": true,
    "scrolled": false
   },
   "outputs": [],
   "source": [
    "def show_history_plot(histories, model_names):\n",
    "    targets = [['loss', 'val_loss'], ['acc', 'val_acc']]\n",
    "    labels = [['Training loss', 'Validation loss'], ['Training acc', 'Validation acc']]\n",
    "    titles = ['Training and validation loss','Training and validation accuracy']\n",
    "    colors = ['b', 'r']\n",
    "    \n",
    "    for i in range(2):\n",
    "        fig = plt.figure(figsize=(15, 5))\n",
    "        for j in range(len(histories)):\n",
    "            get_sub_plot(histories[j], targets[i], labels[i], fig, j+1, model_names[j], colors[i])\n",
    "        fig.suptitle(titles[i])\n",
    "        fig.show()"
   ]
  },
  {
   "cell_type": "markdown",
   "id": "outdoor-settle",
   "metadata": {
    "heading_collapsed": true
   },
   "source": [
    "#### `save_embedding_layer`"
   ]
  },
  {
   "cell_type": "code",
   "execution_count": 14,
   "id": "waiting-fiction",
   "metadata": {
    "hidden": true,
    "scrolled": false
   },
   "outputs": [],
   "source": [
    "def save_embedding_layer(models, model_names):\n",
    "    for i in range(len(models)):\n",
    "        \n",
    "        path = workspace_path + '/data/suheeeee/' + model_names[i] + '.txt'\n",
    "        vectors = models[i].get_weights()[0]\n",
    "        \n",
    "        f = open(path, 'w')\n",
    "        f.write('{} {}\\n'.format(vocab_size-4, word_vector_dim))  # 몇개의 벡터를 얼마 사이즈로 기재할지 타이틀을 씁니다\n",
    "\n",
    "        # 단어 개수(에서 특수문자 4개는 제외하고)만큼의 워드 벡터를 파일에 기록합니다. \n",
    "        for i in range(4,vocab_size):\n",
    "            f.write('{} {}\\n'.format(index_to_word[i], ' '.join(map(str, vectors[i, :]))))\n",
    "        f.close()"
   ]
  },
  {
   "cell_type": "markdown",
   "id": "exotic-martin",
   "metadata": {},
   "source": [
    "#### `test_word2vector`"
   ]
  },
  {
   "cell_type": "code",
   "execution_count": 84,
   "id": "impressive-leather",
   "metadata": {
    "scrolled": false
   },
   "outputs": [],
   "source": [
    "def test_word2vector(wv):\n",
    "    words = [\"재미\", \"지루\", \"아깝\", \"명작\", \"별로\", \"유치\", \"답답\"]\n",
    "\n",
    "    df = pd.DataFrame(columns=range(1,10))\n",
    "\n",
    "    for word in words:\n",
    "        if word in wv.vocab:\n",
    "            new_row = pd.DataFrame([pd.Series([res[0] for res in  wv.most_similar(word)])],\n",
    "                                    columns=df.columns, index=[word])\n",
    "            df = df.append(new_row)\n",
    "    \n",
    "    display(df)"
   ]
  },
  {
   "cell_type": "markdown",
   "id": "related-corporation",
   "metadata": {
    "heading_collapsed": true
   },
   "source": [
    "#### `get_embedding_matrix`"
   ]
  },
  {
   "cell_type": "code",
   "execution_count": 105,
   "id": "addressed-anatomy",
   "metadata": {
    "hidden": true,
    "scrolled": false
   },
   "outputs": [],
   "source": [
    "def get_embedding_matrix(vocab_size, word_vector_dim, index_to_word, wv):\n",
    "    embedding_matrix = np.random.rand(vocab_size, word_vector_dim)\n",
    "\n",
    "    # embedding_matrix에 Word2Vpartial_y_trainec 워드벡터를 단어 하나씩마다 차례차례 카피한다.\n",
    "    for i in range(4,vocab_size):\n",
    "        if index_to_word[i] in wv:\n",
    "            embedding_matrix[i] = wv[index_to_word[i]]\n",
    "            \n",
    "    return embedding_matrix"
   ]
  },
  {
   "cell_type": "markdown",
   "id": "standing-valuation",
   "metadata": {},
   "source": [
    "## ref\n",
    "- [딥러닝을 이용한 자연어 처리 입문-영어/한국어 Word2Vec 실습](https://wikidocs.net/50739)\n",
    "- [딥 러닝을 이용한 자연어 처리 입문-RNN을 이용한 텍스트 분류](https://wikidocs.net/44249)"
   ]
  }
 ],
 "metadata": {
  "kernelspec": {
   "display_name": "Python 3",
   "language": "python",
   "name": "python3"
  },
  "language_info": {
   "codemirror_mode": {
    "name": "ipython",
    "version": 3
   },
   "file_extension": ".py",
   "mimetype": "text/x-python",
   "name": "python",
   "nbconvert_exporter": "python",
   "pygments_lexer": "ipython3",
   "version": "3.7.9"
  },
  "toc": {
   "base_numbering": 1,
   "nav_menu": {},
   "number_sections": true,
   "sideBar": true,
   "skip_h1_title": false,
   "title_cell": "Table of Contents",
   "title_sidebar": "Contents",
   "toc_cell": false,
   "toc_position": {
    "height": "calc(100% - 180px)",
    "left": "10px",
    "top": "150px",
    "width": "384px"
   },
   "toc_section_display": true,
   "toc_window_display": true
  }
 },
 "nbformat": 4,
 "nbformat_minor": 5
}
