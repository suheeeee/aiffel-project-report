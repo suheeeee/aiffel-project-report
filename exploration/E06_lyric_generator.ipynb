{
 "cells": [
  {
   "cell_type": "markdown",
   "id": "thrown-thong",
   "metadata": {},
   "source": [
    "# 멋진 작사가 만들기\n",
    "---\n",
    "노래 가사 데이터를 학습하여 노래 가사를 생성하는 작문 인공지능을 구축해본다."
   ]
  },
  {
   "cell_type": "markdown",
   "id": "virgin-surgeon",
   "metadata": {},
   "source": [
    "## STEP0. 설계\n",
    "--- \n",
    "노래 가사를 만드는 작사가 모델을 구축하기 위하여 다음과 같은 순서로 프로젝트를 진행 할 것이다."
   ]
  },
  {
   "cell_type": "markdown",
   "id": "suffering-slave",
   "metadata": {},
   "source": [
    "1. 자료수집 : 모델 학습에 필요한 가사 데이터를 수집한다.\n",
    "2. 데이터 전처리 : 1에서 수집한 데이터를 읽어들여 모델에 학습시키기 적합한 형태로 가공한다.\n",
    "    - 필터링 : 문장에 불필요한 정보가 없는지 확인하고 이를 삭제한다.\n",
    "    - 데이터 정제\n",
    "        - 문장의 전후에 `<start>`와 `<end>` 추가\n",
    "        - 불필요한 특수문자 제거 : 노래가사에는 `.`, `,`, `?`, `!`을 제외한 특수문자가 필요하지 않을 것이다.\n",
    "        - 지나치게 긴 문장\n",
    "            - 다른 데이터들이 과도한 Padding을 갖게 하므로 제거한다.\n",
    "            - 이번 프로젝트에서는 문장을 토큰화 했을 때 토큰의 개수가 15개 이상이 되는 문장은 학습데이터에서 제외하기를 권장된다.\n",
    "    - 토큰화\n",
    "        - 공백을 기준으로 문장을 토큰화한다.\n",
    "    - 소스와 타겟 데이터 분리 및 데이터셋 생성\n",
    "        - 단어장의 크기는 12,000 이상이 권장된다.\n",
    "        - 전체 데이터에 대한 타겟 데이터의 비율은 20%가 되도록 설정한다.\n",
    "3. 모델 학습 및 평가\n",
    "    - 10 Epoch 안에 val_loss 값을 2.2 수준으로 줄일 수 있는 모델을 설계하라.\n",
    "    - 학습된 모델을 활용하여 가사를 생성해보자✊"
   ]
  },
  {
   "cell_type": "markdown",
   "id": "elegant-emergency",
   "metadata": {},
   "source": [
    "## STEP1. 자료수집\n",
    "---"
   ]
  },
  {
   "cell_type": "markdown",
   "id": "systematic-elevation",
   "metadata": {},
   "source": [
    "- kaggle에서 제공하는 노래가사 자료를 다운로드 받는다."
   ]
  },
  {
   "cell_type": "code",
   "execution_count": 1,
   "id": "average-acceptance",
   "metadata": {
    "scrolled": true
   },
   "outputs": [],
   "source": [
    "# !wget https://aiffelstaticprd.blob.core.windows.net/media/documents/song_lyrics.zip -P ./data"
   ]
  },
  {
   "cell_type": "code",
   "execution_count": 2,
   "id": "hollow-singapore",
   "metadata": {
    "scrolled": true
   },
   "outputs": [],
   "source": [
    "# !unzip ./data/song_lyrics.zip -d ./data/lyrics "
   ]
  },
  {
   "cell_type": "markdown",
   "id": "stopped-crystal",
   "metadata": {},
   "source": [
    "데이터를 성공적으로 다운로드 받았다😎"
   ]
  },
  {
   "cell_type": "markdown",
   "id": "further-workplace",
   "metadata": {},
   "source": [
    "## STEP2. 데이터 전처리\n",
    "---"
   ]
  },
  {
   "cell_type": "code",
   "execution_count": 1,
   "id": "martial-feeling",
   "metadata": {},
   "outputs": [
    {
     "name": "stdout",
     "output_type": "stream",
     "text": [
      "time: 1.64 s (started: 2021-02-02 20:56:18 +09:00)\n"
     ]
    }
   ],
   "source": [
    "%config Completer.use_jedi = False\n",
    "%load_ext autotime\n",
    "\n",
    "import os, re, glob\n",
    "import tensorflow as tf \n",
    "import numpy as np\n",
    "from sklearn.model_selection import train_test_split\n",
    "from gensim.models import KeyedVectors\n",
    "import pandas as pd"
   ]
  },
  {
   "cell_type": "code",
   "execution_count": 2,
   "id": "greatest-accused",
   "metadata": {},
   "outputs": [
    {
     "name": "stdout",
     "output_type": "stream",
     "text": [
      "time: 777 µs (started: 2021-02-02 20:56:20 +09:00)\n"
     ]
    }
   ],
   "source": [
    "def init_gpu():\n",
    "    gpus = tf.config.experimental.list_physical_devices('GPU')\n",
    "    if gpus:\n",
    "      try:\n",
    "        # Currently, memory growth needs to be the same across GPUs\n",
    "        for gpu in gpus:\n",
    "          tf.config.experimental.set_memory_growth(gpu, True)\n",
    "        logical_gpus = tf.config.experimental.list_logical_devices('GPU')\n",
    "        print(len(gpus), \"Physical GPUs,\", len(logical_gpus), \"Logical GPUs\\n\\n\")\n",
    "      except RuntimeError as e:\n",
    "        # Memory growth must be set before GPUs have been initialized\n",
    "        print(e, \"\\n\\n\")"
   ]
  },
  {
   "cell_type": "code",
   "execution_count": 3,
   "id": "smaller-guess",
   "metadata": {},
   "outputs": [
    {
     "name": "stdout",
     "output_type": "stream",
     "text": [
      "1 Physical GPUs, 1 Logical GPUs\n",
      "\n",
      "\n",
      "time: 147 ms (started: 2021-02-02 20:56:20 +09:00)\n"
     ]
    }
   ],
   "source": [
    "WORKSPACE_PATH = os.getenv('HOME') + '/workspace/aiffel-exploration-workspace/E06_lyricist'\n",
    "init_gpu()"
   ]
  },
  {
   "cell_type": "markdown",
   "id": "diverse-buffalo",
   "metadata": {},
   "source": [
    "### 데이터 읽어오기"
   ]
  },
  {
   "cell_type": "code",
   "execution_count": 4,
   "id": "mechanical-export",
   "metadata": {},
   "outputs": [
    {
     "name": "stdout",
     "output_type": "stream",
     "text": [
      "time: 1.47 ms (started: 2021-02-02 20:56:22 +09:00)\n"
     ]
    }
   ],
   "source": [
    "def load_sentences(path):\n",
    "    txt_list = glob.glob(path)\n",
    "    raw_corpus = []\n",
    "\n",
    "    # 여러개의 txt 파일을 모두 읽어서 raw_corpus 에 담습니다.\n",
    "    for txt_file in txt_list:\n",
    "        with open(txt_file, \"r\") as f:\n",
    "            raw = f.read().splitlines()\n",
    "            raw_corpus.extend(raw)\n",
    "\n",
    "    return raw_corpus"
   ]
  },
  {
   "cell_type": "code",
   "execution_count": 5,
   "id": "younger-conversion",
   "metadata": {},
   "outputs": [
    {
     "name": "stdout",
     "output_type": "stream",
     "text": [
      "데이터 크기: 187088\n",
      "Examples:\n",
      " ['I bought my first key from my baby momma brother', 'I bought my first key', 'Bought my bought my first key']\n",
      "time: 45.9 ms (started: 2021-02-02 20:56:23 +09:00)\n"
     ]
    }
   ],
   "source": [
    "raw_corpus = load_sentences(WORKSPACE_PATH + '/data/lyrics/*')\n",
    "print(\"데이터 크기:\", len(raw_corpus))\n",
    "print(\"Examples:\\n\", raw_corpus[:3])"
   ]
  },
  {
   "cell_type": "markdown",
   "id": "hazardous-copper",
   "metadata": {},
   "source": [
    "### 필터링\n",
    "- 데이터를 확인하였을 때, 직관적으로 확인할 수 있는 제거 가능한 정보에는 공백으로만 이루어진 문장('')과 중복되는 문장이 있다."
   ]
  },
  {
   "cell_type": "code",
   "execution_count": 61,
   "id": "executed-miracle",
   "metadata": {},
   "outputs": [
    {
     "name": "stdout",
     "output_type": "stream",
     "text": [
      "1) \n",
      "2-1) I bought my first key from my baby momma brother cooked it up myself and started\n",
      "2-2) I bought my first key from my baby momma brother cooked it up myself and started\n",
      "3-1) The best rapper alive huh yup\n",
      "3-2) The best rapper alive huh yup\n",
      "3-3) The best rapper alive huh yup\n",
      "time: 2.74 ms (started: 2021-02-02 20:21:50 +09:00)\n"
     ]
    }
   ],
   "source": [
    "print(\"1) \" + raw_corpus[91])\n",
    "print(\"2-1) \" + raw_corpus[49], raw_corpus[50])\n",
    "print(\"2-2) \" + raw_corpus[54], raw_corpus[55])\n",
    "print(\"3-1) \" + raw_corpus[378])\n",
    "print(\"3-2) \" + raw_corpus[379])\n",
    "print(\"3-3) \" + raw_corpus[380])"
   ]
  },
  {
   "cell_type": "markdown",
   "id": "focused-friday",
   "metadata": {},
   "source": [
    "- filtering 함수를 이용하여 불필요한 데이터 제거"
   ]
  },
  {
   "cell_type": "code",
   "execution_count": 1,
   "id": "authentic-cigarette",
   "metadata": {},
   "outputs": [],
   "source": [
    "def filtering(sentences):\n",
    "    blank_removed_sentences = [ s for s in sentences if len(s) > 0 and s != ' ' ]    \n",
    "    duplication_removed_sentences = list(set(blank_removed_sentences))    \n",
    "    \n",
    "    print(f'[sentence amount] before filtering : {len(sentences)}')\n",
    "    print(f'[sentence amount] after remove blank : {len(blank_removed_sentences)}')\n",
    "    print(f'[sentence amount] after remove duplication : {len(duplication_removed_sentences)}\\n\\n')\n",
    "    \n",
    "    return duplication_removed_sentences"
   ]
  },
  {
   "cell_type": "code",
   "execution_count": 63,
   "id": "adequate-angola",
   "metadata": {},
   "outputs": [
    {
     "name": "stdout",
     "output_type": "stream",
     "text": [
      "[sentence amount] before filtering : 187088\n",
      "[sentence amount] after remove blank : 175961\n",
      "[sentence amount] after remove duplication : 118166\n",
      "\n",
      "\n",
      "time: 67.6 ms (started: 2021-02-02 20:21:55 +09:00)\n"
     ]
    }
   ],
   "source": [
    "raw_corpus = filtering(raw_corpus)"
   ]
  },
  {
   "cell_type": "markdown",
   "id": "revised-navigator",
   "metadata": {},
   "source": [
    "### 데이터 정제"
   ]
  },
  {
   "cell_type": "markdown",
   "id": "instructional-start",
   "metadata": {},
   "source": [
    "- 문장의 전후에 <start>와 <end> 추가\n",
    "- 불필요한 특수문자 제거 : 노래가사에는 `.`, `,`, `?`, `!`을 제외한 특수문자가 필요하지 않을 것이다."
   ]
  },
  {
   "cell_type": "code",
   "execution_count": 36,
   "id": "passing-tiger",
   "metadata": {},
   "outputs": [
    {
     "name": "stdout",
     "output_type": "stream",
     "text": [
      "[preprocess] before : ['We on the grind and our nuts got bigga']\n",
      "[preprocess] after  : ['<start> we on the grind and our nuts got bigga <end>']\n",
      "time: 2.62 ms (started: 2021-02-02 21:06:06 +09:00)\n"
     ]
    }
   ],
   "source": [
    "def preprocess_sentences(raw_corpus):\n",
    "    def preprocess_sentence(sentence):\n",
    "        # 소문자로 바꾸고 양쪽 공백을 삭제\n",
    "        sentence = sentence.lower().strip()\n",
    "\n",
    "        # 아래 3단계를 거쳐 sentence는 스페이스 1개를 delimeter로 하는 소문자 단어 시퀀스로 바뀝니다.\n",
    "        # 1. 패턴의 특수문자(.,?!)를 만나면 특수문자 양쪽에 공백을 추가\n",
    "        # 2. 공백 패턴을 만나면 스페이스 1개로 치환\n",
    "        # 3. a-zA-Z?.!,' 패턴을 제외한 모든 문자(공백문자까지도)를 스페이스 1개로 치환\n",
    "        sentence = re.sub(r\"([?.!,])\", r\" \\1 \", sentence)\n",
    "        sentence = re.sub(r'[\" \"]+', \" \", sentence)\n",
    "        sentence = re.sub(r\"[^a-zA-Z?.!,?]+\", \" \", sentence)\n",
    "        sentence = sentence.strip()\n",
    "\n",
    "        # 문장 앞뒤로 <start>와 <end>를 단어처럼 붙여 줍니다\n",
    "        sentence = '<start> ' + sentence + ' <end>'      \n",
    "        return sentence\n",
    "    \n",
    "    raw_corpus = [ preprocess_sentence(s) for s in raw_corpus ]\n",
    "    corpus = [ c for c in raw_corpus if c.count(\" \") < 14 ]\n",
    "    return corpus\n",
    "\n",
    "print(f\"[preprocess] before : {[raw_corpus[10]]}\")\n",
    "print(f\"[preprocess] after  : {preprocess_sentences([raw_corpus[10]])}\")"
   ]
  },
  {
   "cell_type": "code",
   "execution_count": 73,
   "id": "voluntary-interim",
   "metadata": {},
   "outputs": [
    {
     "name": "stdout",
     "output_type": "stream",
     "text": [
      "[sentence amount] before preprocessing : 118166\n",
      "[sentence amount] before preprocessing : 97749\n",
      "time: 1.24 s (started: 2021-02-02 20:22:18 +09:00)\n"
     ]
    }
   ],
   "source": [
    "print(f'[sentence amount] before preprocessing : {len(raw_corpus)}')\n",
    "corpus = preprocess_sentences(raw_corpus)\n",
    "print(f'[sentence amount] before preprocessing : {len(corpus)}')"
   ]
  },
  {
   "cell_type": "markdown",
   "id": "integral-ensemble",
   "metadata": {},
   "source": [
    "- 데이터를 재사용할 가능성이 높으므로 가공된 데이터를 텍스트 파일로 저장해 놓도록 한다."
   ]
  },
  {
   "cell_type": "code",
   "execution_count": 66,
   "id": "charitable-happiness",
   "metadata": {},
   "outputs": [
    {
     "name": "stdout",
     "output_type": "stream",
     "text": [
      "time: 19.8 ms (started: 2021-02-02 20:22:00 +09:00)\n"
     ]
    }
   ],
   "source": [
    "def save_sentences(sentences):\n",
    "    txt = \"\\n\".join(sentences)\n",
    "    with open(WORKSPACE_PATH + '/data/preprocessed_sentences.txt', 'w') as f:\n",
    "        f.write(txt)\n",
    "        \n",
    "save_sentences(corpus)"
   ]
  },
  {
   "cell_type": "code",
   "execution_count": 67,
   "id": "ruled-confusion",
   "metadata": {},
   "outputs": [
    {
     "name": "stdout",
     "output_type": "stream",
     "text": [
      "<start> you know , i caught her messing around with another man <end>\n",
      "<start> then we get it on <end>\n",
      "<start> cause i gotta be up at <end>\n",
      "<start> and the melody that he gave to me <end>\n",
      "<start> don t alarm em <end>\n",
      "time: 183 ms (started: 2021-02-02 20:22:03 +09:00)\n"
     ]
    }
   ],
   "source": [
    "# 저장된 텍스트 파일 확인\n",
    "!head ./data/preprocessed_sentences.txt --lines=5 "
   ]
  },
  {
   "cell_type": "markdown",
   "id": "sexual-italy",
   "metadata": {},
   "source": [
    "### 토큰화"
   ]
  },
  {
   "cell_type": "markdown",
   "id": "opening-discussion",
   "metadata": {},
   "source": [
    "- `tf.keras.preprocessing.text.Tokenizer`를 이용하여 토큰화를 진행한다.\n",
    "- 이때, 전체 단어의 수를 12000으로 설정해주었다."
   ]
  },
  {
   "cell_type": "code",
   "execution_count": 6,
   "id": "infinite-projection",
   "metadata": {},
   "outputs": [
    {
     "data": {
      "text/plain": [
       "['<start> you know , i caught her messing around with another man <end>',\n",
       " '<start> then we get it on <end>',\n",
       " '<start> cause i gotta be up at <end>',\n",
       " '<start> and the melody that he gave to me <end>',\n",
       " '<start> don t alarm em <end>']"
      ]
     },
     "execution_count": 6,
     "metadata": {},
     "output_type": "execute_result"
    },
    {
     "name": "stdout",
     "output_type": "stream",
     "text": [
      "time: 32.3 ms (started: 2021-02-02 20:56:30 +09:00)\n"
     ]
    }
   ],
   "source": [
    "# load corpus from file\n",
    "with open(WORKSPACE_PATH + '/data/preprocessed_sentences.txt', 'r') as f:\n",
    "    data = f.read()\n",
    "    corpus = data.split('\\n')\n",
    "corpus[:5]"
   ]
  },
  {
   "cell_type": "code",
   "execution_count": 7,
   "id": "instructional-pickup",
   "metadata": {
    "scrolled": true
   },
   "outputs": [
    {
     "name": "stdout",
     "output_type": "stream",
     "text": [
      "time: 736 µs (started: 2021-02-02 20:56:31 +09:00)\n"
     ]
    }
   ],
   "source": [
    "def tokenize(corpus):\n",
    "    # 텐서플로우에서 제공하는 Tokenizer 패키지를 생성\n",
    "    tokenizer = tf.keras.preprocessing.text.Tokenizer(\n",
    "        num_words=12000,  # 전체 단어의 개수 \n",
    "        filters=' ',      # 별도로 전처리 로직을 추가할 수 있습니다. 이번에는 사용하지 않겠습니다.\n",
    "        oov_token=\"<unk>\"  # out-of-vocabulary, 사전에 없었던 단어는 어떤 토큰으로 대체할지\n",
    "    )\n",
    "    tokenizer.fit_on_texts(corpus)   # 우리가 구축한 corpus로부터 Tokenizer가 사전을 자동구축하게 됩니다.\n",
    "\n",
    "    # 이후 tokenizer를 활용하여 모델에 입력할 데이터셋을 구축하게 됩니다.\n",
    "    tensor = tokenizer.texts_to_sequences(corpus)   # tokenizer는 구축한 사전으로부터 corpus를 해석해 Tensor로 변환합니다.\n",
    "    \n",
    "    # 입력 데이터의 시퀀스 길이를 일정하게 맞추기 위한 padding  메소드를 제공합니다.\n",
    "    # maxlen의 디폴트값은 None입니다. 이 경우 corpus의 가장 긴 문장을 기준으로 시퀀스 길이가 맞춰집니다.\n",
    "    tensor = tf.keras.preprocessing.sequence.pad_sequences(tensor, maxlen=15, padding='post')  \n",
    "\n",
    "    return tensor, tokenizer"
   ]
  },
  {
   "cell_type": "code",
   "execution_count": 8,
   "id": "oriented-triangle",
   "metadata": {},
   "outputs": [
    {
     "name": "stdout",
     "output_type": "stream",
     "text": [
      "time: 1.9 s (started: 2021-02-02 20:56:31 +09:00)\n"
     ]
    }
   ],
   "source": [
    "tensor, tokenizer = tokenize(corpus)\n",
    "vocab_size = tokenizer.num_words + 1"
   ]
  },
  {
   "cell_type": "code",
   "execution_count": 9,
   "id": "mechanical-cooling",
   "metadata": {},
   "outputs": [
    {
     "name": "stdout",
     "output_type": "stream",
     "text": [
      "<class 'numpy.ndarray'>\n",
      "(97749, 15)\n",
      "[[   2    7   35    4    5  623   63 2950  129   29]\n",
      " [   2   87   22   47   11   20    3    0    0    0]\n",
      " [   2   70    5  149   27   32   66    3    0    0]]\n",
      "time: 640 µs (started: 2021-02-02 20:56:33 +09:00)\n"
     ]
    }
   ],
   "source": [
    "print(type(tensor))\n",
    "print(tensor.shape)\n",
    "print(tensor[:3, :10])"
   ]
  },
  {
   "cell_type": "code",
   "execution_count": 10,
   "id": "disturbed-reasoning",
   "metadata": {},
   "outputs": [
    {
     "name": "stdout",
     "output_type": "stream",
     "text": [
      "1 : <unk>\n",
      "2 : <start>\n",
      "3 : <end>\n",
      "4 : ,\n",
      "5 : i\n",
      "6 : the\n",
      "7 : you\n",
      "8 : and\n",
      "9 : a\n",
      "10 : to\n",
      "time: 872 µs (started: 2021-02-02 20:56:33 +09:00)\n"
     ]
    }
   ],
   "source": [
    "for idx in tokenizer.index_word:\n",
    "    print(idx, \":\", tokenizer.index_word[idx])\n",
    "    if idx >= 10: break"
   ]
  },
  {
   "cell_type": "markdown",
   "id": "middle-adaptation",
   "metadata": {},
   "source": [
    "### 소스와 타겟 데이터 분리 및 데이터셋 생성"
   ]
  },
  {
   "cell_type": "code",
   "execution_count": 11,
   "id": "attached-pricing",
   "metadata": {},
   "outputs": [
    {
     "name": "stdout",
     "output_type": "stream",
     "text": [
      "time: 2.55 ms (started: 2021-02-02 20:56:35 +09:00)\n"
     ]
    }
   ],
   "source": [
    "def get_dataset(tensor, BATCH_SIZE):\n",
    "    # 1. 생성된 텐서를 소스와 타겟으로 분리\n",
    "    # tensor에서 마지막 토큰을 잘라내서 소스 문장을 생성합니다. 마지막 토큰은 <end>가 아니라 <pad>일 가능성이 높습니다.\n",
    "    # tensor에서 <start>를 잘라내서 타겟 문장을 생성합니다.\n",
    "    src_input = tensor[:, :-1]\n",
    "    tgt_input = tensor[:, 1:] \n",
    "    \n",
    "    # 2. 데이터 분리\n",
    "    enc_train, enc_test, dec_train, dec_test = train_test_split(src_input, \n",
    "                                                                tgt_input,\n",
    "                                                                test_size=0.2,\n",
    "                                                                random_state=50)\n",
    "    print(\"Source Train:\", enc_train.shape)\n",
    "    print(\"Target Train:\", dec_train.shape)\n",
    "    print(\"Source Validation:\", enc_test.shape)\n",
    "    print(\"Target Validation:\", dec_test.shape)\n",
    "    \n",
    "    # 3. 데이터셋 객체 생성\n",
    "    BUFFER_SIZE = len(enc_train)\n",
    "    steps_per_epoch = len(enc_train) // BATCH_SIZE\n",
    "    \n",
    "    train_dataset = tf.data.Dataset.from_tensor_slices((enc_train, dec_train)).shuffle(BUFFER_SIZE)\n",
    "    train_dataset = train_dataset.batch(BATCH_SIZE, drop_remainder=True)\n",
    "\n",
    "    test_dataset = tf.data.Dataset.from_tensor_slices((enc_test, dec_test)).shuffle(BUFFER_SIZE)\n",
    "    test_dataset = test_dataset.batch(BATCH_SIZE, drop_remainder=True)\n",
    "\n",
    "    return train_dataset, test_dataset"
   ]
  },
  {
   "cell_type": "code",
   "execution_count": 12,
   "id": "inside-hebrew",
   "metadata": {},
   "outputs": [
    {
     "name": "stdout",
     "output_type": "stream",
     "text": [
      "Source Train: (78199, 14)\n",
      "Target Train: (78199, 14)\n",
      "Source Validation: (19550, 14)\n",
      "Target Validation: (19550, 14)\n",
      "time: 29.6 ms (started: 2021-02-02 20:56:35 +09:00)\n"
     ]
    }
   ],
   "source": [
    "train_dataset, test_dataset = get_dataset(tensor, 256) "
   ]
  },
  {
   "cell_type": "markdown",
   "id": "asian-uncle",
   "metadata": {},
   "source": [
    "## STEP3. 모델 학습 및 평가\n",
    "---"
   ]
  },
  {
   "cell_type": "markdown",
   "id": "federal-sydney",
   "metadata": {},
   "source": [
    "### 모델 설계"
   ]
  },
  {
   "cell_type": "markdown",
   "id": "secondary-probe",
   "metadata": {},
   "source": [
    "- `get_model` 함수에서 반환되는 모델은 다음과 같은 특징을 가질 수 있다.\n",
    "    - {num_of_layer-2} layer network : 파라미터에 의해 LSTM 레이어가 몇층으로 이루어질지를 구성 할 수 있다.\n",
    "    - 학습 된 word2vec 사용 : 외부에서 사전 학습된 word2vec를 활용하여 Embedding 레이어를 구성할 수 있다."
   ]
  },
  {
   "cell_type": "code",
   "execution_count": 13,
   "id": "above-wages",
   "metadata": {},
   "outputs": [
    {
     "name": "stdout",
     "output_type": "stream",
     "text": [
      "time: 1.95 ms (started: 2021-02-02 20:56:39 +09:00)\n"
     ]
    }
   ],
   "source": [
    "def get_model(vocab_size, embedding_size, hidden_size, num_of_layer, embedding_matrix=None):\n",
    "    model = tf.keras.Sequential()\n",
    "    \n",
    "    if embedding_matrix == None:\n",
    "        model.add(tf.keras.layers.Embedding(vocab_size, embedding_size))\n",
    "    else :\n",
    "        model.add(tf.keras.layers.Embedding(vocab_size, embedding_size,\n",
    "                                            embeddings_initializer=Constant(embedding_matrix),\n",
    "                                            trainable=True))\n",
    "    for _ in range(num_of_layer - 2): \n",
    "        model.add(tf.keras.layers.LSTM(hidden_size, return_sequences=True))\n",
    "    model.add(tf.keras.layers.Dense(vocab_size))\n",
    "    \n",
    "    return model"
   ]
  },
  {
   "cell_type": "code",
   "execution_count": 14,
   "id": "continuing-document",
   "metadata": {},
   "outputs": [
    {
     "name": "stdout",
     "output_type": "stream",
     "text": [
      "time: 1.64 ms (started: 2021-02-02 20:56:40 +09:00)\n"
     ]
    }
   ],
   "source": [
    "def build_model(model, sample):\n",
    "    optimizer = tf.keras.optimizers.Adam()\n",
    "    loss = tf.keras.losses.SparseCategoricalCrossentropy(from_logits=True,\n",
    "                                                         reduction='none')\n",
    "        \n",
    "    model.compile(loss=loss, optimizer=optimizer)\n",
    "    model(sample)\n",
    "    model.summary()"
   ]
  },
  {
   "cell_type": "markdown",
   "id": "cordless-street",
   "metadata": {},
   "source": [
    "#### 모델생성"
   ]
  },
  {
   "cell_type": "markdown",
   "id": "failing-paris",
   "metadata": {},
   "source": [
    "- 하이퍼 파라미터 설정"
   ]
  },
  {
   "cell_type": "code",
   "execution_count": 15,
   "id": "atmospheric-appendix",
   "metadata": {},
   "outputs": [
    {
     "name": "stdout",
     "output_type": "stream",
     "text": [
      "time: 1.42 ms (started: 2021-02-02 20:56:43 +09:00)\n"
     ]
    }
   ],
   "source": [
    "steps = [32, 64, 128, 256, 512, 1024]\n",
    "#  (embedding_size, hidden_size )\n",
    "hyper_parms = [ (i, j) for i in steps for j in steps ]"
   ]
  },
  {
   "cell_type": "code",
   "execution_count": 16,
   "id": "intellectual-strip",
   "metadata": {},
   "outputs": [
    {
     "name": "stdout",
     "output_type": "stream",
     "text": [
      "1 Physical GPUs, 1 Logical GPUs\n",
      "\n",
      "\n",
      "time: 121 ms (started: 2021-02-02 20:56:43 +09:00)\n"
     ]
    }
   ],
   "source": [
    "# 빌드용 sample 데이터 \n",
    "for input_sample, output_sample in train_dataset.take(1): break\n",
    "    \n",
    "init_gpu()"
   ]
  },
  {
   "cell_type": "code",
   "execution_count": 17,
   "id": "stainless-bidder",
   "metadata": {},
   "outputs": [
    {
     "name": "stdout",
     "output_type": "stream",
     "text": [
      "time: 1.9 ms (started: 2021-02-02 20:56:44 +09:00)\n"
     ]
    }
   ],
   "source": [
    "get_model_name = lambda l, hp : f'l_{l}_b_256_e_{hp[0]}_h_{hp[1]}'\n",
    "get_model_path = lambda l, hp : f'{WORKSPACE_PATH}/models/layer_{l}/l_{l}_b_256_e_{hp[0]}_h_{hp[1]}.h5'"
   ]
  },
  {
   "cell_type": "markdown",
   "id": "appointed-module",
   "metadata": {},
   "source": [
    "- LSTM 레이어가 2개 포함된 모델 생성"
   ]
  },
  {
   "cell_type": "code",
   "execution_count": 15,
   "id": "dated-colleague",
   "metadata": {},
   "outputs": [
    {
     "name": "stdout",
     "output_type": "stream",
     "text": [
      "🧾 l_4_b_256_e_32_h_32\n",
      "Model: \"sequential\"\n",
      "_________________________________________________________________\n",
      "Layer (type)                 Output Shape              Param #   \n",
      "=================================================================\n",
      "embedding (Embedding)        (None, None, 32)          384032    \n",
      "_________________________________________________________________\n",
      "lstm (LSTM)                  (None, None, 32)          8320      \n",
      "_________________________________________________________________\n",
      "lstm_1 (LSTM)                (None, None, 32)          8320      \n",
      "_________________________________________________________________\n",
      "dense (Dense)                (None, None, 12001)       396033    \n",
      "=================================================================\n",
      "Total params: 796,705\n",
      "Trainable params: 796,705\n",
      "Non-trainable params: 0\n",
      "_________________________________________________________________\n",
      "\n",
      "\n",
      "\n",
      "🧾 l_4_b_256_e_32_h_64\n",
      "Model: \"sequential_1\"\n",
      "_________________________________________________________________\n",
      "Layer (type)                 Output Shape              Param #   \n",
      "=================================================================\n",
      "embedding_1 (Embedding)      (None, None, 32)          384032    \n",
      "_________________________________________________________________\n",
      "lstm_2 (LSTM)                (None, None, 64)          24832     \n",
      "_________________________________________________________________\n",
      "lstm_3 (LSTM)                (None, None, 64)          33024     \n",
      "_________________________________________________________________\n",
      "dense_1 (Dense)              (None, None, 12001)       780065    \n",
      "=================================================================\n",
      "Total params: 1,221,953\n",
      "Trainable params: 1,221,953\n",
      "Non-trainable params: 0\n",
      "_________________________________________________________________\n",
      "\n",
      "\n",
      "\n",
      "🧾 l_4_b_256_e_32_h_128\n",
      "Model: \"sequential_2\"\n",
      "_________________________________________________________________\n",
      "Layer (type)                 Output Shape              Param #   \n",
      "=================================================================\n",
      "embedding_2 (Embedding)      (None, None, 32)          384032    \n",
      "_________________________________________________________________\n",
      "lstm_4 (LSTM)                (None, None, 128)         82432     \n",
      "_________________________________________________________________\n",
      "lstm_5 (LSTM)                (None, None, 128)         131584    \n",
      "_________________________________________________________________\n",
      "dense_2 (Dense)              (None, None, 12001)       1548129   \n",
      "=================================================================\n",
      "Total params: 2,146,177\n",
      "Trainable params: 2,146,177\n",
      "Non-trainable params: 0\n",
      "_________________________________________________________________\n",
      "\n",
      "\n",
      "\n",
      "🧾 l_4_b_256_e_32_h_256\n",
      "Model: \"sequential_3\"\n",
      "_________________________________________________________________\n",
      "Layer (type)                 Output Shape              Param #   \n",
      "=================================================================\n",
      "embedding_3 (Embedding)      (None, None, 32)          384032    \n",
      "_________________________________________________________________\n",
      "lstm_6 (LSTM)                (None, None, 256)         295936    \n",
      "_________________________________________________________________\n",
      "lstm_7 (LSTM)                (None, None, 256)         525312    \n",
      "_________________________________________________________________\n",
      "dense_3 (Dense)              (None, None, 12001)       3084257   \n",
      "=================================================================\n",
      "Total params: 4,289,537\n",
      "Trainable params: 4,289,537\n",
      "Non-trainable params: 0\n",
      "_________________________________________________________________\n",
      "\n",
      "\n",
      "\n",
      "🧾 l_4_b_256_e_32_h_512\n",
      "Model: \"sequential_4\"\n",
      "_________________________________________________________________\n",
      "Layer (type)                 Output Shape              Param #   \n",
      "=================================================================\n",
      "embedding_4 (Embedding)      (None, None, 32)          384032    \n",
      "_________________________________________________________________\n",
      "lstm_8 (LSTM)                (None, None, 512)         1116160   \n",
      "_________________________________________________________________\n",
      "lstm_9 (LSTM)                (None, None, 512)         2099200   \n",
      "_________________________________________________________________\n",
      "dense_4 (Dense)              (None, None, 12001)       6156513   \n",
      "=================================================================\n",
      "Total params: 9,755,905\n",
      "Trainable params: 9,755,905\n",
      "Non-trainable params: 0\n",
      "_________________________________________________________________\n",
      "\n",
      "\n",
      "\n",
      "🧾 l_4_b_256_e_32_h_1024\n",
      "Model: \"sequential_5\"\n",
      "_________________________________________________________________\n",
      "Layer (type)                 Output Shape              Param #   \n",
      "=================================================================\n",
      "embedding_5 (Embedding)      (None, None, 32)          384032    \n",
      "_________________________________________________________________\n",
      "lstm_10 (LSTM)               (None, None, 1024)        4329472   \n",
      "_________________________________________________________________\n",
      "lstm_11 (LSTM)               (None, None, 1024)        8392704   \n",
      "_________________________________________________________________\n",
      "dense_5 (Dense)              (None, None, 12001)       12301025  \n",
      "=================================================================\n",
      "Total params: 25,407,233\n",
      "Trainable params: 25,407,233\n",
      "Non-trainable params: 0\n",
      "_________________________________________________________________\n",
      "\n",
      "\n",
      "\n",
      "🧾 l_4_b_256_e_64_h_32\n",
      "Model: \"sequential_6\"\n",
      "_________________________________________________________________\n",
      "Layer (type)                 Output Shape              Param #   \n",
      "=================================================================\n",
      "embedding_6 (Embedding)      (None, None, 64)          768064    \n",
      "_________________________________________________________________\n",
      "lstm_12 (LSTM)               (None, None, 32)          12416     \n",
      "_________________________________________________________________\n",
      "lstm_13 (LSTM)               (None, None, 32)          8320      \n",
      "_________________________________________________________________\n",
      "dense_6 (Dense)              (None, None, 12001)       396033    \n",
      "=================================================================\n",
      "Total params: 1,184,833\n",
      "Trainable params: 1,184,833\n",
      "Non-trainable params: 0\n",
      "_________________________________________________________________\n",
      "\n",
      "\n",
      "\n",
      "🧾 l_4_b_256_e_64_h_64\n",
      "Model: \"sequential_7\"\n",
      "_________________________________________________________________\n",
      "Layer (type)                 Output Shape              Param #   \n",
      "=================================================================\n",
      "embedding_7 (Embedding)      (None, None, 64)          768064    \n",
      "_________________________________________________________________\n",
      "lstm_14 (LSTM)               (None, None, 64)          33024     \n",
      "_________________________________________________________________\n",
      "lstm_15 (LSTM)               (None, None, 64)          33024     \n",
      "_________________________________________________________________\n",
      "dense_7 (Dense)              (None, None, 12001)       780065    \n",
      "=================================================================\n",
      "Total params: 1,614,177\n",
      "Trainable params: 1,614,177\n",
      "Non-trainable params: 0\n",
      "_________________________________________________________________\n",
      "\n",
      "\n",
      "\n",
      "🧾 l_4_b_256_e_64_h_128\n",
      "Model: \"sequential_8\"\n",
      "_________________________________________________________________\n",
      "Layer (type)                 Output Shape              Param #   \n",
      "=================================================================\n",
      "embedding_8 (Embedding)      (None, None, 64)          768064    \n",
      "_________________________________________________________________\n",
      "lstm_16 (LSTM)               (None, None, 128)         98816     \n",
      "_________________________________________________________________\n",
      "lstm_17 (LSTM)               (None, None, 128)         131584    \n",
      "_________________________________________________________________\n",
      "dense_8 (Dense)              (None, None, 12001)       1548129   \n",
      "=================================================================\n",
      "Total params: 2,546,593\n",
      "Trainable params: 2,546,593\n",
      "Non-trainable params: 0\n",
      "_________________________________________________________________\n",
      "\n",
      "\n",
      "\n",
      "🧾 l_4_b_256_e_64_h_256\n",
      "Model: \"sequential_9\"\n",
      "_________________________________________________________________\n",
      "Layer (type)                 Output Shape              Param #   \n",
      "=================================================================\n",
      "embedding_9 (Embedding)      (None, None, 64)          768064    \n",
      "_________________________________________________________________\n",
      "lstm_18 (LSTM)               (None, None, 256)         328704    \n",
      "_________________________________________________________________\n",
      "lstm_19 (LSTM)               (None, None, 256)         525312    \n",
      "_________________________________________________________________\n",
      "dense_9 (Dense)              (None, None, 12001)       3084257   \n",
      "=================================================================\n",
      "Total params: 4,706,337\n",
      "Trainable params: 4,706,337\n",
      "Non-trainable params: 0\n",
      "_________________________________________________________________\n",
      "\n",
      "\n",
      "\n",
      "🧾 l_4_b_256_e_64_h_512\n",
      "Model: \"sequential_10\"\n",
      "_________________________________________________________________\n",
      "Layer (type)                 Output Shape              Param #   \n",
      "=================================================================\n",
      "embedding_10 (Embedding)     (None, None, 64)          768064    \n",
      "_________________________________________________________________\n",
      "lstm_20 (LSTM)               (None, None, 512)         1181696   \n",
      "_________________________________________________________________\n",
      "lstm_21 (LSTM)               (None, None, 512)         2099200   \n",
      "_________________________________________________________________\n",
      "dense_10 (Dense)             (None, None, 12001)       6156513   \n",
      "=================================================================\n",
      "Total params: 10,205,473\n",
      "Trainable params: 10,205,473\n",
      "Non-trainable params: 0\n",
      "_________________________________________________________________\n",
      "\n",
      "\n",
      "\n",
      "🧾 l_4_b_256_e_64_h_1024\n",
      "Model: \"sequential_11\"\n",
      "_________________________________________________________________\n",
      "Layer (type)                 Output Shape              Param #   \n",
      "=================================================================\n",
      "embedding_11 (Embedding)     (None, None, 64)          768064    \n",
      "_________________________________________________________________\n",
      "lstm_22 (LSTM)               (None, None, 1024)        4460544   \n",
      "_________________________________________________________________\n",
      "lstm_23 (LSTM)               (None, None, 1024)        8392704   \n",
      "_________________________________________________________________\n",
      "dense_11 (Dense)             (None, None, 12001)       12301025  \n",
      "=================================================================\n",
      "Total params: 25,922,337\n",
      "Trainable params: 25,922,337\n",
      "Non-trainable params: 0\n",
      "_________________________________________________________________\n",
      "\n",
      "\n",
      "\n",
      "🧾 l_4_b_256_e_128_h_32\n",
      "Model: \"sequential_12\"\n",
      "_________________________________________________________________\n",
      "Layer (type)                 Output Shape              Param #   \n",
      "=================================================================\n",
      "embedding_12 (Embedding)     (None, None, 128)         1536128   \n",
      "_________________________________________________________________\n",
      "lstm_24 (LSTM)               (None, None, 32)          20608     \n",
      "_________________________________________________________________\n",
      "lstm_25 (LSTM)               (None, None, 32)          8320      \n",
      "_________________________________________________________________\n",
      "dense_12 (Dense)             (None, None, 12001)       396033    \n",
      "=================================================================\n",
      "Total params: 1,961,089\n",
      "Trainable params: 1,961,089\n",
      "Non-trainable params: 0\n",
      "_________________________________________________________________\n",
      "\n",
      "\n",
      "\n",
      "🧾 l_4_b_256_e_128_h_64\n",
      "Model: \"sequential_13\"\n",
      "_________________________________________________________________\n",
      "Layer (type)                 Output Shape              Param #   \n",
      "=================================================================\n",
      "embedding_13 (Embedding)     (None, None, 128)         1536128   \n",
      "_________________________________________________________________\n",
      "lstm_26 (LSTM)               (None, None, 64)          49408     \n",
      "_________________________________________________________________\n",
      "lstm_27 (LSTM)               (None, None, 64)          33024     \n",
      "_________________________________________________________________\n",
      "dense_13 (Dense)             (None, None, 12001)       780065    \n",
      "=================================================================\n",
      "Total params: 2,398,625\n",
      "Trainable params: 2,398,625\n",
      "Non-trainable params: 0\n",
      "_________________________________________________________________\n",
      "\n",
      "\n",
      "\n",
      "🧾 l_4_b_256_e_128_h_128\n",
      "Model: \"sequential_14\"\n",
      "_________________________________________________________________\n",
      "Layer (type)                 Output Shape              Param #   \n",
      "=================================================================\n",
      "embedding_14 (Embedding)     (None, None, 128)         1536128   \n",
      "_________________________________________________________________\n",
      "lstm_28 (LSTM)               (None, None, 128)         131584    \n",
      "_________________________________________________________________\n",
      "lstm_29 (LSTM)               (None, None, 128)         131584    \n",
      "_________________________________________________________________\n",
      "dense_14 (Dense)             (None, None, 12001)       1548129   \n",
      "=================================================================\n",
      "Total params: 3,347,425\n",
      "Trainable params: 3,347,425\n",
      "Non-trainable params: 0\n",
      "_________________________________________________________________\n",
      "\n",
      "\n",
      "\n",
      "🧾 l_4_b_256_e_128_h_256\n",
      "Model: \"sequential_15\"\n",
      "_________________________________________________________________\n",
      "Layer (type)                 Output Shape              Param #   \n",
      "=================================================================\n",
      "embedding_15 (Embedding)     (None, None, 128)         1536128   \n",
      "_________________________________________________________________\n",
      "lstm_30 (LSTM)               (None, None, 256)         394240    \n",
      "_________________________________________________________________\n",
      "lstm_31 (LSTM)               (None, None, 256)         525312    \n",
      "_________________________________________________________________\n",
      "dense_15 (Dense)             (None, None, 12001)       3084257   \n",
      "=================================================================\n",
      "Total params: 5,539,937\n",
      "Trainable params: 5,539,937\n",
      "Non-trainable params: 0\n",
      "_________________________________________________________________\n",
      "\n",
      "\n",
      "\n",
      "🧾 l_4_b_256_e_128_h_512\n"
     ]
    },
    {
     "name": "stdout",
     "output_type": "stream",
     "text": [
      "Model: \"sequential_16\"\n",
      "_________________________________________________________________\n",
      "Layer (type)                 Output Shape              Param #   \n",
      "=================================================================\n",
      "embedding_16 (Embedding)     (None, None, 128)         1536128   \n",
      "_________________________________________________________________\n",
      "lstm_32 (LSTM)               (None, None, 512)         1312768   \n",
      "_________________________________________________________________\n",
      "lstm_33 (LSTM)               (None, None, 512)         2099200   \n",
      "_________________________________________________________________\n",
      "dense_16 (Dense)             (None, None, 12001)       6156513   \n",
      "=================================================================\n",
      "Total params: 11,104,609\n",
      "Trainable params: 11,104,609\n",
      "Non-trainable params: 0\n",
      "_________________________________________________________________\n",
      "\n",
      "\n",
      "\n",
      "🧾 l_4_b_256_e_128_h_1024\n",
      "Model: \"sequential_17\"\n",
      "_________________________________________________________________\n",
      "Layer (type)                 Output Shape              Param #   \n",
      "=================================================================\n",
      "embedding_17 (Embedding)     (None, None, 128)         1536128   \n",
      "_________________________________________________________________\n",
      "lstm_34 (LSTM)               (None, None, 1024)        4722688   \n",
      "_________________________________________________________________\n",
      "lstm_35 (LSTM)               (None, None, 1024)        8392704   \n",
      "_________________________________________________________________\n",
      "dense_17 (Dense)             (None, None, 12001)       12301025  \n",
      "=================================================================\n",
      "Total params: 26,952,545\n",
      "Trainable params: 26,952,545\n",
      "Non-trainable params: 0\n",
      "_________________________________________________________________\n",
      "\n",
      "\n",
      "\n",
      "🧾 l_4_b_256_e_256_h_32\n",
      "Model: \"sequential_18\"\n",
      "_________________________________________________________________\n",
      "Layer (type)                 Output Shape              Param #   \n",
      "=================================================================\n",
      "embedding_18 (Embedding)     (None, None, 256)         3072256   \n",
      "_________________________________________________________________\n",
      "lstm_36 (LSTM)               (None, None, 32)          36992     \n",
      "_________________________________________________________________\n",
      "lstm_37 (LSTM)               (None, None, 32)          8320      \n",
      "_________________________________________________________________\n",
      "dense_18 (Dense)             (None, None, 12001)       396033    \n",
      "=================================================================\n",
      "Total params: 3,513,601\n",
      "Trainable params: 3,513,601\n",
      "Non-trainable params: 0\n",
      "_________________________________________________________________\n",
      "\n",
      "\n",
      "\n",
      "🧾 l_4_b_256_e_256_h_64\n",
      "Model: \"sequential_19\"\n",
      "_________________________________________________________________\n",
      "Layer (type)                 Output Shape              Param #   \n",
      "=================================================================\n",
      "embedding_19 (Embedding)     (None, None, 256)         3072256   \n",
      "_________________________________________________________________\n",
      "lstm_38 (LSTM)               (None, None, 64)          82176     \n",
      "_________________________________________________________________\n",
      "lstm_39 (LSTM)               (None, None, 64)          33024     \n",
      "_________________________________________________________________\n",
      "dense_19 (Dense)             (None, None, 12001)       780065    \n",
      "=================================================================\n",
      "Total params: 3,967,521\n",
      "Trainable params: 3,967,521\n",
      "Non-trainable params: 0\n",
      "_________________________________________________________________\n",
      "\n",
      "\n",
      "\n",
      "🧾 l_4_b_256_e_256_h_128\n",
      "Model: \"sequential_20\"\n",
      "_________________________________________________________________\n",
      "Layer (type)                 Output Shape              Param #   \n",
      "=================================================================\n",
      "embedding_20 (Embedding)     (None, None, 256)         3072256   \n",
      "_________________________________________________________________\n",
      "lstm_40 (LSTM)               (None, None, 128)         197120    \n",
      "_________________________________________________________________\n",
      "lstm_41 (LSTM)               (None, None, 128)         131584    \n",
      "_________________________________________________________________\n",
      "dense_20 (Dense)             (None, None, 12001)       1548129   \n",
      "=================================================================\n",
      "Total params: 4,949,089\n",
      "Trainable params: 4,949,089\n",
      "Non-trainable params: 0\n",
      "_________________________________________________________________\n",
      "\n",
      "\n",
      "\n",
      "🧾 l_4_b_256_e_256_h_256\n",
      "Model: \"sequential_21\"\n",
      "_________________________________________________________________\n",
      "Layer (type)                 Output Shape              Param #   \n",
      "=================================================================\n",
      "embedding_21 (Embedding)     (None, None, 256)         3072256   \n",
      "_________________________________________________________________\n",
      "lstm_42 (LSTM)               (None, None, 256)         525312    \n",
      "_________________________________________________________________\n",
      "lstm_43 (LSTM)               (None, None, 256)         525312    \n",
      "_________________________________________________________________\n",
      "dense_21 (Dense)             (None, None, 12001)       3084257   \n",
      "=================================================================\n",
      "Total params: 7,207,137\n",
      "Trainable params: 7,207,137\n",
      "Non-trainable params: 0\n",
      "_________________________________________________________________\n",
      "\n",
      "\n",
      "\n",
      "🧾 l_4_b_256_e_256_h_512\n",
      "Model: \"sequential_22\"\n",
      "_________________________________________________________________\n",
      "Layer (type)                 Output Shape              Param #   \n",
      "=================================================================\n",
      "embedding_22 (Embedding)     (None, None, 256)         3072256   \n",
      "_________________________________________________________________\n",
      "lstm_44 (LSTM)               (None, None, 512)         1574912   \n",
      "_________________________________________________________________\n",
      "lstm_45 (LSTM)               (None, None, 512)         2099200   \n",
      "_________________________________________________________________\n",
      "dense_22 (Dense)             (None, None, 12001)       6156513   \n",
      "=================================================================\n",
      "Total params: 12,902,881\n",
      "Trainable params: 12,902,881\n",
      "Non-trainable params: 0\n",
      "_________________________________________________________________\n",
      "\n",
      "\n",
      "\n",
      "🧾 l_4_b_256_e_256_h_1024\n",
      "Model: \"sequential_23\"\n",
      "_________________________________________________________________\n",
      "Layer (type)                 Output Shape              Param #   \n",
      "=================================================================\n",
      "embedding_23 (Embedding)     (None, None, 256)         3072256   \n",
      "_________________________________________________________________\n",
      "lstm_46 (LSTM)               (None, None, 1024)        5246976   \n",
      "_________________________________________________________________\n",
      "lstm_47 (LSTM)               (None, None, 1024)        8392704   \n",
      "_________________________________________________________________\n",
      "dense_23 (Dense)             (None, None, 12001)       12301025  \n",
      "=================================================================\n",
      "Total params: 29,012,961\n",
      "Trainable params: 29,012,961\n",
      "Non-trainable params: 0\n",
      "_________________________________________________________________\n",
      "\n",
      "\n",
      "\n",
      "🧾 l_4_b_256_e_512_h_32\n",
      "Model: \"sequential_24\"\n",
      "_________________________________________________________________\n",
      "Layer (type)                 Output Shape              Param #   \n",
      "=================================================================\n",
      "embedding_24 (Embedding)     (None, None, 512)         6144512   \n",
      "_________________________________________________________________\n",
      "lstm_48 (LSTM)               (None, None, 32)          69760     \n",
      "_________________________________________________________________\n",
      "lstm_49 (LSTM)               (None, None, 32)          8320      \n",
      "_________________________________________________________________\n",
      "dense_24 (Dense)             (None, None, 12001)       396033    \n",
      "=================================================================\n",
      "Total params: 6,618,625\n",
      "Trainable params: 6,618,625\n",
      "Non-trainable params: 0\n",
      "_________________________________________________________________\n",
      "\n",
      "\n",
      "\n",
      "🧾 l_4_b_256_e_512_h_64\n",
      "Model: \"sequential_25\"\n",
      "_________________________________________________________________\n",
      "Layer (type)                 Output Shape              Param #   \n",
      "=================================================================\n",
      "embedding_25 (Embedding)     (None, None, 512)         6144512   \n",
      "_________________________________________________________________\n",
      "lstm_50 (LSTM)               (None, None, 64)          147712    \n",
      "_________________________________________________________________\n",
      "lstm_51 (LSTM)               (None, None, 64)          33024     \n",
      "_________________________________________________________________\n",
      "dense_25 (Dense)             (None, None, 12001)       780065    \n",
      "=================================================================\n",
      "Total params: 7,105,313\n",
      "Trainable params: 7,105,313\n",
      "Non-trainable params: 0\n",
      "_________________________________________________________________\n",
      "\n",
      "\n",
      "\n",
      "🧾 l_4_b_256_e_512_h_128\n",
      "Model: \"sequential_26\"\n",
      "_________________________________________________________________\n",
      "Layer (type)                 Output Shape              Param #   \n",
      "=================================================================\n",
      "embedding_26 (Embedding)     (None, None, 512)         6144512   \n",
      "_________________________________________________________________\n",
      "lstm_52 (LSTM)               (None, None, 128)         328192    \n",
      "_________________________________________________________________\n",
      "lstm_53 (LSTM)               (None, None, 128)         131584    \n",
      "_________________________________________________________________\n",
      "dense_26 (Dense)             (None, None, 12001)       1548129   \n",
      "=================================================================\n",
      "Total params: 8,152,417\n",
      "Trainable params: 8,152,417\n",
      "Non-trainable params: 0\n",
      "_________________________________________________________________\n",
      "\n",
      "\n",
      "\n",
      "🧾 l_4_b_256_e_512_h_256\n",
      "Model: \"sequential_27\"\n",
      "_________________________________________________________________\n",
      "Layer (type)                 Output Shape              Param #   \n",
      "=================================================================\n",
      "embedding_27 (Embedding)     (None, None, 512)         6144512   \n",
      "_________________________________________________________________\n",
      "lstm_54 (LSTM)               (None, None, 256)         787456    \n",
      "_________________________________________________________________\n",
      "lstm_55 (LSTM)               (None, None, 256)         525312    \n",
      "_________________________________________________________________\n",
      "dense_27 (Dense)             (None, None, 12001)       3084257   \n",
      "=================================================================\n",
      "Total params: 10,541,537\n",
      "Trainable params: 10,541,537\n",
      "Non-trainable params: 0\n",
      "_________________________________________________________________\n",
      "\n",
      "\n",
      "\n",
      "🧾 l_4_b_256_e_512_h_512\n",
      "Model: \"sequential_28\"\n",
      "_________________________________________________________________\n",
      "Layer (type)                 Output Shape              Param #   \n",
      "=================================================================\n",
      "embedding_28 (Embedding)     (None, None, 512)         6144512   \n",
      "_________________________________________________________________\n",
      "lstm_56 (LSTM)               (None, None, 512)         2099200   \n",
      "_________________________________________________________________\n",
      "lstm_57 (LSTM)               (None, None, 512)         2099200   \n",
      "_________________________________________________________________\n",
      "dense_28 (Dense)             (None, None, 12001)       6156513   \n",
      "=================================================================\n",
      "Total params: 16,499,425\n",
      "Trainable params: 16,499,425\n",
      "Non-trainable params: 0\n",
      "_________________________________________________________________\n",
      "\n",
      "\n",
      "\n",
      "🧾 l_4_b_256_e_512_h_1024\n",
      "Model: \"sequential_29\"\n",
      "_________________________________________________________________\n",
      "Layer (type)                 Output Shape              Param #   \n",
      "=================================================================\n",
      "embedding_29 (Embedding)     (None, None, 512)         6144512   \n",
      "_________________________________________________________________\n",
      "lstm_58 (LSTM)               (None, None, 1024)        6295552   \n",
      "_________________________________________________________________\n",
      "lstm_59 (LSTM)               (None, None, 1024)        8392704   \n",
      "_________________________________________________________________\n",
      "dense_29 (Dense)             (None, None, 12001)       12301025  \n",
      "=================================================================\n",
      "Total params: 33,133,793\n",
      "Trainable params: 33,133,793\n",
      "Non-trainable params: 0\n",
      "_________________________________________________________________\n",
      "\n",
      "\n",
      "\n",
      "🧾 l_4_b_256_e_1024_h_32\n"
     ]
    },
    {
     "name": "stdout",
     "output_type": "stream",
     "text": [
      "Model: \"sequential_30\"\n",
      "_________________________________________________________________\n",
      "Layer (type)                 Output Shape              Param #   \n",
      "=================================================================\n",
      "embedding_30 (Embedding)     (None, None, 1024)        12289024  \n",
      "_________________________________________________________________\n",
      "lstm_60 (LSTM)               (None, None, 32)          135296    \n",
      "_________________________________________________________________\n",
      "lstm_61 (LSTM)               (None, None, 32)          8320      \n",
      "_________________________________________________________________\n",
      "dense_30 (Dense)             (None, None, 12001)       396033    \n",
      "=================================================================\n",
      "Total params: 12,828,673\n",
      "Trainable params: 12,828,673\n",
      "Non-trainable params: 0\n",
      "_________________________________________________________________\n",
      "\n",
      "\n",
      "\n",
      "🧾 l_4_b_256_e_1024_h_64\n",
      "Model: \"sequential_31\"\n",
      "_________________________________________________________________\n",
      "Layer (type)                 Output Shape              Param #   \n",
      "=================================================================\n",
      "embedding_31 (Embedding)     (None, None, 1024)        12289024  \n",
      "_________________________________________________________________\n",
      "lstm_62 (LSTM)               (None, None, 64)          278784    \n",
      "_________________________________________________________________\n",
      "lstm_63 (LSTM)               (None, None, 64)          33024     \n",
      "_________________________________________________________________\n",
      "dense_31 (Dense)             (None, None, 12001)       780065    \n",
      "=================================================================\n",
      "Total params: 13,380,897\n",
      "Trainable params: 13,380,897\n",
      "Non-trainable params: 0\n",
      "_________________________________________________________________\n",
      "\n",
      "\n",
      "\n",
      "🧾 l_4_b_256_e_1024_h_128\n",
      "Model: \"sequential_32\"\n",
      "_________________________________________________________________\n",
      "Layer (type)                 Output Shape              Param #   \n",
      "=================================================================\n",
      "embedding_32 (Embedding)     (None, None, 1024)        12289024  \n",
      "_________________________________________________________________\n",
      "lstm_64 (LSTM)               (None, None, 128)         590336    \n",
      "_________________________________________________________________\n",
      "lstm_65 (LSTM)               (None, None, 128)         131584    \n",
      "_________________________________________________________________\n",
      "dense_32 (Dense)             (None, None, 12001)       1548129   \n",
      "=================================================================\n",
      "Total params: 14,559,073\n",
      "Trainable params: 14,559,073\n",
      "Non-trainable params: 0\n",
      "_________________________________________________________________\n",
      "\n",
      "\n",
      "\n",
      "🧾 l_4_b_256_e_1024_h_256\n",
      "Model: \"sequential_33\"\n",
      "_________________________________________________________________\n",
      "Layer (type)                 Output Shape              Param #   \n",
      "=================================================================\n",
      "embedding_33 (Embedding)     (None, None, 1024)        12289024  \n",
      "_________________________________________________________________\n",
      "lstm_66 (LSTM)               (None, None, 256)         1311744   \n",
      "_________________________________________________________________\n",
      "lstm_67 (LSTM)               (None, None, 256)         525312    \n",
      "_________________________________________________________________\n",
      "dense_33 (Dense)             (None, None, 12001)       3084257   \n",
      "=================================================================\n",
      "Total params: 17,210,337\n",
      "Trainable params: 17,210,337\n",
      "Non-trainable params: 0\n",
      "_________________________________________________________________\n",
      "\n",
      "\n",
      "\n",
      "🧾 l_4_b_256_e_1024_h_512\n",
      "Model: \"sequential_34\"\n",
      "_________________________________________________________________\n",
      "Layer (type)                 Output Shape              Param #   \n",
      "=================================================================\n",
      "embedding_34 (Embedding)     (None, None, 1024)        12289024  \n",
      "_________________________________________________________________\n",
      "lstm_68 (LSTM)               (None, None, 512)         3147776   \n",
      "_________________________________________________________________\n",
      "lstm_69 (LSTM)               (None, None, 512)         2099200   \n",
      "_________________________________________________________________\n",
      "dense_34 (Dense)             (None, None, 12001)       6156513   \n",
      "=================================================================\n",
      "Total params: 23,692,513\n",
      "Trainable params: 23,692,513\n",
      "Non-trainable params: 0\n",
      "_________________________________________________________________\n",
      "\n",
      "\n",
      "\n",
      "🧾 l_4_b_256_e_1024_h_1024\n",
      "Model: \"sequential_35\"\n",
      "_________________________________________________________________\n",
      "Layer (type)                 Output Shape              Param #   \n",
      "=================================================================\n",
      "embedding_35 (Embedding)     (None, None, 1024)        12289024  \n",
      "_________________________________________________________________\n",
      "lstm_70 (LSTM)               (None, None, 1024)        8392704   \n",
      "_________________________________________________________________\n",
      "lstm_71 (LSTM)               (None, None, 1024)        8392704   \n",
      "_________________________________________________________________\n",
      "dense_35 (Dense)             (None, None, 12001)       12301025  \n",
      "=================================================================\n",
      "Total params: 41,375,457\n",
      "Trainable params: 41,375,457\n",
      "Non-trainable params: 0\n",
      "_________________________________________________________________\n",
      "\n",
      "\n",
      "\n",
      "time: 38.4 s (started: 2021-02-02 01:32:14 +09:00)\n"
     ]
    }
   ],
   "source": [
    "layer_4_models = [ get_model(vocab_size, hp[0], hp[1], 4) for hp in hyper_parms ]\n",
    "for i, model in enumerate(layer_4_models) :\n",
    "    print(f'🧾 {get_model_name(4, hyper_parms[i])}')\n",
    "    build_model(model, input_sample) \n",
    "    print('\\n\\n')"
   ]
  },
  {
   "cell_type": "markdown",
   "id": "treated-kruger",
   "metadata": {},
   "source": [
    "### 모델 학습"
   ]
  },
  {
   "cell_type": "code",
   "execution_count": 59,
   "id": "coastal-elephant",
   "metadata": {},
   "outputs": [
    {
     "name": "stdout",
     "output_type": "stream",
     "text": [
      "time: 1.18 ms (started: 2021-02-02 21:57:45 +09:00)\n"
     ]
    }
   ],
   "source": [
    "def flatten(seq, container=None):\n",
    "    if container is None:\n",
    "        container = []\n",
    "\n",
    "    for s in seq:\n",
    "        try:\n",
    "            iter(s)  # check if it's iterable\n",
    "        except TypeError:\n",
    "            container.append(s)\n",
    "        else:\n",
    "            flatten(s, container)\n",
    "\n",
    "    return container"
   ]
  },
  {
   "cell_type": "code",
   "execution_count": 75,
   "id": "piano-alias",
   "metadata": {},
   "outputs": [
    {
     "name": "stdout",
     "output_type": "stream",
     "text": [
      "time: 1.13 ms (started: 2021-02-02 02:08:51 +09:00)\n"
     ]
    }
   ],
   "source": [
    "def train_and_save_model(model, save_path, train_dataset, epochs):\n",
    "    _history = model.fit(train_dataset, epochs=epochs, validation_data=test_dataset, verbose=2)\n",
    "    model.save(save_path)\n",
    "    \n",
    "    history = {'val_loss' : [], 'loss' : [] }\n",
    "    for val_loss_per_epochs in _history.history['val_loss']:\n",
    "        val_loss_flatten = flatten(val_loss_per_epochs)\n",
    "        val_loss = sum(val_loss_flatten) / len(val_loss_flatten)\n",
    "        history['val_loss'].append(val_loss)\n",
    "    \n",
    "    for loss_per_epochs in _history.history['loss']:\n",
    "        loss_flatten = flatten(loss_per_epochs)\n",
    "        loss = sum(loss_flatten) / len(loss_flatten)\n",
    "        history['loss'].append(loss)\n",
    "\n",
    "    return history"
   ]
  },
  {
   "cell_type": "markdown",
   "id": "arranged-shepherd",
   "metadata": {},
   "source": [
    "- LSTM 레이어가 2개 포함된 모델"
   ]
  },
  {
   "cell_type": "code",
   "execution_count": 78,
   "id": "entire-denmark",
   "metadata": {
    "scrolled": true
   },
   "outputs": [
    {
     "name": "stdout",
     "output_type": "stream",
     "text": [
      ">>> [l_4_b_256_e_32_h_32] train start..\n",
      "Epoch 1/10\n",
      "76/76 - 2s - loss: 3.3662 - val_loss: 0.0000e+00\n",
      "Epoch 2/10\n",
      "76/76 - 2s - loss: 3.3614 - val_loss: 3.3521\n",
      "Epoch 3/10\n",
      "76/76 - 2s - loss: 3.3577 - val_loss: 3.3492\n",
      "Epoch 4/10\n",
      "76/76 - 2s - loss: 3.3522 - val_loss: 3.3427\n",
      "Epoch 5/10\n",
      "76/76 - 2s - loss: 3.3483 - val_loss: 3.3376\n",
      "Epoch 6/10\n",
      "76/76 - 2s - loss: 3.3438 - val_loss: 3.3333\n",
      "Epoch 7/10\n",
      "76/76 - 2s - loss: 3.3375 - val_loss: 3.3268\n",
      "Epoch 8/10\n",
      "76/76 - 2s - loss: 3.3331 - val_loss: 3.3233\n",
      "Epoch 9/10\n",
      "76/76 - 2s - loss: 3.3257 - val_loss: 3.3181\n",
      "Epoch 10/10\n",
      "76/76 - 2s - loss: 3.3215 - val_loss: 3.3128\n",
      ">>>>> /home/aiffel-dj1/workspace/aiffel-exploration-workspace/E06_lyricist/models/layer_4/l_4_b_256_e_32_h_32.h5 created\n",
      "\n",
      "\n",
      ">>> [l_4_b_256_e_32_h_64] train start..\n",
      "Epoch 1/10\n",
      "76/76 - 5s - loss: 6.7936 - val_loss: 0.0000e+00\n",
      "Epoch 2/10\n",
      "76/76 - 2s - loss: 4.3014 - val_loss: 4.2340\n",
      "Epoch 3/10\n",
      "76/76 - 2s - loss: 4.2193 - val_loss: 4.1926\n",
      "Epoch 4/10\n",
      "76/76 - 2s - loss: 4.1974 - val_loss: 4.1798\n",
      "Epoch 5/10\n",
      "76/76 - 2s - loss: 4.1894 - val_loss: 4.1719\n",
      "Epoch 6/10\n",
      "76/76 - 2s - loss: 4.1738 - val_loss: 4.1414\n",
      "Epoch 7/10\n",
      "76/76 - 2s - loss: 4.1210 - val_loss: 4.0334\n",
      "Epoch 8/10\n",
      "76/76 - 2s - loss: 3.8949 - val_loss: 3.7711\n",
      "Epoch 9/10\n",
      "76/76 - 2s - loss: 3.7142 - val_loss: 3.6467\n",
      "Epoch 10/10\n",
      "76/76 - 2s - loss: 3.6258 - val_loss: 3.5913\n",
      ">>>>> /home/aiffel-dj1/workspace/aiffel-exploration-workspace/E06_lyricist/models/layer_4/l_4_b_256_e_32_h_64.h5 created\n",
      "\n",
      "\n",
      ">>> [l_4_b_256_e_32_h_128] train start..\n",
      "Epoch 1/10\n",
      "76/76 - 6s - loss: 5.8995 - val_loss: 0.0000e+00\n",
      "Epoch 2/10\n",
      "76/76 - 3s - loss: 4.3120 - val_loss: 4.2420\n",
      "Epoch 3/10\n",
      "76/76 - 3s - loss: 4.2285 - val_loss: 4.1816\n",
      "Epoch 4/10\n",
      "76/76 - 3s - loss: 4.1600 - val_loss: 4.0452\n",
      "Epoch 5/10\n",
      "76/76 - 3s - loss: 3.9573 - val_loss: 3.8248\n",
      "Epoch 6/10\n",
      "76/76 - 3s - loss: 3.7636 - val_loss: 3.6543\n",
      "Epoch 7/10\n",
      "76/76 - 3s - loss: 3.6088 - val_loss: 3.5444\n",
      "Epoch 8/10\n",
      "76/76 - 3s - loss: 3.5336 - val_loss: 3.4981\n",
      "Epoch 9/10\n",
      "76/76 - 3s - loss: 3.4964 - val_loss: 3.4640\n",
      "Epoch 10/10\n",
      "76/76 - 3s - loss: 3.4688 - val_loss: 3.4398\n",
      ">>>>> /home/aiffel-dj1/workspace/aiffel-exploration-workspace/E06_lyricist/models/layer_4/l_4_b_256_e_32_h_128.h5 created\n",
      "\n",
      "\n",
      ">>> [l_4_b_256_e_32_h_256] train start..\n",
      "Epoch 1/10\n",
      "76/76 - 6s - loss: 5.3432 - val_loss: 0.0000e+00\n",
      "Epoch 2/10\n",
      "76/76 - 4s - loss: 4.2958 - val_loss: 4.1485\n",
      "Epoch 3/10\n",
      "76/76 - 4s - loss: 4.0356 - val_loss: 3.8842\n",
      "Epoch 4/10\n",
      "76/76 - 4s - loss: 3.7517 - val_loss: 3.5663\n",
      "Epoch 5/10\n",
      "76/76 - 4s - loss: 3.5383 - val_loss: 3.4756\n",
      "Epoch 6/10\n",
      "76/76 - 4s - loss: 3.4811 - val_loss: 3.4361\n",
      "Epoch 7/10\n",
      "76/76 - 4s - loss: 3.4493 - val_loss: 3.4068\n",
      "Epoch 8/10\n",
      "76/76 - 4s - loss: 3.4161 - val_loss: 3.3744\n",
      "Epoch 9/10\n",
      "76/76 - 4s - loss: 3.3891 - val_loss: 3.3480\n",
      "Epoch 10/10\n",
      "76/76 - 4s - loss: 3.3608 - val_loss: 3.3243\n",
      ">>>>> /home/aiffel-dj1/workspace/aiffel-exploration-workspace/E06_lyricist/models/layer_4/l_4_b_256_e_32_h_256.h5 created\n",
      "\n",
      "\n",
      ">>> [l_4_b_256_e_32_h_512] train start..\n",
      "Epoch 1/10\n",
      "76/76 - 9s - loss: 5.0976 - val_loss: 0.0000e+00\n",
      "Epoch 2/10\n",
      "76/76 - 6s - loss: 4.1135 - val_loss: 3.7335\n",
      "Epoch 3/10\n",
      "76/76 - 6s - loss: 3.5712 - val_loss: 3.4572\n",
      "Epoch 4/10\n",
      "76/76 - 6s - loss: 3.4529 - val_loss: 3.3884\n",
      "Epoch 5/10\n",
      "76/76 - 6s - loss: 3.3874 - val_loss: 3.3271\n",
      "Epoch 6/10\n",
      "76/76 - 6s - loss: 3.3366 - val_loss: 3.2799\n",
      "Epoch 7/10\n",
      "76/76 - 6s - loss: 3.2976 - val_loss: 3.2433\n",
      "Epoch 8/10\n",
      "76/76 - 6s - loss: 3.2600 - val_loss: 3.2130\n",
      "Epoch 9/10\n",
      "76/76 - 6s - loss: 3.2325 - val_loss: 3.1855\n",
      "Epoch 10/10\n",
      "76/76 - 6s - loss: 3.2048 - val_loss: 3.1591\n",
      ">>>>> /home/aiffel-dj1/workspace/aiffel-exploration-workspace/E06_lyricist/models/layer_4/l_4_b_256_e_32_h_512.h5 created\n",
      "\n",
      "\n",
      ">>> [l_4_b_256_e_32_h_1024] train start..\n",
      "Epoch 1/10\n",
      "76/76 - 15s - loss: 4.6699 - val_loss: 0.0000e+00\n",
      "Epoch 2/10\n",
      "76/76 - 12s - loss: 3.6061 - val_loss: 3.4318\n",
      "Epoch 3/10\n",
      "76/76 - 12s - loss: 3.4165 - val_loss: 3.3526\n",
      "Epoch 4/10\n",
      "76/76 - 12s - loss: 3.3467 - val_loss: 3.2808\n",
      "Epoch 5/10\n",
      "76/76 - 12s - loss: 3.2790 - val_loss: 3.2210\n",
      "Epoch 6/10\n",
      "76/76 - 12s - loss: 3.2295 - val_loss: 3.1783\n",
      "Epoch 7/10\n",
      "76/76 - 12s - loss: 3.1882 - val_loss: 3.1336\n",
      "Epoch 8/10\n",
      "76/76 - 12s - loss: 3.1462 - val_loss: 3.0939\n",
      "Epoch 9/10\n",
      "76/76 - 12s - loss: 3.1088 - val_loss: 3.0562\n",
      "Epoch 10/10\n",
      "76/76 - 12s - loss: 3.0685 - val_loss: 3.0172\n",
      ">>>>> /home/aiffel-dj1/workspace/aiffel-exploration-workspace/E06_lyricist/models/layer_4/l_4_b_256_e_32_h_1024.h5 created\n",
      "\n",
      "\n",
      ">>> [l_4_b_256_e_64_h_32] train start..\n",
      "Epoch 1/10\n",
      "76/76 - 6s - loss: 7.8697 - val_loss: 0.0000e+00\n",
      "Epoch 2/10\n",
      "76/76 - 2s - loss: 4.7787 - val_loss: 4.2866\n",
      "Epoch 3/10\n",
      "76/76 - 2s - loss: 4.2331 - val_loss: 4.1996\n",
      "Epoch 4/10\n",
      "76/76 - 2s - loss: 4.2005 - val_loss: 4.1866\n",
      "Epoch 5/10\n",
      "76/76 - 2s - loss: 4.1897 - val_loss: 4.1776\n",
      "Epoch 6/10\n",
      "76/76 - 2s - loss: 4.1826 - val_loss: 4.1715\n",
      "Epoch 7/10\n",
      "76/76 - 2s - loss: 4.1751 - val_loss: 4.1666\n",
      "Epoch 8/10\n",
      "76/76 - 2s - loss: 4.1681 - val_loss: 4.1593\n",
      "Epoch 9/10\n",
      "76/76 - 2s - loss: 4.1206 - val_loss: 4.0054\n",
      "Epoch 10/10\n",
      "76/76 - 2s - loss: 3.9471 - val_loss: 3.8919\n",
      ">>>>> /home/aiffel-dj1/workspace/aiffel-exploration-workspace/E06_lyricist/models/layer_4/l_4_b_256_e_64_h_32.h5 created\n",
      "\n",
      "\n",
      ">>> [l_4_b_256_e_64_h_64] train start..\n",
      "Epoch 1/10\n",
      "76/76 - 5s - loss: 6.7330 - val_loss: 0.0000e+00\n",
      "Epoch 2/10\n",
      "76/76 - 2s - loss: 4.2714 - val_loss: 4.2073\n",
      "Epoch 3/10\n",
      "76/76 - 2s - loss: 4.2050 - val_loss: 4.1834\n",
      "Epoch 4/10\n",
      "76/76 - 2s - loss: 4.1871 - val_loss: 4.1646\n",
      "Epoch 5/10\n",
      "76/76 - 2s - loss: 4.1588 - val_loss: 4.1142\n",
      "Epoch 6/10\n",
      "76/76 - 2s - loss: 4.0778 - val_loss: 4.0187\n",
      "Epoch 7/10\n",
      "76/76 - 2s - loss: 3.9711 - val_loss: 3.8658\n",
      "Epoch 8/10\n",
      "76/76 - 2s - loss: 3.7775 - val_loss: 3.6982\n",
      "Epoch 9/10\n",
      "76/76 - 2s - loss: 3.6705 - val_loss: 3.6290\n",
      "Epoch 10/10\n",
      "76/76 - 2s - loss: 3.6133 - val_loss: 3.5820\n",
      ">>>>> /home/aiffel-dj1/workspace/aiffel-exploration-workspace/E06_lyricist/models/layer_4/l_4_b_256_e_64_h_64.h5 created\n",
      "\n",
      "\n",
      ">>> [l_4_b_256_e_64_h_128] train start..\n",
      "Epoch 1/10\n",
      "76/76 - 6s - loss: 5.8137 - val_loss: 0.0000e+00\n",
      "Epoch 2/10\n",
      "76/76 - 3s - loss: 4.2777 - val_loss: 4.2107\n",
      "Epoch 3/10\n",
      "76/76 - 3s - loss: 4.2078 - val_loss: 4.1681\n",
      "Epoch 4/10\n",
      "76/76 - 3s - loss: 4.1527 - val_loss: 4.0821\n",
      "Epoch 5/10\n",
      "76/76 - 3s - loss: 4.0447 - val_loss: 3.9135\n",
      "Epoch 6/10\n",
      "76/76 - 3s - loss: 3.8065 - val_loss: 3.6727\n",
      "Epoch 7/10\n",
      "76/76 - 3s - loss: 3.6140 - val_loss: 3.5441\n",
      "Epoch 8/10\n",
      "76/76 - 3s - loss: 3.5347 - val_loss: 3.4938\n",
      "Epoch 9/10\n",
      "76/76 - 3s - loss: 3.4962 - val_loss: 3.4646\n",
      "Epoch 10/10\n",
      "76/76 - 3s - loss: 3.4700 - val_loss: 3.4427\n",
      ">>>>> /home/aiffel-dj1/workspace/aiffel-exploration-workspace/E06_lyricist/models/layer_4/l_4_b_256_e_64_h_128.h5 created\n",
      "\n",
      "\n",
      ">>> [l_4_b_256_e_64_h_256] train start..\n",
      "Epoch 1/10\n",
      "76/76 - 7s - loss: 5.2799 - val_loss: 0.0000e+00\n",
      "Epoch 2/10\n",
      "76/76 - 4s - loss: 4.2615 - val_loss: 4.1099\n",
      "Epoch 3/10\n",
      "76/76 - 4s - loss: 4.0071 - val_loss: 3.8758\n",
      "Epoch 4/10\n",
      "76/76 - 4s - loss: 3.8569 - val_loss: 3.7456\n",
      "Epoch 5/10\n",
      "76/76 - 4s - loss: 3.6764 - val_loss: 3.5371\n",
      "Epoch 6/10\n",
      "76/76 - 4s - loss: 3.5207 - val_loss: 3.4700\n",
      "Epoch 7/10\n",
      "76/76 - 4s - loss: 3.4805 - val_loss: 3.4384\n",
      "Epoch 8/10\n",
      "76/76 - 4s - loss: 3.4506 - val_loss: 3.4091\n",
      "Epoch 9/10\n",
      "76/76 - 4s - loss: 3.4188 - val_loss: 3.3754\n",
      "Epoch 10/10\n",
      "76/76 - 4s - loss: 3.3921 - val_loss: 3.3560\n",
      ">>>>> /home/aiffel-dj1/workspace/aiffel-exploration-workspace/E06_lyricist/models/layer_4/l_4_b_256_e_64_h_256.h5 created\n",
      "\n",
      "\n",
      ">>> [l_4_b_256_e_64_h_512] train start..\n",
      "Epoch 1/10\n",
      "76/76 - 8s - loss: 5.0401 - val_loss: 0.0000e+00\n",
      "Epoch 2/10\n",
      "76/76 - 6s - loss: 4.0058 - val_loss: 3.6435\n",
      "Epoch 3/10\n",
      "76/76 - 6s - loss: 3.5354 - val_loss: 3.4438\n",
      "Epoch 4/10\n",
      "76/76 - 6s - loss: 3.4403 - val_loss: 3.3761\n",
      "Epoch 5/10\n",
      "76/76 - 6s - loss: 3.3741 - val_loss: 3.3064\n",
      "Epoch 6/10\n",
      "76/76 - 6s - loss: 3.3136 - val_loss: 3.2578\n",
      "Epoch 7/10\n",
      "76/76 - 6s - loss: 3.2716 - val_loss: 3.2154\n",
      "Epoch 8/10\n",
      "76/76 - 6s - loss: 3.2298 - val_loss: 3.1765\n",
      "Epoch 9/10\n",
      "76/76 - 6s - loss: 3.1932 - val_loss: 3.1385\n",
      "Epoch 10/10\n",
      "76/76 - 6s - loss: 3.1530 - val_loss: 3.0965\n",
      ">>>>> /home/aiffel-dj1/workspace/aiffel-exploration-workspace/E06_lyricist/models/layer_4/l_4_b_256_e_64_h_512.h5 created\n",
      "\n",
      "\n",
      ">>> [l_4_b_256_e_64_h_1024] train start..\n",
      "Epoch 1/10\n",
      "76/76 - 15s - loss: 4.5828 - val_loss: 0.0000e+00\n",
      "Epoch 2/10\n",
      "76/76 - 12s - loss: 3.5276 - val_loss: 3.4124\n"
     ]
    },
    {
     "name": "stdout",
     "output_type": "stream",
     "text": [
      "Epoch 3/10\n",
      "76/76 - 12s - loss: 3.4000 - val_loss: 3.3356\n",
      "Epoch 4/10\n",
      "76/76 - 12s - loss: 3.3214 - val_loss: 3.2563\n",
      "Epoch 5/10\n",
      "76/76 - 12s - loss: 3.2584 - val_loss: 3.2016\n",
      "Epoch 6/10\n",
      "76/76 - 12s - loss: 3.2069 - val_loss: 3.1613\n",
      "Epoch 7/10\n",
      "76/76 - 12s - loss: 3.1645 - val_loss: 3.1049\n",
      "Epoch 8/10\n",
      "76/76 - 12s - loss: 3.1203 - val_loss: 3.0646\n",
      "Epoch 9/10\n",
      "76/76 - 12s - loss: 3.0815 - val_loss: 3.0239\n",
      "Epoch 10/10\n",
      "76/76 - 12s - loss: 3.0401 - val_loss: 2.9820\n",
      ">>>>> /home/aiffel-dj1/workspace/aiffel-exploration-workspace/E06_lyricist/models/layer_4/l_4_b_256_e_64_h_1024.h5 created\n",
      "\n",
      "\n",
      ">>> [l_4_b_256_e_128_h_32] train start..\n",
      "Epoch 1/10\n",
      "76/76 - 5s - loss: 7.8343 - val_loss: 0.0000e+00\n",
      "Epoch 2/10\n",
      "76/76 - 3s - loss: 4.7994 - val_loss: 4.2923\n",
      "Epoch 3/10\n",
      "76/76 - 3s - loss: 4.2366 - val_loss: 4.2010\n",
      "Epoch 4/10\n",
      "76/76 - 3s - loss: 4.1985 - val_loss: 4.1862\n",
      "Epoch 5/10\n",
      "76/76 - 3s - loss: 4.1874 - val_loss: 4.1783\n",
      "Epoch 6/10\n",
      "76/76 - 3s - loss: 4.1800 - val_loss: 4.1691\n",
      "Epoch 7/10\n",
      "76/76 - 3s - loss: 4.1751 - val_loss: 4.1633\n",
      "Epoch 8/10\n",
      "76/76 - 3s - loss: 4.1536 - val_loss: 4.1172\n",
      "Epoch 9/10\n",
      "76/76 - 3s - loss: 4.0178 - val_loss: 3.9123\n",
      "Epoch 10/10\n",
      "76/76 - 3s - loss: 3.8866 - val_loss: 3.8490\n",
      ">>>>> /home/aiffel-dj1/workspace/aiffel-exploration-workspace/E06_lyricist/models/layer_4/l_4_b_256_e_128_h_32.h5 created\n",
      "\n",
      "\n",
      ">>> [l_4_b_256_e_128_h_64] train start..\n",
      "Epoch 1/10\n",
      "76/76 - 7s - loss: 6.6539 - val_loss: 0.0000e+00\n",
      "Epoch 2/10\n",
      "76/76 - 3s - loss: 4.2367 - val_loss: 4.1934\n",
      "Epoch 3/10\n",
      "76/76 - 3s - loss: 4.1967 - val_loss: 4.1812\n",
      "Epoch 4/10\n",
      "76/76 - 3s - loss: 4.1791 - val_loss: 4.1506\n",
      "Epoch 5/10\n",
      "76/76 - 3s - loss: 4.1370 - val_loss: 4.0963\n",
      "Epoch 6/10\n",
      "76/76 - 3s - loss: 4.0327 - val_loss: 3.8700\n",
      "Epoch 7/10\n",
      "76/76 - 3s - loss: 3.7777 - val_loss: 3.6900\n",
      "Epoch 8/10\n",
      "76/76 - 3s - loss: 3.6602 - val_loss: 3.6115\n",
      "Epoch 9/10\n",
      "76/76 - 3s - loss: 3.5951 - val_loss: 3.5652\n",
      "Epoch 10/10\n",
      "76/76 - 3s - loss: 3.5537 - val_loss: 3.5229\n",
      ">>>>> /home/aiffel-dj1/workspace/aiffel-exploration-workspace/E06_lyricist/models/layer_4/l_4_b_256_e_128_h_64.h5 created\n",
      "\n",
      "\n",
      ">>> [l_4_b_256_e_128_h_128] train start..\n",
      "Epoch 1/10\n",
      "76/76 - 6s - loss: 5.7363 - val_loss: 0.0000e+00\n",
      "Epoch 2/10\n",
      "76/76 - 3s - loss: 4.2022 - val_loss: 4.1079\n",
      "Epoch 3/10\n",
      "76/76 - 3s - loss: 4.0558 - val_loss: 3.9553\n",
      "Epoch 4/10\n",
      "76/76 - 3s - loss: 3.9292 - val_loss: 3.8252\n",
      "Epoch 5/10\n",
      "76/76 - 3s - loss: 3.7666 - val_loss: 3.6728\n",
      "Epoch 6/10\n",
      "76/76 - 3s - loss: 3.6268 - val_loss: 3.5530\n",
      "Epoch 7/10\n",
      "76/76 - 3s - loss: 3.5420 - val_loss: 3.4976\n",
      "Epoch 8/10\n",
      "76/76 - 3s - loss: 3.4972 - val_loss: 3.4639\n",
      "Epoch 9/10\n",
      "76/76 - 3s - loss: 3.4663 - val_loss: 3.4388\n",
      "Epoch 10/10\n",
      "76/76 - 3s - loss: 3.4463 - val_loss: 3.4173\n",
      ">>>>> /home/aiffel-dj1/workspace/aiffel-exploration-workspace/E06_lyricist/models/layer_4/l_4_b_256_e_128_h_128.h5 created\n",
      "\n",
      "\n",
      ">>> [l_4_b_256_e_128_h_256] train start..\n",
      "Epoch 1/10\n",
      "76/76 - 9s - loss: 5.2406 - val_loss: 0.0000e+00\n",
      "Epoch 2/10\n",
      "76/76 - 4s - loss: 4.1701 - val_loss: 3.9794\n",
      "Epoch 3/10\n",
      "76/76 - 4s - loss: 3.9182 - val_loss: 3.7777\n",
      "Epoch 4/10\n",
      "76/76 - 4s - loss: 3.7117 - val_loss: 3.5641\n",
      "Epoch 5/10\n",
      "76/76 - 4s - loss: 3.5373 - val_loss: 3.4794\n",
      "Epoch 6/10\n",
      "76/76 - 4s - loss: 3.4868 - val_loss: 3.4443\n",
      "Epoch 7/10\n",
      "76/76 - 4s - loss: 3.4549 - val_loss: 3.4103\n",
      "Epoch 8/10\n",
      "76/76 - 4s - loss: 3.4239 - val_loss: 3.3797\n",
      "Epoch 9/10\n",
      "76/76 - 4s - loss: 3.3939 - val_loss: 3.3514\n",
      "Epoch 10/10\n",
      "76/76 - 4s - loss: 3.3717 - val_loss: 3.3323\n",
      ">>>>> /home/aiffel-dj1/workspace/aiffel-exploration-workspace/E06_lyricist/models/layer_4/l_4_b_256_e_128_h_256.h5 created\n",
      "\n",
      "\n",
      ">>> [l_4_b_256_e_128_h_512] train start..\n",
      "Epoch 1/10\n",
      "76/76 - 9s - loss: 4.9793 - val_loss: 0.0000e+00\n",
      "Epoch 2/10\n",
      "76/76 - 6s - loss: 4.0127 - val_loss: 3.8006\n",
      "Epoch 3/10\n",
      "76/76 - 6s - loss: 3.6102 - val_loss: 3.4669\n",
      "Epoch 4/10\n",
      "76/76 - 6s - loss: 3.4741 - val_loss: 3.4111\n",
      "Epoch 5/10\n",
      "76/76 - 6s - loss: 3.4180 - val_loss: 3.3485\n",
      "Epoch 6/10\n",
      "76/76 - 6s - loss: 3.3556 - val_loss: 3.2864\n",
      "Epoch 7/10\n",
      "76/76 - 6s - loss: 3.2918 - val_loss: 3.2281\n",
      "Epoch 8/10\n",
      "76/76 - 6s - loss: 3.2384 - val_loss: 3.1760\n",
      "Epoch 9/10\n",
      "76/76 - 6s - loss: 3.1908 - val_loss: 3.1356\n",
      "Epoch 10/10\n",
      "76/76 - 6s - loss: 3.1575 - val_loss: 3.1008\n",
      ">>>>> /home/aiffel-dj1/workspace/aiffel-exploration-workspace/E06_lyricist/models/layer_4/l_4_b_256_e_128_h_512.h5 created\n",
      "\n",
      "\n",
      ">>> [l_4_b_256_e_128_h_1024] train start..\n",
      "Epoch 1/10\n",
      "76/76 - 17s - loss: 4.5124 - val_loss: 0.0000e+00\n",
      "Epoch 2/10\n",
      "76/76 - 13s - loss: 3.4753 - val_loss: 3.3846\n",
      "Epoch 3/10\n",
      "76/76 - 13s - loss: 3.3682 - val_loss: 3.2957\n",
      "Epoch 4/10\n",
      "76/76 - 13s - loss: 3.2869 - val_loss: 3.2181\n",
      "Epoch 5/10\n",
      "76/76 - 13s - loss: 3.2238 - val_loss: 3.1601\n",
      "Epoch 6/10\n",
      "76/76 - 13s - loss: 3.1709 - val_loss: 3.1055\n",
      "Epoch 7/10\n",
      "76/76 - 13s - loss: 3.1193 - val_loss: 3.0524\n",
      "Epoch 8/10\n",
      "76/76 - 13s - loss: 3.0636 - val_loss: 3.0034\n",
      "Epoch 9/10\n",
      "76/76 - 13s - loss: 3.0174 - val_loss: 2.9541\n",
      "Epoch 10/10\n",
      "76/76 - 13s - loss: 2.9769 - val_loss: 2.9149\n",
      ">>>>> /home/aiffel-dj1/workspace/aiffel-exploration-workspace/E06_lyricist/models/layer_4/l_4_b_256_e_128_h_1024.h5 created\n",
      "\n",
      "\n",
      ">>> [l_4_b_256_e_256_h_32] train start..\n",
      "Epoch 1/10\n",
      "76/76 - 6s - loss: 7.8133 - val_loss: 0.0000e+00\n",
      "Epoch 2/10\n",
      "76/76 - 4s - loss: 4.8350 - val_loss: 4.3044\n",
      "Epoch 3/10\n",
      "76/76 - 4s - loss: 4.2410 - val_loss: 4.2006\n",
      "Epoch 4/10\n",
      "76/76 - 4s - loss: 4.1984 - val_loss: 4.1869\n",
      "Epoch 5/10\n",
      "76/76 - 4s - loss: 4.1866 - val_loss: 4.1742\n",
      "Epoch 6/10\n",
      "76/76 - 4s - loss: 4.1744 - val_loss: 4.1660\n",
      "Epoch 7/10\n",
      "76/76 - 4s - loss: 4.1708 - val_loss: 4.1570\n",
      "Epoch 8/10\n",
      "76/76 - 4s - loss: 4.1410 - val_loss: 4.1009\n",
      "Epoch 9/10\n",
      "76/76 - 4s - loss: 4.0204 - val_loss: 3.9097\n",
      "Epoch 10/10\n",
      "76/76 - 4s - loss: 3.8341 - val_loss: 3.7481\n",
      ">>>>> /home/aiffel-dj1/workspace/aiffel-exploration-workspace/E06_lyricist/models/layer_4/l_4_b_256_e_256_h_32.h5 created\n",
      "\n",
      "\n",
      ">>> [l_4_b_256_e_256_h_64] train start..\n",
      "Epoch 1/10\n",
      "76/76 - 6s - loss: 6.6155 - val_loss: 0.0000e+00\n",
      "Epoch 2/10\n",
      "76/76 - 4s - loss: 4.2255 - val_loss: 4.1900\n",
      "Epoch 3/10\n",
      "76/76 - 4s - loss: 4.1960 - val_loss: 4.1777\n",
      "Epoch 4/10\n",
      "76/76 - 4s - loss: 4.1538 - val_loss: 4.0827\n",
      "Epoch 5/10\n",
      "76/76 - 4s - loss: 4.0013 - val_loss: 3.8672\n",
      "Epoch 6/10\n",
      "76/76 - 4s - loss: 3.8018 - val_loss: 3.7319\n",
      "Epoch 7/10\n",
      "76/76 - 4s - loss: 3.6914 - val_loss: 3.6369\n",
      "Epoch 8/10\n",
      "76/76 - 4s - loss: 3.6219 - val_loss: 3.5893\n",
      "Epoch 9/10\n",
      "76/76 - 4s - loss: 3.5785 - val_loss: 3.5447\n",
      "Epoch 10/10\n",
      "76/76 - 4s - loss: 3.5360 - val_loss: 3.5080\n",
      ">>>>> /home/aiffel-dj1/workspace/aiffel-exploration-workspace/E06_lyricist/models/layer_4/l_4_b_256_e_256_h_64.h5 created\n",
      "\n",
      "\n",
      ">>> [l_4_b_256_e_256_h_128] train start..\n",
      "Epoch 1/10\n",
      "76/76 - 7s - loss: 5.6963 - val_loss: 0.0000e+00\n",
      "Epoch 2/10\n",
      "76/76 - 4s - loss: 4.1952 - val_loss: 4.1232\n",
      "Epoch 3/10\n",
      "76/76 - 4s - loss: 4.0761 - val_loss: 3.9792\n",
      "Epoch 4/10\n",
      "76/76 - 4s - loss: 3.9246 - val_loss: 3.7787\n",
      "Epoch 5/10\n",
      "76/76 - 4s - loss: 3.6985 - val_loss: 3.6011\n",
      "Epoch 6/10\n",
      "76/76 - 4s - loss: 3.5844 - val_loss: 3.5323\n",
      "Epoch 7/10\n",
      "76/76 - 4s - loss: 3.5286 - val_loss: 3.4915\n",
      "Epoch 8/10\n",
      "76/76 - 4s - loss: 3.4949 - val_loss: 3.4609\n",
      "Epoch 9/10\n",
      "76/76 - 4s - loss: 3.4676 - val_loss: 3.4370\n",
      "Epoch 10/10\n",
      "76/76 - 4s - loss: 3.4464 - val_loss: 3.4160\n",
      ">>>>> /home/aiffel-dj1/workspace/aiffel-exploration-workspace/E06_lyricist/models/layer_4/l_4_b_256_e_256_h_128.h5 created\n",
      "\n",
      "\n",
      ">>> [l_4_b_256_e_256_h_256] train start..\n",
      "Epoch 1/10\n",
      "76/76 - 7s - loss: 5.1699 - val_loss: 0.0000e+00\n",
      "Epoch 2/10\n",
      "76/76 - 5s - loss: 4.1626 - val_loss: 3.9756\n",
      "Epoch 3/10\n",
      "76/76 - 5s - loss: 3.8889 - val_loss: 3.7358\n",
      "Epoch 4/10\n",
      "76/76 - 5s - loss: 3.6409 - val_loss: 3.5362\n",
      "Epoch 5/10\n",
      "76/76 - 5s - loss: 3.5364 - val_loss: 3.4857\n",
      "Epoch 6/10\n",
      "76/76 - 5s - loss: 3.4989 - val_loss: 3.4559\n",
      "Epoch 7/10\n",
      "76/76 - 5s - loss: 3.4693 - val_loss: 3.4247\n",
      "Epoch 8/10\n",
      "76/76 - 5s - loss: 3.4393 - val_loss: 3.3963\n",
      "Epoch 9/10\n",
      "76/76 - 5s - loss: 3.4113 - val_loss: 3.3706\n",
      "Epoch 10/10\n",
      "76/76 - 5s - loss: 3.3866 - val_loss: 3.3508\n",
      ">>>>> /home/aiffel-dj1/workspace/aiffel-exploration-workspace/E06_lyricist/models/layer_4/l_4_b_256_e_256_h_256.h5 created\n",
      "\n",
      "\n",
      ">>> [l_4_b_256_e_256_h_512] train start..\n",
      "Epoch 1/10\n",
      "76/76 - 10s - loss: 4.9296 - val_loss: 0.0000e+00\n",
      "Epoch 2/10\n",
      "76/76 - 7s - loss: 3.9312 - val_loss: 3.6537\n",
      "Epoch 3/10\n",
      "76/76 - 7s - loss: 3.5612 - val_loss: 3.4755\n",
      "Epoch 4/10\n",
      "76/76 - 7s - loss: 3.4793 - val_loss: 3.4286\n",
      "Epoch 5/10\n",
      "76/76 - 7s - loss: 3.4369 - val_loss: 3.3827\n"
     ]
    },
    {
     "name": "stdout",
     "output_type": "stream",
     "text": [
      "Epoch 6/10\n",
      "76/76 - 7s - loss: 3.3888 - val_loss: 3.3359\n",
      "Epoch 7/10\n",
      "76/76 - 7s - loss: 3.3503 - val_loss: 3.2985\n",
      "Epoch 8/10\n",
      "76/76 - 7s - loss: 3.3167 - val_loss: 3.2670\n",
      "Epoch 9/10\n",
      "76/76 - 7s - loss: 3.2843 - val_loss: 3.2335\n",
      "Epoch 10/10\n",
      "76/76 - 7s - loss: 3.2523 - val_loss: 3.1968\n",
      ">>>>> /home/aiffel-dj1/workspace/aiffel-exploration-workspace/E06_lyricist/models/layer_4/l_4_b_256_e_256_h_512.h5 created\n",
      "\n",
      "\n",
      ">>> [l_4_b_256_e_256_h_1024] train start..\n",
      "Epoch 1/10\n",
      "76/76 - 18s - loss: 4.5741 - val_loss: 0.0000e+00\n",
      "Epoch 2/10\n",
      "76/76 - 14s - loss: 3.5375 - val_loss: 3.4033\n",
      "Epoch 3/10\n",
      "76/76 - 14s - loss: 3.3874 - val_loss: 3.3107\n",
      "Epoch 4/10\n",
      "76/76 - 14s - loss: 3.3020 - val_loss: 3.2302\n",
      "Epoch 5/10\n",
      "76/76 - 14s - loss: 3.2347 - val_loss: 3.1732\n",
      "Epoch 6/10\n",
      "76/76 - 14s - loss: 3.1781 - val_loss: 3.1152\n",
      "Epoch 7/10\n",
      "76/76 - 14s - loss: 3.1219 - val_loss: 3.0533\n",
      "Epoch 8/10\n",
      "76/76 - 14s - loss: 3.0600 - val_loss: 2.9868\n",
      "Epoch 9/10\n",
      "76/76 - 14s - loss: 2.9997 - val_loss: 2.9303\n",
      "Epoch 10/10\n",
      "76/76 - 14s - loss: 2.9474 - val_loss: 2.8807\n",
      ">>>>> /home/aiffel-dj1/workspace/aiffel-exploration-workspace/E06_lyricist/models/layer_4/l_4_b_256_e_256_h_1024.h5 created\n",
      "\n",
      "\n",
      ">>> [l_4_b_256_e_512_h_32] train start..\n",
      "Epoch 1/10\n",
      "76/76 - 8s - loss: 7.7502 - val_loss: 0.0000e+00\n",
      "Epoch 2/10\n",
      "76/76 - 5s - loss: 4.8687 - val_loss: 4.3221\n",
      "Epoch 3/10\n",
      "76/76 - 5s - loss: 4.2435 - val_loss: 4.2018\n",
      "Epoch 4/10\n",
      "76/76 - 6s - loss: 4.1984 - val_loss: 4.1846\n",
      "Epoch 5/10\n",
      "76/76 - 6s - loss: 4.1839 - val_loss: 4.1712\n",
      "Epoch 6/10\n",
      "76/76 - 6s - loss: 4.1727 - val_loss: 4.1562\n",
      "Epoch 7/10\n",
      "76/76 - 6s - loss: 4.1341 - val_loss: 4.0841\n",
      "Epoch 8/10\n",
      "76/76 - 6s - loss: 3.9691 - val_loss: 3.8767\n",
      "Epoch 9/10\n",
      "76/76 - 6s - loss: 3.8128 - val_loss: 3.7400\n",
      "Epoch 10/10\n",
      "76/76 - 6s - loss: 3.6886 - val_loss: 3.6306\n",
      ">>>>> /home/aiffel-dj1/workspace/aiffel-exploration-workspace/E06_lyricist/models/layer_4/l_4_b_256_e_512_h_32.h5 created\n",
      "\n",
      "\n",
      ">>> [l_4_b_256_e_512_h_64] train start..\n",
      "Epoch 1/10\n",
      "76/76 - 8s - loss: 6.5674 - val_loss: 0.0000e+00\n",
      "Epoch 2/10\n",
      "76/76 - 6s - loss: 4.2223 - val_loss: 4.1891\n",
      "Epoch 3/10\n",
      "76/76 - 6s - loss: 4.1932 - val_loss: 4.1701\n",
      "Epoch 4/10\n",
      "76/76 - 6s - loss: 4.1700 - val_loss: 4.1493\n",
      "Epoch 5/10\n",
      "76/76 - 6s - loss: 4.1277 - val_loss: 3.9984\n",
      "Epoch 6/10\n",
      "76/76 - 6s - loss: 3.8813 - val_loss: 3.7600\n",
      "Epoch 7/10\n",
      "76/76 - 6s - loss: 3.7075 - val_loss: 3.6459\n",
      "Epoch 8/10\n",
      "76/76 - 6s - loss: 3.6269 - val_loss: 3.5910\n",
      "Epoch 9/10\n",
      "76/76 - 5s - loss: 3.5785 - val_loss: 3.5519\n",
      "Epoch 10/10\n",
      "76/76 - 5s - loss: 3.5481 - val_loss: 3.5245\n",
      ">>>>> /home/aiffel-dj1/workspace/aiffel-exploration-workspace/E06_lyricist/models/layer_4/l_4_b_256_e_512_h_64.h5 created\n",
      "\n",
      "\n",
      ">>> [l_4_b_256_e_512_h_128] train start..\n",
      "Epoch 1/10\n",
      "76/76 - 8s - loss: 5.5942 - val_loss: 0.0000e+00\n",
      "Epoch 2/10\n",
      "76/76 - 6s - loss: 4.1573 - val_loss: 4.0793\n",
      "Epoch 3/10\n",
      "76/76 - 6s - loss: 4.0247 - val_loss: 3.8930\n",
      "Epoch 4/10\n",
      "76/76 - 5s - loss: 3.7962 - val_loss: 3.6696\n",
      "Epoch 5/10\n",
      "76/76 - 6s - loss: 3.6321 - val_loss: 3.5746\n",
      "Epoch 6/10\n",
      "76/76 - 6s - loss: 3.5605 - val_loss: 3.5185\n",
      "Epoch 7/10\n",
      "76/76 - 6s - loss: 3.5122 - val_loss: 3.4784\n",
      "Epoch 8/10\n",
      "76/76 - 6s - loss: 3.4810 - val_loss: 3.4501\n",
      "Epoch 9/10\n",
      "76/76 - 6s - loss: 3.4541 - val_loss: 3.4253\n",
      "Epoch 10/10\n",
      "76/76 - 6s - loss: 3.4312 - val_loss: 3.4006\n",
      ">>>>> /home/aiffel-dj1/workspace/aiffel-exploration-workspace/E06_lyricist/models/layer_4/l_4_b_256_e_512_h_128.h5 created\n",
      "\n",
      "\n",
      ">>> [l_4_b_256_e_512_h_256] train start..\n",
      "Epoch 1/10\n",
      "76/76 - 9s - loss: 5.0805 - val_loss: 0.0000e+00\n",
      "Epoch 2/10\n",
      "76/76 - 6s - loss: 4.0128 - val_loss: 3.8620\n",
      "Epoch 3/10\n",
      "76/76 - 6s - loss: 3.7328 - val_loss: 3.5762\n",
      "Epoch 4/10\n",
      "76/76 - 6s - loss: 3.5563 - val_loss: 3.4964\n",
      "Epoch 5/10\n",
      "76/76 - 6s - loss: 3.5017 - val_loss: 3.4579\n",
      "Epoch 6/10\n",
      "76/76 - 6s - loss: 3.4684 - val_loss: 3.4216\n",
      "Epoch 7/10\n",
      "76/76 - 6s - loss: 3.4363 - val_loss: 3.3917\n",
      "Epoch 8/10\n",
      "76/76 - 6s - loss: 3.4061 - val_loss: 3.3640\n",
      "Epoch 9/10\n",
      "76/76 - 6s - loss: 3.3816 - val_loss: 3.3451\n",
      "Epoch 10/10\n",
      "76/76 - 6s - loss: 3.3645 - val_loss: 3.3241\n",
      ">>>>> /home/aiffel-dj1/workspace/aiffel-exploration-workspace/E06_lyricist/models/layer_4/l_4_b_256_e_512_h_256.h5 created\n",
      "\n",
      "\n",
      ">>> [l_4_b_256_e_512_h_512] train start..\n",
      "Epoch 1/10\n",
      "76/76 - 11s - loss: 4.8308 - val_loss: 0.0000e+00\n",
      "Epoch 2/10\n",
      "76/76 - 8s - loss: 3.8338 - val_loss: 3.6018\n",
      "Epoch 3/10\n",
      "76/76 - 8s - loss: 3.5505 - val_loss: 3.4745\n",
      "Epoch 4/10\n",
      "76/76 - 9s - loss: 3.4858 - val_loss: 3.4322\n",
      "Epoch 5/10\n",
      "76/76 - 9s - loss: 3.4351 - val_loss: 3.3752\n",
      "Epoch 6/10\n",
      "76/76 - 9s - loss: 3.3909 - val_loss: 3.3304\n",
      "Epoch 7/10\n",
      "76/76 - 9s - loss: 3.3520 - val_loss: 3.2969\n",
      "Epoch 8/10\n",
      "76/76 - 8s - loss: 3.3163 - val_loss: 3.2650\n",
      "Epoch 9/10\n",
      "76/76 - 9s - loss: 3.2828 - val_loss: 3.2287\n",
      "Epoch 10/10\n",
      "76/76 - 9s - loss: 3.2435 - val_loss: 3.1837\n",
      ">>>>> /home/aiffel-dj1/workspace/aiffel-exploration-workspace/E06_lyricist/models/layer_4/l_4_b_256_e_512_h_512.h5 created\n",
      "\n",
      "\n",
      ">>> [l_4_b_256_e_512_h_1024] train start..\n",
      "Epoch 1/10\n",
      "76/76 - 21s - loss: 4.3312 - val_loss: 0.0000e+00\n",
      "Epoch 2/10\n",
      "76/76 - 17s - loss: 3.4383 - val_loss: 3.3494\n",
      "Epoch 3/10\n",
      "76/76 - 16s - loss: 3.3333 - val_loss: 3.2531\n",
      "Epoch 4/10\n",
      "76/76 - 16s - loss: 3.2471 - val_loss: 3.1714\n",
      "Epoch 5/10\n",
      "76/76 - 16s - loss: 3.1635 - val_loss: 3.0835\n",
      "Epoch 6/10\n",
      "76/76 - 16s - loss: 3.0885 - val_loss: 3.0151\n",
      "Epoch 7/10\n",
      "76/76 - 16s - loss: 3.0266 - val_loss: 2.9578\n",
      "Epoch 8/10\n",
      "76/76 - 16s - loss: 2.9735 - val_loss: 2.9044\n",
      "Epoch 9/10\n",
      "76/76 - 16s - loss: 2.9248 - val_loss: 2.8525\n",
      "Epoch 10/10\n",
      "76/76 - 16s - loss: 2.8777 - val_loss: 2.8071\n",
      ">>>>> /home/aiffel-dj1/workspace/aiffel-exploration-workspace/E06_lyricist/models/layer_4/l_4_b_256_e_512_h_1024.h5 created\n",
      "\n",
      "\n",
      ">>> [l_4_b_256_e_1024_h_32] train start..\n",
      "Epoch 1/10\n",
      "76/76 - 15s - loss: 7.6864 - val_loss: 0.0000e+00\n",
      "Epoch 2/10\n",
      "76/76 - 12s - loss: 4.8811 - val_loss: 4.3330\n",
      "Epoch 3/10\n",
      "76/76 - 12s - loss: 4.2497 - val_loss: 4.2046\n",
      "Epoch 4/10\n",
      "76/76 - 12s - loss: 4.2021 - val_loss: 4.1847\n",
      "Epoch 5/10\n",
      "76/76 - 12s - loss: 4.1815 - val_loss: 4.1661\n",
      "Epoch 6/10\n",
      "76/76 - 12s - loss: 4.0789 - val_loss: 3.9305\n",
      "Epoch 7/10\n",
      "76/76 - 12s - loss: 3.8469 - val_loss: 3.7560\n",
      "Epoch 8/10\n",
      "76/76 - 12s - loss: 3.7000 - val_loss: 3.6347\n",
      "Epoch 9/10\n",
      "76/76 - 12s - loss: 3.5986 - val_loss: 3.5498\n",
      "Epoch 10/10\n",
      "76/76 - 12s - loss: 3.5235 - val_loss: 3.4818\n",
      ">>>>> /home/aiffel-dj1/workspace/aiffel-exploration-workspace/E06_lyricist/models/layer_4/l_4_b_256_e_1024_h_32.h5 created\n",
      "\n",
      "\n",
      ">>> [l_4_b_256_e_1024_h_64] train start..\n",
      "Epoch 1/10\n",
      "76/76 - 14s - loss: 6.5090 - val_loss: 0.0000e+00\n",
      "Epoch 2/10\n",
      "76/76 - 12s - loss: 4.2244 - val_loss: 4.1896\n",
      "Epoch 3/10\n",
      "76/76 - 12s - loss: 4.1932 - val_loss: 4.1761\n",
      "Epoch 4/10\n",
      "76/76 - 12s - loss: 4.1806 - val_loss: 4.1518\n",
      "Epoch 5/10\n",
      "76/76 - 12s - loss: 4.1106 - val_loss: 4.0008\n",
      "Epoch 6/10\n",
      "76/76 - 12s - loss: 3.8764 - val_loss: 3.7396\n",
      "Epoch 7/10\n",
      "76/76 - 12s - loss: 3.6561 - val_loss: 3.5618\n",
      "Epoch 8/10\n",
      "76/76 - 12s - loss: 3.5139 - val_loss: 3.4545\n",
      "Epoch 9/10\n",
      "76/76 - 12s - loss: 3.4297 - val_loss: 3.3830\n",
      "Epoch 10/10\n",
      "76/76 - 12s - loss: 3.3688 - val_loss: 3.3285\n",
      ">>>>> /home/aiffel-dj1/workspace/aiffel-exploration-workspace/E06_lyricist/models/layer_4/l_4_b_256_e_1024_h_64.h5 created\n",
      "\n",
      "\n",
      ">>> [l_4_b_256_e_1024_h_128] train start..\n",
      "Epoch 1/10\n",
      "76/76 - 15s - loss: 5.5198 - val_loss: 0.0000e+00\n",
      "Epoch 2/10\n",
      "76/76 - 13s - loss: 4.1950 - val_loss: 4.1501\n",
      "Epoch 3/10\n",
      "76/76 - 13s - loss: 4.0784 - val_loss: 3.9349\n",
      "Epoch 4/10\n",
      "76/76 - 13s - loss: 3.8068 - val_loss: 3.6633\n",
      "Epoch 5/10\n",
      "76/76 - 13s - loss: 3.6262 - val_loss: 3.5758\n",
      "Epoch 6/10\n",
      "76/76 - 13s - loss: 3.5610 - val_loss: 3.5155\n",
      "Epoch 7/10\n",
      "76/76 - 13s - loss: 3.5086 - val_loss: 3.4714\n",
      "Epoch 8/10\n",
      "76/76 - 13s - loss: 3.4744 - val_loss: 3.4401\n",
      "Epoch 9/10\n",
      "76/76 - 13s - loss: 3.4447 - val_loss: 3.4145\n",
      "Epoch 10/10\n",
      "76/76 - 13s - loss: 3.4193 - val_loss: 3.3915\n",
      ">>>>> /home/aiffel-dj1/workspace/aiffel-exploration-workspace/E06_lyricist/models/layer_4/l_4_b_256_e_1024_h_128.h5 created\n",
      "\n",
      "\n",
      ">>> [l_4_b_256_e_1024_h_256] train start..\n",
      "Epoch 1/10\n",
      "76/76 - 16s - loss: 5.0090 - val_loss: 0.0000e+00\n",
      "Epoch 2/10\n",
      "76/76 - 14s - loss: 3.9889 - val_loss: 3.7951\n",
      "Epoch 3/10\n",
      "76/76 - 14s - loss: 3.6933 - val_loss: 3.5638\n",
      "Epoch 4/10\n",
      "76/76 - 14s - loss: 3.5540 - val_loss: 3.4987\n",
      "Epoch 5/10\n",
      "76/76 - 14s - loss: 3.5089 - val_loss: 3.4549\n",
      "Epoch 6/10\n",
      "76/76 - 13s - loss: 3.4632 - val_loss: 3.4161\n",
      "Epoch 7/10\n",
      "76/76 - 13s - loss: 3.4272 - val_loss: 3.3807\n"
     ]
    },
    {
     "name": "stdout",
     "output_type": "stream",
     "text": [
      "Epoch 8/10\n",
      "76/76 - 13s - loss: 3.3942 - val_loss: 3.3564\n",
      "Epoch 9/10\n",
      "76/76 - 13s - loss: 3.3767 - val_loss: 3.3376\n",
      "Epoch 10/10\n",
      "76/76 - 13s - loss: 3.3549 - val_loss: 3.3206\n",
      ">>>>> /home/aiffel-dj1/workspace/aiffel-exploration-workspace/E06_lyricist/models/layer_4/l_4_b_256_e_1024_h_256.h5 created\n",
      "\n",
      "\n",
      ">>> [l_4_b_256_e_1024_h_512] train start..\n",
      "Epoch 1/10\n",
      "76/76 - 17s - loss: 4.7291 - val_loss: 0.0000e+00\n",
      "Epoch 2/10\n",
      "76/76 - 15s - loss: 3.7499 - val_loss: 3.5399\n",
      "Epoch 3/10\n",
      "76/76 - 15s - loss: 3.5272 - val_loss: 3.4604\n",
      "Epoch 4/10\n",
      "76/76 - 15s - loss: 3.4720 - val_loss: 3.4105\n",
      "Epoch 5/10\n",
      "76/76 - 14s - loss: 3.4248 - val_loss: 3.3656\n",
      "Epoch 6/10\n",
      "76/76 - 15s - loss: 3.3856 - val_loss: 3.3289\n",
      "Epoch 7/10\n",
      "76/76 - 16s - loss: 3.3528 - val_loss: 3.2978\n",
      "Epoch 8/10\n",
      "76/76 - 15s - loss: 3.3206 - val_loss: 3.2628\n",
      "Epoch 9/10\n",
      "76/76 - 16s - loss: 3.2731 - val_loss: 3.2038\n",
      "Epoch 10/10\n",
      "76/76 - 15s - loss: 3.2123 - val_loss: 3.1441\n",
      ">>>>> /home/aiffel-dj1/workspace/aiffel-exploration-workspace/E06_lyricist/models/layer_4/l_4_b_256_e_1024_h_512.h5 created\n",
      "\n",
      "\n",
      ">>> [l_4_b_256_e_1024_h_1024] train start..\n",
      "Epoch 1/10\n",
      "76/76 - 25s - loss: 4.2813 - val_loss: 0.0000e+00\n",
      "Epoch 2/10\n",
      "76/76 - 23s - loss: 3.4325 - val_loss: 3.3419\n",
      "Epoch 3/10\n",
      "76/76 - 22s - loss: 3.3183 - val_loss: 3.2195\n",
      "Epoch 4/10\n",
      "76/76 - 23s - loss: 3.2032 - val_loss: 3.1177\n",
      "Epoch 5/10\n",
      "76/76 - 23s - loss: 3.1170 - val_loss: 3.0398\n",
      "Epoch 6/10\n",
      "76/76 - 23s - loss: 3.0458 - val_loss: 2.9727\n",
      "Epoch 7/10\n",
      "76/76 - 23s - loss: 2.9788 - val_loss: 2.8961\n",
      "Epoch 8/10\n",
      "76/76 - 23s - loss: 2.9137 - val_loss: 2.8348\n",
      "Epoch 9/10\n",
      "76/76 - 23s - loss: 2.8540 - val_loss: 2.7716\n",
      "Epoch 10/10\n",
      "76/76 - 23s - loss: 2.7958 - val_loss: 2.7145\n",
      ">>>>> /home/aiffel-dj1/workspace/aiffel-exploration-workspace/E06_lyricist/models/layer_4/l_4_b_256_e_1024_h_1024.h5 created\n",
      "\n",
      "\n",
      "time: 45min 48s (started: 2021-02-02 02:11:03 +09:00)\n"
     ]
    }
   ],
   "source": [
    "histoires = []\n",
    "for i, model in enumerate(layer_4_models):\n",
    "    model_path = get_model_path(4, hyper_parms[i])\n",
    "    print(f'>>> [{get_model_name(4, hyper_parms[i])}] train start..')\n",
    "    history = train_and_save_model(model, model_path, test_dataset, 10)\n",
    "    histoires.append(history)\n",
    "    print(f'>>>>> {model_path} created\\n\\n')"
   ]
  },
  {
   "cell_type": "markdown",
   "id": "exempt-advertiser",
   "metadata": {},
   "source": [
    "- 해당 작업을 반복하기에는 너무 고통스럽기 때문에 histories를 `/home/aiffel-dj1/workspace/aiffel-exploration-workspace/E06_lyricist/models/layer_4/history.plk`에 저장하도록 한다."
   ]
  },
  {
   "cell_type": "code",
   "execution_count": 40,
   "id": "suffering-spectrum",
   "metadata": {},
   "outputs": [
    {
     "name": "stdout",
     "output_type": "stream",
     "text": [
      "time: 1.27 ms (started: 2021-02-02 17:38:14 +09:00)\n"
     ]
    }
   ],
   "source": [
    "history_dict = {}\n",
    "for i, h in  enumerate(histories): history_dict[get_model_name(4, hyper_parms[i])] = h"
   ]
  },
  {
   "cell_type": "code",
   "execution_count": 41,
   "id": "western-syria",
   "metadata": {},
   "outputs": [
    {
     "name": "stdout",
     "output_type": "stream",
     "text": [
      "time: 2.83 ms (started: 2021-02-02 17:38:22 +09:00)\n"
     ]
    }
   ],
   "source": [
    "import pickle\n",
    "layer_4_history_path = '/home/aiffel-dj1/workspace/aiffel-exploration-workspace/E06_lyricist/models/layer_4/history.plk'\n",
    "with open(layer_4_history_path,'wb') as fw: pickle.dump(history_dict, fw)"
   ]
  },
  {
   "cell_type": "markdown",
   "id": "complex-biography",
   "metadata": {},
   "source": [
    "### 모델평가 "
   ]
  },
  {
   "cell_type": "markdown",
   "id": "pacific-affiliation",
   "metadata": {},
   "source": [
    "- loss / val_loss\n",
    "    - `model.fit`을 활용하여 학습을 할 당시, `train_dataset`에 대한 `loss`와 `test_dataset`을 이용하여 val_loss를 함께 측정하였다. 이 데이터들을 이용하여 아래와 같은 사항들을 확인하고자 한다.\n",
    "    - 학습이 적절하게 이루어졌는지(=overfitting이 발생하지 않았는지)를 확인\n",
    "    - 설계한 모델에서 가장 적합한 하이퍼 파라미터를 확인"
   ]
  },
  {
   "cell_type": "markdown",
   "id": "applied-animal",
   "metadata": {},
   "source": [
    "#### loss / val_loss 시각화"
   ]
  },
  {
   "cell_type": "code",
   "execution_count": 18,
   "id": "allied-healing",
   "metadata": {},
   "outputs": [
    {
     "name": "stdout",
     "output_type": "stream",
     "text": [
      "time: 12.1 ms (started: 2021-02-02 20:56:49 +09:00)\n"
     ]
    }
   ],
   "source": [
    "import pickle\n",
    "\n",
    "layer_4_history_path = '/home/aiffel-dj1/workspace/aiffel-exploration-workspace/E06_lyricist/models/layer_4/history.plk'\n",
    "with open(layer_4_history_path, 'rb') as fr: histories = pickle.load(fr)"
   ]
  },
  {
   "cell_type": "code",
   "execution_count": 19,
   "id": "democratic-disability",
   "metadata": {},
   "outputs": [
    {
     "name": "stderr",
     "output_type": "stream",
     "text": [
      "/home/aiffel-dj1/anaconda3/envs/aiffel/lib/python3.7/site-packages/ipykernel_launcher.py:20: UserWarning: Matplotlib is currently using module://ipykernel.pylab.backend_inline, which is a non-GUI backend, so cannot show the figure.\n"
     ]
    },
    {
     "data": {
      "image/png": "[encoded data removed]",
      "text/plain": [
       "<Figure size 1800x1800 with 36 Axes>"
      ]
     },
     "metadata": {
      "needs_background": "light"
     },
     "output_type": "display_data"
    },
    {
     "name": "stdout",
     "output_type": "stream",
     "text": [
      "time: 6.32 s (started: 2021-02-02 20:56:49 +09:00)\n"
     ]
    }
   ],
   "source": [
    "import matplotlib.pyplot as plt\n",
    "import numpy as np\n",
    "\n",
    "figure, axes = plt.subplots(6, 6, sharex=True, figsize=(25,25))\n",
    "\n",
    "x = range(1,11)\n",
    "i = 0; j = 0\n",
    "for name, history in histories.items():\n",
    "    rgb = np.random.rand(3)\n",
    "    axes[i][j].plot(x, history['loss'], c=rgb, marker='o', linestyle='', label='Training loss')\n",
    "    axes[i][j].plot(x, history['val_loss'], c=rgb, label='Validation loss')\n",
    "    axes[i][j].set_xlabel('Epochs')\n",
    "    axes[i][j].set_ylabel('Loss')\n",
    "    axes[i][j].set_title(name)\n",
    "    axes[i][j].legend()\n",
    "    if j == 5: i += 1; j = 0;\n",
    "    else : j += 1\n",
    "        \n",
    "figure.suptitle('Training and validation loss', size=25)\n",
    "figure.show()"
   ]
  },
  {
   "cell_type": "markdown",
   "id": "treated-commissioner",
   "metadata": {},
   "source": [
    "- 그래프 분석\n",
    "    - 그래프를 통하여 학습을 진행함에 따라 Training loss와 Validation loss가 어떻게 변화하는지 확인해 보았다.\n",
    "    - 학습이 진행됨에 따라 두 값은 같은 경향을 띄며 감소하였다.\n",
    "    - 비슷한 경향을 가지고 있으므로 overfitting은 발생하지 않았다고 볼 수 있다.\n",
    "    - 하지만 Training loss와 Validation loss 사이에 적절한 격차가 확인되지 않아 underfitting이 되지 않았다고 확신할 수 없다는 문제가 남았다."
   ]
  },
  {
   "cell_type": "markdown",
   "id": "refined-complexity",
   "metadata": {},
   "source": [
    "#### `val_loss`를 DataFrame로 출력\n",
    "- DataFrame info\n",
    "    - val_loss_df\n",
    "        - column : embedding size\n",
    "        - row : hidden size\n",
    "    - val_loss_df_t\n",
    "        - column : hidden size\n",
    "        - row : embedding size"
   ]
  },
  {
   "cell_type": "code",
   "execution_count": 21,
   "id": "protective-clinton",
   "metadata": {},
   "outputs": [
    {
     "name": "stdout",
     "output_type": "stream",
     "text": [
      "time: 888 µs (started: 2021-02-02 20:57:09 +09:00)\n"
     ]
    }
   ],
   "source": [
    "get_hidden_size = lambda name : name[name.index('h_')+2:]\n",
    "get_embedding_size = lambda name : name[name.index('e_')+2:name.index('_h')]"
   ]
  },
  {
   "cell_type": "code",
   "execution_count": 22,
   "id": "recognized-integrity",
   "metadata": {},
   "outputs": [
    {
     "name": "stdout",
     "output_type": "stream",
     "text": [
      "time: 3.03 ms (started: 2021-02-02 20:57:09 +09:00)\n"
     ]
    }
   ],
   "source": [
    "range_steps = range(len(steps))\n",
    "step_to_idx = {v:k for k, v in enumerate(steps)}\n",
    "data = [[ [] for _ in range_steps] for _ in range_steps]\n",
    "for key, val in histories.items():\n",
    "    e = get_embedding_size(key)\n",
    "    h = get_hidden_size(key)\n",
    "    data[step_to_idx[int(e)]][step_to_idx[int(h)]] = val['val_loss'][-1]"
   ]
  },
  {
   "cell_type": "code",
   "execution_count": 23,
   "id": "hybrid-collection",
   "metadata": {},
   "outputs": [
    {
     "data": {
      "text/html": [
       "<div>\n",
       "<style scoped>\n",
       "    .dataframe tbody tr th:only-of-type {\n",
       "        vertical-align: middle;\n",
       "    }\n",
       "\n",
       "    .dataframe tbody tr th {\n",
       "        vertical-align: top;\n",
       "    }\n",
       "\n",
       "    .dataframe thead th {\n",
       "        text-align: right;\n",
       "    }\n",
       "</style>\n",
       "<table border=\"1\" class=\"dataframe\">\n",
       "  <thead>\n",
       "    <tr style=\"text-align: right;\">\n",
       "      <th></th>\n",
       "      <th>32</th>\n",
       "      <th>64</th>\n",
       "      <th>128</th>\n",
       "      <th>256</th>\n",
       "      <th>512</th>\n",
       "      <th>1024</th>\n",
       "    </tr>\n",
       "  </thead>\n",
       "  <tbody>\n",
       "    <tr>\n",
       "      <th>32</th>\n",
       "      <td>3.312780</td>\n",
       "      <td>3.591350</td>\n",
       "      <td>3.439827</td>\n",
       "      <td>3.324306</td>\n",
       "      <td>3.159061</td>\n",
       "      <td>3.017227</td>\n",
       "    </tr>\n",
       "    <tr>\n",
       "      <th>64</th>\n",
       "      <td>3.891880</td>\n",
       "      <td>3.581951</td>\n",
       "      <td>3.442652</td>\n",
       "      <td>3.356036</td>\n",
       "      <td>3.096538</td>\n",
       "      <td>2.982009</td>\n",
       "    </tr>\n",
       "    <tr>\n",
       "      <th>128</th>\n",
       "      <td>3.849028</td>\n",
       "      <td>3.522862</td>\n",
       "      <td>3.417316</td>\n",
       "      <td>3.332269</td>\n",
       "      <td>3.100798</td>\n",
       "      <td>2.914856</td>\n",
       "    </tr>\n",
       "    <tr>\n",
       "      <th>256</th>\n",
       "      <td>3.748119</td>\n",
       "      <td>3.508020</td>\n",
       "      <td>3.415952</td>\n",
       "      <td>3.350815</td>\n",
       "      <td>3.196754</td>\n",
       "      <td>2.880734</td>\n",
       "    </tr>\n",
       "    <tr>\n",
       "      <th>512</th>\n",
       "      <td>3.630559</td>\n",
       "      <td>3.524484</td>\n",
       "      <td>3.400604</td>\n",
       "      <td>3.324108</td>\n",
       "      <td>3.183743</td>\n",
       "      <td>2.807100</td>\n",
       "    </tr>\n",
       "    <tr>\n",
       "      <th>1024</th>\n",
       "      <td>3.481770</td>\n",
       "      <td>3.328482</td>\n",
       "      <td>3.391522</td>\n",
       "      <td>3.320641</td>\n",
       "      <td>3.144148</td>\n",
       "      <td>2.714461</td>\n",
       "    </tr>\n",
       "  </tbody>\n",
       "</table>\n",
       "</div>"
      ],
      "text/plain": [
       "          32        64        128       256       512       1024\n",
       "32    3.312780  3.591350  3.439827  3.324306  3.159061  3.017227\n",
       "64    3.891880  3.581951  3.442652  3.356036  3.096538  2.982009\n",
       "128   3.849028  3.522862  3.417316  3.332269  3.100798  2.914856\n",
       "256   3.748119  3.508020  3.415952  3.350815  3.196754  2.880734\n",
       "512   3.630559  3.524484  3.400604  3.324108  3.183743  2.807100\n",
       "1024  3.481770  3.328482  3.391522  3.320641  3.144148  2.714461"
      ]
     },
     "execution_count": 23,
     "metadata": {},
     "output_type": "execute_result"
    },
    {
     "name": "stdout",
     "output_type": "stream",
     "text": [
      "time: 28.5 ms (started: 2021-02-02 20:57:10 +09:00)\n"
     ]
    }
   ],
   "source": [
    "import pandas as pd\n",
    "val_loss_df = pd.DataFrame(data=data, columns=steps, index=steps)\n",
    "val_loss_df"
   ]
  },
  {
   "cell_type": "code",
   "execution_count": 24,
   "id": "pediatric-breath",
   "metadata": {},
   "outputs": [
    {
     "data": {
      "text/html": [
       "<div>\n",
       "<style scoped>\n",
       "    .dataframe tbody tr th:only-of-type {\n",
       "        vertical-align: middle;\n",
       "    }\n",
       "\n",
       "    .dataframe tbody tr th {\n",
       "        vertical-align: top;\n",
       "    }\n",
       "\n",
       "    .dataframe thead th {\n",
       "        text-align: right;\n",
       "    }\n",
       "</style>\n",
       "<table border=\"1\" class=\"dataframe\">\n",
       "  <thead>\n",
       "    <tr style=\"text-align: right;\">\n",
       "      <th></th>\n",
       "      <th>32</th>\n",
       "      <th>64</th>\n",
       "      <th>128</th>\n",
       "      <th>256</th>\n",
       "      <th>512</th>\n",
       "      <th>1024</th>\n",
       "    </tr>\n",
       "  </thead>\n",
       "  <tbody>\n",
       "    <tr>\n",
       "      <th>32</th>\n",
       "      <td>3.312780</td>\n",
       "      <td>3.891880</td>\n",
       "      <td>3.849028</td>\n",
       "      <td>3.748119</td>\n",
       "      <td>3.630559</td>\n",
       "      <td>3.481770</td>\n",
       "    </tr>\n",
       "    <tr>\n",
       "      <th>64</th>\n",
       "      <td>3.591350</td>\n",
       "      <td>3.581951</td>\n",
       "      <td>3.522862</td>\n",
       "      <td>3.508020</td>\n",
       "      <td>3.524484</td>\n",
       "      <td>3.328482</td>\n",
       "    </tr>\n",
       "    <tr>\n",
       "      <th>128</th>\n",
       "      <td>3.439827</td>\n",
       "      <td>3.442652</td>\n",
       "      <td>3.417316</td>\n",
       "      <td>3.415952</td>\n",
       "      <td>3.400604</td>\n",
       "      <td>3.391522</td>\n",
       "    </tr>\n",
       "    <tr>\n",
       "      <th>256</th>\n",
       "      <td>3.324306</td>\n",
       "      <td>3.356036</td>\n",
       "      <td>3.332269</td>\n",
       "      <td>3.350815</td>\n",
       "      <td>3.324108</td>\n",
       "      <td>3.320641</td>\n",
       "    </tr>\n",
       "    <tr>\n",
       "      <th>512</th>\n",
       "      <td>3.159061</td>\n",
       "      <td>3.096538</td>\n",
       "      <td>3.100798</td>\n",
       "      <td>3.196754</td>\n",
       "      <td>3.183743</td>\n",
       "      <td>3.144148</td>\n",
       "    </tr>\n",
       "    <tr>\n",
       "      <th>1024</th>\n",
       "      <td>3.017227</td>\n",
       "      <td>2.982009</td>\n",
       "      <td>2.914856</td>\n",
       "      <td>2.880734</td>\n",
       "      <td>2.807100</td>\n",
       "      <td>2.714461</td>\n",
       "    </tr>\n",
       "  </tbody>\n",
       "</table>\n",
       "</div>"
      ],
      "text/plain": [
       "          32        64        128       256       512       1024\n",
       "32    3.312780  3.891880  3.849028  3.748119  3.630559  3.481770\n",
       "64    3.591350  3.581951  3.522862  3.508020  3.524484  3.328482\n",
       "128   3.439827  3.442652  3.417316  3.415952  3.400604  3.391522\n",
       "256   3.324306  3.356036  3.332269  3.350815  3.324108  3.320641\n",
       "512   3.159061  3.096538  3.100798  3.196754  3.183743  3.144148\n",
       "1024  3.017227  2.982009  2.914856  2.880734  2.807100  2.714461"
      ]
     },
     "execution_count": 24,
     "metadata": {},
     "output_type": "execute_result"
    },
    {
     "name": "stdout",
     "output_type": "stream",
     "text": [
      "time: 20.9 ms (started: 2021-02-02 20:57:11 +09:00)\n"
     ]
    }
   ],
   "source": [
    "val_loss_df_t = val_loss_df.transpose()\n",
    "val_loss_df_t"
   ]
  },
  {
   "cell_type": "markdown",
   "id": "chronic-cancellation",
   "metadata": {},
   "source": [
    "- DataFrame으로부터 가장 작은 Validation loss를 기록한 하이퍼 파라미터의 조합은 `embedding_size = 1024, hidden_size = 1024`이었다."
   ]
  },
  {
   "cell_type": "markdown",
   "id": "strange-incident",
   "metadata": {},
   "source": [
    "#### DataFrame 시각화"
   ]
  },
  {
   "cell_type": "markdown",
   "id": "ancient-applicant",
   "metadata": {},
   "source": [
    "- 위에서 생성한 두개의 DataFrame을 box 그래프로 시각화하여 각 하이퍼 파라미터가 loss 값에 어떻게 영향을 미치고 있는지 경향성을 확인해 본다."
   ]
  },
  {
   "cell_type": "code",
   "execution_count": 25,
   "id": "twenty-atmosphere",
   "metadata": {},
   "outputs": [
    {
     "name": "stderr",
     "output_type": "stream",
     "text": [
      "/home/aiffel-dj1/anaconda3/envs/aiffel/lib/python3.7/site-packages/ipykernel_launcher.py:13: UserWarning: Matplotlib is currently using module://ipykernel.pylab.backend_inline, which is a non-GUI backend, so cannot show the figure.\n",
      "  del sys.path[0]\n"
     ]
    },
    {
     "data": {
      "image/png": "[encoded data removed]",
      "text/plain": [
       "<Figure size 1080x360 with 2 Axes>"
      ]
     },
     "metadata": {
      "needs_background": "light"
     },
     "output_type": "display_data"
    },
    {
     "name": "stdout",
     "output_type": "stream",
     "text": [
      "time: 276 ms (started: 2021-02-02 20:57:13 +09:00)\n"
     ]
    }
   ],
   "source": [
    "figure, axes = plt.subplots(1, 2, figsize=(15,5))\n",
    "palette = ['r', 'orange', 'y', 'g', 'b', 'purple']\n",
    "\n",
    "val_loss_df.plot.box(ax=axes[0])\n",
    "axes[0].set_xlabel('Embedding size')\n",
    "axes[0].set_ylabel('Validation loss')\n",
    "\n",
    "val_loss_df_t.plot.box(ax=axes[1])\n",
    "axes[1].set_xlabel('Hidden size')\n",
    "axes[1].set_ylabel('Validation loss')\n",
    "\n",
    "figure.suptitle('Validation loss accroding to Hyperparameter', fontsize=18)\n",
    "figure.show()"
   ]
  },
  {
   "cell_type": "markdown",
   "id": "approximate-porter",
   "metadata": {},
   "source": [
    "- 두 그래프의 중앙값의 변화에서 확연하 차이를 보이고 있다.\n",
    "    - Embedding size의 경우, size가 증가할수록 Validation loss가 확연하게 감소하는 경향을 관찰할 수 있다.\n",
    "    - 반면, Hidden size가 변하여도 Validation loss의 중앙값은 3.2~3.4 사이에 머물며 큰 차이를 보이지 않는다.\n",
    "    - 이를 통하여 32~1024 범위에서는 Embedding size가 Hidden size 보다 유의미한 변화를 만들어낸다는 것을 알 수 있었다."
   ]
  },
  {
   "cell_type": "markdown",
   "id": "aboriginal-crystal",
   "metadata": {},
   "source": [
    "#### 문장생성"
   ]
  },
  {
   "cell_type": "code",
   "execution_count": 26,
   "id": "threaded-checklist",
   "metadata": {},
   "outputs": [
    {
     "name": "stdout",
     "output_type": "stream",
     "text": [
      "time: 2.06 ms (started: 2021-02-02 20:57:16 +09:00)\n"
     ]
    }
   ],
   "source": [
    "def generate_text(model, tokenizer, init_sentence=\"<start>\", max_len=20):\n",
    "    # 테스트를 위해서 입력받은 init_sentence도 일단 텐서로 변환합니다.\n",
    "    test_input = tokenizer.texts_to_sequences([init_sentence])\n",
    "    test_tensor = tf.convert_to_tensor(test_input, dtype=tf.int64)\n",
    "    end_token = tokenizer.word_index[\"<end>\"]\n",
    "\n",
    "    # 텍스트를 실제로 생성할때는 루프를 돌면서 단어 하나씩 생성해야 합니다. \n",
    "    while True:\n",
    "        predict = model(test_tensor)  # 입력받은 문장의 텐서를 입력합니다. \n",
    "        # 우리 모델이 예측한 마지막 단어가 바로 새롭게 생성한 단어가 됩니다. \n",
    "        predict_word = tf.argmax(tf.nn.softmax(predict, axis=-1), axis=-1)[:, -1]   \n",
    "\n",
    "        # 우리 모델이 새롭게 예측한 단어를 입력 문장의 뒤에 붙여 줍니다. \n",
    "        test_tensor = tf.concat([test_tensor, tf.expand_dims(predict_word, axis=0)], axis=-1)\n",
    "        \n",
    "        # 우리 모델이 <end>를 예측했거나, max_len에 도달하지 않았다면  while 루프를 또 돌면서 다음 단어를 예측해야 합니다.\n",
    "        if predict_word.numpy()[0] == end_token: break\n",
    "        if test_tensor.shape[1] >= max_len: break\n",
    "\n",
    "    generated = \"\"\n",
    "    # 생성된 tensor 안에 있는 word index를 tokenizer.index_word 사전을 통해 실제 단어로 하나씩 변환합니다. \n",
    "    for word_index in test_tensor[0].numpy():\n",
    "        generated += tokenizer.index_word[word_index] + \" \"\n",
    "\n",
    "    return generated   # 이것이 최종적으로 모델이 생성한 자연어 문장입니다."
   ]
  },
  {
   "cell_type": "code",
   "execution_count": 27,
   "id": "prepared-senegal",
   "metadata": {},
   "outputs": [
    {
     "name": "stdout",
     "output_type": "stream",
     "text": [
      "generate sentence >>>> <start> i\n",
      "generate sentence >>>> <start> i will\n",
      "generate sentence >>>> <start> he\n",
      "generate sentence >>>> <start> let\n",
      "generate sentence >>>> <start> you\n",
      "generate sentence >>>> <start> this\n",
      "time: 29.5 s (started: 2021-02-02 20:57:17 +09:00)\n"
     ]
    }
   ],
   "source": [
    "init_sentences = [ \"<start> i\", \"<start> i will\", \"<start> he\", \"<start> let\", \"<start> you\", \"<start> this\"]\n",
    "target = [ (i, 1024) for i in steps ]\n",
    "model_names = [ get_model_name(4, hp) for hp in target ]\n",
    "models = [tf.keras.models.load_model(get_model_path(4, hp)) for hp in target ]\n",
    "sentences = []\n",
    "\n",
    "for init_sentence in init_sentences:\n",
    "    print(\"generate sentence >>>> \" + init_sentence)\n",
    "    tmp_sentences = [ generate_text(model, tokenizer, init_sentence=init_sentence) for model in models ]\n",
    "    sentences.append(tmp_sentences)"
   ]
  },
  {
   "cell_type": "code",
   "execution_count": 28,
   "id": "constitutional-edition",
   "metadata": {},
   "outputs": [
    {
     "name": "stdout",
     "output_type": "stream",
     "text": [
      "init sentences :: <start> i\n"
     ]
    },
    {
     "data": {
      "text/html": [
       "<div>\n",
       "<style scoped>\n",
       "    .dataframe tbody tr th:only-of-type {\n",
       "        vertical-align: middle;\n",
       "    }\n",
       "\n",
       "    .dataframe tbody tr th {\n",
       "        vertical-align: top;\n",
       "    }\n",
       "\n",
       "    .dataframe thead th {\n",
       "        text-align: right;\n",
       "    }\n",
       "</style>\n",
       "<table border=\"1\" class=\"dataframe\">\n",
       "  <thead>\n",
       "    <tr style=\"text-align: right;\">\n",
       "      <th></th>\n",
       "      <th>generated sentence</th>\n",
       "    </tr>\n",
       "  </thead>\n",
       "  <tbody>\n",
       "    <tr>\n",
       "      <th>l_4_b_256_e_32_h_1024</th>\n",
       "      <td>&lt;start&gt; i m a &lt;unk&gt; &lt;end&gt;</td>\n",
       "    </tr>\n",
       "    <tr>\n",
       "      <th>l_4_b_256_e_64_h_1024</th>\n",
       "      <td>&lt;start&gt; i m a &lt;unk&gt; &lt;end&gt;</td>\n",
       "    </tr>\n",
       "    <tr>\n",
       "      <th>l_4_b_256_e_128_h_1024</th>\n",
       "      <td>&lt;start&gt; i m a &lt;unk&gt; &lt;end&gt;</td>\n",
       "    </tr>\n",
       "    <tr>\n",
       "      <th>l_4_b_256_e_256_h_1024</th>\n",
       "      <td>&lt;start&gt; i m a &lt;unk&gt; &lt;end&gt;</td>\n",
       "    </tr>\n",
       "    <tr>\n",
       "      <th>l_4_b_256_e_512_h_1024</th>\n",
       "      <td>&lt;start&gt; i m a &lt;unk&gt; , &lt;end&gt;</td>\n",
       "    </tr>\n",
       "    <tr>\n",
       "      <th>l_4_b_256_e_1024_h_1024</th>\n",
       "      <td>&lt;start&gt; i m a &lt;unk&gt; &lt;end&gt;</td>\n",
       "    </tr>\n",
       "  </tbody>\n",
       "</table>\n",
       "</div>"
      ],
      "text/plain": [
       "                                   generated sentence\n",
       "l_4_b_256_e_32_h_1024      <start> i m a <unk> <end> \n",
       "l_4_b_256_e_64_h_1024      <start> i m a <unk> <end> \n",
       "l_4_b_256_e_128_h_1024     <start> i m a <unk> <end> \n",
       "l_4_b_256_e_256_h_1024     <start> i m a <unk> <end> \n",
       "l_4_b_256_e_512_h_1024   <start> i m a <unk> , <end> \n",
       "l_4_b_256_e_1024_h_1024    <start> i m a <unk> <end> "
      ]
     },
     "metadata": {},
     "output_type": "display_data"
    },
    {
     "name": "stdout",
     "output_type": "stream",
     "text": [
      "init sentences :: <start> i will\n"
     ]
    },
    {
     "data": {
      "text/html": [
       "<div>\n",
       "<style scoped>\n",
       "    .dataframe tbody tr th:only-of-type {\n",
       "        vertical-align: middle;\n",
       "    }\n",
       "\n",
       "    .dataframe tbody tr th {\n",
       "        vertical-align: top;\n",
       "    }\n",
       "\n",
       "    .dataframe thead th {\n",
       "        text-align: right;\n",
       "    }\n",
       "</style>\n",
       "<table border=\"1\" class=\"dataframe\">\n",
       "  <thead>\n",
       "    <tr style=\"text-align: right;\">\n",
       "      <th></th>\n",
       "      <th>generated sentence</th>\n",
       "    </tr>\n",
       "  </thead>\n",
       "  <tbody>\n",
       "    <tr>\n",
       "      <th>l_4_b_256_e_32_h_1024</th>\n",
       "      <td>&lt;start&gt; i will be a &lt;unk&gt; &lt;end&gt;</td>\n",
       "    </tr>\n",
       "    <tr>\n",
       "      <th>l_4_b_256_e_64_h_1024</th>\n",
       "      <td>&lt;start&gt; i will be a &lt;unk&gt; &lt;end&gt;</td>\n",
       "    </tr>\n",
       "    <tr>\n",
       "      <th>l_4_b_256_e_128_h_1024</th>\n",
       "      <td>&lt;start&gt; i will be a &lt;unk&gt; &lt;end&gt;</td>\n",
       "    </tr>\n",
       "    <tr>\n",
       "      <th>l_4_b_256_e_256_h_1024</th>\n",
       "      <td>&lt;start&gt; i will be a &lt;unk&gt; &lt;end&gt;</td>\n",
       "    </tr>\n",
       "    <tr>\n",
       "      <th>l_4_b_256_e_512_h_1024</th>\n",
       "      <td>&lt;start&gt; i will be a &lt;unk&gt; &lt;end&gt;</td>\n",
       "    </tr>\n",
       "    <tr>\n",
       "      <th>l_4_b_256_e_1024_h_1024</th>\n",
       "      <td>&lt;start&gt; i will be a &lt;unk&gt; &lt;end&gt;</td>\n",
       "    </tr>\n",
       "  </tbody>\n",
       "</table>\n",
       "</div>"
      ],
      "text/plain": [
       "                                       generated sentence\n",
       "l_4_b_256_e_32_h_1024    <start> i will be a <unk> <end> \n",
       "l_4_b_256_e_64_h_1024    <start> i will be a <unk> <end> \n",
       "l_4_b_256_e_128_h_1024   <start> i will be a <unk> <end> \n",
       "l_4_b_256_e_256_h_1024   <start> i will be a <unk> <end> \n",
       "l_4_b_256_e_512_h_1024   <start> i will be a <unk> <end> \n",
       "l_4_b_256_e_1024_h_1024  <start> i will be a <unk> <end> "
      ]
     },
     "metadata": {},
     "output_type": "display_data"
    },
    {
     "name": "stdout",
     "output_type": "stream",
     "text": [
      "init sentences :: <start> he\n"
     ]
    },
    {
     "data": {
      "text/html": [
       "<div>\n",
       "<style scoped>\n",
       "    .dataframe tbody tr th:only-of-type {\n",
       "        vertical-align: middle;\n",
       "    }\n",
       "\n",
       "    .dataframe tbody tr th {\n",
       "        vertical-align: top;\n",
       "    }\n",
       "\n",
       "    .dataframe thead th {\n",
       "        text-align: right;\n",
       "    }\n",
       "</style>\n",
       "<table border=\"1\" class=\"dataframe\">\n",
       "  <thead>\n",
       "    <tr style=\"text-align: right;\">\n",
       "      <th></th>\n",
       "      <th>generated sentence</th>\n",
       "    </tr>\n",
       "  </thead>\n",
       "  <tbody>\n",
       "    <tr>\n",
       "      <th>l_4_b_256_e_32_h_1024</th>\n",
       "      <td>&lt;start&gt; he know i m a &lt;unk&gt; &lt;end&gt;</td>\n",
       "    </tr>\n",
       "    <tr>\n",
       "      <th>l_4_b_256_e_64_h_1024</th>\n",
       "      <td>&lt;start&gt; he know i m a &lt;unk&gt; &lt;end&gt;</td>\n",
       "    </tr>\n",
       "    <tr>\n",
       "      <th>l_4_b_256_e_128_h_1024</th>\n",
       "      <td>&lt;start&gt; he s a &lt;unk&gt; &lt;end&gt;</td>\n",
       "    </tr>\n",
       "    <tr>\n",
       "      <th>l_4_b_256_e_256_h_1024</th>\n",
       "      <td>&lt;start&gt; he s a &lt;unk&gt; &lt;end&gt;</td>\n",
       "    </tr>\n",
       "    <tr>\n",
       "      <th>l_4_b_256_e_512_h_1024</th>\n",
       "      <td>&lt;start&gt; he s a &lt;unk&gt; , &lt;end&gt;</td>\n",
       "    </tr>\n",
       "    <tr>\n",
       "      <th>l_4_b_256_e_1024_h_1024</th>\n",
       "      <td>&lt;start&gt; he s a &lt;unk&gt; &lt;end&gt;</td>\n",
       "    </tr>\n",
       "  </tbody>\n",
       "</table>\n",
       "</div>"
      ],
      "text/plain": [
       "                                         generated sentence\n",
       "l_4_b_256_e_32_h_1024    <start> he know i m a <unk> <end> \n",
       "l_4_b_256_e_64_h_1024    <start> he know i m a <unk> <end> \n",
       "l_4_b_256_e_128_h_1024          <start> he s a <unk> <end> \n",
       "l_4_b_256_e_256_h_1024          <start> he s a <unk> <end> \n",
       "l_4_b_256_e_512_h_1024        <start> he s a <unk> , <end> \n",
       "l_4_b_256_e_1024_h_1024         <start> he s a <unk> <end> "
      ]
     },
     "metadata": {},
     "output_type": "display_data"
    },
    {
     "name": "stdout",
     "output_type": "stream",
     "text": [
      "init sentences :: <start> let\n"
     ]
    },
    {
     "data": {
      "text/html": [
       "<div>\n",
       "<style scoped>\n",
       "    .dataframe tbody tr th:only-of-type {\n",
       "        vertical-align: middle;\n",
       "    }\n",
       "\n",
       "    .dataframe tbody tr th {\n",
       "        vertical-align: top;\n",
       "    }\n",
       "\n",
       "    .dataframe thead th {\n",
       "        text-align: right;\n",
       "    }\n",
       "</style>\n",
       "<table border=\"1\" class=\"dataframe\">\n",
       "  <thead>\n",
       "    <tr style=\"text-align: right;\">\n",
       "      <th></th>\n",
       "      <th>generated sentence</th>\n",
       "    </tr>\n",
       "  </thead>\n",
       "  <tbody>\n",
       "    <tr>\n",
       "      <th>l_4_b_256_e_32_h_1024</th>\n",
       "      <td>&lt;start&gt; let i m a &lt;unk&gt; &lt;end&gt;</td>\n",
       "    </tr>\n",
       "    <tr>\n",
       "      <th>l_4_b_256_e_64_h_1024</th>\n",
       "      <td>&lt;start&gt; let the &lt;unk&gt; &lt;end&gt;</td>\n",
       "    </tr>\n",
       "    <tr>\n",
       "      <th>l_4_b_256_e_128_h_1024</th>\n",
       "      <td>&lt;start&gt; let the &lt;unk&gt; , i m a &lt;unk&gt; &lt;end&gt;</td>\n",
       "    </tr>\n",
       "    <tr>\n",
       "      <th>l_4_b_256_e_256_h_1024</th>\n",
       "      <td>&lt;start&gt; let s a &lt;unk&gt; &lt;end&gt;</td>\n",
       "    </tr>\n",
       "    <tr>\n",
       "      <th>l_4_b_256_e_512_h_1024</th>\n",
       "      <td>&lt;start&gt; let s be a &lt;unk&gt; &lt;end&gt;</td>\n",
       "    </tr>\n",
       "    <tr>\n",
       "      <th>l_4_b_256_e_1024_h_1024</th>\n",
       "      <td>&lt;start&gt; let s be a &lt;unk&gt; &lt;end&gt;</td>\n",
       "    </tr>\n",
       "  </tbody>\n",
       "</table>\n",
       "</div>"
      ],
      "text/plain": [
       "                                                 generated sentence\n",
       "l_4_b_256_e_32_h_1024                <start> let i m a <unk> <end> \n",
       "l_4_b_256_e_64_h_1024                  <start> let the <unk> <end> \n",
       "l_4_b_256_e_128_h_1024   <start> let the <unk> , i m a <unk> <end> \n",
       "l_4_b_256_e_256_h_1024                 <start> let s a <unk> <end> \n",
       "l_4_b_256_e_512_h_1024              <start> let s be a <unk> <end> \n",
       "l_4_b_256_e_1024_h_1024             <start> let s be a <unk> <end> "
      ]
     },
     "metadata": {},
     "output_type": "display_data"
    },
    {
     "name": "stdout",
     "output_type": "stream",
     "text": [
      "init sentences :: <start> you\n"
     ]
    },
    {
     "data": {
      "text/html": [
       "<div>\n",
       "<style scoped>\n",
       "    .dataframe tbody tr th:only-of-type {\n",
       "        vertical-align: middle;\n",
       "    }\n",
       "\n",
       "    .dataframe tbody tr th {\n",
       "        vertical-align: top;\n",
       "    }\n",
       "\n",
       "    .dataframe thead th {\n",
       "        text-align: right;\n",
       "    }\n",
       "</style>\n",
       "<table border=\"1\" class=\"dataframe\">\n",
       "  <thead>\n",
       "    <tr style=\"text-align: right;\">\n",
       "      <th></th>\n",
       "      <th>generated sentence</th>\n",
       "    </tr>\n",
       "  </thead>\n",
       "  <tbody>\n",
       "    <tr>\n",
       "      <th>l_4_b_256_e_32_h_1024</th>\n",
       "      <td>&lt;start&gt; you m a &lt;unk&gt; &lt;end&gt;</td>\n",
       "    </tr>\n",
       "    <tr>\n",
       "      <th>l_4_b_256_e_64_h_1024</th>\n",
       "      <td>&lt;start&gt; you re a &lt;unk&gt; &lt;end&gt;</td>\n",
       "    </tr>\n",
       "    <tr>\n",
       "      <th>l_4_b_256_e_128_h_1024</th>\n",
       "      <td>&lt;start&gt; you re a &lt;unk&gt; &lt;end&gt;</td>\n",
       "    </tr>\n",
       "    <tr>\n",
       "      <th>l_4_b_256_e_256_h_1024</th>\n",
       "      <td>&lt;start&gt; you re a &lt;unk&gt; &lt;end&gt;</td>\n",
       "    </tr>\n",
       "    <tr>\n",
       "      <th>l_4_b_256_e_512_h_1024</th>\n",
       "      <td>&lt;start&gt; you re a &lt;unk&gt; , &lt;end&gt;</td>\n",
       "    </tr>\n",
       "    <tr>\n",
       "      <th>l_4_b_256_e_1024_h_1024</th>\n",
       "      <td>&lt;start&gt; you re a &lt;unk&gt; &lt;end&gt;</td>\n",
       "    </tr>\n",
       "  </tbody>\n",
       "</table>\n",
       "</div>"
      ],
      "text/plain": [
       "                                      generated sentence\n",
       "l_4_b_256_e_32_h_1024       <start> you m a <unk> <end> \n",
       "l_4_b_256_e_64_h_1024      <start> you re a <unk> <end> \n",
       "l_4_b_256_e_128_h_1024     <start> you re a <unk> <end> \n",
       "l_4_b_256_e_256_h_1024     <start> you re a <unk> <end> \n",
       "l_4_b_256_e_512_h_1024   <start> you re a <unk> , <end> \n",
       "l_4_b_256_e_1024_h_1024    <start> you re a <unk> <end> "
      ]
     },
     "metadata": {},
     "output_type": "display_data"
    },
    {
     "name": "stdout",
     "output_type": "stream",
     "text": [
      "init sentences :: <start> this\n"
     ]
    },
    {
     "data": {
      "text/html": [
       "<div>\n",
       "<style scoped>\n",
       "    .dataframe tbody tr th:only-of-type {\n",
       "        vertical-align: middle;\n",
       "    }\n",
       "\n",
       "    .dataframe tbody tr th {\n",
       "        vertical-align: top;\n",
       "    }\n",
       "\n",
       "    .dataframe thead th {\n",
       "        text-align: right;\n",
       "    }\n",
       "</style>\n",
       "<table border=\"1\" class=\"dataframe\">\n",
       "  <thead>\n",
       "    <tr style=\"text-align: right;\">\n",
       "      <th></th>\n",
       "      <th>generated sentence</th>\n",
       "    </tr>\n",
       "  </thead>\n",
       "  <tbody>\n",
       "    <tr>\n",
       "      <th>l_4_b_256_e_32_h_1024</th>\n",
       "      <td>&lt;start&gt; this &lt;unk&gt; , i m a &lt;unk&gt; &lt;end&gt;</td>\n",
       "    </tr>\n",
       "    <tr>\n",
       "      <th>l_4_b_256_e_64_h_1024</th>\n",
       "      <td>&lt;start&gt; this &lt;unk&gt; , i m a &lt;unk&gt; &lt;end&gt;</td>\n",
       "    </tr>\n",
       "    <tr>\n",
       "      <th>l_4_b_256_e_128_h_1024</th>\n",
       "      <td>&lt;start&gt; this &lt;unk&gt; , i m a &lt;unk&gt; &lt;end&gt;</td>\n",
       "    </tr>\n",
       "    <tr>\n",
       "      <th>l_4_b_256_e_256_h_1024</th>\n",
       "      <td>&lt;start&gt; this s a &lt;unk&gt; &lt;end&gt;</td>\n",
       "    </tr>\n",
       "    <tr>\n",
       "      <th>l_4_b_256_e_512_h_1024</th>\n",
       "      <td>&lt;start&gt; this &lt;unk&gt; , i m a &lt;unk&gt; &lt;end&gt;</td>\n",
       "    </tr>\n",
       "    <tr>\n",
       "      <th>l_4_b_256_e_1024_h_1024</th>\n",
       "      <td>&lt;start&gt; this &lt;unk&gt; , i m a &lt;unk&gt; &lt;end&gt;</td>\n",
       "    </tr>\n",
       "  </tbody>\n",
       "</table>\n",
       "</div>"
      ],
      "text/plain": [
       "                                              generated sentence\n",
       "l_4_b_256_e_32_h_1024    <start> this <unk> , i m a <unk> <end> \n",
       "l_4_b_256_e_64_h_1024    <start> this <unk> , i m a <unk> <end> \n",
       "l_4_b_256_e_128_h_1024   <start> this <unk> , i m a <unk> <end> \n",
       "l_4_b_256_e_256_h_1024             <start> this s a <unk> <end> \n",
       "l_4_b_256_e_512_h_1024   <start> this <unk> , i m a <unk> <end> \n",
       "l_4_b_256_e_1024_h_1024  <start> this <unk> , i m a <unk> <end> "
      ]
     },
     "metadata": {},
     "output_type": "display_data"
    },
    {
     "name": "stdout",
     "output_type": "stream",
     "text": [
      "time: 25.4 ms (started: 2021-02-02 20:57:46 +09:00)\n"
     ]
    }
   ],
   "source": [
    "for i, s in enumerate(sentences):\n",
    "    print(f'init sentences :: {init_sentences[i]}')\n",
    "    df = pd.DataFrame(data = s, columns=['generated sentence'], index=model_names)\n",
    "    display(df)"
   ]
  },
  {
   "cell_type": "markdown",
   "id": "vulnerable-february",
   "metadata": {},
   "source": [
    "- 정말 놀랍게도 제대로 된 것이 하나도 없다!\n",
    "- 추가적인 실험이 필요해 보인다!"
   ]
  },
  {
   "cell_type": "markdown",
   "id": "eight-jamaica",
   "metadata": {},
   "source": [
    "## 추가실험\n",
    "---"
   ]
  },
  {
   "cell_type": "code",
   "execution_count": 77,
   "id": "wrong-endorsement",
   "metadata": {},
   "outputs": [
    {
     "name": "stdout",
     "output_type": "stream",
     "text": [
      "time: 1.16 ms (started: 2021-02-02 22:04:32 +09:00)\n"
     ]
    }
   ],
   "source": [
    "hyper_parm = [(512, 1024), (1024, 1024), (512, 2048)]"
   ]
  },
  {
   "cell_type": "markdown",
   "id": "vanilla-guyana",
   "metadata": {},
   "source": [
    "### 더 많은 데이터 - preprocessing 개선"
   ]
  },
  {
   "cell_type": "markdown",
   "id": "reflected-republican",
   "metadata": {},
   "source": [
    "- 이전에는 중복 문장을 preprocessing 과정에서 제거하였으나, 이를 살려 데이터의 양을 증가시켜 본다."
   ]
  },
  {
   "cell_type": "code",
   "execution_count": 93,
   "id": "established-benjamin",
   "metadata": {},
   "outputs": [
    {
     "name": "stdout",
     "output_type": "stream",
     "text": [
      "after preprocessing : 156202\n",
      "time: 1.63 s (started: 2021-02-02 23:03:18 +09:00)\n"
     ]
    }
   ],
   "source": [
    "raw_corpus = load_sentences(WORKSPACE_PATH + '/data/lyrics/*')\n",
    "raw_corpus_remove_blank = [ s for s in raw_corpus if len(s) > 0 and s != ' ' ]\n",
    "corpus = preprocess_sentences(raw_corpus_remove_blank)  \n",
    "print(\"after preprocessing : {}\".format(len(corpus)))"
   ]
  },
  {
   "cell_type": "code",
   "execution_count": 94,
   "id": "south-czech",
   "metadata": {},
   "outputs": [
    {
     "name": "stdout",
     "output_type": "stream",
     "text": [
      "Source Train: (124961, 14)\n",
      "Target Train: (124961, 14)\n",
      "Source Validation: (31241, 14)\n",
      "Target Validation: (31241, 14)\n",
      "time: 2.59 s (started: 2021-02-02 23:03:19 +09:00)\n"
     ]
    }
   ],
   "source": [
    "tensor, tokenizer = tokenize(corpus)\n",
    "vocab_size = tokenizer.num_words + 1\n",
    "train_dataset, test_dataset = get_dataset(tensor, 256) "
   ]
  },
  {
   "cell_type": "markdown",
   "id": "frozen-fleet",
   "metadata": {},
   "source": [
    "- 이전 실험에서의 수치에 비하면 데이터양이 많이 증가한 것을 확인할 수 있다.\n",
    "    - Source Train: (78199, 14)\n",
    "    - Target Train: (78199, 14)\n",
    "    - Source Validation: (19550, 14)\n",
    "    - Target Validation: (19550, 14)"
   ]
  },
  {
   "cell_type": "markdown",
   "id": "classified-evening",
   "metadata": {},
   "source": [
    "- 모델 생성 및 학습 - 1"
   ]
  },
  {
   "cell_type": "code",
   "execution_count": 43,
   "id": "tropical-hindu",
   "metadata": {},
   "outputs": [
    {
     "name": "stdout",
     "output_type": "stream",
     "text": [
      "Model: \"sequential_1\"\n",
      "_________________________________________________________________\n",
      "Layer (type)                 Output Shape              Param #   \n",
      "=================================================================\n",
      "embedding_1 (Embedding)      (None, None, 512)         6144512   \n",
      "_________________________________________________________________\n",
      "lstm_2 (LSTM)                (None, None, 1024)        6295552   \n",
      "_________________________________________________________________\n",
      "lstm_3 (LSTM)                (None, None, 1024)        8392704   \n",
      "_________________________________________________________________\n",
      "dense_1 (Dense)              (None, None, 12001)       12301025  \n",
      "=================================================================\n",
      "Total params: 33,133,793\n",
      "Trainable params: 33,133,793\n",
      "Non-trainable params: 0\n",
      "_________________________________________________________________\n",
      "time: 4.59 s (started: 2021-02-02 21:11:04 +09:00)\n"
     ]
    }
   ],
   "source": [
    "model_v2 = get_model(vocab_size, hyper_parm[0][0], hyper_parm[0][1], 4)\n",
    "build_model(model_v2, input_sample) "
   ]
  },
  {
   "cell_type": "code",
   "execution_count": 46,
   "id": "rocky-stewart",
   "metadata": {},
   "outputs": [
    {
     "name": "stdout",
     "output_type": "stream",
     "text": [
      "Epoch 1/10\n",
      "469/469 [==============================] - 91s 195ms/step - loss: 3.4047 - accuracy: 0.4997 - val_loss: 0.0000e+00 - val_accuracy: 0.0000e+00\n",
      "Epoch 2/10\n",
      "469/469 [==============================] - 89s 189ms/step - loss: 2.9167 - accuracy: 0.5374 - val_loss: 2.8467 - val_accuracy: 0.5439\n",
      "Epoch 3/10\n",
      "469/469 [==============================] - 89s 189ms/step - loss: 2.7445 - accuracy: 0.5478 - val_loss: 2.7291 - val_accuracy: 0.5526\n",
      "Epoch 4/10\n",
      "469/469 [==============================] - 90s 191ms/step - loss: 2.6090 - accuracy: 0.5571 - val_loss: 2.6462 - val_accuracy: 0.5601\n",
      "Epoch 5/10\n",
      "469/469 [==============================] - 90s 191ms/step - loss: 2.4905 - accuracy: 0.5660 - val_loss: 2.5769 - val_accuracy: 0.5672\n",
      "Epoch 6/10\n",
      "469/469 [==============================] - 89s 190ms/step - loss: 2.3812 - accuracy: 0.5755 - val_loss: 2.5215 - val_accuracy: 0.5747\n",
      "Epoch 7/10\n",
      "469/469 [==============================] - 89s 190ms/step - loss: 2.2784 - accuracy: 0.5858 - val_loss: 2.4739 - val_accuracy: 0.5811\n",
      "Epoch 8/10\n",
      "469/469 [==============================] - 89s 191ms/step - loss: 2.1797 - accuracy: 0.5967 - val_loss: 2.4344 - val_accuracy: 0.5882\n",
      "Epoch 9/10\n",
      "469/469 [==============================] - 89s 190ms/step - loss: 2.0856 - accuracy: 0.6085 - val_loss: 2.3987 - val_accuracy: 0.5953\n",
      "Epoch 10/10\n",
      "469/469 [==============================] - 90s 192ms/step - loss: 1.9948 - accuracy: 0.6209 - val_loss: 2.3711 - val_accuracy: 0.6023\n",
      "time: 14min 55s (started: 2021-02-02 21:13:50 +09:00)\n"
     ]
    }
   ],
   "source": [
    "optimizer = tf.keras.optimizers.Adam()\n",
    "loss = tf.keras.losses.SparseCategoricalCrossentropy(from_logits=True, reduction='none')\n",
    "\n",
    "model_v2.compile(loss=loss, optimizer=optimizer, metrics=['accuracy'])\n",
    "history_v2 = model_v2.fit(train_dataset,\n",
    "                          epochs=10,\n",
    "                          validation_data=test_dataset)"
   ]
  },
  {
   "cell_type": "code",
   "execution_count": 51,
   "id": "placed-davis",
   "metadata": {},
   "outputs": [
    {
     "name": "stdout",
     "output_type": "stream",
     "text": [
      "time: 735 ms (started: 2021-02-02 21:32:30 +09:00)\n"
     ]
    }
   ],
   "source": [
    "model_v2.save(f'{WORKSPACE_PATH}/models/v2/l_4_e_512_h_1024.h5' )"
   ]
  },
  {
   "cell_type": "markdown",
   "id": "swiss-smell",
   "metadata": {},
   "source": [
    "- 모델 생성 및 학습 - 2"
   ]
  },
  {
   "cell_type": "code",
   "execution_count": 48,
   "id": "instant-reconstruction",
   "metadata": {},
   "outputs": [
    {
     "name": "stdout",
     "output_type": "stream",
     "text": [
      "Model: \"sequential_2\"\n",
      "_________________________________________________________________\n",
      "Layer (type)                 Output Shape              Param #   \n",
      "=================================================================\n",
      "embedding_2 (Embedding)      (None, None, 1024)        12289024  \n",
      "_________________________________________________________________\n",
      "lstm_4 (LSTM)                (None, None, 1024)        8392704   \n",
      "_________________________________________________________________\n",
      "lstm_5 (LSTM)                (None, None, 1024)        8392704   \n",
      "_________________________________________________________________\n",
      "dense_2 (Dense)              (None, None, 12001)       12301025  \n",
      "=================================================================\n",
      "Total params: 41,375,457\n",
      "Trainable params: 41,375,457\n",
      "Non-trainable params: 0\n",
      "_________________________________________________________________\n",
      "time: 3.85 s (started: 2021-02-02 21:31:49 +09:00)\n"
     ]
    }
   ],
   "source": [
    "model_v3 = get_model(vocab_size, hyper_parm[1][0], hyper_parm[1][1], 4)\n",
    "build_model(model_v3, input_sample) "
   ]
  },
  {
   "cell_type": "code",
   "execution_count": 53,
   "id": "australian-adventure",
   "metadata": {},
   "outputs": [
    {
     "name": "stdout",
     "output_type": "stream",
     "text": [
      "Epoch 1/10\n",
      "469/469 [==============================] - 125s 266ms/step - loss: 3.0093 - accuracy: 0.5337 - val_loss: 0.0000e+00 - val_accuracy: 0.0000e+00\n",
      "Epoch 2/10\n",
      "469/469 [==============================] - 123s 262ms/step - loss: 2.8819 - accuracy: 0.5412 - val_loss: 2.8761 - val_accuracy: 0.5442\n",
      "Epoch 3/10\n",
      "469/469 [==============================] - 122s 260ms/step - loss: 2.8010 - accuracy: 0.5464 - val_loss: 2.8229 - val_accuracy: 0.5485\n",
      "Epoch 4/10\n",
      "469/469 [==============================] - 121s 259ms/step - loss: 2.7319 - accuracy: 0.5511 - val_loss: 2.7766 - val_accuracy: 0.5519\n",
      "Epoch 5/10\n",
      "469/469 [==============================] - 122s 261ms/step - loss: 2.6685 - accuracy: 0.5553 - val_loss: 2.7396 - val_accuracy: 0.5548\n",
      "Epoch 6/10\n",
      "469/469 [==============================] - 119s 254ms/step - loss: 2.6098 - accuracy: 0.5598 - val_loss: 2.7036 - val_accuracy: 0.5588\n",
      "Epoch 7/10\n",
      "469/469 [==============================] - 119s 253ms/step - loss: 2.5563 - accuracy: 0.5641 - val_loss: 2.6740 - val_accuracy: 0.5616\n",
      "Epoch 8/10\n",
      "469/469 [==============================] - 118s 251ms/step - loss: 2.5072 - accuracy: 0.5681 - val_loss: 2.6490 - val_accuracy: 0.5648\n",
      "Epoch 9/10\n",
      "469/469 [==============================] - 117s 250ms/step - loss: 2.4611 - accuracy: 0.5723 - val_loss: 2.6276 - val_accuracy: 0.5674\n",
      "Epoch 10/10\n",
      "469/469 [==============================] - 118s 251ms/step - loss: 2.4174 - accuracy: 0.5766 - val_loss: 2.6042 - val_accuracy: 0.5707\n",
      "time: 20min 3s (started: 2021-02-02 21:35:02 +09:00)\n"
     ]
    }
   ],
   "source": [
    "model_v3.compile(loss=loss, optimizer=optimizer, metrics=['accuracy'])\n",
    "history_v3 = model_v3.fit(train_dataset,\n",
    "                          epochs=10,\n",
    "                          validation_data=test_dataset)"
   ]
  },
  {
   "cell_type": "code",
   "execution_count": 55,
   "id": "greater-stations",
   "metadata": {},
   "outputs": [
    {
     "name": "stdout",
     "output_type": "stream",
     "text": [
      "time: 748 ms (started: 2021-02-02 21:55:39 +09:00)\n"
     ]
    }
   ],
   "source": [
    "model_v3.save(f'{WORKSPACE_PATH}/models/v3/l_4_e_1024_h_1024.h5' )"
   ]
  },
  {
   "cell_type": "markdown",
   "id": "preliminary-worship",
   "metadata": {},
   "source": [
    "### 더 큰 하이퍼 파라미터"
   ]
  },
  {
   "cell_type": "code",
   "execution_count": 78,
   "id": "cognitive-theorem",
   "metadata": {},
   "outputs": [
    {
     "name": "stdout",
     "output_type": "stream",
     "text": [
      "Model: \"sequential_4\"\n",
      "_________________________________________________________________\n",
      "Layer (type)                 Output Shape              Param #   \n",
      "=================================================================\n",
      "embedding_4 (Embedding)      (None, None, 512)         6144512   \n",
      "_________________________________________________________________\n",
      "lstm_8 (LSTM)                (None, None, 2048)        20979712  \n",
      "_________________________________________________________________\n",
      "lstm_9 (LSTM)                (None, None, 2048)        33562624  \n",
      "_________________________________________________________________\n",
      "dense_4 (Dense)              (None, None, 12001)       24590049  \n",
      "=================================================================\n",
      "Total params: 85,276,897\n",
      "Trainable params: 85,276,897\n",
      "Non-trainable params: 0\n",
      "_________________________________________________________________\n",
      "time: 22.1 s (started: 2021-02-02 22:04:39 +09:00)\n"
     ]
    }
   ],
   "source": [
    "model_v4 = get_model(vocab_size, hyper_parm[2][0], hyper_parm[2][1], 4)\n",
    "build_model(model_v4, input_sample) "
   ]
  },
  {
   "cell_type": "code",
   "execution_count": 79,
   "id": "located-withdrawal",
   "metadata": {},
   "outputs": [
    {
     "name": "stdout",
     "output_type": "stream",
     "text": [
      "Epoch 1/10\n",
      "469/469 [==============================] - 192s 410ms/step - loss: 3.7151 - accuracy: 0.4667 - val_loss: 0.0000e+00 - val_accuracy: 0.0000e+00\n",
      "Epoch 2/10\n",
      "469/469 [==============================] - 189s 403ms/step - loss: 3.3607 - accuracy: 0.5062 - val_loss: 3.3364 - val_accuracy: 0.5094\n",
      "Epoch 3/10\n",
      "469/469 [==============================] - 188s 402ms/step - loss: 3.2926 - accuracy: 0.5105 - val_loss: 3.2760 - val_accuracy: 0.5144\n",
      "Epoch 4/10\n",
      "469/469 [==============================] - 191s 408ms/step - loss: 3.2284 - accuracy: 0.5157 - val_loss: 3.2170 - val_accuracy: 0.5192\n",
      "Epoch 5/10\n",
      "469/469 [==============================] - 190s 405ms/step - loss: 3.1567 - accuracy: 0.5203 - val_loss: 3.1344 - val_accuracy: 0.5246\n",
      "Epoch 6/10\n",
      "469/469 [==============================] - 190s 404ms/step - loss: 3.0664 - accuracy: 0.5265 - val_loss: 3.0597 - val_accuracy: 0.5308\n",
      "Epoch 7/10\n",
      "469/469 [==============================] - 192s 410ms/step - loss: 3.0063 - accuracy: 0.5311 - val_loss: 3.0245 - val_accuracy: 0.5325\n",
      "Epoch 8/10\n",
      "469/469 [==============================] - 190s 405ms/step - loss: 2.9672 - accuracy: 0.5339 - val_loss: 2.9973 - val_accuracy: 0.5351\n",
      "Epoch 9/10\n",
      "469/469 [==============================] - 191s 406ms/step - loss: 2.9356 - accuracy: 0.5360 - val_loss: 2.9697 - val_accuracy: 0.5373\n",
      "Epoch 10/10\n",
      "469/469 [==============================] - 191s 408ms/step - loss: 2.9067 - accuracy: 0.5377 - val_loss: 2.9492 - val_accuracy: 0.5384\n",
      "time: 31min 44s (started: 2021-02-02 22:05:06 +09:00)\n"
     ]
    }
   ],
   "source": [
    "model_v4.compile(loss=loss, optimizer=optimizer, metrics=['accuracy'])\n",
    "history_v4 = model_v4.fit(train_dataset,\n",
    "                          epochs=10,\n",
    "                          validation_data=test_dataset)"
   ]
  },
  {
   "cell_type": "code",
   "execution_count": 81,
   "id": "political-vehicle",
   "metadata": {},
   "outputs": [
    {
     "name": "stdout",
     "output_type": "stream",
     "text": [
      "time: 1.67 s (started: 2021-02-02 22:39:12 +09:00)\n"
     ]
    }
   ],
   "source": [
    "model_v4.save(f'{WORKSPACE_PATH}/models/v3/l_4_e_512_h_2048.h5' )"
   ]
  },
  {
   "cell_type": "markdown",
   "id": "faced-intellectual",
   "metadata": {},
   "source": [
    "### 평가"
   ]
  },
  {
   "cell_type": "markdown",
   "id": "functioning-occupation",
   "metadata": {},
   "source": [
    "#### evaluation"
   ]
  },
  {
   "cell_type": "code",
   "execution_count": 72,
   "id": "multiple-variance",
   "metadata": {},
   "outputs": [
    {
     "name": "stdout",
     "output_type": "stream",
     "text": [
      "time: 859 µs (started: 2021-02-02 22:02:35 +09:00)\n"
     ]
    }
   ],
   "source": [
    "def display_acc_loss_graph(history):\n",
    "    x = range(1,11)\n",
    "    \n",
    "    figure, axes = plt.subplots(1, 2, sharex=True, figsize=(10,5))\n",
    "\n",
    "    axes[0].plot(x, history['loss'], 'ro', label='Training loss')\n",
    "    axes[0].plot(x, history['val_loss'], 'r', label='Validation loss')\n",
    "    axes[0].set_xlabel('Epochs')\n",
    "    axes[0].set_ylabel('Loss')\n",
    "    axes[0].set_title('Training and validation loss')\n",
    "    axes[0].legend()\n",
    "    \n",
    "    axes[1].plot(x, history['accuracy'], 'bo', label='Training accuracy')\n",
    "    axes[1].plot(x, history['val_accuracy'], 'b', label='Validation accuracy')\n",
    "    axes[1].set_xlabel('Epochs')\n",
    "    axes[1].set_ylabel('Loss')\n",
    "    axes[1].set_title('Training and validation accuracy')\n",
    "    axes[1].legend()\n",
    "\n",
    "    figure.show()"
   ]
  },
  {
   "cell_type": "code",
   "execution_count": 60,
   "id": "solid-wednesday",
   "metadata": {},
   "outputs": [
    {
     "name": "stdout",
     "output_type": "stream",
     "text": [
      "time: 484 µs (started: 2021-02-02 21:59:43 +09:00)\n"
     ]
    }
   ],
   "source": [
    "def cal_loss(loss_list):\n",
    "    _loss = []\n",
    "    for loss_per_epochs in loss_list:\n",
    "        loss_flatten = flatten(loss_per_epochs)\n",
    "        loss = sum(loss_flatten) / len(loss_flatten)\n",
    "        _loss.append(loss)\n",
    "    return _loss"
   ]
  },
  {
   "cell_type": "code",
   "execution_count": 64,
   "id": "fluid-lucas",
   "metadata": {},
   "outputs": [
    {
     "name": "stdout",
     "output_type": "stream",
     "text": [
      "time: 28.5 ms (started: 2021-02-02 22:01:05 +09:00)\n"
     ]
    }
   ],
   "source": [
    "history_v2.history['loss'] = cal_loss(history_v2.history['loss'])\n",
    "history_v2.history['val_loss'] = cal_loss(history_v2.history['val_loss'])"
   ]
  },
  {
   "cell_type": "code",
   "execution_count": 74,
   "id": "textile-japan",
   "metadata": {},
   "outputs": [
    {
     "name": "stderr",
     "output_type": "stream",
     "text": [
      "/home/aiffel-dj1/anaconda3/envs/aiffel/lib/python3.7/site-packages/ipykernel_launcher.py:20: UserWarning: Matplotlib is currently using module://ipykernel.pylab.backend_inline, which is a non-GUI backend, so cannot show the figure.\n"
     ]
    },
    {
     "data": {
      "image/png": "[encoded data removed]",
      "text/plain": [
       "<Figure size 720x360 with 2 Axes>"
      ]
     },
     "metadata": {
      "needs_background": "light"
     },
     "output_type": "display_data"
    },
    {
     "name": "stdout",
     "output_type": "stream",
     "text": [
      "time: 217 ms (started: 2021-02-02 22:03:11 +09:00)\n"
     ]
    }
   ],
   "source": [
    "display_acc_loss_graph(history_v2.history)"
   ]
  },
  {
   "cell_type": "code",
   "execution_count": 75,
   "id": "golden-shooting",
   "metadata": {},
   "outputs": [
    {
     "name": "stderr",
     "output_type": "stream",
     "text": [
      "/home/aiffel-dj1/anaconda3/envs/aiffel/lib/python3.7/site-packages/ipykernel_launcher.py:20: UserWarning: Matplotlib is currently using module://ipykernel.pylab.backend_inline, which is a non-GUI backend, so cannot show the figure.\n"
     ]
    },
    {
     "data": {
      "image/png": "[encoded data removed]",
      "text/plain": [
       "<Figure size 720x360 with 2 Axes>"
      ]
     },
     "metadata": {
      "needs_background": "light"
     },
     "output_type": "display_data"
    },
    {
     "name": "stdout",
     "output_type": "stream",
     "text": [
      "time: 285 ms (started: 2021-02-02 22:03:26 +09:00)\n"
     ]
    }
   ],
   "source": [
    "history_v3.history['loss'] = cal_loss(history_v3.history['loss'])\n",
    "history_v3.history['val_loss'] = cal_loss(history_v3.history['val_loss'])\n",
    "display_acc_loss_graph(history_v3.history)"
   ]
  },
  {
   "cell_type": "code",
   "execution_count": 86,
   "id": "anticipated-platform",
   "metadata": {},
   "outputs": [
    {
     "name": "stderr",
     "output_type": "stream",
     "text": [
      "/home/aiffel-dj1/anaconda3/envs/aiffel/lib/python3.7/site-packages/ipykernel_launcher.py:20: UserWarning: Matplotlib is currently using module://ipykernel.pylab.backend_inline, which is a non-GUI backend, so cannot show the figure.\n"
     ]
    },
    {
     "data": {
      "image/png": "[encoded data removed]",
      "text/plain": [
       "<Figure size 720x360 with 2 Axes>"
      ]
     },
     "metadata": {
      "needs_background": "light"
     },
     "output_type": "display_data"
    },
    {
     "name": "stdout",
     "output_type": "stream",
     "text": [
      "time: 278 ms (started: 2021-02-02 22:41:17 +09:00)\n"
     ]
    }
   ],
   "source": [
    "history_v4.history['loss'] = cal_loss(history_v4.history['loss'])\n",
    "history_v4.history['val_loss'] = cal_loss(history_v4.history['val_loss'])\n",
    "display_acc_loss_graph(history_v4.history)"
   ]
  },
  {
   "cell_type": "markdown",
   "id": "revised-video",
   "metadata": {},
   "source": [
    "#### 문장생성"
   ]
  },
  {
   "cell_type": "code",
   "execution_count": 82,
   "id": "amazing-praise",
   "metadata": {},
   "outputs": [
    {
     "name": "stdout",
     "output_type": "stream",
     "text": [
      "generate sentence >>>> <start> i\n",
      "generate sentence >>>> <start> i will\n",
      "generate sentence >>>> <start> he\n",
      "generate sentence >>>> <start> let\n",
      "generate sentence >>>> <start> you\n",
      "generate sentence >>>> <start> this\n",
      "time: 915 ms (started: 2021-02-02 22:39:38 +09:00)\n"
     ]
    }
   ],
   "source": [
    "init_sentences = [ \"<start> i\", \"<start> i will\", \"<start> he\", \"<start> let\", \"<start> you\", \"<start> this\"]\n",
    "models = [ model_v2, model_v3, model_v4 ]\n",
    "sentences = []\n",
    "\n",
    "for init_sentence in init_sentences:\n",
    "    print(\"generate sentence >>>> \" + init_sentence)\n",
    "    tmp_sentences = [ generate_text(model, tokenizer, init_sentence=init_sentence) for model in models ]\n",
    "    sentences.append(tmp_sentences)"
   ]
  },
  {
   "cell_type": "code",
   "execution_count": 84,
   "id": "optional-major",
   "metadata": {},
   "outputs": [
    {
     "name": "stdout",
     "output_type": "stream",
     "text": [
      "init sentences :: <start> i\n"
     ]
    },
    {
     "data": {
      "text/html": [
       "<div>\n",
       "<style scoped>\n",
       "    .dataframe tbody tr th:only-of-type {\n",
       "        vertical-align: middle;\n",
       "    }\n",
       "\n",
       "    .dataframe tbody tr th {\n",
       "        vertical-align: top;\n",
       "    }\n",
       "\n",
       "    .dataframe thead th {\n",
       "        text-align: right;\n",
       "    }\n",
       "</style>\n",
       "<table border=\"1\" class=\"dataframe\">\n",
       "  <thead>\n",
       "    <tr style=\"text-align: right;\">\n",
       "      <th></th>\n",
       "      <th>generated sentence</th>\n",
       "    </tr>\n",
       "  </thead>\n",
       "  <tbody>\n",
       "    <tr>\n",
       "      <th>v2</th>\n",
       "      <td>&lt;start&gt; i m a bad bitch , you know it &lt;end&gt;</td>\n",
       "    </tr>\n",
       "    <tr>\n",
       "      <th>v3</th>\n",
       "      <td>&lt;start&gt; i m a survivor &lt;end&gt;</td>\n",
       "    </tr>\n",
       "    <tr>\n",
       "      <th>v4</th>\n",
       "      <td>&lt;start&gt; i m a &lt;unk&gt; &lt;end&gt;</td>\n",
       "    </tr>\n",
       "  </tbody>\n",
       "</table>\n",
       "</div>"
      ],
      "text/plain": [
       "                              generated sentence\n",
       "v2  <start> i m a bad bitch , you know it <end> \n",
       "v3                 <start> i m a survivor <end> \n",
       "v4                    <start> i m a <unk> <end> "
      ]
     },
     "metadata": {},
     "output_type": "display_data"
    },
    {
     "name": "stdout",
     "output_type": "stream",
     "text": [
      "init sentences :: <start> i will\n"
     ]
    },
    {
     "data": {
      "text/html": [
       "<div>\n",
       "<style scoped>\n",
       "    .dataframe tbody tr th:only-of-type {\n",
       "        vertical-align: middle;\n",
       "    }\n",
       "\n",
       "    .dataframe tbody tr th {\n",
       "        vertical-align: top;\n",
       "    }\n",
       "\n",
       "    .dataframe thead th {\n",
       "        text-align: right;\n",
       "    }\n",
       "</style>\n",
       "<table border=\"1\" class=\"dataframe\">\n",
       "  <thead>\n",
       "    <tr style=\"text-align: right;\">\n",
       "      <th></th>\n",
       "      <th>generated sentence</th>\n",
       "    </tr>\n",
       "  </thead>\n",
       "  <tbody>\n",
       "    <tr>\n",
       "      <th>v2</th>\n",
       "      <td>&lt;start&gt; i will eat you alive &lt;end&gt;</td>\n",
       "    </tr>\n",
       "    <tr>\n",
       "      <th>v3</th>\n",
       "      <td>&lt;start&gt; i will not be a &lt;unk&gt; &lt;end&gt;</td>\n",
       "    </tr>\n",
       "    <tr>\n",
       "      <th>v4</th>\n",
       "      <td>&lt;start&gt; i will be a way &lt;end&gt;</td>\n",
       "    </tr>\n",
       "  </tbody>\n",
       "</table>\n",
       "</div>"
      ],
      "text/plain": [
       "                      generated sentence\n",
       "v2   <start> i will eat you alive <end> \n",
       "v3  <start> i will not be a <unk> <end> \n",
       "v4        <start> i will be a way <end> "
      ]
     },
     "metadata": {},
     "output_type": "display_data"
    },
    {
     "name": "stdout",
     "output_type": "stream",
     "text": [
      "init sentences :: <start> he\n"
     ]
    },
    {
     "data": {
      "text/html": [
       "<div>\n",
       "<style scoped>\n",
       "    .dataframe tbody tr th:only-of-type {\n",
       "        vertical-align: middle;\n",
       "    }\n",
       "\n",
       "    .dataframe tbody tr th {\n",
       "        vertical-align: top;\n",
       "    }\n",
       "\n",
       "    .dataframe thead th {\n",
       "        text-align: right;\n",
       "    }\n",
       "</style>\n",
       "<table border=\"1\" class=\"dataframe\">\n",
       "  <thead>\n",
       "    <tr style=\"text-align: right;\">\n",
       "      <th></th>\n",
       "      <th>generated sentence</th>\n",
       "    </tr>\n",
       "  </thead>\n",
       "  <tbody>\n",
       "    <tr>\n",
       "      <th>v2</th>\n",
       "      <td>&lt;start&gt; he s a monster &lt;end&gt;</td>\n",
       "    </tr>\n",
       "    <tr>\n",
       "      <th>v3</th>\n",
       "      <td>&lt;start&gt; he s a &lt;unk&gt; , &lt;end&gt;</td>\n",
       "    </tr>\n",
       "    <tr>\n",
       "      <th>v4</th>\n",
       "      <td>&lt;start&gt; he s a &lt;unk&gt; &lt;end&gt;</td>\n",
       "    </tr>\n",
       "  </tbody>\n",
       "</table>\n",
       "</div>"
      ],
      "text/plain": [
       "               generated sentence\n",
       "v2  <start> he s a monster <end> \n",
       "v3  <start> he s a <unk> , <end> \n",
       "v4    <start> he s a <unk> <end> "
      ]
     },
     "metadata": {},
     "output_type": "display_data"
    },
    {
     "name": "stdout",
     "output_type": "stream",
     "text": [
      "init sentences :: <start> let\n"
     ]
    },
    {
     "data": {
      "text/html": [
       "<div>\n",
       "<style scoped>\n",
       "    .dataframe tbody tr th:only-of-type {\n",
       "        vertical-align: middle;\n",
       "    }\n",
       "\n",
       "    .dataframe tbody tr th {\n",
       "        vertical-align: top;\n",
       "    }\n",
       "\n",
       "    .dataframe thead th {\n",
       "        text-align: right;\n",
       "    }\n",
       "</style>\n",
       "<table border=\"1\" class=\"dataframe\">\n",
       "  <thead>\n",
       "    <tr style=\"text-align: right;\">\n",
       "      <th></th>\n",
       "      <th>generated sentence</th>\n",
       "    </tr>\n",
       "  </thead>\n",
       "  <tbody>\n",
       "    <tr>\n",
       "      <th>v2</th>\n",
       "      <td>&lt;start&gt; let s go &lt;end&gt;</td>\n",
       "    </tr>\n",
       "    <tr>\n",
       "      <th>v3</th>\n",
       "      <td>&lt;start&gt; let s go &lt;end&gt;</td>\n",
       "    </tr>\n",
       "    <tr>\n",
       "      <th>v4</th>\n",
       "      <td>&lt;start&gt; let s be a way &lt;end&gt;</td>\n",
       "    </tr>\n",
       "  </tbody>\n",
       "</table>\n",
       "</div>"
      ],
      "text/plain": [
       "               generated sentence\n",
       "v2        <start> let s go <end> \n",
       "v3        <start> let s go <end> \n",
       "v4  <start> let s be a way <end> "
      ]
     },
     "metadata": {},
     "output_type": "display_data"
    },
    {
     "name": "stdout",
     "output_type": "stream",
     "text": [
      "init sentences :: <start> you\n"
     ]
    },
    {
     "data": {
      "text/html": [
       "<div>\n",
       "<style scoped>\n",
       "    .dataframe tbody tr th:only-of-type {\n",
       "        vertical-align: middle;\n",
       "    }\n",
       "\n",
       "    .dataframe tbody tr th {\n",
       "        vertical-align: top;\n",
       "    }\n",
       "\n",
       "    .dataframe thead th {\n",
       "        text-align: right;\n",
       "    }\n",
       "</style>\n",
       "<table border=\"1\" class=\"dataframe\">\n",
       "  <thead>\n",
       "    <tr style=\"text-align: right;\">\n",
       "      <th></th>\n",
       "      <th>generated sentence</th>\n",
       "    </tr>\n",
       "  </thead>\n",
       "  <tbody>\n",
       "    <tr>\n",
       "      <th>v2</th>\n",
       "      <td>&lt;start&gt; you re the only one that i m here &lt;end&gt;</td>\n",
       "    </tr>\n",
       "    <tr>\n",
       "      <th>v3</th>\n",
       "      <td>&lt;start&gt; you know that you re a &lt;unk&gt; &lt;end&gt;</td>\n",
       "    </tr>\n",
       "    <tr>\n",
       "      <th>v4</th>\n",
       "      <td>&lt;start&gt; you re a &lt;unk&gt; &lt;end&gt;</td>\n",
       "    </tr>\n",
       "  </tbody>\n",
       "</table>\n",
       "</div>"
      ],
      "text/plain": [
       "                                  generated sentence\n",
       "v2  <start> you re the only one that i m here <end> \n",
       "v3       <start> you know that you re a <unk> <end> \n",
       "v4                     <start> you re a <unk> <end> "
      ]
     },
     "metadata": {},
     "output_type": "display_data"
    },
    {
     "name": "stdout",
     "output_type": "stream",
     "text": [
      "init sentences :: <start> this\n"
     ]
    },
    {
     "data": {
      "text/html": [
       "<div>\n",
       "<style scoped>\n",
       "    .dataframe tbody tr th:only-of-type {\n",
       "        vertical-align: middle;\n",
       "    }\n",
       "\n",
       "    .dataframe tbody tr th {\n",
       "        vertical-align: top;\n",
       "    }\n",
       "\n",
       "    .dataframe thead th {\n",
       "        text-align: right;\n",
       "    }\n",
       "</style>\n",
       "<table border=\"1\" class=\"dataframe\">\n",
       "  <thead>\n",
       "    <tr style=\"text-align: right;\">\n",
       "      <th></th>\n",
       "      <th>generated sentence</th>\n",
       "    </tr>\n",
       "  </thead>\n",
       "  <tbody>\n",
       "    <tr>\n",
       "      <th>v2</th>\n",
       "      <td>&lt;start&gt; this is the last night &lt;end&gt;</td>\n",
       "    </tr>\n",
       "    <tr>\n",
       "      <th>v3</th>\n",
       "      <td>&lt;start&gt; this is the one that i m in the &lt;unk&gt; ...</td>\n",
       "    </tr>\n",
       "    <tr>\n",
       "      <th>v4</th>\n",
       "      <td>&lt;start&gt; this is a &lt;unk&gt; &lt;end&gt;</td>\n",
       "    </tr>\n",
       "  </tbody>\n",
       "</table>\n",
       "</div>"
      ],
      "text/plain": [
       "                                   generated sentence\n",
       "v2              <start> this is the last night <end> \n",
       "v3  <start> this is the one that i m in the <unk> ...\n",
       "v4                     <start> this is a <unk> <end> "
      ]
     },
     "metadata": {},
     "output_type": "display_data"
    },
    {
     "name": "stdout",
     "output_type": "stream",
     "text": [
      "time: 41.7 ms (started: 2021-02-02 22:40:23 +09:00)\n"
     ]
    }
   ],
   "source": [
    "for i, s in enumerate(sentences):\n",
    "    print(f'init sentences :: {init_sentences[i]}')\n",
    "    df = pd.DataFrame(data = s, columns=['generated sentence'], index=['v2', 'v3', 'v4'])\n",
    "    display(df)"
   ]
  },
  {
   "cell_type": "markdown",
   "id": "velvet-building",
   "metadata": {},
   "source": [
    "### 더 많은 학습"
   ]
  },
  {
   "cell_type": "markdown",
   "id": "present-windsor",
   "metadata": {},
   "source": [
    "- epochs = 15 !"
   ]
  },
  {
   "cell_type": "code",
   "execution_count": 95,
   "id": "professional-gather",
   "metadata": {},
   "outputs": [
    {
     "name": "stdout",
     "output_type": "stream",
     "text": [
      "Model: \"sequential_6\"\n",
      "_________________________________________________________________\n",
      "Layer (type)                 Output Shape              Param #   \n",
      "=================================================================\n",
      "embedding_6 (Embedding)      (None, None, 512)         6144512   \n",
      "_________________________________________________________________\n",
      "lstm_12 (LSTM)               (None, None, 1024)        6295552   \n",
      "_________________________________________________________________\n",
      "lstm_13 (LSTM)               (None, None, 1024)        8392704   \n",
      "_________________________________________________________________\n",
      "dense_6 (Dense)              (None, None, 12001)       12301025  \n",
      "=================================================================\n",
      "Total params: 33,133,793\n",
      "Trainable params: 33,133,793\n",
      "Non-trainable params: 0\n",
      "_________________________________________________________________\n",
      "time: 3.35 s (started: 2021-02-02 23:04:41 +09:00)\n"
     ]
    }
   ],
   "source": [
    "model_v5 = get_model(vocab_size, hyper_parm[0][0], hyper_parm[0][1], 4)\n",
    "build_model(model_v5, input_sample) "
   ]
  },
  {
   "cell_type": "code",
   "execution_count": 98,
   "id": "conservative-inclusion",
   "metadata": {},
   "outputs": [
    {
     "name": "stdout",
     "output_type": "stream",
     "text": [
      "Epoch 1/15\n",
      "488/488 [==============================] - 89s 183ms/step - loss: 3.0899 - accuracy: 0.5256 - val_loss: 0.0000e+00 - val_accuracy: 0.0000e+00\n",
      "Epoch 2/15\n",
      "488/488 [==============================] - 91s 187ms/step - loss: 2.7164 - accuracy: 0.5483 - val_loss: 2.7115 - val_accuracy: 0.5522\n",
      "Epoch 3/15\n",
      "488/488 [==============================] - 91s 187ms/step - loss: 2.5018 - accuracy: 0.5666 - val_loss: 2.5971 - val_accuracy: 0.5660\n",
      "Epoch 4/15\n",
      "488/488 [==============================] - 91s 186ms/step - loss: 2.3213 - accuracy: 0.5852 - val_loss: 2.5141 - val_accuracy: 0.5773\n",
      "Epoch 5/15\n",
      "488/488 [==============================] - 90s 184ms/step - loss: 2.1584 - accuracy: 0.6045 - val_loss: 2.4523 - val_accuracy: 0.5880\n",
      "Epoch 6/15\n",
      "488/488 [==============================] - 91s 186ms/step - loss: 2.0112 - accuracy: 0.6245 - val_loss: 2.4075 - val_accuracy: 0.5968\n",
      "Epoch 7/15\n",
      "488/488 [==============================] - 89s 183ms/step - loss: 1.8767 - accuracy: 0.6444 - val_loss: 2.3694 - val_accuracy: 0.6060\n",
      "Epoch 8/15\n",
      "488/488 [==============================] - 89s 183ms/step - loss: 1.7542 - accuracy: 0.6642 - val_loss: 2.3451 - val_accuracy: 0.6126\n",
      "Epoch 9/15\n",
      "488/488 [==============================] - 89s 182ms/step - loss: 1.6431 - accuracy: 0.6833 - val_loss: 2.3327 - val_accuracy: 0.6198\n",
      "Epoch 10/15\n",
      "488/488 [==============================] - 89s 182ms/step - loss: 1.5423 - accuracy: 0.7017 - val_loss: 2.3223 - val_accuracy: 0.6266\n",
      "Epoch 11/15\n",
      "488/488 [==============================] - 89s 181ms/step - loss: 1.4526 - accuracy: 0.7182 - val_loss: 2.3223 - val_accuracy: 0.6321\n",
      "Epoch 12/15\n",
      "488/488 [==============================] - 90s 185ms/step - loss: 1.3719 - accuracy: 0.7336 - val_loss: 2.3260 - val_accuracy: 0.6389\n",
      "Epoch 13/15\n",
      "488/488 [==============================] - 89s 182ms/step - loss: 1.3007 - accuracy: 0.7473 - val_loss: 2.3282 - val_accuracy: 0.6429\n",
      "Epoch 14/15\n",
      "488/488 [==============================] - 89s 182ms/step - loss: 1.2381 - accuracy: 0.7594 - val_loss: 2.3436 - val_accuracy: 0.6470\n",
      "Epoch 15/15\n",
      "488/488 [==============================] - 89s 182ms/step - loss: 1.1833 - accuracy: 0.7701 - val_loss: 2.3510 - val_accuracy: 0.6517\n",
      "time: 22min 25s (started: 2021-02-02 23:25:33 +09:00)\n"
     ]
    }
   ],
   "source": [
    "history_v5 = model_v5.fit(train_dataset,\n",
    "                          epochs=15,\n",
    "                          validation_data=test_dataset)"
   ]
  },
  {
   "cell_type": "markdown",
   "id": "detailed-ribbon",
   "metadata": {},
   "source": [
    "- epoch가 12인 지점부터 overfitting이 발생함을 확인 할 수 있다."
   ]
  },
  {
   "cell_type": "markdown",
   "id": "collect-confusion",
   "metadata": {},
   "source": [
    "## 결론\n",
    "---"
   ]
  },
  {
   "cell_type": "markdown",
   "id": "auburn-variable",
   "metadata": {},
   "source": [
    "### 요약\n",
    "- 목표 : 노래 가사 데이터를 학습하여 노래 가사를 생성하는 작문 인공지능을 구축해본다.\n",
    "- 프로젝트 진행 과정\n",
    "    - 데이터 전처리\n",
    "        - 노래가사 데이터를 불러들여 모델이 학습할 수 있는 형태로 정제하였다.\n",
    "        - 먼저, 빈 데이터를 제거하고 중복되는 문장을 제거하였다.\n",
    "            - 처음 실험에서는 중복을 제거하였으나, 모델 학습결과 좋지 않았다. 상황을 개선하기 위하여 데이터의 수를 늘릴 필요가 있었고 중복제거 과정을 거치지 않는 것으로 데이터의 양을 확보하였다.\n",
    "            - 실험결과 중복 문장을 제거하지 않고, 데이터를 수를 충분히 늘리는 것이 더 좋은 성능을 보여주었다.\n",
    "        - 문장에서 작사에 필요하지 않은 특수문자를 제거하였다.\n",
    "        - 너무 긴 문장을 생성하는 것은 이 단계에서는 어렵기 때문에 15 단어 이상으로 구성된 문장을 삭제하였다.\n",
    "        - 토큰화를 진행하여 모델이 이해할 수 있는 형식으로 데이터를 변환하였다.\n",
    "        - 전체 데이터의 80%를 훈련 데이터로 사용하기 위하여 분리하였고, 나머지 20%의 데이터를 테스트용으로 사용하였다.\n",
    "    - 모델 생성, 학습\n",
    "        - Embedding layer / LSTM layer / LSTM layer / Dense Layer로 구성된 모델을 설계하였고, 다양한 하이퍼 파라미터에 대한 모델을 생성하였다.\n",
    "        - 생성된 모델들에 대한 학습을 진행하였고 이번 모델에 대해서는 embedding size가 성능에 많은 영향을 미침을 알 수 있었다.\n",
    "    - 모델 평가\n",
    "        - 최초에 설계된 프로젝트에 따른 모델의 성능의 몹시 좋지 못하였다. loss 값은 그럴듯 하였으나 실제 문장을 만드는 것에서는 완전한 문장을 만든 모델이 하나도 존재하지 않았다.\n",
    "        - 이에 심신의 타격을 입어 추가 실험을 진행하였다.\n",
    "    - 추가 실험\n",
    "         - 위에서 언급한바와 같이 먼저 데이터 전처리 과정을 손대어 더 많은 양이 데이터를 확보하였다.\n",
    "         - 이전 시험에서 사용한 것 보다 더 큰 하이퍼 파라미터 (518, 2048)를 사용하여 모델을 생성하였다.\n",
    "         - 실험 결과, 데이터의 양을 충분히 확보하였을 때 더 좋은 성능을 보임을 확인할 수 있었다.\n",
    "         - 이전 실험 최저 val_loss : 2.714461, 추가 실험 최저 val_loss : 2.3711 "
   ]
  },
  {
   "cell_type": "markdown",
   "id": "phantom-praise",
   "metadata": {},
   "source": [
    "### 프로젝트 평가"
   ]
  },
  {
   "cell_type": "markdown",
   "id": "naughty-laser",
   "metadata": {},
   "source": [
    "1. 가사 텍스트 생성 모델이 정상적으로 동작하는가? 텍스트 제너레이션 결과가 그럴듯한 문장으로 생성되는가?\n",
    "    - 가사 텍스트 생성 모델이 정상적으로 동작하였다.\n",
    "    - 텍스트 제너레이션의 결과\n",
    "        - \"<start> you re the only one that i m here <end>\"\n",
    "        - \"<start> this is the last night <end>\"\n",
    "        - \"<start> i will eat you alive <end>\"\n",
    "        - \"<start> he s a monster <end>\"\n",
    "        - \"<start> i m a bad bitch , you know it <end>\"\n",
    "        - \"<start> i m a survivor <end>\"\n",
    "        \n",
    "2. 데이터의 전처리와 데이터셋 구성 과정이 체계적으로 진행되었는가? 특수문자 제거, 토크나이저 생성, 패딩처리 등의 과정이 빠짐없이 진행되었는가?\n",
    "    - 데이터 전처리 : 빈 문자열 삭제, 15단어 이상으로 구성된 문장 삭제를 진행하였다. 중복 데이터를 제거하는 것과 제거하지 않는 것 두 가지 상황에 대하여 실험을 진행하였다.\n",
    "    - 특수문자 제거 : `!`, `?`, `.`, `.`을 제외한 특수문자를 제거하는 작업을 진행하였다.\n",
    "        - 문서에 남기지는 않았으나 1) `'`을 공백으로 대채한 경우 / 2) `'`를 제거하지 않고 하나의 단어로 인정한 경우 / 3) `'`를 붙어있는 문자와 함께 한 단어로 치는 경우(ex i'm)에 대해서도 각각 실험을 수행해 보았었다. 같은 하이퍼 파라미터로 테스트를 진행하였을 때 아예 제거하였을 때가 성능이 가장 좋았다. 노래 가사들이 구어체로 되어 있어 `'`을 사용하여 축약을 하는 단어가 데이터 상에 많이 존재하였다. 그렇기에 3)의 경우에는 너무 많은 단어가 생성되는 불상사가 발생하였고, 문장을 생성하였을 때, 아예 문장이 생성되지 않는 경우가 많았다. 가사 내에서 `'`의 사용빈도가 높기 때문인지 2)의 경우에는 \\<start> i ' ' ' ' '  같은 문장이 생성되기도 하였다.\n",
    "    - 토크나이저 생성 : 토큰화 과정을 정상적으로 수행하였다.\n",
    "    - 패딩처리 : post padding을 진행해주었다.\n",
    "\n",
    "3. 텍스트 생성모델이 안정적으로 학습되었는가? 텍스트 생성모델의 validation loss가 2.2 이하로 낮아졌는가?\n",
    "    - 모델이 안정적으로 학습되었다.\n",
    "    - 모델의 최저 validation loss는 2.3711로 안타깝게도 2.2 이하로 떨어지 못했다."
   ]
  },
  {
   "cell_type": "markdown",
   "id": "operating-prompt",
   "metadata": {},
   "source": [
    "### 회고"
   ]
  },
  {
   "cell_type": "markdown",
   "id": "opponent-effort",
   "metadata": {},
   "source": [
    "- 프로젝트에 투자한 순수한 시간이 가장 긴 노드였다. 설계 방향이 잘 못되어, 헛되게 쓴 시간이 많았고(다양한 하이퍼 파라미터에 대한 시도) 코드 상으로 잡음이 많았었으며, 그럼에도 원래 계획에 절반 정도 밖에 해내지 못하였다.\n",
    "- 잘못된 프로젝트 설계\n",
    "    - 이번 프로젝트를 수행하는 과정에서 초기에는 아주 쉬운 난이도라 생각하여, 평소에 궁금하게 생각하였던 하이퍼 파라미터의 선택에 따른 성능 변화가 얼마나 큰가에 대해서 실험해 보고자 32~1024 범위에서 값을 변경시켜가며 실험을 진행하였다. 실험을 마치고 이것이 잘못된 설계였다고 판단한 근거는 추가실험의 v2, v3 모델의 평가 결과이다. 이론상 embedding size와 hidden size는 크기에 따른 모델의 성능은 점점 좋아지다가 어느 순간을 기점으로 퇴화해야한다. 다양한 하이퍼 파라미터를 지정한 이유도 이 현상을 관찰하고 싶었기 때문이다.하지만, 본 실험에서는 성능이 좋아지기만 할 뿐, 나빠질 기미조차 보이지 않았다. 반면 추가실험에서는 (512, 1024)에서의 성능보다 (1024, 1024)의 성능이 더 좋지 않은 것이 관찰되었다.\n",
    "    - 이것으로 알 수 있었던 설계의 실패 포인트는 실험의 순서였다. 목표하는 모델에 가장 최적화된 하이퍼 파라매터를 먼저 찾고 그것을 활용하여 전처리에 따른 성능변화나 네트워크 구조에 따른 성능변화를 관찰하려던 것이 최초의 설계였다. 하지만 이번 프로젝트는 통해서 제대로 정제된 데이터가 없는 상태에서는 모델이 제대로 학습되지 않이 때문에 그 상태에서 다양한 하이퍼 파라미터를 투입하여 실험을 하고 변화를 관찰하여도 사실상 아무 의미가 없음을 알게 되었다.\n",
    "- 원계획 :  프로젝트의 초기 단계에서 할만한데?-라고 쉼게 생각하여 넘치는 야망으로 설계하였으나 수행하지 못한 단계들이 남아있다. 이곳에 표지판처럼 기록해 두고 차후에 돌아와서 다시 수행해보고자 한다.\n",
    "    - pre padding vs post padding : ref 첫번째에 해당하는 논문에 따르면 대다수의 경우 pre-padding 방식이 post-padding 방식보다 더 좋은 성능을 보여 준다. 하지만, 직관적으로 생각하였을 때, 이번 프로젝트는 문장의 앞부부에 중요한 정보가 있기 때문에 pre-padding을 하는 것이 더 유리해 보인다. 실제로 이번 프로젝트에 한하여 pre-padding과 post-padding 중 어느 방법이 더 좋은 성능을 보일까? 만약 pre-padding이 더 좋은 성능을 보인다면, pre-padding이 post-padding을 이길 수 있는 다른 사례는 어떤 것이 있을까?\n",
    "    - 학습된 모델을 저장하는 다양한 방법 : 이번 프로젝트에서는 많은 모델을 생성하였고, 단일 모델에 대한 학습시간이 조금 걸리는 편이므로 모델을 저장하고 불러와 사용하는 경우가 많았다. 그 과정에서 모델이 상당히 많은 용량을 차지하는 것을 알게되었다. 지금 이 글을 작성하는 순간의 모델 저장 디렉토리의 용량은 무려 14.8GB이다. h5 방식으로 모델을 저장하고 있는데, 이것보다 더 가벼운 방식은 없을까?\n",
    "    - 노드에서는 `tf.keras.Model`을 super class로 가져와서 `TextGenerator`를 만들고 있다. `tf.keras.Model`을 이용하여 모델 클래스를 생성하였을 때의 장점과 클래스 작성 방식에 대해 알아보자.\n",
    "    - 이전 프로젝트에서 사전 학습된 워드 임베딩을 사용하면 모델의 성능을 올릴 수 있다고 배운바있다. 학습된 word2vec를 모델에 도입하여 성능 차이를 확인해 보자. 더하여 인터넷 서치결과 구어체를 학습한 word2vec, 위키피디아를 학습한 word2vec, 뉴스 정보를 학습한 word2vec 등 영어 word2vec는 다양한 리소를 기반으로 학습된 다양한 버전이 많은 것을 확인할 수 있었다. word2vec가 학습한 데이터의 종류에 따라서 같은 TextGenerator가 생성하는 문장도 달라지를 확인해 보는 것도 재밋는 실험이 될 것이다.\n",
    "    - 실험의 편의성을 위하여 필요한 부분에 코드를 작성하였더니 문서가 너무 산만하다. 적절히 리팩토링하여 코드를 Code Collection 안으로 수납하자."
   ]
  },
  {
   "cell_type": "code",
   "execution_count": 101,
   "id": "elect-music",
   "metadata": {},
   "outputs": [
    {
     "name": "stdout",
     "output_type": "stream",
     "text": [
      "14G\t./models\n",
      "time: 210 ms (started: 2021-02-02 23:50:35 +09:00)\n"
     ]
    }
   ],
   "source": [
    "!du -sh ./models"
   ]
  },
  {
   "cell_type": "code",
   "execution_count": null,
   "id": "accepted-abraham",
   "metadata": {},
   "outputs": [],
   "source": []
  },
  {
   "cell_type": "markdown",
   "id": "separate-works",
   "metadata": {},
   "source": [
    "## Code Collection\n",
    "---"
   ]
  },
  {
   "cell_type": "markdown",
   "id": "suspended-colleague",
   "metadata": {},
   "source": [
    "#### 데이터 읽어들이기 : `load_sentences`"
   ]
  },
  {
   "cell_type": "code",
   "execution_count": 31,
   "id": "given-colors",
   "metadata": {},
   "outputs": [
    {
     "name": "stdout",
     "output_type": "stream",
     "text": [
      "time: 1.18 ms (started: 2021-02-02 21:02:38 +09:00)\n"
     ]
    }
   ],
   "source": [
    "def load_sentences(path):\n",
    "    txt_list = glob.glob(path)\n",
    "    raw_corpus = []\n",
    "\n",
    "    # 여러개의 txt 파일을 모두 읽어서 raw_corpus 에 담습니다.\n",
    "    for txt_file in txt_list:\n",
    "        with open(txt_file, \"r\") as f:\n",
    "            raw = f.read().splitlines()\n",
    "            raw_corpus.extend(raw)\n",
    "\n",
    "    return raw_corpus"
   ]
  },
  {
   "cell_type": "markdown",
   "id": "invalid-saudi",
   "metadata": {},
   "source": [
    "### ref\n",
    "- [pre pedding vs post pedding](https://arxiv.org/pdf/1903.07288.pdf)\n",
    "- [tf.keras.Model](https://www.tensorflow.org/api_docs/python/tf/keras/Model)\n",
    "- [학습 모델 보기/저장하기/불러오기](https://tykimos.github.io/2017/06/10/Model_Save_Load/)"
   ]
  }
 ],
 "metadata": {
  "kernelspec": {
   "display_name": "Python 3",
   "language": "python",
   "name": "python3"
  },
  "language_info": {
   "codemirror_mode": {
    "name": "ipython",
    "version": 3
   },
   "file_extension": ".py",
   "mimetype": "text/x-python",
   "name": "python",
   "nbconvert_exporter": "python",
   "pygments_lexer": "ipython3",
   "version": "3.7.9"
  },
  "toc": {
   "base_numbering": 1,
   "nav_menu": {},
   "number_sections": true,
   "sideBar": true,
   "skip_h1_title": false,
   "title_cell": "Table of Contents",
   "title_sidebar": "Contents",
   "toc_cell": false,
   "toc_position": {
    "height": "calc(100% - 180px)",
    "left": "10px",
    "top": "150px",
    "width": "384px"
   },
   "toc_section_display": true,
   "toc_window_display": false
  }
 },
 "nbformat": 4,
 "nbformat_minor": 5
}
