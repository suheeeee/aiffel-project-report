{
 "cells": [
  {
   "cell_type": "markdown",
   "id": "federal-violation",
   "metadata": {},
   "source": [
    "# Movielens 영화 추천 실습\n",
    "---"
   ]
  },
  {
   "cell_type": "markdown",
   "id": "confirmed-locator",
   "metadata": {},
   "source": [
    "MF 모델 학습 방법을 토대로, 내가 좋아할 만한 영화 추천 시스템을 제작해 보자✊✊"
   ]
  },
  {
   "cell_type": "markdown",
   "id": "theoretical-indonesia",
   "metadata": {},
   "source": [
    "## STEP 0. 설계\n",
    "---\n",
    "다음과 같은 순서로 영화 추천 시스템을 구축해보고자 한다."
   ]
  },
  {
   "cell_type": "markdown",
   "id": "responsible-screening",
   "metadata": {},
   "source": [
    "1. 자료수집 : Movielens 데이터를 다운로드 받는다. [link](http://files.grouplens.org/datasets/movielens/ml-1m.zip)\n",
    "2. 데이터 준비와 전처리\n",
    "    - 데이터를 확인하고 학습에 필요한 전처리를 진행한다.\n",
    "    - 별점을 시청횟수로 해석해서 처리한다.\n",
    "    - 유저가 3점 미만으로 준 데이터는 선호하지 않는다고 가정하고 제외하도록 한다."
   ]
  },
  {
   "cell_type": "markdown",
   "id": "front-bracket",
   "metadata": {},
   "source": [
    "## STEP1. 데이터 탐색하기와 전처리\n",
    "---"
   ]
  },
  {
   "cell_type": "markdown",
   "id": "reliable-albania",
   "metadata": {},
   "source": [
    "### 데이터 받기"
   ]
  },
  {
   "cell_type": "code",
   "execution_count": 1,
   "id": "automotive-trick",
   "metadata": {},
   "outputs": [],
   "source": [
    "# 1) wget으로 데이터 다운로드\n",
    "# ! wget http://files.grouplens.org/datasets/movielens/ml-1m.zip -P ./data\n",
    "\n",
    "# 2) 압축 해제\n",
    "# ! unzip ./data/ml-1m.zip ./data"
   ]
  },
  {
   "cell_type": "markdown",
   "id": "meaning-enforcement",
   "metadata": {},
   "source": [
    "### 데이터 준비"
   ]
  },
  {
   "cell_type": "markdown",
   "id": "nervous-services",
   "metadata": {},
   "source": [
    "#### 평점 데이터 준비"
   ]
  },
  {
   "cell_type": "markdown",
   "id": "fundamental-foundation",
   "metadata": {},
   "source": [
    "- load data"
   ]
  },
  {
   "cell_type": "code",
   "execution_count": 4,
   "id": "eastern-teaching",
   "metadata": {},
   "outputs": [
    {
     "name": "stdout",
     "output_type": "stream",
     "text": [
      "time: 383 µs (started: 2021-02-16 19:46:36 +09:00)\n"
     ]
    }
   ],
   "source": [
    "import os\n",
    "import pandas as pd\n",
    "\n",
    "%config Completer.use_jedi = False\n",
    "%load_ext autotime\n",
    "\n",
    "DATA_DIR_PATH = os.getenv('HOME') + '/workspace/aiffel-exploration-workspace/E08_recommender_system/data'"
   ]
  },
  {
   "cell_type": "code",
   "execution_count": 5,
   "id": "mobile-skirt",
   "metadata": {},
   "outputs": [
    {
     "data": {
      "text/html": [
       "<div>\n",
       "<style scoped>\n",
       "    .dataframe tbody tr th:only-of-type {\n",
       "        vertical-align: middle;\n",
       "    }\n",
       "\n",
       "    .dataframe tbody tr th {\n",
       "        vertical-align: top;\n",
       "    }\n",
       "\n",
       "    .dataframe thead th {\n",
       "        text-align: right;\n",
       "    }\n",
       "</style>\n",
       "<table border=\"1\" class=\"dataframe\">\n",
       "  <thead>\n",
       "    <tr style=\"text-align: right;\">\n",
       "      <th></th>\n",
       "      <th>user_id</th>\n",
       "      <th>movie_id</th>\n",
       "      <th>rating</th>\n",
       "      <th>timestamp</th>\n",
       "    </tr>\n",
       "  </thead>\n",
       "  <tbody>\n",
       "    <tr>\n",
       "      <th>0</th>\n",
       "      <td>1</td>\n",
       "      <td>1193</td>\n",
       "      <td>5</td>\n",
       "      <td>978300760</td>\n",
       "    </tr>\n",
       "    <tr>\n",
       "      <th>1</th>\n",
       "      <td>1</td>\n",
       "      <td>661</td>\n",
       "      <td>3</td>\n",
       "      <td>978302109</td>\n",
       "    </tr>\n",
       "    <tr>\n",
       "      <th>2</th>\n",
       "      <td>1</td>\n",
       "      <td>914</td>\n",
       "      <td>3</td>\n",
       "      <td>978301968</td>\n",
       "    </tr>\n",
       "    <tr>\n",
       "      <th>3</th>\n",
       "      <td>1</td>\n",
       "      <td>3408</td>\n",
       "      <td>4</td>\n",
       "      <td>978300275</td>\n",
       "    </tr>\n",
       "    <tr>\n",
       "      <th>4</th>\n",
       "      <td>1</td>\n",
       "      <td>2355</td>\n",
       "      <td>5</td>\n",
       "      <td>978824291</td>\n",
       "    </tr>\n",
       "  </tbody>\n",
       "</table>\n",
       "</div>"
      ],
      "text/plain": [
       "   user_id  movie_id  rating  timestamp\n",
       "0        1      1193       5  978300760\n",
       "1        1       661       3  978302109\n",
       "2        1       914       3  978301968\n",
       "3        1      3408       4  978300275\n",
       "4        1      2355       5  978824291"
      ]
     },
     "execution_count": 5,
     "metadata": {},
     "output_type": "execute_result"
    },
    {
     "name": "stdout",
     "output_type": "stream",
     "text": [
      "time: 3.51 s (started: 2021-02-16 19:46:37 +09:00)\n"
     ]
    }
   ],
   "source": [
    "rating_file_path = DATA_DIR_PATH + '/ml-1m/ratings.dat'\n",
    "ratings_cols = ['user_id', 'movie_id', 'rating', 'timestamp']\n",
    "ratings = pd.read_csv(rating_file_path, sep='::', names=ratings_cols, engine='python')\n",
    "orginal_data_size = len(ratings)\n",
    "ratings.head()"
   ]
  },
  {
   "cell_type": "markdown",
   "id": "southern-password",
   "metadata": {},
   "source": [
    "- rating 점수가 3점 이상인 데이터만 남긴다."
   ]
  },
  {
   "cell_type": "code",
   "execution_count": 6,
   "id": "confirmed-spirit",
   "metadata": {},
   "outputs": [
    {
     "name": "stdout",
     "output_type": "stream",
     "text": [
      "orginal_data_size: 1000209, filtered_data_size: 836478\n",
      "Ratio of Remaining Data is 83.63%\n",
      "time: 19.9 ms (started: 2021-02-16 19:46:41 +09:00)\n"
     ]
    }
   ],
   "source": [
    "ratings = ratings[ratings['rating']>=3]\n",
    "filtered_data_size = len(ratings)\n",
    "\n",
    "print(f'orginal_data_size: {orginal_data_size}, filtered_data_size: {filtered_data_size}')\n",
    "print(f'Ratio of Remaining Data is {filtered_data_size / orginal_data_size:.2%}')"
   ]
  },
  {
   "cell_type": "markdown",
   "id": "aerial-ready",
   "metadata": {},
   "source": [
    "- rating 컬럼의 이름을 count로 변경한다."
   ]
  },
  {
   "cell_type": "code",
   "execution_count": 7,
   "id": "velvet-annotation",
   "metadata": {},
   "outputs": [
    {
     "data": {
      "text/plain": [
       "0          5\n",
       "1          3\n",
       "2          3\n",
       "3          4\n",
       "4          5\n",
       "          ..\n",
       "1000203    3\n",
       "1000205    5\n",
       "1000206    5\n",
       "1000207    4\n",
       "1000208    4\n",
       "Name: count, Length: 836478, dtype: int64"
      ]
     },
     "execution_count": 7,
     "metadata": {},
     "output_type": "execute_result"
    },
    {
     "name": "stdout",
     "output_type": "stream",
     "text": [
      "time: 5.26 ms (started: 2021-02-16 19:46:43 +09:00)\n"
     ]
    }
   ],
   "source": [
    "ratings.rename(columns={'rating':'count'}, inplace=True)\n",
    "ratings['count']"
   ]
  },
  {
   "cell_type": "markdown",
   "id": "existing-melissa",
   "metadata": {},
   "source": [
    "- 결측치 확인"
   ]
  },
  {
   "cell_type": "code",
   "execution_count": 8,
   "id": "increasing-vertex",
   "metadata": {},
   "outputs": [
    {
     "data": {
      "text/plain": [
       "user_id      0\n",
       "movie_id     0\n",
       "count        0\n",
       "timestamp    0\n",
       "dtype: int64"
      ]
     },
     "execution_count": 8,
     "metadata": {},
     "output_type": "execute_result"
    },
    {
     "name": "stdout",
     "output_type": "stream",
     "text": [
      "time: 17.9 ms (started: 2021-02-16 19:46:44 +09:00)\n"
     ]
    }
   ],
   "source": [
    "ratings.isnull().sum()"
   ]
  },
  {
   "cell_type": "markdown",
   "id": "renewable-tuning",
   "metadata": {},
   "source": [
    "#### 영화 데이터 준비"
   ]
  },
  {
   "cell_type": "markdown",
   "id": "miniature-formula",
   "metadata": {},
   "source": [
    "- load data"
   ]
  },
  {
   "cell_type": "code",
   "execution_count": 9,
   "id": "numeric-brunswick",
   "metadata": {},
   "outputs": [
    {
     "data": {
      "text/html": [
       "<div>\n",
       "<style scoped>\n",
       "    .dataframe tbody tr th:only-of-type {\n",
       "        vertical-align: middle;\n",
       "    }\n",
       "\n",
       "    .dataframe tbody tr th {\n",
       "        vertical-align: top;\n",
       "    }\n",
       "\n",
       "    .dataframe thead th {\n",
       "        text-align: right;\n",
       "    }\n",
       "</style>\n",
       "<table border=\"1\" class=\"dataframe\">\n",
       "  <thead>\n",
       "    <tr style=\"text-align: right;\">\n",
       "      <th></th>\n",
       "      <th>movie_id</th>\n",
       "      <th>title</th>\n",
       "      <th>genre</th>\n",
       "    </tr>\n",
       "  </thead>\n",
       "  <tbody>\n",
       "    <tr>\n",
       "      <th>0</th>\n",
       "      <td>1</td>\n",
       "      <td>Toy Story (1995)</td>\n",
       "      <td>Animation|Children's|Comedy</td>\n",
       "    </tr>\n",
       "    <tr>\n",
       "      <th>1</th>\n",
       "      <td>2</td>\n",
       "      <td>Jumanji (1995)</td>\n",
       "      <td>Adventure|Children's|Fantasy</td>\n",
       "    </tr>\n",
       "    <tr>\n",
       "      <th>2</th>\n",
       "      <td>3</td>\n",
       "      <td>Grumpier Old Men (1995)</td>\n",
       "      <td>Comedy|Romance</td>\n",
       "    </tr>\n",
       "    <tr>\n",
       "      <th>3</th>\n",
       "      <td>4</td>\n",
       "      <td>Waiting to Exhale (1995)</td>\n",
       "      <td>Comedy|Drama</td>\n",
       "    </tr>\n",
       "    <tr>\n",
       "      <th>4</th>\n",
       "      <td>5</td>\n",
       "      <td>Father of the Bride Part II (1995)</td>\n",
       "      <td>Comedy</td>\n",
       "    </tr>\n",
       "  </tbody>\n",
       "</table>\n",
       "</div>"
      ],
      "text/plain": [
       "   movie_id                               title                         genre\n",
       "0         1                    Toy Story (1995)   Animation|Children's|Comedy\n",
       "1         2                      Jumanji (1995)  Adventure|Children's|Fantasy\n",
       "2         3             Grumpier Old Men (1995)                Comedy|Romance\n",
       "3         4            Waiting to Exhale (1995)                  Comedy|Drama\n",
       "4         5  Father of the Bride Part II (1995)                        Comedy"
      ]
     },
     "execution_count": 9,
     "metadata": {},
     "output_type": "execute_result"
    },
    {
     "name": "stdout",
     "output_type": "stream",
     "text": [
      "time: 16.3 ms (started: 2021-02-16 19:46:44 +09:00)\n"
     ]
    }
   ],
   "source": [
    "# 영화 제목을 보기 위해 메타 데이터를 읽어옵니다.\n",
    "movie_file_path  = DATA_DIR_PATH + '/ml-1m/movies.dat'\n",
    "cols = ['movie_id', 'title', 'genre'] \n",
    "movies = pd.read_csv(movie_file_path, sep='::', names=cols, engine='python')\n",
    "movies.head()"
   ]
  },
  {
   "cell_type": "markdown",
   "id": "neural-configuration",
   "metadata": {},
   "source": [
    "- 결측치 확인"
   ]
  },
  {
   "cell_type": "code",
   "execution_count": 10,
   "id": "adjacent-november",
   "metadata": {},
   "outputs": [
    {
     "data": {
      "text/plain": [
       "movie_id    0\n",
       "title       0\n",
       "genre       0\n",
       "dtype: int64"
      ]
     },
     "execution_count": 10,
     "metadata": {},
     "output_type": "execute_result"
    },
    {
     "name": "stdout",
     "output_type": "stream",
     "text": [
      "time: 4.3 ms (started: 2021-02-16 19:46:45 +09:00)\n"
     ]
    }
   ],
   "source": [
    "movies.isnull().sum()"
   ]
  },
  {
   "cell_type": "markdown",
   "id": "apparent-madrid",
   "metadata": {},
   "source": [
    "#### 데이터셋 합치기"
   ]
  },
  {
   "cell_type": "markdown",
   "id": "later-advantage",
   "metadata": {},
   "source": [
    "- ratings 데이터에 movies의 title, genre가 함께 명시되는 편이 프로젝트를 진행하는 것에 수훨할 것이다."
   ]
  },
  {
   "cell_type": "code",
   "execution_count": 11,
   "id": "rolled-interference",
   "metadata": {},
   "outputs": [
    {
     "data": {
      "text/html": [
       "<div>\n",
       "<style scoped>\n",
       "    .dataframe tbody tr th:only-of-type {\n",
       "        vertical-align: middle;\n",
       "    }\n",
       "\n",
       "    .dataframe tbody tr th {\n",
       "        vertical-align: top;\n",
       "    }\n",
       "\n",
       "    .dataframe thead th {\n",
       "        text-align: right;\n",
       "    }\n",
       "</style>\n",
       "<table border=\"1\" class=\"dataframe\">\n",
       "  <thead>\n",
       "    <tr style=\"text-align: right;\">\n",
       "      <th></th>\n",
       "      <th>user_id</th>\n",
       "      <th>movie_id</th>\n",
       "      <th>count</th>\n",
       "      <th>timestamp</th>\n",
       "      <th>title</th>\n",
       "      <th>genre</th>\n",
       "    </tr>\n",
       "  </thead>\n",
       "  <tbody>\n",
       "    <tr>\n",
       "      <th>0</th>\n",
       "      <td>1</td>\n",
       "      <td>1193</td>\n",
       "      <td>5</td>\n",
       "      <td>978300760</td>\n",
       "      <td>One Flew Over the Cuckoo's Nest (1975)</td>\n",
       "      <td>Drama</td>\n",
       "    </tr>\n",
       "    <tr>\n",
       "      <th>1</th>\n",
       "      <td>2</td>\n",
       "      <td>1193</td>\n",
       "      <td>5</td>\n",
       "      <td>978298413</td>\n",
       "      <td>One Flew Over the Cuckoo's Nest (1975)</td>\n",
       "      <td>Drama</td>\n",
       "    </tr>\n",
       "    <tr>\n",
       "      <th>2</th>\n",
       "      <td>12</td>\n",
       "      <td>1193</td>\n",
       "      <td>4</td>\n",
       "      <td>978220179</td>\n",
       "      <td>One Flew Over the Cuckoo's Nest (1975)</td>\n",
       "      <td>Drama</td>\n",
       "    </tr>\n",
       "    <tr>\n",
       "      <th>3</th>\n",
       "      <td>15</td>\n",
       "      <td>1193</td>\n",
       "      <td>4</td>\n",
       "      <td>978199279</td>\n",
       "      <td>One Flew Over the Cuckoo's Nest (1975)</td>\n",
       "      <td>Drama</td>\n",
       "    </tr>\n",
       "    <tr>\n",
       "      <th>4</th>\n",
       "      <td>17</td>\n",
       "      <td>1193</td>\n",
       "      <td>5</td>\n",
       "      <td>978158471</td>\n",
       "      <td>One Flew Over the Cuckoo's Nest (1975)</td>\n",
       "      <td>Drama</td>\n",
       "    </tr>\n",
       "    <tr>\n",
       "      <th>...</th>\n",
       "      <td>...</td>\n",
       "      <td>...</td>\n",
       "      <td>...</td>\n",
       "      <td>...</td>\n",
       "      <td>...</td>\n",
       "      <td>...</td>\n",
       "    </tr>\n",
       "    <tr>\n",
       "      <th>836473</th>\n",
       "      <td>5851</td>\n",
       "      <td>3607</td>\n",
       "      <td>5</td>\n",
       "      <td>957756608</td>\n",
       "      <td>One Little Indian (1973)</td>\n",
       "      <td>Comedy|Drama|Western</td>\n",
       "    </tr>\n",
       "    <tr>\n",
       "      <th>836474</th>\n",
       "      <td>5854</td>\n",
       "      <td>3026</td>\n",
       "      <td>4</td>\n",
       "      <td>958346883</td>\n",
       "      <td>Slaughterhouse (1987)</td>\n",
       "      <td>Horror</td>\n",
       "    </tr>\n",
       "    <tr>\n",
       "      <th>836475</th>\n",
       "      <td>5854</td>\n",
       "      <td>690</td>\n",
       "      <td>3</td>\n",
       "      <td>957744257</td>\n",
       "      <td>Promise, The (Versprechen, Das) (1994)</td>\n",
       "      <td>Romance</td>\n",
       "    </tr>\n",
       "    <tr>\n",
       "      <th>836476</th>\n",
       "      <td>5938</td>\n",
       "      <td>2909</td>\n",
       "      <td>4</td>\n",
       "      <td>957273353</td>\n",
       "      <td>Five Wives, Three Secretaries and Me (1998)</td>\n",
       "      <td>Documentary</td>\n",
       "    </tr>\n",
       "    <tr>\n",
       "      <th>836477</th>\n",
       "      <td>5948</td>\n",
       "      <td>1360</td>\n",
       "      <td>5</td>\n",
       "      <td>1016563709</td>\n",
       "      <td>Identification of a Woman (Identificazione di ...</td>\n",
       "      <td>Drama</td>\n",
       "    </tr>\n",
       "  </tbody>\n",
       "</table>\n",
       "<p>836478 rows × 6 columns</p>\n",
       "</div>"
      ],
      "text/plain": [
       "        user_id  movie_id  count   timestamp  \\\n",
       "0             1      1193      5   978300760   \n",
       "1             2      1193      5   978298413   \n",
       "2            12      1193      4   978220179   \n",
       "3            15      1193      4   978199279   \n",
       "4            17      1193      5   978158471   \n",
       "...         ...       ...    ...         ...   \n",
       "836473     5851      3607      5   957756608   \n",
       "836474     5854      3026      4   958346883   \n",
       "836475     5854       690      3   957744257   \n",
       "836476     5938      2909      4   957273353   \n",
       "836477     5948      1360      5  1016563709   \n",
       "\n",
       "                                                    title  \\\n",
       "0                  One Flew Over the Cuckoo's Nest (1975)   \n",
       "1                  One Flew Over the Cuckoo's Nest (1975)   \n",
       "2                  One Flew Over the Cuckoo's Nest (1975)   \n",
       "3                  One Flew Over the Cuckoo's Nest (1975)   \n",
       "4                  One Flew Over the Cuckoo's Nest (1975)   \n",
       "...                                                   ...   \n",
       "836473                           One Little Indian (1973)   \n",
       "836474                              Slaughterhouse (1987)   \n",
       "836475             Promise, The (Versprechen, Das) (1994)   \n",
       "836476        Five Wives, Three Secretaries and Me (1998)   \n",
       "836477  Identification of a Woman (Identificazione di ...   \n",
       "\n",
       "                       genre  \n",
       "0                      Drama  \n",
       "1                      Drama  \n",
       "2                      Drama  \n",
       "3                      Drama  \n",
       "4                      Drama  \n",
       "...                      ...  \n",
       "836473  Comedy|Drama|Western  \n",
       "836474                Horror  \n",
       "836475               Romance  \n",
       "836476           Documentary  \n",
       "836477                 Drama  \n",
       "\n",
       "[836478 rows x 6 columns]"
      ]
     },
     "execution_count": 11,
     "metadata": {},
     "output_type": "execute_result"
    },
    {
     "name": "stdout",
     "output_type": "stream",
     "text": [
      "time: 87.4 ms (started: 2021-02-16 19:46:45 +09:00)\n"
     ]
    }
   ],
   "source": [
    "ratings = pd.merge(ratings, movies, how='inner', left_on='movie_id', right_on='movie_id')\n",
    "ratings"
   ]
  },
  {
   "cell_type": "markdown",
   "id": "miniature-shannon",
   "metadata": {},
   "source": [
    "#### 불필요한 column 제거"
   ]
  },
  {
   "cell_type": "markdown",
   "id": "european-defense",
   "metadata": {},
   "source": [
    "- timestamp는 추천에 사용되지도 않으며 영화에 대한 유의미한 정보도 아니므로 제거한다."
   ]
  },
  {
   "cell_type": "code",
   "execution_count": 12,
   "id": "consecutive-album",
   "metadata": {},
   "outputs": [
    {
     "data": {
      "text/plain": [
       "Index(['user_id', 'movie_id', 'count', 'title', 'genre'], dtype='object')"
      ]
     },
     "execution_count": 12,
     "metadata": {},
     "output_type": "execute_result"
    },
    {
     "name": "stdout",
     "output_type": "stream",
     "text": [
      "time: 16.8 ms (started: 2021-02-16 19:46:46 +09:00)\n"
     ]
    }
   ],
   "source": [
    "ratings = ratings.drop('timestamp', axis=1)\n",
    "ratings.columns"
   ]
  },
  {
   "cell_type": "markdown",
   "id": "loaded-terrace",
   "metadata": {},
   "source": [
    "### 데이터 탐색"
   ]
  },
  {
   "cell_type": "markdown",
   "id": "hispanic-horror",
   "metadata": {},
   "source": [
    "- ratings에 있는 유니크한 영화 개수\n"
   ]
  },
  {
   "cell_type": "code",
   "execution_count": 13,
   "id": "least-litigation",
   "metadata": {},
   "outputs": [
    {
     "data": {
      "text/plain": [
       "3628"
      ]
     },
     "execution_count": 13,
     "metadata": {},
     "output_type": "execute_result"
    },
    {
     "name": "stdout",
     "output_type": "stream",
     "text": [
      "time: 10.9 ms (started: 2021-02-16 19:46:46 +09:00)\n"
     ]
    }
   ],
   "source": [
    "ratings['movie_id'].nunique()"
   ]
  },
  {
   "cell_type": "markdown",
   "id": "stone-dinner",
   "metadata": {},
   "source": [
    "- movie에 있는 유니크한 영화 개수"
   ]
  },
  {
   "cell_type": "code",
   "execution_count": 14,
   "id": "latest-following",
   "metadata": {},
   "outputs": [
    {
     "data": {
      "text/plain": [
       "3883"
      ]
     },
     "execution_count": 14,
     "metadata": {},
     "output_type": "execute_result"
    },
    {
     "name": "stdout",
     "output_type": "stream",
     "text": [
      "time: 7.6 ms (started: 2021-02-16 19:46:47 +09:00)\n"
     ]
    }
   ],
   "source": [
    "movies['movie_id'].nunique()"
   ]
  },
  {
   "cell_type": "markdown",
   "id": "acoustic-height",
   "metadata": {},
   "source": [
    "- rating에 있는 유니크한 사용자 수\n"
   ]
  },
  {
   "cell_type": "code",
   "execution_count": 15,
   "id": "inner-malta",
   "metadata": {},
   "outputs": [
    {
     "data": {
      "text/plain": [
       "6039"
      ]
     },
     "execution_count": 15,
     "metadata": {},
     "output_type": "execute_result"
    },
    {
     "name": "stdout",
     "output_type": "stream",
     "text": [
      "time: 20.9 ms (started: 2021-02-16 19:46:48 +09:00)\n"
     ]
    }
   ],
   "source": [
    "ratings['user_id'].nunique()"
   ]
  },
  {
   "cell_type": "markdown",
   "id": "residential-animal",
   "metadata": {},
   "source": [
    "- rating의 최대/최소값"
   ]
  },
  {
   "cell_type": "code",
   "execution_count": 16,
   "id": "administrative-trail",
   "metadata": {},
   "outputs": [
    {
     "data": {
      "text/plain": [
       "max    5\n",
       "min    3\n",
       "Name: count, dtype: int64"
      ]
     },
     "execution_count": 16,
     "metadata": {},
     "output_type": "execute_result"
    },
    {
     "name": "stdout",
     "output_type": "stream",
     "text": [
      "time: 12.4 ms (started: 2021-02-16 19:46:48 +09:00)\n"
     ]
    }
   ],
   "source": [
    "ratings['count'].agg(['max','min'])"
   ]
  },
  {
   "cell_type": "markdown",
   "id": "systematic-conditioning",
   "metadata": {},
   "source": [
    "- 가장 인기 있는 영화 30개(인기순) : 영화를 시청한 사람수, 시청한 사람수가 같다면 영화의 평균 시청 횟수가 높을 수록 인기가 많은 영화라고 판단하였다."
   ]
  },
  {
   "cell_type": "code",
   "execution_count": 17,
   "id": "intended-bullet",
   "metadata": {},
   "outputs": [
    {
     "name": "stdout",
     "output_type": "stream",
     "text": [
      "time: 29.6 ms (started: 2021-02-16 19:46:48 +09:00)\n"
     ]
    }
   ],
   "source": [
    "rating_count = ratings.groupby('movie_id')['count'].count().reset_index(name='count_cnt')\n",
    "rating_mean = ratings.groupby('movie_id')['count'].mean().reset_index(name='count_mean')"
   ]
  },
  {
   "cell_type": "code",
   "execution_count": 18,
   "id": "differential-illness",
   "metadata": {},
   "outputs": [
    {
     "data": {
      "text/html": [
       "<div>\n",
       "<style scoped>\n",
       "    .dataframe tbody tr th:only-of-type {\n",
       "        vertical-align: middle;\n",
       "    }\n",
       "\n",
       "    .dataframe tbody tr th {\n",
       "        vertical-align: top;\n",
       "    }\n",
       "\n",
       "    .dataframe thead th {\n",
       "        text-align: right;\n",
       "    }\n",
       "</style>\n",
       "<table border=\"1\" class=\"dataframe\">\n",
       "  <thead>\n",
       "    <tr style=\"text-align: right;\">\n",
       "      <th></th>\n",
       "      <th>movie_id</th>\n",
       "      <th>count_cnt</th>\n",
       "      <th>count_mean</th>\n",
       "      <th>title</th>\n",
       "      <th>genre</th>\n",
       "    </tr>\n",
       "  </thead>\n",
       "  <tbody>\n",
       "    <tr>\n",
       "      <th>1</th>\n",
       "      <td>2858</td>\n",
       "      <td>3211</td>\n",
       "      <td>4.499844</td>\n",
       "      <td>American Beauty (1999)</td>\n",
       "      <td>Comedy|Drama</td>\n",
       "    </tr>\n",
       "    <tr>\n",
       "      <th>2</th>\n",
       "      <td>260</td>\n",
       "      <td>2910</td>\n",
       "      <td>4.528522</td>\n",
       "      <td>Star Wars: Episode IV - A New Hope (1977)</td>\n",
       "      <td>Action|Adventure|Fantasy|Sci-Fi</td>\n",
       "    </tr>\n",
       "    <tr>\n",
       "      <th>3</th>\n",
       "      <td>1196</td>\n",
       "      <td>2885</td>\n",
       "      <td>4.384055</td>\n",
       "      <td>Star Wars: Episode V - The Empire Strikes Back...</td>\n",
       "      <td>Action|Adventure|Drama|Sci-Fi|War</td>\n",
       "    </tr>\n",
       "    <tr>\n",
       "      <th>4</th>\n",
       "      <td>1210</td>\n",
       "      <td>2716</td>\n",
       "      <td>4.161635</td>\n",
       "      <td>Star Wars: Episode VI - Return of the Jedi (1983)</td>\n",
       "      <td>Action|Adventure|Romance|Sci-Fi|War</td>\n",
       "    </tr>\n",
       "    <tr>\n",
       "      <th>5</th>\n",
       "      <td>2028</td>\n",
       "      <td>2561</td>\n",
       "      <td>4.431082</td>\n",
       "      <td>Saving Private Ryan (1998)</td>\n",
       "      <td>Action|Drama|War</td>\n",
       "    </tr>\n",
       "    <tr>\n",
       "      <th>6</th>\n",
       "      <td>589</td>\n",
       "      <td>2509</td>\n",
       "      <td>4.190116</td>\n",
       "      <td>Terminator 2: Judgment Day (1991)</td>\n",
       "      <td>Action|Sci-Fi|Thriller</td>\n",
       "    </tr>\n",
       "    <tr>\n",
       "      <th>7</th>\n",
       "      <td>593</td>\n",
       "      <td>2498</td>\n",
       "      <td>4.441954</td>\n",
       "      <td>Silence of the Lambs, The (1991)</td>\n",
       "      <td>Drama|Thriller</td>\n",
       "    </tr>\n",
       "    <tr>\n",
       "      <th>8</th>\n",
       "      <td>1198</td>\n",
       "      <td>2473</td>\n",
       "      <td>4.520421</td>\n",
       "      <td>Raiders of the Lost Ark (1981)</td>\n",
       "      <td>Action|Adventure</td>\n",
       "    </tr>\n",
       "    <tr>\n",
       "      <th>9</th>\n",
       "      <td>1270</td>\n",
       "      <td>2460</td>\n",
       "      <td>4.097967</td>\n",
       "      <td>Back to the Future (1985)</td>\n",
       "      <td>Comedy|Sci-Fi</td>\n",
       "    </tr>\n",
       "    <tr>\n",
       "      <th>10</th>\n",
       "      <td>2571</td>\n",
       "      <td>2434</td>\n",
       "      <td>4.479458</td>\n",
       "      <td>Matrix, The (1999)</td>\n",
       "      <td>Action|Sci-Fi|Thriller</td>\n",
       "    </tr>\n",
       "    <tr>\n",
       "      <th>11</th>\n",
       "      <td>480</td>\n",
       "      <td>2413</td>\n",
       "      <td>3.978864</td>\n",
       "      <td>Jurassic Park (1993)</td>\n",
       "      <td>Action|Adventure|Sci-Fi</td>\n",
       "    </tr>\n",
       "    <tr>\n",
       "      <th>12</th>\n",
       "      <td>2762</td>\n",
       "      <td>2385</td>\n",
       "      <td>4.487631</td>\n",
       "      <td>Sixth Sense, The (1999)</td>\n",
       "      <td>Thriller</td>\n",
       "    </tr>\n",
       "    <tr>\n",
       "      <th>13</th>\n",
       "      <td>608</td>\n",
       "      <td>2371</td>\n",
       "      <td>4.413749</td>\n",
       "      <td>Fargo (1996)</td>\n",
       "      <td>Crime|Drama|Thriller</td>\n",
       "    </tr>\n",
       "    <tr>\n",
       "      <th>14</th>\n",
       "      <td>110</td>\n",
       "      <td>2314</td>\n",
       "      <td>4.375540</td>\n",
       "      <td>Braveheart (1995)</td>\n",
       "      <td>Action|Drama|War</td>\n",
       "    </tr>\n",
       "    <tr>\n",
       "      <th>15</th>\n",
       "      <td>1580</td>\n",
       "      <td>2297</td>\n",
       "      <td>3.942969</td>\n",
       "      <td>Men in Black (1997)</td>\n",
       "      <td>Action|Adventure|Comedy|Sci-Fi</td>\n",
       "    </tr>\n",
       "    <tr>\n",
       "      <th>16</th>\n",
       "      <td>527</td>\n",
       "      <td>2257</td>\n",
       "      <td>4.571112</td>\n",
       "      <td>Schindler's List (1993)</td>\n",
       "      <td>Drama|War</td>\n",
       "    </tr>\n",
       "    <tr>\n",
       "      <th>17</th>\n",
       "      <td>1197</td>\n",
       "      <td>2252</td>\n",
       "      <td>4.380995</td>\n",
       "      <td>Princess Bride, The (1987)</td>\n",
       "      <td>Action|Adventure|Comedy|Romance</td>\n",
       "    </tr>\n",
       "    <tr>\n",
       "      <th>18</th>\n",
       "      <td>2396</td>\n",
       "      <td>2213</td>\n",
       "      <td>4.294171</td>\n",
       "      <td>Shakespeare in Love (1998)</td>\n",
       "      <td>Comedy|Romance</td>\n",
       "    </tr>\n",
       "    <tr>\n",
       "      <th>19</th>\n",
       "      <td>1617</td>\n",
       "      <td>2210</td>\n",
       "      <td>4.305430</td>\n",
       "      <td>L.A. Confidential (1997)</td>\n",
       "      <td>Crime|Film-Noir|Mystery|Thriller</td>\n",
       "    </tr>\n",
       "    <tr>\n",
       "      <th>20</th>\n",
       "      <td>318</td>\n",
       "      <td>2194</td>\n",
       "      <td>4.596627</td>\n",
       "      <td>Shawshank Redemption, The (1994)</td>\n",
       "      <td>Drama</td>\n",
       "    </tr>\n",
       "    <tr>\n",
       "      <th>21</th>\n",
       "      <td>858</td>\n",
       "      <td>2167</td>\n",
       "      <td>4.598523</td>\n",
       "      <td>Godfather, The (1972)</td>\n",
       "      <td>Action|Crime|Drama</td>\n",
       "    </tr>\n",
       "    <tr>\n",
       "      <th>22</th>\n",
       "      <td>1265</td>\n",
       "      <td>2121</td>\n",
       "      <td>4.114569</td>\n",
       "      <td>Groundhog Day (1993)</td>\n",
       "      <td>Comedy|Romance</td>\n",
       "    </tr>\n",
       "    <tr>\n",
       "      <th>23</th>\n",
       "      <td>1097</td>\n",
       "      <td>2102</td>\n",
       "      <td>4.137012</td>\n",
       "      <td>E.T. the Extra-Terrestrial (1982)</td>\n",
       "      <td>Children's|Drama|Fantasy|Sci-Fi</td>\n",
       "    </tr>\n",
       "    <tr>\n",
       "      <th>24</th>\n",
       "      <td>2997</td>\n",
       "      <td>2066</td>\n",
       "      <td>4.338819</td>\n",
       "      <td>Being John Malkovich (1999)</td>\n",
       "      <td>Comedy</td>\n",
       "    </tr>\n",
       "    <tr>\n",
       "      <th>25</th>\n",
       "      <td>2716</td>\n",
       "      <td>2051</td>\n",
       "      <td>4.038030</td>\n",
       "      <td>Ghostbusters (1984)</td>\n",
       "      <td>Comedy|Horror</td>\n",
       "    </tr>\n",
       "    <tr>\n",
       "      <th>26</th>\n",
       "      <td>296</td>\n",
       "      <td>2030</td>\n",
       "      <td>4.459606</td>\n",
       "      <td>Pulp Fiction (1994)</td>\n",
       "      <td>Crime|Drama</td>\n",
       "    </tr>\n",
       "    <tr>\n",
       "      <th>27</th>\n",
       "      <td>356</td>\n",
       "      <td>2022</td>\n",
       "      <td>4.292285</td>\n",
       "      <td>Forrest Gump (1994)</td>\n",
       "      <td>Comedy|Romance|War</td>\n",
       "    </tr>\n",
       "    <tr>\n",
       "      <th>28</th>\n",
       "      <td>1240</td>\n",
       "      <td>2019</td>\n",
       "      <td>4.245171</td>\n",
       "      <td>Terminator, The (1984)</td>\n",
       "      <td>Action|Sci-Fi|Thriller</td>\n",
       "    </tr>\n",
       "    <tr>\n",
       "      <th>29</th>\n",
       "      <td>1</td>\n",
       "      <td>2000</td>\n",
       "      <td>4.237500</td>\n",
       "      <td>Toy Story (1995)</td>\n",
       "      <td>Animation|Children's|Comedy</td>\n",
       "    </tr>\n",
       "    <tr>\n",
       "      <th>30</th>\n",
       "      <td>457</td>\n",
       "      <td>1941</td>\n",
       "      <td>4.164348</td>\n",
       "      <td>Fugitive, The (1993)</td>\n",
       "      <td>Action|Thriller</td>\n",
       "    </tr>\n",
       "  </tbody>\n",
       "</table>\n",
       "</div>"
      ],
      "text/plain": [
       "    movie_id  count_cnt  count_mean  \\\n",
       "1       2858       3211    4.499844   \n",
       "2        260       2910    4.528522   \n",
       "3       1196       2885    4.384055   \n",
       "4       1210       2716    4.161635   \n",
       "5       2028       2561    4.431082   \n",
       "6        589       2509    4.190116   \n",
       "7        593       2498    4.441954   \n",
       "8       1198       2473    4.520421   \n",
       "9       1270       2460    4.097967   \n",
       "10      2571       2434    4.479458   \n",
       "11       480       2413    3.978864   \n",
       "12      2762       2385    4.487631   \n",
       "13       608       2371    4.413749   \n",
       "14       110       2314    4.375540   \n",
       "15      1580       2297    3.942969   \n",
       "16       527       2257    4.571112   \n",
       "17      1197       2252    4.380995   \n",
       "18      2396       2213    4.294171   \n",
       "19      1617       2210    4.305430   \n",
       "20       318       2194    4.596627   \n",
       "21       858       2167    4.598523   \n",
       "22      1265       2121    4.114569   \n",
       "23      1097       2102    4.137012   \n",
       "24      2997       2066    4.338819   \n",
       "25      2716       2051    4.038030   \n",
       "26       296       2030    4.459606   \n",
       "27       356       2022    4.292285   \n",
       "28      1240       2019    4.245171   \n",
       "29         1       2000    4.237500   \n",
       "30       457       1941    4.164348   \n",
       "\n",
       "                                                title  \\\n",
       "1                              American Beauty (1999)   \n",
       "2           Star Wars: Episode IV - A New Hope (1977)   \n",
       "3   Star Wars: Episode V - The Empire Strikes Back...   \n",
       "4   Star Wars: Episode VI - Return of the Jedi (1983)   \n",
       "5                          Saving Private Ryan (1998)   \n",
       "6                   Terminator 2: Judgment Day (1991)   \n",
       "7                    Silence of the Lambs, The (1991)   \n",
       "8                      Raiders of the Lost Ark (1981)   \n",
       "9                           Back to the Future (1985)   \n",
       "10                                 Matrix, The (1999)   \n",
       "11                               Jurassic Park (1993)   \n",
       "12                            Sixth Sense, The (1999)   \n",
       "13                                       Fargo (1996)   \n",
       "14                                  Braveheart (1995)   \n",
       "15                                Men in Black (1997)   \n",
       "16                            Schindler's List (1993)   \n",
       "17                         Princess Bride, The (1987)   \n",
       "18                         Shakespeare in Love (1998)   \n",
       "19                           L.A. Confidential (1997)   \n",
       "20                   Shawshank Redemption, The (1994)   \n",
       "21                              Godfather, The (1972)   \n",
       "22                               Groundhog Day (1993)   \n",
       "23                  E.T. the Extra-Terrestrial (1982)   \n",
       "24                        Being John Malkovich (1999)   \n",
       "25                                Ghostbusters (1984)   \n",
       "26                                Pulp Fiction (1994)   \n",
       "27                                Forrest Gump (1994)   \n",
       "28                             Terminator, The (1984)   \n",
       "29                                   Toy Story (1995)   \n",
       "30                               Fugitive, The (1993)   \n",
       "\n",
       "                                  genre  \n",
       "1                          Comedy|Drama  \n",
       "2       Action|Adventure|Fantasy|Sci-Fi  \n",
       "3     Action|Adventure|Drama|Sci-Fi|War  \n",
       "4   Action|Adventure|Romance|Sci-Fi|War  \n",
       "5                      Action|Drama|War  \n",
       "6                Action|Sci-Fi|Thriller  \n",
       "7                        Drama|Thriller  \n",
       "8                      Action|Adventure  \n",
       "9                         Comedy|Sci-Fi  \n",
       "10               Action|Sci-Fi|Thriller  \n",
       "11              Action|Adventure|Sci-Fi  \n",
       "12                             Thriller  \n",
       "13                 Crime|Drama|Thriller  \n",
       "14                     Action|Drama|War  \n",
       "15       Action|Adventure|Comedy|Sci-Fi  \n",
       "16                            Drama|War  \n",
       "17      Action|Adventure|Comedy|Romance  \n",
       "18                       Comedy|Romance  \n",
       "19     Crime|Film-Noir|Mystery|Thriller  \n",
       "20                                Drama  \n",
       "21                   Action|Crime|Drama  \n",
       "22                       Comedy|Romance  \n",
       "23      Children's|Drama|Fantasy|Sci-Fi  \n",
       "24                               Comedy  \n",
       "25                        Comedy|Horror  \n",
       "26                          Crime|Drama  \n",
       "27                   Comedy|Romance|War  \n",
       "28               Action|Sci-Fi|Thriller  \n",
       "29          Animation|Children's|Comedy  \n",
       "30                      Action|Thriller  "
      ]
     },
     "execution_count": 18,
     "metadata": {},
     "output_type": "execute_result"
    },
    {
     "name": "stdout",
     "output_type": "stream",
     "text": [
      "time: 20.9 ms (started: 2021-02-16 19:46:49 +09:00)\n"
     ]
    }
   ],
   "source": [
    "rating_fav = pd.merge(rating_count, rating_mean, how='inner', on='movie_id')\n",
    "rating_fav = rating_fav.sort_values(by=['count_cnt', 'count_mean'], ascending=False)\n",
    "\n",
    "rating_fav_top_30 = rating_fav.head(30)\n",
    "rating_fav_top_30 = pd.merge(rating_fav_top_30, movies, how='left', on='movie_id')\n",
    "rating_fav_top_30.index = range(1, len(rating_fav_top_30)+1)\n",
    "\n",
    "rating_fav_top_30"
   ]
  },
  {
   "cell_type": "markdown",
   "id": "smart-baking",
   "metadata": {},
   "source": [
    "### 모델 검증을 위한 사용자 초기 정보 세팅"
   ]
  },
  {
   "cell_type": "markdown",
   "id": "aggregate-equity",
   "metadata": {},
   "source": [
    "- movie에 포함된 영화 중 선호하는 영화를 5가지 골라서 ratings에 추가한다."
   ]
  },
  {
   "cell_type": "markdown",
   "id": "geological-korea",
   "metadata": {},
   "source": [
    "- 선호 영화 선정 및 평점 정의"
   ]
  },
  {
   "cell_type": "code",
   "execution_count": 19,
   "id": "static-curtis",
   "metadata": {},
   "outputs": [
    {
     "name": "stdout",
     "output_type": "stream",
     "text": [
      "time: 1.04 ms (started: 2021-02-16 19:46:50 +09:00)\n"
     ]
    }
   ],
   "source": [
    "my_movie_id = [39 , 1721 , 1801, 3825, 2671]\n",
    "my_count = [5, 5, 5, 5, 5]"
   ]
  },
  {
   "cell_type": "markdown",
   "id": "occupied-contractor",
   "metadata": {},
   "source": [
    "- 새 아이디 생성 : ratings의 user_id에 등장하지 않는 int형 값을 찾아 `my_id`로 정의한다."
   ]
  },
  {
   "cell_type": "code",
   "execution_count": 20,
   "id": "light-office",
   "metadata": {},
   "outputs": [
    {
     "name": "stdout",
     "output_type": "stream",
     "text": [
      "time: 23.1 ms (started: 2021-02-16 19:46:50 +09:00)\n"
     ]
    }
   ],
   "source": [
    "ids = ratings['user_id'].unique()\n",
    "my_id = ids[-1] + 1\n",
    "while my_id in ids: my_id += 1"
   ]
  },
  {
   "cell_type": "markdown",
   "id": "intense-bahamas",
   "metadata": {},
   "source": [
    "- 나머지 column에 들어갈 값 정의"
   ]
  },
  {
   "cell_type": "code",
   "execution_count": 21,
   "id": "refined-editor",
   "metadata": {},
   "outputs": [
    {
     "name": "stdout",
     "output_type": "stream",
     "text": [
      "time: 7.38 ms (started: 2021-02-16 19:46:50 +09:00)\n"
     ]
    }
   ],
   "source": [
    "my_title = [ movies[movies['movie_id']==_id]['title'].values[0] for _id in my_movie_id ]\n",
    "my_genre = [ movies[movies['movie_id']==_id]['genre'].values[0] for _id in my_movie_id ]"
   ]
  },
  {
   "cell_type": "markdown",
   "id": "enhanced-greenhouse",
   "metadata": {},
   "source": [
    "- ratings에 데이터 삽입"
   ]
  },
  {
   "cell_type": "code",
   "execution_count": 22,
   "id": "earned-league",
   "metadata": {},
   "outputs": [
    {
     "data": {
      "text/html": [
       "<div>\n",
       "<style scoped>\n",
       "    .dataframe tbody tr th:only-of-type {\n",
       "        vertical-align: middle;\n",
       "    }\n",
       "\n",
       "    .dataframe tbody tr th {\n",
       "        vertical-align: top;\n",
       "    }\n",
       "\n",
       "    .dataframe thead th {\n",
       "        text-align: right;\n",
       "    }\n",
       "</style>\n",
       "<table border=\"1\" class=\"dataframe\">\n",
       "  <thead>\n",
       "    <tr style=\"text-align: right;\">\n",
       "      <th></th>\n",
       "      <th>user_id</th>\n",
       "      <th>movie_id</th>\n",
       "      <th>count</th>\n",
       "      <th>title</th>\n",
       "      <th>genre</th>\n",
       "    </tr>\n",
       "  </thead>\n",
       "  <tbody>\n",
       "    <tr>\n",
       "      <th>836473</th>\n",
       "      <td>5851</td>\n",
       "      <td>3607</td>\n",
       "      <td>5</td>\n",
       "      <td>One Little Indian (1973)</td>\n",
       "      <td>Comedy|Drama|Western</td>\n",
       "    </tr>\n",
       "    <tr>\n",
       "      <th>836474</th>\n",
       "      <td>5854</td>\n",
       "      <td>3026</td>\n",
       "      <td>4</td>\n",
       "      <td>Slaughterhouse (1987)</td>\n",
       "      <td>Horror</td>\n",
       "    </tr>\n",
       "    <tr>\n",
       "      <th>836475</th>\n",
       "      <td>5854</td>\n",
       "      <td>690</td>\n",
       "      <td>3</td>\n",
       "      <td>Promise, The (Versprechen, Das) (1994)</td>\n",
       "      <td>Romance</td>\n",
       "    </tr>\n",
       "    <tr>\n",
       "      <th>836476</th>\n",
       "      <td>5938</td>\n",
       "      <td>2909</td>\n",
       "      <td>4</td>\n",
       "      <td>Five Wives, Three Secretaries and Me (1998)</td>\n",
       "      <td>Documentary</td>\n",
       "    </tr>\n",
       "    <tr>\n",
       "      <th>836477</th>\n",
       "      <td>5948</td>\n",
       "      <td>1360</td>\n",
       "      <td>5</td>\n",
       "      <td>Identification of a Woman (Identificazione di ...</td>\n",
       "      <td>Drama</td>\n",
       "    </tr>\n",
       "    <tr>\n",
       "      <th>836478</th>\n",
       "      <td>6041</td>\n",
       "      <td>39</td>\n",
       "      <td>5</td>\n",
       "      <td>Clueless (1995)</td>\n",
       "      <td>Comedy|Romance</td>\n",
       "    </tr>\n",
       "    <tr>\n",
       "      <th>836479</th>\n",
       "      <td>6041</td>\n",
       "      <td>1721</td>\n",
       "      <td>5</td>\n",
       "      <td>Titanic (1997)</td>\n",
       "      <td>Drama|Romance</td>\n",
       "    </tr>\n",
       "    <tr>\n",
       "      <th>836480</th>\n",
       "      <td>6041</td>\n",
       "      <td>1801</td>\n",
       "      <td>5</td>\n",
       "      <td>Man in the Iron Mask, The (1998)</td>\n",
       "      <td>Action|Drama|Romance</td>\n",
       "    </tr>\n",
       "    <tr>\n",
       "      <th>836481</th>\n",
       "      <td>6041</td>\n",
       "      <td>3825</td>\n",
       "      <td>5</td>\n",
       "      <td>Coyote Ugly (2000)</td>\n",
       "      <td>Drama</td>\n",
       "    </tr>\n",
       "    <tr>\n",
       "      <th>836482</th>\n",
       "      <td>6041</td>\n",
       "      <td>2671</td>\n",
       "      <td>5</td>\n",
       "      <td>Notting Hill (1999)</td>\n",
       "      <td>Comedy|Romance</td>\n",
       "    </tr>\n",
       "  </tbody>\n",
       "</table>\n",
       "</div>"
      ],
      "text/plain": [
       "        user_id  movie_id  count  \\\n",
       "836473     5851      3607      5   \n",
       "836474     5854      3026      4   \n",
       "836475     5854       690      3   \n",
       "836476     5938      2909      4   \n",
       "836477     5948      1360      5   \n",
       "836478     6041        39      5   \n",
       "836479     6041      1721      5   \n",
       "836480     6041      1801      5   \n",
       "836481     6041      3825      5   \n",
       "836482     6041      2671      5   \n",
       "\n",
       "                                                    title  \\\n",
       "836473                           One Little Indian (1973)   \n",
       "836474                              Slaughterhouse (1987)   \n",
       "836475             Promise, The (Versprechen, Das) (1994)   \n",
       "836476        Five Wives, Three Secretaries and Me (1998)   \n",
       "836477  Identification of a Woman (Identificazione di ...   \n",
       "836478                                    Clueless (1995)   \n",
       "836479                                     Titanic (1997)   \n",
       "836480                   Man in the Iron Mask, The (1998)   \n",
       "836481                                 Coyote Ugly (2000)   \n",
       "836482                                Notting Hill (1999)   \n",
       "\n",
       "                       genre  \n",
       "836473  Comedy|Drama|Western  \n",
       "836474                Horror  \n",
       "836475               Romance  \n",
       "836476           Documentary  \n",
       "836477                 Drama  \n",
       "836478        Comedy|Romance  \n",
       "836479         Drama|Romance  \n",
       "836480  Action|Drama|Romance  \n",
       "836481                 Drama  \n",
       "836482        Comedy|Romance  "
      ]
     },
     "execution_count": 22,
     "metadata": {},
     "output_type": "execute_result"
    },
    {
     "name": "stdout",
     "output_type": "stream",
     "text": [
      "time: 88.8 ms (started: 2021-02-16 19:46:51 +09:00)\n"
     ]
    }
   ],
   "source": [
    "my_ratings_df = pd.DataFrame({'user_id' : [my_id]*5, \n",
    "                              'movie_id' : my_movie_id,\n",
    "                              'count' : my_count,\n",
    "                              'title' : my_title,\n",
    "                              'genre' : my_genre})\n",
    "\n",
    "if not ratings.isin({'user_id':[my_id]})['user_id'].any():\n",
    "    ratings_updated = ratings.append(my_ratings_df).reset_index(drop=True)\n",
    "\n",
    "ratings_updated.tail(10)"
   ]
  },
  {
   "cell_type": "markdown",
   "id": "united-mother",
   "metadata": {},
   "source": [
    "### 모델에 활용하기 위한 전처리 - Indexing"
   ]
  },
  {
   "cell_type": "code",
   "execution_count": 23,
   "id": "bearing-dollar",
   "metadata": {},
   "outputs": [
    {
     "name": "stdout",
     "output_type": "stream",
     "text": [
      "time: 12.6 ms (started: 2021-02-16 19:46:51 +09:00)\n"
     ]
    }
   ],
   "source": [
    "user_unique = ratings_updated['user_id'].unique()\n",
    "user_to_idx = {v:k for k,v in enumerate(user_unique)}\n",
    "\n",
    "movie_unique = ratings_updated['movie_id'].unique()\n",
    "movie_id_to_idx = {v:k for k,v in enumerate(movie_unique)}\n",
    "movie_idx_to_id = {k:v for k,v in enumerate(movie_unique)}"
   ]
  },
  {
   "cell_type": "code",
   "execution_count": 24,
   "id": "proof-sunday",
   "metadata": {},
   "outputs": [
    {
     "name": "stdout",
     "output_type": "stream",
     "text": [
      "6039\n",
      "time: 1.1 ms (started: 2021-02-16 19:46:52 +09:00)\n"
     ]
    }
   ],
   "source": [
    "# 인덱싱 확인\n",
    "print(user_to_idx[my_id])"
   ]
  },
  {
   "cell_type": "code",
   "execution_count": 25,
   "id": "human-mainland",
   "metadata": {},
   "outputs": [
    {
     "name": "stdout",
     "output_type": "stream",
     "text": [
      "user_id column indexing OK!!\n",
      "movie_id column indexing OK!!\n"
     ]
    },
    {
     "data": {
      "text/html": [
       "<div>\n",
       "<style scoped>\n",
       "    .dataframe tbody tr th:only-of-type {\n",
       "        vertical-align: middle;\n",
       "    }\n",
       "\n",
       "    .dataframe tbody tr th {\n",
       "        vertical-align: top;\n",
       "    }\n",
       "\n",
       "    .dataframe thead th {\n",
       "        text-align: right;\n",
       "    }\n",
       "</style>\n",
       "<table border=\"1\" class=\"dataframe\">\n",
       "  <thead>\n",
       "    <tr style=\"text-align: right;\">\n",
       "      <th></th>\n",
       "      <th>user_id</th>\n",
       "      <th>movie_idx</th>\n",
       "      <th>movie_id</th>\n",
       "      <th>count</th>\n",
       "      <th>title</th>\n",
       "      <th>genre</th>\n",
       "    </tr>\n",
       "  </thead>\n",
       "  <tbody>\n",
       "    <tr>\n",
       "      <th>0</th>\n",
       "      <td>0</td>\n",
       "      <td>0</td>\n",
       "      <td>1193</td>\n",
       "      <td>5</td>\n",
       "      <td>One Flew Over the Cuckoo's Nest (1975)</td>\n",
       "      <td>Drama</td>\n",
       "    </tr>\n",
       "    <tr>\n",
       "      <th>1</th>\n",
       "      <td>1</td>\n",
       "      <td>0</td>\n",
       "      <td>1193</td>\n",
       "      <td>5</td>\n",
       "      <td>One Flew Over the Cuckoo's Nest (1975)</td>\n",
       "      <td>Drama</td>\n",
       "    </tr>\n",
       "    <tr>\n",
       "      <th>2</th>\n",
       "      <td>2</td>\n",
       "      <td>0</td>\n",
       "      <td>1193</td>\n",
       "      <td>4</td>\n",
       "      <td>One Flew Over the Cuckoo's Nest (1975)</td>\n",
       "      <td>Drama</td>\n",
       "    </tr>\n",
       "    <tr>\n",
       "      <th>3</th>\n",
       "      <td>3</td>\n",
       "      <td>0</td>\n",
       "      <td>1193</td>\n",
       "      <td>4</td>\n",
       "      <td>One Flew Over the Cuckoo's Nest (1975)</td>\n",
       "      <td>Drama</td>\n",
       "    </tr>\n",
       "    <tr>\n",
       "      <th>4</th>\n",
       "      <td>4</td>\n",
       "      <td>0</td>\n",
       "      <td>1193</td>\n",
       "      <td>5</td>\n",
       "      <td>One Flew Over the Cuckoo's Nest (1975)</td>\n",
       "      <td>Drama</td>\n",
       "    </tr>\n",
       "    <tr>\n",
       "      <th>...</th>\n",
       "      <td>...</td>\n",
       "      <td>...</td>\n",
       "      <td>...</td>\n",
       "      <td>...</td>\n",
       "      <td>...</td>\n",
       "      <td>...</td>\n",
       "    </tr>\n",
       "    <tr>\n",
       "      <th>836478</th>\n",
       "      <td>6039</td>\n",
       "      <td>204</td>\n",
       "      <td>39</td>\n",
       "      <td>5</td>\n",
       "      <td>Clueless (1995)</td>\n",
       "      <td>Comedy|Romance</td>\n",
       "    </tr>\n",
       "    <tr>\n",
       "      <th>836479</th>\n",
       "      <td>6039</td>\n",
       "      <td>27</td>\n",
       "      <td>1721</td>\n",
       "      <td>5</td>\n",
       "      <td>Titanic (1997)</td>\n",
       "      <td>Drama|Romance</td>\n",
       "    </tr>\n",
       "    <tr>\n",
       "      <th>836480</th>\n",
       "      <td>6039</td>\n",
       "      <td>112</td>\n",
       "      <td>1801</td>\n",
       "      <td>5</td>\n",
       "      <td>Man in the Iron Mask, The (1998)</td>\n",
       "      <td>Action|Drama|Romance</td>\n",
       "    </tr>\n",
       "    <tr>\n",
       "      <th>836481</th>\n",
       "      <td>6039</td>\n",
       "      <td>2047</td>\n",
       "      <td>3825</td>\n",
       "      <td>5</td>\n",
       "      <td>Coyote Ugly (2000)</td>\n",
       "      <td>Drama</td>\n",
       "    </tr>\n",
       "    <tr>\n",
       "      <th>836482</th>\n",
       "      <td>6039</td>\n",
       "      <td>1151</td>\n",
       "      <td>2671</td>\n",
       "      <td>5</td>\n",
       "      <td>Notting Hill (1999)</td>\n",
       "      <td>Comedy|Romance</td>\n",
       "    </tr>\n",
       "  </tbody>\n",
       "</table>\n",
       "<p>836483 rows × 6 columns</p>\n",
       "</div>"
      ],
      "text/plain": [
       "        user_id  movie_idx  movie_id  count  \\\n",
       "0             0          0      1193      5   \n",
       "1             1          0      1193      5   \n",
       "2             2          0      1193      4   \n",
       "3             3          0      1193      4   \n",
       "4             4          0      1193      5   \n",
       "...         ...        ...       ...    ...   \n",
       "836478     6039        204        39      5   \n",
       "836479     6039         27      1721      5   \n",
       "836480     6039        112      1801      5   \n",
       "836481     6039       2047      3825      5   \n",
       "836482     6039       1151      2671      5   \n",
       "\n",
       "                                         title                 genre  \n",
       "0       One Flew Over the Cuckoo's Nest (1975)                 Drama  \n",
       "1       One Flew Over the Cuckoo's Nest (1975)                 Drama  \n",
       "2       One Flew Over the Cuckoo's Nest (1975)                 Drama  \n",
       "3       One Flew Over the Cuckoo's Nest (1975)                 Drama  \n",
       "4       One Flew Over the Cuckoo's Nest (1975)                 Drama  \n",
       "...                                        ...                   ...  \n",
       "836478                         Clueless (1995)        Comedy|Romance  \n",
       "836479                          Titanic (1997)         Drama|Romance  \n",
       "836480        Man in the Iron Mask, The (1998)  Action|Drama|Romance  \n",
       "836481                      Coyote Ugly (2000)                 Drama  \n",
       "836482                     Notting Hill (1999)        Comedy|Romance  \n",
       "\n",
       "[836483 rows x 6 columns]"
      ]
     },
     "execution_count": 25,
     "metadata": {},
     "output_type": "execute_result"
    },
    {
     "name": "stdout",
     "output_type": "stream",
     "text": [
      "time: 648 ms (started: 2021-02-16 19:46:52 +09:00)\n"
     ]
    }
   ],
   "source": [
    "temp_user_data = ratings_updated['user_id'].map(user_to_idx.get).dropna()\n",
    "if len(temp_user_data) == len(ratings_updated):   # 모든 row가 정상적으로 인덱싱되었다면\n",
    "    print('user_id column indexing OK!!')\n",
    "    ratings_updated['user_id'] = temp_user_data   # data['user_id']을 인덱싱된 Series로 교체해 줍니다. \n",
    "else:\n",
    "    print('user_id column indexing Fail!!')\n",
    "\n",
    "temp_movie_data = ratings_updated['movie_id'].map(movie_id_to_idx.get).dropna()\n",
    "if len(temp_movie_data) == len(ratings_updated):\n",
    "    print('movie_id column indexing OK!!')\n",
    "    ratings_updated['movie_idx'] = temp_movie_data\n",
    "else:\n",
    "    print('movie_id column indexing Fail!!')\n",
    "\n",
    "ratings_updated = ratings_updated[['user_id', 'movie_idx', 'movie_id', 'count', 'title', 'genre']]\n",
    "ratings_updated = ratings_updated.reset_index(drop=True)\n",
    "ratings_updated"
   ]
  },
  {
   "cell_type": "markdown",
   "id": "golden-latitude",
   "metadata": {},
   "source": [
    "## STEP2. CSR\n",
    "---"
   ]
  },
  {
   "cell_type": "code",
   "execution_count": 26,
   "id": "arabic-latino",
   "metadata": {},
   "outputs": [
    {
     "name": "stdout",
     "output_type": "stream",
     "text": [
      "time: 1.17 ms (started: 2021-02-16 19:46:53 +09:00)\n"
     ]
    }
   ],
   "source": [
    "from scipy.sparse import csr_matrix\n",
    "import numpy as np\n",
    "from pandas.api.types import CategoricalDtype"
   ]
  },
  {
   "cell_type": "code",
   "execution_count": 27,
   "id": "yellow-junior",
   "metadata": {},
   "outputs": [
    {
     "data": {
      "text/plain": [
       "<6040x3628 sparse matrix of type '<class 'numpy.int64'>'\n",
       "\twith 836483 stored elements in Compressed Sparse Row format>"
      ]
     },
     "execution_count": 27,
     "metadata": {},
     "output_type": "execute_result"
    },
    {
     "name": "stdout",
     "output_type": "stream",
     "text": [
      "time: 67 ms (started: 2021-02-16 19:46:54 +09:00)\n"
     ]
    }
   ],
   "source": [
    "num_user = ratings_updated['user_id'].nunique()\n",
    "num_movie = ratings_updated['movie_idx'].nunique()\n",
    "\n",
    "csr_data = csr_matrix((ratings_updated['count'], \n",
    "                       (ratings_updated.user_id, ratings_updated.movie_idx)), \n",
    "                       shape=(num_user, num_movie))\n",
    "csr_data"
   ]
  },
  {
   "cell_type": "code",
   "execution_count": 28,
   "id": "contemporary-zealand",
   "metadata": {},
   "outputs": [
    {
     "name": "stdout",
     "output_type": "stream",
     "text": [
      "indptr: [     0     53    169 ... 836477 836478 836483](6041)\n",
      "indices: [   0    1    2 ...  204 1151 2047](836483)\n",
      "data: [5 3 3 ... 5 5 5](836483)\n",
      "time: 3.33 ms (started: 2021-02-16 19:46:54 +09:00)\n"
     ]
    }
   ],
   "source": [
    "print(f'indptr: {csr_data.indptr}({len(csr_data.indptr)})')\n",
    "print(f'indices: {csr_data.indices}({len(csr_data.indices)})')\n",
    "print(f'data: {csr_data.data}({len(csr_data.data)})')"
   ]
  },
  {
   "cell_type": "markdown",
   "id": "purple-liquid",
   "metadata": {},
   "source": [
    "## STEP3. MF 모델 학습하기\n",
    "---"
   ]
  },
  {
   "cell_type": "markdown",
   "id": "public-rental",
   "metadata": {},
   "source": [
    "### 모델 학습"
   ]
  },
  {
   "cell_type": "code",
   "execution_count": 29,
   "id": "threaded-queensland",
   "metadata": {},
   "outputs": [
    {
     "name": "stdout",
     "output_type": "stream",
     "text": [
      "time: 42.9 ms (started: 2021-02-16 19:46:57 +09:00)\n"
     ]
    }
   ],
   "source": [
    "from implicit.als import AlternatingLeastSquares\n",
    "\n",
    "os.environ['OPENBLAS_NUM_THREADS']='1'\n",
    "os.environ['KMP_DUPLICATE_LIB_OK']='True'\n",
    "os.environ['MKL_NUM_THREADS']='1'"
   ]
  },
  {
   "cell_type": "code",
   "execution_count": 30,
   "id": "burning-marijuana",
   "metadata": {},
   "outputs": [
    {
     "name": "stdout",
     "output_type": "stream",
     "text": [
      "time: 441 µs (started: 2021-02-16 19:46:58 +09:00)\n"
     ]
    }
   ],
   "source": [
    "als_model = AlternatingLeastSquares(factors=256, \n",
    "                                    regularization=0.01, \n",
    "                                    use_gpu=False, \n",
    "                                    iterations=10,\n",
    "                                    dtype=np.float64)"
   ]
  },
  {
   "cell_type": "code",
   "execution_count": 31,
   "id": "forty-mozambique",
   "metadata": {},
   "outputs": [
    {
     "name": "stdout",
     "output_type": "stream",
     "text": [
      "indptr: [     0     53    169 ... 836477 836478 836483](6041)\n",
      "indices: [   0    1    2 ...  204 1151 2047](836483)\n",
      "data: [5 3 3 ... 5 5 5](836483)\n",
      "time: 1.94 ms (started: 2021-02-16 19:46:59 +09:00)\n"
     ]
    }
   ],
   "source": [
    "csr_data_transpose = csr_data.T\n",
    "print(f'indptr: {csr_data_transpose.indptr}({len(csr_data_transpose.indptr)})')\n",
    "print(f'indices: {csr_data_transpose.indices}({len(csr_data_transpose.indices)})')\n",
    "print(f'data: {csr_data_transpose.data}({len(csr_data_transpose.data)})')"
   ]
  },
  {
   "cell_type": "code",
   "execution_count": 32,
   "id": "irish-montana",
   "metadata": {},
   "outputs": [
    {
     "data": {
      "application/vnd.jupyter.widget-view+json": {
       "model_id": "919f843b9eb84bb4b07ea834a5b5111c",
       "version_major": 2,
       "version_minor": 0
      },
      "text/plain": [
       "  0%|          | 0/10 [00:00<?, ?it/s]"
      ]
     },
     "metadata": {},
     "output_type": "display_data"
    },
    {
     "name": "stdout",
     "output_type": "stream",
     "text": [
      "time: 5.74 s (started: 2021-02-16 19:47:00 +09:00)\n"
     ]
    }
   ],
   "source": [
    "als_model.fit(csr_data_transpose)"
   ]
  },
  {
   "cell_type": "markdown",
   "id": "informed-factory",
   "metadata": {},
   "source": [
    "### 학습 결과 확인"
   ]
  },
  {
   "cell_type": "markdown",
   "id": "finnish-consumption",
   "metadata": {},
   "source": [
    "#### 내가 선호하는 영화들에 대한 나의 선호도 예측"
   ]
  },
  {
   "cell_type": "code",
   "execution_count": 33,
   "id": "sunset-filter",
   "metadata": {},
   "outputs": [
    {
     "name": "stdout",
     "output_type": "stream",
     "text": [
      "time: 733 µs (started: 2021-02-16 19:47:06 +09:00)\n"
     ]
    }
   ],
   "source": [
    "my_vector = als_model.user_factors[user_to_idx[my_id]]\n",
    "favorit_movie_vector = [ als_model.item_factors[movie_id_to_idx[movie_id]] for movie_id in my_movie_id ]\n",
    "my_movie_preference = [ np.dot(my_vector, mv) for mv in favorit_movie_vector ]"
   ]
  },
  {
   "cell_type": "code",
   "execution_count": 34,
   "id": "nasty-friday",
   "metadata": {},
   "outputs": [
    {
     "data": {
      "image/png": "[encoded data removed]",
      "text/plain": [
       "<Figure size 432x288 with 1 Axes>"
      ]
     },
     "metadata": {
      "needs_background": "light"
     },
     "output_type": "display_data"
    },
    {
     "name": "stdout",
     "output_type": "stream",
     "text": [
      "time: 189 ms (started: 2021-02-16 19:47:06 +09:00)\n"
     ]
    }
   ],
   "source": [
    "my_movie_preference_df = pd.DataFrame({'movie_id' : my_movie_id,\n",
    "                                       'title' : my_title,\n",
    "                                       'genre' : my_genre,\n",
    "                                       'preference': my_movie_preference})\n",
    "show_preference_df_plot(my_movie_preference_df)"
   ]
  },
  {
   "cell_type": "markdown",
   "id": "indie-salon",
   "metadata": {},
   "source": [
    "- 모든 영화에 대하여 선호도를 최대값(5)로 설정하였기 때문에 1과 근사한 값이 나올 것이라 예상하였으나, 평균이 거의 딱 1의 절반인 0.533인 결과를 얻었다."
   ]
  },
  {
   "cell_type": "markdown",
   "id": "ethical-wildlife",
   "metadata": {},
   "source": [
    "#### 내가 선호하는 영화와 비슷한 영화를 추천받아 보자"
   ]
  },
  {
   "cell_type": "code",
   "execution_count": 35,
   "id": "incorporated-credits",
   "metadata": {},
   "outputs": [
    {
     "name": "stdout",
     "output_type": "stream",
     "text": [
      "time: 614 µs (started: 2021-02-16 19:47:09 +09:00)\n"
     ]
    }
   ],
   "source": [
    "def get_similar_movie_with_score(movie_id: str):\n",
    "    movie_idx = movie_id_to_idx[movie_id]\n",
    "    similar_movie = als_model.similar_items(movie_idx)\n",
    "    similar_movies = [[movie_idx_to_id[e[0]], e[1]] if e[0]!= movie_id else _ for e in similar_movie[1:6]]\n",
    "    return similar_movies"
   ]
  },
  {
   "cell_type": "code",
   "execution_count": 36,
   "id": "complex-aluminum",
   "metadata": {},
   "outputs": [
    {
     "name": "stdout",
     "output_type": "stream",
     "text": [
      "time: 551 µs (started: 2021-02-16 19:47:10 +09:00)\n"
     ]
    }
   ],
   "source": [
    "def get_similar_movies_df(movie_id: str):\n",
    "    similar_movies = get_similar_movie_with_score(movie_id)\n",
    "    similar_movies_df = pd.DataFrame(columns=['movie_id', 'score'],\n",
    "                                     data=similar_movies)\n",
    "    similar_movies_df = pd.merge(similar_movies_df, movies, on='movie_id', how='left')\n",
    "    similar_movies_df.index = range(1,6)\n",
    "    return similar_movies_df"
   ]
  },
  {
   "cell_type": "code",
   "execution_count": 37,
   "id": "close-twenty",
   "metadata": {
    "scrolled": true
   },
   "outputs": [
    {
     "name": "stdout",
     "output_type": "stream",
     "text": [
      "Clueless (1995) - Comedy|Romance\n"
     ]
    },
    {
     "data": {
      "text/html": [
       "<div>\n",
       "<style scoped>\n",
       "    .dataframe tbody tr th:only-of-type {\n",
       "        vertical-align: middle;\n",
       "    }\n",
       "\n",
       "    .dataframe tbody tr th {\n",
       "        vertical-align: top;\n",
       "    }\n",
       "\n",
       "    .dataframe thead th {\n",
       "        text-align: right;\n",
       "    }\n",
       "</style>\n",
       "<table border=\"1\" class=\"dataframe\">\n",
       "  <thead>\n",
       "    <tr style=\"text-align: right;\">\n",
       "      <th></th>\n",
       "      <th>movie_id</th>\n",
       "      <th>score</th>\n",
       "      <th>title</th>\n",
       "      <th>genre</th>\n",
       "    </tr>\n",
       "  </thead>\n",
       "  <tbody>\n",
       "    <tr>\n",
       "      <th>1</th>\n",
       "      <td>1456</td>\n",
       "      <td>0.412467</td>\n",
       "      <td>Pest, The (1997)</td>\n",
       "      <td>Comedy</td>\n",
       "    </tr>\n",
       "    <tr>\n",
       "      <th>2</th>\n",
       "      <td>2168</td>\n",
       "      <td>0.403525</td>\n",
       "      <td>Dance with Me (1998)</td>\n",
       "      <td>Drama|Romance</td>\n",
       "    </tr>\n",
       "    <tr>\n",
       "      <th>3</th>\n",
       "      <td>357</td>\n",
       "      <td>0.398938</td>\n",
       "      <td>Four Weddings and a Funeral (1994)</td>\n",
       "      <td>Comedy|Romance</td>\n",
       "    </tr>\n",
       "    <tr>\n",
       "      <th>4</th>\n",
       "      <td>810</td>\n",
       "      <td>0.391037</td>\n",
       "      <td>Kazaam (1996)</td>\n",
       "      <td>Children's|Comedy|Fantasy</td>\n",
       "    </tr>\n",
       "    <tr>\n",
       "      <th>5</th>\n",
       "      <td>217</td>\n",
       "      <td>0.389934</td>\n",
       "      <td>Babysitter, The (1995)</td>\n",
       "      <td>Drama|Thriller</td>\n",
       "    </tr>\n",
       "  </tbody>\n",
       "</table>\n",
       "</div>"
      ],
      "text/plain": [
       "   movie_id     score                               title  \\\n",
       "1      1456  0.412467                    Pest, The (1997)   \n",
       "2      2168  0.403525                Dance with Me (1998)   \n",
       "3       357  0.398938  Four Weddings and a Funeral (1994)   \n",
       "4       810  0.391037                       Kazaam (1996)   \n",
       "5       217  0.389934              Babysitter, The (1995)   \n",
       "\n",
       "                       genre  \n",
       "1                     Comedy  \n",
       "2              Drama|Romance  \n",
       "3             Comedy|Romance  \n",
       "4  Children's|Comedy|Fantasy  \n",
       "5             Drama|Thriller  "
      ]
     },
     "metadata": {},
     "output_type": "display_data"
    },
    {
     "name": "stdout",
     "output_type": "stream",
     "text": [
      "\n",
      "\n",
      "\n",
      "Titanic (1997) - Drama|Romance\n"
     ]
    },
    {
     "data": {
      "text/html": [
       "<div>\n",
       "<style scoped>\n",
       "    .dataframe tbody tr th:only-of-type {\n",
       "        vertical-align: middle;\n",
       "    }\n",
       "\n",
       "    .dataframe tbody tr th {\n",
       "        vertical-align: top;\n",
       "    }\n",
       "\n",
       "    .dataframe thead th {\n",
       "        text-align: right;\n",
       "    }\n",
       "</style>\n",
       "<table border=\"1\" class=\"dataframe\">\n",
       "  <thead>\n",
       "    <tr style=\"text-align: right;\">\n",
       "      <th></th>\n",
       "      <th>movie_id</th>\n",
       "      <th>score</th>\n",
       "      <th>title</th>\n",
       "      <th>genre</th>\n",
       "    </tr>\n",
       "  </thead>\n",
       "  <tbody>\n",
       "    <tr>\n",
       "      <th>1</th>\n",
       "      <td>3286</td>\n",
       "      <td>0.326968</td>\n",
       "      <td>Snow Day (2000)</td>\n",
       "      <td>Comedy</td>\n",
       "    </tr>\n",
       "    <tr>\n",
       "      <th>2</th>\n",
       "      <td>2424</td>\n",
       "      <td>0.323284</td>\n",
       "      <td>You've Got Mail (1998)</td>\n",
       "      <td>Comedy|Romance</td>\n",
       "    </tr>\n",
       "    <tr>\n",
       "      <th>3</th>\n",
       "      <td>3586</td>\n",
       "      <td>0.318515</td>\n",
       "      <td>Idolmaker, The (1980)</td>\n",
       "      <td>Drama</td>\n",
       "    </tr>\n",
       "    <tr>\n",
       "      <th>4</th>\n",
       "      <td>336</td>\n",
       "      <td>0.317038</td>\n",
       "      <td>Walking Dead, The (1995)</td>\n",
       "      <td>Drama|War</td>\n",
       "    </tr>\n",
       "    <tr>\n",
       "      <th>5</th>\n",
       "      <td>1436</td>\n",
       "      <td>0.311523</td>\n",
       "      <td>Falling in Love Again (1980)</td>\n",
       "      <td>Comedy</td>\n",
       "    </tr>\n",
       "  </tbody>\n",
       "</table>\n",
       "</div>"
      ],
      "text/plain": [
       "   movie_id     score                         title           genre\n",
       "1      3286  0.326968               Snow Day (2000)          Comedy\n",
       "2      2424  0.323284        You've Got Mail (1998)  Comedy|Romance\n",
       "3      3586  0.318515         Idolmaker, The (1980)           Drama\n",
       "4       336  0.317038      Walking Dead, The (1995)       Drama|War\n",
       "5      1436  0.311523  Falling in Love Again (1980)          Comedy"
      ]
     },
     "metadata": {},
     "output_type": "display_data"
    },
    {
     "name": "stdout",
     "output_type": "stream",
     "text": [
      "\n",
      "\n",
      "\n",
      "Man in the Iron Mask, The (1998) - Action|Drama|Romance\n"
     ]
    },
    {
     "data": {
      "text/html": [
       "<div>\n",
       "<style scoped>\n",
       "    .dataframe tbody tr th:only-of-type {\n",
       "        vertical-align: middle;\n",
       "    }\n",
       "\n",
       "    .dataframe tbody tr th {\n",
       "        vertical-align: top;\n",
       "    }\n",
       "\n",
       "    .dataframe thead th {\n",
       "        text-align: right;\n",
       "    }\n",
       "</style>\n",
       "<table border=\"1\" class=\"dataframe\">\n",
       "  <thead>\n",
       "    <tr style=\"text-align: right;\">\n",
       "      <th></th>\n",
       "      <th>movie_id</th>\n",
       "      <th>score</th>\n",
       "      <th>title</th>\n",
       "      <th>genre</th>\n",
       "    </tr>\n",
       "  </thead>\n",
       "  <tbody>\n",
       "    <tr>\n",
       "      <th>1</th>\n",
       "      <td>694</td>\n",
       "      <td>0.618149</td>\n",
       "      <td>Substitute, The (1996)</td>\n",
       "      <td>Action</td>\n",
       "    </tr>\n",
       "    <tr>\n",
       "      <th>2</th>\n",
       "      <td>168</td>\n",
       "      <td>0.602442</td>\n",
       "      <td>First Knight (1995)</td>\n",
       "      <td>Action|Adventure|Drama|Romance</td>\n",
       "    </tr>\n",
       "    <tr>\n",
       "      <th>3</th>\n",
       "      <td>2965</td>\n",
       "      <td>0.598257</td>\n",
       "      <td>Omega Code, The (1999)</td>\n",
       "      <td>Action</td>\n",
       "    </tr>\n",
       "    <tr>\n",
       "      <th>4</th>\n",
       "      <td>3390</td>\n",
       "      <td>0.597749</td>\n",
       "      <td>Shanghai Surprise (1986)</td>\n",
       "      <td>Adventure</td>\n",
       "    </tr>\n",
       "    <tr>\n",
       "      <th>5</th>\n",
       "      <td>939</td>\n",
       "      <td>0.595439</td>\n",
       "      <td>Reluctant Debutante, The (1958)</td>\n",
       "      <td>Comedy|Drama</td>\n",
       "    </tr>\n",
       "  </tbody>\n",
       "</table>\n",
       "</div>"
      ],
      "text/plain": [
       "   movie_id     score                            title  \\\n",
       "1       694  0.618149           Substitute, The (1996)   \n",
       "2       168  0.602442              First Knight (1995)   \n",
       "3      2965  0.598257           Omega Code, The (1999)   \n",
       "4      3390  0.597749         Shanghai Surprise (1986)   \n",
       "5       939  0.595439  Reluctant Debutante, The (1958)   \n",
       "\n",
       "                            genre  \n",
       "1                          Action  \n",
       "2  Action|Adventure|Drama|Romance  \n",
       "3                          Action  \n",
       "4                       Adventure  \n",
       "5                    Comedy|Drama  "
      ]
     },
     "metadata": {},
     "output_type": "display_data"
    },
    {
     "name": "stdout",
     "output_type": "stream",
     "text": [
      "\n",
      "\n",
      "\n",
      "Coyote Ugly (2000) - Drama\n"
     ]
    },
    {
     "data": {
      "text/html": [
       "<div>\n",
       "<style scoped>\n",
       "    .dataframe tbody tr th:only-of-type {\n",
       "        vertical-align: middle;\n",
       "    }\n",
       "\n",
       "    .dataframe tbody tr th {\n",
       "        vertical-align: top;\n",
       "    }\n",
       "\n",
       "    .dataframe thead th {\n",
       "        text-align: right;\n",
       "    }\n",
       "</style>\n",
       "<table border=\"1\" class=\"dataframe\">\n",
       "  <thead>\n",
       "    <tr style=\"text-align: right;\">\n",
       "      <th></th>\n",
       "      <th>movie_id</th>\n",
       "      <th>score</th>\n",
       "      <th>title</th>\n",
       "      <th>genre</th>\n",
       "    </tr>\n",
       "  </thead>\n",
       "  <tbody>\n",
       "    <tr>\n",
       "      <th>1</th>\n",
       "      <td>3453</td>\n",
       "      <td>0.759931</td>\n",
       "      <td>Here on Earth (2000)</td>\n",
       "      <td>Drama|Romance</td>\n",
       "    </tr>\n",
       "    <tr>\n",
       "      <th>2</th>\n",
       "      <td>3454</td>\n",
       "      <td>0.703166</td>\n",
       "      <td>Whatever It Takes (2000)</td>\n",
       "      <td>Comedy|Romance</td>\n",
       "    </tr>\n",
       "    <tr>\n",
       "      <th>3</th>\n",
       "      <td>3861</td>\n",
       "      <td>0.695800</td>\n",
       "      <td>Replacements, The (2000)</td>\n",
       "      <td>Comedy</td>\n",
       "    </tr>\n",
       "    <tr>\n",
       "      <th>4</th>\n",
       "      <td>3225</td>\n",
       "      <td>0.689144</td>\n",
       "      <td>Down to You (2000)</td>\n",
       "      <td>Comedy|Romance</td>\n",
       "    </tr>\n",
       "    <tr>\n",
       "      <th>5</th>\n",
       "      <td>3857</td>\n",
       "      <td>0.687567</td>\n",
       "      <td>Bless the Child (2000)</td>\n",
       "      <td>Thriller</td>\n",
       "    </tr>\n",
       "  </tbody>\n",
       "</table>\n",
       "</div>"
      ],
      "text/plain": [
       "   movie_id     score                     title           genre\n",
       "1      3453  0.759931      Here on Earth (2000)   Drama|Romance\n",
       "2      3454  0.703166  Whatever It Takes (2000)  Comedy|Romance\n",
       "3      3861  0.695800  Replacements, The (2000)          Comedy\n",
       "4      3225  0.689144        Down to You (2000)  Comedy|Romance\n",
       "5      3857  0.687567    Bless the Child (2000)        Thriller"
      ]
     },
     "metadata": {},
     "output_type": "display_data"
    },
    {
     "name": "stdout",
     "output_type": "stream",
     "text": [
      "\n",
      "\n",
      "\n",
      "Notting Hill (1999) - Comedy|Romance\n"
     ]
    },
    {
     "data": {
      "text/html": [
       "<div>\n",
       "<style scoped>\n",
       "    .dataframe tbody tr th:only-of-type {\n",
       "        vertical-align: middle;\n",
       "    }\n",
       "\n",
       "    .dataframe tbody tr th {\n",
       "        vertical-align: top;\n",
       "    }\n",
       "\n",
       "    .dataframe thead th {\n",
       "        text-align: right;\n",
       "    }\n",
       "</style>\n",
       "<table border=\"1\" class=\"dataframe\">\n",
       "  <thead>\n",
       "    <tr style=\"text-align: right;\">\n",
       "      <th></th>\n",
       "      <th>movie_id</th>\n",
       "      <th>score</th>\n",
       "      <th>title</th>\n",
       "      <th>genre</th>\n",
       "    </tr>\n",
       "  </thead>\n",
       "  <tbody>\n",
       "    <tr>\n",
       "      <th>1</th>\n",
       "      <td>1569</td>\n",
       "      <td>0.539215</td>\n",
       "      <td>My Best Friend's Wedding (1997)</td>\n",
       "      <td>Comedy|Romance</td>\n",
       "    </tr>\n",
       "    <tr>\n",
       "      <th>2</th>\n",
       "      <td>597</td>\n",
       "      <td>0.538261</td>\n",
       "      <td>Pretty Woman (1990)</td>\n",
       "      <td>Comedy|Romance</td>\n",
       "    </tr>\n",
       "    <tr>\n",
       "      <th>3</th>\n",
       "      <td>539</td>\n",
       "      <td>0.529176</td>\n",
       "      <td>Sleepless in Seattle (1993)</td>\n",
       "      <td>Comedy|Romance</td>\n",
       "    </tr>\n",
       "    <tr>\n",
       "      <th>4</th>\n",
       "      <td>339</td>\n",
       "      <td>0.513198</td>\n",
       "      <td>While You Were Sleeping (1995)</td>\n",
       "      <td>Comedy|Romance</td>\n",
       "    </tr>\n",
       "    <tr>\n",
       "      <th>5</th>\n",
       "      <td>2424</td>\n",
       "      <td>0.493691</td>\n",
       "      <td>You've Got Mail (1998)</td>\n",
       "      <td>Comedy|Romance</td>\n",
       "    </tr>\n",
       "  </tbody>\n",
       "</table>\n",
       "</div>"
      ],
      "text/plain": [
       "   movie_id     score                            title           genre\n",
       "1      1569  0.539215  My Best Friend's Wedding (1997)  Comedy|Romance\n",
       "2       597  0.538261              Pretty Woman (1990)  Comedy|Romance\n",
       "3       539  0.529176      Sleepless in Seattle (1993)  Comedy|Romance\n",
       "4       339  0.513198   While You Were Sleeping (1995)  Comedy|Romance\n",
       "5      2424  0.493691           You've Got Mail (1998)  Comedy|Romance"
      ]
     },
     "metadata": {},
     "output_type": "display_data"
    },
    {
     "name": "stdout",
     "output_type": "stream",
     "text": [
      "\n",
      "\n",
      "\n",
      "time: 66 ms (started: 2021-02-16 19:47:11 +09:00)\n"
     ]
    }
   ],
   "source": [
    "similar_movies_dfs = [ get_similar_movies_df(movie_id) for movie_id in my_movie_id]\n",
    "\n",
    "for title, genre, df in zip(my_title, my_genre, similar_movies_dfs):\n",
    "    print(f'{title} - {genre}')\n",
    "    display(df)\n",
    "    print('\\n\\n')"
   ]
  },
  {
   "cell_type": "markdown",
   "id": "patent-danger",
   "metadata": {},
   "source": [
    "- 노팅힐과 비슷한 영화로 시애틀의 잠못드는 밤, 유브 갓 메일, 내 남자친구의 결혼식, 귀여운 여인이 추천되었다. 로맨스 코메디 장르의 영화들로 서로 비슷하다고 할 수 있는 영화가 잘 추천 되었다. \n",
    "- 반면, 클루리스는 대표적인 하이틴 영화이기 때문에 추천 영화들 역시 비슷한 장르일 것이라 예상하였으나, 전혀 다르게 추천 되었고 추천된 영화들 간에도 공통점을 찾기 힘들었다."
   ]
  },
  {
   "cell_type": "markdown",
   "id": "unauthorized-stupid",
   "metadata": {},
   "source": [
    "#### 내가 좋아할만한 영화들을 추천받아 보자"
   ]
  },
  {
   "cell_type": "code",
   "execution_count": 38,
   "id": "negative-negotiation",
   "metadata": {},
   "outputs": [
    {
     "data": {
      "text/html": [
       "<div>\n",
       "<style scoped>\n",
       "    .dataframe tbody tr th:only-of-type {\n",
       "        vertical-align: middle;\n",
       "    }\n",
       "\n",
       "    .dataframe tbody tr th {\n",
       "        vertical-align: top;\n",
       "    }\n",
       "\n",
       "    .dataframe thead th {\n",
       "        text-align: right;\n",
       "    }\n",
       "</style>\n",
       "<table border=\"1\" class=\"dataframe\">\n",
       "  <thead>\n",
       "    <tr style=\"text-align: right;\">\n",
       "      <th></th>\n",
       "      <th>movie_id</th>\n",
       "      <th>score</th>\n",
       "      <th>title</th>\n",
       "      <th>genre</th>\n",
       "    </tr>\n",
       "  </thead>\n",
       "  <tbody>\n",
       "    <tr>\n",
       "      <th>1</th>\n",
       "      <td>357</td>\n",
       "      <td>0.246506</td>\n",
       "      <td>Four Weddings and a Funeral (1994)</td>\n",
       "      <td>Comedy|Romance</td>\n",
       "    </tr>\n",
       "    <tr>\n",
       "      <th>2</th>\n",
       "      <td>1569</td>\n",
       "      <td>0.219293</td>\n",
       "      <td>My Best Friend's Wedding (1997)</td>\n",
       "      <td>Comedy|Romance</td>\n",
       "    </tr>\n",
       "    <tr>\n",
       "      <th>3</th>\n",
       "      <td>2396</td>\n",
       "      <td>0.209557</td>\n",
       "      <td>Shakespeare in Love (1998)</td>\n",
       "      <td>Comedy|Romance</td>\n",
       "    </tr>\n",
       "    <tr>\n",
       "      <th>4</th>\n",
       "      <td>440</td>\n",
       "      <td>0.204286</td>\n",
       "      <td>Dave (1993)</td>\n",
       "      <td>Comedy|Romance</td>\n",
       "    </tr>\n",
       "    <tr>\n",
       "      <th>5</th>\n",
       "      <td>597</td>\n",
       "      <td>0.197946</td>\n",
       "      <td>Pretty Woman (1990)</td>\n",
       "      <td>Comedy|Romance</td>\n",
       "    </tr>\n",
       "    <tr>\n",
       "      <th>6</th>\n",
       "      <td>3798</td>\n",
       "      <td>0.182792</td>\n",
       "      <td>What Lies Beneath (2000)</td>\n",
       "      <td>Thriller</td>\n",
       "    </tr>\n",
       "    <tr>\n",
       "      <th>7</th>\n",
       "      <td>1183</td>\n",
       "      <td>0.178374</td>\n",
       "      <td>English Patient, The (1996)</td>\n",
       "      <td>Drama|Romance|War</td>\n",
       "    </tr>\n",
       "    <tr>\n",
       "      <th>8</th>\n",
       "      <td>1393</td>\n",
       "      <td>0.177449</td>\n",
       "      <td>Jerry Maguire (1996)</td>\n",
       "      <td>Drama|Romance</td>\n",
       "    </tr>\n",
       "    <tr>\n",
       "      <th>9</th>\n",
       "      <td>3785</td>\n",
       "      <td>0.171850</td>\n",
       "      <td>Scary Movie (2000)</td>\n",
       "      <td>Comedy|Horror</td>\n",
       "    </tr>\n",
       "    <tr>\n",
       "      <th>10</th>\n",
       "      <td>1777</td>\n",
       "      <td>0.166895</td>\n",
       "      <td>Wedding Singer, The (1998)</td>\n",
       "      <td>Comedy|Romance</td>\n",
       "    </tr>\n",
       "  </tbody>\n",
       "</table>\n",
       "</div>"
      ],
      "text/plain": [
       "    movie_id     score                               title              genre\n",
       "1        357  0.246506  Four Weddings and a Funeral (1994)     Comedy|Romance\n",
       "2       1569  0.219293     My Best Friend's Wedding (1997)     Comedy|Romance\n",
       "3       2396  0.209557          Shakespeare in Love (1998)     Comedy|Romance\n",
       "4        440  0.204286                         Dave (1993)     Comedy|Romance\n",
       "5        597  0.197946                 Pretty Woman (1990)     Comedy|Romance\n",
       "6       3798  0.182792            What Lies Beneath (2000)           Thriller\n",
       "7       1183  0.178374         English Patient, The (1996)  Drama|Romance|War\n",
       "8       1393  0.177449                Jerry Maguire (1996)      Drama|Romance\n",
       "9       3785  0.171850                  Scary Movie (2000)      Comedy|Horror\n",
       "10      1777  0.166895          Wedding Singer, The (1998)     Comedy|Romance"
      ]
     },
     "execution_count": 38,
     "metadata": {},
     "output_type": "execute_result"
    },
    {
     "name": "stdout",
     "output_type": "stream",
     "text": [
      "time: 16.3 ms (started: 2021-02-16 19:47:28 +09:00)\n"
     ]
    }
   ],
   "source": [
    "def get_recommended_df(user_id: str, model):\n",
    "    movie_recommended = model.recommend(user_id, csr_data, N=20, filter_already_liked_items=True)[:10]\n",
    "    movie_recommended = [ (movie_idx_to_id[e[0]], e[1]) for e in movie_recommended ]\n",
    "    movie_recommended_df = pd.DataFrame(columns=['movie_id', 'score'],\n",
    "                                         data=movie_recommended)\n",
    "    movie_recommended_df = pd.merge(movie_recommended_df, movies, on='movie_id', how='left')\n",
    "    movie_recommended_df.index = range(1, 11)\n",
    "    return movie_recommended_df\n",
    "    \n",
    "recommended_df = get_recommended_df(user_to_idx[my_id], als_model)\n",
    "recommended_df"
   ]
  },
  {
   "cell_type": "code",
   "execution_count": 39,
   "id": "oriented-carter",
   "metadata": {},
   "outputs": [
    {
     "name": "stdout",
     "output_type": "stream",
     "text": [
      "time: 589 µs (started: 2021-02-16 19:47:29 +09:00)\n"
     ]
    }
   ],
   "source": [
    "def get_recommanded_explain(movie_id: str, user_idx: str, model):\n",
    "    recommanded_movie_idx = movie_id_to_idx[movie_id]\n",
    "    explain = model.explain(user_idx, csr_data, itemid=recommanded_movie_idx)\n",
    "    explain_list = [(movie_idx_to_id[i[0]], i[1]) for i in explain[1]]\n",
    "    return explain_list"
   ]
  },
  {
   "cell_type": "code",
   "execution_count": 40,
   "id": "exciting-florist",
   "metadata": {},
   "outputs": [
    {
     "name": "stdout",
     "output_type": "stream",
     "text": [
      "time: 1.41 ms (started: 2021-02-16 19:47:30 +09:00)\n"
     ]
    }
   ],
   "source": [
    "def show_recommended_score_explain(recommended_df: pd.DataFrame, user_id: str, model, my_moive_id, my_title):\n",
    "    overview = pd.DataFrame(columns=['movie_id', *my_movie_id])\n",
    "\n",
    "    for movie_id in recommended_df['movie_id'].values:\n",
    "        explain_list = sorted(get_recommanded_explain(movie_id, user_id, model), key=lambda e: e[0]) \n",
    "        tmp_df = pd.DataFrame([movie_id, *(e[1] for e in explain_list)]).T\n",
    "        tmp_df.columns = overview.columns\n",
    "        overview = overview.append(tmp_df)\n",
    "\n",
    "    overview = pd.merge(overview, movies, on='movie_id', how='left')\n",
    "    overview = overview.drop('genre', axis=1)\n",
    "    overview.columns = ['movie_id', *my_title, 'title']\n",
    "    overview = overview.set_index('title')\n",
    "    overview = overview.drop('movie_id', axis=1)\n",
    "\n",
    "    ax = overview.plot(kind='barh', stacked=True, figsize=(8,7), colormap='RdYlGn')\n",
    "    ax.set_xlabel('Score Explain', fontdict={'fontsize': 13})\n",
    "    ax.set_ylabel('Movie Title', fontdict={'fontsize': 13})\n",
    "    ax.set_title('Recommended Score Explains', fontdict={'fontsize': 20})\n",
    "\n",
    "    scores = recommended_df['score'].values\n",
    "    for i in range(10):\n",
    "        ax.text(1.01, i, f'{scores[i]:.3f}', va='center', ha=\"left\", transform=ax.get_yaxis_transform())\n",
    "\n",
    "    ax.text(1.01, 9.8, f'Score', va='center', ha=\"left\", transform=ax.get_yaxis_transform(), fontdict={'fontsize': 13})\n",
    "    ax.grid(True, color='gray', alpha=0.5, linestyle='dashed')\n",
    "    ax.legend(loc='lower left')\n",
    "\n",
    "    plt.show()\n",
    "\n",
    "    display(overview)"
   ]
  },
  {
   "cell_type": "code",
   "execution_count": 41,
   "id": "separate-purchase",
   "metadata": {},
   "outputs": [
    {
     "data": {
      "image/png": "[encoded data removed]",
      "text/plain": [
       "<Figure size 576x504 with 1 Axes>"
      ]
     },
     "metadata": {
      "needs_background": "light"
     },
     "output_type": "display_data"
    },
    {
     "data": {
      "text/html": [
       "<div>\n",
       "<style scoped>\n",
       "    .dataframe tbody tr th:only-of-type {\n",
       "        vertical-align: middle;\n",
       "    }\n",
       "\n",
       "    .dataframe tbody tr th {\n",
       "        vertical-align: top;\n",
       "    }\n",
       "\n",
       "    .dataframe thead th {\n",
       "        text-align: right;\n",
       "    }\n",
       "</style>\n",
       "<table border=\"1\" class=\"dataframe\">\n",
       "  <thead>\n",
       "    <tr style=\"text-align: right;\">\n",
       "      <th></th>\n",
       "      <th>Clueless (1995)</th>\n",
       "      <th>Titanic (1997)</th>\n",
       "      <th>Man in the Iron Mask, The (1998)</th>\n",
       "      <th>Coyote Ugly (2000)</th>\n",
       "      <th>Notting Hill (1999)</th>\n",
       "    </tr>\n",
       "    <tr>\n",
       "      <th>title</th>\n",
       "      <th></th>\n",
       "      <th></th>\n",
       "      <th></th>\n",
       "      <th></th>\n",
       "      <th></th>\n",
       "    </tr>\n",
       "  </thead>\n",
       "  <tbody>\n",
       "    <tr>\n",
       "      <th>Four Weddings and a Funeral (1994)</th>\n",
       "      <td>0.126258</td>\n",
       "      <td>0.016199</td>\n",
       "      <td>0.008821</td>\n",
       "      <td>0.106967</td>\n",
       "      <td>-0.019022</td>\n",
       "    </tr>\n",
       "    <tr>\n",
       "      <th>My Best Friend's Wedding (1997)</th>\n",
       "      <td>0.027400</td>\n",
       "      <td>0.025306</td>\n",
       "      <td>0.007394</td>\n",
       "      <td>0.131575</td>\n",
       "      <td>0.023130</td>\n",
       "    </tr>\n",
       "    <tr>\n",
       "      <th>Shakespeare in Love (1998)</th>\n",
       "      <td>0.084759</td>\n",
       "      <td>0.004332</td>\n",
       "      <td>0.051331</td>\n",
       "      <td>0.057933</td>\n",
       "      <td>0.003063</td>\n",
       "    </tr>\n",
       "    <tr>\n",
       "      <th>Dave (1993)</th>\n",
       "      <td>0.069568</td>\n",
       "      <td>0.050351</td>\n",
       "      <td>-0.015342</td>\n",
       "      <td>0.030526</td>\n",
       "      <td>0.059276</td>\n",
       "    </tr>\n",
       "    <tr>\n",
       "      <th>Pretty Woman (1990)</th>\n",
       "      <td>0.011475</td>\n",
       "      <td>0.009749</td>\n",
       "      <td>-0.006381</td>\n",
       "      <td>0.148842</td>\n",
       "      <td>0.030493</td>\n",
       "    </tr>\n",
       "    <tr>\n",
       "      <th>What Lies Beneath (2000)</th>\n",
       "      <td>0.003972</td>\n",
       "      <td>0.008014</td>\n",
       "      <td>0.041399</td>\n",
       "      <td>0.023106</td>\n",
       "      <td>0.100811</td>\n",
       "    </tr>\n",
       "    <tr>\n",
       "      <th>English Patient, The (1996)</th>\n",
       "      <td>0.020987</td>\n",
       "      <td>0.085970</td>\n",
       "      <td>0.020581</td>\n",
       "      <td>0.048475</td>\n",
       "      <td>-0.002974</td>\n",
       "    </tr>\n",
       "    <tr>\n",
       "      <th>Jerry Maguire (1996)</th>\n",
       "      <td>0.079804</td>\n",
       "      <td>0.052156</td>\n",
       "      <td>0.029094</td>\n",
       "      <td>0.003480</td>\n",
       "      <td>0.008418</td>\n",
       "    </tr>\n",
       "    <tr>\n",
       "      <th>Scary Movie (2000)</th>\n",
       "      <td>0.050178</td>\n",
       "      <td>-0.003373</td>\n",
       "      <td>0.024543</td>\n",
       "      <td>0.001500</td>\n",
       "      <td>0.092085</td>\n",
       "    </tr>\n",
       "    <tr>\n",
       "      <th>Wedding Singer, The (1998)</th>\n",
       "      <td>0.029936</td>\n",
       "      <td>0.043858</td>\n",
       "      <td>0.034109</td>\n",
       "      <td>0.077170</td>\n",
       "      <td>-0.026979</td>\n",
       "    </tr>\n",
       "  </tbody>\n",
       "</table>\n",
       "</div>"
      ],
      "text/plain": [
       "                                    Clueless (1995)  Titanic (1997)  \\\n",
       "title                                                                 \n",
       "Four Weddings and a Funeral (1994)         0.126258        0.016199   \n",
       "My Best Friend's Wedding (1997)            0.027400        0.025306   \n",
       "Shakespeare in Love (1998)                 0.084759        0.004332   \n",
       "Dave (1993)                                0.069568        0.050351   \n",
       "Pretty Woman (1990)                        0.011475        0.009749   \n",
       "What Lies Beneath (2000)                   0.003972        0.008014   \n",
       "English Patient, The (1996)                0.020987        0.085970   \n",
       "Jerry Maguire (1996)                       0.079804        0.052156   \n",
       "Scary Movie (2000)                         0.050178       -0.003373   \n",
       "Wedding Singer, The (1998)                 0.029936        0.043858   \n",
       "\n",
       "                                    Man in the Iron Mask, The (1998)  \\\n",
       "title                                                                  \n",
       "Four Weddings and a Funeral (1994)                          0.008821   \n",
       "My Best Friend's Wedding (1997)                             0.007394   \n",
       "Shakespeare in Love (1998)                                  0.051331   \n",
       "Dave (1993)                                                -0.015342   \n",
       "Pretty Woman (1990)                                        -0.006381   \n",
       "What Lies Beneath (2000)                                    0.041399   \n",
       "English Patient, The (1996)                                 0.020581   \n",
       "Jerry Maguire (1996)                                        0.029094   \n",
       "Scary Movie (2000)                                          0.024543   \n",
       "Wedding Singer, The (1998)                                  0.034109   \n",
       "\n",
       "                                    Coyote Ugly (2000)  Notting Hill (1999)  \n",
       "title                                                                        \n",
       "Four Weddings and a Funeral (1994)            0.106967            -0.019022  \n",
       "My Best Friend's Wedding (1997)               0.131575             0.023130  \n",
       "Shakespeare in Love (1998)                    0.057933             0.003063  \n",
       "Dave (1993)                                   0.030526             0.059276  \n",
       "Pretty Woman (1990)                           0.148842             0.030493  \n",
       "What Lies Beneath (2000)                      0.023106             0.100811  \n",
       "English Patient, The (1996)                   0.048475            -0.002974  \n",
       "Jerry Maguire (1996)                          0.003480             0.008418  \n",
       "Scary Movie (2000)                            0.001500             0.092085  \n",
       "Wedding Singer, The (1998)                    0.077170            -0.026979  "
      ]
     },
     "metadata": {},
     "output_type": "display_data"
    },
    {
     "name": "stdout",
     "output_type": "stream",
     "text": [
      "time: 291 ms (started: 2021-02-16 19:47:30 +09:00)\n"
     ]
    }
   ],
   "source": [
    "show_recommended_score_explain(recommended_df, user_to_idx[my_id], als_model, my_movie_id, my_title)"
   ]
  },
  {
   "cell_type": "markdown",
   "id": "directed-rally",
   "metadata": {},
   "source": [
    "- score 값은 낮지만 상당히 잘 추천 되었다. 특히 귀여운 여인, 스피트, 네 번의 결혼식과 한 번의 장례식, 로미오와 줄리엣은 실제로도 괜찮게 봤던 영화들이어서 더 추천 결과에 신뢰가 갔다.\n",
    "- 추천된 영화들은 대게 로맨스 장르들로 나의 선호 영화였던 클루리스, 타이타닉, 코요테 어글리, 노팅힐이 모두 로맨스 장르를 포함하고 있는 것에 영향을 받은 것으로 보인다."
   ]
  },
  {
   "cell_type": "markdown",
   "id": "british-pregnancy",
   "metadata": {},
   "source": [
    "## STEP4. 추가실험\n",
    "---"
   ]
  },
  {
   "cell_type": "markdown",
   "id": "numerical-mother",
   "metadata": {},
   "source": [
    "### 내가 선호하는 영화의 선호도가 1에 근사하였을 경우, 어떤 영화가 추천될까?\n",
    "- 가설 : 내가 선호하는 영화의 선호도가 1에 근사하다는 것은 나의 선호도 정보가 더 강력하게 학습되었다는 의미이므로 *좋아할만한 혹은 이미 봤음직한* 영화가 추천될 것 같다."
   ]
  },
  {
   "cell_type": "markdown",
   "id": "rocky-newfoundland",
   "metadata": {},
   "source": [
    "1. 모델의 하이퍼 파라미터를 조절하여 다양한 형태의 모델 정의"
   ]
  },
  {
   "cell_type": "code",
   "execution_count": 42,
   "id": "monetary-pavilion",
   "metadata": {},
   "outputs": [
    {
     "name": "stdout",
     "output_type": "stream",
     "text": [
      "time: 2.42 ms (started: 2021-02-16 19:02:46 +09:00)\n"
     ]
    }
   ],
   "source": [
    "als_model_512_20 = AlternatingLeastSquares(factors=512, \n",
    "                                           regularization=0.01,\n",
    "                                           use_gpu=False, \n",
    "                                           iterations=20,\n",
    "                                           dtype=np.float64)\n",
    "\n",
    "als_model_1024_20 = AlternatingLeastSquares(factors=1024, \n",
    "                                           regularization=0.01,\n",
    "                                           use_gpu=False, \n",
    "                                           iterations=20,\n",
    "                                           dtype=np.float64)\n",
    "\n",
    "als_model_2048_20 = AlternatingLeastSquares(factors=2048, \n",
    "                                           regularization=0.01,\n",
    "                                           use_gpu=False, \n",
    "                                           iterations=20,\n",
    "                                           dtype=np.float64)"
   ]
  },
  {
   "cell_type": "markdown",
   "id": "combined-cowboy",
   "metadata": {},
   "source": [
    "2. 모델 학습"
   ]
  },
  {
   "cell_type": "code",
   "execution_count": 43,
   "id": "sixth-amsterdam",
   "metadata": {},
   "outputs": [
    {
     "data": {
      "application/vnd.jupyter.widget-view+json": {
       "model_id": "37846490ecfe4ad183f00f1999bbde73",
       "version_major": 2,
       "version_minor": 0
      },
      "text/plain": [
       "  0%|          | 0/20 [00:00<?, ?it/s]"
      ]
     },
     "metadata": {},
     "output_type": "display_data"
    },
    {
     "data": {
      "application/vnd.jupyter.widget-view+json": {
       "model_id": "02a5332f207b433cbac646db49411b7d",
       "version_major": 2,
       "version_minor": 0
      },
      "text/plain": [
       "  0%|          | 0/20 [00:00<?, ?it/s]"
      ]
     },
     "metadata": {},
     "output_type": "display_data"
    },
    {
     "data": {
      "application/vnd.jupyter.widget-view+json": {
       "model_id": "e659412fb8954989a7a32451a5e6ee42",
       "version_major": 2,
       "version_minor": 0
      },
      "text/plain": [
       "  0%|          | 0/20 [00:00<?, ?it/s]"
      ]
     },
     "metadata": {},
     "output_type": "display_data"
    },
    {
     "name": "stdout",
     "output_type": "stream",
     "text": [
      "time: 9min 16s (started: 2021-02-16 19:02:48 +09:00)\n"
     ]
    }
   ],
   "source": [
    "models = {\n",
    "    'als_model_512_20': als_model_512_20,\n",
    "    'als_model_1024_20': als_model_1024_20,\n",
    "    'als_model_2048_20': als_model_2048_20,\n",
    "}\n",
    "\n",
    "for model in models.values(): model.fit(csr_data_transpose)"
   ]
  },
  {
   "cell_type": "markdown",
   "id": "supported-choir",
   "metadata": {},
   "source": [
    "3. 내가 선호하는 영화들에 대한 선호도 평균이 가장 높은 모델을 선정"
   ]
  },
  {
   "cell_type": "code",
   "execution_count": 44,
   "id": "moderate-fleece",
   "metadata": {},
   "outputs": [
    {
     "data": {
      "image/png": "[encoded data removed]",
      "text/plain": [
       "<Figure size 432x288 with 1 Axes>"
      ]
     },
     "metadata": {
      "needs_background": "light"
     },
     "output_type": "display_data"
    },
    {
     "data": {
      "image/png": "[encoded data removed]",
      "text/plain": [
       "<Figure size 432x288 with 1 Axes>"
      ]
     },
     "metadata": {
      "needs_background": "light"
     },
     "output_type": "display_data"
    },
    {
     "data": {
      "image/png": "[encoded data removed]",
      "text/plain": [
       "<Figure size 432x288 with 1 Axes>"
      ]
     },
     "metadata": {
      "needs_background": "light"
     },
     "output_type": "display_data"
    },
    {
     "name": "stdout",
     "output_type": "stream",
     "text": [
      "time: 379 ms (started: 2021-02-16 19:14:25 +09:00)\n"
     ]
    }
   ],
   "source": [
    "for model_name, model in models.items():\n",
    "    my_vector = model.user_factors[user_to_idx[my_id]]\n",
    "    favorit_movie_vector = [ model.item_factors[movie_id_to_idx[movie_id]] for movie_id in my_movie_id ]\n",
    "    my_movie_preference = [ np.dot(my_vector, mv) for mv in favorit_movie_vector ]\n",
    "    my_movie_preference_df = pd.DataFrame({'movie_id' : my_movie_id,\n",
    "                                           'title' : my_title,\n",
    "                                           'genre' : my_genre,\n",
    "                                           'preference': my_movie_preference})\n",
    "    show_preference_df_plot(my_movie_preference_df, f'Preference of My Favorite Movies-{model_name}')"
   ]
  },
  {
   "cell_type": "markdown",
   "id": "domestic-health",
   "metadata": {},
   "source": [
    "4. 3에서 선정된 모델로부터 내가 좋아할만한 영화를 추천 받아, 결과를 확인해 본다."
   ]
  },
  {
   "cell_type": "code",
   "execution_count": 45,
   "id": "incomplete-elevation",
   "metadata": {},
   "outputs": [
    {
     "data": {
      "image/png": "[encoded data removed]",
      "text/plain": [
       "<Figure size 576x504 with 1 Axes>"
      ]
     },
     "metadata": {
      "needs_background": "light"
     },
     "output_type": "display_data"
    },
    {
     "data": {
      "text/html": [
       "<div>\n",
       "<style scoped>\n",
       "    .dataframe tbody tr th:only-of-type {\n",
       "        vertical-align: middle;\n",
       "    }\n",
       "\n",
       "    .dataframe tbody tr th {\n",
       "        vertical-align: top;\n",
       "    }\n",
       "\n",
       "    .dataframe thead th {\n",
       "        text-align: right;\n",
       "    }\n",
       "</style>\n",
       "<table border=\"1\" class=\"dataframe\">\n",
       "  <thead>\n",
       "    <tr style=\"text-align: right;\">\n",
       "      <th></th>\n",
       "      <th>Clueless (1995)</th>\n",
       "      <th>Titanic (1997)</th>\n",
       "      <th>Man in the Iron Mask, The (1998)</th>\n",
       "      <th>Coyote Ugly (2000)</th>\n",
       "      <th>Notting Hill (1999)</th>\n",
       "    </tr>\n",
       "    <tr>\n",
       "      <th>title</th>\n",
       "      <th></th>\n",
       "      <th></th>\n",
       "      <th></th>\n",
       "      <th></th>\n",
       "      <th></th>\n",
       "    </tr>\n",
       "  </thead>\n",
       "  <tbody>\n",
       "    <tr>\n",
       "      <th>Here on Earth (2000)</th>\n",
       "      <td>0.003236</td>\n",
       "      <td>0.004261</td>\n",
       "      <td>0.002954</td>\n",
       "      <td>0.002296</td>\n",
       "      <td>0.056741</td>\n",
       "    </tr>\n",
       "    <tr>\n",
       "      <th>Stepmom (1998)</th>\n",
       "      <td>0.001051</td>\n",
       "      <td>0.005515</td>\n",
       "      <td>0.027428</td>\n",
       "      <td>0.009598</td>\n",
       "      <td>0.014396</td>\n",
       "    </tr>\n",
       "    <tr>\n",
       "      <th>Distinguished Gentleman, The (1992)</th>\n",
       "      <td>0.001686</td>\n",
       "      <td>0.005647</td>\n",
       "      <td>-0.013745</td>\n",
       "      <td>0.010887</td>\n",
       "      <td>0.044255</td>\n",
       "    </tr>\n",
       "    <tr>\n",
       "      <th>Relic, The (1997)</th>\n",
       "      <td>0.000277</td>\n",
       "      <td>0.005807</td>\n",
       "      <td>0.008047</td>\n",
       "      <td>0.003772</td>\n",
       "      <td>0.027869</td>\n",
       "    </tr>\n",
       "    <tr>\n",
       "      <th>Alaska (1996)</th>\n",
       "      <td>-0.002544</td>\n",
       "      <td>0.003450</td>\n",
       "      <td>0.026809</td>\n",
       "      <td>0.003666</td>\n",
       "      <td>0.014111</td>\n",
       "    </tr>\n",
       "    <tr>\n",
       "      <th>Practical Magic (1998)</th>\n",
       "      <td>0.001183</td>\n",
       "      <td>0.000742</td>\n",
       "      <td>0.017883</td>\n",
       "      <td>-0.002102</td>\n",
       "      <td>0.024903</td>\n",
       "    </tr>\n",
       "    <tr>\n",
       "      <th>Skulls, The (2000)</th>\n",
       "      <td>0.002421</td>\n",
       "      <td>-0.000464</td>\n",
       "      <td>0.003421</td>\n",
       "      <td>-0.005556</td>\n",
       "      <td>0.040952</td>\n",
       "    </tr>\n",
       "    <tr>\n",
       "      <th>Action Jackson (1988)</th>\n",
       "      <td>0.004127</td>\n",
       "      <td>0.003393</td>\n",
       "      <td>0.012146</td>\n",
       "      <td>0.003031</td>\n",
       "      <td>0.017651</td>\n",
       "    </tr>\n",
       "    <tr>\n",
       "      <th>Crew, The (2000)</th>\n",
       "      <td>-0.002632</td>\n",
       "      <td>-0.001981</td>\n",
       "      <td>0.000767</td>\n",
       "      <td>0.004892</td>\n",
       "      <td>0.041430</td>\n",
       "    </tr>\n",
       "    <tr>\n",
       "      <th>Batman &amp; Robin (1997)</th>\n",
       "      <td>-0.001441</td>\n",
       "      <td>0.006336</td>\n",
       "      <td>0.007314</td>\n",
       "      <td>0.000585</td>\n",
       "      <td>0.025820</td>\n",
       "    </tr>\n",
       "  </tbody>\n",
       "</table>\n",
       "</div>"
      ],
      "text/plain": [
       "                                     Clueless (1995)  Titanic (1997)  \\\n",
       "title                                                                  \n",
       "Here on Earth (2000)                        0.003236        0.004261   \n",
       "Stepmom (1998)                              0.001051        0.005515   \n",
       "Distinguished Gentleman, The (1992)         0.001686        0.005647   \n",
       "Relic, The (1997)                           0.000277        0.005807   \n",
       "Alaska (1996)                              -0.002544        0.003450   \n",
       "Practical Magic (1998)                      0.001183        0.000742   \n",
       "Skulls, The (2000)                          0.002421       -0.000464   \n",
       "Action Jackson (1988)                       0.004127        0.003393   \n",
       "Crew, The (2000)                           -0.002632       -0.001981   \n",
       "Batman & Robin (1997)                      -0.001441        0.006336   \n",
       "\n",
       "                                     Man in the Iron Mask, The (1998)  \\\n",
       "title                                                                   \n",
       "Here on Earth (2000)                                         0.002954   \n",
       "Stepmom (1998)                                               0.027428   \n",
       "Distinguished Gentleman, The (1992)                         -0.013745   \n",
       "Relic, The (1997)                                            0.008047   \n",
       "Alaska (1996)                                                0.026809   \n",
       "Practical Magic (1998)                                       0.017883   \n",
       "Skulls, The (2000)                                           0.003421   \n",
       "Action Jackson (1988)                                        0.012146   \n",
       "Crew, The (2000)                                             0.000767   \n",
       "Batman & Robin (1997)                                        0.007314   \n",
       "\n",
       "                                     Coyote Ugly (2000)  Notting Hill (1999)  \n",
       "title                                                                         \n",
       "Here on Earth (2000)                           0.002296             0.056741  \n",
       "Stepmom (1998)                                 0.009598             0.014396  \n",
       "Distinguished Gentleman, The (1992)            0.010887             0.044255  \n",
       "Relic, The (1997)                              0.003772             0.027869  \n",
       "Alaska (1996)                                  0.003666             0.014111  \n",
       "Practical Magic (1998)                        -0.002102             0.024903  \n",
       "Skulls, The (2000)                            -0.005556             0.040952  \n",
       "Action Jackson (1988)                          0.003031             0.017651  \n",
       "Crew, The (2000)                               0.004892             0.041430  \n",
       "Batman & Robin (1997)                          0.000585             0.025820  "
      ]
     },
     "metadata": {},
     "output_type": "display_data"
    },
    {
     "name": "stdout",
     "output_type": "stream",
     "text": [
      "time: 2.26 s (started: 2021-02-16 19:14:30 +09:00)\n"
     ]
    }
   ],
   "source": [
    "recommended_df = get_recommended_df(user_to_idx[my_id], models['als_model_2048_20'])\n",
    "show_recommended_score_explain(recommended_df, user_to_idx[my_id], models['als_model_2048_20'], my_moive_id, my_title)"
   ]
  },
  {
   "cell_type": "markdown",
   "id": "alpine-chess",
   "metadata": {},
   "source": [
    "- 결과 : 이전에 학습되었던 모델에서 추천한 영화의 score 평균은 0.1745였다. 반면 이번 실험에서 얻어진 추천 영화 score의 평균은 0.0484이다. score의 값이 높을수록 유저의 선호도가 높은 것이므로 추천영화라고 했지만, 사실상 유저가 선호할 확률이 매우 희박한 영화 10편이라고 해도 무방할 것이다. 가설이었던 *선호도 정보가 강력하게 학습되었다*가 더 좋은 추천시스템이 구축되었다고 연결되는 것이 아닌 *모델이 오버피팅 되었다*의 다른 말이었다. "
   ]
  },
  {
   "cell_type": "markdown",
   "id": "breeding-sword",
   "metadata": {},
   "source": [
    "### 내가 선호하는 영화가 마니아적인 성향이 있다면, 어떤 영화가 추천될까?\n",
    "- 가설 : 만약, 선호영화 목록을 하이틴 로맨스 장르로 가득 채운다면 이는 내가 하이틴 로맨스 장르의 마니아라고 할 수 있을것이다. 이 경우, 하이틴 로맨스로 선호도가 집중되고 다른 장으로는 선호도가 낮게 측정 될 것이므로 추천되는 영화 역시 하이틴 로맨스 장르가 될 것이다."
   ]
  },
  {
   "cell_type": "markdown",
   "id": "expired-narrow",
   "metadata": {},
   "source": [
    "1. 추가 사용자 초기 정보 생성"
   ]
  },
  {
   "cell_type": "code",
   "execution_count": 62,
   "id": "polar-functionality",
   "metadata": {},
   "outputs": [
    {
     "name": "stdout",
     "output_type": "stream",
     "text": [
      "time: 21 ms (started: 2021-02-16 19:24:34 +09:00)\n"
     ]
    }
   ],
   "source": [
    "mania_movie_id = [ 39, 2145, 2485, 2572, 2706]\n",
    "mania_count = [5, 5, 5, 5, 5]\n",
    "\n",
    "ids = ratings['user_id'].unique()\n",
    "mania_id = ids[-1] + 1\n",
    "while mania_id in ids: mania_id += 1\n",
    "    \n",
    "mania_title = [ movies[movies['movie_id']==_id]['title'].values[0] for _id in mania_movie_id ]\n",
    "mania_genre = [ movies[movies['movie_id']==_id]['genre'].values[0] for _id in mania_movie_id ]"
   ]
  },
  {
   "cell_type": "markdown",
   "id": "sealed-stick",
   "metadata": {},
   "source": [
    "2. ratings에 데이터 삽입"
   ]
  },
  {
   "cell_type": "code",
   "execution_count": 63,
   "id": "light-procedure",
   "metadata": {},
   "outputs": [
    {
     "data": {
      "text/html": [
       "<div>\n",
       "<style scoped>\n",
       "    .dataframe tbody tr th:only-of-type {\n",
       "        vertical-align: middle;\n",
       "    }\n",
       "\n",
       "    .dataframe tbody tr th {\n",
       "        vertical-align: top;\n",
       "    }\n",
       "\n",
       "    .dataframe thead th {\n",
       "        text-align: right;\n",
       "    }\n",
       "</style>\n",
       "<table border=\"1\" class=\"dataframe\">\n",
       "  <thead>\n",
       "    <tr style=\"text-align: right;\">\n",
       "      <th></th>\n",
       "      <th>user_id</th>\n",
       "      <th>movie_id</th>\n",
       "      <th>count</th>\n",
       "      <th>title</th>\n",
       "      <th>genre</th>\n",
       "    </tr>\n",
       "  </thead>\n",
       "  <tbody>\n",
       "    <tr>\n",
       "      <th>836473</th>\n",
       "      <td>5851</td>\n",
       "      <td>3607</td>\n",
       "      <td>5</td>\n",
       "      <td>One Little Indian (1973)</td>\n",
       "      <td>Comedy|Drama|Western</td>\n",
       "    </tr>\n",
       "    <tr>\n",
       "      <th>836474</th>\n",
       "      <td>5854</td>\n",
       "      <td>3026</td>\n",
       "      <td>4</td>\n",
       "      <td>Slaughterhouse (1987)</td>\n",
       "      <td>Horror</td>\n",
       "    </tr>\n",
       "    <tr>\n",
       "      <th>836475</th>\n",
       "      <td>5854</td>\n",
       "      <td>690</td>\n",
       "      <td>3</td>\n",
       "      <td>Promise, The (Versprechen, Das) (1994)</td>\n",
       "      <td>Romance</td>\n",
       "    </tr>\n",
       "    <tr>\n",
       "      <th>836476</th>\n",
       "      <td>5938</td>\n",
       "      <td>2909</td>\n",
       "      <td>4</td>\n",
       "      <td>Five Wives, Three Secretaries and Me (1998)</td>\n",
       "      <td>Documentary</td>\n",
       "    </tr>\n",
       "    <tr>\n",
       "      <th>836477</th>\n",
       "      <td>5948</td>\n",
       "      <td>1360</td>\n",
       "      <td>5</td>\n",
       "      <td>Identification of a Woman (Identificazione di ...</td>\n",
       "      <td>Drama</td>\n",
       "    </tr>\n",
       "    <tr>\n",
       "      <th>836478</th>\n",
       "      <td>6041</td>\n",
       "      <td>39</td>\n",
       "      <td>5</td>\n",
       "      <td>Clueless (1995)</td>\n",
       "      <td>Comedy|Romance</td>\n",
       "    </tr>\n",
       "    <tr>\n",
       "      <th>836479</th>\n",
       "      <td>6041</td>\n",
       "      <td>2145</td>\n",
       "      <td>5</td>\n",
       "      <td>Pretty in Pink (1986)</td>\n",
       "      <td>Comedy|Drama|Romance</td>\n",
       "    </tr>\n",
       "    <tr>\n",
       "      <th>836480</th>\n",
       "      <td>6041</td>\n",
       "      <td>2485</td>\n",
       "      <td>5</td>\n",
       "      <td>She's All That (1999)</td>\n",
       "      <td>Comedy|Romance</td>\n",
       "    </tr>\n",
       "    <tr>\n",
       "      <th>836481</th>\n",
       "      <td>6041</td>\n",
       "      <td>2572</td>\n",
       "      <td>5</td>\n",
       "      <td>10 Things I Hate About You (1999)</td>\n",
       "      <td>Comedy|Romance</td>\n",
       "    </tr>\n",
       "    <tr>\n",
       "      <th>836482</th>\n",
       "      <td>6041</td>\n",
       "      <td>2706</td>\n",
       "      <td>5</td>\n",
       "      <td>American Pie (1999)</td>\n",
       "      <td>Comedy</td>\n",
       "    </tr>\n",
       "  </tbody>\n",
       "</table>\n",
       "</div>"
      ],
      "text/plain": [
       "        user_id  movie_id  count  \\\n",
       "836473     5851      3607      5   \n",
       "836474     5854      3026      4   \n",
       "836475     5854       690      3   \n",
       "836476     5938      2909      4   \n",
       "836477     5948      1360      5   \n",
       "836478     6041        39      5   \n",
       "836479     6041      2145      5   \n",
       "836480     6041      2485      5   \n",
       "836481     6041      2572      5   \n",
       "836482     6041      2706      5   \n",
       "\n",
       "                                                    title  \\\n",
       "836473                           One Little Indian (1973)   \n",
       "836474                              Slaughterhouse (1987)   \n",
       "836475             Promise, The (Versprechen, Das) (1994)   \n",
       "836476        Five Wives, Three Secretaries and Me (1998)   \n",
       "836477  Identification of a Woman (Identificazione di ...   \n",
       "836478                                    Clueless (1995)   \n",
       "836479                              Pretty in Pink (1986)   \n",
       "836480                              She's All That (1999)   \n",
       "836481                  10 Things I Hate About You (1999)   \n",
       "836482                                American Pie (1999)   \n",
       "\n",
       "                       genre  \n",
       "836473  Comedy|Drama|Western  \n",
       "836474                Horror  \n",
       "836475               Romance  \n",
       "836476           Documentary  \n",
       "836477                 Drama  \n",
       "836478        Comedy|Romance  \n",
       "836479  Comedy|Drama|Romance  \n",
       "836480        Comedy|Romance  \n",
       "836481        Comedy|Romance  \n",
       "836482                Comedy  "
      ]
     },
     "execution_count": 63,
     "metadata": {},
     "output_type": "execute_result"
    },
    {
     "name": "stdout",
     "output_type": "stream",
     "text": [
      "time: 84.9 ms (started: 2021-02-16 19:24:35 +09:00)\n"
     ]
    }
   ],
   "source": [
    "mania_ratings_df = pd.DataFrame({'user_id' : [mania_id]*5, \n",
    "                                 'movie_id' : mania_movie_id,\n",
    "                                 'count' : mania_count,\n",
    "                                 'title' : mania_title, \n",
    "                                 'genre' : mania_genre})\n",
    "\n",
    "if not ratings.isin({'user_id':[mania_id]})['user_id'].any():\n",
    "    ratings_mania = ratings.append(mania_ratings_df).reset_index(drop=True)\n",
    "\n",
    "ratings_mania.tail(10)"
   ]
  },
  {
   "cell_type": "markdown",
   "id": "becoming-newman",
   "metadata": {},
   "source": [
    "3. indexing"
   ]
  },
  {
   "cell_type": "code",
   "execution_count": 64,
   "id": "international-monthly",
   "metadata": {},
   "outputs": [
    {
     "name": "stdout",
     "output_type": "stream",
     "text": [
      "time: 27.8 ms (started: 2021-02-16 19:24:35 +09:00)\n"
     ]
    }
   ],
   "source": [
    "user_unique = ratings_mania['user_id'].unique()\n",
    "user_to_idx = {v:k for k,v in enumerate(user_unique)}\n",
    "\n",
    "movie_unique = ratings_mania['movie_id'].unique()\n",
    "movie_id_to_idx = {v:k for k,v in enumerate(movie_unique)}\n",
    "movie_idx_to_id = {k:v for k,v in enumerate(movie_unique)}"
   ]
  },
  {
   "cell_type": "code",
   "execution_count": 65,
   "id": "natural-principle",
   "metadata": {},
   "outputs": [
    {
     "name": "stdout",
     "output_type": "stream",
     "text": [
      "user_id column indexing OK!!\n",
      "movie_id column indexing OK!!\n"
     ]
    },
    {
     "data": {
      "text/html": [
       "<div>\n",
       "<style scoped>\n",
       "    .dataframe tbody tr th:only-of-type {\n",
       "        vertical-align: middle;\n",
       "    }\n",
       "\n",
       "    .dataframe tbody tr th {\n",
       "        vertical-align: top;\n",
       "    }\n",
       "\n",
       "    .dataframe thead th {\n",
       "        text-align: right;\n",
       "    }\n",
       "</style>\n",
       "<table border=\"1\" class=\"dataframe\">\n",
       "  <thead>\n",
       "    <tr style=\"text-align: right;\">\n",
       "      <th></th>\n",
       "      <th>user_id</th>\n",
       "      <th>movie_idx</th>\n",
       "      <th>movie_id</th>\n",
       "      <th>count</th>\n",
       "      <th>title</th>\n",
       "      <th>genre</th>\n",
       "    </tr>\n",
       "  </thead>\n",
       "  <tbody>\n",
       "    <tr>\n",
       "      <th>0</th>\n",
       "      <td>0</td>\n",
       "      <td>0</td>\n",
       "      <td>1193</td>\n",
       "      <td>5</td>\n",
       "      <td>One Flew Over the Cuckoo's Nest (1975)</td>\n",
       "      <td>Drama</td>\n",
       "    </tr>\n",
       "    <tr>\n",
       "      <th>1</th>\n",
       "      <td>1</td>\n",
       "      <td>0</td>\n",
       "      <td>1193</td>\n",
       "      <td>5</td>\n",
       "      <td>One Flew Over the Cuckoo's Nest (1975)</td>\n",
       "      <td>Drama</td>\n",
       "    </tr>\n",
       "    <tr>\n",
       "      <th>2</th>\n",
       "      <td>2</td>\n",
       "      <td>0</td>\n",
       "      <td>1193</td>\n",
       "      <td>4</td>\n",
       "      <td>One Flew Over the Cuckoo's Nest (1975)</td>\n",
       "      <td>Drama</td>\n",
       "    </tr>\n",
       "    <tr>\n",
       "      <th>3</th>\n",
       "      <td>3</td>\n",
       "      <td>0</td>\n",
       "      <td>1193</td>\n",
       "      <td>4</td>\n",
       "      <td>One Flew Over the Cuckoo's Nest (1975)</td>\n",
       "      <td>Drama</td>\n",
       "    </tr>\n",
       "    <tr>\n",
       "      <th>4</th>\n",
       "      <td>4</td>\n",
       "      <td>0</td>\n",
       "      <td>1193</td>\n",
       "      <td>5</td>\n",
       "      <td>One Flew Over the Cuckoo's Nest (1975)</td>\n",
       "      <td>Drama</td>\n",
       "    </tr>\n",
       "    <tr>\n",
       "      <th>...</th>\n",
       "      <td>...</td>\n",
       "      <td>...</td>\n",
       "      <td>...</td>\n",
       "      <td>...</td>\n",
       "      <td>...</td>\n",
       "      <td>...</td>\n",
       "    </tr>\n",
       "    <tr>\n",
       "      <th>836478</th>\n",
       "      <td>6039</td>\n",
       "      <td>204</td>\n",
       "      <td>39</td>\n",
       "      <td>5</td>\n",
       "      <td>Clueless (1995)</td>\n",
       "      <td>Comedy|Romance</td>\n",
       "    </tr>\n",
       "    <tr>\n",
       "      <th>836479</th>\n",
       "      <td>6039</td>\n",
       "      <td>943</td>\n",
       "      <td>2145</td>\n",
       "      <td>5</td>\n",
       "      <td>Pretty in Pink (1986)</td>\n",
       "      <td>Comedy|Drama|Romance</td>\n",
       "    </tr>\n",
       "    <tr>\n",
       "      <th>836480</th>\n",
       "      <td>6039</td>\n",
       "      <td>789</td>\n",
       "      <td>2485</td>\n",
       "      <td>5</td>\n",
       "      <td>She's All That (1999)</td>\n",
       "      <td>Comedy|Romance</td>\n",
       "    </tr>\n",
       "    <tr>\n",
       "      <th>836481</th>\n",
       "      <td>6039</td>\n",
       "      <td>849</td>\n",
       "      <td>2572</td>\n",
       "      <td>5</td>\n",
       "      <td>10 Things I Hate About You (1999)</td>\n",
       "      <td>Comedy|Romance</td>\n",
       "    </tr>\n",
       "    <tr>\n",
       "      <th>836482</th>\n",
       "      <td>6039</td>\n",
       "      <td>793</td>\n",
       "      <td>2706</td>\n",
       "      <td>5</td>\n",
       "      <td>American Pie (1999)</td>\n",
       "      <td>Comedy</td>\n",
       "    </tr>\n",
       "  </tbody>\n",
       "</table>\n",
       "<p>836483 rows × 6 columns</p>\n",
       "</div>"
      ],
      "text/plain": [
       "        user_id  movie_idx  movie_id  count  \\\n",
       "0             0          0      1193      5   \n",
       "1             1          0      1193      5   \n",
       "2             2          0      1193      4   \n",
       "3             3          0      1193      4   \n",
       "4             4          0      1193      5   \n",
       "...         ...        ...       ...    ...   \n",
       "836478     6039        204        39      5   \n",
       "836479     6039        943      2145      5   \n",
       "836480     6039        789      2485      5   \n",
       "836481     6039        849      2572      5   \n",
       "836482     6039        793      2706      5   \n",
       "\n",
       "                                         title                 genre  \n",
       "0       One Flew Over the Cuckoo's Nest (1975)                 Drama  \n",
       "1       One Flew Over the Cuckoo's Nest (1975)                 Drama  \n",
       "2       One Flew Over the Cuckoo's Nest (1975)                 Drama  \n",
       "3       One Flew Over the Cuckoo's Nest (1975)                 Drama  \n",
       "4       One Flew Over the Cuckoo's Nest (1975)                 Drama  \n",
       "...                                        ...                   ...  \n",
       "836478                         Clueless (1995)        Comedy|Romance  \n",
       "836479                   Pretty in Pink (1986)  Comedy|Drama|Romance  \n",
       "836480                   She's All That (1999)        Comedy|Romance  \n",
       "836481       10 Things I Hate About You (1999)        Comedy|Romance  \n",
       "836482                     American Pie (1999)                Comedy  \n",
       "\n",
       "[836483 rows x 6 columns]"
      ]
     },
     "execution_count": 65,
     "metadata": {},
     "output_type": "execute_result"
    },
    {
     "name": "stdout",
     "output_type": "stream",
     "text": [
      "time: 651 ms (started: 2021-02-16 19:24:36 +09:00)\n"
     ]
    }
   ],
   "source": [
    "temp_user_data = ratings_mania['user_id'].map(user_to_idx.get).dropna()\n",
    "if len(temp_user_data) == len(ratings_mania):   # 모든 row가 정상적으로 인덱싱되었다면\n",
    "    print('user_id column indexing OK!!')\n",
    "    ratings_mania['user_id'] = temp_user_data   # data['user_id']을 인덱싱된 Series로 교체해 줍니다. \n",
    "else:\n",
    "    print('user_id column indexing Fail!!')\n",
    "\n",
    "temp_movie_data = ratings_mania['movie_id'].map(movie_id_to_idx.get).dropna()\n",
    "if len(temp_movie_data) == len(ratings_mania):\n",
    "    print('movie_id column indexing OK!!')\n",
    "    ratings_mania['movie_idx'] = temp_movie_data\n",
    "else:\n",
    "    print('movie_id column indexing Fail!!')\n",
    "\n",
    "ratings_mania = ratings_mania[['user_id', 'movie_idx', 'movie_id', 'count', 'title', 'genre']]\n",
    "ratings_mania = ratings_mania.reset_index(drop=True)\n",
    "ratings_mania"
   ]
  },
  {
   "cell_type": "markdown",
   "id": "acknowledged-minority",
   "metadata": {},
   "source": [
    "4. CRS"
   ]
  },
  {
   "cell_type": "code",
   "execution_count": 66,
   "id": "dressed-transformation",
   "metadata": {},
   "outputs": [
    {
     "name": "stdout",
     "output_type": "stream",
     "text": [
      "indptr: [     0     53    169 ... 836477 836478 836483](6041)\n",
      "indices: [  0   1   2 ... 793 849 943](836483)\n",
      "data: [5 3 3 ... 5 5 5](836483)\n",
      "time: 41 ms (started: 2021-02-16 19:24:36 +09:00)\n"
     ]
    }
   ],
   "source": [
    "num_user = ratings_mania['user_id'].nunique()\n",
    "num_movie = ratings_mania['movie_idx'].nunique()\n",
    "\n",
    "csr_data = csr_matrix((ratings_mania['count'], \n",
    "                       (ratings_mania.user_id, ratings_mania.movie_idx)), \n",
    "                       shape=(num_user, num_movie))\n",
    "\n",
    "print(f'indptr: {csr_data.indptr}({len(csr_data.indptr)})')\n",
    "print(f'indices: {csr_data.indices}({len(csr_data.indices)})')\n",
    "print(f'data: {csr_data.data}({len(csr_data.data)})')"
   ]
  },
  {
   "cell_type": "markdown",
   "id": "modular-ultimate",
   "metadata": {},
   "source": [
    "5. 모델 학습"
   ]
  },
  {
   "cell_type": "code",
   "execution_count": 67,
   "id": "prescription-allah",
   "metadata": {},
   "outputs": [
    {
     "name": "stdout",
     "output_type": "stream",
     "text": [
      "time: 437 µs (started: 2021-02-16 19:24:37 +09:00)\n"
     ]
    }
   ],
   "source": [
    "minia_model = AlternatingLeastSquares(factors=256, \n",
    "                                      regularization=0.01, \n",
    "                                      use_gpu=False, \n",
    "                                      iterations=10,\n",
    "                                      dtype=np.float64)"
   ]
  },
  {
   "cell_type": "code",
   "execution_count": 68,
   "id": "soviet-running",
   "metadata": {},
   "outputs": [
    {
     "data": {
      "application/vnd.jupyter.widget-view+json": {
       "model_id": "56c14fd8b836451886eef9e157222951",
       "version_major": 2,
       "version_minor": 0
      },
      "text/plain": [
       "  0%|          | 0/10 [00:00<?, ?it/s]"
      ]
     },
     "metadata": {},
     "output_type": "display_data"
    },
    {
     "name": "stdout",
     "output_type": "stream",
     "text": [
      "time: 4.82 s (started: 2021-02-16 19:24:39 +09:00)\n"
     ]
    }
   ],
   "source": [
    "csr_data_transpose = csr_data.T\n",
    "minia_model.fit(csr_data_transpose)"
   ]
  },
  {
   "cell_type": "markdown",
   "id": "equipped-plumbing",
   "metadata": {},
   "source": [
    "6. 추천 영화 확인"
   ]
  },
  {
   "cell_type": "code",
   "execution_count": 71,
   "id": "adapted-incident",
   "metadata": {},
   "outputs": [
    {
     "data": {
      "image/png": "[encoded data removed]",
      "text/plain": [
       "<Figure size 576x504 with 1 Axes>"
      ]
     },
     "metadata": {
      "needs_background": "light"
     },
     "output_type": "display_data"
    },
    {
     "data": {
      "text/html": [
       "<div>\n",
       "<style scoped>\n",
       "    .dataframe tbody tr th:only-of-type {\n",
       "        vertical-align: middle;\n",
       "    }\n",
       "\n",
       "    .dataframe tbody tr th {\n",
       "        vertical-align: top;\n",
       "    }\n",
       "\n",
       "    .dataframe thead th {\n",
       "        text-align: right;\n",
       "    }\n",
       "</style>\n",
       "<table border=\"1\" class=\"dataframe\">\n",
       "  <thead>\n",
       "    <tr style=\"text-align: right;\">\n",
       "      <th></th>\n",
       "      <th>Clueless (1995)</th>\n",
       "      <th>Pretty in Pink (1986)</th>\n",
       "      <th>She's All That (1999)</th>\n",
       "      <th>10 Things I Hate About You (1999)</th>\n",
       "      <th>American Pie (1999)</th>\n",
       "    </tr>\n",
       "    <tr>\n",
       "      <th>title</th>\n",
       "      <th></th>\n",
       "      <th></th>\n",
       "      <th></th>\n",
       "      <th></th>\n",
       "      <th></th>\n",
       "    </tr>\n",
       "  </thead>\n",
       "  <tbody>\n",
       "    <tr>\n",
       "      <th>Never Been Kissed (1999)</th>\n",
       "      <td>0.016899</td>\n",
       "      <td>0.063854</td>\n",
       "      <td>0.120851</td>\n",
       "      <td>0.147539</td>\n",
       "      <td>-0.009500</td>\n",
       "    </tr>\n",
       "    <tr>\n",
       "      <th>Cruel Intentions (1999)</th>\n",
       "      <td>0.022359</td>\n",
       "      <td>-0.005302</td>\n",
       "      <td>0.062430</td>\n",
       "      <td>0.122024</td>\n",
       "      <td>0.093265</td>\n",
       "    </tr>\n",
       "    <tr>\n",
       "      <th>Austin Powers: The Spy Who Shagged Me (1999)</th>\n",
       "      <td>-0.040619</td>\n",
       "      <td>0.000323</td>\n",
       "      <td>0.031480</td>\n",
       "      <td>0.046170</td>\n",
       "      <td>0.213004</td>\n",
       "    </tr>\n",
       "    <tr>\n",
       "      <th>Breakfast Club, The (1985)</th>\n",
       "      <td>0.059337</td>\n",
       "      <td>0.088071</td>\n",
       "      <td>0.018208</td>\n",
       "      <td>0.008195</td>\n",
       "      <td>0.039452</td>\n",
       "    </tr>\n",
       "    <tr>\n",
       "      <th>Sixteen Candles (1984)</th>\n",
       "      <td>0.013299</td>\n",
       "      <td>0.177934</td>\n",
       "      <td>0.013302</td>\n",
       "      <td>0.030924</td>\n",
       "      <td>-0.027585</td>\n",
       "    </tr>\n",
       "    <tr>\n",
       "      <th>Can't Hardly Wait (1998)</th>\n",
       "      <td>0.038365</td>\n",
       "      <td>0.002635</td>\n",
       "      <td>0.059961</td>\n",
       "      <td>0.084904</td>\n",
       "      <td>0.004589</td>\n",
       "    </tr>\n",
       "    <tr>\n",
       "      <th>Drop Dead Gorgeous (1999)</th>\n",
       "      <td>0.025695</td>\n",
       "      <td>-0.021058</td>\n",
       "      <td>0.076212</td>\n",
       "      <td>0.079039</td>\n",
       "      <td>0.023068</td>\n",
       "    </tr>\n",
       "    <tr>\n",
       "      <th>54 (1998)</th>\n",
       "      <td>-0.008444</td>\n",
       "      <td>0.015412</td>\n",
       "      <td>0.057044</td>\n",
       "      <td>0.063830</td>\n",
       "      <td>0.045173</td>\n",
       "    </tr>\n",
       "    <tr>\n",
       "      <th>Desperately Seeking Susan (1985)</th>\n",
       "      <td>0.044718</td>\n",
       "      <td>0.117869</td>\n",
       "      <td>0.005656</td>\n",
       "      <td>-0.002440</td>\n",
       "      <td>0.008860</td>\n",
       "    </tr>\n",
       "    <tr>\n",
       "      <th>Erin Brockovich (2000)</th>\n",
       "      <td>0.044451</td>\n",
       "      <td>0.061796</td>\n",
       "      <td>-0.029864</td>\n",
       "      <td>0.032104</td>\n",
       "      <td>0.061194</td>\n",
       "    </tr>\n",
       "  </tbody>\n",
       "</table>\n",
       "</div>"
      ],
      "text/plain": [
       "                                              Clueless (1995)  \\\n",
       "title                                                           \n",
       "Never Been Kissed (1999)                             0.016899   \n",
       "Cruel Intentions (1999)                              0.022359   \n",
       "Austin Powers: The Spy Who Shagged Me (1999)        -0.040619   \n",
       "Breakfast Club, The (1985)                           0.059337   \n",
       "Sixteen Candles (1984)                               0.013299   \n",
       "Can't Hardly Wait (1998)                             0.038365   \n",
       "Drop Dead Gorgeous (1999)                            0.025695   \n",
       "54 (1998)                                           -0.008444   \n",
       "Desperately Seeking Susan (1985)                     0.044718   \n",
       "Erin Brockovich (2000)                               0.044451   \n",
       "\n",
       "                                              Pretty in Pink (1986)  \\\n",
       "title                                                                 \n",
       "Never Been Kissed (1999)                                   0.063854   \n",
       "Cruel Intentions (1999)                                   -0.005302   \n",
       "Austin Powers: The Spy Who Shagged Me (1999)               0.000323   \n",
       "Breakfast Club, The (1985)                                 0.088071   \n",
       "Sixteen Candles (1984)                                     0.177934   \n",
       "Can't Hardly Wait (1998)                                   0.002635   \n",
       "Drop Dead Gorgeous (1999)                                 -0.021058   \n",
       "54 (1998)                                                  0.015412   \n",
       "Desperately Seeking Susan (1985)                           0.117869   \n",
       "Erin Brockovich (2000)                                     0.061796   \n",
       "\n",
       "                                              She's All That (1999)  \\\n",
       "title                                                                 \n",
       "Never Been Kissed (1999)                                   0.120851   \n",
       "Cruel Intentions (1999)                                    0.062430   \n",
       "Austin Powers: The Spy Who Shagged Me (1999)               0.031480   \n",
       "Breakfast Club, The (1985)                                 0.018208   \n",
       "Sixteen Candles (1984)                                     0.013302   \n",
       "Can't Hardly Wait (1998)                                   0.059961   \n",
       "Drop Dead Gorgeous (1999)                                  0.076212   \n",
       "54 (1998)                                                  0.057044   \n",
       "Desperately Seeking Susan (1985)                           0.005656   \n",
       "Erin Brockovich (2000)                                    -0.029864   \n",
       "\n",
       "                                              10 Things I Hate About You (1999)  \\\n",
       "title                                                                             \n",
       "Never Been Kissed (1999)                                               0.147539   \n",
       "Cruel Intentions (1999)                                                0.122024   \n",
       "Austin Powers: The Spy Who Shagged Me (1999)                           0.046170   \n",
       "Breakfast Club, The (1985)                                             0.008195   \n",
       "Sixteen Candles (1984)                                                 0.030924   \n",
       "Can't Hardly Wait (1998)                                               0.084904   \n",
       "Drop Dead Gorgeous (1999)                                              0.079039   \n",
       "54 (1998)                                                              0.063830   \n",
       "Desperately Seeking Susan (1985)                                      -0.002440   \n",
       "Erin Brockovich (2000)                                                 0.032104   \n",
       "\n",
       "                                              American Pie (1999)  \n",
       "title                                                              \n",
       "Never Been Kissed (1999)                                -0.009500  \n",
       "Cruel Intentions (1999)                                  0.093265  \n",
       "Austin Powers: The Spy Who Shagged Me (1999)             0.213004  \n",
       "Breakfast Club, The (1985)                               0.039452  \n",
       "Sixteen Candles (1984)                                  -0.027585  \n",
       "Can't Hardly Wait (1998)                                 0.004589  \n",
       "Drop Dead Gorgeous (1999)                                0.023068  \n",
       "54 (1998)                                                0.045173  \n",
       "Desperately Seeking Susan (1985)                         0.008860  \n",
       "Erin Brockovich (2000)                                   0.061194  "
      ]
     },
     "metadata": {},
     "output_type": "display_data"
    },
    {
     "name": "stdout",
     "output_type": "stream",
     "text": [
      "time: 299 ms (started: 2021-02-16 19:26:21 +09:00)\n"
     ]
    }
   ],
   "source": [
    "recommended_df = get_recommended_df(user_to_idx[mania_id], minia_model)\n",
    "show_recommended_score_explain(recommended_df, user_to_idx[mania_id], minia_model, mania_movie_id, mania_title)"
   ]
  },
  {
   "cell_type": "markdown",
   "id": "material-gilbert",
   "metadata": {},
   "source": [
    "- 추천된 영화의 정보\n",
    "    ![recommand](https://user-images.githubusercontent.com/16831323/108052154-1337f280-708f-11eb-80bf-d96492e8dba0.png)\n",
    "- 하이틴 로맨스 마니아로써 단언컨데 추천 목록에서 하이틴이라고 할 수 있을만한 영화는 25살의 키스와 범위를 넓히면 조찬 클럽과 사랑보다 아름다운 유혹 정도이다. 하이틴 로맨스가 충분한 수의 마니아를 확보한 장르라고 생각했는데 잘못된 가정이었을 수 있었던 듯 싶다. 가설을 긍정적인 뒷받침해 줄만한 결과륻 가장 높은 score를 가지는 영화가 25살의 키스라는 점이다. SF나 전쟁물로 장르를 틀었더라면 더 마니악한 결과를 볼 수 있지 않았을까 생각해 본다."
   ]
  },
  {
   "cell_type": "markdown",
   "id": "removed-adelaide",
   "metadata": {},
   "source": [
    "## 결론\n",
    "---"
   ]
  },
  {
   "cell_type": "markdown",
   "id": "sound-bowling",
   "metadata": {},
   "source": [
    "### 프로젝트 평가\n",
    "1. CSR matrix가 정상적으로 만들어졌다. 사용자와 아이템 개수를 바탕으로 정확한 사이즈로 만들었다.\n",
    "    ```python\n",
    "    indptr: [     0     53    169 ... 836477 836478 836483](6041)\n",
    "    indices: [   0    1    2 ...  204 1151 2047](836483)\n",
    "    data: [5 3 3 ... 5 5 5](836483)\n",
    "    ```\n",
    "    - indptr의 길이는 row의 개수보다 하나가 더 많은 값이 되어야한다. 이번 프로젝트에서 row 값은 ratings의 user_id이므로, 초기 `ratings['user_id'].nunique()`값(6039) + 나의 id(1) + 1 = 6041이 되므로 올바르게 생성되었다.\n",
    "    - indices의 길이는 data의 값에 해당하는 column index이므로 data와 그 길이가 동일하고, 이번 프로젝트에서는 ratings의 총 데이터 길이(rows)와 같아야 한다. 길이가 836483로 ratings의 rows 수와 동일하므로 indices와 data 모두 정확한 사이즈로 생성되었다.\n",
    "\n",
    "\n",
    "2. MF 모델이 정상적으로 훈련되어 그럴듯한 추천이 이루어졌다. 사용자와 아이템 벡터 내적수치가 의미있게 형성되었다.\n",
    "    - 본 실험에서 선호 영화들과 비슷한 장르인 로맨스 코메디 영화들이 추천되었고, score는 0.247 ~ 0.167 사이로 측정되었다.\n",
    "\n",
    "\n",
    "3. 비슷한 영화 찾기와 유저에게 추천하기의 과정이 정상적으로 진행되었다.MF모델이 예측한 유저 선호도 및 아이템간 유사도, 기여도가 의미있게 측정되었다."
   ]
  },
  {
   "cell_type": "markdown",
   "id": "massive-liquid",
   "metadata": {},
   "source": [
    "### 회고\n",
    "- 이번 프로젝트를 하면서 가장 흥미로웠던 점은 추가 실험의 가설이 모두 틀렸다는 것이었다. 그럴듯해보였지만 확인하기 전까지는 확신해서는 안된다는 것을 다시 한번 느끼게 되었다. 더불어서 추가실험2를 통해 명백한 실험결과가 있더라도 실험과정에서의 착오 있을 수 있기에 과정이 검증되지 않은 이상 결과를 완전히 믿는 것 역시 위험한 판단인 점 역시 되세기게 되었다. "
   ]
  },
  {
   "cell_type": "markdown",
   "id": "continuous-modern",
   "metadata": {},
   "source": [
    "## Code Collection\n",
    "---"
   ]
  },
  {
   "cell_type": "markdown",
   "id": "earlier-child",
   "metadata": {},
   "source": [
    "#### init_gpu"
   ]
  },
  {
   "cell_type": "code",
   "execution_count": 1,
   "id": "identified-vitamin",
   "metadata": {},
   "outputs": [],
   "source": [
    "import tensorflow as tf\n",
    "\n",
    "def init_gpu():\n",
    "    gpus = tf.config.experimental.list_physical_devices('GPU')\n",
    "    if gpus:\n",
    "      try:\n",
    "        # Currently, memory growth needs to be the same across GPUs\n",
    "        for gpu in gpus:\n",
    "          tf.config.experimental.set_memory_growth(gpu, True)\n",
    "        logical_gpus = tf.config.experimental.list_logical_devices('GPU')\n",
    "        print(len(gpus), \"Physical GPUs,\", len(logical_gpus), \"Logical GPUs\\n\\n\")\n",
    "      except RuntimeError as e:\n",
    "        # Memory growth must be set before GPUs have been initialized\n",
    "        print(e, \"\\n\\n\")"
   ]
  },
  {
   "cell_type": "code",
   "execution_count": 2,
   "id": "scientific-greenhouse",
   "metadata": {},
   "outputs": [
    {
     "name": "stdout",
     "output_type": "stream",
     "text": [
      "1 Physical GPUs, 1 Logical GPUs\n",
      "\n",
      "\n"
     ]
    }
   ],
   "source": [
    "init_gpu()"
   ]
  },
  {
   "cell_type": "markdown",
   "id": "boring-messenger",
   "metadata": {},
   "source": [
    "#### show_preference_df_plot"
   ]
  },
  {
   "cell_type": "code",
   "execution_count": 3,
   "id": "optimum-alert",
   "metadata": {},
   "outputs": [],
   "source": [
    "import matplotlib.pyplot as plt\n",
    "\n",
    "def show_preference_df_plot(preference_df, title=\"\"):\n",
    "    df = pd.DataFrame({ 'title' : preference_df['title'].values, \n",
    "                        'preferences' : preference_df['preference'].values})\n",
    "    df = df.set_index('title')\n",
    "\n",
    "    ax = df.plot(kind='bar', ylim=(0,1), color=['#6CCECB'])\n",
    "    ax.grid(True, axis='y', color='gray', alpha=0.5, linestyle='dashed')\n",
    "    if len(title) == 0:  ax.set_title('Preference of My Favorite Movies', {'fontsize': 15})\n",
    "    else :  ax.set_title(title, {'fontsize': 15})\n",
    "    \n",
    "    for i, p in enumerate(ax.patches):\n",
    "        left, bottom, width, height = p.get_bbox().bounds\n",
    "        ax.annotate(f'{df.iloc[i].values[0]:.3f}',\n",
    "                    (left+width/2, height*0.94),\n",
    "                    ha='center')\n",
    "        \n",
    "    mean_val = df['preferences'].mean()\n",
    "    ax.axhline(mean_val, color=\"#3e7371\", linestyle='dashed')\n",
    "    ax.text(1.01, mean_val, f'mean\\n{mean_val:.3f}', va='center', ha=\"left\",\n",
    "            transform=ax.get_yaxis_transform())\n",
    "    \n",
    "    min_val = df['preferences'].min()\n",
    "    ax.axhline(min_val, color=\"#3e7371\", linestyle='dashed')\n",
    "    ax.text(1.01, min_val, f'min\\n{min_val:.3f}', va='center', ha=\"left\",\n",
    "            transform=ax.get_yaxis_transform())\n",
    "    \n",
    "    plt.legend(loc='lower left')\n",
    "    plt.show()"
   ]
  }
 ],
 "metadata": {
  "kernelspec": {
   "display_name": "Python 3",
   "language": "python",
   "name": "python3"
  },
  "language_info": {
   "codemirror_mode": {
    "name": "ipython",
    "version": 3
   },
   "file_extension": ".py",
   "mimetype": "text/x-python",
   "name": "python",
   "nbconvert_exporter": "python",
   "pygments_lexer": "ipython3",
   "version": "3.7.9"
  },
  "toc": {
   "base_numbering": 1,
   "nav_menu": {},
   "number_sections": true,
   "sideBar": true,
   "skip_h1_title": false,
   "title_cell": "Table of Contents",
   "title_sidebar": "Contents",
   "toc_cell": false,
   "toc_position": {
    "height": "calc(100% - 180px)",
    "left": "10px",
    "top": "150px",
    "width": "264.391px"
   },
   "toc_section_display": true,
   "toc_window_display": true
  },
  "toc-autonumbering": false,
  "toc-showcode": false,
  "toc-showmarkdowntxt": false,
  "toc-showtags": false
 },
 "nbformat": 4,
 "nbformat_minor": 5
}
