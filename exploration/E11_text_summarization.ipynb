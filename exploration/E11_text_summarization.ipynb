{
 "cells": [
  {
   "cell_type": "markdown",
   "id": "mechanical-prisoner",
   "metadata": {},
   "source": [
    "# 뉴스기사 요약해보기\n",
    "---"
   ]
  },
  {
   "cell_type": "markdown",
   "id": "damaged-worthy",
   "metadata": {},
   "source": [
    "뉴스기사에 대하여 추상적 요약과 추출적 요약을 진행하여 보자!"
   ]
  },
  {
   "cell_type": "markdown",
   "id": "confused-terrace",
   "metadata": {},
   "source": [
    "## STEP 0. 설계\n",
    "---"
   ]
  },
  {
   "cell_type": "markdown",
   "id": "functional-duplicate",
   "metadata": {},
   "source": [
    "뉴스기사를 요약하기 위해서 다음과 같은 순서로 프로젝트를 진행 할 것이다.\n",
    "1. 데이터 수집하기 : 프로젝트에 사용될 뉴스 기사 데이터를 다운로드 받는다.\n",
    "2. 데이터 전처리(추상적 요약)\n",
    "    - 분석\n",
    "    - 정제\n",
    "    - 정규화\n",
    "    - 불용어 제거\n",
    "    - 데이터셋 분리\n",
    "    - 인코딩\n",
    "3. 어텐션 메커니즘 사용하기 (추상적 요약)\n",
    "    - 어텐션 메커니즘을 사용한 seq2seq를 설계\n",
    "    - 모델이 성공적으로 확습 되었음을 그래프를 통하여 확인한다.\n",
    "4. 실제 결과와 요약문 비교하기 (추상적 요약)\n",
    "    - 원래의 요약문(headlines 열)과 학습을 통해 얻은 추상적 요약의 결과를 비교하여 본다.\n",
    "5. Summa을 이용해서 추출적 요약해보기\n",
    "6. 비교\n",
    "    - 두 요약 결과를 비교분석 해본다. (문법완성도 측면과 핵심단어 포함 측면으로 나누어 비교분석 결과를 제시하였다.)"
   ]
  },
  {
   "cell_type": "markdown",
   "id": "variable-novel",
   "metadata": {},
   "source": [
    "## STEP 1. 데이터 수집하기\n",
    "---"
   ]
  },
  {
   "cell_type": "markdown",
   "id": "tracked-license",
   "metadata": {},
   "source": [
    "- enviroment setting"
   ]
  },
  {
   "cell_type": "code",
   "execution_count": 1,
   "id": "departmental-latitude",
   "metadata": {},
   "outputs": [
    {
     "name": "stdout",
     "output_type": "stream",
     "text": [
      "1 Physical GPUs, 1 Logical GPUs\n",
      "\n",
      "\n",
      "time: 128 ms (started: 2021-02-25 21:24:32 +09:00)\n"
     ]
    }
   ],
   "source": [
    "# import packages ########################################################\n",
    "import nltk\n",
    "# nltk.download('stopwords')\n",
    "\n",
    "import numpy as np\n",
    "import pandas as pd\n",
    "import os\n",
    "import re\n",
    "import matplotlib.pyplot as plt\n",
    "from nltk.corpus import stopwords\n",
    "from bs4 import BeautifulSoup \n",
    "from tensorflow.keras.preprocessing.text import Tokenizer \n",
    "from tensorflow.keras.preprocessing.sequence import pad_sequences\n",
    "import urllib.request\n",
    "import tensorflow as tf\n",
    "\n",
    "# load extensor to measure cell running time ###############################\n",
    "%load_ext autotime\n",
    "\n",
    "\n",
    "# set directory path# #######################################################\n",
    "workspace_path = os.getenv('HOME')+'/workspace/aiffel-exploration-workspace/E11_text_summarization'\n",
    "data_path = workspace_path + '/data'\n",
    "# model_dir_path = workspace_path + '/models'\n",
    "\n",
    "\n",
    "# initialization gpu ########################################################\n",
    "def init_gpu():\n",
    "    gpus = tf.config.experimental.list_physical_devices('GPU')\n",
    "    if gpus:\n",
    "      try:\n",
    "        # Currently, memory growth needs to be the same across GPUs\n",
    "        for gpu in gpus:\n",
    "          tf.config.experimental.set_memory_growth(gpu, True)\n",
    "        logical_gpus = tf.config.experimental.list_logical_devices('GPU')\n",
    "        print(len(gpus), \"Physical GPUs,\", len(logical_gpus), \"Logical GPUs\\n\\n\")\n",
    "      except RuntimeError as e:\n",
    "        # Memory growth must be set before GPUs have been initialized\n",
    "        print(e, \"\\n\\n\")\n",
    "        \n",
    "init_gpu()"
   ]
  },
  {
   "cell_type": "markdown",
   "id": "ethical-institute",
   "metadata": {},
   "source": [
    "- 뉴스기사 데이터 다운로드"
   ]
  },
  {
   "cell_type": "code",
   "execution_count": 4,
   "id": "empty-portuguese",
   "metadata": {},
   "outputs": [
    {
     "data": {
      "text/plain": [
       "('data/news_summary_more.csv', <http.client.HTTPMessage at 0x7ff300487950>)"
      ]
     },
     "execution_count": 4,
     "metadata": {},
     "output_type": "execute_result"
    },
    {
     "name": "stdout",
     "output_type": "stream",
     "text": [
      "time: 8.29 s (started: 2021-02-24 03:29:28 +09:00)\n"
     ]
    }
   ],
   "source": [
    "import urllib.request\n",
    "urllib.request.urlretrieve(\"https://raw.githubusercontent.com/sunnysai12345/News_Summary/master/news_summary_more.csv\", filename=\"data/news_summary_more.csv\")"
   ]
  },
  {
   "cell_type": "code",
   "execution_count": 2,
   "id": "disabled-cattle",
   "metadata": {},
   "outputs": [
    {
     "name": "stdout",
     "output_type": "stream",
     "text": [
      "time: 372 ms (started: 2021-02-25 21:24:39 +09:00)\n"
     ]
    }
   ],
   "source": [
    "data = pd.read_csv(data_path + '/news_summary_more.csv', encoding='iso-8859-1')"
   ]
  },
  {
   "cell_type": "markdown",
   "id": "manual-exploration",
   "metadata": {},
   "source": [
    "## STEP 2. 데이터 전처리(추상적 요약)\n",
    "---"
   ]
  },
  {
   "cell_type": "markdown",
   "id": "modern-employment",
   "metadata": {},
   "source": [
    "### 데이터 분석"
   ]
  },
  {
   "cell_type": "markdown",
   "id": "intermediate-vancouver",
   "metadata": {},
   "source": [
    "- 데이터 확인"
   ]
  },
  {
   "cell_type": "code",
   "execution_count": 3,
   "id": "chronic-nowhere",
   "metadata": {},
   "outputs": [
    {
     "name": "stdout",
     "output_type": "stream",
     "text": [
      "전체 샘플수 : 98401\n",
      "time: 1.15 ms (started: 2021-02-25 21:24:41 +09:00)\n"
     ]
    }
   ],
   "source": [
    "print('전체 샘플수 :',(len(data)))"
   ]
  },
  {
   "cell_type": "code",
   "execution_count": 4,
   "id": "popular-frame",
   "metadata": {},
   "outputs": [
    {
     "data": {
      "text/html": [
       "<div>\n",
       "<style scoped>\n",
       "    .dataframe tbody tr th:only-of-type {\n",
       "        vertical-align: middle;\n",
       "    }\n",
       "\n",
       "    .dataframe tbody tr th {\n",
       "        vertical-align: top;\n",
       "    }\n",
       "\n",
       "    .dataframe thead th {\n",
       "        text-align: right;\n",
       "    }\n",
       "</style>\n",
       "<table border=\"1\" class=\"dataframe\">\n",
       "  <thead>\n",
       "    <tr style=\"text-align: right;\">\n",
       "      <th></th>\n",
       "      <th>headlines</th>\n",
       "      <th>text</th>\n",
       "    </tr>\n",
       "  </thead>\n",
       "  <tbody>\n",
       "    <tr>\n",
       "      <th>0</th>\n",
       "      <td>upGrad learner switches to career in ML &amp; Al w...</td>\n",
       "      <td>Saurav Kant, an alumnus of upGrad and IIIT-B's...</td>\n",
       "    </tr>\n",
       "    <tr>\n",
       "      <th>1</th>\n",
       "      <td>Delhi techie wins free food from Swiggy for on...</td>\n",
       "      <td>Kunal Shah's credit card bill payment platform...</td>\n",
       "    </tr>\n",
       "    <tr>\n",
       "      <th>2</th>\n",
       "      <td>New Zealand end Rohit Sharma-led India's 12-ma...</td>\n",
       "      <td>New Zealand defeated India by 8 wickets in the...</td>\n",
       "    </tr>\n",
       "    <tr>\n",
       "      <th>3</th>\n",
       "      <td>Aegon life iTerm insurance plan helps customer...</td>\n",
       "      <td>With Aegon Life iTerm Insurance plan, customer...</td>\n",
       "    </tr>\n",
       "    <tr>\n",
       "      <th>4</th>\n",
       "      <td>Have known Hirani for yrs, what if MeToo claim...</td>\n",
       "      <td>Speaking about the sexual harassment allegatio...</td>\n",
       "    </tr>\n",
       "  </tbody>\n",
       "</table>\n",
       "</div>"
      ],
      "text/plain": [
       "                                           headlines  \\\n",
       "0  upGrad learner switches to career in ML & Al w...   \n",
       "1  Delhi techie wins free food from Swiggy for on...   \n",
       "2  New Zealand end Rohit Sharma-led India's 12-ma...   \n",
       "3  Aegon life iTerm insurance plan helps customer...   \n",
       "4  Have known Hirani for yrs, what if MeToo claim...   \n",
       "\n",
       "                                                text  \n",
       "0  Saurav Kant, an alumnus of upGrad and IIIT-B's...  \n",
       "1  Kunal Shah's credit card bill payment platform...  \n",
       "2  New Zealand defeated India by 8 wickets in the...  \n",
       "3  With Aegon Life iTerm Insurance plan, customer...  \n",
       "4  Speaking about the sexual harassment allegatio...  "
      ]
     },
     "execution_count": 4,
     "metadata": {},
     "output_type": "execute_result"
    },
    {
     "name": "stdout",
     "output_type": "stream",
     "text": [
      "time: 8.32 ms (started: 2021-02-25 21:24:42 +09:00)\n"
     ]
    }
   ],
   "source": [
    "data.head()"
   ]
  },
  {
   "cell_type": "code",
   "execution_count": 5,
   "id": "homeless-prospect",
   "metadata": {},
   "outputs": [
    {
     "data": {
      "text/html": [
       "<div>\n",
       "<style scoped>\n",
       "    .dataframe tbody tr th:only-of-type {\n",
       "        vertical-align: middle;\n",
       "    }\n",
       "\n",
       "    .dataframe tbody tr th {\n",
       "        vertical-align: top;\n",
       "    }\n",
       "\n",
       "    .dataframe thead th {\n",
       "        text-align: right;\n",
       "    }\n",
       "</style>\n",
       "<table border=\"1\" class=\"dataframe\">\n",
       "  <thead>\n",
       "    <tr style=\"text-align: right;\">\n",
       "      <th></th>\n",
       "      <th>Summary</th>\n",
       "      <th>Text</th>\n",
       "    </tr>\n",
       "  </thead>\n",
       "  <tbody>\n",
       "    <tr>\n",
       "      <th>0</th>\n",
       "      <td>upGrad learner switches to career in ML &amp; Al w...</td>\n",
       "      <td>Saurav Kant, an alumnus of upGrad and IIIT-B's...</td>\n",
       "    </tr>\n",
       "    <tr>\n",
       "      <th>1</th>\n",
       "      <td>Delhi techie wins free food from Swiggy for on...</td>\n",
       "      <td>Kunal Shah's credit card bill payment platform...</td>\n",
       "    </tr>\n",
       "    <tr>\n",
       "      <th>2</th>\n",
       "      <td>New Zealand end Rohit Sharma-led India's 12-ma...</td>\n",
       "      <td>New Zealand defeated India by 8 wickets in the...</td>\n",
       "    </tr>\n",
       "    <tr>\n",
       "      <th>3</th>\n",
       "      <td>Aegon life iTerm insurance plan helps customer...</td>\n",
       "      <td>With Aegon Life iTerm Insurance plan, customer...</td>\n",
       "    </tr>\n",
       "    <tr>\n",
       "      <th>4</th>\n",
       "      <td>Have known Hirani for yrs, what if MeToo claim...</td>\n",
       "      <td>Speaking about the sexual harassment allegatio...</td>\n",
       "    </tr>\n",
       "  </tbody>\n",
       "</table>\n",
       "</div>"
      ],
      "text/plain": [
       "                                             Summary  \\\n",
       "0  upGrad learner switches to career in ML & Al w...   \n",
       "1  Delhi techie wins free food from Swiggy for on...   \n",
       "2  New Zealand end Rohit Sharma-led India's 12-ma...   \n",
       "3  Aegon life iTerm insurance plan helps customer...   \n",
       "4  Have known Hirani for yrs, what if MeToo claim...   \n",
       "\n",
       "                                                Text  \n",
       "0  Saurav Kant, an alumnus of upGrad and IIIT-B's...  \n",
       "1  Kunal Shah's credit card bill payment platform...  \n",
       "2  New Zealand defeated India by 8 wickets in the...  \n",
       "3  With Aegon Life iTerm Insurance plan, customer...  \n",
       "4  Speaking about the sexual harassment allegatio...  "
      ]
     },
     "execution_count": 5,
     "metadata": {},
     "output_type": "execute_result"
    },
    {
     "name": "stdout",
     "output_type": "stream",
     "text": [
      "time: 5.47 ms (started: 2021-02-25 21:24:42 +09:00)\n"
     ]
    }
   ],
   "source": [
    "data.columns = ['Summary', 'Text']\n",
    "data.head()"
   ]
  },
  {
   "cell_type": "markdown",
   "id": "interested-wheel",
   "metadata": {},
   "source": [
    "- 원본 문장 저장"
   ]
  },
  {
   "cell_type": "code",
   "execution_count": 6,
   "id": "artificial-karaoke",
   "metadata": {},
   "outputs": [
    {
     "data": {
      "text/html": [
       "<div>\n",
       "<style scoped>\n",
       "    .dataframe tbody tr th:only-of-type {\n",
       "        vertical-align: middle;\n",
       "    }\n",
       "\n",
       "    .dataframe tbody tr th {\n",
       "        vertical-align: top;\n",
       "    }\n",
       "\n",
       "    .dataframe thead th {\n",
       "        text-align: right;\n",
       "    }\n",
       "</style>\n",
       "<table border=\"1\" class=\"dataframe\">\n",
       "  <thead>\n",
       "    <tr style=\"text-align: right;\">\n",
       "      <th></th>\n",
       "      <th>Summary</th>\n",
       "      <th>Text</th>\n",
       "      <th>raw</th>\n",
       "    </tr>\n",
       "  </thead>\n",
       "  <tbody>\n",
       "    <tr>\n",
       "      <th>0</th>\n",
       "      <td>upGrad learner switches to career in ML &amp; Al w...</td>\n",
       "      <td>Saurav Kant, an alumnus of upGrad and IIIT-B's...</td>\n",
       "      <td>Saurav Kant, an alumnus of upGrad and IIIT-B's...</td>\n",
       "    </tr>\n",
       "    <tr>\n",
       "      <th>1</th>\n",
       "      <td>Delhi techie wins free food from Swiggy for on...</td>\n",
       "      <td>Kunal Shah's credit card bill payment platform...</td>\n",
       "      <td>Kunal Shah's credit card bill payment platform...</td>\n",
       "    </tr>\n",
       "    <tr>\n",
       "      <th>2</th>\n",
       "      <td>New Zealand end Rohit Sharma-led India's 12-ma...</td>\n",
       "      <td>New Zealand defeated India by 8 wickets in the...</td>\n",
       "      <td>New Zealand defeated India by 8 wickets in the...</td>\n",
       "    </tr>\n",
       "    <tr>\n",
       "      <th>3</th>\n",
       "      <td>Aegon life iTerm insurance plan helps customer...</td>\n",
       "      <td>With Aegon Life iTerm Insurance plan, customer...</td>\n",
       "      <td>With Aegon Life iTerm Insurance plan, customer...</td>\n",
       "    </tr>\n",
       "    <tr>\n",
       "      <th>4</th>\n",
       "      <td>Have known Hirani for yrs, what if MeToo claim...</td>\n",
       "      <td>Speaking about the sexual harassment allegatio...</td>\n",
       "      <td>Speaking about the sexual harassment allegatio...</td>\n",
       "    </tr>\n",
       "    <tr>\n",
       "      <th>...</th>\n",
       "      <td>...</td>\n",
       "      <td>...</td>\n",
       "      <td>...</td>\n",
       "    </tr>\n",
       "    <tr>\n",
       "      <th>98396</th>\n",
       "      <td>CRPF jawan axed to death by Maoists in Chhatti...</td>\n",
       "      <td>A CRPF jawan was on Tuesday axed to death with...</td>\n",
       "      <td>A CRPF jawan was on Tuesday axed to death with...</td>\n",
       "    </tr>\n",
       "    <tr>\n",
       "      <th>98397</th>\n",
       "      <td>First song from Sonakshi Sinha's 'Noor' titled...</td>\n",
       "      <td>'Uff Yeh', the first song from the Sonakshi Si...</td>\n",
       "      <td>'Uff Yeh', the first song from the Sonakshi Si...</td>\n",
       "    </tr>\n",
       "    <tr>\n",
       "      <th>98398</th>\n",
       "      <td>'The Matrix' film to get a reboot: Reports</td>\n",
       "      <td>According to reports, a new version of the 199...</td>\n",
       "      <td>According to reports, a new version of the 199...</td>\n",
       "    </tr>\n",
       "    <tr>\n",
       "      <th>98399</th>\n",
       "      <td>Snoop Dogg aims gun at clown dressed as Trump ...</td>\n",
       "      <td>A new music video shows rapper Snoop Dogg aimi...</td>\n",
       "      <td>A new music video shows rapper Snoop Dogg aimi...</td>\n",
       "    </tr>\n",
       "    <tr>\n",
       "      <th>98400</th>\n",
       "      <td>Madhesi Morcha withdraws support to Nepalese g...</td>\n",
       "      <td>Madhesi Morcha, an alliance of seven political...</td>\n",
       "      <td>Madhesi Morcha, an alliance of seven political...</td>\n",
       "    </tr>\n",
       "  </tbody>\n",
       "</table>\n",
       "<p>98401 rows × 3 columns</p>\n",
       "</div>"
      ],
      "text/plain": [
       "                                                 Summary  \\\n",
       "0      upGrad learner switches to career in ML & Al w...   \n",
       "1      Delhi techie wins free food from Swiggy for on...   \n",
       "2      New Zealand end Rohit Sharma-led India's 12-ma...   \n",
       "3      Aegon life iTerm insurance plan helps customer...   \n",
       "4      Have known Hirani for yrs, what if MeToo claim...   \n",
       "...                                                  ...   \n",
       "98396  CRPF jawan axed to death by Maoists in Chhatti...   \n",
       "98397  First song from Sonakshi Sinha's 'Noor' titled...   \n",
       "98398         'The Matrix' film to get a reboot: Reports   \n",
       "98399  Snoop Dogg aims gun at clown dressed as Trump ...   \n",
       "98400  Madhesi Morcha withdraws support to Nepalese g...   \n",
       "\n",
       "                                                    Text  \\\n",
       "0      Saurav Kant, an alumnus of upGrad and IIIT-B's...   \n",
       "1      Kunal Shah's credit card bill payment platform...   \n",
       "2      New Zealand defeated India by 8 wickets in the...   \n",
       "3      With Aegon Life iTerm Insurance plan, customer...   \n",
       "4      Speaking about the sexual harassment allegatio...   \n",
       "...                                                  ...   \n",
       "98396  A CRPF jawan was on Tuesday axed to death with...   \n",
       "98397  'Uff Yeh', the first song from the Sonakshi Si...   \n",
       "98398  According to reports, a new version of the 199...   \n",
       "98399  A new music video shows rapper Snoop Dogg aimi...   \n",
       "98400  Madhesi Morcha, an alliance of seven political...   \n",
       "\n",
       "                                                     raw  \n",
       "0      Saurav Kant, an alumnus of upGrad and IIIT-B's...  \n",
       "1      Kunal Shah's credit card bill payment platform...  \n",
       "2      New Zealand defeated India by 8 wickets in the...  \n",
       "3      With Aegon Life iTerm Insurance plan, customer...  \n",
       "4      Speaking about the sexual harassment allegatio...  \n",
       "...                                                  ...  \n",
       "98396  A CRPF jawan was on Tuesday axed to death with...  \n",
       "98397  'Uff Yeh', the first song from the Sonakshi Si...  \n",
       "98398  According to reports, a new version of the 199...  \n",
       "98399  A new music video shows rapper Snoop Dogg aimi...  \n",
       "98400  Madhesi Morcha, an alliance of seven political...  \n",
       "\n",
       "[98401 rows x 3 columns]"
      ]
     },
     "execution_count": 6,
     "metadata": {},
     "output_type": "execute_result"
    },
    {
     "name": "stdout",
     "output_type": "stream",
     "text": [
      "time: 12.3 ms (started: 2021-02-25 21:24:42 +09:00)\n"
     ]
    }
   ],
   "source": [
    "data['raw'] = data['Text']\n",
    "data"
   ]
  },
  {
   "cell_type": "markdown",
   "id": "specified-calculation",
   "metadata": {},
   "source": [
    "### 중복 샘플과 NULL 값이 존재하는 샘플 제거"
   ]
  },
  {
   "cell_type": "markdown",
   "id": "accessory-orleans",
   "metadata": {},
   "source": [
    "- 중복 제거"
   ]
  },
  {
   "cell_type": "code",
   "execution_count": 7,
   "id": "dominican-oxford",
   "metadata": {},
   "outputs": [
    {
     "name": "stdout",
     "output_type": "stream",
     "text": [
      "Text 열에서 중복을 배제한 유일한 샘플의 수 : 98360\n",
      "Summary 열에서 중복을 배제한 유일한 샘플의 수 : 98280\n",
      "time: 146 ms (started: 2021-02-25 21:24:43 +09:00)\n"
     ]
    }
   ],
   "source": [
    "print('Text 열에서 중복을 배제한 유일한 샘플의 수 :', data['Text'].nunique())\n",
    "print('Summary 열에서 중복을 배제한 유일한 샘플의 수 :', data['Summary'].nunique())"
   ]
  },
  {
   "cell_type": "code",
   "execution_count": 8,
   "id": "mineral-bracket",
   "metadata": {},
   "outputs": [
    {
     "name": "stdout",
     "output_type": "stream",
     "text": [
      "전체 샘플수 : 98360\n",
      "time: 121 ms (started: 2021-02-25 21:24:43 +09:00)\n"
     ]
    }
   ],
   "source": [
    "data.drop_duplicates(subset = ['Text'], inplace = True)\n",
    "print('전체 샘플수 :',(len(data)))"
   ]
  },
  {
   "cell_type": "markdown",
   "id": "subsequent-petite",
   "metadata": {},
   "source": [
    "- 결측치 제거"
   ]
  },
  {
   "cell_type": "code",
   "execution_count": 9,
   "id": "typical-contract",
   "metadata": {},
   "outputs": [
    {
     "name": "stdout",
     "output_type": "stream",
     "text": [
      "Summary    0\n",
      "Text       0\n",
      "raw        0\n",
      "dtype: int64\n",
      "time: 24.2 ms (started: 2021-02-25 21:24:43 +09:00)\n"
     ]
    }
   ],
   "source": [
    "print(data.isnull().sum())"
   ]
  },
  {
   "cell_type": "markdown",
   "id": "basic-capitol",
   "metadata": {},
   "source": [
    "결측치가 없으므로 제거하는 과정이 필요없다."
   ]
  },
  {
   "cell_type": "markdown",
   "id": "oriental-feeding",
   "metadata": {},
   "source": [
    "### 텍스트 정규화와 불용어 제거"
   ]
  },
  {
   "cell_type": "markdown",
   "id": "hired-meter",
   "metadata": {},
   "source": [
    "- 텍스트 정규화를 위한 사전 구성"
   ]
  },
  {
   "cell_type": "code",
   "execution_count": 10,
   "id": "chicken-gazette",
   "metadata": {},
   "outputs": [
    {
     "name": "stdout",
     "output_type": "stream",
     "text": [
      "정규화 사전의 수:  120\n",
      "time: 2 ms (started: 2021-02-25 21:24:44 +09:00)\n"
     ]
    }
   ],
   "source": [
    "contractions = {\"ain't\": \"is not\", \"aren't\": \"are not\",\"can't\": \"cannot\", \"'cause\": \"because\", \"could've\": \"could have\", \"couldn't\": \"could not\",\n",
    "                           \"didn't\": \"did not\",  \"doesn't\": \"does not\", \"don't\": \"do not\", \"hadn't\": \"had not\", \"hasn't\": \"has not\", \"haven't\": \"have not\",\n",
    "                           \"he'd\": \"he would\",\"he'll\": \"he will\", \"he's\": \"he is\", \"how'd\": \"how did\", \"how'd'y\": \"how do you\", \"how'll\": \"how will\", \"how's\": \"how is\",\n",
    "                           \"I'd\": \"I would\", \"I'd've\": \"I would have\", \"I'll\": \"I will\", \"I'll've\": \"I will have\",\"I'm\": \"I am\", \"I've\": \"I have\", \"i'd\": \"i would\",\n",
    "                           \"i'd've\": \"i would have\", \"i'll\": \"i will\",  \"i'll've\": \"i will have\",\"i'm\": \"i am\", \"i've\": \"i have\", \"isn't\": \"is not\", \"it'd\": \"it would\",\n",
    "                           \"it'd've\": \"it would have\", \"it'll\": \"it will\", \"it'll've\": \"it will have\",\"it's\": \"it is\", \"let's\": \"let us\", \"ma'am\": \"madam\",\n",
    "                           \"mayn't\": \"may not\", \"might've\": \"might have\",\"mightn't\": \"might not\",\"mightn't've\": \"might not have\", \"must've\": \"must have\",\n",
    "                           \"mustn't\": \"must not\", \"mustn't've\": \"must not have\", \"needn't\": \"need not\", \"needn't've\": \"need not have\",\"o'clock\": \"of the clock\",\n",
    "                           \"oughtn't\": \"ought not\", \"oughtn't've\": \"ought not have\", \"shan't\": \"shall not\", \"sha'n't\": \"shall not\", \"shan't've\": \"shall not have\",\n",
    "                           \"she'd\": \"she would\", \"she'd've\": \"she would have\", \"she'll\": \"she will\", \"she'll've\": \"she will have\", \"she's\": \"she is\",\n",
    "                           \"should've\": \"should have\", \"shouldn't\": \"should not\", \"shouldn't've\": \"should not have\", \"so've\": \"so have\",\"so's\": \"so as\",\n",
    "                           \"this's\": \"this is\",\"that'd\": \"that would\", \"that'd've\": \"that would have\", \"that's\": \"that is\", \"there'd\": \"there would\",\n",
    "                           \"there'd've\": \"there would have\", \"there's\": \"there is\", \"here's\": \"here is\",\"they'd\": \"they would\", \"they'd've\": \"they would have\",\n",
    "                           \"they'll\": \"they will\", \"they'll've\": \"they will have\", \"they're\": \"they are\", \"they've\": \"they have\", \"to've\": \"to have\",\n",
    "                           \"wasn't\": \"was not\", \"we'd\": \"we would\", \"we'd've\": \"we would have\", \"we'll\": \"we will\", \"we'll've\": \"we will have\", \"we're\": \"we are\",\n",
    "                           \"we've\": \"we have\", \"weren't\": \"were not\", \"what'll\": \"what will\", \"what'll've\": \"what will have\", \"what're\": \"what are\",\n",
    "                           \"what's\": \"what is\", \"what've\": \"what have\", \"when's\": \"when is\", \"when've\": \"when have\", \"where'd\": \"where did\", \"where's\": \"where is\",\n",
    "                           \"where've\": \"where have\", \"who'll\": \"who will\", \"who'll've\": \"who will have\", \"who's\": \"who is\", \"who've\": \"who have\",\n",
    "                           \"why's\": \"why is\", \"why've\": \"why have\", \"will've\": \"will have\", \"won't\": \"will not\", \"won't've\": \"will not have\",\n",
    "                           \"would've\": \"would have\", \"wouldn't\": \"would not\", \"wouldn't've\": \"would not have\", \"y'all\": \"you all\",\n",
    "                           \"y'all'd\": \"you all would\",\"y'all'd've\": \"you all would have\",\"y'all're\": \"you all are\",\"y'all've\": \"you all have\",\n",
    "                           \"you'd\": \"you would\", \"you'd've\": \"you would have\", \"you'll\": \"you will\", \"you'll've\": \"you will have\",\n",
    "                           \"you're\": \"you are\", \"you've\": \"you have\"}\n",
    "\n",
    "print(\"정규화 사전의 수: \",len(contractions))"
   ]
  },
  {
   "cell_type": "markdown",
   "id": "honey-functionality",
   "metadata": {},
   "source": [
    "- 불용어 제거"
   ]
  },
  {
   "cell_type": "code",
   "execution_count": 11,
   "id": "comic-castle",
   "metadata": {},
   "outputs": [
    {
     "name": "stdout",
     "output_type": "stream",
     "text": [
      "불용어 개수 : 179\n",
      "['i', 'me', 'my', 'myself', 'we', 'our', 'ours', 'ourselves', 'you', \"you're\", \"you've\", \"you'll\", \"you'd\", 'your', 'yours', 'yourself', 'yourselves', 'he', 'him', 'his', 'himself', 'she', \"she's\", 'her', 'hers', 'herself', 'it', \"it's\", 'its', 'itself', 'they', 'them', 'their', 'theirs', 'themselves', 'what', 'which', 'who', 'whom', 'this', 'that', \"that'll\", 'these', 'those', 'am', 'is', 'are', 'was', 'were', 'be', 'been', 'being', 'have', 'has', 'had', 'having', 'do', 'does', 'did', 'doing', 'a', 'an', 'the', 'and', 'but', 'if', 'or', 'because', 'as', 'until', 'while', 'of', 'at', 'by', 'for', 'with', 'about', 'against', 'between', 'into', 'through', 'during', 'before', 'after', 'above', 'below', 'to', 'from', 'up', 'down', 'in', 'out', 'on', 'off', 'over', 'under', 'again', 'further', 'then', 'once', 'here', 'there', 'when', 'where', 'why', 'how', 'all', 'any', 'both', 'each', 'few', 'more', 'most', 'other', 'some', 'such', 'no', 'nor', 'not', 'only', 'own', 'same', 'so', 'than', 'too', 'very', 's', 't', 'can', 'will', 'just', 'don', \"don't\", 'should', \"should've\", 'now', 'd', 'll', 'm', 'o', 're', 've', 'y', 'ain', 'aren', \"aren't\", 'couldn', \"couldn't\", 'didn', \"didn't\", 'doesn', \"doesn't\", 'hadn', \"hadn't\", 'hasn', \"hasn't\", 'haven', \"haven't\", 'isn', \"isn't\", 'ma', 'mightn', \"mightn't\", 'mustn', \"mustn't\", 'needn', \"needn't\", 'shan', \"shan't\", 'shouldn', \"shouldn't\", 'wasn', \"wasn't\", 'weren', \"weren't\", 'won', \"won't\", 'wouldn', \"wouldn't\"]\n",
      "time: 3.62 ms (started: 2021-02-25 21:24:44 +09:00)\n"
     ]
    }
   ],
   "source": [
    "print('불용어 개수 :', len(stopwords.words('english') ))\n",
    "print(stopwords.words('english'))"
   ]
  },
  {
   "cell_type": "code",
   "execution_count": 12,
   "id": "opening-petroleum",
   "metadata": {},
   "outputs": [
    {
     "name": "stdout",
     "output_type": "stream",
     "text": [
      "time: 2.7 ms (started: 2021-02-25 21:24:45 +09:00)\n"
     ]
    }
   ],
   "source": [
    "#데이터 전처리 함수\n",
    "def preprocess_sentence(sentence, remove_stopwords=True):\n",
    "    sentence = sentence.lower() # 텍스트 소문자화\n",
    "    sentence = BeautifulSoup(sentence, \"lxml\").text # <br />, <a href = ...> 등의 html 태그 제거\n",
    "    sentence = re.sub(r'\\([^)]*\\)', '', sentence) # 괄호로 닫힌 문자열 (...) 제거 Ex) my husband (and myself!) for => my husband for\n",
    "    sentence = re.sub('\"','', sentence) # 쌍따옴표 \" 제거\n",
    "    sentence = ' '.join([contractions[t] if t in contractions else t for t in sentence.split(\" \")]) # 약어 정규화\n",
    "    sentence = re.sub(r\"'s\\b\",\"\",sentence) # 소유격 제거. Ex) roland's -> roland\n",
    "    sentence = re.sub(\"[^a-zA-Z]\", \" \", sentence) # 영어 외 문자(숫자, 특수문자 등) 공백으로 변환\n",
    "    sentence = re.sub('[m]{2,}', 'mm', sentence) # m이 3개 이상이면 2개로 변경. Ex) ummmmmmm yeah -> umm yeah\n",
    "    \n",
    "    # 불용어 제거 (Text)\n",
    "    if remove_stopwords:\n",
    "        tokens = ' '.join(word for word in sentence.split() if not word in stopwords.words('english') if len(word) > 1)\n",
    "    # 불용어 미제거 (Summary)\n",
    "    else:\n",
    "        tokens = ' '.join(word for word in sentence.split() if len(word) > 1)\n",
    "    return tokens"
   ]
  },
  {
   "cell_type": "markdown",
   "id": "deluxe-scott",
   "metadata": {},
   "source": [
    "- Text 전처리 : 정규화 + 불용어 제거"
   ]
  },
  {
   "cell_type": "code",
   "execution_count": 13,
   "id": "flush-federation",
   "metadata": {},
   "outputs": [
    {
     "data": {
      "text/plain": [
       "['saurav kant alumnus upgrad iiit pg program machine learning artificial intelligence sr systems engineer infosys almost years work experience program upgrad degree career support helped transition data scientist tech mahindra salary hike upgrad online power learning powered lakh careers',\n",
       " 'kunal shah credit card bill payment platform cred gave users chance win free food swiggy one year pranav kaushik delhi techie bagged reward spending cred coins users get one cred coin per rupee bill paid used avail rewards brands like ixigo bookmyshow ubereats cult fit',\n",
       " 'new zealand defeated india wickets fourth odi hamilton thursday win first match five match odi series india lost international match rohit sharma captaincy consecutive victories dating back march match witnessed india getting seventh lowest total odi cricket history',\n",
       " 'aegon life iterm insurance plan customers enjoy tax benefits premiums paid save taxes plan provides life cover age years also customers options insure critical illnesses disability accidental death benefit rider life cover age years',\n",
       " 'speaking sexual harassment allegations rajkumar hirani sonam kapoor said known hirani many years true metoo movement get derailed metoo movement always believe woman case need reserve judgment added hirani accused assistant worked sanju']"
      ]
     },
     "execution_count": 13,
     "metadata": {},
     "output_type": "execute_result"
    },
    {
     "name": "stdout",
     "output_type": "stream",
     "text": [
      "time: 8min 11s (started: 2021-02-25 21:24:45 +09:00)\n"
     ]
    }
   ],
   "source": [
    "clean_text = []\n",
    "\n",
    "# 전체 Text 데이터에 대한 전처리 : 10분 이상 시간이 걸릴 수 있습니다. \n",
    "for s in data['Text']:\n",
    "    clean_text.append(preprocess_sentence(s))\n",
    "\n",
    "# 전처리 후 출력\n",
    "clean_text[:5]"
   ]
  },
  {
   "cell_type": "markdown",
   "id": "happy-recovery",
   "metadata": {},
   "source": [
    "- Summary 전처리 : 정규화"
   ]
  },
  {
   "cell_type": "code",
   "execution_count": 14,
   "id": "prime-australian",
   "metadata": {},
   "outputs": [
    {
     "data": {
      "text/plain": [
       "['upgrad learner switches to career in ml al with salary hike',\n",
       " 'delhi techie wins free food from swiggy for one year on cred',\n",
       " 'new zealand end rohit sharma led india match winning streak',\n",
       " 'aegon life iterm insurance plan helps customers save tax',\n",
       " 'have known hirani for yrs what if metoo claims are not true sonam']"
      ]
     },
     "execution_count": 14,
     "metadata": {},
     "output_type": "execute_result"
    },
    {
     "name": "stdout",
     "output_type": "stream",
     "text": [
      "time: 18.8 s (started: 2021-02-25 21:32:57 +09:00)\n"
     ]
    }
   ],
   "source": [
    "clean_summary = []\n",
    "\n",
    "# 전체 Summary 데이터에 대한 전처리 : 5분 이상 시간이 걸릴 수 있습니다. \n",
    "for s in data['Summary']:\n",
    "    clean_summary.append(preprocess_sentence(s, False))\n",
    "\n",
    "clean_summary[:5]"
   ]
  },
  {
   "cell_type": "markdown",
   "id": "saved-logistics",
   "metadata": {},
   "source": [
    "- data 업데이트"
   ]
  },
  {
   "cell_type": "code",
   "execution_count": 15,
   "id": "dress-linux",
   "metadata": {},
   "outputs": [
    {
     "name": "stdout",
     "output_type": "stream",
     "text": [
      "time: 27.6 ms (started: 2021-02-25 21:33:15 +09:00)\n"
     ]
    }
   ],
   "source": [
    "data['Text'] = clean_text\n",
    "data['Summary'] = clean_summary\n",
    "\n",
    "# 빈 값을 Null 값으로 변환\n",
    "data.replace('', np.nan, inplace=True)"
   ]
  },
  {
   "cell_type": "markdown",
   "id": "chinese-drill",
   "metadata": {},
   "source": [
    "- 결측치 확인"
   ]
  },
  {
   "cell_type": "code",
   "execution_count": 16,
   "id": "hispanic-jacob",
   "metadata": {},
   "outputs": [
    {
     "data": {
      "text/plain": [
       "Summary    0\n",
       "Text       0\n",
       "raw        0\n",
       "dtype: int64"
      ]
     },
     "execution_count": 16,
     "metadata": {},
     "output_type": "execute_result"
    },
    {
     "name": "stdout",
     "output_type": "stream",
     "text": [
      "time: 30.5 ms (started: 2021-02-25 21:33:15 +09:00)\n"
     ]
    }
   ],
   "source": [
    "data.isnull().sum()"
   ]
  },
  {
   "cell_type": "code",
   "execution_count": 17,
   "id": "handy-washington",
   "metadata": {},
   "outputs": [
    {
     "name": "stdout",
     "output_type": "stream",
     "text": [
      "전체 샘플수 : 98360\n",
      "time: 55.1 ms (started: 2021-02-25 21:33:16 +09:00)\n"
     ]
    }
   ],
   "source": [
    "data.dropna(axis=0, inplace=True)\n",
    "print('전체 샘플수 :',(len(data)))#데이터 전처리 함수"
   ]
  },
  {
   "cell_type": "markdown",
   "id": "blocked-johnston",
   "metadata": {},
   "source": [
    "- 전처리된 데이터 저장 : 전처리 과정에 시간이 많이 걸리므로 전처리된 데이터를 csv로 저장하고, 이후로 새로 저장된 csv를 불러들여 프로젝트에 사용하도록 한다."
   ]
  },
  {
   "cell_type": "code",
   "execution_count": 18,
   "id": "dynamic-cabin",
   "metadata": {},
   "outputs": [
    {
     "name": "stdout",
     "output_type": "stream",
     "text": [
      "time: 982 ms (started: 2021-02-25 21:33:16 +09:00)\n"
     ]
    }
   ],
   "source": [
    "data.to_csv(f'{data_path}/news_summary_more_preprocessed.csv', mode='w')"
   ]
  },
  {
   "cell_type": "code",
   "execution_count": 19,
   "id": "continuous-enclosure",
   "metadata": {},
   "outputs": [
    {
     "data": {
      "text/html": [
       "<div>\n",
       "<style scoped>\n",
       "    .dataframe tbody tr th:only-of-type {\n",
       "        vertical-align: middle;\n",
       "    }\n",
       "\n",
       "    .dataframe tbody tr th {\n",
       "        vertical-align: top;\n",
       "    }\n",
       "\n",
       "    .dataframe thead th {\n",
       "        text-align: right;\n",
       "    }\n",
       "</style>\n",
       "<table border=\"1\" class=\"dataframe\">\n",
       "  <thead>\n",
       "    <tr style=\"text-align: right;\">\n",
       "      <th></th>\n",
       "      <th>Summary</th>\n",
       "      <th>Text</th>\n",
       "      <th>raw</th>\n",
       "    </tr>\n",
       "  </thead>\n",
       "  <tbody>\n",
       "    <tr>\n",
       "      <th>0</th>\n",
       "      <td>upgrad learner switches to career in ml al wit...</td>\n",
       "      <td>saurav kant alumnus upgrad iiit pg program mac...</td>\n",
       "      <td>Saurav Kant, an alumnus of upGrad and IIIT-B's...</td>\n",
       "    </tr>\n",
       "    <tr>\n",
       "      <th>1</th>\n",
       "      <td>delhi techie wins free food from swiggy for on...</td>\n",
       "      <td>kunal shah credit card bill payment platform c...</td>\n",
       "      <td>Kunal Shah's credit card bill payment platform...</td>\n",
       "    </tr>\n",
       "    <tr>\n",
       "      <th>2</th>\n",
       "      <td>new zealand end rohit sharma led india match w...</td>\n",
       "      <td>new zealand defeated india wickets fourth odi ...</td>\n",
       "      <td>New Zealand defeated India by 8 wickets in the...</td>\n",
       "    </tr>\n",
       "    <tr>\n",
       "      <th>3</th>\n",
       "      <td>aegon life iterm insurance plan helps customer...</td>\n",
       "      <td>aegon life iterm insurance plan customers enjo...</td>\n",
       "      <td>With Aegon Life iTerm Insurance plan, customer...</td>\n",
       "    </tr>\n",
       "    <tr>\n",
       "      <th>4</th>\n",
       "      <td>have known hirani for yrs what if metoo claims...</td>\n",
       "      <td>speaking sexual harassment allegations rajkuma...</td>\n",
       "      <td>Speaking about the sexual harassment allegatio...</td>\n",
       "    </tr>\n",
       "  </tbody>\n",
       "</table>\n",
       "</div>"
      ],
      "text/plain": [
       "                                             Summary  \\\n",
       "0  upgrad learner switches to career in ml al wit...   \n",
       "1  delhi techie wins free food from swiggy for on...   \n",
       "2  new zealand end rohit sharma led india match w...   \n",
       "3  aegon life iterm insurance plan helps customer...   \n",
       "4  have known hirani for yrs what if metoo claims...   \n",
       "\n",
       "                                                Text  \\\n",
       "0  saurav kant alumnus upgrad iiit pg program mac...   \n",
       "1  kunal shah credit card bill payment platform c...   \n",
       "2  new zealand defeated india wickets fourth odi ...   \n",
       "3  aegon life iterm insurance plan customers enjo...   \n",
       "4  speaking sexual harassment allegations rajkuma...   \n",
       "\n",
       "                                                 raw  \n",
       "0  Saurav Kant, an alumnus of upGrad and IIIT-B's...  \n",
       "1  Kunal Shah's credit card bill payment platform...  \n",
       "2  New Zealand defeated India by 8 wickets in the...  \n",
       "3  With Aegon Life iTerm Insurance plan, customer...  \n",
       "4  Speaking about the sexual harassment allegatio...  "
      ]
     },
     "execution_count": 19,
     "metadata": {},
     "output_type": "execute_result"
    },
    {
     "name": "stdout",
     "output_type": "stream",
     "text": [
      "time: 530 ms (started: 2021-02-25 21:33:17 +09:00)\n"
     ]
    }
   ],
   "source": [
    "data = pd.read_csv(f'{data_path}/news_summary_more_preprocessed.csv', index_col=0)\n",
    "data.head()"
   ]
  },
  {
   "cell_type": "markdown",
   "id": "supreme-fitness",
   "metadata": {},
   "source": [
    "### 데이터 정제"
   ]
  },
  {
   "cell_type": "markdown",
   "id": "thirty-anatomy",
   "metadata": {},
   "source": [
    "#### 샘플의 최대 길이 지정"
   ]
  },
  {
   "cell_type": "markdown",
   "id": "charitable-surfing",
   "metadata": {},
   "source": [
    "- 샘플의 길이 분포 확인"
   ]
  },
  {
   "cell_type": "code",
   "execution_count": 20,
   "id": "processed-stations",
   "metadata": {},
   "outputs": [
    {
     "name": "stdout",
     "output_type": "stream",
     "text": [
      "텍스트의 최소 길이 : 1\n",
      "텍스트의 최대 길이 : 60\n",
      "텍스트의 평균 길이 : 35.09968483123221\n",
      "요약의 최소 길이 : 1\n",
      "요약의 최대 길이 : 16\n",
      "요약의 평균 길이 : 9.299532330215534\n"
     ]
    },
    {
     "data": {
      "image/png": "[encoded data removed]",
      "text/plain": [
       "<Figure size 432x288 with 2 Axes>"
      ]
     },
     "metadata": {
      "needs_background": "light"
     },
     "output_type": "display_data"
    },
    {
     "data": {
      "image/png": "[encoded data removed]",
      "text/plain": [
       "<Figure size 432x288 with 1 Axes>"
      ]
     },
     "metadata": {
      "needs_background": "light"
     },
     "output_type": "display_data"
    },
    {
     "data": {
      "image/png": "[encoded data removed]",
      "text/plain": [
       "<Figure size 432x288 with 1 Axes>"
      ]
     },
     "metadata": {
      "needs_background": "light"
     },
     "output_type": "display_data"
    },
    {
     "name": "stdout",
     "output_type": "stream",
     "text": [
      "time: 800 ms (started: 2021-02-25 21:33:17 +09:00)\n"
     ]
    }
   ],
   "source": [
    "# 길이 분포 출력\n",
    "import matplotlib.pyplot as plt\n",
    "\n",
    "text_len = [len(s.split()) for s in data['Text']]\n",
    "summary_len = [len(s.split()) for s in data['Summary']]\n",
    "\n",
    "print('텍스트의 최소 길이 : {}'.format(np.min(text_len)))\n",
    "print('텍스트의 최대 길이 : {}'.format(np.max(text_len)))\n",
    "print('텍스트의 평균 길이 : {}'.format(np.mean(text_len)))\n",
    "print('요약의 최소 길이 : {}'.format(np.min(summary_len)))\n",
    "print('요약의 최대 길이 : {}'.format(np.max(summary_len)))\n",
    "print('요약의 평균 길이 : {}'.format(np.mean(summary_len)))\n",
    "\n",
    "plt.subplot(1,2,1)\n",
    "plt.boxplot(summary_len)\n",
    "plt.title('Summary')\n",
    "plt.subplot(1,2,2)\n",
    "plt.boxplot(text_len)\n",
    "plt.title('Text')\n",
    "plt.tight_layout()\n",
    "plt.show()\n",
    "\n",
    "plt.title('Summary')\n",
    "plt.hist(summary_len, bins = 40)\n",
    "plt.xlabel('length of samples')\n",
    "plt.ylabel('number of samples')\n",
    "plt.show()\n",
    "\n",
    "plt.title('Text')\n",
    "plt.hist(text_len, bins = 40)\n",
    "plt.xlabel('length of samples')\n",
    "plt.ylabel('number of samples')\n",
    "plt.show()"
   ]
  },
  {
   "cell_type": "markdown",
   "id": "sweet-insert",
   "metadata": {},
   "source": [
    "Text의 경우 최소 길이가 1, 최대 길이가 60, 평균 길이는 35로 계산되었다. 시각화 된 그래프로 봤을 때는 대체적으로는 40 내외의 길이를 가지고 있으며 멀리서 보면 정규분포의 모양을 따르는 것처럼 보일 정도로 길이가 서로 비슷한 것을 확인 할 수 있었다.\n",
    "\n",
    "Summary의 경우 최소 길이가 1, 최대 길이가 16, 그리고 평균 길이가 9로 Text에 비해 길이가 짧은 것을 확인할 수 있다. 그래프에서도 대체적으로 11 이하의 길이를 가지고 있는 것을 볼 수 있다."
   ]
  },
  {
   "cell_type": "markdown",
   "id": "sunrise-shipping",
   "metadata": {},
   "source": [
    "- 문장의 최대 길이 선정 및 통계적 확인"
   ]
  },
  {
   "cell_type": "code",
   "execution_count": 21,
   "id": "norman-milan",
   "metadata": {},
   "outputs": [
    {
     "name": "stdout",
     "output_type": "stream",
     "text": [
      "time: 311 µs (started: 2021-02-25 21:33:18 +09:00)\n"
     ]
    }
   ],
   "source": [
    "text_max_len = 40\n",
    "summary_max_len = 11"
   ]
  },
  {
   "cell_type": "code",
   "execution_count": 22,
   "id": "meaning-sterling",
   "metadata": {},
   "outputs": [
    {
     "name": "stdout",
     "output_type": "stream",
     "text": [
      "전체 샘플 중 길이가 40 이하인 샘플의 비율: 0.9238714924766165\n",
      "전체 샘플 중 길이가 11 이하인 샘플의 비율: 0.9449877999186661\n",
      "time: 249 ms (started: 2021-02-25 21:33:18 +09:00)\n"
     ]
    }
   ],
   "source": [
    "def below_threshold_len(max_len, nested_list):\n",
    "  cnt = 0\n",
    "  for s in nested_list:\n",
    "    if(len(s.split()) <= max_len):\n",
    "        cnt = cnt + 1\n",
    "  print('전체 샘플 중 길이가 %s 이하인 샘플의 비율: %s'%(max_len, (cnt / len(nested_list))))\n",
    "\n",
    "below_threshold_len(text_max_len, data['Text'])\n",
    "below_threshold_len(summary_max_len,  data['Summary'])"
   ]
  },
  {
   "cell_type": "markdown",
   "id": "incident-bedroom",
   "metadata": {},
   "source": [
    "- 정해진 길이보다 긴 데이터 제정"
   ]
  },
  {
   "cell_type": "code",
   "execution_count": 23,
   "id": "closing-tongue",
   "metadata": {},
   "outputs": [
    {
     "name": "stdout",
     "output_type": "stream",
     "text": [
      "전체 샘플수 : 85843\n",
      "time: 254 ms (started: 2021-02-25 21:33:18 +09:00)\n"
     ]
    }
   ],
   "source": [
    "data = data[data['Text'].apply(lambda x: len(x.split()) <= text_max_len)]\n",
    "data = data[data['Summary'].apply(lambda x: len(x.split()) <= summary_max_len)]\n",
    "print('전체 샘플수 :',(len(data)))"
   ]
  },
  {
   "cell_type": "markdown",
   "id": "working-pizza",
   "metadata": {},
   "source": [
    "#### 시작/종료 토큰 추가"
   ]
  },
  {
   "cell_type": "code",
   "execution_count": 24,
   "id": "sapphire-profile",
   "metadata": {},
   "outputs": [
    {
     "data": {
      "text/html": [
       "<div>\n",
       "<style scoped>\n",
       "    .dataframe tbody tr th:only-of-type {\n",
       "        vertical-align: middle;\n",
       "    }\n",
       "\n",
       "    .dataframe tbody tr th {\n",
       "        vertical-align: top;\n",
       "    }\n",
       "\n",
       "    .dataframe thead th {\n",
       "        text-align: right;\n",
       "    }\n",
       "</style>\n",
       "<table border=\"1\" class=\"dataframe\">\n",
       "  <thead>\n",
       "    <tr style=\"text-align: right;\">\n",
       "      <th></th>\n",
       "      <th>Summary</th>\n",
       "      <th>Text</th>\n",
       "      <th>raw</th>\n",
       "      <th>decoder_input</th>\n",
       "      <th>decoder_target</th>\n",
       "    </tr>\n",
       "  </thead>\n",
       "  <tbody>\n",
       "    <tr>\n",
       "      <th>0</th>\n",
       "      <td>upgrad learner switches to career in ml al wit...</td>\n",
       "      <td>saurav kant alumnus upgrad iiit pg program mac...</td>\n",
       "      <td>Saurav Kant, an alumnus of upGrad and IIIT-B's...</td>\n",
       "      <td>sostoken upgrad learner switches to career in ...</td>\n",
       "      <td>upgrad learner switches to career in ml al wit...</td>\n",
       "    </tr>\n",
       "    <tr>\n",
       "      <th>2</th>\n",
       "      <td>new zealand end rohit sharma led india match w...</td>\n",
       "      <td>new zealand defeated india wickets fourth odi ...</td>\n",
       "      <td>New Zealand defeated India by 8 wickets in the...</td>\n",
       "      <td>sostoken new zealand end rohit sharma led indi...</td>\n",
       "      <td>new zealand end rohit sharma led india match w...</td>\n",
       "    </tr>\n",
       "    <tr>\n",
       "      <th>3</th>\n",
       "      <td>aegon life iterm insurance plan helps customer...</td>\n",
       "      <td>aegon life iterm insurance plan customers enjo...</td>\n",
       "      <td>With Aegon Life iTerm Insurance plan, customer...</td>\n",
       "      <td>sostoken aegon life iterm insurance plan helps...</td>\n",
       "      <td>aegon life iterm insurance plan helps customer...</td>\n",
       "    </tr>\n",
       "    <tr>\n",
       "      <th>5</th>\n",
       "      <td>rahat fateh ali khan denies getting notice for...</td>\n",
       "      <td>pakistani singer rahat fateh ali khan denied r...</td>\n",
       "      <td>Pakistani singer Rahat Fateh Ali Khan has deni...</td>\n",
       "      <td>sostoken rahat fateh ali khan denies getting n...</td>\n",
       "      <td>rahat fateh ali khan denies getting notice for...</td>\n",
       "    </tr>\n",
       "    <tr>\n",
       "      <th>7</th>\n",
       "      <td>govt directs alok verma to join work day befor...</td>\n",
       "      <td>weeks ex cbi director alok verma told departme...</td>\n",
       "      <td>Weeks after ex-CBI Director Alok Verma told th...</td>\n",
       "      <td>sostoken govt directs alok verma to join work ...</td>\n",
       "      <td>govt directs alok verma to join work day befor...</td>\n",
       "    </tr>\n",
       "  </tbody>\n",
       "</table>\n",
       "</div>"
      ],
      "text/plain": [
       "                                             Summary  \\\n",
       "0  upgrad learner switches to career in ml al wit...   \n",
       "2  new zealand end rohit sharma led india match w...   \n",
       "3  aegon life iterm insurance plan helps customer...   \n",
       "5  rahat fateh ali khan denies getting notice for...   \n",
       "7  govt directs alok verma to join work day befor...   \n",
       "\n",
       "                                                Text  \\\n",
       "0  saurav kant alumnus upgrad iiit pg program mac...   \n",
       "2  new zealand defeated india wickets fourth odi ...   \n",
       "3  aegon life iterm insurance plan customers enjo...   \n",
       "5  pakistani singer rahat fateh ali khan denied r...   \n",
       "7  weeks ex cbi director alok verma told departme...   \n",
       "\n",
       "                                                 raw  \\\n",
       "0  Saurav Kant, an alumnus of upGrad and IIIT-B's...   \n",
       "2  New Zealand defeated India by 8 wickets in the...   \n",
       "3  With Aegon Life iTerm Insurance plan, customer...   \n",
       "5  Pakistani singer Rahat Fateh Ali Khan has deni...   \n",
       "7  Weeks after ex-CBI Director Alok Verma told th...   \n",
       "\n",
       "                                       decoder_input  \\\n",
       "0  sostoken upgrad learner switches to career in ...   \n",
       "2  sostoken new zealand end rohit sharma led indi...   \n",
       "3  sostoken aegon life iterm insurance plan helps...   \n",
       "5  sostoken rahat fateh ali khan denies getting n...   \n",
       "7  sostoken govt directs alok verma to join work ...   \n",
       "\n",
       "                                      decoder_target  \n",
       "0  upgrad learner switches to career in ml al wit...  \n",
       "2  new zealand end rohit sharma led india match w...  \n",
       "3  aegon life iterm insurance plan helps customer...  \n",
       "5  rahat fateh ali khan denies getting notice for...  \n",
       "7  govt directs alok verma to join work day befor...  "
      ]
     },
     "execution_count": 24,
     "metadata": {},
     "output_type": "execute_result"
    },
    {
     "name": "stdout",
     "output_type": "stream",
     "text": [
      "time: 45.3 ms (started: 2021-02-25 21:33:18 +09:00)\n"
     ]
    }
   ],
   "source": [
    "#요약 데이터에는 시작 토큰과 종료 토큰을 추가한다.\n",
    "data['decoder_input'] = data['Summary'].apply(lambda x : 'sostoken '+ x)\n",
    "data['decoder_target'] = data['Summary'].apply(lambda x : x + ' eostoken')\n",
    "data.head()"
   ]
  },
  {
   "cell_type": "code",
   "execution_count": 25,
   "id": "beginning-primary",
   "metadata": {},
   "outputs": [
    {
     "name": "stdout",
     "output_type": "stream",
     "text": [
      "time: 4.8 ms (started: 2021-02-25 21:33:18 +09:00)\n"
     ]
    }
   ],
   "source": [
    "encoder_input = np.array(data['Text']) # 인코더의 입력\n",
    "decoder_input = np.array(data['decoder_input']) # 디코더의 입력\n",
    "decoder_target = np.array(data['decoder_target']) # 디코더의 레이블\n",
    "raw = np.array(data['raw'])"
   ]
  },
  {
   "cell_type": "markdown",
   "id": "reasonable-pavilion",
   "metadata": {},
   "source": [
    "### 데이터셋 분리"
   ]
  },
  {
   "cell_type": "markdown",
   "id": "elder-freeze",
   "metadata": {},
   "source": [
    "- 데이터 셔플"
   ]
  },
  {
   "cell_type": "code",
   "execution_count": 35,
   "id": "forced-leonard",
   "metadata": {},
   "outputs": [
    {
     "name": "stdout",
     "output_type": "stream",
     "text": [
      "[43891 81901 66916 ... 38232 79040  6375]\n",
      "time: 85.5 ms (started: 2021-02-25 21:38:24 +09:00)\n"
     ]
    }
   ],
   "source": [
    "indices = np.arange(encoder_input.shape[0])\n",
    "np.random.shuffle(indices)\n",
    "print(indices)"
   ]
  },
  {
   "cell_type": "code",
   "execution_count": 36,
   "id": "hybrid-network",
   "metadata": {},
   "outputs": [
    {
     "name": "stdout",
     "output_type": "stream",
     "text": [
      "time: 16.8 ms (started: 2021-02-25 21:38:33 +09:00)\n"
     ]
    }
   ],
   "source": [
    "encoder_input = encoder_input[indices]\n",
    "decoder_input = decoder_input[indices]\n",
    "decoder_target = decoder_target[indices]\n",
    "raw = raw[indices]"
   ]
  },
  {
   "cell_type": "markdown",
   "id": "correct-pepper",
   "metadata": {},
   "source": [
    "- 전체 데이터를 훈련 데이터와 테스트 데이터로 분리"
   ]
  },
  {
   "cell_type": "code",
   "execution_count": 37,
   "id": "composite-handy",
   "metadata": {},
   "outputs": [
    {
     "name": "stdout",
     "output_type": "stream",
     "text": [
      "테스트 데이터의 수 : 17168\n",
      "time: 570 µs (started: 2021-02-25 21:38:34 +09:00)\n"
     ]
    }
   ],
   "source": [
    "n_of_val = int(len(encoder_input)*0.2)\n",
    "print('테스트 데이터의 수 :',n_of_val)"
   ]
  },
  {
   "cell_type": "code",
   "execution_count": 57,
   "id": "retained-leonard",
   "metadata": {},
   "outputs": [
    {
     "name": "stdout",
     "output_type": "stream",
     "text": [
      "훈련 데이터의 개수 : 68675\n",
      "훈련 레이블의 개수 : 68675\n",
      "테스트 데이터의 개수 : 17168\n",
      "테스트 레이블의 개수 : 17168\n",
      "테스트 원문의 개수 :  17168\n",
      "time: 1.49 ms (started: 2021-02-25 21:42:24 +09:00)\n"
     ]
    }
   ],
   "source": [
    "encoder_input_train = encoder_input[:-n_of_val]\n",
    "decoder_input_train = decoder_input[:-n_of_val]\n",
    "decoder_target_train = decoder_target[:-n_of_val]\n",
    "\n",
    "encoder_input_test = encoder_input[-n_of_val:]\n",
    "decoder_input_test = decoder_input[-n_of_val:]\n",
    "decoder_target_test = decoder_target[-n_of_val:]\n",
    "raw_test = raw[-n_of_val:]\n",
    "\n",
    "print('훈련 데이터의 개수 :', len(encoder_input_train))\n",
    "print('훈련 레이블의 개수 :',len(decoder_input_train))\n",
    "print('테스트 데이터의 개수 :',len(encoder_input_test))\n",
    "print('테스트 레이블의 개수 :',len(decoder_input_test))\n",
    "print('테스트 원문의 개수 : ', len(raw_test))"
   ]
  },
  {
   "cell_type": "markdown",
   "id": "played-adaptation",
   "metadata": {},
   "source": [
    "### 정수 인코딩"
   ]
  },
  {
   "cell_type": "markdown",
   "id": "rapid-islam",
   "metadata": {},
   "source": [
    "#### Text"
   ]
  },
  {
   "cell_type": "markdown",
   "id": "geological-reset",
   "metadata": {},
   "source": [
    "- Keras의 tokenizer를 이용하여, 훈련 데이터로부터 단어 집합 만들기"
   ]
  },
  {
   "cell_type": "code",
   "execution_count": 58,
   "id": "hired-touch",
   "metadata": {},
   "outputs": [
    {
     "name": "stdout",
     "output_type": "stream",
     "text": [
      "time: 2.03 s (started: 2021-02-25 21:42:26 +09:00)\n"
     ]
    }
   ],
   "source": [
    "src_tokenizer = Tokenizer() # 토크나이저 정의\n",
    "src_tokenizer.fit_on_texts(encoder_input_train) # 입력된 데이터로부터 단어 집합 생성"
   ]
  },
  {
   "cell_type": "markdown",
   "id": "three-winner",
   "metadata": {},
   "source": [
    "- 등장 빈도가 낮은 단어 확인"
   ]
  },
  {
   "cell_type": "code",
   "execution_count": 59,
   "id": "allied-spank",
   "metadata": {},
   "outputs": [
    {
     "name": "stdout",
     "output_type": "stream",
     "text": [
      "단어 집합(vocabulary)의 크기 : 64681\n",
      "등장 빈도가 6번 이하인 희귀 단어의 수: 44097\n",
      "단어 집합에서 희귀 단어를 제외시킬 경우의 단어 집합의 크기 20584\n",
      "단어 집합에서 희귀 단어의 비율: 68.1761259102364\n",
      "전체 등장 빈도에서 희귀 단어 등장 빈도 비율: 3.770946423361849\n",
      "time: 23 ms (started: 2021-02-25 21:42:28 +09:00)\n"
     ]
    }
   ],
   "source": [
    "threshold = 7\n",
    "total_cnt = len(src_tokenizer.word_index) # 단어의 수\n",
    "rare_cnt = 0 # 등장 빈도수가 threshold보다 작은 단어의 개수를 카운트\n",
    "total_freq = 0 # 훈련 데이터의 전체 단어 빈도수 총 합\n",
    "rare_freq = 0 # 등장 빈도수가 threshold보다 작은 단어의 등장 빈도수의 총 합\n",
    "\n",
    "# 단어와 빈도수의 쌍(pair)을 key와 value로 받는다.\n",
    "for key, value in src_tokenizer.word_counts.items():\n",
    "    total_freq = total_freq + value\n",
    "\n",
    "    # 단어의 등장 빈도수가 threshold보다 작으면\n",
    "    if(value < threshold):\n",
    "        rare_cnt = rare_cnt + 1\n",
    "        rare_freq = rare_freq + value\n",
    "\n",
    "print('단어 집합(vocabulary)의 크기 :',total_cnt)\n",
    "print('등장 빈도가 %s번 이하인 희귀 단어의 수: %s'%(threshold - 1, rare_cnt))\n",
    "print('단어 집합에서 희귀 단어를 제외시킬 경우의 단어 집합의 크기 %s'%(total_cnt - rare_cnt))\n",
    "print(\"단어 집합에서 희귀 단어의 비율:\", (rare_cnt / total_cnt)*100)\n",
    "print(\"전체 등장 빈도에서 희귀 단어 등장 빈도 비율:\", (rare_freq / total_freq)*100)"
   ]
  },
  {
   "cell_type": "markdown",
   "id": "multiple-creator",
   "metadata": {},
   "source": [
    "등장 빈도가 7회 미만인 단어들이 단어 집합에서 차지하는 비율은 68%인 것에 반하여, 실제 훈련 데이터에서 등장하는 빈도는 3.5%로 매우 저조한 수치를 보인다.  "
   ]
  },
  {
   "cell_type": "markdown",
   "id": "norwegian-matrix",
   "metadata": {},
   "source": [
    "- 등장 빈도가 낮은 단어 제거"
   ]
  },
  {
   "cell_type": "code",
   "execution_count": 60,
   "id": "political-calibration",
   "metadata": {},
   "outputs": [
    {
     "name": "stdout",
     "output_type": "stream",
     "text": [
      "time: 1.83 s (started: 2021-02-25 21:42:28 +09:00)\n"
     ]
    }
   ],
   "source": [
    "src_vocab = 20000\n",
    "src_tokenizer = Tokenizer(num_words = src_vocab) # 단어 집합의 크기를 20,000으로 제한\n",
    "src_tokenizer.fit_on_texts(encoder_input_train) # 단어 집합 재생성."
   ]
  },
  {
   "cell_type": "markdown",
   "id": "expressed-market",
   "metadata": {},
   "source": [
    "- 정수 인코딩"
   ]
  },
  {
   "cell_type": "code",
   "execution_count": 61,
   "id": "purple-huntington",
   "metadata": {},
   "outputs": [
    {
     "name": "stdout",
     "output_type": "stream",
     "text": [
      "[[112, 1551, 2, 14, 450, 549, 1733, 554, 1, 88, 208, 1588, 5941, 405, 24, 9837, 1741, 1411, 39, 405, 1402, 1733, 450, 549, 2, 14, 148, 862, 228, 75, 347, 1195, 8683, 6655, 16977], [519, 379, 4302, 2241, 26, 400, 15, 2461, 471, 175, 2532, 104, 2461, 12620, 175, 7666, 17, 166, 9598, 31, 1259, 597, 2398, 519, 652, 251, 243], [2384, 1560, 124, 2143, 22, 781, 1130, 53, 1275, 809, 33, 2, 2143, 383, 53, 134, 289, 1919, 1476, 875, 53, 591, 548, 113, 4378, 3710, 7413, 1098, 456, 17949, 10332, 2143, 1654, 69]]\n",
      "time: 1.64 s (started: 2021-02-25 21:42:30 +09:00)\n"
     ]
    }
   ],
   "source": [
    "# 텍스트 시퀀스를 정수 시퀀스로 변환\n",
    "encoder_input_train = src_tokenizer.texts_to_sequences(encoder_input_train) \n",
    "encoder_input_test = src_tokenizer.texts_to_sequences(encoder_input_test)\n",
    "\n",
    "#잘 진행되었는지 샘플 출력\n",
    "print(encoder_input_train[:3])"
   ]
  },
  {
   "cell_type": "markdown",
   "id": "adjusted-projector",
   "metadata": {},
   "source": [
    "#### Summary"
   ]
  },
  {
   "cell_type": "markdown",
   "id": "enabling-villa",
   "metadata": {},
   "source": [
    "- Keras의 tokenizer를 이용하여, 훈련 데이터로부터 단어 집합 만들기"
   ]
  },
  {
   "cell_type": "code",
   "execution_count": 62,
   "id": "auburn-blogger",
   "metadata": {},
   "outputs": [
    {
     "name": "stdout",
     "output_type": "stream",
     "text": [
      "time: 778 ms (started: 2021-02-25 21:42:32 +09:00)\n"
     ]
    }
   ],
   "source": [
    "tar_tokenizer = Tokenizer()\n",
    "tar_tokenizer.fit_on_texts(decoder_input_train)"
   ]
  },
  {
   "cell_type": "markdown",
   "id": "infrared-institution",
   "metadata": {},
   "source": [
    "- 등장 빈도가 낮은 단어 확인"
   ]
  },
  {
   "cell_type": "code",
   "execution_count": 63,
   "id": "significant-season",
   "metadata": {},
   "outputs": [
    {
     "name": "stdout",
     "output_type": "stream",
     "text": [
      "단어 집합(vocabulary)의 크기 : 28559\n",
      "등장 빈도가 5번 이하인 희귀 단어의 수: 18825\n",
      "단어 집합에서 희귀 단어를 제외시킬 경우의 단어 집합의 크기 9734\n",
      "단어 집합에서 희귀 단어의 비율: 65.91617353548793\n",
      "전체 등장 빈도에서 희귀 단어 등장 빈도 비율: 5.17544603889278\n",
      "time: 9.65 ms (started: 2021-02-25 21:42:32 +09:00)\n"
     ]
    }
   ],
   "source": [
    "threshold = 6\n",
    "total_cnt = len(tar_tokenizer.word_index) # 단어의 수\n",
    "rare_cnt = 0 # 등장 빈도수가 threshold보다 작은 단어의 개수를 카운트\n",
    "total_freq = 0 # 훈련 데이터의 전체 단어 빈도수 총 합\n",
    "rare_freq = 0 # 등장 빈도수가 threshold보다 작은 단어의 등장 빈도수의 총 합\n",
    "\n",
    "# 단어와 빈도수의 쌍(pair)을 key와 value로 받는다.\n",
    "for key, value in tar_tokenizer.word_counts.items():\n",
    "    total_freq = total_freq + value\n",
    "\n",
    "    # 단어의 등장 빈도수가 threshold보다 작으면\n",
    "    if(value < threshold):\n",
    "        rare_cnt = rare_cnt + 1\n",
    "        rare_freq = rare_freq + value\n",
    "\n",
    "print('단어 집합(vocabulary)의 크기 :',total_cnt)\n",
    "print('등장 빈도가 %s번 이하인 희귀 단어의 수: %s'%(threshold - 1, rare_cnt))\n",
    "print('단어 집합에서 희귀 단어를 제외시킬 경우의 단어 집합의 크기 %s'%(total_cnt - rare_cnt))\n",
    "print(\"단어 집합에서 희귀 단어의 비율:\", (rare_cnt / total_cnt)*100)\n",
    "print(\"전체 등장 빈도에서 희귀 단어 등장 빈도 비율:\", (rare_freq / total_freq)*100)"
   ]
  },
  {
   "cell_type": "markdown",
   "id": "central-ribbon",
   "metadata": {},
   "source": [
    "- 등장 빈도가 낮은 단어 제거 및 정수 인코딩"
   ]
  },
  {
   "cell_type": "code",
   "execution_count": 64,
   "id": "liquid-venue",
   "metadata": {},
   "outputs": [
    {
     "name": "stdout",
     "output_type": "stream",
     "text": [
      "input\n",
      "input  [[1, 148, 8184, 674, 522, 4245, 194, 6, 5936, 139, 1833], [1, 278, 1273, 270, 2743, 4402, 37, 436, 67], [1, 1089, 3, 806, 14, 27, 13, 1687], [1, 61, 8185, 134, 7, 1136, 1688, 10, 8855], [1, 638, 6291, 6292, 8856, 27, 3, 159, 444, 33]]\n",
      "target\n",
      "decoder  [[148, 8184, 674, 522, 4245, 194, 6, 5936, 139, 1833, 2], [278, 1273, 270, 2743, 4402, 37, 436, 67, 2], [1089, 3, 806, 14, 27, 13, 1687, 2], [61, 8185, 134, 7, 1136, 1688, 10, 8855, 2], [638, 6291, 6292, 8856, 27, 3, 159, 444, 33, 2]]\n",
      "time: 3.55 s (started: 2021-02-25 21:42:32 +09:00)\n"
     ]
    }
   ],
   "source": [
    "tar_vocab = 10000\n",
    "tar_tokenizer = Tokenizer(num_words = tar_vocab) \n",
    "tar_tokenizer.fit_on_texts(decoder_input_train)\n",
    "tar_tokenizer.fit_on_texts(decoder_target_train)\n",
    "\n",
    "# 텍스트 시퀀스를 정수 시퀀스로 변환\n",
    "decoder_input_train = tar_tokenizer.texts_to_sequences(decoder_input_train) \n",
    "decoder_target_train = tar_tokenizer.texts_to_sequences(decoder_target_train)\n",
    "decoder_input_test = tar_tokenizer.texts_to_sequences(decoder_input_test)\n",
    "decoder_target_test = tar_tokenizer.texts_to_sequences(decoder_target_test)\n",
    "\n",
    "#잘 변환되었는지 확인\n",
    "print('input')\n",
    "print('input ',decoder_input_train[:5])\n",
    "print('target')\n",
    "print('decoder ',decoder_target_train[:5])"
   ]
  },
  {
   "cell_type": "markdown",
   "id": "assisted-affiliate",
   "metadata": {},
   "source": [
    "- Summary의 길이가 1인 데이터 모두 삭제"
   ]
  },
  {
   "cell_type": "code",
   "execution_count": 65,
   "id": "exterior-antibody",
   "metadata": {},
   "outputs": [
    {
     "name": "stdout",
     "output_type": "stream",
     "text": [
      "삭제할 훈련 데이터의 개수 : 1\n",
      "삭제할 테스트 데이터의 개수 : 0\n",
      "훈련 데이터의 개수 : 68674\n",
      "훈련 레이블의 개수 : 68674\n",
      "테스트 데이터의 개수 : 17168\n",
      "테스트 레이블의 개수 : 17168\n",
      "테스트 원문의 개수 : 17168\n",
      "time: 228 ms (started: 2021-02-25 21:42:36 +09:00)\n"
     ]
    }
   ],
   "source": [
    "drop_train = [index for index, sentence in enumerate(decoder_input_train) if len(sentence) == 1]\n",
    "drop_test = [index for index, sentence in enumerate(decoder_input_test) if len(sentence) == 1]\n",
    "\n",
    "print('삭제할 훈련 데이터의 개수 :',len(drop_train))\n",
    "print('삭제할 테스트 데이터의 개수 :',len(drop_test))\n",
    "\n",
    "encoder_input_train = np.delete(encoder_input_train, drop_train, axis=0)\n",
    "decoder_input_train = np.delete(decoder_input_train, drop_train, axis=0)\n",
    "decoder_target_train = np.delete(decoder_target_train, drop_train, axis=0)\n",
    "\n",
    "encoder_input_test = np.delete(encoder_input_test, drop_test, axis=0)\n",
    "decoder_input_test = np.delete(decoder_input_test, drop_test, axis=0)\n",
    "decoder_target_test = np.delete(decoder_target_test, drop_test, axis=0)\n",
    "raw_test = np.delete(raw_test, drop_test, axis=0)\n",
    "\n",
    "print('훈련 데이터의 개수 :', len(encoder_input_train))\n",
    "print('훈련 레이블의 개수 :',len(decoder_input_train))\n",
    "print('테스트 데이터의 개수 :',len(encoder_input_test))\n",
    "print('테스트 레이블의 개수 :',len(decoder_input_test))\n",
    "print('테스트 원문의 개수 :', len(raw_test))"
   ]
  },
  {
   "cell_type": "markdown",
   "id": "seven-india",
   "metadata": {},
   "source": [
    "### 패딩"
   ]
  },
  {
   "cell_type": "code",
   "execution_count": 66,
   "id": "handy-canvas",
   "metadata": {},
   "outputs": [
    {
     "name": "stdout",
     "output_type": "stream",
     "text": [
      "time: 1.08 s (started: 2021-02-25 21:42:41 +09:00)\n"
     ]
    }
   ],
   "source": [
    "encoder_input_train = pad_sequences(encoder_input_train, maxlen = text_max_len, padding='post')\n",
    "encoder_input_test = pad_sequences(encoder_input_test, maxlen = text_max_len, padding='post')\n",
    "decoder_input_train = pad_sequences(decoder_input_train, maxlen = summary_max_len, padding='post')\n",
    "decoder_target_train = pad_sequences(decoder_target_train, maxlen = summary_max_len, padding='post')\n",
    "decoder_input_test = pad_sequences(decoder_input_test, maxlen = summary_max_len, padding='post')\n",
    "decoder_target_test = pad_sequences(decoder_target_test, maxlen = summary_max_len, padding='post')"
   ]
  },
  {
   "cell_type": "code",
   "execution_count": 67,
   "id": "indonesian-statistics",
   "metadata": {},
   "outputs": [
    {
     "name": "stdout",
     "output_type": "stream",
     "text": [
      "encoder_input_train.shape : (68674, 40)\n",
      "encoder_input_test.shape : (17168, 40)\n",
      "decoder_input_train.shape : (68674, 11)\n",
      "decoder_target_train.shape : (68674, 11)\n",
      "decoder_input_test.shape : (17168, 11)\n",
      "decoder_target_test.shape : (17168, 11)\n",
      "time: 889 µs (started: 2021-02-25 21:42:42 +09:00)\n"
     ]
    }
   ],
   "source": [
    "print(f'encoder_input_train.shape : {encoder_input_train.shape}')\n",
    "print(f'encoder_input_test.shape : {encoder_input_test.shape}')\n",
    "print(f'decoder_input_train.shape : {decoder_input_train.shape}')\n",
    "print(f'decoder_target_train.shape : {decoder_target_train.shape}')\n",
    "print(f'decoder_input_test.shape : {decoder_input_test.shape}')\n",
    "print(f'decoder_target_test.shape : {decoder_target_test.shape}')"
   ]
  },
  {
   "cell_type": "markdown",
   "id": "informational-queensland",
   "metadata": {},
   "source": [
    "## STEP 3. 어텐션 메커니즘 사용하기 (추상적 요약)\n",
    "---"
   ]
  },
  {
   "cell_type": "markdown",
   "id": "partial-income",
   "metadata": {},
   "source": [
    "### 모델 설계"
   ]
  },
  {
   "cell_type": "markdown",
   "id": "facial-transsexual",
   "metadata": {},
   "source": [
    "- 인코더"
   ]
  },
  {
   "cell_type": "code",
   "execution_count": 68,
   "id": "planned-signature",
   "metadata": {},
   "outputs": [
    {
     "name": "stdout",
     "output_type": "stream",
     "text": [
      "time: 753 ms (started: 2021-02-25 21:42:42 +09:00)\n"
     ]
    }
   ],
   "source": [
    "from tensorflow.keras.layers import Input, LSTM, Embedding, Dense, Concatenate\n",
    "from tensorflow.keras.models import Model\n",
    "from tensorflow.keras.callbacks import EarlyStopping, ModelCheckpoint\n",
    "tf.config.experimental_run_functions_eagerly(True)\n",
    "# 인코더 설계 시작\n",
    "embedding_dim = 128\n",
    "hidden_size = 256\n",
    "\n",
    "# 인코더\n",
    "encoder_inputs = Input(shape=(text_max_len,))\n",
    "\n",
    "# 인코더의 임베딩 층\n",
    "enc_emb = Embedding(src_vocab, embedding_dim)(encoder_inputs)\n",
    "\n",
    "# 인코더의 LSTM 1\n",
    "# recurrent_dropout = 0.4 raise warn ---> WARNING:tensorflow:Layer lstm_3 will not use cuDNN kernel since it doesn't meet the cuDNN kernel criteria.\n",
    "encoder_lstm1 = LSTM(hidden_size, return_sequences=True, return_state=True ,dropout = 0.4, recurrent_dropout = 0)\n",
    "encoder_output1, state_h1, state_c1 = encoder_lstm1(enc_emb)\n",
    "\n",
    "# 인코더의 LSTM 2\n",
    "encoder_lstm2 = LSTM(hidden_size, return_sequences=True, return_state=True, dropout=0.4, recurrent_dropout=0)\n",
    "encoder_output2, state_h2, state_c2 = encoder_lstm2(encoder_output1)\n",
    "\n",
    "# 인코더의 LSTM 3\n",
    "encoder_lstm3 = LSTM(hidden_size, return_state=True, return_sequences=True, dropout=0.4, recurrent_dropout=0)\n",
    "encoder_outputs, state_h, state_c= encoder_lstm3(encoder_output2)"
   ]
  },
  {
   "cell_type": "markdown",
   "id": "bibliographic-fabric",
   "metadata": {},
   "source": [
    "- 디코더"
   ]
  },
  {
   "cell_type": "code",
   "execution_count": 69,
   "id": "sound-score",
   "metadata": {},
   "outputs": [
    {
     "name": "stdout",
     "output_type": "stream",
     "text": [
      "Model: \"model_3\"\n",
      "__________________________________________________________________________________________________\n",
      "Layer (type)                    Output Shape         Param #     Connected to                     \n",
      "==================================================================================================\n",
      "input_7 (InputLayer)            [(None, 40)]         0                                            \n",
      "__________________________________________________________________________________________________\n",
      "embedding_6 (Embedding)         (None, 40, 128)      2560000     input_7[0][0]                    \n",
      "__________________________________________________________________________________________________\n",
      "lstm_12 (LSTM)                  [(None, 40, 256), (N 394240      embedding_6[0][0]                \n",
      "__________________________________________________________________________________________________\n",
      "input_8 (InputLayer)            [(None, None)]       0                                            \n",
      "__________________________________________________________________________________________________\n",
      "lstm_13 (LSTM)                  [(None, 40, 256), (N 525312      lstm_12[0][0]                    \n",
      "__________________________________________________________________________________________________\n",
      "embedding_7 (Embedding)         (None, None, 128)    1280000     input_8[0][0]                    \n",
      "__________________________________________________________________________________________________\n",
      "lstm_14 (LSTM)                  [(None, 40, 256), (N 525312      lstm_13[0][0]                    \n",
      "__________________________________________________________________________________________________\n",
      "lstm_15 (LSTM)                  [(None, None, 256),  394240      embedding_7[0][0]                \n",
      "                                                                 lstm_14[0][1]                    \n",
      "                                                                 lstm_14[0][2]                    \n",
      "__________________________________________________________________________________________________\n",
      "attention_layer (AttentionLayer ((None, None, 256),  131328      lstm_14[0][0]                    \n",
      "                                                                 lstm_15[0][0]                    \n",
      "__________________________________________________________________________________________________\n",
      "concat_layer (Concatenate)      (None, None, 512)    0           lstm_15[0][0]                    \n",
      "                                                                 attention_layer[0][0]            \n",
      "__________________________________________________________________________________________________\n",
      "dense_3 (Dense)                 (None, None, 10000)  5130000     concat_layer[0][0]               \n",
      "==================================================================================================\n",
      "Total params: 10,940,432\n",
      "Trainable params: 10,940,432\n",
      "Non-trainable params: 0\n",
      "__________________________________________________________________________________________________\n",
      "time: 356 ms (started: 2021-02-25 21:42:43 +09:00)\n"
     ]
    }
   ],
   "source": [
    "from attention import AttentionLayer\n",
    "\n",
    "# 디코더 설계\n",
    "decoder_inputs = Input(shape=(None,))\n",
    "\n",
    "# 디코더의 임베딩 층\n",
    "dec_emb_layer = Embedding(tar_vocab, embedding_dim)\n",
    "dec_emb = dec_emb_layer(decoder_inputs)\n",
    "\n",
    "# 디코더의 LSTM\n",
    "decoder_lstm = LSTM(hidden_size, return_sequences = True, return_state = True, dropout = 0.4)\n",
    "decoder_outputs, _, _ = decoder_lstm(dec_emb, initial_state = [state_h, state_c])\n",
    "                                                               \n",
    "# 어텐션 층(어텐션 함수)\n",
    "attn_layer = AttentionLayer(name='attention_layer')\n",
    "                                                               \n",
    "# 인코더와 디코더의 모든 time step의 hidden state를 어텐션 층에 전달하고 결과를 리턴\n",
    "attn_out, attn_states = attn_layer([encoder_outputs, decoder_outputs])\n",
    "\n",
    "# 어텐션의 결과와 디코더의 hidden state들을 연결\n",
    "decoder_concat_input = Concatenate(axis = -1, name='concat_layer')([decoder_outputs, attn_out])\n",
    "\n",
    "# 디코더의 출력층\n",
    "decoder_softmax_layer = Dense(tar_vocab, activation='softmax')\n",
    "decoder_softmax_outputs = decoder_softmax_layer(decoder_concat_input)\n",
    "\n",
    "# 모델 정의\n",
    "model = Model([encoder_inputs, decoder_inputs], decoder_softmax_outputs)\n",
    "model.summary()"
   ]
  },
  {
   "cell_type": "markdown",
   "id": "desperate-notification",
   "metadata": {},
   "source": [
    "### 모델 훈련"
   ]
  },
  {
   "cell_type": "code",
   "execution_count": 70,
   "id": "incorporate-snapshot",
   "metadata": {},
   "outputs": [
    {
     "name": "stdout",
     "output_type": "stream",
     "text": [
      "Epoch 1/50\n",
      "269/269 [==============================] - 51s 190ms/step - loss: 6.0410 - val_loss: 5.6321\n",
      "Epoch 2/50\n",
      "269/269 [==============================] - 51s 191ms/step - loss: 5.4857 - val_loss: 5.2977\n",
      "Epoch 3/50\n",
      "269/269 [==============================] - 51s 191ms/step - loss: 5.1282 - val_loss: 4.9833\n",
      "Epoch 4/50\n",
      "269/269 [==============================] - 52s 193ms/step - loss: 4.8395 - val_loss: 4.7908\n",
      "Epoch 5/50\n",
      "269/269 [==============================] - 51s 191ms/step - loss: 4.6130 - val_loss: 4.6306\n",
      "Epoch 6/50\n",
      "269/269 [==============================] - 52s 195ms/step - loss: 4.4294 - val_loss: 4.5027\n",
      "Epoch 7/50\n",
      "269/269 [==============================] - 52s 192ms/step - loss: 4.2663 - val_loss: 4.4128\n",
      "Epoch 8/50\n",
      "269/269 [==============================] - 51s 191ms/step - loss: 4.1232 - val_loss: 4.3183\n",
      "Epoch 9/50\n",
      "269/269 [==============================] - 51s 191ms/step - loss: 3.9947 - val_loss: 4.2592\n",
      "Epoch 10/50\n",
      "269/269 [==============================] - 52s 192ms/step - loss: 3.8779 - val_loss: 4.2018\n",
      "Epoch 11/50\n",
      "269/269 [==============================] - 51s 191ms/step - loss: 3.7731 - val_loss: 4.1520\n",
      "Epoch 12/50\n",
      "269/269 [==============================] - 51s 191ms/step - loss: 3.6768 - val_loss: 4.1083\n",
      "Epoch 13/50\n",
      "269/269 [==============================] - 51s 190ms/step - loss: 3.5907 - val_loss: 4.0816\n",
      "Epoch 14/50\n",
      "269/269 [==============================] - 51s 191ms/step - loss: 3.5109 - val_loss: 4.0575\n",
      "Epoch 15/50\n",
      "269/269 [==============================] - 51s 191ms/step - loss: 3.4358 - val_loss: 4.0322\n",
      "Epoch 16/50\n",
      "269/269 [==============================] - 51s 190ms/step - loss: 3.3680 - val_loss: 4.0138\n",
      "Epoch 17/50\n",
      "269/269 [==============================] - 52s 192ms/step - loss: 3.3027 - val_loss: 4.0041\n",
      "Epoch 18/50\n",
      "269/269 [==============================] - 52s 193ms/step - loss: 3.2400 - val_loss: 3.9830\n",
      "Epoch 19/50\n",
      "269/269 [==============================] - 52s 193ms/step - loss: 3.1821 - val_loss: 3.9826\n",
      "Epoch 20/50\n",
      "269/269 [==============================] - 51s 191ms/step - loss: 3.1267 - val_loss: 3.9603\n",
      "Epoch 21/50\n",
      "269/269 [==============================] - 52s 193ms/step - loss: 3.0743 - val_loss: 3.9678\n",
      "Epoch 22/50\n",
      "269/269 [==============================] - 51s 191ms/step - loss: 3.0265 - val_loss: 3.9504\n",
      "Epoch 23/50\n",
      "269/269 [==============================] - 52s 192ms/step - loss: 2.9808 - val_loss: 3.9537\n",
      "Epoch 24/50\n",
      "269/269 [==============================] - 52s 193ms/step - loss: 2.9399 - val_loss: 3.9407\n",
      "Epoch 25/50\n",
      "269/269 [==============================] - 52s 193ms/step - loss: 2.8997 - val_loss: 3.9483\n",
      "Epoch 26/50\n",
      "269/269 [==============================] - 52s 192ms/step - loss: 2.8603 - val_loss: 3.9372\n",
      "Epoch 27/50\n",
      "269/269 [==============================] - 53s 199ms/step - loss: 2.8234 - val_loss: 3.9493\n",
      "Epoch 28/50\n",
      "269/269 [==============================] - 62s 230ms/step - loss: 2.7888 - val_loss: 3.9413\n",
      "Epoch 00028: early stopping\n",
      "time: 24min 21s (started: 2021-02-25 21:42:46 +09:00)\n"
     ]
    }
   ],
   "source": [
    "model.compile(optimizer='rmsprop', loss='sparse_categorical_crossentropy')\n",
    "es = EarlyStopping(monitor='val_loss', mode='min', verbose=2, patience = 2)\n",
    "history = model.fit(x = [encoder_input_train, decoder_input_train], y = decoder_target_train, \\\n",
    "          validation_data = ([encoder_input_test, decoder_input_test], decoder_target_test),\n",
    "          batch_size = 256, callbacks=[es], epochs = 50)"
   ]
  },
  {
   "cell_type": "code",
   "execution_count": 71,
   "id": "alpine-insertion",
   "metadata": {},
   "outputs": [
    {
     "data": {
      "image/png": "[encoded data removed]",
      "text/plain": [
       "<Figure size 432x288 with 1 Axes>"
      ]
     },
     "metadata": {
      "needs_background": "light"
     },
     "output_type": "display_data"
    },
    {
     "name": "stdout",
     "output_type": "stream",
     "text": [
      "time: 144 ms (started: 2021-02-25 22:12:15 +09:00)\n"
     ]
    }
   ],
   "source": [
    "plt.plot(history.history['loss'], label='train')\n",
    "plt.plot(history.history['val_loss'], label='test')\n",
    "plt.legend()\n",
    "plt.show()"
   ]
  },
  {
   "cell_type": "markdown",
   "id": "recorded-means",
   "metadata": {},
   "source": [
    "- 모델 저장 : 학습된 모델을 저장하고 이후의 동작은 저장된 모델을 불러와 진행한다."
   ]
  },
  {
   "cell_type": "code",
   "execution_count": 72,
   "id": "smaller-dover",
   "metadata": {},
   "outputs": [
    {
     "name": "stdout",
     "output_type": "stream",
     "text": [
      "time: 139 ms (started: 2021-02-25 22:12:21 +09:00)\n"
     ]
    }
   ],
   "source": [
    "model.save(f'{workspace_path}/model_40_11_2.h5')"
   ]
  },
  {
   "cell_type": "code",
   "execution_count": 42,
   "id": "indonesian-channel",
   "metadata": {},
   "outputs": [
    {
     "name": "stdout",
     "output_type": "stream",
     "text": [
      "time: 304 µs (started: 2021-02-25 12:17:10 +09:00)\n"
     ]
    }
   ],
   "source": [
    "model_v4 = model"
   ]
  },
  {
   "cell_type": "markdown",
   "id": "designing-ranch",
   "metadata": {},
   "source": [
    "- 모델 불러오기"
   ]
  },
  {
   "cell_type": "code",
   "execution_count": 119,
   "id": "noticed-growth",
   "metadata": {},
   "outputs": [
    {
     "name": "stdout",
     "output_type": "stream",
     "text": [
      "WARNING:tensorflow:Layer lstm will not use cuDNN kernel since it doesn't meet the cuDNN kernel criteria. It will use generic GPU kernel as fallback when running on GPU\n",
      "WARNING:tensorflow:Layer lstm_1 will not use cuDNN kernel since it doesn't meet the cuDNN kernel criteria. It will use generic GPU kernel as fallback when running on GPU\n",
      "WARNING:tensorflow:Layer lstm_2 will not use cuDNN kernel since it doesn't meet the cuDNN kernel criteria. It will use generic GPU kernel as fallback when running on GPU\n",
      "WARNING:tensorflow:Layer lstm_3 will not use cuDNN kernel since it doesn't meet the cuDNN kernel criteria. It will use generic GPU kernel as fallback when running on GPU\n",
      "time: 1.2 s (started: 2021-02-25 13:20:12 +09:00)\n"
     ]
    }
   ],
   "source": [
    "from tensorflow.keras.models import load_model\n",
    "from attention import AttentionLayer\n",
    "\n",
    "model = load_model(f'{workspace_path}/model_3.h5', custom_objects={'AttentionLayer':AttentionLayer})"
   ]
  },
  {
   "cell_type": "markdown",
   "id": "abstract-toddler",
   "metadata": {},
   "source": [
    "## STEP 4. 실제 결과와 요약문 비교하기 (추상적 요약)\n",
    "---"
   ]
  },
  {
   "cell_type": "markdown",
   "id": "lovely-annual",
   "metadata": {},
   "source": [
    "### 인퍼런스 모델 생성"
   ]
  },
  {
   "cell_type": "markdown",
   "id": "improved-elite",
   "metadata": {},
   "source": [
    "- 데이터 복원을 위한 사전 정의"
   ]
  },
  {
   "cell_type": "code",
   "execution_count": 73,
   "id": "fifteen-payroll",
   "metadata": {},
   "outputs": [
    {
     "name": "stdout",
     "output_type": "stream",
     "text": [
      "time: 636 µs (started: 2021-02-25 22:12:28 +09:00)\n"
     ]
    }
   ],
   "source": [
    "src_index_to_word = src_tokenizer.index_word # 원문 단어 집합에서 정수 -> 단어를 얻음\n",
    "tar_word_to_index = tar_tokenizer.word_index # 요약 단어 집합에서 단어 -> 정수를 얻음\n",
    "tar_index_to_word = tar_tokenizer.index_word # 요약 단어 집합에서 정수 -> 단어를 얻음"
   ]
  },
  {
   "cell_type": "markdown",
   "id": "instrumental-welcome",
   "metadata": {},
   "source": [
    "- 인퍼런스 모델 설계"
   ]
  },
  {
   "cell_type": "code",
   "execution_count": 74,
   "id": "smart-average",
   "metadata": {},
   "outputs": [
    {
     "name": "stdout",
     "output_type": "stream",
     "text": [
      "time: 373 ms (started: 2021-02-25 22:12:28 +09:00)\n"
     ]
    }
   ],
   "source": [
    "# 인코더 설계\n",
    "encoder_model = Model(inputs=encoder_inputs, outputs=[encoder_outputs, state_h, state_c])\n",
    "\n",
    "# 이전 시점의 상태들을 저장하는 텐서\n",
    "decoder_state_input_h = Input(shape=(hidden_size,))\n",
    "decoder_state_input_c = Input(shape=(hidden_size,))\n",
    "\n",
    "dec_emb2 = dec_emb_layer(decoder_inputs)\n",
    "# 문장의 다음 단어를 예측하기 위해서 초기 상태(initial_state)를 이전 시점의 상태로 사용. 이는 뒤의 함수 decode_sequence()에 구현\n",
    "# 훈련 과정에서와 달리 LSTM의 리턴하는 은닉 상태와 셀 상태인 state_h와 state_c를 버리지 않음.\n",
    "decoder_outputs2, state_h2, state_c2 = decoder_lstm(dec_emb2, initial_state=[decoder_state_input_h, decoder_state_input_c])\n",
    "\n",
    "# 어텐션 함수\n",
    "decoder_hidden_state_input = Input(shape=(text_max_len, hidden_size))\n",
    "attn_out_inf, attn_states_inf = attn_layer([decoder_hidden_state_input, decoder_outputs2])\n",
    "decoder_inf_concat = Concatenate(axis=-1, name='concat')([decoder_outputs2, attn_out_inf])\n",
    "\n",
    "# 디코더의 출력층\n",
    "decoder_outputs2 = decoder_softmax_layer(decoder_inf_concat) \n",
    "\n",
    "# 최종 디코더 모델\n",
    "decoder_model = Model(\n",
    "    [decoder_inputs] + [decoder_hidden_state_input,decoder_state_input_h, decoder_state_input_c],\n",
    "    [decoder_outputs2] + [state_h2, state_c2])"
   ]
  },
  {
   "cell_type": "markdown",
   "id": "contemporary-ordering",
   "metadata": {},
   "source": [
    "- 인퍼런스 단계에서 단어 스퀀스를 완성하는 함수"
   ]
  },
  {
   "cell_type": "code",
   "execution_count": 75,
   "id": "ranging-barcelona",
   "metadata": {},
   "outputs": [
    {
     "name": "stdout",
     "output_type": "stream",
     "text": [
      "time: 1.14 ms (started: 2021-02-25 22:12:29 +09:00)\n"
     ]
    }
   ],
   "source": [
    "def decode_sequence(input_seq):\n",
    "    # 입력으로부터 인코더의 상태를 얻음\n",
    "    e_out, e_h, e_c = encoder_model.predict(input_seq)\n",
    "\n",
    "     # <SOS>에 해당하는 토큰 생성\n",
    "    target_seq = np.zeros((1,1))\n",
    "    target_seq[0, 0] = tar_word_to_index['sostoken']\n",
    "\n",
    "    stop_condition = False\n",
    "    decoded_sentence = ''\n",
    "    while not stop_condition: # stop_condition이 True가 될 때까지 루프 반복\n",
    "\n",
    "        output_tokens, h, c = decoder_model.predict([target_seq] + [e_out, e_h, e_c])\n",
    "        sampled_token_index = np.argmax(output_tokens[0, -1, :])\n",
    "        sampled_token = tar_index_to_word[sampled_token_index]\n",
    "\n",
    "        if(sampled_token!='eostoken'):\n",
    "            decoded_sentence += ' '+sampled_token\n",
    "\n",
    "        #  <eos>에 도달하거나 최대 길이를 넘으면 중단.\n",
    "        if (sampled_token == 'eostoken'  or len(decoded_sentence.split()) >= (summary_max_len-1)):\n",
    "            stop_condition = True\n",
    "\n",
    "        # 길이가 1인 타겟 시퀀스를 업데이트\n",
    "        target_seq = np.zeros((1,1))\n",
    "        target_seq[0, 0] = sampled_token_index\n",
    "\n",
    "        # 상태를 업데이트 합니다.\n",
    "        e_h, e_c = h, c\n",
    "                \n",
    "    return decoded_sentence"
   ]
  },
  {
   "cell_type": "markdown",
   "id": "spatial-knitting",
   "metadata": {},
   "source": [
    "### 추상적 요약 진행"
   ]
  },
  {
   "cell_type": "code",
   "execution_count": 76,
   "id": "dried-prediction",
   "metadata": {},
   "outputs": [
    {
     "name": "stdout",
     "output_type": "stream",
     "text": [
      "time: 930 µs (started: 2021-02-25 22:12:29 +09:00)\n"
     ]
    }
   ],
   "source": [
    "# 원문의 정수 시퀀스를 텍스트 시퀀스로 변환\n",
    "def seq2text(input_seq):\n",
    "    temp=''\n",
    "    for i in input_seq:\n",
    "        if(i!=0):\n",
    "            temp = temp + src_index_to_word[i]+' '\n",
    "    return temp\n",
    "\n",
    "# 요약문의 정수 시퀀스를 텍스트 시퀀스로 변환\n",
    "def seq2summary(input_seq):\n",
    "    temp=''\n",
    "    for i in input_seq:\n",
    "        if((i!=0 and i!=tar_word_to_index['sostoken']) and i!=tar_word_to_index['eostoken']):\n",
    "            temp = temp + tar_index_to_word[i] + ' '\n",
    "    return temp"
   ]
  },
  {
   "cell_type": "markdown",
   "id": "searching-lightweight",
   "metadata": {},
   "source": [
    "- 요약 성능 평가를 위하여 ROUGE F1 score를 도입한다."
   ]
  },
  {
   "cell_type": "code",
   "execution_count": 77,
   "id": "considered-lecture",
   "metadata": {},
   "outputs": [
    {
     "name": "stdout",
     "output_type": "stream",
     "text": [
      "time: 961 µs (started: 2021-02-25 22:12:34 +09:00)\n"
     ]
    }
   ],
   "source": [
    "from functools import reduce\n",
    "def count_overlapped_words(str1, str2):\n",
    "    str1_unique_words = set(str1.split())\n",
    "    return reduce(lambda acc, cur: acc+1 if cur in str1_unique_words else acc, \\\n",
    "                  str2.split(), 0)"
   ]
  },
  {
   "cell_type": "code",
   "execution_count": 78,
   "id": "understood-phoenix",
   "metadata": {},
   "outputs": [
    {
     "name": "stdout",
     "output_type": "stream",
     "text": [
      "time: 770 µs (started: 2021-02-25 22:12:35 +09:00)\n"
     ]
    }
   ],
   "source": [
    "def get_rouge_f1_score(refer_summary, system_summary):\n",
    "    refer_summary = refer_summary.strip()\n",
    "    system_summary = system_summary.strip()\n",
    "    \n",
    "    if not refer_summary or not system_summary:\n",
    "        return -1\n",
    "    \n",
    "    number_of_overlapped_words = count_overlapped_words(refer_summary, system_summary)\n",
    "\n",
    "    # recall\n",
    "    # number_of_overlapped_words / total_words_in_reference_summary\n",
    "    recall = number_of_overlapped_words / len(refer_summary.split())\n",
    "    \n",
    "    \n",
    "    # precision\n",
    "    # number_of_overlapped_words / total_words_in_system_summay\n",
    "    precision = number_of_overlapped_words / len(system_summary.split())\n",
    "    \n",
    "    if recall == 0 and precision == 0:\n",
    "        return 0 \n",
    "    \n",
    "    # f1\n",
    "    # 2 * (precision * recall) / (precision + recall)\n",
    "    try:\n",
    "        f1 = 2 * (precision * recall) / (precision + recall)\n",
    "    except ZeroDivisionError:\n",
    "        f1 = 0\n",
    "        \n",
    "    return f1"
   ]
  },
  {
   "cell_type": "markdown",
   "id": "rolled-catalog",
   "metadata": {},
   "source": [
    "- 테스트 셋에 대한 rouge f1 계산"
   ]
  },
  {
   "cell_type": "code",
   "execution_count": 80,
   "id": "separate-thing",
   "metadata": {},
   "outputs": [
    {
     "name": "stdout",
     "output_type": "stream",
     "text": [
      "[   1 1453  528  801   92   93  196    4 9694    0    0]\n",
      "[[   12   130   474 14399 10888  2171  1272  1420   323  8753    55    84\n",
      "    257  2348   585 17904  3476    74     1   976  1890   611  5154  1193\n",
      "   2181  1602   585   950  2082 11840  1565     0     0     0     0     0\n",
      "      0     0     0     0]]\n",
      "time: 1.02 ms (started: 2021-02-25 22:12:43 +09:00)\n"
     ]
    }
   ],
   "source": [
    "print(decoder_input_test[0])\n",
    "print(encoder_input_test[0].reshape(1, text_max_len))"
   ]
  },
  {
   "cell_type": "code",
   "execution_count": 56,
   "id": "sunrise-flush",
   "metadata": {},
   "outputs": [
    {
     "name": "stderr",
     "output_type": "stream",
     "text": [
      "100%|██████████| 17168/17168 [2:07:32<00:00,  2.24it/s]  "
     ]
    },
    {
     "name": "stdout",
     "output_type": "stream",
     "text": [
      "ROUGE F1 SCORE : 0.2810423389849427\n",
      "time: 2h 7min 32s (started: 2021-02-25 14:51:09 +09:00)\n"
     ]
    },
    {
     "name": "stderr",
     "output_type": "stream",
     "text": [
      "\n"
     ]
    }
   ],
   "source": [
    "from tqdm import tqdm\n",
    "\n",
    "f1_acc = 0\n",
    "\n",
    "for i in tqdm(range(len(encoder_input_test))):\n",
    "    refer_summary = seq2summary(decoder_input_test[i])\n",
    "    system_summary = decode_sequence(encoder_input_test[i].reshape(1, text_max_len))\n",
    "    f1_score = get_rouge_f1_score(refer_summary, system_summary)\n",
    "    f1_acc += f1_score\n",
    "    \n",
    "abstrace_rouge_f1_score = f1_acc / len(encoder_input_test)\n",
    "print(f'ROUGE F1 SCORE : {abstrace_rouge_f1_score}')"
   ]
  },
  {
   "cell_type": "markdown",
   "id": "german-sector",
   "metadata": {},
   "source": [
    "- 랜덤한 샘플 추출"
   ]
  },
  {
   "cell_type": "code",
   "execution_count": 96,
   "id": "derived-planning",
   "metadata": {},
   "outputs": [
    {
     "name": "stdout",
     "output_type": "stream",
     "text": [
      "time: 592 µs (started: 2021-02-25 22:22:40 +09:00)\n"
     ]
    }
   ],
   "source": [
    "import random\n",
    "idxs = random.sample(range(0, len(encoder_input_test)), 20)\n",
    "\n",
    "def get_summary_report_form():\n",
    "    return {\n",
    "        'raw' : \"\",\n",
    "        'reference' : \"\",\n",
    "        'abstract' : \"\",\n",
    "        'f1_abstract' : 0,\n",
    "        'extract' : \"\",\n",
    "        'f1_extract': 0\n",
    "    }"
   ]
  },
  {
   "cell_type": "code",
   "execution_count": 97,
   "id": "recorded-mainstream",
   "metadata": {},
   "outputs": [
    {
     "name": "stderr",
     "output_type": "stream",
     "text": [
      "100%|██████████| 20/20 [00:07<00:00,  2.68it/s]"
     ]
    },
    {
     "name": "stdout",
     "output_type": "stream",
     "text": [
      "time: 7.45 s (started: 2021-02-25 22:22:41 +09:00)\n"
     ]
    },
    {
     "name": "stderr",
     "output_type": "stream",
     "text": [
      "\n"
     ]
    }
   ],
   "source": [
    "from tqdm import tqdm\n",
    "\n",
    "summary_report = []\n",
    "\n",
    "for i in tqdm(idxs):\n",
    "    preprocessed = seq2text(encoder_input_test[i])\n",
    "    refer_summary = seq2summary(decoder_input_test[i])\n",
    "    system_summary = decode_sequence(encoder_input_test[i].reshape(1, text_max_len))\n",
    "    f1_score = get_rouge_f1_score(refer_summary, system_summary)\n",
    "    \n",
    "    report_form = get_summary_report_form()\n",
    "    report_form['raw'] = raw_test[i]\n",
    "    report_form['reference'] = refer_summary\n",
    "    report_form['abstract'] = system_summary\n",
    "    report_form['f1_abstract'] = f1_score\n",
    "    \n",
    "    summary_report.append(report_form)"
   ]
  },
  {
   "cell_type": "markdown",
   "id": "happy-glance",
   "metadata": {},
   "source": [
    "- 혹시 모를 경우를 대비햐여 `summary_report`를 pickle로 저장해두자."
   ]
  },
  {
   "cell_type": "code",
   "execution_count": 148,
   "id": "statewide-reward",
   "metadata": {},
   "outputs": [
    {
     "name": "stdout",
     "output_type": "stream",
     "text": [
      "time: 1.08 ms (started: 2021-02-25 18:09:54 +09:00)\n"
     ]
    }
   ],
   "source": [
    "import pickle\n",
    "\n",
    "with open(workspace_path + \"/summary_report/report_1.pickle\",\"wb\") as fw:\n",
    "    pickle.dump(summary_report, fw)"
   ]
  },
  {
   "cell_type": "code",
   "execution_count": 364,
   "id": "former-disease",
   "metadata": {},
   "outputs": [
    {
     "data": {
      "text/plain": [
       "{'raw': '',\n",
       " 'reference': 'no change in law for visa system remains the same us ',\n",
       " 'abstract': ' us state secy calls for us president trump',\n",
       " 'f1_abstract': 0.3157894736842105,\n",
       " 'extract': '',\n",
       " 'f1_extract': 0}"
      ]
     },
     "execution_count": 364,
     "metadata": {},
     "output_type": "execute_result"
    },
    {
     "name": "stdout",
     "output_type": "stream",
     "text": [
      "time: 2.23 ms (started: 2021-02-25 21:15:32 +09:00)\n"
     ]
    }
   ],
   "source": [
    "with open(workspace_path + \"/summary_report/report_1.pickle\",\"rb\") as fr:\n",
    "    pickle_load_test = pickle.load(fr)\n",
    "pickle_load_test[3]"
   ]
  },
  {
   "cell_type": "markdown",
   "id": "under-complement",
   "metadata": {},
   "source": [
    "## STEP 5. Summa을 이용해서 추출적 요약해보기\n",
    "---"
   ]
  },
  {
   "cell_type": "markdown",
   "id": "wired-citizenship",
   "metadata": {},
   "source": [
    "- 실험 결과 `summa.summarizer.summarize`는 전처리된 문장에 대해서는 요약을 제대로 수행하지 못하였다. 이에 대한 대안으로 정제되지 않은 원본 데이터를 요약에 사용하였고 정상적으로 함수가 작동하는 것을 확인할 수 있었다."
   ]
  },
  {
   "cell_type": "code",
   "execution_count": 100,
   "id": "dutch-austria",
   "metadata": {},
   "outputs": [
    {
     "name": "stderr",
     "output_type": "stream",
     "text": [
      "100%|██████████| 17168/17168 [01:56<00:00, 147.51it/s]"
     ]
    },
    {
     "name": "stdout",
     "output_type": "stream",
     "text": [
      "ROUGE F1 SCORE : 0.1839122049345609\n",
      "Summary Failure : 2.4347623485554517\n",
      "time: 1min 56s (started: 2021-02-25 22:26:56 +09:00)\n"
     ]
    },
    {
     "name": "stderr",
     "output_type": "stream",
     "text": [
      "\n"
     ]
    }
   ],
   "source": [
    "from summa.summarizer import summarize\n",
    "\n",
    "summarized_str = 0\n",
    "f1_acc = 0\n",
    "summarize_fail_cnt = 0\n",
    "\n",
    "for i in tqdm(range(len(encoder_input_test))):\n",
    "    raw = raw_test[i]\n",
    "    \n",
    "    ratio = 0.2\n",
    "    summarized_str = summarize(raw, ratio=ratio)\n",
    "    while ratio < 7 and not summarized_str:\n",
    "        ratio += 0.05\n",
    "        summarized_str = summarize(raw, ratio=ratio)\n",
    "    \n",
    "    if not summarized_str:\n",
    "        summarize_fail_cnt += 1\n",
    "        \n",
    "    refer_summary = seq2summary(decoder_input_test[i])\n",
    "    f1_score = get_rouge_f1_score(refer_summary, summarized_str)\n",
    "    if f1_score > 0 : f1_acc += f1_score\n",
    "\n",
    "    \n",
    "summary_rouge_f1_score = f1_acc / len(encoder_input_test)\n",
    "print(f'ROUGE F1 SCORE : {summary_rouge_f1_score}')\n",
    "print(f'Summary Failure : {(summarize_fail_cnt / len(encoder_input_test))*100}')"
   ]
  },
  {
   "cell_type": "markdown",
   "id": "supreme-blair",
   "metadata": {},
   "source": [
    "- summary_report update"
   ]
  },
  {
   "cell_type": "code",
   "execution_count": 119,
   "id": "gross-realtor",
   "metadata": {},
   "outputs": [
    {
     "name": "stderr",
     "output_type": "stream",
     "text": [
      "100%|██████████| 20/20 [00:00<00:00, 220.29it/s]"
     ]
    },
    {
     "name": "stdout",
     "output_type": "stream",
     "text": [
      "time: 92.9 ms (started: 2021-02-25 22:51:57 +09:00)\n"
     ]
    },
    {
     "name": "stderr",
     "output_type": "stream",
     "text": [
      "\n"
     ]
    }
   ],
   "source": [
    "for i in tqdm(range(len(summary_report))):\n",
    "    ratio = 0.2\n",
    "    summarized_str = summarize(summary_report[i]['raw'], ratio=ratio)\n",
    "    while ratio < 7 and not summarized_str:\n",
    "        ratio += 0.05\n",
    "        summarized_str = summarize(summary_report[i]['raw'], ratio=ratio)\n",
    "        \n",
    "    refer_summary = seq2summary(decoder_input_test[i])\n",
    "    f1_score = get_rouge_f1_score(summary_report[i]['reference'], summarized_str)\n",
    "    \n",
    "    summary_report[i]['extract'] = summarized_str\n",
    "    summary_report[i]['f1_extract'] = f1_score"
   ]
  },
  {
   "cell_type": "markdown",
   "id": "minus-transaction",
   "metadata": {},
   "source": [
    "## STEP 6. 추상적 요약 vs 추출적 요약\n",
    "---"
   ]
  },
  {
   "cell_type": "code",
   "execution_count": 121,
   "id": "cosmetic-reggae",
   "metadata": {},
   "outputs": [
    {
     "data": {
      "text/html": [
       "<style  type=\"text/css\" >\n",
       "    #T_ac097884_7770_11eb_be28_b0a46081bac8 th {\n",
       "          text-align: left;\n",
       "    }#T_ac097884_7770_11eb_be28_b0a46081bac8row0_col0,#T_ac097884_7770_11eb_be28_b0a46081bac8row1_col0,#T_ac097884_7770_11eb_be28_b0a46081bac8row2_col0,#T_ac097884_7770_11eb_be28_b0a46081bac8row3_col0,#T_ac097884_7770_11eb_be28_b0a46081bac8row4_col0,#T_ac097884_7770_11eb_be28_b0a46081bac8row5_col0{\n",
       "            text-align:  left;\n",
       "        }</style><table id=\"T_ac097884_7770_11eb_be28_b0a46081bac8\" ><thead>    <tr>        <th class=\"blank level0\" ></th>        <th class=\"col_heading level0 col0\" >0</th>    </tr></thead><tbody>\n",
       "                <tr>\n",
       "                        <th id=\"T_ac097884_7770_11eb_be28_b0a46081bac8level0_row0\" class=\"row_heading level0 row0\" >raw</th>\n",
       "                        <td id=\"T_ac097884_7770_11eb_be28_b0a46081bac8row0_col0\" class=\"data row0 col0\" >Radhika Apte has revealed she had to engage in phone sex during her audition for the film 'Dev D'. \"By that time I never had phone sex and...I had to do it in front of everybody,\" she added while talking about her \"craziest audition\". However, Radhika said it was \"great\" auditioning for the film even though she didn't get selected.</td>\n",
       "            </tr>\n",
       "            <tr>\n",
       "                        <th id=\"T_ac097884_7770_11eb_be28_b0a46081bac8level0_row1\" class=\"row_heading level0 row1\" >reference</th>\n",
       "                        <td id=\"T_ac097884_7770_11eb_be28_b0a46081bac8row1_col0\" class=\"data row1 col0\" >had to in phone sex during dev audition radhika </td>\n",
       "            </tr>\n",
       "            <tr>\n",
       "                        <th id=\"T_ac097884_7770_11eb_be28_b0a46081bac8level0_row2\" class=\"row_heading level0 row2\" >abstract</th>\n",
       "                        <td id=\"T_ac097884_7770_11eb_be28_b0a46081bac8row2_col0\" class=\"data row2 col0\" > was sexually harassed by producer on nude scene</td>\n",
       "            </tr>\n",
       "            <tr>\n",
       "                        <th id=\"T_ac097884_7770_11eb_be28_b0a46081bac8level0_row3\" class=\"row_heading level0 row3\" >f1_abstract</th>\n",
       "                        <td id=\"T_ac097884_7770_11eb_be28_b0a46081bac8row3_col0\" class=\"data row3 col0\" >0</td>\n",
       "            </tr>\n",
       "            <tr>\n",
       "                        <th id=\"T_ac097884_7770_11eb_be28_b0a46081bac8level0_row4\" class=\"row_heading level0 row4\" >extract</th>\n",
       "                        <td id=\"T_ac097884_7770_11eb_be28_b0a46081bac8row4_col0\" class=\"data row4 col0\" >Radhika Apte has revealed she had to engage in phone sex during her audition for the film 'Dev D'.</td>\n",
       "            </tr>\n",
       "            <tr>\n",
       "                        <th id=\"T_ac097884_7770_11eb_be28_b0a46081bac8level0_row5\" class=\"row_heading level0 row5\" >f1_extract</th>\n",
       "                        <td id=\"T_ac097884_7770_11eb_be28_b0a46081bac8row5_col0\" class=\"data row5 col0\" >0.500000</td>\n",
       "            </tr>\n",
       "    </tbody></table>"
      ],
      "text/plain": [
       "<pandas.io.formats.style.Styler at 0x7ff742da9850>"
      ]
     },
     "metadata": {},
     "output_type": "display_data"
    },
    {
     "data": {
      "text/html": [
       "<style  type=\"text/css\" >\n",
       "    #T_ac0a7784_7770_11eb_be28_b0a46081bac8 th {\n",
       "          text-align: left;\n",
       "    }#T_ac0a7784_7770_11eb_be28_b0a46081bac8row0_col0,#T_ac0a7784_7770_11eb_be28_b0a46081bac8row1_col0,#T_ac0a7784_7770_11eb_be28_b0a46081bac8row2_col0,#T_ac0a7784_7770_11eb_be28_b0a46081bac8row3_col0,#T_ac0a7784_7770_11eb_be28_b0a46081bac8row4_col0,#T_ac0a7784_7770_11eb_be28_b0a46081bac8row5_col0{\n",
       "            text-align:  left;\n",
       "        }</style><table id=\"T_ac0a7784_7770_11eb_be28_b0a46081bac8\" ><thead>    <tr>        <th class=\"blank level0\" ></th>        <th class=\"col_heading level0 col0\" >1</th>    </tr></thead><tbody>\n",
       "                <tr>\n",
       "                        <th id=\"T_ac0a7784_7770_11eb_be28_b0a46081bac8level0_row0\" class=\"row_heading level0 row0\" >raw</th>\n",
       "                        <td id=\"T_ac0a7784_7770_11eb_be28_b0a46081bac8row0_col0\" class=\"data row0 col0\" >French tennis player Benoit Paire smashed three racquets in his loss to Cyprus' Marcos Baghdatis in their Citi Open match on Tuesday. After falling down at the end of a point in the match, Paire sat on the court and smashed his racquet four times on the court. At one point, Baghdatis went over to Paire to talk to him.</td>\n",
       "            </tr>\n",
       "            <tr>\n",
       "                        <th id=\"T_ac0a7784_7770_11eb_be28_b0a46081bac8level0_row1\" class=\"row_heading level0 row1\" >reference</th>\n",
       "                        <td id=\"T_ac0a7784_7770_11eb_be28_b0a46081bac8row1_col0\" class=\"data row1 col0\" >french tennis player smashes in one match </td>\n",
       "            </tr>\n",
       "            <tr>\n",
       "                        <th id=\"T_ac0a7784_7770_11eb_be28_b0a46081bac8level0_row2\" class=\"row_heading level0 row2\" >abstract</th>\n",
       "                        <td id=\"T_ac0a7784_7770_11eb_be28_b0a46081bac8row2_col0\" class=\"data row2 col0\" > player once played out of match during match match</td>\n",
       "            </tr>\n",
       "            <tr>\n",
       "                        <th id=\"T_ac0a7784_7770_11eb_be28_b0a46081bac8level0_row3\" class=\"row_heading level0 row3\" >f1_abstract</th>\n",
       "                        <td id=\"T_ac0a7784_7770_11eb_be28_b0a46081bac8row3_col0\" class=\"data row3 col0\" >0.500000</td>\n",
       "            </tr>\n",
       "            <tr>\n",
       "                        <th id=\"T_ac0a7784_7770_11eb_be28_b0a46081bac8level0_row4\" class=\"row_heading level0 row4\" >extract</th>\n",
       "                        <td id=\"T_ac0a7784_7770_11eb_be28_b0a46081bac8row4_col0\" class=\"data row4 col0\" >After falling down at the end of a point in the match, Paire sat on the court and smashed his racquet four times on the court.</td>\n",
       "            </tr>\n",
       "            <tr>\n",
       "                        <th id=\"T_ac0a7784_7770_11eb_be28_b0a46081bac8level0_row5\" class=\"row_heading level0 row5\" >f1_extract</th>\n",
       "                        <td id=\"T_ac0a7784_7770_11eb_be28_b0a46081bac8row5_col0\" class=\"data row5 col0\" >0.060606</td>\n",
       "            </tr>\n",
       "    </tbody></table>"
      ],
      "text/plain": [
       "<pandas.io.formats.style.Styler at 0x7ff981e10950>"
      ]
     },
     "metadata": {},
     "output_type": "display_data"
    },
    {
     "data": {
      "text/html": [
       "<style  type=\"text/css\" >\n",
       "    #T_ac0b4f06_7770_11eb_be28_b0a46081bac8 th {\n",
       "          text-align: left;\n",
       "    }#T_ac0b4f06_7770_11eb_be28_b0a46081bac8row0_col0,#T_ac0b4f06_7770_11eb_be28_b0a46081bac8row1_col0,#T_ac0b4f06_7770_11eb_be28_b0a46081bac8row2_col0,#T_ac0b4f06_7770_11eb_be28_b0a46081bac8row3_col0,#T_ac0b4f06_7770_11eb_be28_b0a46081bac8row4_col0,#T_ac0b4f06_7770_11eb_be28_b0a46081bac8row5_col0{\n",
       "            text-align:  left;\n",
       "        }</style><table id=\"T_ac0b4f06_7770_11eb_be28_b0a46081bac8\" ><thead>    <tr>        <th class=\"blank level0\" ></th>        <th class=\"col_heading level0 col0\" >2</th>    </tr></thead><tbody>\n",
       "                <tr>\n",
       "                        <th id=\"T_ac0b4f06_7770_11eb_be28_b0a46081bac8level0_row0\" class=\"row_heading level0 row0\" >raw</th>\n",
       "                        <td id=\"T_ac0b4f06_7770_11eb_be28_b0a46081bac8row0_col0\" class=\"data row0 col0\" >Google has launched the 'Two-wheeler' mode on Maps in India, a feature which will show the fastest route and directions to two-wheeler riders to reach their entered destination. The feature will be available alongside the 'Drive', 'Train or Bus', and 'Walk' options. The 'Two-wheeler' mode is currently available on Android smartphones.</td>\n",
       "            </tr>\n",
       "            <tr>\n",
       "                        <th id=\"T_ac0b4f06_7770_11eb_be28_b0a46081bac8level0_row1\" class=\"row_heading level0 row1\" >reference</th>\n",
       "                        <td id=\"T_ac0b4f06_7770_11eb_be28_b0a46081bac8row1_col0\" class=\"data row1 col0\" >google brings two wheeler mode to maps in india </td>\n",
       "            </tr>\n",
       "            <tr>\n",
       "                        <th id=\"T_ac0b4f06_7770_11eb_be28_b0a46081bac8level0_row2\" class=\"row_heading level0 row2\" >abstract</th>\n",
       "                        <td id=\"T_ac0b4f06_7770_11eb_be28_b0a46081bac8row2_col0\" class=\"data row2 col0\" > google maps to launch india location in maps</td>\n",
       "            </tr>\n",
       "            <tr>\n",
       "                        <th id=\"T_ac0b4f06_7770_11eb_be28_b0a46081bac8level0_row3\" class=\"row_heading level0 row3\" >f1_abstract</th>\n",
       "                        <td id=\"T_ac0b4f06_7770_11eb_be28_b0a46081bac8row3_col0\" class=\"data row3 col0\" >0.705882</td>\n",
       "            </tr>\n",
       "            <tr>\n",
       "                        <th id=\"T_ac0b4f06_7770_11eb_be28_b0a46081bac8level0_row4\" class=\"row_heading level0 row4\" >extract</th>\n",
       "                        <td id=\"T_ac0b4f06_7770_11eb_be28_b0a46081bac8row4_col0\" class=\"data row4 col0\" >The 'Two-wheeler' mode is currently available on Android smartphones.</td>\n",
       "            </tr>\n",
       "            <tr>\n",
       "                        <th id=\"T_ac0b4f06_7770_11eb_be28_b0a46081bac8level0_row5\" class=\"row_heading level0 row5\" >f1_extract</th>\n",
       "                        <td id=\"T_ac0b4f06_7770_11eb_be28_b0a46081bac8row5_col0\" class=\"data row5 col0\" >0.111111</td>\n",
       "            </tr>\n",
       "    </tbody></table>"
      ],
      "text/plain": [
       "<pandas.io.formats.style.Styler at 0x7ff742db4290>"
      ]
     },
     "metadata": {},
     "output_type": "display_data"
    },
    {
     "data": {
      "text/html": [
       "<style  type=\"text/css\" >\n",
       "    #T_ac0c11ca_7770_11eb_be28_b0a46081bac8 th {\n",
       "          text-align: left;\n",
       "    }#T_ac0c11ca_7770_11eb_be28_b0a46081bac8row0_col0,#T_ac0c11ca_7770_11eb_be28_b0a46081bac8row1_col0,#T_ac0c11ca_7770_11eb_be28_b0a46081bac8row2_col0,#T_ac0c11ca_7770_11eb_be28_b0a46081bac8row3_col0,#T_ac0c11ca_7770_11eb_be28_b0a46081bac8row4_col0,#T_ac0c11ca_7770_11eb_be28_b0a46081bac8row5_col0{\n",
       "            text-align:  left;\n",
       "        }</style><table id=\"T_ac0c11ca_7770_11eb_be28_b0a46081bac8\" ><thead>    <tr>        <th class=\"blank level0\" ></th>        <th class=\"col_heading level0 col0\" >3</th>    </tr></thead><tbody>\n",
       "                <tr>\n",
       "                        <th id=\"T_ac0c11ca_7770_11eb_be28_b0a46081bac8level0_row0\" class=\"row_heading level0 row0\" >raw</th>\n",
       "                        <td id=\"T_ac0c11ca_7770_11eb_be28_b0a46081bac8row0_col0\" class=\"data row0 col0\" >Online retailer Asos has been trolled by social media users for introducing a pair of 'buttless jeans'. A user tweeted, \"One question...... why?\" \"May as well not bother wearing them,\" commented another user. \"Asos what are you thinking? Maybe you're not thinking very well,\" read another comment. Meanwhile, another user wrote, \"Why wear anything?\"</td>\n",
       "            </tr>\n",
       "            <tr>\n",
       "                        <th id=\"T_ac0c11ca_7770_11eb_be28_b0a46081bac8level0_row1\" class=\"row_heading level0 row1\" >reference</th>\n",
       "                        <td id=\"T_ac0c11ca_7770_11eb_be28_b0a46081bac8row1_col0\" class=\"data row1 col0\" >trolled for jeans </td>\n",
       "            </tr>\n",
       "            <tr>\n",
       "                        <th id=\"T_ac0c11ca_7770_11eb_be28_b0a46081bac8level0_row2\" class=\"row_heading level0 row2\" >abstract</th>\n",
       "                        <td id=\"T_ac0c11ca_7770_11eb_be28_b0a46081bac8row2_col0\" class=\"data row2 col0\" > twitter users react to show videos of making users</td>\n",
       "            </tr>\n",
       "            <tr>\n",
       "                        <th id=\"T_ac0c11ca_7770_11eb_be28_b0a46081bac8level0_row3\" class=\"row_heading level0 row3\" >f1_abstract</th>\n",
       "                        <td id=\"T_ac0c11ca_7770_11eb_be28_b0a46081bac8row3_col0\" class=\"data row3 col0\" >0</td>\n",
       "            </tr>\n",
       "            <tr>\n",
       "                        <th id=\"T_ac0c11ca_7770_11eb_be28_b0a46081bac8level0_row4\" class=\"row_heading level0 row4\" >extract</th>\n",
       "                        <td id=\"T_ac0c11ca_7770_11eb_be28_b0a46081bac8row4_col0\" class=\"data row4 col0\" >why?\" \"May as well not bother wearing them,\" commented another user.</td>\n",
       "            </tr>\n",
       "            <tr>\n",
       "                        <th id=\"T_ac0c11ca_7770_11eb_be28_b0a46081bac8level0_row5\" class=\"row_heading level0 row5\" >f1_extract</th>\n",
       "                        <td id=\"T_ac0c11ca_7770_11eb_be28_b0a46081bac8row5_col0\" class=\"data row5 col0\" >0</td>\n",
       "            </tr>\n",
       "    </tbody></table>"
      ],
      "text/plain": [
       "<pandas.io.formats.style.Styler at 0x7ff981641bd0>"
      ]
     },
     "metadata": {},
     "output_type": "display_data"
    },
    {
     "data": {
      "text/html": [
       "<style  type=\"text/css\" >\n",
       "    #T_ac0cd6b4_7770_11eb_be28_b0a46081bac8 th {\n",
       "          text-align: left;\n",
       "    }#T_ac0cd6b4_7770_11eb_be28_b0a46081bac8row0_col0,#T_ac0cd6b4_7770_11eb_be28_b0a46081bac8row1_col0,#T_ac0cd6b4_7770_11eb_be28_b0a46081bac8row2_col0,#T_ac0cd6b4_7770_11eb_be28_b0a46081bac8row3_col0,#T_ac0cd6b4_7770_11eb_be28_b0a46081bac8row4_col0,#T_ac0cd6b4_7770_11eb_be28_b0a46081bac8row5_col0{\n",
       "            text-align:  left;\n",
       "        }</style><table id=\"T_ac0cd6b4_7770_11eb_be28_b0a46081bac8\" ><thead>    <tr>        <th class=\"blank level0\" ></th>        <th class=\"col_heading level0 col0\" >4</th>    </tr></thead><tbody>\n",
       "                <tr>\n",
       "                        <th id=\"T_ac0cd6b4_7770_11eb_be28_b0a46081bac8level0_row0\" class=\"row_heading level0 row0\" >raw</th>\n",
       "                        <td id=\"T_ac0cd6b4_7770_11eb_be28_b0a46081bac8row0_col0\" class=\"data row0 col0\" >A 25-year-old man kidnapped and killed his 17-year-old cousin for a ranson of Ã¢ÂÂ¹1 crore. The accused had lured his cousin by promising to buy him a computer game and later also tried convincing the boy's father to not inform the police. However, the father called the police, following which the man ordered his aides to kill the boy.</td>\n",
       "            </tr>\n",
       "            <tr>\n",
       "                        <th id=\"T_ac0cd6b4_7770_11eb_be28_b0a46081bac8level0_row1\" class=\"row_heading level0 row1\" >reference</th>\n",
       "                        <td id=\"T_ac0cd6b4_7770_11eb_be28_b0a46081bac8row1_col0\" class=\"data row1 col0\" >man and kills minor cousin for crore ransom </td>\n",
       "            </tr>\n",
       "            <tr>\n",
       "                        <th id=\"T_ac0cd6b4_7770_11eb_be28_b0a46081bac8level0_row2\" class=\"row_heading level0 row2\" >abstract</th>\n",
       "                        <td id=\"T_ac0cd6b4_7770_11eb_be28_b0a46081bac8row2_col0\" class=\"data row2 col0\" > year old man killed by buy men for cr</td>\n",
       "            </tr>\n",
       "            <tr>\n",
       "                        <th id=\"T_ac0cd6b4_7770_11eb_be28_b0a46081bac8level0_row3\" class=\"row_heading level0 row3\" >f1_abstract</th>\n",
       "                        <td id=\"T_ac0cd6b4_7770_11eb_be28_b0a46081bac8row3_col0\" class=\"data row3 col0\" >0.235294</td>\n",
       "            </tr>\n",
       "            <tr>\n",
       "                        <th id=\"T_ac0cd6b4_7770_11eb_be28_b0a46081bac8level0_row4\" class=\"row_heading level0 row4\" >extract</th>\n",
       "                        <td id=\"T_ac0cd6b4_7770_11eb_be28_b0a46081bac8row4_col0\" class=\"data row4 col0\" >However, the father called the police, following which the man ordered his aides to kill the boy.</td>\n",
       "            </tr>\n",
       "            <tr>\n",
       "                        <th id=\"T_ac0cd6b4_7770_11eb_be28_b0a46081bac8level0_row5\" class=\"row_heading level0 row5\" >f1_extract</th>\n",
       "                        <td id=\"T_ac0cd6b4_7770_11eb_be28_b0a46081bac8row5_col0\" class=\"data row5 col0\" >0.080000</td>\n",
       "            </tr>\n",
       "    </tbody></table>"
      ],
      "text/plain": [
       "<pandas.io.formats.style.Styler at 0x7ff9819a0c50>"
      ]
     },
     "metadata": {},
     "output_type": "display_data"
    },
    {
     "data": {
      "text/html": [
       "<style  type=\"text/css\" >\n",
       "    #T_ac0d9572_7770_11eb_be28_b0a46081bac8 th {\n",
       "          text-align: left;\n",
       "    }#T_ac0d9572_7770_11eb_be28_b0a46081bac8row0_col0,#T_ac0d9572_7770_11eb_be28_b0a46081bac8row1_col0,#T_ac0d9572_7770_11eb_be28_b0a46081bac8row2_col0,#T_ac0d9572_7770_11eb_be28_b0a46081bac8row3_col0,#T_ac0d9572_7770_11eb_be28_b0a46081bac8row4_col0,#T_ac0d9572_7770_11eb_be28_b0a46081bac8row5_col0{\n",
       "            text-align:  left;\n",
       "        }</style><table id=\"T_ac0d9572_7770_11eb_be28_b0a46081bac8\" ><thead>    <tr>        <th class=\"blank level0\" ></th>        <th class=\"col_heading level0 col0\" >5</th>    </tr></thead><tbody>\n",
       "                <tr>\n",
       "                        <th id=\"T_ac0d9572_7770_11eb_be28_b0a46081bac8level0_row0\" class=\"row_heading level0 row0\" >raw</th>\n",
       "                        <td id=\"T_ac0d9572_7770_11eb_be28_b0a46081bac8row0_col0\" class=\"data row0 col0\" >Slamming US President Donald Trump's policy to separate children of illegal immigrants from their families, Nobel Peace Prize laureate Malala Yousafzai described it as \"cruel\". \"This is unfair and this is inhumane. I don't know how anyone could do that,\" she said. Malala further said, \"I hope that the children can be together with their parents.\"</td>\n",
       "            </tr>\n",
       "            <tr>\n",
       "                        <th id=\"T_ac0d9572_7770_11eb_be28_b0a46081bac8level0_row1\" class=\"row_heading level0 row1\" >reference</th>\n",
       "                        <td id=\"T_ac0d9572_7770_11eb_be28_b0a46081bac8row1_col0\" class=\"data row1 col0\" >malala slams trump cruel child separation policy </td>\n",
       "            </tr>\n",
       "            <tr>\n",
       "                        <th id=\"T_ac0d9572_7770_11eb_be28_b0a46081bac8level0_row2\" class=\"row_heading level0 row2\" >abstract</th>\n",
       "                        <td id=\"T_ac0d9572_7770_11eb_be28_b0a46081bac8row2_col0\" class=\"data row2 col0\" > trump defends us prez for calling children</td>\n",
       "            </tr>\n",
       "            <tr>\n",
       "                        <th id=\"T_ac0d9572_7770_11eb_be28_b0a46081bac8level0_row3\" class=\"row_heading level0 row3\" >f1_abstract</th>\n",
       "                        <td id=\"T_ac0d9572_7770_11eb_be28_b0a46081bac8row3_col0\" class=\"data row3 col0\" >0.142857</td>\n",
       "            </tr>\n",
       "            <tr>\n",
       "                        <th id=\"T_ac0d9572_7770_11eb_be28_b0a46081bac8level0_row4\" class=\"row_heading level0 row4\" >extract</th>\n",
       "                        <td id=\"T_ac0d9572_7770_11eb_be28_b0a46081bac8row4_col0\" class=\"data row4 col0\" >Malala further said, \"I hope that the children can be together with their parents.\"</td>\n",
       "            </tr>\n",
       "            <tr>\n",
       "                        <th id=\"T_ac0d9572_7770_11eb_be28_b0a46081bac8level0_row5\" class=\"row_heading level0 row5\" >f1_extract</th>\n",
       "                        <td id=\"T_ac0d9572_7770_11eb_be28_b0a46081bac8row5_col0\" class=\"data row5 col0\" >0</td>\n",
       "            </tr>\n",
       "    </tbody></table>"
      ],
      "text/plain": [
       "<pandas.io.formats.style.Styler at 0x7ff981e10710>"
      ]
     },
     "metadata": {},
     "output_type": "display_data"
    },
    {
     "data": {
      "text/html": [
       "<style  type=\"text/css\" >\n",
       "    #T_ac0e5afc_7770_11eb_be28_b0a46081bac8 th {\n",
       "          text-align: left;\n",
       "    }#T_ac0e5afc_7770_11eb_be28_b0a46081bac8row0_col0,#T_ac0e5afc_7770_11eb_be28_b0a46081bac8row1_col0,#T_ac0e5afc_7770_11eb_be28_b0a46081bac8row2_col0,#T_ac0e5afc_7770_11eb_be28_b0a46081bac8row3_col0,#T_ac0e5afc_7770_11eb_be28_b0a46081bac8row4_col0,#T_ac0e5afc_7770_11eb_be28_b0a46081bac8row5_col0{\n",
       "            text-align:  left;\n",
       "        }</style><table id=\"T_ac0e5afc_7770_11eb_be28_b0a46081bac8\" ><thead>    <tr>        <th class=\"blank level0\" ></th>        <th class=\"col_heading level0 col0\" >6</th>    </tr></thead><tbody>\n",
       "                <tr>\n",
       "                        <th id=\"T_ac0e5afc_7770_11eb_be28_b0a46081bac8level0_row0\" class=\"row_heading level0 row0\" >raw</th>\n",
       "                        <td id=\"T_ac0e5afc_7770_11eb_be28_b0a46081bac8row0_col0\" class=\"data row0 col0\" >Speaking about the controversy around his biography 'An Ordinary Life: A Memoir', actor Nawazuddin Siddiqui said, \"If and when I write something after 10-12 years, I'll write only lies.\" \"I wrote the truth. I wrote about my struggles, my life, the mistakes I made...But it backfired,\" he added. Nawazuddin had revealed personal details about his past relationships in his biography.</td>\n",
       "            </tr>\n",
       "            <tr>\n",
       "                        <th id=\"T_ac0e5afc_7770_11eb_be28_b0a46081bac8level0_row1\" class=\"row_heading level0 row1\" >reference</th>\n",
       "                        <td id=\"T_ac0e5afc_7770_11eb_be28_b0a46081bac8row1_col0\" class=\"data row1 col0\" >will write only lies the next time nawazuddin on biography </td>\n",
       "            </tr>\n",
       "            <tr>\n",
       "                        <th id=\"T_ac0e5afc_7770_11eb_be28_b0a46081bac8level0_row2\" class=\"row_heading level0 row2\" >abstract</th>\n",
       "                        <td id=\"T_ac0e5afc_7770_11eb_be28_b0a46081bac8row2_col0\" class=\"data row2 col0\" > my family is good good actor nawazuddin</td>\n",
       "            </tr>\n",
       "            <tr>\n",
       "                        <th id=\"T_ac0e5afc_7770_11eb_be28_b0a46081bac8level0_row3\" class=\"row_heading level0 row3\" >f1_abstract</th>\n",
       "                        <td id=\"T_ac0e5afc_7770_11eb_be28_b0a46081bac8row3_col0\" class=\"data row3 col0\" >0.117647</td>\n",
       "            </tr>\n",
       "            <tr>\n",
       "                        <th id=\"T_ac0e5afc_7770_11eb_be28_b0a46081bac8level0_row4\" class=\"row_heading level0 row4\" >extract</th>\n",
       "                        <td id=\"T_ac0e5afc_7770_11eb_be28_b0a46081bac8row4_col0\" class=\"data row4 col0\" >Speaking about the controversy around his biography 'An Ordinary Life: A Memoir', actor Nawazuddin Siddiqui said, \"If and when I write something after 10-12 years, I'll write only lies.\" \"I wrote the truth.</td>\n",
       "            </tr>\n",
       "            <tr>\n",
       "                        <th id=\"T_ac0e5afc_7770_11eb_be28_b0a46081bac8level0_row5\" class=\"row_heading level0 row5\" >f1_extract</th>\n",
       "                        <td id=\"T_ac0e5afc_7770_11eb_be28_b0a46081bac8row5_col0\" class=\"data row5 col0\" >0.279070</td>\n",
       "            </tr>\n",
       "    </tbody></table>"
      ],
      "text/plain": [
       "<pandas.io.formats.style.Styler at 0x7ff9819a0e50>"
      ]
     },
     "metadata": {},
     "output_type": "display_data"
    },
    {
     "data": {
      "text/html": [
       "<style  type=\"text/css\" >\n",
       "    #T_ac0f100a_7770_11eb_be28_b0a46081bac8 th {\n",
       "          text-align: left;\n",
       "    }#T_ac0f100a_7770_11eb_be28_b0a46081bac8row0_col0,#T_ac0f100a_7770_11eb_be28_b0a46081bac8row1_col0,#T_ac0f100a_7770_11eb_be28_b0a46081bac8row2_col0,#T_ac0f100a_7770_11eb_be28_b0a46081bac8row3_col0,#T_ac0f100a_7770_11eb_be28_b0a46081bac8row4_col0,#T_ac0f100a_7770_11eb_be28_b0a46081bac8row5_col0{\n",
       "            text-align:  left;\n",
       "        }</style><table id=\"T_ac0f100a_7770_11eb_be28_b0a46081bac8\" ><thead>    <tr>        <th class=\"blank level0\" ></th>        <th class=\"col_heading level0 col0\" >7</th>    </tr></thead><tbody>\n",
       "                <tr>\n",
       "                        <th id=\"T_ac0f100a_7770_11eb_be28_b0a46081bac8level0_row0\" class=\"row_heading level0 row0\" >raw</th>\n",
       "                        <td id=\"T_ac0f100a_7770_11eb_be28_b0a46081bac8row0_col0\" class=\"data row0 col0\" >The Chinese government is recruiting 20,000 people to write an online encyclopedia like Wikipedia. The scholars will reportedly write more than 3,00,000 entries of about 1,000 words apiece spanning over 100 disciplines. The resource will reportedly have information on China's technological developments and historical heritage to \"strengthen the core values of socialism.Ã¢ÂÂ</td>\n",
       "            </tr>\n",
       "            <tr>\n",
       "                        <th id=\"T_ac0f100a_7770_11eb_be28_b0a46081bac8level0_row1\" class=\"row_heading level0 row1\" >reference</th>\n",
       "                        <td id=\"T_ac0f100a_7770_11eb_be28_b0a46081bac8row1_col0\" class=\"data row1 col0\" >china to hire people to write wikipedia like </td>\n",
       "            </tr>\n",
       "            <tr>\n",
       "                        <th id=\"T_ac0f100a_7770_11eb_be28_b0a46081bac8level0_row2\" class=\"row_heading level0 row2\" >abstract</th>\n",
       "                        <td id=\"T_ac0f100a_7770_11eb_be28_b0a46081bac8row2_col0\" class=\"data row2 col0\" > china releases language of</td>\n",
       "            </tr>\n",
       "            <tr>\n",
       "                        <th id=\"T_ac0f100a_7770_11eb_be28_b0a46081bac8level0_row3\" class=\"row_heading level0 row3\" >f1_abstract</th>\n",
       "                        <td id=\"T_ac0f100a_7770_11eb_be28_b0a46081bac8row3_col0\" class=\"data row3 col0\" >0.166667</td>\n",
       "            </tr>\n",
       "            <tr>\n",
       "                        <th id=\"T_ac0f100a_7770_11eb_be28_b0a46081bac8level0_row4\" class=\"row_heading level0 row4\" >extract</th>\n",
       "                        <td id=\"T_ac0f100a_7770_11eb_be28_b0a46081bac8row4_col0\" class=\"data row4 col0\" >The scholars will reportedly write more than 3,00,000 entries of about 1,000 words apiece spanning over 100 disciplines.</td>\n",
       "            </tr>\n",
       "            <tr>\n",
       "                        <th id=\"T_ac0f100a_7770_11eb_be28_b0a46081bac8level0_row5\" class=\"row_heading level0 row5\" >f1_extract</th>\n",
       "                        <td id=\"T_ac0f100a_7770_11eb_be28_b0a46081bac8row5_col0\" class=\"data row5 col0\" >0.076923</td>\n",
       "            </tr>\n",
       "    </tbody></table>"
      ],
      "text/plain": [
       "<pandas.io.formats.style.Styler at 0x7ff9817b9cd0>"
      ]
     },
     "metadata": {},
     "output_type": "display_data"
    },
    {
     "data": {
      "text/html": [
       "<style  type=\"text/css\" >\n",
       "    #T_ac0fc518_7770_11eb_be28_b0a46081bac8 th {\n",
       "          text-align: left;\n",
       "    }#T_ac0fc518_7770_11eb_be28_b0a46081bac8row0_col0,#T_ac0fc518_7770_11eb_be28_b0a46081bac8row1_col0,#T_ac0fc518_7770_11eb_be28_b0a46081bac8row2_col0,#T_ac0fc518_7770_11eb_be28_b0a46081bac8row3_col0,#T_ac0fc518_7770_11eb_be28_b0a46081bac8row4_col0,#T_ac0fc518_7770_11eb_be28_b0a46081bac8row5_col0{\n",
       "            text-align:  left;\n",
       "        }</style><table id=\"T_ac0fc518_7770_11eb_be28_b0a46081bac8\" ><thead>    <tr>        <th class=\"blank level0\" ></th>        <th class=\"col_heading level0 col0\" >8</th>    </tr></thead><tbody>\n",
       "                <tr>\n",
       "                        <th id=\"T_ac0fc518_7770_11eb_be28_b0a46081bac8level0_row0\" class=\"row_heading level0 row0\" >raw</th>\n",
       "                        <td id=\"T_ac0fc518_7770_11eb_be28_b0a46081bac8row0_col0\" class=\"data row0 col0\" >An international team of astronomers analysing 355 multi-planet systems have found that exoplanets orbiting the same star tend to have similar sizes and a regular orbital spacing like \"peas in a pod\". However, in our Solar System, the inner planets are diversely sized and have large spacing, probably because Jupiter and Saturn disrupted our system's early structure, researchers said.</td>\n",
       "            </tr>\n",
       "            <tr>\n",
       "                        <th id=\"T_ac0fc518_7770_11eb_be28_b0a46081bac8level0_row1\" class=\"row_heading level0 row1\" >reference</th>\n",
       "                        <td id=\"T_ac0fc518_7770_11eb_be28_b0a46081bac8row1_col0\" class=\"data row1 col0\" >other star systems more ordered than our solar system study </td>\n",
       "            </tr>\n",
       "            <tr>\n",
       "                        <th id=\"T_ac0fc518_7770_11eb_be28_b0a46081bac8level0_row2\" class=\"row_heading level0 row2\" >abstract</th>\n",
       "                        <td id=\"T_ac0fc518_7770_11eb_be28_b0a46081bac8row2_col0\" class=\"data row2 col0\" > nasa finds new planet to earth planet for planet</td>\n",
       "            </tr>\n",
       "            <tr>\n",
       "                        <th id=\"T_ac0fc518_7770_11eb_be28_b0a46081bac8level0_row3\" class=\"row_heading level0 row3\" >f1_abstract</th>\n",
       "                        <td id=\"T_ac0fc518_7770_11eb_be28_b0a46081bac8row3_col0\" class=\"data row3 col0\" >0</td>\n",
       "            </tr>\n",
       "            <tr>\n",
       "                        <th id=\"T_ac0fc518_7770_11eb_be28_b0a46081bac8level0_row4\" class=\"row_heading level0 row4\" >extract</th>\n",
       "                        <td id=\"T_ac0fc518_7770_11eb_be28_b0a46081bac8row4_col0\" class=\"data row4 col0\" >An international team of astronomers analysing 355 multi-planet systems have found that exoplanets orbiting the same star tend to have similar sizes and a regular orbital spacing like \"peas in a pod\".</td>\n",
       "            </tr>\n",
       "            <tr>\n",
       "                        <th id=\"T_ac0fc518_7770_11eb_be28_b0a46081bac8level0_row5\" class=\"row_heading level0 row5\" >f1_extract</th>\n",
       "                        <td id=\"T_ac0fc518_7770_11eb_be28_b0a46081bac8row5_col0\" class=\"data row5 col0\" >0.095238</td>\n",
       "            </tr>\n",
       "    </tbody></table>"
      ],
      "text/plain": [
       "<pandas.io.formats.style.Styler at 0x7ff742db1190>"
      ]
     },
     "metadata": {},
     "output_type": "display_data"
    },
    {
     "data": {
      "text/html": [
       "<style  type=\"text/css\" >\n",
       "    #T_ac107e54_7770_11eb_be28_b0a46081bac8 th {\n",
       "          text-align: left;\n",
       "    }#T_ac107e54_7770_11eb_be28_b0a46081bac8row0_col0,#T_ac107e54_7770_11eb_be28_b0a46081bac8row1_col0,#T_ac107e54_7770_11eb_be28_b0a46081bac8row2_col0,#T_ac107e54_7770_11eb_be28_b0a46081bac8row3_col0,#T_ac107e54_7770_11eb_be28_b0a46081bac8row4_col0,#T_ac107e54_7770_11eb_be28_b0a46081bac8row5_col0{\n",
       "            text-align:  left;\n",
       "        }</style><table id=\"T_ac107e54_7770_11eb_be28_b0a46081bac8\" ><thead>    <tr>        <th class=\"blank level0\" ></th>        <th class=\"col_heading level0 col0\" >9</th>    </tr></thead><tbody>\n",
       "                <tr>\n",
       "                        <th id=\"T_ac107e54_7770_11eb_be28_b0a46081bac8level0_row0\" class=\"row_heading level0 row0\" >raw</th>\n",
       "                        <td id=\"T_ac107e54_7770_11eb_be28_b0a46081bac8row0_col0\" class=\"data row0 col0\" >State-run telecom firm BSNL has signed a deal with Japan's SoftBank and NTT Communications to launch 5G internet service and Internet of Things technology in India, BSNL Chairman Anupam Shrivastava said. \"Under the agreement, we will look at solution specially for the smart cities,\" he added. He also said that the service may launch by 2020 in the country.</td>\n",
       "            </tr>\n",
       "            <tr>\n",
       "                        <th id=\"T_ac107e54_7770_11eb_be28_b0a46081bac8level0_row1\" class=\"row_heading level0 row1\" >reference</th>\n",
       "                        <td id=\"T_ac107e54_7770_11eb_be28_b0a46081bac8row1_col0\" class=\"data row1 col0\" >bsnl signs deal with softbank to roll out in india </td>\n",
       "            </tr>\n",
       "            <tr>\n",
       "                        <th id=\"T_ac107e54_7770_11eb_be28_b0a46081bac8level0_row2\" class=\"row_heading level0 row2\" >abstract</th>\n",
       "                        <td id=\"T_ac107e54_7770_11eb_be28_b0a46081bac8row2_col0\" class=\"data row2 col0\" > will launch startups in future startups</td>\n",
       "            </tr>\n",
       "            <tr>\n",
       "                        <th id=\"T_ac107e54_7770_11eb_be28_b0a46081bac8level0_row3\" class=\"row_heading level0 row3\" >f1_abstract</th>\n",
       "                        <td id=\"T_ac107e54_7770_11eb_be28_b0a46081bac8row3_col0\" class=\"data row3 col0\" >0.125000</td>\n",
       "            </tr>\n",
       "            <tr>\n",
       "                        <th id=\"T_ac107e54_7770_11eb_be28_b0a46081bac8level0_row4\" class=\"row_heading level0 row4\" >extract</th>\n",
       "                        <td id=\"T_ac107e54_7770_11eb_be28_b0a46081bac8row4_col0\" class=\"data row4 col0\" >State-run telecom firm BSNL has signed a deal with Japan's SoftBank and NTT Communications to launch 5G internet service and Internet of Things technology in India, BSNL Chairman Anupam Shrivastava said.</td>\n",
       "            </tr>\n",
       "            <tr>\n",
       "                        <th id=\"T_ac107e54_7770_11eb_be28_b0a46081bac8level0_row5\" class=\"row_heading level0 row5\" >f1_extract</th>\n",
       "                        <td id=\"T_ac107e54_7770_11eb_be28_b0a46081bac8row5_col0\" class=\"data row5 col0\" >0.195122</td>\n",
       "            </tr>\n",
       "    </tbody></table>"
      ],
      "text/plain": [
       "<pandas.io.formats.style.Styler at 0x7ff981e0aa90>"
      ]
     },
     "metadata": {},
     "output_type": "display_data"
    },
    {
     "data": {
      "text/html": [
       "<style  type=\"text/css\" >\n",
       "    #T_ac113128_7770_11eb_be28_b0a46081bac8 th {\n",
       "          text-align: left;\n",
       "    }#T_ac113128_7770_11eb_be28_b0a46081bac8row0_col0,#T_ac113128_7770_11eb_be28_b0a46081bac8row1_col0,#T_ac113128_7770_11eb_be28_b0a46081bac8row2_col0,#T_ac113128_7770_11eb_be28_b0a46081bac8row3_col0,#T_ac113128_7770_11eb_be28_b0a46081bac8row4_col0,#T_ac113128_7770_11eb_be28_b0a46081bac8row5_col0{\n",
       "            text-align:  left;\n",
       "        }</style><table id=\"T_ac113128_7770_11eb_be28_b0a46081bac8\" ><thead>    <tr>        <th class=\"blank level0\" ></th>        <th class=\"col_heading level0 col0\" >10</th>    </tr></thead><tbody>\n",
       "                <tr>\n",
       "                        <th id=\"T_ac113128_7770_11eb_be28_b0a46081bac8level0_row0\" class=\"row_heading level0 row0\" >raw</th>\n",
       "                        <td id=\"T_ac113128_7770_11eb_be28_b0a46081bac8row0_col0\" class=\"data row0 col0\" >Weapons belonging to India's shooting team were seized by the customs department at Delhi airport on Tuesday, with the shooters being detained for over 13 hours. The shooters, which included a few Olympians returning from the Plzen Grand Prix, were reportedly clueless about the reason for detention. They also alleged the customs officials used foul language with them.</td>\n",
       "            </tr>\n",
       "            <tr>\n",
       "                        <th id=\"T_ac113128_7770_11eb_be28_b0a46081bac8level0_row1\" class=\"row_heading level0 row1\" >reference</th>\n",
       "                        <td id=\"T_ac113128_7770_11eb_be28_b0a46081bac8row1_col0\" class=\"data row1 col0\" >weapons of india shooting team seized at delhi airport </td>\n",
       "            </tr>\n",
       "            <tr>\n",
       "                        <th id=\"T_ac113128_7770_11eb_be28_b0a46081bac8level0_row2\" class=\"row_heading level0 row2\" >abstract</th>\n",
       "                        <td id=\"T_ac113128_7770_11eb_be28_b0a46081bac8row2_col0\" class=\"data row2 col0\" > saudi arabia seizes man who killed in delhi</td>\n",
       "            </tr>\n",
       "            <tr>\n",
       "                        <th id=\"T_ac113128_7770_11eb_be28_b0a46081bac8level0_row3\" class=\"row_heading level0 row3\" >f1_abstract</th>\n",
       "                        <td id=\"T_ac113128_7770_11eb_be28_b0a46081bac8row3_col0\" class=\"data row3 col0\" >0.117647</td>\n",
       "            </tr>\n",
       "            <tr>\n",
       "                        <th id=\"T_ac113128_7770_11eb_be28_b0a46081bac8level0_row4\" class=\"row_heading level0 row4\" >extract</th>\n",
       "                        <td id=\"T_ac113128_7770_11eb_be28_b0a46081bac8row4_col0\" class=\"data row4 col0\" >Weapons belonging to India's shooting team were seized by the customs department at Delhi airport on Tuesday, with the shooters being detained for over 13 hours.</td>\n",
       "            </tr>\n",
       "            <tr>\n",
       "                        <th id=\"T_ac113128_7770_11eb_be28_b0a46081bac8level0_row5\" class=\"row_heading level0 row5\" >f1_extract</th>\n",
       "                        <td id=\"T_ac113128_7770_11eb_be28_b0a46081bac8row5_col0\" class=\"data row5 col0\" >0.285714</td>\n",
       "            </tr>\n",
       "    </tbody></table>"
      ],
      "text/plain": [
       "<pandas.io.formats.style.Styler at 0x7ffbac9caf50>"
      ]
     },
     "metadata": {},
     "output_type": "display_data"
    },
    {
     "data": {
      "text/html": [
       "<style  type=\"text/css\" >\n",
       "    #T_ac11de52_7770_11eb_be28_b0a46081bac8 th {\n",
       "          text-align: left;\n",
       "    }#T_ac11de52_7770_11eb_be28_b0a46081bac8row0_col0,#T_ac11de52_7770_11eb_be28_b0a46081bac8row1_col0,#T_ac11de52_7770_11eb_be28_b0a46081bac8row2_col0,#T_ac11de52_7770_11eb_be28_b0a46081bac8row3_col0,#T_ac11de52_7770_11eb_be28_b0a46081bac8row4_col0,#T_ac11de52_7770_11eb_be28_b0a46081bac8row5_col0{\n",
       "            text-align:  left;\n",
       "        }</style><table id=\"T_ac11de52_7770_11eb_be28_b0a46081bac8\" ><thead>    <tr>        <th class=\"blank level0\" ></th>        <th class=\"col_heading level0 col0\" >11</th>    </tr></thead><tbody>\n",
       "                <tr>\n",
       "                        <th id=\"T_ac11de52_7770_11eb_be28_b0a46081bac8level0_row0\" class=\"row_heading level0 row0\" >raw</th>\n",
       "                        <td id=\"T_ac11de52_7770_11eb_be28_b0a46081bac8row0_col0\" class=\"data row0 col0\" >Sahara Group Chairman Subrata Roy's son, Seemanto Roy, has been removed as a director of Sahara Housingfina Corporation, the company announced on Wednesday. It said that Roy was enlisted in a government notification pertaining to disqualification of directors who have defaulted in filing financial results for preceding three fiscals. Notably, the government has disqualified 3.09 lakh directors.</td>\n",
       "            </tr>\n",
       "            <tr>\n",
       "                        <th id=\"T_ac11de52_7770_11eb_be28_b0a46081bac8level0_row1\" class=\"row_heading level0 row1\" >reference</th>\n",
       "                        <td id=\"T_ac11de52_7770_11eb_be28_b0a46081bac8row1_col0\" class=\"data row1 col0\" >roy son sacked as director after govt notice </td>\n",
       "            </tr>\n",
       "            <tr>\n",
       "                        <th id=\"T_ac11de52_7770_11eb_be28_b0a46081bac8level0_row2\" class=\"row_heading level0 row2\" >abstract</th>\n",
       "                        <td id=\"T_ac11de52_7770_11eb_be28_b0a46081bac8row2_col0\" class=\"data row2 col0\" > mistry chairman mehta gets shareholders approval to sahara</td>\n",
       "            </tr>\n",
       "            <tr>\n",
       "                        <th id=\"T_ac11de52_7770_11eb_be28_b0a46081bac8level0_row3\" class=\"row_heading level0 row3\" >f1_abstract</th>\n",
       "                        <td id=\"T_ac11de52_7770_11eb_be28_b0a46081bac8row3_col0\" class=\"data row3 col0\" >0</td>\n",
       "            </tr>\n",
       "            <tr>\n",
       "                        <th id=\"T_ac11de52_7770_11eb_be28_b0a46081bac8level0_row4\" class=\"row_heading level0 row4\" >extract</th>\n",
       "                        <td id=\"T_ac11de52_7770_11eb_be28_b0a46081bac8row4_col0\" class=\"data row4 col0\" >It said that Roy was enlisted in a government notification pertaining to disqualification of directors who have defaulted in filing financial results for preceding three fiscals.</td>\n",
       "            </tr>\n",
       "            <tr>\n",
       "                        <th id=\"T_ac11de52_7770_11eb_be28_b0a46081bac8level0_row5\" class=\"row_heading level0 row5\" >f1_extract</th>\n",
       "                        <td id=\"T_ac11de52_7770_11eb_be28_b0a46081bac8row5_col0\" class=\"data row5 col0\" >0</td>\n",
       "            </tr>\n",
       "    </tbody></table>"
      ],
      "text/plain": [
       "<pandas.io.formats.style.Styler at 0x7ff742db1910>"
      ]
     },
     "metadata": {},
     "output_type": "display_data"
    },
    {
     "data": {
      "text/html": [
       "<style  type=\"text/css\" >\n",
       "    #T_ac1291e4_7770_11eb_be28_b0a46081bac8 th {\n",
       "          text-align: left;\n",
       "    }#T_ac1291e4_7770_11eb_be28_b0a46081bac8row0_col0,#T_ac1291e4_7770_11eb_be28_b0a46081bac8row1_col0,#T_ac1291e4_7770_11eb_be28_b0a46081bac8row2_col0,#T_ac1291e4_7770_11eb_be28_b0a46081bac8row3_col0,#T_ac1291e4_7770_11eb_be28_b0a46081bac8row4_col0,#T_ac1291e4_7770_11eb_be28_b0a46081bac8row5_col0{\n",
       "            text-align:  left;\n",
       "        }</style><table id=\"T_ac1291e4_7770_11eb_be28_b0a46081bac8\" ><thead>    <tr>        <th class=\"blank level0\" ></th>        <th class=\"col_heading level0 col0\" >12</th>    </tr></thead><tbody>\n",
       "                <tr>\n",
       "                        <th id=\"T_ac1291e4_7770_11eb_be28_b0a46081bac8level0_row0\" class=\"row_heading level0 row0\" >raw</th>\n",
       "                        <td id=\"T_ac1291e4_7770_11eb_be28_b0a46081bac8row0_col0\" class=\"data row0 col0\" >The Supreme Court on Wednesday dismissed all petitions filed by students and parents over the recent CBSE paper leak. It refused to interfere in the CBSE's decision to hold a re-examination for the Class 12 Economics paper and dismissed a plea for a CBI inquiry into the leak. ItÃ¢ÂÂs for the authorities to look into the matter, the court said. </td>\n",
       "            </tr>\n",
       "            <tr>\n",
       "                        <th id=\"T_ac1291e4_7770_11eb_be28_b0a46081bac8level0_row1\" class=\"row_heading level0 row1\" >reference</th>\n",
       "                        <td id=\"T_ac1291e4_7770_11eb_be28_b0a46081bac8row1_col0\" class=\"data row1 col0\" >sc dismisses all filed over cbse paper leak </td>\n",
       "            </tr>\n",
       "            <tr>\n",
       "                        <th id=\"T_ac1291e4_7770_11eb_be28_b0a46081bac8level0_row2\" class=\"row_heading level0 row2\" >abstract</th>\n",
       "                        <td id=\"T_ac1291e4_7770_11eb_be28_b0a46081bac8row2_col0\" class=\"data row2 col0\" > sc orders cbse to cbse board exam paper leak</td>\n",
       "            </tr>\n",
       "            <tr>\n",
       "                        <th id=\"T_ac1291e4_7770_11eb_be28_b0a46081bac8level0_row3\" class=\"row_heading level0 row3\" >f1_abstract</th>\n",
       "                        <td id=\"T_ac1291e4_7770_11eb_be28_b0a46081bac8row3_col0\" class=\"data row3 col0\" >0.588235</td>\n",
       "            </tr>\n",
       "            <tr>\n",
       "                        <th id=\"T_ac1291e4_7770_11eb_be28_b0a46081bac8level0_row4\" class=\"row_heading level0 row4\" >extract</th>\n",
       "                        <td id=\"T_ac1291e4_7770_11eb_be28_b0a46081bac8row4_col0\" class=\"data row4 col0\" >The Supreme Court on Wednesday dismissed all petitions filed by students and parents over the recent CBSE paper leak.</td>\n",
       "            </tr>\n",
       "            <tr>\n",
       "                        <th id=\"T_ac1291e4_7770_11eb_be28_b0a46081bac8level0_row5\" class=\"row_heading level0 row5\" >f1_extract</th>\n",
       "                        <td id=\"T_ac1291e4_7770_11eb_be28_b0a46081bac8row5_col0\" class=\"data row5 col0\" >0.296296</td>\n",
       "            </tr>\n",
       "    </tbody></table>"
      ],
      "text/plain": [
       "<pandas.io.formats.style.Styler at 0x7ff981872410>"
      ]
     },
     "metadata": {},
     "output_type": "display_data"
    },
    {
     "data": {
      "text/html": [
       "<style  type=\"text/css\" >\n",
       "    #T_ac134cec_7770_11eb_be28_b0a46081bac8 th {\n",
       "          text-align: left;\n",
       "    }#T_ac134cec_7770_11eb_be28_b0a46081bac8row0_col0,#T_ac134cec_7770_11eb_be28_b0a46081bac8row1_col0,#T_ac134cec_7770_11eb_be28_b0a46081bac8row2_col0,#T_ac134cec_7770_11eb_be28_b0a46081bac8row3_col0,#T_ac134cec_7770_11eb_be28_b0a46081bac8row4_col0,#T_ac134cec_7770_11eb_be28_b0a46081bac8row5_col0{\n",
       "            text-align:  left;\n",
       "        }</style><table id=\"T_ac134cec_7770_11eb_be28_b0a46081bac8\" ><thead>    <tr>        <th class=\"blank level0\" ></th>        <th class=\"col_heading level0 col0\" >13</th>    </tr></thead><tbody>\n",
       "                <tr>\n",
       "                        <th id=\"T_ac134cec_7770_11eb_be28_b0a46081bac8level0_row0\" class=\"row_heading level0 row0\" >raw</th>\n",
       "                        <td id=\"T_ac134cec_7770_11eb_be28_b0a46081bac8row0_col0\" class=\"data row0 col0\" >Addressing a kisan rally in Uttar Pradesh's Shahjahanpur on Saturday, PM Narendra Modi said the Opposition was shedding crocodile tears and \"had no time to work on MSP hike\". \"[Our] priority is to ensure that the hard work of the farmers of this nation is respected. That's the reason several decisions have been taken to benefit sugarcane farmers,\" he added.</td>\n",
       "            </tr>\n",
       "            <tr>\n",
       "                        <th id=\"T_ac134cec_7770_11eb_be28_b0a46081bac8level0_row1\" class=\"row_heading level0 row1\" >reference</th>\n",
       "                        <td id=\"T_ac134cec_7770_11eb_be28_b0a46081bac8row1_col0\" class=\"data row1 col0\" >opposition crocodile tears pm at rally in up </td>\n",
       "            </tr>\n",
       "            <tr>\n",
       "                        <th id=\"T_ac134cec_7770_11eb_be28_b0a46081bac8level0_row2\" class=\"row_heading level0 row2\" >abstract</th>\n",
       "                        <td id=\"T_ac134cec_7770_11eb_be28_b0a46081bac8row2_col0\" class=\"data row2 col0\" > pm modi calls govt govt for lok sabha</td>\n",
       "            </tr>\n",
       "            <tr>\n",
       "                        <th id=\"T_ac134cec_7770_11eb_be28_b0a46081bac8level0_row3\" class=\"row_heading level0 row3\" >f1_abstract</th>\n",
       "                        <td id=\"T_ac134cec_7770_11eb_be28_b0a46081bac8row3_col0\" class=\"data row3 col0\" >0.125000</td>\n",
       "            </tr>\n",
       "            <tr>\n",
       "                        <th id=\"T_ac134cec_7770_11eb_be28_b0a46081bac8level0_row4\" class=\"row_heading level0 row4\" >extract</th>\n",
       "                        <td id=\"T_ac134cec_7770_11eb_be28_b0a46081bac8row4_col0\" class=\"data row4 col0\" >\"[Our] priority is to ensure that the hard work of the farmers of this nation is respected.</td>\n",
       "            </tr>\n",
       "            <tr>\n",
       "                        <th id=\"T_ac134cec_7770_11eb_be28_b0a46081bac8level0_row5\" class=\"row_heading level0 row5\" >f1_extract</th>\n",
       "                        <td id=\"T_ac134cec_7770_11eb_be28_b0a46081bac8row5_col0\" class=\"data row5 col0\" >0</td>\n",
       "            </tr>\n",
       "    </tbody></table>"
      ],
      "text/plain": [
       "<pandas.io.formats.style.Styler at 0x7ff742db3590>"
      ]
     },
     "metadata": {},
     "output_type": "display_data"
    },
    {
     "data": {
      "text/html": [
       "<style  type=\"text/css\" >\n",
       "    #T_ac13ee9a_7770_11eb_be28_b0a46081bac8 th {\n",
       "          text-align: left;\n",
       "    }#T_ac13ee9a_7770_11eb_be28_b0a46081bac8row0_col0,#T_ac13ee9a_7770_11eb_be28_b0a46081bac8row1_col0,#T_ac13ee9a_7770_11eb_be28_b0a46081bac8row2_col0,#T_ac13ee9a_7770_11eb_be28_b0a46081bac8row3_col0,#T_ac13ee9a_7770_11eb_be28_b0a46081bac8row4_col0,#T_ac13ee9a_7770_11eb_be28_b0a46081bac8row5_col0{\n",
       "            text-align:  left;\n",
       "        }</style><table id=\"T_ac13ee9a_7770_11eb_be28_b0a46081bac8\" ><thead>    <tr>        <th class=\"blank level0\" ></th>        <th class=\"col_heading level0 col0\" >14</th>    </tr></thead><tbody>\n",
       "                <tr>\n",
       "                        <th id=\"T_ac13ee9a_7770_11eb_be28_b0a46081bac8level0_row0\" class=\"row_heading level0 row0\" >raw</th>\n",
       "                        <td id=\"T_ac13ee9a_7770_11eb_be28_b0a46081bac8row0_col0\" class=\"data row0 col0\" >The Secretary of Iran's Supreme National Security Council, Ali Shamkhani, on Friday said that the US is \"seeking excuses\" to tear up the 2015 nuclear deal with the country by demanding military site inspections. Adding that Iran has no undisclosed nuclear activity in any geographical location, Shamkhani said that issues being raised by the US are media hype.</td>\n",
       "            </tr>\n",
       "            <tr>\n",
       "                        <th id=\"T_ac13ee9a_7770_11eb_be28_b0a46081bac8level0_row1\" class=\"row_heading level0 row1\" >reference</th>\n",
       "                        <td id=\"T_ac13ee9a_7770_11eb_be28_b0a46081bac8row1_col0\" class=\"data row1 col0\" >us seeking to destroy nuclear deal iran </td>\n",
       "            </tr>\n",
       "            <tr>\n",
       "                        <th id=\"T_ac13ee9a_7770_11eb_be28_b0a46081bac8level0_row2\" class=\"row_heading level0 row2\" >abstract</th>\n",
       "                        <td id=\"T_ac13ee9a_7770_11eb_be28_b0a46081bac8row2_col0\" class=\"data row2 col0\" > iran denies report of nuclear deal with us</td>\n",
       "            </tr>\n",
       "            <tr>\n",
       "                        <th id=\"T_ac13ee9a_7770_11eb_be28_b0a46081bac8level0_row3\" class=\"row_heading level0 row3\" >f1_abstract</th>\n",
       "                        <td id=\"T_ac13ee9a_7770_11eb_be28_b0a46081bac8row3_col0\" class=\"data row3 col0\" >0.533333</td>\n",
       "            </tr>\n",
       "            <tr>\n",
       "                        <th id=\"T_ac13ee9a_7770_11eb_be28_b0a46081bac8level0_row4\" class=\"row_heading level0 row4\" >extract</th>\n",
       "                        <td id=\"T_ac13ee9a_7770_11eb_be28_b0a46081bac8row4_col0\" class=\"data row4 col0\" >The Secretary of Iran's Supreme National Security Council, Ali Shamkhani, on Friday said that the US is \"seeking excuses\" to tear up the 2015 nuclear deal with the country by demanding military site inspections.</td>\n",
       "            </tr>\n",
       "            <tr>\n",
       "                        <th id=\"T_ac13ee9a_7770_11eb_be28_b0a46081bac8level0_row5\" class=\"row_heading level0 row5\" >f1_extract</th>\n",
       "                        <td id=\"T_ac13ee9a_7770_11eb_be28_b0a46081bac8row5_col0\" class=\"data row5 col0\" >0.146341</td>\n",
       "            </tr>\n",
       "    </tbody></table>"
      ],
      "text/plain": [
       "<pandas.io.formats.style.Styler at 0x7ff74289e310>"
      ]
     },
     "metadata": {},
     "output_type": "display_data"
    },
    {
     "data": {
      "text/html": [
       "<style  type=\"text/css\" >\n",
       "    #T_ac148f44_7770_11eb_be28_b0a46081bac8 th {\n",
       "          text-align: left;\n",
       "    }#T_ac148f44_7770_11eb_be28_b0a46081bac8row0_col0,#T_ac148f44_7770_11eb_be28_b0a46081bac8row1_col0,#T_ac148f44_7770_11eb_be28_b0a46081bac8row2_col0,#T_ac148f44_7770_11eb_be28_b0a46081bac8row3_col0,#T_ac148f44_7770_11eb_be28_b0a46081bac8row4_col0,#T_ac148f44_7770_11eb_be28_b0a46081bac8row5_col0{\n",
       "            text-align:  left;\n",
       "        }</style><table id=\"T_ac148f44_7770_11eb_be28_b0a46081bac8\" ><thead>    <tr>        <th class=\"blank level0\" ></th>        <th class=\"col_heading level0 col0\" >15</th>    </tr></thead><tbody>\n",
       "                <tr>\n",
       "                        <th id=\"T_ac148f44_7770_11eb_be28_b0a46081bac8level0_row0\" class=\"row_heading level0 row0\" >raw</th>\n",
       "                        <td id=\"T_ac148f44_7770_11eb_be28_b0a46081bac8row0_col0\" class=\"data row0 col0\" >The National Aquarium of New Zealand has gone viral for its Facebook post naming its \"naughty\" and \"good\" penguins of the month. The aquarium said Timmy was the naughty penguin in June because he stole fish and pushed another penguin, while Betty was good because she waited patiently for fish. It houses little penguins with serious injuries or disabilities. </td>\n",
       "            </tr>\n",
       "            <tr>\n",
       "                        <th id=\"T_ac148f44_7770_11eb_be28_b0a46081bac8level0_row1\" class=\"row_heading level0 row1\" >reference</th>\n",
       "                        <td id=\"T_ac148f44_7770_11eb_be28_b0a46081bac8row1_col0\" class=\"data row1 col0\" >new zealand names and penguin </td>\n",
       "            </tr>\n",
       "            <tr>\n",
       "                        <th id=\"T_ac148f44_7770_11eb_be28_b0a46081bac8level0_row2\" class=\"row_heading level0 row2\" >abstract</th>\n",
       "                        <td id=\"T_ac148f44_7770_11eb_be28_b0a46081bac8row2_col0\" class=\"data row2 col0\" > nz player suspended for having food at home</td>\n",
       "            </tr>\n",
       "            <tr>\n",
       "                        <th id=\"T_ac148f44_7770_11eb_be28_b0a46081bac8level0_row3\" class=\"row_heading level0 row3\" >f1_abstract</th>\n",
       "                        <td id=\"T_ac148f44_7770_11eb_be28_b0a46081bac8row3_col0\" class=\"data row3 col0\" >0</td>\n",
       "            </tr>\n",
       "            <tr>\n",
       "                        <th id=\"T_ac148f44_7770_11eb_be28_b0a46081bac8level0_row4\" class=\"row_heading level0 row4\" >extract</th>\n",
       "                        <td id=\"T_ac148f44_7770_11eb_be28_b0a46081bac8row4_col0\" class=\"data row4 col0\" >The National Aquarium of New Zealand has gone viral for its Facebook post naming its \"naughty\" and \"good\" penguins of the month.</td>\n",
       "            </tr>\n",
       "            <tr>\n",
       "                        <th id=\"T_ac148f44_7770_11eb_be28_b0a46081bac8level0_row5\" class=\"row_heading level0 row5\" >f1_extract</th>\n",
       "                        <td id=\"T_ac148f44_7770_11eb_be28_b0a46081bac8row5_col0\" class=\"data row5 col0\" >0.074074</td>\n",
       "            </tr>\n",
       "    </tbody></table>"
      ],
      "text/plain": [
       "<pandas.io.formats.style.Styler at 0x7ff980ce6a10>"
      ]
     },
     "metadata": {},
     "output_type": "display_data"
    },
    {
     "data": {
      "text/html": [
       "<style  type=\"text/css\" >\n",
       "    #T_ac152e9a_7770_11eb_be28_b0a46081bac8 th {\n",
       "          text-align: left;\n",
       "    }#T_ac152e9a_7770_11eb_be28_b0a46081bac8row0_col0,#T_ac152e9a_7770_11eb_be28_b0a46081bac8row1_col0,#T_ac152e9a_7770_11eb_be28_b0a46081bac8row2_col0,#T_ac152e9a_7770_11eb_be28_b0a46081bac8row3_col0,#T_ac152e9a_7770_11eb_be28_b0a46081bac8row4_col0,#T_ac152e9a_7770_11eb_be28_b0a46081bac8row5_col0{\n",
       "            text-align:  left;\n",
       "        }</style><table id=\"T_ac152e9a_7770_11eb_be28_b0a46081bac8\" ><thead>    <tr>        <th class=\"blank level0\" ></th>        <th class=\"col_heading level0 col0\" >16</th>    </tr></thead><tbody>\n",
       "                <tr>\n",
       "                        <th id=\"T_ac152e9a_7770_11eb_be28_b0a46081bac8level0_row0\" class=\"row_heading level0 row0\" >raw</th>\n",
       "                        <td id=\"T_ac152e9a_7770_11eb_be28_b0a46081bac8row0_col0\" class=\"data row0 col0\" >Over 150 former prisoners were offered jobs at a Telangana prisons department's recruitment drive which saw participation from firms like Flipkart, Swiggy, Karvy and HDFC. The former inmates, which included murder convicts, were hired as marketing executives, delivery boys, security guards, computer operators, medical attendants and detective agents. The salaries ranged from Ã¢ÂÂ¹8,000 to Ã¢ÂÂ¹18,000.</td>\n",
       "            </tr>\n",
       "            <tr>\n",
       "                        <th id=\"T_ac152e9a_7770_11eb_be28_b0a46081bac8level0_row1\" class=\"row_heading level0 row1\" >reference</th>\n",
       "                        <td id=\"T_ac152e9a_7770_11eb_be28_b0a46081bac8row1_col0\" class=\"data row1 col0\" >flipkart swiggy among firms offering jobs to ex prisoners </td>\n",
       "            </tr>\n",
       "            <tr>\n",
       "                        <th id=\"T_ac152e9a_7770_11eb_be28_b0a46081bac8level0_row2\" class=\"row_heading level0 row2\" >abstract</th>\n",
       "                        <td id=\"T_ac152e9a_7770_11eb_be28_b0a46081bac8row2_col0\" class=\"data row2 col0\" > former mp launches campaign to kill ex ceo</td>\n",
       "            </tr>\n",
       "            <tr>\n",
       "                        <th id=\"T_ac152e9a_7770_11eb_be28_b0a46081bac8level0_row3\" class=\"row_heading level0 row3\" >f1_abstract</th>\n",
       "                        <td id=\"T_ac152e9a_7770_11eb_be28_b0a46081bac8row3_col0\" class=\"data row3 col0\" >0.235294</td>\n",
       "            </tr>\n",
       "            <tr>\n",
       "                        <th id=\"T_ac152e9a_7770_11eb_be28_b0a46081bac8level0_row4\" class=\"row_heading level0 row4\" >extract</th>\n",
       "                        <td id=\"T_ac152e9a_7770_11eb_be28_b0a46081bac8row4_col0\" class=\"data row4 col0\" >Over 150 former prisoners were offered jobs at a Telangana prisons department's recruitment drive which saw participation from firms like Flipkart, Swiggy, Karvy and HDFC.</td>\n",
       "            </tr>\n",
       "            <tr>\n",
       "                        <th id=\"T_ac152e9a_7770_11eb_be28_b0a46081bac8level0_row5\" class=\"row_heading level0 row5\" >f1_extract</th>\n",
       "                        <td id=\"T_ac152e9a_7770_11eb_be28_b0a46081bac8row5_col0\" class=\"data row5 col0\" >0.176471</td>\n",
       "            </tr>\n",
       "    </tbody></table>"
      ],
      "text/plain": [
       "<pandas.io.formats.style.Styler at 0x7ff742db0550>"
      ]
     },
     "metadata": {},
     "output_type": "display_data"
    },
    {
     "data": {
      "text/html": [
       "<style  type=\"text/css\" >\n",
       "    #T_ac15d6d8_7770_11eb_be28_b0a46081bac8 th {\n",
       "          text-align: left;\n",
       "    }#T_ac15d6d8_7770_11eb_be28_b0a46081bac8row0_col0,#T_ac15d6d8_7770_11eb_be28_b0a46081bac8row1_col0,#T_ac15d6d8_7770_11eb_be28_b0a46081bac8row2_col0,#T_ac15d6d8_7770_11eb_be28_b0a46081bac8row3_col0,#T_ac15d6d8_7770_11eb_be28_b0a46081bac8row4_col0,#T_ac15d6d8_7770_11eb_be28_b0a46081bac8row5_col0{\n",
       "            text-align:  left;\n",
       "        }</style><table id=\"T_ac15d6d8_7770_11eb_be28_b0a46081bac8\" ><thead>    <tr>        <th class=\"blank level0\" ></th>        <th class=\"col_heading level0 col0\" >17</th>    </tr></thead><tbody>\n",
       "                <tr>\n",
       "                        <th id=\"T_ac15d6d8_7770_11eb_be28_b0a46081bac8level0_row0\" class=\"row_heading level0 row0\" >raw</th>\n",
       "                        <td id=\"T_ac15d6d8_7770_11eb_be28_b0a46081bac8row0_col0\" class=\"data row0 col0\" >The Indonesian town of Kampung Pelangi has been repainted in bright colours and decorated with 3D murals, as part of a Ã¢ÂÂ¹14.4 lakh government-funded makeover. Once considered a slum, the town has started attracting tourists. According to reports, the local government is investing more money to clean up the river and expand the project. </td>\n",
       "            </tr>\n",
       "            <tr>\n",
       "                        <th id=\"T_ac15d6d8_7770_11eb_be28_b0a46081bac8level0_row1\" class=\"row_heading level0 row1\" >reference</th>\n",
       "                        <td id=\"T_ac15d6d8_7770_11eb_be28_b0a46081bac8row1_col0\" class=\"data row1 col0\" >indonesian town painted in bright colours </td>\n",
       "            </tr>\n",
       "            <tr>\n",
       "                        <th id=\"T_ac15d6d8_7770_11eb_be28_b0a46081bac8level0_row2\" class=\"row_heading level0 row2\" >abstract</th>\n",
       "                        <td id=\"T_ac15d6d8_7770_11eb_be28_b0a46081bac8row2_col0\" class=\"data row2 col0\" > german village turns out of island</td>\n",
       "            </tr>\n",
       "            <tr>\n",
       "                        <th id=\"T_ac15d6d8_7770_11eb_be28_b0a46081bac8level0_row3\" class=\"row_heading level0 row3\" >f1_abstract</th>\n",
       "                        <td id=\"T_ac15d6d8_7770_11eb_be28_b0a46081bac8row3_col0\" class=\"data row3 col0\" >0</td>\n",
       "            </tr>\n",
       "            <tr>\n",
       "                        <th id=\"T_ac15d6d8_7770_11eb_be28_b0a46081bac8level0_row4\" class=\"row_heading level0 row4\" >extract</th>\n",
       "                        <td id=\"T_ac15d6d8_7770_11eb_be28_b0a46081bac8row4_col0\" class=\"data row4 col0\" >The Indonesian town of Kampung Pelangi has been repainted in bright colours and decorated with 3D murals, as part of a Ã¢ÂÂ¹14.4 lakh government-funded makeover.</td>\n",
       "            </tr>\n",
       "            <tr>\n",
       "                        <th id=\"T_ac15d6d8_7770_11eb_be28_b0a46081bac8level0_row5\" class=\"row_heading level0 row5\" >f1_extract</th>\n",
       "                        <td id=\"T_ac15d6d8_7770_11eb_be28_b0a46081bac8row5_col0\" class=\"data row5 col0\" >0.258065</td>\n",
       "            </tr>\n",
       "    </tbody></table>"
      ],
      "text/plain": [
       "<pandas.io.formats.style.Styler at 0x7ff742db0a90>"
      ]
     },
     "metadata": {},
     "output_type": "display_data"
    },
    {
     "data": {
      "text/html": [
       "<style  type=\"text/css\" >\n",
       "    #T_ac1675ca_7770_11eb_be28_b0a46081bac8 th {\n",
       "          text-align: left;\n",
       "    }#T_ac1675ca_7770_11eb_be28_b0a46081bac8row0_col0,#T_ac1675ca_7770_11eb_be28_b0a46081bac8row1_col0,#T_ac1675ca_7770_11eb_be28_b0a46081bac8row2_col0,#T_ac1675ca_7770_11eb_be28_b0a46081bac8row3_col0,#T_ac1675ca_7770_11eb_be28_b0a46081bac8row4_col0,#T_ac1675ca_7770_11eb_be28_b0a46081bac8row5_col0{\n",
       "            text-align:  left;\n",
       "        }</style><table id=\"T_ac1675ca_7770_11eb_be28_b0a46081bac8\" ><thead>    <tr>        <th class=\"blank level0\" ></th>        <th class=\"col_heading level0 col0\" >18</th>    </tr></thead><tbody>\n",
       "                <tr>\n",
       "                        <th id=\"T_ac1675ca_7770_11eb_be28_b0a46081bac8level0_row0\" class=\"row_heading level0 row0\" >raw</th>\n",
       "                        <td id=\"T_ac1675ca_7770_11eb_be28_b0a46081bac8row0_col0\" class=\"data row0 col0\" >Authorities have arrested the suspect who fatally shot Indian-origin police officer Ronil Singh earlier this week in California, US. The suspect, Gustavo Perez Arriaga, was in the US illegally and was arrested as he tried to flee back to Mexico. Seven other people who misled the authorities about his whereabouts or aided him in fleeing were also arrested.</td>\n",
       "            </tr>\n",
       "            <tr>\n",
       "                        <th id=\"T_ac1675ca_7770_11eb_be28_b0a46081bac8level0_row1\" class=\"row_heading level0 row1\" >reference</th>\n",
       "                        <td id=\"T_ac1675ca_7770_11eb_be28_b0a46081bac8row1_col0\" class=\"data row1 col0\" >indian origin policeman suspected killer arrested in us </td>\n",
       "            </tr>\n",
       "            <tr>\n",
       "                        <th id=\"T_ac1675ca_7770_11eb_be28_b0a46081bac8level0_row2\" class=\"row_heading level0 row2\" >abstract</th>\n",
       "                        <td id=\"T_ac1675ca_7770_11eb_be28_b0a46081bac8row2_col0\" class=\"data row2 col0\" > indian man arrested for killing us in us</td>\n",
       "            </tr>\n",
       "            <tr>\n",
       "                        <th id=\"T_ac1675ca_7770_11eb_be28_b0a46081bac8level0_row3\" class=\"row_heading level0 row3\" >f1_abstract</th>\n",
       "                        <td id=\"T_ac1675ca_7770_11eb_be28_b0a46081bac8row3_col0\" class=\"data row3 col0\" >0.625000</td>\n",
       "            </tr>\n",
       "            <tr>\n",
       "                        <th id=\"T_ac1675ca_7770_11eb_be28_b0a46081bac8level0_row4\" class=\"row_heading level0 row4\" >extract</th>\n",
       "                        <td id=\"T_ac1675ca_7770_11eb_be28_b0a46081bac8row4_col0\" class=\"data row4 col0\" >Seven other people who misled the authorities about his whereabouts or aided him in fleeing were also arrested.</td>\n",
       "            </tr>\n",
       "            <tr>\n",
       "                        <th id=\"T_ac1675ca_7770_11eb_be28_b0a46081bac8level0_row5\" class=\"row_heading level0 row5\" >f1_extract</th>\n",
       "                        <td id=\"T_ac1675ca_7770_11eb_be28_b0a46081bac8row5_col0\" class=\"data row5 col0\" >0.076923</td>\n",
       "            </tr>\n",
       "    </tbody></table>"
      ],
      "text/plain": [
       "<pandas.io.formats.style.Styler at 0x7ff98162e750>"
      ]
     },
     "metadata": {},
     "output_type": "display_data"
    },
    {
     "data": {
      "text/html": [
       "<style  type=\"text/css\" >\n",
       "    #T_ac171188_7770_11eb_be28_b0a46081bac8 th {\n",
       "          text-align: left;\n",
       "    }#T_ac171188_7770_11eb_be28_b0a46081bac8row0_col0,#T_ac171188_7770_11eb_be28_b0a46081bac8row1_col0,#T_ac171188_7770_11eb_be28_b0a46081bac8row2_col0,#T_ac171188_7770_11eb_be28_b0a46081bac8row3_col0,#T_ac171188_7770_11eb_be28_b0a46081bac8row4_col0,#T_ac171188_7770_11eb_be28_b0a46081bac8row5_col0{\n",
       "            text-align:  left;\n",
       "        }</style><table id=\"T_ac171188_7770_11eb_be28_b0a46081bac8\" ><thead>    <tr>        <th class=\"blank level0\" ></th>        <th class=\"col_heading level0 col0\" >19</th>    </tr></thead><tbody>\n",
       "                <tr>\n",
       "                        <th id=\"T_ac171188_7770_11eb_be28_b0a46081bac8level0_row0\" class=\"row_heading level0 row0\" >raw</th>\n",
       "                        <td id=\"T_ac171188_7770_11eb_be28_b0a46081bac8row0_col0\" class=\"data row0 col0\" >Former India captain Sourav Ganguly has said he is \"not too sure\" if ex-skipper MS Dhoni is a good T20 player. \"He is a champion ODI player but when it comes to Twenty20 cricket, in 10 years, he has got one fifty...that's not the best record,\" said Ganguly. Dhoni has scored 28 runs in three IPL matches this year.</td>\n",
       "            </tr>\n",
       "            <tr>\n",
       "                        <th id=\"T_ac171188_7770_11eb_be28_b0a46081bac8level0_row1\" class=\"row_heading level0 row1\" >reference</th>\n",
       "                        <td id=\"T_ac171188_7770_11eb_be28_b0a46081bac8row1_col0\" class=\"data row1 col0\" >not too sure if ms dhoni is good player says ganguly </td>\n",
       "            </tr>\n",
       "            <tr>\n",
       "                        <th id=\"T_ac171188_7770_11eb_be28_b0a46081bac8level0_row2\" class=\"row_heading level0 row2\" >abstract</th>\n",
       "                        <td id=\"T_ac171188_7770_11eb_be28_b0a46081bac8row2_col0\" class=\"data row2 col0\" > ganguly has been the best player of cricket ganguly</td>\n",
       "            </tr>\n",
       "            <tr>\n",
       "                        <th id=\"T_ac171188_7770_11eb_be28_b0a46081bac8level0_row3\" class=\"row_heading level0 row3\" >f1_abstract</th>\n",
       "                        <td id=\"T_ac171188_7770_11eb_be28_b0a46081bac8row3_col0\" class=\"data row3 col0\" >0.300000</td>\n",
       "            </tr>\n",
       "            <tr>\n",
       "                        <th id=\"T_ac171188_7770_11eb_be28_b0a46081bac8level0_row4\" class=\"row_heading level0 row4\" >extract</th>\n",
       "                        <td id=\"T_ac171188_7770_11eb_be28_b0a46081bac8row4_col0\" class=\"data row4 col0\" >Former India captain Sourav Ganguly has said he is \"not too sure\" if ex-skipper MS Dhoni is a good T20 player.</td>\n",
       "            </tr>\n",
       "            <tr>\n",
       "                        <th id=\"T_ac171188_7770_11eb_be28_b0a46081bac8level0_row5\" class=\"row_heading level0 row5\" >f1_extract</th>\n",
       "                        <td id=\"T_ac171188_7770_11eb_be28_b0a46081bac8row5_col0\" class=\"data row5 col0\" >0.312500</td>\n",
       "            </tr>\n",
       "    </tbody></table>"
      ],
      "text/plain": [
       "<pandas.io.formats.style.Styler at 0x7ff9817b9b90>"
      ]
     },
     "metadata": {},
     "output_type": "display_data"
    },
    {
     "name": "stdout",
     "output_type": "stream",
     "text": [
      "time: 95.4 ms (started: 2021-02-25 22:52:17 +09:00)\n"
     ]
    }
   ],
   "source": [
    "import pandas as pd\n",
    "pd.set_option('display.max_colwidth', None)\n",
    "\n",
    "def left_align(df):\n",
    "    left_aligned_df = df.style.set_properties(**{'text-align': 'left'})\n",
    "    left_aligned_df = left_aligned_df.set_table_styles(\n",
    "        [dict(selector='th', props=[('text-align', 'left')])]\n",
    "    )\n",
    "    return left_aligned_df\n",
    "\n",
    "for i, report in enumerate(summary_report):\n",
    "    df = pd.DataFrame(report, index=[i]).T\n",
    "    df = left_align(df)\n",
    "    display(df)"
   ]
  },
  {
   "cell_type": "markdown",
   "id": "elder-crisis",
   "metadata": {},
   "source": [
    "### 1. 요약 성공 여부"
   ]
  },
  {
   "cell_type": "code",
   "execution_count": 122,
   "id": "general-victoria",
   "metadata": {},
   "outputs": [
    {
     "name": "stdout",
     "output_type": "stream",
     "text": [
      "summary failure : 418\n",
      "summary failure rate : 2.4348%\n",
      "time: 566 µs (started: 2021-02-25 22:52:40 +09:00)\n"
     ]
    }
   ],
   "source": [
    "print(f'summary failure : {summarize_fail_cnt}')\n",
    "print(f'summary failure rate : {(summarize_fail_cnt / len(encoder_input_test))*100:.4f}%')"
   ]
  },
  {
   "cell_type": "markdown",
   "id": "velvet-maria",
   "metadata": {},
   "source": [
    "생성된 요약문의 완성도를 떠나서 요약 자체가 성공하였는가의 여부를 비교해 보자. 추상적 요약은 문장 생성의 실패가 한번도 없다. 반면 추출적 요약의 경우, 418건의 추출 실패가 있었고 비율로 보면 2.4348% 가량의 실패율을 보였다."
   ]
  },
  {
   "cell_type": "markdown",
   "id": "classified-application",
   "metadata": {},
   "source": [
    "### 2. 요약된 문장의 문법 정확도\n",
    "\n",
    "랜덤으로 선정한 20개의 샘플에 대하여 문법 정확도를 확인해본다. 이때, 일일이 눈으로 확인하기가 힘드니 api를 통하여 확인해 볼 것이다.\n",
    "\n",
    "- 사용된 api : JSpell Checker\n",
    "    - link : https://rapidapi.com/jspell/api/jspell-checker\n",
    "    - 선정이유 : RapidAPI의 `grammar-spellcheck-api` collectaion 중 가장 최근에도 업데이트가 이루어졌고 평점도 9.2/10으로 준수하였다. 또한 하루 500건 이하로는 무료이기에 샘플을 돌려보기에 적당하였따."
   ]
  },
  {
   "cell_type": "markdown",
   "id": "affected-crime",
   "metadata": {},
   "source": [
    "- api를 이용한 문법 검사 수행"
   ]
  },
  {
   "cell_type": "code",
   "execution_count": 123,
   "id": "experimental-breeding",
   "metadata": {},
   "outputs": [
    {
     "name": "stdout",
     "output_type": "stream",
     "text": [
      "time: 3.15 ms (started: 2021-02-25 22:52:45 +09:00)\n"
     ]
    }
   ],
   "source": [
    "spell_check = pd.DataFrame(columns=['abstractWordCnt', 'abstractErrorCnt', \n",
    "                                    'extractWordCnt', 'extractErrorCnt'])"
   ]
  },
  {
   "cell_type": "code",
   "execution_count": 124,
   "id": "infectious-alias",
   "metadata": {},
   "outputs": [
    {
     "name": "stderr",
     "output_type": "stream",
     "text": [
      "100%|██████████| 20/20 [00:42<00:00,  2.14s/it]\n"
     ]
    },
    {
     "data": {
      "text/html": [
       "<div>\n",
       "<style scoped>\n",
       "    .dataframe tbody tr th:only-of-type {\n",
       "        vertical-align: middle;\n",
       "    }\n",
       "\n",
       "    .dataframe tbody tr th {\n",
       "        vertical-align: top;\n",
       "    }\n",
       "\n",
       "    .dataframe thead th {\n",
       "        text-align: right;\n",
       "    }\n",
       "</style>\n",
       "<table border=\"1\" class=\"dataframe\">\n",
       "  <thead>\n",
       "    <tr style=\"text-align: right;\">\n",
       "      <th></th>\n",
       "      <th>abstractWordCnt</th>\n",
       "      <th>abstractErrorCnt</th>\n",
       "      <th>extractWordCnt</th>\n",
       "      <th>extractErrorCnt</th>\n",
       "    </tr>\n",
       "  </thead>\n",
       "  <tbody>\n",
       "    <tr>\n",
       "      <th>0</th>\n",
       "      <td>8</td>\n",
       "      <td>0</td>\n",
       "      <td>19</td>\n",
       "      <td>3</td>\n",
       "    </tr>\n",
       "    <tr>\n",
       "      <th>1</th>\n",
       "      <td>9</td>\n",
       "      <td>1</td>\n",
       "      <td>26</td>\n",
       "      <td>1</td>\n",
       "    </tr>\n",
       "    <tr>\n",
       "      <th>2</th>\n",
       "      <td>8</td>\n",
       "      <td>2</td>\n",
       "      <td>9</td>\n",
       "      <td>1</td>\n",
       "    </tr>\n",
       "    <tr>\n",
       "      <th>3</th>\n",
       "      <td>9</td>\n",
       "      <td>0</td>\n",
       "      <td>11</td>\n",
       "      <td>0</td>\n",
       "    </tr>\n",
       "    <tr>\n",
       "      <th>4</th>\n",
       "      <td>9</td>\n",
       "      <td>1</td>\n",
       "      <td>17</td>\n",
       "      <td>0</td>\n",
       "    </tr>\n",
       "    <tr>\n",
       "      <th>5</th>\n",
       "      <td>7</td>\n",
       "      <td>1</td>\n",
       "      <td>14</td>\n",
       "      <td>1</td>\n",
       "    </tr>\n",
       "    <tr>\n",
       "      <th>6</th>\n",
       "      <td>7</td>\n",
       "      <td>2</td>\n",
       "      <td>33</td>\n",
       "      <td>2</td>\n",
       "    </tr>\n",
       "    <tr>\n",
       "      <th>7</th>\n",
       "      <td>4</td>\n",
       "      <td>0</td>\n",
       "      <td>18</td>\n",
       "      <td>0</td>\n",
       "    </tr>\n",
       "    <tr>\n",
       "      <th>8</th>\n",
       "      <td>9</td>\n",
       "      <td>1</td>\n",
       "      <td>32</td>\n",
       "      <td>2</td>\n",
       "    </tr>\n",
       "    <tr>\n",
       "      <th>9</th>\n",
       "      <td>6</td>\n",
       "      <td>0</td>\n",
       "      <td>31</td>\n",
       "      <td>4</td>\n",
       "    </tr>\n",
       "    <tr>\n",
       "      <th>10</th>\n",
       "      <td>8</td>\n",
       "      <td>3</td>\n",
       "      <td>26</td>\n",
       "      <td>0</td>\n",
       "    </tr>\n",
       "    <tr>\n",
       "      <th>11</th>\n",
       "      <td>8</td>\n",
       "      <td>3</td>\n",
       "      <td>26</td>\n",
       "      <td>0</td>\n",
       "    </tr>\n",
       "    <tr>\n",
       "      <th>12</th>\n",
       "      <td>9</td>\n",
       "      <td>3</td>\n",
       "      <td>19</td>\n",
       "      <td>0</td>\n",
       "    </tr>\n",
       "    <tr>\n",
       "      <th>13</th>\n",
       "      <td>8</td>\n",
       "      <td>6</td>\n",
       "      <td>17</td>\n",
       "      <td>0</td>\n",
       "    </tr>\n",
       "    <tr>\n",
       "      <th>14</th>\n",
       "      <td>8</td>\n",
       "      <td>1</td>\n",
       "      <td>34</td>\n",
       "      <td>1</td>\n",
       "    </tr>\n",
       "    <tr>\n",
       "      <th>15</th>\n",
       "      <td>8</td>\n",
       "      <td>1</td>\n",
       "      <td>22</td>\n",
       "      <td>0</td>\n",
       "    </tr>\n",
       "    <tr>\n",
       "      <th>16</th>\n",
       "      <td>8</td>\n",
       "      <td>2</td>\n",
       "      <td>25</td>\n",
       "      <td>4</td>\n",
       "    </tr>\n",
       "    <tr>\n",
       "      <th>17</th>\n",
       "      <td>6</td>\n",
       "      <td>1</td>\n",
       "      <td>25</td>\n",
       "      <td>5</td>\n",
       "    </tr>\n",
       "    <tr>\n",
       "      <th>18</th>\n",
       "      <td>8</td>\n",
       "      <td>1</td>\n",
       "      <td>18</td>\n",
       "      <td>0</td>\n",
       "    </tr>\n",
       "    <tr>\n",
       "      <th>19</th>\n",
       "      <td>9</td>\n",
       "      <td>2</td>\n",
       "      <td>21</td>\n",
       "      <td>3</td>\n",
       "    </tr>\n",
       "  </tbody>\n",
       "</table>\n",
       "</div>"
      ],
      "text/plain": [
       "   abstractWordCnt abstractErrorCnt extractWordCnt extractErrorCnt\n",
       "0                8                0             19               3\n",
       "1                9                1             26               1\n",
       "2                8                2              9               1\n",
       "3                9                0             11               0\n",
       "4                9                1             17               0\n",
       "5                7                1             14               1\n",
       "6                7                2             33               2\n",
       "7                4                0             18               0\n",
       "8                9                1             32               2\n",
       "9                6                0             31               4\n",
       "10               8                3             26               0\n",
       "11               8                3             26               0\n",
       "12               9                3             19               0\n",
       "13               8                6             17               0\n",
       "14               8                1             34               1\n",
       "15               8                1             22               0\n",
       "16               8                2             25               4\n",
       "17               6                1             25               5\n",
       "18               8                1             18               0\n",
       "19               9                2             21               3"
      ]
     },
     "execution_count": 124,
     "metadata": {},
     "output_type": "execute_result"
    },
    {
     "name": "stdout",
     "output_type": "stream",
     "text": [
      "time: 42.8 s (started: 2021-02-25 22:52:45 +09:00)\n"
     ]
    }
   ],
   "source": [
    "import requests\n",
    "import json\n",
    "\n",
    "url = \"https://jspell-checker.p.rapidapi.com/check\"\n",
    "config = {\n",
    "    \"forceUpperCase\": False,\n",
    "    \"ignoreIrregularCaps\": False,\n",
    "    \"ignoreFirstCaps\": True,\n",
    "    \"ignoreNumbers\": True,\n",
    "    \"ignoreUpper\": True,\n",
    "    \"ignoreDouble\": False,\n",
    "    \"ignoreWordsWithNumbers\": True\n",
    "}\n",
    "\n",
    "for report in tqdm(summary_report):\n",
    "    abstract_payload = {\n",
    "        \"language\": \"enUS\",\n",
    "        \"fieldvalues\": report['abstract'],\n",
    "        \"config\" : config\n",
    "    }\n",
    "    \n",
    "    extract_payload = {\n",
    "        \"language\": \"enUS\",\n",
    "        \"fieldvalues\": report['extract'],\n",
    "        \"config\" : config\n",
    "    }\n",
    "\n",
    "    headers = {\n",
    "        'content-type': \"application/json\",\n",
    "        'x-rapidapi-key': \"9b23b8bdd0mshc5486d3f4f5a872p12685djsn4613fbd8a25a\",\n",
    "        'x-rapidapi-host': \"jspell-checker.p.rapidapi.com\"\n",
    "    }\n",
    "\n",
    "    abstract_spell_check_res = requests.request(\"POST\", url, data=json.dumps(abstract_payload), headers=headers)\n",
    "    abstract_spell_check_res = abstract_spell_check_res.text\n",
    "    abstract_spell_check_res = json.loads(abstract_spell_check_res)\n",
    "    \n",
    "    extract_spell_check_res = requests.request(\"POST\", url, data=json.dumps(extract_payload), headers=headers)\n",
    "    extract_spell_check_res = extract_spell_check_res.text\n",
    "    extract_spell_check_res = json.loads(extract_spell_check_res)\n",
    "    \n",
    "    spell_check = spell_check.append({\n",
    "                        'abstractErrorCnt':abstract_spell_check_res['spellingErrorCount'],\n",
    "                        'abstractWordCnt':len(report['abstract'].split()),\n",
    "                        'extractErrorCnt':extract_spell_check_res['spellingErrorCount'],\n",
    "                        'extractWordCnt':len(report['extract'].split())\n",
    "                    }, \n",
    "                    ignore_index=True)    \n",
    "spell_check"
   ]
  },
  {
   "cell_type": "markdown",
   "id": "decreased-slide",
   "metadata": {},
   "source": [
    "- 문법 검사 결과 출력"
   ]
  },
  {
   "cell_type": "code",
   "execution_count": 125,
   "id": "later-stage",
   "metadata": {},
   "outputs": [
    {
     "name": "stdout",
     "output_type": "stream",
     "text": [
      "spell error rate - abstract : 0.1987\n",
      "spell error rate - extract : 0.0609\n",
      "time: 1.38 ms (started: 2021-02-25 22:54:06 +09:00)\n"
     ]
    }
   ],
   "source": [
    "columns_sum = spell_check.sum(axis=0)\n",
    "spell_error_rate_abstract = columns_sum['abstractErrorCnt'] / columns_sum['abstractWordCnt']\n",
    "spell_error_rate_extract = columns_sum['extractErrorCnt'] / columns_sum['extractWordCnt']\n",
    "print(f'spell error rate - abstract : {spell_error_rate_abstract:.4f}')\n",
    "print(f'spell error rate - extract : {spell_error_rate_extract:.4f}')"
   ]
  },
  {
   "cell_type": "code",
   "execution_count": 128,
   "id": "dental-adapter",
   "metadata": {},
   "outputs": [
    {
     "data": {
      "image/png": "[encoded data removed]",
      "text/plain": [
       "<Figure size 720x360 with 2 Axes>"
      ]
     },
     "metadata": {},
     "output_type": "display_data"
    },
    {
     "name": "stdout",
     "output_type": "stream",
     "text": [
      "time: 82.4 ms (started: 2021-02-25 22:54:25 +09:00)\n"
     ]
    }
   ],
   "source": [
    "import matplotlib.pyplot as plt\n",
    "\n",
    "fig, (ax1, ax2) = plt.subplots(1, 2, figsize=(10, 5))\n",
    "\n",
    "ratio_abstract = [1-spell_error_rate_abstract, spell_error_rate_abstract]\n",
    "ratio_extract = [1-spell_error_rate_extract, spell_error_rate_extract]\n",
    "labels = ['Correct', 'Error']\n",
    "colors = ['lightgray', '#ff6347', 'whitesmoke', 'lightgray']\n",
    "\n",
    "ax1.pie(ratio_abstract, labels=labels, autopct='%.1f%%', startangle=2800, \n",
    "        counterclock=False, explode=[0, 0.08], shadow=True, colors=colors)\n",
    "ax1.set_title('Abstract', fontsize=15)\n",
    "\n",
    "ax2.pie(ratio_extract, labels=labels, autopct='%.1f%%', startangle=320, \n",
    "        counterclock=False, explode=[0, 0.2], shadow=True, colors=colors)\n",
    "ax2.set_title('Extract', fontsize=15)\n",
    "\n",
    "fig.patch.set_facecolor('xkcd:white')\n",
    "fig.suptitle('Spell Error Rate', fontsize=20)\n",
    "plt.show()"
   ]
  },
  {
   "cell_type": "markdown",
   "id": "chubby-defendant",
   "metadata": {},
   "source": [
    "추상적 요약을 통하여 생성한 문장의 경우, 전체 단어 중 19.9% 가량에서 문법적 오류가 발견되었다. 그에 비해 추출적 요약은 6.1% 정도의 오류가 확인 되었다. 실제 문장에서 문장을 뽑아내는 것이니 원본 문장의 문장 구조(단어 배열을 순서)를 반영할 수 있었기 때문에 추출적 요약에서 문법적 오류가 더 적은 것으로 추정된다. 또한 추출적 요약의 경우, 모델의 불완전하여 문장에서 의미없이 중복되는 단어가 발견되고는 하는데( ex. player once played out of match during match match\n",
    ")이 경우가 문법적 오류 비율에 큰 영향을 미쳤을 것이다."
   ]
  },
  {
   "cell_type": "markdown",
   "id": "postal-woman",
   "metadata": {},
   "source": [
    "### 3. 핵심 단어 포함 여부\n",
    "- 20개의 샘플 중 5개를 선정하여 확인해 보도록하자."
   ]
  },
  {
   "cell_type": "code",
   "execution_count": 129,
   "id": "occupational-andorra",
   "metadata": {},
   "outputs": [
    {
     "name": "stdout",
     "output_type": "stream",
     "text": [
      "time: 742 µs (started: 2021-02-25 22:54:32 +09:00)\n"
     ]
    }
   ],
   "source": [
    "import pandas as pd\n",
    "pd.set_option('display.max_colwidth', None)\n",
    "\n",
    "random_idx = random.sample(range(20), 5)\n",
    "\n",
    "\n",
    "def left_align(df):\n",
    "    left_aligned_df = df.style.set_properties(**{'text-align': 'left'})\n",
    "    left_aligned_df = left_aligned_df.set_table_styles(\n",
    "        [dict(selector='th', props=[('text-align', 'left')])]\n",
    "    )\n",
    "    return left_aligned_df"
   ]
  },
  {
   "cell_type": "markdown",
   "id": "unusual-protection",
   "metadata": {},
   "source": [
    "- 첫번째 샘플"
   ]
  },
  {
   "cell_type": "code",
   "execution_count": 131,
   "id": "premium-batch",
   "metadata": {},
   "outputs": [
    {
     "data": {
      "text/html": [
       "<style  type=\"text/css\" >\n",
       "    #T_178b9402_7771_11eb_be28_b0a46081bac8 th {\n",
       "          text-align: left;\n",
       "    }#T_178b9402_7771_11eb_be28_b0a46081bac8row0_col0,#T_178b9402_7771_11eb_be28_b0a46081bac8row1_col0,#T_178b9402_7771_11eb_be28_b0a46081bac8row2_col0,#T_178b9402_7771_11eb_be28_b0a46081bac8row3_col0,#T_178b9402_7771_11eb_be28_b0a46081bac8row4_col0,#T_178b9402_7771_11eb_be28_b0a46081bac8row5_col0{\n",
       "            text-align:  left;\n",
       "        }</style><table id=\"T_178b9402_7771_11eb_be28_b0a46081bac8\" ><thead>    <tr>        <th class=\"blank level0\" ></th>        <th class=\"col_heading level0 col0\" >7</th>    </tr></thead><tbody>\n",
       "                <tr>\n",
       "                        <th id=\"T_178b9402_7771_11eb_be28_b0a46081bac8level0_row0\" class=\"row_heading level0 row0\" >raw</th>\n",
       "                        <td id=\"T_178b9402_7771_11eb_be28_b0a46081bac8row0_col0\" class=\"data row0 col0\" >The Chinese government is recruiting 20,000 people to write an online encyclopedia like Wikipedia. The scholars will reportedly write more than 3,00,000 entries of about 1,000 words apiece spanning over 100 disciplines. The resource will reportedly have information on China's technological developments and historical heritage to \"strengthen the core values of socialism.Ã¢ÂÂ</td>\n",
       "            </tr>\n",
       "            <tr>\n",
       "                        <th id=\"T_178b9402_7771_11eb_be28_b0a46081bac8level0_row1\" class=\"row_heading level0 row1\" >reference</th>\n",
       "                        <td id=\"T_178b9402_7771_11eb_be28_b0a46081bac8row1_col0\" class=\"data row1 col0\" >china to hire people to write wikipedia like </td>\n",
       "            </tr>\n",
       "            <tr>\n",
       "                        <th id=\"T_178b9402_7771_11eb_be28_b0a46081bac8level0_row2\" class=\"row_heading level0 row2\" >abstract</th>\n",
       "                        <td id=\"T_178b9402_7771_11eb_be28_b0a46081bac8row2_col0\" class=\"data row2 col0\" > china releases language of</td>\n",
       "            </tr>\n",
       "            <tr>\n",
       "                        <th id=\"T_178b9402_7771_11eb_be28_b0a46081bac8level0_row3\" class=\"row_heading level0 row3\" >f1_abstract</th>\n",
       "                        <td id=\"T_178b9402_7771_11eb_be28_b0a46081bac8row3_col0\" class=\"data row3 col0\" >0.166667</td>\n",
       "            </tr>\n",
       "            <tr>\n",
       "                        <th id=\"T_178b9402_7771_11eb_be28_b0a46081bac8level0_row4\" class=\"row_heading level0 row4\" >extract</th>\n",
       "                        <td id=\"T_178b9402_7771_11eb_be28_b0a46081bac8row4_col0\" class=\"data row4 col0\" >The scholars will reportedly write more than 3,00,000 entries of about 1,000 words apiece spanning over 100 disciplines.</td>\n",
       "            </tr>\n",
       "            <tr>\n",
       "                        <th id=\"T_178b9402_7771_11eb_be28_b0a46081bac8level0_row5\" class=\"row_heading level0 row5\" >f1_extract</th>\n",
       "                        <td id=\"T_178b9402_7771_11eb_be28_b0a46081bac8row5_col0\" class=\"data row5 col0\" >0.076923</td>\n",
       "            </tr>\n",
       "    </tbody></table>"
      ],
      "text/plain": [
       "<pandas.io.formats.style.Styler at 0x7ff74277bf90>"
      ]
     },
     "metadata": {},
     "output_type": "display_data"
    },
    {
     "name": "stdout",
     "output_type": "stream",
     "text": [
      "time: 6.8 ms (started: 2021-02-25 22:55:17 +09:00)\n"
     ]
    }
   ],
   "source": [
    "df = pd.DataFrame(summary_report[random_idx[0]], index=[random_idx[0]]).T\n",
    "df = left_align(df)\n",
    "display(df)"
   ]
  },
  {
   "cell_type": "markdown",
   "id": "universal-spending",
   "metadata": {},
   "source": [
    "원문은 *중국정부에서 위키 같은 인터넷 사전 작성을 위하여 사람을 고용하고 있다*는 내용으로 [chian, hire] 정도가 핵심 키워드라고 할 수 있다. 추상 요약에서는 완전한 문장은 아니지만 china가 포함되어 있다. 추출 요약은 위키를 어떤식으로 작성할 것인가에 대한 내용으로 원문 전체의 핵심을 담고 있다고 보기 어렵다."
   ]
  },
  {
   "cell_type": "markdown",
   "id": "medieval-collection",
   "metadata": {},
   "source": [
    "- 두번째 샘플"
   ]
  },
  {
   "cell_type": "code",
   "execution_count": 133,
   "id": "vietnamese-vatican",
   "metadata": {},
   "outputs": [
    {
     "data": {
      "text/html": [
       "<style  type=\"text/css\" >\n",
       "    #T_75b80c68_7771_11eb_be28_b0a46081bac8 th {\n",
       "          text-align: left;\n",
       "    }#T_75b80c68_7771_11eb_be28_b0a46081bac8row0_col0,#T_75b80c68_7771_11eb_be28_b0a46081bac8row1_col0,#T_75b80c68_7771_11eb_be28_b0a46081bac8row2_col0,#T_75b80c68_7771_11eb_be28_b0a46081bac8row3_col0,#T_75b80c68_7771_11eb_be28_b0a46081bac8row4_col0,#T_75b80c68_7771_11eb_be28_b0a46081bac8row5_col0{\n",
       "            text-align:  left;\n",
       "        }</style><table id=\"T_75b80c68_7771_11eb_be28_b0a46081bac8\" ><thead>    <tr>        <th class=\"blank level0\" ></th>        <th class=\"col_heading level0 col0\" >18</th>    </tr></thead><tbody>\n",
       "                <tr>\n",
       "                        <th id=\"T_75b80c68_7771_11eb_be28_b0a46081bac8level0_row0\" class=\"row_heading level0 row0\" >raw</th>\n",
       "                        <td id=\"T_75b80c68_7771_11eb_be28_b0a46081bac8row0_col0\" class=\"data row0 col0\" >Authorities have arrested the suspect who fatally shot Indian-origin police officer Ronil Singh earlier this week in California, US. The suspect, Gustavo Perez Arriaga, was in the US illegally and was arrested as he tried to flee back to Mexico. Seven other people who misled the authorities about his whereabouts or aided him in fleeing were also arrested.</td>\n",
       "            </tr>\n",
       "            <tr>\n",
       "                        <th id=\"T_75b80c68_7771_11eb_be28_b0a46081bac8level0_row1\" class=\"row_heading level0 row1\" >reference</th>\n",
       "                        <td id=\"T_75b80c68_7771_11eb_be28_b0a46081bac8row1_col0\" class=\"data row1 col0\" >indian origin policeman suspected killer arrested in us </td>\n",
       "            </tr>\n",
       "            <tr>\n",
       "                        <th id=\"T_75b80c68_7771_11eb_be28_b0a46081bac8level0_row2\" class=\"row_heading level0 row2\" >abstract</th>\n",
       "                        <td id=\"T_75b80c68_7771_11eb_be28_b0a46081bac8row2_col0\" class=\"data row2 col0\" > indian man arrested for killing us in us</td>\n",
       "            </tr>\n",
       "            <tr>\n",
       "                        <th id=\"T_75b80c68_7771_11eb_be28_b0a46081bac8level0_row3\" class=\"row_heading level0 row3\" >f1_abstract</th>\n",
       "                        <td id=\"T_75b80c68_7771_11eb_be28_b0a46081bac8row3_col0\" class=\"data row3 col0\" >0.625000</td>\n",
       "            </tr>\n",
       "            <tr>\n",
       "                        <th id=\"T_75b80c68_7771_11eb_be28_b0a46081bac8level0_row4\" class=\"row_heading level0 row4\" >extract</th>\n",
       "                        <td id=\"T_75b80c68_7771_11eb_be28_b0a46081bac8row4_col0\" class=\"data row4 col0\" >Seven other people who misled the authorities about his whereabouts or aided him in fleeing were also arrested.</td>\n",
       "            </tr>\n",
       "            <tr>\n",
       "                        <th id=\"T_75b80c68_7771_11eb_be28_b0a46081bac8level0_row5\" class=\"row_heading level0 row5\" >f1_extract</th>\n",
       "                        <td id=\"T_75b80c68_7771_11eb_be28_b0a46081bac8row5_col0\" class=\"data row5 col0\" >0.076923</td>\n",
       "            </tr>\n",
       "    </tbody></table>"
      ],
      "text/plain": [
       "<pandas.io.formats.style.Styler at 0x7ff7426c7150>"
      ]
     },
     "metadata": {},
     "output_type": "display_data"
    },
    {
     "name": "stdout",
     "output_type": "stream",
     "text": [
      "time: 6.89 ms (started: 2021-02-25 22:57:55 +09:00)\n"
     ]
    }
   ],
   "source": [
    "df = pd.DataFrame(summary_report[random_idx[1]], index=[random_idx[1]]).T\n",
    "df = left_align(df)\n",
    "display(df)"
   ]
  },
  {
   "cell_type": "markdown",
   "id": "increasing-average",
   "metadata": {},
   "source": [
    "원문은 *인도 출신 경찰관을 살해한 용의자를 체포*한 사실에 대하여 다루고 있으므로 [arrest]가 핵심 단어가 된다. 추상 요약에에서는 arrest가 포함되어 있지만, 원문과 완전히 반전된 내용을 말하고 있다. 추출 요약에서도 arrest가 등장하지만, 살해 용의자의 도주를 도왔던 다른 인물들도 체포했다는 내용을 담고 있기 때문에 핵심이 되는 부분을 표현하기 위하여 arrest를 사용하였다고 보기 어렵다."
   ]
  },
  {
   "cell_type": "markdown",
   "id": "split-detector",
   "metadata": {},
   "source": [
    "- 세번째 샘플"
   ]
  },
  {
   "cell_type": "code",
   "execution_count": 134,
   "id": "unsigned-distributor",
   "metadata": {},
   "outputs": [
    {
     "data": {
      "text/html": [
       "<style  type=\"text/css\" >\n",
       "    #T_22853ae2_7772_11eb_be28_b0a46081bac8 th {\n",
       "          text-align: left;\n",
       "    }#T_22853ae2_7772_11eb_be28_b0a46081bac8row0_col0,#T_22853ae2_7772_11eb_be28_b0a46081bac8row1_col0,#T_22853ae2_7772_11eb_be28_b0a46081bac8row2_col0,#T_22853ae2_7772_11eb_be28_b0a46081bac8row3_col0,#T_22853ae2_7772_11eb_be28_b0a46081bac8row4_col0,#T_22853ae2_7772_11eb_be28_b0a46081bac8row5_col0{\n",
       "            text-align:  left;\n",
       "        }</style><table id=\"T_22853ae2_7772_11eb_be28_b0a46081bac8\" ><thead>    <tr>        <th class=\"blank level0\" ></th>        <th class=\"col_heading level0 col0\" >10</th>    </tr></thead><tbody>\n",
       "                <tr>\n",
       "                        <th id=\"T_22853ae2_7772_11eb_be28_b0a46081bac8level0_row0\" class=\"row_heading level0 row0\" >raw</th>\n",
       "                        <td id=\"T_22853ae2_7772_11eb_be28_b0a46081bac8row0_col0\" class=\"data row0 col0\" >Weapons belonging to India's shooting team were seized by the customs department at Delhi airport on Tuesday, with the shooters being detained for over 13 hours. The shooters, which included a few Olympians returning from the Plzen Grand Prix, were reportedly clueless about the reason for detention. They also alleged the customs officials used foul language with them.</td>\n",
       "            </tr>\n",
       "            <tr>\n",
       "                        <th id=\"T_22853ae2_7772_11eb_be28_b0a46081bac8level0_row1\" class=\"row_heading level0 row1\" >reference</th>\n",
       "                        <td id=\"T_22853ae2_7772_11eb_be28_b0a46081bac8row1_col0\" class=\"data row1 col0\" >weapons of india shooting team seized at delhi airport </td>\n",
       "            </tr>\n",
       "            <tr>\n",
       "                        <th id=\"T_22853ae2_7772_11eb_be28_b0a46081bac8level0_row2\" class=\"row_heading level0 row2\" >abstract</th>\n",
       "                        <td id=\"T_22853ae2_7772_11eb_be28_b0a46081bac8row2_col0\" class=\"data row2 col0\" > saudi arabia seizes man who killed in delhi</td>\n",
       "            </tr>\n",
       "            <tr>\n",
       "                        <th id=\"T_22853ae2_7772_11eb_be28_b0a46081bac8level0_row3\" class=\"row_heading level0 row3\" >f1_abstract</th>\n",
       "                        <td id=\"T_22853ae2_7772_11eb_be28_b0a46081bac8row3_col0\" class=\"data row3 col0\" >0.117647</td>\n",
       "            </tr>\n",
       "            <tr>\n",
       "                        <th id=\"T_22853ae2_7772_11eb_be28_b0a46081bac8level0_row4\" class=\"row_heading level0 row4\" >extract</th>\n",
       "                        <td id=\"T_22853ae2_7772_11eb_be28_b0a46081bac8row4_col0\" class=\"data row4 col0\" >Weapons belonging to India's shooting team were seized by the customs department at Delhi airport on Tuesday, with the shooters being detained for over 13 hours.</td>\n",
       "            </tr>\n",
       "            <tr>\n",
       "                        <th id=\"T_22853ae2_7772_11eb_be28_b0a46081bac8level0_row5\" class=\"row_heading level0 row5\" >f1_extract</th>\n",
       "                        <td id=\"T_22853ae2_7772_11eb_be28_b0a46081bac8row5_col0\" class=\"data row5 col0\" >0.285714</td>\n",
       "            </tr>\n",
       "    </tbody></table>"
      ],
      "text/plain": [
       "<pandas.io.formats.style.Styler at 0x7ff7426c7a90>"
      ]
     },
     "metadata": {},
     "output_type": "display_data"
    },
    {
     "name": "stdout",
     "output_type": "stream",
     "text": [
      "time: 5.83 ms (started: 2021-02-25 23:02:45 +09:00)\n"
     ]
    }
   ],
   "source": [
    "df = pd.DataFrame(summary_report[random_idx[2]], index=[random_idx[2]]).T\n",
    "df = left_align(df)\n",
    "display(df)"
   ]
  },
  {
   "cell_type": "markdown",
   "id": "dress-associate",
   "metadata": {},
   "source": [
    "원문은 *올림픽 사격 선수들의 무기(총)이 델리 공항 세관국에 압수되었다*는 사실에 대하여 다루고 있으므로 [customs department at Delhi airport, shooters]가 핵심 단어가 된다. 추상 요약에에서는 해당 단어가 등장하지 않았다. 추출 요약은 원문의 첫 구절을 그대로 추출하였고 이는 핵심 단어를 포함하며 원문 전체의 핵심이 되는 부분이기도 한다."
   ]
  },
  {
   "cell_type": "markdown",
   "id": "macro-northern",
   "metadata": {},
   "source": [
    "- 네번째 샘플"
   ]
  },
  {
   "cell_type": "code",
   "execution_count": 135,
   "id": "loaded-twist",
   "metadata": {},
   "outputs": [
    {
     "data": {
      "text/html": [
       "<style  type=\"text/css\" >\n",
       "    #T_bb737de0_7772_11eb_be28_b0a46081bac8 th {\n",
       "          text-align: left;\n",
       "    }#T_bb737de0_7772_11eb_be28_b0a46081bac8row0_col0,#T_bb737de0_7772_11eb_be28_b0a46081bac8row1_col0,#T_bb737de0_7772_11eb_be28_b0a46081bac8row2_col0,#T_bb737de0_7772_11eb_be28_b0a46081bac8row3_col0,#T_bb737de0_7772_11eb_be28_b0a46081bac8row4_col0,#T_bb737de0_7772_11eb_be28_b0a46081bac8row5_col0{\n",
       "            text-align:  left;\n",
       "        }</style><table id=\"T_bb737de0_7772_11eb_be28_b0a46081bac8\" ><thead>    <tr>        <th class=\"blank level0\" ></th>        <th class=\"col_heading level0 col0\" >13</th>    </tr></thead><tbody>\n",
       "                <tr>\n",
       "                        <th id=\"T_bb737de0_7772_11eb_be28_b0a46081bac8level0_row0\" class=\"row_heading level0 row0\" >raw</th>\n",
       "                        <td id=\"T_bb737de0_7772_11eb_be28_b0a46081bac8row0_col0\" class=\"data row0 col0\" >Addressing a kisan rally in Uttar Pradesh's Shahjahanpur on Saturday, PM Narendra Modi said the Opposition was shedding crocodile tears and \"had no time to work on MSP hike\". \"[Our] priority is to ensure that the hard work of the farmers of this nation is respected. That's the reason several decisions have been taken to benefit sugarcane farmers,\" he added.</td>\n",
       "            </tr>\n",
       "            <tr>\n",
       "                        <th id=\"T_bb737de0_7772_11eb_be28_b0a46081bac8level0_row1\" class=\"row_heading level0 row1\" >reference</th>\n",
       "                        <td id=\"T_bb737de0_7772_11eb_be28_b0a46081bac8row1_col0\" class=\"data row1 col0\" >opposition crocodile tears pm at rally in up </td>\n",
       "            </tr>\n",
       "            <tr>\n",
       "                        <th id=\"T_bb737de0_7772_11eb_be28_b0a46081bac8level0_row2\" class=\"row_heading level0 row2\" >abstract</th>\n",
       "                        <td id=\"T_bb737de0_7772_11eb_be28_b0a46081bac8row2_col0\" class=\"data row2 col0\" > pm modi calls govt govt for lok sabha</td>\n",
       "            </tr>\n",
       "            <tr>\n",
       "                        <th id=\"T_bb737de0_7772_11eb_be28_b0a46081bac8level0_row3\" class=\"row_heading level0 row3\" >f1_abstract</th>\n",
       "                        <td id=\"T_bb737de0_7772_11eb_be28_b0a46081bac8row3_col0\" class=\"data row3 col0\" >0.125000</td>\n",
       "            </tr>\n",
       "            <tr>\n",
       "                        <th id=\"T_bb737de0_7772_11eb_be28_b0a46081bac8level0_row4\" class=\"row_heading level0 row4\" >extract</th>\n",
       "                        <td id=\"T_bb737de0_7772_11eb_be28_b0a46081bac8row4_col0\" class=\"data row4 col0\" >\"[Our] priority is to ensure that the hard work of the farmers of this nation is respected.</td>\n",
       "            </tr>\n",
       "            <tr>\n",
       "                        <th id=\"T_bb737de0_7772_11eb_be28_b0a46081bac8level0_row5\" class=\"row_heading level0 row5\" >f1_extract</th>\n",
       "                        <td id=\"T_bb737de0_7772_11eb_be28_b0a46081bac8row5_col0\" class=\"data row5 col0\" >0</td>\n",
       "            </tr>\n",
       "    </tbody></table>"
      ],
      "text/plain": [
       "<pandas.io.formats.style.Styler at 0x7ff74277f250>"
      ]
     },
     "metadata": {},
     "output_type": "display_data"
    },
    {
     "name": "stdout",
     "output_type": "stream",
     "text": [
      "time: 6.99 ms (started: 2021-02-25 23:07:01 +09:00)\n"
     ]
    }
   ],
   "source": [
    "df = pd.DataFrame(summary_report[random_idx[3]], index=[random_idx[3]]).T\n",
    "df = left_align(df)\n",
    "display(df)"
   ]
  },
  {
   "cell_type": "markdown",
   "id": "cosmetic-given",
   "metadata": {},
   "source": [
    "원문은 *25일에 있었던 Narendra Modi의 발언*에 관하여 말하고 있으므로 핵심 키원드는 [Narendra Modi]가 될 것이다. 추상 요약에서는 modi를 포함하므로 시작은 좋았으나 문장 자체가 불완전하다. 추출 요약은 Narendra Modi의 발언 일부로 Narendra Modi에 대한 언급이 존재하지 않는다."
   ]
  },
  {
   "cell_type": "markdown",
   "id": "integrated-western",
   "metadata": {},
   "source": [
    "- 다섯번째 샘플 "
   ]
  },
  {
   "cell_type": "code",
   "execution_count": 137,
   "id": "regulated-washington",
   "metadata": {},
   "outputs": [
    {
     "data": {
      "text/html": [
       "<style  type=\"text/css\" >\n",
       "    #T_899dae5c_7773_11eb_be28_b0a46081bac8 th {\n",
       "          text-align: left;\n",
       "    }#T_899dae5c_7773_11eb_be28_b0a46081bac8row0_col0,#T_899dae5c_7773_11eb_be28_b0a46081bac8row1_col0,#T_899dae5c_7773_11eb_be28_b0a46081bac8row2_col0,#T_899dae5c_7773_11eb_be28_b0a46081bac8row3_col0,#T_899dae5c_7773_11eb_be28_b0a46081bac8row4_col0,#T_899dae5c_7773_11eb_be28_b0a46081bac8row5_col0{\n",
       "            text-align:  left;\n",
       "        }</style><table id=\"T_899dae5c_7773_11eb_be28_b0a46081bac8\" ><thead>    <tr>        <th class=\"blank level0\" ></th>        <th class=\"col_heading level0 col0\" >17</th>    </tr></thead><tbody>\n",
       "                <tr>\n",
       "                        <th id=\"T_899dae5c_7773_11eb_be28_b0a46081bac8level0_row0\" class=\"row_heading level0 row0\" >raw</th>\n",
       "                        <td id=\"T_899dae5c_7773_11eb_be28_b0a46081bac8row0_col0\" class=\"data row0 col0\" >The Indonesian town of Kampung Pelangi has been repainted in bright colours and decorated with 3D murals, as part of a Ã¢ÂÂ¹14.4 lakh government-funded makeover. Once considered a slum, the town has started attracting tourists. According to reports, the local government is investing more money to clean up the river and expand the project. </td>\n",
       "            </tr>\n",
       "            <tr>\n",
       "                        <th id=\"T_899dae5c_7773_11eb_be28_b0a46081bac8level0_row1\" class=\"row_heading level0 row1\" >reference</th>\n",
       "                        <td id=\"T_899dae5c_7773_11eb_be28_b0a46081bac8row1_col0\" class=\"data row1 col0\" >indonesian town painted in bright colours </td>\n",
       "            </tr>\n",
       "            <tr>\n",
       "                        <th id=\"T_899dae5c_7773_11eb_be28_b0a46081bac8level0_row2\" class=\"row_heading level0 row2\" >abstract</th>\n",
       "                        <td id=\"T_899dae5c_7773_11eb_be28_b0a46081bac8row2_col0\" class=\"data row2 col0\" > german village turns out of island</td>\n",
       "            </tr>\n",
       "            <tr>\n",
       "                        <th id=\"T_899dae5c_7773_11eb_be28_b0a46081bac8level0_row3\" class=\"row_heading level0 row3\" >f1_abstract</th>\n",
       "                        <td id=\"T_899dae5c_7773_11eb_be28_b0a46081bac8row3_col0\" class=\"data row3 col0\" >0</td>\n",
       "            </tr>\n",
       "            <tr>\n",
       "                        <th id=\"T_899dae5c_7773_11eb_be28_b0a46081bac8level0_row4\" class=\"row_heading level0 row4\" >extract</th>\n",
       "                        <td id=\"T_899dae5c_7773_11eb_be28_b0a46081bac8row4_col0\" class=\"data row4 col0\" >The Indonesian town of Kampung Pelangi has been repainted in bright colours and decorated with 3D murals, as part of a Ã¢ÂÂ¹14.4 lakh government-funded makeover.</td>\n",
       "            </tr>\n",
       "            <tr>\n",
       "                        <th id=\"T_899dae5c_7773_11eb_be28_b0a46081bac8level0_row5\" class=\"row_heading level0 row5\" >f1_extract</th>\n",
       "                        <td id=\"T_899dae5c_7773_11eb_be28_b0a46081bac8row5_col0\" class=\"data row5 col0\" >0.258065</td>\n",
       "            </tr>\n",
       "    </tbody></table>"
      ],
      "text/plain": [
       "<pandas.io.formats.style.Styler at 0x7ff742dbac50>"
      ]
     },
     "metadata": {},
     "output_type": "display_data"
    },
    {
     "name": "stdout",
     "output_type": "stream",
     "text": [
      "time: 6.64 ms (started: 2021-02-25 23:12:47 +09:00)\n"
     ]
    }
   ],
   "source": [
    "df = pd.DataFrame(summary_report[random_idx[4]], index=[random_idx[4]]).T\n",
    "df = left_align(df)\n",
    "display(df)"
   ]
  },
  {
   "cell_type": "markdown",
   "id": "expanded-shark",
   "metadata": {},
   "source": [
    "원문은 *인도네시아의 Kampung Pelangi 마을이 벽화를 다시 칠하면서 관광객이 유치되기 시작*했다는 내용으로 [Kampung Pelangi, mural]이 핵심 키워드라고 볼 수 있다. 추상 요약에서는 해당 단어들이 등장하지 않았다. 추출 요약은 원문의 첫 구절을 그대로 추출하였고 이는 핵심 단어를 포함하며 원문 전체의 핵심이 되는 부분이기도 한다."
   ]
  },
  {
   "cell_type": "markdown",
   "id": "trying-northwest",
   "metadata": {},
   "source": [
    "- 정리"
   ]
  },
  {
   "cell_type": "code",
   "execution_count": 140,
   "id": "expressed-mission",
   "metadata": {},
   "outputs": [
    {
     "name": "stdout",
     "output_type": "stream",
     "text": [
      "time: 503 µs (started: 2021-02-25 23:28:44 +09:00)\n"
     ]
    }
   ],
   "source": [
    "keyword_analyze_result = {\n",
    "    'is_abstract_contain_keyword' : [ 'o', 'o', 'x', 'o', 'x'],\n",
    "    'is_abstract_reasonable' : [ 'x', 'x', 'x', 'x', 'x'],\n",
    "    'is_extractt_contain_keyword' : [ 'x', 'o', 'o', 'o', 'o'],\n",
    "    'is_extract_reasonable' : [ 'x', 'x', 'o', 'x', 'o']\n",
    "}"
   ]
  },
  {
   "cell_type": "code",
   "execution_count": 141,
   "id": "cellular-boutique",
   "metadata": {},
   "outputs": [
    {
     "data": {
      "text/html": [
       "<div>\n",
       "<style scoped>\n",
       "    .dataframe tbody tr th:only-of-type {\n",
       "        vertical-align: middle;\n",
       "    }\n",
       "\n",
       "    .dataframe tbody tr th {\n",
       "        vertical-align: top;\n",
       "    }\n",
       "\n",
       "    .dataframe thead th {\n",
       "        text-align: right;\n",
       "    }\n",
       "</style>\n",
       "<table border=\"1\" class=\"dataframe\">\n",
       "  <thead>\n",
       "    <tr style=\"text-align: right;\">\n",
       "      <th></th>\n",
       "      <th>is_abstract_contain_keyword</th>\n",
       "      <th>is_abstract_reasonable</th>\n",
       "      <th>is_extractt_contain_keyword</th>\n",
       "      <th>is_extract_reasonable</th>\n",
       "    </tr>\n",
       "  </thead>\n",
       "  <tbody>\n",
       "    <tr>\n",
       "      <th>0</th>\n",
       "      <td>o</td>\n",
       "      <td>x</td>\n",
       "      <td>x</td>\n",
       "      <td>x</td>\n",
       "    </tr>\n",
       "    <tr>\n",
       "      <th>1</th>\n",
       "      <td>o</td>\n",
       "      <td>x</td>\n",
       "      <td>o</td>\n",
       "      <td>x</td>\n",
       "    </tr>\n",
       "    <tr>\n",
       "      <th>2</th>\n",
       "      <td>x</td>\n",
       "      <td>x</td>\n",
       "      <td>o</td>\n",
       "      <td>o</td>\n",
       "    </tr>\n",
       "    <tr>\n",
       "      <th>3</th>\n",
       "      <td>o</td>\n",
       "      <td>x</td>\n",
       "      <td>o</td>\n",
       "      <td>x</td>\n",
       "    </tr>\n",
       "    <tr>\n",
       "      <th>4</th>\n",
       "      <td>x</td>\n",
       "      <td>x</td>\n",
       "      <td>o</td>\n",
       "      <td>o</td>\n",
       "    </tr>\n",
       "  </tbody>\n",
       "</table>\n",
       "</div>"
      ],
      "text/plain": [
       "  is_abstract_contain_keyword is_abstract_reasonable  \\\n",
       "0                           o                      x   \n",
       "1                           o                      x   \n",
       "2                           x                      x   \n",
       "3                           o                      x   \n",
       "4                           x                      x   \n",
       "\n",
       "  is_extractt_contain_keyword is_extract_reasonable  \n",
       "0                           x                     x  \n",
       "1                           o                     x  \n",
       "2                           o                     o  \n",
       "3                           o                     x  \n",
       "4                           o                     o  "
      ]
     },
     "execution_count": 141,
     "metadata": {},
     "output_type": "execute_result"
    },
    {
     "name": "stdout",
     "output_type": "stream",
     "text": [
      "time: 7.91 ms (started: 2021-02-25 23:28:45 +09:00)\n"
     ]
    }
   ],
   "source": [
    "pd.DataFrame(keyword_analyze_result)"
   ]
  },
  {
   "cell_type": "markdown",
   "id": "bronze-furniture",
   "metadata": {},
   "source": [
    "추상 요약으로 만들어진 문장은 대체로 키워드를 포함하지만 문장의 의미가 원문과 맞지 않거나 문장이 완전하지 못하였다.<br/>\n",
    "추출 요약으로 만들어진 문장은 대체로 키워드를 포함하고 있었지만 그 중 절반만이 요약문이라고 할 수 있는 완성도를 보였다. "
   ]
  },
  {
   "cell_type": "markdown",
   "id": "regulation-plumbing",
   "metadata": {},
   "source": [
    "### 4. 지표를 통한 비교 "
   ]
  },
  {
   "cell_type": "markdown",
   "id": "pursuant-ceramic",
   "metadata": {},
   "source": [
    "#### ROUGE F1 SCORE"
   ]
  },
  {
   "cell_type": "markdown",
   "id": "direct-pharmacology",
   "metadata": {},
   "source": [
    "테스트 데이터 셋을 기준으로 집계한 ROUGE F1 Score는 다음과 같다.\n",
    "- 추상요약 : 0.2810423389849427\n",
    "- 추출요약 : 0.1839122049345609\n",
    "\n",
    "ROUGE F1 score로 보았을 때, 추상 요약이 더 좋은 성능을 보이고 있다. 하지만, 위에서 살펴본바와 같이 프로젝트에서 학습된 모델을 통한 추상 요약은 문장에서 키워드를 뽑아내는 것은 가능하나 그 문장의 온전하지 못한 경우가 많았다. 반면, 추출 요약은 원문에서 핵심이 되는 문장 자체를 거의 그대로 뽑아오기 때문에 핵심이 되는 문장 선정에 성공한다면 문장이 자체는 완전한 경향을 보였다. 그렇기에 ROUGE F1 score가 높다고 하여 추상 요약이 더 좋은 성능을 보인다고 확언 할 수 없다."
   ]
  },
  {
   "cell_type": "markdown",
   "id": "variable-singer",
   "metadata": {},
   "source": [
    "#### WMD"
   ]
  },
  {
   "cell_type": "markdown",
   "id": "spoken-elevation",
   "metadata": {},
   "source": [
    "- setting for wmdistance"
   ]
  },
  {
   "cell_type": "code",
   "execution_count": 112,
   "id": "proof-particular",
   "metadata": {},
   "outputs": [
    {
     "name": "stdout",
     "output_type": "stream",
     "text": [
      "time: 561 ms (started: 2021-02-25 22:39:10 +09:00)\n"
     ]
    },
    {
     "name": "stderr",
     "output_type": "stream",
     "text": [
      "[nltk_data] Downloading package stopwords to /home/aiffel-\n",
      "[nltk_data]     dj1/nltk_data...\n",
      "[nltk_data]   Package stopwords is already up-to-date!\n"
     ]
    }
   ],
   "source": [
    "from nltk.corpus import stopwords\n",
    "from nltk import download\n",
    "download('stopwords')  # Download stopwords list.\n",
    "stop_words = stopwords.words('english')\n",
    "\n",
    "def preprocess(sentence):\n",
    "    return [w for w in sentence.lower().split() if w not in stop_words]\n"
   ]
  },
  {
   "cell_type": "code",
   "execution_count": 115,
   "id": "electronic-poultry",
   "metadata": {},
   "outputs": [
    {
     "name": "stdout",
     "output_type": "stream",
     "text": [
      "[==================================================] 100.0% 1662.8/1662.8MB downloaded\n",
      "time: 10min 48s (started: 2021-02-25 22:39:35 +09:00)\n"
     ]
    }
   ],
   "source": [
    "import gensim.downloader as api\n",
    "model = api.load('word2vec-google-news-300')"
   ]
  },
  {
   "cell_type": "markdown",
   "id": "atmospheric-hypothetical",
   "metadata": {},
   "source": [
    "- test"
   ]
  },
  {
   "cell_type": "code",
   "execution_count": 157,
   "id": "armed-vatican",
   "metadata": {},
   "outputs": [
    {
     "name": "stdout",
     "output_type": "stream",
     "text": [
      "WMD - obama~president : 3.3741233214730024\n",
      "WMD - obama~orange : 4.380239402988511\n",
      "time: 2.89 ms (started: 2021-02-25 23:54:46 +09:00)\n"
     ]
    }
   ],
   "source": [
    "sentence_obama = preprocess('Obama speaks to the media in Illinois')\n",
    "sentence_president = preprocess('The president greets the press in Chicago')\n",
    "sentence_orange = preprocess('Oranges are my favorite fruit')\n",
    "print(f'WMD - obama~president : {model.wmdistance(sentence_obama, sentence_president)}')\n",
    "print(f'WMD - obama~orange : {model.wmdistance(sentence_obama, sentence_orange)}')"
   ]
  },
  {
   "cell_type": "markdown",
   "id": "collect-conducting",
   "metadata": {},
   "source": [
    "- 추출 요약과 추상요약에 대한 WMD 비교"
   ]
  },
  {
   "cell_type": "code",
   "execution_count": 153,
   "id": "moral-scene",
   "metadata": {},
   "outputs": [
    {
     "name": "stdout",
     "output_type": "stream",
     "text": [
      "time: 334 ms (started: 2021-02-25 23:51:33 +09:00)\n"
     ]
    }
   ],
   "source": [
    "distance_abstract = 0\n",
    "distance_extract = 0\n",
    "\n",
    "for i in range(20):\n",
    "    sentence_raw = summary_report[i]['raw']\n",
    "    sentence_abstract = summary_report[i]['abstract']\n",
    "    sentence_extract = summary_report[i]['extract']\n",
    "    \n",
    "    distance_raw_abstract = model.wmdistance(sentence_raw, sentence_abstract)\n",
    "    distance_raw_extract = model.wmdistance(sentence_raw, sentence_extract)\n",
    "    \n",
    "    distance_abstract += distance_raw_abstract\n",
    "    distance_extract += distance_raw_extract"
   ]
  },
  {
   "cell_type": "code",
   "execution_count": 156,
   "id": "negative-multimedia",
   "metadata": {},
   "outputs": [
    {
     "name": "stdout",
     "output_type": "stream",
     "text": [
      "WMD - abstract : 1.0300\n",
      "WMD - abstract : 0.0270\n",
      "time: 516 µs (started: 2021-02-25 23:52:20 +09:00)\n"
     ]
    }
   ],
   "source": [
    "print(f'WMD - abstract : {distance_abstract / 20 :.4f}')\n",
    "print(f'WMD - abstract : {distance_raw_extract / 20 :.4f}')"
   ]
  },
  {
   "cell_type": "markdown",
   "id": "german-salvation",
   "metadata": {},
   "source": [
    "추출 요약으로 생성된 문장이 추상요약으로 생성 된 문장에 비해 원문에 더 가까운 것을 확인 할 수 있었다."
   ]
  },
  {
   "cell_type": "markdown",
   "id": "chubby-ratio",
   "metadata": {},
   "source": [
    "## STEP 3. 결론\n",
    "---"
   ]
  },
  {
   "cell_type": "markdown",
   "id": "billion-taxation",
   "metadata": {},
   "source": [
    "### 프로젝트 평가\n",
    "1. Abstractive 모델 구성을 위한 텍스트 전처리 단계가 체계적으로 진행되었다. 분석단계, 정제단계, 정규화와 불용어 제거, 데이터셋 분리, 인코딩 과정이 빠짐없이 체계적으로 진행되었다.\n",
    "\n",
    "2. 텍스트 요약모델이 성공적으로 학습되었음을 확인하였다. 모델학습이 안정적으로 수렴되었음을 그래프를 통해 확인하였으며, 실제 요약문과 유사한 요약문장을 얻을 수 있었다.\n",
    "\n",
    "3. Extractive 요약을 시도해 보고 Abstractive 요약 결과과 함께 비교해 보았다. 두 요약 결과를 문법완성도 측면과 핵심단어 포함 측면으로 나누어 비교분석 결과를 제시하였다."
   ]
  },
  {
   "cell_type": "markdown",
   "id": "broken-clock",
   "metadata": {},
   "source": [
    "### 회고\n",
    "- 아직 모델을 평가하는데 어떤 지표를 사용해야 하는지에 대한 지식이 부족함을 느꼈다. 모델을 통하여 문장을 생성하였고 이것이 한눈에 보아도 제대로 된 것이 아니지만 **얼마나** 잘못되었는지에 대하여 알고 싶었고 그 기준이 될만한 지표가 필요하였다. 이번 프로젝트에서 사용된 지표는 ROUGE로 생성된 문자열이 참조 문자열(실제 요약문)과 중복되게 가지는 단어를 기준으로 모델을 평가하는 지표였다. 하지만 이것도 완벽하다고는 생각될 수 없었던 것이 우리가 문장을 요약할 때, 기존 문장에 있는 단어를 그대로 사용하기도 하지만 다른 단어를 사용하여서 더 함축적으로 요약을 할 수도 있다. 이 경우 중복되는 단어의 수는 더 적지만,  문장이 더 잘 요약되었다고 평가하는 것이 옳다. 하지만 ROUGE는 이를 반영할 수 없기 때문에 완전한 지표는 되지 못한다고 생각된다. 그렇다면 어떻게하면 문장간의 정확한 유사도를 구할 수 있을까?\n",
    "- 검색해본 바에 의하면 WMD(Word Mover's Distance)가 가장 적합해 보였다. WMD는 이전에 영화감상분석을 하면서 살펴보았던 word2vec를 기반으로하여 단어간의 유사도를 통해 문장/문서 간의 유사도를 계산하는 방식이다.  `gensim`에서 제공하는 `wmdistance`를 이용하여 간단히 수행해 볼 수 있으며 `word2vec-google-news-300`를 바로 사용할 수 있어 뉴스를 요약하는 이번 프로젝트 주제와도 궁합이 잘 맞았다."
   ]
  },
  {
   "cell_type": "code",
   "execution_count": 28,
   "id": "available-bronze",
   "metadata": {},
   "outputs": [
    {
     "name": "stdout",
     "output_type": "stream",
     "text": [
      "[15208 16284 73277 ... 78900 34069 24489]\n",
      "time: 4.08 ms (started: 2021-02-25 21:36:45 +09:00)\n"
     ]
    }
   ],
   "source": [
    "indices = np.arange(encoder_input.shape[0])\n",
    "np.random.shuffle(indices)\n",
    "print(indices)"
   ]
  },
  {
   "cell_type": "code",
   "execution_count": 34,
   "id": "adult-explosion",
   "metadata": {},
   "outputs": [
    {
     "name": "stdout",
     "output_type": "stream",
     "text": [
      "[27623  8366 25940 ... 41924 16943 53848]\n",
      "time: 2.66 ms (started: 2021-02-25 21:38:01 +09:00)\n"
     ]
    }
   ],
   "source": [
    "np.random.shuffle(indices)\n",
    "print(indices)"
   ]
  },
  {
   "cell_type": "markdown",
   "id": "strange-russia",
   "metadata": {},
   "source": [
    "- 괴담) 마감을 위하여 데이터를 자세히 보던 중 이상한 점을 발견하게 되었다. 추출 요약문/추상 요약문/원문의 내용이 전혀 비슷하지 않았다. 이는 np.random.suffle로부터 비롯된 문제였다. np.random.suffle에서 생선된 indices에 따라 문장의 등장 순서가 변경되는데 이는 토큰화를 시키는 과정에서 문장(단어)가 등장하는 순서를 변경시킨다. 즉, indices가 달라진다면 단어 사전의 구성도 달라진다. 프로젝트는 여러날에 걸쳐서 진행되었고, 수훨한 진행을 위하여 저정해 놓고 불러와 사용한 값은 전처리 된 문장을 담은 csv와 학습된 모델이었다. 커널이 새로이 시작 될 때마다 새로운 단어 사전이 만들어졌고, 그에따라 저장된 모델은 무용지물이 되었다. 하필이면 np.random.suffle은 seed도 지정할 수 없어 보기드물게 정말 ^랜덤^한 결과를 보여 주었기에 suffle이 진행된 이후의 데이터를 저장해 두지 않으면 사실상 다른 값들을 저장하는 것은 아무의미가 없던 것이었다. 추상적 요약의 ROUGE f1 score를 계산할적에 데이터를 건드린적이 없어 한 번에 f1 score를 다시 계산할 필요가 없었던 것이 너무 다행이었다. 세기간짜리 계산을 또 해야했다면 눈물이 찔끔 나왔을 것이다. 오랜만에 여유로웠던 마감시간에 벼락을 맞아버렸고, 지금 회고가 평소보다 아주 긴 이유도 급하게 새로 모델을 새로 돌리면서 시간이 많이 남게 되어서이다. 괜히 많은 예시들에서 train_test_split를 사용하는 것이 아님을 절감하여 다시는 한번 수행하는 것으로 끝나지 않을 프로젝트에 np.random.suffle를 사용하여 데이터를 섞는 행위를 하지 않아야겠다고 다짐하게 되었다."
   ]
  },
  {
   "cell_type": "markdown",
   "id": "heavy-distributor",
   "metadata": {},
   "source": [
    "## ref\n",
    "---\n",
    "- [예시를 통한 ROUGE 성능 지표의 이해](https://huffon.github.io/2019/12/07/rouge/)\n",
    "- [Text Generation Evaluation 06 - ROUGE](https://ai-information.blogspot.com/2019/04/text-generation-evaluation-06-rouge.html)\n",
    "- [How to Compute Sentence Similarity Using BERT and Word2Vec](https://towardsdatascience.com/how-to-compute-sentence-similarity-using-bert-and-word2vec-ab0663a5d64)\n",
    "- [From Word Embeddings To Document Distances](http://proceedings.mlr.press/v37/kusnerb15.pdf)\n",
    "- [Word Mover’s Distance in Python](http://vene.ro/blog/word-movers-distance-in-python.html)\n",
    "- [[카카오AI리포트]최신 AI 논문: 데이터 - 브런치](https://brunch.co.kr/@kakao-it/139)\n",
    "- [자동 요약 기법의 연구 동향 정리](https://bab2min.tistory.com/625)"
   ]
  }
 ],
 "metadata": {
  "kernelspec": {
   "display_name": "Python 3",
   "language": "python",
   "name": "python3"
  },
  "language_info": {
   "codemirror_mode": {
    "name": "ipython",
    "version": 3
   },
   "file_extension": ".py",
   "mimetype": "text/x-python",
   "name": "python",
   "nbconvert_exporter": "python",
   "pygments_lexer": "ipython3",
   "version": "3.7.9"
  }
 },
 "nbformat": 4,
 "nbformat_minor": 5
}
