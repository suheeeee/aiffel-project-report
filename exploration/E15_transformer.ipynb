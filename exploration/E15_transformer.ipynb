{
 "cells": [
  {
   "cell_type": "markdown",
   "id": "overall-merchandise",
   "metadata": {},
   "source": [
    "# 한국어 데이터로 챗봇 만들기\n",
    "---"
   ]
  },
  {
   "cell_type": "markdown",
   "id": "sealed-lancaster",
   "metadata": {},
   "source": [
    "한국어 데이터로 훈련시키는 챗봇을 만들어보자 ᕕ( ᐛ )ᕗ~♪"
   ]
  },
  {
   "cell_type": "markdown",
   "id": "light-award",
   "metadata": {},
   "source": [
    "## STEP 0. 설계\n",
    "---"
   ]
  },
  {
   "cell_type": "markdown",
   "id": "spatial-serum",
   "metadata": {},
   "source": [
    "한국어 챗봇을 만들기 위하여 다음과 같은 순서로 프로젝트를 수행한다.\n",
    "1. 데이터 수집 : 송영숙님이 공개한 챗봇 데이터를 다운로드 받는다.\n",
    "2. 데이터 전처리\n",
    "    - 구두점 및 결측치 제거\n",
    "    - 데이터를 질문/답변의 쌍으로 전처리\n",
    "    - 단어장 만들기 : `tfds.deprecated.text.SubwordTextEncoder` 사용\n",
    "    - 정수인코딩 & 패딩\n",
    "    - 교사 강요\n",
    "3. 모델 정의 및 학습\n",
    "    - 모델 정의를 위하여 다음 사항들을 정의한다.\n",
    "        - PositionalEncoding\n",
    "        - scaled_dot_product_attention\n",
    "        - MultiHeadAttention\n",
    "        - create_padding_mask\n",
    "        - create_look_ahead_mask\n",
    "        - encoder_layer : require MultiHeadAttention\n",
    "        - encoder : require PositionalEncoding, encoder_layer\n",
    "        - decoder_layer : require MultiHeadAttention\n",
    "        - decoder : require PositionalEncoding, decoder_layer\n",
    "    - 모델 정의 및 학습\n",
    "        - 모델 정의 : transformer\n",
    "        - 손실함수 정의\n",
    "        - 커스텀 학습률 스케줄링을 통한 learning rate 정의\n",
    "        - 모델 컴파일\n",
    "        - 모델 훈련\n",
    "4. 모델 평가\n",
    "    - 질문을 입력받아 챗봇의 대답을 디코딩하여 돌려주는 함수 sentence_generation를 정의\n",
    "    - 임의의 문장들을 이용하여 챗봇의 성능을 테스트해본다."
   ]
  },
  {
   "cell_type": "markdown",
   "id": "indian-survey",
   "metadata": {},
   "source": [
    "#### environment setting\n",
    "- import packages\n",
    "- set directory path\n",
    "- load extensor to measure cell running time\n",
    "- initialization gpu"
   ]
  },
  {
   "cell_type": "code",
   "execution_count": 15,
   "id": "distant-attempt",
   "metadata": {
    "execution": {
     "iopub.execute_input": "2021-03-10T17:50:59.479407Z",
     "iopub.status.busy": "2021-03-10T17:50:59.479183Z",
     "iopub.status.idle": "2021-03-10T17:50:59.485583Z",
     "shell.execute_reply": "2021-03-10T17:50:59.485060Z",
     "shell.execute_reply.started": "2021-03-10T17:50:59.479383Z"
    },
    "tags": []
   },
   "outputs": [
    {
     "name": "stdout",
     "output_type": "stream",
     "text": [
      "1 Physical GPUs, 1 Logical GPUs\n",
      "\n",
      "\n"
     ]
    }
   ],
   "source": [
    "# import packages ########################################################\n",
    "import numpy as np\n",
    "import os\n",
    "import re\n",
    "from os.path import join\n",
    "from matplotlib import pyplot as plt\n",
    "import tensorflow as tf\n",
    "import tensorflow_datasets as tfds\n",
    "import pandas as pd\n",
    "\n",
    "# set directory path# #######################################################\n",
    "workspace_path = os.getenv('HOME')+'/workspace/aiffel-exploration-workspace/E15_transformer'\n",
    "data_dir_path = workspace_path + '/data'\n",
    "\n",
    "# initialization gpu ########################################################\n",
    "def init_gpu():\n",
    "    gpus = tf.config.experimental.list_physical_devices('GPU')\n",
    "    if gpus:\n",
    "      try:\n",
    "        # Currently, memory growth needs to be the same across GPUs\n",
    "        for gpu in gpus:\n",
    "          tf.config.experimental.set_memory_growth(gpu, True)\n",
    "        logical_gpus = tf.config.experimental.list_logical_devices('GPU')\n",
    "        print(len(gpus), \"Physical GPUs,\", len(logical_gpus), \"Logical GPUs\\n\\n\")\n",
    "      except RuntimeError as e:\n",
    "        # Memory growth must be set before GPUs have been initialized\n",
    "        print(e, \"\\n\\n\")\n",
    "        \n",
    "init_gpu()"
   ]
  },
  {
   "cell_type": "markdown",
   "id": "antique-brunei",
   "metadata": {},
   "source": [
    "## STEP 1. 데이터 수집\n",
    "---"
   ]
  },
  {
   "cell_type": "markdown",
   "id": "angry-memorabilia",
   "metadata": {},
   "source": [
    "- 데이터 다운로드"
   ]
  },
  {
   "cell_type": "code",
   "execution_count": 8,
   "id": "burning-jefferson",
   "metadata": {
    "execution": {
     "iopub.execute_input": "2021-03-10T17:23:54.529316Z",
     "iopub.status.busy": "2021-03-10T17:23:54.529150Z",
     "iopub.status.idle": "2021-03-10T17:23:54.531860Z",
     "shell.execute_reply": "2021-03-10T17:23:54.531328Z",
     "shell.execute_reply.started": "2021-03-10T17:23:54.529295Z"
    }
   },
   "outputs": [],
   "source": [
    "#! wget https://github.com/songys/Chatbot_data/raw/master/ChatbotData%20.csv -P ./data"
   ]
  },
  {
   "cell_type": "code",
   "execution_count": 12,
   "id": "infinite-russia",
   "metadata": {
    "execution": {
     "iopub.execute_input": "2021-03-10T17:50:33.188131Z",
     "iopub.status.busy": "2021-03-10T17:50:33.187916Z",
     "iopub.status.idle": "2021-03-10T17:50:33.311845Z",
     "shell.execute_reply": "2021-03-10T17:50:33.311117Z",
     "shell.execute_reply.started": "2021-03-10T17:50:33.188108Z"
    },
    "tags": []
   },
   "outputs": [
    {
     "name": "stdout",
     "output_type": "stream",
     "text": [
      "ChatbotData.csv\n"
     ]
    }
   ],
   "source": [
    "! ls ./data"
   ]
  },
  {
   "cell_type": "markdown",
   "id": "raising-security",
   "metadata": {},
   "source": [
    "데이터를 성공적으로 다운로드 받았다!"
   ]
  },
  {
   "cell_type": "markdown",
   "id": "bizarre-mortgage",
   "metadata": {},
   "source": [
    "- 데이터 불러오기"
   ]
  },
  {
   "cell_type": "code",
   "execution_count": 20,
   "id": "distinguished-white",
   "metadata": {
    "execution": {
     "iopub.execute_input": "2021-03-10T18:01:20.169356Z",
     "iopub.status.busy": "2021-03-10T18:01:20.169123Z",
     "iopub.status.idle": "2021-03-10T18:01:20.193351Z",
     "shell.execute_reply": "2021-03-10T18:01:20.192781Z",
     "shell.execute_reply.started": "2021-03-10T18:01:20.169330Z"
    },
    "tags": []
   },
   "outputs": [
    {
     "data": {
      "text/html": [
       "<div>\n",
       "<style scoped>\n",
       "    .dataframe tbody tr th:only-of-type {\n",
       "        vertical-align: middle;\n",
       "    }\n",
       "\n",
       "    .dataframe tbody tr th {\n",
       "        vertical-align: top;\n",
       "    }\n",
       "\n",
       "    .dataframe thead th {\n",
       "        text-align: right;\n",
       "    }\n",
       "</style>\n",
       "<table border=\"1\" class=\"dataframe\">\n",
       "  <thead>\n",
       "    <tr style=\"text-align: right;\">\n",
       "      <th></th>\n",
       "      <th>Q</th>\n",
       "      <th>A</th>\n",
       "      <th>label</th>\n",
       "    </tr>\n",
       "  </thead>\n",
       "  <tbody>\n",
       "    <tr>\n",
       "      <th>0</th>\n",
       "      <td>12시 땡!</td>\n",
       "      <td>하루가 또 가네요.</td>\n",
       "      <td>0</td>\n",
       "    </tr>\n",
       "    <tr>\n",
       "      <th>1</th>\n",
       "      <td>1지망 학교 떨어졌어</td>\n",
       "      <td>위로해 드립니다.</td>\n",
       "      <td>0</td>\n",
       "    </tr>\n",
       "    <tr>\n",
       "      <th>2</th>\n",
       "      <td>3박4일 놀러가고 싶다</td>\n",
       "      <td>여행은 언제나 좋죠.</td>\n",
       "      <td>0</td>\n",
       "    </tr>\n",
       "    <tr>\n",
       "      <th>3</th>\n",
       "      <td>3박4일 정도 놀러가고 싶다</td>\n",
       "      <td>여행은 언제나 좋죠.</td>\n",
       "      <td>0</td>\n",
       "    </tr>\n",
       "    <tr>\n",
       "      <th>4</th>\n",
       "      <td>PPL 심하네</td>\n",
       "      <td>눈살이 찌푸려지죠.</td>\n",
       "      <td>0</td>\n",
       "    </tr>\n",
       "    <tr>\n",
       "      <th>5</th>\n",
       "      <td>SD카드 망가졌어</td>\n",
       "      <td>다시 새로 사는 게 마음 편해요.</td>\n",
       "      <td>0</td>\n",
       "    </tr>\n",
       "    <tr>\n",
       "      <th>6</th>\n",
       "      <td>SD카드 안돼</td>\n",
       "      <td>다시 새로 사는 게 마음 편해요.</td>\n",
       "      <td>0</td>\n",
       "    </tr>\n",
       "    <tr>\n",
       "      <th>7</th>\n",
       "      <td>SNS 맞팔 왜 안하지ㅠㅠ</td>\n",
       "      <td>잘 모르고 있을 수도 있어요.</td>\n",
       "      <td>0</td>\n",
       "    </tr>\n",
       "    <tr>\n",
       "      <th>8</th>\n",
       "      <td>SNS 시간낭비인 거 아는데 매일 하는 중</td>\n",
       "      <td>시간을 정하고 해보세요.</td>\n",
       "      <td>0</td>\n",
       "    </tr>\n",
       "    <tr>\n",
       "      <th>9</th>\n",
       "      <td>SNS 시간낭비인데 자꾸 보게됨</td>\n",
       "      <td>시간을 정하고 해보세요.</td>\n",
       "      <td>0</td>\n",
       "    </tr>\n",
       "  </tbody>\n",
       "</table>\n",
       "</div>"
      ],
      "text/plain": [
       "                         Q                   A  label\n",
       "0                   12시 땡!          하루가 또 가네요.      0\n",
       "1              1지망 학교 떨어졌어           위로해 드립니다.      0\n",
       "2             3박4일 놀러가고 싶다         여행은 언제나 좋죠.      0\n",
       "3          3박4일 정도 놀러가고 싶다         여행은 언제나 좋죠.      0\n",
       "4                  PPL 심하네          눈살이 찌푸려지죠.      0\n",
       "5                SD카드 망가졌어  다시 새로 사는 게 마음 편해요.      0\n",
       "6                  SD카드 안돼  다시 새로 사는 게 마음 편해요.      0\n",
       "7           SNS 맞팔 왜 안하지ㅠㅠ    잘 모르고 있을 수도 있어요.      0\n",
       "8  SNS 시간낭비인 거 아는데 매일 하는 중       시간을 정하고 해보세요.      0\n",
       "9        SNS 시간낭비인데 자꾸 보게됨       시간을 정하고 해보세요.      0"
      ]
     },
     "execution_count": 20,
     "metadata": {},
     "output_type": "execute_result"
    }
   ],
   "source": [
    "raw_data = pd.read_csv(data_dir_path + '/ChatbotData.csv')\n",
    "raw_data.head(10)"
   ]
  },
  {
   "cell_type": "code",
   "execution_count": 18,
   "id": "resistant-tender",
   "metadata": {
    "execution": {
     "iopub.execute_input": "2021-03-10T18:00:49.623035Z",
     "iopub.status.busy": "2021-03-10T18:00:49.622817Z",
     "iopub.status.idle": "2021-03-10T18:00:49.626874Z",
     "shell.execute_reply": "2021-03-10T18:00:49.626350Z",
     "shell.execute_reply.started": "2021-03-10T18:00:49.623011Z"
    },
    "tags": []
   },
   "outputs": [
    {
     "data": {
      "text/plain": [
       "(11823, 3)"
      ]
     },
     "execution_count": 18,
     "metadata": {},
     "output_type": "execute_result"
    }
   ],
   "source": [
    "raw_data.shape"
   ]
  },
  {
   "cell_type": "code",
   "execution_count": 26,
   "id": "written-recall",
   "metadata": {
    "execution": {
     "iopub.execute_input": "2021-03-10T18:08:28.472418Z",
     "iopub.status.busy": "2021-03-10T18:08:28.472069Z",
     "iopub.status.idle": "2021-03-10T18:08:28.483208Z",
     "shell.execute_reply": "2021-03-10T18:08:28.482526Z",
     "shell.execute_reply.started": "2021-03-10T18:08:28.472378Z"
    },
    "tags": []
   },
   "outputs": [
    {
     "data": {
      "text/html": [
       "<div>\n",
       "<style scoped>\n",
       "    .dataframe tbody tr th:only-of-type {\n",
       "        vertical-align: middle;\n",
       "    }\n",
       "\n",
       "    .dataframe tbody tr th {\n",
       "        vertical-align: top;\n",
       "    }\n",
       "\n",
       "    .dataframe thead th {\n",
       "        text-align: right;\n",
       "    }\n",
       "</style>\n",
       "<table border=\"1\" class=\"dataframe\">\n",
       "  <thead>\n",
       "    <tr style=\"text-align: right;\">\n",
       "      <th></th>\n",
       "      <th>Q</th>\n",
       "      <th>A</th>\n",
       "      <th>label</th>\n",
       "    </tr>\n",
       "  </thead>\n",
       "  <tbody>\n",
       "    <tr>\n",
       "      <th>5290</th>\n",
       "      <td>1000일 만난 여자친구와 이별</td>\n",
       "      <td>더 오래 만날 사람 만날 거예요.</td>\n",
       "      <td>1</td>\n",
       "    </tr>\n",
       "    <tr>\n",
       "      <th>5291</th>\n",
       "      <td>10년 연애. 헤어졌습니다.</td>\n",
       "      <td>더 공허함이 크시겠네요.</td>\n",
       "      <td>1</td>\n",
       "    </tr>\n",
       "    <tr>\n",
       "      <th>5292</th>\n",
       "      <td>10년 연애사 되돌아보니 다 부질없네</td>\n",
       "      <td>더 좋은 사람 만나실 거예요.</td>\n",
       "      <td>1</td>\n",
       "    </tr>\n",
       "    <tr>\n",
       "      <th>5293</th>\n",
       "      <td>10년 연예의끝</td>\n",
       "      <td>더 마음이 허하겠어요.</td>\n",
       "      <td>1</td>\n",
       "    </tr>\n",
       "    <tr>\n",
       "      <th>5294</th>\n",
       "      <td>10년만나다 헤어지네</td>\n",
       "      <td>충분히 슬퍼하고 충분히 아파하다가 이겨내세요.</td>\n",
       "      <td>1</td>\n",
       "    </tr>\n",
       "  </tbody>\n",
       "</table>\n",
       "</div>"
      ],
      "text/plain": [
       "                         Q                          A  label\n",
       "5290     1000일 만난 여자친구와 이별         더 오래 만날 사람 만날 거예요.      1\n",
       "5291       10년 연애. 헤어졌습니다.              더 공허함이 크시겠네요.      1\n",
       "5292  10년 연애사 되돌아보니 다 부질없네           더 좋은 사람 만나실 거예요.      1\n",
       "5293              10년 연예의끝               더 마음이 허하겠어요.      1\n",
       "5294           10년만나다 헤어지네  충분히 슬퍼하고 충분히 아파하다가 이겨내세요.      1"
      ]
     },
     "execution_count": 26,
     "metadata": {},
     "output_type": "execute_result"
    }
   ],
   "source": [
    "raw_data[raw_data['label'] == 1][:5]"
   ]
  },
  {
   "cell_type": "code",
   "execution_count": 27,
   "id": "racial-cosmetic",
   "metadata": {
    "execution": {
     "iopub.execute_input": "2021-03-10T18:08:28.630672Z",
     "iopub.status.busy": "2021-03-10T18:08:28.630464Z",
     "iopub.status.idle": "2021-03-10T18:08:28.638579Z",
     "shell.execute_reply": "2021-03-10T18:08:28.638057Z",
     "shell.execute_reply.started": "2021-03-10T18:08:28.630648Z"
    },
    "tags": []
   },
   "outputs": [
    {
     "data": {
      "text/html": [
       "<div>\n",
       "<style scoped>\n",
       "    .dataframe tbody tr th:only-of-type {\n",
       "        vertical-align: middle;\n",
       "    }\n",
       "\n",
       "    .dataframe tbody tr th {\n",
       "        vertical-align: top;\n",
       "    }\n",
       "\n",
       "    .dataframe thead th {\n",
       "        text-align: right;\n",
       "    }\n",
       "</style>\n",
       "<table border=\"1\" class=\"dataframe\">\n",
       "  <thead>\n",
       "    <tr style=\"text-align: right;\">\n",
       "      <th></th>\n",
       "      <th>Q</th>\n",
       "      <th>A</th>\n",
       "      <th>label</th>\n",
       "    </tr>\n",
       "  </thead>\n",
       "  <tbody>\n",
       "    <tr>\n",
       "      <th>8860</th>\n",
       "      <td>짝사랑만큼 고통스러운 건 없겠지.</td>\n",
       "      <td>짝사랑 만큼 감정소모가 큰 건 없을 거예요.</td>\n",
       "      <td>2</td>\n",
       "    </tr>\n",
       "    <tr>\n",
       "      <th>8861</th>\n",
       "      <td>1년 넘게 만났는데 지금도 불타올라</td>\n",
       "      <td>정열적인 사랑을 하고 있나봐요.</td>\n",
       "      <td>2</td>\n",
       "    </tr>\n",
       "    <tr>\n",
       "      <th>8862</th>\n",
       "      <td>1년 동거 중인데 계속 좋아</td>\n",
       "      <td>서로 깊게 알게되면서 더 좋아졌나봅니다.</td>\n",
       "      <td>2</td>\n",
       "    </tr>\n",
       "    <tr>\n",
       "      <th>8863</th>\n",
       "      <td>1년 동거하고 결혼했어</td>\n",
       "      <td>축하합니다!</td>\n",
       "      <td>2</td>\n",
       "    </tr>\n",
       "    <tr>\n",
       "      <th>8864</th>\n",
       "      <td>1년 만났는데도 그 사람에 대해 잘 모르겠어</td>\n",
       "      <td>더 만나보세요.</td>\n",
       "      <td>2</td>\n",
       "    </tr>\n",
       "  </tbody>\n",
       "</table>\n",
       "</div>"
      ],
      "text/plain": [
       "                             Q                         A  label\n",
       "8860        짝사랑만큼 고통스러운 건 없겠지.  짝사랑 만큼 감정소모가 큰 건 없을 거예요.      2\n",
       "8861       1년 넘게 만났는데 지금도 불타올라         정열적인 사랑을 하고 있나봐요.      2\n",
       "8862           1년 동거 중인데 계속 좋아    서로 깊게 알게되면서 더 좋아졌나봅니다.      2\n",
       "8863              1년 동거하고 결혼했어                    축하합니다!      2\n",
       "8864  1년 만났는데도 그 사람에 대해 잘 모르겠어                  더 만나보세요.      2"
      ]
     },
     "execution_count": 27,
     "metadata": {},
     "output_type": "execute_result"
    }
   ],
   "source": [
    "raw_data[raw_data['label'] == 2][:5]"
   ]
  },
  {
   "cell_type": "markdown",
   "id": "knowing-police",
   "metadata": {},
   "source": [
    "해당 데이터는 질문-대답-라벨의 구성을 가지며, 총 11823 쌍의 데이터가 존재한다.<br>\n",
    "데이터의 라벨은 0 : 일상다반사, 1 : 이별(부정), 2 : 사랑(긍정)으로 정의되어 있다."
   ]
  },
  {
   "cell_type": "markdown",
   "id": "directed-pitch",
   "metadata": {},
   "source": [
    "## STEP 2. 데이터 전처리\n",
    "---"
   ]
  },
  {
   "cell_type": "markdown",
   "id": "spanish-atlas",
   "metadata": {},
   "source": [
    "### 1. 구두점 및 결측치 처리"
   ]
  },
  {
   "cell_type": "markdown",
   "id": "alone-sherman",
   "metadata": {},
   "source": [
    "- 결측치 확인"
   ]
  },
  {
   "cell_type": "code",
   "execution_count": 19,
   "id": "charming-sport",
   "metadata": {
    "execution": {
     "iopub.execute_input": "2021-03-10T18:01:14.324966Z",
     "iopub.status.busy": "2021-03-10T18:01:14.324048Z",
     "iopub.status.idle": "2021-03-10T18:01:14.332596Z",
     "shell.execute_reply": "2021-03-10T18:01:14.332134Z",
     "shell.execute_reply.started": "2021-03-10T18:01:14.324852Z"
    }
   },
   "outputs": [
    {
     "data": {
      "text/plain": [
       "Q        0\n",
       "A        0\n",
       "label    0\n",
       "dtype: int64"
      ]
     },
     "execution_count": 19,
     "metadata": {},
     "output_type": "execute_result"
    }
   ],
   "source": [
    "raw_data.isnull().sum()"
   ]
  },
  {
   "cell_type": "markdown",
   "id": "voluntary-offset",
   "metadata": {},
   "source": [
    "결측치가 없으므로 결측치에 대한 처리는 불필요하다."
   ]
  },
  {
   "cell_type": "markdown",
   "id": "jewish-saturn",
   "metadata": {},
   "source": [
    "- 구두점 처리"
   ]
  },
  {
   "cell_type": "code",
   "execution_count": 43,
   "id": "frequent-volunteer",
   "metadata": {
    "execution": {
     "iopub.execute_input": "2021-03-10T18:19:23.335246Z",
     "iopub.status.busy": "2021-03-10T18:19:23.335041Z",
     "iopub.status.idle": "2021-03-10T18:19:23.338690Z",
     "shell.execute_reply": "2021-03-10T18:19:23.338109Z",
     "shell.execute_reply.started": "2021-03-10T18:19:23.335224Z"
    },
    "tags": []
   },
   "outputs": [],
   "source": [
    "def remove_punctuation(sentence):\n",
    "  # 단어와 구두점(punctuation) 사이의 거리를 만듭니다.\n",
    "  # 예를 들어서 \"I am a student.\" => \"I am a student .\"와 같이\n",
    "  # student와 온점 사이에 거리를 만듭니다.\n",
    "  sentence = re.sub(r\"([?.!,])\", r\" \\1 \", sentence)\n",
    "  sentence = re.sub(r'[\" \"]+', \" \", sentence)\n",
    "\n",
    "  # (a-z, A-Z, 가-힣, 숫자, \".\", \"?\", \"!\", \",\")를 제외한 모든 문자를 공백인 ' '로 대체합니다.\n",
    "  sentence = re.sub(r\"[^a-zA-Z가-힣0-9?.!,]+\", \" \", sentence)\n",
    "  sentence = sentence.strip()\n",
    "  return sentence"
   ]
  },
  {
   "cell_type": "markdown",
   "id": "returning-charm",
   "metadata": {},
   "source": [
    "일단 함수를 정의하여 두고, 아래의 단계에서 함께 처리하도록 하자."
   ]
  },
  {
   "cell_type": "markdown",
   "id": "incorporated-central",
   "metadata": {},
   "source": [
    "### 2. 데이터를 질문/답변의 쌍으로 전처리"
   ]
  },
  {
   "cell_type": "markdown",
   "id": "center-convention",
   "metadata": {},
   "source": [
    "입력된 데이터를 전처리하여 questions, answers로 나누어 저장한다."
   ]
  },
  {
   "cell_type": "code",
   "execution_count": 44,
   "id": "republican-found",
   "metadata": {
    "execution": {
     "iopub.execute_input": "2021-03-10T18:19:24.787660Z",
     "iopub.status.busy": "2021-03-10T18:19:24.787427Z",
     "iopub.status.idle": "2021-03-10T18:19:24.791482Z",
     "shell.execute_reply": "2021-03-10T18:19:24.790728Z",
     "shell.execute_reply.started": "2021-03-10T18:19:24.787634Z"
    },
    "tags": []
   },
   "outputs": [],
   "source": [
    "def get_questions_answers(raw_data):\n",
    "    questions = [ remove_punctuation(sentence) for sentence in raw_data['Q'].values ]\n",
    "    answers   = [ remove_punctuation(sentence) for sentence in raw_data['A'].values ]\n",
    "    return questions, answers"
   ]
  },
  {
   "cell_type": "code",
   "execution_count": 82,
   "id": "fancy-police",
   "metadata": {
    "execution": {
     "iopub.execute_input": "2021-03-10T18:52:28.969895Z",
     "iopub.status.busy": "2021-03-10T18:52:28.969684Z",
     "iopub.status.idle": "2021-03-10T18:52:29.151146Z",
     "shell.execute_reply": "2021-03-10T18:52:29.150654Z",
     "shell.execute_reply.started": "2021-03-10T18:52:28.969872Z"
    },
    "tags": []
   },
   "outputs": [],
   "source": [
    "questions, answers = get_questions_answers(raw_data)"
   ]
  },
  {
   "cell_type": "markdown",
   "id": "passive-roommate",
   "metadata": {},
   "source": [
    "- 데이터 확인"
   ]
  },
  {
   "cell_type": "code",
   "execution_count": 74,
   "id": "passive-sixth",
   "metadata": {
    "execution": {
     "iopub.execute_input": "2021-03-10T18:51:11.827387Z",
     "iopub.status.busy": "2021-03-10T18:51:11.827019Z",
     "iopub.status.idle": "2021-03-10T18:51:11.832812Z",
     "shell.execute_reply": "2021-03-10T18:51:11.831903Z",
     "shell.execute_reply.started": "2021-03-10T18:51:11.827345Z"
    },
    "tags": []
   },
   "outputs": [
    {
     "name": "stdout",
     "output_type": "stream",
     "text": [
      "전체 샘플 수 : 11823\n",
      "전체 샘플 수 : 11823\n"
     ]
    }
   ],
   "source": [
    "print('전체 샘플 수 :', len(questions))\n",
    "print('전체 샘플 수 :', len(answers))"
   ]
  },
  {
   "cell_type": "code",
   "execution_count": 75,
   "id": "exact-title",
   "metadata": {
    "execution": {
     "iopub.execute_input": "2021-03-10T18:51:12.788087Z",
     "iopub.status.busy": "2021-03-10T18:51:12.787848Z",
     "iopub.status.idle": "2021-03-10T18:51:12.792769Z",
     "shell.execute_reply": "2021-03-10T18:51:12.792090Z",
     "shell.execute_reply.started": "2021-03-10T18:51:12.788059Z"
    },
    "tags": []
   },
   "outputs": [
    {
     "name": "stdout",
     "output_type": "stream",
     "text": [
      "전처리 후의  8391번째 질문 샘플: 핑계\n",
      "전처리 후의  8391번째 답변 샘플: 모두 핑계겠죠 .\n",
      "\n",
      "전처리 후의  7790번째 질문 샘플: 일주일간 괜찮았는데 .\n",
      "전처리 후의  7790번째 답변 샘플: 갑자기 생각나기도 한답니다 .\n",
      "\n",
      "전처리 후의  1240번째 질문 샘플: 더우니까 무서운 이야기 듣고싶지\n",
      "전처리 후의  1240번째 답변 샘플: 해주세요 .\n",
      "\n",
      "전처리 후의  5864번째 질문 샘플: 내 욕심일 뿐이지\n",
      "전처리 후의  5864번째 답변 샘플: 사랑인 거예요 .\n",
      "\n",
      "전처리 후의   641번째 질문 샘플: 나만 제자리인듯\n",
      "전처리 후의   641번째 답변 샘플: 제자리여도 괜찮아요\n",
      "\n"
     ]
    }
   ],
   "source": [
    "for i in np.random.randint(0, len(questions), 5):\n",
    "    print(f'전처리 후의 {i+1:-5d}번째 질문 샘플: {questions[i]}')\n",
    "    print(f'전처리 후의 {i+1:-5d}번째 답변 샘플: {answers[i]}\\n')"
   ]
  },
  {
   "cell_type": "markdown",
   "id": "expanded-bacteria",
   "metadata": {},
   "source": [
    "### 3. 단어장 만들기 \n",
    "TensorFlow Datasets SubwordTextEncoder를 사용하여 tokenier를 정의하고, 데이터셋에 대하여 단어장*Vocabulary*를 생성한다."
   ]
  },
  {
   "cell_type": "markdown",
   "id": "smoking-demographic",
   "metadata": {
    "execution": {
     "iopub.execute_input": "2021-03-10T18:33:02.393638Z",
     "iopub.status.busy": "2021-03-10T18:33:02.392981Z",
     "iopub.status.idle": "2021-03-10T18:33:02.404537Z",
     "shell.execute_reply": "2021-03-10T18:33:02.401952Z",
     "shell.execute_reply.started": "2021-03-10T18:33:02.393560Z"
    }
   },
   "source": [
    "- tokenizer 정의"
   ]
  },
  {
   "cell_type": "code",
   "execution_count": 56,
   "id": "molecular-garage",
   "metadata": {
    "execution": {
     "iopub.execute_input": "2021-03-10T18:28:59.123056Z",
     "iopub.status.busy": "2021-03-10T18:28:59.122817Z",
     "iopub.status.idle": "2021-03-10T18:29:09.709073Z",
     "shell.execute_reply": "2021-03-10T18:29:09.708483Z",
     "shell.execute_reply.started": "2021-03-10T18:28:59.123029Z"
    }
   },
   "outputs": [],
   "source": [
    "tokenizer = tfds.deprecated.text.SubwordTextEncoder.build_from_corpus(questions + answers, target_vocab_size=2**13)"
   ]
  },
  {
   "cell_type": "markdown",
   "id": "exempt-tomato",
   "metadata": {},
   "source": [
    "- 시작/종료 토큰에 고유한 정수를 부여"
   ]
  },
  {
   "cell_type": "code",
   "execution_count": 57,
   "id": "passing-mission",
   "metadata": {
    "execution": {
     "iopub.execute_input": "2021-03-10T18:29:45.948775Z",
     "iopub.status.busy": "2021-03-10T18:29:45.948570Z",
     "iopub.status.idle": "2021-03-10T18:29:45.952648Z",
     "shell.execute_reply": "2021-03-10T18:29:45.952126Z",
     "shell.execute_reply.started": "2021-03-10T18:29:45.948753Z"
    }
   },
   "outputs": [
    {
     "name": "stdout",
     "output_type": "stream",
     "text": [
      "START_TOKEN의 번호 : [8162]\n",
      "END_TOKEN의 번호 : [8163]\n"
     ]
    }
   ],
   "source": [
    "START_TOKEN, END_TOKEN = [tokenizer.vocab_size], [tokenizer.vocab_size + 1]\n",
    "print('START_TOKEN의 번호 :' ,[tokenizer.vocab_size])\n",
    "print('END_TOKEN의 번호 :' ,[tokenizer.vocab_size + 1])"
   ]
  },
  {
   "cell_type": "markdown",
   "id": "direct-numbers",
   "metadata": {},
   "source": [
    "- 시작/종료 토큰이 추가 되었으므로 단어장의 크기도 증가시킨다."
   ]
  },
  {
   "cell_type": "code",
   "execution_count": 58,
   "id": "norwegian-avatar",
   "metadata": {
    "execution": {
     "iopub.execute_input": "2021-03-10T18:30:28.280530Z",
     "iopub.status.busy": "2021-03-10T18:30:28.280329Z",
     "iopub.status.idle": "2021-03-10T18:30:28.284026Z",
     "shell.execute_reply": "2021-03-10T18:30:28.283151Z",
     "shell.execute_reply.started": "2021-03-10T18:30:28.280508Z"
    }
   },
   "outputs": [
    {
     "name": "stdout",
     "output_type": "stream",
     "text": [
      "8164\n"
     ]
    }
   ],
   "source": [
    "VOCAB_SIZE = tokenizer.vocab_size + 2\n",
    "print(VOCAB_SIZE)"
   ]
  },
  {
   "cell_type": "markdown",
   "id": "powered-opinion",
   "metadata": {},
   "source": [
    "### 4. 정수인코딩 & 패딩\n",
    "tokenizer를 이용하여 단어를 정수로 인코딩한다."
   ]
  },
  {
   "cell_type": "markdown",
   "id": "collaborative-token",
   "metadata": {},
   "source": [
    "-  인코딩 테스트"
   ]
  },
  {
   "cell_type": "code",
   "execution_count": 83,
   "id": "rational-olive",
   "metadata": {
    "execution": {
     "iopub.execute_input": "2021-03-10T18:52:33.729446Z",
     "iopub.status.busy": "2021-03-10T18:52:33.729147Z",
     "iopub.status.idle": "2021-03-10T18:52:33.734048Z",
     "shell.execute_reply": "2021-03-10T18:52:33.733343Z",
     "shell.execute_reply.started": "2021-03-10T18:52:33.729410Z"
    },
    "tags": []
   },
   "outputs": [
    {
     "name": "stdout",
     "output_type": "stream",
     "text": [
      "정수 인코딩 후의 100번째 질문 샘플: [1939, 459]\n",
      "정수 인코딩 후의 100번째 답변 샘플: [500, 6963, 7938, 689, 2446, 49]\n"
     ]
    }
   ],
   "source": [
    "# encoding test\n",
    "print('정수 인코딩 후의 100번째 질문 샘플: {}'.format(tokenizer.encode(questions[100])))\n",
    "print('정수 인코딩 후의 100번째 답변 샘플: {}'.format(tokenizer.encode(answers[100])))"
   ]
  },
  {
   "cell_type": "markdown",
   "id": "junior-relationship",
   "metadata": {},
   "source": [
    "- 패딩을 위한 문장의 최대길이 정의"
   ]
  },
  {
   "cell_type": "code",
   "execution_count": 77,
   "id": "opening-advisory",
   "metadata": {
    "execution": {
     "iopub.execute_input": "2021-03-10T18:51:24.277879Z",
     "iopub.status.busy": "2021-03-10T18:51:24.277639Z",
     "iopub.status.idle": "2021-03-10T18:51:24.551514Z",
     "shell.execute_reply": "2021-03-10T18:51:24.550878Z",
     "shell.execute_reply.started": "2021-03-10T18:51:24.277844Z"
    },
    "tags": []
   },
   "outputs": [
    {
     "name": "stdout",
     "output_type": "stream",
     "text": [
      "👉 문장의 평균 길이\n",
      "질문: 13.213735938425103\n",
      "답변: 16.035439397783982\n",
      "👉 문장의 최소 길이\n",
      "질문: 1\n",
      "답변: 1\n",
      "👉 문장의 최대 길이\n",
      "질문: 57\n",
      "답변: 78\n"
     ]
    },
    {
     "data": {
      "image/png": "[encoded data removed]",
      "text/plain": [
       "<Figure size 720x288 with 2 Axes>"
      ]
     },
     "metadata": {
      "needs_background": "light"
     },
     "output_type": "display_data"
    }
   ],
   "source": [
    "num_questions = np.array([len(s) for s in questions])\n",
    "num_answers = np.array([len(s) for s in answers])\n",
    "\n",
    "print(f'👉 문장의 평균 길이')\n",
    "print(f'질문: {np.mean(num_questions)}')\n",
    "print(f'답변: {np.mean(num_answers)}')\n",
    "\n",
    "print(f'👉 문장의 최소 길이')\n",
    "print(f'질문: {np.min(num_questions)}')\n",
    "print(f'답변: {np.min(num_answers)}')\n",
    "\n",
    "print(f'👉 문장의 최대 길이')\n",
    "print(f'질문: {np.max(num_questions)}')\n",
    "print(f'답변: {np.max(num_answers)}')\n",
    "\n",
    "fig, (ax1, ax2) = plt.subplots(1, 2, figsize=(10, 4))\n",
    "ax1.hist(num_questions)\n",
    "ax1.set_xlabel('length of samples')\n",
    "ax1.set_ylabel('number of samples')\n",
    "ax1.set_title('questions')\n",
    "\n",
    "ax2.hist(num_answers)\n",
    "ax2.set_xlabel('length of samples')\n",
    "ax2.set_ylabel('number of samples')\n",
    "ax2.set_title('answers')\n",
    "\n",
    "plt.tight_layout()\n",
    "plt.show()"
   ]
  },
  {
   "cell_type": "code",
   "execution_count": 84,
   "id": "recent-cathedral",
   "metadata": {
    "execution": {
     "iopub.execute_input": "2021-03-10T18:53:17.880204Z",
     "iopub.status.busy": "2021-03-10T18:53:17.879985Z",
     "iopub.status.idle": "2021-03-10T18:53:17.883211Z",
     "shell.execute_reply": "2021-03-10T18:53:17.882530Z",
     "shell.execute_reply.started": "2021-03-10T18:53:17.880180Z"
    },
    "tags": []
   },
   "outputs": [],
   "source": [
    "MAX_LENGTH = 20 + 2 # 토큰길이 포함"
   ]
  },
  {
   "cell_type": "markdown",
   "id": "patient-novelty",
   "metadata": {},
   "source": [
    "- 정수 인코딩 + 최대길이 초과 샘플 제거 + 패딩"
   ]
  },
  {
   "cell_type": "code",
   "execution_count": 85,
   "id": "obvious-democrat",
   "metadata": {
    "execution": {
     "iopub.execute_input": "2021-03-10T18:53:42.724110Z",
     "iopub.status.busy": "2021-03-10T18:53:42.723857Z",
     "iopub.status.idle": "2021-03-10T18:53:42.729161Z",
     "shell.execute_reply": "2021-03-10T18:53:42.728472Z",
     "shell.execute_reply.started": "2021-03-10T18:53:42.724085Z"
    },
    "tags": []
   },
   "outputs": [],
   "source": [
    "def tokenize_and_filter(inputs, outputs):\n",
    "    tokenized_inputs, tokenized_outputs = [], []\n",
    "  \n",
    "    for (sentence1, sentence2) in zip(inputs, outputs):\n",
    "        # 정수 인코딩 과정에서 시작 토큰과 종료 토큰을 추가\n",
    "        sentence1 = START_TOKEN + tokenizer.encode(sentence1) + END_TOKEN\n",
    "        sentence2 = START_TOKEN + tokenizer.encode(sentence2) + END_TOKEN\n",
    "\n",
    "        # 최대 길이 MAX_LENGTH 이하인 경우에만 데이터셋으로 허용\n",
    "        if len(sentence1) <= MAX_LENGTH and len(sentence2) <= MAX_LENGTH:\n",
    "            tokenized_inputs.append(sentence1)\n",
    "            tokenized_outputs.append(sentence2)\n",
    "  \n",
    "    # 최대 길이 MAX_LENGTH으로 모든 데이터셋을 패딩\n",
    "    tokenized_inputs = tf.keras.preprocessing.sequence.pad_sequences(\n",
    "                        tokenized_inputs, maxlen=MAX_LENGTH, padding='post')\n",
    "    tokenized_outputs = tf.keras.preprocessing.sequence.pad_sequences(\n",
    "                        tokenized_outputs, maxlen=MAX_LENGTH, padding='post')\n",
    "  \n",
    "    return tokenized_inputs, tokenized_outputs"
   ]
  },
  {
   "cell_type": "code",
   "execution_count": 89,
   "id": "indian-failure",
   "metadata": {
    "execution": {
     "iopub.execute_input": "2021-03-10T18:54:36.704011Z",
     "iopub.status.busy": "2021-03-10T18:54:36.703815Z",
     "iopub.status.idle": "2021-03-10T18:54:37.021083Z",
     "shell.execute_reply": "2021-03-10T18:54:37.020496Z",
     "shell.execute_reply.started": "2021-03-10T18:54:36.703989Z"
    },
    "tags": []
   },
   "outputs": [],
   "source": [
    "questions, answers = tokenize_and_filter(questions, answers)"
   ]
  },
  {
   "cell_type": "code",
   "execution_count": 91,
   "id": "casual-rolling",
   "metadata": {
    "execution": {
     "iopub.execute_input": "2021-03-10T18:56:02.015817Z",
     "iopub.status.busy": "2021-03-10T18:56:02.015599Z",
     "iopub.status.idle": "2021-03-10T18:56:02.020054Z",
     "shell.execute_reply": "2021-03-10T18:56:02.019531Z",
     "shell.execute_reply.started": "2021-03-10T18:56:02.015792Z"
    },
    "tags": []
   },
   "outputs": [
    {
     "name": "stdout",
     "output_type": "stream",
     "text": [
      "단어장의 크기 : 8164\n",
      "필터링 후의 질문 샘플 개수: 11803\n",
      "필터링 후의 답변 샘플 개수: 11803\n",
      "필터링 후의 100번째 질문 샘플: \n",
      "[8162 1939  459 8163    0    0    0    0    0    0    0    0    0    0\n",
      "    0    0    0    0    0    0    0    0]\n",
      "필터링 후의 100번째 답변 샘플: \n",
      "[8162  500 6963 7938  689 2446   49 8163    0    0    0    0    0    0\n",
      "    0    0    0    0    0    0    0    0]\n"
     ]
    }
   ],
   "source": [
    "print('단어장의 크기 :',(VOCAB_SIZE))\n",
    "print(f'필터링 후의 질문 샘플 개수: {len(questions)}')\n",
    "print(f'필터링 후의 답변 샘플 개수: {len(answers)}')\n",
    "print(f'필터링 후의 100번째 질문 샘플: \\n{questions[100]}')\n",
    "print(f'필터링 후의 100번째 답변 샘플: \\n{answers[100]}')"
   ]
  },
  {
   "cell_type": "markdown",
   "id": "devoted-telephone",
   "metadata": {},
   "source": [
    "### 5. 교사 강요를 적용한 Dataset 생성"
   ]
  },
  {
   "cell_type": "code",
   "execution_count": 93,
   "id": "professional-helmet",
   "metadata": {
    "execution": {
     "iopub.execute_input": "2021-03-10T18:58:18.068135Z",
     "iopub.status.busy": "2021-03-10T18:58:18.067919Z",
     "iopub.status.idle": "2021-03-10T18:58:18.077564Z",
     "shell.execute_reply": "2021-03-10T18:58:18.076930Z",
     "shell.execute_reply.started": "2021-03-10T18:58:18.068111Z"
    },
    "tags": []
   },
   "outputs": [],
   "source": [
    "BATCH_SIZE = 64\n",
    "BUFFER_SIZE = 20000\n",
    "\n",
    "# 디코더는 이전의 target을 다음의 input으로 사용합니다.\n",
    "# 이에 따라 outputs에서는 START_TOKEN을 제거하겠습니다.\n",
    "dataset = tf.data.Dataset.from_tensor_slices((\n",
    "    {\n",
    "        'inputs': questions,\n",
    "        'dec_inputs': answers[:, :-1]\n",
    "    },\n",
    "    {\n",
    "        'outputs': answers[:, 1:]\n",
    "    },\n",
    "))\n",
    "\n",
    "dataset = dataset.cache()\n",
    "dataset = dataset.shuffle(BUFFER_SIZE)\n",
    "dataset = dataset.batch(BATCH_SIZE)\n",
    "dataset = dataset.prefetch(tf.data.experimental.AUTOTUNE)"
   ]
  },
  {
   "cell_type": "code",
   "execution_count": 94,
   "id": "stuck-state",
   "metadata": {
    "execution": {
     "iopub.execute_input": "2021-03-10T18:58:26.212274Z",
     "iopub.status.busy": "2021-03-10T18:58:26.211909Z",
     "iopub.status.idle": "2021-03-10T18:58:26.218688Z",
     "shell.execute_reply": "2021-03-10T18:58:26.217966Z",
     "shell.execute_reply.started": "2021-03-10T18:58:26.212231Z"
    }
   },
   "outputs": [
    {
     "data": {
      "text/plain": [
       "<PrefetchDataset shapes: ({inputs: (None, 22), dec_inputs: (None, 21)}, {outputs: (None, 21)}), types: ({inputs: tf.int32, dec_inputs: tf.int32}, {outputs: tf.int32})>"
      ]
     },
     "execution_count": 94,
     "metadata": {},
     "output_type": "execute_result"
    }
   ],
   "source": [
    "dataset"
   ]
  },
  {
   "cell_type": "markdown",
   "id": "existing-dimension",
   "metadata": {},
   "source": [
    "## STEP 3. 모델 정의 및 학습\n",
    "---"
   ]
  },
  {
   "cell_type": "markdown",
   "id": "exclusive-passenger",
   "metadata": {},
   "source": [
    "### 1. 함수 정의\n",
    "모델 정의를 위하여 다양항 요소들을 함수로 정의한다."
   ]
  },
  {
   "cell_type": "markdown",
   "id": "finnish-finland",
   "metadata": {},
   "source": [
    "#### PositionalEncoding"
   ]
  },
  {
   "cell_type": "code",
   "execution_count": 95,
   "id": "protecting-brake",
   "metadata": {
    "execution": {
     "iopub.execute_input": "2021-03-10T19:04:18.088304Z",
     "iopub.status.busy": "2021-03-10T19:04:18.088084Z",
     "iopub.status.idle": "2021-03-10T19:04:18.095995Z",
     "shell.execute_reply": "2021-03-10T19:04:18.095344Z",
     "shell.execute_reply.started": "2021-03-10T19:04:18.088279Z"
    }
   },
   "outputs": [],
   "source": [
    "class PositionalEncoding(tf.keras.layers.Layer):\n",
    "    def __init__(self, position, d_model):\n",
    "        super(PositionalEncoding, self).__init__()\n",
    "        self.pos_encoding = self.positional_encoding(position, d_model)\n",
    "\n",
    "    def get_angles(self, position, i, d_model):\n",
    "        angles = 1 / tf.pow(10000, (2 * (i // 2)) / tf.cast(d_model, tf.float32))\n",
    "        return position * angles\n",
    "\n",
    "    def positional_encoding(self, position, d_model):\n",
    "        angle_rads = self.get_angles(\n",
    "                        position=tf.range(position, dtype=tf.float32)[:, tf.newaxis],\n",
    "                        i=tf.range(d_model, dtype=tf.float32)[tf.newaxis, :],\n",
    "                        d_model=d_model)\n",
    "        \n",
    "        # 배열의 짝수 인덱스에는 sin 함수 적용\n",
    "        sines = tf.math.sin(angle_rads[:, 0::2])\n",
    "        # 배열의 홀수 인덱스에는 cosine 함수 적용\n",
    "        cosines = tf.math.cos(angle_rads[:, 1::2])\n",
    "\n",
    "        pos_encoding = tf.concat([sines, cosines], axis=-1)\n",
    "        pos_encoding = pos_encoding[tf.newaxis, ...]\n",
    "        return tf.cast(pos_encoding, tf.float32)\n",
    "\n",
    "    def call(self, inputs):\n",
    "        return inputs + self.pos_encoding[:, :tf.shape(inputs)[1], :]"
   ]
  },
  {
   "cell_type": "markdown",
   "id": "norwegian-gibson",
   "metadata": {},
   "source": [
    "- function 테스트"
   ]
  },
  {
   "cell_type": "code",
   "execution_count": 100,
   "id": "sealed-jewel",
   "metadata": {
    "execution": {
     "iopub.execute_input": "2021-03-10T19:06:52.343210Z",
     "iopub.status.busy": "2021-03-10T19:06:52.342957Z",
     "iopub.status.idle": "2021-03-10T19:06:52.558130Z",
     "shell.execute_reply": "2021-03-10T19:06:52.557540Z",
     "shell.execute_reply.started": "2021-03-10T19:06:52.343181Z"
    },
    "tags": []
   },
   "outputs": [
    {
     "data": {
      "image/png": "[encoded data removed]",
      "text/plain": [
       "<Figure size 432x288 with 2 Axes>"
      ]
     },
     "metadata": {
      "needs_background": "light"
     },
     "output_type": "display_data"
    }
   ],
   "source": [
    "sample_pos_encoding = PositionalEncoding(22, 1000)\n",
    "\n",
    "plt.pcolormesh(sample_pos_encoding.pos_encoding.numpy()[0], cmap='RdBu')\n",
    "plt.xlabel('Depth')\n",
    "plt.xlim((0, 1000))\n",
    "plt.ylabel('Position')\n",
    "plt.colorbar()\n",
    "plt.show()"
   ]
  },
  {
   "cell_type": "markdown",
   "id": "described-consumption",
   "metadata": {},
   "source": [
    "#### scaled_dot_product_attention"
   ]
  },
  {
   "cell_type": "code",
   "execution_count": 111,
   "id": "packed-compromise",
   "metadata": {
    "execution": {
     "iopub.execute_input": "2021-03-10T19:09:09.343899Z",
     "iopub.status.busy": "2021-03-10T19:09:09.343563Z",
     "iopub.status.idle": "2021-03-10T19:09:09.349609Z",
     "shell.execute_reply": "2021-03-10T19:09:09.348743Z",
     "shell.execute_reply.started": "2021-03-10T19:09:09.343868Z"
    },
    "tags": []
   },
   "outputs": [],
   "source": [
    "def scaled_dot_product_attention(query, key, value, mask):\n",
    "    \"\"\"어텐션 가중치를 계산. \"\"\"\n",
    "    matmul_qk = tf.matmul(query, key, transpose_b=True)\n",
    "\n",
    "    # scale matmul_qk\n",
    "    depth = tf.cast(tf.shape(key)[-1], tf.float32)\n",
    "    logits = matmul_qk / tf.math.sqrt(depth)\n",
    "\n",
    "    # add the mask to zero out padding tokens\n",
    "    if mask is not None:\n",
    "        logits += (mask * -1e9)\n",
    "\n",
    "    # softmax is normalized on the last axis (seq_len_k)\n",
    "    attention_weights = tf.nn.softmax(logits, axis=-1)\n",
    "\n",
    "    output = tf.matmul(attention_weights, value)\n",
    "\n",
    "    return output"
   ]
  },
  {
   "cell_type": "markdown",
   "id": "amino-operation",
   "metadata": {},
   "source": [
    "#### MultiHeadAttention"
   ]
  },
  {
   "cell_type": "code",
   "execution_count": 103,
   "id": "informative-peripheral",
   "metadata": {
    "execution": {
     "iopub.execute_input": "2021-03-10T19:07:24.380419Z",
     "iopub.status.busy": "2021-03-10T19:07:24.379955Z",
     "iopub.status.idle": "2021-03-10T19:07:24.392421Z",
     "shell.execute_reply": "2021-03-10T19:07:24.391596Z",
     "shell.execute_reply.started": "2021-03-10T19:07:24.380366Z"
    },
    "tags": []
   },
   "outputs": [],
   "source": [
    "class MultiHeadAttention(tf.keras.layers.Layer):\n",
    "\n",
    "    def __init__(self, d_model, num_heads, name=\"multi_head_attention\"):\n",
    "        super(MultiHeadAttention, self).__init__(name=name)\n",
    "        self.num_heads = num_heads\n",
    "        self.d_model = d_model\n",
    "\n",
    "        assert d_model % self.num_heads == 0\n",
    "\n",
    "        self.depth = d_model // self.num_heads\n",
    "\n",
    "        self.query_dense = tf.keras.layers.Dense(units=d_model)\n",
    "        self.key_dense = tf.keras.layers.Dense(units=d_model)\n",
    "        self.value_dense = tf.keras.layers.Dense(units=d_model)\n",
    "\n",
    "        self.dense = tf.keras.layers.Dense(units=d_model)\n",
    "\n",
    "    def split_heads(self, inputs, batch_size):\n",
    "        inputs = tf.reshape(\n",
    "        inputs, shape=(batch_size, -1, self.num_heads, self.depth))\n",
    "        return tf.transpose(inputs, perm=[0, 2, 1, 3])\n",
    "\n",
    "    def call(self, inputs):\n",
    "        query, key, value, mask = inputs['query'], inputs['key'], \n",
    "                                  inputs['value'], inputs['mask']\n",
    "        batch_size = tf.shape(query)[0]\n",
    "\n",
    "        # linear layers\n",
    "        query = self.query_dense(query)\n",
    "        key = self.key_dense(key)\n",
    "        value = self.value_dense(value)\n",
    "\n",
    "        # 병렬 연산을 위한 머리를 여러 개 만듭니다.\n",
    "        query = self.split_heads(query, batch_size)\n",
    "        key = self.split_heads(key, batch_size)\n",
    "        value = self.split_heads(value, batch_size)\n",
    "\n",
    "        # 스케일드 닷 프로덕트 어텐션 함수\n",
    "        scaled_attention = scaled_dot_product_attention(query, key, value, mask)\n",
    "\n",
    "        scaled_attention = tf.transpose(scaled_attention, perm=[0, 2, 1, 3])\n",
    "\n",
    "        # 어텐션 연산 후에 각 결과를 다시 연결(concatenate)합니다.\n",
    "        concat_attention = tf.reshape(scaled_attention,\n",
    "                                  (batch_size, -1, self.d_model))\n",
    "\n",
    "        # final linear layer\n",
    "        outputs = self.dense(concat_attention)\n",
    "\n",
    "        return outputs"
   ]
  },
  {
   "cell_type": "markdown",
   "id": "joint-window",
   "metadata": {},
   "source": [
    "#### create_padding_mask"
   ]
  },
  {
   "cell_type": "code",
   "execution_count": 104,
   "id": "frozen-ecology",
   "metadata": {
    "execution": {
     "iopub.execute_input": "2021-03-10T19:07:32.145206Z",
     "iopub.status.busy": "2021-03-10T19:07:32.144386Z",
     "iopub.status.idle": "2021-03-10T19:07:32.151022Z",
     "shell.execute_reply": "2021-03-10T19:07:32.150288Z",
     "shell.execute_reply.started": "2021-03-10T19:07:32.145105Z"
    }
   },
   "outputs": [],
   "source": [
    "def create_padding_mask(x):\n",
    "    mask = tf.cast(tf.math.equal(x, 0), tf.float32)\n",
    "    # (batch_size, 1, 1, sequence length)\n",
    "    return mask[:, tf.newaxis, tf.newaxis, :]"
   ]
  },
  {
   "cell_type": "code",
   "execution_count": 106,
   "id": "assigned-needle",
   "metadata": {
    "execution": {
     "iopub.execute_input": "2021-03-10T19:07:46.034565Z",
     "iopub.status.busy": "2021-03-10T19:07:46.034271Z",
     "iopub.status.idle": "2021-03-10T19:07:46.042429Z",
     "shell.execute_reply": "2021-03-10T19:07:46.041611Z",
     "shell.execute_reply.started": "2021-03-10T19:07:46.034530Z"
    },
    "tags": []
   },
   "outputs": [
    {
     "data": {
      "text/plain": [
       "<tf.Tensor: shape=(2, 1, 1, 5), dtype=float32, numpy=\n",
       "array([[[[0., 0., 1., 0., 1.]]],\n",
       "\n",
       "\n",
       "       [[[1., 1., 1., 0., 0.]]]], dtype=float32)>"
      ]
     },
     "execution_count": 106,
     "metadata": {},
     "output_type": "execute_result"
    }
   ],
   "source": [
    "create_padding_mask(tf.constant([[1, 2, 0, 3, 0], [0, 0, 0, 4, 5]]))"
   ]
  },
  {
   "cell_type": "markdown",
   "id": "international-rescue",
   "metadata": {},
   "source": [
    "#### create_look_ahead_mask"
   ]
  },
  {
   "cell_type": "code",
   "execution_count": 107,
   "id": "breathing-channels",
   "metadata": {
    "execution": {
     "iopub.execute_input": "2021-03-10T19:08:00.965867Z",
     "iopub.status.busy": "2021-03-10T19:08:00.965566Z",
     "iopub.status.idle": "2021-03-10T19:08:00.972127Z",
     "shell.execute_reply": "2021-03-10T19:08:00.971394Z",
     "shell.execute_reply.started": "2021-03-10T19:08:00.965832Z"
    }
   },
   "outputs": [],
   "source": [
    "def create_look_ahead_mask(x):\n",
    "    seq_len = tf.shape(x)[1]\n",
    "    look_ahead_mask = 1 - tf.linalg.band_part(tf.ones((seq_len, seq_len)), -1, 0)\n",
    "    padding_mask = create_padding_mask(x)\n",
    "    return tf.maximum(look_ahead_mask, padding_mask)"
   ]
  },
  {
   "cell_type": "code",
   "execution_count": 108,
   "id": "choice-papua",
   "metadata": {
    "execution": {
     "iopub.execute_input": "2021-03-10T19:08:10.642423Z",
     "iopub.status.busy": "2021-03-10T19:08:10.641503Z",
     "iopub.status.idle": "2021-03-10T19:08:10.668972Z",
     "shell.execute_reply": "2021-03-10T19:08:10.668345Z",
     "shell.execute_reply.started": "2021-03-10T19:08:10.642308Z"
    }
   },
   "outputs": [
    {
     "data": {
      "text/plain": [
       "<tf.Tensor: shape=(1, 1, 5, 5), dtype=float32, numpy=\n",
       "array([[[[0., 1., 1., 1., 1.],\n",
       "         [0., 0., 1., 1., 1.],\n",
       "         [0., 0., 0., 1., 1.],\n",
       "         [0., 0., 0., 0., 1.],\n",
       "         [0., 0., 0., 0., 0.]]]], dtype=float32)>"
      ]
     },
     "execution_count": 108,
     "metadata": {},
     "output_type": "execute_result"
    }
   ],
   "source": [
    "create_look_ahead_mask(tf.constant([[1, 2, 3, 4, 5]]))"
   ]
  },
  {
   "cell_type": "code",
   "execution_count": 109,
   "id": "fiscal-creek",
   "metadata": {
    "execution": {
     "iopub.execute_input": "2021-03-10T19:08:23.156985Z",
     "iopub.status.busy": "2021-03-10T19:08:23.156354Z",
     "iopub.status.idle": "2021-03-10T19:08:23.163783Z",
     "shell.execute_reply": "2021-03-10T19:08:23.163119Z",
     "shell.execute_reply.started": "2021-03-10T19:08:23.156912Z"
    }
   },
   "outputs": [
    {
     "data": {
      "text/plain": [
       "<tf.Tensor: shape=(1, 1, 5, 5), dtype=float32, numpy=\n",
       "array([[[[1., 1., 1., 1., 1.],\n",
       "         [1., 0., 1., 1., 1.],\n",
       "         [1., 0., 0., 1., 1.],\n",
       "         [1., 0., 0., 0., 1.],\n",
       "         [1., 0., 0., 0., 0.]]]], dtype=float32)>"
      ]
     },
     "execution_count": 109,
     "metadata": {},
     "output_type": "execute_result"
    }
   ],
   "source": [
    "create_look_ahead_mask(tf.constant([[0, 5, 1, 5, 5]]))"
   ]
  },
  {
   "cell_type": "markdown",
   "id": "limited-concert",
   "metadata": {},
   "source": [
    "#### encoder_layer "
   ]
  },
  {
   "cell_type": "code",
   "execution_count": 112,
   "id": "pending-phenomenon",
   "metadata": {
    "execution": {
     "iopub.execute_input": "2021-03-10T19:12:54.996187Z",
     "iopub.status.busy": "2021-03-10T19:12:54.995986Z",
     "iopub.status.idle": "2021-03-10T19:12:55.001668Z",
     "shell.execute_reply": "2021-03-10T19:12:55.001177Z",
     "shell.execute_reply.started": "2021-03-10T19:12:54.996164Z"
    },
    "tags": []
   },
   "outputs": [],
   "source": [
    "def encoder_layer(units, d_model, num_heads, dropout, name=\"encoder_layer\"):\n",
    "    inputs = tf.keras.Input(shape=(None, d_model), name=\"inputs\")\n",
    "\n",
    "    # 패딩 마스크 사용\n",
    "    padding_mask = tf.keras.Input(shape=(1, 1, None), name=\"padding_mask\")\n",
    "\n",
    "    # 첫 번째 서브 레이어 : 멀티 헤드 어텐션 수행 (셀프 어텐션)\n",
    "    attention = MultiHeadAttention(\n",
    "                  d_model, num_heads, name=\"attention\")({\n",
    "                      'query': inputs,\n",
    "                      'key': inputs,\n",
    "                      'value': inputs,\n",
    "                      'mask': padding_mask\n",
    "                  })\n",
    "\n",
    "    # 어텐션의 결과는 Dropout과 Layer Normalization이라는 훈련을 돕는 테크닉을 수행\n",
    "    attention = tf.keras.layers.Dropout(rate=dropout)(attention)\n",
    "    attention = tf.keras.layers.LayerNormalization(epsilon=1e-6)(inputs + attention)\n",
    "\n",
    "    # 두 번째 서브 레이어 : 2개의 완전연결층\n",
    "    outputs = tf.keras.layers.Dense(units=units, activation='relu')(attention)\n",
    "    outputs = tf.keras.layers.Dense(units=d_model)(outputs)\n",
    "\n",
    "    # 완전연결층의 결과는 Dropout과 LayerNormalization이라는 훈련을 돕는 테크닉을 수행\n",
    "    outputs = tf.keras.layers.Dropout(rate=dropout)(outputs)\n",
    "    outputs = tf.keras.layers.LayerNormalization(epsilon=1e-6)(attention + outputs)\n",
    "\n",
    "    return tf.keras.Model(inputs=[inputs, padding_mask], outputs=outputs, name=name)"
   ]
  },
  {
   "cell_type": "markdown",
   "id": "physical-broadcasting",
   "metadata": {},
   "source": [
    "#### encoder "
   ]
  },
  {
   "cell_type": "code",
   "execution_count": 113,
   "id": "upper-defensive",
   "metadata": {
    "execution": {
     "iopub.execute_input": "2021-03-10T19:14:17.600816Z",
     "iopub.status.busy": "2021-03-10T19:14:17.600389Z",
     "iopub.status.idle": "2021-03-10T19:14:17.609034Z",
     "shell.execute_reply": "2021-03-10T19:14:17.608418Z",
     "shell.execute_reply.started": "2021-03-10T19:14:17.600764Z"
    }
   },
   "outputs": [],
   "source": [
    "def encoder(vocab_size,\n",
    "            num_layers,\n",
    "            units,\n",
    "            d_model,\n",
    "            num_heads,\n",
    "            dropout,\n",
    "            name=\"encoder\"):\n",
    "    inputs = tf.keras.Input(shape=(None,), name=\"inputs\")\n",
    "\n",
    "    # 패딩 마스크 사용\n",
    "    padding_mask = tf.keras.Input(shape=(1, 1, None), name=\"padding_mask\")\n",
    "\n",
    "    # 임베딩 레이어\n",
    "    embeddings = tf.keras.layers.Embedding(vocab_size, d_model)(inputs)\n",
    "    embeddings *= tf.math.sqrt(tf.cast(d_model, tf.float32))\n",
    "\n",
    "    # 포지셔널 인코딩\n",
    "    embeddings = PositionalEncoding(vocab_size, d_model)(embeddings)\n",
    "\n",
    "    outputs = tf.keras.layers.Dropout(rate=dropout)(embeddings)\n",
    "\n",
    "    # num_layers만큼 쌓아올린 인코더의 층.\n",
    "    for i in range(num_layers):\n",
    "        outputs = encoder_layer(units=units,\n",
    "                                d_model=d_model,\n",
    "                                num_heads=num_heads,\n",
    "                                dropout=dropout,\n",
    "                                name=\"encoder_layer_{}\".format(i))([outputs, padding_mask])\n",
    "\n",
    "    return tf.keras.Model(inputs=[inputs, padding_mask], outputs=outputs, name=name)"
   ]
  },
  {
   "cell_type": "markdown",
   "id": "automatic-briefing",
   "metadata": {},
   "source": [
    "#### decoder_layer"
   ]
  },
  {
   "cell_type": "code",
   "execution_count": 114,
   "id": "established-prisoner",
   "metadata": {
    "execution": {
     "iopub.execute_input": "2021-03-10T19:17:48.852917Z",
     "iopub.status.busy": "2021-03-10T19:17:48.852698Z",
     "iopub.status.idle": "2021-03-10T19:17:48.860495Z",
     "shell.execute_reply": "2021-03-10T19:17:48.859834Z",
     "shell.execute_reply.started": "2021-03-10T19:17:48.852887Z"
    }
   },
   "outputs": [],
   "source": [
    "def decoder_layer(units, d_model, num_heads, dropout, name=\"decoder_layer\"):\n",
    "    inputs = tf.keras.Input(shape=(None, d_model), name=\"inputs\")\n",
    "    enc_outputs = tf.keras.Input(shape=(None, d_model), name=\"encoder_outputs\")\n",
    "    look_ahead_mask = tf.keras.Input(shape=(1, None, None), name=\"look_ahead_mask\")\n",
    "    padding_mask = tf.keras.Input(shape=(1, 1, None), name='padding_mask')\n",
    "\n",
    "    # 첫 번째 서브 레이어 : 멀티 헤드 어텐션 수행 (셀프 어텐션)\n",
    "    attention1 = MultiHeadAttention(\n",
    "        d_model, num_heads, name=\"attention_1\")(inputs={\n",
    "            'query': inputs,\n",
    "            'key': inputs,\n",
    "            'value': inputs,\n",
    "            'mask': look_ahead_mask\n",
    "        })\n",
    "\n",
    "    # 멀티 헤드 어텐션의 결과는 LayerNormalization이라는 훈련을 돕는 테크닉을 수행\n",
    "    attention1 = tf.keras.layers.LayerNormalization(epsilon=1e-6)(attention1 + inputs)\n",
    "\n",
    "    # 두 번째 서브 레이어 : 마스크드 멀티 헤드 어텐션 수행 (인코더-디코더 어텐션)\n",
    "    attention2 = MultiHeadAttention(\n",
    "      d_model, num_heads, name=\"attention_2\")(inputs={\n",
    "          'query': attention1,\n",
    "          'key': enc_outputs,\n",
    "          'value': enc_outputs,\n",
    "          'mask': padding_mask\n",
    "      })\n",
    "\n",
    "    # 마스크드 멀티 헤드 어텐션의 결과는\n",
    "    # Dropout과 LayerNormalization이라는 훈련을 돕는 테크닉을 수행\n",
    "    attention2 = tf.keras.layers.Dropout(rate=dropout)(attention2)\n",
    "    attention2 = tf.keras.layers.LayerNormalization(epsilon=1e-6)(attention2 + attention1)\n",
    "\n",
    "    # 세 번째 서브 레이어 : 2개의 완전연결층\n",
    "    outputs = tf.keras.layers.Dense(units=units, activation='relu')(attention2)\n",
    "    outputs = tf.keras.layers.Dense(units=d_model)(outputs)\n",
    "\n",
    "    # 완전연결층의 결과는 Dropout과 LayerNormalization 수행\n",
    "    outputs = tf.keras.layers.Dropout(rate=dropout)(outputs)\n",
    "    outputs = tf.keras.layers.LayerNormalization(epsilon=1e-6)(outputs + attention2)\n",
    "\n",
    "    return tf.keras.Model(\n",
    "      inputs=[inputs, enc_outputs, look_ahead_mask, padding_mask],\n",
    "      outputs=outputs,\n",
    "      name=name)"
   ]
  },
  {
   "cell_type": "markdown",
   "id": "primary-garage",
   "metadata": {},
   "source": [
    "#### decoder"
   ]
  },
  {
   "cell_type": "code",
   "execution_count": 115,
   "id": "stylish-interview",
   "metadata": {
    "execution": {
     "iopub.execute_input": "2021-03-10T19:18:22.844517Z",
     "iopub.status.busy": "2021-03-10T19:18:22.843735Z",
     "iopub.status.idle": "2021-03-10T19:18:22.857034Z",
     "shell.execute_reply": "2021-03-10T19:18:22.856008Z",
     "shell.execute_reply.started": "2021-03-10T19:18:22.844453Z"
    }
   },
   "outputs": [],
   "source": [
    "def decoder(vocab_size,\n",
    "            num_layers,\n",
    "            units,\n",
    "            d_model,\n",
    "            num_heads,\n",
    "            dropout,\n",
    "            name='decoder'):\n",
    "    inputs = tf.keras.Input(shape=(None,), name='inputs')\n",
    "    enc_outputs = tf.keras.Input(shape=(None, d_model), name='encoder_outputs')\n",
    "    look_ahead_mask = tf.keras.Input(shape=(1, None, None), name='look_ahead_mask')\n",
    "\n",
    "    # 패딩 마스크\n",
    "    padding_mask = tf.keras.Input(shape=(1, 1, None), name='padding_mask')\n",
    "  \n",
    "    # 임베딩 레이어\n",
    "    embeddings = tf.keras.layers.Embedding(vocab_size, d_model)(inputs)\n",
    "    embeddings *= tf.math.sqrt(tf.cast(d_model, tf.float32))\n",
    "\n",
    "    # 포지셔널 인코딩\n",
    "    embeddings = PositionalEncoding(vocab_size, d_model)(embeddings)\n",
    "    # Dropout이라는 훈련을 돕는 테크닉을 수행\n",
    "    outputs = tf.keras.layers.Dropout(rate=dropout)(embeddings)\n",
    "\n",
    "    for i in range(num_layers):\n",
    "        outputs = decoder_layer(\n",
    "            units=units,\n",
    "            d_model=d_model,\n",
    "            num_heads=num_heads,\n",
    "            dropout=dropout,\n",
    "            name='decoder_layer_{}'.format(i),\n",
    "        )(inputs=[outputs, enc_outputs, look_ahead_mask, padding_mask])\n",
    "\n",
    "    return tf.keras.Model(\n",
    "      inputs=[inputs, enc_outputs, look_ahead_mask, padding_mask],\n",
    "      outputs=outputs,\n",
    "      name=name)\n"
   ]
  },
  {
   "cell_type": "markdown",
   "id": "broke-serbia",
   "metadata": {},
   "source": [
    "### 2. 모델 정의 및 학습"
   ]
  },
  {
   "cell_type": "markdown",
   "id": "senior-assumption",
   "metadata": {},
   "source": [
    "#### 모델 정의 : transformer"
   ]
  },
  {
   "cell_type": "code",
   "execution_count": 116,
   "id": "studied-freeware",
   "metadata": {
    "execution": {
     "iopub.execute_input": "2021-03-10T19:19:54.380795Z",
     "iopub.status.busy": "2021-03-10T19:19:54.380586Z",
     "iopub.status.idle": "2021-03-10T19:19:54.387125Z",
     "shell.execute_reply": "2021-03-10T19:19:54.386566Z",
     "shell.execute_reply.started": "2021-03-10T19:19:54.380771Z"
    }
   },
   "outputs": [],
   "source": [
    "def transformer(vocab_size,\n",
    "                num_layers,\n",
    "                units,\n",
    "                d_model,\n",
    "                num_heads,\n",
    "                dropout,\n",
    "                name=\"transformer\"):\n",
    "    inputs = tf.keras.Input(shape=(None,), name=\"inputs\")\n",
    "    dec_inputs = tf.keras.Input(shape=(None,), name=\"dec_inputs\")\n",
    "\n",
    "    # 인코더에서 패딩을 위한 마스크\n",
    "    enc_padding_mask = tf.keras.layers.Lambda(\n",
    "        create_padding_mask,\n",
    "        output_shape=(1, 1, None),\n",
    "        name='enc_padding_mask')(inputs)\n",
    "\n",
    "    # 디코더에서 미래의 토큰을 마스크 하기 위해서 사용합니다.\n",
    "    # 내부적으로 패딩 마스크도 포함되어져 있습니다.\n",
    "    look_ahead_mask = tf.keras.layers.Lambda(\n",
    "        create_look_ahead_mask,\n",
    "        output_shape=(1, None, None),\n",
    "        name='look_ahead_mask')(dec_inputs)\n",
    "\n",
    "    # 두 번째 어텐션 블록에서 인코더의 벡터들을 마스킹\n",
    "    # 디코더에서 패딩을 위한 마스크\n",
    "    dec_padding_mask = tf.keras.layers.Lambda(\n",
    "        create_padding_mask, output_shape=(1, 1, None),\n",
    "        name='dec_padding_mask')(inputs)\n",
    "\n",
    "    # 인코더\n",
    "    enc_outputs = encoder(\n",
    "        vocab_size=vocab_size,\n",
    "        num_layers=num_layers,\n",
    "        units=units,\n",
    "        d_model=d_model,\n",
    "        num_heads=num_heads,\n",
    "        dropout=dropout,\n",
    "    )(inputs=[inputs, enc_padding_mask])\n",
    "\n",
    "    # 디코더\n",
    "    dec_outputs = decoder(\n",
    "        vocab_size=vocab_size,\n",
    "        num_layers=num_layers,\n",
    "        units=units,\n",
    "        d_model=d_model,\n",
    "        num_heads=num_heads,\n",
    "        dropout=dropout,\n",
    "    )(inputs=[dec_inputs, enc_outputs, look_ahead_mask, dec_padding_mask])\n",
    "\n",
    "    # 완전연결층\n",
    "    outputs = tf.keras.layers.Dense(units=vocab_size, name=\"outputs\")(dec_outputs)\n",
    "\n",
    "    return tf.keras.Model(inputs=[inputs, dec_inputs], outputs=outputs, name=name)"
   ]
  },
  {
   "cell_type": "code",
   "execution_count": 117,
   "id": "stretch-afghanistan",
   "metadata": {
    "execution": {
     "iopub.execute_input": "2021-03-10T19:20:28.231673Z",
     "iopub.status.busy": "2021-03-10T19:20:28.231340Z",
     "iopub.status.idle": "2021-03-10T19:20:30.348912Z",
     "shell.execute_reply": "2021-03-10T19:20:30.348335Z",
     "shell.execute_reply.started": "2021-03-10T19:20:28.231608Z"
    }
   },
   "outputs": [
    {
     "name": "stdout",
     "output_type": "stream",
     "text": [
      "Model: \"transformer\"\n",
      "__________________________________________________________________________________________________\n",
      "Layer (type)                    Output Shape         Param #     Connected to                     \n",
      "==================================================================================================\n",
      "inputs (InputLayer)             [(None, None)]       0                                            \n",
      "__________________________________________________________________________________________________\n",
      "dec_inputs (InputLayer)         [(None, None)]       0                                            \n",
      "__________________________________________________________________________________________________\n",
      "enc_padding_mask (Lambda)       (None, 1, 1, None)   0           inputs[0][0]                     \n",
      "__________________________________________________________________________________________________\n",
      "encoder (Functional)            (None, None, 256)    3144192     inputs[0][0]                     \n",
      "                                                                 enc_padding_mask[0][0]           \n",
      "__________________________________________________________________________________________________\n",
      "look_ahead_mask (Lambda)        (None, 1, None, None 0           dec_inputs[0][0]                 \n",
      "__________________________________________________________________________________________________\n",
      "dec_padding_mask (Lambda)       (None, 1, 1, None)   0           inputs[0][0]                     \n",
      "__________________________________________________________________________________________________\n",
      "decoder (Functional)            (None, None, 256)    3671552     dec_inputs[0][0]                 \n",
      "                                                                 encoder[0][0]                    \n",
      "                                                                 look_ahead_mask[0][0]            \n",
      "                                                                 dec_padding_mask[0][0]           \n",
      "__________________________________________________________________________________________________\n",
      "outputs (Dense)                 (None, None, 8164)   2098148     decoder[0][0]                    \n",
      "==================================================================================================\n",
      "Total params: 8,913,892\n",
      "Trainable params: 8,913,892\n",
      "Non-trainable params: 0\n",
      "__________________________________________________________________________________________________\n"
     ]
    }
   ],
   "source": [
    "tf.keras.backend.clear_session()\n",
    "\n",
    "# 하이퍼파라미터\n",
    "NUM_LAYERS = 2 # 인코더와 디코더의 층의 개수\n",
    "D_MODEL = 256 # 인코더와 디코더 내부의 입, 출력의 고정 차원\n",
    "NUM_HEADS = 8 # 멀티 헤드 어텐션에서의 헤드 수 \n",
    "UNITS = 512 # 피드 포워드 신경망의 은닉층의 크기\n",
    "DROPOUT = 0.1 # 드롭아웃의 비율\n",
    "\n",
    "model = transformer(\n",
    "    vocab_size=VOCAB_SIZE,\n",
    "    num_layers=NUM_LAYERS,\n",
    "    units=UNITS,\n",
    "    d_model=D_MODEL,\n",
    "    num_heads=NUM_HEADS,\n",
    "    dropout=DROPOUT)\n",
    "\n",
    "model.summary()"
   ]
  },
  {
   "cell_type": "markdown",
   "id": "configured-trace",
   "metadata": {},
   "source": [
    "#### 손실함수 정의"
   ]
  },
  {
   "cell_type": "code",
   "execution_count": 118,
   "id": "earned-slave",
   "metadata": {
    "execution": {
     "iopub.execute_input": "2021-03-10T19:21:05.202202Z",
     "iopub.status.busy": "2021-03-10T19:21:05.201412Z",
     "iopub.status.idle": "2021-03-10T19:21:05.213053Z",
     "shell.execute_reply": "2021-03-10T19:21:05.211556Z",
     "shell.execute_reply.started": "2021-03-10T19:21:05.202118Z"
    }
   },
   "outputs": [],
   "source": [
    "def loss_function(y_true, y_pred):\n",
    "    y_true = tf.reshape(y_true, shape=(-1, MAX_LENGTH - 1))\n",
    "  \n",
    "    loss = tf.keras.losses.SparseCategoricalCrossentropy(\n",
    "        from_logits=True, reduction='none')(y_true, y_pred)\n",
    "\n",
    "    mask = tf.cast(tf.not_equal(y_true, 0), tf.float32)\n",
    "    loss = tf.multiply(loss, mask)\n",
    "\n",
    "    return tf.reduce_mean(loss)"
   ]
  },
  {
   "cell_type": "markdown",
   "id": "funny-reliance",
   "metadata": {},
   "source": [
    "#### 커스텀 학습률 스케줄링을 통한 learning rate 정의"
   ]
  },
  {
   "cell_type": "code",
   "execution_count": 119,
   "id": "central-saint",
   "metadata": {
    "execution": {
     "iopub.execute_input": "2021-03-10T19:21:28.019413Z",
     "iopub.status.busy": "2021-03-10T19:21:28.018769Z",
     "iopub.status.idle": "2021-03-10T19:21:28.026341Z",
     "shell.execute_reply": "2021-03-10T19:21:28.025757Z",
     "shell.execute_reply.started": "2021-03-10T19:21:28.019337Z"
    }
   },
   "outputs": [],
   "source": [
    "class CustomSchedule(tf.keras.optimizers.schedules.LearningRateSchedule):\n",
    "\n",
    "    def __init__(self, d_model, warmup_steps=4000):\n",
    "        super(CustomSchedule, self).__init__()\n",
    "\n",
    "        self.d_model = d_model\n",
    "        self.d_model = tf.cast(self.d_model, tf.float32)\n",
    "\n",
    "        self.warmup_steps = warmup_steps\n",
    "\n",
    "    def __call__(self, step):\n",
    "        arg1 = tf.math.rsqrt(step)\n",
    "        arg2 = step * (self.warmup_steps**-1.5)\n",
    "\n",
    "        return tf.math.rsqrt(self.d_model) * tf.math.minimum(arg1, arg2)"
   ]
  },
  {
   "cell_type": "code",
   "execution_count": 120,
   "id": "optical-crash",
   "metadata": {
    "execution": {
     "iopub.execute_input": "2021-03-10T19:21:37.285262Z",
     "iopub.status.busy": "2021-03-10T19:21:37.284647Z",
     "iopub.status.idle": "2021-03-10T19:21:37.464578Z",
     "shell.execute_reply": "2021-03-10T19:21:37.463968Z",
     "shell.execute_reply.started": "2021-03-10T19:21:37.285186Z"
    }
   },
   "outputs": [
    {
     "data": {
      "text/plain": [
       "Text(0.5, 0, 'Train Step')"
      ]
     },
     "execution_count": 120,
     "metadata": {},
     "output_type": "execute_result"
    },
    {
     "data": {
      "image/png": "[encoded data removed]",
      "text/plain": [
       "<Figure size 432x288 with 1 Axes>"
      ]
     },
     "metadata": {
      "needs_background": "light"
     },
     "output_type": "display_data"
    }
   ],
   "source": [
    "sample_learning_rate = CustomSchedule(d_model=128)\n",
    "\n",
    "plt.plot(sample_learning_rate(tf.range(200000, dtype=tf.float32)))\n",
    "plt.ylabel(\"Learning Rate\")\n",
    "plt.xlabel(\"Train Step\")"
   ]
  },
  {
   "cell_type": "markdown",
   "id": "national-volleyball",
   "metadata": {},
   "source": [
    "#### 모델 컴파일"
   ]
  },
  {
   "cell_type": "code",
   "execution_count": 121,
   "id": "continuing-noise",
   "metadata": {
    "execution": {
     "iopub.execute_input": "2021-03-10T19:22:03.181340Z",
     "iopub.status.busy": "2021-03-10T19:22:03.181134Z",
     "iopub.status.idle": "2021-03-10T19:22:03.199161Z",
     "shell.execute_reply": "2021-03-10T19:22:03.198523Z",
     "shell.execute_reply.started": "2021-03-10T19:22:03.181318Z"
    }
   },
   "outputs": [],
   "source": [
    "learning_rate = CustomSchedule(D_MODEL)\n",
    "\n",
    "optimizer = tf.keras.optimizers.Adam(learning_rate, beta_1=0.9, beta_2=0.98, epsilon=1e-9)\n",
    "\n",
    "def accuracy(y_true, y_pred):\n",
    "    y_true = tf.reshape(y_true, shape=(-1, MAX_LENGTH - 1))\n",
    "    return tf.keras.metrics.sparse_categorical_accuracy(y_true, y_pred)"
   ]
  },
  {
   "cell_type": "code",
   "execution_count": 122,
   "id": "flexible-setting",
   "metadata": {
    "execution": {
     "iopub.execute_input": "2021-03-10T19:22:07.088477Z",
     "iopub.status.busy": "2021-03-10T19:22:07.087873Z",
     "iopub.status.idle": "2021-03-10T19:22:07.106227Z",
     "shell.execute_reply": "2021-03-10T19:22:07.105536Z",
     "shell.execute_reply.started": "2021-03-10T19:22:07.088395Z"
    }
   },
   "outputs": [],
   "source": [
    "model.compile(optimizer=optimizer, loss=loss_function, metrics=[accuracy])"
   ]
  },
  {
   "cell_type": "markdown",
   "id": "handy-produce",
   "metadata": {},
   "source": [
    "#### 모델 훈련"
   ]
  },
  {
   "cell_type": "code",
   "execution_count": 188,
   "id": "straight-knife",
   "metadata": {
    "execution": {
     "iopub.execute_input": "2021-03-10T20:23:18.869831Z",
     "iopub.status.busy": "2021-03-10T20:23:18.869506Z",
     "iopub.status.idle": "2021-03-10T20:26:42.283442Z",
     "shell.execute_reply": "2021-03-10T20:26:42.282730Z",
     "shell.execute_reply.started": "2021-03-10T20:23:18.869793Z"
    },
    "tags": []
   },
   "outputs": [
    {
     "name": "stdout",
     "output_type": "stream",
     "text": [
      "Epoch 1/20\n",
      "185/185 [==============================] - 10s 54ms/step - loss: 0.0794 - accuracy: 0.3044\n",
      "Epoch 2/20\n",
      "185/185 [==============================] - 11s 59ms/step - loss: 0.0765 - accuracy: 0.3049\n",
      "Epoch 3/20\n",
      "185/185 [==============================] - 10s 55ms/step - loss: 0.0687 - accuracy: 0.3070\n",
      "Epoch 4/20\n",
      "185/185 [==============================] - 9s 51ms/step - loss: 0.0588 - accuracy: 0.3094\n",
      "Epoch 5/20\n",
      "185/185 [==============================] - 10s 53ms/step - loss: 0.0511 - accuracy: 0.3110\n",
      "Epoch 6/20\n",
      "185/185 [==============================] - 10s 57ms/step - loss: 0.0470 - accuracy: 0.3121\n",
      "Epoch 7/20\n",
      "185/185 [==============================] - 10s 54ms/step - loss: 0.0417 - accuracy: 0.3132\n",
      "Epoch 8/20\n",
      "185/185 [==============================] - 9s 51ms/step - loss: 0.0373 - accuracy: 0.3144\n",
      "Epoch 9/20\n",
      "185/185 [==============================] - 9s 51ms/step - loss: 0.0346 - accuracy: 0.3152\n",
      "Epoch 10/20\n",
      "185/185 [==============================] - 10s 51ms/step - loss: 0.0309 - accuracy: 0.3163\n",
      "Epoch 11/20\n",
      "185/185 [==============================] - 10s 51ms/step - loss: 0.0294 - accuracy: 0.3166\n",
      "Epoch 12/20\n",
      "185/185 [==============================] - 10s 56ms/step - loss: 0.0254 - accuracy: 0.3176\n",
      "Epoch 13/20\n",
      "185/185 [==============================] - 11s 58ms/step - loss: 0.0249 - accuracy: 0.3175\n",
      "Epoch 14/20\n",
      "185/185 [==============================] - 11s 57ms/step - loss: 0.0235 - accuracy: 0.3180\n",
      "Epoch 15/20\n",
      "185/185 [==============================] - 10s 56ms/step - loss: 0.0220 - accuracy: 0.3184\n",
      "Epoch 16/20\n",
      "185/185 [==============================] - 11s 57ms/step - loss: 0.0206 - accuracy: 0.3186\n",
      "Epoch 17/20\n",
      "185/185 [==============================] - 10s 57ms/step - loss: 0.0190 - accuracy: 0.3192\n",
      "Epoch 18/20\n",
      "185/185 [==============================] - 11s 57ms/step - loss: 0.0183 - accuracy: 0.3193\n",
      "Epoch 19/20\n",
      "185/185 [==============================] - 10s 56ms/step - loss: 0.0177 - accuracy: 0.3194\n",
      "Epoch 20/20\n",
      "185/185 [==============================] - 11s 57ms/step - loss: 0.0167 - accuracy: 0.3198\n"
     ]
    }
   ],
   "source": [
    "EPOCHS = 20\n",
    "history = model.fit(dataset, epochs=EPOCHS, verbose=1)"
   ]
  },
  {
   "cell_type": "code",
   "execution_count": 192,
   "id": "introductory-criterion",
   "metadata": {
    "execution": {
     "iopub.execute_input": "2021-03-10T20:29:06.756996Z",
     "iopub.status.busy": "2021-03-10T20:29:06.756542Z",
     "iopub.status.idle": "2021-03-10T20:29:07.008307Z",
     "shell.execute_reply": "2021-03-10T20:29:07.007741Z",
     "shell.execute_reply.started": "2021-03-10T20:29:06.756942Z"
    },
    "tags": []
   },
   "outputs": [
    {
     "data": {
      "image/png": "[encoded data removed]",
      "text/plain": [
       "<Figure size 864x288 with 2 Axes>"
      ]
     },
     "metadata": {
      "needs_background": "light"
     },
     "output_type": "display_data"
    }
   ],
   "source": [
    "fig, (ax1, ax2) = plt.subplots(1, 2, figsize=(12, 4))\n",
    "\n",
    "ax1.plot(history.history['accuracy'], 'r')\n",
    "ax1.set_title('Train Accuracy')\n",
    "ax1.set_ylabel('accuracy')\n",
    "ax1.set_xlabel('epoch')\n",
    "\n",
    "ax2.plot(history.history['loss'], 'b')\n",
    "ax2.set_title('Train Loss')\n",
    "ax2.set_ylabel('loss')\n",
    "ax2.set_xlabel('epoch')\n",
    "\n",
    "plt.show()"
   ]
  },
  {
   "cell_type": "markdown",
   "id": "academic-tonight",
   "metadata": {},
   "source": [
    "## STEP 4. 모델 평가\n",
    "---"
   ]
  },
  {
   "cell_type": "markdown",
   "id": "joined-struggle",
   "metadata": {},
   "source": [
    "### 1. 평가 함수 정의"
   ]
  },
  {
   "cell_type": "markdown",
   "id": "convinced-employer",
   "metadata": {},
   "source": [
    "#### decoder inference\n",
    "예측 단계는 다음과 같은 과정을 거쳐 진행된다.\n",
    "1. 새로운 입력 문장에 대해서는 훈련 때와 동일한 전처리를 거친다.\n",
    "2. 입력 문장을 토크나이징하고, START_TOKEN과 END_TOKEN을 추가한다.\n",
    "3. 패딩 마스킹과 룩 어헤드 마스킹을 계산한다.\n",
    "4. 디코더는 입력 시퀀스로부터 다음 단어를 예측한다.\n",
    "5. 디코더는 예측된 다음 단어를 기존의 입력 시퀀스에 추가하여 새로운 입력으로 사용한다.\n",
    "6. END_TOKEN이 예측되거나 문장의 최대 길이에 도달하면 디코더는 동작을 멈춘다."
   ]
  },
  {
   "cell_type": "code",
   "execution_count": 128,
   "id": "lovely-modern",
   "metadata": {
    "execution": {
     "iopub.execute_input": "2021-03-10T19:32:34.094294Z",
     "iopub.status.busy": "2021-03-10T19:32:34.094065Z",
     "iopub.status.idle": "2021-03-10T19:32:34.100328Z",
     "shell.execute_reply": "2021-03-10T19:32:34.099165Z",
     "shell.execute_reply.started": "2021-03-10T19:32:34.094268Z"
    },
    "tags": []
   },
   "outputs": [],
   "source": [
    "def decoder_inference(sentence):\n",
    "    sentence = remove_punctuation(sentence)\n",
    "\n",
    "    # 입력된 문장을 정수 인코딩 후, 시작 토큰과 종료 토큰을 앞뒤로 추가.\n",
    "    # ex) Where have you been? → [[8331   86   30    5 1059    7 8332]]\n",
    "    sentence = tf.expand_dims(\n",
    "          START_TOKEN + tokenizer.encode(sentence) + END_TOKEN, axis=0)\n",
    "    \n",
    "    # 디코더의 현재까지의 예측한 출력 시퀀스가 지속적으로 저장되는 변수.\n",
    "    # 처음에는 예측한 내용이 없음으로 시작 토큰만 별도 저장. ex) 8331\n",
    "    output_sequence = tf.expand_dims(START_TOKEN, 0)\n",
    "    \n",
    "    # 디코더의 인퍼런스 단계\n",
    "    for i in range(MAX_LENGTH):\n",
    "        # 디코더는 최대 MAX_LENGTH의 길이만큼 다음 단어 예측을 반복합니다.\n",
    "        predictions = model(inputs=[sentence, output_sequence], training=False)\n",
    "        predictions = predictions[:, -1:, :]\n",
    "\n",
    "        # 현재 예측한 단어의 정수\n",
    "        predicted_id = tf.cast(tf.argmax(predictions, axis=-1), tf.int32)\n",
    "\n",
    "        # 만약 현재 예측한 단어가 종료 토큰이라면 for문을 종료\n",
    "        if tf.equal(predicted_id, END_TOKEN[0]): break\n",
    "\n",
    "        # 예측한 단어들은 지속적으로 output_sequence에 추가됩니다.\n",
    "        # 이 output_sequence는 다시 디코더의 입력이 됩니다.\n",
    "        output_sequence = tf.concat([output_sequence, predicted_id], axis=-1)\n",
    "\n",
    "    return tf.squeeze(output_sequence, axis=0)"
   ]
  },
  {
   "cell_type": "markdown",
   "id": "lined-vitamin",
   "metadata": {},
   "source": [
    "#### sentence generation\n",
    "입력문장에 대하여 inference를 진행한 후, 어어진 정수형태의 대답을 디코드하면 문장을 반환한다."
   ]
  },
  {
   "cell_type": "code",
   "execution_count": 131,
   "id": "fleet-allocation",
   "metadata": {
    "execution": {
     "iopub.execute_input": "2021-03-10T19:34:39.959188Z",
     "iopub.status.busy": "2021-03-10T19:34:39.958486Z",
     "iopub.status.idle": "2021-03-10T19:34:39.968420Z",
     "shell.execute_reply": "2021-03-10T19:34:39.966946Z",
     "shell.execute_reply.started": "2021-03-10T19:34:39.959106Z"
    },
    "tags": []
   },
   "outputs": [],
   "source": [
    "def sentence_generation(sentence):\n",
    "    # 입력 문장에 대해서 디코더를 동작 시켜 예측된 정수 시퀀스를 리턴받습니다.\n",
    "    prediction = decoder_inference(sentence)\n",
    "    # 정수 시퀀스를 다시 텍스트 시퀀스로 변환합니다.\n",
    "    predicted_sentence = tokenizer.decode([i for i in prediction if i < tokenizer.vocab_size])\n",
    "\n",
    "    print('🧑 입력 >>> {}'.format(sentence))\n",
    "    print('🤖 출력 >>> {}'.format(predicted_sentence))\n",
    "\n",
    "    return predicted_sentence"
   ]
  },
  {
   "cell_type": "markdown",
   "id": "patent-syntax",
   "metadata": {},
   "source": [
    "### 2. 모델 테스트"
   ]
  },
  {
   "cell_type": "markdown",
   "id": "restricted-wiring",
   "metadata": {},
   "source": [
    "- 인사"
   ]
  },
  {
   "cell_type": "code",
   "execution_count": 134,
   "id": "italic-bundle",
   "metadata": {
    "execution": {
     "iopub.execute_input": "2021-03-10T19:37:40.457161Z",
     "iopub.status.busy": "2021-03-10T19:37:40.456808Z",
     "iopub.status.idle": "2021-03-10T19:37:40.621598Z",
     "shell.execute_reply": "2021-03-10T19:37:40.620953Z",
     "shell.execute_reply.started": "2021-03-10T19:37:40.457128Z"
    },
    "tags": []
   },
   "outputs": [
    {
     "name": "stdout",
     "output_type": "stream",
     "text": [
      "🧑 입력 >>> 안녕?\n",
      "🤖 출력 >>> 안녕하세요 .\n"
     ]
    }
   ],
   "source": [
    "_ = sentence_generation('안녕?')"
   ]
  },
  {
   "cell_type": "code",
   "execution_count": 135,
   "id": "disabled-patio",
   "metadata": {
    "execution": {
     "iopub.execute_input": "2021-03-10T19:37:40.679669Z",
     "iopub.status.busy": "2021-03-10T19:37:40.679429Z",
     "iopub.status.idle": "2021-03-10T19:37:40.828605Z",
     "shell.execute_reply": "2021-03-10T19:37:40.828040Z",
     "shell.execute_reply.started": "2021-03-10T19:37:40.679642Z"
    },
    "tags": []
   },
   "outputs": [
    {
     "name": "stdout",
     "output_type": "stream",
     "text": [
      "🧑 입력 >>> 안녕하세요?\n",
      "🤖 출력 >>> 안녕하세요 .\n"
     ]
    }
   ],
   "source": [
    "_ = sentence_generation('안녕하세요?')"
   ]
  },
  {
   "cell_type": "code",
   "execution_count": 136,
   "id": "treated-locator",
   "metadata": {
    "execution": {
     "iopub.execute_input": "2021-03-10T19:37:40.938647Z",
     "iopub.status.busy": "2021-03-10T19:37:40.938383Z",
     "iopub.status.idle": "2021-03-10T19:37:41.419966Z",
     "shell.execute_reply": "2021-03-10T19:37:41.419422Z",
     "shell.execute_reply.started": "2021-03-10T19:37:40.938612Z"
    },
    "tags": []
   },
   "outputs": [
    {
     "name": "stdout",
     "output_type": "stream",
     "text": [
      "🧑 입력 >>> hi!\n",
      "🤖 출력 >>> 마음의 정리를 해야하는 시기가 올지도 모르겠어요 .\n"
     ]
    }
   ],
   "source": [
    "_ = sentence_generation('hi!')"
   ]
  },
  {
   "cell_type": "markdown",
   "id": "designed-piano",
   "metadata": {},
   "source": [
    "- 일상다반사"
   ]
  },
  {
   "cell_type": "code",
   "execution_count": 165,
   "id": "separated-invite",
   "metadata": {
    "execution": {
     "iopub.execute_input": "2021-03-10T19:45:03.443547Z",
     "iopub.status.busy": "2021-03-10T19:45:03.443247Z",
     "iopub.status.idle": "2021-03-10T19:45:03.821786Z",
     "shell.execute_reply": "2021-03-10T19:45:03.821337Z",
     "shell.execute_reply.started": "2021-03-10T19:45:03.443513Z"
    },
    "tags": []
   },
   "outputs": [
    {
     "name": "stdout",
     "output_type": "stream",
     "text": [
      "🧑 입력 >>> 오늘 저녁 뭐 먹을까?\n",
      "🤖 출력 >>> 맛있는 거 드세요 .\n",
      "🧑 입력 >>> 어제 저녁에 먹은 치킨이 정말 맛있었어.\n",
      "🤖 출력 >>> 지쳤나봐요 .\n"
     ]
    },
    {
     "data": {
      "text/html": [
       "<div>\n",
       "<style scoped>\n",
       "    .dataframe tbody tr th:only-of-type {\n",
       "        vertical-align: middle;\n",
       "    }\n",
       "\n",
       "    .dataframe tbody tr th {\n",
       "        vertical-align: top;\n",
       "    }\n",
       "\n",
       "    .dataframe thead th {\n",
       "        text-align: right;\n",
       "    }\n",
       "</style>\n",
       "<table border=\"1\" class=\"dataframe\">\n",
       "  <thead>\n",
       "    <tr style=\"text-align: right;\">\n",
       "      <th></th>\n",
       "      <th>Q</th>\n",
       "      <th>A</th>\n",
       "      <th>label</th>\n",
       "    </tr>\n",
       "  </thead>\n",
       "  <tbody>\n",
       "    <tr>\n",
       "      <th>43</th>\n",
       "      <td>간식 뭐 먹을까</td>\n",
       "      <td>단짠으로 두 개 사는게 진리죠.</td>\n",
       "      <td>0</td>\n",
       "    </tr>\n",
       "    <tr>\n",
       "      <th>1805</th>\n",
       "      <td>뭐 먹을 거 없나</td>\n",
       "      <td>냉장고 파먹기 해보세요.</td>\n",
       "      <td>0</td>\n",
       "    </tr>\n",
       "    <tr>\n",
       "      <th>1806</th>\n",
       "      <td>뭐 먹을까?</td>\n",
       "      <td>좀 먹어도 괜찮아요.</td>\n",
       "      <td>0</td>\n",
       "    </tr>\n",
       "    <tr>\n",
       "      <th>1968</th>\n",
       "      <td>밥 뭐 먹을까</td>\n",
       "      <td>맛있는 거 드세요.</td>\n",
       "      <td>0</td>\n",
       "    </tr>\n",
       "    <tr>\n",
       "      <th>2955</th>\n",
       "      <td>안주 뭐 먹을까?</td>\n",
       "      <td>살 안 찌는 게 좋을 것 같아요.</td>\n",
       "      <td>0</td>\n",
       "    </tr>\n",
       "    <tr>\n",
       "      <th>3308</th>\n",
       "      <td>오늘 저녁 뭐 먹을까</td>\n",
       "      <td>맛있는 거 드세요.</td>\n",
       "      <td>0</td>\n",
       "    </tr>\n",
       "    <tr>\n",
       "      <th>3310</th>\n",
       "      <td>오늘 점심 뭐 먹을까</td>\n",
       "      <td>맛있는 거 드세요.</td>\n",
       "      <td>0</td>\n",
       "    </tr>\n",
       "    <tr>\n",
       "      <th>3348</th>\n",
       "      <td>오늘은 뭐 먹을까?</td>\n",
       "      <td>맛있는 거 드세요.</td>\n",
       "      <td>0</td>\n",
       "    </tr>\n",
       "    <tr>\n",
       "      <th>4033</th>\n",
       "      <td>저녁 메뉴 뭐 먹을까</td>\n",
       "      <td>냉장고 파먹기 해보세요.</td>\n",
       "      <td>0</td>\n",
       "    </tr>\n",
       "    <tr>\n",
       "      <th>4039</th>\n",
       "      <td>저녁으로 뭐 먹을까</td>\n",
       "      <td>냉장고 파먹기 해보세요.</td>\n",
       "      <td>0</td>\n",
       "    </tr>\n",
       "  </tbody>\n",
       "</table>\n",
       "</div>"
      ],
      "text/plain": [
       "                Q                   A  label\n",
       "43       간식 뭐 먹을까   단짠으로 두 개 사는게 진리죠.      0\n",
       "1805    뭐 먹을 거 없나       냉장고 파먹기 해보세요.      0\n",
       "1806       뭐 먹을까?         좀 먹어도 괜찮아요.      0\n",
       "1968      밥 뭐 먹을까          맛있는 거 드세요.      0\n",
       "2955    안주 뭐 먹을까?  살 안 찌는 게 좋을 것 같아요.      0\n",
       "3308  오늘 저녁 뭐 먹을까          맛있는 거 드세요.      0\n",
       "3310  오늘 점심 뭐 먹을까          맛있는 거 드세요.      0\n",
       "3348   오늘은 뭐 먹을까?          맛있는 거 드세요.      0\n",
       "4033  저녁 메뉴 뭐 먹을까       냉장고 파먹기 해보세요.      0\n",
       "4039   저녁으로 뭐 먹을까       냉장고 파먹기 해보세요.      0"
      ]
     },
     "execution_count": 165,
     "metadata": {},
     "output_type": "execute_result"
    }
   ],
   "source": [
    "_ = sentence_generation('오늘 저녁 뭐 먹을까?')\n",
    "_ = sentence_generation('어제 저녁에 먹은 치킨이 정말 맛있었어.')\n",
    "raw_data[raw_data['Q'].str.contains('뭐 먹을')]"
   ]
  },
  {
   "cell_type": "code",
   "execution_count": 160,
   "id": "objective-outline",
   "metadata": {
    "execution": {
     "iopub.execute_input": "2021-03-10T19:43:57.244848Z",
     "iopub.status.busy": "2021-03-10T19:43:57.244638Z",
     "iopub.status.idle": "2021-03-10T19:43:57.531621Z",
     "shell.execute_reply": "2021-03-10T19:43:57.531032Z",
     "shell.execute_reply.started": "2021-03-10T19:43:57.244825Z"
    },
    "tags": []
   },
   "outputs": [
    {
     "name": "stdout",
     "output_type": "stream",
     "text": [
      "🧑 입력 >>> 내일 미용실에 갔다올거야!\n",
      "🤖 출력 >>> 예쁘게 변신하고 오세요 .\n"
     ]
    },
    {
     "data": {
      "text/html": [
       "<div>\n",
       "<style scoped>\n",
       "    .dataframe tbody tr th:only-of-type {\n",
       "        vertical-align: middle;\n",
       "    }\n",
       "\n",
       "    .dataframe tbody tr th {\n",
       "        vertical-align: top;\n",
       "    }\n",
       "\n",
       "    .dataframe thead th {\n",
       "        text-align: right;\n",
       "    }\n",
       "</style>\n",
       "<table border=\"1\" class=\"dataframe\">\n",
       "  <thead>\n",
       "    <tr style=\"text-align: right;\">\n",
       "      <th></th>\n",
       "      <th>Q</th>\n",
       "      <th>A</th>\n",
       "      <th>label</th>\n",
       "    </tr>\n",
       "  </thead>\n",
       "  <tbody>\n",
       "    <tr>\n",
       "      <th>1875</th>\n",
       "      <td>미용실 가서 머리해야지</td>\n",
       "      <td>예쁘게 변신하고 오세요.</td>\n",
       "      <td>0</td>\n",
       "    </tr>\n",
       "    <tr>\n",
       "      <th>1876</th>\n",
       "      <td>미용실 가야지</td>\n",
       "      <td>예쁘게 변신하고 오세요.</td>\n",
       "      <td>0</td>\n",
       "    </tr>\n",
       "    <tr>\n",
       "      <th>1877</th>\n",
       "      <td>미용실 갔다왔는데 티가 안 나</td>\n",
       "      <td>다시 방문해보세요.</td>\n",
       "      <td>0</td>\n",
       "    </tr>\n",
       "    <tr>\n",
       "      <th>1878</th>\n",
       "      <td>미용실에서 너무 티 안 나게 머리를 잘라줬어</td>\n",
       "      <td>다시 방문해보세요.</td>\n",
       "      <td>0</td>\n",
       "    </tr>\n",
       "  </tbody>\n",
       "</table>\n",
       "</div>"
      ],
      "text/plain": [
       "                             Q              A  label\n",
       "1875              미용실 가서 머리해야지  예쁘게 변신하고 오세요.      0\n",
       "1876                   미용실 가야지  예쁘게 변신하고 오세요.      0\n",
       "1877          미용실 갔다왔는데 티가 안 나     다시 방문해보세요.      0\n",
       "1878  미용실에서 너무 티 안 나게 머리를 잘라줬어     다시 방문해보세요.      0"
      ]
     },
     "execution_count": 160,
     "metadata": {},
     "output_type": "execute_result"
    }
   ],
   "source": [
    "_ = sentence_generation('내일 미용실에 갔다올거야!')\n",
    "raw_data[raw_data['Q'].str.contains('미용실')]"
   ]
  },
  {
   "cell_type": "code",
   "execution_count": 162,
   "id": "together-planner",
   "metadata": {
    "execution": {
     "iopub.execute_input": "2021-03-10T19:44:14.484481Z",
     "iopub.status.busy": "2021-03-10T19:44:14.484276Z",
     "iopub.status.idle": "2021-03-10T19:44:15.378643Z",
     "shell.execute_reply": "2021-03-10T19:44:15.378072Z",
     "shell.execute_reply.started": "2021-03-10T19:44:14.484458Z"
    },
    "tags": []
   },
   "outputs": [
    {
     "name": "stdout",
     "output_type": "stream",
     "text": [
      "🧑 입력 >>> 옷이 입을게 없어ㅠㅠㅠㅠ\n",
      "🤖 출력 >>> 이 김에 하나 장만하는 건 어떨까요 .\n",
      "🧑 입력 >>> 빨래를 어제 널었는데 아직 옷이 다 안 말랐어\n",
      "🤖 출력 >>> 이 김에 하나 장만하는 건 어떨까요 .\n"
     ]
    },
    {
     "data": {
      "text/html": [
       "<div>\n",
       "<style scoped>\n",
       "    .dataframe tbody tr th:only-of-type {\n",
       "        vertical-align: middle;\n",
       "    }\n",
       "\n",
       "    .dataframe tbody tr th {\n",
       "        vertical-align: top;\n",
       "    }\n",
       "\n",
       "    .dataframe thead th {\n",
       "        text-align: right;\n",
       "    }\n",
       "</style>\n",
       "<table border=\"1\" class=\"dataframe\">\n",
       "  <thead>\n",
       "    <tr style=\"text-align: right;\">\n",
       "      <th></th>\n",
       "      <th>Q</th>\n",
       "      <th>A</th>\n",
       "      <th>label</th>\n",
       "    </tr>\n",
       "  </thead>\n",
       "  <tbody>\n",
       "    <tr>\n",
       "      <th>3397</th>\n",
       "      <td>옷이 다 젖었어</td>\n",
       "      <td>감기 조심 하세요.</td>\n",
       "      <td>0</td>\n",
       "    </tr>\n",
       "    <tr>\n",
       "      <th>10786</th>\n",
       "      <td>오늘 짝남 만나는데 옷이 없다.</td>\n",
       "      <td>이 김에 하나 장만하는 건 어떨까요.</td>\n",
       "      <td>2</td>\n",
       "    </tr>\n",
       "    <tr>\n",
       "      <th>10788</th>\n",
       "      <td>오늘 짝녀 만나기로 했는데 옷이 없네.</td>\n",
       "      <td>이 김에 하나 장만하는 건 어떨까요.</td>\n",
       "      <td>2</td>\n",
       "    </tr>\n",
       "  </tbody>\n",
       "</table>\n",
       "</div>"
      ],
      "text/plain": [
       "                           Q                     A  label\n",
       "3397                옷이 다 젖었어            감기 조심 하세요.      0\n",
       "10786      오늘 짝남 만나는데 옷이 없다.  이 김에 하나 장만하는 건 어떨까요.      2\n",
       "10788  오늘 짝녀 만나기로 했는데 옷이 없네.  이 김에 하나 장만하는 건 어떨까요.      2"
      ]
     },
     "execution_count": 162,
     "metadata": {},
     "output_type": "execute_result"
    }
   ],
   "source": [
    "_ = sentence_generation('옷이 입을게 없어ㅠㅠㅠㅠ')\n",
    "_ = sentence_generation('빨래를 어제 널었는데 아직 옷이 다 안 말랐어')\n",
    "raw_data[raw_data['Q'].str.contains('옷이')]"
   ]
  },
  {
   "cell_type": "code",
   "execution_count": 183,
   "id": "lucky-reward",
   "metadata": {
    "execution": {
     "iopub.execute_input": "2021-03-10T19:50:23.129160Z",
     "iopub.status.busy": "2021-03-10T19:50:23.128945Z",
     "iopub.status.idle": "2021-03-10T19:50:23.390241Z",
     "shell.execute_reply": "2021-03-10T19:50:23.389772Z",
     "shell.execute_reply.started": "2021-03-10T19:50:23.129135Z"
    },
    "tags": []
   },
   "outputs": [
    {
     "name": "stdout",
     "output_type": "stream",
     "text": [
      "🧑 입력 >>> 집 비밀번호 까먹었는데 어쩌지\n",
      "🤖 출력 >>> 회원정보 찾기를 해보세요 .\n"
     ]
    },
    {
     "data": {
      "text/html": [
       "<div>\n",
       "<style scoped>\n",
       "    .dataframe tbody tr th:only-of-type {\n",
       "        vertical-align: middle;\n",
       "    }\n",
       "\n",
       "    .dataframe tbody tr th {\n",
       "        vertical-align: top;\n",
       "    }\n",
       "\n",
       "    .dataframe thead th {\n",
       "        text-align: right;\n",
       "    }\n",
       "</style>\n",
       "<table border=\"1\" class=\"dataframe\">\n",
       "  <thead>\n",
       "    <tr style=\"text-align: right;\">\n",
       "      <th></th>\n",
       "      <th>Q</th>\n",
       "      <th>A</th>\n",
       "      <th>label</th>\n",
       "    </tr>\n",
       "  </thead>\n",
       "  <tbody>\n",
       "    <tr>\n",
       "      <th>2206</th>\n",
       "      <td>비밀번호 기억안 나</td>\n",
       "      <td>회원정보 찾기를 해보세요.</td>\n",
       "      <td>0</td>\n",
       "    </tr>\n",
       "    <tr>\n",
       "      <th>2207</th>\n",
       "      <td>비밀번호 까먹었다</td>\n",
       "      <td>회원정보 찾기를 해보세요.</td>\n",
       "      <td>0</td>\n",
       "    </tr>\n",
       "    <tr>\n",
       "      <th>2208</th>\n",
       "      <td>비밀번호 뭐였더라</td>\n",
       "      <td>회원정보 찾기를 해보세요.</td>\n",
       "      <td>0</td>\n",
       "    </tr>\n",
       "    <tr>\n",
       "      <th>2209</th>\n",
       "      <td>비밀번호 자꾸 바꾸래</td>\n",
       "      <td>보안상 그게 좋죠.</td>\n",
       "      <td>0</td>\n",
       "    </tr>\n",
       "    <tr>\n",
       "      <th>2210</th>\n",
       "      <td>비밀번호 자꾸 바꿔</td>\n",
       "      <td>보안상 그게 좋죠.</td>\n",
       "      <td>0</td>\n",
       "    </tr>\n",
       "    <tr>\n",
       "      <th>6552</th>\n",
       "      <td>비밀번호 뭐였더라</td>\n",
       "      <td>회원정보 찾기를 해보세요.</td>\n",
       "      <td>1</td>\n",
       "    </tr>\n",
       "  </tbody>\n",
       "</table>\n",
       "</div>"
      ],
      "text/plain": [
       "                Q               A  label\n",
       "2206   비밀번호 기억안 나  회원정보 찾기를 해보세요.      0\n",
       "2207    비밀번호 까먹었다  회원정보 찾기를 해보세요.      0\n",
       "2208    비밀번호 뭐였더라  회원정보 찾기를 해보세요.      0\n",
       "2209  비밀번호 자꾸 바꾸래      보안상 그게 좋죠.      0\n",
       "2210   비밀번호 자꾸 바꿔      보안상 그게 좋죠.      0\n",
       "6552    비밀번호 뭐였더라  회원정보 찾기를 해보세요.      1"
      ]
     },
     "execution_count": 183,
     "metadata": {},
     "output_type": "execute_result"
    }
   ],
   "source": [
    "_ = sentence_generation('집 비밀번호 까먹었는데 어쩌지')\n",
    "raw_data[raw_data['Q'].str.contains('비밀번호')]"
   ]
  },
  {
   "cell_type": "markdown",
   "id": "iraqi-diagram",
   "metadata": {},
   "source": [
    "- 이별(부정)"
   ]
  },
  {
   "cell_type": "code",
   "execution_count": 184,
   "id": "international-amino",
   "metadata": {
    "execution": {
     "iopub.execute_input": "2021-03-10T19:52:23.504215Z",
     "iopub.status.busy": "2021-03-10T19:52:23.504008Z",
     "iopub.status.idle": "2021-03-10T19:52:24.496510Z",
     "shell.execute_reply": "2021-03-10T19:52:24.496066Z",
     "shell.execute_reply.started": "2021-03-10T19:52:23.504192Z"
    }
   },
   "outputs": [
    {
     "name": "stdout",
     "output_type": "stream",
     "text": [
      "🧑 입력 >>> 오늘 헤어졌어요\n",
      "🤖 출력 >>> 많이 힘들었겠어요 .\n",
      "🧑 입력 >>> 우리 헤어졌어요\n",
      "🤖 출력 >>> 많이 힘들었겠어요 .\n",
      "🧑 입력 >>> 내 맘 알 것 같다면 옆에서 같이 울어줘요\n",
      "🤖 출력 >>> 연락하지마요 .\n",
      "🧑 입력 >>> 나는 안되나 봐요 역시 아닌가 봐요\n",
      "🤖 출력 >>> 네 말씀해주세요 .\n",
      "🧑 입력 >>> 얼마나 더 울어야 제대로 사랑할까요\n",
      "🤖 출력 >>> 천천히 지워질 거예요 .\n"
     ]
    }
   ],
   "source": [
    "_ = sentence_generation('오늘 헤어졌어요')\n",
    "_ = sentence_generation('우리 헤어졌어요')\n",
    "_ = sentence_generation('내 맘 알 것 같다면 옆에서 같이 울어줘요')\n",
    "_ = sentence_generation('나는 안되나 봐요 역시 아닌가 봐요')\n",
    "_ = sentence_generation('얼마나 더 울어야 제대로 사랑할까요')"
   ]
  },
  {
   "cell_type": "code",
   "execution_count": 187,
   "id": "monthly-amateur",
   "metadata": {
    "execution": {
     "iopub.execute_input": "2021-03-10T19:53:05.916402Z",
     "iopub.status.busy": "2021-03-10T19:53:05.916164Z",
     "iopub.status.idle": "2021-03-10T19:53:05.930403Z",
     "shell.execute_reply": "2021-03-10T19:53:05.929887Z",
     "shell.execute_reply.started": "2021-03-10T19:53:05.916375Z"
    },
    "tags": []
   },
   "outputs": [
    {
     "data": {
      "text/html": [
       "<div>\n",
       "<style scoped>\n",
       "    .dataframe tbody tr th:only-of-type {\n",
       "        vertical-align: middle;\n",
       "    }\n",
       "\n",
       "    .dataframe tbody tr th {\n",
       "        vertical-align: top;\n",
       "    }\n",
       "\n",
       "    .dataframe thead th {\n",
       "        text-align: right;\n",
       "    }\n",
       "</style>\n",
       "<table border=\"1\" class=\"dataframe\">\n",
       "  <thead>\n",
       "    <tr style=\"text-align: right;\">\n",
       "      <th></th>\n",
       "      <th>Q</th>\n",
       "      <th>A</th>\n",
       "      <th>label</th>\n",
       "    </tr>\n",
       "  </thead>\n",
       "  <tbody>\n",
       "    <tr>\n",
       "      <th>6267</th>\n",
       "      <td>매달린후 2주째 발신자제한</td>\n",
       "      <td>이별 후에 연락하지 않는 게 좋죠.</td>\n",
       "      <td>1</td>\n",
       "    </tr>\n",
       "    <tr>\n",
       "      <th>6430</th>\n",
       "      <td>바보같이 연락했는데 읽씹당했어</td>\n",
       "      <td>이제 바보같이 연락하지 마요.</td>\n",
       "      <td>1</td>\n",
       "    </tr>\n",
       "    <tr>\n",
       "      <th>6431</th>\n",
       "      <td>바보라서 참지못하고 연락했어</td>\n",
       "      <td>이제 바보같이 연락하지 마요.</td>\n",
       "      <td>1</td>\n",
       "    </tr>\n",
       "    <tr>\n",
       "      <th>6725</th>\n",
       "      <td>술만 마시면.</td>\n",
       "      <td>연락하지마요.</td>\n",
       "      <td>1</td>\n",
       "    </tr>\n",
       "    <tr>\n",
       "      <th>7274</th>\n",
       "      <td>용기내서 새해인사 했네</td>\n",
       "      <td>이제 연락하지 마세요.</td>\n",
       "      <td>1</td>\n",
       "    </tr>\n",
       "    <tr>\n",
       "      <th>7575</th>\n",
       "      <td>이별하고 절대 하지 말아야할 것</td>\n",
       "      <td>술 취해서 다시 연락하지 않는게 좋아요.</td>\n",
       "      <td>1</td>\n",
       "    </tr>\n",
       "    <tr>\n",
       "      <th>8253</th>\n",
       "      <td>짧은연애인데 미련때문에 연락을 할지말지 ㅠ.ㅠ</td>\n",
       "      <td>사랑이 아닌 미련이라면 연락하지 말아요.</td>\n",
       "      <td>1</td>\n",
       "    </tr>\n",
       "    <tr>\n",
       "      <th>8401</th>\n",
       "      <td>하루 겨우 참고 또 문자 보냈네.</td>\n",
       "      <td>연락하지 않는 게 서로에게 좋을 거예요.</td>\n",
       "      <td>1</td>\n",
       "    </tr>\n",
       "    <tr>\n",
       "      <th>8505</th>\n",
       "      <td>헤어졌는데 자꾸 연락하네</td>\n",
       "      <td>연락하지 않는 편이 좋아요.</td>\n",
       "      <td>1</td>\n",
       "    </tr>\n",
       "    <tr>\n",
       "      <th>8536</th>\n",
       "      <td>헤어지고 차단하는 이유는 뭘까?</td>\n",
       "      <td>연락하지 않는 게 서로에게 좋으니가요.</td>\n",
       "      <td>1</td>\n",
       "    </tr>\n",
       "    <tr>\n",
       "      <th>9138</th>\n",
       "      <td>나 연락하지 말라고 단호하게 해줘.</td>\n",
       "      <td>절대 연락하지 마세요.</td>\n",
       "      <td>2</td>\n",
       "    </tr>\n",
       "    <tr>\n",
       "      <th>11241</th>\n",
       "      <td>좋아하는 여자한테 남친이 있는데 연락하고 싶어.</td>\n",
       "      <td>연애 중인 사람에게는 연락하지 않는 게 좋을 것 같아요.</td>\n",
       "      <td>2</td>\n",
       "    </tr>\n",
       "    <tr>\n",
       "      <th>11706</th>\n",
       "      <td>친구의 남자친구가 눈에 들어와</td>\n",
       "      <td>만나지도 연락하지도 말아보세요.</td>\n",
       "      <td>2</td>\n",
       "    </tr>\n",
       "  </tbody>\n",
       "</table>\n",
       "</div>"
      ],
      "text/plain": [
       "                                Q                                A  label\n",
       "6267               매달린후 2주째 발신자제한              이별 후에 연락하지 않는 게 좋죠.      1\n",
       "6430             바보같이 연락했는데 읽씹당했어                 이제 바보같이 연락하지 마요.      1\n",
       "6431              바보라서 참지못하고 연락했어                 이제 바보같이 연락하지 마요.      1\n",
       "6725                      술만 마시면.                          연락하지마요.      1\n",
       "7274                 용기내서 새해인사 했네                     이제 연락하지 마세요.      1\n",
       "7575            이별하고 절대 하지 말아야할 것           술 취해서 다시 연락하지 않는게 좋아요.      1\n",
       "8253    짧은연애인데 미련때문에 연락을 할지말지 ㅠ.ㅠ           사랑이 아닌 미련이라면 연락하지 말아요.      1\n",
       "8401           하루 겨우 참고 또 문자 보냈네.           연락하지 않는 게 서로에게 좋을 거예요.      1\n",
       "8505                헤어졌는데 자꾸 연락하네                  연락하지 않는 편이 좋아요.      1\n",
       "8536            헤어지고 차단하는 이유는 뭘까?            연락하지 않는 게 서로에게 좋으니가요.      1\n",
       "9138          나 연락하지 말라고 단호하게 해줘.                     절대 연락하지 마세요.      2\n",
       "11241  좋아하는 여자한테 남친이 있는데 연락하고 싶어.  연애 중인 사람에게는 연락하지 않는 게 좋을 것 같아요.      2\n",
       "11706            친구의 남자친구가 눈에 들어와                만나지도 연락하지도 말아보세요.      2"
      ]
     },
     "execution_count": 187,
     "metadata": {},
     "output_type": "execute_result"
    }
   ],
   "source": [
    "raw_data[raw_data['A'].str.contains('연락하지')]"
   ]
  },
  {
   "cell_type": "markdown",
   "id": "alert-praise",
   "metadata": {},
   "source": [
    "- 평가\n",
    "    - 질문에 대한 답변 문장의 완성도가 이전에 진행했던 문장생성 프로젝트들에 비하여 굉장히 높은 것을 확인할 수 있었다. \n",
    "    - 생성된 답변들은 학습 데이터로 입력되었던 답변들을 재현하고 있다."
   ]
  },
  {
   "cell_type": "markdown",
   "id": "gothic-neighborhood",
   "metadata": {},
   "source": [
    "## STEP 5. 결론\n",
    "---"
   ]
  },
  {
   "cell_type": "markdown",
   "id": "organized-trigger",
   "metadata": {},
   "source": [
    "### 프로젝트 평가\n",
    "1. 한국어 전처리를 통해 학습 데이터셋을 구축하였다. 공백과 특수문자 처리, 토크나이징, 병렬데이터 구축의 과정이 적절히 진행되었다.\n",
    "    - 각 단계들이 순차적으로 적절히 진행되었다.\n",
    "2. 트랜스포머 모델을 구현하여 한국어 챗봇 모델 학습을 정상적으로 진행하였다. 구현한 트랜스포머 모델이 한국어 병렬 데이터 학습 시 안정적으로 수렴하였다.\n",
    "    - 학습이 정상적으로 진행되었다. accuracy는 점진적으로 증가하고 loss는 감소하는것을 확인할 수 있었다.\n",
    "3. 한국어 입력문장에 대해 한국어로 답변하는 함수를 구현하였다. 한국어 입력문장에 그럴듯한 한국어로 답변을 리턴하였다.\n",
    "    - 챗봇이 완성도 있는 문장을 반환하지만, 답변이 적절한지는 잘 모르겠다."
   ]
  },
  {
   "cell_type": "markdown",
   "id": "refined-algebra",
   "metadata": {},
   "source": [
    "### 회고\n",
    "- 결과는 잘 나왔지만 정확히 어떻게 동작하지는 아직까지 잘 파악되지 않는다.\n",
    "- 특히 어텐션의 개념이 잘 잡히지 않는다.\n",
    "- RNN - LSTM - Attention - Transformer으로 연결되는 개념의 흐름을 한 번 재대로 정리해야 할 필요가 있음을 느꼈다."
   ]
  }
 ],
 "metadata": {
  "kernelspec": {
   "display_name": "Python 3",
   "language": "python",
   "name": "python3"
  },
  "language_info": {
   "codemirror_mode": {
    "name": "ipython",
    "version": 3
   },
   "file_extension": ".py",
   "mimetype": "text/x-python",
   "name": "python",
   "nbconvert_exporter": "python",
   "pygments_lexer": "ipython3",
   "version": "3.7.10"
  },
  "toc-autonumbering": false
 },
 "nbformat": 4,
 "nbformat_minor": 5
}
