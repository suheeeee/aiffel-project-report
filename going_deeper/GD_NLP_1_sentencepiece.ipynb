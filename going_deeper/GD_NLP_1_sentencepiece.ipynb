{
 "cells": [
  {
   "cell_type": "markdown",
   "id": "logical-force",
   "metadata": {},
   "source": [
    "# SentencePiece\n",
    "---"
   ]
  },
  {
   "cell_type": "markdown",
   "id": "cross-boating",
   "metadata": {},
   "source": [
    "SentencePiece 사용하여 감정분석을 해보자 ( ᐛ )و"
   ]
  },
  {
   "cell_type": "markdown",
   "id": "enabling-scott",
   "metadata": {},
   "source": [
    "## STEP 0. 설계\n",
    "---"
   ]
  },
  {
   "cell_type": "markdown",
   "id": "southern-karaoke",
   "metadata": {},
   "source": [
    "SentencePiece가 무엇인지 알아보고, SentencePiece와 네이버 영화리뷰 데이터를 이용하여 Sentiment Analysis를 진행하여 본다.\n",
    "1. SentencePiece란\n",
    "    - SentencePiece란 무엇인가?\n",
    "    - Tokenizer 비교\n",
    "2. SentencePiece와 한국어 Tokenizer\n",
    "    - [korean-english-news-v1](https://github.com/jungyeul/korean-parallel-corpora/tree/master/korean-english-news-v1) 데이터를 활용하여  SentencePiece를 학습시킨다.\n",
    "    - 학습된 모델의 동작을 테스트 한다.\n",
    "    - 위에서 훈련시킨  SentencePiece를 활용하여 문장을 토큰화 시키는 함수를 작성한다.\n",
    "    - 성능비교를 위하여 Mecab와 Khahiii를 활용한 Tokenizer 함수 역시 작성한다.\n",
    "4. Sentiment Analysis - 1. 데이터 전처리\n",
    "    - 데이터 불러오기\n",
    "    - 데이터 로더 구성 : 데이터 로더는 다음과 같은 기능을 수행해야 한다.\n",
    "        - 데이터의 중복 제거\n",
    "        - NaN 결측치 제거\n",
    "        - 한국어 토크나이저로 토큰화\n",
    "        - X_train, y_train, X_test, y_test, tokenizer class(SPTockenizer, KhaiiiTocknizer, MecabTockenizer) 반환\n",
    "    - 데이터 분석 및 가공\n",
    "        - 데이터셋의 길이 분포 확인\n",
    "        - 적절한 문장 최대 길이 지정\n",
    "        - 문장에 패딩 추가 및 문장길이 제한\n",
    "        - validation set 분리\n",
    "5. Sentiment Analysis - 2. 모델 정의\n",
    "    - LSTM 레이를 사용하는 모델을 정의한다.\n",
    "    - 모델을 정의하여 반환해주는 함수를 작성하여 재사용이 용이하도록 해둔다.\n",
    "6. Sentiment Analysis - 3. 모델 학습\n",
    "    - 4에서 생성한 세가지 데이터셋에 대하여 각각 모델학습을 수행한다. \n",
    "7. Sentiment Analysis - 4. 모델 평가\n",
    "    - 6에서 학습시킨 모델을 평가해보고 학습데이터에 따른 성능차이를 확인해 본다.\n",
    "8. 추가실험\n",
    "    - SentencePiece 모델 학습에는 다양한 파라미터가 활용된다. 이들을 변경해가면 모델을 개선시켜 보자.\n",
    "9. 결론"
   ]
  },
  {
   "cell_type": "markdown",
   "id": "olympic-district",
   "metadata": {
    "execution": {
     "iopub.execute_input": "2021-04-06T23:30:34.193559Z",
     "iopub.status.busy": "2021-04-06T23:30:34.193281Z",
     "iopub.status.idle": "2021-04-06T23:30:34.196371Z",
     "shell.execute_reply": "2021-04-06T23:30:34.195613Z",
     "shell.execute_reply.started": "2021-04-06T23:30:34.193530Z"
    },
    "tags": []
   },
   "source": [
    "#### environment setting"
   ]
  },
  {
   "cell_type": "markdown",
   "id": "comprehensive-drunk",
   "metadata": {},
   "source": [
    "- import packages"
   ]
  },
  {
   "cell_type": "code",
   "execution_count": 1,
   "id": "confirmed-current",
   "metadata": {
    "execution": {
     "iopub.execute_input": "2021-04-19T09:43:27.449004Z",
     "iopub.status.busy": "2021-04-19T09:43:27.448766Z",
     "iopub.status.idle": "2021-04-19T09:43:29.716278Z",
     "shell.execute_reply": "2021-04-19T09:43:29.715563Z",
     "shell.execute_reply.started": "2021-04-19T09:43:27.448941Z"
    },
    "tags": []
   },
   "outputs": [],
   "source": [
    "import os\n",
    "\n",
    "import matplotlib.pyplot as plt\n",
    "import tensorflow as tf\n",
    "import numpy as np\n",
    "import pickle\n",
    "from functools import reduce\n",
    "import pandas as pd\n",
    "\n",
    "from tensorflow.keras.callbacks import EarlyStopping, ModelCheckpoint\n",
    "from sklearn.model_selection import train_test_split"
   ]
  },
  {
   "cell_type": "markdown",
   "id": "ordered-amplifier",
   "metadata": {},
   "source": [
    "- set workspace path"
   ]
  },
  {
   "cell_type": "code",
   "execution_count": 2,
   "id": "sexual-liberia",
   "metadata": {
    "execution": {
     "iopub.execute_input": "2021-04-19T09:43:30.291265Z",
     "iopub.status.busy": "2021-04-19T09:43:30.291009Z",
     "iopub.status.idle": "2021-04-19T09:43:30.411025Z",
     "shell.execute_reply": "2021-04-19T09:43:30.410453Z",
     "shell.execute_reply.started": "2021-04-19T09:43:30.291228Z"
    },
    "tags": []
   },
   "outputs": [
    {
     "name": "stdout",
     "output_type": "stream",
     "text": [
      "/home/aiffel-dj1/workspace/aiffel-gd-nlp/GD02_sp_tokenizer\n"
     ]
    }
   ],
   "source": [
    "!pwd"
   ]
  },
  {
   "cell_type": "code",
   "execution_count": 3,
   "id": "wanted-migration",
   "metadata": {
    "execution": {
     "iopub.execute_input": "2021-04-19T09:43:30.432920Z",
     "iopub.status.busy": "2021-04-19T09:43:30.432684Z",
     "iopub.status.idle": "2021-04-19T09:43:30.436348Z",
     "shell.execute_reply": "2021-04-19T09:43:30.435603Z",
     "shell.execute_reply.started": "2021-04-19T09:43:30.432893Z"
    },
    "tags": []
   },
   "outputs": [],
   "source": [
    "workspace_path = os.getenv('HOME')+'/workspace/aiffel-gd-nlp/GD02_sp_tokenizer'\n",
    "data_dir_path = workspace_path + '/data'\n",
    "tokenizer_path = workspace_path + '/tokenizer'"
   ]
  },
  {
   "cell_type": "markdown",
   "id": "nuclear-pleasure",
   "metadata": {},
   "source": [
    "- init gpu"
   ]
  },
  {
   "cell_type": "code",
   "execution_count": 4,
   "id": "tutorial-timothy",
   "metadata": {
    "execution": {
     "iopub.execute_input": "2021-04-19T09:43:30.829910Z",
     "iopub.status.busy": "2021-04-19T09:43:30.829682Z",
     "iopub.status.idle": "2021-04-19T09:43:31.417502Z",
     "shell.execute_reply": "2021-04-19T09:43:31.416550Z",
     "shell.execute_reply.started": "2021-04-19T09:43:30.829883Z"
    },
    "tags": []
   },
   "outputs": [
    {
     "name": "stdout",
     "output_type": "stream",
     "text": [
      "1 Physical GPUs, 1 Logical GPUs\n",
      "\n",
      "\n"
     ]
    }
   ],
   "source": [
    "def init_gpu():\n",
    "    gpus = tf.config.experimental.list_physical_devices('GPU')\n",
    "    if gpus:\n",
    "        try:\n",
    "            # Currently, memory growth needs to be the same across GPUs\n",
    "            for gpu in gpus:\n",
    "                tf.config.experimental.set_memory_growth(gpu, True)\n",
    "            logical_gpus = tf.config.experimental.list_logical_devices('GPU')\n",
    "            print(len(gpus), \"Physical GPUs,\", len(logical_gpus), \"Logical GPUs\\n\\n\")\n",
    "        except RuntimeError as e:\n",
    "            # Memory growth must be set before GPUs have been initialized\n",
    "            print(e, \"\\n\\n\")\n",
    "        \n",
    "init_gpu()"
   ]
  },
  {
   "cell_type": "markdown",
   "id": "outside-tourist",
   "metadata": {
    "tags": []
   },
   "source": [
    "## STEP 1. SentencePiece\n",
    "---"
   ]
  },
  {
   "cell_type": "markdown",
   "id": "stunning-produce",
   "metadata": {
    "execution": {
     "iopub.execute_input": "2021-04-06T23:24:54.607097Z",
     "iopub.status.busy": "2021-04-06T23:24:54.606848Z",
     "iopub.status.idle": "2021-04-06T23:24:54.610461Z",
     "shell.execute_reply": "2021-04-06T23:24:54.609835Z",
     "shell.execute_reply.started": "2021-04-06T23:24:54.607030Z"
    }
   },
   "source": [
    "### 1. Tokenization"
   ]
  },
  {
   "cell_type": "markdown",
   "id": "improving-retreat",
   "metadata": {},
   "source": [
    "- 말뭉치(Corpus) : 자연어 연구를 위해 특정한 목적을 가지고 추출한 언어의 표본 집합, 텍스트 표본\n",
    "- 토큰(Token) : 문법적으로 더 이상 나눌 수 없는 언어요소\n",
    "- 텍스트 토큰화(Text Tokenization) : 말뭉치들을 토큰으로 분리하는 작업\n",
    "    - ex 1 : \"그녀는 나와 밥을 먹는다\" ➝ \"그녀는\", \"나와\", \"밥을\", \"먹는다\" / \"그녀\", \"는\", \"나\", \"와\", \"밥\", \"을\", \"먹는다\"\n",
    "    - ex 2 : \"There is an apple\" ➝ \"There\", \"is\", \"an\", \"apple\"    "
   ]
  },
  {
   "cell_type": "markdown",
   "id": "pressed-skirt",
   "metadata": {},
   "source": [
    "#### 텍스트 토큰화 분류\n",
    "- 문장 토큰화\n",
    "    - 문서를 마침표(.), 개행문자(\\n), 느낌표(!), 물음표(?)과 같은 문자의 마지막을 뜻하는 기호를 기준으로 분리하는 것\n",
    "    - 문서 ➝ 문장\n",
    "    - ex : \"What time is it now? It is a quarter past nine by my watch.\" ➝ \"What time is it now?\", \"It is a quarter past nine by my watch.\"\n",
    "- 단어 토큰화\n",
    "    - 문장을 띄어씌기, 마침표(.), 쉼표(,), 작은따옴표(어퍼스트로피, ') 등을 기준으로하여 단어로 분리하는 것. \n",
    "    - 대체적으로 띄어쓰기를 기본으로 한다. 영어에서는 이 방법론이 잘 작동하나 한국어의 경우에는 띄어쓰기 만으로는 토큰 구분이 어려울 수 있다.\n",
    "    - 문장 ➝ 단어\n",
    "    - ex : \"Don't be fooled by the dark sounding name, Mr. Jone's Orphanage is as cheery as cheery goes for a pastry shop.\" ➝ \"Don\", \"'\", \"t\", \"be\", \"fooled\", \"by\", \"the\", \"dark\", \"sounding\", \"name\", \",\", \"Mr\", \".\", \"Jone\", \"'\", \"s\", \"Orphanage\", \"is\", \"as\", \"cheery\", \"as\", \"cheery\", \"goes\", \"for\", \"a\", \"pastry\", \"shop\", \".\"]\n",
    "- 형태소 기반 토큰화\n",
    "    - ![영어형태소](https://ifh.cc/g/Bg0UZq.jpg)\n",
    "    - 한국어 뿐만 아니라 영어도 단어를 형태소로 분리하는 것이 가능하다.\n",
    "    - 형태소 기반 토큰화가 공백 기반 토큰화와 비교하여 단어 사전의 크기가 줄어든다는 이점을 가지고 이는 연산량 감소, 학습 시간 단축, 모델의 파라미터 수 감소로 이어진다.\n",
    "    - 문장 ➝ 단어 ➝ 형태소"
   ]
  },
  {
   "cell_type": "code",
   "execution_count": 361,
   "id": "middle-egyptian",
   "metadata": {
    "execution": {
     "iopub.execute_input": "2021-04-19T22:51:39.048923Z",
     "iopub.status.busy": "2021-04-19T22:51:39.048580Z",
     "iopub.status.idle": "2021-04-19T22:51:39.058757Z",
     "shell.execute_reply": "2021-04-19T22:51:39.057975Z",
     "shell.execute_reply.started": "2021-04-19T22:51:39.048882Z"
    },
    "tags": []
   },
   "outputs": [
    {
     "data": {
      "text/plain": [
       "[('Do', 'VBP'),\n",
       " (\"n't\", 'RB'),\n",
       " ('be', 'VB'),\n",
       " ('fooled', 'VBN'),\n",
       " ('by', 'IN'),\n",
       " ('the', 'DT'),\n",
       " ('dark', 'NN'),\n",
       " ('sounding', 'VBG'),\n",
       " ('name', 'NN'),\n",
       " (',', ','),\n",
       " ('Mr.', 'NNP'),\n",
       " ('Jone', 'NNP'),\n",
       " (\"'s\", 'POS'),\n",
       " ('Orphanage', 'NN'),\n",
       " ('is', 'VBZ'),\n",
       " ('as', 'RB'),\n",
       " ('cheery', 'JJ'),\n",
       " ('as', 'IN'),\n",
       " ('cheery', 'NN'),\n",
       " ('goes', 'VBZ'),\n",
       " ('for', 'IN'),\n",
       " ('a', 'DT'),\n",
       " ('pastry', 'NN'),\n",
       " ('shop', 'NN'),\n",
       " ('.', '.')]"
      ]
     },
     "execution_count": 361,
     "metadata": {},
     "output_type": "execute_result"
    }
   ],
   "source": [
    "# 형태소 기반 토큰화 예시 1 : 영문\n",
    "from nltk.tokendize import word_tokenize\n",
    "from nltk.tag import pos_tag\n",
    "\n",
    "text = \"Don't be fooled by the dark sounding name, Mr. Jone's Orphanage is as cheery as cheery goes for a pastry shop.\"\n",
    "x = word_tokenize(text)\n",
    "pos_tag(x)"
   ]
  },
  {
   "cell_type": "code",
   "execution_count": 363,
   "id": "dress-ensemble",
   "metadata": {
    "execution": {
     "iopub.execute_input": "2021-04-19T22:53:38.447842Z",
     "iopub.status.busy": "2021-04-19T22:53:38.447592Z",
     "iopub.status.idle": "2021-04-19T22:53:38.468361Z",
     "shell.execute_reply": "2021-04-19T22:53:38.467607Z",
     "shell.execute_reply.started": "2021-04-19T22:53:38.447812Z"
    },
    "tags": []
   },
   "outputs": [
    {
     "name": "stdout",
     "output_type": "stream",
     "text": [
      "[('그녀', 'Noun'), ('는', 'Josa'), ('나와', 'Verb'), ('밥', 'Noun'), ('을', 'Josa'), ('먹는다', 'Verb'), ('.', 'Punctuation')]\n"
     ]
    }
   ],
   "source": [
    "# 형태소 기반 토큰화 예시 2 : 한글\n",
    "from konlpy.tag import Okt  \n",
    "okt = Okt()  \n",
    "print(okt.pos(\"그녀는 나와 밥을 먹는다.\"))  "
   ]
  },
  {
   "cell_type": "markdown",
   "id": "proprietary-geology",
   "metadata": {},
   "source": [
    "- 서브워드 토큰화(Subword Tokenization)\n",
    "    - 이전의 토큰화들은 OOV 문제에 대하여 취약하다. 서브워드 토큰화는 하나의 단어가 의미있는 작은 단어의 조합(birthplace = birth + place)라는 점을 착안하여, 하나의 단어를 여러개의 서브워브(subword)로 분리하여 토큰화를 진행한다.\n",
    "    - 서브워드 토큰화는 OOV 문제를 개선할 수 있으며, 띄워쓰기 실수와 오타에 강건하다는 특징을 가진다.\n",
    "    - 서브워드 알고리즘\n",
    "        - BPE(Byte Pair Encoding)\n",
    "            - ![bpe](https://ifh.cc/g/mN6AtZ.png)\n",
    "            - BPE는 데이터를 압축하기 위한 알고리즘으로 데이터에서 가장 많이 등장하는 바이트 쌍(Byte Pair)을 하나의 새로운 단어로 압축하는 작업을 반복하는 방식으로 동작한다.\n",
    "            - ex\n",
    "                - ![bpe_example](https://ifh.cc/g/sY8dVL.png)\n",
    "        - Unigram\n",
    "            - Unigram은 각각의 서브워드들에 대해서 손실(해당 서브워드가 단어 집합에서 제거되었을 경우, 코퍼스의 우도(Likelihood)가 감소하는 정도)을 계산한다. 그리고 서브워드들을 손실의 정도로 정렬하여, 상위 η% 만큼의 subword만을 유지한다. 이를 원하는 단어 집합의 크기에 도달할 때까지 반복한다.\n",
    "        - Wordpiece\n",
    "            - BPE 변형 알고리즘\n",
    "            - 공백 복원을 위하여 단어의 시작 부분에 언더바(\\_)를 추가한다.\n",
    "            - BPE가 빈도수에 기반하여 가장 많이 등장한 쌍을 병합하는 것과는 달리, 병합되었을 때 코퍼스의 우도(Likelihood)를 가장 높이는 쌍을 병합한다.\n",
    "            - ex \n",
    "                - raw : Jet makers feud over seat width with big orders at stake\n",
    "                - wordpieces : \\_J et \\_makers \\_fe ud \\_over \\_seat \\_width \\_with \\_big \\_orders \\_at \\_stake\n",
    "    - SentencePiece\n",
    "        - 구글에서 제공하는 Subword Tokenization 패키지.\n",
    "        - BPE와 Unigram 알고리즘을 포함하고 있다."
   ]
  },
  {
   "cell_type": "markdown",
   "id": "falling-filename",
   "metadata": {},
   "source": [
    "### 2. 한국어 Tokenizer"
   ]
  },
  {
   "cell_type": "markdown",
   "id": "painful-synthesis",
   "metadata": {},
   "source": [
    "- 한국어 토큰화에는 주로 subword 방식과 형태소 분석 방식이 많이 사용된다.\n",
    "- 그 중 공개된 패키지를 기반으로 사용가능 Tokenizer는 다음과 같다.\n",
    "\n",
    "| subword | Morphology | \n",
    "| :-------:|:-----------:|\n",
    "| BPE<br>Uingram<br>WordPiece | Khaiii<br>Hannanum<br>Kkma<br>Komoran<br>Mecab<br>Okt |\n",
    "\n",
    "- BPE와 Unigram은 Google에서 제공하는 SentencePiece 패키지를 통해 사용이 가능하다.\n",
    "- WordPiece는 [huggingface의 tokenizers 패키지](https://github.com/huggingface/tokenizers)를 통해 사용이 가능하다.\n",
    "- Hannanum, Kkma, Komoran, Mecab, Okt는 KoNLPy 패키지를 통해 사용이 가능하다.\n",
    "- Khaiii는 [github 저장소](https://github.com/kakao/khaiii)에서 설치 후 사용이 가능하다."
   ]
  },
  {
   "cell_type": "markdown",
   "id": "individual-solomon",
   "metadata": {},
   "source": [
    "## STEP 2. SentencePiece와 한국어 Tokenizer\n",
    "---"
   ]
  },
  {
   "cell_type": "markdown",
   "id": "paperback-deployment",
   "metadata": {},
   "source": [
    "SentencePiece를 학습시키고 테스트해보자."
   ]
  },
  {
   "cell_type": "markdown",
   "id": "raised-certification",
   "metadata": {
    "tags": []
   },
   "source": [
    "### 1. 학습 데이터 다운로드 및 분석"
   ]
  },
  {
   "cell_type": "markdown",
   "id": "equal-cincinnati",
   "metadata": {
    "tags": []
   },
   "source": [
    "#### 1) 데이터 다운로드\n",
    "- [jungyeul/korean-parallel-corpora](https://github.com/jungyeul/korean-parallel-corpora)에 공개된 한국어-영어 병렬 말뭉치 다운로드"
   ]
  },
  {
   "cell_type": "code",
   "execution_count": null,
   "id": "pleased-nerve",
   "metadata": {},
   "outputs": [],
   "source": [
    "# ! wget https://github.com/jungyeul/korean-parallel-corpora/raw/master/korean-english-news-v1/korean-english-park.train.tar.gz -P ./data\n",
    "# ! tar -xzvf ./data/korean-english-park.train.tar.gz -C ./data"
   ]
  },
  {
   "cell_type": "code",
   "execution_count": 5,
   "id": "comprehensive-annual",
   "metadata": {
    "execution": {
     "iopub.execute_input": "2021-04-11T06:18:38.968428Z",
     "iopub.status.busy": "2021-04-11T06:18:38.967978Z",
     "iopub.status.idle": "2021-04-11T06:18:39.096904Z",
     "shell.execute_reply": "2021-04-11T06:18:39.096186Z",
     "shell.execute_reply.started": "2021-04-11T06:18:38.968372Z"
    },
    "tags": []
   },
   "outputs": [
    {
     "name": "stdout",
     "output_type": "stream",
     "text": [
      "korean-english-park.train.en  korean-english-park.train.ko.temp\n",
      "korean-english-park.train.ko  korean-english-park.train.tar.gz\n"
     ]
    }
   ],
   "source": [
    "! ls ./data"
   ]
  },
  {
   "cell_type": "markdown",
   "id": "requested-donor",
   "metadata": {},
   "source": [
    "- 데이터 확인"
   ]
  },
  {
   "cell_type": "code",
   "execution_count": 5,
   "id": "trained-joshua",
   "metadata": {
    "execution": {
     "iopub.execute_input": "2021-04-19T00:48:44.724354Z",
     "iopub.status.busy": "2021-04-19T00:48:44.724149Z",
     "iopub.status.idle": "2021-04-19T00:48:44.727043Z",
     "shell.execute_reply": "2021-04-19T00:48:44.726456Z",
     "shell.execute_reply.started": "2021-04-19T00:48:44.724330Z"
    },
    "tags": []
   },
   "outputs": [],
   "source": [
    "sp_train_data_path = data_dir_path + '/korean-english-park.train.ko'"
   ]
  },
  {
   "cell_type": "code",
   "execution_count": 48,
   "id": "protective-chick",
   "metadata": {
    "execution": {
     "iopub.execute_input": "2021-04-11T07:53:57.732980Z",
     "iopub.status.busy": "2021-04-11T07:53:57.732750Z",
     "iopub.status.idle": "2021-04-11T07:53:57.846562Z",
     "shell.execute_reply": "2021-04-11T07:53:57.845901Z",
     "shell.execute_reply.started": "2021-04-11T07:53:57.732952Z"
    },
    "tags": []
   },
   "outputs": [],
   "source": [
    "with open(sp_train_data_path, \"r\") as f:\n",
    "    sp_train_data_raw = f.read().splitlines()"
   ]
  },
  {
   "cell_type": "code",
   "execution_count": 49,
   "id": "separate-timing",
   "metadata": {
    "execution": {
     "iopub.execute_input": "2021-04-11T07:53:58.026310Z",
     "iopub.status.busy": "2021-04-11T07:53:58.026053Z",
     "iopub.status.idle": "2021-04-11T07:53:58.031304Z",
     "shell.execute_reply": "2021-04-11T07:53:58.030712Z",
     "shell.execute_reply.started": "2021-04-11T07:53:58.026280Z"
    },
    "tags": []
   },
   "outputs": [
    {
     "name": "stdout",
     "output_type": "stream",
     "text": [
      "Data Size : 94123\n",
      "Example:\n",
      ">> 제 23차 연례 컴덱스 박람회의 개회사를 한 케이츠는 2년여전 기술 산업의 거품이 붕괴된 이후에 첨단 기술에 대해 부정적인 인식이 있다고 말했다.\n",
      ">> \"미국은 상업 활동의 역사가 수백년이지만, 한국은 얼마 되지 않습니다.\"\n",
      ">> 그리고 홍콩과 싱가폴은 보다 자율적인 과정에따라 그러한 방향으로 완화시켜 나가고 있다.\n",
      ">> 미국의 빌 클린턴 대통령은 1967년 하노이 외곽에서 격추된 美 F-105D機의 추락 장소를 방문한 후에 베트남의 호치민 시에 도착했다.\n",
      ">> 이것은 사람의 발이 하는 일을 하는 타이어를 갖고 있습니다.\"\n"
     ]
    }
   ],
   "source": [
    "print(f'Data Size : {len(sp_train_data_raw)}')\n",
    "print(\"Example:\")\n",
    "for sen in sp_train_data_raw[100:200][::20]: print(\">>\", sen)"
   ]
  },
  {
   "cell_type": "markdown",
   "id": "federal-parcel",
   "metadata": {
    "tags": []
   },
   "source": [
    "#### 2) 중복 제거"
   ]
  },
  {
   "cell_type": "code",
   "execution_count": 50,
   "id": "variable-middle",
   "metadata": {
    "execution": {
     "iopub.execute_input": "2021-04-11T07:53:59.493002Z",
     "iopub.status.busy": "2021-04-11T07:53:59.492739Z",
     "iopub.status.idle": "2021-04-11T07:53:59.516082Z",
     "shell.execute_reply": "2021-04-11T07:53:59.515434Z",
     "shell.execute_reply.started": "2021-04-11T07:53:59.492971Z"
    },
    "tags": []
   },
   "outputs": [
    {
     "name": "stdout",
     "output_type": "stream",
     "text": [
      "Data Size - before remove duplication : 94123\n",
      "Data Size - after remove duplication : 77591\n"
     ]
    }
   ],
   "source": [
    "print(f'Data Size - before remove duplication : {len(sp_train_data_raw)}')\n",
    "sp_train_data_raw = list(set(sp_train_data_raw))\n",
    "print(f'Data Size - after remove duplication : {len(sp_train_data_raw)}')"
   ]
  },
  {
   "cell_type": "markdown",
   "id": "simple-knitting",
   "metadata": {
    "tags": []
   },
   "source": [
    "#### 3) 문장길이 지정\n",
    "- 문장 길이 분포 확인"
   ]
  },
  {
   "cell_type": "code",
   "execution_count": 6,
   "id": "independent-counter",
   "metadata": {
    "execution": {
     "iopub.execute_input": "2021-04-19T09:43:39.938307Z",
     "iopub.status.busy": "2021-04-19T09:43:39.938055Z",
     "iopub.status.idle": "2021-04-19T09:43:39.946427Z",
     "shell.execute_reply": "2021-04-19T09:43:39.945731Z",
     "shell.execute_reply.started": "2021-04-19T09:43:39.938277Z"
    },
    "tags": []
   },
   "outputs": [],
   "source": [
    "def check_sentence_len_distribution(data):\n",
    "    lengths = []\n",
    "    min_len = 999\n",
    "    max_len = 0\n",
    "    sum_len = 0\n",
    "\n",
    "    for sen in data:\n",
    "        length = len(sen)\n",
    "        min_len = min(length, min_len)\n",
    "        max_len = max(length, max_len)\n",
    "        sum_len += length\n",
    "        lengths.append(length)\n",
    "\n",
    "    print(f'min sentence length : {min_len}')\n",
    "    print(f'max sentence length : {max_len}')\n",
    "    print(f'avg sentence length : {sum_len // len(data)}')\n",
    "\n",
    "    hist, bins = np.histogram(lengths, range(0, max_len+1))\n",
    "    hist = np.insert(hist, 0, 0, axis=0)\n",
    "\n",
    "    fig, axes = plt.subplots(1, 2, figsize=(10, 5))\n",
    "    \n",
    "    axes[0].set_title(\"Sentence Length Distribution\")\n",
    "    axes[0].bar(bins, hist, width=1.0)\n",
    "    axes[0].set_xticks(np.arange(0, max_len, 20), minor=True)\n",
    "    axes[0].grid(which='minor', alpha=0.4)\n",
    "    axes[0].grid(which='major', alpha=0.7)\n",
    "    \n",
    "    axes[1].boxplot(lengths)\n",
    "    axes[1].set_title(\"Sentence Length Distribution\")\n",
    "    axes[1].grid(which='minor', alpha=0.4, axis='y')\n",
    "    axes[1].grid(which='major', alpha=0.7, axis='y')\n",
    "\n",
    "    plt.show()\n",
    "    \n",
    "    return hist"
   ]
  },
  {
   "cell_type": "code",
   "execution_count": 52,
   "id": "inappropriate-reward",
   "metadata": {
    "execution": {
     "iopub.execute_input": "2021-04-11T07:54:01.053864Z",
     "iopub.status.busy": "2021-04-11T07:54:01.053628Z",
     "iopub.status.idle": "2021-04-11T07:54:02.276698Z",
     "shell.execute_reply": "2021-04-11T07:54:02.276243Z",
     "shell.execute_reply.started": "2021-04-11T07:54:01.053835Z"
    },
    "tags": []
   },
   "outputs": [
    {
     "name": "stdout",
     "output_type": "stream",
     "text": [
      "min sentence length : 1\n",
      "max sentence length : 377\n",
      "avg sentence length : 64\n"
     ]
    },
    {
     "data": {
      "image/png": "[encoded data removed]",
      "text/plain": [
       "<Figure size 720x360 with 2 Axes>"
      ]
     },
     "metadata": {
      "needs_background": "light"
     },
     "output_type": "display_data"
    }
   ],
   "source": [
    "length_hist = check_sentence_len_distribution(sp_train_data_raw)"
   ]
  },
  {
   "cell_type": "markdown",
   "id": "static-memorabilia",
   "metadata": {},
   "source": [
    "주어진 데이터의 최소 길이는 1, 최대 길이는 377, 평균길이는 64이다.<br>\n",
    "bar 그래프를 보았을때, 대체적으로 10 이상 150 이하의 길이를 가지고 있다.<br>\n",
    "문장길이의 범위를 지정하기 위해 좀 더 통계적인 방법으로 문장의 분포를 확인해보자."
   ]
  },
  {
   "cell_type": "markdown",
   "id": "bacterial-charter",
   "metadata": {},
   "source": [
    "- 문장 길이 선정을 위한 통계적 확인"
   ]
  },
  {
   "cell_type": "code",
   "execution_count": 7,
   "id": "opponent-yukon",
   "metadata": {
    "execution": {
     "iopub.execute_input": "2021-04-19T09:43:42.887704Z",
     "iopub.status.busy": "2021-04-19T09:43:42.887433Z",
     "iopub.status.idle": "2021-04-19T09:43:42.891288Z",
     "shell.execute_reply": "2021-04-19T09:43:42.890690Z",
     "shell.execute_reply.started": "2021-04-19T09:43:42.887673Z"
    },
    "tags": []
   },
   "outputs": [],
   "source": [
    "def rate_under_lenght_threshold(length_hist, threshole):\n",
    "    cnt = sum(length_hist[2:threshole+2])\n",
    "    total = sum(length_hist)\n",
    "    print(f'rate of sentences {threshole} or less in length : {cnt / total}')"
   ]
  },
  {
   "cell_type": "code",
   "execution_count": 13,
   "id": "coordinate-representative",
   "metadata": {
    "execution": {
     "iopub.execute_input": "2021-04-11T06:18:43.764642Z",
     "iopub.status.busy": "2021-04-11T06:18:43.764476Z",
     "iopub.status.idle": "2021-04-11T06:18:43.768755Z",
     "shell.execute_reply": "2021-04-11T06:18:43.768198Z",
     "shell.execute_reply.started": "2021-04-11T06:18:43.764621Z"
    },
    "tags": []
   },
   "outputs": [
    {
     "name": "stdout",
     "output_type": "stream",
     "text": [
      "rate of sentences 10 or less in length : 0.0034668969339227487\n",
      "rate of sentences 15 or less in length : 0.010735781211738476\n",
      "rate of sentences 30 or less in length : 0.09020376074544728\n",
      "rate of sentences 45 or less in length : 0.2553775566753876\n",
      "rate of sentences 60 or less in length : 0.4755190679331366\n"
     ]
    }
   ],
   "source": [
    "rate_under_lenght_threshold(length_hist, 10)\n",
    "rate_under_lenght_threshold(length_hist, 15)\n",
    "rate_under_lenght_threshold(length_hist, 30)\n",
    "rate_under_lenght_threshold(length_hist, 45)\n",
    "rate_under_lenght_threshold(length_hist, 60)"
   ]
  },
  {
   "cell_type": "markdown",
   "id": "offshore-track",
   "metadata": {
    "execution": {
     "iopub.execute_input": "2021-04-07T04:00:10.731467Z",
     "iopub.status.busy": "2021-04-07T04:00:10.731110Z",
     "iopub.status.idle": "2021-04-07T04:00:10.738444Z",
     "shell.execute_reply": "2021-04-07T04:00:10.736610Z",
     "shell.execute_reply.started": "2021-04-07T04:00:10.731426Z"
    }
   },
   "source": [
    "문장의 최소 길이는 10으로 두는 것이 적절해 보인다."
   ]
  },
  {
   "cell_type": "code",
   "execution_count": 14,
   "id": "twelve-combination",
   "metadata": {
    "execution": {
     "iopub.execute_input": "2021-04-11T06:18:44.075496Z",
     "iopub.status.busy": "2021-04-11T06:18:44.075246Z",
     "iopub.status.idle": "2021-04-11T06:18:44.080750Z",
     "shell.execute_reply": "2021-04-11T06:18:44.080013Z",
     "shell.execute_reply.started": "2021-04-11T06:18:44.075468Z"
    },
    "tags": []
   },
   "outputs": [
    {
     "name": "stdout",
     "output_type": "stream",
     "text": [
      "rate of sentences 100 or less in length : 0.904189918933897\n",
      "rate of sentences 125 or less in length : 0.9763116856336431\n",
      "rate of sentences 150 or less in length : 0.9940328130839917\n",
      "rate of sentences 175 or less in length : 0.9985436455258986\n",
      "rate of sentences 200 or less in length : 0.999600469126574\n"
     ]
    }
   ],
   "source": [
    "rate_under_lenght_threshold(length_hist, 100)\n",
    "rate_under_lenght_threshold(length_hist, 125)\n",
    "rate_under_lenght_threshold(length_hist, 150)\n",
    "rate_under_lenght_threshold(length_hist, 175)\n",
    "rate_under_lenght_threshold(length_hist, 200)"
   ]
  },
  {
   "cell_type": "markdown",
   "id": "adaptive-regular",
   "metadata": {},
   "source": [
    "문장의 최대 길이는 150이 적절해 보인다."
   ]
  },
  {
   "cell_type": "code",
   "execution_count": 15,
   "id": "sunrise-physics",
   "metadata": {
    "execution": {
     "iopub.execute_input": "2021-04-11T06:18:44.571900Z",
     "iopub.status.busy": "2021-04-11T06:18:44.571600Z",
     "iopub.status.idle": "2021-04-11T06:18:44.576271Z",
     "shell.execute_reply": "2021-04-11T06:18:44.574894Z",
     "shell.execute_reply.started": "2021-04-11T06:18:44.571863Z"
    },
    "tags": []
   },
   "outputs": [],
   "source": [
    "sp_train_data_max_length = 150\n",
    "sp_train_data_min_length = 10"
   ]
  },
  {
   "cell_type": "markdown",
   "id": "compound-zambia",
   "metadata": {},
   "source": [
    "- 조건에 맞는 문장으로 필터링"
   ]
  },
  {
   "cell_type": "code",
   "execution_count": 16,
   "id": "weird-harmony",
   "metadata": {
    "execution": {
     "iopub.execute_input": "2021-04-11T06:18:45.589057Z",
     "iopub.status.busy": "2021-04-11T06:18:45.588811Z",
     "iopub.status.idle": "2021-04-11T06:18:45.612335Z",
     "shell.execute_reply": "2021-04-11T06:18:45.611716Z",
     "shell.execute_reply.started": "2021-04-11T06:18:45.589030Z"
    },
    "tags": []
   },
   "outputs": [],
   "source": [
    "sp_train_data_filtered = [s for s in sp_train_data_raw if (len(s) <= sp_train_data_max_length) & (len(s) >= sp_train_data_min_length)]"
   ]
  },
  {
   "cell_type": "code",
   "execution_count": 17,
   "id": "rising-gardening",
   "metadata": {
    "execution": {
     "iopub.execute_input": "2021-04-11T06:18:45.925305Z",
     "iopub.status.busy": "2021-04-11T06:18:45.925087Z",
     "iopub.status.idle": "2021-04-11T06:18:46.441612Z",
     "shell.execute_reply": "2021-04-11T06:18:46.440904Z",
     "shell.execute_reply.started": "2021-04-11T06:18:45.925280Z"
    },
    "tags": []
   },
   "outputs": [
    {
     "name": "stdout",
     "output_type": "stream",
     "text": [
      "min sentence length : 10\n",
      "max sentence length : 150\n",
      "avg sentence length : 64\n"
     ]
    },
    {
     "data": {
      "image/png": "[encoded data removed]",
      "text/plain": [
       "<Figure size 720x360 with 2 Axes>"
      ]
     },
     "metadata": {
      "needs_background": "light"
     },
     "output_type": "display_data"
    }
   ],
   "source": [
    "_ = check_sentence_len_distribution(sp_train_data_filtered)"
   ]
  },
  {
   "cell_type": "markdown",
   "id": "selected-breach",
   "metadata": {
    "tags": []
   },
   "source": [
    "#### 4) 저장\n",
    "SentencePiece를 학습시키는 함수 *Train*은 인자로 input 데이터의 경로를 받기 때문에, 정제된 말뭉치 데이터를 로컬에 저장하고 그 주소를 변수에 저장한다."
   ]
  },
  {
   "cell_type": "code",
   "execution_count": 8,
   "id": "handed-trouble",
   "metadata": {
    "execution": {
     "iopub.execute_input": "2021-04-19T00:48:54.430226Z",
     "iopub.status.busy": "2021-04-19T00:48:54.429965Z",
     "iopub.status.idle": "2021-04-19T00:48:54.433463Z",
     "shell.execute_reply": "2021-04-19T00:48:54.432730Z",
     "shell.execute_reply.started": "2021-04-19T00:48:54.430195Z"
    },
    "tags": []
   },
   "outputs": [],
   "source": [
    "sp_train_data_path = data_dir_path + '/korean-english-park.train.ko.temp'"
   ]
  },
  {
   "cell_type": "code",
   "execution_count": 19,
   "id": "flush-ratio",
   "metadata": {
    "execution": {
     "iopub.execute_input": "2021-04-11T06:18:47.401793Z",
     "iopub.status.busy": "2021-04-11T06:18:47.401529Z",
     "iopub.status.idle": "2021-04-11T06:18:47.489839Z",
     "shell.execute_reply": "2021-04-11T06:18:47.489246Z",
     "shell.execute_reply.started": "2021-04-11T06:18:47.401761Z"
    },
    "tags": []
   },
   "outputs": [],
   "source": [
    "with open(sp_train_data_path, 'w') as f:\n",
    "    for row in sp_train_data_filtered:\n",
    "        f.write(str(row) + '\\n')"
   ]
  },
  {
   "cell_type": "code",
   "execution_count": 20,
   "id": "removable-holiday",
   "metadata": {
    "execution": {
     "iopub.execute_input": "2021-04-11T06:18:49.772350Z",
     "iopub.status.busy": "2021-04-11T06:18:49.772110Z",
     "iopub.status.idle": "2021-04-11T06:18:49.897085Z",
     "shell.execute_reply": "2021-04-11T06:18:49.896319Z",
     "shell.execute_reply.started": "2021-04-11T06:18:49.772322Z"
    },
    "tags": []
   },
   "outputs": [
    {
     "name": "stdout",
     "output_type": "stream",
     "text": [
      "korean-english-park.train.en  korean-english-park.train.ko.temp\n",
      "korean-english-park.train.ko  korean-english-park.train.tar.gz\n"
     ]
    }
   ],
   "source": [
    "!ls ./data"
   ]
  },
  {
   "cell_type": "markdown",
   "id": "ordered-spain",
   "metadata": {
    "tags": []
   },
   "source": [
    "### 2. SentencePiece 모델 학습"
   ]
  },
  {
   "cell_type": "code",
   "execution_count": 8,
   "id": "antique-biography",
   "metadata": {
    "execution": {
     "iopub.execute_input": "2021-04-19T09:43:48.430236Z",
     "iopub.status.busy": "2021-04-19T09:43:48.430031Z",
     "iopub.status.idle": "2021-04-19T09:43:48.437271Z",
     "shell.execute_reply": "2021-04-19T09:43:48.436663Z",
     "shell.execute_reply.started": "2021-04-19T09:43:48.430212Z"
    },
    "tags": []
   },
   "outputs": [],
   "source": [
    "import sentencepiece as spm"
   ]
  },
  {
   "cell_type": "code",
   "execution_count": 9,
   "id": "graphic-withdrawal",
   "metadata": {
    "execution": {
     "iopub.execute_input": "2021-04-19T09:43:50.640798Z",
     "iopub.status.busy": "2021-04-19T09:43:50.640559Z",
     "iopub.status.idle": "2021-04-19T09:43:50.643823Z",
     "shell.execute_reply": "2021-04-19T09:43:50.643164Z",
     "shell.execute_reply.started": "2021-04-19T09:43:50.640768Z"
    },
    "tags": []
   },
   "outputs": [],
   "source": [
    "vocab_size = 10000"
   ]
  },
  {
   "cell_type": "code",
   "execution_count": 23,
   "id": "better-consideration",
   "metadata": {
    "execution": {
     "iopub.execute_input": "2021-04-11T06:18:52.292864Z",
     "iopub.status.busy": "2021-04-11T06:18:52.292615Z",
     "iopub.status.idle": "2021-04-11T06:19:01.066950Z",
     "shell.execute_reply": "2021-04-11T06:19:01.066174Z",
     "shell.execute_reply.started": "2021-04-11T06:18:52.292836Z"
    },
    "tags": []
   },
   "outputs": [],
   "source": [
    "spm.SentencePieceTrainer.Train(\n",
    "    f'--input={sp_train_data_path} --model_prefix=korean_spm --vocab_size={vocab_size}')"
   ]
  },
  {
   "cell_type": "code",
   "execution_count": 24,
   "id": "parliamentary-sector",
   "metadata": {
    "execution": {
     "iopub.execute_input": "2021-04-11T06:19:01.068746Z",
     "iopub.status.busy": "2021-04-11T06:19:01.068440Z",
     "iopub.status.idle": "2021-04-11T06:19:01.319244Z",
     "shell.execute_reply": "2021-04-11T06:19:01.318394Z",
     "shell.execute_reply.started": "2021-04-11T06:19:01.068718Z"
    },
    "tags": []
   },
   "outputs": [],
   "source": [
    "!mv korean_spm.model ./tokenizer/korean_spm.model\n",
    "!mv korean_spm.vocab ./tokenizer/korean_spm.vocab"
   ]
  },
  {
   "cell_type": "code",
   "execution_count": 25,
   "id": "single-happening",
   "metadata": {
    "execution": {
     "iopub.execute_input": "2021-04-11T06:19:01.320883Z",
     "iopub.status.busy": "2021-04-11T06:19:01.320685Z",
     "iopub.status.idle": "2021-04-11T06:19:01.446281Z",
     "shell.execute_reply": "2021-04-11T06:19:01.445584Z",
     "shell.execute_reply.started": "2021-04-11T06:19:01.320856Z"
    },
    "tags": []
   },
   "outputs": [
    {
     "name": "stdout",
     "output_type": "stream",
     "text": [
      "khaiii.vocab  korean_spm.model\tkorean_spm.vocab  mecab.vocab\n"
     ]
    }
   ],
   "source": [
    "!ls ./tokenizer/"
   ]
  },
  {
   "cell_type": "markdown",
   "id": "blank-vintage",
   "metadata": {
    "tags": []
   },
   "source": [
    "### 3. 학습된 SentencePiece 모델 테스트"
   ]
  },
  {
   "cell_type": "code",
   "execution_count": 7,
   "id": "selective-appointment",
   "metadata": {
    "execution": {
     "iopub.execute_input": "2021-04-11T07:15:42.292464Z",
     "iopub.status.busy": "2021-04-11T07:15:42.292253Z",
     "iopub.status.idle": "2021-04-11T07:15:42.311478Z",
     "shell.execute_reply": "2021-04-11T07:15:42.310814Z",
     "shell.execute_reply.started": "2021-04-11T07:15:42.292439Z"
    },
    "tags": []
   },
   "outputs": [
    {
     "name": "stdout",
     "output_type": "stream",
     "text": [
      "encoded : [1161, 11, 408, 7, 3375, 11, 291, 38, 3]\n",
      "encoded pieces : ['▁아버지', '가', '방', '에', '들어', '가', '신', '다', '.']\n",
      "decoded : 아버지가방에들어가신다.\n"
     ]
    }
   ],
   "source": [
    "s = spm.SentencePieceProcessor()\n",
    "s.Load(tokenizer_path + '/korean_spm.model')\n",
    "\n",
    "# SentencePiece를 활용한 sentence -> encoding\n",
    "tokensIDs = s.EncodeAsIds('아버지가방에들어가신다.')\n",
    "print(f'encoded : {tokensIDs}')\n",
    "\n",
    "# SentencePiece를 활용한 sentence -> encoded pieces\n",
    "print(f'encoded pieces : {s.SampleEncodeAsPieces(\"아버지가방에들어가신다.\",1, 0.0)}')\n",
    "\n",
    "# SentencePiece를 활용한 encoding -> sentence 복원\n",
    "print(f'decoded : {s.DecodeIds(tokensIDs)}')"
   ]
  },
  {
   "cell_type": "markdown",
   "id": "administrative-sensitivity",
   "metadata": {
    "tags": []
   },
   "source": [
    "### 4. Tokenizer 함수 정의"
   ]
  },
  {
   "cell_type": "markdown",
   "id": "sorted-albuquerque",
   "metadata": {},
   "source": [
    "SentencePiece, Khaiii, Mecab를 사용하여 토큰화를 진행하는 함수와 디코딩을 위한 함수를 작성한다.<br>\n",
    "토큰화 함수는 다음과 같은 형식으로 정의되어야 한다.\n",
    "```python\n",
    "def tokenize(tokenizer, corpus):\n",
    "    \"\"\"\n",
    "    1. Tokenize the corpus\n",
    "    2. Encode the tokenized corpus\n",
    "    \n",
    "    args:\n",
    "        tokenizer : tokenize model. SentencePiece. Khaiii, Mecab\n",
    "        corpus : list of corpus\n",
    "    return\n",
    "        tensor : encoded corpus\n",
    "        word_index : { <word> : <idx> }\n",
    "        index_word : { <idx> : <word> }\n",
    "    \"\"\"\n",
    "    \n",
    "    # Tokenize the corpus\n",
    "    # Encode the tokenized corpus\n",
    "    \n",
    "    return tensor, word_index, index_word\n",
    "```"
   ]
  },
  {
   "cell_type": "markdown",
   "id": "martial-bibliography",
   "metadata": {
    "tags": []
   },
   "source": [
    "#### 1) SentencePiece\n",
    "📋 정의"
   ]
  },
  {
   "cell_type": "code",
   "execution_count": 10,
   "id": "crude-brook",
   "metadata": {
    "execution": {
     "iopub.execute_input": "2021-04-19T09:43:53.438330Z",
     "iopub.status.busy": "2021-04-19T09:43:53.438117Z",
     "iopub.status.idle": "2021-04-19T09:43:53.448028Z",
     "shell.execute_reply": "2021-04-19T09:43:53.447221Z",
     "shell.execute_reply.started": "2021-04-19T09:43:53.438306Z"
    },
    "tags": []
   },
   "outputs": [],
   "source": [
    "import sentencepiece as spm\n",
    "\n",
    "class SPTockenizer():\n",
    "    def __init__(self):\n",
    "        self._s = spm.SentencePieceProcessor()\n",
    "        self.vocab = None\n",
    "        self.word_index = {}\n",
    "        self.index_word = {}\n",
    "        \n",
    "    def _load_vocab(self, path):\n",
    "        with open(f\"{path}.vocab\", 'r') as f:\n",
    "            self.vocab = f.readlines()\n",
    "            \n",
    "    def _set_w2i_i2w(self):\n",
    "        for idx, line in enumerate(self.vocab):\n",
    "            word = line.split(\"\\t\")[0]\n",
    "            self.index_word.update({idx : word})\n",
    "            self.word_index.update({word: idx})\n",
    "            \n",
    "    def train(self, corpus, prefix='spm', vocab_size=10000, model_type='unigram'):\n",
    "        # save corpus for training\n",
    "        data_path = f'{data_dir_path}/sp_train_corpus.temp'\n",
    "        with open(data_path, 'w') as f:\n",
    "            for row in corpus:\n",
    "                f.write(str(row) + '\\n')\n",
    "                \n",
    "        spm.SentencePieceTrainer.Train(\n",
    "            f'--input={data_path} --model_prefix={prefix} --vocab_size={vocab_size} --model_type={model_type}')\n",
    "        \n",
    "        self._load_vocab(f'{workspace_path}/{prefix}')\n",
    "        self._set_w2i_i2w()\n",
    "        self._s.Load(f'{workspace_path}/{prefix}.model')\n",
    "    \n",
    "    def tokenize(self, corpus, prefix='spm', vocab_size=10000, model_type='unigram'):\n",
    "        self.train(corpus, prefix, vocab_size, model_type)\n",
    "        \n",
    "        tensor = []\n",
    "        for sen in corpus:\n",
    "            tensor.append(self._s.EncodeAsIds(sen))\n",
    "            \n",
    "        return tensor, self.word_index, self.index_word\n",
    "\n",
    "    def encode(self, sentence):\n",
    "        return self._s.EncodeAsIds(sentence)\n",
    "\n",
    "    def decode(self, encoded):\n",
    "        if type(encoded) == np.ndarray:\n",
    "            encoded = encoded.tolist()\n",
    "        \n",
    "        # remove padding\n",
    "        idx = -1\n",
    "        for i, e in enumerate(encoded):\n",
    "            if e != 0:\n",
    "                idx = i\n",
    "                break\n",
    "        encoded = encoded[idx:]\n",
    "        \n",
    "        return self._s.DecodeIds(encoded)"
   ]
  },
  {
   "cell_type": "markdown",
   "id": "multiple-murray",
   "metadata": {},
   "source": [
    "📋 테스트"
   ]
  },
  {
   "cell_type": "code",
   "execution_count": 166,
   "id": "fourth-brook",
   "metadata": {
    "execution": {
     "iopub.execute_input": "2021-04-18T04:30:11.322003Z",
     "iopub.status.busy": "2021-04-18T04:30:11.321764Z",
     "iopub.status.idle": "2021-04-18T04:30:11.324832Z",
     "shell.execute_reply": "2021-04-18T04:30:11.324280Z",
     "shell.execute_reply.started": "2021-04-18T04:30:11.321974Z"
    },
    "tags": []
   },
   "outputs": [],
   "source": [
    "sp_tokenizer = SPTockenizer()"
   ]
  },
  {
   "cell_type": "markdown",
   "id": "going-principle",
   "metadata": {},
   "source": [
    "- tokenize"
   ]
  },
  {
   "cell_type": "code",
   "execution_count": 167,
   "id": "accredited-license",
   "metadata": {
    "execution": {
     "iopub.execute_input": "2021-04-18T04:30:12.519160Z",
     "iopub.status.busy": "2021-04-18T04:30:12.518916Z",
     "iopub.status.idle": "2021-04-18T04:30:12.610888Z",
     "shell.execute_reply": "2021-04-18T04:30:12.610248Z",
     "shell.execute_reply.started": "2021-04-18T04:30:12.519131Z"
    },
    "tags": []
   },
   "outputs": [],
   "source": [
    "with open(sp_train_data_path, \"r\") as f:\n",
    "    sp_train_data_raw = f.read().splitlines()"
   ]
  },
  {
   "cell_type": "code",
   "execution_count": 168,
   "id": "southern-accounting",
   "metadata": {
    "execution": {
     "iopub.execute_input": "2021-04-18T04:30:20.120519Z",
     "iopub.status.busy": "2021-04-18T04:30:20.120274Z",
     "iopub.status.idle": "2021-04-18T04:30:29.972327Z",
     "shell.execute_reply": "2021-04-18T04:30:29.971735Z",
     "shell.execute_reply.started": "2021-04-18T04:30:20.120489Z"
    },
    "tags": []
   },
   "outputs": [],
   "source": [
    "tensor, sp_word_index, sp_index_word = sp_tokenizer.tokenize(sp_train_data_raw, prefix='spt_test')"
   ]
  },
  {
   "cell_type": "code",
   "execution_count": 169,
   "id": "employed-theater",
   "metadata": {
    "execution": {
     "iopub.execute_input": "2021-04-18T04:30:32.527638Z",
     "iopub.status.busy": "2021-04-18T04:30:32.527340Z",
     "iopub.status.idle": "2021-04-18T04:30:32.532249Z",
     "shell.execute_reply": "2021-04-18T04:30:32.531510Z",
     "shell.execute_reply.started": "2021-04-18T04:30:32.527601Z"
    },
    "tags": []
   },
   "outputs": [
    {
     "data": {
      "text/plain": [
       "(10000, 10000)"
      ]
     },
     "execution_count": 169,
     "metadata": {},
     "output_type": "execute_result"
    }
   ],
   "source": [
    "len(sp_index_word), len(sp_index_word)"
   ]
  },
  {
   "cell_type": "markdown",
   "id": "elegant-shadow",
   "metadata": {},
   "source": [
    "- decoding"
   ]
  },
  {
   "cell_type": "code",
   "execution_count": 170,
   "id": "limiting-mailing",
   "metadata": {
    "execution": {
     "iopub.execute_input": "2021-04-18T04:30:35.063196Z",
     "iopub.status.busy": "2021-04-18T04:30:35.062814Z",
     "iopub.status.idle": "2021-04-18T04:30:35.068328Z",
     "shell.execute_reply": "2021-04-18T04:30:35.067557Z",
     "shell.execute_reply.started": "2021-04-18T04:30:35.063147Z"
    },
    "tags": []
   },
   "outputs": [
    {
     "name": "stdout",
     "output_type": "stream",
     "text": [
      "raw data : 마이클 맥코넬 해군 제독은 상원법사위에서 알카에다가 크나큰 위협을 하고 있다고 말했다.\n",
      "encoded : [1663, 1178, 302, 3927, 1768, 192, 1134, 12, 1146, 359, 81, 260, 15, 1111, 11, 1686, 69, 8962, 665, 5, 446, 83, 34, 3]\n",
      "decoded : 마이클 맥코넬 해군 제독은 상원법사위에서 알카에다가 크나큰 위협을 하고 있다고 말했다.\n"
     ]
    }
   ],
   "source": [
    "print(f'raw data : {sp_train_data_raw[0]}')\n",
    "print(f'encoded : {tensor[0]}')\n",
    "print(f'decoded : {sp_tokenizer.decode(tensor[0])}')"
   ]
  },
  {
   "cell_type": "markdown",
   "id": "european-plane",
   "metadata": {},
   "source": [
    "- vocab"
   ]
  },
  {
   "cell_type": "code",
   "execution_count": 172,
   "id": "premium-minnesota",
   "metadata": {
    "execution": {
     "iopub.execute_input": "2021-04-18T04:30:43.269981Z",
     "iopub.status.busy": "2021-04-18T04:30:43.269634Z",
     "iopub.status.idle": "2021-04-18T04:30:43.276804Z",
     "shell.execute_reply": "2021-04-18T04:30:43.276068Z",
     "shell.execute_reply.started": "2021-04-18T04:30:43.269937Z"
    },
    "tags": []
   },
   "outputs": [
    {
     "name": "stdout",
     "output_type": "stream",
     "text": [
      "idx(1663) : ▁마이클\n",
      "idx(1178) : ▁맥\n",
      "idx(302) : 코\n",
      "idx(3927) : 넬\n",
      "idx(1768) : ▁해군\n",
      "idx(192) : ▁제\n",
      "idx(1134) : 독\n",
      "idx(12) : 은\n",
      "idx(1146) : ▁상원\n",
      "idx(359) : 법\n",
      "idx(81) : 사\n",
      "idx(260) : 위\n",
      "idx(15) : 에서\n",
      "idx(1111) : ▁알카에다\n",
      "idx(11) : 가\n",
      "idx(1686) : ▁크\n",
      "idx(69) : 나\n",
      "idx(8962) : 큰\n",
      "idx(665) : ▁위협\n",
      "idx(5) : 을\n",
      "idx(446) : ▁하고\n",
      "idx(83) : ▁있다고\n",
      "idx(34) : ▁말했다\n",
      "idx(3) : .\n"
     ]
    }
   ],
   "source": [
    "for idx in tensor[0]:\n",
    "    print(f'idx({idx}) : {sp_index_word[idx]}')"
   ]
  },
  {
   "cell_type": "markdown",
   "id": "adult-capacity",
   "metadata": {
    "tags": []
   },
   "source": [
    "#### 2) Khaiii\n",
    "📋 정의"
   ]
  },
  {
   "cell_type": "code",
   "execution_count": 12,
   "id": "structural-issue",
   "metadata": {
    "execution": {
     "iopub.execute_input": "2021-04-19T09:44:14.574454Z",
     "iopub.status.busy": "2021-04-19T09:44:14.574214Z",
     "iopub.status.idle": "2021-04-19T09:44:14.596887Z",
     "shell.execute_reply": "2021-04-19T09:44:14.596303Z",
     "shell.execute_reply.started": "2021-04-19T09:44:14.574426Z"
    },
    "tags": []
   },
   "outputs": [],
   "source": [
    "import khaiii\n",
    "\n",
    "class KhaiiiTocknizer():\n",
    "    def __init__(self):\n",
    "        self._kahiii = khaiii.KhaiiiApi()\n",
    "        self._kahiii.open()\n",
    "        self.tokenizer = None\n",
    "        self.word_index = {}\n",
    "        self.index_word = {}\n",
    "        \n",
    "    def _analyze(self, sen):\n",
    "        res = []\n",
    "        for word in self._kahiii.analyze(sen):\n",
    "            for x in word.morphs:\n",
    "                if x.tag not in ['SE', 'SO', 'SL', 'SH', 'SW', 'SN']:\n",
    "                    res.append(x.lex)\n",
    "        return \" \".join(res)\n",
    "\n",
    "    def set_vocab(self, corpus, vocab_size):\n",
    "        morpheme = [self._analyze(sen) for sen in corpus ]\n",
    "        \n",
    "        self.tokenizer = tf.keras.preprocessing.text.Tokenizer(num_words=vocab_size,\n",
    "                                   filters=\"\",\n",
    "                                   oov_token='<unk>')\n",
    "        self.tokenizer.fit_on_texts(morpheme)\n",
    "        self.tokenizer.index_word.update({ 0 : '<pad>'})\n",
    "        self.index_word = dict(filter(lambda e : e[0] <= vocab_size-1, self.tokenizer.index_word.items()))\n",
    "        self.word_index = { w : i for i, w in self.index_word.items() }\n",
    "\n",
    "    def tokenize(self, corpus, vocab_size=10000):\n",
    "        self.set_vocab(corpus, vocab_size)\n",
    "        tensor = [self._analyze(sen) for sen in corpus]\n",
    "        tensor = self.tokenizer.texts_to_sequences(tensor)\n",
    "\n",
    "        return tensor, self.word_index, self.index_word\n",
    "    \n",
    "    def encode(self, sentence):\n",
    "        return self.tokenizer.texts_to_sequences([ self._analyze(sentence)])[0]\n",
    "    \n",
    "    def decode(self, encoded):\n",
    "        if type(encoded) == np.ndarray:\n",
    "            encoded = encoded.tolist()\n",
    "\n",
    "            # remove padding\n",
    "            idx = -1\n",
    "            for i, e in enumerate(encoded):\n",
    "                if e != 0:\n",
    "                    idx = i\n",
    "                    break\n",
    "            encoded = encoded[idx:]\n",
    "\n",
    "        return self.tokenizer.sequences_to_texts([encoded])[0]"
   ]
  },
  {
   "cell_type": "markdown",
   "id": "entitled-interpretation",
   "metadata": {},
   "source": [
    "📋 테스트"
   ]
  },
  {
   "cell_type": "code",
   "execution_count": 305,
   "id": "concerned-colleague",
   "metadata": {
    "execution": {
     "iopub.execute_input": "2021-04-18T07:15:36.387608Z",
     "iopub.status.busy": "2021-04-18T07:15:36.387370Z",
     "iopub.status.idle": "2021-04-18T07:15:36.396254Z",
     "shell.execute_reply": "2021-04-18T07:15:36.395647Z",
     "shell.execute_reply.started": "2021-04-18T07:15:36.387579Z"
    },
    "tags": []
   },
   "outputs": [],
   "source": [
    "k_tokenizer = KhaiiiTocknizer()"
   ]
  },
  {
   "cell_type": "markdown",
   "id": "roman-decision",
   "metadata": {},
   "source": [
    "- tokenize"
   ]
  },
  {
   "cell_type": "code",
   "execution_count": 306,
   "id": "fancy-johns",
   "metadata": {
    "execution": {
     "iopub.execute_input": "2021-04-18T07:15:36.699576Z",
     "iopub.status.busy": "2021-04-18T07:15:36.699347Z",
     "iopub.status.idle": "2021-04-18T07:15:36.780394Z",
     "shell.execute_reply": "2021-04-18T07:15:36.779760Z",
     "shell.execute_reply.started": "2021-04-18T07:15:36.699548Z"
    },
    "tags": []
   },
   "outputs": [],
   "source": [
    "with open(sp_train_data_path, \"r\") as f:\n",
    "    sp_train_data_raw = f.read().splitlines()"
   ]
  },
  {
   "cell_type": "code",
   "execution_count": 307,
   "id": "applicable-basic",
   "metadata": {
    "execution": {
     "iopub.execute_input": "2021-04-18T07:15:36.956541Z",
     "iopub.status.busy": "2021-04-18T07:15:36.956209Z",
     "iopub.status.idle": "2021-04-18T07:18:01.801027Z",
     "shell.execute_reply": "2021-04-18T07:18:01.800342Z",
     "shell.execute_reply.started": "2021-04-18T07:15:36.956513Z"
    },
    "tags": []
   },
   "outputs": [],
   "source": [
    "tensor, k_word_index, k_index_word = k_tokenizer.tokenize(sp_train_data_raw)"
   ]
  },
  {
   "cell_type": "code",
   "execution_count": 308,
   "id": "suited-cambodia",
   "metadata": {
    "execution": {
     "iopub.execute_input": "2021-04-18T07:18:01.802105Z",
     "iopub.status.busy": "2021-04-18T07:18:01.801929Z",
     "iopub.status.idle": "2021-04-18T07:18:01.805356Z",
     "shell.execute_reply": "2021-04-18T07:18:01.804909Z",
     "shell.execute_reply.started": "2021-04-18T07:18:01.802082Z"
    },
    "tags": []
   },
   "outputs": [
    {
     "data": {
      "text/plain": [
       "(10000, 10000)"
      ]
     },
     "execution_count": 308,
     "metadata": {},
     "output_type": "execute_result"
    }
   ],
   "source": [
    "len(k_word_index), len(k_index_word)"
   ]
  },
  {
   "cell_type": "markdown",
   "id": "careful-oxide",
   "metadata": {},
   "source": [
    "- decoding"
   ]
  },
  {
   "cell_type": "code",
   "execution_count": 251,
   "id": "desperate-writer",
   "metadata": {
    "execution": {
     "iopub.execute_input": "2021-04-18T05:10:29.402369Z",
     "iopub.status.busy": "2021-04-18T05:10:29.402122Z",
     "iopub.status.idle": "2021-04-18T05:10:29.406668Z",
     "shell.execute_reply": "2021-04-18T05:10:29.406092Z",
     "shell.execute_reply.started": "2021-04-18T05:10:29.402339Z"
    },
    "tags": []
   },
   "outputs": [
    {
     "name": "stdout",
     "output_type": "stream",
     "text": [
      "raw data : 마이클 맥코넬 해군 제독은 상원법사위에서 알카에다가 크나큰 위협을 하고 있다고 말했다.\n",
      "encoded : [1068, 7982, 1150, 272, 2379, 11, 1, 19, 1453, 1018, 1, 7, 429, 8, 2, 14, 18, 30, 40, 2, 12, 5, 4]\n",
      "decoded : 마이클 맥코넬 해군 제 독 은 <unk> 에서 알카에 다가 <unk> ㄴ 위협 을 하 고 있 다고 말 하 였 다 .\n"
     ]
    }
   ],
   "source": [
    "print(f'raw data : {sp_train_data_raw[0]}')\n",
    "print(f'encoded : {tensor[0]}')\n",
    "print(f'decoded : {k_tokenizer.decode(tensor[0])}')"
   ]
  },
  {
   "cell_type": "markdown",
   "id": "descending-model",
   "metadata": {},
   "source": [
    "- vocab"
   ]
  },
  {
   "cell_type": "code",
   "execution_count": 252,
   "id": "smooth-notice",
   "metadata": {
    "execution": {
     "iopub.execute_input": "2021-04-18T05:10:31.190092Z",
     "iopub.status.busy": "2021-04-18T05:10:31.189804Z",
     "iopub.status.idle": "2021-04-18T05:10:31.196115Z",
     "shell.execute_reply": "2021-04-18T05:10:31.195489Z",
     "shell.execute_reply.started": "2021-04-18T05:10:31.190057Z"
    },
    "tags": []
   },
   "outputs": [
    {
     "name": "stdout",
     "output_type": "stream",
     "text": [
      "idx(1068) : 마이클\n",
      "idx(7982) : 맥코넬\n",
      "idx(1150) : 해군\n",
      "idx(272) : 제\n",
      "idx(2379) : 독\n",
      "idx(11) : 은\n",
      "idx(1) : <unk>\n",
      "idx(19) : 에서\n",
      "idx(1453) : 알카에\n",
      "idx(1018) : 다가\n",
      "idx(1) : <unk>\n",
      "idx(7) : ㄴ\n",
      "idx(429) : 위협\n",
      "idx(8) : 을\n",
      "idx(2) : 하\n",
      "idx(14) : 고\n",
      "idx(18) : 있\n",
      "idx(30) : 다고\n",
      "idx(40) : 말\n",
      "idx(2) : 하\n",
      "idx(12) : 였\n",
      "idx(5) : 다\n",
      "idx(4) : .\n"
     ]
    }
   ],
   "source": [
    "for idx in tensor[0]:\n",
    "    print(f'idx({idx}) : {k_index_word[idx]}')"
   ]
  },
  {
   "cell_type": "markdown",
   "id": "chief-story",
   "metadata": {
    "tags": []
   },
   "source": [
    "#### 3) Mecab\n",
    "📋 정의"
   ]
  },
  {
   "cell_type": "code",
   "execution_count": 13,
   "id": "optical-insert",
   "metadata": {
    "execution": {
     "iopub.execute_input": "2021-04-19T09:44:23.635747Z",
     "iopub.status.busy": "2021-04-19T09:44:23.635473Z",
     "iopub.status.idle": "2021-04-19T09:44:23.714784Z",
     "shell.execute_reply": "2021-04-19T09:44:23.714146Z",
     "shell.execute_reply.started": "2021-04-19T09:44:23.635718Z"
    },
    "tags": []
   },
   "outputs": [],
   "source": [
    "from konlpy.tag import Mecab\n",
    "\n",
    "class MecabTockenizer():\n",
    "    def __init__(self):\n",
    "        self._mecab = Mecab()\n",
    "        self.tokenizer = None\n",
    "        self.word_index = {}\n",
    "        self.index_word = {}\n",
    "        \n",
    "    def set_vocab(self, corpus, vocab_size):\n",
    "        morpheme = [ \" \".join(self._mecab.morphs(sen)) for sen in corpus ]\n",
    "        self.tokenizer = tf.keras.preprocessing.text.Tokenizer(num_words=vocab_size,\n",
    "                                   filters=\"\",\n",
    "                                   oov_token='<unk>')\n",
    "        self.tokenizer.fit_on_texts(morpheme)\n",
    "        self.tokenizer.index_word.update({ 0 : '<pad>'})\n",
    "        self.index_word = dict(filter(lambda e : e[0] <= vocab_size-1, self.tokenizer.index_word.items()))\n",
    "        self.word_index = { w : i for i, w in self.index_word.items()}\n",
    "    \n",
    "    def tokenize(self, corpus, vocab_size=10000):\n",
    "        self.set_vocab(corpus, vocab_size)\n",
    "        tensor = [\" \".join(self._mecab.morphs(sen)) for sen in corpus]\n",
    "        tensor = self.tokenizer.texts_to_sequences(tensor)\n",
    "        return tensor, self.word_index, self.index_word\n",
    "    \n",
    "    def encode(self, sentence):\n",
    "        return self.tokenizer.texts_to_sequences([\" \".join(self._mecab.morphs(sentence))])[0]\n",
    "    \n",
    "    def decode(self, encoded):\n",
    "        if type(encoded) == np.ndarray:\n",
    "            encoded = encoded.tolist()\n",
    "\n",
    "            # remove padding\n",
    "            idx = -1\n",
    "            for i, e in enumerate(encoded):\n",
    "                if e != 0:\n",
    "                    idx = i\n",
    "                    break\n",
    "            encoded = encoded[idx:]\n",
    "\n",
    "        return self.tokenizer.sequences_to_texts([encoded])[0]"
   ]
  },
  {
   "cell_type": "markdown",
   "id": "streaming-saudi",
   "metadata": {},
   "source": [
    "📋 테스트"
   ]
  },
  {
   "cell_type": "code",
   "execution_count": 187,
   "id": "variable-batch",
   "metadata": {
    "execution": {
     "iopub.execute_input": "2021-04-18T04:33:44.910825Z",
     "iopub.status.busy": "2021-04-18T04:33:44.910641Z",
     "iopub.status.idle": "2021-04-18T04:33:44.920222Z",
     "shell.execute_reply": "2021-04-18T04:33:44.919636Z",
     "shell.execute_reply.started": "2021-04-18T04:33:44.910801Z"
    },
    "tags": []
   },
   "outputs": [],
   "source": [
    "m_tokenizer = MecabTockenizer()"
   ]
  },
  {
   "cell_type": "markdown",
   "id": "circular-field",
   "metadata": {},
   "source": [
    "- tokenize"
   ]
  },
  {
   "cell_type": "code",
   "execution_count": 188,
   "id": "threaded-herald",
   "metadata": {
    "execution": {
     "iopub.execute_input": "2021-04-18T04:33:44.921584Z",
     "iopub.status.busy": "2021-04-18T04:33:44.921330Z",
     "iopub.status.idle": "2021-04-18T04:33:45.015583Z",
     "shell.execute_reply": "2021-04-18T04:33:45.015029Z",
     "shell.execute_reply.started": "2021-04-18T04:33:44.921550Z"
    },
    "tags": []
   },
   "outputs": [],
   "source": [
    "with open(sp_train_data_path, \"r\") as f:\n",
    "    sp_train_data_raw = f.read().splitlines()"
   ]
  },
  {
   "cell_type": "code",
   "execution_count": 189,
   "id": "automated-parks",
   "metadata": {
    "execution": {
     "iopub.execute_input": "2021-04-18T04:33:45.016716Z",
     "iopub.status.busy": "2021-04-18T04:33:45.016474Z",
     "iopub.status.idle": "2021-04-18T04:34:07.536334Z",
     "shell.execute_reply": "2021-04-18T04:34:07.534810Z",
     "shell.execute_reply.started": "2021-04-18T04:33:45.016684Z"
    },
    "tags": []
   },
   "outputs": [],
   "source": [
    "tensor, m_word_index, m_index_word = m_tokenizer.tokenize(sp_train_data_raw)"
   ]
  },
  {
   "cell_type": "code",
   "execution_count": 190,
   "id": "sudden-synthesis",
   "metadata": {
    "execution": {
     "iopub.execute_input": "2021-04-18T04:34:07.538609Z",
     "iopub.status.busy": "2021-04-18T04:34:07.538166Z",
     "iopub.status.idle": "2021-04-18T04:34:07.545072Z",
     "shell.execute_reply": "2021-04-18T04:34:07.544085Z",
     "shell.execute_reply.started": "2021-04-18T04:34:07.538550Z"
    },
    "tags": []
   },
   "outputs": [
    {
     "data": {
      "text/plain": [
       "(10000, 10000)"
      ]
     },
     "execution_count": 190,
     "metadata": {},
     "output_type": "execute_result"
    }
   ],
   "source": [
    "len(m_word_index), len(m_index_word)"
   ]
  },
  {
   "cell_type": "markdown",
   "id": "metropolitan-isaac",
   "metadata": {},
   "source": [
    "- decoding"
   ]
  },
  {
   "cell_type": "code",
   "execution_count": 191,
   "id": "lesbian-wrestling",
   "metadata": {
    "execution": {
     "iopub.execute_input": "2021-04-18T04:34:07.546393Z",
     "iopub.status.busy": "2021-04-18T04:34:07.546131Z",
     "iopub.status.idle": "2021-04-18T04:34:07.556184Z",
     "shell.execute_reply": "2021-04-18T04:34:07.555526Z",
     "shell.execute_reply.started": "2021-04-18T04:34:07.546359Z"
    },
    "tags": []
   },
   "outputs": [
    {
     "name": "stdout",
     "output_type": "stream",
     "text": [
      "raw data : 마이클 맥코넬 해군 제독은 상원법사위에서 알카에다가 크나큰 위협을 하고 있다고 말했다.\n",
      "encoded : [1089, 9614, 1205, 1, 9, 225, 426, 1, 17, 614, 16, 1, 461, 6, 11, 13, 14, 24, 35, 12, 3, 2]\n",
      "decoded : 마이클 맥코넬 해군 <unk> 은 상원 법 <unk> 에서 알카에다 가 <unk> 위협 을 하 고 있 다고 말 했 다 .\n"
     ]
    }
   ],
   "source": [
    "print(f'raw data : {sp_train_data_raw[0]}')\n",
    "print(f'encoded : {tensor[0]}')\n",
    "print(f'decoded : {m_tokenizer.decode(tensor[0])}')"
   ]
  },
  {
   "cell_type": "markdown",
   "id": "declared-friend",
   "metadata": {},
   "source": [
    "- vocab"
   ]
  },
  {
   "cell_type": "code",
   "execution_count": 192,
   "id": "cultural-buffalo",
   "metadata": {
    "execution": {
     "iopub.execute_input": "2021-04-18T04:34:07.557315Z",
     "iopub.status.busy": "2021-04-18T04:34:07.557131Z",
     "iopub.status.idle": "2021-04-18T04:34:07.563111Z",
     "shell.execute_reply": "2021-04-18T04:34:07.562576Z",
     "shell.execute_reply.started": "2021-04-18T04:34:07.557291Z"
    },
    "tags": []
   },
   "outputs": [
    {
     "name": "stdout",
     "output_type": "stream",
     "text": [
      "idx(1089) : 마이클\n",
      "idx(9614) : 맥코넬\n",
      "idx(1205) : 해군\n",
      "idx(1) : <unk>\n",
      "idx(9) : 은\n",
      "idx(225) : 상원\n",
      "idx(426) : 법\n",
      "idx(1) : <unk>\n",
      "idx(17) : 에서\n",
      "idx(614) : 알카에다\n",
      "idx(16) : 가\n",
      "idx(1) : <unk>\n",
      "idx(461) : 위협\n",
      "idx(6) : 을\n",
      "idx(11) : 하\n",
      "idx(13) : 고\n",
      "idx(14) : 있\n",
      "idx(24) : 다고\n",
      "idx(35) : 말\n",
      "idx(12) : 했\n",
      "idx(3) : 다\n",
      "idx(2) : .\n"
     ]
    }
   ],
   "source": [
    "for idx in tensor[0]:\n",
    "    print(f'idx({idx}) : {m_index_word[idx]}')"
   ]
  },
  {
   "cell_type": "markdown",
   "id": "surgical-topic",
   "metadata": {},
   "source": [
    "## STEP 4. Sentiment Analysis - 1. 데이터 전처리\n",
    "---"
   ]
  },
  {
   "cell_type": "markdown",
   "id": "actual-hungary",
   "metadata": {},
   "source": [
    "### 1. 데이터 불러오기"
   ]
  },
  {
   "cell_type": "markdown",
   "id": "computational-event",
   "metadata": {},
   "source": [
    "- 한국어로 된 네이버 영화 리뷰 데이터를 [저장소](https://github.com/e9t/nsmc/)에서 다운로드 받는다.\n",
    "- 이를 판다스로 불러들인다."
   ]
  },
  {
   "cell_type": "code",
   "execution_count": 14,
   "id": "elder-quality",
   "metadata": {
    "execution": {
     "iopub.execute_input": "2021-04-19T09:44:30.045999Z",
     "iopub.status.busy": "2021-04-19T09:44:30.045648Z",
     "iopub.status.idle": "2021-04-19T09:44:30.460848Z",
     "shell.execute_reply": "2021-04-19T09:44:30.460227Z",
     "shell.execute_reply.started": "2021-04-19T09:44:30.045958Z"
    },
    "tags": []
   },
   "outputs": [],
   "source": [
    "train_data = pd.read_table(data_dir_path + '/ratings_train.txt')\n",
    "test_data  = pd.read_table(data_dir_path + '/ratings_test.txt')"
   ]
  },
  {
   "cell_type": "code",
   "execution_count": 15,
   "id": "square-teaching",
   "metadata": {
    "execution": {
     "iopub.execute_input": "2021-04-19T09:44:30.461951Z",
     "iopub.status.busy": "2021-04-19T09:44:30.461767Z",
     "iopub.status.idle": "2021-04-19T09:44:30.473519Z",
     "shell.execute_reply": "2021-04-19T09:44:30.473005Z",
     "shell.execute_reply.started": "2021-04-19T09:44:30.461927Z"
    },
    "tags": []
   },
   "outputs": [
    {
     "data": {
      "text/html": [
       "<div>\n",
       "<style scoped>\n",
       "    .dataframe tbody tr th:only-of-type {\n",
       "        vertical-align: middle;\n",
       "    }\n",
       "\n",
       "    .dataframe tbody tr th {\n",
       "        vertical-align: top;\n",
       "    }\n",
       "\n",
       "    .dataframe thead th {\n",
       "        text-align: right;\n",
       "    }\n",
       "</style>\n",
       "<table border=\"1\" class=\"dataframe\">\n",
       "  <thead>\n",
       "    <tr style=\"text-align: right;\">\n",
       "      <th></th>\n",
       "      <th>id</th>\n",
       "      <th>document</th>\n",
       "      <th>label</th>\n",
       "    </tr>\n",
       "  </thead>\n",
       "  <tbody>\n",
       "    <tr>\n",
       "      <th>0</th>\n",
       "      <td>9976970</td>\n",
       "      <td>아 더빙.. 진짜 짜증나네요 목소리</td>\n",
       "      <td>0</td>\n",
       "    </tr>\n",
       "    <tr>\n",
       "      <th>1</th>\n",
       "      <td>3819312</td>\n",
       "      <td>흠...포스터보고 초딩영화줄....오버연기조차 가볍지 않구나</td>\n",
       "      <td>1</td>\n",
       "    </tr>\n",
       "    <tr>\n",
       "      <th>2</th>\n",
       "      <td>10265843</td>\n",
       "      <td>너무재밓었다그래서보는것을추천한다</td>\n",
       "      <td>0</td>\n",
       "    </tr>\n",
       "    <tr>\n",
       "      <th>3</th>\n",
       "      <td>9045019</td>\n",
       "      <td>교도소 이야기구먼 ..솔직히 재미는 없다..평점 조정</td>\n",
       "      <td>0</td>\n",
       "    </tr>\n",
       "    <tr>\n",
       "      <th>4</th>\n",
       "      <td>6483659</td>\n",
       "      <td>사이몬페그의 익살스런 연기가 돋보였던 영화!스파이더맨에서 늙어보이기만 했던 커스틴 ...</td>\n",
       "      <td>1</td>\n",
       "    </tr>\n",
       "  </tbody>\n",
       "</table>\n",
       "</div>"
      ],
      "text/plain": [
       "         id                                           document  label\n",
       "0   9976970                                아 더빙.. 진짜 짜증나네요 목소리      0\n",
       "1   3819312                  흠...포스터보고 초딩영화줄....오버연기조차 가볍지 않구나      1\n",
       "2  10265843                                  너무재밓었다그래서보는것을추천한다      0\n",
       "3   9045019                      교도소 이야기구먼 ..솔직히 재미는 없다..평점 조정      0\n",
       "4   6483659  사이몬페그의 익살스런 연기가 돋보였던 영화!스파이더맨에서 늙어보이기만 했던 커스틴 ...      1"
      ]
     },
     "execution_count": 15,
     "metadata": {},
     "output_type": "execute_result"
    }
   ],
   "source": [
    "train_data.head(5)"
   ]
  },
  {
   "cell_type": "code",
   "execution_count": 16,
   "id": "crazy-point",
   "metadata": {
    "execution": {
     "iopub.execute_input": "2021-04-19T09:44:30.474638Z",
     "iopub.status.busy": "2021-04-19T09:44:30.474471Z",
     "iopub.status.idle": "2021-04-19T09:44:30.480945Z",
     "shell.execute_reply": "2021-04-19T09:44:30.480379Z",
     "shell.execute_reply.started": "2021-04-19T09:44:30.474617Z"
    },
    "tags": []
   },
   "outputs": [
    {
     "data": {
      "text/html": [
       "<div>\n",
       "<style scoped>\n",
       "    .dataframe tbody tr th:only-of-type {\n",
       "        vertical-align: middle;\n",
       "    }\n",
       "\n",
       "    .dataframe tbody tr th {\n",
       "        vertical-align: top;\n",
       "    }\n",
       "\n",
       "    .dataframe thead th {\n",
       "        text-align: right;\n",
       "    }\n",
       "</style>\n",
       "<table border=\"1\" class=\"dataframe\">\n",
       "  <thead>\n",
       "    <tr style=\"text-align: right;\">\n",
       "      <th></th>\n",
       "      <th>id</th>\n",
       "      <th>document</th>\n",
       "      <th>label</th>\n",
       "    </tr>\n",
       "  </thead>\n",
       "  <tbody>\n",
       "    <tr>\n",
       "      <th>0</th>\n",
       "      <td>6270596</td>\n",
       "      <td>굳 ㅋ</td>\n",
       "      <td>1</td>\n",
       "    </tr>\n",
       "    <tr>\n",
       "      <th>1</th>\n",
       "      <td>9274899</td>\n",
       "      <td>GDNTOPCLASSINTHECLUB</td>\n",
       "      <td>0</td>\n",
       "    </tr>\n",
       "    <tr>\n",
       "      <th>2</th>\n",
       "      <td>8544678</td>\n",
       "      <td>뭐야 이 평점들은.... 나쁘진 않지만 10점 짜리는 더더욱 아니잖아</td>\n",
       "      <td>0</td>\n",
       "    </tr>\n",
       "    <tr>\n",
       "      <th>3</th>\n",
       "      <td>6825595</td>\n",
       "      <td>지루하지는 않은데 완전 막장임... 돈주고 보기에는....</td>\n",
       "      <td>0</td>\n",
       "    </tr>\n",
       "    <tr>\n",
       "      <th>4</th>\n",
       "      <td>6723715</td>\n",
       "      <td>3D만 아니었어도 별 다섯 개 줬을텐데.. 왜 3D로 나와서 제 심기를 불편하게 하죠??</td>\n",
       "      <td>0</td>\n",
       "    </tr>\n",
       "  </tbody>\n",
       "</table>\n",
       "</div>"
      ],
      "text/plain": [
       "        id                                           document  label\n",
       "0  6270596                                                굳 ㅋ      1\n",
       "1  9274899                               GDNTOPCLASSINTHECLUB      0\n",
       "2  8544678             뭐야 이 평점들은.... 나쁘진 않지만 10점 짜리는 더더욱 아니잖아      0\n",
       "3  6825595                   지루하지는 않은데 완전 막장임... 돈주고 보기에는....      0\n",
       "4  6723715  3D만 아니었어도 별 다섯 개 줬을텐데.. 왜 3D로 나와서 제 심기를 불편하게 하죠??      0"
      ]
     },
     "execution_count": 16,
     "metadata": {},
     "output_type": "execute_result"
    }
   ],
   "source": [
    "test_data.head(5)"
   ]
  },
  {
   "cell_type": "markdown",
   "id": "solar-calcium",
   "metadata": {
    "tags": []
   },
   "source": [
    "### 2. 데이터 로더 구성"
   ]
  },
  {
   "cell_type": "markdown",
   "id": "geological-wildlife",
   "metadata": {},
   "source": [
    "#### 1) 데이터로더 정의"
   ]
  },
  {
   "cell_type": "code",
   "execution_count": 17,
   "id": "infrared-international",
   "metadata": {
    "execution": {
     "iopub.execute_input": "2021-04-19T09:44:40.946915Z",
     "iopub.status.busy": "2021-04-19T09:44:40.946694Z",
     "iopub.status.idle": "2021-04-19T09:44:40.952846Z",
     "shell.execute_reply": "2021-04-19T09:44:40.952171Z",
     "shell.execute_reply.started": "2021-04-19T09:44:40.946890Z"
    },
    "tags": []
   },
   "outputs": [],
   "source": [
    "def load_data(train_data, test_data, Tokenizer, num_words=10000):\n",
    "    # 1. 중복 제거\n",
    "    train_data.drop_duplicates(subset=['document'], inplace=True)\n",
    "    test_data.drop_duplicates(subset=['document'], inplace=True)\n",
    "    \n",
    "    # 2. 결측치 제거\n",
    "    train_data = train_data.dropna(how = 'any')\n",
    "    test_data = test_data.dropna(how = 'any')\n",
    "    \n",
    "    # 3. 토큰화\n",
    "    tokenizer = Tokenizer()\n",
    "    X_train, word_index, index_word = tokenizer.tokenize(train_data['document'].to_list())\n",
    "    X_test = [ tokenizer.encode(sen) for sen in test_data['document'].to_list() ]\n",
    "\n",
    "    return X_train, np.array(list(train_data['label'])), X_test, np.array(list(test_data['label'])), tokenizer"
   ]
  },
  {
   "cell_type": "code",
   "execution_count": 18,
   "id": "every-column",
   "metadata": {
    "execution": {
     "iopub.execute_input": "2021-04-19T09:44:41.113841Z",
     "iopub.status.busy": "2021-04-19T09:44:41.113591Z",
     "iopub.status.idle": "2021-04-19T09:44:41.118282Z",
     "shell.execute_reply": "2021-04-19T09:44:41.117305Z",
     "shell.execute_reply.started": "2021-04-19T09:44:41.113812Z"
    },
    "tags": []
   },
   "outputs": [],
   "source": [
    "class Dataset():\n",
    "    def __init__(self, X_train, y_train, X_test, y_test, tokenizer):\n",
    "        self.X_train = X_train\n",
    "        self.y_train = y_train\n",
    "        self.X_test = X_test\n",
    "        self.y_test = y_test\n",
    "        self.tokenizer = tokenizer\n",
    "        self.X_val = None\n",
    "        self.y_val = None"
   ]
  },
  {
   "cell_type": "markdown",
   "id": "professional-awareness",
   "metadata": {},
   "source": [
    "#### 2) 토큰화 - SentencePiece"
   ]
  },
  {
   "cell_type": "code",
   "execution_count": 19,
   "id": "sublime-plaza",
   "metadata": {
    "execution": {
     "iopub.execute_input": "2021-04-19T00:49:15.551038Z",
     "iopub.status.busy": "2021-04-19T00:49:15.550820Z",
     "iopub.status.idle": "2021-04-19T00:49:34.679489Z",
     "shell.execute_reply": "2021-04-19T00:49:34.677727Z",
     "shell.execute_reply.started": "2021-04-19T00:49:15.551013Z"
    },
    "tags": []
   },
   "outputs": [],
   "source": [
    "X_train, y_train, X_test, y_test, sp_tokenizer = load_data(train_data,\n",
    "                                                           test_data,\n",
    "                                                           SPTockenizer)\n",
    "sp_dataset = Dataset(X_train, y_train, X_test, y_test, sp_tokenizer)"
   ]
  },
  {
   "cell_type": "code",
   "execution_count": 17,
   "id": "assigned-appraisal",
   "metadata": {
    "execution": {
     "iopub.execute_input": "2021-04-18T08:28:07.754936Z",
     "iopub.status.busy": "2021-04-18T08:28:07.754751Z",
     "iopub.status.idle": "2021-04-18T08:28:07.759889Z",
     "shell.execute_reply": "2021-04-18T08:28:07.759386Z",
     "shell.execute_reply.started": "2021-04-18T08:28:07.754908Z"
    },
    "tags": []
   },
   "outputs": [
    {
     "name": "stdout",
     "output_type": "stream",
     "text": [
      "X_train[0] : [61, 870, 5, 30, 2025, 66, 1720]\n",
      "X_train[0] - raw : 아 더빙.. 진짜 짜증나네요 목소리\n",
      "X_train[0] - decoding : 아 더빙.. 진짜 짜증나네요 목소리\n",
      "y_train[0] : 0\n",
      "\n",
      "X_test[0] : [2643, 275]\n",
      "X_test[0] - raw : 굳 ㅋ\n",
      "X_test[0] - decoding : 굳 ᄏ\n",
      "y_test[0] : 1\n"
     ]
    }
   ],
   "source": [
    "print(f'X_train[0] : {sp_dataset.X_train[0]}')\n",
    "print(f'X_train[0] - raw : {train_data.iloc[0][\"document\"]}')\n",
    "print(f'X_train[0] - decoding : {sp_dataset.tokenizer.decode(X_train[0])}')\n",
    "print(f'y_train[0] : {sp_dataset.y_train[0]}\\n')\n",
    "\n",
    "print(f'X_test[0] : {sp_dataset.X_test[0]}')\n",
    "print(f'X_test[0] - raw : {test_data.iloc[0][\"document\"]}')\n",
    "print(f'X_test[0] - decoding : {sp_dataset.tokenizer.decode(X_test[0])}')\n",
    "print(f'y_test[0] : {sp_dataset.y_test[0]}')"
   ]
  },
  {
   "cell_type": "markdown",
   "id": "assumed-wells",
   "metadata": {},
   "source": [
    "#### 3)  토큰화 - Khaiii"
   ]
  },
  {
   "cell_type": "code",
   "execution_count": 18,
   "id": "racial-tuning",
   "metadata": {
    "execution": {
     "iopub.execute_input": "2021-04-18T08:28:07.761147Z",
     "iopub.status.busy": "2021-04-18T08:28:07.760961Z",
     "iopub.status.idle": "2021-04-18T08:32:06.712375Z",
     "shell.execute_reply": "2021-04-18T08:32:06.711790Z",
     "shell.execute_reply.started": "2021-04-18T08:28:07.761116Z"
    },
    "tags": []
   },
   "outputs": [],
   "source": [
    "X_train, y_train, X_test, y_test, k_tokenizer = load_data(train_data,\n",
    "                                                           test_data,\n",
    "                                                           KhaiiiTocknizer)\n",
    "\n",
    "k_dataset = Dataset(X_train, y_train, X_test, y_test, k_tokenizer)"
   ]
  },
  {
   "cell_type": "code",
   "execution_count": 19,
   "id": "soviet-contact",
   "metadata": {
    "execution": {
     "iopub.execute_input": "2021-04-18T08:32:06.713400Z",
     "iopub.status.busy": "2021-04-18T08:32:06.713187Z",
     "iopub.status.idle": "2021-04-18T08:32:06.717679Z",
     "shell.execute_reply": "2021-04-18T08:32:06.717304Z",
     "shell.execute_reply.started": "2021-04-18T08:32:06.713381Z"
    },
    "tags": []
   },
   "outputs": [
    {
     "name": "stdout",
     "output_type": "stream",
     "text": [
      "X_train[0] : [31, 92, 1748, 151, 76, 328, 1988, 82, 779]\n",
      "X_train[0] - raw : 아 더빙.. 진짜 짜증나네요 목소리\n",
      "X_train[0] - decoding : 아 더 빙 .. 진짜 짜증 나네 요 목소리\n",
      "y_train[0] : 0\n",
      "\n",
      "X_test[0] : [1241, 61]\n",
      "X_test[0] - raw : 굳 ㅋ\n",
      "X_test[0] - decoding : 굳 ㅋ\n",
      "y_test[0] : 1\n"
     ]
    }
   ],
   "source": [
    "print(f'X_train[0] : {k_dataset.X_train[0]}')\n",
    "print(f'X_train[0] - raw : {train_data.iloc[0][\"document\"]}')\n",
    "print(f'X_train[0] - decoding : {k_dataset.tokenizer.decode(X_train[0])}')\n",
    "print(f'y_train[0] : {k_dataset.y_train[0]}\\n')\n",
    "\n",
    "print(f'X_test[0] : {k_dataset.X_test[0]}')\n",
    "print(f'X_test[0] - raw : {test_data.iloc[0][\"document\"]}')\n",
    "print(f'X_test[0] - decoding : {k_dataset.tokenizer.decode(X_test[0])}')\n",
    "print(f'y_test[0] : {k_dataset.y_test[0]}')"
   ]
  },
  {
   "cell_type": "markdown",
   "id": "diagnostic-yemen",
   "metadata": {},
   "source": [
    "#### 4)  토큰화 - mecab"
   ]
  },
  {
   "cell_type": "code",
   "execution_count": 20,
   "id": "communist-margin",
   "metadata": {
    "execution": {
     "iopub.execute_input": "2021-04-18T08:32:06.718369Z",
     "iopub.status.busy": "2021-04-18T08:32:06.718234Z",
     "iopub.status.idle": "2021-04-18T08:32:33.516171Z",
     "shell.execute_reply": "2021-04-18T08:32:33.515591Z",
     "shell.execute_reply.started": "2021-04-18T08:32:06.718351Z"
    },
    "tags": []
   },
   "outputs": [],
   "source": [
    "X_train, y_train, X_test, y_test, m_tokenizer = load_data(train_data,\n",
    "                                                           test_data,\n",
    "                                                           MecabTockenizer)\n",
    "m_dataset = Dataset(X_train, y_train, X_test, y_test, m_tokenizer)"
   ]
  },
  {
   "cell_type": "code",
   "execution_count": 21,
   "id": "varying-somewhere",
   "metadata": {
    "execution": {
     "iopub.execute_input": "2021-04-18T08:32:33.517011Z",
     "iopub.status.busy": "2021-04-18T08:32:33.516861Z",
     "iopub.status.idle": "2021-04-18T08:32:33.521810Z",
     "shell.execute_reply": "2021-04-18T08:32:33.521254Z",
     "shell.execute_reply.started": "2021-04-18T08:32:33.516991Z"
    },
    "tags": []
   },
   "outputs": [
    {
     "name": "stdout",
     "output_type": "stream",
     "text": [
      "X_train[0] : [41, 86, 937, 2, 2, 48, 242, 28, 42, 765]\n",
      "X_train[0] - raw : 아 더빙.. 진짜 짜증나네요 목소리\n",
      "X_train[0] - decoding : 아 더 빙 . . 진짜 짜증 나 네요 목소리\n",
      "y_train[0] : 0\n",
      "\n",
      "X_test[0] : [850, 143]\n",
      "X_test[0] - raw : 굳 ㅋ\n",
      "X_test[0] - decoding : 굳 ㅋ\n",
      "y_test[0] : 1\n"
     ]
    }
   ],
   "source": [
    "print(f'X_train[0] : {m_dataset.X_train[0]}')\n",
    "print(f'X_train[0] - raw : {train_data.iloc[0][\"document\"]}')\n",
    "print(f'X_train[0] - decoding : {m_dataset.tokenizer.decode(X_train[0])}')\n",
    "print(f'y_train[0] : {m_dataset.y_train[0]}\\n')\n",
    "\n",
    "print(f'X_test[0] : {m_dataset.X_test[0]}')\n",
    "print(f'X_test[0] - raw : {test_data.iloc[0][\"document\"]}')\n",
    "print(f'X_test[0] - decoding : {m_dataset.tokenizer.decode(X_test[0])}')\n",
    "print(f'y_test[0] : {m_dataset.y_test[0]}')"
   ]
  },
  {
   "cell_type": "markdown",
   "id": "unlikely-liberty",
   "metadata": {},
   "source": [
    "### 3. 데이터 분석 및 가공\n",
    "#### 1) 데이터셋의 길이 분포 확인\n",
    "너무 길이가 짧은 데이터 혹은 긴 데이터는 노이즈가 될 수 있으므로 적절한 값을 선정하여 길이에 제한을 주어야한다."
   ]
  },
  {
   "cell_type": "code",
   "execution_count": 258,
   "id": "twenty-placement",
   "metadata": {
    "execution": {
     "iopub.execute_input": "2021-04-18T05:16:28.456212Z",
     "iopub.status.busy": "2021-04-18T05:16:28.455976Z",
     "iopub.status.idle": "2021-04-18T05:16:29.378174Z",
     "shell.execute_reply": "2021-04-18T05:16:29.377583Z",
     "shell.execute_reply.started": "2021-04-18T05:16:28.456184Z"
    },
    "tags": []
   },
   "outputs": [
    {
     "name": "stdout",
     "output_type": "stream",
     "text": [
      "min sentence length : 1\n",
      "max sentence length : 132\n",
      "avg sentence length : 16\n"
     ]
    },
    {
     "data": {
      "image/png": "[encoded data removed]",
      "text/plain": [
       "<Figure size 720x360 with 2 Axes>"
      ]
     },
     "metadata": {
      "needs_background": "light"
     },
     "output_type": "display_data"
    }
   ],
   "source": [
    "sp_length_hist = check_sentence_len_distribution(sp_dataset.X_train)"
   ]
  },
  {
   "cell_type": "code",
   "execution_count": 259,
   "id": "encouraging-detroit",
   "metadata": {
    "execution": {
     "iopub.execute_input": "2021-04-18T05:16:35.392596Z",
     "iopub.status.busy": "2021-04-18T05:16:35.392249Z",
     "iopub.status.idle": "2021-04-18T05:16:36.230903Z",
     "shell.execute_reply": "2021-04-18T05:16:36.230379Z",
     "shell.execute_reply.started": "2021-04-18T05:16:35.392553Z"
    }
   },
   "outputs": [
    {
     "name": "stdout",
     "output_type": "stream",
     "text": [
      "min sentence length : 0\n",
      "max sentence length : 109\n",
      "avg sentence length : 19\n"
     ]
    },
    {
     "data": {
      "image/png": "[encoded data removed]",
      "text/plain": [
       "<Figure size 720x360 with 2 Axes>"
      ]
     },
     "metadata": {
      "needs_background": "light"
     },
     "output_type": "display_data"
    }
   ],
   "source": [
    "k_length_hist = check_sentence_len_distribution(k_dataset.X_train)"
   ]
  },
  {
   "cell_type": "code",
   "execution_count": 260,
   "id": "hearing-applicant",
   "metadata": {
    "execution": {
     "iopub.execute_input": "2021-04-18T05:16:38.620215Z",
     "iopub.status.busy": "2021-04-18T05:16:38.619953Z",
     "iopub.status.idle": "2021-04-18T05:16:39.530984Z",
     "shell.execute_reply": "2021-04-18T05:16:39.530415Z",
     "shell.execute_reply.started": "2021-04-18T05:16:38.620183Z"
    }
   },
   "outputs": [
    {
     "name": "stdout",
     "output_type": "stream",
     "text": [
      "min sentence length : 1\n",
      "max sentence length : 116\n",
      "avg sentence length : 18\n"
     ]
    },
    {
     "data": {
      "image/png": "[encoded data removed]",
      "text/plain": [
       "<Figure size 720x360 with 2 Axes>"
      ]
     },
     "metadata": {
      "needs_background": "light"
     },
     "output_type": "display_data"
    }
   ],
   "source": [
    "m_length_hist = check_sentence_len_distribution(m_dataset.X_train)"
   ]
  },
  {
   "cell_type": "markdown",
   "id": "incomplete-directory",
   "metadata": {},
   "source": [
    "토큰화 된 데이터 최소/최대/평균 길이는 각각 (1/132/16), (0/109/19), (1/116/18)이다. <br>\n",
    "bar 그래프로 보았을 때, 각 데이터의 길이는 대체로 1\\~39, 0\\~44, 1\\~41 사이에 분포하여 있다.<br>\n",
    "문장길이의 범위를 지정하기 위해 좀 더 통계적인 방법으로 문장의 분포를 확인해보자."
   ]
  },
  {
   "cell_type": "markdown",
   "id": "horizontal-theology",
   "metadata": {},
   "source": [
    "#### 2) 문장 길이 선정을 위한 통계적 확인"
   ]
  },
  {
   "cell_type": "code",
   "execution_count": 279,
   "id": "preliminary-nursing",
   "metadata": {
    "execution": {
     "iopub.execute_input": "2021-04-18T06:56:46.332463Z",
     "iopub.status.busy": "2021-04-18T06:56:46.332193Z",
     "iopub.status.idle": "2021-04-18T06:56:46.337316Z",
     "shell.execute_reply": "2021-04-18T06:56:46.336619Z",
     "shell.execute_reply.started": "2021-04-18T06:56:46.332430Z"
    },
    "tags": []
   },
   "outputs": [
    {
     "name": "stdout",
     "output_type": "stream",
     "text": [
      "rate of sentences 48 or less in length : 0.946505041660396\n",
      "rate of sentences 51 or less in length : 0.9541940868232751\n",
      "rate of sentences 54 or less in length : 0.9608638546469469\n",
      "rate of sentences 57 or less in length : 0.9683818801220396\n",
      "rate of sentences 60 or less in length : 0.9754689359839105\n"
     ]
    }
   ],
   "source": [
    "# sp\n",
    "for threshold in range(48, 63, 3):\n",
    "    rate_under_lenght_threshold(sp_length_hist, threshold)"
   ]
  },
  {
   "cell_type": "code",
   "execution_count": 280,
   "id": "naughty-psychiatry",
   "metadata": {
    "execution": {
     "iopub.execute_input": "2021-04-18T06:56:52.058417Z",
     "iopub.status.busy": "2021-04-18T06:56:52.058171Z",
     "iopub.status.idle": "2021-04-18T06:56:52.062641Z",
     "shell.execute_reply": "2021-04-18T06:56:52.061972Z",
     "shell.execute_reply.started": "2021-04-18T06:56:52.058387Z"
    },
    "tags": []
   },
   "outputs": [
    {
     "name": "stdout",
     "output_type": "stream",
     "text": [
      "rate of sentences 48 or less in length : 0.9215430080310846\n",
      "rate of sentences 51 or less in length : 0.9296014557195824\n",
      "rate of sentences 54 or less in length : 0.9372426153698814\n",
      "rate of sentences 57 or less in length : 0.9441381291814314\n",
      "rate of sentences 60 or less in length : 0.9504658576295303\n"
     ]
    }
   ],
   "source": [
    "# khaiii\n",
    "for threshold in range(48, 63, 3):\n",
    "    rate_under_lenght_threshold(k_length_hist, threshold)"
   ]
  },
  {
   "cell_type": "code",
   "execution_count": 281,
   "id": "broadband-grant",
   "metadata": {
    "execution": {
     "iopub.execute_input": "2021-04-18T06:56:53.946095Z",
     "iopub.status.busy": "2021-04-18T06:56:53.945830Z",
     "iopub.status.idle": "2021-04-18T06:56:53.950656Z",
     "shell.execute_reply": "2021-04-18T06:56:53.949969Z",
     "shell.execute_reply.started": "2021-04-18T06:56:53.946063Z"
    },
    "tags": []
   },
   "outputs": [
    {
     "name": "stdout",
     "output_type": "stream",
     "text": [
      "rate of sentences 48 or less in length : 0.9318657563858751\n",
      "rate of sentences 51 or less in length : 0.9398010698991668\n",
      "rate of sentences 54 or less in length : 0.9471891204115418\n",
      "rate of sentences 57 or less in length : 0.9538794105977481\n",
      "rate of sentences 60 or less in length : 0.960207139045847\n"
     ]
    }
   ],
   "source": [
    "# mecab\n",
    "for threshold in range(48, 63, 3):\n",
    "    rate_under_lenght_threshold(m_length_hist, threshold)"
   ]
  },
  {
   "cell_type": "markdown",
   "id": "representative-commerce",
   "metadata": {},
   "source": [
    "문장의 최대 길이는 54 정도가 적당해 보인다."
   ]
  },
  {
   "cell_type": "code",
   "execution_count": 22,
   "id": "gross-windows",
   "metadata": {
    "execution": {
     "iopub.execute_input": "2021-04-18T08:32:33.522657Z",
     "iopub.status.busy": "2021-04-18T08:32:33.522495Z",
     "iopub.status.idle": "2021-04-18T08:32:33.524955Z",
     "shell.execute_reply": "2021-04-18T08:32:33.524478Z",
     "shell.execute_reply.started": "2021-04-18T08:32:33.522636Z"
    },
    "tags": []
   },
   "outputs": [],
   "source": [
    "max_length = 54"
   ]
  },
  {
   "cell_type": "markdown",
   "id": "typical-character",
   "metadata": {},
   "source": [
    "#### 3) 패딩추가"
   ]
  },
  {
   "cell_type": "code",
   "execution_count": 23,
   "id": "damaged-borough",
   "metadata": {
    "execution": {
     "iopub.execute_input": "2021-04-18T08:32:33.526531Z",
     "iopub.status.busy": "2021-04-18T08:32:33.526368Z",
     "iopub.status.idle": "2021-04-18T08:32:34.349255Z",
     "shell.execute_reply": "2021-04-18T08:32:34.348642Z",
     "shell.execute_reply.started": "2021-04-18T08:32:33.526510Z"
    },
    "tags": []
   },
   "outputs": [],
   "source": [
    "sp_dataset.X_train = tf.keras.preprocessing.sequence.pad_sequences(\n",
    "    sp_dataset.X_train, padding='pre', maxlen=max_length)\n",
    "\n",
    "sp_dataset.X_test = tf.keras.preprocessing.sequence.pad_sequences(\n",
    "    sp_dataset.X_test, padding='pre', maxlen=max_length)"
   ]
  },
  {
   "cell_type": "code",
   "execution_count": 24,
   "id": "dynamic-monte",
   "metadata": {
    "execution": {
     "iopub.execute_input": "2021-04-18T08:32:34.350379Z",
     "iopub.status.busy": "2021-04-18T08:32:34.350208Z",
     "iopub.status.idle": "2021-04-18T08:32:34.365280Z",
     "shell.execute_reply": "2021-04-18T08:32:34.364607Z",
     "shell.execute_reply.started": "2021-04-18T08:32:34.350356Z"
    },
    "tags": []
   },
   "outputs": [
    {
     "data": {
      "text/plain": [
       "(array([   0,    0,    0,    0,    0,    0,    0,    0,    0,    0,    0,\n",
       "           0,    0,    0,    0,    0,    0,    0,    0,    0,    0,    0,\n",
       "           0,    0,    0,    0,    0,    0,    0,    0,    0,    0,    0,\n",
       "           0,    0,    0,    0,    0,    0,    0,    0,    0,    0,    0,\n",
       "           0,    0,    0,   61,  870,    5,   30, 2025,   66, 1720],\n",
       "       dtype=int32),\n",
       " array([   0,    0,    0,    0,    0,    0,    0,    0,    0,    0,    0,\n",
       "           0,    0,    0,    0,    0,    0,    0,    0,    0,    0,    0,\n",
       "           0,    0,    0,    0,    0,    0,    0,    0,    0,    0,    0,\n",
       "           0,    0,    0,    0,    0,    0,    0,    0,    0,    0,    0,\n",
       "           0,    0,    0,    0,    0,    0,    0,    0, 2643,  275],\n",
       "       dtype=int32))"
      ]
     },
     "execution_count": 24,
     "metadata": {},
     "output_type": "execute_result"
    }
   ],
   "source": [
    "sp_dataset.X_train[0], sp_dataset.X_test[0] "
   ]
  },
  {
   "cell_type": "code",
   "execution_count": 25,
   "id": "union-tracy",
   "metadata": {
    "execution": {
     "iopub.execute_input": "2021-04-18T08:32:34.366249Z",
     "iopub.status.busy": "2021-04-18T08:32:34.366062Z",
     "iopub.status.idle": "2021-04-18T08:32:35.201438Z",
     "shell.execute_reply": "2021-04-18T08:32:35.200820Z",
     "shell.execute_reply.started": "2021-04-18T08:32:34.366224Z"
    },
    "tags": []
   },
   "outputs": [],
   "source": [
    "k_dataset.X_train = tf.keras.preprocessing.sequence.pad_sequences(\n",
    "    k_dataset.X_train, padding='pre', maxlen=max_length)\n",
    "\n",
    "k_dataset.X_test = tf.keras.preprocessing.sequence.pad_sequences(\n",
    "    k_dataset.X_test, padding='pre', maxlen=max_length)"
   ]
  },
  {
   "cell_type": "code",
   "execution_count": 26,
   "id": "pleasant-factory",
   "metadata": {
    "execution": {
     "iopub.execute_input": "2021-04-18T08:32:35.202356Z",
     "iopub.status.busy": "2021-04-18T08:32:35.202192Z",
     "iopub.status.idle": "2021-04-18T08:32:35.206479Z",
     "shell.execute_reply": "2021-04-18T08:32:35.205892Z",
     "shell.execute_reply.started": "2021-04-18T08:32:35.202334Z"
    },
    "tags": []
   },
   "outputs": [
    {
     "data": {
      "text/plain": [
       "(array([   0,    0,    0,    0,    0,    0,    0,    0,    0,    0,    0,\n",
       "           0,    0,    0,    0,    0,    0,    0,    0,    0,    0,    0,\n",
       "           0,    0,    0,    0,    0,    0,    0,    0,    0,    0,    0,\n",
       "           0,    0,    0,    0,    0,    0,    0,    0,    0,    0,    0,\n",
       "           0,   31,   92, 1748,  151,   76,  328, 1988,   82,  779],\n",
       "       dtype=int32),\n",
       " array([   0,    0,    0,    0,    0,    0,    0,    0,    0,    0,    0,\n",
       "           0,    0,    0,    0,    0,    0,    0,    0,    0,    0,    0,\n",
       "           0,    0,    0,    0,    0,    0,    0,    0,    0,    0,    0,\n",
       "           0,    0,    0,    0,    0,    0,    0,    0,    0,    0,    0,\n",
       "           0,    0,    0,    0,    0,    0,    0,    0, 1241,   61],\n",
       "       dtype=int32))"
      ]
     },
     "execution_count": 26,
     "metadata": {},
     "output_type": "execute_result"
    }
   ],
   "source": [
    "k_dataset.X_train[0], k_dataset.X_test[0] "
   ]
  },
  {
   "cell_type": "code",
   "execution_count": 27,
   "id": "compatible-communications",
   "metadata": {
    "execution": {
     "iopub.execute_input": "2021-04-18T08:32:35.207371Z",
     "iopub.status.busy": "2021-04-18T08:32:35.207205Z",
     "iopub.status.idle": "2021-04-18T08:32:36.004597Z",
     "shell.execute_reply": "2021-04-18T08:32:36.004039Z",
     "shell.execute_reply.started": "2021-04-18T08:32:35.207349Z"
    },
    "tags": []
   },
   "outputs": [],
   "source": [
    "m_dataset.X_train = tf.keras.preprocessing.sequence.pad_sequences(\n",
    "    m_dataset.X_train, padding='pre', maxlen=max_length)\n",
    "\n",
    "m_dataset.X_test = tf.keras.preprocessing.sequence.pad_sequences(\n",
    "    m_dataset.X_test, padding='pre', maxlen=max_length)"
   ]
  },
  {
   "cell_type": "code",
   "execution_count": 28,
   "id": "expired-twelve",
   "metadata": {
    "execution": {
     "iopub.execute_input": "2021-04-18T08:32:36.005470Z",
     "iopub.status.busy": "2021-04-18T08:32:36.005308Z",
     "iopub.status.idle": "2021-04-18T08:32:36.009629Z",
     "shell.execute_reply": "2021-04-18T08:32:36.009135Z",
     "shell.execute_reply.started": "2021-04-18T08:32:36.005448Z"
    },
    "tags": []
   },
   "outputs": [
    {
     "data": {
      "text/plain": [
       "(array([  0,   0,   0,   0,   0,   0,   0,   0,   0,   0,   0,   0,   0,\n",
       "          0,   0,   0,   0,   0,   0,   0,   0,   0,   0,   0,   0,   0,\n",
       "          0,   0,   0,   0,   0,   0,   0,   0,   0,   0,   0,   0,   0,\n",
       "          0,   0,   0,   0,   0,  41,  86, 937,   2,   2,  48, 242,  28,\n",
       "         42, 765], dtype=int32),\n",
       " array([  0,   0,   0,   0,   0,   0,   0,   0,   0,   0,   0,   0,   0,\n",
       "          0,   0,   0,   0,   0,   0,   0,   0,   0,   0,   0,   0,   0,\n",
       "          0,   0,   0,   0,   0,   0,   0,   0,   0,   0,   0,   0,   0,\n",
       "          0,   0,   0,   0,   0,   0,   0,   0,   0,   0,   0,   0,   0,\n",
       "        850, 143], dtype=int32))"
      ]
     },
     "execution_count": 28,
     "metadata": {},
     "output_type": "execute_result"
    }
   ],
   "source": [
    "m_dataset.X_train[0], m_dataset.X_test[0] "
   ]
  },
  {
   "cell_type": "markdown",
   "id": "vital-plate",
   "metadata": {},
   "source": [
    "#### 4) validation set 분리"
   ]
  },
  {
   "cell_type": "code",
   "execution_count": 30,
   "id": "searching-complaint",
   "metadata": {
    "execution": {
     "iopub.execute_input": "2021-04-18T08:32:36.282970Z",
     "iopub.status.busy": "2021-04-18T08:32:36.282812Z",
     "iopub.status.idle": "2021-04-18T08:32:36.302647Z",
     "shell.execute_reply": "2021-04-18T08:32:36.302071Z",
     "shell.execute_reply.started": "2021-04-18T08:32:36.282949Z"
    },
    "tags": []
   },
   "outputs": [],
   "source": [
    "sp_dataset.X_train, sp_dataset.X_val, sp_dataset.y_train, sp_dataset.y_val = train_test_split(sp_dataset.X_train, sp_dataset.y_train, test_size=10000, random_state=42)"
   ]
  },
  {
   "cell_type": "code",
   "execution_count": 31,
   "id": "assigned-pearl",
   "metadata": {
    "execution": {
     "iopub.execute_input": "2021-04-18T08:32:36.303582Z",
     "iopub.status.busy": "2021-04-18T08:32:36.303406Z",
     "iopub.status.idle": "2021-04-18T08:32:36.307535Z",
     "shell.execute_reply": "2021-04-18T08:32:36.306963Z",
     "shell.execute_reply.started": "2021-04-18T08:32:36.303558Z"
    },
    "tags": []
   },
   "outputs": [
    {
     "data": {
      "text/plain": [
       "((136182, 54), (10000, 54), (136182,), (10000,))"
      ]
     },
     "execution_count": 31,
     "metadata": {},
     "output_type": "execute_result"
    }
   ],
   "source": [
    "sp_dataset.X_train.shape, sp_dataset.X_val.shape, sp_dataset.y_train.shape, sp_dataset.y_val.shape"
   ]
  },
  {
   "cell_type": "code",
   "execution_count": 32,
   "id": "silent-saturday",
   "metadata": {
    "execution": {
     "iopub.execute_input": "2021-04-18T08:32:36.308408Z",
     "iopub.status.busy": "2021-04-18T08:32:36.308237Z",
     "iopub.status.idle": "2021-04-18T08:32:36.332329Z",
     "shell.execute_reply": "2021-04-18T08:32:36.331352Z",
     "shell.execute_reply.started": "2021-04-18T08:32:36.308385Z"
    },
    "tags": []
   },
   "outputs": [
    {
     "data": {
      "text/plain": [
       "((136182, 54), (10000, 54), (136182,), (10000,))"
      ]
     },
     "execution_count": 32,
     "metadata": {},
     "output_type": "execute_result"
    }
   ],
   "source": [
    "k_dataset.X_train, k_dataset.X_val, k_dataset.y_train, k_dataset.y_val = train_test_split(k_dataset.X_train, k_dataset.y_train, test_size=10000, random_state=42)\n",
    "k_dataset.X_train.shape, k_dataset.X_val.shape, k_dataset.y_train.shape, k_dataset.y_val.shape"
   ]
  },
  {
   "cell_type": "code",
   "execution_count": 33,
   "id": "confidential-clause",
   "metadata": {
    "execution": {
     "iopub.execute_input": "2021-04-18T08:32:36.333955Z",
     "iopub.status.busy": "2021-04-18T08:32:36.333638Z",
     "iopub.status.idle": "2021-04-18T08:32:36.361194Z",
     "shell.execute_reply": "2021-04-18T08:32:36.360352Z",
     "shell.execute_reply.started": "2021-04-18T08:32:36.333910Z"
    },
    "tags": []
   },
   "outputs": [
    {
     "data": {
      "text/plain": [
       "((136182, 54), (10000, 54), (136182,), (10000,))"
      ]
     },
     "execution_count": 33,
     "metadata": {},
     "output_type": "execute_result"
    }
   ],
   "source": [
    "m_dataset.X_train, m_dataset.X_val, m_dataset.y_train, m_dataset.y_val = train_test_split(m_dataset.X_train, m_dataset.y_train, test_size=10000, random_state=42)\n",
    "m_dataset.X_train.shape, m_dataset.X_val.shape, m_dataset.y_train.shape, m_dataset.y_val.shape"
   ]
  },
  {
   "cell_type": "markdown",
   "id": "hydraulic-casino",
   "metadata": {
    "execution": {
     "iopub.execute_input": "2021-04-11T06:31:12.460517Z",
     "iopub.status.busy": "2021-04-11T06:31:12.459910Z",
     "iopub.status.idle": "2021-04-11T06:31:12.467425Z",
     "shell.execute_reply": "2021-04-11T06:31:12.465968Z",
     "shell.execute_reply.started": "2021-04-11T06:31:12.460444Z"
    },
    "tags": []
   },
   "source": [
    "## STEP 5. Sentiment Analysis - 2. 모델 정의\n",
    "---"
   ]
  },
  {
   "cell_type": "code",
   "execution_count": 44,
   "id": "robust-compression",
   "metadata": {
    "execution": {
     "iopub.execute_input": "2021-04-19T10:05:05.870393Z",
     "iopub.status.busy": "2021-04-19T10:05:05.870190Z",
     "iopub.status.idle": "2021-04-19T10:05:05.874902Z",
     "shell.execute_reply": "2021-04-19T10:05:05.874312Z",
     "shell.execute_reply.started": "2021-04-19T10:05:05.870370Z"
    },
    "tags": []
   },
   "outputs": [],
   "source": [
    "def get_model(vocab_size, word_vector_dim=100, units=64):\n",
    "    rnn_model = tf.keras.Sequential()\n",
    "    rnn_model.add(tf.keras.layers.Embedding(vocab_size, word_vector_dim, input_shape=(None,)))\n",
    "    rnn_model.add(tf.keras.layers.LSTM(units))\n",
    "    rnn_model.add(tf.keras.layers.Dense(units, activation='relu'))\n",
    "    rnn_model.add(tf.keras.layers.Dense(1, activation='sigmoid'))\n",
    "\n",
    "    rnn_model.summary()\n",
    "    return rnn_model"
   ]
  },
  {
   "cell_type": "code",
   "execution_count": 46,
   "id": "tough-syria",
   "metadata": {
    "execution": {
     "iopub.execute_input": "2021-04-19T10:05:18.876979Z",
     "iopub.status.busy": "2021-04-19T10:05:18.876732Z",
     "iopub.status.idle": "2021-04-19T10:05:19.533603Z",
     "shell.execute_reply": "2021-04-19T10:05:19.533002Z",
     "shell.execute_reply.started": "2021-04-19T10:05:18.876945Z"
    },
    "tags": []
   },
   "outputs": [
    {
     "name": "stdout",
     "output_type": "stream",
     "text": [
      "Model: \"sequential_1\"\n",
      "_________________________________________________________________\n",
      "Layer (type)                 Output Shape              Param #   \n",
      "=================================================================\n",
      "embedding_1 (Embedding)      (None, None, 100)         1000000   \n",
      "_________________________________________________________________\n",
      "lstm_1 (LSTM)                (None, 128)               117248    \n",
      "_________________________________________________________________\n",
      "dense_2 (Dense)              (None, 128)               16512     \n",
      "_________________________________________________________________\n",
      "dense_3 (Dense)              (None, 1)                 129       \n",
      "=================================================================\n",
      "Total params: 1,133,889\n",
      "Trainable params: 1,133,889\n",
      "Non-trainable params: 0\n",
      "_________________________________________________________________\n",
      "Model: \"sequential_2\"\n",
      "_________________________________________________________________\n",
      "Layer (type)                 Output Shape              Param #   \n",
      "=================================================================\n",
      "embedding_2 (Embedding)      (None, None, 100)         1000000   \n",
      "_________________________________________________________________\n",
      "lstm_2 (LSTM)                (None, 128)               117248    \n",
      "_________________________________________________________________\n",
      "dense_4 (Dense)              (None, 128)               16512     \n",
      "_________________________________________________________________\n",
      "dense_5 (Dense)              (None, 1)                 129       \n",
      "=================================================================\n",
      "Total params: 1,133,889\n",
      "Trainable params: 1,133,889\n",
      "Non-trainable params: 0\n",
      "_________________________________________________________________\n",
      "Model: \"sequential_3\"\n",
      "_________________________________________________________________\n",
      "Layer (type)                 Output Shape              Param #   \n",
      "=================================================================\n",
      "embedding_3 (Embedding)      (None, None, 100)         1000000   \n",
      "_________________________________________________________________\n",
      "lstm_3 (LSTM)                (None, 128)               117248    \n",
      "_________________________________________________________________\n",
      "dense_6 (Dense)              (None, 128)               16512     \n",
      "_________________________________________________________________\n",
      "dense_7 (Dense)              (None, 1)                 129       \n",
      "=================================================================\n",
      "Total params: 1,133,889\n",
      "Trainable params: 1,133,889\n",
      "Non-trainable params: 0\n",
      "_________________________________________________________________\n"
     ]
    }
   ],
   "source": [
    "sp_rnn = get_model(vocab_size, units=128)\n",
    "k_rnn = get_model(vocab_size, units=128)\n",
    "m_rnn = get_model(vocab_size, units=128)"
   ]
  },
  {
   "cell_type": "markdown",
   "id": "sealed-holly",
   "metadata": {},
   "source": [
    "## STEP 6. Sentiment Analysis - 3. 모델 학습\n",
    "---"
   ]
  },
  {
   "cell_type": "markdown",
   "id": "recreational-spice",
   "metadata": {},
   "source": [
    "- 학습 함수 정의"
   ]
  },
  {
   "cell_type": "code",
   "execution_count": 47,
   "id": "judicial-chicago",
   "metadata": {
    "execution": {
     "iopub.execute_input": "2021-04-19T10:05:24.885413Z",
     "iopub.status.busy": "2021-04-19T10:05:24.885068Z",
     "iopub.status.idle": "2021-04-19T10:05:24.889817Z",
     "shell.execute_reply": "2021-04-19T10:05:24.889200Z",
     "shell.execute_reply.started": "2021-04-19T10:05:24.885374Z"
    },
    "tags": []
   },
   "outputs": [],
   "source": [
    "def train(model, X_train, y_train, X_val, y_val, epochs=20):\n",
    "    es = EarlyStopping(monitor='val_loss', mode='min', verbose=1, patience=4)\n",
    "    model.compile(optimizer='adam',\n",
    "                  loss='binary_crossentropy',\n",
    "                  metrics=['accuracy'])\n",
    "    \n",
    "    history = model.fit(X_train, y_train,\n",
    "                        epochs=epochs,\n",
    "                        callbacks=[es],\n",
    "                        batch_size=512,\n",
    "                        validation_data=(X_val, y_val),\n",
    "                        verbose=2)\n",
    "    return history.history"
   ]
  },
  {
   "cell_type": "markdown",
   "id": "written-crystal",
   "metadata": {},
   "source": [
    "- history plot 출력"
   ]
  },
  {
   "cell_type": "code",
   "execution_count": 48,
   "id": "narrative-affiliation",
   "metadata": {
    "execution": {
     "iopub.execute_input": "2021-04-19T10:05:26.468391Z",
     "iopub.status.busy": "2021-04-19T10:05:26.467917Z",
     "iopub.status.idle": "2021-04-19T10:05:26.477353Z",
     "shell.execute_reply": "2021-04-19T10:05:26.476668Z",
     "shell.execute_reply.started": "2021-04-19T10:05:26.468330Z"
    },
    "tags": []
   },
   "outputs": [],
   "source": [
    "def show_history_plot(history):\n",
    "    targets = [['loss', 'val_loss'], ['accuracy', 'val_accuracy']]\n",
    "    labels = [['Training loss', 'Validation loss'], ['Training acc', 'Validation acc']]\n",
    "    titles = ['Training and validation loss','Training and validation accuracy']\n",
    "    colors = ['b', 'r']\n",
    "    \n",
    "    fig, axes = plt.subplots(1, 2, figsize=(10, 4))\n",
    "    \n",
    "    for i, ax in enumerate(axes):\n",
    "        print()\n",
    "        ax.plot(history[targets[i][0]], colors[i] + 'o', label=labels[i][0])\n",
    "        ax.plot(history[targets[i][1]], colors[i], label=labels[i][1])\n",
    "        ax.set_xlabel('Epochs')\n",
    "        ax.set_ylabel('Loss')\n",
    "        ax.set_title(titles[i])\n",
    "        ax.legend()\n",
    "        \n",
    "    plt.tight_layout()\n",
    "    plt.show()"
   ]
  },
  {
   "cell_type": "markdown",
   "id": "discrete-stationery",
   "metadata": {},
   "source": [
    "- 모델 학습 및 학습 결과 출력"
   ]
  },
  {
   "cell_type": "code",
   "execution_count": 90,
   "id": "frequent-discrimination",
   "metadata": {
    "execution": {
     "iopub.execute_input": "2021-04-18T08:57:40.888920Z",
     "iopub.status.busy": "2021-04-18T08:57:40.888695Z",
     "iopub.status.idle": "2021-04-18T08:58:17.854592Z",
     "shell.execute_reply": "2021-04-18T08:58:17.853960Z",
     "shell.execute_reply.started": "2021-04-18T08:57:40.888893Z"
    },
    "tags": []
   },
   "outputs": [
    {
     "name": "stdout",
     "output_type": "stream",
     "text": [
      "Epoch 1/20\n",
      "266/266 - 7s - loss: 0.4061 - accuracy: 0.8137 - val_loss: 0.3376 - val_accuracy: 0.8528\n",
      "Epoch 2/20\n",
      "266/266 - 5s - loss: 0.3110 - accuracy: 0.8668 - val_loss: 0.3308 - val_accuracy: 0.8522\n",
      "Epoch 3/20\n",
      "266/266 - 5s - loss: 0.2788 - accuracy: 0.8798 - val_loss: 0.3236 - val_accuracy: 0.8559\n",
      "Epoch 4/20\n",
      "266/266 - 5s - loss: 0.2460 - accuracy: 0.8944 - val_loss: 0.3294 - val_accuracy: 0.8541\n",
      "Epoch 5/20\n",
      "266/266 - 5s - loss: 0.2167 - accuracy: 0.9076 - val_loss: 0.3519 - val_accuracy: 0.8534\n",
      "Epoch 6/20\n",
      "266/266 - 5s - loss: 0.1887 - accuracy: 0.9198 - val_loss: 0.3861 - val_accuracy: 0.8515\n",
      "Epoch 7/20\n",
      "266/266 - 5s - loss: 0.1619 - accuracy: 0.9321 - val_loss: 0.4418 - val_accuracy: 0.8489\n",
      "Epoch 00007: early stopping\n",
      "\n",
      "\n"
     ]
    },
    {
     "data": {
      "image/png": "[encoded data removed]",
      "text/plain": [
       "<Figure size 720x288 with 2 Axes>"
      ]
     },
     "metadata": {
      "needs_background": "light"
     },
     "output_type": "display_data"
    }
   ],
   "source": [
    "sp_history = train(sp_rnn, sp_dataset.X_train, sp_dataset.y_train,\n",
    "                   sp_dataset.X_val, sp_dataset.y_val)\n",
    "show_history_plot(sp_history)"
   ]
  },
  {
   "cell_type": "code",
   "execution_count": 91,
   "id": "controversial-spencer",
   "metadata": {
    "execution": {
     "iopub.execute_input": "2021-04-18T08:58:17.855686Z",
     "iopub.status.busy": "2021-04-18T08:58:17.855479Z",
     "iopub.status.idle": "2021-04-18T08:58:56.993291Z",
     "shell.execute_reply": "2021-04-18T08:58:56.992663Z",
     "shell.execute_reply.started": "2021-04-18T08:58:17.855663Z"
    },
    "tags": []
   },
   "outputs": [
    {
     "name": "stdout",
     "output_type": "stream",
     "text": [
      "Epoch 1/20\n",
      "266/266 - 7s - loss: 0.4305 - accuracy: 0.7959 - val_loss: 0.3593 - val_accuracy: 0.8409\n",
      "Epoch 2/20\n",
      "266/266 - 6s - loss: 0.3429 - accuracy: 0.8476 - val_loss: 0.3509 - val_accuracy: 0.8447\n",
      "Epoch 3/20\n",
      "266/266 - 5s - loss: 0.3099 - accuracy: 0.8625 - val_loss: 0.3402 - val_accuracy: 0.8499\n",
      "Epoch 4/20\n",
      "266/266 - 5s - loss: 0.2841 - accuracy: 0.8753 - val_loss: 0.3502 - val_accuracy: 0.8506\n",
      "Epoch 5/20\n",
      "266/266 - 5s - loss: 0.2594 - accuracy: 0.8863 - val_loss: 0.3770 - val_accuracy: 0.8508\n",
      "Epoch 6/20\n",
      "266/266 - 5s - loss: 0.2389 - accuracy: 0.8965 - val_loss: 0.3750 - val_accuracy: 0.8458\n",
      "Epoch 7/20\n",
      "266/266 - 5s - loss: 0.2193 - accuracy: 0.9065 - val_loss: 0.3987 - val_accuracy: 0.8445\n",
      "Epoch 00007: early stopping\n",
      "\n",
      "\n"
     ]
    },
    {
     "data": {
      "image/png": "[encoded data removed]",
      "text/plain": [
       "<Figure size 720x288 with 2 Axes>"
      ]
     },
     "metadata": {
      "needs_background": "light"
     },
     "output_type": "display_data"
    }
   ],
   "source": [
    "k_history = train(k_rnn, k_dataset.X_train, k_dataset.y_train,\n",
    "                  k_dataset.X_val, k_dataset.y_val)\n",
    "show_history_plot(k_history)"
   ]
  },
  {
   "cell_type": "code",
   "execution_count": 92,
   "id": "comic-reporter",
   "metadata": {
    "execution": {
     "iopub.execute_input": "2021-04-18T08:58:56.994371Z",
     "iopub.status.busy": "2021-04-18T08:58:56.994192Z",
     "iopub.status.idle": "2021-04-18T08:59:34.067938Z",
     "shell.execute_reply": "2021-04-18T08:59:34.067245Z",
     "shell.execute_reply.started": "2021-04-18T08:58:56.994349Z"
    },
    "tags": []
   },
   "outputs": [
    {
     "name": "stdout",
     "output_type": "stream",
     "text": [
      "Epoch 1/20\n",
      "266/266 - 7s - loss: 0.4058 - accuracy: 0.8115 - val_loss: 0.3396 - val_accuracy: 0.8563\n",
      "Epoch 2/20\n",
      "266/266 - 5s - loss: 0.3180 - accuracy: 0.8641 - val_loss: 0.3271 - val_accuracy: 0.8584\n",
      "Epoch 3/20\n",
      "266/266 - 5s - loss: 0.2858 - accuracy: 0.8775 - val_loss: 0.3128 - val_accuracy: 0.8651\n",
      "Epoch 4/20\n",
      "266/266 - 5s - loss: 0.2545 - accuracy: 0.8935 - val_loss: 0.3179 - val_accuracy: 0.8658\n",
      "Epoch 5/20\n",
      "266/266 - 5s - loss: 0.2275 - accuracy: 0.9058 - val_loss: 0.3371 - val_accuracy: 0.8597\n",
      "Epoch 6/20\n",
      "266/266 - 5s - loss: 0.2025 - accuracy: 0.9168 - val_loss: 0.3487 - val_accuracy: 0.8578\n",
      "Epoch 7/20\n",
      "266/266 - 5s - loss: 0.1794 - accuracy: 0.9280 - val_loss: 0.3834 - val_accuracy: 0.8601\n",
      "Epoch 00007: early stopping\n",
      "\n",
      "\n"
     ]
    },
    {
     "data": {
      "image/png": "[encoded data removed]",
      "text/plain": [
       "<Figure size 720x288 with 2 Axes>"
      ]
     },
     "metadata": {
      "needs_background": "light"
     },
     "output_type": "display_data"
    }
   ],
   "source": [
    "m_history = train(m_rnn, m_dataset.X_train, m_dataset.y_train,\n",
    "                  m_dataset.X_val, m_dataset.y_val)\n",
    "show_history_plot(m_history)"
   ]
  },
  {
   "cell_type": "markdown",
   "id": "concrete-housing",
   "metadata": {},
   "source": [
    "## STEP 7. Sentiment Analysis - 4. 모델 평가\n",
    "---"
   ]
  },
  {
   "cell_type": "markdown",
   "id": "civic-positive",
   "metadata": {},
   "source": [
    "### 1. 테스트셋으로 모델 평가"
   ]
  },
  {
   "cell_type": "code",
   "execution_count": 94,
   "id": "subtle-female",
   "metadata": {
    "execution": {
     "iopub.execute_input": "2021-04-18T09:04:05.470035Z",
     "iopub.status.busy": "2021-04-18T09:04:05.469776Z",
     "iopub.status.idle": "2021-04-18T09:04:12.750479Z",
     "shell.execute_reply": "2021-04-18T09:04:12.750017Z",
     "shell.execute_reply.started": "2021-04-18T09:04:05.470009Z"
    }
   },
   "outputs": [
    {
     "name": "stdout",
     "output_type": "stream",
     "text": [
      "1537/1537 - 3s - loss: 0.4654 - accuracy: 0.8429\n",
      "1537/1537 - 2s - loss: 0.4120 - accuracy: 0.8396\n",
      "1537/1537 - 2s - loss: 0.3897 - accuracy: 0.8571\n"
     ]
    }
   ],
   "source": [
    "X_test_list = [sp_dataset.X_test, k_dataset.X_test, m_dataset.X_test]\n",
    "y_test_list = [sp_dataset.y_test, k_dataset.y_test, m_dataset.y_test]\n",
    "models = [sp_rnn, k_rnn, m_rnn]\n",
    "\n",
    "evaluation_res = [ models[i].evaluate(X_test_list[i],\n",
    "                                      y_test_list[i],\n",
    "                                      verbose=2) for i in range(3)]\n",
    "df = pd.DataFrame(evaluation_res, \n",
    "                  index=['sp', 'khaiii', 'mecab'],\n",
    "                  columns=['loss', 'accuracy'])"
   ]
  },
  {
   "cell_type": "code",
   "execution_count": 95,
   "id": "exclusive-fifteen",
   "metadata": {
    "execution": {
     "iopub.execute_input": "2021-04-18T09:04:12.751430Z",
     "iopub.status.busy": "2021-04-18T09:04:12.751273Z",
     "iopub.status.idle": "2021-04-18T09:04:12.757718Z",
     "shell.execute_reply": "2021-04-18T09:04:12.757201Z",
     "shell.execute_reply.started": "2021-04-18T09:04:12.751408Z"
    }
   },
   "outputs": [
    {
     "data": {
      "text/html": [
       "<div>\n",
       "<style scoped>\n",
       "    .dataframe tbody tr th:only-of-type {\n",
       "        vertical-align: middle;\n",
       "    }\n",
       "\n",
       "    .dataframe tbody tr th {\n",
       "        vertical-align: top;\n",
       "    }\n",
       "\n",
       "    .dataframe thead th {\n",
       "        text-align: right;\n",
       "    }\n",
       "</style>\n",
       "<table border=\"1\" class=\"dataframe\">\n",
       "  <thead>\n",
       "    <tr style=\"text-align: right;\">\n",
       "      <th></th>\n",
       "      <th>loss</th>\n",
       "      <th>accuracy</th>\n",
       "    </tr>\n",
       "  </thead>\n",
       "  <tbody>\n",
       "    <tr>\n",
       "      <th>sp</th>\n",
       "      <td>0.465422</td>\n",
       "      <td>0.842891</td>\n",
       "    </tr>\n",
       "    <tr>\n",
       "      <th>khaiii</th>\n",
       "      <td>0.411993</td>\n",
       "      <td>0.839616</td>\n",
       "    </tr>\n",
       "    <tr>\n",
       "      <th>mecab</th>\n",
       "      <td>0.389723</td>\n",
       "      <td>0.857111</td>\n",
       "    </tr>\n",
       "  </tbody>\n",
       "</table>\n",
       "</div>"
      ],
      "text/plain": [
       "            loss  accuracy\n",
       "sp      0.465422  0.842891\n",
       "khaiii  0.411993  0.839616\n",
       "mecab   0.389723  0.857111"
      ]
     },
     "execution_count": 95,
     "metadata": {},
     "output_type": "execute_result"
    }
   ],
   "source": [
    "df"
   ]
  },
  {
   "cell_type": "markdown",
   "id": "expected-appeal",
   "metadata": {},
   "source": [
    "모든 경우에 accuary 80%가 넘는 준수한 결과를 보였다.\n",
    "\n",
    "지표에 따라 순위를 매겨 보면 아래와 같다.\n",
    "- loss : Mecab > Khaiii > SentencePiece\n",
    "- accuray : Mecab > Khaiii > SentencePiece\n",
    "\n",
    "loss와 accuracy에서 모두 Mecab가 가장 좋은 성능을 보였다."
   ]
  },
  {
   "cell_type": "markdown",
   "id": "designed-sunrise",
   "metadata": {},
   "source": [
    "### 2. 임의의 문장을 통한 평가\n",
    "최근 개봉한 영화 서복의 관람평을 이용하여 각 모델의 성능을 확인해 보자."
   ]
  },
  {
   "cell_type": "code",
   "execution_count": 144,
   "id": "proved-attribute",
   "metadata": {
    "execution": {
     "iopub.execute_input": "2021-04-18T09:38:05.379735Z",
     "iopub.status.busy": "2021-04-18T09:38:05.379451Z",
     "iopub.status.idle": "2021-04-18T09:38:05.383449Z",
     "shell.execute_reply": "2021-04-18T09:38:05.382545Z",
     "shell.execute_reply.started": "2021-04-18T09:38:05.379702Z"
    },
    "tags": []
   },
   "outputs": [],
   "source": [
    "reviews = [ \"삶이란 무엇인지, 죽음이란 무엇인지영화를 보고 나서도 계속 생각하게 만드는 여운이 있는 영화.\", \n",
    " \"생각이 많아지는 영화였어요.배우들 연기도 몰입도 높았고잔잔하면서 강한 ost 좋았어요.티비로도 봐야겠어요.\", \n",
    " \"할 말이 없는 영화.헛웃음도 안나옴\", \n",
    " \"별점을 안줄수 없어서 1점요 감동도 없고 뻔한 내용을 엄청 재미없게 풀어내네요 감독이문제인가요?\"]"
   ]
  },
  {
   "cell_type": "code",
   "execution_count": 138,
   "id": "minus-falls",
   "metadata": {
    "execution": {
     "iopub.execute_input": "2021-04-18T09:34:44.791813Z",
     "iopub.status.busy": "2021-04-18T09:34:44.791586Z",
     "iopub.status.idle": "2021-04-18T09:34:44.796230Z",
     "shell.execute_reply": "2021-04-18T09:34:44.795545Z",
     "shell.execute_reply.started": "2021-04-18T09:34:44.791787Z"
    },
    "tags": []
   },
   "outputs": [],
   "source": [
    "def test_review(review, sp_tokenizer, k_tokenizer, m_tokenizer,\n",
    "                sp_rnn, k_rnn, m_rnn):\n",
    "    encoded_sp = sp_tokenizer.encode(review)\n",
    "    encoded_k = k_tokenizer.encode(review)\n",
    "    encoded_m = m_tokenizer.encode(review)\n",
    "    \n",
    "    print(f'review : {review}')\n",
    "    print(f'result - sp    : {sp_rnn.predict([encoded_sp])[0][0]}')\n",
    "    print(f'result - khaiii: {k_rnn.predict([encoded_k])[0][0]}')\n",
    "    print(f'result - mecab : {m_rnn.predict([encoded_m])[0][0]}')"
   ]
  },
  {
   "cell_type": "code",
   "execution_count": 145,
   "id": "boring-tiger",
   "metadata": {
    "execution": {
     "iopub.execute_input": "2021-04-18T09:38:21.658233Z",
     "iopub.status.busy": "2021-04-18T09:38:21.657893Z",
     "iopub.status.idle": "2021-04-18T09:38:22.159792Z",
     "shell.execute_reply": "2021-04-18T09:38:22.159223Z",
     "shell.execute_reply.started": "2021-04-18T09:38:21.658193Z"
    },
    "tags": []
   },
   "outputs": [
    {
     "name": "stdout",
     "output_type": "stream",
     "text": [
      "review : 삶이란 무엇인지, 죽음이란 무엇인지영화를 보고 나서도 계속 생각하게 만드는 여운이 있는 영화.\n",
      "result - sp    : 0.9999606609344482\n",
      "result - khaiii: 0.9991567134857178\n",
      "result - mecab : 0.9995036125183105\n",
      "\n",
      "review : 생각이 많아지는 영화였어요.배우들 연기도 몰입도 높았고잔잔하면서 강한 ost 좋았어요.티비로도 봐야겠어요.\n",
      "result - sp    : 0.9999979734420776\n",
      "result - khaiii: 0.9985951781272888\n",
      "result - mecab : 0.9900805354118347\n",
      "\n",
      "review : 할 말이 없는 영화.헛웃음도 안나옴\n",
      "result - sp    : 0.0014049607561901212\n",
      "result - khaiii: 0.0009561166516505182\n",
      "result - mecab : 9.902705642161891e-05\n",
      "\n",
      "review : 별점을 안줄수 없어서 1점요 감동도 없고 뻔한 내용을 엄청 재미없게 풀어내네요 감독이문제인가요?\n",
      "result - sp    : 0.01629416085779667\n",
      "result - khaiii: 0.0027915318496525288\n",
      "result - mecab : 0.0014639663277193904\n",
      "\n"
     ]
    }
   ],
   "source": [
    "for review in reviews:\n",
    "    test_review(review, sp_tokenizer, k_tokenizer, m_tokenizer,\n",
    "                sp_rnn, k_rnn, m_rnn)\n",
    "    print()"
   ]
  },
  {
   "cell_type": "markdown",
   "id": "opening-bridge",
   "metadata": {},
   "source": [
    "첫번째와 두번째 관람평은 긍정적인 내용으로 model의 predict 결과가 1에 가깝게 나와야 하며, 세번째와 네번째 관람평은 부정적인 내용이므로 예측 결과가 0에 가깝게 나와야한다.\n",
    "\n",
    "실험 결과 모든 모델에서 목표값과 유사한 예측결과를 얻었고, 이를 통해 모델 학습이 정상적으로 이루어졌음을 알 수 있었다."
   ]
  },
  {
   "cell_type": "markdown",
   "id": "understood-improvement",
   "metadata": {},
   "source": [
    "### 3. 결론"
   ]
  },
  {
   "cell_type": "markdown",
   "id": "collectible-cooperation",
   "metadata": {},
   "source": [
    "세가지(SentencePiece-unigram, Mecab, Khaiii)의 Tokenizer를 이용하여 동일한 데이터를 토큰화하여 동일한 모델의 학습 데이터로 사용하였다. 그 결과 형태소 분석기인 Mecab가 가장 좋은 성능을 보임을 확인할 수 있었다. \n",
    "\n",
    "하지만, 성능의 차이가 그렇게 크지 않으므로 oov 문제가 많이 예상되는 경우 혹은 기타 다른 상황에서 SentencePiece 역시 좋은 방법론이 될 수 있을 것이라 본다."
   ]
  },
  {
   "cell_type": "markdown",
   "id": "aquatic-questionnaire",
   "metadata": {},
   "source": [
    "## STEP 8. 추가실험\n",
    "---"
   ]
  },
  {
   "cell_type": "markdown",
   "id": "recreational-oregon",
   "metadata": {},
   "source": [
    "### 1. model type"
   ]
  },
  {
   "cell_type": "code",
   "execution_count": 19,
   "id": "virtual-tongue",
   "metadata": {
    "execution": {
     "iopub.execute_input": "2021-04-19T09:45:32.351879Z",
     "iopub.status.busy": "2021-04-19T09:45:32.351651Z",
     "iopub.status.idle": "2021-04-19T09:45:32.357184Z",
     "shell.execute_reply": "2021-04-19T09:45:32.356540Z",
     "shell.execute_reply.started": "2021-04-19T09:45:32.351853Z"
    }
   },
   "outputs": [],
   "source": [
    "def load_data_with_sp(train_data, test_data, model_type='unigram', num_words=10000):\n",
    "    # 1. 중복 제거\n",
    "    train_data.drop_duplicates(subset=['document'], inplace=True)\n",
    "    test_data.drop_duplicates(subset=['document'], inplace=True)\n",
    "    \n",
    "    # 2. 결측치 제거\n",
    "    train_data = train_data.dropna(how = 'any')\n",
    "    test_data = test_data.dropna(how = 'any')\n",
    "    \n",
    "    # 3. 토큰화\n",
    "    tokenizer = SPTockenizer()\n",
    "    X_train, word_index, index_word = tokenizer.tokenize(train_data['document'].to_list(), \n",
    "                                                         model_type=model_type,\n",
    "                                                         vocab_size=num_words)\n",
    "    X_test = [ tokenizer.encode(sen) for sen in test_data['document'].to_list() ]\n",
    "\n",
    "    return X_train, np.array(list(train_data['label'])), X_test, np.array(list(test_data['label'])), tokenizer"
   ]
  },
  {
   "cell_type": "markdown",
   "id": "static-drill",
   "metadata": {},
   "source": [
    "#### 1) unigram"
   ]
  },
  {
   "cell_type": "markdown",
   "id": "varied-woman",
   "metadata": {},
   "source": [
    "- 토큰화"
   ]
  },
  {
   "cell_type": "code",
   "execution_count": 20,
   "id": "naval-number",
   "metadata": {
    "execution": {
     "iopub.execute_input": "2021-04-19T09:47:48.950888Z",
     "iopub.status.busy": "2021-04-19T09:47:48.950595Z",
     "iopub.status.idle": "2021-04-19T09:48:10.097209Z",
     "shell.execute_reply": "2021-04-19T09:48:10.096541Z",
     "shell.execute_reply.started": "2021-04-19T09:47:48.950853Z"
    }
   },
   "outputs": [],
   "source": [
    "X_train, y_train, X_test, y_test, sp_tokenizer = load_data_with_sp(train_data,\n",
    "                                                                   test_data)\n",
    "unigram_dataset = Dataset(X_train, y_train, X_test, y_test, sp_tokenizer)"
   ]
  },
  {
   "cell_type": "code",
   "execution_count": 31,
   "id": "changed-addiction",
   "metadata": {
    "execution": {
     "iopub.execute_input": "2021-04-19T09:55:16.647653Z",
     "iopub.status.busy": "2021-04-19T09:55:16.647405Z",
     "iopub.status.idle": "2021-04-19T09:55:16.654308Z",
     "shell.execute_reply": "2021-04-19T09:55:16.653569Z",
     "shell.execute_reply.started": "2021-04-19T09:55:16.647624Z"
    },
    "tags": []
   },
   "outputs": [
    {
     "name": "stdout",
     "output_type": "stream",
     "text": [
      "X_train[0] : [1667, 8, 4968, 158, 1481, 33, 273, 58, 180, 530, 397, 1222, 7602, 755, 440]\n",
      "X_train[0] - raw : 흠...포스터보고 초딩영화줄....오버연기조차 가볍지 않구나\n",
      "X_train[0] - decoding : 흠...포스터보고 초딩영화줄....오버연기조차 가볍지 않구나\n",
      " >> id[1667] : ▁흠\n",
      " >> id[8] : ...\n",
      " >> id[4968] : 포스터\n",
      " >> id[158] : 보고\n",
      " >> id[1481] : ▁초딩\n",
      " >> id[33] : 영화\n",
      " >> id[273] : 줄\n",
      " >> id[58] : ....\n",
      " >> id[180] : 오\n",
      " >> id[530] : 버\n",
      " >> id[397] : 연기\n",
      " >> id[1222] : 조차\n",
      " >> id[7602] : ▁가볍지\n",
      " >> id[755] : ▁않\n",
      " >> id[440] : 구나\n"
     ]
    }
   ],
   "source": [
    "print(f'X_train[0] : {unigram_dataset.X_train[1]}')\n",
    "print(f'X_train[0] - raw : {train_data.iloc[1][\"document\"]}')\n",
    "print(f'X_train[0] - decoding : {unigram_dataset.tokenizer.decode(unigram_dataset.X_train[1])}')\n",
    "for i in unigram_dataset.X_train[1]:\n",
    "    print(f' >> id[{i}] : {unigram_dataset.tokenizer.index_word[i]}')"
   ]
  },
  {
   "cell_type": "markdown",
   "id": "prime-rebate",
   "metadata": {},
   "source": [
    "- 문장 길이 지정"
   ]
  },
  {
   "cell_type": "code",
   "execution_count": 38,
   "id": "subtle-population",
   "metadata": {
    "execution": {
     "iopub.execute_input": "2021-04-19T10:01:31.356010Z",
     "iopub.status.busy": "2021-04-19T10:01:31.355767Z",
     "iopub.status.idle": "2021-04-19T10:01:32.278823Z",
     "shell.execute_reply": "2021-04-19T10:01:32.278269Z",
     "shell.execute_reply.started": "2021-04-19T10:01:31.355982Z"
    },
    "tags": []
   },
   "outputs": [
    {
     "name": "stdout",
     "output_type": "stream",
     "text": [
      "min sentence length : 1\n",
      "max sentence length : 132\n",
      "avg sentence length : 16\n"
     ]
    },
    {
     "data": {
      "image/png": "[encoded data removed]",
      "text/plain": [
       "<Figure size 720x360 with 2 Axes>"
      ]
     },
     "metadata": {
      "needs_background": "light"
     },
     "output_type": "display_data"
    },
    {
     "name": "stdout",
     "output_type": "stream",
     "text": [
      "rate of sentences 45 or less in length : 0.9387133846848449\n",
      "rate of sentences 47 or less in length : 0.9438166121683929\n",
      "rate of sentences 49 or less in length : 0.9490771777647042\n",
      "rate of sentences 51 or less in length : 0.9541940868232751\n",
      "rate of sentences 53 or less in length : 0.9586200763431886\n"
     ]
    }
   ],
   "source": [
    "unigram_length_hist = check_sentence_len_distribution(unigram_dataset.X_train)\n",
    "\n",
    "for threshold in range(45, 55, 2):\n",
    "    rate_under_lenght_threshold(unigram_length_hist, threshold)"
   ]
  },
  {
   "cell_type": "code",
   "execution_count": 39,
   "id": "radical-consultancy",
   "metadata": {
    "execution": {
     "iopub.execute_input": "2021-04-19T10:01:51.286543Z",
     "iopub.status.busy": "2021-04-19T10:01:51.286342Z",
     "iopub.status.idle": "2021-04-19T10:01:51.289194Z",
     "shell.execute_reply": "2021-04-19T10:01:51.288615Z",
     "shell.execute_reply.started": "2021-04-19T10:01:51.286519Z"
    }
   },
   "outputs": [],
   "source": [
    "unigram_max_length = 50"
   ]
  },
  {
   "cell_type": "markdown",
   "id": "earned-anaheim",
   "metadata": {},
   "source": [
    "- 패딩 추가"
   ]
  },
  {
   "cell_type": "code",
   "execution_count": 40,
   "id": "dried-detail",
   "metadata": {
    "execution": {
     "iopub.execute_input": "2021-04-19T10:02:24.241862Z",
     "iopub.status.busy": "2021-04-19T10:02:24.241656Z",
     "iopub.status.idle": "2021-04-19T10:02:25.017146Z",
     "shell.execute_reply": "2021-04-19T10:02:25.016536Z",
     "shell.execute_reply.started": "2021-04-19T10:02:24.241838Z"
    }
   },
   "outputs": [],
   "source": [
    "unigram_dataset.X_train = tf.keras.preprocessing.sequence.pad_sequences(\n",
    "    unigram_dataset.X_train, padding='pre', maxlen=unigram_max_length)\n",
    "\n",
    "unigram_dataset.X_test = tf.keras.preprocessing.sequence.pad_sequences(\n",
    "    unigram_dataset.X_test, padding='pre', maxlen=unigram_max_length)"
   ]
  },
  {
   "cell_type": "code",
   "execution_count": 41,
   "id": "metallic-darwin",
   "metadata": {
    "execution": {
     "iopub.execute_input": "2021-04-19T10:02:36.957030Z",
     "iopub.status.busy": "2021-04-19T10:02:36.956773Z",
     "iopub.status.idle": "2021-04-19T10:02:36.971756Z",
     "shell.execute_reply": "2021-04-19T10:02:36.971231Z",
     "shell.execute_reply.started": "2021-04-19T10:02:36.957005Z"
    }
   },
   "outputs": [
    {
     "data": {
      "text/plain": [
       "(array([   0,    0,    0,    0,    0,    0,    0,    0,    0,    0,    0,\n",
       "           0,    0,    0,    0,    0,    0,    0,    0,    0,    0,    0,\n",
       "           0,    0,    0,    0,    0,    0,    0,    0,    0,    0,    0,\n",
       "           0,    0,    0,    0,    0,    0,    0,    0,    0,    0,   61,\n",
       "         870,    5,   30, 2025,   66, 1720], dtype=int32),\n",
       " array([   0,    0,    0,    0,    0,    0,    0,    0,    0,    0,    0,\n",
       "           0,    0,    0,    0,    0,    0,    0,    0,    0,    0,    0,\n",
       "           0,    0,    0,    0,    0,    0,    0,    0,    0,    0,    0,\n",
       "           0,    0,    0,    0,    0,    0,    0,    0,    0,    0,    0,\n",
       "           0,    0,    0,    0, 2643,  275], dtype=int32))"
      ]
     },
     "execution_count": 41,
     "metadata": {},
     "output_type": "execute_result"
    }
   ],
   "source": [
    "unigram_dataset.X_train[0], unigram_dataset.X_test[0] "
   ]
  },
  {
   "cell_type": "markdown",
   "id": "eligible-scope",
   "metadata": {},
   "source": [
    "- validation set 분리"
   ]
  },
  {
   "cell_type": "code",
   "execution_count": 42,
   "id": "stainless-community",
   "metadata": {
    "execution": {
     "iopub.execute_input": "2021-04-19T10:03:32.171507Z",
     "iopub.status.busy": "2021-04-19T10:03:32.171300Z",
     "iopub.status.idle": "2021-04-19T10:03:32.190679Z",
     "shell.execute_reply": "2021-04-19T10:03:32.190181Z",
     "shell.execute_reply.started": "2021-04-19T10:03:32.171484Z"
    }
   },
   "outputs": [
    {
     "data": {
      "text/plain": [
       "((136182, 50), (10000, 50), (136182,), (10000,))"
      ]
     },
     "execution_count": 42,
     "metadata": {},
     "output_type": "execute_result"
    }
   ],
   "source": [
    "unigram_dataset.X_train, unigram_dataset.X_val, unigram_dataset.y_train, unigram_dataset.y_val = train_test_split(unigram_dataset.X_train, unigram_dataset.y_train, test_size=10000, random_state=42)\n",
    "unigram_dataset.X_train.shape, unigram_dataset.X_val.shape, unigram_dataset.y_train.shape, unigram_dataset.y_val.shape"
   ]
  },
  {
   "cell_type": "markdown",
   "id": "million-gazette",
   "metadata": {},
   "source": [
    "- 모델 정의"
   ]
  },
  {
   "cell_type": "code",
   "execution_count": 49,
   "id": "piano-decade",
   "metadata": {
    "execution": {
     "iopub.execute_input": "2021-04-19T10:05:50.690821Z",
     "iopub.status.busy": "2021-04-19T10:05:50.690576Z",
     "iopub.status.idle": "2021-04-19T10:05:50.915269Z",
     "shell.execute_reply": "2021-04-19T10:05:50.914710Z",
     "shell.execute_reply.started": "2021-04-19T10:05:50.690778Z"
    }
   },
   "outputs": [
    {
     "name": "stdout",
     "output_type": "stream",
     "text": [
      "Model: \"sequential_4\"\n",
      "_________________________________________________________________\n",
      "Layer (type)                 Output Shape              Param #   \n",
      "=================================================================\n",
      "embedding_4 (Embedding)      (None, None, 100)         1000000   \n",
      "_________________________________________________________________\n",
      "lstm_4 (LSTM)                (None, 128)               117248    \n",
      "_________________________________________________________________\n",
      "dense_8 (Dense)              (None, 128)               16512     \n",
      "_________________________________________________________________\n",
      "dense_9 (Dense)              (None, 1)                 129       \n",
      "=================================================================\n",
      "Total params: 1,133,889\n",
      "Trainable params: 1,133,889\n",
      "Non-trainable params: 0\n",
      "_________________________________________________________________\n"
     ]
    }
   ],
   "source": [
    "unigram_rnn = get_model(vocab_size, units=128)"
   ]
  },
  {
   "cell_type": "markdown",
   "id": "special-trace",
   "metadata": {},
   "source": [
    "- 모델 학습"
   ]
  },
  {
   "cell_type": "code",
   "execution_count": 50,
   "id": "proud-commander",
   "metadata": {
    "execution": {
     "iopub.execute_input": "2021-04-19T10:07:03.753628Z",
     "iopub.status.busy": "2021-04-19T10:07:03.753399Z",
     "iopub.status.idle": "2021-04-19T10:07:45.284349Z",
     "shell.execute_reply": "2021-04-19T10:07:45.283664Z",
     "shell.execute_reply.started": "2021-04-19T10:07:03.753602Z"
    }
   },
   "outputs": [
    {
     "name": "stdout",
     "output_type": "stream",
     "text": [
      "Epoch 1/20\n",
      "266/266 - 9s - loss: 0.4107 - accuracy: 0.8082 - val_loss: 0.3417 - val_accuracy: 0.8495\n",
      "Epoch 2/20\n",
      "266/266 - 6s - loss: 0.3129 - accuracy: 0.8651 - val_loss: 0.3263 - val_accuracy: 0.8578\n",
      "Epoch 3/20\n",
      "266/266 - 5s - loss: 0.2798 - accuracy: 0.8793 - val_loss: 0.3228 - val_accuracy: 0.8585\n",
      "Epoch 4/20\n",
      "266/266 - 5s - loss: 0.2466 - accuracy: 0.8938 - val_loss: 0.3474 - val_accuracy: 0.8557\n",
      "Epoch 5/20\n",
      "266/266 - 5s - loss: 0.2171 - accuracy: 0.9080 - val_loss: 0.3591 - val_accuracy: 0.8511\n",
      "Epoch 6/20\n",
      "266/266 - 5s - loss: 0.1926 - accuracy: 0.9195 - val_loss: 0.3786 - val_accuracy: 0.8464\n",
      "Epoch 7/20\n",
      "266/266 - 5s - loss: 0.1669 - accuracy: 0.9308 - val_loss: 0.4395 - val_accuracy: 0.8459\n",
      "Epoch 00007: early stopping\n",
      "\n",
      "\n"
     ]
    },
    {
     "data": {
      "image/png": "[encoded data removed]",
      "text/plain": [
       "<Figure size 720x288 with 2 Axes>"
      ]
     },
     "metadata": {
      "needs_background": "light"
     },
     "output_type": "display_data"
    }
   ],
   "source": [
    "unigram_history = train(unigram_rnn,\n",
    "                        unigram_dataset.X_train,\n",
    "                        unigram_dataset.y_train,\n",
    "                        unigram_dataset.X_val, \n",
    "                        unigram_dataset.y_val)\n",
    "show_history_plot(unigram_history)"
   ]
  },
  {
   "cell_type": "markdown",
   "id": "congressional-worship",
   "metadata": {},
   "source": [
    "#### 2) bpe"
   ]
  },
  {
   "cell_type": "markdown",
   "id": "practical-praise",
   "metadata": {},
   "source": [
    "- 토큰화"
   ]
  },
  {
   "cell_type": "code",
   "execution_count": 21,
   "id": "virtual-uruguay",
   "metadata": {
    "execution": {
     "iopub.execute_input": "2021-04-19T09:48:12.071336Z",
     "iopub.status.busy": "2021-04-19T09:48:12.071123Z",
     "iopub.status.idle": "2021-04-19T09:48:36.652190Z",
     "shell.execute_reply": "2021-04-19T09:48:36.651656Z",
     "shell.execute_reply.started": "2021-04-19T09:48:12.071313Z"
    },
    "tags": []
   },
   "outputs": [],
   "source": [
    "X_train, y_train, X_test, y_test, sp_tokenizer = load_data_with_sp(train_data,\n",
    "                                                                   test_data,\n",
    "                                                                   model_type='bpe')\n",
    "bpe_dataset = Dataset(X_train, y_train, X_test, y_test, sp_tokenizer)"
   ]
  },
  {
   "cell_type": "code",
   "execution_count": 32,
   "id": "accessory-pottery",
   "metadata": {
    "execution": {
     "iopub.execute_input": "2021-04-19T09:55:33.478531Z",
     "iopub.status.busy": "2021-04-19T09:55:33.478291Z",
     "iopub.status.idle": "2021-04-19T09:55:33.486451Z",
     "shell.execute_reply": "2021-04-19T09:55:33.485565Z",
     "shell.execute_reply.started": "2021-04-19T09:55:33.478503Z"
    },
    "tags": []
   },
   "outputs": [
    {
     "name": "stdout",
     "output_type": "stream",
     "text": [
      "X_train[0] : [1614, 8, 4970, 162, 1290, 4, 8506, 47, 8361, 8473, 268, 1703, 1909, 8293, 66, 404]\n",
      "X_train[0] - raw : 흠...포스터보고 초딩영화줄....오버연기조차 가볍지 않구나\n",
      "X_train[0] - decoding : 흠...포스터보고 초딩영화줄....오버연기조차 가볍지 않구나\n",
      " >> id[1614] : ▁흠\n",
      " >> id[8] : ...\n",
      " >> id[4970] : 포스터\n",
      " >> id[162] : 보고\n",
      " >> id[1290] : ▁초딩\n",
      " >> id[4] : 영화\n",
      " >> id[8506] : 줄\n",
      " >> id[47] : ....\n",
      " >> id[8361] : 오\n",
      " >> id[8473] : 버\n",
      " >> id[268] : 연기\n",
      " >> id[1703] : 조차\n",
      " >> id[1909] : ▁가볍\n",
      " >> id[8293] : 지\n",
      " >> id[66] : ▁않\n",
      " >> id[404] : 구나\n"
     ]
    }
   ],
   "source": [
    "print(f'X_train[0] : {bpe_dataset.X_train[1]}')\n",
    "print(f'X_train[0] - raw : {train_data.iloc[1][\"document\"]}')\n",
    "print(f'X_train[0] - decoding : {bpe_dataset.tokenizer.decode(bpe_dataset.X_train[1])}')\n",
    "for i in bpe_dataset.X_train[1]:\n",
    "    print(f' >> id[{i}] : {bpe_dataset.tokenizer.index_word[i]}')"
   ]
  },
  {
   "cell_type": "markdown",
   "id": "earlier-savage",
   "metadata": {},
   "source": [
    "- 문장 길이 지정"
   ]
  },
  {
   "cell_type": "code",
   "execution_count": 51,
   "id": "internal-steam",
   "metadata": {
    "execution": {
     "iopub.execute_input": "2021-04-19T10:08:58.450208Z",
     "iopub.status.busy": "2021-04-19T10:08:58.450010Z",
     "iopub.status.idle": "2021-04-19T10:08:59.588496Z",
     "shell.execute_reply": "2021-04-19T10:08:59.588046Z",
     "shell.execute_reply.started": "2021-04-19T10:08:58.450185Z"
    }
   },
   "outputs": [
    {
     "name": "stdout",
     "output_type": "stream",
     "text": [
      "min sentence length : 1\n",
      "max sentence length : 121\n",
      "avg sentence length : 16\n"
     ]
    },
    {
     "data": {
      "image/png": "[encoded data removed]",
      "text/plain": [
       "<Figure size 720x360 with 2 Axes>"
      ]
     },
     "metadata": {
      "needs_background": "light"
     },
     "output_type": "display_data"
    },
    {
     "name": "stdout",
     "output_type": "stream",
     "text": [
      "rate of sentences 45 or less in length : 0.9410255708637179\n",
      "rate of sentences 47 or less in length : 0.9461151167722428\n",
      "rate of sentences 49 or less in length : 0.9515124981187835\n",
      "rate of sentences 51 or less in length : 0.9562942085892928\n",
      "rate of sentences 53 or less in length : 0.960939103309573\n"
     ]
    }
   ],
   "source": [
    "bpe_length_hist = check_sentence_len_distribution(bpe_dataset.X_train)\n",
    "\n",
    "for threshold in range(45, 55, 2):\n",
    "    rate_under_lenght_threshold(bpe_length_hist, threshold)"
   ]
  },
  {
   "cell_type": "code",
   "execution_count": 52,
   "id": "statewide-plant",
   "metadata": {
    "execution": {
     "iopub.execute_input": "2021-04-19T10:09:09.464519Z",
     "iopub.status.busy": "2021-04-19T10:09:09.464303Z",
     "iopub.status.idle": "2021-04-19T10:09:09.467373Z",
     "shell.execute_reply": "2021-04-19T10:09:09.466837Z",
     "shell.execute_reply.started": "2021-04-19T10:09:09.464489Z"
    }
   },
   "outputs": [],
   "source": [
    "bpe_max_length = 48"
   ]
  },
  {
   "cell_type": "markdown",
   "id": "listed-audio",
   "metadata": {},
   "source": [
    "- 패딩 추가"
   ]
  },
  {
   "cell_type": "code",
   "execution_count": 53,
   "id": "recreational-authentication",
   "metadata": {
    "execution": {
     "iopub.execute_input": "2021-04-19T10:09:12.096050Z",
     "iopub.status.busy": "2021-04-19T10:09:12.095844Z",
     "iopub.status.idle": "2021-04-19T10:09:12.888062Z",
     "shell.execute_reply": "2021-04-19T10:09:12.887407Z",
     "shell.execute_reply.started": "2021-04-19T10:09:12.096027Z"
    }
   },
   "outputs": [],
   "source": [
    "bpe_dataset.X_train = tf.keras.preprocessing.sequence.pad_sequences(\n",
    "    bpe_dataset.X_train, padding='pre', maxlen=bpe_max_length)\n",
    "\n",
    "bpe_dataset.X_test = tf.keras.preprocessing.sequence.pad_sequences(\n",
    "    bpe_dataset.X_test, padding='pre', maxlen=bpe_max_length)"
   ]
  },
  {
   "cell_type": "code",
   "execution_count": 54,
   "id": "hindu-bunny",
   "metadata": {
    "execution": {
     "iopub.execute_input": "2021-04-19T10:09:12.889104Z",
     "iopub.status.busy": "2021-04-19T10:09:12.888950Z",
     "iopub.status.idle": "2021-04-19T10:09:12.893155Z",
     "shell.execute_reply": "2021-04-19T10:09:12.892642Z",
     "shell.execute_reply.started": "2021-04-19T10:09:12.889084Z"
    }
   },
   "outputs": [
    {
     "data": {
      "text/plain": [
       "(array([   0,    0,    0,    0,    0,    0,    0,    0,    0,    0,    0,\n",
       "           0,    0,    0,    0,    0,    0,    0,    0,    0,    0,    0,\n",
       "           0,    0,    0,    0,    0,    0,    0,    0,    0,    0,    0,\n",
       "           0,    0,    0,    0,    0,    0,    0,    0,    7, 1068,    3,\n",
       "          54, 2400,   38, 2095], dtype=int32),\n",
       " array([   0,    0,    0,    0,    0,    0,    0,    0,    0,    0,    0,\n",
       "           0,    0,    0,    0,    0,    0,    0,    0,    0,    0,    0,\n",
       "           0,    0,    0,    0,    0,    0,    0,    0,    0,    0,    0,\n",
       "           0,    0,    0,    0,    0,    0,    0,    0,    0,    0,    0,\n",
       "           0,    0, 1323,  454], dtype=int32))"
      ]
     },
     "execution_count": 54,
     "metadata": {},
     "output_type": "execute_result"
    }
   ],
   "source": [
    "bpe_dataset.X_train[0], bpe_dataset.X_test[0] "
   ]
  },
  {
   "cell_type": "markdown",
   "id": "bridal-commerce",
   "metadata": {},
   "source": [
    "- validation set 분리"
   ]
  },
  {
   "cell_type": "code",
   "execution_count": 55,
   "id": "comparable-native",
   "metadata": {
    "execution": {
     "iopub.execute_input": "2021-04-19T10:09:59.679399Z",
     "iopub.status.busy": "2021-04-19T10:09:59.679072Z",
     "iopub.status.idle": "2021-04-19T10:09:59.703091Z",
     "shell.execute_reply": "2021-04-19T10:09:59.702437Z",
     "shell.execute_reply.started": "2021-04-19T10:09:59.679362Z"
    }
   },
   "outputs": [
    {
     "data": {
      "text/plain": [
       "((136182, 48), (10000, 48), (136182,), (10000,))"
      ]
     },
     "execution_count": 55,
     "metadata": {},
     "output_type": "execute_result"
    }
   ],
   "source": [
    "bpe_dataset.X_train, bpe_dataset.X_val, bpe_dataset.y_train, bpe_dataset.y_val = train_test_split(bpe_dataset.X_train, bpe_dataset.y_train, test_size=10000, random_state=42)\n",
    "bpe_dataset.X_train.shape, bpe_dataset.X_val.shape, bpe_dataset.y_train.shape, bpe_dataset.y_val.shape"
   ]
  },
  {
   "cell_type": "markdown",
   "id": "advisory-landscape",
   "metadata": {},
   "source": [
    "- 모델 정의"
   ]
  },
  {
   "cell_type": "code",
   "execution_count": 56,
   "id": "swedish-detector",
   "metadata": {
    "execution": {
     "iopub.execute_input": "2021-04-19T10:10:24.923401Z",
     "iopub.status.busy": "2021-04-19T10:10:24.923183Z",
     "iopub.status.idle": "2021-04-19T10:10:25.153651Z",
     "shell.execute_reply": "2021-04-19T10:10:25.153110Z",
     "shell.execute_reply.started": "2021-04-19T10:10:24.923379Z"
    }
   },
   "outputs": [
    {
     "name": "stdout",
     "output_type": "stream",
     "text": [
      "Model: \"sequential_5\"\n",
      "_________________________________________________________________\n",
      "Layer (type)                 Output Shape              Param #   \n",
      "=================================================================\n",
      "embedding_5 (Embedding)      (None, None, 100)         1000000   \n",
      "_________________________________________________________________\n",
      "lstm_5 (LSTM)                (None, 128)               117248    \n",
      "_________________________________________________________________\n",
      "dense_10 (Dense)             (None, 128)               16512     \n",
      "_________________________________________________________________\n",
      "dense_11 (Dense)             (None, 1)                 129       \n",
      "=================================================================\n",
      "Total params: 1,133,889\n",
      "Trainable params: 1,133,889\n",
      "Non-trainable params: 0\n",
      "_________________________________________________________________\n"
     ]
    }
   ],
   "source": [
    "bpe_rnn = get_model(vocab_size, units=128)"
   ]
  },
  {
   "cell_type": "markdown",
   "id": "connected-radical",
   "metadata": {},
   "source": [
    "- 모델 학습"
   ]
  },
  {
   "cell_type": "code",
   "execution_count": 57,
   "id": "operational-chile",
   "metadata": {
    "execution": {
     "iopub.execute_input": "2021-04-19T10:10:58.270096Z",
     "iopub.status.busy": "2021-04-19T10:10:58.269830Z",
     "iopub.status.idle": "2021-04-19T10:11:31.947944Z",
     "shell.execute_reply": "2021-04-19T10:11:31.947394Z",
     "shell.execute_reply.started": "2021-04-19T10:10:58.270070Z"
    }
   },
   "outputs": [
    {
     "name": "stdout",
     "output_type": "stream",
     "text": [
      "Epoch 1/20\n",
      "266/266 - 7s - loss: 0.4059 - accuracy: 0.8109 - val_loss: 0.3371 - val_accuracy: 0.8557\n",
      "Epoch 2/20\n",
      "266/266 - 5s - loss: 0.3095 - accuracy: 0.8665 - val_loss: 0.3232 - val_accuracy: 0.8575\n",
      "Epoch 3/20\n",
      "266/266 - 5s - loss: 0.2737 - accuracy: 0.8810 - val_loss: 0.3340 - val_accuracy: 0.8585\n",
      "Epoch 4/20\n",
      "266/266 - 5s - loss: 0.2418 - accuracy: 0.8955 - val_loss: 0.3453 - val_accuracy: 0.8552\n",
      "Epoch 5/20\n",
      "266/266 - 5s - loss: 0.2123 - accuracy: 0.9094 - val_loss: 0.3637 - val_accuracy: 0.8490\n",
      "Epoch 6/20\n",
      "266/266 - 5s - loss: 0.1860 - accuracy: 0.9214 - val_loss: 0.4148 - val_accuracy: 0.8484\n",
      "Epoch 00006: early stopping\n",
      "\n",
      "\n"
     ]
    },
    {
     "data": {
      "image/png": "[encoded data removed]",
      "text/plain": [
       "<Figure size 720x288 with 2 Axes>"
      ]
     },
     "metadata": {
      "needs_background": "light"
     },
     "output_type": "display_data"
    }
   ],
   "source": [
    "bpe_history = train(bpe_rnn,\n",
    "                    bpe_dataset.X_train,\n",
    "                    bpe_dataset.y_train,\n",
    "                    bpe_dataset.X_val, \n",
    "                    bpe_dataset.y_val)\n",
    "show_history_plot(bpe_history)"
   ]
  },
  {
   "cell_type": "markdown",
   "id": "enclosed-angel",
   "metadata": {},
   "source": [
    "#### 3) char"
   ]
  },
  {
   "cell_type": "markdown",
   "id": "tamil-oriental",
   "metadata": {},
   "source": [
    "- 토큰화"
   ]
  },
  {
   "cell_type": "code",
   "execution_count": 58,
   "id": "rental-mercy",
   "metadata": {
    "execution": {
     "iopub.execute_input": "2021-04-19T10:14:22.709742Z",
     "iopub.status.busy": "2021-04-19T10:14:22.709502Z",
     "iopub.status.idle": "2021-04-19T10:14:27.681995Z",
     "shell.execute_reply": "2021-04-19T10:14:27.681396Z",
     "shell.execute_reply.started": "2021-04-19T10:14:22.709715Z"
    },
    "tags": []
   },
   "outputs": [],
   "source": [
    "X_train, y_train, X_test, y_test, sp_tokenizer = load_data_with_sp(train_data,\n",
    "                                                                   test_data,\n",
    "                                                                   model_type='char')\n",
    "char_dataset = Dataset(X_train, y_train, X_test, y_test, sp_tokenizer)"
   ]
  },
  {
   "cell_type": "code",
   "execution_count": 59,
   "id": "royal-offset",
   "metadata": {
    "execution": {
     "iopub.execute_input": "2021-04-19T10:14:27.861643Z",
     "iopub.status.busy": "2021-04-19T10:14:27.861399Z",
     "iopub.status.idle": "2021-04-19T10:14:27.870159Z",
     "shell.execute_reply": "2021-04-19T10:14:27.869425Z",
     "shell.execute_reply.started": "2021-04-19T10:14:27.861614Z"
    },
    "tags": []
   },
   "outputs": [
    {
     "name": "stdout",
     "output_type": "stream",
     "text": [
      "X_train[0] : [3, 722, 4, 4, 4, 205, 40, 146, 20, 8, 3, 275, 382, 11, 10, 222, 4, 4, 4, 4, 77, 189, 63, 18, 156, 251, 3, 12, 811, 9, 3, 118, 101, 17]\n",
      "X_train[0] - raw : 흠...포스터보고 초딩영화줄....오버연기조차 가볍지 않구나\n",
      "X_train[0] - decoding : 흠...포스터보고 초딩영화줄....오버연기조차 가볍지 않구나\n",
      " >> id[3] : ▁\n",
      " >> id[722] : 흠\n",
      " >> id[4] : .\n",
      " >> id[4] : .\n",
      " >> id[4] : .\n",
      " >> id[205] : 포\n",
      " >> id[40] : 스\n",
      " >> id[146] : 터\n",
      " >> id[20] : 보\n",
      " >> id[8] : 고\n",
      " >> id[3] : ▁\n",
      " >> id[275] : 초\n",
      " >> id[382] : 딩\n",
      " >> id[11] : 영\n",
      " >> id[10] : 화\n",
      " >> id[222] : 줄\n",
      " >> id[4] : .\n",
      " >> id[4] : .\n",
      " >> id[4] : .\n",
      " >> id[4] : .\n",
      " >> id[77] : 오\n",
      " >> id[189] : 버\n",
      " >> id[63] : 연\n",
      " >> id[18] : 기\n",
      " >> id[156] : 조\n",
      " >> id[251] : 차\n",
      " >> id[3] : ▁\n",
      " >> id[12] : 가\n",
      " >> id[811] : 볍\n",
      " >> id[9] : 지\n",
      " >> id[3] : ▁\n",
      " >> id[118] : 않\n",
      " >> id[101] : 구\n",
      " >> id[17] : 나\n"
     ]
    }
   ],
   "source": [
    "print(f'X_train[0] : {char_dataset.X_train[1]}')\n",
    "print(f'X_train[0] - raw : {train_data.iloc[1][\"document\"]}')\n",
    "print(f'X_train[0] - decoding : {char_dataset.tokenizer.decode(char_dataset.X_train[1])}')\n",
    "for i in char_dataset.X_train[1]:\n",
    "    print(f' >> id[{i}] : {char_dataset.tokenizer.index_word[i]}')"
   ]
  },
  {
   "cell_type": "markdown",
   "id": "supreme-contemporary",
   "metadata": {},
   "source": [
    "- 문장 길이 지정"
   ]
  },
  {
   "cell_type": "code",
   "execution_count": 63,
   "id": "opposite-enemy",
   "metadata": {
    "execution": {
     "iopub.execute_input": "2021-04-19T10:14:58.202831Z",
     "iopub.status.busy": "2021-04-19T10:14:58.202592Z",
     "iopub.status.idle": "2021-04-19T10:14:59.202955Z",
     "shell.execute_reply": "2021-04-19T10:14:59.202498Z",
     "shell.execute_reply.started": "2021-04-19T10:14:58.202803Z"
    },
    "tags": []
   },
   "outputs": [
    {
     "name": "stdout",
     "output_type": "stream",
     "text": [
      "min sentence length : 2\n",
      "max sentence length : 147\n",
      "avg sentence length : 36\n"
     ]
    },
    {
     "data": {
      "image/png": "[encoded data removed]",
      "text/plain": [
       "<Figure size 720x360 with 2 Axes>"
      ]
     },
     "metadata": {
      "needs_background": "light"
     },
     "output_type": "display_data"
    },
    {
     "name": "stdout",
     "output_type": "stream",
     "text": [
      "rate of sentences 80 or less in length : 0.9068695188190065\n",
      "rate of sentences 82 or less in length : 0.9106319519503085\n",
      "rate of sentences 84 or less in length : 0.9145175192568168\n",
      "rate of sentences 86 or less in length : 0.9180884103377981\n",
      "rate of sentences 88 or less in length : 0.9215224856685502\n",
      "rate of sentences 90 or less in length : 0.924922357061745\n",
      "rate of sentences 92 or less in length : 0.9279801890793669\n",
      "rate of sentences 94 or less in length : 0.930908046134271\n",
      "rate of sentences 96 or less in length : 0.933774336101572\n",
      "rate of sentences 98 or less in length : 0.9364627655935751\n"
     ]
    }
   ],
   "source": [
    "char_length_hist = check_sentence_len_distribution(char_dataset.X_train)\n",
    "\n",
    "for threshold in range(80, 100, 2):\n",
    "    rate_under_lenght_threshold(char_length_hist, threshold)"
   ]
  },
  {
   "cell_type": "code",
   "execution_count": 65,
   "id": "thick-richardson",
   "metadata": {
    "execution": {
     "iopub.execute_input": "2021-04-19T10:15:56.862000Z",
     "iopub.status.busy": "2021-04-19T10:15:56.861743Z",
     "iopub.status.idle": "2021-04-19T10:15:56.865140Z",
     "shell.execute_reply": "2021-04-19T10:15:56.864342Z",
     "shell.execute_reply.started": "2021-04-19T10:15:56.861971Z"
    },
    "tags": []
   },
   "outputs": [],
   "source": [
    "char_max_length = 80"
   ]
  },
  {
   "cell_type": "markdown",
   "id": "boolean-congo",
   "metadata": {},
   "source": [
    "- 패딩 추가"
   ]
  },
  {
   "cell_type": "code",
   "execution_count": 66,
   "id": "anticipated-british",
   "metadata": {
    "execution": {
     "iopub.execute_input": "2021-04-19T10:16:03.518885Z",
     "iopub.status.busy": "2021-04-19T10:16:03.518492Z",
     "iopub.status.idle": "2021-04-19T10:16:04.480712Z",
     "shell.execute_reply": "2021-04-19T10:16:04.480197Z",
     "shell.execute_reply.started": "2021-04-19T10:16:03.518838Z"
    }
   },
   "outputs": [
    {
     "data": {
      "text/plain": [
       "(array([  0,   0,   0,   0,   0,   0,   0,   0,   0,   0,   0,   0,   0,\n",
       "          0,   0,   0,   0,   0,   0,   0,   0,   0,   0,   0,   0,   0,\n",
       "          0,   0,   0,   0,   0,   0,   0,   0,   0,   0,   0,   0,   0,\n",
       "          0,   0,   0,   0,   0,   0,   0,   0,   0,   0,   0,   0,   0,\n",
       "          0,   0,   0,   0,   0,   0,   0,   0,   3,  15,   3,  96, 541,\n",
       "          4,   4,   3,  55,  86,   3,  86, 320,  17,  54,  33,   3, 330,\n",
       "        105,  26], dtype=int32),\n",
       " array([  0,   0,   0,   0,   0,   0,   0,   0,   0,   0,   0,   0,   0,\n",
       "          0,   0,   0,   0,   0,   0,   0,   0,   0,   0,   0,   0,   0,\n",
       "          0,   0,   0,   0,   0,   0,   0,   0,   0,   0,   0,   0,   0,\n",
       "          0,   0,   0,   0,   0,   0,   0,   0,   0,   0,   0,   0,   0,\n",
       "          0,   0,   0,   0,   0,   0,   0,   0,   0,   0,   0,   0,   0,\n",
       "          0,   0,   0,   0,   0,   0,   0,   0,   0,   0,   0,   3, 638,\n",
       "          3,  24], dtype=int32))"
      ]
     },
     "execution_count": 66,
     "metadata": {},
     "output_type": "execute_result"
    }
   ],
   "source": [
    "char_dataset.X_train = tf.keras.preprocessing.sequence.pad_sequences(\n",
    "    char_dataset.X_train, padding='pre', maxlen=char_max_length)\n",
    "\n",
    "char_dataset.X_test = tf.keras.preprocessing.sequence.pad_sequences(\n",
    "    char_dataset.X_test, padding='pre', maxlen=char_max_length)\n",
    "\n",
    "char_dataset.X_train[0], char_dataset.X_test[0] "
   ]
  },
  {
   "cell_type": "markdown",
   "id": "sunset-rugby",
   "metadata": {},
   "source": [
    "- validation set 분리"
   ]
  },
  {
   "cell_type": "code",
   "execution_count": 67,
   "id": "civic-bryan",
   "metadata": {
    "execution": {
     "iopub.execute_input": "2021-04-19T10:16:07.702084Z",
     "iopub.status.busy": "2021-04-19T10:16:07.701843Z",
     "iopub.status.idle": "2021-04-19T10:16:07.731153Z",
     "shell.execute_reply": "2021-04-19T10:16:07.730459Z",
     "shell.execute_reply.started": "2021-04-19T10:16:07.702056Z"
    }
   },
   "outputs": [
    {
     "data": {
      "text/plain": [
       "((136182, 80), (10000, 80), (136182,), (10000,))"
      ]
     },
     "execution_count": 67,
     "metadata": {},
     "output_type": "execute_result"
    }
   ],
   "source": [
    "char_dataset.X_train, char_dataset.X_val, char_dataset.y_train, char_dataset.y_val = train_test_split(char_dataset.X_train, char_dataset.y_train, test_size=10000, random_state=42)\n",
    "char_dataset.X_train.shape, char_dataset.X_val.shape, char_dataset.y_train.shape, char_dataset.y_val.shape"
   ]
  },
  {
   "cell_type": "markdown",
   "id": "parental-number",
   "metadata": {},
   "source": [
    "- 모델 정의"
   ]
  },
  {
   "cell_type": "code",
   "execution_count": 68,
   "id": "animated-stand",
   "metadata": {
    "execution": {
     "iopub.execute_input": "2021-04-19T10:16:13.764018Z",
     "iopub.status.busy": "2021-04-19T10:16:13.763786Z",
     "iopub.status.idle": "2021-04-19T10:16:13.998990Z",
     "shell.execute_reply": "2021-04-19T10:16:13.998398Z",
     "shell.execute_reply.started": "2021-04-19T10:16:13.763992Z"
    }
   },
   "outputs": [
    {
     "name": "stdout",
     "output_type": "stream",
     "text": [
      "Model: \"sequential_6\"\n",
      "_________________________________________________________________\n",
      "Layer (type)                 Output Shape              Param #   \n",
      "=================================================================\n",
      "embedding_6 (Embedding)      (None, None, 100)         1000000   \n",
      "_________________________________________________________________\n",
      "lstm_6 (LSTM)                (None, 128)               117248    \n",
      "_________________________________________________________________\n",
      "dense_12 (Dense)             (None, 128)               16512     \n",
      "_________________________________________________________________\n",
      "dense_13 (Dense)             (None, 1)                 129       \n",
      "=================================================================\n",
      "Total params: 1,133,889\n",
      "Trainable params: 1,133,889\n",
      "Non-trainable params: 0\n",
      "_________________________________________________________________\n"
     ]
    }
   ],
   "source": [
    "char_rnn = get_model(vocab_size, units=128)"
   ]
  },
  {
   "cell_type": "markdown",
   "id": "french-member",
   "metadata": {},
   "source": [
    "- 모델 학습"
   ]
  },
  {
   "cell_type": "code",
   "execution_count": 69,
   "id": "improving-exhibition",
   "metadata": {
    "execution": {
     "iopub.execute_input": "2021-04-19T10:16:17.676141Z",
     "iopub.status.busy": "2021-04-19T10:16:17.675938Z",
     "iopub.status.idle": "2021-04-19T10:17:39.152641Z",
     "shell.execute_reply": "2021-04-19T10:17:39.152172Z",
     "shell.execute_reply.started": "2021-04-19T10:16:17.676118Z"
    }
   },
   "outputs": [
    {
     "name": "stdout",
     "output_type": "stream",
     "text": [
      "Epoch 1/20\n",
      "266/266 - 9s - loss: 0.4781 - accuracy: 0.7697 - val_loss: 0.4196 - val_accuracy: 0.8085\n",
      "Epoch 2/20\n",
      "266/266 - 7s - loss: 0.4089 - accuracy: 0.8110 - val_loss: 0.3955 - val_accuracy: 0.8189\n",
      "Epoch 3/20\n",
      "266/266 - 7s - loss: 0.3808 - accuracy: 0.8270 - val_loss: 0.3791 - val_accuracy: 0.8279\n",
      "Epoch 4/20\n",
      "266/266 - 7s - loss: 0.3604 - accuracy: 0.8376 - val_loss: 0.3655 - val_accuracy: 0.8359\n",
      "Epoch 5/20\n",
      "266/266 - 7s - loss: 0.3458 - accuracy: 0.8456 - val_loss: 0.3702 - val_accuracy: 0.8383\n",
      "Epoch 6/20\n",
      "266/266 - 7s - loss: 0.3334 - accuracy: 0.8517 - val_loss: 0.3578 - val_accuracy: 0.8434\n",
      "Epoch 7/20\n",
      "266/266 - 7s - loss: 0.3233 - accuracy: 0.8578 - val_loss: 0.3549 - val_accuracy: 0.8424\n",
      "Epoch 8/20\n",
      "266/266 - 7s - loss: 0.3142 - accuracy: 0.8623 - val_loss: 0.3574 - val_accuracy: 0.8416\n",
      "Epoch 9/20\n",
      "266/266 - 7s - loss: 0.3041 - accuracy: 0.8683 - val_loss: 0.3595 - val_accuracy: 0.8452\n",
      "Epoch 10/20\n",
      "266/266 - 7s - loss: 0.2947 - accuracy: 0.8731 - val_loss: 0.3572 - val_accuracy: 0.8466\n",
      "Epoch 11/20\n",
      "266/266 - 7s - loss: 0.2854 - accuracy: 0.8781 - val_loss: 0.3585 - val_accuracy: 0.8486\n",
      "Epoch 00011: early stopping\n",
      "\n",
      "\n"
     ]
    },
    {
     "data": {
      "image/png": "[encoded data removed]",
      "text/plain": [
       "<Figure size 720x288 with 2 Axes>"
      ]
     },
     "metadata": {
      "needs_background": "light"
     },
     "output_type": "display_data"
    }
   ],
   "source": [
    "char_history = train(char_rnn,\n",
    "                     char_dataset.X_train,\n",
    "                     char_dataset.y_train,\n",
    "                     char_dataset.X_val, \n",
    "                     char_dataset.y_val)\n",
    "show_history_plot(char_history)"
   ]
  },
  {
   "cell_type": "markdown",
   "id": "balanced-employment",
   "metadata": {},
   "source": [
    "#### 4) 모델 평가"
   ]
  },
  {
   "cell_type": "code",
   "execution_count": 71,
   "id": "beginning-forty",
   "metadata": {
    "execution": {
     "iopub.execute_input": "2021-04-19T10:19:36.998345Z",
     "iopub.status.busy": "2021-04-19T10:19:36.998080Z",
     "iopub.status.idle": "2021-04-19T10:19:45.964393Z",
     "shell.execute_reply": "2021-04-19T10:19:45.963857Z",
     "shell.execute_reply.started": "2021-04-19T10:19:36.998316Z"
    },
    "tags": []
   },
   "outputs": [
    {
     "name": "stdout",
     "output_type": "stream",
     "text": [
      "1537/1537 - 3s - loss: 0.4569 - accuracy: 0.8416\n",
      "1537/1537 - 3s - loss: 0.4230 - accuracy: 0.8467\n",
      "1537/1537 - 3s - loss: 0.3605 - accuracy: 0.8429\n"
     ]
    }
   ],
   "source": [
    "X_test_list = [unigram_dataset.X_test, bpe_dataset.X_test, char_dataset.X_test]\n",
    "y_test_list = [unigram_dataset.y_test, bpe_dataset.y_test, char_dataset.y_test]\n",
    "models = [unigram_rnn, bpe_rnn, char_rnn]\n",
    "\n",
    "evaluation_res = [ models[i].evaluate(X_test_list[i],\n",
    "                                      y_test_list[i],\n",
    "                                      verbose=2) for i in range(3)]\n",
    "df = pd.DataFrame(evaluation_res, \n",
    "                  index=['unigram', 'bpe', 'char'],\n",
    "                  columns=['loss', 'accuracy'])"
   ]
  },
  {
   "cell_type": "code",
   "execution_count": 72,
   "id": "incorrect-amount",
   "metadata": {
    "execution": {
     "iopub.execute_input": "2021-04-19T10:19:52.471811Z",
     "iopub.status.busy": "2021-04-19T10:19:52.471603Z",
     "iopub.status.idle": "2021-04-19T10:19:52.478884Z",
     "shell.execute_reply": "2021-04-19T10:19:52.478328Z",
     "shell.execute_reply.started": "2021-04-19T10:19:52.471788Z"
    }
   },
   "outputs": [
    {
     "data": {
      "text/html": [
       "<div>\n",
       "<style scoped>\n",
       "    .dataframe tbody tr th:only-of-type {\n",
       "        vertical-align: middle;\n",
       "    }\n",
       "\n",
       "    .dataframe tbody tr th {\n",
       "        vertical-align: top;\n",
       "    }\n",
       "\n",
       "    .dataframe thead th {\n",
       "        text-align: right;\n",
       "    }\n",
       "</style>\n",
       "<table border=\"1\" class=\"dataframe\">\n",
       "  <thead>\n",
       "    <tr style=\"text-align: right;\">\n",
       "      <th></th>\n",
       "      <th>loss</th>\n",
       "      <th>accuracy</th>\n",
       "    </tr>\n",
       "  </thead>\n",
       "  <tbody>\n",
       "    <tr>\n",
       "      <th>unigram</th>\n",
       "      <td>0.456912</td>\n",
       "      <td>0.841610</td>\n",
       "    </tr>\n",
       "    <tr>\n",
       "      <th>bpe</th>\n",
       "      <td>0.423032</td>\n",
       "      <td>0.846675</td>\n",
       "    </tr>\n",
       "    <tr>\n",
       "      <th>char</th>\n",
       "      <td>0.360519</td>\n",
       "      <td>0.842850</td>\n",
       "    </tr>\n",
       "  </tbody>\n",
       "</table>\n",
       "</div>"
      ],
      "text/plain": [
       "             loss  accuracy\n",
       "unigram  0.456912  0.841610\n",
       "bpe      0.423032  0.846675\n",
       "char     0.360519  0.842850"
      ]
     },
     "execution_count": 72,
     "metadata": {},
     "output_type": "execute_result"
    }
   ],
   "source": [
    "df"
   ]
  },
  {
   "cell_type": "markdown",
   "id": "cleared-garbage",
   "metadata": {},
   "source": [
    "모든 경우에 accuary 80%가 넘는 준수한 결과를 보였다.\n",
    "\n",
    "지표에 따라 순위를 매겨 보면 아래와 같다.\n",
    "- loss : char > bpe > unigram\n",
    "- accuray : bpe > char > unigram\n",
    "\n",
    "loss에서는 char 방식이, accaury에서는 bpe가 가장 좋은 성능을 보였고, 모든 지표에서 unigram이 가장 않좋은 성능을 보였다."
   ]
  },
  {
   "cell_type": "markdown",
   "id": "pediatric-remains",
   "metadata": {},
   "source": [
    "### 2. vocab size"
   ]
  },
  {
   "cell_type": "markdown",
   "id": "shaped-granny",
   "metadata": {},
   "source": [
    "#### 1) vocab_size = 5000"
   ]
  },
  {
   "cell_type": "code",
   "execution_count": 290,
   "id": "based-advocacy",
   "metadata": {
    "execution": {
     "iopub.execute_input": "2021-04-19T12:28:45.297303Z",
     "iopub.status.busy": "2021-04-19T12:28:45.297059Z",
     "iopub.status.idle": "2021-04-19T12:29:08.625303Z",
     "shell.execute_reply": "2021-04-19T12:29:08.624646Z",
     "shell.execute_reply.started": "2021-04-19T12:28:45.297274Z"
    },
    "tags": []
   },
   "outputs": [],
   "source": [
    "X_train, y_train, X_test, y_test, sp_tokenizer = load_data_with_sp(train_data,\n",
    "                                                                   test_data,\n",
    "                                                                   num_words=5000)\n",
    "vs_5000_dataset = Dataset(X_train, y_train, X_test, y_test, sp_tokenizer)"
   ]
  },
  {
   "cell_type": "code",
   "execution_count": 291,
   "id": "ignored-prairie",
   "metadata": {
    "execution": {
     "iopub.execute_input": "2021-04-19T12:29:08.626423Z",
     "iopub.status.busy": "2021-04-19T12:29:08.626255Z",
     "iopub.status.idle": "2021-04-19T12:29:08.629727Z",
     "shell.execute_reply": "2021-04-19T12:29:08.629292Z",
     "shell.execute_reply.started": "2021-04-19T12:29:08.626401Z"
    },
    "tags": []
   },
   "outputs": [
    {
     "data": {
      "text/plain": [
       "(5000, 5000)"
      ]
     },
     "execution_count": 291,
     "metadata": {},
     "output_type": "execute_result"
    }
   ],
   "source": [
    "len(vs_5000_dataset.tokenizer.word_index),  len(vs_5000_dataset.tokenizer.index_word)"
   ]
  },
  {
   "cell_type": "code",
   "execution_count": 325,
   "id": "eleven-dispute",
   "metadata": {
    "execution": {
     "iopub.execute_input": "2021-04-19T12:32:41.257718Z",
     "iopub.status.busy": "2021-04-19T12:32:41.257398Z",
     "iopub.status.idle": "2021-04-19T12:32:41.264623Z",
     "shell.execute_reply": "2021-04-19T12:32:41.263896Z",
     "shell.execute_reply.started": "2021-04-19T12:32:41.257679Z"
    },
    "tags": []
   },
   "outputs": [
    {
     "name": "stdout",
     "output_type": "stream",
     "text": [
      "X_train[1519] : [3, 2140, 1054, 1100, 239, 0, 569]\n",
      "X_train[1519] - raw : 픽션이지만 재미뚬ㅎㅎ\n",
      "X_train[1519] - decoding : 픽션이지만 재미 ⁇ ᄒᄒ\n",
      " >> id[3] : ▁\n",
      " >> id[2140] : 픽\n",
      " >> id[1054] : 션\n",
      " >> id[1100] : 이지만\n",
      " >> id[239] : ▁재미\n",
      " >> id[0] : <unk>\n",
      " >> id[569] : ᄒᄒ\n"
     ]
    }
   ],
   "source": [
    "sentence_idx = 1519\n",
    "print(f'X_train[{sentence_idx}] : {vs_5000_dataset.X_train[sentence_idx]}')\n",
    "print(f'X_train[{sentence_idx}] - raw : {train_data.iloc[sentence_idx][\"document\"]}')\n",
    "print(f'X_train[{sentence_idx}] - decoding : {vs_5000_dataset.tokenizer.decode(vs_5000_dataset.X_train[sentence_idx])}')\n",
    "for i in vs_5000_dataset.X_train[sentence_idx]:\n",
    "    print(f' >> id[{i}] : {vs_5000_dataset.tokenizer.index_word[i]}')"
   ]
  },
  {
   "cell_type": "markdown",
   "id": "legendary-blink",
   "metadata": {},
   "source": [
    "- 문장 길이 지정"
   ]
  },
  {
   "cell_type": "code",
   "execution_count": 327,
   "id": "handy-feeding",
   "metadata": {
    "execution": {
     "iopub.execute_input": "2021-04-19T12:33:47.385268Z",
     "iopub.status.busy": "2021-04-19T12:33:47.384924Z",
     "iopub.status.idle": "2021-04-19T12:33:48.345493Z",
     "shell.execute_reply": "2021-04-19T12:33:48.344876Z",
     "shell.execute_reply.started": "2021-04-19T12:33:47.385229Z"
    },
    "tags": []
   },
   "outputs": [
    {
     "name": "stdout",
     "output_type": "stream",
     "text": [
      "min sentence length : 1\n",
      "max sentence length : 134\n",
      "avg sentence length : 19\n"
     ]
    },
    {
     "data": {
      "image/png": "[encoded data removed]",
      "text/plain": [
       "<Figure size 720x360 with 2 Axes>"
      ]
     },
     "metadata": {
      "needs_background": "light"
     },
     "output_type": "display_data"
    },
    {
     "name": "stdout",
     "output_type": "stream",
     "text": [
      "rate of sentences 50 or less in length : 0.9343626438275574\n",
      "rate of sentences 52 or less in length : 0.9394863936736397\n",
      "rate of sentences 54 or less in length : 0.9442749449316605\n",
      "rate of sentences 56 or less in length : 0.9484957108262303\n",
      "rate of sentences 58 or less in length : 0.9526617504207084\n"
     ]
    }
   ],
   "source": [
    "vs_5000_length_hist = check_sentence_len_distribution(vs_5000_dataset.X_train)\n",
    "\n",
    "for threshold in range(50, 60, 2):\n",
    "    rate_under_lenght_threshold(vs_5000_length_hist, threshold)"
   ]
  },
  {
   "cell_type": "code",
   "execution_count": 328,
   "id": "headed-feeling",
   "metadata": {
    "execution": {
     "iopub.execute_input": "2021-04-19T12:33:52.012536Z",
     "iopub.status.busy": "2021-04-19T12:33:52.012266Z",
     "iopub.status.idle": "2021-04-19T12:33:52.015968Z",
     "shell.execute_reply": "2021-04-19T12:33:52.015136Z",
     "shell.execute_reply.started": "2021-04-19T12:33:52.012494Z"
    },
    "tags": []
   },
   "outputs": [],
   "source": [
    "vs_5000_max_length = 57"
   ]
  },
  {
   "cell_type": "markdown",
   "id": "flexible-machine",
   "metadata": {},
   "source": [
    "- 패딩 추가"
   ]
  },
  {
   "cell_type": "code",
   "execution_count": 329,
   "id": "associate-garage",
   "metadata": {
    "execution": {
     "iopub.execute_input": "2021-04-19T12:33:54.873899Z",
     "iopub.status.busy": "2021-04-19T12:33:54.873653Z",
     "iopub.status.idle": "2021-04-19T12:33:55.694677Z",
     "shell.execute_reply": "2021-04-19T12:33:55.694016Z",
     "shell.execute_reply.started": "2021-04-19T12:33:54.873871Z"
    },
    "tags": []
   },
   "outputs": [],
   "source": [
    "vs_5000_dataset.X_train = tf.keras.preprocessing.sequence.pad_sequences(\n",
    "    vs_5000_dataset.X_train, padding='pre', maxlen=vs_5000_max_length)\n",
    "\n",
    "vs_5000_dataset.X_test = tf.keras.preprocessing.sequence.pad_sequences(\n",
    "    vs_5000_dataset.X_test, padding='pre', maxlen=vs_5000_max_length)"
   ]
  },
  {
   "cell_type": "markdown",
   "id": "permanent-virtue",
   "metadata": {},
   "source": [
    "- validation set 분리"
   ]
  },
  {
   "cell_type": "code",
   "execution_count": 330,
   "id": "little-planet",
   "metadata": {
    "execution": {
     "iopub.execute_input": "2021-04-19T12:33:57.217932Z",
     "iopub.status.busy": "2021-04-19T12:33:57.217691Z",
     "iopub.status.idle": "2021-04-19T12:33:57.245604Z",
     "shell.execute_reply": "2021-04-19T12:33:57.244896Z",
     "shell.execute_reply.started": "2021-04-19T12:33:57.217904Z"
    },
    "tags": []
   },
   "outputs": [
    {
     "data": {
      "text/plain": [
       "((136182, 57), (10000, 57), (136182,), (10000,))"
      ]
     },
     "execution_count": 330,
     "metadata": {},
     "output_type": "execute_result"
    }
   ],
   "source": [
    "vs_5000_dataset.X_train, vs_5000_dataset.X_val, vs_5000_dataset.y_train, vs_5000_dataset.y_val = train_test_split(vs_5000_dataset.X_train, vs_5000_dataset.y_train, test_size=10000, random_state=42)\n",
    "vs_5000_dataset.X_train.shape, vs_5000_dataset.X_val.shape, vs_5000_dataset.y_train.shape, vs_5000_dataset.y_val.shape"
   ]
  },
  {
   "cell_type": "markdown",
   "id": "respected-connecticut",
   "metadata": {},
   "source": [
    "- 모델 정의"
   ]
  },
  {
   "cell_type": "code",
   "execution_count": 331,
   "id": "weird-plumbing",
   "metadata": {
    "execution": {
     "iopub.execute_input": "2021-04-19T12:34:00.307142Z",
     "iopub.status.busy": "2021-04-19T12:34:00.306894Z",
     "iopub.status.idle": "2021-04-19T12:34:00.520379Z",
     "shell.execute_reply": "2021-04-19T12:34:00.519903Z",
     "shell.execute_reply.started": "2021-04-19T12:34:00.307113Z"
    },
    "tags": []
   },
   "outputs": [
    {
     "name": "stdout",
     "output_type": "stream",
     "text": [
      "Model: \"sequential_10\"\n",
      "_________________________________________________________________\n",
      "Layer (type)                 Output Shape              Param #   \n",
      "=================================================================\n",
      "embedding_10 (Embedding)     (None, None, 100)         500000    \n",
      "_________________________________________________________________\n",
      "lstm_10 (LSTM)               (None, 128)               117248    \n",
      "_________________________________________________________________\n",
      "dense_20 (Dense)             (None, 128)               16512     \n",
      "_________________________________________________________________\n",
      "dense_21 (Dense)             (None, 1)                 129       \n",
      "=================================================================\n",
      "Total params: 633,889\n",
      "Trainable params: 633,889\n",
      "Non-trainable params: 0\n",
      "_________________________________________________________________\n"
     ]
    }
   ],
   "source": [
    "vs_5000_rnn = get_model(5000, units=128)"
   ]
  },
  {
   "cell_type": "markdown",
   "id": "constitutional-court",
   "metadata": {},
   "source": [
    "- 모델 학습"
   ]
  },
  {
   "cell_type": "code",
   "execution_count": 332,
   "id": "positive-tucson",
   "metadata": {
    "execution": {
     "iopub.execute_input": "2021-04-19T12:34:03.511310Z",
     "iopub.status.busy": "2021-04-19T12:34:03.511059Z",
     "iopub.status.idle": "2021-04-19T12:34:47.236765Z",
     "shell.execute_reply": "2021-04-19T12:34:47.236158Z",
     "shell.execute_reply.started": "2021-04-19T12:34:03.511281Z"
    },
    "tags": []
   },
   "outputs": [
    {
     "name": "stdout",
     "output_type": "stream",
     "text": [
      "Epoch 1/20\n",
      "266/266 - 7s - loss: 0.4129 - accuracy: 0.8073 - val_loss: 0.3496 - val_accuracy: 0.8483\n",
      "Epoch 2/20\n",
      "266/266 - 5s - loss: 0.3341 - accuracy: 0.8540 - val_loss: 0.3412 - val_accuracy: 0.8503\n",
      "Epoch 3/20\n",
      "266/266 - 5s - loss: 0.3081 - accuracy: 0.8653 - val_loss: 0.3298 - val_accuracy: 0.8525\n",
      "Epoch 4/20\n",
      "266/266 - 5s - loss: 0.2853 - accuracy: 0.8757 - val_loss: 0.3251 - val_accuracy: 0.8540\n",
      "Epoch 5/20\n",
      "266/266 - 5s - loss: 0.2663 - accuracy: 0.8853 - val_loss: 0.3346 - val_accuracy: 0.8567\n",
      "Epoch 6/20\n",
      "266/266 - 5s - loss: 0.2485 - accuracy: 0.8937 - val_loss: 0.3357 - val_accuracy: 0.8585\n",
      "Epoch 7/20\n",
      "266/266 - 5s - loss: 0.2320 - accuracy: 0.9017 - val_loss: 0.3532 - val_accuracy: 0.8575\n",
      "Epoch 8/20\n",
      "266/266 - 5s - loss: 0.2149 - accuracy: 0.9094 - val_loss: 0.3652 - val_accuracy: 0.8542\n",
      "Epoch 00008: early stopping\n",
      "\n",
      "\n"
     ]
    },
    {
     "data": {
      "image/png": "[encoded data removed]",
      "text/plain": [
       "<Figure size 720x288 with 2 Axes>"
      ]
     },
     "metadata": {
      "needs_background": "light"
     },
     "output_type": "display_data"
    }
   ],
   "source": [
    "vs_5000__history = train(vs_5000_rnn,\n",
    "                        vs_5000_dataset.X_train,\n",
    "                        vs_5000_dataset.y_train,\n",
    "                        vs_5000_dataset.X_val, \n",
    "                        vs_5000_dataset.y_val)\n",
    "show_history_plot(vs_5000__history)"
   ]
  },
  {
   "cell_type": "markdown",
   "id": "improving-florist",
   "metadata": {},
   "source": [
    "#### 2) vocab_size = 10000"
   ]
  },
  {
   "cell_type": "code",
   "execution_count": 288,
   "id": "continuing-creature",
   "metadata": {
    "execution": {
     "iopub.execute_input": "2021-04-19T12:28:12.708461Z",
     "iopub.status.busy": "2021-04-19T12:28:12.708222Z",
     "iopub.status.idle": "2021-04-19T12:28:32.869702Z",
     "shell.execute_reply": "2021-04-19T12:28:32.869085Z",
     "shell.execute_reply.started": "2021-04-19T12:28:12.708433Z"
    },
    "tags": []
   },
   "outputs": [],
   "source": [
    "X_train, y_train, X_test, y_test, sp_tokenizer = load_data_with_sp(train_data,\n",
    "                                                                   test_data,\n",
    "                                                                   num_words=10000)\n",
    "vs_10000_dataset = Dataset(X_train, y_train, X_test, y_test, sp_tokenizer)"
   ]
  },
  {
   "cell_type": "code",
   "execution_count": 289,
   "id": "jewish-concentrate",
   "metadata": {
    "execution": {
     "iopub.execute_input": "2021-04-19T12:28:32.870816Z",
     "iopub.status.busy": "2021-04-19T12:28:32.870654Z",
     "iopub.status.idle": "2021-04-19T12:28:32.874203Z",
     "shell.execute_reply": "2021-04-19T12:28:32.873774Z",
     "shell.execute_reply.started": "2021-04-19T12:28:32.870795Z"
    },
    "tags": []
   },
   "outputs": [
    {
     "data": {
      "text/plain": [
       "(10000, 10000)"
      ]
     },
     "execution_count": 289,
     "metadata": {},
     "output_type": "execute_result"
    }
   ],
   "source": [
    "len(vs_10000_dataset.tokenizer.word_index),  len(vs_10000_dataset.tokenizer.index_word)"
   ]
  },
  {
   "cell_type": "code",
   "execution_count": 326,
   "id": "recreational-leather",
   "metadata": {
    "execution": {
     "iopub.execute_input": "2021-04-19T12:33:26.824990Z",
     "iopub.status.busy": "2021-04-19T12:33:26.824657Z",
     "iopub.status.idle": "2021-04-19T12:33:26.831589Z",
     "shell.execute_reply": "2021-04-19T12:33:26.830749Z",
     "shell.execute_reply.started": "2021-04-19T12:33:26.824942Z"
    },
    "tags": []
   },
   "outputs": [
    {
     "name": "stdout",
     "output_type": "stream",
     "text": [
      "X_train[1519] : [7609, 834, 196, 0, 499]\n",
      "X_train[1519] - raw : 픽션이지만 재미뚬ㅎㅎ\n",
      "X_train[1519] - decoding : 픽션이지만 재미 ⁇ ᄒᄒ\n",
      " >> id[7609] : ▁픽션\n",
      " >> id[834] : 이지만\n",
      " >> id[196] : ▁재미\n",
      " >> id[0] : <unk>\n",
      " >> id[499] : ᄒᄒ\n"
     ]
    }
   ],
   "source": [
    "sentence_idx = 1519\n",
    "print(f'X_train[{sentence_idx}] : {vs_10000_dataset.X_train[sentence_idx]}')\n",
    "print(f'X_train[{sentence_idx}] - raw : {train_data.iloc[sentence_idx][\"document\"]}')\n",
    "print(f'X_train[{sentence_idx}] - decoding : {vs_10000_dataset.tokenizer.decode(vs_10000_dataset.X_train[sentence_idx])}')\n",
    "for i in vs_10000_dataset.X_train[sentence_idx]:\n",
    "    print(f' >> id[{i}] : {vs_10000_dataset.tokenizer.index_word[i]}')"
   ]
  },
  {
   "cell_type": "markdown",
   "id": "attached-flavor",
   "metadata": {},
   "source": [
    "- 문장 길이 지정"
   ]
  },
  {
   "cell_type": "code",
   "execution_count": 333,
   "id": "professional-capture",
   "metadata": {
    "execution": {
     "iopub.execute_input": "2021-04-19T12:34:47.237809Z",
     "iopub.status.busy": "2021-04-19T12:34:47.237595Z",
     "iopub.status.idle": "2021-04-19T12:34:48.233784Z",
     "shell.execute_reply": "2021-04-19T12:34:48.233149Z",
     "shell.execute_reply.started": "2021-04-19T12:34:47.237786Z"
    },
    "tags": []
   },
   "outputs": [
    {
     "name": "stdout",
     "output_type": "stream",
     "text": [
      "min sentence length : 1\n",
      "max sentence length : 132\n",
      "avg sentence length : 16\n"
     ]
    },
    {
     "data": {
      "image/png": "[encoded data removed]",
      "text/plain": [
       "<Figure size 720x360 with 2 Axes>"
      ]
     },
     "metadata": {
      "needs_background": "light"
     },
     "output_type": "display_data"
    },
    {
     "name": "stdout",
     "output_type": "stream",
     "text": [
      "rate of sentences 45 or less in length : 0.9387133846848449\n",
      "rate of sentences 47 or less in length : 0.9438166121683929\n",
      "rate of sentences 49 or less in length : 0.9490771777647042\n",
      "rate of sentences 51 or less in length : 0.9541940868232751\n",
      "rate of sentences 53 or less in length : 0.9586200763431886\n"
     ]
    }
   ],
   "source": [
    "vs_10000_length_hist = check_sentence_len_distribution(vs_10000_dataset.X_train)\n",
    "\n",
    "for threshold in range(45, 55, 2):\n",
    "    rate_under_lenght_threshold(vs_10000_length_hist, threshold)"
   ]
  },
  {
   "cell_type": "code",
   "execution_count": 334,
   "id": "conditional-nudist",
   "metadata": {
    "execution": {
     "iopub.execute_input": "2021-04-19T12:34:54.524486Z",
     "iopub.status.busy": "2021-04-19T12:34:54.524245Z",
     "iopub.status.idle": "2021-04-19T12:34:54.527506Z",
     "shell.execute_reply": "2021-04-19T12:34:54.526822Z",
     "shell.execute_reply.started": "2021-04-19T12:34:54.524458Z"
    },
    "tags": []
   },
   "outputs": [],
   "source": [
    "vs_10000_max_length = 50"
   ]
  },
  {
   "cell_type": "markdown",
   "id": "arctic-possibility",
   "metadata": {},
   "source": [
    "- 패딩 추가"
   ]
  },
  {
   "cell_type": "code",
   "execution_count": 335,
   "id": "popular-exclusive",
   "metadata": {
    "execution": {
     "iopub.execute_input": "2021-04-19T12:34:57.959655Z",
     "iopub.status.busy": "2021-04-19T12:34:57.959400Z",
     "iopub.status.idle": "2021-04-19T12:34:58.818677Z",
     "shell.execute_reply": "2021-04-19T12:34:58.817981Z",
     "shell.execute_reply.started": "2021-04-19T12:34:57.959625Z"
    },
    "tags": []
   },
   "outputs": [],
   "source": [
    "vs_10000_dataset.X_train = tf.keras.preprocessing.sequence.pad_sequences(\n",
    "    vs_10000_dataset.X_train, padding='pre', maxlen=vs_10000_max_length)\n",
    "\n",
    "vs_10000_dataset.X_test = tf.keras.preprocessing.sequence.pad_sequences(\n",
    "    vs_10000_dataset.X_test, padding='pre', maxlen=vs_10000_max_length)"
   ]
  },
  {
   "cell_type": "markdown",
   "id": "shaped-script",
   "metadata": {},
   "source": [
    "- validation set 분리"
   ]
  },
  {
   "cell_type": "code",
   "execution_count": 336,
   "id": "thorough-creation",
   "metadata": {
    "execution": {
     "iopub.execute_input": "2021-04-19T12:34:58.819882Z",
     "iopub.status.busy": "2021-04-19T12:34:58.819686Z",
     "iopub.status.idle": "2021-04-19T12:34:58.842805Z",
     "shell.execute_reply": "2021-04-19T12:34:58.842186Z",
     "shell.execute_reply.started": "2021-04-19T12:34:58.819856Z"
    },
    "tags": []
   },
   "outputs": [
    {
     "data": {
      "text/plain": [
       "((136182, 50), (10000, 50), (136182,), (10000,))"
      ]
     },
     "execution_count": 336,
     "metadata": {},
     "output_type": "execute_result"
    }
   ],
   "source": [
    "vs_10000_dataset.X_train, vs_10000_dataset.X_val, vs_10000_dataset.y_train, vs_10000_dataset.y_val = train_test_split(vs_10000_dataset.X_train, vs_10000_dataset.y_train, test_size=10000, random_state=42)\n",
    "vs_10000_dataset.X_train.shape, vs_10000_dataset.X_val.shape, vs_10000_dataset.y_train.shape, vs_10000_dataset.y_val.shape"
   ]
  },
  {
   "cell_type": "markdown",
   "id": "champion-enclosure",
   "metadata": {},
   "source": [
    "- 모델 정의"
   ]
  },
  {
   "cell_type": "code",
   "execution_count": 337,
   "id": "hidden-category",
   "metadata": {
    "execution": {
     "iopub.execute_input": "2021-04-19T12:34:58.844063Z",
     "iopub.status.busy": "2021-04-19T12:34:58.843864Z",
     "iopub.status.idle": "2021-04-19T12:34:59.063089Z",
     "shell.execute_reply": "2021-04-19T12:34:59.062152Z",
     "shell.execute_reply.started": "2021-04-19T12:34:58.844037Z"
    },
    "tags": []
   },
   "outputs": [
    {
     "name": "stdout",
     "output_type": "stream",
     "text": [
      "Model: \"sequential_11\"\n",
      "_________________________________________________________________\n",
      "Layer (type)                 Output Shape              Param #   \n",
      "=================================================================\n",
      "embedding_11 (Embedding)     (None, None, 100)         1000000   \n",
      "_________________________________________________________________\n",
      "lstm_11 (LSTM)               (None, 128)               117248    \n",
      "_________________________________________________________________\n",
      "dense_22 (Dense)             (None, 128)               16512     \n",
      "_________________________________________________________________\n",
      "dense_23 (Dense)             (None, 1)                 129       \n",
      "=================================================================\n",
      "Total params: 1,133,889\n",
      "Trainable params: 1,133,889\n",
      "Non-trainable params: 0\n",
      "_________________________________________________________________\n"
     ]
    }
   ],
   "source": [
    "vs_10000_rnn = get_model(10000, units=128)"
   ]
  },
  {
   "cell_type": "markdown",
   "id": "executed-requirement",
   "metadata": {},
   "source": [
    "- 모델 학습"
   ]
  },
  {
   "cell_type": "code",
   "execution_count": 338,
   "id": "recorded-charter",
   "metadata": {
    "execution": {
     "iopub.execute_input": "2021-04-19T12:35:03.906735Z",
     "iopub.status.busy": "2021-04-19T12:35:03.906481Z",
     "iopub.status.idle": "2021-04-19T12:35:42.808668Z",
     "shell.execute_reply": "2021-04-19T12:35:42.808055Z",
     "shell.execute_reply.started": "2021-04-19T12:35:03.906706Z"
    },
    "tags": []
   },
   "outputs": [
    {
     "name": "stdout",
     "output_type": "stream",
     "text": [
      "Epoch 1/20\n",
      "266/266 - 7s - loss: 0.4112 - accuracy: 0.8075 - val_loss: 0.3373 - val_accuracy: 0.8537\n",
      "Epoch 2/20\n",
      "266/266 - 5s - loss: 0.3102 - accuracy: 0.8669 - val_loss: 0.3261 - val_accuracy: 0.8558\n",
      "Epoch 3/20\n",
      "266/266 - 5s - loss: 0.2770 - accuracy: 0.8802 - val_loss: 0.3212 - val_accuracy: 0.8587\n",
      "Epoch 4/20\n",
      "266/266 - 5s - loss: 0.2443 - accuracy: 0.8945 - val_loss: 0.3324 - val_accuracy: 0.8570\n",
      "Epoch 5/20\n",
      "266/266 - 5s - loss: 0.2156 - accuracy: 0.9081 - val_loss: 0.3752 - val_accuracy: 0.8526\n",
      "Epoch 6/20\n",
      "266/266 - 5s - loss: 0.1872 - accuracy: 0.9207 - val_loss: 0.3966 - val_accuracy: 0.8486\n",
      "Epoch 7/20\n",
      "266/266 - 5s - loss: 0.1643 - accuracy: 0.9312 - val_loss: 0.4561 - val_accuracy: 0.8496\n",
      "Epoch 00007: early stopping\n",
      "\n",
      "\n"
     ]
    },
    {
     "data": {
      "image/png": "[encoded data removed]",
      "text/plain": [
       "<Figure size 720x288 with 2 Axes>"
      ]
     },
     "metadata": {
      "needs_background": "light"
     },
     "output_type": "display_data"
    }
   ],
   "source": [
    "vs_10000_history = train(vs_10000_rnn,\n",
    "                        vs_10000_dataset.X_train,\n",
    "                        vs_10000_dataset.y_train,\n",
    "                        vs_10000_dataset.X_val, \n",
    "                        vs_10000_dataset.y_val)\n",
    "show_history_plot(vs_10000_history)"
   ]
  },
  {
   "cell_type": "markdown",
   "id": "complete-diabetes",
   "metadata": {},
   "source": [
    "#### 3) vocab_size = 100000"
   ]
  },
  {
   "cell_type": "code",
   "execution_count": 284,
   "id": "banned-picnic",
   "metadata": {
    "execution": {
     "iopub.execute_input": "2021-04-19T12:26:42.070403Z",
     "iopub.status.busy": "2021-04-19T12:26:42.070245Z",
     "iopub.status.idle": "2021-04-19T12:26:53.742002Z",
     "shell.execute_reply": "2021-04-19T12:26:53.741250Z",
     "shell.execute_reply.started": "2021-04-19T12:26:42.070382Z"
    },
    "tags": []
   },
   "outputs": [],
   "source": [
    "X_train, y_train, X_test, y_test, sp_tokenizer = load_data_with_sp(train_data,\n",
    "                                                                   test_data,\n",
    "                                                                   num_words=100000)\n",
    "vs_100000_dataset = Dataset(X_train, y_train, X_test, y_test, sp_tokenizer)"
   ]
  },
  {
   "cell_type": "code",
   "execution_count": 285,
   "id": "challenging-newcastle",
   "metadata": {
    "execution": {
     "iopub.execute_input": "2021-04-19T12:27:06.828378Z",
     "iopub.status.busy": "2021-04-19T12:27:06.827890Z",
     "iopub.status.idle": "2021-04-19T12:27:06.833040Z",
     "shell.execute_reply": "2021-04-19T12:27:06.832278Z",
     "shell.execute_reply.started": "2021-04-19T12:27:06.828345Z"
    },
    "tags": []
   },
   "outputs": [
    {
     "data": {
      "text/plain": [
       "(100000, 100000)"
      ]
     },
     "execution_count": 285,
     "metadata": {},
     "output_type": "execute_result"
    }
   ],
   "source": [
    "len(vs_100000_dataset.tokenizer.word_index),  len(vs_100000_dataset.tokenizer.index_word)"
   ]
  },
  {
   "cell_type": "code",
   "execution_count": 324,
   "id": "failing-aurora",
   "metadata": {
    "execution": {
     "iopub.execute_input": "2021-04-19T12:32:39.285453Z",
     "iopub.status.busy": "2021-04-19T12:32:39.285215Z",
     "iopub.status.idle": "2021-04-19T12:32:39.291034Z",
     "shell.execute_reply": "2021-04-19T12:32:39.290261Z",
     "shell.execute_reply.started": "2021-04-19T12:32:39.285424Z"
    },
    "tags": []
   },
   "outputs": [
    {
     "name": "stdout",
     "output_type": "stream",
     "text": [
      "X_train[1519] : [14970, 115, 133, 0, 290]\n",
      "X_train[1519] - raw : 픽션이지만 재미뚬ㅎㅎ\n",
      "X_train[1519] - decoding : 픽션이지만 재미 ⁇ ᄒᄒ\n",
      " >> id[14970] : ▁픽션이\n",
      " >> id[115] : 지만\n",
      " >> id[133] : ▁재미\n",
      " >> id[0] : <unk>\n",
      " >> id[290] : ᄒᄒ\n"
     ]
    }
   ],
   "source": [
    "sentence_idx = 1519\n",
    "print(f'X_train[{sentence_idx}] : {vs_100000_dataset.X_train[sentence_idx]}')\n",
    "print(f'X_train[{sentence_idx}] - raw : {train_data.iloc[sentence_idx][\"document\"]}')\n",
    "print(f'X_train[{sentence_idx}] - decoding : {vs_100000_dataset.tokenizer.decode(vs_100000_dataset.X_train[sentence_idx])}')\n",
    "for i in vs_100000_dataset.X_train[sentence_idx]:\n",
    "    print(f' >> id[{i}] : {vs_100000_dataset.tokenizer.index_word[i]}')"
   ]
  },
  {
   "cell_type": "markdown",
   "id": "thermal-parks",
   "metadata": {},
   "source": [
    "- 문장 길이 지정"
   ]
  },
  {
   "cell_type": "code",
   "execution_count": 340,
   "id": "stupid-current",
   "metadata": {
    "execution": {
     "iopub.execute_input": "2021-04-19T12:35:57.310888Z",
     "iopub.status.busy": "2021-04-19T12:35:57.310617Z",
     "iopub.status.idle": "2021-04-19T12:35:58.207035Z",
     "shell.execute_reply": "2021-04-19T12:35:58.206405Z",
     "shell.execute_reply.started": "2021-04-19T12:35:57.310859Z"
    },
    "tags": []
   },
   "outputs": [
    {
     "name": "stdout",
     "output_type": "stream",
     "text": [
      "min sentence length : 1\n",
      "max sentence length : 93\n",
      "avg sentence length : 12\n"
     ]
    },
    {
     "data": {
      "image/png": "[encoded data removed]",
      "text/plain": [
       "<Figure size 720x360 with 2 Axes>"
      ]
     },
     "metadata": {
      "needs_background": "light"
     },
     "output_type": "display_data"
    },
    {
     "name": "stdout",
     "output_type": "stream",
     "text": [
      "rate of sentences 30 or less in length : 0.9240056915352095\n",
      "rate of sentences 32 or less in length : 0.9330218494753116\n",
      "rate of sentences 34 or less in length : 0.9403962184126636\n",
      "rate of sentences 36 or less in length : 0.9473601400993282\n",
      "rate of sentences 38 or less in length : 0.9537083909099615\n"
     ]
    }
   ],
   "source": [
    "vs_100000_length_hist = check_sentence_len_distribution(vs_100000_dataset.X_train)\n",
    "\n",
    "for threshold in range(30, 40, 2):\n",
    "    rate_under_lenght_threshold(vs_100000_length_hist, threshold)"
   ]
  },
  {
   "cell_type": "code",
   "execution_count": 342,
   "id": "fifth-clothing",
   "metadata": {
    "execution": {
     "iopub.execute_input": "2021-04-19T12:36:10.225705Z",
     "iopub.status.busy": "2021-04-19T12:36:10.225459Z",
     "iopub.status.idle": "2021-04-19T12:36:10.229307Z",
     "shell.execute_reply": "2021-04-19T12:36:10.228507Z",
     "shell.execute_reply.started": "2021-04-19T12:36:10.225675Z"
    },
    "tags": []
   },
   "outputs": [],
   "source": [
    "vs_100000_max_length = 37"
   ]
  },
  {
   "cell_type": "markdown",
   "id": "settled-jordan",
   "metadata": {},
   "source": [
    "- 패딩 추가"
   ]
  },
  {
   "cell_type": "code",
   "execution_count": 343,
   "id": "third-cornwall",
   "metadata": {
    "execution": {
     "iopub.execute_input": "2021-04-19T12:36:25.241494Z",
     "iopub.status.busy": "2021-04-19T12:36:25.241257Z",
     "iopub.status.idle": "2021-04-19T12:36:25.993245Z",
     "shell.execute_reply": "2021-04-19T12:36:25.992647Z",
     "shell.execute_reply.started": "2021-04-19T12:36:25.241465Z"
    },
    "tags": []
   },
   "outputs": [],
   "source": [
    "vs_100000_dataset.X_train = tf.keras.preprocessing.sequence.pad_sequences(\n",
    "    vs_100000_dataset.X_train, padding='pre', maxlen=vs_100000_max_length)\n",
    "\n",
    "vs_100000_dataset.X_test = tf.keras.preprocessing.sequence.pad_sequences(\n",
    "    vs_100000_dataset.X_test, padding='pre', maxlen=vs_100000_max_length)"
   ]
  },
  {
   "cell_type": "markdown",
   "id": "occupied-interpretation",
   "metadata": {},
   "source": [
    "- validation set 분리"
   ]
  },
  {
   "cell_type": "code",
   "execution_count": 344,
   "id": "muslim-healing",
   "metadata": {
    "execution": {
     "iopub.execute_input": "2021-04-19T12:36:46.282004Z",
     "iopub.status.busy": "2021-04-19T12:36:46.281757Z",
     "iopub.status.idle": "2021-04-19T12:36:46.307585Z",
     "shell.execute_reply": "2021-04-19T12:36:46.306458Z",
     "shell.execute_reply.started": "2021-04-19T12:36:46.281974Z"
    },
    "tags": []
   },
   "outputs": [
    {
     "data": {
      "text/plain": [
       "((136182, 37), (10000, 37), (136182,), (10000,))"
      ]
     },
     "execution_count": 344,
     "metadata": {},
     "output_type": "execute_result"
    }
   ],
   "source": [
    "vs_100000_dataset.X_train, vs_100000_dataset.X_val, vs_100000_dataset.y_train, vs_100000_dataset.y_val = train_test_split(vs_100000_dataset.X_train, vs_20000_dataset.y_train, test_size=10000, random_state=42)\n",
    "vs_100000_dataset.X_train.shape, vs_100000_dataset.X_val.shape, vs_100000_dataset.y_train.shape, vs_100000_dataset.y_val.shape"
   ]
  },
  {
   "cell_type": "markdown",
   "id": "biological-bacteria",
   "metadata": {},
   "source": [
    "- 모델 정의"
   ]
  },
  {
   "cell_type": "code",
   "execution_count": 345,
   "id": "sufficient-infrared",
   "metadata": {
    "execution": {
     "iopub.execute_input": "2021-04-19T12:36:58.684292Z",
     "iopub.status.busy": "2021-04-19T12:36:58.684047Z",
     "iopub.status.idle": "2021-04-19T12:36:58.949282Z",
     "shell.execute_reply": "2021-04-19T12:36:58.948673Z",
     "shell.execute_reply.started": "2021-04-19T12:36:58.684262Z"
    },
    "tags": []
   },
   "outputs": [
    {
     "name": "stdout",
     "output_type": "stream",
     "text": [
      "Model: \"sequential_12\"\n",
      "_________________________________________________________________\n",
      "Layer (type)                 Output Shape              Param #   \n",
      "=================================================================\n",
      "embedding_12 (Embedding)     (None, None, 100)         10000000  \n",
      "_________________________________________________________________\n",
      "lstm_12 (LSTM)               (None, 128)               117248    \n",
      "_________________________________________________________________\n",
      "dense_24 (Dense)             (None, 128)               16512     \n",
      "_________________________________________________________________\n",
      "dense_25 (Dense)             (None, 1)                 129       \n",
      "=================================================================\n",
      "Total params: 10,133,889\n",
      "Trainable params: 10,133,889\n",
      "Non-trainable params: 0\n",
      "_________________________________________________________________\n"
     ]
    }
   ],
   "source": [
    "vs_100000_rnn = get_model(100000, units=128)"
   ]
  },
  {
   "cell_type": "markdown",
   "id": "completed-million",
   "metadata": {},
   "source": [
    "- 모델 학습"
   ]
  },
  {
   "cell_type": "code",
   "execution_count": 346,
   "id": "magnetic-diabetes",
   "metadata": {
    "execution": {
     "iopub.execute_input": "2021-04-19T12:37:37.357681Z",
     "iopub.status.busy": "2021-04-19T12:37:37.357392Z",
     "iopub.status.idle": "2021-04-19T12:39:31.837839Z",
     "shell.execute_reply": "2021-04-19T12:39:31.837177Z",
     "shell.execute_reply.started": "2021-04-19T12:37:37.357633Z"
    },
    "tags": []
   },
   "outputs": [
    {
     "name": "stdout",
     "output_type": "stream",
     "text": [
      "Epoch 1/20\n",
      "266/266 - 25s - loss: 0.4201 - accuracy: 0.8023 - val_loss: 0.3493 - val_accuracy: 0.8479\n",
      "Epoch 2/20\n",
      "266/266 - 22s - loss: 0.2264 - accuracy: 0.9111 - val_loss: 0.3691 - val_accuracy: 0.8462\n",
      "Epoch 3/20\n",
      "266/266 - 22s - loss: 0.1414 - accuracy: 0.9476 - val_loss: 0.4508 - val_accuracy: 0.8391\n",
      "Epoch 4/20\n",
      "266/266 - 23s - loss: 0.0853 - accuracy: 0.9687 - val_loss: 0.6017 - val_accuracy: 0.8325\n",
      "Epoch 5/20\n",
      "266/266 - 22s - loss: 0.0532 - accuracy: 0.9804 - val_loss: 0.7924 - val_accuracy: 0.8302\n",
      "Epoch 00005: early stopping\n",
      "\n",
      "\n"
     ]
    },
    {
     "data": {
      "image/png": "[encoded data removed]",
      "text/plain": [
       "<Figure size 720x288 with 2 Axes>"
      ]
     },
     "metadata": {
      "needs_background": "light"
     },
     "output_type": "display_data"
    }
   ],
   "source": [
    "vs_100000_history = train(vs_100000_rnn,\n",
    "                          vs_100000_dataset.X_train,\n",
    "                          vs_100000_dataset.y_train,\n",
    "                          vs_100000_dataset.X_val, \n",
    "                          vs_100000_dataset.y_val)\n",
    "show_history_plot(vs_100000_history)"
   ]
  },
  {
   "cell_type": "markdown",
   "id": "colonial-conflict",
   "metadata": {},
   "source": [
    "#### 4) 모델평가"
   ]
  },
  {
   "cell_type": "code",
   "execution_count": 348,
   "id": "alone-guard",
   "metadata": {
    "execution": {
     "iopub.execute_input": "2021-04-19T12:57:08.665835Z",
     "iopub.status.busy": "2021-04-19T12:57:08.665574Z",
     "iopub.status.idle": "2021-04-19T12:57:16.981730Z",
     "shell.execute_reply": "2021-04-19T12:57:16.981121Z",
     "shell.execute_reply.started": "2021-04-19T12:57:08.665806Z"
    },
    "tags": []
   },
   "outputs": [
    {
     "name": "stdout",
     "output_type": "stream",
     "text": [
      "1537/1537 - 3s - loss: 0.3788 - accuracy: 0.8466\n",
      "1537/1537 - 3s - loss: 0.4690 - accuracy: 0.8479\n",
      "1537/1537 - 3s - loss: 0.8192 - accuracy: 0.8327\n"
     ]
    }
   ],
   "source": [
    "X_test_list = [vs_5000_dataset.X_test, vs_10000_dataset.X_test, vs_100000_dataset.X_test]\n",
    "y_test_list = [vs_5000_dataset.y_test, vs_10000_dataset.y_test, vs_100000_dataset.y_test]\n",
    "models = [vs_5000_rnn, vs_10000_rnn, vs_100000_rnn]\n",
    "\n",
    "evaluation_res = [ models[i].evaluate(X_test_list[i],\n",
    "                                      y_test_list[i],\n",
    "                                      verbose=2) for i in range(3)]\n",
    "df = pd.DataFrame(evaluation_res, \n",
    "                  index=['5000', '10000', '100000'],\n",
    "                  columns=['loss', 'accuracy'])"
   ]
  },
  {
   "cell_type": "code",
   "execution_count": 355,
   "id": "characteristic-reservation",
   "metadata": {
    "execution": {
     "iopub.execute_input": "2021-04-19T12:59:52.668135Z",
     "iopub.status.busy": "2021-04-19T12:59:52.667846Z",
     "iopub.status.idle": "2021-04-19T12:59:52.676524Z",
     "shell.execute_reply": "2021-04-19T12:59:52.675828Z",
     "shell.execute_reply.started": "2021-04-19T12:59:52.668094Z"
    },
    "tags": []
   },
   "outputs": [
    {
     "data": {
      "text/html": [
       "<div>\n",
       "<style scoped>\n",
       "    .dataframe tbody tr th:only-of-type {\n",
       "        vertical-align: middle;\n",
       "    }\n",
       "\n",
       "    .dataframe tbody tr th {\n",
       "        vertical-align: top;\n",
       "    }\n",
       "\n",
       "    .dataframe thead th {\n",
       "        text-align: right;\n",
       "    }\n",
       "</style>\n",
       "<table border=\"1\" class=\"dataframe\">\n",
       "  <thead>\n",
       "    <tr style=\"text-align: right;\">\n",
       "      <th></th>\n",
       "      <th>loss</th>\n",
       "      <th>accuracy</th>\n",
       "    </tr>\n",
       "  </thead>\n",
       "  <tbody>\n",
       "    <tr>\n",
       "      <th>5000</th>\n",
       "      <td>0.378827</td>\n",
       "      <td>0.846594</td>\n",
       "    </tr>\n",
       "    <tr>\n",
       "      <th>10000</th>\n",
       "      <td>0.469029</td>\n",
       "      <td>0.847936</td>\n",
       "    </tr>\n",
       "    <tr>\n",
       "      <th>100000</th>\n",
       "      <td>0.819234</td>\n",
       "      <td>0.832740</td>\n",
       "    </tr>\n",
       "  </tbody>\n",
       "</table>\n",
       "</div>"
      ],
      "text/plain": [
       "            loss  accuracy\n",
       "5000    0.378827  0.846594\n",
       "10000   0.469029  0.847936\n",
       "100000  0.819234  0.832740"
      ]
     },
     "execution_count": 355,
     "metadata": {},
     "output_type": "execute_result"
    }
   ],
   "source": [
    "df"
   ]
  },
  {
   "cell_type": "markdown",
   "id": "tracked-daisy",
   "metadata": {},
   "source": [
    "모든 경우에 accuary 80%가 넘는 준수한 결과를 보였다.\n",
    "\n",
    "지표에 따라 순위를 매겨 보면 아래와 같다.\n",
    "- loss : 5000 > 10000 > 100000\n",
    "- accuray : 10000 > 5000 > 100000\n",
    "\n",
    "loss는 단어사전의 크기가 클수록 증가하였다. accaury는 단어 사전의 크기가 10000일 때 가장 높았다.\n",
    "\n",
    "단어 사전 크기에 따른 차이를 가장 크게 느낄 수 있었던 때는, 인코딩 결과를 index_word와 매치하여 단어사전의 구성을 확인하였을 때였다. 같은 SentencePiece를 사용하여도 단어장의 크기에 따라 단어사전의 구성이 달라지는 것을 볼 수 있다.\n",
    "\n",
    "![decodeing](https://ifh.cc/g/tclDIT.png)"
   ]
  },
  {
   "cell_type": "markdown",
   "id": "annual-carol",
   "metadata": {},
   "source": [
    "## STEP 3. 결론\n",
    "---"
   ]
  },
  {
   "cell_type": "markdown",
   "id": "civilian-duration",
   "metadata": {},
   "source": [
    "### 프로젝트 평가\n",
    "1. SentencePiece를 이용하여 모델을 만들기까지의 과정이 정상적으로 진행되었는가?<br>코퍼스 분석, 전처리, SentencePiece 적용, 토크나이저 구현 및 동작이 빠짐없이 진행되었는가?\n",
    "    - 각 동작들은 각각 아래와 같은 소제목 아래 진행되었다.\n",
    "        - 코퍼스 분석 : 데이터 분석 및 가공\n",
    "        - 전처리 : 데이터 로더 정의 \n",
    "        - SentencePiece 적용: SPTockenizer.train\n",
    "        - 토크나이저 구현 : Tokenizer 함수 정의 - SPTockenizer.tokenize /  KhaiiiTocknizer.tokenize / MecabTockenizer.tokenize\n",
    "2. SentencePiece를 통해 만든 Tokenizer가 자연어처리 모델과 결합하여 동작하는가?<br>SentencePiece 토크나이저가 적용된 Text Classifier 모델이 정상적으로 수렴하여 80% 이상의 test accuracy가 확인되었다.\n",
    "    - SentencePiece 토크나이저를 적용하여 데이터 로더를 구성하였다.\n",
    "    - 데이터 로더를 통해 불러들인 데이터를 LSTM 모델의 input으로 사용하였다.\n",
    "    - 위의 모델의 학습이 종료된 후, test dataset을 이용하여 evaluation을 진행하였고, 모든 모델이 80% 이상의 accuarcy를 기록하였다.\n",
    "3. SentencePiece의 성능을 다각도로 비교분석하였는가?<br>SentencePiece 토크나이저를 활용했을 때의 성능을 다른 토크나이저 혹은 SentencePiece의 다른 옵션의 경우와 비교하여 분석을 체계적으로 진행하였다.\n",
    "    - 본 프로젝트에서 세가지 방면에서 SentencePiece의 성능을 비교해 보았다.\n",
    "        1. 다른 토크나이저와의 성능 비교 : SentencePiece와 더불어 Khaiii, Mecab를 사용하여 동일한 작업을 수행하였다. 네이버 영화리뷰 데이터를 이용한 감정분석 문제에 대해서는 Mecab가 가장 좋은 성능을 보였다.\n",
    "        2. SentencePiece 모델 별 성능 비교 :  SentencePiece의 모델 중 unigram, bpe, char를 사용하여 동일한 작업을 수행하였다. 테스트 결과, bpe > char > unigram 순으로 좋을 성능을 보였다.\n",
    "        3.  SentencePiece의 단어 사전 크기에 따른 성능 비교 : SentencePiece의 단어 사전 크기를 제한하며 사전 크기에 따른 성능 차이를 확인해 보았다. 사용된 단어 사전의 크기는 5000, 10000, 100000이고 확인 결과, 10000 > 5000 > 100000 순으로 좋은 성능을 보였다."
   ]
  },
  {
   "cell_type": "markdown",
   "id": "rural-forwarding",
   "metadata": {},
   "source": [
    "### 회고\n",
    "- 많이 어렵지는 않지는 할 일이 많다고 생각되었던 과제다.\n",
    "- 토크나이저에 대해서 집고 넘어갈 수 있는 좋은 기회였다."
   ]
  },
  {
   "cell_type": "markdown",
   "id": "lesser-wright",
   "metadata": {},
   "source": [
    "## ref\n",
    "---\n",
    "- [02) 센텐스피스(SentencePiece)](https://wikidocs.net/86657)\n",
    "- [konlpy.tag.mecab](https://konlpy-ko.readthedocs.io/ko/v0.4.3/api/konlpy.tag/#mecab-class)\n",
    "- [Tokenizer 비교 실험(형태소분석, word piece)](https://i-am-wendy.tistory.com/27)\n",
    "- [kakao/khaiii](https://ss37g.app.goo.gl/RHMD)\n",
    "- [6) 네이버 영화 리뷰 감성 분류하기(Naver Movie Review Sentiment Analysis)\n",
    "](https://wikidocs.net/44249)\n",
    "- [22. 자연어 처리하기 1](https://codetorial.net/tensorflow/natural_language_processing_in_tensorflow_01.html)\n",
    "- [TIL 191125 & before (2)-케라스 창시자에게 배우는 딥러닝-케라스 모델 구현하기](https://velog.io/@lostin185/TIL-191125-before-2)\n",
    "- [SentencePiece Tokenizer](https://donghwa-kim.github.io/SPM.html)\n",
    "- [한국어 형태소 분석기 성능 비교](https://iostream.tistory.com/144)\n",
    "- [형태소 분석기 성능 비교](https://ratsgo.github.io/from%20frequency%20to%20semantics/2017/05/10/postag/)\n",
    "-[ google/sentencepiece](https://github.com/google/sentencepiece)\n",
    "- [NLP - 2. 텍스트 토큰화(Text Tokenization)](https://bkshin.tistory.com/entry/NLP-2-%ED%85%8D%EC%8A%A4%ED%8A%B8-%ED%86%A0%ED%81%B0%ED%99%94Text-Tokenization)\n",
    "- [병렬 코퍼스 필터링과 한국어에 최적화된 서브 워드 분절 기법을 이용한 기계번역](http://hiai.co.kr/wp-content/uploads/2019/12/%EB%85%BC%EB%AC%B8%EC%A6%9D%EB%B9%99_2019_06.pdf)\n",
    "- [Subword Regularization(논문 읽기)](https://an-seunghwan.github.io/nlp/Subword-Regularization(%EB%85%BC%EB%AC%B8-%EC%9D%BD%EA%B8%B0)/)\n",
    "- [3 subword algorithms help to improve your NLP model performance](https://medium.com/@makcedward/how-subword-helps-on-your-nlp-model-83dd1b836f46)\n",
    "- [한국어 자연어처리 1편_서브워드 구축(Subword Tokenizer, Mecab, huggingface VS SentencePiece)](https://keep-steady.tistory.com/37)"
   ]
  }
 ],
 "metadata": {
  "kernelspec": {
   "display_name": "Python 3",
   "language": "python",
   "name": "python3"
  },
  "language_info": {
   "codemirror_mode": {
    "name": "ipython",
    "version": 3
   },
   "file_extension": ".py",
   "mimetype": "text/x-python",
   "name": "python",
   "nbconvert_exporter": "python",
   "pygments_lexer": "ipython3",
   "version": "3.7.10"
  },
  "toc-autonumbering": false
 },
 "nbformat": 4,
 "nbformat_minor": 5
}
