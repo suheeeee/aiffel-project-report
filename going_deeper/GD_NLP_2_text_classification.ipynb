{
 "cells": [
  {
   "cell_type": "markdown",
   "id": "524cd841",
   "metadata": {},
   "source": [
    "# 뉴스 카테고리 다중분류\n",
    "---"
   ]
  },
  {
   "cell_type": "markdown",
   "id": "816360c7",
   "metadata": {},
   "source": [
    "뉴스 데이터의 카테고리를 분류하는 분류기를 생성하고 이들의 성능을 비교하여 보자.\n",
    "1. 머신러닝 분류기 뿐만 아니라 딥러닝 분류기를 정의하고 사용해보자.\n",
    "2. 데이터를 전처리에는 TF-IDF를 사용하고, 단어사전의 수에 따른 성능 창리를 확인해보자."
   ]
  },
  {
   "cell_type": "markdown",
   "id": "871e2cb0",
   "metadata": {},
   "source": [
    "## Step 0. 설계\n",
    "---"
   ]
  },
  {
   "cell_type": "markdown",
   "id": "dbfbad47",
   "metadata": {},
   "source": [
    "1. 데이터 불러오기\n",
    "    - 로이터 뉴스 데이터를 불어들인다.\n",
    "    - 이때, 단어사전의 수가 제한없음, 5000, 10000이 되는 세가지의 데이터셋을 구성한다.\n",
    "    - 불러들인 데이터를 TF-IDF 방식으로 벡터화한다.\n",
    "2. 머신러닝 분류기를 통한 다중분류\n",
    "    - 아래의 8가지 머신러신 분류기를 학습시키는 함수를 작성한다.\n",
    "         - 나이브 베이지안 분류기\n",
    "        - 컴플리트 나이브 베이즈 분류기\n",
    "        - 로지스틱 회귀\n",
    "        - 선형 서포트 벡터 머신\n",
    "        - 결정트리\n",
    "        - 랜덤 포레스트\n",
    "        - 그래디언트 부스팅 트리\n",
    "        - 보팅 : 로지스틱 회귀 + 컴플리트 나이브 베이즈 분류기 + 그래디언트 부스팅 트리\n",
    "    - 각 분류기를 학습 시키고 단어 사전의 크기에 따른 성능과 각 분류기에 따른 성능을 비교하여 본다.\n",
    "3. 딥러닝 분류기를 통한 다중분류\n",
    "    - 다중분류를 위한 딥러닝 모델을 설계한다.\n",
    "    - 모델을 학습시키고 단어 사전의 크기에 따른 성능을 비교하여 본다.\n",
    "    - 머닝러닝 분류기와 딥러닝 분류기의 성능을 비교하여 본다."
   ]
  },
  {
   "cell_type": "markdown",
   "id": "01a13b1c",
   "metadata": {},
   "source": [
    "#### environment setting"
   ]
  },
  {
   "cell_type": "code",
   "execution_count": 68,
   "id": "507bf40a",
   "metadata": {
    "execution": {
     "iopub.execute_input": "2021-04-23T12:53:34.859391Z",
     "iopub.status.busy": "2021-04-23T12:53:34.859168Z",
     "iopub.status.idle": "2021-04-23T12:53:34.862974Z",
     "shell.execute_reply": "2021-04-23T12:53:34.862412Z",
     "shell.execute_reply.started": "2021-04-23T12:53:34.859364Z"
    },
    "tags": []
   },
   "outputs": [],
   "source": [
    "from tensorflow.keras.datasets import reuters\n",
    "import matplotlib.pyplot as plt\n",
    "import seaborn as sns\n",
    "import numpy as np\n",
    "import pandas as pd\n",
    "\n",
    "from sklearn.feature_extraction.text import CountVectorizer\n",
    "from sklearn.feature_extraction.text import TfidfTransformer"
   ]
  },
  {
   "cell_type": "code",
   "execution_count": 69,
   "id": "a5d0f7b3",
   "metadata": {
    "execution": {
     "iopub.execute_input": "2021-04-23T12:53:34.999845Z",
     "iopub.status.busy": "2021-04-23T12:53:34.999613Z",
     "iopub.status.idle": "2021-04-23T12:53:35.007673Z",
     "shell.execute_reply": "2021-04-23T12:53:35.007020Z",
     "shell.execute_reply.started": "2021-04-23T12:53:34.999816Z"
    },
    "tags": []
   },
   "outputs": [
    {
     "name": "stdout",
     "output_type": "stream",
     "text": [
      "1 Physical GPUs, 1 Logical GPUs\n",
      "\n",
      "\n"
     ]
    }
   ],
   "source": [
    "import tensorflow as tf\n",
    "def init_gpu():\n",
    "    gpus = tf.config.experimental.list_physical_devices('GPU')\n",
    "    if gpus:\n",
    "        try:\n",
    "            # Currently, memory growth needs to be the same across GPUs\n",
    "            for gpu in gpus:\n",
    "                tf.config.experimental.set_memory_growth(gpu, True)\n",
    "            logical_gpus = tf.config.experimental.list_logical_devices('GPU')\n",
    "            print(len(gpus), \"Physical GPUs,\", len(logical_gpus), \"Logical GPUs\\n\\n\")\n",
    "        except RuntimeError as e:\n",
    "            # Memory growth must be set before GPUs have been initialized\n",
    "            print(e, \"\\n\\n\")\n",
    "        \n",
    "init_gpu()"
   ]
  },
  {
   "cell_type": "markdown",
   "id": "ebc88e7b",
   "metadata": {},
   "source": [
    "## Step 1. 데이터 불러오기\n",
    "---"
   ]
  },
  {
   "cell_type": "markdown",
   "id": "6b90b671",
   "metadata": {},
   "source": [
    "### 1. 데이터 로더 구성"
   ]
  },
  {
   "cell_type": "markdown",
   "id": "3a054b97",
   "metadata": {},
   "source": [
    "데이터 로더의 역할을 아래와 같다.\n",
    "1. 입력받은 단어사전 수에 맞게 로이터 뉴스 데이터를 읽어들인다.\n",
    "2. 위에서 읽어들인 데이터의 디코딩하여 문장 데이터를 복원한다.\n",
    "3. 2에서 복원한 데이터를 TF-IDF 방식으로 벡터화 한다.\n",
    "4. 1에서 읽어들인 데이터의 target을 one-hot vecotr 방식으로 벡터화 한다.\n",
    "5. X_train, X_train_tfidfv, y_train, y_train_ct, X_test, X_test_tfidfv, y_test, y_test_ct를 반환한다.\n",
    "    - X_train : 2의 결과, 디코딩된 영어기사 문장\n",
    "    - X_train_tfidfv : 3의 결과, TF-IDF\n",
    "    - y_trian : target, single int\n",
    "    - y_train_ct  3의 결과,: taget, catecorical label"
   ]
  },
  {
   "cell_type": "code",
   "execution_count": 70,
   "id": "7ada1fed",
   "metadata": {
    "execution": {
     "iopub.execute_input": "2021-04-23T12:53:39.311245Z",
     "iopub.status.busy": "2021-04-23T12:53:39.311042Z",
     "iopub.status.idle": "2021-04-23T12:53:39.319215Z",
     "shell.execute_reply": "2021-04-23T12:53:39.318646Z",
     "shell.execute_reply.started": "2021-04-23T12:53:39.311220Z"
    },
    "tags": []
   },
   "outputs": [],
   "source": [
    "class Dataset:\n",
    "    def __init__(self, num_words):\n",
    "        (self.X_train_tfidfv, self.X_train, self.y_train, self.y_train_ct,\n",
    "         self.X_test_tfidfv, self.X_test, self.y_test, self.y_test_ct) = self.load_data(num_words=num_words)\n",
    "    \n",
    "    @classmethod\n",
    "    def load_data(cls, num_words=10000):\n",
    "        (x_train, y_train), (x_test, y_test) = train, test = reuters.load_data(num_words=num_words, test_split=0.2)\n",
    "\n",
    "        word_index = reuters.get_word_index(path=\"reuters_word_index.json\")\n",
    "        index_word = {i + 3 : w for w, i in word_index.items()}\n",
    "        for index, token in enumerate((\"<pad>\", \"<sos>\", \"<unk>\")):\n",
    "            index_word[index]=token\n",
    "\n",
    "        x_train = [ ' '.join([index_word[i] for i in sen]) for sen in x_train ]\n",
    "        x_test = [ ' '.join([index_word[i] for i in sen]) for sen in x_test ]\n",
    "\n",
    "        dtmvector = CountVectorizer()\n",
    "        tfidf_transformer = TfidfTransformer()\n",
    "\n",
    "        x_train_dtm = dtmvector.fit_transform(x_train)\n",
    "        x_train_tfidfv = tfidf_transformer.fit_transform(x_train_dtm)\n",
    "        \n",
    "        x_train_dtm = dtmvector.transform(x_train)\n",
    "        x_train_tfidfv = tfidf_transformer.transform(x_train_dtm)\n",
    "\n",
    "        x_test_dtm = dtmvector.transform(x_test)\n",
    "        x_test_tfidfv = tfidf_transformer.transform(x_test_dtm)\n",
    "        \n",
    "        class_num = max(y_train) + 1\n",
    "        y_train_ct = tf.keras.utils.to_categorical(y_train, class_num)\n",
    "        y_test_ct = tf.keras.utils.to_categorical(y_test, class_num)\n",
    "\n",
    "        return x_train_tfidfv, x_train, y_train, y_train_ct, x_test_tfidfv, x_test, y_test, y_test_ct"
   ]
  },
  {
   "cell_type": "markdown",
   "id": "00042005",
   "metadata": {},
   "source": [
    "### 2. 데이터 불러오기"
   ]
  },
  {
   "cell_type": "markdown",
   "id": "d7c338d4",
   "metadata": {},
   "source": [
    "#### 1) vocab size = None, 모든 단어 사용"
   ]
  },
  {
   "cell_type": "code",
   "execution_count": 78,
   "id": "7720817a",
   "metadata": {
    "execution": {
     "iopub.execute_input": "2021-04-23T12:53:49.119726Z",
     "iopub.status.busy": "2021-04-23T12:53:49.119566Z",
     "iopub.status.idle": "2021-04-23T12:53:51.710255Z",
     "shell.execute_reply": "2021-04-23T12:53:51.709807Z",
     "shell.execute_reply.started": "2021-04-23T12:53:49.119704Z"
    },
    "tags": []
   },
   "outputs": [
    {
     "name": "stdout",
     "output_type": "stream",
     "text": [
      "(8982, 26506) (2246, 26506)\n"
     ]
    }
   ],
   "source": [
    "dataset_all = Dataset(None)\n",
    "print(dataset_all.X_train_tfidfv.shape, dataset_all.X_test_tfidfv.shape)"
   ]
  },
  {
   "cell_type": "code",
   "execution_count": 72,
   "id": "fe13cbc0",
   "metadata": {
    "execution": {
     "iopub.execute_input": "2021-04-23T12:53:44.022562Z",
     "iopub.status.busy": "2021-04-23T12:53:44.022402Z",
     "iopub.status.idle": "2021-04-23T12:53:44.026398Z",
     "shell.execute_reply": "2021-04-23T12:53:44.025759Z",
     "shell.execute_reply.started": "2021-04-23T12:53:44.022541Z"
    },
    "tags": []
   },
   "outputs": [
    {
     "data": {
      "text/plain": [
       "'<sos> shr 1 86 dlrs vs 1 85 dlrs net 1 923 304 vs 1 897 998 reuter 3'"
      ]
     },
     "execution_count": 72,
     "metadata": {},
     "output_type": "execute_result"
    }
   ],
   "source": [
    "dataset_all.X_train[4587]"
   ]
  },
  {
   "cell_type": "code",
   "execution_count": 73,
   "id": "abf1b5c0",
   "metadata": {
    "execution": {
     "iopub.execute_input": "2021-04-23T12:53:44.027974Z",
     "iopub.status.busy": "2021-04-23T12:53:44.027776Z",
     "iopub.status.idle": "2021-04-23T12:53:44.048667Z",
     "shell.execute_reply": "2021-04-23T12:53:44.048151Z",
     "shell.execute_reply.started": "2021-04-23T12:53:44.027952Z"
    },
    "tags": []
   },
   "outputs": [],
   "source": [
    "vocab_size = len(reuters.get_word_index(path=\"reuters_word_index.json\")) + 3"
   ]
  },
  {
   "cell_type": "markdown",
   "id": "2add37c5",
   "metadata": {},
   "source": [
    "#### 2) vocab size = 5000, 빈도수 상위 5,000개의 단어만 사용"
   ]
  },
  {
   "cell_type": "code",
   "execution_count": 74,
   "id": "5839d842",
   "metadata": {
    "execution": {
     "iopub.execute_input": "2021-04-23T12:53:44.049732Z",
     "iopub.status.busy": "2021-04-23T12:53:44.049565Z",
     "iopub.status.idle": "2021-04-23T12:53:46.643066Z",
     "shell.execute_reply": "2021-04-23T12:53:46.642425Z",
     "shell.execute_reply.started": "2021-04-23T12:53:44.049710Z"
    },
    "tags": []
   },
   "outputs": [
    {
     "name": "stdout",
     "output_type": "stream",
     "text": [
      "(8982, 4867) (2246, 4867)\n"
     ]
    }
   ],
   "source": [
    "dataset_5000 = Dataset(5000)\n",
    "print(dataset_5000.X_train_tfidfv.shape, dataset_5000.X_test_tfidfv.shape)"
   ]
  },
  {
   "cell_type": "code",
   "execution_count": 75,
   "id": "cf433763",
   "metadata": {
    "execution": {
     "iopub.execute_input": "2021-04-23T12:53:46.644367Z",
     "iopub.status.busy": "2021-04-23T12:53:46.644198Z",
     "iopub.status.idle": "2021-04-23T12:53:46.647656Z",
     "shell.execute_reply": "2021-04-23T12:53:46.647220Z",
     "shell.execute_reply.started": "2021-04-23T12:53:46.644344Z"
    },
    "tags": []
   },
   "outputs": [
    {
     "data": {
      "text/plain": [
       "'<sos> shr 1 86 dlrs vs 1 85 dlrs net 1 <unk> 304 vs 1 <unk> <unk> reuter 3'"
      ]
     },
     "execution_count": 75,
     "metadata": {},
     "output_type": "execute_result"
    }
   ],
   "source": [
    "dataset_5000.X_train[4587]"
   ]
  },
  {
   "cell_type": "markdown",
   "id": "97f5b6f8",
   "metadata": {},
   "source": [
    "#### 3) vocab size = 10000, 빈도수 상위 10,000개의 단어만 사용"
   ]
  },
  {
   "cell_type": "code",
   "execution_count": 76,
   "id": "deb3489b",
   "metadata": {
    "execution": {
     "iopub.execute_input": "2021-04-23T12:53:46.648543Z",
     "iopub.status.busy": "2021-04-23T12:53:46.648388Z",
     "iopub.status.idle": "2021-04-23T12:53:49.114246Z",
     "shell.execute_reply": "2021-04-23T12:53:49.113693Z",
     "shell.execute_reply.started": "2021-04-23T12:53:46.648523Z"
    },
    "tags": []
   },
   "outputs": [
    {
     "name": "stdout",
     "output_type": "stream",
     "text": [
      "(8982, 9670) (2246, 9670)\n"
     ]
    }
   ],
   "source": [
    "dataset_10000 = Dataset(10000)\n",
    "print(dataset_10000.X_train_tfidfv.shape, dataset_10000.X_test_tfidfv.shape)"
   ]
  },
  {
   "cell_type": "code",
   "execution_count": 77,
   "id": "4d61771d",
   "metadata": {
    "execution": {
     "iopub.execute_input": "2021-04-23T12:53:49.115118Z",
     "iopub.status.busy": "2021-04-23T12:53:49.114962Z",
     "iopub.status.idle": "2021-04-23T12:53:49.118542Z",
     "shell.execute_reply": "2021-04-23T12:53:49.118116Z",
     "shell.execute_reply.started": "2021-04-23T12:53:49.115097Z"
    },
    "tags": []
   },
   "outputs": [
    {
     "data": {
      "text/plain": [
       "'<sos> shr 1 86 dlrs vs 1 85 dlrs net 1 <unk> 304 vs 1 897 998 reuter 3'"
      ]
     },
     "execution_count": 77,
     "metadata": {},
     "output_type": "execute_result"
    }
   ],
   "source": [
    "dataset_10000.X_train[4587]"
   ]
  },
  {
   "cell_type": "markdown",
   "id": "f327df52",
   "metadata": {},
   "source": [
    "## Step 2. 머신러닝 분류기를 통한 다중분류\n",
    "---"
   ]
  },
  {
   "cell_type": "markdown",
   "id": "9e74933c",
   "metadata": {},
   "source": [
    "### 1. 머신러닝 분류기 학습 함수 작성\n",
    "아래의 8가지 머신러신 분류기를 학습시킨 후 평가(accuarcy, f1 score) 결과를 반화하는 함수를 작성한다.\n",
    "- 나이브 베이지안 분류기\n",
    "- 컴플리트 나이브 베이즈 분류기\n",
    "- 로지스틱 회귀\n",
    "- 선형 서포트 벡터 머신\n",
    "- 결정트리\n",
    "- 랜덤 포레스트\n",
    "- 그래디언트 부스팅 트리\n",
    "- 보팅 : 로지스틱 회귀 + 컴플리트 나이브 베이즈 분류기 + 그래디언트 부스팅 트리"
   ]
  },
  {
   "cell_type": "code",
   "execution_count": 80,
   "id": "0ef80e97",
   "metadata": {
    "execution": {
     "iopub.execute_input": "2021-04-23T12:54:05.663925Z",
     "iopub.status.busy": "2021-04-23T12:54:05.663725Z",
     "iopub.status.idle": "2021-04-23T12:54:05.668171Z",
     "shell.execute_reply": "2021-04-23T12:54:05.667554Z",
     "shell.execute_reply.started": "2021-04-23T12:54:05.663900Z"
    },
    "tags": []
   },
   "outputs": [],
   "source": [
    "from sklearn.naive_bayes import MultinomialNB\n",
    "from sklearn.linear_model import LogisticRegression, SGDClassifier\n",
    "from sklearn.naive_bayes import ComplementNB\n",
    "from sklearn.tree import DecisionTreeClassifier\n",
    "from sklearn.ensemble import RandomForestClassifier\n",
    "from sklearn.ensemble import GradientBoostingClassifier\n",
    "from sklearn.ensemble import VotingClassifier\n",
    "from sklearn.svm import LinearSVC\n",
    "from sklearn.metrics import accuracy_score\n",
    "from sklearn.metrics import f1_score\n",
    "from sklearn.metrics import classification_report\n",
    "from sklearn.metrics import confusion_matrix\n",
    "\n",
    "import time\n",
    "import pandas as pd"
   ]
  },
  {
   "cell_type": "code",
   "execution_count": 11,
   "id": "c54049ed",
   "metadata": {
    "execution": {
     "iopub.execute_input": "2021-04-23T11:53:41.500236Z",
     "iopub.status.busy": "2021-04-23T11:53:41.500045Z",
     "iopub.status.idle": "2021-04-23T11:53:41.504639Z",
     "shell.execute_reply": "2021-04-23T11:53:41.504133Z",
     "shell.execute_reply.started": "2021-04-23T11:53:41.500213Z"
    },
    "tags": []
   },
   "outputs": [],
   "source": [
    "def train_and_evaluate(Model, parms, dataset, verbose=1):\n",
    "    begin = time.time()\n",
    "    \n",
    "    model = Model(**parms)\n",
    "    model.fit(dataset.X_train_tfidfv, dataset.y_train)\n",
    "    predicted = model.predict(dataset.X_test_tfidfv)\n",
    "    \n",
    "    acc = accuracy_score(dataset.y_test, predicted)\n",
    "    f1 = f1_score(dataset.y_test, predicted, average='weighted')\n",
    "\n",
    "    end = time.time()\n",
    "    \n",
    "    if verbose > 0:\n",
    "        print(f\"[{Model.__name__}] done\")\n",
    "    \n",
    "    if verbose > 1:\n",
    "        print(f\"Processing time: {(end - begin)} sec\")\n",
    "        print(f\"accuracy : {acc}\")\n",
    "        print(f\"f1 score : {f1}\\n\")\n",
    "        \n",
    "    return acc, f1"
   ]
  },
  {
   "cell_type": "code",
   "execution_count": 12,
   "id": "917e3f1b",
   "metadata": {
    "execution": {
     "iopub.execute_input": "2021-04-23T11:53:43.961862Z",
     "iopub.status.busy": "2021-04-23T11:53:43.961660Z",
     "iopub.status.idle": "2021-04-23T11:53:43.965466Z",
     "shell.execute_reply": "2021-04-23T11:53:43.964859Z",
     "shell.execute_reply.started": "2021-04-23T11:53:43.961833Z"
    },
    "tags": []
   },
   "outputs": [],
   "source": [
    "def run_train_and_evalute(classifiers, dataset, verbose=1):\n",
    "    res = [ ]\n",
    "    for classifier, params in classifiers:\n",
    "        acc, f1 = train_and_evaluate(classifier, params, dataset, verbose)\n",
    "        res.append({'acc': acc, \n",
    "                    'f1': f1})\n",
    "    return res"
   ]
  },
  {
   "cell_type": "code",
   "execution_count": 79,
   "id": "e6fb098a",
   "metadata": {
    "execution": {
     "iopub.execute_input": "2021-04-23T12:54:03.261603Z",
     "iopub.status.busy": "2021-04-23T12:54:03.261378Z",
     "iopub.status.idle": "2021-04-23T12:54:03.267167Z",
     "shell.execute_reply": "2021-04-23T12:54:03.266499Z",
     "shell.execute_reply.started": "2021-04-23T12:54:03.261571Z"
    },
    "tags": []
   },
   "outputs": [],
   "source": [
    "classifiers = [\n",
    "    (MultinomialNB, {}), # 나이브 베이지안 분류기\n",
    "    (ComplementNB, {}),  # 컴플리트 나이브 베이즈 분류기\n",
    "    (LogisticRegression, { 'C': 10000, 'penalty': 'l2', 'solver': 'lbfgs', 'max_iter': 2500}), # 로지스틱 회귀\n",
    "    (LinearSVC, {'C': 1000, 'penalty': 'l1', 'max_iter': 2500, 'dual': False}), # 선형 서포트 벡터 머신\n",
    "    (DecisionTreeClassifier, {'max_depth': 10, 'random_state': 0}), # 결정트리\n",
    "    (RandomForestClassifier, {'n_estimators': 5, 'random_state': 0}), # 랜덤 포레스트\n",
    "    (GradientBoostingClassifier, {'random_state': 0}), # 그래디언트 부스팅 트리\n",
    "    (VotingClassifier, {'estimators':[\n",
    "                         ('lr', LogisticRegression(C=10000, penalty='l2', max_iter=2500)),\n",
    "                         ('cb', ComplementNB()),\n",
    "                         ('grbt', GradientBoostingClassifier(random_state=0))], \n",
    "                        'voting':'soft',\n",
    "                        'n_jobs':-1 }), # 보팅\n",
    "]\n",
    "\n",
    "classifier_names = [ 'MultinomialNB',\n",
    "                     'ComplementNB',\n",
    "                     'LogisticRegression',\n",
    "                     'LinearSVC',\n",
    "                     'DecisionTreeClassifier',\n",
    "                     'RandomForestClassifier',\n",
    "                     'GradientBoostingClassifier',\n",
    "                     'VotingClassifier']"
   ]
  },
  {
   "cell_type": "markdown",
   "id": "c6314dbf",
   "metadata": {},
   "source": [
    "### 2. 모델 학습 및 평가"
   ]
  },
  {
   "cell_type": "markdown",
   "id": "31b5809f",
   "metadata": {},
   "source": [
    "#### 1) vocab size = None"
   ]
  },
  {
   "cell_type": "code",
   "execution_count": 19,
   "id": "4a9e3542",
   "metadata": {
    "execution": {
     "iopub.execute_input": "2021-04-22T00:54:28.049311Z",
     "iopub.status.busy": "2021-04-22T00:54:28.049111Z",
     "iopub.status.idle": "2021-04-22T01:36:29.426609Z",
     "shell.execute_reply": "2021-04-22T01:36:29.426001Z",
     "shell.execute_reply.started": "2021-04-22T00:54:28.049287Z"
    },
    "tags": []
   },
   "outputs": [
    {
     "name": "stdout",
     "output_type": "stream",
     "text": [
      "[MultinomialNB] done\n",
      "Processing time: 0.05890989303588867 sec\n",
      "accuracy : 0.5997328584149599\n",
      "f1 score : 0.5045670886188423\n",
      "\n",
      "[ComplementNB] done\n",
      "Processing time: 0.07724595069885254 sec\n",
      "accuracy : 0.7649154051647373\n",
      "f1 score : 0.7346534179503126\n",
      "\n",
      "[LogisticRegression] done\n",
      "Processing time: 624.3164720535278 sec\n",
      "accuracy : 0.8165627782724845\n",
      "f1 score : 0.8111268305241908\n",
      "\n"
     ]
    },
    {
     "name": "stderr",
     "output_type": "stream",
     "text": [
      "/home/aiffel-dj1/anaconda3/envs/aiffel/lib/python3.7/site-packages/sklearn/svm/_base.py:986: ConvergenceWarning: Liblinear failed to converge, increase the number of iterations.\n",
      "  \"the number of iterations.\", ConvergenceWarning)\n"
     ]
    },
    {
     "name": "stdout",
     "output_type": "stream",
     "text": [
      "[LinearSVC] done\n",
      "Processing time: 84.65297222137451 sec\n",
      "accuracy : 0.7920747996438112\n",
      "f1 score : 0.7877334430669888\n",
      "\n",
      "[DecisionTreeClassifier] done\n",
      "Processing time: 1.4907686710357666 sec\n",
      "accuracy : 0.6211041852181657\n",
      "f1 score : 0.5769283128518846\n",
      "\n",
      "[RandomForestClassifier] done\n",
      "Processing time: 2.4329726696014404 sec\n",
      "accuracy : 0.6544968833481746\n",
      "f1 score : 0.6225909375608356\n",
      "\n",
      "[GradientBoostingClassifier] done\n",
      "Processing time: 872.2949137687683 sec\n",
      "accuracy : 0.7702582368655387\n",
      "f1 score : 0.7641672650539437\n",
      "\n",
      "[VotingClassifier] done\n",
      "Processing time: 936.0385172367096 sec\n",
      "accuracy : 0.8156723063223509\n",
      "f1 score : 0.8117561034163696\n",
      "\n"
     ]
    },
    {
     "data": {
      "text/html": [
       "<div>\n",
       "<style scoped>\n",
       "    .dataframe tbody tr th:only-of-type {\n",
       "        vertical-align: middle;\n",
       "    }\n",
       "\n",
       "    .dataframe tbody tr th {\n",
       "        vertical-align: top;\n",
       "    }\n",
       "\n",
       "    .dataframe thead th {\n",
       "        text-align: right;\n",
       "    }\n",
       "</style>\n",
       "<table border=\"1\" class=\"dataframe\">\n",
       "  <thead>\n",
       "    <tr style=\"text-align: right;\">\n",
       "      <th></th>\n",
       "      <th>acc</th>\n",
       "      <th>f1</th>\n",
       "    </tr>\n",
       "  </thead>\n",
       "  <tbody>\n",
       "    <tr>\n",
       "      <th>MultinomialNB</th>\n",
       "      <td>0.599733</td>\n",
       "      <td>0.504567</td>\n",
       "    </tr>\n",
       "    <tr>\n",
       "      <th>ComplementNB</th>\n",
       "      <td>0.764915</td>\n",
       "      <td>0.734653</td>\n",
       "    </tr>\n",
       "    <tr>\n",
       "      <th>LogisticRegression</th>\n",
       "      <td>0.816563</td>\n",
       "      <td>0.811127</td>\n",
       "    </tr>\n",
       "    <tr>\n",
       "      <th>LinearSVC</th>\n",
       "      <td>0.792075</td>\n",
       "      <td>0.787733</td>\n",
       "    </tr>\n",
       "    <tr>\n",
       "      <th>DecisionTreeClassifier</th>\n",
       "      <td>0.621104</td>\n",
       "      <td>0.576928</td>\n",
       "    </tr>\n",
       "    <tr>\n",
       "      <th>RandomForestClassifier</th>\n",
       "      <td>0.654497</td>\n",
       "      <td>0.622591</td>\n",
       "    </tr>\n",
       "    <tr>\n",
       "      <th>GradientBoostingClassifier</th>\n",
       "      <td>0.770258</td>\n",
       "      <td>0.764167</td>\n",
       "    </tr>\n",
       "    <tr>\n",
       "      <th>VotingClassifier</th>\n",
       "      <td>0.815672</td>\n",
       "      <td>0.811756</td>\n",
       "    </tr>\n",
       "  </tbody>\n",
       "</table>\n",
       "</div>"
      ],
      "text/plain": [
       "                                 acc        f1\n",
       "MultinomialNB               0.599733  0.504567\n",
       "ComplementNB                0.764915  0.734653\n",
       "LogisticRegression          0.816563  0.811127\n",
       "LinearSVC                   0.792075  0.787733\n",
       "DecisionTreeClassifier      0.621104  0.576928\n",
       "RandomForestClassifier      0.654497  0.622591\n",
       "GradientBoostingClassifier  0.770258  0.764167\n",
       "VotingClassifier            0.815672  0.811756"
      ]
     },
     "execution_count": 19,
     "metadata": {},
     "output_type": "execute_result"
    }
   ],
   "source": [
    "res = run_train_and_evalute(classifiers, dataset_all, verbose=2)\n",
    "train_res_all = pd.DataFrame(res, index=classifier_names)\n",
    "train_res_all"
   ]
  },
  {
   "cell_type": "markdown",
   "id": "2aeae922",
   "metadata": {},
   "source": [
    "#### 2) vocab size = 5000"
   ]
  },
  {
   "cell_type": "code",
   "execution_count": 20,
   "id": "8f772112",
   "metadata": {
    "execution": {
     "iopub.execute_input": "2021-04-22T01:36:29.427711Z",
     "iopub.status.busy": "2021-04-22T01:36:29.427545Z",
     "iopub.status.idle": "2021-04-22T02:09:41.836469Z",
     "shell.execute_reply": "2021-04-22T02:09:41.836038Z",
     "shell.execute_reply.started": "2021-04-22T01:36:29.427688Z"
    },
    "tags": []
   },
   "outputs": [
    {
     "name": "stdout",
     "output_type": "stream",
     "text": [
      "[MultinomialNB] done\n",
      "[ComplementNB] done\n",
      "[LogisticRegression] done\n"
     ]
    },
    {
     "name": "stderr",
     "output_type": "stream",
     "text": [
      "/home/aiffel-dj1/anaconda3/envs/aiffel/lib/python3.7/site-packages/sklearn/svm/_base.py:986: ConvergenceWarning: Liblinear failed to converge, increase the number of iterations.\n",
      "  \"the number of iterations.\", ConvergenceWarning)\n"
     ]
    },
    {
     "name": "stdout",
     "output_type": "stream",
     "text": [
      "[LinearSVC] done\n",
      "[DecisionTreeClassifier] done\n",
      "[RandomForestClassifier] done\n",
      "[GradientBoostingClassifier] done\n",
      "[VotingClassifier] done\n"
     ]
    },
    {
     "data": {
      "text/html": [
       "<div>\n",
       "<style scoped>\n",
       "    .dataframe tbody tr th:only-of-type {\n",
       "        vertical-align: middle;\n",
       "    }\n",
       "\n",
       "    .dataframe tbody tr th {\n",
       "        vertical-align: top;\n",
       "    }\n",
       "\n",
       "    .dataframe thead th {\n",
       "        text-align: right;\n",
       "    }\n",
       "</style>\n",
       "<table border=\"1\" class=\"dataframe\">\n",
       "  <thead>\n",
       "    <tr style=\"text-align: right;\">\n",
       "      <th></th>\n",
       "      <th>acc</th>\n",
       "      <th>f1</th>\n",
       "    </tr>\n",
       "  </thead>\n",
       "  <tbody>\n",
       "    <tr>\n",
       "      <th>MultinomialNB</th>\n",
       "      <td>0.673197</td>\n",
       "      <td>0.601250</td>\n",
       "    </tr>\n",
       "    <tr>\n",
       "      <th>ComplementNB</th>\n",
       "      <td>0.770703</td>\n",
       "      <td>0.745899</td>\n",
       "    </tr>\n",
       "    <tr>\n",
       "      <th>LogisticRegression</th>\n",
       "      <td>0.802760</td>\n",
       "      <td>0.797480</td>\n",
       "    </tr>\n",
       "    <tr>\n",
       "      <th>LinearSVC</th>\n",
       "      <td>0.772484</td>\n",
       "      <td>0.770837</td>\n",
       "    </tr>\n",
       "    <tr>\n",
       "      <th>DecisionTreeClassifier</th>\n",
       "      <td>0.617988</td>\n",
       "      <td>0.572997</td>\n",
       "    </tr>\n",
       "    <tr>\n",
       "      <th>RandomForestClassifier</th>\n",
       "      <td>0.701247</td>\n",
       "      <td>0.677022</td>\n",
       "    </tr>\n",
       "    <tr>\n",
       "      <th>GradientBoostingClassifier</th>\n",
       "      <td>0.767587</td>\n",
       "      <td>0.766248</td>\n",
       "    </tr>\n",
       "    <tr>\n",
       "      <th>VotingClassifier</th>\n",
       "      <td>0.810329</td>\n",
       "      <td>0.807593</td>\n",
       "    </tr>\n",
       "  </tbody>\n",
       "</table>\n",
       "</div>"
      ],
      "text/plain": [
       "                                 acc        f1\n",
       "MultinomialNB               0.673197  0.601250\n",
       "ComplementNB                0.770703  0.745899\n",
       "LogisticRegression          0.802760  0.797480\n",
       "LinearSVC                   0.772484  0.770837\n",
       "DecisionTreeClassifier      0.617988  0.572997\n",
       "RandomForestClassifier      0.701247  0.677022\n",
       "GradientBoostingClassifier  0.767587  0.766248\n",
       "VotingClassifier            0.810329  0.807593"
      ]
     },
     "execution_count": 20,
     "metadata": {},
     "output_type": "execute_result"
    }
   ],
   "source": [
    "res = run_train_and_evalute(classifiers, dataset_5000, verbose=1)\n",
    "train_res_5000 = pd.DataFrame(res, index=classifier_names)\n",
    "train_res_5000"
   ]
  },
  {
   "cell_type": "markdown",
   "id": "0cf6ebce",
   "metadata": {},
   "source": [
    "#### 3) vocab size = 10000"
   ]
  },
  {
   "cell_type": "code",
   "execution_count": 21,
   "id": "833d4023",
   "metadata": {
    "execution": {
     "iopub.execute_input": "2021-04-22T02:09:41.837513Z",
     "iopub.status.busy": "2021-04-22T02:09:41.837353Z",
     "iopub.status.idle": "2021-04-22T02:43:39.679956Z",
     "shell.execute_reply": "2021-04-22T02:43:39.679296Z",
     "shell.execute_reply.started": "2021-04-22T02:09:41.837491Z"
    },
    "tags": []
   },
   "outputs": [
    {
     "name": "stdout",
     "output_type": "stream",
     "text": [
      "[MultinomialNB] done\n",
      "[ComplementNB] done\n",
      "[LogisticRegression] done\n"
     ]
    },
    {
     "name": "stderr",
     "output_type": "stream",
     "text": [
      "/home/aiffel-dj1/anaconda3/envs/aiffel/lib/python3.7/site-packages/sklearn/svm/_base.py:986: ConvergenceWarning: Liblinear failed to converge, increase the number of iterations.\n",
      "  \"the number of iterations.\", ConvergenceWarning)\n"
     ]
    },
    {
     "name": "stdout",
     "output_type": "stream",
     "text": [
      "[LinearSVC] done\n",
      "[DecisionTreeClassifier] done\n",
      "[RandomForestClassifier] done\n",
      "[GradientBoostingClassifier] done\n",
      "[VotingClassifier] done\n"
     ]
    },
    {
     "data": {
      "text/html": [
       "<div>\n",
       "<style scoped>\n",
       "    .dataframe tbody tr th:only-of-type {\n",
       "        vertical-align: middle;\n",
       "    }\n",
       "\n",
       "    .dataframe tbody tr th {\n",
       "        vertical-align: top;\n",
       "    }\n",
       "\n",
       "    .dataframe thead th {\n",
       "        text-align: right;\n",
       "    }\n",
       "</style>\n",
       "<table border=\"1\" class=\"dataframe\">\n",
       "  <thead>\n",
       "    <tr style=\"text-align: right;\">\n",
       "      <th></th>\n",
       "      <th>acc</th>\n",
       "      <th>f1</th>\n",
       "    </tr>\n",
       "  </thead>\n",
       "  <tbody>\n",
       "    <tr>\n",
       "      <th>MultinomialNB</th>\n",
       "      <td>0.656723</td>\n",
       "      <td>0.576447</td>\n",
       "    </tr>\n",
       "    <tr>\n",
       "      <th>ComplementNB</th>\n",
       "      <td>0.770703</td>\n",
       "      <td>0.745668</td>\n",
       "    </tr>\n",
       "    <tr>\n",
       "      <th>LogisticRegression</th>\n",
       "      <td>0.810775</td>\n",
       "      <td>0.805657</td>\n",
       "    </tr>\n",
       "    <tr>\n",
       "      <th>LinearSVC</th>\n",
       "      <td>0.786732</td>\n",
       "      <td>0.781952</td>\n",
       "    </tr>\n",
       "    <tr>\n",
       "      <th>DecisionTreeClassifier</th>\n",
       "      <td>0.620214</td>\n",
       "      <td>0.577640</td>\n",
       "    </tr>\n",
       "    <tr>\n",
       "      <th>RandomForestClassifier</th>\n",
       "      <td>0.674087</td>\n",
       "      <td>0.642948</td>\n",
       "    </tr>\n",
       "    <tr>\n",
       "      <th>GradientBoostingClassifier</th>\n",
       "      <td>0.766696</td>\n",
       "      <td>0.762599</td>\n",
       "    </tr>\n",
       "    <tr>\n",
       "      <th>VotingClassifier</th>\n",
       "      <td>0.816563</td>\n",
       "      <td>0.813372</td>\n",
       "    </tr>\n",
       "  </tbody>\n",
       "</table>\n",
       "</div>"
      ],
      "text/plain": [
       "                                 acc        f1\n",
       "MultinomialNB               0.656723  0.576447\n",
       "ComplementNB                0.770703  0.745668\n",
       "LogisticRegression          0.810775  0.805657\n",
       "LinearSVC                   0.786732  0.781952\n",
       "DecisionTreeClassifier      0.620214  0.577640\n",
       "RandomForestClassifier      0.674087  0.642948\n",
       "GradientBoostingClassifier  0.766696  0.762599\n",
       "VotingClassifier            0.816563  0.813372"
      ]
     },
     "execution_count": 21,
     "metadata": {},
     "output_type": "execute_result"
    }
   ],
   "source": [
    "res = run_train_and_evalute(classifiers, dataset_10000, verbose=1)\n",
    "train_res_10000 = pd.DataFrame(res, index=classifier_names)\n",
    "train_res_10000"
   ]
  },
  {
   "cell_type": "markdown",
   "id": "9ed8fc7a",
   "metadata": {},
   "source": [
    "#### 4) 평가"
   ]
  },
  {
   "cell_type": "markdown",
   "id": "14d90437",
   "metadata": {},
   "source": [
    "- 단어 사전 크기에 따른 성능 차이"
   ]
  },
  {
   "cell_type": "code",
   "execution_count": 44,
   "id": "82f139ad",
   "metadata": {
    "execution": {
     "iopub.execute_input": "2021-04-23T12:24:37.268191Z",
     "iopub.status.busy": "2021-04-23T12:24:37.267967Z",
     "iopub.status.idle": "2021-04-23T12:24:37.270859Z",
     "shell.execute_reply": "2021-04-23T12:24:37.270347Z",
     "shell.execute_reply.started": "2021-04-23T12:24:37.268158Z"
    },
    "tags": []
   },
   "outputs": [],
   "source": [
    "data_group_by_classifier = { key: { 'acc': [], 'f1': []}\n",
    "                             for key in classifier_names }"
   ]
  },
  {
   "cell_type": "code",
   "execution_count": 45,
   "id": "be7f3cc3",
   "metadata": {
    "execution": {
     "iopub.execute_input": "2021-04-23T12:24:39.828817Z",
     "iopub.status.busy": "2021-04-23T12:24:39.828544Z",
     "iopub.status.idle": "2021-04-23T12:24:39.832255Z",
     "shell.execute_reply": "2021-04-23T12:24:39.831623Z",
     "shell.execute_reply.started": "2021-04-23T12:24:39.828791Z"
    },
    "tags": []
   },
   "outputs": [],
   "source": [
    "def append_data(group, res, vocab_size):\n",
    "    for i, row in res.iterrows():\n",
    "        group[i]['acc'].append(row['acc'])\n",
    "        group[i]['f1'].append(row['f1'])\n",
    "    return group"
   ]
  },
  {
   "cell_type": "code",
   "execution_count": 46,
   "id": "8dd4ac3c",
   "metadata": {
    "execution": {
     "iopub.execute_input": "2021-04-23T12:24:39.996100Z",
     "iopub.status.busy": "2021-04-23T12:24:39.995869Z",
     "iopub.status.idle": "2021-04-23T12:24:40.006156Z",
     "shell.execute_reply": "2021-04-23T12:24:40.005683Z",
     "shell.execute_reply.started": "2021-04-23T12:24:39.996071Z"
    },
    "tags": []
   },
   "outputs": [
    {
     "data": {
      "text/plain": [
       "{'MultinomialNB': {'acc': [0.599733, 0.673197, 0.656723],\n",
       "  'f1': [0.504567, 0.60125, 0.576447]},\n",
       " 'ComplementNB': {'acc': [0.764915, 0.770703, 0.770703],\n",
       "  'f1': [0.734653, 0.745899, 0.745668]},\n",
       " 'LogisticRegression': {'acc': [0.816563, 0.80276, 0.810775],\n",
       "  'f1': [0.811127, 0.79748, 0.805657]},\n",
       " 'LinearSVC': {'acc': [0.792075, 0.772484, 0.786732],\n",
       "  'f1': [0.787733, 0.770837, 0.781952]},\n",
       " 'DecisionTreeClassifier': {'acc': [0.621104, 0.617988, 0.620214],\n",
       "  'f1': [0.576928, 0.572997, 0.57764]},\n",
       " 'RandomForestClassifier': {'acc': [0.654497, 0.701247, 0.674087],\n",
       "  'f1': [0.622591, 0.677022, 0.642948]},\n",
       " 'GradientBoostingClassifier': {'acc': [0.770258, 0.767587, 0.766696],\n",
       "  'f1': [0.764167, 0.766248, 0.762599]},\n",
       " 'VotingClassifier': {'acc': [0.815672, 0.810329, 0.816563],\n",
       "  'f1': [0.811756, 0.807593, 0.813372]}}"
      ]
     },
     "execution_count": 46,
     "metadata": {},
     "output_type": "execute_result"
    }
   ],
   "source": [
    "data_group_by_classifier = append_data(data_group_by_classifier, train_res_all, 'all')\n",
    "data_group_by_classifier = append_data(data_group_by_classifier, train_res_5000, '5000')\n",
    "data_group_by_classifier = append_data(data_group_by_classifier, train_res_10000, '10000')\n",
    "data_group_by_classifier"
   ]
  },
  {
   "cell_type": "code",
   "execution_count": 47,
   "id": "58d0108d",
   "metadata": {
    "execution": {
     "iopub.execute_input": "2021-04-23T12:24:50.401766Z",
     "iopub.status.busy": "2021-04-23T12:24:50.401562Z",
     "iopub.status.idle": "2021-04-23T12:24:50.452469Z",
     "shell.execute_reply": "2021-04-23T12:24:50.452002Z",
     "shell.execute_reply.started": "2021-04-23T12:24:50.401741Z"
    },
    "tags": []
   },
   "outputs": [
    {
     "data": {
      "text/html": [
       "<div>\n",
       "<style scoped>\n",
       "    .dataframe tbody tr th:only-of-type {\n",
       "        vertical-align: middle;\n",
       "    }\n",
       "\n",
       "    .dataframe tbody tr th {\n",
       "        vertical-align: top;\n",
       "    }\n",
       "\n",
       "    .dataframe thead th {\n",
       "        text-align: right;\n",
       "    }\n",
       "</style>\n",
       "<table border=\"1\" class=\"dataframe\">\n",
       "  <thead>\n",
       "    <tr style=\"text-align: right;\">\n",
       "      <th></th>\n",
       "      <th>acc</th>\n",
       "      <th>f1</th>\n",
       "    </tr>\n",
       "  </thead>\n",
       "  <tbody>\n",
       "    <tr>\n",
       "      <th>all</th>\n",
       "      <td>0.599733</td>\n",
       "      <td>0.504567</td>\n",
       "    </tr>\n",
       "    <tr>\n",
       "      <th>5000</th>\n",
       "      <td>0.673197</td>\n",
       "      <td>0.601250</td>\n",
       "    </tr>\n",
       "    <tr>\n",
       "      <th>10000</th>\n",
       "      <td>0.656723</td>\n",
       "      <td>0.576447</td>\n",
       "    </tr>\n",
       "  </tbody>\n",
       "</table>\n",
       "</div>"
      ],
      "text/plain": [
       "            acc        f1\n",
       "all    0.599733  0.504567\n",
       "5000   0.673197  0.601250\n",
       "10000  0.656723  0.576447"
      ]
     },
     "execution_count": 47,
     "metadata": {},
     "output_type": "execute_result"
    }
   ],
   "source": [
    "df_group_by_classifier = { key: pd.DataFrame(data_group_by_classifier[key], index=['all', '5000', '10000'])\n",
    "                           for key in classifier_names }\n",
    "df_group_by_classifier['MultinomialNB']"
   ]
  },
  {
   "cell_type": "code",
   "execution_count": 55,
   "id": "a79f42de",
   "metadata": {
    "execution": {
     "iopub.execute_input": "2021-04-23T12:26:23.105796Z",
     "iopub.status.busy": "2021-04-23T12:26:23.105536Z",
     "iopub.status.idle": "2021-04-23T12:26:23.143989Z",
     "shell.execute_reply": "2021-04-23T12:26:23.143457Z",
     "shell.execute_reply.started": "2021-04-23T12:26:23.105761Z"
    },
    "tags": []
   },
   "outputs": [
    {
     "name": "stdout",
     "output_type": "stream",
     "text": [
      "MultinomialNB\n"
     ]
    },
    {
     "data": {
      "text/html": [
       "<div>\n",
       "<style scoped>\n",
       "    .dataframe tbody tr th:only-of-type {\n",
       "        vertical-align: middle;\n",
       "    }\n",
       "\n",
       "    .dataframe tbody tr th {\n",
       "        vertical-align: top;\n",
       "    }\n",
       "\n",
       "    .dataframe thead th {\n",
       "        text-align: right;\n",
       "    }\n",
       "</style>\n",
       "<table border=\"1\" class=\"dataframe\">\n",
       "  <thead>\n",
       "    <tr style=\"text-align: right;\">\n",
       "      <th></th>\n",
       "      <th>acc</th>\n",
       "      <th>f1</th>\n",
       "    </tr>\n",
       "  </thead>\n",
       "  <tbody>\n",
       "    <tr>\n",
       "      <th>all</th>\n",
       "      <td>0.599733</td>\n",
       "      <td>0.504567</td>\n",
       "    </tr>\n",
       "    <tr>\n",
       "      <th>5000</th>\n",
       "      <td>0.673197</td>\n",
       "      <td>0.601250</td>\n",
       "    </tr>\n",
       "    <tr>\n",
       "      <th>10000</th>\n",
       "      <td>0.656723</td>\n",
       "      <td>0.576447</td>\n",
       "    </tr>\n",
       "  </tbody>\n",
       "</table>\n",
       "</div>"
      ],
      "text/plain": [
       "            acc        f1\n",
       "all    0.599733  0.504567\n",
       "5000   0.673197  0.601250\n",
       "10000  0.656723  0.576447"
      ]
     },
     "metadata": {},
     "output_type": "display_data"
    },
    {
     "name": "stdout",
     "output_type": "stream",
     "text": [
      "ComplementNB\n"
     ]
    },
    {
     "data": {
      "text/html": [
       "<div>\n",
       "<style scoped>\n",
       "    .dataframe tbody tr th:only-of-type {\n",
       "        vertical-align: middle;\n",
       "    }\n",
       "\n",
       "    .dataframe tbody tr th {\n",
       "        vertical-align: top;\n",
       "    }\n",
       "\n",
       "    .dataframe thead th {\n",
       "        text-align: right;\n",
       "    }\n",
       "</style>\n",
       "<table border=\"1\" class=\"dataframe\">\n",
       "  <thead>\n",
       "    <tr style=\"text-align: right;\">\n",
       "      <th></th>\n",
       "      <th>acc</th>\n",
       "      <th>f1</th>\n",
       "    </tr>\n",
       "  </thead>\n",
       "  <tbody>\n",
       "    <tr>\n",
       "      <th>all</th>\n",
       "      <td>0.764915</td>\n",
       "      <td>0.734653</td>\n",
       "    </tr>\n",
       "    <tr>\n",
       "      <th>5000</th>\n",
       "      <td>0.770703</td>\n",
       "      <td>0.745899</td>\n",
       "    </tr>\n",
       "    <tr>\n",
       "      <th>10000</th>\n",
       "      <td>0.770703</td>\n",
       "      <td>0.745668</td>\n",
       "    </tr>\n",
       "  </tbody>\n",
       "</table>\n",
       "</div>"
      ],
      "text/plain": [
       "            acc        f1\n",
       "all    0.764915  0.734653\n",
       "5000   0.770703  0.745899\n",
       "10000  0.770703  0.745668"
      ]
     },
     "metadata": {},
     "output_type": "display_data"
    },
    {
     "name": "stdout",
     "output_type": "stream",
     "text": [
      "LogisticRegression\n"
     ]
    },
    {
     "data": {
      "text/html": [
       "<div>\n",
       "<style scoped>\n",
       "    .dataframe tbody tr th:only-of-type {\n",
       "        vertical-align: middle;\n",
       "    }\n",
       "\n",
       "    .dataframe tbody tr th {\n",
       "        vertical-align: top;\n",
       "    }\n",
       "\n",
       "    .dataframe thead th {\n",
       "        text-align: right;\n",
       "    }\n",
       "</style>\n",
       "<table border=\"1\" class=\"dataframe\">\n",
       "  <thead>\n",
       "    <tr style=\"text-align: right;\">\n",
       "      <th></th>\n",
       "      <th>acc</th>\n",
       "      <th>f1</th>\n",
       "    </tr>\n",
       "  </thead>\n",
       "  <tbody>\n",
       "    <tr>\n",
       "      <th>all</th>\n",
       "      <td>0.816563</td>\n",
       "      <td>0.811127</td>\n",
       "    </tr>\n",
       "    <tr>\n",
       "      <th>5000</th>\n",
       "      <td>0.802760</td>\n",
       "      <td>0.797480</td>\n",
       "    </tr>\n",
       "    <tr>\n",
       "      <th>10000</th>\n",
       "      <td>0.810775</td>\n",
       "      <td>0.805657</td>\n",
       "    </tr>\n",
       "  </tbody>\n",
       "</table>\n",
       "</div>"
      ],
      "text/plain": [
       "            acc        f1\n",
       "all    0.816563  0.811127\n",
       "5000   0.802760  0.797480\n",
       "10000  0.810775  0.805657"
      ]
     },
     "metadata": {},
     "output_type": "display_data"
    },
    {
     "name": "stdout",
     "output_type": "stream",
     "text": [
      "LinearSVC\n"
     ]
    },
    {
     "data": {
      "text/html": [
       "<div>\n",
       "<style scoped>\n",
       "    .dataframe tbody tr th:only-of-type {\n",
       "        vertical-align: middle;\n",
       "    }\n",
       "\n",
       "    .dataframe tbody tr th {\n",
       "        vertical-align: top;\n",
       "    }\n",
       "\n",
       "    .dataframe thead th {\n",
       "        text-align: right;\n",
       "    }\n",
       "</style>\n",
       "<table border=\"1\" class=\"dataframe\">\n",
       "  <thead>\n",
       "    <tr style=\"text-align: right;\">\n",
       "      <th></th>\n",
       "      <th>acc</th>\n",
       "      <th>f1</th>\n",
       "    </tr>\n",
       "  </thead>\n",
       "  <tbody>\n",
       "    <tr>\n",
       "      <th>all</th>\n",
       "      <td>0.792075</td>\n",
       "      <td>0.787733</td>\n",
       "    </tr>\n",
       "    <tr>\n",
       "      <th>5000</th>\n",
       "      <td>0.772484</td>\n",
       "      <td>0.770837</td>\n",
       "    </tr>\n",
       "    <tr>\n",
       "      <th>10000</th>\n",
       "      <td>0.786732</td>\n",
       "      <td>0.781952</td>\n",
       "    </tr>\n",
       "  </tbody>\n",
       "</table>\n",
       "</div>"
      ],
      "text/plain": [
       "            acc        f1\n",
       "all    0.792075  0.787733\n",
       "5000   0.772484  0.770837\n",
       "10000  0.786732  0.781952"
      ]
     },
     "metadata": {},
     "output_type": "display_data"
    },
    {
     "name": "stdout",
     "output_type": "stream",
     "text": [
      "DecisionTreeClassifier\n"
     ]
    },
    {
     "data": {
      "text/html": [
       "<div>\n",
       "<style scoped>\n",
       "    .dataframe tbody tr th:only-of-type {\n",
       "        vertical-align: middle;\n",
       "    }\n",
       "\n",
       "    .dataframe tbody tr th {\n",
       "        vertical-align: top;\n",
       "    }\n",
       "\n",
       "    .dataframe thead th {\n",
       "        text-align: right;\n",
       "    }\n",
       "</style>\n",
       "<table border=\"1\" class=\"dataframe\">\n",
       "  <thead>\n",
       "    <tr style=\"text-align: right;\">\n",
       "      <th></th>\n",
       "      <th>acc</th>\n",
       "      <th>f1</th>\n",
       "    </tr>\n",
       "  </thead>\n",
       "  <tbody>\n",
       "    <tr>\n",
       "      <th>all</th>\n",
       "      <td>0.621104</td>\n",
       "      <td>0.576928</td>\n",
       "    </tr>\n",
       "    <tr>\n",
       "      <th>5000</th>\n",
       "      <td>0.617988</td>\n",
       "      <td>0.572997</td>\n",
       "    </tr>\n",
       "    <tr>\n",
       "      <th>10000</th>\n",
       "      <td>0.620214</td>\n",
       "      <td>0.577640</td>\n",
       "    </tr>\n",
       "  </tbody>\n",
       "</table>\n",
       "</div>"
      ],
      "text/plain": [
       "            acc        f1\n",
       "all    0.621104  0.576928\n",
       "5000   0.617988  0.572997\n",
       "10000  0.620214  0.577640"
      ]
     },
     "metadata": {},
     "output_type": "display_data"
    },
    {
     "name": "stdout",
     "output_type": "stream",
     "text": [
      "RandomForestClassifier\n"
     ]
    },
    {
     "data": {
      "text/html": [
       "<div>\n",
       "<style scoped>\n",
       "    .dataframe tbody tr th:only-of-type {\n",
       "        vertical-align: middle;\n",
       "    }\n",
       "\n",
       "    .dataframe tbody tr th {\n",
       "        vertical-align: top;\n",
       "    }\n",
       "\n",
       "    .dataframe thead th {\n",
       "        text-align: right;\n",
       "    }\n",
       "</style>\n",
       "<table border=\"1\" class=\"dataframe\">\n",
       "  <thead>\n",
       "    <tr style=\"text-align: right;\">\n",
       "      <th></th>\n",
       "      <th>acc</th>\n",
       "      <th>f1</th>\n",
       "    </tr>\n",
       "  </thead>\n",
       "  <tbody>\n",
       "    <tr>\n",
       "      <th>all</th>\n",
       "      <td>0.654497</td>\n",
       "      <td>0.622591</td>\n",
       "    </tr>\n",
       "    <tr>\n",
       "      <th>5000</th>\n",
       "      <td>0.701247</td>\n",
       "      <td>0.677022</td>\n",
       "    </tr>\n",
       "    <tr>\n",
       "      <th>10000</th>\n",
       "      <td>0.674087</td>\n",
       "      <td>0.642948</td>\n",
       "    </tr>\n",
       "  </tbody>\n",
       "</table>\n",
       "</div>"
      ],
      "text/plain": [
       "            acc        f1\n",
       "all    0.654497  0.622591\n",
       "5000   0.701247  0.677022\n",
       "10000  0.674087  0.642948"
      ]
     },
     "metadata": {},
     "output_type": "display_data"
    },
    {
     "name": "stdout",
     "output_type": "stream",
     "text": [
      "GradientBoostingClassifier\n"
     ]
    },
    {
     "data": {
      "text/html": [
       "<div>\n",
       "<style scoped>\n",
       "    .dataframe tbody tr th:only-of-type {\n",
       "        vertical-align: middle;\n",
       "    }\n",
       "\n",
       "    .dataframe tbody tr th {\n",
       "        vertical-align: top;\n",
       "    }\n",
       "\n",
       "    .dataframe thead th {\n",
       "        text-align: right;\n",
       "    }\n",
       "</style>\n",
       "<table border=\"1\" class=\"dataframe\">\n",
       "  <thead>\n",
       "    <tr style=\"text-align: right;\">\n",
       "      <th></th>\n",
       "      <th>acc</th>\n",
       "      <th>f1</th>\n",
       "    </tr>\n",
       "  </thead>\n",
       "  <tbody>\n",
       "    <tr>\n",
       "      <th>all</th>\n",
       "      <td>0.770258</td>\n",
       "      <td>0.764167</td>\n",
       "    </tr>\n",
       "    <tr>\n",
       "      <th>5000</th>\n",
       "      <td>0.767587</td>\n",
       "      <td>0.766248</td>\n",
       "    </tr>\n",
       "    <tr>\n",
       "      <th>10000</th>\n",
       "      <td>0.766696</td>\n",
       "      <td>0.762599</td>\n",
       "    </tr>\n",
       "  </tbody>\n",
       "</table>\n",
       "</div>"
      ],
      "text/plain": [
       "            acc        f1\n",
       "all    0.770258  0.764167\n",
       "5000   0.767587  0.766248\n",
       "10000  0.766696  0.762599"
      ]
     },
     "metadata": {},
     "output_type": "display_data"
    },
    {
     "name": "stdout",
     "output_type": "stream",
     "text": [
      "VotingClassifier\n"
     ]
    },
    {
     "data": {
      "text/html": [
       "<div>\n",
       "<style scoped>\n",
       "    .dataframe tbody tr th:only-of-type {\n",
       "        vertical-align: middle;\n",
       "    }\n",
       "\n",
       "    .dataframe tbody tr th {\n",
       "        vertical-align: top;\n",
       "    }\n",
       "\n",
       "    .dataframe thead th {\n",
       "        text-align: right;\n",
       "    }\n",
       "</style>\n",
       "<table border=\"1\" class=\"dataframe\">\n",
       "  <thead>\n",
       "    <tr style=\"text-align: right;\">\n",
       "      <th></th>\n",
       "      <th>acc</th>\n",
       "      <th>f1</th>\n",
       "    </tr>\n",
       "  </thead>\n",
       "  <tbody>\n",
       "    <tr>\n",
       "      <th>all</th>\n",
       "      <td>0.815672</td>\n",
       "      <td>0.811756</td>\n",
       "    </tr>\n",
       "    <tr>\n",
       "      <th>5000</th>\n",
       "      <td>0.810329</td>\n",
       "      <td>0.807593</td>\n",
       "    </tr>\n",
       "    <tr>\n",
       "      <th>10000</th>\n",
       "      <td>0.816563</td>\n",
       "      <td>0.813372</td>\n",
       "    </tr>\n",
       "  </tbody>\n",
       "</table>\n",
       "</div>"
      ],
      "text/plain": [
       "            acc        f1\n",
       "all    0.815672  0.811756\n",
       "5000   0.810329  0.807593\n",
       "10000  0.816563  0.813372"
      ]
     },
     "metadata": {},
     "output_type": "display_data"
    }
   ],
   "source": [
    "for idx in classifier_names:\n",
    "    print(idx)\n",
    "    display(df_group_by_classifier[idx])"
   ]
  },
  {
   "cell_type": "code",
   "execution_count": 256,
   "id": "48f0d9d4",
   "metadata": {
    "execution": {
     "iopub.execute_input": "2021-04-23T06:40:57.891306Z",
     "iopub.status.busy": "2021-04-23T06:40:57.891074Z",
     "iopub.status.idle": "2021-04-23T06:40:58.852077Z",
     "shell.execute_reply": "2021-04-23T06:40:58.851576Z",
     "shell.execute_reply.started": "2021-04-23T06:40:57.891280Z"
    },
    "tags": []
   },
   "outputs": [
    {
     "data": {
      "image/png": "[encoded data removed]",
      "text/plain": [
       "<Figure size 720x792 with 8 Axes>"
      ]
     },
     "metadata": {
      "needs_background": "light"
     },
     "output_type": "display_data"
    }
   ],
   "source": [
    "from matplotlib import pyplot as plt\n",
    "fig, axes = plt.subplots(len(df_group_by_classifier)//2, 2, figsize=(10, 11))\n",
    "axes = [ y for x in axes for y in x ]\n",
    "\n",
    "for ax, title in zip(axes, classifier_names):\n",
    "    df_group_by_classifier[title].T.plot(kind='bar', ax=ax, cmap='viridis', width=0.9)\n",
    "    ax.set_title(title, size=13)\n",
    "    \n",
    "    ylim_min = min(min(df_group_by_classifier[title]['acc']),\n",
    "                   min(df_group_by_classifier[title]['f1']))-0.01\n",
    "    ylim_max = max(max(df_group_by_classifier[title]['acc']),\n",
    "                   max(df_group_by_classifier[title]['f1']))+0.01\n",
    "    ax.set_ylim([ylim_min, ylim_max])\n",
    "    ax.legend(loc='center left', bbox_to_anchor=(1, 0.5))\n",
    "\n",
    "plt.tight_layout()\n",
    "plt.show()"
   ]
  },
  {
   "cell_type": "markdown",
   "id": "b539831b",
   "metadata": {},
   "source": [
    "연예기사를 연예기사로 분류하는 것(recall)과 연예 기사를 정치기사로 분류하지 않는것(precision) 모두 중요한 일이기 때문에 Accuracy 보다 F1 score가 더 중요한 지표라고 할 수 있다. 따라서 평가를 할 때, Accuracy 보다는 F1 score가 더 높은 쪽이 더 성능이 좋다-라고 평가하기로 하자.\n",
    "\n",
    "각 분류기별로 acc와 f1의 성능이 가장 좋은 vocab 수는 아래와 같다.\n",
    "\n",
    "| 분류기    |  Accuracy | F1 score |\n",
    "|:----|:-------:|:---------|\n",
    "| MultinomialNB  |  5000 |  5000  |\n",
    "| ComplementNB  | 5000, 100000  |  5000 |\n",
    "| LogisticRegression  | all | all  |\n",
    "| LinearSVC  | all  | all  |\n",
    "| DecisionTreeClassifier  | all  |  10000  |\n",
    "| RandomForestClassifier  | 5000  | 5000  |\n",
    "| GradientBoostingClassifier  | all  |  5000  |\n",
    "| VotingClassifie  | 10000  | 10000  |\n",
    "\n",
    "위 표에서 5000은 총 7번,  all은 6번, 10000은 4번 등장한다. 그 등장 위치도 더 중점적으로 보기로 하였던, F1 score에서 5000이 압도적으로 자주 등장하는 것을 확일할 수 있다. <br>\n",
    "따라서 가장 성능이 좋은 단어 사전의 크기는 *<u>5000</u>* 이다."
   ]
  },
  {
   "cell_type": "markdown",
   "id": "8c754121",
   "metadata": {},
   "source": [
    "- 분류기에 따른 성능 차이"
   ]
  },
  {
   "cell_type": "code",
   "execution_count": 249,
   "id": "54115f3b",
   "metadata": {
    "execution": {
     "iopub.execute_input": "2021-04-23T06:38:14.945820Z",
     "iopub.status.busy": "2021-04-23T06:38:14.945544Z",
     "iopub.status.idle": "2021-04-23T06:38:15.540620Z",
     "shell.execute_reply": "2021-04-23T06:38:15.540187Z",
     "shell.execute_reply.started": "2021-04-23T06:38:14.945788Z"
    },
    "tags": []
   },
   "outputs": [
    {
     "data": {
      "image/png": "[encoded data removed]",
      "text/plain": [
       "<Figure size 576x792 with 3 Axes>"
      ]
     },
     "metadata": {
      "needs_background": "light"
     },
     "output_type": "display_data"
    }
   ],
   "source": [
    "from matplotlib import pyplot as plt\n",
    "\n",
    "fig, axes = plt.subplots(3, 1, figsize=(8, 11))\n",
    "train_res_5000.T.plot(kind='bar', ax=axes[0], cmap='jet', width=0.9)\n",
    "train_res_10000.T.plot(kind='bar', ax=axes[1], cmap='jet', width=0.9)\n",
    "train_res_all.T.plot(kind='bar', ax=axes[2], cmap='jet', width=0.9)\n",
    "\n",
    "titles = ['vocab size = 5000', 'vocab size = 10000', 'vocab size = None']\n",
    "for ax, title in zip(axes, titles):\n",
    "    ax.set_title(title, size=15)\n",
    "    ax.set_ylim([0.45, 0.85])\n",
    "    ax.legend(loc='center left', bbox_to_anchor=(1, 0.5))\n",
    "plt.tight_layout()\n",
    "plt.show()"
   ]
  },
  {
   "cell_type": "markdown",
   "id": "788678c4",
   "metadata": {},
   "source": [
    "모든 vocab size에 대해서 가장 성능이 좋은 분류기는 Voting Classifier이다."
   ]
  },
  {
   "cell_type": "markdown",
   "id": "7908171d",
   "metadata": {},
   "source": [
    "## Step 3. 딥러닝 분류기를 통한 다중분류\n",
    "---"
   ]
  },
  {
   "cell_type": "code",
   "execution_count": 81,
   "id": "958ac4f8",
   "metadata": {
    "execution": {
     "iopub.execute_input": "2021-04-23T12:54:12.806957Z",
     "iopub.status.busy": "2021-04-23T12:54:12.806746Z",
     "iopub.status.idle": "2021-04-23T12:54:12.810460Z",
     "shell.execute_reply": "2021-04-23T12:54:12.809965Z",
     "shell.execute_reply.started": "2021-04-23T12:54:12.806932Z"
    },
    "tags": []
   },
   "outputs": [],
   "source": [
    "from tensorflow import keras\n",
    "from tensorflow.keras.models import Sequential\n",
    "from tensorflow.keras.layers import Input, Embedding, Dropout, Conv1D, GlobalMaxPooling1D, Dense, Flatten\n",
    "from tensorflow.keras.callbacks import EarlyStopping, ModelCheckpoint\n",
    "from sklearn.model_selection import train_test_split\n",
    "from sklearn.preprocessing import LabelEncoder\n",
    "from keras import utils\n",
    "from keras.preprocessing.text import Tokenizer"
   ]
  },
  {
   "cell_type": "markdown",
   "id": "9f56a8d5",
   "metadata": {},
   "source": [
    "### 1. 1D CNN"
   ]
  },
  {
   "cell_type": "markdown",
   "id": "d685f331",
   "metadata": {},
   "source": [
    "#### 1) 모델 정의"
   ]
  },
  {
   "cell_type": "code",
   "execution_count": 82,
   "id": "c7c4559b",
   "metadata": {
    "execution": {
     "iopub.execute_input": "2021-04-23T12:54:14.503241Z",
     "iopub.status.busy": "2021-04-23T12:54:14.503021Z",
     "iopub.status.idle": "2021-04-23T12:54:14.507621Z",
     "shell.execute_reply": "2021-04-23T12:54:14.506949Z",
     "shell.execute_reply.started": "2021-04-23T12:54:14.503209Z"
    },
    "tags": []
   },
   "outputs": [],
   "source": [
    "def get_1d_cnn_model(vocab_size, input_shape, class_num=46):\n",
    "    model = Sequential()\n",
    "    model.add(Input(shape=input_shape))\n",
    "    model.add(Conv1D(512, 5, activation='relu'))\n",
    "    model.add(GlobalMaxPooling1D())\n",
    "    model.add(Dense(256, activation='relu'))\n",
    "    model.add(Dense(class_num, activation='softmax'))\n",
    "    \n",
    "    model.compile(optimizer='adam', loss='categorical_crossentropy', metrics=['accuracy'])\n",
    "    model.summary()\n",
    "    return model"
   ]
  },
  {
   "cell_type": "code",
   "execution_count": 83,
   "id": "762676a9",
   "metadata": {
    "execution": {
     "iopub.execute_input": "2021-04-23T12:54:15.447600Z",
     "iopub.status.busy": "2021-04-23T12:54:15.447361Z",
     "iopub.status.idle": "2021-04-23T12:54:15.453228Z",
     "shell.execute_reply": "2021-04-23T12:54:15.452485Z",
     "shell.execute_reply.started": "2021-04-23T12:54:15.447572Z"
    },
    "tags": []
   },
   "outputs": [],
   "source": [
    "def get_tf_dataset(dataset, batch_size):\n",
    "    shape = dataset.X_train_tfidfv.shape\n",
    "    X_train = dataset.X_train_tfidfv.toarray()\n",
    "    X_train = X_train.reshape(shape[0], shape[1], 1)\n",
    "\n",
    "    X_train, X_val, y_train, y_val = train_test_split(X_train, \n",
    "                                                      dataset.y_train_ct,\n",
    "                                                      test_size=0.1, \n",
    "                                                      random_state=50)\n",
    "    input_shape = (X_train.shape[1], X_train.shape[2])\n",
    "    dataset_train = tf.data.Dataset.from_tensor_slices((X_train, y_train)).batch(batch_size)\n",
    "    dataset_val = tf.data.Dataset.from_tensor_slices((X_val, y_val)).batch(batch_size)\n",
    "    return dataset_train, dataset_val, input_shape"
   ]
  },
  {
   "cell_type": "markdown",
   "id": "e5676d7f",
   "metadata": {},
   "source": [
    "- vocab size : 10000"
   ]
  },
  {
   "cell_type": "code",
   "execution_count": 18,
   "id": "33334892",
   "metadata": {
    "execution": {
     "iopub.execute_input": "2021-04-23T11:54:11.891289Z",
     "iopub.status.busy": "2021-04-23T11:54:11.891083Z",
     "iopub.status.idle": "2021-04-23T11:54:12.681887Z",
     "shell.execute_reply": "2021-04-23T11:54:12.681378Z",
     "shell.execute_reply.started": "2021-04-23T11:54:11.891266Z"
    },
    "tags": []
   },
   "outputs": [
    {
     "name": "stdout",
     "output_type": "stream",
     "text": [
      "Model: \"sequential_1\"\n",
      "_________________________________________________________________\n",
      "Layer (type)                 Output Shape              Param #   \n",
      "=================================================================\n",
      "conv1d_1 (Conv1D)            (None, 9666, 512)         3072      \n",
      "_________________________________________________________________\n",
      "global_max_pooling1d_1 (Glob (None, 512)               0         \n",
      "_________________________________________________________________\n",
      "dense_2 (Dense)              (None, 256)               131328    \n",
      "_________________________________________________________________\n",
      "dense_3 (Dense)              (None, 46)                11822     \n",
      "=================================================================\n",
      "Total params: 146,222\n",
      "Trainable params: 146,222\n",
      "Non-trainable params: 0\n",
      "_________________________________________________________________\n"
     ]
    }
   ],
   "source": [
    "tf_dataset_10000_train, tf_dataset_10000_test, input_shape = get_tf_dataset(dataset_10000, 64)\n",
    "cnn_10000 = get_1d_cnn_model(10000, input_shape)"
   ]
  },
  {
   "cell_type": "markdown",
   "id": "4c315d85",
   "metadata": {},
   "source": [
    "- vocab size : 5000"
   ]
  },
  {
   "cell_type": "code",
   "execution_count": 89,
   "id": "2c516924",
   "metadata": {
    "execution": {
     "iopub.execute_input": "2021-04-23T12:56:31.008507Z",
     "iopub.status.busy": "2021-04-23T12:56:31.008304Z",
     "iopub.status.idle": "2021-04-23T12:56:31.451491Z",
     "shell.execute_reply": "2021-04-23T12:56:31.450992Z",
     "shell.execute_reply.started": "2021-04-23T12:56:31.008481Z"
    },
    "tags": []
   },
   "outputs": [
    {
     "name": "stdout",
     "output_type": "stream",
     "text": [
      "Model: \"sequential_7\"\n",
      "_________________________________________________________________\n",
      "Layer (type)                 Output Shape              Param #   \n",
      "=================================================================\n",
      "conv1d_5 (Conv1D)            (None, 4863, 512)         3072      \n",
      "_________________________________________________________________\n",
      "global_max_pooling1d_5 (Glob (None, 512)               0         \n",
      "_________________________________________________________________\n",
      "dense_18 (Dense)             (None, 256)               131328    \n",
      "_________________________________________________________________\n",
      "dense_19 (Dense)             (None, 46)                11822     \n",
      "=================================================================\n",
      "Total params: 146,222\n",
      "Trainable params: 146,222\n",
      "Non-trainable params: 0\n",
      "_________________________________________________________________\n"
     ]
    }
   ],
   "source": [
    "tf_dataset_5000_train, tf_dataset_5000_test, input_shape_5000 = get_tf_dataset(dataset_5000, 64)\n",
    "cnn_5000 = get_1d_cnn_model(5000, input_shape_5000)"
   ]
  },
  {
   "cell_type": "markdown",
   "id": "0a2d7602",
   "metadata": {},
   "source": [
    "#### 2) 모델 학습"
   ]
  },
  {
   "cell_type": "code",
   "execution_count": 84,
   "id": "b1491aee",
   "metadata": {
    "execution": {
     "iopub.execute_input": "2021-04-23T12:54:18.208079Z",
     "iopub.status.busy": "2021-04-23T12:54:18.207879Z",
     "iopub.status.idle": "2021-04-23T12:54:18.211644Z",
     "shell.execute_reply": "2021-04-23T12:54:18.211120Z",
     "shell.execute_reply.started": "2021-04-23T12:54:18.208054Z"
    },
    "tags": []
   },
   "outputs": [],
   "source": [
    "def train_with_tf_dataset(model, dataset_train, dataset_val, batch_size=128, epochs=20):\n",
    "    callback = EarlyStopping(monitor='val_loss', min_delta=0.001, patience=3, mode='min', verbose=1)\n",
    "    history = model.fit(dataset_train,\n",
    "                        epochs=epochs,\n",
    "                        validation_data=dataset_val,\n",
    "                        callbacks=[callback])\n",
    "    return history.history"
   ]
  },
  {
   "cell_type": "code",
   "execution_count": 85,
   "id": "6f2c553b",
   "metadata": {
    "execution": {
     "iopub.execute_input": "2021-04-23T12:54:20.318557Z",
     "iopub.status.busy": "2021-04-23T12:54:20.318344Z",
     "iopub.status.idle": "2021-04-23T12:54:20.324127Z",
     "shell.execute_reply": "2021-04-23T12:54:20.323484Z",
     "shell.execute_reply.started": "2021-04-23T12:54:20.318531Z"
    },
    "tags": []
   },
   "outputs": [],
   "source": [
    "def show_history_plot(history):\n",
    "    targets = [['loss', 'val_loss'], ['accuracy', 'val_accuracy']]\n",
    "    labels = [['Training loss', 'Validation loss'], ['Training acc', 'Validation acc']]\n",
    "    titles = ['Training and validation loss','Training and validation accuracy']\n",
    "    colors = ['b', 'r']\n",
    "    \n",
    "    fig, axes = plt.subplots(1, 2, figsize=(10, 4))\n",
    "    \n",
    "    for i, ax in enumerate(axes):\n",
    "        print()\n",
    "        ax.plot(history[targets[i][0]], colors[i] + 'o', label=labels[i][0])\n",
    "        ax.plot(history[targets[i][1]], colors[i], label=labels[i][1])\n",
    "        ax.set_xlabel('Epochs')\n",
    "        ax.set_ylabel('Loss')\n",
    "        ax.set_title(titles[i])\n",
    "        ax.legend()\n",
    "        \n",
    "    plt.tight_layout()\n",
    "    plt.show()"
   ]
  },
  {
   "cell_type": "markdown",
   "id": "de58a350",
   "metadata": {},
   "source": [
    "- vocab size : 10000"
   ]
  },
  {
   "cell_type": "code",
   "execution_count": 75,
   "id": "a28b3458",
   "metadata": {
    "execution": {
     "iopub.execute_input": "2021-04-23T04:08:22.479210Z",
     "iopub.status.busy": "2021-04-23T04:08:22.478973Z",
     "iopub.status.idle": "2021-04-23T04:19:00.941432Z",
     "shell.execute_reply": "2021-04-23T04:19:00.940880Z",
     "shell.execute_reply.started": "2021-04-23T04:08:22.479180Z"
    },
    "scrolled": true,
    "tags": []
   },
   "outputs": [
    {
     "name": "stdout",
     "output_type": "stream",
     "text": [
      "Epoch 1/100\n",
      "127/127 [==============================] - 21s 163ms/step - loss: 2.2847 - accuracy: 0.3788 - val_loss: 2.2979 - val_accuracy: 0.3782\n",
      "Epoch 2/100\n",
      "127/127 [==============================] - 22s 173ms/step - loss: 2.2824 - accuracy: 0.3796 - val_loss: 2.2979 - val_accuracy: 0.3815\n",
      "Epoch 3/100\n",
      "127/127 [==============================] - 22s 174ms/step - loss: 2.2821 - accuracy: 0.3797 - val_loss: 2.2977 - val_accuracy: 0.3793\n",
      "Epoch 4/100\n",
      "127/127 [==============================] - 22s 174ms/step - loss: 2.2816 - accuracy: 0.3801 - val_loss: 2.2974 - val_accuracy: 0.3815\n",
      "Epoch 5/100\n",
      "127/127 [==============================] - 22s 173ms/step - loss: 2.2812 - accuracy: 0.3801 - val_loss: 2.2974 - val_accuracy: 0.3815\n",
      "Epoch 6/100\n",
      "127/127 [==============================] - 22s 172ms/step - loss: 2.2809 - accuracy: 0.3797 - val_loss: 2.2971 - val_accuracy: 0.3815\n",
      "Epoch 7/100\n",
      "127/127 [==============================] - 21s 166ms/step - loss: 2.2808 - accuracy: 0.3799 - val_loss: 2.2967 - val_accuracy: 0.3804\n",
      "Epoch 8/100\n",
      "127/127 [==============================] - 21s 167ms/step - loss: 2.2803 - accuracy: 0.3797 - val_loss: 2.2972 - val_accuracy: 0.3815\n",
      "Epoch 9/100\n",
      "127/127 [==============================] - 19s 146ms/step - loss: 2.2799 - accuracy: 0.3798 - val_loss: 2.2968 - val_accuracy: 0.3815\n",
      "Epoch 10/100\n",
      "127/127 [==============================] - 20s 154ms/step - loss: 2.2794 - accuracy: 0.3803 - val_loss: 2.2965 - val_accuracy: 0.3804\n",
      "Epoch 11/100\n",
      "127/127 [==============================] - 20s 159ms/step - loss: 2.2791 - accuracy: 0.3798 - val_loss: 2.2962 - val_accuracy: 0.3815\n",
      "Epoch 12/100\n",
      "127/127 [==============================] - 22s 172ms/step - loss: 2.2787 - accuracy: 0.3797 - val_loss: 2.2960 - val_accuracy: 0.3815\n",
      "Epoch 13/100\n",
      "127/127 [==============================] - 20s 155ms/step - loss: 2.2784 - accuracy: 0.3798 - val_loss: 2.2961 - val_accuracy: 0.3804\n",
      "Epoch 14/100\n",
      "127/127 [==============================] - 19s 150ms/step - loss: 2.2776 - accuracy: 0.3801 - val_loss: 2.2958 - val_accuracy: 0.3804\n",
      "Epoch 15/100\n",
      "127/127 [==============================] - 18s 142ms/step - loss: 2.2773 - accuracy: 0.3799 - val_loss: 2.2955 - val_accuracy: 0.3815\n",
      "Epoch 16/100\n",
      "127/127 [==============================] - 20s 158ms/step - loss: 2.2768 - accuracy: 0.3807 - val_loss: 2.2958 - val_accuracy: 0.3815\n",
      "Epoch 17/100\n",
      "127/127 [==============================] - 22s 170ms/step - loss: 2.2766 - accuracy: 0.3803 - val_loss: 2.2949 - val_accuracy: 0.3826\n",
      "Epoch 18/100\n",
      "127/127 [==============================] - 22s 170ms/step - loss: 2.2759 - accuracy: 0.3802 - val_loss: 2.2946 - val_accuracy: 0.3815\n",
      "Epoch 19/100\n",
      "127/127 [==============================] - 21s 169ms/step - loss: 2.2756 - accuracy: 0.3797 - val_loss: 2.2952 - val_accuracy: 0.3804\n",
      "Epoch 20/100\n",
      "127/127 [==============================] - 19s 149ms/step - loss: 2.2751 - accuracy: 0.3806 - val_loss: 2.2939 - val_accuracy: 0.3804\n",
      "Epoch 21/100\n",
      "127/127 [==============================] - 18s 139ms/step - loss: 2.2746 - accuracy: 0.3810 - val_loss: 2.2941 - val_accuracy: 0.3804\n",
      "Epoch 22/100\n",
      "127/127 [==============================] - 20s 154ms/step - loss: 2.2741 - accuracy: 0.3807 - val_loss: 2.2940 - val_accuracy: 0.3815\n",
      "Epoch 23/100\n",
      "127/127 [==============================] - 22s 171ms/step - loss: 2.2738 - accuracy: 0.3808 - val_loss: 2.2937 - val_accuracy: 0.3804\n",
      "Epoch 24/100\n",
      "127/127 [==============================] - 22s 170ms/step - loss: 2.2735 - accuracy: 0.3806 - val_loss: 2.2942 - val_accuracy: 0.3815\n",
      "Epoch 25/100\n",
      "127/127 [==============================] - 21s 164ms/step - loss: 2.2732 - accuracy: 0.3820 - val_loss: 2.2934 - val_accuracy: 0.3815\n",
      "Epoch 26/100\n",
      "127/127 [==============================] - 22s 170ms/step - loss: 2.2725 - accuracy: 0.3825 - val_loss: 2.2938 - val_accuracy: 0.3826\n",
      "Epoch 27/100\n",
      "127/127 [==============================] - 20s 161ms/step - loss: 2.2723 - accuracy: 0.3822 - val_loss: 2.2935 - val_accuracy: 0.3815\n",
      "Epoch 28/100\n",
      "127/127 [==============================] - 19s 147ms/step - loss: 2.2717 - accuracy: 0.3825 - val_loss: 2.2929 - val_accuracy: 0.3804\n",
      "Epoch 29/100\n",
      "127/127 [==============================] - 18s 144ms/step - loss: 2.2713 - accuracy: 0.3834 - val_loss: 2.2932 - val_accuracy: 0.3838\n",
      "Epoch 30/100\n",
      "127/127 [==============================] - 18s 145ms/step - loss: 2.2711 - accuracy: 0.3831 - val_loss: 2.2935 - val_accuracy: 0.3793\n",
      "Epoch 31/100\n",
      "127/127 [==============================] - 19s 148ms/step - loss: 2.2705 - accuracy: 0.3828 - val_loss: 2.2933 - val_accuracy: 0.3815\n",
      "Epoch 00031: early stopping\n"
     ]
    }
   ],
   "source": [
    "cnn_history_10000 = train_with_tf_dataset(cnn_10000, \n",
    "                                          tf_dataset_10000_train, \n",
    "                                          tf_dataset_10000_test, \n",
    "                                          epochs=100)"
   ]
  },
  {
   "cell_type": "code",
   "execution_count": 258,
   "id": "f2a46521",
   "metadata": {
    "execution": {
     "iopub.execute_input": "2021-04-23T07:28:41.031970Z",
     "iopub.status.busy": "2021-04-23T07:28:41.031433Z",
     "iopub.status.idle": "2021-04-23T07:28:41.342526Z",
     "shell.execute_reply": "2021-04-23T07:28:41.341950Z",
     "shell.execute_reply.started": "2021-04-23T07:28:41.031909Z"
    }
   },
   "outputs": [
    {
     "name": "stdout",
     "output_type": "stream",
     "text": [
      "\n",
      "\n"
     ]
    },
    {
     "data": {
      "image/png": "[encoded data removed]",
      "text/plain": [
       "<Figure size 720x288 with 2 Axes>"
      ]
     },
     "metadata": {
      "needs_background": "light"
     },
     "output_type": "display_data"
    }
   ],
   "source": [
    "show_history_plot(cnn_history_10000)"
   ]
  },
  {
   "cell_type": "markdown",
   "id": "3253eb61",
   "metadata": {},
   "source": [
    "- vocab size : 5000"
   ]
  },
  {
   "cell_type": "code",
   "execution_count": 90,
   "id": "d50d16d3",
   "metadata": {
    "execution": {
     "iopub.execute_input": "2021-04-23T12:57:14.055264Z",
     "iopub.status.busy": "2021-04-23T12:57:14.055056Z",
     "iopub.status.idle": "2021-04-23T13:06:47.136725Z",
     "shell.execute_reply": "2021-04-23T13:06:47.136068Z",
     "shell.execute_reply.started": "2021-04-23T12:57:14.055240Z"
    },
    "scrolled": true,
    "tags": []
   },
   "outputs": [
    {
     "name": "stdout",
     "output_type": "stream",
     "text": [
      "Epoch 1/100\n",
      "127/127 [==============================] - 16s 102ms/step - loss: 2.8860 - accuracy: 0.3452 - val_loss: 2.4109 - val_accuracy: 0.3415\n",
      "Epoch 2/100\n",
      "127/127 [==============================] - 9s 73ms/step - loss: 2.4139 - accuracy: 0.3520 - val_loss: 2.4085 - val_accuracy: 0.3415\n",
      "Epoch 3/100\n",
      "127/127 [==============================] - 9s 73ms/step - loss: 2.4114 - accuracy: 0.3520 - val_loss: 2.4067 - val_accuracy: 0.3415\n",
      "Epoch 4/100\n",
      "127/127 [==============================] - 9s 73ms/step - loss: 2.4095 - accuracy: 0.3520 - val_loss: 2.4046 - val_accuracy: 0.3415\n",
      "Epoch 5/100\n",
      "127/127 [==============================] - 9s 73ms/step - loss: 2.4073 - accuracy: 0.3520 - val_loss: 2.4018 - val_accuracy: 0.3415\n",
      "Epoch 6/100\n",
      "127/127 [==============================] - 9s 73ms/step - loss: 2.4042 - accuracy: 0.3520 - val_loss: 2.3969 - val_accuracy: 0.3415\n",
      "Epoch 7/100\n",
      "127/127 [==============================] - 9s 74ms/step - loss: 2.4001 - accuracy: 0.3523 - val_loss: 2.3913 - val_accuracy: 0.3415\n",
      "Epoch 8/100\n",
      "127/127 [==============================] - 9s 73ms/step - loss: 2.3956 - accuracy: 0.3529 - val_loss: 2.3854 - val_accuracy: 0.3415\n",
      "Epoch 9/100\n",
      "127/127 [==============================] - 9s 73ms/step - loss: 2.3911 - accuracy: 0.3533 - val_loss: 2.3799 - val_accuracy: 0.3404\n",
      "Epoch 10/100\n",
      "127/127 [==============================] - 10s 75ms/step - loss: 2.3871 - accuracy: 0.3540 - val_loss: 2.3752 - val_accuracy: 0.3382\n",
      "Epoch 11/100\n",
      "127/127 [==============================] - 10s 75ms/step - loss: 2.3836 - accuracy: 0.3541 - val_loss: 2.3711 - val_accuracy: 0.3404\n",
      "Epoch 12/100\n",
      "127/127 [==============================] - 9s 74ms/step - loss: 2.3805 - accuracy: 0.3555 - val_loss: 2.3679 - val_accuracy: 0.3404\n",
      "Epoch 13/100\n",
      "127/127 [==============================] - 9s 74ms/step - loss: 2.3778 - accuracy: 0.3553 - val_loss: 2.3651 - val_accuracy: 0.3426\n",
      "Epoch 14/100\n",
      "127/127 [==============================] - 9s 72ms/step - loss: 2.3753 - accuracy: 0.3545 - val_loss: 2.3622 - val_accuracy: 0.3415\n",
      "Epoch 15/100\n",
      "127/127 [==============================] - 9s 73ms/step - loss: 2.3731 - accuracy: 0.3559 - val_loss: 2.3602 - val_accuracy: 0.3415\n",
      "Epoch 16/100\n",
      "127/127 [==============================] - 9s 73ms/step - loss: 2.3712 - accuracy: 0.3560 - val_loss: 2.3581 - val_accuracy: 0.3415\n",
      "Epoch 17/100\n",
      "127/127 [==============================] - 9s 73ms/step - loss: 2.3693 - accuracy: 0.3570 - val_loss: 2.3567 - val_accuracy: 0.3437\n",
      "Epoch 18/100\n",
      "127/127 [==============================] - 9s 72ms/step - loss: 2.3677 - accuracy: 0.3576 - val_loss: 2.3552 - val_accuracy: 0.3437\n",
      "Epoch 19/100\n",
      "127/127 [==============================] - 9s 72ms/step - loss: 2.3661 - accuracy: 0.3575 - val_loss: 2.3538 - val_accuracy: 0.3459\n",
      "Epoch 20/100\n",
      "127/127 [==============================] - 9s 73ms/step - loss: 2.3647 - accuracy: 0.3572 - val_loss: 2.3524 - val_accuracy: 0.3459\n",
      "Epoch 21/100\n",
      "127/127 [==============================] - 9s 74ms/step - loss: 2.3633 - accuracy: 0.3567 - val_loss: 2.3511 - val_accuracy: 0.3482\n",
      "Epoch 22/100\n",
      "127/127 [==============================] - 9s 74ms/step - loss: 2.3620 - accuracy: 0.3575 - val_loss: 2.3501 - val_accuracy: 0.3471\n",
      "Epoch 23/100\n",
      "127/127 [==============================] - 9s 74ms/step - loss: 2.3607 - accuracy: 0.3584 - val_loss: 2.3489 - val_accuracy: 0.3459\n",
      "Epoch 24/100\n",
      "127/127 [==============================] - 9s 73ms/step - loss: 2.3593 - accuracy: 0.3586 - val_loss: 2.3480 - val_accuracy: 0.3459\n",
      "Epoch 25/100\n",
      "127/127 [==============================] - 9s 73ms/step - loss: 2.3581 - accuracy: 0.3592 - val_loss: 2.3470 - val_accuracy: 0.3471\n",
      "Epoch 26/100\n",
      "127/127 [==============================] - 9s 73ms/step - loss: 2.3568 - accuracy: 0.3595 - val_loss: 2.3458 - val_accuracy: 0.3493\n",
      "Epoch 27/100\n",
      "127/127 [==============================] - 9s 73ms/step - loss: 2.3557 - accuracy: 0.3598 - val_loss: 2.3449 - val_accuracy: 0.3526\n",
      "Epoch 28/100\n",
      "127/127 [==============================] - 9s 73ms/step - loss: 2.3545 - accuracy: 0.3597 - val_loss: 2.3441 - val_accuracy: 0.3526\n",
      "Epoch 29/100\n",
      "127/127 [==============================] - 9s 73ms/step - loss: 2.3533 - accuracy: 0.3601 - val_loss: 2.3429 - val_accuracy: 0.3515\n",
      "Epoch 30/100\n",
      "127/127 [==============================] - 9s 73ms/step - loss: 2.3522 - accuracy: 0.3604 - val_loss: 2.3427 - val_accuracy: 0.3571\n",
      "Epoch 31/100\n",
      "127/127 [==============================] - 9s 73ms/step - loss: 2.3511 - accuracy: 0.3601 - val_loss: 2.3420 - val_accuracy: 0.3571\n",
      "Epoch 32/100\n",
      "127/127 [==============================] - 9s 73ms/step - loss: 2.3499 - accuracy: 0.3600 - val_loss: 2.3406 - val_accuracy: 0.3571\n",
      "Epoch 33/100\n",
      "127/127 [==============================] - 9s 73ms/step - loss: 2.3485 - accuracy: 0.3601 - val_loss: 2.3401 - val_accuracy: 0.3548\n",
      "Epoch 34/100\n",
      "127/127 [==============================] - 9s 73ms/step - loss: 2.3475 - accuracy: 0.3606 - val_loss: 2.3393 - val_accuracy: 0.3560\n",
      "Epoch 35/100\n",
      "127/127 [==============================] - 9s 73ms/step - loss: 2.3464 - accuracy: 0.3601 - val_loss: 2.3382 - val_accuracy: 0.3548\n",
      "Epoch 36/100\n",
      "127/127 [==============================] - 9s 74ms/step - loss: 2.3454 - accuracy: 0.3603 - val_loss: 2.3377 - val_accuracy: 0.3548\n",
      "Epoch 37/100\n",
      "127/127 [==============================] - 9s 73ms/step - loss: 2.3445 - accuracy: 0.3599 - val_loss: 2.3367 - val_accuracy: 0.3548\n",
      "Epoch 38/100\n",
      "127/127 [==============================] - 9s 73ms/step - loss: 2.3434 - accuracy: 0.3597 - val_loss: 2.3359 - val_accuracy: 0.3548\n",
      "Epoch 39/100\n",
      "127/127 [==============================] - 9s 73ms/step - loss: 2.3426 - accuracy: 0.3592 - val_loss: 2.3357 - val_accuracy: 0.3548\n",
      "Epoch 40/100\n",
      "127/127 [==============================] - 9s 73ms/step - loss: 2.3419 - accuracy: 0.3581 - val_loss: 2.3349 - val_accuracy: 0.3548\n",
      "Epoch 41/100\n",
      "127/127 [==============================] - 9s 73ms/step - loss: 2.3410 - accuracy: 0.3584 - val_loss: 2.3343 - val_accuracy: 0.3560\n",
      "Epoch 42/100\n",
      "127/127 [==============================] - 9s 73ms/step - loss: 2.3402 - accuracy: 0.3582 - val_loss: 2.3337 - val_accuracy: 0.3560\n",
      "Epoch 43/100\n",
      "127/127 [==============================] - 9s 74ms/step - loss: 2.3394 - accuracy: 0.3587 - val_loss: 2.3332 - val_accuracy: 0.3560\n",
      "Epoch 44/100\n",
      "127/127 [==============================] - 9s 75ms/step - loss: 2.3385 - accuracy: 0.3587 - val_loss: 2.3325 - val_accuracy: 0.3560\n",
      "Epoch 45/100\n",
      "127/127 [==============================] - 10s 75ms/step - loss: 2.3376 - accuracy: 0.3592 - val_loss: 2.3323 - val_accuracy: 0.3537\n",
      "Epoch 46/100\n",
      "127/127 [==============================] - 9s 73ms/step - loss: 2.3370 - accuracy: 0.3593 - val_loss: 2.3318 - val_accuracy: 0.3526\n",
      "Epoch 47/100\n",
      "127/127 [==============================] - 9s 72ms/step - loss: 2.3361 - accuracy: 0.3594 - val_loss: 2.3310 - val_accuracy: 0.3537\n",
      "Epoch 48/100\n",
      "127/127 [==============================] - 9s 74ms/step - loss: 2.3353 - accuracy: 0.3592 - val_loss: 2.3306 - val_accuracy: 0.3504\n",
      "Epoch 49/100\n",
      "127/127 [==============================] - 9s 74ms/step - loss: 2.3345 - accuracy: 0.3591 - val_loss: 2.3298 - val_accuracy: 0.3515\n",
      "Epoch 50/100\n",
      "127/127 [==============================] - 9s 74ms/step - loss: 2.3340 - accuracy: 0.3590 - val_loss: 2.3297 - val_accuracy: 0.3526\n",
      "Epoch 51/100\n",
      "127/127 [==============================] - 9s 74ms/step - loss: 2.3332 - accuracy: 0.3594 - val_loss: 2.3295 - val_accuracy: 0.3526\n",
      "Epoch 52/100\n",
      "127/127 [==============================] - 9s 75ms/step - loss: 2.3323 - accuracy: 0.3588 - val_loss: 2.3287 - val_accuracy: 0.3537\n",
      "Epoch 53/100\n",
      "127/127 [==============================] - 9s 75ms/step - loss: 2.3316 - accuracy: 0.3585 - val_loss: 2.3283 - val_accuracy: 0.3537\n",
      "Epoch 54/100\n",
      "127/127 [==============================] - 9s 74ms/step - loss: 2.3310 - accuracy: 0.3587 - val_loss: 2.3273 - val_accuracy: 0.3571\n",
      "Epoch 55/100\n",
      "127/127 [==============================] - 9s 73ms/step - loss: 2.3302 - accuracy: 0.3588 - val_loss: 2.3269 - val_accuracy: 0.3582\n",
      "Epoch 56/100\n",
      "127/127 [==============================] - 9s 75ms/step - loss: 2.3297 - accuracy: 0.3582 - val_loss: 2.3263 - val_accuracy: 0.3593\n",
      "Epoch 57/100\n",
      "127/127 [==============================] - 9s 74ms/step - loss: 2.3291 - accuracy: 0.3581 - val_loss: 2.3255 - val_accuracy: 0.3582\n",
      "Epoch 58/100\n",
      "127/127 [==============================] - 9s 74ms/step - loss: 2.3282 - accuracy: 0.3579 - val_loss: 2.3255 - val_accuracy: 0.3582\n",
      "Epoch 59/100\n",
      "127/127 [==============================] - 9s 73ms/step - loss: 2.3276 - accuracy: 0.3577 - val_loss: 2.3248 - val_accuracy: 0.3593\n",
      "Epoch 60/100\n",
      "127/127 [==============================] - 10s 75ms/step - loss: 2.3268 - accuracy: 0.3573 - val_loss: 2.3246 - val_accuracy: 0.3593\n",
      "Epoch 00060: early stopping\n"
     ]
    }
   ],
   "source": [
    "cnn_history_5000 = train_with_tf_dataset(cnn_5000, \n",
    "                                         tf_dataset_5000_train, \n",
    "                                         tf_dataset_5000_test, \n",
    "                                         epochs=100)"
   ]
  },
  {
   "cell_type": "code",
   "execution_count": 92,
   "id": "31d852de",
   "metadata": {
    "execution": {
     "iopub.execute_input": "2021-04-23T13:06:51.783598Z",
     "iopub.status.busy": "2021-04-23T13:06:51.783374Z",
     "iopub.status.idle": "2021-04-23T13:06:52.116437Z",
     "shell.execute_reply": "2021-04-23T13:06:52.115754Z",
     "shell.execute_reply.started": "2021-04-23T13:06:51.783571Z"
    },
    "tags": []
   },
   "outputs": [
    {
     "name": "stdout",
     "output_type": "stream",
     "text": [
      "\n",
      "\n"
     ]
    },
    {
     "data": {
      "image/png": "[encoded data removed]",
      "text/plain": [
       "<Figure size 720x288 with 2 Axes>"
      ]
     },
     "metadata": {
      "needs_background": "light"
     },
     "output_type": "display_data"
    }
   ],
   "source": [
    "show_history_plot(cnn_history_5000)"
   ]
  },
  {
   "cell_type": "markdown",
   "id": "ff2404d8",
   "metadata": {},
   "source": [
    "#### 3) 모델 평가"
   ]
  },
  {
   "cell_type": "markdown",
   "id": "8fa33cb0",
   "metadata": {},
   "source": [
    "머신러닝 분류기와의 성능 비교를 위하여 동일한 matrix(accuary, f1)을 이용하여 평가를 한다."
   ]
  },
  {
   "cell_type": "code",
   "execution_count": 86,
   "id": "f9ea2ebd",
   "metadata": {
    "execution": {
     "iopub.execute_input": "2021-04-23T12:54:22.623114Z",
     "iopub.status.busy": "2021-04-23T12:54:22.622845Z",
     "iopub.status.idle": "2021-04-23T12:54:22.627290Z",
     "shell.execute_reply": "2021-04-23T12:54:22.626256Z",
     "shell.execute_reply.started": "2021-04-23T12:54:22.623085Z"
    },
    "tags": []
   },
   "outputs": [],
   "source": [
    "def evaluate(model, X_test, y_test):\n",
    "    predicted = [ np.argmax(values) for values in model.predict(X_test) ]\n",
    "    acc = accuracy_score(y_test, predicted)\n",
    "    f1 = f1_score(y_test, predicted, average='weighted')\n",
    "\n",
    "    return acc, f1, predicted"
   ]
  },
  {
   "cell_type": "markdown",
   "id": "92321166",
   "metadata": {},
   "source": [
    "- vocab size : 10000"
   ]
  },
  {
   "cell_type": "code",
   "execution_count": 98,
   "id": "50c0fb3a",
   "metadata": {
    "execution": {
     "iopub.execute_input": "2021-04-23T04:52:06.697978Z",
     "iopub.status.busy": "2021-04-23T04:52:06.697742Z",
     "iopub.status.idle": "2021-04-23T04:52:06.776119Z",
     "shell.execute_reply": "2021-04-23T04:52:06.775369Z",
     "shell.execute_reply.started": "2021-04-23T04:52:06.697949Z"
    },
    "tags": []
   },
   "outputs": [],
   "source": [
    "shape = dataset_10000.X_test_tfidfv.shape\n",
    "X_test = dataset_10000.X_test_tfidfv.toarray()\n",
    "X_test = X_test.reshape(shape[0], shape[1], 1)"
   ]
  },
  {
   "cell_type": "code",
   "execution_count": 301,
   "id": "02a7a385",
   "metadata": {
    "execution": {
     "iopub.execute_input": "2021-04-23T11:23:22.677180Z",
     "iopub.status.busy": "2021-04-23T11:23:22.676959Z",
     "iopub.status.idle": "2021-04-23T11:23:24.411565Z",
     "shell.execute_reply": "2021-04-23T11:23:24.410949Z",
     "shell.execute_reply.started": "2021-04-23T11:23:22.677153Z"
    },
    "tags": []
   },
   "outputs": [
    {
     "data": {
      "text/plain": [
       "(0.3748886910062333, 0.26926886272886447)"
      ]
     },
     "execution_count": 301,
     "metadata": {},
     "output_type": "execute_result"
    }
   ],
   "source": [
    "cnn_acc_10000, cnn_f1_10000, predicted = evaluate(cnn_10000, X_test, dataset_10000.y_test)\n",
    "cnn_acc_10000, cnn_f1_10000"
   ]
  },
  {
   "cell_type": "code",
   "execution_count": 302,
   "id": "ed007577",
   "metadata": {
    "execution": {
     "iopub.execute_input": "2021-04-23T11:23:25.809642Z",
     "iopub.status.busy": "2021-04-23T11:23:25.809035Z",
     "iopub.status.idle": "2021-04-23T11:23:25.822627Z",
     "shell.execute_reply": "2021-04-23T11:23:25.821574Z",
     "shell.execute_reply.started": "2021-04-23T11:23:25.809566Z"
    }
   },
   "outputs": [
    {
     "data": {
      "text/plain": [
       "array([   0,    0,    0, 1817,  237,    0,    0,    0,    0,    0,    0,\n",
       "         36,    0,    0,    0,    0,   31,    0,    0,  124,    1,    0,\n",
       "          0,    0,    0,    0,    0,    0,    0,    0,    0,    0,    0,\n",
       "          0,    0,    0,    0,    0,    0,    0,    0,    0,    0,    0,\n",
       "          0,    0])"
      ]
     },
     "execution_count": 302,
     "metadata": {},
     "output_type": "execute_result"
    }
   ],
   "source": [
    "hist, bins = np.histogram(predicted, range(0, 47))\n",
    "hist"
   ]
  },
  {
   "cell_type": "markdown",
   "id": "2867e59b",
   "metadata": {},
   "source": [
    "예측이 어느 정도는 이루어지고 있지만, 그 정확도가 매우 낮다."
   ]
  },
  {
   "cell_type": "markdown",
   "id": "50c3d47b",
   "metadata": {},
   "source": [
    "- vocab size : 5000"
   ]
  },
  {
   "cell_type": "code",
   "execution_count": 94,
   "id": "d3fdcfb8",
   "metadata": {
    "execution": {
     "iopub.execute_input": "2021-04-23T13:07:31.788800Z",
     "iopub.status.busy": "2021-04-23T13:07:31.788571Z",
     "iopub.status.idle": "2021-04-23T13:07:32.738175Z",
     "shell.execute_reply": "2021-04-23T13:07:32.737671Z",
     "shell.execute_reply.started": "2021-04-23T13:07:31.788771Z"
    },
    "tags": []
   },
   "outputs": [
    {
     "data": {
      "text/plain": [
       "(0.3717720391807658, 0.23653456351708202)"
      ]
     },
     "execution_count": 94,
     "metadata": {},
     "output_type": "execute_result"
    }
   ],
   "source": [
    "shape = dataset_5000.X_test_tfidfv.shape\n",
    "X_test = dataset_5000.X_test_tfidfv.toarray()\n",
    "X_test = X_test.reshape(shape[0], shape[1], 1)\n",
    "\n",
    "cnn_acc_5000, cnn_f1_5000, predicted_5000 = evaluate(cnn_5000, X_test, dataset_5000.y_test)\n",
    "cnn_acc_5000, cnn_f1_5000"
   ]
  },
  {
   "cell_type": "code",
   "execution_count": 95,
   "id": "12744cff",
   "metadata": {
    "execution": {
     "iopub.execute_input": "2021-04-23T13:07:32.760561Z",
     "iopub.status.busy": "2021-04-23T13:07:32.760313Z",
     "iopub.status.idle": "2021-04-23T13:07:32.765224Z",
     "shell.execute_reply": "2021-04-23T13:07:32.764669Z",
     "shell.execute_reply.started": "2021-04-23T13:07:32.760530Z"
    },
    "tags": []
   },
   "outputs": [
    {
     "data": {
      "text/plain": [
       "array([   0,    0,    0, 1965,  121,    0,    0,    0,    0,    0,    0,\n",
       "         69,    0,    0,    0,    0,    0,    0,    0,   91,    0,    0,\n",
       "          0,    0,    0,    0,    0,    0,    0,    0,    0,    0,    0,\n",
       "          0,    0,    0,    0,    0,    0,    0,    0,    0,    0,    0,\n",
       "          0,    0])"
      ]
     },
     "execution_count": 95,
     "metadata": {},
     "output_type": "execute_result"
    }
   ],
   "source": [
    "hist, bins = np.histogram(predicted_5000, range(0, 47))\n",
    "hist"
   ]
  },
  {
   "cell_type": "markdown",
   "id": "af5bbfe1",
   "metadata": {},
   "source": [
    "vocab size가 10000일 때와 비슷하게 예측이 어느 정도는 이루어지고 있지만, 그 정확도가 매우 낮다. 또한 vocab size가 10000일 때에 비하여 더 낮은 수치를 기록하였다."
   ]
  },
  {
   "cell_type": "markdown",
   "id": "0dd389ef",
   "metadata": {},
   "source": [
    "### 2. LSTM"
   ]
  },
  {
   "cell_type": "markdown",
   "id": "a82b7cb0",
   "metadata": {},
   "source": [
    "#### 1) 모델 정의"
   ]
  },
  {
   "cell_type": "code",
   "execution_count": 102,
   "id": "e2b8011d",
   "metadata": {
    "execution": {
     "iopub.execute_input": "2021-04-23T13:11:43.106844Z",
     "iopub.status.busy": "2021-04-23T13:11:43.106647Z",
     "iopub.status.idle": "2021-04-23T13:11:43.111609Z",
     "shell.execute_reply": "2021-04-23T13:11:43.111100Z",
     "shell.execute_reply.started": "2021-04-23T13:11:43.106820Z"
    },
    "tags": []
   },
   "outputs": [],
   "source": [
    "def get_rnn_model(vocab_size, class_num, input_shape, word_vector_dim=100, units=64):\n",
    "    rnn_model = tf.keras.Sequential()\n",
    "    rnn_model.add(tf.keras.layers.Input(shape=(input_shape)))\n",
    "    rnn_model.add(tf.keras.layers.LSTM(units))\n",
    "    rnn_model.add(tf.keras.layers.Dense(units, activation='relu'))\n",
    "    rnn_model.add(tf.keras.layers.Dense(class_num, activation='softmax'))\n",
    "\n",
    "    rnn_model.summary()\n",
    "    rnn_model.compile(optimizer='adam', loss='categorical_crossentropy', metrics=['accuracy'])\n",
    "    return rnn_model"
   ]
  },
  {
   "cell_type": "code",
   "execution_count": 103,
   "id": "029ddd99",
   "metadata": {
    "execution": {
     "iopub.execute_input": "2021-04-23T13:11:43.275796Z",
     "iopub.status.busy": "2021-04-23T13:11:43.275540Z",
     "iopub.status.idle": "2021-04-23T13:11:43.280639Z",
     "shell.execute_reply": "2021-04-23T13:11:43.279959Z",
     "shell.execute_reply.started": "2021-04-23T13:11:43.275765Z"
    },
    "tags": []
   },
   "outputs": [],
   "source": [
    "def get_tf_dataset(dataset, batch_size):\n",
    "    shape = dataset.X_train_tfidfv.shape\n",
    "    X_train = dataset.X_train_tfidfv.toarray()\n",
    "    X_train = X_train.reshape(shape[0], shape[1], 1)\n",
    "\n",
    "    X_train, X_val, y_train, y_val = train_test_split(X_train, \n",
    "                                                      dataset.y_train_ct,\n",
    "                                                      test_size=0.1, \n",
    "                                                      random_state=7)\n",
    "    \n",
    "    input_shape = (X_train.shape[1], X_train.shape[2])\n",
    "    dataset_train = tf.data.Dataset.from_tensor_slices((X_train, y_train)).batch(batch_size)\n",
    "    dataset_val = tf.data.Dataset.from_tensor_slices((X_val, y_val)).batch(batch_size)\n",
    "    return dataset_train, dataset_val, input_shape"
   ]
  },
  {
   "cell_type": "markdown",
   "id": "a4ca7d26",
   "metadata": {},
   "source": [
    "- vocab size : 10000"
   ]
  },
  {
   "cell_type": "code",
   "execution_count": 112,
   "id": "b763f4c1",
   "metadata": {
    "execution": {
     "iopub.execute_input": "2021-04-23T05:17:24.531116Z",
     "iopub.status.busy": "2021-04-23T05:17:24.530886Z",
     "iopub.status.idle": "2021-04-23T05:17:24.754379Z",
     "shell.execute_reply": "2021-04-23T05:17:24.753625Z",
     "shell.execute_reply.started": "2021-04-23T05:17:24.531089Z"
    },
    "tags": []
   },
   "outputs": [
    {
     "name": "stdout",
     "output_type": "stream",
     "text": [
      "Model: \"sequential_7\"\n",
      "_________________________________________________________________\n",
      "Layer (type)                 Output Shape              Param #   \n",
      "=================================================================\n",
      "lstm_2 (LSTM)                (None, 128)               66560     \n",
      "_________________________________________________________________\n",
      "dense_14 (Dense)             (None, 128)               16512     \n",
      "_________________________________________________________________\n",
      "dense_15 (Dense)             (None, 46)                5934      \n",
      "=================================================================\n",
      "Total params: 89,006\n",
      "Trainable params: 89,006\n",
      "Non-trainable params: 0\n",
      "_________________________________________________________________\n"
     ]
    }
   ],
   "source": [
    "rnn_10000 = get_rnn_model(10000, 46, input_shape, word_vector_dim=100, units=128)"
   ]
  },
  {
   "cell_type": "markdown",
   "id": "39380275",
   "metadata": {},
   "source": [
    "- vocab size : 5000"
   ]
  },
  {
   "cell_type": "code",
   "execution_count": 104,
   "id": "67fd9ee4",
   "metadata": {
    "execution": {
     "iopub.execute_input": "2021-04-23T13:11:45.204880Z",
     "iopub.status.busy": "2021-04-23T13:11:45.204327Z",
     "iopub.status.idle": "2021-04-23T13:11:45.455156Z",
     "shell.execute_reply": "2021-04-23T13:11:45.454484Z",
     "shell.execute_reply.started": "2021-04-23T13:11:45.204496Z"
    },
    "tags": []
   },
   "outputs": [
    {
     "name": "stdout",
     "output_type": "stream",
     "text": [
      "Model: \"sequential_8\"\n",
      "_________________________________________________________________\n",
      "Layer (type)                 Output Shape              Param #   \n",
      "=================================================================\n",
      "lstm (LSTM)                  (None, 128)               66560     \n",
      "_________________________________________________________________\n",
      "dense_20 (Dense)             (None, 128)               16512     \n",
      "_________________________________________________________________\n",
      "dense_21 (Dense)             (None, 46)                5934      \n",
      "=================================================================\n",
      "Total params: 89,006\n",
      "Trainable params: 89,006\n",
      "Non-trainable params: 0\n",
      "_________________________________________________________________\n"
     ]
    }
   ],
   "source": [
    "rnn_5000 = get_rnn_model(5000, 46, input_shape, word_vector_dim=100, units=128)"
   ]
  },
  {
   "cell_type": "markdown",
   "id": "3746f327",
   "metadata": {},
   "source": [
    "#### 2) 모델 학습"
   ]
  },
  {
   "cell_type": "markdown",
   "id": "6d032a2f",
   "metadata": {},
   "source": [
    "- vocab size : 10000"
   ]
  },
  {
   "cell_type": "code",
   "execution_count": 113,
   "id": "88fd56fc",
   "metadata": {
    "execution": {
     "iopub.execute_input": "2021-04-23T05:17:27.289566Z",
     "iopub.status.busy": "2021-04-23T05:17:27.289250Z",
     "iopub.status.idle": "2021-04-23T05:30:53.218896Z",
     "shell.execute_reply": "2021-04-23T05:30:53.218432Z",
     "shell.execute_reply.started": "2021-04-23T05:17:27.289534Z"
    },
    "tags": []
   },
   "outputs": [
    {
     "name": "stdout",
     "output_type": "stream",
     "text": [
      "Epoch 1/100\n",
      "127/127 [==============================] - 56s 429ms/step - loss: 2.8833 - accuracy: 0.3415 - val_loss: 2.4070 - val_accuracy: 0.3459\n",
      "Epoch 2/100\n",
      "127/127 [==============================] - 54s 427ms/step - loss: 2.4091 - accuracy: 0.3567 - val_loss: 2.4048 - val_accuracy: 0.3459\n",
      "Epoch 3/100\n",
      "127/127 [==============================] - 54s 428ms/step - loss: 2.4070 - accuracy: 0.3567 - val_loss: 2.4041 - val_accuracy: 0.3459\n",
      "Epoch 4/100\n",
      "127/127 [==============================] - 53s 418ms/step - loss: 2.4058 - accuracy: 0.3567 - val_loss: 2.4035 - val_accuracy: 0.3459\n",
      "Epoch 5/100\n",
      "127/127 [==============================] - 54s 427ms/step - loss: 2.4051 - accuracy: 0.3567 - val_loss: 2.4031 - val_accuracy: 0.3459\n",
      "Epoch 6/100\n",
      "127/127 [==============================] - 52s 406ms/step - loss: 2.4045 - accuracy: 0.3567 - val_loss: 2.4027 - val_accuracy: 0.3459\n",
      "Epoch 7/100\n",
      "127/127 [==============================] - 51s 405ms/step - loss: 2.4040 - accuracy: 0.3567 - val_loss: 2.4023 - val_accuracy: 0.3459\n",
      "Epoch 8/100\n",
      "127/127 [==============================] - 54s 424ms/step - loss: 2.4036 - accuracy: 0.3567 - val_loss: 2.4018 - val_accuracy: 0.3459\n",
      "Epoch 9/100\n",
      "127/127 [==============================] - 54s 422ms/step - loss: 2.4034 - accuracy: 0.3567 - val_loss: 2.4015 - val_accuracy: 0.3459\n",
      "Epoch 10/100\n",
      "127/127 [==============================] - 54s 428ms/step - loss: 2.4032 - accuracy: 0.3567 - val_loss: 2.4012 - val_accuracy: 0.3459\n",
      "Epoch 11/100\n",
      "127/127 [==============================] - 53s 417ms/step - loss: 2.4030 - accuracy: 0.3567 - val_loss: 2.4009 - val_accuracy: 0.3459\n",
      "Epoch 12/100\n",
      "127/127 [==============================] - 53s 417ms/step - loss: 2.4027 - accuracy: 0.3567 - val_loss: 2.4006 - val_accuracy: 0.3459\n",
      "Epoch 13/100\n",
      "127/127 [==============================] - 53s 419ms/step - loss: 2.4025 - accuracy: 0.3567 - val_loss: 2.4057 - val_accuracy: 0.3448\n",
      "Epoch 14/100\n",
      "127/127 [==============================] - 53s 420ms/step - loss: 2.4023 - accuracy: 0.3567 - val_loss: 2.4054 - val_accuracy: 0.3448\n",
      "Epoch 15/100\n",
      "127/127 [==============================] - 54s 424ms/step - loss: 2.4021 - accuracy: 0.3567 - val_loss: 2.4052 - val_accuracy: 0.3448\n",
      "Epoch 00015: early stopping\n"
     ]
    }
   ],
   "source": [
    "rnn_history_10000 = train_with_tf_dataset(rnn_10000, \n",
    "                                          tf_dataset_10000_train, \n",
    "                                          tf_dataset_10000_test, \n",
    "                                          epochs=100)"
   ]
  },
  {
   "cell_type": "code",
   "execution_count": 259,
   "id": "08112c0c",
   "metadata": {
    "execution": {
     "iopub.execute_input": "2021-04-23T07:29:34.091500Z",
     "iopub.status.busy": "2021-04-23T07:29:34.091112Z",
     "iopub.status.idle": "2021-04-23T07:29:34.419990Z",
     "shell.execute_reply": "2021-04-23T07:29:34.419538Z",
     "shell.execute_reply.started": "2021-04-23T07:29:34.091456Z"
    }
   },
   "outputs": [
    {
     "name": "stdout",
     "output_type": "stream",
     "text": [
      "\n",
      "\n"
     ]
    },
    {
     "data": {
      "image/png": "[encoded data removed]",
      "text/plain": [
       "<Figure size 720x288 with 2 Axes>"
      ]
     },
     "metadata": {
      "needs_background": "light"
     },
     "output_type": "display_data"
    }
   ],
   "source": [
    "show_history_plot(rnn_history_10000)"
   ]
  },
  {
   "cell_type": "markdown",
   "id": "fd934d61",
   "metadata": {},
   "source": [
    "- vocab size : 5000"
   ]
  },
  {
   "cell_type": "code",
   "execution_count": 105,
   "id": "501f88b4",
   "metadata": {
    "execution": {
     "iopub.execute_input": "2021-04-23T13:12:38.117165Z",
     "iopub.status.busy": "2021-04-23T13:12:38.116948Z",
     "iopub.status.idle": "2021-04-23T13:18:13.694957Z",
     "shell.execute_reply": "2021-04-23T13:18:13.694341Z",
     "shell.execute_reply.started": "2021-04-23T13:12:38.117139Z"
    }
   },
   "outputs": [
    {
     "name": "stdout",
     "output_type": "stream",
     "text": [
      "Epoch 1/100\n",
      "WARNING:tensorflow:Model was constructed with shape (None, 9670, 1) for input KerasTensor(type_spec=TensorSpec(shape=(None, 9670, 1), dtype=tf.float32, name='input_7'), name='input_7', description=\"created by layer 'input_7'\"), but it was called on an input with incompatible shape (None, 4867, 1).\n",
      "WARNING:tensorflow:Model was constructed with shape (None, 9670, 1) for input KerasTensor(type_spec=TensorSpec(shape=(None, 9670, 1), dtype=tf.float32, name='input_7'), name='input_7', description=\"created by layer 'input_7'\"), but it was called on an input with incompatible shape (None, 4867, 1).\n",
      "127/127 [==============================] - ETA: 0s - loss: 2.8595 - accuracy: 0.3220WARNING:tensorflow:Model was constructed with shape (None, 9670, 1) for input KerasTensor(type_spec=TensorSpec(shape=(None, 9670, 1), dtype=tf.float32, name='input_7'), name='input_7', description=\"created by layer 'input_7'\"), but it was called on an input with incompatible shape (None, 4867, 1).\n",
      "127/127 [==============================] - 29s 221ms/step - loss: 2.8571 - accuracy: 0.3222 - val_loss: 2.4347 - val_accuracy: 0.3415\n",
      "Epoch 2/100\n",
      "127/127 [==============================] - 28s 218ms/step - loss: 2.4281 - accuracy: 0.3520 - val_loss: 2.4293 - val_accuracy: 0.3415\n",
      "Epoch 3/100\n",
      "127/127 [==============================] - 28s 218ms/step - loss: 2.4259 - accuracy: 0.3520 - val_loss: 2.4258 - val_accuracy: 0.3415\n",
      "Epoch 4/100\n",
      "127/127 [==============================] - 28s 218ms/step - loss: 2.4242 - accuracy: 0.3520 - val_loss: 2.4232 - val_accuracy: 0.3415\n",
      "Epoch 5/100\n",
      "127/127 [==============================] - 28s 218ms/step - loss: 2.4230 - accuracy: 0.3520 - val_loss: 2.4214 - val_accuracy: 0.3415\n",
      "Epoch 6/100\n",
      "127/127 [==============================] - 28s 219ms/step - loss: 2.4223 - accuracy: 0.3520 - val_loss: 2.4203 - val_accuracy: 0.3415\n",
      "Epoch 7/100\n",
      "127/127 [==============================] - 28s 219ms/step - loss: 2.4213 - accuracy: 0.3520 - val_loss: 2.4195 - val_accuracy: 0.3415\n",
      "Epoch 8/100\n",
      "127/127 [==============================] - 28s 218ms/step - loss: 2.4206 - accuracy: 0.3520 - val_loss: 2.4190 - val_accuracy: 0.3415\n",
      "Epoch 9/100\n",
      "127/127 [==============================] - 28s 220ms/step - loss: 2.4201 - accuracy: 0.3520 - val_loss: 2.4179 - val_accuracy: 0.3415\n",
      "Epoch 10/100\n",
      "127/127 [==============================] - 28s 217ms/step - loss: 2.4198 - accuracy: 0.3520 - val_loss: 2.4179 - val_accuracy: 0.3415\n",
      "Epoch 11/100\n",
      "127/127 [==============================] - 28s 217ms/step - loss: 2.4195 - accuracy: 0.3520 - val_loss: 2.4174 - val_accuracy: 0.3415\n",
      "Epoch 12/100\n",
      "127/127 [==============================] - 28s 217ms/step - loss: 2.4192 - accuracy: 0.3520 - val_loss: 2.4172 - val_accuracy: 0.3415\n",
      "Epoch 00012: early stopping\n"
     ]
    }
   ],
   "source": [
    "rnn_history_5000 = train_with_tf_dataset(rnn_5000, \n",
    "                                          tf_dataset_5000_train, \n",
    "                                          tf_dataset_5000_test, \n",
    "                                          epochs=100)"
   ]
  },
  {
   "cell_type": "markdown",
   "id": "0b42b846",
   "metadata": {},
   "source": [
    "#### 3) 모델 평가"
   ]
  },
  {
   "cell_type": "markdown",
   "id": "b911a5b0",
   "metadata": {},
   "source": [
    "- vocab size : 10000"
   ]
  },
  {
   "cell_type": "code",
   "execution_count": 296,
   "id": "53f89f3d",
   "metadata": {
    "execution": {
     "iopub.execute_input": "2021-04-23T11:18:45.088305Z",
     "iopub.status.busy": "2021-04-23T11:18:45.088066Z",
     "iopub.status.idle": "2021-04-23T11:18:55.134382Z",
     "shell.execute_reply": "2021-04-23T11:18:55.133924Z",
     "shell.execute_reply.started": "2021-04-23T11:18:45.088274Z"
    },
    "tags": []
   },
   "outputs": [
    {
     "data": {
      "text/plain": [
       "(0.3619768477292965, 0.19240743851187844)"
      ]
     },
     "execution_count": 296,
     "metadata": {},
     "output_type": "execute_result"
    }
   ],
   "source": [
    "rnn_acc_10000, rnn_f1_10000, predicted = evaluate(rnn_10000, X_test, dataset_10000.y_test)\n",
    "rnn_acc_10000, rnn_f1_10000"
   ]
  },
  {
   "cell_type": "code",
   "execution_count": 300,
   "id": "794a347a",
   "metadata": {
    "execution": {
     "iopub.execute_input": "2021-04-23T11:21:44.748926Z",
     "iopub.status.busy": "2021-04-23T11:21:44.748698Z",
     "iopub.status.idle": "2021-04-23T11:21:44.754336Z",
     "shell.execute_reply": "2021-04-23T11:21:44.753687Z",
     "shell.execute_reply.started": "2021-04-23T11:21:44.748900Z"
    },
    "tags": []
   },
   "outputs": [
    {
     "data": {
      "text/plain": [
       "array([   0,    0,    0, 2246,    0,    0,    0,    0,    0,    0,    0,\n",
       "          0,    0,    0,    0,    0,    0,    0,    0,    0,    0,    0,\n",
       "          0,    0,    0,    0,    0,    0,    0,    0,    0,    0,    0,\n",
       "          0,    0,    0,    0,    0,    0,    0,    0,    0,    0,    0,\n",
       "          0,    0])"
      ]
     },
     "execution_count": 300,
     "metadata": {},
     "output_type": "execute_result"
    }
   ],
   "source": [
    "hist, bins = np.histogram(predicted, range(0, 47))\n",
    "hist"
   ]
  },
  {
   "cell_type": "markdown",
   "id": "84d89fda",
   "metadata": {},
   "source": [
    "- vocab size : 5000"
   ]
  },
  {
   "cell_type": "code",
   "execution_count": 106,
   "id": "7b8c22d5",
   "metadata": {
    "execution": {
     "iopub.execute_input": "2021-04-23T13:18:13.696336Z",
     "iopub.status.busy": "2021-04-23T13:18:13.696103Z",
     "iopub.status.idle": "2021-04-23T13:18:19.160821Z",
     "shell.execute_reply": "2021-04-23T13:18:19.160292Z",
     "shell.execute_reply.started": "2021-04-23T13:18:13.696305Z"
    }
   },
   "outputs": [
    {
     "name": "stdout",
     "output_type": "stream",
     "text": [
      "WARNING:tensorflow:Model was constructed with shape (None, 9670, 1) for input KerasTensor(type_spec=TensorSpec(shape=(None, 9670, 1), dtype=tf.float32, name='input_7'), name='input_7', description=\"created by layer 'input_7'\"), but it was called on an input with incompatible shape (None, 4867, 1).\n"
     ]
    },
    {
     "data": {
      "text/plain": [
       "(0.3619768477292965, 0.19240743851187844)"
      ]
     },
     "execution_count": 106,
     "metadata": {},
     "output_type": "execute_result"
    }
   ],
   "source": [
    "rnn_acc_5000, rnn_f1_5000, predicted = evaluate(rnn_5000, X_test, dataset_5000.y_test)\n",
    "rnn_acc_5000, rnn_f1_5000"
   ]
  },
  {
   "cell_type": "code",
   "execution_count": 107,
   "id": "003185e0",
   "metadata": {
    "execution": {
     "iopub.execute_input": "2021-04-23T13:18:19.161904Z",
     "iopub.status.busy": "2021-04-23T13:18:19.161729Z",
     "iopub.status.idle": "2021-04-23T13:18:19.166695Z",
     "shell.execute_reply": "2021-04-23T13:18:19.166190Z",
     "shell.execute_reply.started": "2021-04-23T13:18:19.161874Z"
    }
   },
   "outputs": [
    {
     "data": {
      "text/plain": [
       "array([   0,    0,    0, 2246,    0,    0,    0,    0,    0,    0,    0,\n",
       "          0,    0,    0,    0,    0,    0,    0,    0,    0,    0,    0,\n",
       "          0,    0,    0,    0,    0,    0,    0,    0,    0,    0,    0,\n",
       "          0,    0,    0,    0,    0,    0,    0,    0,    0,    0,    0,\n",
       "          0,    0])"
      ]
     },
     "execution_count": 107,
     "metadata": {},
     "output_type": "execute_result"
    }
   ],
   "source": [
    "hist, bins = np.histogram(predicted, range(0, 47))\n",
    "hist"
   ]
  },
  {
   "cell_type": "markdown",
   "id": "b13d05bc",
   "metadata": {},
   "source": [
    "두 경우 모두 너무 낮은 값이 나와 예측값을 확인해보니 모든 예측이 3으로 나왔다.<br>\n",
    "모델 자체가 제대로 학습되지 않은 실패한 사례이다."
   ]
  },
  {
   "cell_type": "markdown",
   "id": "5ccc6555",
   "metadata": {
    "execution": {
     "iopub.execute_input": "2021-04-23T05:31:48.485951Z",
     "iopub.status.busy": "2021-04-23T05:31:48.485652Z",
     "iopub.status.idle": "2021-04-23T05:31:48.488967Z",
     "shell.execute_reply": "2021-04-23T05:31:48.488271Z",
     "shell.execute_reply.started": "2021-04-23T05:31:48.485911Z"
    }
   },
   "source": [
    "### 3. Simple Fully Connected"
   ]
  },
  {
   "cell_type": "markdown",
   "id": "fdfde453",
   "metadata": {},
   "source": [
    "#### 1) 모델 정의"
   ]
  },
  {
   "cell_type": "code",
   "execution_count": 34,
   "id": "5cc587fa",
   "metadata": {
    "execution": {
     "iopub.execute_input": "2021-04-23T11:55:33.971883Z",
     "iopub.status.busy": "2021-04-23T11:55:33.971614Z",
     "iopub.status.idle": "2021-04-23T11:55:33.977173Z",
     "shell.execute_reply": "2021-04-23T11:55:33.976663Z",
     "shell.execute_reply.started": "2021-04-23T11:55:33.971851Z"
    },
    "tags": []
   },
   "outputs": [],
   "source": [
    "def get_FC(vocab_size):\n",
    "    model = Sequential()\n",
    "    model.add(Dense(1024, input_shape=(vocab_size,), activation='relu'))\n",
    "    model.add(Dropout(0.5))\n",
    "    model.add(Dense(512, activation='relu'))\n",
    "    model.add(Dropout(0.3))\n",
    "    model.add(Dense(128, activation='relu'))\n",
    "    model.add(Dropout(0.3))\n",
    "    model.add(Dense(46, activation='softmax'))\n",
    "\n",
    "    model.compile(optimizer='adam', loss='categorical_crossentropy', metrics=['accuracy'])\n",
    "    model.summary()\n",
    "    return model"
   ]
  },
  {
   "cell_type": "markdown",
   "id": "eac09df9",
   "metadata": {},
   "source": [
    "- vocab size : 10000"
   ]
  },
  {
   "cell_type": "code",
   "execution_count": 35,
   "id": "bda396d3",
   "metadata": {
    "execution": {
     "iopub.execute_input": "2021-04-23T11:55:34.566184Z",
     "iopub.status.busy": "2021-04-23T11:55:34.565975Z",
     "iopub.status.idle": "2021-04-23T11:55:34.620002Z",
     "shell.execute_reply": "2021-04-23T11:55:34.619405Z",
     "shell.execute_reply.started": "2021-04-23T11:55:34.566158Z"
    },
    "tags": []
   },
   "outputs": [
    {
     "name": "stdout",
     "output_type": "stream",
     "text": [
      "Model: \"sequential_3\"\n",
      "_________________________________________________________________\n",
      "Layer (type)                 Output Shape              Param #   \n",
      "=================================================================\n",
      "dense_8 (Dense)              (None, 1024)              9903104   \n",
      "_________________________________________________________________\n",
      "dropout_3 (Dropout)          (None, 1024)              0         \n",
      "_________________________________________________________________\n",
      "dense_9 (Dense)              (None, 512)               524800    \n",
      "_________________________________________________________________\n",
      "dropout_4 (Dropout)          (None, 512)               0         \n",
      "_________________________________________________________________\n",
      "dense_10 (Dense)             (None, 128)               65664     \n",
      "_________________________________________________________________\n",
      "dropout_5 (Dropout)          (None, 128)               0         \n",
      "_________________________________________________________________\n",
      "dense_11 (Dense)             (None, 46)                5934      \n",
      "=================================================================\n",
      "Total params: 10,499,502\n",
      "Trainable params: 10,499,502\n",
      "Non-trainable params: 0\n",
      "_________________________________________________________________\n"
     ]
    }
   ],
   "source": [
    "fc_100000 = get_FC(dataset_10000.X_train_tfidfv.shape[1])"
   ]
  },
  {
   "cell_type": "markdown",
   "id": "2d6361a5",
   "metadata": {},
   "source": [
    "- vocab size : 5000"
   ]
  },
  {
   "cell_type": "code",
   "execution_count": 108,
   "id": "3a230146",
   "metadata": {
    "execution": {
     "iopub.execute_input": "2021-04-23T13:19:04.864285Z",
     "iopub.status.busy": "2021-04-23T13:19:04.864065Z",
     "iopub.status.idle": "2021-04-23T13:19:04.916941Z",
     "shell.execute_reply": "2021-04-23T13:19:04.916473Z",
     "shell.execute_reply.started": "2021-04-23T13:19:04.864260Z"
    }
   },
   "outputs": [
    {
     "name": "stdout",
     "output_type": "stream",
     "text": [
      "Model: \"sequential_9\"\n",
      "_________________________________________________________________\n",
      "Layer (type)                 Output Shape              Param #   \n",
      "=================================================================\n",
      "dense_22 (Dense)             (None, 1024)              4984832   \n",
      "_________________________________________________________________\n",
      "dropout_6 (Dropout)          (None, 1024)              0         \n",
      "_________________________________________________________________\n",
      "dense_23 (Dense)             (None, 512)               524800    \n",
      "_________________________________________________________________\n",
      "dropout_7 (Dropout)          (None, 512)               0         \n",
      "_________________________________________________________________\n",
      "dense_24 (Dense)             (None, 128)               65664     \n",
      "_________________________________________________________________\n",
      "dropout_8 (Dropout)          (None, 128)               0         \n",
      "_________________________________________________________________\n",
      "dense_25 (Dense)             (None, 46)                5934      \n",
      "=================================================================\n",
      "Total params: 5,581,230\n",
      "Trainable params: 5,581,230\n",
      "Non-trainable params: 0\n",
      "_________________________________________________________________\n"
     ]
    }
   ],
   "source": [
    "fc_50000 = get_FC(dataset_5000.X_train_tfidfv.shape[1])"
   ]
  },
  {
   "cell_type": "markdown",
   "id": "4ffc228a",
   "metadata": {},
   "source": [
    "#### 2) 모델 학습"
   ]
  },
  {
   "cell_type": "code",
   "execution_count": 36,
   "id": "dd061491",
   "metadata": {
    "execution": {
     "iopub.execute_input": "2021-04-23T11:55:35.014813Z",
     "iopub.status.busy": "2021-04-23T11:55:35.014540Z",
     "iopub.status.idle": "2021-04-23T11:55:35.019850Z",
     "shell.execute_reply": "2021-04-23T11:55:35.019247Z",
     "shell.execute_reply.started": "2021-04-23T11:55:35.014779Z"
    },
    "tags": []
   },
   "outputs": [],
   "source": [
    "def train_fc(model, dataset, batch_size=128, epochs=20):\n",
    "    callback = EarlyStopping(monitor='val_loss', min_delta=0.001, patience=4, mode='min', verbose=1)\n",
    "    history = model.fit(x=dataset.X_train_tfidfv.toarray(),\n",
    "                        y=dataset.y_train_ct, \n",
    "                        batch_size=batch_size, \n",
    "                        epochs=epochs,   \n",
    "                        validation_split=0.1, \n",
    "                        use_multiprocessing=True,\n",
    "                        workers=8, \n",
    "                        steps_per_epoch=None, \n",
    "                        callbacks=[callback])\n",
    "    return history"
   ]
  },
  {
   "cell_type": "markdown",
   "id": "d41fc9a3",
   "metadata": {},
   "source": [
    "- vocab size : 10000"
   ]
  },
  {
   "cell_type": "code",
   "execution_count": 37,
   "id": "045a4e86",
   "metadata": {
    "execution": {
     "iopub.execute_input": "2021-04-23T11:55:35.317358Z",
     "iopub.status.busy": "2021-04-23T11:55:35.317146Z",
     "iopub.status.idle": "2021-04-23T11:55:40.425812Z",
     "shell.execute_reply": "2021-04-23T11:55:40.425238Z",
     "shell.execute_reply.started": "2021-04-23T11:55:35.317332Z"
    },
    "tags": []
   },
   "outputs": [
    {
     "name": "stdout",
     "output_type": "stream",
     "text": [
      "Epoch 1/100\n",
      "64/64 [==============================] - 1s 9ms/step - loss: 2.6498 - accuracy: 0.4030 - val_loss: 1.4358 - val_accuracy: 0.6808\n",
      "Epoch 2/100\n",
      "64/64 [==============================] - 0s 6ms/step - loss: 1.2306 - accuracy: 0.7132 - val_loss: 1.1470 - val_accuracy: 0.7397\n",
      "Epoch 3/100\n",
      "64/64 [==============================] - 0s 6ms/step - loss: 0.8075 - accuracy: 0.8058 - val_loss: 1.0520 - val_accuracy: 0.7697\n",
      "Epoch 4/100\n",
      "64/64 [==============================] - 0s 6ms/step - loss: 0.5665 - accuracy: 0.8538 - val_loss: 1.0655 - val_accuracy: 0.7742\n",
      "Epoch 5/100\n",
      "64/64 [==============================] - 0s 6ms/step - loss: 0.4230 - accuracy: 0.8916 - val_loss: 1.0556 - val_accuracy: 0.7887\n",
      "Epoch 6/100\n",
      "64/64 [==============================] - 0s 6ms/step - loss: 0.2933 - accuracy: 0.9263 - val_loss: 1.0200 - val_accuracy: 0.7987\n",
      "Epoch 7/100\n",
      "64/64 [==============================] - 0s 6ms/step - loss: 0.2450 - accuracy: 0.9387 - val_loss: 1.0913 - val_accuracy: 0.7942\n",
      "Epoch 8/100\n",
      "64/64 [==============================] - 0s 6ms/step - loss: 0.1975 - accuracy: 0.9484 - val_loss: 1.0711 - val_accuracy: 0.8053\n",
      "Epoch 9/100\n",
      "64/64 [==============================] - 0s 6ms/step - loss: 0.1463 - accuracy: 0.9573 - val_loss: 1.2021 - val_accuracy: 0.7976\n",
      "Epoch 10/100\n",
      "64/64 [==============================] - 0s 6ms/step - loss: 0.1432 - accuracy: 0.9577 - val_loss: 1.1311 - val_accuracy: 0.7976\n",
      "Epoch 00010: early stopping\n"
     ]
    }
   ],
   "source": [
    "fc_history_10000 = train_fc(fc_100000, dataset_10000, epochs=100)"
   ]
  },
  {
   "cell_type": "code",
   "execution_count": 38,
   "id": "f7e3aee7",
   "metadata": {
    "execution": {
     "iopub.execute_input": "2021-04-23T11:55:40.426992Z",
     "iopub.status.busy": "2021-04-23T11:55:40.426761Z",
     "iopub.status.idle": "2021-04-23T11:55:40.746032Z",
     "shell.execute_reply": "2021-04-23T11:55:40.745320Z",
     "shell.execute_reply.started": "2021-04-23T11:55:40.426969Z"
    },
    "tags": []
   },
   "outputs": [
    {
     "name": "stdout",
     "output_type": "stream",
     "text": [
      "\n",
      "\n"
     ]
    },
    {
     "data": {
      "image/png": "[encoded data removed]",
      "text/plain": [
       "<Figure size 720x288 with 2 Axes>"
      ]
     },
     "metadata": {
      "needs_background": "light"
     },
     "output_type": "display_data"
    }
   ],
   "source": [
    "show_history_plot(fc_history_10000.history)"
   ]
  },
  {
   "cell_type": "markdown",
   "id": "ae92befc",
   "metadata": {},
   "source": [
    "- vocab size : 5000"
   ]
  },
  {
   "cell_type": "code",
   "execution_count": 109,
   "id": "09583b9a",
   "metadata": {
    "execution": {
     "iopub.execute_input": "2021-04-23T13:19:10.961310Z",
     "iopub.status.busy": "2021-04-23T13:19:10.961110Z",
     "iopub.status.idle": "2021-04-23T13:19:14.744034Z",
     "shell.execute_reply": "2021-04-23T13:19:14.743351Z",
     "shell.execute_reply.started": "2021-04-23T13:19:10.961285Z"
    }
   },
   "outputs": [
    {
     "name": "stdout",
     "output_type": "stream",
     "text": [
      "Epoch 1/100\n",
      "64/64 [==============================] - 1s 7ms/step - loss: 2.6651 - accuracy: 0.3983 - val_loss: 1.4945 - val_accuracy: 0.6407\n",
      "Epoch 2/100\n",
      "64/64 [==============================] - 0s 5ms/step - loss: 1.3310 - accuracy: 0.6876 - val_loss: 1.1872 - val_accuracy: 0.7297\n",
      "Epoch 3/100\n",
      "64/64 [==============================] - 0s 5ms/step - loss: 0.9277 - accuracy: 0.7768 - val_loss: 1.0658 - val_accuracy: 0.7620\n",
      "Epoch 4/100\n",
      "64/64 [==============================] - 0s 4ms/step - loss: 0.6726 - accuracy: 0.8323 - val_loss: 1.0429 - val_accuracy: 0.7831\n",
      "Epoch 5/100\n",
      "64/64 [==============================] - 0s 5ms/step - loss: 0.4924 - accuracy: 0.8736 - val_loss: 1.0452 - val_accuracy: 0.7909\n",
      "Epoch 6/100\n",
      "64/64 [==============================] - 0s 5ms/step - loss: 0.4006 - accuracy: 0.8936 - val_loss: 1.0401 - val_accuracy: 0.7976\n",
      "Epoch 7/100\n",
      "64/64 [==============================] - 0s 4ms/step - loss: 0.2818 - accuracy: 0.9251 - val_loss: 1.0993 - val_accuracy: 0.8009\n",
      "Epoch 8/100\n",
      "64/64 [==============================] - 0s 5ms/step - loss: 0.2316 - accuracy: 0.9420 - val_loss: 1.0445 - val_accuracy: 0.8020\n",
      "Epoch 9/100\n",
      "64/64 [==============================] - 0s 4ms/step - loss: 0.1849 - accuracy: 0.9500 - val_loss: 1.0752 - val_accuracy: 0.8053\n",
      "Epoch 10/100\n",
      "64/64 [==============================] - 0s 4ms/step - loss: 0.1673 - accuracy: 0.9557 - val_loss: 1.0748 - val_accuracy: 0.8020\n",
      "Epoch 00010: early stopping\n"
     ]
    }
   ],
   "source": [
    "fc_history_5000 = train_fc(fc_50000, dataset_5000, epochs=100)"
   ]
  },
  {
   "cell_type": "code",
   "execution_count": 110,
   "id": "5872cca1",
   "metadata": {
    "execution": {
     "iopub.execute_input": "2021-04-23T13:19:23.384016Z",
     "iopub.status.busy": "2021-04-23T13:19:23.383820Z",
     "iopub.status.idle": "2021-04-23T13:19:23.693592Z",
     "shell.execute_reply": "2021-04-23T13:19:23.693035Z",
     "shell.execute_reply.started": "2021-04-23T13:19:23.383993Z"
    }
   },
   "outputs": [
    {
     "name": "stdout",
     "output_type": "stream",
     "text": [
      "\n",
      "\n"
     ]
    },
    {
     "data": {
      "image/png": "[encoded data removed]",
      "text/plain": [
       "<Figure size 720x288 with 2 Axes>"
      ]
     },
     "metadata": {
      "needs_background": "light"
     },
     "output_type": "display_data"
    }
   ],
   "source": [
    "show_history_plot(fc_history_5000.history)"
   ]
  },
  {
   "cell_type": "markdown",
   "id": "0533fd80",
   "metadata": {},
   "source": [
    "#### 3) 모델 평가"
   ]
  },
  {
   "cell_type": "markdown",
   "id": "203a4bb2",
   "metadata": {},
   "source": [
    "- vocab size : 10000"
   ]
  },
  {
   "cell_type": "code",
   "execution_count": 39,
   "id": "895100e0",
   "metadata": {
    "execution": {
     "iopub.execute_input": "2021-04-23T11:55:42.364794Z",
     "iopub.status.busy": "2021-04-23T11:55:42.364584Z",
     "iopub.status.idle": "2021-04-23T11:55:42.645713Z",
     "shell.execute_reply": "2021-04-23T11:55:42.645104Z",
     "shell.execute_reply.started": "2021-04-23T11:55:42.364770Z"
    },
    "tags": []
   },
   "outputs": [
    {
     "data": {
      "text/plain": [
       "(0.8081032947462155, 0.801556204587581)"
      ]
     },
     "execution_count": 39,
     "metadata": {},
     "output_type": "execute_result"
    }
   ],
   "source": [
    "fc_acc_10000, fc_f1_10000, predicted = evaluate(fc_100000, dataset_10000.X_test_tfidfv.toarray(), dataset_10000.y_test)\n",
    "fc_acc_10000, fc_f1_10000"
   ]
  },
  {
   "cell_type": "code",
   "execution_count": 40,
   "id": "2bbdc3fb",
   "metadata": {
    "execution": {
     "iopub.execute_input": "2021-04-23T11:55:42.765281Z",
     "iopub.status.busy": "2021-04-23T11:55:42.765013Z",
     "iopub.status.idle": "2021-04-23T11:55:42.770964Z",
     "shell.execute_reply": "2021-04-23T11:55:42.770348Z",
     "shell.execute_reply.started": "2021-04-23T11:55:42.765248Z"
    },
    "tags": []
   },
   "outputs": [
    {
     "data": {
      "text/plain": [
       "array([  9, 117,  14, 846, 502,   4,  13,   1,  43,  26,  28,  89,   6,\n",
       "        32,   1,   3, 106,   5,  15, 139,  53,  31,   1,   9,  16,  30,\n",
       "         8,   1,   8,   4,  12,   9,   8,   5,   3,   1,  18,   4,   2,\n",
       "         3,   3,   5,   2,   6,   4,   1])"
      ]
     },
     "execution_count": 40,
     "metadata": {},
     "output_type": "execute_result"
    }
   ],
   "source": [
    "hist, bins = np.histogram(predicted, range(0, 47))\n",
    "hist"
   ]
  },
  {
   "cell_type": "markdown",
   "id": "93b6efb1",
   "metadata": {},
   "source": [
    "머신러닝에서 가장 점수가 높았던 voting과 비슷한 점수가 나왔다."
   ]
  },
  {
   "cell_type": "markdown",
   "id": "cfdc3e0f",
   "metadata": {},
   "source": [
    "- vocab size : 5000"
   ]
  },
  {
   "cell_type": "code",
   "execution_count": 111,
   "id": "93f670a1",
   "metadata": {
    "execution": {
     "iopub.execute_input": "2021-04-23T13:19:50.918636Z",
     "iopub.status.busy": "2021-04-23T13:19:50.918425Z",
     "iopub.status.idle": "2021-04-23T13:19:51.131508Z",
     "shell.execute_reply": "2021-04-23T13:19:51.130863Z",
     "shell.execute_reply.started": "2021-04-23T13:19:50.918610Z"
    }
   },
   "outputs": [
    {
     "data": {
      "text/plain": [
       "(0.7960819234194123, 0.7918431124996802)"
      ]
     },
     "execution_count": 111,
     "metadata": {},
     "output_type": "execute_result"
    }
   ],
   "source": [
    "fc_acc_5000, fc_f1_5000, predicted = evaluate(fc_50000, dataset_5000.X_test_tfidfv.toarray(), dataset_5000.y_test)\n",
    "fc_acc_5000, fc_f1_5000"
   ]
  },
  {
   "cell_type": "code",
   "execution_count": 112,
   "id": "1976ee9a",
   "metadata": {
    "execution": {
     "iopub.execute_input": "2021-04-23T13:19:51.183520Z",
     "iopub.status.busy": "2021-04-23T13:19:51.183285Z",
     "iopub.status.idle": "2021-04-23T13:19:51.189329Z",
     "shell.execute_reply": "2021-04-23T13:19:51.188500Z",
     "shell.execute_reply.started": "2021-04-23T13:19:51.183492Z"
    }
   },
   "outputs": [
    {
     "data": {
      "text/plain": [
       "array([  8, 120,  20, 812, 476,   3,  15,   2,  44,  27,  29, 106,   6,\n",
       "        32,   1,   3, 120,   7,  16, 154,  49,  31,   3,  11,  25,  22,\n",
       "         8,   1,  13,   7,   5,  13,   8,   4,   3,   1,   8,   2,   1,\n",
       "         4,   4,   6,   3,   8,   4,   1])"
      ]
     },
     "execution_count": 112,
     "metadata": {},
     "output_type": "execute_result"
    }
   ],
   "source": [
    "hist, bins = np.histogram(predicted, range(0, 47))\n",
    "hist"
   ]
  },
  {
   "cell_type": "markdown",
   "id": "b739011b",
   "metadata": {},
   "source": [
    "vocab size가 10000일 때와 비슷한 수치가 나왔지만, 그것보다는 조금 낮았다."
   ]
  },
  {
   "cell_type": "markdown",
   "id": "ed09041f",
   "metadata": {},
   "source": [
    "## Step 5. 결론\n",
    "---"
   ]
  },
  {
   "cell_type": "markdown",
   "id": "88b89ed9",
   "metadata": {},
   "source": [
    "### 프로젝트 평가"
   ]
  },
  {
   "cell_type": "markdown",
   "id": "ab441c20",
   "metadata": {},
   "source": [
    "1. 분류 모델의 accuracy가 기준 이상 높게 나왔는가? <br>3가지 단어 개수에 대해 8가지 머신러닝 기법을 적용하여 그 중 최적의 솔루션을 도출하였다.\n",
    "    - 분류 모델을 통한 분류를 진행하였을 때, accuracy가 가장 높게 나온 것은 VotingClassifier이었다.\n",
    "2. 분류 모델의 F1 score가 기준 이상 높게 나왔는가? <br>Vocabulary size에 따른 각 머신러닝 모델의 성능변화 추이를 살피고, 해당 머신러닝 알고리즘의 특성에 근거해 원인을 분석하였다.\n",
    "    - 분류 모델을 통한 분류를 진행하였을 때, F1 score가 가장 높게 나온 것은 VotingClassifier이었다.\n",
    "3. 동일한 데이터셋과 전처리 조건으로 딥러닝 모델의 성능과 비교하여 결과에 따른 원인을 분석하였다.\n",
    "    - 머신러닝 모델에 사용된 데이터와 동일한 데이터를 학습/테스트 데이터로하여 총 세가지(1D CNN, LSTM, Fully Connected) 모델을 정의하여 실험을 진행하였다.\n",
    "    -  하나의 Convolution Layer를 사용한 1D CNN 모델의 경우, accuracy가 37%, f1 score가 약25% 정도의 낮은 수치를 보였다. 이는 사용된 데이터가 TF-IDF 방식으로 인코딩된 즉 희소 표현으로 정의된 데이터이기 때문에, CNN을 통하여 학습을 진행하여도 학습이 제대로 이루어지지 않기 때문으로 추정된다. 희소 표현 정의된 데이터는 대부분이 0으로 구성되어 있고, 따라서 모델을 구성하는 Convolution 연산과 Max pooling 연산을 진행하여도 feature map의 값에 변화가 크게 없다. 그러한 이유로 얕은 층으로는 학습의 효과가 거의 없었을 것이라 생각된다. 그리고 데이터의 라벨이 한쪽으로 치우쳐져 있는데 이 밸런스를 조절하지 않았다는 점이 학습을 방해하는 요소가 되었을 것이라 생각한다.\n",
    "    - 하나의 LSTM 레이어를 사용한 모델의 경우 1D CNN 보다 더 처첨한 결과를 보였다. 이 역시 희소 데이터의 특징에서 비롯된 것으로 추정된다. LSTM을 구성하는 게이트 중 하나인 망각 게이트는 현 시점의 정보와 은닉층의 값에 각각 가중치를 곱하여 더한 후 sigmoid를 취하는 동작을 하는데 이때, sigmoid의 결과 값이 0에 가까울 수록 정보를 많이 잃게 된다. 희소 표현으로 정의된 데이터 덕에 '현 시점의 정보'의 대부분은 0이 되고, 이는 과거의 데이터를 망각할 확률이 더 클 수 있음을 시사한다. 즉, 데이터 연산이 진행될 수록 이전의 데이터가 소실되었을 가능성이 존재하고 이는 학습을 방해하는 거대한 걸림돌이 되었을 것이다.\n",
    "    - 가장 좋은 성능을 보인 모델은 3개의 Dense Layer를 쌓아 많은 신경망 모델이었다. 머신러닝과 마찬가지로 입력된 모든 데이터를 소실없이 모두 사용하였기 때문에 학습이 목표하는바와 유사하게 진행되지 않았나, 생각해본다."
   ]
  },
  {
   "cell_type": "markdown",
   "id": "6e705a42",
   "metadata": {},
   "source": [
    "### 회고"
   ]
  },
  {
   "cell_type": "markdown",
   "id": "2296bdaf",
   "metadata": {},
   "source": [
    "- going deeper로 넘어오면서 모델을 작성하는 부분에서 자유도가 조금 생긴 느낌이다. 다양한 시도를 하면서 할 수 있는 것들이 늘어가는 느낌이라 아주 보람차다.\n",
    "- 희소표현이 딥러닝 모델의 입력으로 부적절한 이유에 대해서 여러가지 자료를 보고 생각을하여 평가를 작성하였지만, 정답이 아닌 것 같아 마음이 불편한다. 어딘가에 저 문제에 대한 답이 있을 것 같은데 아직 찾지를 못하였고 이 점 때문에 프로젝트의 완성도가 너무 낮아진 느낌이다. 다음에는 자료를 찾는 부분에 좀 더 시간을 들여야 겠다."
   ]
  },
  {
   "cell_type": "markdown",
   "id": "957fdd71",
   "metadata": {},
   "source": [
    "## ref\n",
    "---\n",
    "- [CNN으로 문장 분류하기](https://ratsgo.github.io/natural%20language%20processing/2017/03/19/CNN/)\n",
    "- [[Python/Jupyter] TF-IDF 파라미터 알아보기 / min_idf, analyzer, sublinear_tf, ngram_range, max_features](https://chan-lab.tistory.com/27)\n",
    " - [자연어 처리를 위한 1D CNN(1D Convolutional Neural Networks)](https://wikidocs.net/80437)\n",
    " - [How to Choose Loss Functions When Training Deep Learning Neural Networks](https://machinelearningmastery.com/how-to-choose-loss-functions-when-training-deep-learning-neural-networks/)\n",
    " - [Are deep learning models suitable for training with sparse data?](https://towardsdatascience.com/why-deep-learning-is-needed-over-traditional-machine-learning-1b6a99177063)\n",
    " - [Long Short-Term Memory(LSTM)](https://yjjo.tistory.com/17)\n",
    " - [5.3 분류모형](https://datascienceschool.net/03%20machine%20learning/09.03%20%EB%B6%84%EB%A5%98%EB%AA%A8%ED%98%95.html)\n",
    " - [5.4 분류 성능평가](https://datascienceschool.net/03%20machine%20learning/09.04%20%EB%B6%84%EB%A5%98%20%EC%84%B1%EB%8A%A5%ED%8F%89%EA%B0%80.html)\n",
    " - [6.6 베이즈 정리](https://datascienceschool.net/02%20mathematics/06.06%20%EB%B2%A0%EC%9D%B4%EC%A6%88%20%EC%A0%95%EB%A6%AC.html)"
   ]
  }
 ],
 "metadata": {
  "kernelspec": {
   "display_name": "Python 3",
   "language": "python",
   "name": "python3"
  },
  "language_info": {
   "codemirror_mode": {
    "name": "ipython",
    "version": 3
   },
   "file_extension": ".py",
   "mimetype": "text/x-python",
   "name": "python",
   "nbconvert_exporter": "python",
   "pygments_lexer": "ipython3",
   "version": "3.7.10"
  }
 },
 "nbformat": 4,
 "nbformat_minor": 5
}
