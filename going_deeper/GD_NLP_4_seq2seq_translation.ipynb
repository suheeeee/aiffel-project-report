{
 "cells": [
  {
   "cell_type": "markdown",
   "id": "92bf0528",
   "metadata": {},
   "source": [
    "# Seq2seq Translation\n",
    "---"
   ]
  },
  {
   "cell_type": "markdown",
   "id": "31a4594b",
   "metadata": {},
   "source": [
    "## Step 0. 설계\n",
    "---"
   ]
  },
  {
   "cell_type": "code",
   "execution_count": null,
   "id": "a62a9c44",
   "metadata": {},
   "outputs": [],
   "source": []
  },
  {
   "cell_type": "code",
   "execution_count": null,
   "id": "dc241c2b",
   "metadata": {},
   "outputs": [],
   "source": []
  },
  {
   "cell_type": "code",
   "execution_count": 1,
   "id": "97d3ef33",
   "metadata": {
    "execution": {
     "iopub.execute_input": "2021-04-30T09:58:37.064993Z",
     "iopub.status.busy": "2021-04-30T09:58:37.064754Z",
     "iopub.status.idle": "2021-04-30T09:58:39.959924Z",
     "shell.execute_reply": "2021-04-30T09:58:39.959260Z",
     "shell.execute_reply.started": "2021-04-30T09:58:37.064924Z"
    },
    "tags": []
   },
   "outputs": [
    {
     "name": "stdout",
     "output_type": "stream",
     "text": [
      "2.4.1\n"
     ]
    }
   ],
   "source": [
    "import tensorflow as tf\n",
    "import numpy as np\n",
    "\n",
    "from sklearn.model_selection import train_test_split\n",
    "\n",
    "import matplotlib.ticker as ticker\n",
    "import matplotlib.pyplot as plt\n",
    "\n",
    "from konlpy.tag import Mecab\n",
    "\n",
    "import time\n",
    "import re\n",
    "import os\n",
    "import io\n",
    "\n",
    "from tqdm import tqdm    # tqdm\n",
    "import random\n",
    "\n",
    "print(tf.__version__)"
   ]
  },
  {
   "cell_type": "code",
   "execution_count": 2,
   "id": "e4bd47d7",
   "metadata": {
    "execution": {
     "iopub.execute_input": "2021-04-30T09:58:39.961053Z",
     "iopub.status.busy": "2021-04-30T09:58:39.960857Z",
     "iopub.status.idle": "2021-04-30T09:58:40.929101Z",
     "shell.execute_reply": "2021-04-30T09:58:40.928479Z",
     "shell.execute_reply.started": "2021-04-30T09:58:39.961029Z"
    }
   },
   "outputs": [
    {
     "name": "stdout",
     "output_type": "stream",
     "text": [
      "1 Physical GPUs, 1 Logical GPUs\n",
      "\n",
      "\n"
     ]
    }
   ],
   "source": [
    "import tensorflow as tf\n",
    "def init_gpu():\n",
    "    gpus = tf.config.experimental.list_physical_devices('GPU')\n",
    "    if gpus:\n",
    "        try:\n",
    "            # Currently, memory growth needs to be the same across GPUs\n",
    "            for gpu in gpus:\n",
    "                tf.config.experimental.set_memory_growth(gpu, True)\n",
    "            logical_gpus = tf.config.experimental.list_logical_devices('GPU')\n",
    "            print(len(gpus), \"Physical GPUs,\", len(logical_gpus), \"Logical GPUs\\n\\n\")\n",
    "        except RuntimeError as e:\n",
    "            # Memory growth must be set before GPUs have been initialized\n",
    "            print(e, \"\\n\\n\")\n",
    "        \n",
    "init_gpu()"
   ]
  },
  {
   "cell_type": "code",
   "execution_count": 3,
   "id": "8e1c3dab",
   "metadata": {
    "execution": {
     "iopub.execute_input": "2021-04-30T09:58:40.930339Z",
     "iopub.status.busy": "2021-04-30T09:58:40.930171Z",
     "iopub.status.idle": "2021-04-30T09:58:40.935913Z",
     "shell.execute_reply": "2021-04-30T09:58:40.935217Z",
     "shell.execute_reply.started": "2021-04-30T09:58:40.930317Z"
    },
    "tags": []
   },
   "outputs": [
    {
     "data": {
      "text/plain": [
       "'/home/aiffel-dj1/workspace/aiffel-gd-nlp/GD08_seq2seq_translation'"
      ]
     },
     "execution_count": 3,
     "metadata": {},
     "output_type": "execute_result"
    }
   ],
   "source": [
    "workspace_path = os.getenv('HOME') + '/workspace/aiffel-gd-nlp/GD08_seq2seq_translation'\n",
    "workspace_path"
   ]
  },
  {
   "cell_type": "code",
   "execution_count": 4,
   "id": "0be8623e",
   "metadata": {
    "execution": {
     "iopub.execute_input": "2021-04-30T09:58:40.937073Z",
     "iopub.status.busy": "2021-04-30T09:58:40.936894Z",
     "iopub.status.idle": "2021-04-30T09:58:41.072636Z",
     "shell.execute_reply": "2021-04-30T09:58:41.072013Z",
     "shell.execute_reply.started": "2021-04-30T09:58:40.937047Z"
    }
   },
   "outputs": [
    {
     "name": "stdout",
     "output_type": "stream",
     "text": [
      "/home/aiffel-dj1/workspace/aiffel-gd-nlp/GD08_seq2seq_translation\n"
     ]
    }
   ],
   "source": [
    "!pwd"
   ]
  },
  {
   "cell_type": "markdown",
   "id": "0c781dc7",
   "metadata": {},
   "source": [
    "## Step 1. 데이터 다운로드\n",
    "---"
   ]
  },
  {
   "cell_type": "markdown",
   "id": "467d6289",
   "metadata": {},
   "source": [
    "아래 링크에서 `korean-english-park.train.tar.gz` 를 다운로드받아 한영 병렬 데이터를 확보합니다.\n",
    "\n",
    "- [jungyeul/korean-parallel-corpora](https://github.com/jungyeul/korean-parallel-corpora/tree/master/korean-english-news-v1)"
   ]
  },
  {
   "cell_type": "code",
   "execution_count": 5,
   "id": "24d21ab7",
   "metadata": {
    "execution": {
     "iopub.execute_input": "2021-04-30T09:58:41.074092Z",
     "iopub.status.busy": "2021-04-30T09:58:41.073815Z",
     "iopub.status.idle": "2021-04-30T09:58:41.077274Z",
     "shell.execute_reply": "2021-04-30T09:58:41.076502Z",
     "shell.execute_reply.started": "2021-04-30T09:58:41.074057Z"
    },
    "tags": []
   },
   "outputs": [],
   "source": [
    "# !tar -xvf {workspace_path}/data/korean-english-park.dev.tar -C {workspace_path}/data\n",
    "# !tar -xvf {workspace_path}/data/korean-english-park.test.tar -C {workspace_path}/data\n",
    "# !tar -xvf {workspace_path}/data/korean-english-park.train.tar -C {workspace_path}/data"
   ]
  },
  {
   "cell_type": "code",
   "execution_count": 6,
   "id": "4bab5b7e",
   "metadata": {
    "execution": {
     "iopub.execute_input": "2021-04-30T09:58:41.078724Z",
     "iopub.status.busy": "2021-04-30T09:58:41.078441Z",
     "iopub.status.idle": "2021-04-30T09:58:41.082243Z",
     "shell.execute_reply": "2021-04-30T09:58:41.081410Z",
     "shell.execute_reply.started": "2021-04-30T09:58:41.078687Z"
    },
    "tags": []
   },
   "outputs": [],
   "source": [
    "# !ls ./data"
   ]
  },
  {
   "cell_type": "markdown",
   "id": "88fcbd38",
   "metadata": {},
   "source": [
    "## Step 2. 데이터 정제\n",
    "---"
   ]
  },
  {
   "cell_type": "markdown",
   "id": "41dbe116",
   "metadata": {
    "tags": []
   },
   "source": [
    "### 1. 데이터 불러오기"
   ]
  },
  {
   "cell_type": "code",
   "execution_count": 7,
   "id": "db841c9a",
   "metadata": {
    "execution": {
     "iopub.execute_input": "2021-04-30T09:58:41.083308Z",
     "iopub.status.busy": "2021-04-30T09:58:41.083123Z",
     "iopub.status.idle": "2021-04-30T09:58:41.087420Z",
     "shell.execute_reply": "2021-04-30T09:58:41.086660Z",
     "shell.execute_reply.started": "2021-04-30T09:58:41.083285Z"
    },
    "tags": []
   },
   "outputs": [],
   "source": [
    "def load_file(path):\n",
    "    with open(path, \"r\") as f:\n",
    "        raw = f.read().splitlines()\n",
    "    \n",
    "    print(\"Data Size:\", len(raw))\n",
    "    print(\"Example:\")\n",
    "\n",
    "    for sen in raw[0:100][::20]:\n",
    "        print(\">>\", sen)\n",
    "    \n",
    "    print()\n",
    "    return raw"
   ]
  },
  {
   "cell_type": "code",
   "execution_count": 8,
   "id": "a07db888",
   "metadata": {
    "execution": {
     "iopub.execute_input": "2021-04-30T09:58:41.090246Z",
     "iopub.status.busy": "2021-04-30T09:58:41.090051Z",
     "iopub.status.idle": "2021-04-30T09:58:41.220904Z",
     "shell.execute_reply": "2021-04-30T09:58:41.220275Z",
     "shell.execute_reply.started": "2021-04-30T09:58:41.090222Z"
    },
    "tags": []
   },
   "outputs": [
    {
     "name": "stdout",
     "output_type": "stream",
     "text": [
      "Data Size: 94123\n",
      "Example:\n",
      ">> 개인용 컴퓨터 사용의 상당 부분은 \"이것보다 뛰어날 수 있느냐?\"\n",
      ">> 북한의 핵무기 계획을 포기하도록 하려는 압력이 거세지고 있는 가운데, 일본과 북한의 외교관들이 외교 관계를 정상화하려는 회담을 재개했다.\n",
      ">> \"경호 로보트가 침입자나 화재를 탐지하기 위해서 개인적으로, 그리고 전문적으로 사용되고 있습니다.\"\n",
      ">> 수자원부 당국은 논란이 되고 있고, 막대한 비용이 드는 이 사업에 대해 내년에 건설을 시작할 계획이다.\n",
      ">> 또한 근력 운동은 활발하게 걷는 것이나 최소한 20분 동안 뛰는 것과 같은 유산소 활동에서 얻는 운동 효과를 심장과 폐에 주지 않기 때문에, 연구학자들은 근력 운동이 심장에 큰 영향을 미치는지 여부에 대해 논쟁을 해왔다.\n",
      "\n",
      "Data Size: 1000\n",
      "Example:\n",
      ">> 세계 에서 가장 강력한 수퍼컴퓨터를 1년 동안이나 독점해 오던 정부의 연구학자들이 이 1억1천만 달러 짜리 경이로운 설비를 공개하며, 이것이 핵전쟁으로부터 세계를 구하는데 도움이 될지도 모른다고 말했다.\n",
      ">> 무기 사찰관들의 복귀에 대하여 이라크 측의 한 관리가 \"유익하고 효과적인\" 논의였다고 말한 회합에서 유엔 무기 사찰단장이 이라크 대표단을 만났다.\n",
      ">> 하드웨어를 구입하는 비용의 문제가 커다란 장애입니다.\n",
      ">> 토의에 참가한 대부분의 사람들은 정부가 통신 내용을 도청할 수 있는 권리를 보유해야 할 필요성이 있는 합법적인 부분도 있다는 데에 동의를 한다.\n",
      ">> 그는 눈에 띄지 않게 행동하는 것으로 알려져있다. 그는 영국 시사잡지 타임즈에서 “파티에 잘 참석하지 않는다”며 자신의 생활에 대한 날조된 이야기를 즐기고 있다.\n",
      "\n",
      "Data Size: 2000\n",
      "Example:\n",
      ">> 토론에 참여한 사람들은 법 집행과 국가 안전보장에 대한 우려를 표명해야 할 필요성을 진지하게 받아 들이고 있습니다.\n",
      ">> 비록 그 위협(의 가능성)은 적지만, 그 잠재적인 영향력은 가히 파괴적인 것이다.\n",
      ">> 한국은 세계 에서 네번째로 원유를 많이 수입하는 나라이며, 전적으로 원유 수입에 의존하고 있다.\n",
      ">> 불과 1,379년 전이다.\n",
      ">> 대신, 그들은 \"안정\"이라는 면에서 서방 세계와 똑같은 이해 관계를 갖고 있는 각 지역의 소수 엘리트를 대표하고 있다.\n",
      "\n",
      "97123\n"
     ]
    }
   ],
   "source": [
    "ko_train = load_file(f'{workspace_path}/data/korean-english-park.train.ko')\n",
    "ko_train += load_file(f'{workspace_path}/data/korean-english-park.dev.ko')\n",
    "ko_train += load_file(f'{workspace_path}/data/korean-english-park.test.ko')\n",
    "print(len(ko_train))"
   ]
  },
  {
   "cell_type": "code",
   "execution_count": 9,
   "id": "80493b3f",
   "metadata": {
    "execution": {
     "iopub.execute_input": "2021-04-30T09:58:41.222866Z",
     "iopub.status.busy": "2021-04-30T09:58:41.222521Z",
     "iopub.status.idle": "2021-04-30T09:58:41.283571Z",
     "shell.execute_reply": "2021-04-30T09:58:41.282937Z",
     "shell.execute_reply.started": "2021-04-30T09:58:41.222835Z"
    }
   },
   "outputs": [
    {
     "name": "stdout",
     "output_type": "stream",
     "text": [
      "Data Size: 94123\n",
      "Example:\n",
      ">> Much of personal computing is about \"can you top this?\"\n",
      ">> Amid mounting pressure on North Korea to abandon its nuclear weapons program Japanese and North Korean diplomats have resumed talks on normalizing diplomatic relations.\n",
      ">> “Guard robots are used privately and professionally to detect intruders or fire,” Karlsson said.\n",
      ">> Authorities from the Water Resources Ministry plan to begin construction next year on the controversial and hugely expensive project.\n",
      ">> Researchers also have debated whether weight-training has a big impact on the heart, since it does not give the heart and lungs the kind of workout they get from aerobic activities such as brisk walking or running for at least 20 minutes.\n",
      "\n",
      "Data Size: 1000\n",
      "Example:\n",
      ">> After keeping the world's most powerful supercomputer to themselves for a year, government researchers showed off the $110 million wonder and said it might help save the world from nuclear war.\n",
      ">> The head of the U.N. weapons inspection team met with an Iraqi delegation in what a Baghdad official called \"useful and fruitful\" discussions on the return of weapons inspectors.\n",
      ">> \"The issue of it just being a hardware expense is a serious impediment.\n",
      ">> Most of the people involved in the discussion agree that there is a legitimate area in which the government needs to retain the right to intercept communications.\n",
      ">> He's been known to keep a low profile \"You will never see me at a party,\" he told the Times of London and delights in concocting stories about his life.\n",
      "\n",
      "Data Size: 2000\n",
      "Example:\n",
      ">> Those involved in the discussions do take seriously the need to address concerns of law enforcement and national security.\n",
      ">> Even though the threat is small, the potential effects are devastating.\n",
      ">> South Korea is the world's fourth largest oil importer and wholly depends on imports of crude.\n",
      ">> That is only 1,379 years ago.\n",
      ">> Instead, they represent a small elite in each place that has a common interest with the West in “stability.”\n",
      "\n",
      "97123\n"
     ]
    }
   ],
   "source": [
    "en_train = load_file(f'{workspace_path}/data/korean-english-park.train.en')\n",
    "en_train += load_file(f'{workspace_path}/data/korean-english-park.dev.en')\n",
    "en_train += load_file(f'{workspace_path}/data/korean-english-park.test.en')\n",
    "print(len(en_train))"
   ]
  },
  {
   "cell_type": "markdown",
   "id": "cedf5c43",
   "metadata": {
    "tags": []
   },
   "source": [
    "### 2. 중복 제거"
   ]
  },
  {
   "cell_type": "markdown",
   "id": "1c4d5ec3",
   "metadata": {
    "execution": {
     "iopub.execute_input": "2021-04-29T10:35:38.070817Z",
     "iopub.status.busy": "2021-04-29T10:35:38.070457Z",
     "iopub.status.idle": "2021-04-29T10:35:38.074232Z",
     "shell.execute_reply": "2021-04-29T10:35:38.073316Z",
     "shell.execute_reply.started": "2021-04-29T10:35:38.070781Z"
    },
    "tags": []
   },
   "source": [
    "#### A. 함수 정의"
   ]
  },
  {
   "cell_type": "code",
   "execution_count": 10,
   "id": "c95311e6",
   "metadata": {
    "execution": {
     "iopub.execute_input": "2021-04-30T09:58:41.284774Z",
     "iopub.status.busy": "2021-04-30T09:58:41.284547Z",
     "iopub.status.idle": "2021-04-30T09:58:41.289920Z",
     "shell.execute_reply": "2021-04-30T09:58:41.289176Z",
     "shell.execute_reply.started": "2021-04-30T09:58:41.284743Z"
    },
    "tags": []
   },
   "outputs": [],
   "source": [
    "def get_duplicated_index(raw):\n",
    "    \"\"\"\n",
    "    주어진 문장 셋에서 중복된 문장의 인덱스를 반환합니다.\n",
    "    같은 문장이 2회 이상 반복되었을 때, 두번째 이후의 인덱스를 모아 반환합니다.\n",
    "    \n",
    "    Args:\n",
    "        raw (list): 문장 데이터를 담고 있는 리스트\n",
    "    \n",
    "    Returns:\n",
    "        list: raw에서 중복된 데이터의 인덱스를 모은 리스트\n",
    "    \"\"\"\n",
    "    clear_set = set()\n",
    "    removed_index = []\n",
    "    cnt_old = 0\n",
    "    \n",
    "    for i, sen in enumerate(raw):\n",
    "        clear_set.add(sen)\n",
    "        cnt_new = len(clear_set)\n",
    "        \n",
    "        if cnt_new == cnt_old:\n",
    "            removed_index.append(i)\n",
    "        cnt_old = cnt_new\n",
    "    \n",
    "    return removed_index"
   ]
  },
  {
   "cell_type": "code",
   "execution_count": 11,
   "id": "066c5698",
   "metadata": {
    "execution": {
     "iopub.execute_input": "2021-04-30T09:58:41.291107Z",
     "iopub.status.busy": "2021-04-30T09:58:41.290884Z",
     "iopub.status.idle": "2021-04-30T09:58:41.294518Z",
     "shell.execute_reply": "2021-04-30T09:58:41.293970Z",
     "shell.execute_reply.started": "2021-04-30T09:58:41.291078Z"
    },
    "tags": []
   },
   "outputs": [],
   "source": [
    "def remove_by_indexs(raw, indexs):\n",
    "    \"\"\"\n",
    "    주어진 문장 셋에서 특정 index에 위치한 데이터들을 제거한 문장 셋을 반환한다.\n",
    "    \n",
    "    Args:\n",
    "        raw (list): 문장 데이터를 담고 있는 리스트\n",
    "        indexs (list): raw에서 제거할 원소들의 인덱스를 담고 있는 리스트\n",
    "        \n",
    "    Returns:\n",
    "        list: raw에서 indexs에 위치한 원소들을 제거한 데이터 리스트\n",
    "    \"\"\"\n",
    "    return [ sen for i, sen in enumerate(raw) if i not in indexs ]"
   ]
  },
  {
   "cell_type": "markdown",
   "id": "9c5aaac0",
   "metadata": {},
   "source": [
    "#### B. 데이터 중복 제거\n",
    "- ko 데이터 중복 제거"
   ]
  },
  {
   "cell_type": "code",
   "execution_count": 12,
   "id": "95f440da",
   "metadata": {
    "execution": {
     "iopub.execute_input": "2021-04-30T09:58:41.295675Z",
     "iopub.status.busy": "2021-04-30T09:58:41.295465Z",
     "iopub.status.idle": "2021-04-30T09:59:01.428755Z",
     "shell.execute_reply": "2021-04-30T09:59:01.428248Z",
     "shell.execute_reply.started": "2021-04-30T09:58:41.295647Z"
    },
    "tags": []
   },
   "outputs": [
    {
     "data": {
      "text/plain": [
       "(80558, 80558)"
      ]
     },
     "execution_count": 12,
     "metadata": {},
     "output_type": "execute_result"
    }
   ],
   "source": [
    "removed_index = get_duplicated_index(ko_train)\n",
    "cleaned_ko_train = remove_by_indexs(ko_train, removed_index)\n",
    "cleaned_en_train = remove_by_indexs(en_train, removed_index)\n",
    "len(cleaned_ko_train), len(cleaned_en_train)"
   ]
  },
  {
   "cell_type": "code",
   "execution_count": 13,
   "id": "c2ed7d24",
   "metadata": {
    "execution": {
     "iopub.execute_input": "2021-04-30T09:59:01.429475Z",
     "iopub.status.busy": "2021-04-30T09:59:01.429335Z",
     "iopub.status.idle": "2021-04-30T09:59:01.433828Z",
     "shell.execute_reply": "2021-04-30T09:59:01.433221Z",
     "shell.execute_reply.started": "2021-04-30T09:59:01.429456Z"
    },
    "tags": []
   },
   "outputs": [
    {
     "name": "stdout",
     "output_type": "stream",
     "text": [
      "ko : \"자동화 기술은 우체국에서, 그리고 업무가 끝난 후 사무실 경비에, 그리고 의심스러운 차량을 수색하는 데 사용될 수 있습니다.\"\n",
      "en : “It could be used in post offices, in surveillance of offices after hours and to inspect suspicious cars.”\n",
      "\n",
      "ko : 그와 동시 에 노동 비용은 더욱 상승하고 있습니다.\" 라고 말했다.\n",
      "en : At the same time, labor costs are more and more.”\n",
      "\n",
      "ko : \"산업용 로보트 분야에서 2000년은 최상의 해였습니다.\" 라고 이 스웨덴인은 덧붙혀 말했다.\n",
      "en : “For industrial robots, 2000 was the best year ever,” added the Swede.\n",
      "\n"
     ]
    }
   ],
   "source": [
    "start = removed_index[0]-1\n",
    "end = removed_index[0]+2\n",
    "for ko, en in zip(cleaned_ko_train[start:end], cleaned_en_train[start:end]):\n",
    "    print(f'ko : {ko}')\n",
    "    print(f'en : {en}')\n",
    "    print()"
   ]
  },
  {
   "cell_type": "markdown",
   "id": "6be65b78",
   "metadata": {},
   "source": [
    "- en 데이터 중복 제거"
   ]
  },
  {
   "cell_type": "code",
   "execution_count": 14,
   "id": "e7d47636",
   "metadata": {
    "execution": {
     "iopub.execute_input": "2021-04-30T09:59:01.434677Z",
     "iopub.status.busy": "2021-04-30T09:59:01.434524Z",
     "iopub.status.idle": "2021-04-30T09:59:04.774364Z",
     "shell.execute_reply": "2021-04-30T09:59:04.773751Z",
     "shell.execute_reply.started": "2021-04-30T09:59:01.434657Z"
    },
    "tags": []
   },
   "outputs": [
    {
     "data": {
      "text/plain": [
       "(77747, 77747)"
      ]
     },
     "execution_count": 14,
     "metadata": {},
     "output_type": "execute_result"
    }
   ],
   "source": [
    "removed_index = get_duplicated_index(cleaned_en_train)\n",
    "cleaned_en_train = remove_by_indexs(cleaned_en_train, removed_index)\n",
    "cleaned_ko_train = remove_by_indexs(cleaned_ko_train, removed_index)\n",
    "len(cleaned_ko_train), len(cleaned_en_train)"
   ]
  },
  {
   "cell_type": "code",
   "execution_count": 15,
   "id": "2c00b54b",
   "metadata": {
    "execution": {
     "iopub.execute_input": "2021-04-30T09:59:04.775287Z",
     "iopub.status.busy": "2021-04-30T09:59:04.775112Z",
     "iopub.status.idle": "2021-04-30T09:59:04.779245Z",
     "shell.execute_reply": "2021-04-30T09:59:04.778804Z",
     "shell.execute_reply.started": "2021-04-30T09:59:04.775265Z"
    },
    "tags": []
   },
   "outputs": [
    {
     "name": "stdout",
     "output_type": "stream",
     "text": [
      "ko : 중국 쓰촨성 지역을 포함, 중남부 지역에 폭우가 쏟아져 55명이 숨지고 100만명의 이재민이 발생했다고 중국 관영통신이 15일(현지시가) 보도했다.\n",
      "en : BEIJING, China (CNN) &#8212; Flooding has killed 55 people and forced more than a million to flee their homes across a stretch of southwestern China, including the earthquake-ravaged Sichuan province, state media reported Sunday.\n",
      "\n",
      "ko : 신화통신은 14일 오후까지 중국 당국의 공식 집계에따르면 이번 지진으로 6면9170명이 사망하고 37만4159명의 이재민과 1만428명의 실종자가 발생했다고 보도했다.\n",
      "en : By Saturday afternoon, the official death toll from the quake had risen to 69,170, Xinhua said. Another 374,159 people were injured and 17,428 are still missing.\n",
      "\n",
      "ko : 미국 민주당의 대선후보인 버락 오바마 상원의원이 흑인 아버지들에게 가정을 돌볼 것을 촉구했다.\n",
      "en : CHICAGO, Illinois (CNN) Barack Obama celebrated Father's Day by calling on black fathers, who he said are \"missing from too many lives and too many homes,\" to become active in raising their children.\n",
      "\n"
     ]
    }
   ],
   "source": [
    "start = removed_index[0]-1\n",
    "end = removed_index[0]+2\n",
    "for ko, en in zip(cleaned_ko_train[start:end], cleaned_en_train[start:end]):\n",
    "    print(f'ko : {ko}')\n",
    "    print(f'en : {en}')\n",
    "    print()"
   ]
  },
  {
   "cell_type": "markdown",
   "id": "c337c43a",
   "metadata": {
    "tags": []
   },
   "source": [
    "### 3. 정제하기"
   ]
  },
  {
   "cell_type": "markdown",
   "id": "fe1014b5",
   "metadata": {
    "tags": []
   },
   "source": [
    "#### A. 함수 정의\n",
    "- 정규식을 이용하여 데이터를 정제한다.\n",
    "    - 사용할 특수문자(`?`, `.`, `!`, `,`)의 전후로 공란을 추가한다.\n",
    "    - 연달아 등장하는 공란(\"  \")을 하나의 공란으로 변경한다.\n",
    "    - 한글/영어/특수문자(`?`, `.`, `!`, `,`)를 제외한 문자를 제거한다."
   ]
  },
  {
   "cell_type": "code",
   "execution_count": 16,
   "id": "21224053",
   "metadata": {
    "execution": {
     "iopub.execute_input": "2021-04-30T09:59:04.780073Z",
     "iopub.status.busy": "2021-04-30T09:59:04.779914Z",
     "iopub.status.idle": "2021-04-30T09:59:04.791254Z",
     "shell.execute_reply": "2021-04-30T09:59:04.790604Z",
     "shell.execute_reply.started": "2021-04-30T09:59:04.780052Z"
    },
    "tags": []
   },
   "outputs": [],
   "source": [
    "def preprocess_sentence(sentence, s_token=False, e_token=False):\n",
    "    \"\"\"\n",
    "    아래의 조건에 따라 데이터를 정제한다.\n",
    "    1. 사용할 특수문자(`?`, `.`, `!`, `,`)의 전후로 공란을 추가한다.\n",
    "    2. 연달아 등장하는 공란(\"  \")을 하나의 공란으로 변경한다.\n",
    "    3. 한글/영어/특수문자(`?`, `.`, `!`, `,`)를 제외한 문자를 제거한다.\n",
    "    4. 입력받은 파라미터 `s_token`이 False가 아니라면 문자의 시작에 <start> 토큰을 삽입한다.\n",
    "    5. 입력받은 파라미터 `e_token`이 False가 아니라면 문자의 끝에 <end> 토큰을 삽입한다.\n",
    "    \n",
    "    Args:\n",
    "        sentence (str): 정제할 문장\n",
    "        s_token (bool): default=False, True라면 정제된 문장의 시작 지점에 <start> 토큰을 삽입힌다.\n",
    "        e_token (bool): default=False, True라면 정제된 문장의 끝 지점에 <end> 토큰을 삽입힌다.\n",
    "\n",
    "    Returns:\n",
    "        str : 정제된 문장\n",
    "    \"\"\"\n",
    "    sentence = sentence.lower().strip()\n",
    "\n",
    "    sentence = re.sub(r\"([?.!,])\", r\" \\1 \", sentence)\n",
    "    sentence = re.sub(r'[\" \"]+', \" \", sentence)\n",
    "    sentence = re.sub(r\"[^a-zA-Zㄱ-ㅣ가-힣?.!,]+\", \" \", sentence)\n",
    "\n",
    "    sentence = sentence.strip()\n",
    "\n",
    "    if s_token:\n",
    "        sentence = '<start> ' + sentence\n",
    "\n",
    "    if e_token:\n",
    "        sentence += ' <end>'\n",
    "    \n",
    "    return sentence"
   ]
  },
  {
   "cell_type": "markdown",
   "id": "f282c045",
   "metadata": {},
   "source": [
    "#### B. Train 데이터 정제"
   ]
  },
  {
   "cell_type": "code",
   "execution_count": 17,
   "id": "3ed0e453",
   "metadata": {
    "execution": {
     "iopub.execute_input": "2021-04-30T09:59:04.792256Z",
     "iopub.status.busy": "2021-04-30T09:59:04.792085Z",
     "iopub.status.idle": "2021-04-30T09:59:07.758569Z",
     "shell.execute_reply": "2021-04-30T09:59:07.757988Z",
     "shell.execute_reply.started": "2021-04-30T09:59:04.792233Z"
    },
    "tags": []
   },
   "outputs": [],
   "source": [
    "preprocessed_ko_train = [preprocess_sentence(sen) for sen in cleaned_ko_train]\n",
    "preprocessed_en_train = [preprocess_sentence(sen, s_token=True, e_token=True) \n",
    "                         for sen in cleaned_en_train]"
   ]
  },
  {
   "cell_type": "code",
   "execution_count": 18,
   "id": "556dee0e",
   "metadata": {
    "execution": {
     "iopub.execute_input": "2021-04-30T09:59:07.759467Z",
     "iopub.status.busy": "2021-04-30T09:59:07.759310Z",
     "iopub.status.idle": "2021-04-30T09:59:07.774698Z",
     "shell.execute_reply": "2021-04-30T09:59:07.774230Z",
     "shell.execute_reply.started": "2021-04-30T09:59:07.759447Z"
    },
    "tags": []
   },
   "outputs": [
    {
     "name": "stdout",
     "output_type": "stream",
     "text": [
      "before preprocess : 개인용 컴퓨터 사용의 상당 부분은 \"이것보다 뛰어날 수 있느냐?\"\n",
      "after preprocess : 개인용 컴퓨터 사용의 상당 부분은 이것보다 뛰어날 수 있느냐 ?\n"
     ]
    }
   ],
   "source": [
    "print(f'before preprocess : {cleaned_ko_train[0]}')\n",
    "print(f'after preprocess : {preprocessed_ko_train[0]}')"
   ]
  },
  {
   "cell_type": "code",
   "execution_count": 19,
   "id": "3bf0f467",
   "metadata": {
    "execution": {
     "iopub.execute_input": "2021-04-30T09:59:07.775731Z",
     "iopub.status.busy": "2021-04-30T09:59:07.775552Z",
     "iopub.status.idle": "2021-04-30T09:59:07.778673Z",
     "shell.execute_reply": "2021-04-30T09:59:07.778176Z",
     "shell.execute_reply.started": "2021-04-30T09:59:07.775708Z"
    },
    "tags": []
   },
   "outputs": [
    {
     "name": "stdout",
     "output_type": "stream",
     "text": [
      "before preprocess : Much of personal computing is about \"can you top this?\"\n",
      "after preprocess : <start> much of personal computing is about can you top this ? <end>\n"
     ]
    }
   ],
   "source": [
    "print(f'before preprocess : {cleaned_en_train[0]}')\n",
    "print(f'after preprocess : {preprocessed_en_train[0]}')"
   ]
  },
  {
   "cell_type": "markdown",
   "id": "472ed9bb",
   "metadata": {},
   "source": [
    "### 4. 토큰화"
   ]
  },
  {
   "cell_type": "markdown",
   "id": "60d73d4d",
   "metadata": {
    "execution": {
     "iopub.execute_input": "2021-04-29T15:04:51.749494Z",
     "iopub.status.busy": "2021-04-29T15:04:51.749219Z",
     "iopub.status.idle": "2021-04-29T15:04:51.751994Z",
     "shell.execute_reply": "2021-04-29T15:04:51.751493Z",
     "shell.execute_reply.started": "2021-04-29T15:04:51.749461Z"
    }
   },
   "source": [
    "#### A. 함수 정의"
   ]
  },
  {
   "cell_type": "code",
   "execution_count": 20,
   "id": "0f72c097",
   "metadata": {
    "execution": {
     "iopub.execute_input": "2021-04-30T09:59:07.779502Z",
     "iopub.status.busy": "2021-04-30T09:59:07.779336Z",
     "iopub.status.idle": "2021-04-30T09:59:07.785663Z",
     "shell.execute_reply": "2021-04-30T09:59:07.785186Z",
     "shell.execute_reply.started": "2021-04-30T09:59:07.779473Z"
    },
    "tags": []
   },
   "outputs": [],
   "source": [
    "def tokenize(kor_corpus, eng_corpus, vocab_size=10000, max_len=40):\n",
    "    # english tokenizer\n",
    "    eng_tokenizer = tf.keras.preprocessing.text.Tokenizer(filters='',\n",
    "                                                          num_words=vocab_size,\n",
    "                                                          oov_token='<unk>')\n",
    "    eng_tokenizer.fit_on_texts(eng_corpus)\n",
    "    eng_tokenizer.index_word.update({ 0 : '<pad>'})\n",
    "    \n",
    "    # korean tokenizer\n",
    "    mecab = Mecab()\n",
    "    morpheme = [ \" \".join(mecab.morphs(sen)) for sen in kor_corpus ]\n",
    "    kor_tokenizer = tf.keras.preprocessing.text.Tokenizer(filters=\"\", \n",
    "                                                          num_words=vocab_size,\n",
    "                                                          oov_token='<unk>')\n",
    "    kor_tokenizer.fit_on_texts(morpheme)\n",
    "    kor_tokenizer.index_word.update({ 0 : '<pad>'})\n",
    "    \n",
    "    # tokenize\n",
    "    eng_tensor = eng_tokenizer.texts_to_sequences(eng_corpus)\n",
    "    kor_tensor = kor_tokenizer.texts_to_sequences(morpheme)\n",
    "    \n",
    "    kor_tensor_reduced = []\n",
    "    eng_tensor_reduced = []\n",
    "    \n",
    "    for kor_sen, eng_sen in zip(kor_tensor, eng_tensor):\n",
    "        if len(kor_sen) <= max_len and len(eng_sen) <= max_len:\n",
    "            kor_tensor_reduced.append(kor_sen)\n",
    "            eng_tensor_reduced.append(eng_sen)\n",
    "    \n",
    "    # add padding\n",
    "    kor_tensor_reduced = tf.keras.preprocessing.sequence.pad_sequences(kor_tensor_reduced, padding='post')\n",
    "    eng_tensor_reduced = tf.keras.preprocessing.sequence.pad_sequences(eng_tensor_reduced, padding='post')\n",
    "\n",
    "    return kor_tensor_reduced, kor_tokenizer, eng_tensor_reduced, eng_tokenizer"
   ]
  },
  {
   "cell_type": "markdown",
   "id": "ea3b9830",
   "metadata": {},
   "source": [
    "#### B. Train 데이터 토큰화"
   ]
  },
  {
   "cell_type": "code",
   "execution_count": 21,
   "id": "86d3f2e9",
   "metadata": {
    "execution": {
     "iopub.execute_input": "2021-04-30T09:59:07.786623Z",
     "iopub.status.busy": "2021-04-30T09:59:07.786403Z",
     "iopub.status.idle": "2021-04-30T09:59:23.835764Z",
     "shell.execute_reply": "2021-04-30T09:59:23.835220Z",
     "shell.execute_reply.started": "2021-04-30T09:59:07.786601Z"
    },
    "tags": []
   },
   "outputs": [
    {
     "data": {
      "text/plain": [
       "((61327, 40), (61327, 40))"
      ]
     },
     "execution_count": 21,
     "metadata": {},
     "output_type": "execute_result"
    }
   ],
   "source": [
    "vocab_size = 50000\n",
    "enc_train, enc_tokenizer, dec_train, dec_tokenizer = tokenize(preprocessed_ko_train,\n",
    "                                                              preprocessed_en_train,\n",
    "                                                              vocab_size=vocab_size)\n",
    "enc_train.shape, dec_train.shape"
   ]
  },
  {
   "cell_type": "code",
   "execution_count": 22,
   "id": "0f9b2618",
   "metadata": {
    "execution": {
     "iopub.execute_input": "2021-04-30T09:59:23.836633Z",
     "iopub.status.busy": "2021-04-30T09:59:23.836477Z",
     "iopub.status.idle": "2021-04-30T09:59:23.842431Z",
     "shell.execute_reply": "2021-04-30T09:59:23.841832Z",
     "shell.execute_reply.started": "2021-04-30T09:59:23.836613Z"
    },
    "tags": []
   },
   "outputs": [
    {
     "name": "stdout",
     "output_type": "stream",
     "text": [
      "encoded : [  658   614   519   158     7  1381   857     9   695   149 31493    41\n",
      "    14  3435   457     0     0     0     0     0     0     0     0     0\n",
      "     0     0     0     0     0     0     0     0     0     0     0     0\n",
      "     0     0     0     0]\n",
      ">>> 658 : 개인\n",
      ">>> 614 : 용\n",
      ">>> 519 : 컴퓨터\n",
      ">>> 158 : 사용\n",
      ">>> 7 : 의\n",
      ">>> 1381 : 상당\n",
      ">>> 857 : 부분\n",
      ">>> 9 : 은\n",
      ">>> 695 : 이것\n",
      ">>> 149 : 보다\n",
      ">>> 31493 : 뛰어날\n",
      ">>> 41 : 수\n",
      ">>> 14 : 있\n",
      ">>> 3435 : 느냐\n",
      ">>> 457 : ?\n"
     ]
    }
   ],
   "source": [
    "print(f'encoded : {enc_train[0]}')\n",
    "for enc in enc_train[0]:\n",
    "    if enc == 0:\n",
    "        break\n",
    "    print(f'>>> {enc} : {enc_tokenizer.index_word[enc]}')"
   ]
  },
  {
   "cell_type": "code",
   "execution_count": 23,
   "id": "8286d3b4",
   "metadata": {
    "execution": {
     "iopub.execute_input": "2021-04-30T09:59:23.844609Z",
     "iopub.status.busy": "2021-04-30T09:59:23.844434Z",
     "iopub.status.idle": "2021-04-30T09:59:23.849590Z",
     "shell.execute_reply": "2021-04-30T09:59:23.849052Z",
     "shell.execute_reply.started": "2021-04-30T09:59:23.844587Z"
    },
    "tags": []
   },
   "outputs": [
    {
     "name": "stdout",
     "output_type": "stream",
     "text": [
      "encoded : [   5  262    8 1175 7728   17   46   94   86  208   41  266    6    0\n",
      "    0    0    0    0    0    0    0    0    0    0    0    0    0    0\n",
      "    0    0    0    0    0    0    0    0    0    0    0    0]\n",
      ">>> 5 : <start>\n",
      ">>> 262 : much\n",
      ">>> 8 : of\n",
      ">>> 1175 : personal\n",
      ">>> 7728 : computing\n",
      ">>> 17 : is\n",
      ">>> 46 : about\n",
      ">>> 94 : can\n",
      ">>> 86 : you\n",
      ">>> 208 : top\n",
      ">>> 41 : this\n",
      ">>> 266 : ?\n",
      ">>> 6 : <end>\n"
     ]
    }
   ],
   "source": [
    "print(f'encoded : {dec_train[0]}')\n",
    "for enc in dec_train[0]:\n",
    "    if enc == 0:\n",
    "        break\n",
    "    print(f'>>> {enc} : {dec_tokenizer.index_word[enc]}')"
   ]
  },
  {
   "cell_type": "markdown",
   "id": "958d496d",
   "metadata": {},
   "source": [
    "## Step 3. 모델 설계\n",
    "---"
   ]
  },
  {
   "cell_type": "markdown",
   "id": "5c9606d0",
   "metadata": {},
   "source": [
    "- 정의"
   ]
  },
  {
   "cell_type": "code",
   "execution_count": 24,
   "id": "e42dfceb",
   "metadata": {
    "execution": {
     "iopub.execute_input": "2021-04-30T09:59:23.850663Z",
     "iopub.status.busy": "2021-04-30T09:59:23.850501Z",
     "iopub.status.idle": "2021-04-30T09:59:23.855339Z",
     "shell.execute_reply": "2021-04-30T09:59:23.854820Z",
     "shell.execute_reply.started": "2021-04-30T09:59:23.850642Z"
    },
    "tags": []
   },
   "outputs": [],
   "source": [
    "class BahdanauAttention(tf.keras.layers.Layer):\n",
    "    def __init__(self, units):\n",
    "        super(BahdanauAttention, self).__init__()\n",
    "        self.w_dec = tf.keras.layers.Dense(units)\n",
    "        self.w_enc = tf.keras.layers.Dense(units)\n",
    "        self.w_com = tf.keras.layers.Dense(1)\n",
    "    \n",
    "    def call(self, h_enc, h_dec):\n",
    "        # h_enc shape: [batch x length x units]\n",
    "        # h_dec shape: [batch x units]\n",
    "\n",
    "        h_enc = self.w_enc(h_enc)\n",
    "        h_dec = tf.expand_dims(h_dec, 1)\n",
    "        h_dec = self.w_dec(h_dec)\n",
    "\n",
    "        score = self.w_com(tf.nn.tanh(h_dec + h_enc))\n",
    "        \n",
    "        attn = tf.nn.softmax(score, axis=1)\n",
    "\n",
    "        context_vec = attn * h_enc\n",
    "        context_vec = tf.reduce_sum(context_vec, axis=1)\n",
    "\n",
    "        return context_vec, attn"
   ]
  },
  {
   "cell_type": "code",
   "execution_count": 25,
   "id": "5c2036bc",
   "metadata": {
    "execution": {
     "iopub.execute_input": "2021-04-30T09:59:23.856392Z",
     "iopub.status.busy": "2021-04-30T09:59:23.856185Z",
     "iopub.status.idle": "2021-04-30T09:59:23.860435Z",
     "shell.execute_reply": "2021-04-30T09:59:23.859916Z",
     "shell.execute_reply.started": "2021-04-30T09:59:23.856360Z"
    },
    "tags": []
   },
   "outputs": [],
   "source": [
    "class Encoder(tf.keras.Model):\n",
    "    def __init__(self, vocab_size, embedding_dim, enc_units):\n",
    "        super(Encoder, self).__init__()\n",
    "\n",
    "        self.enc_units = enc_units\n",
    "        self.embedding = tf.keras.layers.Embedding(vocab_size, embedding_dim)\n",
    "        self.gru = tf.keras.layers.GRU(enc_units,\n",
    "                                       return_sequences=True)\n",
    "\n",
    "    def call(self, x):\n",
    "        out = self.embedding(x)\n",
    "        out = self.gru(out)\n",
    "\n",
    "        return out"
   ]
  },
  {
   "cell_type": "code",
   "execution_count": 26,
   "id": "02ae6177",
   "metadata": {
    "execution": {
     "iopub.execute_input": "2021-04-30T09:59:23.861332Z",
     "iopub.status.busy": "2021-04-30T09:59:23.861178Z",
     "iopub.status.idle": "2021-04-30T09:59:23.866970Z",
     "shell.execute_reply": "2021-04-30T09:59:23.866367Z",
     "shell.execute_reply.started": "2021-04-30T09:59:23.861312Z"
    },
    "tags": []
   },
   "outputs": [],
   "source": [
    "class Decoder(tf.keras.Model):\n",
    "    def __init__(self, vocab_size, embedding_dim, dec_units):\n",
    "        super(Decoder, self).__init__()\n",
    "        self.dec_units = dec_units\n",
    "        self.embedding = tf.keras.layers.Embedding(vocab_size, embedding_dim)\n",
    "        self.gru = tf.keras.layers.GRU(dec_units,\n",
    "                                       return_sequences=True,\n",
    "                                       return_state=True)\n",
    "        self.fc = tf.keras.layers.Dense(vocab_size)\n",
    "\n",
    "        self.attention = BahdanauAttention(self.dec_units)\n",
    "\n",
    "    def call(self, x, h_dec, enc_out):\n",
    "        context_vec, attn = self.attention(enc_out, h_dec)\n",
    "\n",
    "        out = self.embedding(x)\n",
    "        out = tf.concat([tf.expand_dims(context_vec, 1), out], axis=-1)\n",
    "\n",
    "        out, h_dec = self.gru(out)\n",
    "        out = tf.reshape(out, (-1, out.shape[2]))\n",
    "        out = self.fc(out)\n",
    "\n",
    "        return out, h_dec, attn"
   ]
  },
  {
   "cell_type": "code",
   "execution_count": 27,
   "id": "3367b940",
   "metadata": {
    "execution": {
     "iopub.execute_input": "2021-04-30T09:59:23.867929Z",
     "iopub.status.busy": "2021-04-30T09:59:23.867729Z",
     "iopub.status.idle": "2021-04-30T09:59:23.870885Z",
     "shell.execute_reply": "2021-04-30T09:59:23.870338Z",
     "shell.execute_reply.started": "2021-04-30T09:59:23.867901Z"
    }
   },
   "outputs": [],
   "source": [
    "def get_encoder_decoder(BATCH_SIZE, SRC_VOCAB_SIZE, TGT_VOCAB_SIZE, units, embedding_dim):\n",
    "    encoder = Encoder(SRC_VOCAB_SIZE, embedding_dim, units)\n",
    "    decoder = Decoder(TGT_VOCAB_SIZE, embedding_dim, units)\n",
    "    return encoder, decoder"
   ]
  },
  {
   "cell_type": "code",
   "execution_count": 28,
   "id": "09722f27",
   "metadata": {
    "execution": {
     "iopub.execute_input": "2021-04-30T09:59:23.871730Z",
     "iopub.status.busy": "2021-04-30T09:59:23.871574Z",
     "iopub.status.idle": "2021-04-30T09:59:23.875872Z",
     "shell.execute_reply": "2021-04-30T09:59:23.875349Z",
     "shell.execute_reply.started": "2021-04-30T09:59:23.871709Z"
    }
   },
   "outputs": [],
   "source": [
    "def test_encoder_decoder(encoder, decoder, BATCH_SIZE, units, sequence_len=40):\n",
    "    sample_enc = tf.random.uniform((BATCH_SIZE, sequence_len))\n",
    "    sample_output = encoder(sample_enc)\n",
    "\n",
    "    print ('Encoder Output:', sample_output.shape)\n",
    "\n",
    "    sample_state = tf.random.uniform((BATCH_SIZE, units))\n",
    "\n",
    "    sample_logits, h_dec, attn = decoder(tf.random.uniform((BATCH_SIZE, 1)),\n",
    "                                         sample_state, sample_output)\n",
    "\n",
    "    print ('Decoder Output:', sample_logits.shape)\n",
    "    print ('Decoder Hidden State:', h_dec.shape)\n",
    "    print ('Attention:', attn.shape)"
   ]
  },
  {
   "cell_type": "markdown",
   "id": "896490e4",
   "metadata": {},
   "source": [
    "- 테스트"
   ]
  },
  {
   "cell_type": "code",
   "execution_count": 30,
   "id": "b4e25566",
   "metadata": {
    "execution": {
     "iopub.execute_input": "2021-04-30T10:07:49.925062Z",
     "iopub.status.busy": "2021-04-30T10:07:49.924864Z",
     "iopub.status.idle": "2021-04-30T10:07:51.330983Z",
     "shell.execute_reply": "2021-04-30T10:07:51.330521Z",
     "shell.execute_reply.started": "2021-04-30T10:07:49.925040Z"
    },
    "tags": []
   },
   "outputs": [
    {
     "name": "stdout",
     "output_type": "stream",
     "text": [
      "Encoder Output: (128, 40, 128)\n",
      "Decoder Output: (128, 50001)\n",
      "Decoder Hidden State: (128, 128)\n",
      "Attention: (128, 40, 1)\n"
     ]
    }
   ],
   "source": [
    "BATCH_SIZE     = 128\n",
    "SRC_VOCAB_SIZE = vocab_size + 1\n",
    "TGT_VOCAB_SIZE = vocab_size + 1\n",
    "units         = 128\n",
    "embedding_dim = 128\n",
    "\n",
    "encoder, decoder = get_encoder_decoder(BATCH_SIZE, SRC_VOCAB_SIZE, TGT_VOCAB_SIZE, units, embedding_dim)\n",
    "test_encoder_decoder(encoder, decoder, BATCH_SIZE, units, 40)"
   ]
  },
  {
   "cell_type": "code",
   "execution_count": 31,
   "id": "1858ff85",
   "metadata": {
    "execution": {
     "iopub.execute_input": "2021-04-30T10:08:38.828533Z",
     "iopub.status.busy": "2021-04-30T10:08:38.828241Z",
     "iopub.status.idle": "2021-04-30T10:08:38.834496Z",
     "shell.execute_reply": "2021-04-30T10:08:38.833954Z",
     "shell.execute_reply.started": "2021-04-30T10:08:38.828499Z"
    },
    "tags": []
   },
   "outputs": [
    {
     "name": "stdout",
     "output_type": "stream",
     "text": [
      "Model: \"encoder_1\"\n",
      "_________________________________________________________________\n",
      "Layer (type)                 Output Shape              Param #   \n",
      "=================================================================\n",
      "embedding_2 (Embedding)      multiple                  6400128   \n",
      "_________________________________________________________________\n",
      "gru_2 (GRU)                  multiple                  99072     \n",
      "=================================================================\n",
      "Total params: 6,499,200\n",
      "Trainable params: 6,499,200\n",
      "Non-trainable params: 0\n",
      "_________________________________________________________________\n"
     ]
    }
   ],
   "source": [
    "encoder.summary()"
   ]
  },
  {
   "cell_type": "code",
   "execution_count": 32,
   "id": "7beee863",
   "metadata": {
    "execution": {
     "iopub.execute_input": "2021-04-30T10:08:38.990652Z",
     "iopub.status.busy": "2021-04-30T10:08:38.990389Z",
     "iopub.status.idle": "2021-04-30T10:08:38.996536Z",
     "shell.execute_reply": "2021-04-30T10:08:38.995902Z",
     "shell.execute_reply.started": "2021-04-30T10:08:38.990625Z"
    },
    "tags": []
   },
   "outputs": [
    {
     "name": "stdout",
     "output_type": "stream",
     "text": [
      "Model: \"decoder_1\"\n",
      "_________________________________________________________________\n",
      "Layer (type)                 Output Shape              Param #   \n",
      "=================================================================\n",
      "embedding_3 (Embedding)      multiple                  6400128   \n",
      "_________________________________________________________________\n",
      "gru_3 (GRU)                  multiple                  148224    \n",
      "_________________________________________________________________\n",
      "dense_4 (Dense)              multiple                  6450129   \n",
      "_________________________________________________________________\n",
      "bahdanau_attention_1 (Bahdan multiple                  33153     \n",
      "=================================================================\n",
      "Total params: 13,031,634\n",
      "Trainable params: 13,031,634\n",
      "Non-trainable params: 0\n",
      "_________________________________________________________________\n"
     ]
    }
   ],
   "source": [
    "decoder.summary()"
   ]
  },
  {
   "cell_type": "markdown",
   "id": "77251880",
   "metadata": {},
   "source": [
    "## Step 4. 모델 훈련\n",
    "---"
   ]
  },
  {
   "cell_type": "markdown",
   "id": "d8548c9e",
   "metadata": {},
   "source": [
    "### 1. Optimizer & Loss"
   ]
  },
  {
   "cell_type": "code",
   "execution_count": 33,
   "id": "92a071f1",
   "metadata": {
    "execution": {
     "iopub.execute_input": "2021-04-30T10:08:39.910128Z",
     "iopub.status.busy": "2021-04-30T10:08:39.909933Z",
     "iopub.status.idle": "2021-04-30T10:08:39.913961Z",
     "shell.execute_reply": "2021-04-30T10:08:39.913384Z",
     "shell.execute_reply.started": "2021-04-30T10:08:39.910106Z"
    },
    "tags": []
   },
   "outputs": [],
   "source": [
    "optimizer = tf.keras.optimizers.Adam()\n",
    "\n",
    "def loss_function(real, pred):\n",
    "    loss_object = tf.keras.losses.SparseCategoricalCrossentropy(from_logits=True, reduction='none')\n",
    "    mask = tf.math.logical_not(tf.math.equal(real, 0))\n",
    "    loss = loss_object(real, pred)\n",
    "    \n",
    "    mask = tf.cast(mask, dtype=loss.dtype)\n",
    "    loss *= mask\n",
    "    \n",
    "    return tf.reduce_mean(loss)"
   ]
  },
  {
   "cell_type": "markdown",
   "id": "542effd1",
   "metadata": {},
   "source": [
    "### 2. train_step 구현"
   ]
  },
  {
   "cell_type": "code",
   "execution_count": 34,
   "id": "abb1e7d9",
   "metadata": {
    "execution": {
     "iopub.execute_input": "2021-04-30T10:08:40.922798Z",
     "iopub.status.busy": "2021-04-30T10:08:40.922601Z",
     "iopub.status.idle": "2021-04-30T10:08:40.928041Z",
     "shell.execute_reply": "2021-04-30T10:08:40.927521Z",
     "shell.execute_reply.started": "2021-04-30T10:08:40.922776Z"
    },
    "tags": []
   },
   "outputs": [],
   "source": [
    "@tf.function\n",
    "def train_step(src, tgt, encoder, decoder, optimizer, dec_tok):\n",
    "    bsz = src.shape[0]\n",
    "    loss = 0\n",
    "\n",
    "    with tf.GradientTape() as tape:\n",
    "        enc_out = encoder(src)\n",
    "        h_dec = enc_out[:, -1]\n",
    "        \n",
    "        dec_src = tf.expand_dims([dec_tok.word_index['<start>']] * bsz, 1)\n",
    "\n",
    "        for t in range(1, tgt.shape[1]):\n",
    "            pred, h_dec, _ = decoder(dec_src, h_dec, enc_out)\n",
    "\n",
    "            loss += loss_function(tgt[:, t], pred)\n",
    "            dec_src = tf.expand_dims(tgt[:, t], 1)\n",
    "        \n",
    "    batch_loss = (loss / int(tgt.shape[1]))\n",
    "\n",
    "    variables = encoder.trainable_variables + decoder.trainable_variables\n",
    "    gradients = tape.gradient(loss, variables)\n",
    "    optimizer.apply_gradients(zip(gradients, variables))\n",
    "    \n",
    "    return batch_loss"
   ]
  },
  {
   "cell_type": "markdown",
   "id": "52c7a49f",
   "metadata": {},
   "source": [
    "### 3. 훈련"
   ]
  },
  {
   "cell_type": "code",
   "execution_count": 35,
   "id": "21c9224b",
   "metadata": {
    "execution": {
     "iopub.execute_input": "2021-04-30T10:08:41.265587Z",
     "iopub.status.busy": "2021-04-30T10:08:41.265394Z",
     "iopub.status.idle": "2021-04-30T10:08:41.268777Z",
     "shell.execute_reply": "2021-04-30T10:08:41.268191Z",
     "shell.execute_reply.started": "2021-04-30T10:08:41.265564Z"
    },
    "tags": []
   },
   "outputs": [],
   "source": [
    "def show_train_loss(losses):\n",
    "    fig, ax = plt.subplots(1, 1, figsize=(10, 5))\n",
    "    ax.plot(losses)\n",
    "    ax.set_title('Traina loss', fontsize=15)\n",
    "    plt.show()"
   ]
  },
  {
   "cell_type": "code",
   "execution_count": 36,
   "id": "2980930d",
   "metadata": {
    "execution": {
     "iopub.execute_input": "2021-04-30T10:08:41.451577Z",
     "iopub.status.busy": "2021-04-30T10:08:41.451376Z",
     "iopub.status.idle": "2021-04-30T10:08:41.456494Z",
     "shell.execute_reply": "2021-04-30T10:08:41.455994Z",
     "shell.execute_reply.started": "2021-04-30T10:08:41.451554Z"
    },
    "tags": []
   },
   "outputs": [],
   "source": [
    "def train(enc_train, dec_train, encoder, decoder, dec_tokenizer, optimizer, BATCH_SIZE, EPOCHS=10):\n",
    "    losses = []\n",
    "    \n",
    "    for epoch in range(EPOCHS):\n",
    "        total_loss = 0\n",
    "\n",
    "        idx_list = list(range(0, enc_train.shape[0], BATCH_SIZE))\n",
    "        random.shuffle(idx_list)\n",
    "        t = tqdm(idx_list)\n",
    "\n",
    "        for (batch, idx) in enumerate(t):\n",
    "            batch_loss = train_step(enc_train[idx:idx+BATCH_SIZE],\n",
    "                                    dec_train[idx:idx+BATCH_SIZE],\n",
    "                                    encoder,\n",
    "                                    decoder,\n",
    "                                    optimizer,\n",
    "                                    dec_tokenizer)\n",
    "\n",
    "            total_loss += batch_loss\n",
    "\n",
    "            t.set_description_str('Epoch %2d' % (epoch + 1))    # tqdm\n",
    "            t.set_postfix_str('Loss %.4f' % (total_loss.numpy() / (batch + 1)))    # tqdm\n",
    "        \n",
    "        losses.append(total_loss.numpy())\n",
    "    \n",
    "    show_train_loss(losses)\n",
    "    return losses"
   ]
  },
  {
   "cell_type": "code",
   "execution_count": 37,
   "id": "1540b9e1",
   "metadata": {
    "execution": {
     "iopub.execute_input": "2021-04-30T10:08:41.639253Z",
     "iopub.status.busy": "2021-04-30T10:08:41.639019Z",
     "iopub.status.idle": "2021-04-30T11:44:25.898213Z",
     "shell.execute_reply": "2021-04-30T11:44:25.897634Z",
     "shell.execute_reply.started": "2021-04-30T10:08:41.639211Z"
    },
    "tags": []
   },
   "outputs": [
    {
     "name": "stderr",
     "output_type": "stream",
     "text": [
      "  0%|          | 0/480 [00:00<?, ?it/s]"
     ]
    },
    {
     "name": "stdout",
     "output_type": "stream",
     "text": [
      "WARNING:tensorflow:AutoGraph could not transform <function train_step at 0x7fd885892f80> and will run it as-is.\n",
      "Please report this to the TensorFlow team. When filing the bug, set the verbosity to 10 (on Linux, `export AUTOGRAPH_VERBOSITY=10`) and attach the full output.\n",
      "Cause: module 'gast' has no attribute 'Index'\n",
      "To silence this warning, decorate the function with @tf.autograph.experimental.do_not_convert\n",
      "WARNING: AutoGraph could not transform <function train_step at 0x7fd885892f80> and will run it as-is.\n",
      "Please report this to the TensorFlow team. When filing the bug, set the verbosity to 10 (on Linux, `export AUTOGRAPH_VERBOSITY=10`) and attach the full output.\n",
      "Cause: module 'gast' has no attribute 'Index'\n",
      "To silence this warning, decorate the function with @tf.autograph.experimental.do_not_convert\n",
      "WARNING:tensorflow:AutoGraph could not transform <bound method Decoder.call of <__main__.Decoder object at 0x7fd78defe290>> and will run it as-is.\n",
      "Please report this to the TensorFlow team. When filing the bug, set the verbosity to 10 (on Linux, `export AUTOGRAPH_VERBOSITY=10`) and attach the full output.\n",
      "Cause: module 'gast' has no attribute 'Index'\n",
      "To silence this warning, decorate the function with @tf.autograph.experimental.do_not_convert\n",
      "WARNING: AutoGraph could not transform <bound method Decoder.call of <__main__.Decoder object at 0x7fd78defe290>> and will run it as-is.\n",
      "Please report this to the TensorFlow team. When filing the bug, set the verbosity to 10 (on Linux, `export AUTOGRAPH_VERBOSITY=10`) and attach the full output.\n",
      "Cause: module 'gast' has no attribute 'Index'\n",
      "To silence this warning, decorate the function with @tf.autograph.experimental.do_not_convert\n"
     ]
    },
    {
     "name": "stderr",
     "output_type": "stream",
     "text": [
      "Epoch  1: 100%|██████████| 480/480 [02:39<00:00,  3.01it/s, Loss 3.9945]\n",
      "Epoch  2: 100%|██████████| 480/480 [01:44<00:00,  4.59it/s, Loss 3.8789]\n",
      "Epoch  3: 100%|██████████| 480/480 [01:44<00:00,  4.58it/s, Loss 3.8789]\n",
      "Epoch  4: 100%|██████████| 480/480 [01:44<00:00,  4.57it/s, Loss 3.8788]\n",
      "Epoch  5: 100%|██████████| 480/480 [01:42<00:00,  4.68it/s, Loss 3.8791]\n",
      "Epoch  6: 100%|██████████| 480/480 [01:37<00:00,  4.91it/s, Loss 3.8690]\n",
      "Epoch  7: 100%|██████████| 480/480 [01:37<00:00,  4.90it/s, Loss 3.5865]\n",
      "Epoch  8: 100%|██████████| 480/480 [01:37<00:00,  4.93it/s, Loss 3.3547]\n",
      "Epoch  9: 100%|██████████| 480/480 [01:35<00:00,  5.04it/s, Loss 3.1929]\n",
      "Epoch 10: 100%|██████████| 480/480 [01:37<00:00,  4.91it/s, Loss 3.0737]\n",
      "Epoch 11: 100%|██████████| 480/480 [01:37<00:00,  4.90it/s, Loss 2.9734]\n",
      "Epoch 12: 100%|██████████| 480/480 [01:36<00:00,  4.96it/s, Loss 2.8823]\n",
      "Epoch 13: 100%|██████████| 480/480 [01:35<00:00,  5.01it/s, Loss 2.7984]\n",
      "Epoch 14: 100%|██████████| 480/480 [01:35<00:00,  5.01it/s, Loss 2.7193]\n",
      "Epoch 15: 100%|██████████| 480/480 [01:36<00:00,  4.99it/s, Loss 2.6450]\n",
      "Epoch 16: 100%|██████████| 480/480 [01:36<00:00,  5.00it/s, Loss 2.5763]\n",
      "Epoch 17: 100%|██████████| 480/480 [01:36<00:00,  4.99it/s, Loss 2.5133]\n",
      "Epoch 18: 100%|██████████| 480/480 [01:35<00:00,  5.01it/s, Loss 2.4545]\n",
      "Epoch 19: 100%|██████████| 480/480 [01:35<00:00,  5.01it/s, Loss 2.3989]\n",
      "Epoch 20: 100%|██████████| 480/480 [01:35<00:00,  5.01it/s, Loss 2.3452]\n",
      "Epoch 21: 100%|██████████| 480/480 [01:32<00:00,  5.18it/s, Loss 2.2957]\n",
      "Epoch 22: 100%|██████████| 480/480 [01:31<00:00,  5.27it/s, Loss 2.2480]\n",
      "Epoch 23: 100%|██████████| 480/480 [01:32<00:00,  5.21it/s, Loss 2.2034]\n",
      "Epoch 24: 100%|██████████| 480/480 [01:36<00:00,  4.98it/s, Loss 2.1590]\n",
      "Epoch 25: 100%|██████████| 480/480 [01:36<00:00,  4.98it/s, Loss 2.1169]\n",
      "Epoch 26: 100%|██████████| 480/480 [01:36<00:00,  4.98it/s, Loss 2.0766]\n",
      "Epoch 27: 100%|██████████| 480/480 [01:32<00:00,  5.18it/s, Loss 2.0407]\n",
      "Epoch 28: 100%|██████████| 480/480 [01:31<00:00,  5.26it/s, Loss 2.0049]\n",
      "Epoch 29: 100%|██████████| 480/480 [01:31<00:00,  5.25it/s, Loss 1.9699]\n",
      "Epoch 30: 100%|██████████| 480/480 [01:31<00:00,  5.25it/s, Loss 1.9367]\n",
      "Epoch 31: 100%|██████████| 480/480 [01:31<00:00,  5.26it/s, Loss 1.9064]\n",
      "Epoch 32: 100%|██████████| 480/480 [01:31<00:00,  5.25it/s, Loss 1.8803]\n",
      "Epoch 33: 100%|██████████| 480/480 [01:31<00:00,  5.27it/s, Loss 1.8498]\n",
      "Epoch 34: 100%|██████████| 480/480 [01:31<00:00,  5.25it/s, Loss 1.8208]\n",
      "Epoch 35: 100%|██████████| 480/480 [01:31<00:00,  5.26it/s, Loss 1.7960]\n",
      "Epoch 36: 100%|██████████| 480/480 [01:31<00:00,  5.25it/s, Loss 1.7710]\n",
      "Epoch 37: 100%|██████████| 480/480 [01:31<00:00,  5.26it/s, Loss 1.7483]\n",
      "Epoch 38: 100%|██████████| 480/480 [01:31<00:00,  5.25it/s, Loss 1.7256]\n",
      "Epoch 39: 100%|██████████| 480/480 [01:35<00:00,  5.01it/s, Loss 1.7035]\n",
      "Epoch 40: 100%|██████████| 480/480 [01:36<00:00,  4.98it/s, Loss 1.6870]\n",
      "Epoch 41: 100%|██████████| 480/480 [01:36<00:00,  4.98it/s, Loss 1.6636]\n",
      "Epoch 42: 100%|██████████| 480/480 [01:37<00:00,  4.90it/s, Loss 1.6412]\n",
      "Epoch 43: 100%|██████████| 480/480 [01:36<00:00,  4.98it/s, Loss 1.6223]\n",
      "Epoch 44: 100%|██████████| 480/480 [01:36<00:00,  4.97it/s, Loss 1.6051]\n",
      "Epoch 45: 100%|██████████| 480/480 [01:36<00:00,  4.98it/s, Loss 1.5881]\n",
      "Epoch 46: 100%|██████████| 480/480 [01:36<00:00,  4.99it/s, Loss 1.5752]\n",
      "Epoch 47: 100%|██████████| 480/480 [01:36<00:00,  4.99it/s, Loss 1.5559]\n",
      "Epoch 48: 100%|██████████| 480/480 [01:33<00:00,  5.11it/s, Loss 1.5372]\n",
      "Epoch 49: 100%|██████████| 480/480 [01:31<00:00,  5.27it/s, Loss 1.5265]\n",
      "Epoch 50: 100%|██████████| 480/480 [01:31<00:00,  5.27it/s, Loss 1.5089]\n",
      "Epoch 51: 100%|██████████| 480/480 [01:31<00:00,  5.25it/s, Loss 1.4959]\n",
      "Epoch 52: 100%|██████████| 480/480 [01:31<00:00,  5.25it/s, Loss 1.4832]\n",
      "Epoch 53: 100%|██████████| 480/480 [01:31<00:00,  5.25it/s, Loss 1.4660]\n",
      "Epoch 54: 100%|██████████| 480/480 [01:31<00:00,  5.26it/s, Loss 1.4510]\n",
      "Epoch 55: 100%|██████████| 480/480 [01:31<00:00,  5.25it/s, Loss 1.4390]\n",
      "Epoch 56: 100%|██████████| 480/480 [01:31<00:00,  5.25it/s, Loss 1.4262]\n",
      "Epoch 57: 100%|██████████| 480/480 [01:31<00:00,  5.27it/s, Loss 1.4138]\n",
      "Epoch 58: 100%|██████████| 480/480 [01:31<00:00,  5.26it/s, Loss 1.4023]\n",
      "Epoch 59: 100%|██████████| 480/480 [01:31<00:00,  5.26it/s, Loss 1.3906]\n",
      "Epoch 60: 100%|██████████| 480/480 [01:31<00:00,  5.25it/s, Loss 1.3809]\n"
     ]
    },
    {
     "data": {
      "image/png": "[encoded data removed]",
      "text/plain": [
       "<Figure size 720x360 with 1 Axes>"
      ]
     },
     "metadata": {
      "needs_background": "light"
     },
     "output_type": "display_data"
    }
   ],
   "source": [
    "losses = train(enc_train, dec_train, encoder, decoder, dec_tokenizer, optimizer, BATCH_SIZE, EPOCHS=60)"
   ]
  },
  {
   "cell_type": "code",
   "execution_count": 44,
   "id": "686402b3",
   "metadata": {
    "execution": {
     "iopub.execute_input": "2021-04-30T11:51:23.239108Z",
     "iopub.status.busy": "2021-04-30T11:51:23.238449Z",
     "iopub.status.idle": "2021-04-30T12:07:22.288658Z",
     "shell.execute_reply": "2021-04-30T12:07:22.288119Z",
     "shell.execute_reply.started": "2021-04-30T11:51:23.239027Z"
    }
   },
   "outputs": [
    {
     "name": "stderr",
     "output_type": "stream",
     "text": [
      "Epoch  1: 100%|██████████| 480/480 [01:35<00:00,  5.05it/s, Loss 1.3693]\n",
      "Epoch  2: 100%|██████████| 480/480 [01:35<00:00,  5.03it/s, Loss 1.3575]\n",
      "Epoch  3: 100%|██████████| 480/480 [01:35<00:00,  5.02it/s, Loss 1.3455]\n",
      "Epoch  4: 100%|██████████| 480/480 [01:32<00:00,  5.18it/s, Loss 1.3366]\n",
      "Epoch  5: 100%|██████████| 480/480 [01:35<00:00,  5.03it/s, Loss 1.3243]\n",
      "Epoch  6: 100%|██████████| 480/480 [01:36<00:00,  4.99it/s, Loss 1.3247]\n",
      "Epoch  7: 100%|██████████| 480/480 [01:35<00:00,  5.00it/s, Loss 1.3123]\n",
      "Epoch  8: 100%|██████████| 480/480 [01:35<00:00,  5.02it/s, Loss 1.2952]\n",
      "Epoch  9: 100%|██████████| 480/480 [01:40<00:00,  4.77it/s, Loss 1.2836]\n",
      "Epoch 10: 100%|██████████| 480/480 [01:36<00:00,  4.98it/s, Loss 1.2799]\n"
     ]
    },
    {
     "data": {
      "image/png": "[encoded data removed]",
      "text/plain": [
       "<Figure size 720x360 with 1 Axes>"
      ]
     },
     "metadata": {
      "needs_background": "light"
     },
     "output_type": "display_data"
    }
   ],
   "source": [
    "losses = train(enc_train, dec_train, encoder, decoder, dec_tokenizer, optimizer, BATCH_SIZE, EPOCHS=10)"
   ]
  },
  {
   "cell_type": "code",
   "execution_count": 65,
   "id": "9a14af2f",
   "metadata": {
    "execution": {
     "iopub.execute_input": "2021-04-30T12:19:06.874365Z",
     "iopub.status.busy": "2021-04-30T12:19:06.874166Z",
     "iopub.status.idle": "2021-04-30T12:34:57.697080Z",
     "shell.execute_reply": "2021-04-30T12:34:57.696514Z",
     "shell.execute_reply.started": "2021-04-30T12:19:06.874343Z"
    }
   },
   "outputs": [
    {
     "name": "stderr",
     "output_type": "stream",
     "text": [
      "Epoch  1: 100%|██████████| 480/480 [01:40<00:00,  4.79it/s, Loss 1.2690]\n",
      "Epoch  2: 100%|██████████| 480/480 [01:40<00:00,  4.78it/s, Loss 1.2582]\n",
      "Epoch  3: 100%|██████████| 480/480 [01:40<00:00,  4.77it/s, Loss 1.2526]\n",
      "Epoch  4: 100%|██████████| 480/480 [01:40<00:00,  4.77it/s, Loss 1.2433]\n",
      "Epoch  5: 100%|██████████| 480/480 [01:32<00:00,  5.19it/s, Loss 1.2483]\n",
      "Epoch  6: 100%|██████████| 480/480 [01:31<00:00,  5.27it/s, Loss 1.2323]\n",
      "Epoch  7: 100%|██████████| 480/480 [01:31<00:00,  5.25it/s, Loss 1.2190]\n",
      "Epoch  8: 100%|██████████| 480/480 [01:31<00:00,  5.25it/s, Loss 1.2084]\n",
      "Epoch  9: 100%|██████████| 480/480 [01:31<00:00,  5.25it/s, Loss 1.2007]\n",
      "Epoch 10: 100%|██████████| 480/480 [01:31<00:00,  5.27it/s, Loss 1.1959]\n"
     ]
    },
    {
     "data": {
      "image/png": "[encoded data removed]",
      "text/plain": [
       "<Figure size 720x360 with 1 Axes>"
      ]
     },
     "metadata": {
      "needs_background": "light"
     },
     "output_type": "display_data"
    }
   ],
   "source": [
    "losses = train(enc_train, dec_train, encoder, decoder, dec_tokenizer, optimizer, BATCH_SIZE, EPOCHS=10)"
   ]
  },
  {
   "cell_type": "markdown",
   "id": "9b4117a2",
   "metadata": {},
   "source": [
    "## Step 5. 모델 평가\n",
    "---"
   ]
  },
  {
   "cell_type": "code",
   "execution_count": 38,
   "id": "7b78e5ea",
   "metadata": {
    "execution": {
     "iopub.execute_input": "2021-04-30T11:50:08.975350Z",
     "iopub.status.busy": "2021-04-30T11:50:08.975044Z",
     "iopub.status.idle": "2021-04-30T11:50:08.982685Z",
     "shell.execute_reply": "2021-04-30T11:50:08.981920Z",
     "shell.execute_reply.started": "2021-04-30T11:50:08.975313Z"
    },
    "tags": []
   },
   "outputs": [],
   "source": [
    "def evaluate(sentence, encoder, decoder):\n",
    "    attention = np.zeros((dec_train.shape[-1], enc_train.shape[-1]))\n",
    "    \n",
    "    sentence = preprocess_sentence(sentence)\n",
    "    inputs = enc_tokenizer.texts_to_sequences([sentence.split()])\n",
    "    inputs = tf.keras.preprocessing.sequence.pad_sequences(inputs,\n",
    "                                                           maxlen=enc_train.shape[-1],\n",
    "                                                           padding='post')\n",
    "\n",
    "    result = ''\n",
    "\n",
    "    enc_out = encoder(inputs)\n",
    "\n",
    "    dec_hidden = enc_out[:, -1]\n",
    "    dec_input = tf.expand_dims([dec_tokenizer.word_index['<start>']], 0)\n",
    "\n",
    "    for t in range(dec_train.shape[-1]):\n",
    "        predictions, dec_hidden, attention_weights = decoder(dec_input,\n",
    "                                                             dec_hidden,\n",
    "                                                             enc_out)\n",
    "\n",
    "        attention_weights = tf.reshape(attention_weights, (-1, ))\n",
    "        attention[t] = attention_weights.numpy()\n",
    "\n",
    "        predicted_id = \\\n",
    "        tf.argmax(tf.math.softmax(predictions, axis=-1)[0]).numpy()\n",
    "\n",
    "        result += dec_tokenizer.index_word[predicted_id] + ' '\n",
    "\n",
    "        if dec_tokenizer.index_word[predicted_id] == '<end>':\n",
    "            return result, sentence, attention\n",
    "\n",
    "        dec_input = tf.expand_dims([predicted_id], 0)\n",
    "\n",
    "    return result, sentence, attention"
   ]
  },
  {
   "cell_type": "code",
   "execution_count": 61,
   "id": "a7b0467f",
   "metadata": {
    "execution": {
     "iopub.execute_input": "2021-04-30T12:17:52.670479Z",
     "iopub.status.busy": "2021-04-30T12:17:52.669989Z",
     "iopub.status.idle": "2021-04-30T12:17:52.679122Z",
     "shell.execute_reply": "2021-04-30T12:17:52.678065Z",
     "shell.execute_reply.started": "2021-04-30T12:17:52.670420Z"
    },
    "tags": []
   },
   "outputs": [],
   "source": [
    "def plot_attention(attention, sentence, predicted_sentence):\n",
    "    fig = plt.figure(figsize=(4,7))\n",
    "    ax = fig.add_subplot(1, 1, 1)\n",
    "#     ax.matshow(attention, cmap='viridis')\n",
    "    cax = ax.matshow(attention, cmap='GnBu')\n",
    "    fig.colorbar(cax, shrink=0.8)\n",
    "\n",
    "    fontdict = {'fontsize': 14}\n",
    "    plt.rc('font', family='NanumGothic')\n",
    "\n",
    "    ax.set_xticklabels([''] + sentence, fontdict=fontdict, rotation=90)\n",
    "    ax.set_yticklabels([''] + predicted_sentence, fontdict=fontdict)\n",
    "\n",
    "    ax.xaxis.set_major_locator(ticker.MultipleLocator(1))\n",
    "    ax.yaxis.set_major_locator(ticker.MultipleLocator(1))\n",
    "\n",
    "    plt.show()"
   ]
  },
  {
   "cell_type": "code",
   "execution_count": 62,
   "id": "989674e5",
   "metadata": {
    "execution": {
     "iopub.execute_input": "2021-04-30T12:17:52.813496Z",
     "iopub.status.busy": "2021-04-30T12:17:52.813262Z",
     "iopub.status.idle": "2021-04-30T12:17:52.817441Z",
     "shell.execute_reply": "2021-04-30T12:17:52.816835Z",
     "shell.execute_reply.started": "2021-04-30T12:17:52.813468Z"
    },
    "tags": []
   },
   "outputs": [],
   "source": [
    "def translate(sentence, encoder, decoder):\n",
    "    result, sentence, attention = evaluate(sentence, encoder, decoder)\n",
    "\n",
    "    print('Input: %s' % (sentence))\n",
    "    print('Predicted translation: {}'.format(result))\n",
    "    \n",
    "    attention = attention[:len(result.split()), :len(sentence.split())]\n",
    "    plot_attention(attention, sentence.split(), result.split(' '))"
   ]
  },
  {
   "cell_type": "code",
   "execution_count": 63,
   "id": "cafe41cc",
   "metadata": {
    "execution": {
     "iopub.execute_input": "2021-04-30T12:17:53.659046Z",
     "iopub.status.busy": "2021-04-30T12:17:53.658810Z",
     "iopub.status.idle": "2021-04-30T12:17:53.662084Z",
     "shell.execute_reply": "2021-04-30T12:17:53.661418Z",
     "shell.execute_reply.started": "2021-04-30T12:17:53.659019Z"
    },
    "tags": []
   },
   "outputs": [],
   "source": [
    "examples = [\n",
    "    \"오바마는 대통령이다.\",\n",
    "    \"시민들은 도시 속에 산다.\",\n",
    "    \"커피는 필요 없다.\",\n",
    "    \"일곱 명의 사망자가 발생했다.\"\n",
    "]"
   ]
  },
  {
   "cell_type": "code",
   "execution_count": 64,
   "id": "383fb73c",
   "metadata": {
    "execution": {
     "iopub.execute_input": "2021-04-30T12:17:54.018379Z",
     "iopub.status.busy": "2021-04-30T12:17:54.018179Z",
     "iopub.status.idle": "2021-04-30T12:17:55.024406Z",
     "shell.execute_reply": "2021-04-30T12:17:55.023855Z",
     "shell.execute_reply.started": "2021-04-30T12:17:54.018357Z"
    },
    "tags": []
   },
   "outputs": [
    {
     "name": "stdout",
     "output_type": "stream",
     "text": [
      "Input: 오바마는 대통령이다 .\n",
      "Predicted translation: but some people get underway at the cigar <end> \n"
     ]
    },
    {
     "name": "stderr",
     "output_type": "stream",
     "text": [
      "/home/aiffel-dj1/anaconda3/envs/aiffel/lib/python3.7/site-packages/ipykernel_launcher.py:11: UserWarning: FixedFormatter should only be used together with FixedLocator\n",
      "  # This is added back by InteractiveShellApp.init_path()\n",
      "/home/aiffel-dj1/anaconda3/envs/aiffel/lib/python3.7/site-packages/ipykernel_launcher.py:12: UserWarning: FixedFormatter should only be used together with FixedLocator\n",
      "  if sys.path[0] == '':\n"
     ]
    },
    {
     "data": {
      "image/png": "[encoded data removed]",
      "text/plain": [
       "<Figure size 288x504 with 2 Axes>"
      ]
     },
     "metadata": {
      "needs_background": "light"
     },
     "output_type": "display_data"
    },
    {
     "name": "stdout",
     "output_type": "stream",
     "text": [
      "Input: 시민들은 도시 속에 산다 .\n",
      "Predicted translation: roads provides branches <end> \n"
     ]
    },
    {
     "data": {
      "image/png": "[encoded data removed]",
      "text/plain": [
       "<Figure size 288x504 with 2 Axes>"
      ]
     },
     "metadata": {
      "needs_background": "light"
     },
     "output_type": "display_data"
    },
    {
     "name": "stdout",
     "output_type": "stream",
     "text": [
      "Input: 커피는 필요 없다 .\n",
      "Predicted translation: i don t think anything are no one of things . <end> \n"
     ]
    },
    {
     "data": {
      "image/png": "[encoded data removed]",
      "text/plain": [
       "<Figure size 288x504 with 2 Axes>"
      ]
     },
     "metadata": {
      "needs_background": "light"
     },
     "output_type": "display_data"
    },
    {
     "name": "stdout",
     "output_type": "stream",
     "text": [
      "Input: 일곱 명의 사망자가 발생했다 .\n",
      "Predicted translation: six snorkelers and a day . <end> \n"
     ]
    },
    {
     "data": {
      "image/png": "[encoded data removed]",
      "text/plain": [
       "<Figure size 288x504 with 2 Axes>"
      ]
     },
     "metadata": {
      "needs_background": "light"
     },
     "output_type": "display_data"
    }
   ],
   "source": [
    "for sen in examples:\n",
    "    translate(sen, encoder, decoder)"
   ]
  },
  {
   "cell_type": "code",
   "execution_count": null,
   "id": "efa0296d",
   "metadata": {},
   "outputs": [],
   "source": []
  }
 ],
 "metadata": {
  "kernelspec": {
   "display_name": "Python 3",
   "language": "python",
   "name": "python3"
  },
  "language_info": {
   "codemirror_mode": {
    "name": "ipython",
    "version": 3
   },
   "file_extension": ".py",
   "mimetype": "text/x-python",
   "name": "python",
   "nbconvert_exporter": "python",
   "pygments_lexer": "ipython3",
   "version": "3.7.10"
  }
 },
 "nbformat": 4,
 "nbformat_minor": 5
}
