{
 "cells": [
  {
   "cell_type": "markdown",
   "metadata": {
    "id": "Zs62JYfKCtx1"
   },
   "source": [
    "# Transformer Translation\n",
    "---"
   ]
  },
  {
   "cell_type": "markdown",
   "metadata": {},
   "source": [
    "#### environment setting"
   ]
  },
  {
   "cell_type": "code",
   "execution_count": 134,
   "metadata": {
    "execution": {
     "iopub.execute_input": "2021-05-04T10:33:40.245064Z",
     "iopub.status.busy": "2021-05-04T10:33:40.244821Z",
     "iopub.status.idle": "2021-05-04T10:33:40.818495Z",
     "shell.execute_reply": "2021-05-04T10:33:40.817963Z",
     "shell.execute_reply.started": "2021-05-04T10:33:40.245033Z"
    }
   },
   "outputs": [],
   "source": [
    "import matplotlib as mpl\n",
    "import matplotlib.pyplot as plt\n",
    " \n",
    "%config InlineBackend.figure_format = 'retina'\n",
    " \n",
    "import matplotlib.font_manager as fm\n",
    "fontpath = '/usr/share/fonts/truetype/nanum/NanumBarunGothic.ttf'\n",
    "font = fm.FontProperties(fname=fontpath, size=9)\n",
    "plt.rc('font', family='NanumBarunGothic') \n",
    "mpl.font_manager._rebuild()"
   ]
  },
  {
   "cell_type": "code",
   "execution_count": 2,
   "metadata": {
    "colab": {
     "base_uri": "https://localhost:8080/"
    },
    "execution": {
     "iopub.execute_input": "2021-05-04T08:47:55.229740Z",
     "iopub.status.busy": "2021-05-04T08:47:55.229595Z",
     "iopub.status.idle": "2021-05-04T08:47:57.067170Z",
     "shell.execute_reply": "2021-05-04T08:47:57.066602Z",
     "shell.execute_reply.started": "2021-05-04T08:47:55.229720Z"
    },
    "id": "q_Oy1F9KDGJk",
    "outputId": "53c9a9f0-64e0-45ec-f677-2f1c85b9cfa5",
    "tags": []
   },
   "outputs": [
    {
     "name": "stdout",
     "output_type": "stream",
     "text": [
      "1 Physical GPUs, 1 Logical GPUs\n",
      "\n",
      "\n"
     ]
    }
   ],
   "source": [
    "import tensorflow as tf\n",
    "def init_gpu():\n",
    "    gpus = tf.config.experimental.list_physical_devices('GPU')\n",
    "    if gpus:\n",
    "        try:\n",
    "            # Currently, memory growth needs to be the same across GPUs\n",
    "            for gpu in gpus:\n",
    "                tf.config.experimental.set_memory_growth(gpu, True)\n",
    "            logical_gpus = tf.config.experimental.list_logical_devices('GPU')\n",
    "            print(len(gpus), \"Physical GPUs,\", len(logical_gpus), \"Logical GPUs\\n\\n\")\n",
    "        except RuntimeError as e:\n",
    "            # Memory growth must be set before GPUs have been initialized\n",
    "            print(e, \"\\n\\n\")\n",
    "        \n",
    "init_gpu()"
   ]
  },
  {
   "cell_type": "code",
   "execution_count": 3,
   "metadata": {
    "colab": {
     "base_uri": "https://localhost:8080/"
    },
    "execution": {
     "iopub.execute_input": "2021-05-04T08:47:57.081072Z",
     "iopub.status.busy": "2021-05-04T08:47:57.080918Z",
     "iopub.status.idle": "2021-05-04T08:47:57.344185Z",
     "shell.execute_reply": "2021-05-04T08:47:57.343540Z",
     "shell.execute_reply.started": "2021-05-04T08:47:57.081052Z"
    },
    "id": "PgAal9tEDGEh",
    "outputId": "afb5f5d0-2f34-4d40-fc5b-4d723d80d2ef",
    "tags": []
   },
   "outputs": [
    {
     "name": "stdout",
     "output_type": "stream",
     "text": [
      "2.4.1\n"
     ]
    }
   ],
   "source": [
    "import numpy as np\n",
    "import tensorflow as tf\n",
    "import matplotlib.pyplot as plt\n",
    "\n",
    "import re\n",
    "import os\n",
    "import io\n",
    "import time\n",
    "import random\n",
    "\n",
    "import seaborn # Attention 시각화를 위해 필요!\n",
    "import sentencepiece as spm\n",
    "\n",
    "\n",
    "print(tf.__version__)"
   ]
  },
  {
   "cell_type": "markdown",
   "metadata": {
    "id": "s9hemMB7C1ne"
   },
   "source": [
    "## Step 1. 데이터 다운로드\n",
    "---"
   ]
  },
  {
   "cell_type": "markdown",
   "metadata": {
    "id": "W47J5WWFRwKe"
   },
   "source": [
    "[jungyeul/korean-parallel-corpora](https://github.com/jungyeul/korean-parallel-corpora/tree/master/korean-english-news-v1)에서 한국어-영어 병렬 데이터를 다운로드 받는다."
   ]
  },
  {
   "cell_type": "markdown",
   "metadata": {
    "id": "2Q4TVguwSA_R"
   },
   "source": [
    "- 다운로드 경로 지정"
   ]
  },
  {
   "cell_type": "code",
   "execution_count": 4,
   "metadata": {
    "execution": {
     "iopub.execute_input": "2021-05-04T08:47:57.345258Z",
     "iopub.status.busy": "2021-05-04T08:47:57.345089Z",
     "iopub.status.idle": "2021-05-04T08:47:57.347616Z",
     "shell.execute_reply": "2021-05-04T08:47:57.347130Z",
     "shell.execute_reply.started": "2021-05-04T08:47:57.345236Z"
    },
    "id": "oV5JnkBiCRtW",
    "tags": []
   },
   "outputs": [],
   "source": [
    "workspace_path = '/home/aiffel-dj1/workspace/aiffel-gd-nlp/GD10_transformer_translation'\n",
    "data_path = '/home/aiffel-dj1/workspace/aiffel-gd-nlp/GD08_seq2seq_translation/data'"
   ]
  },
  {
   "cell_type": "markdown",
   "metadata": {
    "id": "Ir4BGG82SDMA"
   },
   "source": [
    "- 다운로드"
   ]
  },
  {
   "cell_type": "code",
   "execution_count": 5,
   "metadata": {
    "colab": {
     "base_uri": "https://localhost:8080/"
    },
    "execution": {
     "iopub.execute_input": "2021-05-04T07:04:01.157329Z",
     "iopub.status.busy": "2021-05-04T07:04:01.157128Z",
     "iopub.status.idle": "2021-05-04T07:04:04.475204Z",
     "shell.execute_reply": "2021-05-04T07:04:04.474560Z",
     "shell.execute_reply.started": "2021-05-04T07:04:01.157302Z"
    },
    "id": "7SIRouQWCgO8",
    "outputId": "09b4679a-d8e0-43e5-e084-fa1130b580a7"
   },
   "outputs": [
    {
     "name": "stdout",
     "output_type": "stream",
     "text": [
      "--2021-05-04 16:04:01--  https://github.com/jungyeul/korean-parallel-corpora/raw/master/korean-english-news-v1/korean-english-park.train.tar.gz\n",
      "Resolving github.com (github.com)... 15.164.81.167\n",
      "접속 github.com (github.com)|15.164.81.167|:443... 접속됨.\n",
      "HTTP request sent, awaiting response... 302 Found\n",
      "Location: https://raw.githubusercontent.com/jungyeul/korean-parallel-corpora/master/korean-english-news-v1/korean-english-park.train.tar.gz [following]\n",
      "--2021-05-04 16:04:01--  https://raw.githubusercontent.com/jungyeul/korean-parallel-corpora/master/korean-english-news-v1/korean-english-park.train.tar.gz\n",
      "Resolving raw.githubusercontent.com (raw.githubusercontent.com)... 185.199.108.133, 185.199.110.133, 185.199.111.133, ...\n",
      "접속 raw.githubusercontent.com (raw.githubusercontent.com)|185.199.108.133|:443... 접속됨.\n",
      "HTTP request sent, awaiting response... 200 OK\n",
      "Length: 8718893 (8.3M) [application/octet-stream]\n",
      "Saving to: ‘/home/aiffel-dj1/workspace/aiffel-gd-nlp/GD08_seq2seq_translation/data/korean-english-park.train.tar.gz’\n",
      "\n",
      "korean-english-park 100%[===================>]   8.31M  7.20MB/s    in 1.2s    \n",
      "\n",
      "2021-05-04 16:04:04 (7.20 MB/s) - ‘/home/aiffel-dj1/workspace/aiffel-gd-nlp/GD08_seq2seq_translation/data/korean-english-park.train.tar.gz’ saved [8718893/8718893]\n",
      "\n"
     ]
    }
   ],
   "source": [
    "!wget https://github.com/jungyeul/korean-parallel-corpora/raw/master/korean-english-news-v1/korean-english-park.train.tar.gz -P $data_path"
   ]
  },
  {
   "cell_type": "markdown",
   "metadata": {
    "id": "N3E7qjpwSF0a"
   },
   "source": [
    "- 압축 풀기"
   ]
  },
  {
   "cell_type": "code",
   "execution_count": 6,
   "metadata": {
    "colab": {
     "base_uri": "https://localhost:8080/"
    },
    "execution": {
     "iopub.execute_input": "2021-05-04T07:04:04.476309Z",
     "iopub.status.busy": "2021-05-04T07:04:04.476122Z",
     "iopub.status.idle": "2021-05-04T07:06:32.694080Z",
     "shell.execute_reply": "2021-05-04T07:06:32.693471Z",
     "shell.execute_reply.started": "2021-05-04T07:04:04.476284Z"
    },
    "id": "-TP-42vdDKpl",
    "outputId": "be0abf96-c92e-4e36-aa44-1aff94a83409"
   },
   "outputs": [
    {
     "name": "stdout",
     "output_type": "stream",
     "text": [
      "gzip: /home/aiffel-dj1/workspace/aiffel-gd-nlp/GD08_seq2seq_translation/data/korean-english-park.train.tar already exists; do you wish to overwrite (y or n)? ^C\n",
      "korean-english-park.train.en\n",
      "korean-english-park.train.ko\n"
     ]
    }
   ],
   "source": [
    "!gzip -d $data_path/korean-english-park.train.tar.gz\n",
    "!tar -xvf $data_path/korean-english-park.train.tar -C $data_path"
   ]
  },
  {
   "cell_type": "code",
   "execution_count": 7,
   "metadata": {
    "colab": {
     "base_uri": "https://localhost:8080/"
    },
    "execution": {
     "iopub.execute_input": "2021-05-04T07:06:32.695084Z",
     "iopub.status.busy": "2021-05-04T07:06:32.694922Z",
     "iopub.status.idle": "2021-05-04T07:06:32.822318Z",
     "shell.execute_reply": "2021-05-04T07:06:32.821508Z",
     "shell.execute_reply.started": "2021-05-04T07:06:32.695062Z"
    },
    "id": "TytcV-PQDh_S",
    "outputId": "ced58ce2-19be-4b12-f57a-bd4044134dc9"
   },
   "outputs": [
    {
     "name": "stdout",
     "output_type": "stream",
     "text": [
      "korean-english-park.dev.en    korean-english-park.train.en\n",
      "korean-english-park.dev.ko    korean-english-park.train.ko\n",
      "korean-english-park.dev.tar   korean-english-park.train.tar\n",
      "korean-english-park.test.en   korean-english-park.train.tar.gz\n",
      "korean-english-park.test.ko   sp_train_corpus_en.temp\n",
      "korean-english-park.test.tar  sp_train_corpus_ko.temp\n"
     ]
    }
   ],
   "source": [
    "!ls $data_path"
   ]
  },
  {
   "cell_type": "markdown",
   "metadata": {
    "id": "7M9htf3nRvHj"
   },
   "source": [
    "## Step 2. 데이터 정제 및 토큰화\n",
    "---"
   ]
  },
  {
   "cell_type": "markdown",
   "metadata": {
    "id": "mL96k_HpSM-9"
   },
   "source": [
    "### A. 중복 제거"
   ]
  },
  {
   "cell_type": "markdown",
   "metadata": {
    "id": "edKcHPSySPvx"
   },
   "source": [
    "`set`을 활용하여 데이터의 중복을 제거한다."
   ]
  },
  {
   "cell_type": "code",
   "execution_count": 71,
   "metadata": {
    "execution": {
     "iopub.execute_input": "2021-05-04T09:58:32.044130Z",
     "iopub.status.busy": "2021-05-04T09:58:32.043937Z",
     "iopub.status.idle": "2021-05-04T09:58:32.047761Z",
     "shell.execute_reply": "2021-05-04T09:58:32.047145Z",
     "shell.execute_reply.started": "2021-05-04T09:58:32.044107Z"
    }
   },
   "outputs": [],
   "source": [
    "def get_duplicated_index(raw):\n",
    "    clear_set = set()\n",
    "    removed_index = []\n",
    "    cnt_old = 0\n",
    "    \n",
    "    for i, sen in enumerate(raw):\n",
    "        clear_set.add(sen)\n",
    "        cnt_new = len(clear_set)\n",
    "        \n",
    "        if cnt_new == cnt_old:\n",
    "            removed_index.append(i)\n",
    "        cnt_old = cnt_new\n",
    "    \n",
    "    return removed_index"
   ]
  },
  {
   "cell_type": "code",
   "execution_count": 72,
   "metadata": {
    "execution": {
     "iopub.execute_input": "2021-05-04T09:58:32.165700Z",
     "iopub.status.busy": "2021-05-04T09:58:32.165470Z",
     "iopub.status.idle": "2021-05-04T09:58:32.169614Z",
     "shell.execute_reply": "2021-05-04T09:58:32.168579Z",
     "shell.execute_reply.started": "2021-05-04T09:58:32.165673Z"
    }
   },
   "outputs": [],
   "source": [
    "def remove_by_indexs(raw, indexs):\n",
    "    return [ sen for i, sen in enumerate(raw) if i not in indexs ]"
   ]
  },
  {
   "cell_type": "code",
   "execution_count": 73,
   "metadata": {
    "execution": {
     "iopub.execute_input": "2021-05-04T10:00:29.956801Z",
     "iopub.status.busy": "2021-05-04T10:00:29.956550Z",
     "iopub.status.idle": "2021-05-04T10:00:55.479502Z",
     "shell.execute_reply": "2021-05-04T10:00:55.478867Z",
     "shell.execute_reply.started": "2021-05-04T10:00:29.956774Z"
    },
    "id": "1UJ5pUp1SiC-",
    "tags": []
   },
   "outputs": [],
   "source": [
    "kor_path = data_path + \"/korean-english-park.train.ko\"\n",
    "eng_path = data_path + \"/korean-english-park.train.en\"\n",
    "\n",
    "def clean_corpus(kor_path, eng_path):\n",
    "    with open(kor_path, \"r\") as f: kor = f.read().splitlines()\n",
    "    with open(eng_path, \"r\") as f: eng = f.read().splitlines()\n",
    "    assert len(kor) == len(eng)\n",
    "\n",
    "    removed_index = get_duplicated_index(kor)\n",
    "    clean_corpus_ko = remove_by_indexs(kor, removed_index)\n",
    "    clean_corpus_en = remove_by_indexs(eng, removed_index)\n",
    "    \n",
    "    removed_index = get_duplicated_index(clean_corpus_en)\n",
    "    clean_corpus_en = remove_by_indexs(clean_corpus_en, removed_index)\n",
    "    clean_corpus_ko = remove_by_indexs(clean_corpus_ko, removed_index)\n",
    "\n",
    "    return clean_corpus_ko, clean_corpus_en\n",
    "\n",
    "clean_corpus_ko, clean_corpus_en = clean_corpus(kor_path, eng_path)"
   ]
  },
  {
   "cell_type": "markdown",
   "metadata": {
    "id": "X0sQhOoTUhM3"
   },
   "source": [
    "- 데이터 확인"
   ]
  },
  {
   "cell_type": "code",
   "execution_count": 74,
   "metadata": {
    "colab": {
     "base_uri": "https://localhost:8080/"
    },
    "execution": {
     "iopub.execute_input": "2021-05-04T10:00:55.480556Z",
     "iopub.status.busy": "2021-05-04T10:00:55.480287Z",
     "iopub.status.idle": "2021-05-04T10:00:55.484298Z",
     "shell.execute_reply": "2021-05-04T10:00:55.483780Z",
     "shell.execute_reply.started": "2021-05-04T10:00:55.480532Z"
    },
    "id": "Kawriv9EUlwd",
    "outputId": "d0097c75-b3a7-47e7-ad3a-fb0a04eaa505",
    "tags": []
   },
   "outputs": [
    {
     "data": {
      "text/plain": [
       "(74849, 74849)"
      ]
     },
     "execution_count": 74,
     "metadata": {},
     "output_type": "execute_result"
    }
   ],
   "source": [
    "len(clean_corpus_ko), len(clean_corpus_en)"
   ]
  },
  {
   "cell_type": "code",
   "execution_count": 75,
   "metadata": {
    "colab": {
     "base_uri": "https://localhost:8080/"
    },
    "execution": {
     "iopub.execute_input": "2021-05-04T10:01:09.642221Z",
     "iopub.status.busy": "2021-05-04T10:01:09.641955Z",
     "iopub.status.idle": "2021-05-04T10:01:09.647861Z",
     "shell.execute_reply": "2021-05-04T10:01:09.647080Z",
     "shell.execute_reply.started": "2021-05-04T10:01:09.642193Z"
    },
    "id": "Kd68wXqqTi7A",
    "outputId": "e9cefa4c-c18b-4c54-ef0c-bb5830da656d",
    "tags": []
   },
   "outputs": [
    {
     "name": "stdout",
     "output_type": "stream",
     "text": [
      "44616\n",
      "ko >>> 무어는 “마침내 룸메이트가 농담을 했고 조는 웃음을 보였다”고 덧붙였다.\n",
      "en >>> Finally, Moore's roommate cracked a joke and Cho laughed. Moore didn't take offense to Cho's silence.\n",
      "\n",
      "10392\n",
      "ko >>> 프란시스코 비달 칠레 정부 대변인은 CNN과의 인터뷰에서 구조선 5척을 동원해 차이텐 및 부근 도시에 거주하는 주민, 기자, 구호요원을 안전한 곳으로 옮길 것이라고 말했다.\n",
      "en >>> Five boats will transport the remaining emergency officials, reporters, residents and others from the town, government spokesman Francisco Vidal told CNN en Espanol.\n",
      "\n",
      "60948\n",
      "ko >>> 2000년 처음으로 김대중 ?\n",
      "en >>> The first and only inter-Korean summit between Kim and North Korean leader Kim Jong-il in 2000 opened the doors for a flurry of economic, cultural and political reconciliation projects such as the Kaesong industrial park in the North Korean border town and tourism programs to the North’s Mount Kumgang.\n",
      "\n",
      "59428\n",
      "ko >>> 이번 결정은 디트로이트가 16경기 시즌에서 단 1승도 못 올리는 최초의 NFL 팀이 된 지 하루 만에 나온 것입니다. 월가 소식입니다.\n",
      "en >>> This comes just one day after Detroit became the first NFL team ever to go winless in a 16-game season.\n",
      "\n",
      "63610\n",
      "ko >>> South Korea plans to sign an anti-piracy treaty한국 정부, 해적 근절 지역협정 가입 예정2006.05 원문 & 독해설명 인쇄\n",
      "en >>> As authorities continued efforts to free South Korean fishermen being held by Somali pirates yesterday, Seoul is set today to sign an anti-piracy treaty in Singapore.\n",
      "\n"
     ]
    }
   ],
   "source": [
    "idx = np.random.choice(len(cleaned_corpus), 5)\n",
    "for i in idx:\n",
    "    print(f'{i}')\n",
    "    print(f'ko >>> {clean_corpus_ko[i]}')\n",
    "    print(f'en >>> {clean_corpus_en[i]}\\n')"
   ]
  },
  {
   "cell_type": "markdown",
   "metadata": {
    "id": "LZXdnfGYUQKk"
   },
   "source": [
    "### B. 데이터 정제"
   ]
  },
  {
   "cell_type": "markdown",
   "metadata": {
    "id": "eFSjm3D9VAdr"
   },
   "source": [
    "주어진 데이터를 다음의 조건에 맞추어 정제함수를 작성한다.\n",
    "- 모든 입력을 소문자로 변환한다.\n",
    "- 알파벳, 문장부호, 한글만 남기고 모두 제거한다.\n",
    "- 문장부호 양옆에 공백을 추가한다.\n",
    "- 문장 앞뒤의 불필요한 공백을 제거한다."
   ]
  },
  {
   "cell_type": "code",
   "execution_count": 76,
   "metadata": {
    "execution": {
     "iopub.execute_input": "2021-05-04T10:01:30.461951Z",
     "iopub.status.busy": "2021-05-04T10:01:30.461732Z",
     "iopub.status.idle": "2021-05-04T10:01:30.465865Z",
     "shell.execute_reply": "2021-05-04T10:01:30.465350Z",
     "shell.execute_reply.started": "2021-05-04T10:01:30.461925Z"
    },
    "id": "Il9HP6YMVCFi",
    "tags": []
   },
   "outputs": [],
   "source": [
    "def preprocess_sentence(sentence):\n",
    "    sentence = sentence.lower().strip()\n",
    "    sentence = re.sub(r\"([?.!,])\", r\" \\1 \", sentence)\n",
    "    sentence = re.sub(r\"[^a-zA-Zㄱ-ㅣ가-힣?.!,]+\", \" \", sentence)\n",
    "    sentence = re.sub(r'[\" \"]+', \" \", sentence)\n",
    "    sentence = sentence.strip()\n",
    "    return sentence"
   ]
  },
  {
   "cell_type": "markdown",
   "metadata": {
    "id": "u0xS5BNUVB68"
   },
   "source": [
    "### C. tokenizer"
   ]
  },
  {
   "cell_type": "markdown",
   "metadata": {
    "id": "KuhraVtJVB4I"
   },
   "source": [
    "Sentencepiece를 활용하여 토큰화를 진행하며 tokenizer 생성 함수(generate_tokenizer)를 정의하고, 한국어와 영어 tokenizer를 생성한다.\n",
    "\n",
    "생성 함수는 다음 조건을 따라 정의한다.\n",
    "\n",
    "- 단어 사전을 매개변수로 받아 원하는 크기의 사전을 정의할 수 있게 한다. (기본: 20,000)\n",
    "- 학습 후 저장된 model 파일을 SentencePieceProcessor() 클래스에 Load()한 후 반환한다.\n",
    "- 특수 토큰의 인덱스를 아래와 동일하게 지정한다.\n",
    "    - `<PAD>` : 0\n",
    "    - `<BOS>` : 1\n",
    "    - `<EOS>` : 2\n",
    "    - `<UNK>` : 3"
   ]
  },
  {
   "cell_type": "code",
   "execution_count": 77,
   "metadata": {
    "execution": {
     "iopub.execute_input": "2021-05-04T10:01:33.821518Z",
     "iopub.status.busy": "2021-05-04T10:01:33.821323Z",
     "iopub.status.idle": "2021-05-04T10:01:33.824451Z",
     "shell.execute_reply": "2021-05-04T10:01:33.823715Z",
     "shell.execute_reply.started": "2021-05-04T10:01:33.821495Z"
    },
    "id": "d2St4AY3an1X",
    "tags": []
   },
   "outputs": [],
   "source": [
    "model_path = workspace_path + '/model'"
   ]
  },
  {
   "cell_type": "code",
   "execution_count": 78,
   "metadata": {
    "execution": {
     "iopub.execute_input": "2021-05-04T10:01:34.618305Z",
     "iopub.status.busy": "2021-05-04T10:01:34.618089Z",
     "iopub.status.idle": "2021-05-04T10:01:34.622999Z",
     "shell.execute_reply": "2021-05-04T10:01:34.622277Z",
     "shell.execute_reply.started": "2021-05-04T10:01:34.618281Z"
    },
    "id": "olUL1anhVB1Z",
    "tags": []
   },
   "outputs": [],
   "source": [
    "def generate_tokenizer(corpus,\n",
    "                        vocab_size=20000,\n",
    "                        lang=\"ko\",\n",
    "                        pad_id=0,\n",
    "                        bos_id=1,\n",
    "                        eos_id=2,\n",
    "                        unk_id=3):\n",
    "    \n",
    "    corpus_path = f'{data_path}/sp_train_corpus_{lang}.temp'\n",
    "    with open(corpus_path, 'w') as f:\n",
    "        for row in corpus:\n",
    "            f.write(str(row) + '\\n')\n",
    "\n",
    "    prefix = f'{model_path}/spm_{lang}'\n",
    "    \n",
    "    spm.SentencePieceTrainer.Train(\n",
    "        f'--input={corpus_path} \\\n",
    "            --model_prefix={prefix} \\\n",
    "            --vocab_size={vocab_size} \\\n",
    "            --model_type=unigram \\\n",
    "            --pad_id={pad_id} \\\n",
    "            --bos_id={bos_id} \\\n",
    "            --eos_id={eos_id} \\\n",
    "            --unk_id={unk_id}')\n",
    "    \n",
    "    tokenizer = spm.SentencePieceProcessor()\n",
    "    tokenizer.Load(f'{prefix}.model')\n",
    "\n",
    "    return tokenizer"
   ]
  },
  {
   "cell_type": "code",
   "execution_count": 79,
   "metadata": {
    "colab": {
     "base_uri": "https://localhost:8080/"
    },
    "execution": {
     "iopub.execute_input": "2021-05-04T10:02:20.082709Z",
     "iopub.status.busy": "2021-05-04T10:02:20.082377Z",
     "iopub.status.idle": "2021-05-04T10:02:36.621476Z",
     "shell.execute_reply": "2021-05-04T10:02:36.620966Z",
     "shell.execute_reply.started": "2021-05-04T10:02:20.082668Z"
    },
    "id": "BQGPTEp9VByz",
    "outputId": "b5ad2214-b110-4d08-9d30-0ecd51344f1b",
    "tags": []
   },
   "outputs": [
    {
     "data": {
      "text/plain": [
       "True"
      ]
     },
     "execution_count": 79,
     "metadata": {},
     "output_type": "execute_result"
    }
   ],
   "source": [
    "SRC_VOCAB_SIZE = TGT_VOCAB_SIZE = 20000\n",
    "\n",
    "eng_corpus = []\n",
    "kor_corpus = []\n",
    "\n",
    "for k, e in zip(clean_corpus_ko, clean_corpus_en):\n",
    "    kor_corpus.append(preprocess_sentence(k))\n",
    "    eng_corpus.append(preprocess_sentence(e))\n",
    "\n",
    "ko_tokenizer = generate_tokenizer(kor_corpus, SRC_VOCAB_SIZE, \"ko\")\n",
    "en_tokenizer = generate_tokenizer(eng_corpus, TGT_VOCAB_SIZE, \"en\")\n",
    "en_tokenizer.set_encode_extra_options(\"bos:eos\")"
   ]
  },
  {
   "cell_type": "markdown",
   "metadata": {
    "id": "TGUjxrTYVBwY"
   },
   "source": [
    "- kor tokenizer 테스트"
   ]
  },
  {
   "cell_type": "code",
   "execution_count": 80,
   "metadata": {
    "execution": {
     "iopub.execute_input": "2021-05-04T10:05:04.918797Z",
     "iopub.status.busy": "2021-05-04T10:05:04.918594Z",
     "iopub.status.idle": "2021-05-04T10:05:04.922186Z",
     "shell.execute_reply": "2021-05-04T10:05:04.921349Z",
     "shell.execute_reply.started": "2021-05-04T10:05:04.918771Z"
    },
    "tags": []
   },
   "outputs": [],
   "source": [
    "examples = [\n",
    "    \"오바마는 대통령이다.\",\n",
    "    \"시민들은 도시 속에 산다.\",\n",
    "    \"커피는 필요 없다.\",\n",
    "    \"일곱 명의 사망자가 발생했다.\"\n",
    "]"
   ]
  },
  {
   "cell_type": "code",
   "execution_count": 87,
   "metadata": {
    "colab": {
     "base_uri": "https://localhost:8080/"
    },
    "execution": {
     "iopub.execute_input": "2021-05-04T10:07:41.897426Z",
     "iopub.status.busy": "2021-05-04T10:07:41.897220Z",
     "iopub.status.idle": "2021-05-04T10:07:41.902423Z",
     "shell.execute_reply": "2021-05-04T10:07:41.901643Z",
     "shell.execute_reply.started": "2021-05-04T10:07:41.897402Z"
    },
    "id": "2OJqIlKgbaGA",
    "outputId": "1ae4cd1e-b12f-4e92-da30-be87ab24aea8",
    "tags": []
   },
   "outputs": [
    {
     "name": "stdout",
     "output_type": "stream",
     "text": [
      "raw data : 오바마는 대통령이다 .\n",
      "encoded : [94, 7, 237, 28, 4]\n",
      "decoded : 오바마는 대통령이다 .\n",
      "\n",
      "raw data : 시민들은 도시 속에 산다 .\n",
      "encoded : [2285, 9, 567, 2118, 663, 28, 4]\n",
      "decoded : 시민들은 도시 속에 산다 .\n",
      "\n",
      "raw data : 커피는 필요 없다 .\n",
      "encoded : [3074, 7, 760, 216, 4]\n",
      "decoded : 커피는 필요 없다 .\n",
      "\n",
      "raw data : 일곱 명의 사망자가 발생했다 .\n",
      "encoded : [23, 19875, 79, 637, 11, 430, 4]\n",
      "decoded : 일곱 명의 사망자가 발생했다 .\n",
      "\n"
     ]
    }
   ],
   "source": [
    "for sen in examples:\n",
    "    sen = preprocess_sentence(sen)\n",
    "    encoded = ko_tokenizer.EncodeAsIds(sen)\n",
    "    decoded = ko_tokenizer.DecodeIds(encoded)\n",
    "    print(f'raw data : {sen}')\n",
    "    print(f'encoded : {encoded}')\n",
    "    print(f'decoded : {decoded}\\n')"
   ]
  },
  {
   "cell_type": "markdown",
   "metadata": {
    "id": "Csdso205d9h9"
   },
   "source": [
    "- eng tokenizer 테스트\n"
   ]
  },
  {
   "cell_type": "code",
   "execution_count": 88,
   "metadata": {
    "execution": {
     "iopub.execute_input": "2021-05-04T10:07:46.436239Z",
     "iopub.status.busy": "2021-05-04T10:07:46.435981Z",
     "iopub.status.idle": "2021-05-04T10:07:46.439388Z",
     "shell.execute_reply": "2021-05-04T10:07:46.438698Z",
     "shell.execute_reply.started": "2021-05-04T10:07:46.436201Z"
    },
    "tags": []
   },
   "outputs": [],
   "source": [
    "examples_en = [\n",
    "    \"Obama is President.\",\n",
    "    \"Citizens live in cities.\",\n",
    "    \"I don't need coffee.\",\n",
    "    \"Seven people were killed.\"\n",
    "]"
   ]
  },
  {
   "cell_type": "code",
   "execution_count": 89,
   "metadata": {
    "colab": {
     "base_uri": "https://localhost:8080/"
    },
    "execution": {
     "iopub.execute_input": "2021-05-04T10:07:46.617834Z",
     "iopub.status.busy": "2021-05-04T10:07:46.617533Z",
     "iopub.status.idle": "2021-05-04T10:07:46.624213Z",
     "shell.execute_reply": "2021-05-04T10:07:46.623553Z",
     "shell.execute_reply.started": "2021-05-04T10:07:46.617796Z"
    },
    "id": "OXnDRzDtVBuC",
    "outputId": "affe3808-fd67-4167-9872-b4eba2aa1d48",
    "tags": []
   },
   "outputs": [
    {
     "name": "stdout",
     "output_type": "stream",
     "text": [
      "raw data : Obama is President.\n",
      "encoded : [1, 144, 25, 52, 7, 2]\n",
      "decoded : obama is president .\n",
      "\n",
      "raw data : Citizens live in cities.\n",
      "encoded : [1, 1360, 582, 13, 666, 50, 7, 2]\n",
      "decoded : citizens live in cities .\n",
      "\n",
      "raw data : I don't need coffee.\n",
      "encoded : [1, 56, 407, 60, 247, 3021, 7, 2]\n",
      "decoded : i don t need coffee .\n",
      "\n",
      "raw data : Seven people were killed.\n",
      "encoded : [1, 504, 55, 44, 165, 9, 7, 2]\n",
      "decoded : seven people were killed .\n",
      "\n"
     ]
    }
   ],
   "source": [
    "for sen in examples_en:\n",
    "    print(f'raw data : {sen}')\n",
    "    sen = preprocess_sentence(sen)\n",
    "    encoded = en_tokenizer.EncodeAsIds(sen)\n",
    "    decoded = en_tokenizer.DecodeIds(encoded)\n",
    "    print(f'encoded : {encoded}')\n",
    "    print(f'decoded : {decoded}\\n')"
   ]
  },
  {
   "cell_type": "markdown",
   "metadata": {
    "id": "Ej89df4DVBrq"
   },
   "source": [
    "### D. 토큰화"
   ]
  },
  {
   "cell_type": "markdown",
   "metadata": {
    "id": "mfO57rEugvYL"
   },
   "source": [
    "토크나이저를 활용해 토큰의 길이가 50 이하인 데이터를 선별하여 src_corpus 와 tgt_corpus 를 각각 구축하고, 텐서 enc_train 과 dec_train 으로 변환한다."
   ]
  },
  {
   "cell_type": "code",
   "execution_count": 90,
   "metadata": {
    "colab": {
     "base_uri": "https://localhost:8080/",
     "height": 137,
     "referenced_widgets": [
      "574f4ab50c2148baa2072f211364146f",
      "1578fcdab5484b94851803bf2c0df793",
      "ba76b5a8af7247c2bbf05268d2d616f2",
      "8b3ffd6c274f47bf8386455349f81254",
      "4e64080b2dad44618d9f84fadfedc3c8",
      "d05d248ffdda4f2994e12286f4022bb4",
      "56ffd5044af942f0ac82617f678c182e",
      "8d54e6666ee04bbb8881f0532300ae16"
     ]
    },
    "execution": {
     "iopub.execute_input": "2021-05-04T10:08:08.204359Z",
     "iopub.status.busy": "2021-05-04T10:08:08.204089Z",
     "iopub.status.idle": "2021-05-04T10:08:13.857079Z",
     "shell.execute_reply": "2021-05-04T10:08:13.856370Z",
     "shell.execute_reply.started": "2021-05-04T10:08:08.204322Z"
    },
    "id": "STLh-C_NVBpC",
    "outputId": "7b670e2b-96ad-4963-e0f0-77d91d3552a1",
    "tags": []
   },
   "outputs": [
    {
     "name": "stderr",
     "output_type": "stream",
     "text": [
      "/home/aiffel-dj1/anaconda3/envs/aiffel/lib/python3.7/site-packages/ipykernel_launcher.py:10: TqdmDeprecationWarning: This function will be removed in tqdm==5.0.0\n",
      "Please use `tqdm.notebook.tqdm` instead of `tqdm.tqdm_notebook`\n",
      "  # Remove the CWD from sys.path while we load stuff.\n"
     ]
    },
    {
     "data": {
      "application/vnd.jupyter.widget-view+json": {
       "model_id": "99024c4e057d481b9865542251433686",
       "version_major": 2,
       "version_minor": 0
      },
      "text/plain": [
       "  0%|          | 0/74849 [00:00<?, ?it/s]"
      ]
     },
     "metadata": {},
     "output_type": "display_data"
    }
   ],
   "source": [
    "from tqdm import tqdm_notebook\n",
    "\n",
    "src_corpus = []\n",
    "tgt_corpus = []\n",
    "max_len = 50\n",
    "\n",
    "assert len(kor_corpus) == len(eng_corpus)\n",
    "\n",
    "# 토큰의 길이가 50 이하인 문장만 남깁니다. \n",
    "for idx in tqdm_notebook(range(len(kor_corpus))):\n",
    "    ko_tokenized = ko_tokenizer.EncodeAsIds(kor_corpus[idx])\n",
    "    en_tokenized = en_tokenizer.EncodeAsIds(eng_corpus[idx])\n",
    "    \n",
    "    if len(ko_tokenized) <= max_len and len(en_tokenized) <= max_len:\n",
    "        src_corpus.append(ko_tokenized)\n",
    "        tgt_corpus.append(en_tokenized)\n",
    "\n",
    "# 패딩처리를 완료하여 학습용 데이터를 완성합니다. \n",
    "enc_train = tf.keras.preprocessing.sequence.pad_sequences(src_corpus, padding='post')\n",
    "dec_train = tf.keras.preprocessing.sequence.pad_sequences(tgt_corpus, padding='post')"
   ]
  },
  {
   "cell_type": "markdown",
   "metadata": {
    "id": "NSJOcxVeVBm4"
   },
   "source": [
    "- 데이터 확인"
   ]
  },
  {
   "cell_type": "code",
   "execution_count": 91,
   "metadata": {
    "colab": {
     "base_uri": "https://localhost:8080/"
    },
    "execution": {
     "iopub.execute_input": "2021-05-04T10:08:26.174139Z",
     "iopub.status.busy": "2021-05-04T10:08:26.173917Z",
     "iopub.status.idle": "2021-05-04T10:08:26.178410Z",
     "shell.execute_reply": "2021-05-04T10:08:26.177788Z",
     "shell.execute_reply.started": "2021-05-04T10:08:26.174114Z"
    },
    "id": "XyM1hNvBiFkc",
    "outputId": "01e9b6ed-9fbf-4adc-c481-eea97298be64",
    "tags": []
   },
   "outputs": [
    {
     "data": {
      "text/plain": [
       "(64260, 64260)"
      ]
     },
     "execution_count": 91,
     "metadata": {},
     "output_type": "execute_result"
    }
   ],
   "source": [
    "len(enc_train), len(dec_train)"
   ]
  },
  {
   "cell_type": "code",
   "execution_count": 92,
   "metadata": {
    "execution": {
     "iopub.execute_input": "2021-05-04T10:08:36.276737Z",
     "iopub.status.busy": "2021-05-04T10:08:36.276447Z",
     "iopub.status.idle": "2021-05-04T10:08:36.280810Z",
     "shell.execute_reply": "2021-05-04T10:08:36.279965Z",
     "shell.execute_reply.started": "2021-05-04T10:08:36.276702Z"
    },
    "id": "vMjmjMDoVBlA",
    "tags": []
   },
   "outputs": [],
   "source": [
    "idx = np.random.choice(len(enc_train), 3)"
   ]
  },
  {
   "cell_type": "code",
   "execution_count": 93,
   "metadata": {
    "colab": {
     "base_uri": "https://localhost:8080/"
    },
    "execution": {
     "iopub.execute_input": "2021-05-04T10:08:36.414646Z",
     "iopub.status.busy": "2021-05-04T10:08:36.414350Z",
     "iopub.status.idle": "2021-05-04T10:08:36.422618Z",
     "shell.execute_reply": "2021-05-04T10:08:36.421659Z",
     "shell.execute_reply.started": "2021-05-04T10:08:36.414616Z"
    },
    "id": "h2vmMVjWh-uE",
    "outputId": "1c598e5e-b72c-4439-bc3e-b25c1f6a4ea4",
    "tags": []
   },
   "outputs": [
    {
     "name": "stdout",
     "output_type": "stream",
     "text": [
      "32672\n",
      "ko encoded : [  393     9  1959    11   864     9   939   215   682     6 18007    15\n",
      "    46     4     0     0     0     0     0     0     0     0     0     0\n",
      "     0     0     0     0     0     0     0     0     0     0     0     0\n",
      "     0     0     0     0     0     0     0     0     0     0     0     0\n",
      "     0     0]\n",
      "ko decoded : 성명은 블레어가 이같은 문제에 큰 관심을 보여왔다고 전했다 .\n",
      "en encoded : [   1 1049  205    5   10  211  465    5  733  349  744    2    0    0\n",
      "    0    0    0    0    0    0    0    0    0    0    0    0    0    0\n",
      "    0    0    0    0    0    0    0    0    0    0    0    0    0    0\n",
      "    0    0    0    0    0    0    0    0]\n",
      "en decoded : create plans to help palestinians develop economically\n",
      "\n",
      "37761\n",
      "ko encoded : [  488    22  2961  6910    70 11373    28     4     0     0     0     0\n",
      "     0     0     0     0     0     0     0     0     0     0     0     0\n",
      "     0     0     0     0     0     0     0     0     0     0     0     0\n",
      "     0     0     0     0     0     0     0     0     0     0     0     0\n",
      "     0     0]\n",
      "ko decoded : 나는 이 사건으로 굉장히 괴롭다 .\n",
      "en encoded : [   1   56  101 1105   24 1002    9   34   28    7    2    0    0    0\n",
      "    0    0    0    0    0    0    0    0    0    0    0    0    0    0\n",
      "    0    0    0    0    0    0    0    0    0    0    0    0    0    0\n",
      "    0    0    0    0    0    0    0    0]\n",
      "en decoded : i m deeply affected by it .\n",
      "\n",
      "7369\n",
      "ko encoded : [ 7360  1328   471   391 15576  1268     9  5557  1600   870    26  2971\n",
      "   222  4705    13  9000    15    25    30   445    28     4     0     0\n",
      "     0     0     0     0     0     0     0     0     0     0     0     0\n",
      "     0     0     0     0     0     0     0     0     0     0     0     0\n",
      "     0     0]\n",
      "ko decoded : 자크 디우프 fao 사무총장은 글로벌 식량 공급과 수요간 균형이 흔들리고 있다 고 지적했다 .\n",
      "en encoded : [   1    6  619  445 7863    5    6 6332  251   12    6 2760   20  188\n",
      "  552  499 1799    5   14    6  247    5   12    6  107   17 5584 5164\n",
      "    4    8   18    6 2679  110   17  566  329    4    8 5240    5 2567\n",
      " 7893    7    2    0    0    0    0    0]\n",
      "en decoded : the crisis underlines the fragility of the balance between global food supplies and the needs of the world s inhabitants , said the fao s director general , jacques diouf .\n",
      "\n"
     ]
    }
   ],
   "source": [
    "for i in idx:\n",
    "    print(i)\n",
    "    print(f'ko encoded : {enc_train[i]}')\n",
    "    print(f'ko decoded : {ko_tokenizer.DecodeIds(enc_train[i].tolist())}')\n",
    "    print(f'en encoded : {dec_train[i]}')\n",
    "    print(f'en decoded : {en_tokenizer.DecodeIds(dec_train[i].tolist())}\\n')"
   ]
  },
  {
   "cell_type": "markdown",
   "metadata": {
    "id": "HOrN0v1Bh_go"
   },
   "source": [
    "## Step 3. 모델 설계\n",
    "---"
   ]
  },
  {
   "cell_type": "markdown",
   "metadata": {
    "id": "mXMXQBOeh_jk"
   },
   "source": [
    "Transformer의 내부 모듈을 구현하고 이를 조립하여 모델을 설계하여 보자.\n",
    "\n",
    "![transformer](https://paul-hyun.github.io/assets/2019-12-19/transformer-model-architecture.png)"
   ]
  },
  {
   "cell_type": "markdown",
   "metadata": {
    "id": "W9qoNnmBkQYP"
   },
   "source": [
    "### A. 내부 모듈 정의"
   ]
  },
  {
   "cell_type": "markdown",
   "metadata": {
    "id": "_xiTapaRh_m0"
   },
   "source": [
    "#### Positional Encoding"
   ]
  },
  {
   "cell_type": "code",
   "execution_count": 246,
   "metadata": {
    "execution": {
     "iopub.execute_input": "2021-05-04T11:05:00.407984Z",
     "iopub.status.busy": "2021-05-04T11:05:00.407645Z",
     "iopub.status.idle": "2021-05-04T11:05:00.414587Z",
     "shell.execute_reply": "2021-05-04T11:05:00.413783Z",
     "shell.execute_reply.started": "2021-05-04T11:05:00.407944Z"
    },
    "id": "uSbDFKDYh_qF",
    "tags": []
   },
   "outputs": [],
   "source": [
    "def positional_encoding(pos, d_model):\n",
    "    def cal_angle(position, i, d_model):\n",
    "        return position / np.power(10000, int(i) / d_model)\n",
    "\n",
    "    def get_posi_angle_vec(position, d_model):\n",
    "        return [cal_angle(position, i, d_model) for i in range(d_model)]\n",
    "\n",
    "    sinusoid_table = np.array([get_posi_angle_vec(pos_i, d_model) for pos_i in range(pos)])\n",
    "\n",
    "    sinusoid_table[:, 0::2] = np.sin(sinusoid_table[:, 0::2])\n",
    "    sinusoid_table[:, 1::2] = np.cos(sinusoid_table[:, 1::2])\n",
    "\n",
    "    return sinusoid_table"
   ]
  },
  {
   "cell_type": "markdown",
   "metadata": {
    "id": "KvgbYEMXh_tj"
   },
   "source": [
    "#### Multi-Head Attention"
   ]
  },
  {
   "cell_type": "code",
   "execution_count": 247,
   "metadata": {
    "execution": {
     "iopub.execute_input": "2021-05-04T11:05:00.687042Z",
     "iopub.status.busy": "2021-05-04T11:05:00.686667Z",
     "iopub.status.idle": "2021-05-04T11:05:00.701230Z",
     "shell.execute_reply": "2021-05-04T11:05:00.700452Z",
     "shell.execute_reply.started": "2021-05-04T11:05:00.687000Z"
    },
    "id": "owJ3hVP9h_wf",
    "tags": []
   },
   "outputs": [],
   "source": [
    "class MultiHeadAttention(tf.keras.layers.Layer):\n",
    "    def __init__(self, d_model, num_heads):\n",
    "        super(MultiHeadAttention, self).__init__()\n",
    "        self.num_heads = num_heads\n",
    "        self.d_model = d_model\n",
    "        \n",
    "        self.depth = d_model // self.num_heads\n",
    "        \n",
    "        self.W_q = tf.keras.layers.Dense(d_model) # Linear Layer\n",
    "        self.W_k = tf.keras.layers.Dense(d_model)\n",
    "        self.W_v = tf.keras.layers.Dense(d_model)\n",
    "        \n",
    "        self.linear = tf.keras.layers.Dense(d_model)\n",
    "\n",
    "    def scaled_dot_product_attention(self, Q, K, V, mask):\n",
    "        matmul_qk = tf.matmul(Q, K, transpose_b=True)\n",
    "        dk = tf.cast(K.shape[-1], tf.float32)\n",
    "        scaled_qk = matmul_qk / tf.math.sqrt(dk)\n",
    "        \n",
    "#         print('scaled_dot_product_attention')\n",
    "#         print(f'Q.shape : {Q.shape}')\n",
    "#         print(f'K.shape : {K.shape}')\n",
    "#         print(f'V.shape : {V.shape}')\n",
    "#         print(f'mask.shape : {mask.shape}')\n",
    "#         print(f'scaled_qk.shape : {scaled_qk.shape}')\n",
    "        if mask is not None: \n",
    "            scaled_qk += (mask * -1e9)\n",
    "\n",
    "        attentions = tf.nn.softmax(scaled_qk, axis=-1)\n",
    "#         print(f'attentions.shape : {attentions.shape}')\n",
    "        out = tf.matmul(attentions, V)\n",
    "#         print(f'out.shape : {out.shape}\\n')\n",
    "\n",
    "        return out, attentions\n",
    "        \n",
    "\n",
    "    def split_heads(self, x):\n",
    "        \"\"\"\n",
    "        Embedding을 Head의 수로 분할하는 함수\n",
    "\n",
    "        x: [ batch x length x emb ]\n",
    "        return: [ batch x length x heads x self.depth ]\n",
    "        \"\"\"\n",
    "        bsz = x.shape[0]\n",
    "        split_x = tf.reshape(x, (bsz, -1, self.num_heads, self.depth))\n",
    "        split_x = tf.transpose(split_x, perm=[0, 2, 1, 3])\n",
    "\n",
    "        return split_x\n",
    "\n",
    "    def combine_heads(self, x):\n",
    "        \"\"\"\n",
    "        분할된 Embedding을 하나로 결합하는 함수\n",
    "\n",
    "        x: [ batch x length x heads x self.depth ]\n",
    "        return: [ batch x length x emb ]\n",
    "        \"\"\"\n",
    "        bsz = x.shape[0]\n",
    "        combined_x = tf.transpose(x, perm=[0, 2, 1, 3])\n",
    "        combined_x = tf.reshape(combined_x, (bsz, -1, self.d_model))\n",
    "\n",
    "        return combined_x\n",
    "    \n",
    "\n",
    "    def call(self, Q, K, V, mask):\n",
    "        \"\"\"\n",
    "        아래 순서에 따라 소스를 작성하세요.\n",
    "\n",
    "        Step 1: Linear_in(Q, K, V) -> WQ, WK, WV\n",
    "        Step 2: Split Heads(WQ, WK, WV) -> WQ_split, WK_split, WV_split\n",
    "        Step 3: Scaled Dot Product Attention(WQ_split, WK_split, WV_split)\n",
    "                 -> out, attention_weights\n",
    "        Step 4: Combine Heads(out) -> out\n",
    "        Step 5: Linear_out(out) -> out\n",
    "\n",
    "        \"\"\"\n",
    "        WQ = self.W_q(Q)\n",
    "        WK = self.W_k(K)\n",
    "        WV = self.W_v(V)\n",
    "\n",
    "        WQ_splits = self.split_heads(WQ)\n",
    "        WK_splits = self.split_heads(WK)\n",
    "        WV_splits = self.split_heads(WV)\n",
    "\n",
    "        out, attention_weights = self.scaled_dot_product_attention(WQ_splits, WK_splits, WV_splits, mask)\n",
    "\n",
    "        out = self.combine_heads(out)\n",
    "        out = self.linear(out)\n",
    "\n",
    "        return out, attention_weights"
   ]
  },
  {
   "cell_type": "markdown",
   "metadata": {
    "id": "mxxeUQ8Yh_z0"
   },
   "source": [
    "#### Position-wise Feed-Forward Network"
   ]
  },
  {
   "cell_type": "code",
   "execution_count": 248,
   "metadata": {
    "execution": {
     "iopub.execute_input": "2021-05-04T11:05:01.124520Z",
     "iopub.status.busy": "2021-05-04T11:05:01.124158Z",
     "iopub.status.idle": "2021-05-04T11:05:01.131026Z",
     "shell.execute_reply": "2021-05-04T11:05:01.129971Z",
     "shell.execute_reply.started": "2021-05-04T11:05:01.124477Z"
    },
    "id": "QDF1WBJFkFk-",
    "tags": []
   },
   "outputs": [],
   "source": [
    "class PoswiseFeedForwardNet(tf.keras.layers.Layer):\n",
    "    def __init__(self, d_model, d_ff):\n",
    "        super(PoswiseFeedForwardNet, self).__init__()\n",
    "        self.w_1 = tf.keras.layers.Dense(d_ff, activation='relu')\n",
    "        self.w_2 = tf.keras.layers.Dense(d_model)\n",
    "\n",
    "    def call(self, x):\n",
    "        out = self.w_1(x)\n",
    "        out = self.w_2(out)\n",
    "            \n",
    "        return out"
   ]
  },
  {
   "cell_type": "markdown",
   "metadata": {
    "id": "JxmYVNrmkFjA"
   },
   "source": [
    "### B. Encoder/Decoder  정의"
   ]
  },
  {
   "cell_type": "markdown",
   "metadata": {
    "id": "VkB0slGwkFg7"
   },
   "source": [
    "#### Encoder Layer"
   ]
  },
  {
   "cell_type": "code",
   "execution_count": 249,
   "metadata": {
    "execution": {
     "iopub.execute_input": "2021-05-04T11:05:01.575724Z",
     "iopub.status.busy": "2021-05-04T11:05:01.575445Z",
     "iopub.status.idle": "2021-05-04T11:05:01.582725Z",
     "shell.execute_reply": "2021-05-04T11:05:01.581834Z",
     "shell.execute_reply.started": "2021-05-04T11:05:01.575692Z"
    },
    "id": "W1ZCAAVXkFem",
    "tags": []
   },
   "outputs": [],
   "source": [
    "class EncoderLayer(tf.keras.layers.Layer):\n",
    "    def __init__(self, d_model, n_heads, d_ff, dropout):\n",
    "        super(EncoderLayer, self).__init__()\n",
    "\n",
    "        self.enc_self_attn = MultiHeadAttention(d_model, n_heads)\n",
    "        self.ffn = PoswiseFeedForwardNet(d_model, d_ff)\n",
    "\n",
    "        self.norm_1 = tf.keras.layers.LayerNormalization(epsilon=1e-6)\n",
    "        self.norm_2 = tf.keras.layers.LayerNormalization(epsilon=1e-6)\n",
    "\n",
    "        self.do = tf.keras.layers.Dropout(dropout)\n",
    "        \n",
    "    def call(self, x, mask):\n",
    "\n",
    "        \"\"\"\n",
    "        Multi-Head Attention\n",
    "        \"\"\"\n",
    "        residual = x\n",
    "        out = self.norm_1(x)\n",
    "        out, enc_attn = self.enc_self_attn(out, out, out, mask)\n",
    "        out = self.do(out)\n",
    "        out += residual\n",
    "        \n",
    "        \"\"\"\n",
    "        Position-Wise Feed Forward Network\n",
    "        \"\"\"\n",
    "        residual = out\n",
    "        out = self.norm_2(out)\n",
    "        out = self.ffn(out)\n",
    "        out = self.do(out)\n",
    "        out += residual\n",
    "        \n",
    "        return out, enc_attn"
   ]
  },
  {
   "cell_type": "markdown",
   "metadata": {
    "id": "8ttKv8dMlIcb"
   },
   "source": [
    "#### Encoder"
   ]
  },
  {
   "cell_type": "code",
   "execution_count": 250,
   "metadata": {
    "execution": {
     "iopub.execute_input": "2021-05-04T11:05:01.877398Z",
     "iopub.status.busy": "2021-05-04T11:05:01.877065Z",
     "iopub.status.idle": "2021-05-04T11:05:01.883959Z",
     "shell.execute_reply": "2021-05-04T11:05:01.883236Z",
     "shell.execute_reply.started": "2021-05-04T11:05:01.877359Z"
    },
    "id": "7DbTkaOQlK5x",
    "tags": []
   },
   "outputs": [],
   "source": [
    "class Encoder(tf.keras.Model):\n",
    "    def __init__(self,\n",
    "                 n_layers,\n",
    "                 d_model,\n",
    "                 n_heads,\n",
    "                 d_ff,\n",
    "                 dropout):\n",
    "        super(Encoder, self).__init__()\n",
    "        self.n_layers = n_layers\n",
    "        self.enc_layers = [EncoderLayer(d_model, n_heads, d_ff, dropout) \n",
    "                        for _ in range(n_layers)]\n",
    "    \n",
    "        self.do = tf.keras.layers.Dropout(dropout)\n",
    "        \n",
    "    def call(self, x, mask):\n",
    "        out = x\n",
    "    \n",
    "        enc_attns = list()\n",
    "        for i in range(self.n_layers):\n",
    "            out, enc_attn = self.enc_layers[i](out, mask)\n",
    "            enc_attns.append(enc_attn)\n",
    "        \n",
    "        return out, enc_attns"
   ]
  },
  {
   "cell_type": "markdown",
   "metadata": {
    "id": "2Hdw-4DxkFco"
   },
   "source": [
    "#### Decoder Layer"
   ]
  },
  {
   "cell_type": "code",
   "execution_count": 272,
   "metadata": {
    "execution": {
     "iopub.execute_input": "2021-05-04T11:11:13.299752Z",
     "iopub.status.busy": "2021-05-04T11:11:13.299514Z",
     "iopub.status.idle": "2021-05-04T11:11:13.307454Z",
     "shell.execute_reply": "2021-05-04T11:11:13.306689Z",
     "shell.execute_reply.started": "2021-05-04T11:11:13.299724Z"
    },
    "id": "v2xMXX4MkFal",
    "tags": []
   },
   "outputs": [],
   "source": [
    "class DecoderLayer(tf.keras.layers.Layer):\n",
    "    def __init__(self, d_model, num_heads, d_ff, dropout):\n",
    "        super(DecoderLayer, self).__init__()\n",
    "\n",
    "        self.dec_self_attn = MultiHeadAttention(d_model, num_heads)\n",
    "        self.enc_dec_attn = MultiHeadAttention(d_model, num_heads)\n",
    "\n",
    "        self.ffn = PoswiseFeedForwardNet(d_model, d_ff)\n",
    "\n",
    "        self.norm_1 = tf.keras.layers.LayerNormalization(epsilon=1e-6)\n",
    "        self.norm_2 = tf.keras.layers.LayerNormalization(epsilon=1e-6)\n",
    "        self.norm_3 = tf.keras.layers.LayerNormalization(epsilon=1e-6)\n",
    "\n",
    "        self.do = tf.keras.layers.Dropout(dropout)\n",
    "\n",
    "    def call(self, x, enc_out, causality_mask, padding_mask):\n",
    "\n",
    "        \"\"\"\n",
    "        Masked Multi-Head Attention\n",
    "        \"\"\"\n",
    "        residual = x\n",
    "        out = self.norm_1(x)\n",
    "        out, dec_attn = self.dec_self_attn(out, out, out, causality_mask)\n",
    "        out = self.do(out)\n",
    "        out += residual\n",
    "\n",
    "        \"\"\"\n",
    "        Multi-Head Attention\n",
    "        \"\"\"\n",
    "        residual = out\n",
    "        out = self.norm_2(out)\n",
    "        out, dec_enc_attn = self.enc_dec_attn(out, enc_out, enc_out, padding_mask)\n",
    "        out = self.do(out)\n",
    "        out += residual\n",
    "\n",
    "        \"\"\"\n",
    "        Position-Wise Feed Forward Network\n",
    "        \"\"\"\n",
    "        residual = out\n",
    "        out = self.norm_3(out)\n",
    "        out = self.ffn(out)\n",
    "        out = self.do(out)\n",
    "        out += residual\n",
    "\n",
    "        return out, dec_attn, dec_enc_attn"
   ]
  },
  {
   "cell_type": "markdown",
   "metadata": {
    "id": "9zbMn-YulM21"
   },
   "source": [
    "#### Decoder"
   ]
  },
  {
   "cell_type": "code",
   "execution_count": 273,
   "metadata": {
    "execution": {
     "iopub.execute_input": "2021-05-04T11:11:15.226385Z",
     "iopub.status.busy": "2021-05-04T11:11:15.226083Z",
     "iopub.status.idle": "2021-05-04T11:11:15.233285Z",
     "shell.execute_reply": "2021-05-04T11:11:15.232576Z",
     "shell.execute_reply.started": "2021-05-04T11:11:15.226351Z"
    },
    "id": "I8aTFOWKlOZG",
    "tags": []
   },
   "outputs": [],
   "source": [
    "class Decoder(tf.keras.Model):\n",
    "    def __init__(self,\n",
    "                 n_layers,\n",
    "                 d_model,\n",
    "                 n_heads,\n",
    "                 d_ff,\n",
    "                 dropout):\n",
    "        super(Decoder, self).__init__()\n",
    "        self.n_layers = n_layers\n",
    "        self.dec_layers = [DecoderLayer(d_model, n_heads, d_ff, dropout) \n",
    "                            for _ in range(n_layers)]\n",
    "                            \n",
    "                            \n",
    "    def call(self, x, enc_out, causality_mask, padding_mask):\n",
    "        out = x\n",
    "    \n",
    "        dec_attns = list()\n",
    "        dec_enc_attns = list()\n",
    "        for i in range(self.n_layers):\n",
    "            out, dec_attn, dec_enc_attn = \\\n",
    "            self.dec_layers[i](out, enc_out, causality_mask, padding_mask)\n",
    "\n",
    "            dec_attns.append(dec_attn)\n",
    "            dec_enc_attns.append(dec_enc_attn)\n",
    "\n",
    "        return out, dec_attns, dec_enc_attns"
   ]
  },
  {
   "cell_type": "markdown",
   "metadata": {
    "id": "ePZjidGgkFYf"
   },
   "source": [
    "### C. Transformer 정의"
   ]
  },
  {
   "cell_type": "code",
   "execution_count": 274,
   "metadata": {
    "execution": {
     "iopub.execute_input": "2021-05-04T11:11:15.508845Z",
     "iopub.status.busy": "2021-05-04T11:11:15.508573Z",
     "iopub.status.idle": "2021-05-04T11:11:15.518916Z",
     "shell.execute_reply": "2021-05-04T11:11:15.518044Z",
     "shell.execute_reply.started": "2021-05-04T11:11:15.508805Z"
    },
    "id": "rzGAP62dkFWN",
    "tags": []
   },
   "outputs": [],
   "source": [
    "class Transformer(tf.keras.Model):\n",
    "    def __init__(self,\n",
    "                n_layers,\n",
    "                d_model,\n",
    "                n_heads,\n",
    "                d_ff,\n",
    "                src_vocab_size,\n",
    "                tgt_vocab_size,\n",
    "                pos_len,\n",
    "                dropout=0.2,\n",
    "                shared=True):\n",
    "        super(Transformer, self).__init__()\n",
    "        self.d_model = tf.cast(d_model, tf.float32)\n",
    "\n",
    "        self.enc_emb = tf.keras.layers.Embedding(src_vocab_size, d_model)\n",
    "        self.dec_emb = tf.keras.layers.Embedding(tgt_vocab_size, d_model)\n",
    "\n",
    "        self.pos_encoding = positional_encoding(pos_len, d_model)\n",
    "        self.do = tf.keras.layers.Dropout(dropout)\n",
    "\n",
    "        self.encoder = Encoder(n_layers, d_model, n_heads, d_ff, dropout)\n",
    "        self.decoder = Decoder(n_layers, d_model, n_heads, d_ff, dropout)\n",
    "\n",
    "        self.fc = tf.keras.layers.Dense(tgt_vocab_size)\n",
    "\n",
    "        self.shared = shared\n",
    "\n",
    "        if shared: self.fc.set_weights(tf.transpose(self.dec_emb.weights))\n",
    "\n",
    "    def embedding(self, emb, x):\n",
    "        seq_len = x.shape[1]\n",
    "        out = emb(x)\n",
    "\n",
    "        if self.shared: out *= tf.math.sqrt(self.d_model)\n",
    "\n",
    "        out += self.pos_encoding[np.newaxis, ...][:, :seq_len, :]\n",
    "        out = self.do(out)\n",
    "\n",
    "        return out\n",
    "\n",
    "\n",
    "    def call(self, enc_in, dec_in, enc_mask, causality_mask, dec_mask):\n",
    "        enc_in = self.embedding(self.enc_emb, enc_in)\n",
    "        dec_in = self.embedding(self.dec_emb, dec_in)\n",
    "\n",
    "        enc_out, enc_attns = self.encoder(enc_in, enc_mask)\n",
    "\n",
    "        dec_out, dec_attns, dec_enc_attns = \\\n",
    "            self.decoder(dec_in, enc_out, causality_mask, dec_mask)\n",
    "\n",
    "        logits = self.fc(dec_out)\n",
    "\n",
    "        return logits, enc_attns, dec_attns, dec_enc_attns"
   ]
  },
  {
   "cell_type": "markdown",
   "metadata": {
    "id": "AJwXtdZIkFUQ"
   },
   "source": [
    "### D. Masking"
   ]
  },
  {
   "cell_type": "code",
   "execution_count": 275,
   "metadata": {
    "execution": {
     "iopub.execute_input": "2021-05-04T11:11:15.848187Z",
     "iopub.status.busy": "2021-05-04T11:11:15.847891Z",
     "iopub.status.idle": "2021-05-04T11:11:15.852894Z",
     "shell.execute_reply": "2021-05-04T11:11:15.851758Z",
     "shell.execute_reply.started": "2021-05-04T11:11:15.848152Z"
    },
    "id": "QLDs7GTAkFSS",
    "tags": []
   },
   "outputs": [],
   "source": [
    "def generate_padding_mask(seq):\n",
    "    seq = tf.cast(tf.math.equal(seq, 0), tf.float32)\n",
    "    return seq[:, tf.newaxis, tf.newaxis, :]"
   ]
  },
  {
   "cell_type": "code",
   "execution_count": 276,
   "metadata": {
    "execution": {
     "iopub.execute_input": "2021-05-04T11:11:16.005851Z",
     "iopub.status.busy": "2021-05-04T11:11:16.005603Z",
     "iopub.status.idle": "2021-05-04T11:11:16.009757Z",
     "shell.execute_reply": "2021-05-04T11:11:16.008896Z",
     "shell.execute_reply.started": "2021-05-04T11:11:16.005822Z"
    },
    "id": "W6_QdLgZkFP6",
    "tags": []
   },
   "outputs": [],
   "source": [
    "def generate_causality_mask(src_len, tgt_len):\n",
    "    mask = 1 - np.cumsum(np.eye(src_len, tgt_len), 0)\n",
    "    return tf.cast(mask, tf.float32)"
   ]
  },
  {
   "cell_type": "code",
   "execution_count": 277,
   "metadata": {
    "execution": {
     "iopub.execute_input": "2021-05-04T11:11:16.160300Z",
     "iopub.status.busy": "2021-05-04T11:11:16.159961Z",
     "iopub.status.idle": "2021-05-04T11:11:16.166202Z",
     "shell.execute_reply": "2021-05-04T11:11:16.165264Z",
     "shell.execute_reply.started": "2021-05-04T11:11:16.160256Z"
    },
    "id": "COXal3SNkFON",
    "tags": []
   },
   "outputs": [],
   "source": [
    "def generate_masks(src, tgt):\n",
    "    enc_mask = generate_padding_mask(src)\n",
    "    dec_mask = generate_padding_mask(src)\n",
    "\n",
    "    dec_enc_causality_mask = generate_causality_mask(tgt.shape[1], src.shape[1])\n",
    "    dec_enc_mask = tf.maximum(enc_mask, dec_enc_causality_mask)\n",
    "\n",
    "    dec_causality_mask = generate_causality_mask(tgt.shape[1], tgt.shape[1])\n",
    "    dec_mask = tf.maximum(dec_mask, dec_causality_mask)\n",
    "\n",
    "    return enc_mask, dec_enc_mask, dec_mask"
   ]
  },
  {
   "cell_type": "code",
   "execution_count": 278,
   "metadata": {
    "execution": {
     "iopub.execute_input": "2021-05-04T11:11:16.324722Z",
     "iopub.status.busy": "2021-05-04T11:11:16.324375Z",
     "iopub.status.idle": "2021-05-04T11:11:16.330398Z",
     "shell.execute_reply": "2021-05-04T11:11:16.329134Z",
     "shell.execute_reply.started": "2021-05-04T11:11:16.324681Z"
    },
    "tags": []
   },
   "outputs": [],
   "source": [
    "def generate_masks(inp, tar):\n",
    "    enc_padding_mask = generate_padding_mask(inp)\n",
    "    dec_padding_mask = generate_padding_mask(inp)\n",
    "\n",
    "    look_ahead_mask = create_look_ahead_mask(tf.shape(tar)[1])\n",
    "    dec_target_padding_mask = generate_padding_mask(tar)\n",
    "    combined_mask = tf.maximum(dec_target_padding_mask, look_ahead_mask)\n",
    "\n",
    "    return enc_padding_mask, combined_mask, dec_padding_mask"
   ]
  },
  {
   "cell_type": "markdown",
   "metadata": {
    "id": "fcd7dfSegu7N"
   },
   "source": [
    "### E. Learning Rate Scheduler"
   ]
  },
  {
   "cell_type": "code",
   "execution_count": 279,
   "metadata": {
    "execution": {
     "iopub.execute_input": "2021-05-04T11:11:16.865591Z",
     "iopub.status.busy": "2021-05-04T11:11:16.865331Z",
     "iopub.status.idle": "2021-05-04T11:11:16.871198Z",
     "shell.execute_reply": "2021-05-04T11:11:16.870361Z",
     "shell.execute_reply.started": "2021-05-04T11:11:16.865562Z"
    },
    "id": "Xn6sYR_djmwG",
    "tags": []
   },
   "outputs": [],
   "source": [
    "class LearningRateScheduler(tf.keras.optimizers.schedules.LearningRateSchedule):\n",
    "    def __init__(self, d_model, warmup_steps=4000):\n",
    "        super(LearningRateScheduler, self).__init__()\n",
    "        self.d_model = d_model\n",
    "        self.warmup_steps = warmup_steps\n",
    "    \n",
    "    def __call__(self, step):\n",
    "        arg1 = step ** -0.5\n",
    "        arg2 = step * (self.warmup_steps ** -1.5)\n",
    "        \n",
    "        return (self.d_model ** -0.5) * tf.math.minimum(arg1, arg2)"
   ]
  },
  {
   "cell_type": "markdown",
   "metadata": {
    "id": "kIz8UAlyjnRP"
   },
   "source": [
    "## Step 4. 훈련하기\n",
    "---"
   ]
  },
  {
   "cell_type": "markdown",
   "metadata": {
    "id": "SkpHuSjPjnZi"
   },
   "source": [
    "### A. Transformer"
   ]
  },
  {
   "cell_type": "code",
   "execution_count": 292,
   "metadata": {
    "execution": {
     "iopub.execute_input": "2021-05-04T11:11:58.659176Z",
     "iopub.status.busy": "2021-05-04T11:11:58.658928Z",
     "iopub.status.idle": "2021-05-04T11:11:59.076876Z",
     "shell.execute_reply": "2021-05-04T11:11:59.076209Z",
     "shell.execute_reply.started": "2021-05-04T11:11:58.659148Z"
    },
    "id": "eNupXZuijnhA",
    "tags": []
   },
   "outputs": [],
   "source": [
    "transformer = Transformer(n_layers=2, \n",
    "                          d_model=512, \n",
    "                          n_heads=8, \n",
    "                          d_ff=2048, \n",
    "                          src_vocab_size=SRC_VOCAB_SIZE, \n",
    "                          tgt_vocab_size=TGT_VOCAB_SIZE, \n",
    "                          pos_len=256, \n",
    "                          dropout=0.1)"
   ]
  },
  {
   "cell_type": "markdown",
   "metadata": {
    "id": "pfcKURfXmGE7"
   },
   "source": [
    "### B. Optimizer"
   ]
  },
  {
   "cell_type": "markdown",
   "metadata": {
    "id": "qYbtiEZxr0RG"
   },
   "source": [
    "![optimizer](https://i.ibb.co/0Gr6Nqj/2021-05-04-09-02-14.png)"
   ]
  },
  {
   "cell_type": "code",
   "execution_count": 293,
   "metadata": {
    "execution": {
     "iopub.execute_input": "2021-05-04T11:11:59.126380Z",
     "iopub.status.busy": "2021-05-04T11:11:59.126044Z",
     "iopub.status.idle": "2021-05-04T11:11:59.131465Z",
     "shell.execute_reply": "2021-05-04T11:11:59.130404Z",
     "shell.execute_reply.started": "2021-05-04T11:11:59.126338Z"
    },
    "id": "8A7jA7qNmGCr",
    "tags": []
   },
   "outputs": [],
   "source": [
    "learning_rate = LearningRateScheduler(512)\n",
    "optimizer = tf.keras.optimizers.Adam(learning_rate,\n",
    "                                     beta_1=0.9,\n",
    "                                     beta_2=0.98, \n",
    "                                     epsilon=1e-9)"
   ]
  },
  {
   "cell_type": "markdown",
   "metadata": {
    "id": "hPnd40GNmGAb"
   },
   "source": [
    "### C. Loss function"
   ]
  },
  {
   "cell_type": "code",
   "execution_count": 294,
   "metadata": {
    "execution": {
     "iopub.execute_input": "2021-05-04T11:11:59.372048Z",
     "iopub.status.busy": "2021-05-04T11:11:59.371707Z",
     "iopub.status.idle": "2021-05-04T11:11:59.378451Z",
     "shell.execute_reply": "2021-05-04T11:11:59.377488Z",
     "shell.execute_reply.started": "2021-05-04T11:11:59.372006Z"
    },
    "id": "pZ-T0q2AmF-K",
    "tags": []
   },
   "outputs": [],
   "source": [
    "loss_object = tf.keras.losses.SparseCategoricalCrossentropy(\n",
    "    from_logits=True, reduction='none')\n",
    "\n",
    "def loss_function(real, pred):\n",
    "    mask = tf.math.logical_not(tf.math.equal(real, 0))\n",
    "    loss_ = loss_object(real, pred)\n",
    "\n",
    "    # Masking 되지 않은 입력의 개수로 Scaling하는 과정\n",
    "    mask = tf.cast(mask, dtype=loss_.dtype)\n",
    "    loss_ *= mask\n",
    "\n",
    "    return tf.reduce_sum(loss_)/tf.reduce_sum(mask)"
   ]
  },
  {
   "cell_type": "markdown",
   "metadata": {
    "id": "b4HgOf-bmF8B"
   },
   "source": [
    "### D. Train step"
   ]
  },
  {
   "cell_type": "code",
   "execution_count": 295,
   "metadata": {
    "execution": {
     "iopub.execute_input": "2021-05-04T11:11:59.682235Z",
     "iopub.status.busy": "2021-05-04T11:11:59.681993Z",
     "iopub.status.idle": "2021-05-04T11:11:59.688200Z",
     "shell.execute_reply": "2021-05-04T11:11:59.687358Z",
     "shell.execute_reply.started": "2021-05-04T11:11:59.682206Z"
    },
    "id": "ZlZ97HUysONd",
    "tags": []
   },
   "outputs": [],
   "source": [
    "# Train Step 함수 정의\n",
    "\n",
    "@tf.function()\n",
    "def train_step(src, tgt, model, optimizer):\n",
    "    gold = tgt[:, 1:]\n",
    "        \n",
    "    enc_mask, dec_enc_mask, dec_mask = generate_masks(src, tgt)\n",
    "\n",
    "    # 계산된 loss에 tf.GradientTape()를 적용해 학습을 진행합니다.\n",
    "    with tf.GradientTape() as tape:\n",
    "        predictions, enc_attns, dec_attns, dec_enc_attns = \\\n",
    "        model(src, tgt, enc_mask, dec_enc_mask, dec_mask)\n",
    "        loss = loss_function(gold, predictions[:, :-1])\n",
    "\n",
    "    # 최종적으로 optimizer.apply_gradients()가 사용됩니다. \n",
    "    gradients = tape.gradient(loss, model.trainable_variables)\n",
    "    optimizer.apply_gradients(zip(gradients, model.trainable_variables))\n",
    "    \n",
    "    return loss, enc_attns, dec_attns, dec_enc_attns"
   ]
  },
  {
   "cell_type": "markdown",
   "metadata": {
    "id": "Guz05-11sOLU"
   },
   "source": [
    "### E. Train"
   ]
  },
  {
   "cell_type": "code",
   "execution_count": 296,
   "metadata": {
    "execution": {
     "iopub.execute_input": "2021-05-04T11:12:00.015246Z",
     "iopub.status.busy": "2021-05-04T11:12:00.014981Z",
     "iopub.status.idle": "2021-05-04T11:12:00.025129Z",
     "shell.execute_reply": "2021-05-04T11:12:00.024116Z",
     "shell.execute_reply.started": "2021-05-04T11:12:00.015208Z"
    },
    "id": "4FaB35e0tpz-",
    "tags": []
   },
   "outputs": [],
   "source": [
    "# Attention 시각화 함수\n",
    "\n",
    "def visualize_attention(src, tgt, enc_attns, dec_attns, dec_enc_attns):\n",
    "    def draw(data, ax, x=\"auto\", y=\"auto\"):\n",
    "        import seaborn\n",
    "        seaborn.heatmap(data, \n",
    "                        square=True,\n",
    "                        vmin=0.0, vmax=1.0, \n",
    "                        cbar=True, cbar_kws={\"shrink\": .5},\n",
    "                        ax=ax,\n",
    "                        xticklabels=x,\n",
    "                        yticklabels=y,\n",
    "                        cmap='GnBu')\n",
    "        \n",
    "    for layer in range(0, 2, 1):\n",
    "        fig, axs = plt.subplots(1, 4, figsize=(20, 10))\n",
    "        print(\"Encoder Layer\", layer + 1)\n",
    "        for h in range(4):\n",
    "            draw(enc_attns[layer][0, h, :len(src), :len(src)], axs[h], src, src)\n",
    "        plt.show()\n",
    "        \n",
    "    for layer in range(0, 2, 1):\n",
    "        fig, axs = plt.subplots(1, 4, figsize=(20, 10))\n",
    "        print(\"Decoder Self Layer\", layer+1)\n",
    "        for h in range(4):\n",
    "            draw(dec_attns[layer][0, h, :len(tgt), :len(tgt)], axs[h], tgt, tgt)\n",
    "        plt.show()\n",
    "\n",
    "        print(\"Decoder Src Layer\", layer+1)\n",
    "        fig, axs = plt.subplots(1, 4, figsize=(20, 10))\n",
    "        for h in range(4):\n",
    "            draw(dec_enc_attns[layer][0, h, :len(tgt), :len(src)], axs[h], src, tgt)\n",
    "        plt.show()"
   ]
  },
  {
   "cell_type": "code",
   "execution_count": 297,
   "metadata": {
    "execution": {
     "iopub.execute_input": "2021-05-04T11:12:00.181627Z",
     "iopub.status.busy": "2021-05-04T11:12:00.181371Z",
     "iopub.status.idle": "2021-05-04T11:12:00.190932Z",
     "shell.execute_reply": "2021-05-04T11:12:00.190080Z",
     "shell.execute_reply.started": "2021-05-04T11:12:00.181600Z"
    },
    "id": "0CKcGTqrMWUF",
    "tags": []
   },
   "outputs": [],
   "source": [
    "# 번역 생성 함수\n",
    "\n",
    "def evaluate(sentence, model, src_tokenizer, tgt_tokenizer):\n",
    "    sentence = preprocess_sentence(sentence)\n",
    "\n",
    "    pieces = src_tokenizer.encode_as_pieces(sentence)\n",
    "    tokens = src_tokenizer.encode_as_ids(sentence)\n",
    "\n",
    "    _input = tf.keras.preprocessing.sequence.pad_sequences([tokens],\n",
    "                                                           maxlen=enc_train.shape[-1],\n",
    "                                                           padding='post')\n",
    "    ids = []\n",
    "    \n",
    "    output = tf.convert_to_tensor([tgt_tokenizer.bos_id()] + [tgt_tokenizer.pad_id()] * (enc_train.shape[-1] - 1), tf.int64)\n",
    "    output = tf.expand_dims(output, 0)\n",
    "#     output = tf.expand_dims([tgt_tokenizer.bos_id()], 0)\n",
    "    \n",
    "    for i in range(dec_train.shape[-1]):\n",
    "        enc_padding_mask, combined_mask, dec_padding_mask = generate_masks(\n",
    "            _input, output)\n",
    "        \n",
    "        predictions, enc_attns, dec_attns, dec_enc_attns = model(_input, \n",
    "                                                                 output,\n",
    "                                                                 enc_padding_mask,\n",
    "                                                                 combined_mask,\n",
    "                                                                 dec_padding_mask)\n",
    "        \n",
    "        predictions = predictions[:, -1:, :]\n",
    "        predicted_id = tf.argmax(predictions, axis=-1).numpy().item()\n",
    "\n",
    "        if tgt_tokenizer.eos_id() == predicted_id:\n",
    "            result = tgt_tokenizer.decode_ids(ids)\n",
    "            return pieces, result, enc_attns, dec_attns, dec_enc_attns\n",
    "\n",
    "        ids.append(predicted_id)\n",
    "        output = tf.convert_to_tensor([tgt_tokenizer.bos_id()] +\n",
    "                                      ids + \n",
    "                                      [tgt_tokenizer.pad_id()] * (enc_train.shape[-1] - 1 - len(ids)), \n",
    "                                      tf.int64)\n",
    "        output = tf.expand_dims(output, 0)\n",
    "\n",
    "    result = tgt_tokenizer.decode_ids(ids)\n",
    "\n",
    "    return pieces, result, enc_attns, dec_attns, dec_enc_attns"
   ]
  },
  {
   "cell_type": "code",
   "execution_count": 298,
   "metadata": {
    "execution": {
     "iopub.execute_input": "2021-05-04T11:12:00.349216Z",
     "iopub.status.busy": "2021-05-04T11:12:00.348913Z",
     "iopub.status.idle": "2021-05-04T11:12:00.354241Z",
     "shell.execute_reply": "2021-05-04T11:12:00.353244Z",
     "shell.execute_reply.started": "2021-05-04T11:12:00.349185Z"
    },
    "id": "WFBGDxe0ttLv",
    "tags": []
   },
   "outputs": [],
   "source": [
    "# 번역 생성 및 Attention 시각화 결합\n",
    "def translate(sentence, model, src_tokenizer, tgt_tokenizer, plot_attention=False):\n",
    "    pieces, result, enc_attns, dec_attns, dec_enc_attns = \\\n",
    "        evaluate(sentence, model, src_tokenizer, tgt_tokenizer)\n",
    "    \n",
    "    print('🇰🇷 : %s' % (sentence))\n",
    "    print('🇺🇸 : {}'.format(result))\n",
    "\n",
    "    if plot_attention:\n",
    "        visualize_attention(pieces, result.split(), enc_attns, dec_attns, dec_enc_attns)"
   ]
  },
  {
   "cell_type": "code",
   "execution_count": 299,
   "metadata": {
    "colab": {
     "base_uri": "https://localhost:8080/",
     "height": 1000,
     "referenced_widgets": [
      "1f0922f2135943a7a3aaa6b621bf66f7",
      "66a319ceded64174a91498ad9ce4f9cc",
      "8b853b425f83449a9f6246b78cd3239a",
      "671e736f373449d083a2d5b8b72f18d6",
      "2f4788aeb3464074b26ea1542ff44d45",
      "b423e1b736074c2392cb84cdd7ad5952",
      "b031bcc934e149dfa21387a8a9f30111",
      "d992df4d7c1a462087344c971a01c04a"
     ]
    },
    "execution": {
     "iopub.execute_input": "2021-05-04T11:12:00.538094Z",
     "iopub.status.busy": "2021-05-04T11:12:00.537824Z",
     "iopub.status.idle": "2021-05-04T11:12:00.542461Z",
     "shell.execute_reply": "2021-05-04T11:12:00.541381Z",
     "shell.execute_reply.started": "2021-05-04T11:12:00.538064Z"
    },
    "id": "9WjHIS7KsOJB",
    "outputId": "9cc4285a-ec31-4648-e8d7-945d5302a012",
    "tags": []
   },
   "outputs": [],
   "source": [
    "# 학습\n",
    "from tqdm.notebook import tqdm\n",
    "\n",
    "BATCH_SIZE = 256\n",
    "EPOCHS = 20\n",
    "\n",
    "examples = [\n",
    "    \"오바마는 대통령이다.\",\n",
    "    \"시민들은 도시 속에 산다.\",\n",
    "    \"커피는 필요 없다.\",\n",
    "    \"일곱 명의 사망자가 발생했다.\"\n",
    "]"
   ]
  },
  {
   "cell_type": "code",
   "execution_count": 300,
   "metadata": {
    "execution": {
     "iopub.execute_input": "2021-05-04T11:12:00.667744Z",
     "iopub.status.busy": "2021-05-04T11:12:00.667524Z",
     "iopub.status.idle": "2021-05-04T11:12:00.675098Z",
     "shell.execute_reply": "2021-05-04T11:12:00.674126Z",
     "shell.execute_reply.started": "2021-05-04T11:12:00.667718Z"
    },
    "id": "wanOAF9rmF55",
    "tags": []
   },
   "outputs": [],
   "source": [
    "def train(transformer, optimizer, enc_train, dec_train, \n",
    "          enc_tokenizer, dec_tokenizer,\n",
    "          examples, EPOCHS=20, BATCH_SIZE=128):\n",
    "    \n",
    "    losses = []\n",
    "    \n",
    "    for epoch in range(EPOCHS):\n",
    "        total_loss = 0\n",
    "\n",
    "        idx_list = list(range(0, enc_train.shape[0], BATCH_SIZE))\n",
    "        random.shuffle(idx_list)\n",
    "        t = tqdm(idx_list)\n",
    "\n",
    "        for (batch, idx) in enumerate(t):\n",
    "            batch_loss, enc_attns, dec_attns, dec_enc_attns = train_step(\n",
    "                enc_train[idx:idx+BATCH_SIZE],\n",
    "                dec_train[idx:idx+BATCH_SIZE],\n",
    "                transformer,\n",
    "                optimizer)\n",
    "\n",
    "            total_loss += batch_loss\n",
    "\n",
    "            t.set_description_str('Epoch %2d' % (epoch + 1))\n",
    "            t.set_postfix_str('Loss %.4f' % (total_loss.numpy() / (batch + 1)))\n",
    "            \n",
    "        for i, example in enumerate(examples):\n",
    "            if (epoch + 1) % 10 == 0 and i == 0:\n",
    "                translate(example, transformer, enc_tokenizer, dec_tokenizer, plot_attention=True)\n",
    "            else:\n",
    "                translate(example, transformer, enc_tokenizer, dec_tokenizer)\n",
    "            \n",
    "            \n",
    "        losses.append(total_loss)\n",
    "        \n",
    "    return losses"
   ]
  },
  {
   "cell_type": "code",
   "execution_count": 301,
   "metadata": {
    "execution": {
     "iopub.execute_input": "2021-05-04T11:12:01.258497Z",
     "iopub.status.busy": "2021-05-04T11:12:01.258233Z",
     "iopub.status.idle": "2021-05-04T11:12:01.263134Z",
     "shell.execute_reply": "2021-05-04T11:12:01.262191Z",
     "shell.execute_reply.started": "2021-05-04T11:12:01.258469Z"
    },
    "tags": []
   },
   "outputs": [],
   "source": [
    "def show_train_loss(losses):\n",
    "    fig, ax = plt.subplots(1, 1, figsize=(10, 5))\n",
    "    ax.plot(losses)\n",
    "    ax.set_title('Traina loss', fontsize=15)\n",
    "    plt.show()"
   ]
  },
  {
   "cell_type": "markdown",
   "metadata": {},
   "source": [
    "- [TRT] EPOCH = 20"
   ]
  },
  {
   "cell_type": "code",
   "execution_count": 306,
   "metadata": {
    "execution": {
     "iopub.execute_input": "2021-05-04T11:13:02.030769Z",
     "iopub.status.busy": "2021-05-04T11:13:02.030432Z",
     "iopub.status.idle": "2021-05-04T12:10:09.535601Z",
     "shell.execute_reply": "2021-05-04T12:10:09.535026Z",
     "shell.execute_reply.started": "2021-05-04T11:13:02.030728Z"
    },
    "tags": []
   },
   "outputs": [
    {
     "data": {
      "application/vnd.jupyter.widget-view+json": {
       "model_id": "76ec6bdb10ee497fb0641c57c327fb75",
       "version_major": 2,
       "version_minor": 0
      },
      "text/plain": [
       "  0%|          | 0/252 [00:00<?, ?it/s]"
      ]
     },
     "metadata": {},
     "output_type": "display_data"
    },
    {
     "name": "stdout",
     "output_type": "stream",
     "text": [
      "🇰🇷 : 오바마는 대통령이다.\n",
      "🇺🇸 : the the the . . . . . . . . . . . . . . . . . . . . . . . . . . . . . . . . . . . . . . . . . . . . . .\n",
      "🇰🇷 : 시민들은 도시 속에 산다.\n",
      "🇺🇸 : the the the the . . . . . . . . . . . . . . . . . . . . . . . . . . . . . . . . . . . . . . . . . . . . .\n",
      "🇰🇷 : 커피는 필요 없다.\n",
      "🇺🇸 : the the the . . . . . . . . . . . . . . . . . . . . . . . . . . . . . . . . . . . . . . . . . . . . . .\n",
      "🇰🇷 : 일곱 명의 사망자가 발생했다.\n",
      "🇺🇸 : the the the . . . . . . . . . . . . . . . . . . . . . . . . . . . . . . . . . . . . . . . . . . . . . .\n"
     ]
    },
    {
     "data": {
      "application/vnd.jupyter.widget-view+json": {
       "model_id": "1ca8e6771d7f442384efbc9e2907d48d",
       "version_major": 2,
       "version_minor": 0
      },
      "text/plain": [
       "  0%|          | 0/252 [00:00<?, ?it/s]"
      ]
     },
     "metadata": {},
     "output_type": "display_data"
    },
    {
     "name": "stdout",
     "output_type": "stream",
     "text": [
      "🇰🇷 : 오바마는 대통령이다.\n",
      "🇺🇸 : the obama obama obama . . . . . . . . . . . . . . . . . . . . . . . . . . . . . . . . . . . . . . . . . . . . .\n",
      "🇰🇷 : 시민들은 도시 속에 산다.\n",
      "🇺🇸 : the the the the the . . . . . . . . . . . . . . . . . . . . . . . . . . . . . . . . . . . . . . . . . . . .\n",
      "🇰🇷 : 커피는 필요 없다.\n",
      "🇺🇸 : the the . . . . . . . . . . . . . . . . . . . . . . . . . . . . . . . . . . . . . . . . . . . . . . .\n",
      "🇰🇷 : 일곱 명의 사망자가 발생했다.\n",
      "🇺🇸 : the the the the the the . . . . . . . . . . . . . . . . . . . . . . . . . . . . . . . . . . . . . . . . . . .\n"
     ]
    },
    {
     "data": {
      "application/vnd.jupyter.widget-view+json": {
       "model_id": "8288649f427a4581b06bb24ed256f743",
       "version_major": 2,
       "version_minor": 0
      },
      "text/plain": [
       "  0%|          | 0/252 [00:00<?, ?it/s]"
      ]
     },
     "metadata": {},
     "output_type": "display_data"
    },
    {
     "name": "stdout",
     "output_type": "stream",
     "text": [
      "🇰🇷 : 오바마는 대통령이다.\n",
      "🇺🇸 : obama obama obama obama obama obama obama obama obama obama obama obama obama obama obama obama obama obama obama obama obama\n",
      "🇰🇷 : 시민들은 도시 속에 산다.\n",
      "🇺🇸 : the the the the the the . . . . . . . . . . . . . . . . . . . . . . . . . . . . . . . . . . . . . . . . . . .\n",
      "🇰🇷 : 커피는 필요 없다.\n",
      "🇺🇸 : the the the . . . . . . . . . . . . . . . . . . . . . . . . . . . . . . . . . . . . . . . . . . . . . .\n",
      "🇰🇷 : 일곱 명의 사망자가 발생했다.\n",
      "🇺🇸 : the the the the the the the the saturday . . . . . . . . . . . . . . . . . . . . . . . . . . . . . . . . . . . . . . . .\n"
     ]
    },
    {
     "data": {
      "application/vnd.jupyter.widget-view+json": {
       "model_id": "645f21340d7f4f25abcbf4fbc6a9199e",
       "version_major": 2,
       "version_minor": 0
      },
      "text/plain": [
       "  0%|          | 0/252 [00:00<?, ?it/s]"
      ]
     },
     "metadata": {},
     "output_type": "display_data"
    },
    {
     "name": "stdout",
     "output_type": "stream",
     "text": [
      "🇰🇷 : 오바마는 대통령이다.\n",
      "🇺🇸 : obama obama obama obama obama obama obama obama obama obama obama obama obama obama obama obama obama obama obama obama obama obama obama obama obama obama obama obama obama obama obama obama obama obama obama . .\n",
      "🇰🇷 : 시민들은 도시 속에 산다.\n",
      "🇺🇸 : the the the the the the is . . . . . . . . . . . . . . . . . . . . . . . . . . . . . . . . . . . . . . . . . .\n",
      "🇰🇷 : 커피는 필요 없다.\n",
      "🇺🇸 : the the  the  the . . . . . . . . . . . . . . . . . . . . . . . . . . . . . . . . . . . . . . . . . . .\n",
      "🇰🇷 : 일곱 명의 사망자가 발생했다.\n",
      "🇺🇸 : the death death . . . . . . . . . . . . . . . . . . . . . . . . . . . . . . . . . . . . . . . . . . . . . .\n"
     ]
    },
    {
     "data": {
      "application/vnd.jupyter.widget-view+json": {
       "model_id": "ff347cbbab4c45d688d7ef6526f654aa",
       "version_major": 2,
       "version_minor": 0
      },
      "text/plain": [
       "  0%|          | 0/252 [00:00<?, ?it/s]"
      ]
     },
     "metadata": {},
     "output_type": "display_data"
    },
    {
     "name": "stdout",
     "output_type": "stream",
     "text": [
      "🇰🇷 : 오바마는 대통령이다.\n",
      "🇺🇸 : obama obama obama obama obama obama obama obama obama obama . . . . . . . . . . . . . . . . . . . . . . . . . . . . . . . . . . . . . . .\n",
      "🇰🇷 : 시민들은 도시 속에 산다.\n",
      "🇺🇸 : the the the the the the the is . . . . . . . . . . . . . . . . . . . . . . . . . . . . . . . . . . . . . . . . .\n",
      "🇰🇷 : 커피는 필요 없다.\n",
      "🇺🇸 : it it it it no it . . . . . . . . . . . . . . . . . . . . . . . . . . . . . . . . . . . . . . . . . . .\n",
      "🇰🇷 : 일곱 명의 사망자가 발생했다.\n",
      "🇺🇸 : cnn cnn cnn a . monda . . . . . . . . . . . . . . . . . . . . . . . . . . . . . . . . . . . . . . . . . .\n"
     ]
    },
    {
     "data": {
      "application/vnd.jupyter.widget-view+json": {
       "model_id": "24a985db21f04ea3902e6a16696111bb",
       "version_major": 2,
       "version_minor": 0
      },
      "text/plain": [
       "  0%|          | 0/252 [00:00<?, ?it/s]"
      ]
     },
     "metadata": {},
     "output_type": "display_data"
    },
    {
     "name": "stdout",
     "output_type": "stream",
     "text": [
      "🇰🇷 : 오바마는 대통령이다.\n",
      "🇺🇸 : president president president president president president president president president president president president president obama . . . . . . . . . . . . . . . . . . . . . . . . . . . . . . . . . . .\n",
      "🇰🇷 : 시민들은 도시 속에 산다.\n",
      "🇺🇸 : the the the the is . . . . . . . . . . . . . . . . . . . . . . . . . . . . . . . . . . . . . . . . . . . .\n",
      "🇰🇷 : 커피는 필요 없다.\n",
      "🇺🇸 : coffee coffee coffee coffee coffee coffee coffee . . . . . . . . . . . . . . . . . . . . . . . . . . . . . . . . . . . . . . . . . .\n",
      "🇰🇷 : 일곱 명의 사망자가 발생했다.\n",
      "🇺🇸 : cnn cnn cnn  cnn cnn  cnn  cnn cnn a police sunday sunday sunday sunday sunday sunday sunday sunday sunday sunday sunday . . . . . . . . . . . . . . . . . . . . . . . .\n"
     ]
    },
    {
     "data": {
      "application/vnd.jupyter.widget-view+json": {
       "model_id": "d745a87a84bf438998c0bc2489ca925a",
       "version_major": 2,
       "version_minor": 0
      },
      "text/plain": [
       "  0%|          | 0/252 [00:00<?, ?it/s]"
      ]
     },
     "metadata": {},
     "output_type": "display_data"
    },
    {
     "name": "stdout",
     "output_type": "stream",
     "text": [
      "🇰🇷 : 오바마는 대통령이다.\n",
      "🇺🇸 : president president president president president president president president obama president obama president obama president obama president . . . . . . . . . . . . . . . . . . . . . . . . . . . . . . . . .\n",
      "🇰🇷 : 시민들은 도시 속에 산다.\n",
      "🇺🇸 : the the urban is . . . . . . . . . . . . . . . . . . . . . . . . . . . . . . . . . . . . . . . . . . . . .\n",
      "🇰🇷 : 커피는 필요 없다.\n",
      "🇺🇸 : need need no need need no need . no . . . . . . . . no . . . . . . . . . . . . . . . . . . . . . . . . . . . . . . .\n",
      "🇰🇷 : 일곱 명의 사망자가 발생했다.\n",
      "🇺🇸 : sunday sunday sunday sunday sunday sunday sunday sunday sunday sunday sunday sunday sunday sunday sunday sunday sunday sunday sunday sunday sunday sunday sunday sunday sunday sunday sunday sunday . . . . . . . . . . . . . . . . . . . . .\n"
     ]
    },
    {
     "data": {
      "application/vnd.jupyter.widget-view+json": {
       "model_id": "377b6a4bd1114c07bf9b0cc3a3b96c6c",
       "version_major": 2,
       "version_minor": 0
      },
      "text/plain": [
       "  0%|          | 0/252 [00:00<?, ?it/s]"
      ]
     },
     "metadata": {},
     "output_type": "display_data"
    },
    {
     "name": "stdout",
     "output_type": "stream",
     "text": [
      "🇰🇷 : 오바마는 대통령이다.\n",
      "🇺🇸 : obama obama obama obama obama obama obama obama obama obama obama obama obama obama obama obama . . . . . . . . . . . . . . . . . . . . . . . . . . . . . . . . .\n",
      "🇰🇷 : 시민들은 도시 속에 산다.\n",
      "🇺🇸 : the the the the the the the the the . the . the . . . the . . . . . . . the . . . . . . . . . . . . . . . . . . . . . . . .\n",
      "🇰🇷 : 커피는 필요 없다.\n",
      "🇺🇸 : coffee coffee coffee coffee coffee coffee coffee coffee coffee coffee coffee coffee coffee coffee coffee coffee coffee coffee coffee . coffee . coffee . coffee coffee . . . . . . . . . . . . . . . . . . . . . . .\n",
      "🇰🇷 : 일곱 명의 사망자가 발생했다.\n",
      "🇺🇸 : sunday sunday sunday sunday sunday sunday sunday sunday sunday sunday sunday sunday sunday sunday sunday sunday sunday sunday sunday sunday sunday sunday sunday sunday sunday sunday sunday a sunday sunday sunday sunday sunday\n"
     ]
    },
    {
     "data": {
      "application/vnd.jupyter.widget-view+json": {
       "model_id": "86c0c70a4e86407b9566e0958ddae6f1",
       "version_major": 2,
       "version_minor": 0
      },
      "text/plain": [
       "  0%|          | 0/252 [00:00<?, ?it/s]"
      ]
     },
     "metadata": {},
     "output_type": "display_data"
    },
    {
     "name": "stdout",
     "output_type": "stream",
     "text": [
      "🇰🇷 : 오바마는 대통령이다.\n",
      "🇺🇸 : obama obama president president obama obama obama obama obama . . . . . . . . . . . . . . . . . . . . . . . . . . . . . . . . . . . . . . . .\n",
      "🇰🇷 : 시민들은 도시 속에 산다.\n",
      "🇺🇸 : urban cit cit cit urban cit cit cit cit . . . . . . . . . . . . . . . . . . . . . . . . . . . . . . . . . . . . . . . .\n",
      "🇰🇷 : 커피는 필요 없다.\n",
      "🇺🇸 : coffee coffee coffee coffee coffee coffee coffee no\n",
      "🇰🇷 : 일곱 명의 사망자가 발생했다.\n",
      "🇺🇸 : sunday sunday sunday sunday sunday sunday sunday sunday sunday sunday\n"
     ]
    },
    {
     "data": {
      "application/vnd.jupyter.widget-view+json": {
       "model_id": "ec249835a73c456a9bb540eb744e91cd",
       "version_major": 2,
       "version_minor": 0
      },
      "text/plain": [
       "  0%|          | 0/252 [00:00<?, ?it/s]"
      ]
     },
     "metadata": {},
     "output_type": "display_data"
    },
    {
     "name": "stdout",
     "output_type": "stream",
     "text": [
      "🇰🇷 : 오바마는 대통령이다.\n",
      "🇺🇸 : obama obama obama obama obama . . . . . . . . . . . . . . . . . . . . . . . . . . . . . . . . . . . . . . . . . . . .\n",
      "Encoder Layer 1\n"
     ]
    },
    {
     "name": "stderr",
     "output_type": "stream",
     "text": [
      "/home/aiffel-dj1/anaconda3/envs/aiffel/lib/python3.7/site-packages/matplotlib/backends/backend_agg.py:238: RuntimeWarning: Glyph 9601 missing from current font.\n",
      "  font.set_text(s, 0.0, flags=flags)\n",
      "/home/aiffel-dj1/anaconda3/envs/aiffel/lib/python3.7/site-packages/matplotlib/backends/backend_agg.py:201: RuntimeWarning: Glyph 9601 missing from current font.\n",
      "  font.set_text(s, 0, flags=flags)\n"
     ]
    },
    {
     "data": {
      "image/png": "[encoded data removed]",
      "text/plain": [
       "<Figure size 1440x720 with 8 Axes>"
      ]
     },
     "metadata": {
      "image/png": {
       "height": 297,
       "width": 1147
      },
      "needs_background": "light"
     },
     "output_type": "display_data"
    },
    {
     "name": "stdout",
     "output_type": "stream",
     "text": [
      "Encoder Layer 2\n"
     ]
    },
    {
     "data": {
      "image/png": "[encoded data removed]",
      "text/plain": [
       "<Figure size 1440x720 with 8 Axes>"
      ]
     },
     "metadata": {
      "image/png": {
       "height": 297,
       "width": 1147
      },
      "needs_background": "light"
     },
     "output_type": "display_data"
    },
    {
     "name": "stdout",
     "output_type": "stream",
     "text": [
      "Decoder Self Layer 1\n"
     ]
    },
    {
     "data": {
      "image/png": "[encoded data removed]",
      "text/plain": [
       "<Figure size 1440x720 with 8 Axes>"
      ]
     },
     "metadata": {
      "image/png": {
       "height": 297,
       "width": 1168
      },
      "needs_background": "light"
     },
     "output_type": "display_data"
    },
    {
     "name": "stdout",
     "output_type": "stream",
     "text": [
      "Decoder Src Layer 1\n"
     ]
    },
    {
     "data": {
      "image/png": "[encoded data removed]",
      "text/plain": [
       "<Figure size 1440x720 with 8 Axes>"
      ]
     },
     "metadata": {
      "image/png": {
       "height": 603,
       "width": 1029
      },
      "needs_background": "light"
     },
     "output_type": "display_data"
    },
    {
     "name": "stdout",
     "output_type": "stream",
     "text": [
      "Decoder Self Layer 2\n"
     ]
    },
    {
     "data": {
      "image/png": "[encoded data removed]",
      "text/plain": [
       "<Figure size 1440x720 with 8 Axes>"
      ]
     },
     "metadata": {
      "image/png": {
       "height": 297,
       "width": 1168
      },
      "needs_background": "light"
     },
     "output_type": "display_data"
    },
    {
     "name": "stdout",
     "output_type": "stream",
     "text": [
      "Decoder Src Layer 2\n"
     ]
    },
    {
     "data": {
      "image/png": "[encoded data removed]",
      "text/plain": [
       "<Figure size 1440x720 with 8 Axes>"
      ]
     },
     "metadata": {
      "image/png": {
       "height": 603,
       "width": 1029
      },
      "needs_background": "light"
     },
     "output_type": "display_data"
    },
    {
     "name": "stdout",
     "output_type": "stream",
     "text": [
      "🇰🇷 : 시민들은 도시 속에 산다.\n",
      "🇺🇸 : the cit cit towns the the the the the is . . . . . . . . the . . . . . . the . . . . . . . . . . . . . . . . . . . . . . .\n",
      "🇰🇷 : 커피는 필요 없다.\n",
      "🇺🇸 : you need need need need need need need need no need\n",
      "🇰🇷 : 일곱 명의 사망자가 발생했다.\n",
      "🇺🇸 : sunday sunday sunday sunday sunday sunday sunday sunday sunday\n"
     ]
    },
    {
     "data": {
      "application/vnd.jupyter.widget-view+json": {
       "model_id": "754e253061014028924caf7a71aa4887",
       "version_major": 2,
       "version_minor": 0
      },
      "text/plain": [
       "  0%|          | 0/252 [00:00<?, ?it/s]"
      ]
     },
     "metadata": {},
     "output_type": "display_data"
    },
    {
     "name": "stdout",
     "output_type": "stream",
     "text": [
      "🇰🇷 : 오바마는 대통령이다.\n",
      "🇺🇸 : obama obama obama obama obama obama obama obama obama . obama . . . . . . . . . . . . . . . . . . . . . . . . . . . . . . . . . . . . . .\n",
      "🇰🇷 : 시민들은 도시 속에 산다.\n",
      "🇺🇸 : cit cit cit cit cit cit cit cit the cit cit cit this this city this . cit cit cit this cit\n",
      "🇰🇷 : 커피는 필요 없다.\n",
      "🇺🇸 : need need need need need need need need need need need need need need need need need need need need need need need need need need need need need need need need need need need need need need need need need need need need need need need need need need\n",
      "🇰🇷 : 일곱 명의 사망자가 발생했다.\n",
      "🇺🇸 : seven thursday thursday cnn seven cnn seven seven thursday thursday\n"
     ]
    },
    {
     "data": {
      "application/vnd.jupyter.widget-view+json": {
       "model_id": "9f9d2d1ef7b74b4f8c01e0b13e5e19e6",
       "version_major": 2,
       "version_minor": 0
      },
      "text/plain": [
       "  0%|          | 0/252 [00:00<?, ?it/s]"
      ]
     },
     "metadata": {},
     "output_type": "display_data"
    },
    {
     "name": "stdout",
     "output_type": "stream",
     "text": [
      "🇰🇷 : 오바마는 대통령이다.\n",
      "🇺🇸 : obama obama obama obama obama transition transition . obama . . . . . . . . . . . . . . . . . . . . . . . . . . . . . . . . . . . . . . . .\n",
      "🇰🇷 : 시민들은 도시 속에 산다.\n",
      "🇺🇸 : urban urban urban urban urban urban urban . the psychological psychological\n",
      "🇰🇷 : 커피는 필요 없다.\n",
      "🇺🇸 : any need need need need need need need need need or need need need need need need need to need need need need need need need need need need need need need need need need need need to need need need . . . . . . . .\n",
      "🇰🇷 : 일곱 명의 사망자가 발생했다.\n",
      "🇺🇸 : sunday all them them thes . them . all them them the deads\n"
     ]
    },
    {
     "data": {
      "application/vnd.jupyter.widget-view+json": {
       "model_id": "e5951217a9074be4a9209aa93be438d1",
       "version_major": 2,
       "version_minor": 0
      },
      "text/plain": [
       "  0%|          | 0/252 [00:00<?, ?it/s]"
      ]
     },
     "metadata": {},
     "output_type": "display_data"
    },
    {
     "name": "stdout",
     "output_type": "stream",
     "text": [
      "🇰🇷 : 오바마는 대통령이다.\n",
      "🇺🇸 : obama obama obama obama campaign . obama obama obama . . . . . . . . . . . . . . obama . . . . . . . . . . . . . . . is . . . . . . . . .\n",
      "🇰🇷 : 시민들은 도시 속에 산다.\n",
      "🇺🇸 : cit cit cit cit cit cit cit cit the is . the the the . the is . . . . . . the the . . . . there there is . . . . . . . . . . . . . . . . .\n",
      "🇰🇷 : 커피는 필요 없다.\n",
      "🇺🇸 : any any any any coffee need need need need . no to\n",
      "🇰🇷 : 일곱 명의 사망자가 발생했다.\n",
      "🇺🇸 : the . all dead fatalit fatalits fatalitss and them them them them a them them them them them . them them them them them them . them . . . them . . the haveed themed . them . . . . . .\n"
     ]
    },
    {
     "data": {
      "application/vnd.jupyter.widget-view+json": {
       "model_id": "eaf6b376770346c392544c1552bfc17f",
       "version_major": 2,
       "version_minor": 0
      },
      "text/plain": [
       "  0%|          | 0/252 [00:00<?, ?it/s]"
      ]
     },
     "metadata": {},
     "output_type": "display_data"
    },
    {
     "name": "stdout",
     "output_type": "stream",
     "text": [
      "🇰🇷 : 오바마는 대통령이다.\n",
      "🇺🇸 : obama obama obama obama obama obama obama obama obama obama obama obama obama . is . . . . . . . . . . . . . . . . . . . . . . . . . . . . . . . . . .\n",
      "🇰🇷 : 시민들은 도시 속에 산다.\n",
      "🇺🇸 : city city city city city city city city city city city city . city city city city city city city . . . the . . . . . . . . . . . . . . . . . . . . . . . . .\n",
      "🇰🇷 : 커피는 필요 없다.\n",
      "🇺🇸 : any any any need need need . need for need need need need need . must need for need need need need need need need need . for need need need need need need . . . . . . . . . . . . . . .\n",
      "🇰🇷 : 일곱 명의 사망자가 발생했다.\n",
      "🇺🇸 : a .          .  . . . . . . . . . . . . . . . . . . . . . . . . . . . . . . . . . . . .\n"
     ]
    },
    {
     "data": {
      "application/vnd.jupyter.widget-view+json": {
       "model_id": "1e06c07a43914b30a15a70ffdeac6a1f",
       "version_major": 2,
       "version_minor": 0
      },
      "text/plain": [
       "  0%|          | 0/252 [00:00<?, ?it/s]"
      ]
     },
     "metadata": {},
     "output_type": "display_data"
    },
    {
     "name": "stdout",
     "output_type": "stream",
     "text": [
      "🇰🇷 : 오바마는 대통령이다.\n",
      "🇺🇸 : obama . . . . . . . . . . . . . . . . . . . . . . . . . . . . . . . . . . . . . . . . . . . . . . . .\n",
      "🇰🇷 : 시민들은 도시 속에 산다.\n",
      "🇺🇸 : are . to to . . . . . . to . . . . . . . every . .\n",
      "🇰🇷 : 커피는 필요 없다.\n",
      "🇺🇸 : coffee coffee coffee coffee coffee coffee . coffee . coffee . coffee . . . . coffee . . . . . . . . . . . coffee . . . . . . . . . . . . . . . . . . . .\n",
      "🇰🇷 : 일곱 명의 사망자가 발생했다.\n",
      "🇺🇸 : seven and injur were dead later injur . injur . injur      . . . . .s ands injurssss .s .s . . and them deadss . .s . . them . . .\n"
     ]
    },
    {
     "data": {
      "application/vnd.jupyter.widget-view+json": {
       "model_id": "fffc0934a6a5458c84aeace6d27aecdd",
       "version_major": 2,
       "version_minor": 0
      },
      "text/plain": [
       "  0%|          | 0/252 [00:00<?, ?it/s]"
      ]
     },
     "metadata": {},
     "output_type": "display_data"
    },
    {
     "name": "stdout",
     "output_type": "stream",
     "text": [
      "🇰🇷 : 오바마는 대통령이다.\n",
      "🇺🇸 : obama . . . . . . . . . . . . . . . . . . . . . . . obama . . . . . . . . . obama . . . . . . . . . . . . . .\n",
      "🇰🇷 : 시민들은 도시 속에 산다.\n",
      "🇺🇸 : cit cit cit cit cit cit cit cit urban cit cit cit cit urban . mountain mountain is . . . . one . one one one one . is . . . . . . . in . . . . isr . . . . .\n",
      "🇰🇷 : 커피는 필요 없다.\n",
      "🇺🇸 : any any necessar coffee . is . not . not . . entry . . entry . . . entry . . . . . . entry . . . . . . . . . . . not\n",
      "🇰🇷 : 일곱 명의 사망자가 발생했다.\n",
      "🇺🇸 : seven were dead  cnn cnn .  cnn dead cnn injur cnn injur injur cnns have dead deadss .ss        to   . . . temblor ofsed\n"
     ]
    },
    {
     "data": {
      "application/vnd.jupyter.widget-view+json": {
       "model_id": "df0ff5c9d57647d8b3448c0de5ad1f36",
       "version_major": 2,
       "version_minor": 0
      },
      "text/plain": [
       "  0%|          | 0/252 [00:00<?, ?it/s]"
      ]
     },
     "metadata": {},
     "output_type": "display_data"
    },
    {
     "name": "stdout",
     "output_type": "stream",
     "text": [
      "🇰🇷 : 오바마는 대통령이다.\n",
      "🇺🇸 : obama\n",
      "🇰🇷 : 시민들은 도시 속에 산다.\n",
      "🇺🇸 : urban is . . . . . . . . . . . . . to . . . . . . . town slide slide slide slide slide slide slide slide . . . .r is . . . . . . . . . . .\n",
      "🇰🇷 : 커피는 필요 없다.\n",
      "🇺🇸 : don need need need need to need to need need to don need need . don need to need to don don . don don need to need . . cup . . . . . . . . . . . . . . . . . .\n",
      "🇰🇷 : 일곱 명의 사망자가 발생했다.\n",
      "🇺🇸 : seven dead were sunday                        cnn\n"
     ]
    },
    {
     "data": {
      "application/vnd.jupyter.widget-view+json": {
       "model_id": "7e262d7923f240539cb5cb1eb3936787",
       "version_major": 2,
       "version_minor": 0
      },
      "text/plain": [
       "  0%|          | 0/252 [00:00<?, ?it/s]"
      ]
     },
     "metadata": {},
     "output_type": "display_data"
    },
    {
     "name": "stdout",
     "output_type": "stream",
     "text": [
      "🇰🇷 : 오바마는 대통령이다.\n",
      "🇺🇸 : . . . . . . . . . . . . . . . . . . . . . . . . . . . . . . . . . . . . . . . . . . . . . . . . .\n",
      "🇰🇷 : 시민들은 도시 속에 산다.\n",
      "🇺🇸 : people urban of urban of urban of . urban of urban .ss . . . . ofs . i . . . . . . . . . . . . . . . . . . . . . . . . . . .\n",
      "🇰🇷 : 커피는 필요 없다.\n",
      "🇺🇸 : don sound sound sound sound sound sound sound sound destination application application application application application application application application application ifs application application application applications applications application applications . application application application applications\n",
      "🇰🇷 : 일곱 명의 사망자가 발생했다.\n",
      "🇺🇸 : seven seven seven seven seven seven seven seven seven seven seven seven and . seven seven . . . seven . . seven . . . . . . . . . . . . . . . people haveed dead . .s . . .s .\n"
     ]
    },
    {
     "data": {
      "application/vnd.jupyter.widget-view+json": {
       "model_id": "c35e9dacd0e4484f87c34b8b65519833",
       "version_major": 2,
       "version_minor": 0
      },
      "text/plain": [
       "  0%|          | 0/252 [00:00<?, ?it/s]"
      ]
     },
     "metadata": {},
     "output_type": "display_data"
    },
    {
     "name": "stdout",
     "output_type": "stream",
     "text": [
      "🇰🇷 : 오바마는 대통령이다.\n",
      "🇺🇸 : obama . . . . . . . . . . . . . . . . . . . . . . . . . . . . . . . . . . . . . . . . . . . . . . . .\n",
      "🇰🇷 : 시민들은 도시 속에 산다.\n",
      "🇺🇸 : people over schools schools schools . this this are . . . . . . of . . . . . . . . . . . . . . . . . . . . . . . . . . . . . . . . .\n",
      "🇰🇷 : 커피는 필요 없다.\n",
      "🇺🇸 : coffee no . . . . . . . . . . . don . . . . . . . . drink coffee . . . . . . . . . . . . . . . . . . . . . . . . .\n",
      "🇰🇷 : 일곱 명의 사망자가 발생했다.\n",
      "🇺🇸 : seven seven seven and . seven seven seven seven seven seven and . . . dead . . . . dead . . . . . . dead . dead . . dead and them dead . them . . . them . . . . . . .\n"
     ]
    },
    {
     "data": {
      "application/vnd.jupyter.widget-view+json": {
       "model_id": "9a723adcd3ed48c0a2288d09668a35c5",
       "version_major": 2,
       "version_minor": 0
      },
      "text/plain": [
       "  0%|          | 0/252 [00:00<?, ?it/s]"
      ]
     },
     "metadata": {},
     "output_type": "display_data"
    },
    {
     "name": "stdout",
     "output_type": "stream",
     "text": [
      "🇰🇷 : 오바마는 대통령이다.\n",
      "🇺🇸 : obama over president . . . . . . . . . . . . . . . . . . . . . . . . . . . . . . . . . . . . . . . . . . . . . .\n",
      "Encoder Layer 1\n"
     ]
    },
    {
     "data": {
      "image/png": "[encoded data removed]",
      "text/plain": [
       "<Figure size 1440x720 with 8 Axes>"
      ]
     },
     "metadata": {
      "image/png": {
       "height": 297,
       "width": 1147
      },
      "needs_background": "light"
     },
     "output_type": "display_data"
    },
    {
     "name": "stdout",
     "output_type": "stream",
     "text": [
      "Encoder Layer 2\n"
     ]
    },
    {
     "data": {
      "image/png": "[encoded data removed]",
      "text/plain": [
       "<Figure size 1440x720 with 8 Axes>"
      ]
     },
     "metadata": {
      "image/png": {
       "height": 297,
       "width": 1147
      },
      "needs_background": "light"
     },
     "output_type": "display_data"
    },
    {
     "name": "stdout",
     "output_type": "stream",
     "text": [
      "Decoder Self Layer 1\n"
     ]
    },
    {
     "data": {
      "image/png": "[encoded data removed]",
      "text/plain": [
       "<Figure size 1440x720 with 8 Axes>"
      ]
     },
     "metadata": {
      "image/png": {
       "height": 302,
       "width": 1179
      },
      "needs_background": "light"
     },
     "output_type": "display_data"
    },
    {
     "name": "stdout",
     "output_type": "stream",
     "text": [
      "Decoder Src Layer 1\n"
     ]
    },
    {
     "data": {
      "image/png": "[encoded data removed]",
      "text/plain": [
       "<Figure size 1440x720 with 8 Axes>"
      ]
     },
     "metadata": {
      "image/png": {
       "height": 603,
       "width": 1041
      },
      "needs_background": "light"
     },
     "output_type": "display_data"
    },
    {
     "name": "stdout",
     "output_type": "stream",
     "text": [
      "Decoder Self Layer 2\n"
     ]
    },
    {
     "data": {
      "image/png": "[encoded data removed]",
      "text/plain": [
       "<Figure size 1440x720 with 8 Axes>"
      ]
     },
     "metadata": {
      "image/png": {
       "height": 302,
       "width": 1179
      },
      "needs_background": "light"
     },
     "output_type": "display_data"
    },
    {
     "name": "stdout",
     "output_type": "stream",
     "text": [
      "Decoder Src Layer 2\n"
     ]
    },
    {
     "data": {
      "image/png": "[encoded data removed]",
      "text/plain": [
       "<Figure size 1440x720 with 8 Axes>"
      ]
     },
     "metadata": {
      "image/png": {
       "height": 603,
       "width": 1041
      },
      "needs_background": "light"
     },
     "output_type": "display_data"
    },
    {
     "name": "stdout",
     "output_type": "stream",
     "text": [
      "🇰🇷 : 시민들은 도시 속에 산다.\n",
      "🇺🇸 : people over the of of of of of the over . the of of people are . . . . . . . . . of to . . . . . . . . . . .\n",
      "🇰🇷 : 커피는 필요 없다.\n",
      "🇺🇸 : don any any any coffee no is . no coffee coffee coffee . is not . not coffee . no is . no . . no . . . . coffee is . . . no . . . no . is . . . . . . .\n",
      "🇰🇷 : 일곱 명의 사망자가 발생했다.\n",
      "🇺🇸 : seven seven seven seven seven seven seven seven seven seven seven seven seven seven seven seven seven seven seven and people dead seven dead seven and dead were . . and . . . . . . . dead . . deads .s .ss .\n"
     ]
    },
    {
     "data": {
      "image/png": "[encoded data removed]",
      "text/plain": [
       "<Figure size 720x360 with 1 Axes>"
      ]
     },
     "metadata": {
      "image/png": {
       "height": 321,
       "width": 602
      },
      "needs_background": "light"
     },
     "output_type": "display_data"
    }
   ],
   "source": [
    "losses = train(transformer, optimizer, enc_train, dec_train, \n",
    "               ko_tokenizer, en_tokenizer, examples, 20, 256)\n",
    "show_train_loss(losses)"
   ]
  },
  {
   "cell_type": "markdown",
   "metadata": {},
   "source": [
    "## Step 5. 결론\n",
    "---"
   ]
  },
  {
   "cell_type": "markdown",
   "metadata": {},
   "source": [
    "### 프로젝트 평가"
   ]
  },
  {
   "cell_type": "markdown",
   "metadata": {},
   "source": [
    "1. 번역기 모델 학습에 필요한 텍스트 데이터 전처리가 잘 이루어졌다. 데이터 정제, SentencePiece를 활용한 토큰화 및 데이터셋 구축의 과정이 지시대로 진행되었다.\n",
    "    - 전처리 과정이 지시 사항대로 이루어졌다.\n",
    "2. Transformer 번역기 모델이 정상적으로 구동된다. Transformer 모델의 학습과 추론 과정이 정상적으로 진행되어, 한-영 번역기능이 정상 동작한다.\n",
    "    - Transformer 모델이 정작적으로 구동되며 학습이 진행되었다\n",
    "    - 입력으로 한국어 문장을 받아 영어 문장을 출력하는 번역 기능이 정상적으로 작동하였다.\n",
    "3. 테스트 결과 의미가 통하는 수준의 번역문이 생성되었다. 제시된 문장에 대한 그럴듯한 영어 번역문이 생성되며, 시각화된 Attention Map으로 결과를 뒷받침한다.\n",
    "    - 핵심단어에 대한 번역은 이루어졌지만, 제대로 된 문장이 생성되지 못하였다."
   ]
  }
 ],
 "metadata": {
  "accelerator": "GPU",
  "colab": {
   "collapsed_sections": [
    "s9hemMB7C1ne",
    "mL96k_HpSM-9",
    "LZXdnfGYUQKk",
    "u0xS5BNUVB68",
    "AJwXtdZIkFUQ",
    "fcd7dfSegu7N",
    "SkpHuSjPjnZi",
    "pfcKURfXmGE7",
    "hPnd40GNmGAb"
   ],
   "name": "GD10_transformer_translation.ipynb",
   "provenance": []
  },
  "kernelspec": {
   "display_name": "Python 3",
   "language": "python",
   "name": "python3"
  },
  "language_info": {
   "codemirror_mode": {
    "name": "ipython",
    "version": 3
   },
   "file_extension": ".py",
   "mimetype": "text/x-python",
   "name": "python",
   "nbconvert_exporter": "python",
   "pygments_lexer": "ipython3",
   "version": "3.7.10"
  },
  "widgets": {
   "application/vnd.jupyter.widget-state+json": {
    "1578fcdab5484b94851803bf2c0df793": {
     "model_module": "@jupyter-widgets/base",
     "model_name": "LayoutModel",
     "state": {
      "_model_module": "@jupyter-widgets/base",
      "_model_module_version": "1.2.0",
      "_model_name": "LayoutModel",
      "_view_count": null,
      "_view_module": "@jupyter-widgets/base",
      "_view_module_version": "1.2.0",
      "_view_name": "LayoutView",
      "align_content": null,
      "align_items": null,
      "align_self": null,
      "border": null,
      "bottom": null,
      "display": null,
      "flex": null,
      "flex_flow": null,
      "grid_area": null,
      "grid_auto_columns": null,
      "grid_auto_flow": null,
      "grid_auto_rows": null,
      "grid_column": null,
      "grid_gap": null,
      "grid_row": null,
      "grid_template_areas": null,
      "grid_template_columns": null,
      "grid_template_rows": null,
      "height": null,
      "justify_content": null,
      "justify_items": null,
      "left": null,
      "margin": null,
      "max_height": null,
      "max_width": null,
      "min_height": null,
      "min_width": null,
      "object_fit": null,
      "object_position": null,
      "order": null,
      "overflow": null,
      "overflow_x": null,
      "overflow_y": null,
      "padding": null,
      "right": null,
      "top": null,
      "visibility": null,
      "width": null
     }
    },
    "1f0922f2135943a7a3aaa6b621bf66f7": {
     "model_module": "@jupyter-widgets/controls",
     "model_name": "HBoxModel",
     "state": {
      "_dom_classes": [],
      "_model_module": "@jupyter-widgets/controls",
      "_model_module_version": "1.5.0",
      "_model_name": "HBoxModel",
      "_view_count": null,
      "_view_module": "@jupyter-widgets/controls",
      "_view_module_version": "1.5.0",
      "_view_name": "HBoxView",
      "box_style": "",
      "children": [
       "IPY_MODEL_8b853b425f83449a9f6246b78cd3239a",
       "IPY_MODEL_671e736f373449d083a2d5b8b72f18d6"
      ],
      "layout": "IPY_MODEL_66a319ceded64174a91498ad9ce4f9cc"
     }
    },
    "2f4788aeb3464074b26ea1542ff44d45": {
     "model_module": "@jupyter-widgets/controls",
     "model_name": "ProgressStyleModel",
     "state": {
      "_model_module": "@jupyter-widgets/controls",
      "_model_module_version": "1.5.0",
      "_model_name": "ProgressStyleModel",
      "_view_count": null,
      "_view_module": "@jupyter-widgets/base",
      "_view_module_version": "1.2.0",
      "_view_name": "StyleView",
      "bar_color": null,
      "description_width": "initial"
     }
    },
    "4e64080b2dad44618d9f84fadfedc3c8": {
     "model_module": "@jupyter-widgets/controls",
     "model_name": "ProgressStyleModel",
     "state": {
      "_model_module": "@jupyter-widgets/controls",
      "_model_module_version": "1.5.0",
      "_model_name": "ProgressStyleModel",
      "_view_count": null,
      "_view_module": "@jupyter-widgets/base",
      "_view_module_version": "1.2.0",
      "_view_name": "StyleView",
      "bar_color": null,
      "description_width": "initial"
     }
    },
    "56ffd5044af942f0ac82617f678c182e": {
     "model_module": "@jupyter-widgets/controls",
     "model_name": "DescriptionStyleModel",
     "state": {
      "_model_module": "@jupyter-widgets/controls",
      "_model_module_version": "1.5.0",
      "_model_name": "DescriptionStyleModel",
      "_view_count": null,
      "_view_module": "@jupyter-widgets/base",
      "_view_module_version": "1.2.0",
      "_view_name": "StyleView",
      "description_width": ""
     }
    },
    "574f4ab50c2148baa2072f211364146f": {
     "model_module": "@jupyter-widgets/controls",
     "model_name": "HBoxModel",
     "state": {
      "_dom_classes": [],
      "_model_module": "@jupyter-widgets/controls",
      "_model_module_version": "1.5.0",
      "_model_name": "HBoxModel",
      "_view_count": null,
      "_view_module": "@jupyter-widgets/controls",
      "_view_module_version": "1.5.0",
      "_view_name": "HBoxView",
      "box_style": "",
      "children": [
       "IPY_MODEL_ba76b5a8af7247c2bbf05268d2d616f2",
       "IPY_MODEL_8b3ffd6c274f47bf8386455349f81254"
      ],
      "layout": "IPY_MODEL_1578fcdab5484b94851803bf2c0df793"
     }
    },
    "66a319ceded64174a91498ad9ce4f9cc": {
     "model_module": "@jupyter-widgets/base",
     "model_name": "LayoutModel",
     "state": {
      "_model_module": "@jupyter-widgets/base",
      "_model_module_version": "1.2.0",
      "_model_name": "LayoutModel",
      "_view_count": null,
      "_view_module": "@jupyter-widgets/base",
      "_view_module_version": "1.2.0",
      "_view_name": "LayoutView",
      "align_content": null,
      "align_items": null,
      "align_self": null,
      "border": null,
      "bottom": null,
      "display": null,
      "flex": null,
      "flex_flow": null,
      "grid_area": null,
      "grid_auto_columns": null,
      "grid_auto_flow": null,
      "grid_auto_rows": null,
      "grid_column": null,
      "grid_gap": null,
      "grid_row": null,
      "grid_template_areas": null,
      "grid_template_columns": null,
      "grid_template_rows": null,
      "height": null,
      "justify_content": null,
      "justify_items": null,
      "left": null,
      "margin": null,
      "max_height": null,
      "max_width": null,
      "min_height": null,
      "min_width": null,
      "object_fit": null,
      "object_position": null,
      "order": null,
      "overflow": null,
      "overflow_x": null,
      "overflow_y": null,
      "padding": null,
      "right": null,
      "top": null,
      "visibility": null,
      "width": null
     }
    },
    "671e736f373449d083a2d5b8b72f18d6": {
     "model_module": "@jupyter-widgets/controls",
     "model_name": "HTMLModel",
     "state": {
      "_dom_classes": [],
      "_model_module": "@jupyter-widgets/controls",
      "_model_module_version": "1.5.0",
      "_model_name": "HTMLModel",
      "_view_count": null,
      "_view_module": "@jupyter-widgets/controls",
      "_view_module_version": "1.5.0",
      "_view_name": "HTMLView",
      "description": "",
      "description_tooltip": null,
      "layout": "IPY_MODEL_d992df4d7c1a462087344c971a01c04a",
      "placeholder": "​",
      "style": "IPY_MODEL_b031bcc934e149dfa21387a8a9f30111",
      "value": " 532/532 [04:16&lt;00:00,  2.08it/s, Loss 6.2470]"
     }
    },
    "8b3ffd6c274f47bf8386455349f81254": {
     "model_module": "@jupyter-widgets/controls",
     "model_name": "HTMLModel",
     "state": {
      "_dom_classes": [],
      "_model_module": "@jupyter-widgets/controls",
      "_model_module_version": "1.5.0",
      "_model_name": "HTMLModel",
      "_view_count": null,
      "_view_module": "@jupyter-widgets/controls",
      "_view_module_version": "1.5.0",
      "_view_name": "HTMLView",
      "description": "",
      "description_tooltip": null,
      "layout": "IPY_MODEL_8d54e6666ee04bbb8881f0532300ae16",
      "placeholder": "​",
      "style": "IPY_MODEL_56ffd5044af942f0ac82617f678c182e",
      "value": " 78968/78968 [01:12&lt;00:00, 1088.45it/s]"
     }
    },
    "8b853b425f83449a9f6246b78cd3239a": {
     "model_module": "@jupyter-widgets/controls",
     "model_name": "FloatProgressModel",
     "state": {
      "_dom_classes": [],
      "_model_module": "@jupyter-widgets/controls",
      "_model_module_version": "1.5.0",
      "_model_name": "FloatProgressModel",
      "_view_count": null,
      "_view_module": "@jupyter-widgets/controls",
      "_view_module_version": "1.5.0",
      "_view_name": "ProgressView",
      "bar_style": "success",
      "description": "Epoch  1: 100%",
      "description_tooltip": null,
      "layout": "IPY_MODEL_b423e1b736074c2392cb84cdd7ad5952",
      "max": 532,
      "min": 0,
      "orientation": "horizontal",
      "style": "IPY_MODEL_2f4788aeb3464074b26ea1542ff44d45",
      "value": 532
     }
    },
    "8d54e6666ee04bbb8881f0532300ae16": {
     "model_module": "@jupyter-widgets/base",
     "model_name": "LayoutModel",
     "state": {
      "_model_module": "@jupyter-widgets/base",
      "_model_module_version": "1.2.0",
      "_model_name": "LayoutModel",
      "_view_count": null,
      "_view_module": "@jupyter-widgets/base",
      "_view_module_version": "1.2.0",
      "_view_name": "LayoutView",
      "align_content": null,
      "align_items": null,
      "align_self": null,
      "border": null,
      "bottom": null,
      "display": null,
      "flex": null,
      "flex_flow": null,
      "grid_area": null,
      "grid_auto_columns": null,
      "grid_auto_flow": null,
      "grid_auto_rows": null,
      "grid_column": null,
      "grid_gap": null,
      "grid_row": null,
      "grid_template_areas": null,
      "grid_template_columns": null,
      "grid_template_rows": null,
      "height": null,
      "justify_content": null,
      "justify_items": null,
      "left": null,
      "margin": null,
      "max_height": null,
      "max_width": null,
      "min_height": null,
      "min_width": null,
      "object_fit": null,
      "object_position": null,
      "order": null,
      "overflow": null,
      "overflow_x": null,
      "overflow_y": null,
      "padding": null,
      "right": null,
      "top": null,
      "visibility": null,
      "width": null
     }
    },
    "b031bcc934e149dfa21387a8a9f30111": {
     "model_module": "@jupyter-widgets/controls",
     "model_name": "DescriptionStyleModel",
     "state": {
      "_model_module": "@jupyter-widgets/controls",
      "_model_module_version": "1.5.0",
      "_model_name": "DescriptionStyleModel",
      "_view_count": null,
      "_view_module": "@jupyter-widgets/base",
      "_view_module_version": "1.2.0",
      "_view_name": "StyleView",
      "description_width": ""
     }
    },
    "b423e1b736074c2392cb84cdd7ad5952": {
     "model_module": "@jupyter-widgets/base",
     "model_name": "LayoutModel",
     "state": {
      "_model_module": "@jupyter-widgets/base",
      "_model_module_version": "1.2.0",
      "_model_name": "LayoutModel",
      "_view_count": null,
      "_view_module": "@jupyter-widgets/base",
      "_view_module_version": "1.2.0",
      "_view_name": "LayoutView",
      "align_content": null,
      "align_items": null,
      "align_self": null,
      "border": null,
      "bottom": null,
      "display": null,
      "flex": null,
      "flex_flow": null,
      "grid_area": null,
      "grid_auto_columns": null,
      "grid_auto_flow": null,
      "grid_auto_rows": null,
      "grid_column": null,
      "grid_gap": null,
      "grid_row": null,
      "grid_template_areas": null,
      "grid_template_columns": null,
      "grid_template_rows": null,
      "height": null,
      "justify_content": null,
      "justify_items": null,
      "left": null,
      "margin": null,
      "max_height": null,
      "max_width": null,
      "min_height": null,
      "min_width": null,
      "object_fit": null,
      "object_position": null,
      "order": null,
      "overflow": null,
      "overflow_x": null,
      "overflow_y": null,
      "padding": null,
      "right": null,
      "top": null,
      "visibility": null,
      "width": null
     }
    },
    "ba76b5a8af7247c2bbf05268d2d616f2": {
     "model_module": "@jupyter-widgets/controls",
     "model_name": "FloatProgressModel",
     "state": {
      "_dom_classes": [],
      "_model_module": "@jupyter-widgets/controls",
      "_model_module_version": "1.5.0",
      "_model_name": "FloatProgressModel",
      "_view_count": null,
      "_view_module": "@jupyter-widgets/controls",
      "_view_module_version": "1.5.0",
      "_view_name": "ProgressView",
      "bar_style": "success",
      "description": "100%",
      "description_tooltip": null,
      "layout": "IPY_MODEL_d05d248ffdda4f2994e12286f4022bb4",
      "max": 78968,
      "min": 0,
      "orientation": "horizontal",
      "style": "IPY_MODEL_4e64080b2dad44618d9f84fadfedc3c8",
      "value": 78968
     }
    },
    "d05d248ffdda4f2994e12286f4022bb4": {
     "model_module": "@jupyter-widgets/base",
     "model_name": "LayoutModel",
     "state": {
      "_model_module": "@jupyter-widgets/base",
      "_model_module_version": "1.2.0",
      "_model_name": "LayoutModel",
      "_view_count": null,
      "_view_module": "@jupyter-widgets/base",
      "_view_module_version": "1.2.0",
      "_view_name": "LayoutView",
      "align_content": null,
      "align_items": null,
      "align_self": null,
      "border": null,
      "bottom": null,
      "display": null,
      "flex": null,
      "flex_flow": null,
      "grid_area": null,
      "grid_auto_columns": null,
      "grid_auto_flow": null,
      "grid_auto_rows": null,
      "grid_column": null,
      "grid_gap": null,
      "grid_row": null,
      "grid_template_areas": null,
      "grid_template_columns": null,
      "grid_template_rows": null,
      "height": null,
      "justify_content": null,
      "justify_items": null,
      "left": null,
      "margin": null,
      "max_height": null,
      "max_width": null,
      "min_height": null,
      "min_width": null,
      "object_fit": null,
      "object_position": null,
      "order": null,
      "overflow": null,
      "overflow_x": null,
      "overflow_y": null,
      "padding": null,
      "right": null,
      "top": null,
      "visibility": null,
      "width": null
     }
    },
    "d992df4d7c1a462087344c971a01c04a": {
     "model_module": "@jupyter-widgets/base",
     "model_name": "LayoutModel",
     "state": {
      "_model_module": "@jupyter-widgets/base",
      "_model_module_version": "1.2.0",
      "_model_name": "LayoutModel",
      "_view_count": null,
      "_view_module": "@jupyter-widgets/base",
      "_view_module_version": "1.2.0",
      "_view_name": "LayoutView",
      "align_content": null,
      "align_items": null,
      "align_self": null,
      "border": null,
      "bottom": null,
      "display": null,
      "flex": null,
      "flex_flow": null,
      "grid_area": null,
      "grid_auto_columns": null,
      "grid_auto_flow": null,
      "grid_auto_rows": null,
      "grid_column": null,
      "grid_gap": null,
      "grid_row": null,
      "grid_template_areas": null,
      "grid_template_columns": null,
      "grid_template_rows": null,
      "height": null,
      "justify_content": null,
      "justify_items": null,
      "left": null,
      "margin": null,
      "max_height": null,
      "max_width": null,
      "min_height": null,
      "min_width": null,
      "object_fit": null,
      "object_position": null,
      "order": null,
      "overflow": null,
      "overflow_x": null,
      "overflow_y": null,
      "padding": null,
      "right": null,
      "top": null,
      "visibility": null,
      "width": null
     }
    }
   }
  }
 },
 "nbformat": 4,
 "nbformat_minor": 4
}
