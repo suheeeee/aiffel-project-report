{
 "cells": [
  {
   "cell_type": "markdown",
   "id": "c2b4fc3e",
   "metadata": {},
   "source": [
    "# 멋진 챗봇 만들기 :: Transfomer + Chatbot\n",
    "---"
   ]
  },
  {
   "cell_type": "markdown",
   "id": "64420c35",
   "metadata": {
    "execution": {
     "iopub.execute_input": "2021-05-07T06:48:35.220005Z",
     "iopub.status.busy": "2021-05-07T06:48:35.219692Z",
     "iopub.status.idle": "2021-05-07T06:48:35.227348Z",
     "shell.execute_reply": "2021-05-07T06:48:35.226353Z",
     "shell.execute_reply.started": "2021-05-07T06:48:35.219937Z"
    }
   },
   "source": [
    "Transfomer를 활용하여 한국어 챗봇을 만들어 보자 ᕕ( ᐛ )ᕗ~♪"
   ]
  },
  {
   "cell_type": "markdown",
   "id": "b0d25239",
   "metadata": {},
   "source": [
    "## STEP 0. 설계\n",
    "---"
   ]
  },
  {
   "cell_type": "markdown",
   "id": "23e9e205",
   "metadata": {},
   "source": [
    "한국어 챗봇을 만들기 위하여 다음과 같은 순서로 프로젝트를 수행한다.\n",
    "1. 데이터 수집 : 송영숙님이 공개한 챗봇 데이터를 다운로드 받는다.\n",
    "2. 데이터 전처리\n",
    "    - 구두점/결측치/중복 제거\n",
    "    - 데이터를 질문/답변의 쌍으로 전처리 → `que_corpus` , `ans_corpus` \n",
    "     - 토큰화 : `mecab` 사용\n",
    "    - Augmentation\n",
    "        - 사전 훈련된 한국어 Embedding 모델을 다운로드 받아 Lexical Substitution를 적용시켜 본다.\n",
    "        - Augmentation 결과를 활용하면 다음과 조합의 데이터셋이 만들어 진다.\n",
    "            - 원본 que_corpus - 원본 ans_corpus\n",
    "            - 원본 que_corpus - 생성된 ans_corpus \n",
    "            - 생성된 que_corpus - 원본 ans_corpus\n",
    "     - 데이터 인코딩\n",
    "     - ans_corpus의 양끝에 `<start>`, `<end>` 토큰을 추가 → `enc_train`, `dec_train`\n",
    "3. 모델 정의\n",
    "    - Positional Encoding\n",
    "    - Masking\n",
    "    - Multi-head Attention\n",
    "    - Position-wise Feed Forward Network\n",
    "    - Encoder Layer / Decoder Layer\n",
    "    - Encoder / Decoder\n",
    "    - Transformer\n",
    "4. 모델 훈련\n",
    "    - Learning Rate Scheduler 정의\n",
    "    - Optimizer, Loss Funciton 정의\n",
    "    - Train 함수 정의\n",
    "    - 모델 훈련 수행\n",
    "5. 모델 평가\n",
    "    - BLEU Score를 계산하여 모델을 평가한다."
   ]
  },
  {
   "cell_type": "markdown",
   "id": "7cb43c3d",
   "metadata": {
    "tags": []
   },
   "source": [
    "#### Environment setting"
   ]
  },
  {
   "cell_type": "code",
   "execution_count": 1,
   "id": "54ac11a6",
   "metadata": {
    "execution": {
     "iopub.execute_input": "2021-05-09T03:09:12.999070Z",
     "iopub.status.busy": "2021-05-09T03:09:12.998828Z",
     "iopub.status.idle": "2021-05-09T03:09:14.914367Z",
     "shell.execute_reply": "2021-05-09T03:09:14.913869Z",
     "shell.execute_reply.started": "2021-05-09T03:09:12.999007Z"
    },
    "tags": []
   },
   "outputs": [
    {
     "name": "stdout",
     "output_type": "stream",
     "text": [
      "2.4.1\n"
     ]
    }
   ],
   "source": [
    "# import packages ########################################################\n",
    "import numpy as np\n",
    "import pandas as pd\n",
    "import tensorflow as tf\n",
    "from matplotlib import pyplot as plt\n",
    "\n",
    "import re\n",
    "import os\n",
    "import io\n",
    "import time\n",
    "import random\n",
    "\n",
    "from gensim.models import word2vec\n",
    "from tqdm.notebook import tqdm\n",
    "\n",
    "from sklearn.model_selection import train_test_split\n",
    "print(tf.__version__)"
   ]
  },
  {
   "cell_type": "code",
   "execution_count": 2,
   "id": "37480678",
   "metadata": {
    "execution": {
     "iopub.execute_input": "2021-05-09T03:09:14.915343Z",
     "iopub.status.busy": "2021-05-09T03:09:14.915182Z",
     "iopub.status.idle": "2021-05-09T03:09:14.917779Z",
     "shell.execute_reply": "2021-05-09T03:09:14.917310Z",
     "shell.execute_reply.started": "2021-05-09T03:09:14.915322Z"
    },
    "tags": []
   },
   "outputs": [],
   "source": [
    "# set directory path# #######################################################\n",
    "workspace_path = os.getenv('HOME')+'/workspace/aiffel-gd-nlp/GD12_transformer_chatbot'\n",
    "data_dir_path = workspace_path + '/data'"
   ]
  },
  {
   "cell_type": "code",
   "execution_count": 3,
   "id": "7e7bcc8a",
   "metadata": {
    "execution": {
     "iopub.execute_input": "2021-05-09T03:09:14.918970Z",
     "iopub.status.busy": "2021-05-09T03:09:14.918796Z",
     "iopub.status.idle": "2021-05-09T03:09:15.532551Z",
     "shell.execute_reply": "2021-05-09T03:09:15.531957Z",
     "shell.execute_reply.started": "2021-05-09T03:09:14.918948Z"
    },
    "tags": []
   },
   "outputs": [
    {
     "name": "stdout",
     "output_type": "stream",
     "text": [
      "1 Physical GPUs, 1 Logical GPUs\n",
      "\n",
      "\n"
     ]
    }
   ],
   "source": [
    "# initialization gpu ########################################################\n",
    "import tensorflow as tf\n",
    "def init_gpu():\n",
    "    gpus = tf.config.experimental.list_physical_devices('GPU')\n",
    "    if gpus:\n",
    "        try:\n",
    "            # Currently, memory growth needs to be the same across GPUs\n",
    "            for gpu in gpus:\n",
    "                tf.config.experimental.set_memory_growth(gpu, True)\n",
    "            logical_gpus = tf.config.experimental.list_logical_devices('GPU')\n",
    "            print(len(gpus), \"Physical GPUs,\", len(logical_gpus), \"Logical GPUs\\n\\n\")\n",
    "        except RuntimeError as e:\n",
    "            # Memory growth must be set before GPUs have been initialized\n",
    "            print(e, \"\\n\\n\")\n",
    "        \n",
    "init_gpu()"
   ]
  },
  {
   "cell_type": "markdown",
   "id": "24a8d41f",
   "metadata": {},
   "source": [
    "## Step 1. 데이터 수집\n",
    "---"
   ]
  },
  {
   "cell_type": "markdown",
   "id": "8e538fb3",
   "metadata": {
    "tags": []
   },
   "source": [
    "### 1. 한국어 챗봇 데이터 다운로드"
   ]
  },
  {
   "cell_type": "markdown",
   "id": "0c200e1f",
   "metadata": {},
   "source": [
    "송영숙님이 공개한 챗봇 데이터를 다운로드 받는다.\n",
    "\n",
    "- link : https://github.com/songys/Chatbot_data"
   ]
  },
  {
   "cell_type": "code",
   "execution_count": 4,
   "id": "dc491412",
   "metadata": {
    "execution": {
     "iopub.execute_input": "2021-05-09T03:09:15.533900Z",
     "iopub.status.busy": "2021-05-09T03:09:15.533654Z",
     "iopub.status.idle": "2021-05-09T03:09:15.536609Z",
     "shell.execute_reply": "2021-05-09T03:09:15.536010Z",
     "shell.execute_reply.started": "2021-05-09T03:09:15.533867Z"
    }
   },
   "outputs": [],
   "source": [
    "# ! wget https://github.com/songys/Chatbot_data/raw/master/ChatbotData%20.csv -P ./data"
   ]
  },
  {
   "cell_type": "code",
   "execution_count": 5,
   "id": "f1af2ad2",
   "metadata": {
    "execution": {
     "iopub.execute_input": "2021-05-09T03:09:15.537550Z",
     "iopub.status.busy": "2021-05-09T03:09:15.537349Z",
     "iopub.status.idle": "2021-05-09T03:09:15.671391Z",
     "shell.execute_reply": "2021-05-09T03:09:15.670568Z",
     "shell.execute_reply.started": "2021-05-09T03:09:15.537519Z"
    }
   },
   "outputs": [
    {
     "name": "stdout",
     "output_type": "stream",
     "text": [
      "ChatbotData20.csv  ko-Word2Vecreference  s_spm_spa-eng.vocab\n",
      "ko-Word2Vec\t   lang_corpus.txt\n",
      "ko-Word2Vec.zip    s_spm_spa-eng.model\n"
     ]
    }
   ],
   "source": [
    "!ls ./data"
   ]
  },
  {
   "cell_type": "code",
   "execution_count": 6,
   "id": "71c31df6",
   "metadata": {
    "execution": {
     "iopub.execute_input": "2021-05-09T03:09:15.672822Z",
     "iopub.status.busy": "2021-05-09T03:09:15.672571Z",
     "iopub.status.idle": "2021-05-09T03:09:15.676229Z",
     "shell.execute_reply": "2021-05-09T03:09:15.675448Z",
     "shell.execute_reply.started": "2021-05-09T03:09:15.672787Z"
    }
   },
   "outputs": [],
   "source": [
    "# !mv ./data/ChatbotData\\ .csv ./data/ChatbotData20.csv"
   ]
  },
  {
   "cell_type": "markdown",
   "id": "de1e044b",
   "metadata": {
    "tags": []
   },
   "source": [
    "### 2. 사전 훈련된 한국어 Embedding 모델을 다운로드"
   ]
  },
  {
   "cell_type": "markdown",
   "id": "b526468c",
   "metadata": {},
   "source": [
    "사전 훈련된 한국어 Word2Vec Embedding을 아래의 링크에서 찾아 다운로드 받는다.\n",
    "- link : https://github.com/Kyubyong/wordvectors"
   ]
  },
  {
   "cell_type": "code",
   "execution_count": 7,
   "id": "804a52ec",
   "metadata": {
    "execution": {
     "iopub.execute_input": "2021-05-09T03:09:15.677095Z",
     "iopub.status.busy": "2021-05-09T03:09:15.676928Z",
     "iopub.status.idle": "2021-05-09T03:09:15.808627Z",
     "shell.execute_reply": "2021-05-09T03:09:15.807810Z",
     "shell.execute_reply.started": "2021-05-09T03:09:15.677073Z"
    },
    "tags": []
   },
   "outputs": [
    {
     "name": "stdout",
     "output_type": "stream",
     "text": [
      "ChatbotData20.csv  ko-Word2Vecreference  s_spm_spa-eng.vocab\n",
      "ko-Word2Vec\t   lang_corpus.txt\n",
      "ko-Word2Vec.zip    s_spm_spa-eng.model\n"
     ]
    }
   ],
   "source": [
    "!ls data"
   ]
  },
  {
   "cell_type": "code",
   "execution_count": 8,
   "id": "23b34b93",
   "metadata": {
    "execution": {
     "iopub.execute_input": "2021-05-09T03:09:15.811421Z",
     "iopub.status.busy": "2021-05-09T03:09:15.811161Z",
     "iopub.status.idle": "2021-05-09T03:12:30.656911Z",
     "shell.execute_reply": "2021-05-09T03:12:30.656205Z",
     "shell.execute_reply.started": "2021-05-09T03:09:15.811385Z"
    },
    "tags": []
   },
   "outputs": [
    {
     "name": "stdout",
     "output_type": "stream",
     "text": [
      "Archive:  data/ko-Word2Vec.zip\n",
      "replace data/ko-Word2Vecreference/ko.bin? [y]es, [n]o, [A]ll, [N]one, [r]ename: ^C\n"
     ]
    }
   ],
   "source": [
    "!unzip data/ko-Word2Vec.zip -d data/ko-Word2Vecreference"
   ]
  },
  {
   "cell_type": "code",
   "execution_count": 9,
   "id": "7823308e",
   "metadata": {
    "execution": {
     "iopub.execute_input": "2021-05-09T03:12:30.658512Z",
     "iopub.status.busy": "2021-05-09T03:12:30.658306Z",
     "iopub.status.idle": "2021-05-09T03:12:30.787928Z",
     "shell.execute_reply": "2021-05-09T03:12:30.787178Z",
     "shell.execute_reply.started": "2021-05-09T03:12:30.658483Z"
    },
    "tags": []
   },
   "outputs": [
    {
     "name": "stdout",
     "output_type": "stream",
     "text": [
      "ko.bin\tko.tsv\n"
     ]
    }
   ],
   "source": [
    "!ls data/ko-Word2Vec"
   ]
  },
  {
   "cell_type": "markdown",
   "id": "b9ddea20",
   "metadata": {
    "tags": []
   },
   "source": [
    "## Step 2. 데이터 전처리\n",
    "---"
   ]
  },
  {
   "cell_type": "markdown",
   "id": "250cf806",
   "metadata": {
    "tags": []
   },
   "source": [
    "### 1. 결측치 제거 및 데이터 정제"
   ]
  },
  {
   "cell_type": "markdown",
   "id": "e3116b8a",
   "metadata": {},
   "source": [
    "챗봇 데이터를 읽어들여 데이터의 결측치를 제거하고, 데이터를 정제한다.<br>\n",
    "데이터 정제는 다음과 같은 작업이 포함된다.\n",
    "- 영문 대문자를 모두 소문자로 변환\n",
    "- 영문/한글/숫자/주요 특수문자를 제외한 문자 제거"
   ]
  },
  {
   "cell_type": "markdown",
   "id": "225bbf88",
   "metadata": {
    "tags": []
   },
   "source": [
    "#### A. 데이터 불러오기"
   ]
  },
  {
   "cell_type": "code",
   "execution_count": 10,
   "id": "c6826b28",
   "metadata": {
    "execution": {
     "iopub.execute_input": "2021-05-09T03:12:30.789152Z",
     "iopub.status.busy": "2021-05-09T03:12:30.788973Z",
     "iopub.status.idle": "2021-05-09T03:12:30.823439Z",
     "shell.execute_reply": "2021-05-09T03:12:30.822837Z",
     "shell.execute_reply.started": "2021-05-09T03:12:30.789127Z"
    },
    "tags": []
   },
   "outputs": [
    {
     "data": {
      "text/html": [
       "<div>\n",
       "<style scoped>\n",
       "    .dataframe tbody tr th:only-of-type {\n",
       "        vertical-align: middle;\n",
       "    }\n",
       "\n",
       "    .dataframe tbody tr th {\n",
       "        vertical-align: top;\n",
       "    }\n",
       "\n",
       "    .dataframe thead th {\n",
       "        text-align: right;\n",
       "    }\n",
       "</style>\n",
       "<table border=\"1\" class=\"dataframe\">\n",
       "  <thead>\n",
       "    <tr style=\"text-align: right;\">\n",
       "      <th></th>\n",
       "      <th>Q</th>\n",
       "      <th>A</th>\n",
       "      <th>label</th>\n",
       "    </tr>\n",
       "  </thead>\n",
       "  <tbody>\n",
       "    <tr>\n",
       "      <th>0</th>\n",
       "      <td>12시 땡!</td>\n",
       "      <td>하루가 또 가네요.</td>\n",
       "      <td>0</td>\n",
       "    </tr>\n",
       "    <tr>\n",
       "      <th>1</th>\n",
       "      <td>1지망 학교 떨어졌어</td>\n",
       "      <td>위로해 드립니다.</td>\n",
       "      <td>0</td>\n",
       "    </tr>\n",
       "    <tr>\n",
       "      <th>2</th>\n",
       "      <td>3박4일 놀러가고 싶다</td>\n",
       "      <td>여행은 언제나 좋죠.</td>\n",
       "      <td>0</td>\n",
       "    </tr>\n",
       "    <tr>\n",
       "      <th>3</th>\n",
       "      <td>3박4일 정도 놀러가고 싶다</td>\n",
       "      <td>여행은 언제나 좋죠.</td>\n",
       "      <td>0</td>\n",
       "    </tr>\n",
       "    <tr>\n",
       "      <th>4</th>\n",
       "      <td>PPL 심하네</td>\n",
       "      <td>눈살이 찌푸려지죠.</td>\n",
       "      <td>0</td>\n",
       "    </tr>\n",
       "    <tr>\n",
       "      <th>5</th>\n",
       "      <td>SD카드 망가졌어</td>\n",
       "      <td>다시 새로 사는 게 마음 편해요.</td>\n",
       "      <td>0</td>\n",
       "    </tr>\n",
       "    <tr>\n",
       "      <th>6</th>\n",
       "      <td>SD카드 안돼</td>\n",
       "      <td>다시 새로 사는 게 마음 편해요.</td>\n",
       "      <td>0</td>\n",
       "    </tr>\n",
       "    <tr>\n",
       "      <th>7</th>\n",
       "      <td>SNS 맞팔 왜 안하지ㅠㅠ</td>\n",
       "      <td>잘 모르고 있을 수도 있어요.</td>\n",
       "      <td>0</td>\n",
       "    </tr>\n",
       "    <tr>\n",
       "      <th>8</th>\n",
       "      <td>SNS 시간낭비인 거 아는데 매일 하는 중</td>\n",
       "      <td>시간을 정하고 해보세요.</td>\n",
       "      <td>0</td>\n",
       "    </tr>\n",
       "    <tr>\n",
       "      <th>9</th>\n",
       "      <td>SNS 시간낭비인데 자꾸 보게됨</td>\n",
       "      <td>시간을 정하고 해보세요.</td>\n",
       "      <td>0</td>\n",
       "    </tr>\n",
       "  </tbody>\n",
       "</table>\n",
       "</div>"
      ],
      "text/plain": [
       "                         Q                   A  label\n",
       "0                   12시 땡!          하루가 또 가네요.      0\n",
       "1              1지망 학교 떨어졌어           위로해 드립니다.      0\n",
       "2             3박4일 놀러가고 싶다         여행은 언제나 좋죠.      0\n",
       "3          3박4일 정도 놀러가고 싶다         여행은 언제나 좋죠.      0\n",
       "4                  PPL 심하네          눈살이 찌푸려지죠.      0\n",
       "5                SD카드 망가졌어  다시 새로 사는 게 마음 편해요.      0\n",
       "6                  SD카드 안돼  다시 새로 사는 게 마음 편해요.      0\n",
       "7           SNS 맞팔 왜 안하지ㅠㅠ    잘 모르고 있을 수도 있어요.      0\n",
       "8  SNS 시간낭비인 거 아는데 매일 하는 중       시간을 정하고 해보세요.      0\n",
       "9        SNS 시간낭비인데 자꾸 보게됨       시간을 정하고 해보세요.      0"
      ]
     },
     "execution_count": 10,
     "metadata": {},
     "output_type": "execute_result"
    }
   ],
   "source": [
    "raw_data = pd.read_csv(data_dir_path + '/ChatbotData20.csv')\n",
    "raw_data.head(10)"
   ]
  },
  {
   "cell_type": "code",
   "execution_count": 11,
   "id": "600d52ce",
   "metadata": {
    "execution": {
     "iopub.execute_input": "2021-05-09T03:12:30.824311Z",
     "iopub.status.busy": "2021-05-09T03:12:30.824151Z",
     "iopub.status.idle": "2021-05-09T03:12:30.828028Z",
     "shell.execute_reply": "2021-05-09T03:12:30.827586Z",
     "shell.execute_reply.started": "2021-05-09T03:12:30.824289Z"
    }
   },
   "outputs": [
    {
     "data": {
      "text/plain": [
       "(11823, 3)"
      ]
     },
     "execution_count": 11,
     "metadata": {},
     "output_type": "execute_result"
    }
   ],
   "source": [
    "raw_data.shape"
   ]
  },
  {
   "cell_type": "code",
   "execution_count": 12,
   "id": "085bc78d",
   "metadata": {
    "execution": {
     "iopub.execute_input": "2021-05-09T03:12:30.828857Z",
     "iopub.status.busy": "2021-05-09T03:12:30.828699Z",
     "iopub.status.idle": "2021-05-09T03:12:30.837835Z",
     "shell.execute_reply": "2021-05-09T03:12:30.837401Z",
     "shell.execute_reply.started": "2021-05-09T03:12:30.828837Z"
    }
   },
   "outputs": [
    {
     "data": {
      "text/html": [
       "<div>\n",
       "<style scoped>\n",
       "    .dataframe tbody tr th:only-of-type {\n",
       "        vertical-align: middle;\n",
       "    }\n",
       "\n",
       "    .dataframe tbody tr th {\n",
       "        vertical-align: top;\n",
       "    }\n",
       "\n",
       "    .dataframe thead th {\n",
       "        text-align: right;\n",
       "    }\n",
       "</style>\n",
       "<table border=\"1\" class=\"dataframe\">\n",
       "  <thead>\n",
       "    <tr style=\"text-align: right;\">\n",
       "      <th></th>\n",
       "      <th>Q</th>\n",
       "      <th>A</th>\n",
       "      <th>label</th>\n",
       "    </tr>\n",
       "  </thead>\n",
       "  <tbody>\n",
       "    <tr>\n",
       "      <th>0</th>\n",
       "      <td>12시 땡!</td>\n",
       "      <td>하루가 또 가네요.</td>\n",
       "      <td>0</td>\n",
       "    </tr>\n",
       "    <tr>\n",
       "      <th>1</th>\n",
       "      <td>1지망 학교 떨어졌어</td>\n",
       "      <td>위로해 드립니다.</td>\n",
       "      <td>0</td>\n",
       "    </tr>\n",
       "    <tr>\n",
       "      <th>2</th>\n",
       "      <td>3박4일 놀러가고 싶다</td>\n",
       "      <td>여행은 언제나 좋죠.</td>\n",
       "      <td>0</td>\n",
       "    </tr>\n",
       "    <tr>\n",
       "      <th>3</th>\n",
       "      <td>3박4일 정도 놀러가고 싶다</td>\n",
       "      <td>여행은 언제나 좋죠.</td>\n",
       "      <td>0</td>\n",
       "    </tr>\n",
       "    <tr>\n",
       "      <th>4</th>\n",
       "      <td>PPL 심하네</td>\n",
       "      <td>눈살이 찌푸려지죠.</td>\n",
       "      <td>0</td>\n",
       "    </tr>\n",
       "  </tbody>\n",
       "</table>\n",
       "</div>"
      ],
      "text/plain": [
       "                 Q            A  label\n",
       "0           12시 땡!   하루가 또 가네요.      0\n",
       "1      1지망 학교 떨어졌어    위로해 드립니다.      0\n",
       "2     3박4일 놀러가고 싶다  여행은 언제나 좋죠.      0\n",
       "3  3박4일 정도 놀러가고 싶다  여행은 언제나 좋죠.      0\n",
       "4          PPL 심하네   눈살이 찌푸려지죠.      0"
      ]
     },
     "execution_count": 12,
     "metadata": {},
     "output_type": "execute_result"
    }
   ],
   "source": [
    "raw_data[raw_data['label']==0][:5]"
   ]
  },
  {
   "cell_type": "code",
   "execution_count": 13,
   "id": "868e3352",
   "metadata": {
    "execution": {
     "iopub.execute_input": "2021-05-09T03:12:30.838780Z",
     "iopub.status.busy": "2021-05-09T03:12:30.838615Z",
     "iopub.status.idle": "2021-05-09T03:12:30.846990Z",
     "shell.execute_reply": "2021-05-09T03:12:30.846371Z",
     "shell.execute_reply.started": "2021-05-09T03:12:30.838758Z"
    }
   },
   "outputs": [
    {
     "data": {
      "text/html": [
       "<div>\n",
       "<style scoped>\n",
       "    .dataframe tbody tr th:only-of-type {\n",
       "        vertical-align: middle;\n",
       "    }\n",
       "\n",
       "    .dataframe tbody tr th {\n",
       "        vertical-align: top;\n",
       "    }\n",
       "\n",
       "    .dataframe thead th {\n",
       "        text-align: right;\n",
       "    }\n",
       "</style>\n",
       "<table border=\"1\" class=\"dataframe\">\n",
       "  <thead>\n",
       "    <tr style=\"text-align: right;\">\n",
       "      <th></th>\n",
       "      <th>Q</th>\n",
       "      <th>A</th>\n",
       "      <th>label</th>\n",
       "    </tr>\n",
       "  </thead>\n",
       "  <tbody>\n",
       "    <tr>\n",
       "      <th>5290</th>\n",
       "      <td>1000일 만난 여자친구와 이별</td>\n",
       "      <td>더 오래 만날 사람 만날 거예요.</td>\n",
       "      <td>1</td>\n",
       "    </tr>\n",
       "    <tr>\n",
       "      <th>5291</th>\n",
       "      <td>10년 연애. 헤어졌습니다.</td>\n",
       "      <td>더 공허함이 크시겠네요.</td>\n",
       "      <td>1</td>\n",
       "    </tr>\n",
       "    <tr>\n",
       "      <th>5292</th>\n",
       "      <td>10년 연애사 되돌아보니 다 부질없네</td>\n",
       "      <td>더 좋은 사람 만나실 거예요.</td>\n",
       "      <td>1</td>\n",
       "    </tr>\n",
       "    <tr>\n",
       "      <th>5293</th>\n",
       "      <td>10년 연예의끝</td>\n",
       "      <td>더 마음이 허하겠어요.</td>\n",
       "      <td>1</td>\n",
       "    </tr>\n",
       "    <tr>\n",
       "      <th>5294</th>\n",
       "      <td>10년만나다 헤어지네</td>\n",
       "      <td>충분히 슬퍼하고 충분히 아파하다가 이겨내세요.</td>\n",
       "      <td>1</td>\n",
       "    </tr>\n",
       "  </tbody>\n",
       "</table>\n",
       "</div>"
      ],
      "text/plain": [
       "                         Q                          A  label\n",
       "5290     1000일 만난 여자친구와 이별         더 오래 만날 사람 만날 거예요.      1\n",
       "5291       10년 연애. 헤어졌습니다.              더 공허함이 크시겠네요.      1\n",
       "5292  10년 연애사 되돌아보니 다 부질없네           더 좋은 사람 만나실 거예요.      1\n",
       "5293              10년 연예의끝               더 마음이 허하겠어요.      1\n",
       "5294           10년만나다 헤어지네  충분히 슬퍼하고 충분히 아파하다가 이겨내세요.      1"
      ]
     },
     "execution_count": 13,
     "metadata": {},
     "output_type": "execute_result"
    }
   ],
   "source": [
    "raw_data[raw_data['label']==1][:5]"
   ]
  },
  {
   "cell_type": "code",
   "execution_count": 14,
   "id": "f7dbd4d6",
   "metadata": {
    "execution": {
     "iopub.execute_input": "2021-05-09T03:12:30.848227Z",
     "iopub.status.busy": "2021-05-09T03:12:30.847981Z",
     "iopub.status.idle": "2021-05-09T03:12:30.857795Z",
     "shell.execute_reply": "2021-05-09T03:12:30.857137Z",
     "shell.execute_reply.started": "2021-05-09T03:12:30.848193Z"
    }
   },
   "outputs": [
    {
     "data": {
      "text/html": [
       "<div>\n",
       "<style scoped>\n",
       "    .dataframe tbody tr th:only-of-type {\n",
       "        vertical-align: middle;\n",
       "    }\n",
       "\n",
       "    .dataframe tbody tr th {\n",
       "        vertical-align: top;\n",
       "    }\n",
       "\n",
       "    .dataframe thead th {\n",
       "        text-align: right;\n",
       "    }\n",
       "</style>\n",
       "<table border=\"1\" class=\"dataframe\">\n",
       "  <thead>\n",
       "    <tr style=\"text-align: right;\">\n",
       "      <th></th>\n",
       "      <th>Q</th>\n",
       "      <th>A</th>\n",
       "      <th>label</th>\n",
       "    </tr>\n",
       "  </thead>\n",
       "  <tbody>\n",
       "    <tr>\n",
       "      <th>8860</th>\n",
       "      <td>짝사랑만큼 고통스러운 건 없겠지.</td>\n",
       "      <td>짝사랑 만큼 감정소모가 큰 건 없을 거예요.</td>\n",
       "      <td>2</td>\n",
       "    </tr>\n",
       "    <tr>\n",
       "      <th>8861</th>\n",
       "      <td>1년 넘게 만났는데 지금도 불타올라</td>\n",
       "      <td>정열적인 사랑을 하고 있나봐요.</td>\n",
       "      <td>2</td>\n",
       "    </tr>\n",
       "    <tr>\n",
       "      <th>8862</th>\n",
       "      <td>1년 동거 중인데 계속 좋아</td>\n",
       "      <td>서로 깊게 알게되면서 더 좋아졌나봅니다.</td>\n",
       "      <td>2</td>\n",
       "    </tr>\n",
       "    <tr>\n",
       "      <th>8863</th>\n",
       "      <td>1년 동거하고 결혼했어</td>\n",
       "      <td>축하합니다!</td>\n",
       "      <td>2</td>\n",
       "    </tr>\n",
       "    <tr>\n",
       "      <th>8864</th>\n",
       "      <td>1년 만났는데도 그 사람에 대해 잘 모르겠어</td>\n",
       "      <td>더 만나보세요.</td>\n",
       "      <td>2</td>\n",
       "    </tr>\n",
       "  </tbody>\n",
       "</table>\n",
       "</div>"
      ],
      "text/plain": [
       "                             Q                         A  label\n",
       "8860        짝사랑만큼 고통스러운 건 없겠지.  짝사랑 만큼 감정소모가 큰 건 없을 거예요.      2\n",
       "8861       1년 넘게 만났는데 지금도 불타올라         정열적인 사랑을 하고 있나봐요.      2\n",
       "8862           1년 동거 중인데 계속 좋아    서로 깊게 알게되면서 더 좋아졌나봅니다.      2\n",
       "8863              1년 동거하고 결혼했어                    축하합니다!      2\n",
       "8864  1년 만났는데도 그 사람에 대해 잘 모르겠어                  더 만나보세요.      2"
      ]
     },
     "execution_count": 14,
     "metadata": {},
     "output_type": "execute_result"
    }
   ],
   "source": [
    "raw_data[raw_data['label']==2][:5]"
   ]
  },
  {
   "cell_type": "markdown",
   "id": "f9deff7e",
   "metadata": {},
   "source": [
    "해당 데이터는 질문-대답-라벨의 구성을 가지며, 총 11823 쌍의 데이터가 존재한다.\n",
    "데이터의 라벨은 0 : 일상다반사, 1 : 이별(부정), 2 : 사랑(긍정)으로 raw_data[raw_data['label']==0][:5]정의되어 있다."
   ]
  },
  {
   "cell_type": "markdown",
   "id": "067c5d7f",
   "metadata": {
    "tags": []
   },
   "source": [
    "#### B. 결측치 제거"
   ]
  },
  {
   "cell_type": "code",
   "execution_count": 15,
   "id": "be618198",
   "metadata": {
    "execution": {
     "iopub.execute_input": "2021-05-09T03:12:30.859104Z",
     "iopub.status.busy": "2021-05-09T03:12:30.858846Z",
     "iopub.status.idle": "2021-05-09T03:12:30.866031Z",
     "shell.execute_reply": "2021-05-09T03:12:30.865580Z",
     "shell.execute_reply.started": "2021-05-09T03:12:30.859069Z"
    }
   },
   "outputs": [
    {
     "data": {
      "text/plain": [
       "Q        0\n",
       "A        0\n",
       "label    0\n",
       "dtype: int64"
      ]
     },
     "execution_count": 15,
     "metadata": {},
     "output_type": "execute_result"
    }
   ],
   "source": [
    "raw_data.isnull().sum()"
   ]
  },
  {
   "cell_type": "markdown",
   "id": "b6cd97fd",
   "metadata": {},
   "source": [
    "데이터에 결측치가 없기 때문에 따로 제거할 필요가 없다."
   ]
  },
  {
   "cell_type": "markdown",
   "id": "85b98a5a",
   "metadata": {
    "tags": []
   },
   "source": [
    "#### C. 중복 제거"
   ]
  },
  {
   "cell_type": "markdown",
   "id": "3ae34403",
   "metadata": {},
   "source": [
    "- 중복 데이터 확인"
   ]
  },
  {
   "cell_type": "code",
   "execution_count": 16,
   "id": "617944e9",
   "metadata": {
    "execution": {
     "iopub.execute_input": "2021-05-09T03:12:30.866994Z",
     "iopub.status.busy": "2021-05-09T03:12:30.866801Z",
     "iopub.status.idle": "2021-05-09T03:12:30.878368Z",
     "shell.execute_reply": "2021-05-09T03:12:30.877806Z",
     "shell.execute_reply.started": "2021-05-09T03:12:30.866970Z"
    },
    "tags": []
   },
   "outputs": [
    {
     "data": {
      "text/html": [
       "<div>\n",
       "<style scoped>\n",
       "    .dataframe tbody tr th:only-of-type {\n",
       "        vertical-align: middle;\n",
       "    }\n",
       "\n",
       "    .dataframe tbody tr th {\n",
       "        vertical-align: top;\n",
       "    }\n",
       "\n",
       "    .dataframe thead th {\n",
       "        text-align: right;\n",
       "    }\n",
       "</style>\n",
       "<table border=\"1\" class=\"dataframe\">\n",
       "  <thead>\n",
       "    <tr style=\"text-align: right;\">\n",
       "      <th></th>\n",
       "      <th>Q</th>\n",
       "      <th>A</th>\n",
       "      <th>label</th>\n",
       "    </tr>\n",
       "  </thead>\n",
       "  <tbody>\n",
       "    <tr>\n",
       "      <th>196</th>\n",
       "      <td>고양이 키우고 싶어</td>\n",
       "      <td>가족들과 상의해보세요.</td>\n",
       "      <td>0</td>\n",
       "    </tr>\n",
       "    <tr>\n",
       "      <th>235</th>\n",
       "      <td>공시 준비 힘들어</td>\n",
       "      <td>잘 될 거예요.</td>\n",
       "      <td>0</td>\n",
       "    </tr>\n",
       "    <tr>\n",
       "      <th>1294</th>\n",
       "      <td>돈 벌고 싶어</td>\n",
       "      <td>많이 벌수록 좋아요.</td>\n",
       "      <td>0</td>\n",
       "    </tr>\n",
       "    <tr>\n",
       "      <th>1445</th>\n",
       "      <td>로또 번호 알려줘</td>\n",
       "      <td>알면 제가 하죠.</td>\n",
       "      <td>0</td>\n",
       "    </tr>\n",
       "    <tr>\n",
       "      <th>1481</th>\n",
       "      <td>마음이 울적해</td>\n",
       "      <td>거리를 걸어보세요.</td>\n",
       "      <td>0</td>\n",
       "    </tr>\n",
       "    <tr>\n",
       "      <th>...</th>\n",
       "      <td>...</td>\n",
       "      <td>...</td>\n",
       "      <td>...</td>\n",
       "    </tr>\n",
       "    <tr>\n",
       "      <th>11642</th>\n",
       "      <td>착해서 잘해주는 건지 좋아하는 건지</td>\n",
       "      <td>헷갈린다고 말해보세요.</td>\n",
       "      <td>2</td>\n",
       "    </tr>\n",
       "    <tr>\n",
       "      <th>11649</th>\n",
       "      <td>첫 눈에 반하는게 가능해?</td>\n",
       "      <td>당연히 가능하죠.</td>\n",
       "      <td>2</td>\n",
       "    </tr>\n",
       "    <tr>\n",
       "      <th>11658</th>\n",
       "      <td>첫사랑 생각나</td>\n",
       "      <td>지금의 사랑에 충실하세요.</td>\n",
       "      <td>2</td>\n",
       "    </tr>\n",
       "    <tr>\n",
       "      <th>11732</th>\n",
       "      <td>커플여행이 나을까 그냥 우리끼리 갈까?</td>\n",
       "      <td>저는 둘이 가는 게 좋아요.</td>\n",
       "      <td>2</td>\n",
       "    </tr>\n",
       "    <tr>\n",
       "      <th>11819</th>\n",
       "      <td>훔쳐보는 것도 눈치 보임.</td>\n",
       "      <td>훔쳐보는 거 티나나봐요.</td>\n",
       "      <td>2</td>\n",
       "    </tr>\n",
       "  </tbody>\n",
       "</table>\n",
       "<p>161 rows × 3 columns</p>\n",
       "</div>"
      ],
      "text/plain": [
       "                           Q                A  label\n",
       "196               고양이 키우고 싶어     가족들과 상의해보세요.      0\n",
       "235                공시 준비 힘들어         잘 될 거예요.      0\n",
       "1294                 돈 벌고 싶어      많이 벌수록 좋아요.      0\n",
       "1445               로또 번호 알려줘        알면 제가 하죠.      0\n",
       "1481                 마음이 울적해       거리를 걸어보세요.      0\n",
       "...                      ...              ...    ...\n",
       "11642    착해서 잘해주는 건지 좋아하는 건지     헷갈린다고 말해보세요.      2\n",
       "11649         첫 눈에 반하는게 가능해?        당연히 가능하죠.      2\n",
       "11658                첫사랑 생각나   지금의 사랑에 충실하세요.      2\n",
       "11732  커플여행이 나을까 그냥 우리끼리 갈까?  저는 둘이 가는 게 좋아요.      2\n",
       "11819         훔쳐보는 것도 눈치 보임.    훔쳐보는 거 티나나봐요.      2\n",
       "\n",
       "[161 rows x 3 columns]"
      ]
     },
     "execution_count": 16,
     "metadata": {},
     "output_type": "execute_result"
    }
   ],
   "source": [
    "raw_data[raw_data['Q'].duplicated()]"
   ]
  },
  {
   "cell_type": "code",
   "execution_count": 17,
   "id": "9fa028a0",
   "metadata": {
    "execution": {
     "iopub.execute_input": "2021-05-09T03:12:30.879392Z",
     "iopub.status.busy": "2021-05-09T03:12:30.879185Z",
     "iopub.status.idle": "2021-05-09T03:12:30.888309Z",
     "shell.execute_reply": "2021-05-09T03:12:30.887683Z",
     "shell.execute_reply.started": "2021-05-09T03:12:30.879362Z"
    },
    "tags": []
   },
   "outputs": [
    {
     "data": {
      "text/html": [
       "<div>\n",
       "<style scoped>\n",
       "    .dataframe tbody tr th:only-of-type {\n",
       "        vertical-align: middle;\n",
       "    }\n",
       "\n",
       "    .dataframe tbody tr th {\n",
       "        vertical-align: top;\n",
       "    }\n",
       "\n",
       "    .dataframe thead th {\n",
       "        text-align: right;\n",
       "    }\n",
       "</style>\n",
       "<table border=\"1\" class=\"dataframe\">\n",
       "  <thead>\n",
       "    <tr style=\"text-align: right;\">\n",
       "      <th></th>\n",
       "      <th>Q</th>\n",
       "      <th>A</th>\n",
       "      <th>label</th>\n",
       "    </tr>\n",
       "  </thead>\n",
       "  <tbody>\n",
       "    <tr>\n",
       "      <th>195</th>\n",
       "      <td>고양이 키우고 싶어</td>\n",
       "      <td>자신을 먼저 키우세요.</td>\n",
       "      <td>0</td>\n",
       "    </tr>\n",
       "    <tr>\n",
       "      <th>196</th>\n",
       "      <td>고양이 키우고 싶어</td>\n",
       "      <td>가족들과 상의해보세요.</td>\n",
       "      <td>0</td>\n",
       "    </tr>\n",
       "  </tbody>\n",
       "</table>\n",
       "</div>"
      ],
      "text/plain": [
       "              Q             A  label\n",
       "195  고양이 키우고 싶어  자신을 먼저 키우세요.      0\n",
       "196  고양이 키우고 싶어  가족들과 상의해보세요.      0"
      ]
     },
     "execution_count": 17,
     "metadata": {},
     "output_type": "execute_result"
    }
   ],
   "source": [
    "raw_data[raw_data['Q'][196]==raw_data['Q']]"
   ]
  },
  {
   "cell_type": "code",
   "execution_count": 18,
   "id": "23b3f073",
   "metadata": {
    "execution": {
     "iopub.execute_input": "2021-05-09T03:12:30.889514Z",
     "iopub.status.busy": "2021-05-09T03:12:30.889276Z",
     "iopub.status.idle": "2021-05-09T03:12:30.900830Z",
     "shell.execute_reply": "2021-05-09T03:12:30.900378Z",
     "shell.execute_reply.started": "2021-05-09T03:12:30.889481Z"
    },
    "tags": []
   },
   "outputs": [
    {
     "data": {
      "text/html": [
       "<div>\n",
       "<style scoped>\n",
       "    .dataframe tbody tr th:only-of-type {\n",
       "        vertical-align: middle;\n",
       "    }\n",
       "\n",
       "    .dataframe tbody tr th {\n",
       "        vertical-align: top;\n",
       "    }\n",
       "\n",
       "    .dataframe thead th {\n",
       "        text-align: right;\n",
       "    }\n",
       "</style>\n",
       "<table border=\"1\" class=\"dataframe\">\n",
       "  <thead>\n",
       "    <tr style=\"text-align: right;\">\n",
       "      <th></th>\n",
       "      <th>Q</th>\n",
       "      <th>A</th>\n",
       "      <th>label</th>\n",
       "    </tr>\n",
       "  </thead>\n",
       "  <tbody>\n",
       "    <tr>\n",
       "      <th>3</th>\n",
       "      <td>3박4일 정도 놀러가고 싶다</td>\n",
       "      <td>여행은 언제나 좋죠.</td>\n",
       "      <td>0</td>\n",
       "    </tr>\n",
       "    <tr>\n",
       "      <th>6</th>\n",
       "      <td>SD카드 안돼</td>\n",
       "      <td>다시 새로 사는 게 마음 편해요.</td>\n",
       "      <td>0</td>\n",
       "    </tr>\n",
       "    <tr>\n",
       "      <th>9</th>\n",
       "      <td>SNS 시간낭비인데 자꾸 보게됨</td>\n",
       "      <td>시간을 정하고 해보세요.</td>\n",
       "      <td>0</td>\n",
       "    </tr>\n",
       "    <tr>\n",
       "      <th>12</th>\n",
       "      <td>가끔 뭐하는지 궁금해</td>\n",
       "      <td>그 사람도 그럴 거예요.</td>\n",
       "      <td>0</td>\n",
       "    </tr>\n",
       "    <tr>\n",
       "      <th>18</th>\n",
       "      <td>가스불 켜놓고 나온거 같아</td>\n",
       "      <td>빨리 집에 돌아가서 끄고 나오세요.</td>\n",
       "      <td>0</td>\n",
       "    </tr>\n",
       "    <tr>\n",
       "      <th>...</th>\n",
       "      <td>...</td>\n",
       "      <td>...</td>\n",
       "      <td>...</td>\n",
       "    </tr>\n",
       "    <tr>\n",
       "      <th>11806</th>\n",
       "      <td>혼자만 설레고 혼자서 끝내는 짝사랑 그만할래.</td>\n",
       "      <td>맘고생 많았어요.</td>\n",
       "      <td>2</td>\n",
       "    </tr>\n",
       "    <tr>\n",
       "      <th>11807</th>\n",
       "      <td>화이트데이에 고백할까요?</td>\n",
       "      <td>선물을 주면서 솔직하고 당당하게 고백해보세요.</td>\n",
       "      <td>2</td>\n",
       "    </tr>\n",
       "    <tr>\n",
       "      <th>11809</th>\n",
       "      <td>확실히 날 좋아하는 걸 아는 남자랑 친구가 될 수 있을까?</td>\n",
       "      <td>그 사람을 위해서는 그러면 안돼요.</td>\n",
       "      <td>2</td>\n",
       "    </tr>\n",
       "    <tr>\n",
       "      <th>11816</th>\n",
       "      <td>회식하는데 나만 챙겨줘. 썸임?</td>\n",
       "      <td>호감이 있을 수도 있어요. 그렇지만 조금 더 상황을 지켜보세요.</td>\n",
       "      <td>2</td>\n",
       "    </tr>\n",
       "    <tr>\n",
       "      <th>11822</th>\n",
       "      <td>힘들어서 결혼할까봐</td>\n",
       "      <td>도피성 결혼은 하지 않길 바라요.</td>\n",
       "      <td>2</td>\n",
       "    </tr>\n",
       "  </tbody>\n",
       "</table>\n",
       "<p>4044 rows × 3 columns</p>\n",
       "</div>"
      ],
      "text/plain": [
       "                                      Q                                    A  \\\n",
       "3                       3박4일 정도 놀러가고 싶다                          여행은 언제나 좋죠.   \n",
       "6                               SD카드 안돼                   다시 새로 사는 게 마음 편해요.   \n",
       "9                     SNS 시간낭비인데 자꾸 보게됨                        시간을 정하고 해보세요.   \n",
       "12                          가끔 뭐하는지 궁금해                        그 사람도 그럴 거예요.   \n",
       "18                       가스불 켜놓고 나온거 같아                  빨리 집에 돌아가서 끄고 나오세요.   \n",
       "...                                 ...                                  ...   \n",
       "11806         혼자만 설레고 혼자서 끝내는 짝사랑 그만할래.                            맘고생 많았어요.   \n",
       "11807                     화이트데이에 고백할까요?            선물을 주면서 솔직하고 당당하게 고백해보세요.   \n",
       "11809  확실히 날 좋아하는 걸 아는 남자랑 친구가 될 수 있을까?                  그 사람을 위해서는 그러면 안돼요.   \n",
       "11816                 회식하는데 나만 챙겨줘. 썸임?  호감이 있을 수도 있어요. 그렇지만 조금 더 상황을 지켜보세요.   \n",
       "11822                        힘들어서 결혼할까봐                   도피성 결혼은 하지 않길 바라요.   \n",
       "\n",
       "       label  \n",
       "3          0  \n",
       "6          0  \n",
       "9          0  \n",
       "12         0  \n",
       "18         0  \n",
       "...      ...  \n",
       "11806      2  \n",
       "11807      2  \n",
       "11809      2  \n",
       "11816      2  \n",
       "11822      2  \n",
       "\n",
       "[4044 rows x 3 columns]"
      ]
     },
     "execution_count": 18,
     "metadata": {},
     "output_type": "execute_result"
    }
   ],
   "source": [
    "raw_data[raw_data['A'].duplicated()]"
   ]
  },
  {
   "cell_type": "code",
   "execution_count": 19,
   "id": "7fe02dda",
   "metadata": {
    "execution": {
     "iopub.execute_input": "2021-05-09T03:12:30.901724Z",
     "iopub.status.busy": "2021-05-09T03:12:30.901567Z",
     "iopub.status.idle": "2021-05-09T03:12:30.911089Z",
     "shell.execute_reply": "2021-05-09T03:12:30.910578Z",
     "shell.execute_reply.started": "2021-05-09T03:12:30.901702Z"
    },
    "tags": []
   },
   "outputs": [
    {
     "data": {
      "text/html": [
       "<div>\n",
       "<style scoped>\n",
       "    .dataframe tbody tr th:only-of-type {\n",
       "        vertical-align: middle;\n",
       "    }\n",
       "\n",
       "    .dataframe tbody tr th {\n",
       "        vertical-align: top;\n",
       "    }\n",
       "\n",
       "    .dataframe thead th {\n",
       "        text-align: right;\n",
       "    }\n",
       "</style>\n",
       "<table border=\"1\" class=\"dataframe\">\n",
       "  <thead>\n",
       "    <tr style=\"text-align: right;\">\n",
       "      <th></th>\n",
       "      <th>Q</th>\n",
       "      <th>A</th>\n",
       "      <th>label</th>\n",
       "    </tr>\n",
       "  </thead>\n",
       "  <tbody>\n",
       "    <tr>\n",
       "      <th>5751</th>\n",
       "      <td>끝이났네</td>\n",
       "      <td>맘고생 많았어요.</td>\n",
       "      <td>1</td>\n",
       "    </tr>\n",
       "    <tr>\n",
       "      <th>6010</th>\n",
       "      <td>니가 원망스러워</td>\n",
       "      <td>맘고생 많았어요.</td>\n",
       "      <td>1</td>\n",
       "    </tr>\n",
       "    <tr>\n",
       "      <th>6455</th>\n",
       "      <td>방금 헤어지고 왔습니다</td>\n",
       "      <td>맘고생 많았어요.</td>\n",
       "      <td>1</td>\n",
       "    </tr>\n",
       "    <tr>\n",
       "      <th>7726</th>\n",
       "      <td>이제는 정말 끝</td>\n",
       "      <td>맘고생 많았어요.</td>\n",
       "      <td>1</td>\n",
       "    </tr>\n",
       "    <tr>\n",
       "      <th>8015</th>\n",
       "      <td>정리가 되네</td>\n",
       "      <td>맘고생 많았어요.</td>\n",
       "      <td>1</td>\n",
       "    </tr>\n",
       "    <tr>\n",
       "      <th>8211</th>\n",
       "      <td>진짜 끝</td>\n",
       "      <td>맘고생 많았어요.</td>\n",
       "      <td>1</td>\n",
       "    </tr>\n",
       "    <tr>\n",
       "      <th>8221</th>\n",
       "      <td>진짜 이제 안녕</td>\n",
       "      <td>맘고생 많았어요.</td>\n",
       "      <td>1</td>\n",
       "    </tr>\n",
       "    <tr>\n",
       "      <th>8234</th>\n",
       "      <td>질질 끄는연애 드디어끝이네.</td>\n",
       "      <td>맘고생 많았어요.</td>\n",
       "      <td>1</td>\n",
       "    </tr>\n",
       "    <tr>\n",
       "      <th>10303</th>\n",
       "      <td>썸남이 짝남 됐어요. 위로해 주세요.</td>\n",
       "      <td>맘고생 많았어요.</td>\n",
       "      <td>2</td>\n",
       "    </tr>\n",
       "    <tr>\n",
       "      <th>11806</th>\n",
       "      <td>혼자만 설레고 혼자서 끝내는 짝사랑 그만할래.</td>\n",
       "      <td>맘고생 많았어요.</td>\n",
       "      <td>2</td>\n",
       "    </tr>\n",
       "  </tbody>\n",
       "</table>\n",
       "</div>"
      ],
      "text/plain": [
       "                               Q          A  label\n",
       "5751                        끝이났네  맘고생 많았어요.      1\n",
       "6010                    니가 원망스러워  맘고생 많았어요.      1\n",
       "6455                방금 헤어지고 왔습니다  맘고생 많았어요.      1\n",
       "7726                    이제는 정말 끝  맘고생 많았어요.      1\n",
       "8015                      정리가 되네  맘고생 많았어요.      1\n",
       "8211                        진짜 끝  맘고생 많았어요.      1\n",
       "8221                    진짜 이제 안녕  맘고생 많았어요.      1\n",
       "8234             질질 끄는연애 드디어끝이네.  맘고생 많았어요.      1\n",
       "10303       썸남이 짝남 됐어요. 위로해 주세요.  맘고생 많았어요.      2\n",
       "11806  혼자만 설레고 혼자서 끝내는 짝사랑 그만할래.  맘고생 많았어요.      2"
      ]
     },
     "execution_count": 19,
     "metadata": {},
     "output_type": "execute_result"
    }
   ],
   "source": [
    "raw_data[raw_data['A'][11806]==raw_data['A']]"
   ]
  },
  {
   "cell_type": "markdown",
   "id": "ecabb7ba",
   "metadata": {},
   "source": [
    "- 중복 제거"
   ]
  },
  {
   "cell_type": "code",
   "execution_count": 20,
   "id": "29f61921",
   "metadata": {
    "execution": {
     "iopub.execute_input": "2021-05-09T03:12:30.912214Z",
     "iopub.status.busy": "2021-05-09T03:12:30.911999Z",
     "iopub.status.idle": "2021-05-09T03:12:30.927053Z",
     "shell.execute_reply": "2021-05-09T03:12:30.926581Z",
     "shell.execute_reply.started": "2021-05-09T03:12:30.912184Z"
    },
    "tags": []
   },
   "outputs": [
    {
     "data": {
      "text/html": [
       "<div>\n",
       "<style scoped>\n",
       "    .dataframe tbody tr th:only-of-type {\n",
       "        vertical-align: middle;\n",
       "    }\n",
       "\n",
       "    .dataframe tbody tr th {\n",
       "        vertical-align: top;\n",
       "    }\n",
       "\n",
       "    .dataframe thead th {\n",
       "        text-align: right;\n",
       "    }\n",
       "</style>\n",
       "<table border=\"1\" class=\"dataframe\">\n",
       "  <thead>\n",
       "    <tr style=\"text-align: right;\">\n",
       "      <th></th>\n",
       "      <th>Q</th>\n",
       "      <th>A</th>\n",
       "      <th>label</th>\n",
       "    </tr>\n",
       "  </thead>\n",
       "  <tbody>\n",
       "  </tbody>\n",
       "</table>\n",
       "</div>"
      ],
      "text/plain": [
       "Empty DataFrame\n",
       "Columns: [Q, A, label]\n",
       "Index: []"
      ]
     },
     "execution_count": 20,
     "metadata": {},
     "output_type": "execute_result"
    }
   ],
   "source": [
    "raw_data = raw_data.drop_duplicates(['Q'])\n",
    "raw_data[raw_data['Q'].duplicated()]"
   ]
  },
  {
   "cell_type": "code",
   "execution_count": 21,
   "id": "e7f81333",
   "metadata": {
    "execution": {
     "iopub.execute_input": "2021-05-09T03:12:30.928005Z",
     "iopub.status.busy": "2021-05-09T03:12:30.927836Z",
     "iopub.status.idle": "2021-05-09T03:12:30.939300Z",
     "shell.execute_reply": "2021-05-09T03:12:30.938839Z",
     "shell.execute_reply.started": "2021-05-09T03:12:30.927983Z"
    }
   },
   "outputs": [
    {
     "data": {
      "text/html": [
       "<div>\n",
       "<style scoped>\n",
       "    .dataframe tbody tr th:only-of-type {\n",
       "        vertical-align: middle;\n",
       "    }\n",
       "\n",
       "    .dataframe tbody tr th {\n",
       "        vertical-align: top;\n",
       "    }\n",
       "\n",
       "    .dataframe thead th {\n",
       "        text-align: right;\n",
       "    }\n",
       "</style>\n",
       "<table border=\"1\" class=\"dataframe\">\n",
       "  <thead>\n",
       "    <tr style=\"text-align: right;\">\n",
       "      <th></th>\n",
       "      <th>Q</th>\n",
       "      <th>A</th>\n",
       "      <th>label</th>\n",
       "    </tr>\n",
       "  </thead>\n",
       "  <tbody>\n",
       "  </tbody>\n",
       "</table>\n",
       "</div>"
      ],
      "text/plain": [
       "Empty DataFrame\n",
       "Columns: [Q, A, label]\n",
       "Index: []"
      ]
     },
     "execution_count": 21,
     "metadata": {},
     "output_type": "execute_result"
    }
   ],
   "source": [
    "raw_data = raw_data.drop_duplicates(['A'])\n",
    "raw_data[raw_data['A'].duplicated()]"
   ]
  },
  {
   "cell_type": "code",
   "execution_count": 22,
   "id": "89612016",
   "metadata": {
    "execution": {
     "iopub.execute_input": "2021-05-09T03:12:30.940197Z",
     "iopub.status.busy": "2021-05-09T03:12:30.940011Z",
     "iopub.status.idle": "2021-05-09T03:12:30.943985Z",
     "shell.execute_reply": "2021-05-09T03:12:30.943361Z",
     "shell.execute_reply.started": "2021-05-09T03:12:30.940173Z"
    }
   },
   "outputs": [
    {
     "data": {
      "text/plain": [
       "(7731, 3)"
      ]
     },
     "execution_count": 22,
     "metadata": {},
     "output_type": "execute_result"
    }
   ],
   "source": [
    "raw_data.shape"
   ]
  },
  {
   "cell_type": "markdown",
   "id": "5666f002",
   "metadata": {
    "tags": []
   },
   "source": [
    "#### D. 데이터 정제 함수 정의"
   ]
  },
  {
   "cell_type": "code",
   "execution_count": 23,
   "id": "0d8d5c16",
   "metadata": {
    "execution": {
     "iopub.execute_input": "2021-05-09T03:12:30.947043Z",
     "iopub.status.busy": "2021-05-09T03:12:30.946851Z",
     "iopub.status.idle": "2021-05-09T03:12:30.950192Z",
     "shell.execute_reply": "2021-05-09T03:12:30.949642Z",
     "shell.execute_reply.started": "2021-05-09T03:12:30.947019Z"
    },
    "tags": []
   },
   "outputs": [],
   "source": [
    "def preprocess_sentence(sentence):\n",
    "    sentence = sentence.lower().strip()\n",
    "    sentence = re.sub(r\"[^a-zA-Zㄱ-ㅣ가-힣?.!,]+\", \" \", sentence)\n",
    "    sentence = re.sub(r'[\" \"]+', \" \", sentence)\n",
    "    sentence = sentence.strip()\n",
    "    return sentence"
   ]
  },
  {
   "cell_type": "markdown",
   "id": "b821ae69",
   "metadata": {
    "tags": []
   },
   "source": [
    "#### E. 데이터 정제 및 데이터 분리"
   ]
  },
  {
   "cell_type": "code",
   "execution_count": 24,
   "id": "ba78fd5c",
   "metadata": {
    "execution": {
     "iopub.execute_input": "2021-05-09T03:12:30.951941Z",
     "iopub.status.busy": "2021-05-09T03:12:30.951712Z",
     "iopub.status.idle": "2021-05-09T03:12:30.955012Z",
     "shell.execute_reply": "2021-05-09T03:12:30.954446Z",
     "shell.execute_reply.started": "2021-05-09T03:12:30.951918Z"
    },
    "tags": []
   },
   "outputs": [],
   "source": [
    "def get_questions_answers(raw_data):\n",
    "    questions = [ preprocess_sentence(sentence) for sentence in raw_data['Q'].values ]\n",
    "    answers   = [ preprocess_sentence(sentence) for sentence in raw_data['A'].values ]\n",
    "    return questions, answers"
   ]
  },
  {
   "cell_type": "code",
   "execution_count": 25,
   "id": "c645fb76",
   "metadata": {
    "execution": {
     "iopub.execute_input": "2021-05-09T03:12:30.955883Z",
     "iopub.status.busy": "2021-05-09T03:12:30.955723Z",
     "iopub.status.idle": "2021-05-09T03:12:31.045064Z",
     "shell.execute_reply": "2021-05-09T03:12:31.044457Z",
     "shell.execute_reply.started": "2021-05-09T03:12:30.955861Z"
    },
    "tags": []
   },
   "outputs": [],
   "source": [
    "que_corpus, ans_corpus = get_questions_answers(raw_data)"
   ]
  },
  {
   "cell_type": "code",
   "execution_count": 26,
   "id": "db6dcba5",
   "metadata": {
    "execution": {
     "iopub.execute_input": "2021-05-09T03:12:31.045921Z",
     "iopub.status.busy": "2021-05-09T03:12:31.045757Z",
     "iopub.status.idle": "2021-05-09T03:12:31.049716Z",
     "shell.execute_reply": "2021-05-09T03:12:31.049259Z",
     "shell.execute_reply.started": "2021-05-09T03:12:31.045900Z"
    },
    "tags": []
   },
   "outputs": [
    {
     "name": "stdout",
     "output_type": "stream",
     "text": [
      "Q : 시 땡!\n",
      "A : 하루가 또 가네요.\n",
      "\n",
      "Q : 지망 학교 떨어졌어\n",
      "A : 위로해 드립니다.\n",
      "\n",
      "Q : 박 일 놀러가고 싶다\n",
      "A : 여행은 언제나 좋죠.\n",
      "\n",
      "Q : ppl 심하네\n",
      "A : 눈살이 찌푸려지죠.\n",
      "\n",
      "Q : sd카드 망가졌어\n",
      "A : 다시 새로 사는 게 마음 편해요.\n",
      "\n"
     ]
    }
   ],
   "source": [
    "for q, a in zip(que_corpus[:5], ans_corpus[:5]):\n",
    "    print(f'Q : {q}')\n",
    "    print(f'A : {a}\\n')"
   ]
  },
  {
   "cell_type": "markdown",
   "id": "7857d7c4",
   "metadata": {
    "tags": []
   },
   "source": [
    "### 2. 토큰화"
   ]
  },
  {
   "cell_type": "markdown",
   "id": "8f46916e",
   "metadata": {},
   "source": [
    "KoNLPy의 `mecab` 를 활용하여 토큰화를 진행하여 준다."
   ]
  },
  {
   "cell_type": "markdown",
   "id": "9a466c42",
   "metadata": {
    "tags": []
   },
   "source": [
    "#### A. 문장 최대 길이 선정"
   ]
  },
  {
   "cell_type": "code",
   "execution_count": 27,
   "id": "ee9eceaa",
   "metadata": {
    "execution": {
     "iopub.execute_input": "2021-05-09T03:12:31.050686Z",
     "iopub.status.busy": "2021-05-09T03:12:31.050509Z",
     "iopub.status.idle": "2021-05-09T03:12:31.364871Z",
     "shell.execute_reply": "2021-05-09T03:12:31.364424Z",
     "shell.execute_reply.started": "2021-05-09T03:12:31.050664Z"
    },
    "tags": []
   },
   "outputs": [
    {
     "name": "stdout",
     "output_type": "stream",
     "text": [
      "👉 문장의 평균 길이\n",
      "질문: 13.621653084982539\n",
      "답변: 15.606260509636527\n",
      "\n",
      "👉 문장의 최소 길이\n",
      "질문: 1\n",
      "답변: 1\n",
      "\n",
      "👉 문장의 최대 길이\n",
      "질문: 56\n",
      "답변: 76\n",
      "\n"
     ]
    },
    {
     "data": {
      "image/png": "[encoded data removed]",
      "text/plain": [
       "<Figure size 720x288 with 2 Axes>"
      ]
     },
     "metadata": {
      "needs_background": "light"
     },
     "output_type": "display_data"
    }
   ],
   "source": [
    "num_questions = np.array([len(s) for s in que_corpus])\n",
    "num_answers = np.array([len(s) for s in ans_corpus])\n",
    "\n",
    "print(f'👉 문장의 평균 길이')\n",
    "print(f'질문: {np.mean(num_questions)}')\n",
    "print(f'답변: {np.mean(num_answers)}\\n')\n",
    "\n",
    "print(f'👉 문장의 최소 길이')\n",
    "print(f'질문: {np.min(num_questions)}')\n",
    "print(f'답변: {np.min(num_answers)}\\n')\n",
    "\n",
    "print(f'👉 문장의 최대 길이')\n",
    "print(f'질문: {np.max(num_questions)}')\n",
    "print(f'답변: {np.max(num_answers)}\\n')\n",
    "\n",
    "fig, (ax1, ax2) = plt.subplots(1, 2, figsize=(10, 4))\n",
    "ax1.hist(num_questions)\n",
    "ax1.set_xlabel('length of samples')\n",
    "ax1.set_ylabel('number of samples')\n",
    "ax1.set_title('questions')\n",
    "\n",
    "ax2.hist(num_answers)\n",
    "ax2.set_xlabel('length of samples')\n",
    "ax2.set_ylabel('number of samples')\n",
    "ax2.set_title('answers')\n",
    "\n",
    "plt.tight_layout()\n",
    "plt.show()"
   ]
  },
  {
   "cell_type": "markdown",
   "id": "cffc9294",
   "metadata": {},
   "source": [
    "문장의 최대 길이는 22 정도가 적당해 보인다."
   ]
  },
  {
   "cell_type": "code",
   "execution_count": 28,
   "id": "dec0fb40",
   "metadata": {
    "execution": {
     "iopub.execute_input": "2021-05-09T03:12:31.365798Z",
     "iopub.status.busy": "2021-05-09T03:12:31.365630Z",
     "iopub.status.idle": "2021-05-09T03:12:31.368307Z",
     "shell.execute_reply": "2021-05-09T03:12:31.367749Z",
     "shell.execute_reply.started": "2021-05-09T03:12:31.365776Z"
    },
    "tags": []
   },
   "outputs": [],
   "source": [
    "max_len = 22 + 2 # <start> <end> 토큰길이 포함"
   ]
  },
  {
   "cell_type": "markdown",
   "id": "b3f7215a",
   "metadata": {
    "tags": []
   },
   "source": [
    "#### B. 토큰화 함수 정의"
   ]
  },
  {
   "cell_type": "code",
   "execution_count": 29,
   "id": "731695da",
   "metadata": {
    "execution": {
     "iopub.execute_input": "2021-05-09T03:12:31.369209Z",
     "iopub.status.busy": "2021-05-09T03:12:31.368994Z",
     "iopub.status.idle": "2021-05-09T03:12:31.415459Z",
     "shell.execute_reply": "2021-05-09T03:12:31.414832Z",
     "shell.execute_reply.started": "2021-05-09T03:12:31.369187Z"
    },
    "tags": []
   },
   "outputs": [],
   "source": [
    "from konlpy.tag import Mecab\n",
    "\n",
    "def tokenize(src_corpus, tgt_corpus, max_len):\n",
    "    mecab = Mecab()\n",
    "    src_morpheme = [ mecab.morphs(sen) for sen in src_corpus ]\n",
    "    tgt_morpheme = [ mecab.morphs(sen) for sen in tgt_corpus ]\n",
    "    \n",
    "    combined_morpheme = [(src, tgt) for src, tgt in zip(src_morpheme, tgt_morpheme)\n",
    "                          if len(src) <= max_len and len(tgt) <= max_len ]\n",
    "    \n",
    "    src_morpheme = [ sen for sen, _ in combined_morpheme ]\n",
    "    tgt_morpheme = [ sen for _, sen in combined_morpheme ]\n",
    "    \n",
    "    return src_morpheme, tgt_morpheme"
   ]
  },
  {
   "cell_type": "markdown",
   "id": "20bcd3b3",
   "metadata": {
    "tags": []
   },
   "source": [
    "#### C. 토큰화"
   ]
  },
  {
   "cell_type": "code",
   "execution_count": 30,
   "id": "b13514e6",
   "metadata": {
    "execution": {
     "iopub.execute_input": "2021-05-09T03:12:31.416414Z",
     "iopub.status.busy": "2021-05-09T03:12:31.416220Z",
     "iopub.status.idle": "2021-05-09T03:12:32.047427Z",
     "shell.execute_reply": "2021-05-09T03:12:32.046795Z",
     "shell.execute_reply.started": "2021-05-09T03:12:31.416390Z"
    },
    "tags": []
   },
   "outputs": [],
   "source": [
    "que_corpus_tokenized, ans_corpus_tokenized = tokenize(que_corpus, ans_corpus, max_len)"
   ]
  },
  {
   "cell_type": "code",
   "execution_count": 31,
   "id": "fce7bd56",
   "metadata": {
    "execution": {
     "iopub.execute_input": "2021-05-09T03:12:32.048414Z",
     "iopub.status.busy": "2021-05-09T03:12:32.048234Z",
     "iopub.status.idle": "2021-05-09T03:12:32.052601Z",
     "shell.execute_reply": "2021-05-09T03:12:32.052014Z",
     "shell.execute_reply.started": "2021-05-09T03:12:32.048391Z"
    }
   },
   "outputs": [
    {
     "name": "stdout",
     "output_type": "stream",
     "text": [
      "Q : ['시', '땡', '!']\n",
      "A : ['하루', '가', '또', '가', '네요', '.']\n",
      "\n",
      "Q : ['지망', '학교', '떨어졌', '어']\n",
      "A : ['위로', '해', '드립니다', '.']\n",
      "\n",
      "Q : ['박', '일', '놀', '러', '가', '고', '싶', '다']\n",
      "A : ['여행', '은', '언제나', '좋', '죠', '.']\n",
      "\n",
      "Q : ['ppl', '심하', '네']\n",
      "A : ['눈살', '이', '찌푸려', '지', '죠', '.']\n",
      "\n",
      "Q : ['sd', '카드', '망가졌', '어']\n",
      "A : ['다시', '새로', '사', '는', '게', '마음', '편해요', '.']\n",
      "\n"
     ]
    }
   ],
   "source": [
    "for q, a in zip(que_corpus_tokenized[:5], ans_corpus_tokenized[:5]):\n",
    "    print(f'Q : {q}')\n",
    "    print(f'A : {a}\\n')"
   ]
  },
  {
   "cell_type": "markdown",
   "id": "70a8db40",
   "metadata": {
    "tags": []
   },
   "source": [
    "### 3. Augmentation"
   ]
  },
  {
   "cell_type": "markdown",
   "id": "86227bee",
   "metadata": {
    "tags": []
   },
   "source": [
    "#### A. Word2Vec 모델 불러오기"
   ]
  },
  {
   "cell_type": "code",
   "execution_count": 32,
   "id": "46c9b453",
   "metadata": {
    "execution": {
     "iopub.execute_input": "2021-05-09T03:12:32.053472Z",
     "iopub.status.busy": "2021-05-09T03:12:32.053303Z",
     "iopub.status.idle": "2021-05-09T03:12:32.453150Z",
     "shell.execute_reply": "2021-05-09T03:12:32.452505Z",
     "shell.execute_reply.started": "2021-05-09T03:12:32.053449Z"
    },
    "tags": []
   },
   "outputs": [],
   "source": [
    "word2vec_path = data_dir_path + '/ko-Word2Vec/ko.bin'\n",
    "wv = word2vec.Word2Vec.load(word2vec_path)"
   ]
  },
  {
   "cell_type": "markdown",
   "id": "95e31d17",
   "metadata": {},
   "source": [
    "- 테스트"
   ]
  },
  {
   "cell_type": "code",
   "execution_count": 33,
   "id": "9fe443be",
   "metadata": {
    "execution": {
     "iopub.execute_input": "2021-05-09T03:12:32.454073Z",
     "iopub.status.busy": "2021-05-09T03:12:32.453903Z",
     "iopub.status.idle": "2021-05-09T03:12:32.481220Z",
     "shell.execute_reply": "2021-05-09T03:12:32.478857Z",
     "shell.execute_reply.started": "2021-05-09T03:12:32.454050Z"
    },
    "tags": []
   },
   "outputs": [
    {
     "name": "stdout",
     "output_type": "stream",
     "text": [
      "from : 하루 가 또 가 네요 .\n",
      "to   : 하루 놀드 또 가 네요 .\n",
      "\n",
      "from : 위로 해 드립니다 .\n",
      "to   : 위로 해의 드립니다 .\n",
      "\n",
      "from : 여행 은 언제나 좋 죠 .\n",
      "to   : 여행 은 항상 좋 죠 .\n",
      "\n"
     ]
    }
   ],
   "source": [
    "for sample_tokens in ans_corpus_tokenized[:3]:\n",
    "    selected_tok = random.choice(sample_tokens)\n",
    "\n",
    "    result = [ wv.wv.most_similar(tok)[0][0] if tok is selected_tok else tok for tok in sample_tokens ]\n",
    "    print(f'from : {\" \".join(sample_tokens)}')\n",
    "    print(f'to   : {\" \".join(result)}\\n')"
   ]
  },
  {
   "cell_type": "markdown",
   "id": "a762d910",
   "metadata": {
    "execution": {
     "iopub.execute_input": "2021-05-07T10:11:15.967528Z",
     "iopub.status.busy": "2021-05-07T10:11:15.967323Z",
     "iopub.status.idle": "2021-05-07T10:11:15.970111Z",
     "shell.execute_reply": "2021-05-07T10:11:15.969462Z",
     "shell.execute_reply.started": "2021-05-07T10:11:15.967504Z"
    },
    "tags": []
   },
   "source": [
    "#### B. Lexical Substitution"
   ]
  },
  {
   "cell_type": "code",
   "execution_count": 34,
   "id": "6f83c149",
   "metadata": {
    "execution": {
     "iopub.execute_input": "2021-05-09T03:12:32.483707Z",
     "iopub.status.busy": "2021-05-09T03:12:32.482434Z",
     "iopub.status.idle": "2021-05-09T03:12:32.488652Z",
     "shell.execute_reply": "2021-05-09T03:12:32.487835Z",
     "shell.execute_reply.started": "2021-05-09T03:12:32.483673Z"
    },
    "tags": []
   },
   "outputs": [],
   "source": [
    "def lexical_sub(sentence_arr, wv):\n",
    "    try:\n",
    "        i = np.random.randint(len(a))\n",
    "        res = sentence_arr[::]\n",
    "        res[i] = wv.most_similar(sentence_arr[i])[0][0]\n",
    "\n",
    "    except:   # 단어장에 없는 단어\n",
    "        return None\n",
    "\n",
    "    return res"
   ]
  },
  {
   "cell_type": "code",
   "execution_count": 35,
   "id": "88d3586e",
   "metadata": {
    "execution": {
     "iopub.execute_input": "2021-05-09T03:12:32.490063Z",
     "iopub.status.busy": "2021-05-09T03:12:32.489672Z",
     "iopub.status.idle": "2021-05-09T03:12:32.495795Z",
     "shell.execute_reply": "2021-05-09T03:12:32.495049Z",
     "shell.execute_reply.started": "2021-05-09T03:12:32.490030Z"
    },
    "tags": []
   },
   "outputs": [],
   "source": [
    "def augment_corpus(src_corpus, tgt_corpus, wv):\n",
    "    new_src_corpus = []\n",
    "    new_tgt_corpus = []\n",
    "    corpus_size = len(src_corpus)\n",
    "    \n",
    "    for i in tqdm(range(corpus_size)):\n",
    "        old_src_sen = src_corpus[i]\n",
    "        old_tgt_sen = tgt_corpus[i]\n",
    "        \n",
    "        new_src_sen = lexical_sub(old_src_sen, wv)\n",
    "        new_tgt_sen = lexical_sub(old_tgt_sen, wv)\n",
    "\n",
    "        if new_src_sen :\n",
    "            new_src_corpus.append(new_src_sen)\n",
    "            new_tgt_corpus.append(old_tgt_sen)\n",
    "        \n",
    "        if new_tgt_sen:\n",
    "            new_src_corpus.append(old_src_sen)\n",
    "            new_tgt_corpus.append(new_tgt_sen)\n",
    "    \n",
    "    return new_src_corpus, new_tgt_corpus"
   ]
  },
  {
   "cell_type": "markdown",
   "id": "a4a0dec5",
   "metadata": {},
   "source": [
    "- Augmentation 수행"
   ]
  },
  {
   "cell_type": "code",
   "execution_count": 36,
   "id": "644b26c0",
   "metadata": {
    "execution": {
     "iopub.execute_input": "2021-05-09T03:12:32.497181Z",
     "iopub.status.busy": "2021-05-09T03:12:32.496795Z",
     "iopub.status.idle": "2021-05-09T03:13:05.238415Z",
     "shell.execute_reply": "2021-05-09T03:13:05.237873Z",
     "shell.execute_reply.started": "2021-05-09T03:12:32.497149Z"
    },
    "tags": []
   },
   "outputs": [
    {
     "data": {
      "application/vnd.jupyter.widget-view+json": {
       "model_id": "7b1f4a61c192476889a558318d330afe",
       "version_major": 2,
       "version_minor": 0
      },
      "text/plain": [
       "  0%|          | 0/7697 [00:00<?, ?it/s]"
      ]
     },
     "metadata": {},
     "output_type": "display_data"
    }
   ],
   "source": [
    "new_que_corpus, new_ans_corpus = augment_corpus(que_corpus_tokenized, ans_corpus_tokenized, wv.wv)"
   ]
  },
  {
   "cell_type": "markdown",
   "id": "415c42ec",
   "metadata": {},
   "source": [
    "- Augmentation 결과 확인"
   ]
  },
  {
   "cell_type": "code",
   "execution_count": 37,
   "id": "65da1a01",
   "metadata": {
    "execution": {
     "iopub.execute_input": "2021-05-09T03:13:05.239635Z",
     "iopub.status.busy": "2021-05-09T03:13:05.239288Z",
     "iopub.status.idle": "2021-05-09T03:13:05.252634Z",
     "shell.execute_reply": "2021-05-09T03:13:05.247009Z",
     "shell.execute_reply.started": "2021-05-09T03:13:05.239605Z"
    },
    "tags": []
   },
   "outputs": [
    {
     "data": {
      "text/plain": [
       "(11310, 11310)"
      ]
     },
     "execution_count": 37,
     "metadata": {},
     "output_type": "execute_result"
    }
   ],
   "source": [
    "len(new_que_corpus), len(new_ans_corpus)"
   ]
  },
  {
   "cell_type": "markdown",
   "id": "4b09c35a",
   "metadata": {},
   "source": [
    "새로 생성된 문장의 수는 13654로 기존의 문장과 합하여도 2만개가 조금 넘는 수이다. augmentation 추가로 수행하여 데이터의 수를 더 늘리도록 하자."
   ]
  },
  {
   "cell_type": "markdown",
   "id": "1d733b97",
   "metadata": {},
   "source": [
    "- Augmentation 수행(반복)"
   ]
  },
  {
   "cell_type": "code",
   "execution_count": 38,
   "id": "e768d021",
   "metadata": {
    "execution": {
     "iopub.execute_input": "2021-05-09T03:13:05.254028Z",
     "iopub.status.busy": "2021-05-09T03:13:05.253678Z",
     "iopub.status.idle": "2021-05-09T03:13:39.821625Z",
     "shell.execute_reply": "2021-05-09T03:13:39.821091Z",
     "shell.execute_reply.started": "2021-05-09T03:13:05.253996Z"
    },
    "tags": []
   },
   "outputs": [
    {
     "data": {
      "application/vnd.jupyter.widget-view+json": {
       "model_id": "43d7a27329624d7ea2f7f6ca403f1b20",
       "version_major": 2,
       "version_minor": 0
      },
      "text/plain": [
       "  0%|          | 0/7697 [00:00<?, ?it/s]"
      ]
     },
     "metadata": {},
     "output_type": "display_data"
    }
   ],
   "source": [
    "new_que_corpus_more, new_ans_corpus_more = augment_corpus(que_corpus_tokenized, \n",
    "                                                          ans_corpus_tokenized, \n",
    "                                                          wv.wv)"
   ]
  },
  {
   "cell_type": "code",
   "execution_count": 39,
   "id": "0a6537b9",
   "metadata": {
    "execution": {
     "iopub.execute_input": "2021-05-09T03:13:39.822737Z",
     "iopub.status.busy": "2021-05-09T03:13:39.822442Z",
     "iopub.status.idle": "2021-05-09T03:13:39.827161Z",
     "shell.execute_reply": "2021-05-09T03:13:39.826530Z",
     "shell.execute_reply.started": "2021-05-09T03:13:39.822708Z"
    },
    "tags": []
   },
   "outputs": [
    {
     "data": {
      "text/plain": [
       "(11366, 11366)"
      ]
     },
     "execution_count": 39,
     "metadata": {},
     "output_type": "execute_result"
    }
   ],
   "source": [
    "len(new_que_corpus_more), len(new_ans_corpus_more)"
   ]
  },
  {
   "cell_type": "markdown",
   "id": "95890081",
   "metadata": {},
   "source": [
    "- 데이터 합치기 : 분산되어 있는 데이터를 합쳐 하나의 셋을 만든다."
   ]
  },
  {
   "cell_type": "code",
   "execution_count": 40,
   "id": "b216b478",
   "metadata": {
    "execution": {
     "iopub.execute_input": "2021-05-09T03:13:39.828218Z",
     "iopub.status.busy": "2021-05-09T03:13:39.828015Z",
     "iopub.status.idle": "2021-05-09T03:13:39.832739Z",
     "shell.execute_reply": "2021-05-09T03:13:39.832132Z",
     "shell.execute_reply.started": "2021-05-09T03:13:39.828190Z"
    },
    "tags": []
   },
   "outputs": [],
   "source": [
    "que_corpus_augmented = que_corpus_tokenized + new_que_corpus + new_que_corpus_more\n",
    "ans_corpus_augmented = ans_corpus_tokenized + new_ans_corpus + new_ans_corpus_more"
   ]
  },
  {
   "cell_type": "code",
   "execution_count": 41,
   "id": "e005890e",
   "metadata": {
    "execution": {
     "iopub.execute_input": "2021-05-09T03:13:39.833824Z",
     "iopub.status.busy": "2021-05-09T03:13:39.833618Z",
     "iopub.status.idle": "2021-05-09T03:13:39.839852Z",
     "shell.execute_reply": "2021-05-09T03:13:39.839322Z",
     "shell.execute_reply.started": "2021-05-09T03:13:39.833795Z"
    },
    "tags": []
   },
   "outputs": [
    {
     "data": {
      "text/plain": [
       "(30373, 30373)"
      ]
     },
     "execution_count": 41,
     "metadata": {},
     "output_type": "execute_result"
    }
   ],
   "source": [
    "len(que_corpus_augmented), len(ans_corpus_augmented)"
   ]
  },
  {
   "cell_type": "code",
   "execution_count": 42,
   "id": "594da4a6",
   "metadata": {
    "execution": {
     "iopub.execute_input": "2021-05-09T03:13:39.840896Z",
     "iopub.status.busy": "2021-05-09T03:13:39.840696Z",
     "iopub.status.idle": "2021-05-09T03:13:39.853975Z",
     "shell.execute_reply": "2021-05-09T03:13:39.853391Z",
     "shell.execute_reply.started": "2021-05-09T03:13:39.840868Z"
    },
    "tags": []
   },
   "outputs": [
    {
     "name": "stdout",
     "output_type": "stream",
     "text": [
      "3205\n",
      "Q : 매듭 문자 를 보냈 습니다 .\n",
      "A : 마음 의 준비 가 필요 했 을 거 라 생각 해요 .\n",
      "\n",
      "3461\n",
      "Q : 빨리 일상 속 으로 돌아가 고픈데 .\n",
      "A : 지금 도 일상 이 에요 .\n",
      "\n",
      "2807\n",
      "Q : 나 만 그대로 다\n",
      "A : 그대로 인 건 없 어요 .\n",
      "\n",
      "12023\n",
      "Q : 말 로 만 퍼뜨리 던 환승 에 치 가 떨리 네\n",
      "A : 환승 은 진짜 답 도 없 네요 .\n",
      "\n",
      "4234\n",
      "Q : 이 별 곧 두 달 .\n",
      "A : 아직 도 힘드 시 군요 .\n",
      "\n"
     ]
    }
   ],
   "source": [
    "samples = random.sample(list(range(len(que_corpus_augmented))), 5)\n",
    "for i in samples:\n",
    "    print(i)\n",
    "    print(f'Q : {\" \".join(que_corpus_augmented[i])}')\n",
    "    print(f'A : {\" \".join(ans_corpus_augmented[i])}\\n')"
   ]
  },
  {
   "cell_type": "markdown",
   "id": "898143d2",
   "metadata": {
    "tags": []
   },
   "source": [
    "### 4. 데이터 인코딩"
   ]
  },
  {
   "cell_type": "markdown",
   "id": "ed7819e8",
   "metadata": {
    "tags": []
   },
   "source": [
    "#### A. 토큰 추가"
   ]
  },
  {
   "cell_type": "code",
   "execution_count": 43,
   "id": "763b70eb",
   "metadata": {
    "execution": {
     "iopub.execute_input": "2021-05-09T03:13:39.854983Z",
     "iopub.status.busy": "2021-05-09T03:13:39.854794Z",
     "iopub.status.idle": "2021-05-09T03:13:39.984672Z",
     "shell.execute_reply": "2021-05-09T03:13:39.983977Z",
     "shell.execute_reply.started": "2021-05-09T03:13:39.854957Z"
    },
    "tags": []
   },
   "outputs": [
    {
     "data": {
      "text/plain": [
       "[['<start>', '하루', '가', '또', '가', '네요', '.', '<end>'],\n",
       " ['<start>', '위로', '해', '드립니다', '.', '<end>'],\n",
       " ['<start>', '여행', '은', '언제나', '좋', '죠', '.', '<end>'],\n",
       " ['<start>', '눈살', '이', '찌푸려', '지', '죠', '.', '<end>'],\n",
       " ['<start>', '다시', '새로', '사', '는', '게', '마음', '편해요', '.', '<end>']]"
      ]
     },
     "execution_count": 43,
     "metadata": {},
     "output_type": "execute_result"
    }
   ],
   "source": [
    "start_token = ['<start>']\n",
    "end_token = ['<end>']\n",
    "ans_corpus_augmented = [ start_token + sen + end_token for sen in ans_corpus_augmented ]\n",
    "ans_corpus_augmented[:5]"
   ]
  },
  {
   "cell_type": "code",
   "execution_count": 44,
   "id": "5dc8e939",
   "metadata": {
    "execution": {
     "iopub.execute_input": "2021-05-09T03:13:39.985769Z",
     "iopub.status.busy": "2021-05-09T03:13:39.985574Z",
     "iopub.status.idle": "2021-05-09T03:13:40.014815Z",
     "shell.execute_reply": "2021-05-09T03:13:40.014139Z",
     "shell.execute_reply.started": "2021-05-09T03:13:39.985743Z"
    },
    "tags": []
   },
   "outputs": [],
   "source": [
    "que_corpus_augmented = [ \" \".join(sen) for sen in que_corpus_augmented ]\n",
    "ans_corpus_augmented = [ \" \".join(sen) for sen in ans_corpus_augmented ]"
   ]
  },
  {
   "cell_type": "markdown",
   "id": "b8313bbd",
   "metadata": {
    "tags": []
   },
   "source": [
    "#### B. 정수화 인코딩"
   ]
  },
  {
   "cell_type": "markdown",
   "id": "7d3bc77a",
   "metadata": {},
   "source": [
    "- tokenizer 생성"
   ]
  },
  {
   "cell_type": "code",
   "execution_count": 45,
   "id": "4886feb7",
   "metadata": {
    "execution": {
     "iopub.execute_input": "2021-05-09T03:13:40.015602Z",
     "iopub.status.busy": "2021-05-09T03:13:40.015437Z",
     "iopub.status.idle": "2021-05-09T03:13:40.020089Z",
     "shell.execute_reply": "2021-05-09T03:13:40.019633Z",
     "shell.execute_reply.started": "2021-05-09T03:13:40.015580Z"
    },
    "tags": []
   },
   "outputs": [
    {
     "name": "stdout",
     "output_type": "stream",
     "text": [
      "19609 - Q : 나 만 설레 나의\n",
      "19609 - A : <start> 그 사람 도 설렐 거 예요 . <end>\n",
      "\n",
      "7516 - Q : 짝사랑 하 는 여자 가 헷갈리 게 합니다 .\n",
      "7516 - A : <start> 직접 물 어 보 는 것 도 좋 은 방법 이 에요 . <end>\n",
      "\n",
      "18364 - Q : 짝 남 나 한테 마음 있 는지 궁금하 해 .\n",
      "18364 - A : <start> 주변 사람 한테 물 어 보 는 건 어떨까 요 . <end>\n",
      "\n",
      "9331 - Q : 복전 신청 했 어\n",
      "9331 - A : <start> 많이 배우 면 좋 죠 는데 <end>\n",
      "\n",
      "7049 - Q : 좋 아 하 는 감정 이 나 를 슬프 게 도 해\n",
      "7049 - A : <start> 동전 의 양면 과 도 같 죠 . <end>\n",
      "\n"
     ]
    }
   ],
   "source": [
    "samples = random.sample(list(range(len(que_corpus_augmented))), 5)\n",
    "for i in samples:\n",
    "    print(f'{i} - Q : {que_corpus_augmented[i]}')\n",
    "    print(f'{i} - A : {ans_corpus_augmented[i]}\\n')"
   ]
  },
  {
   "cell_type": "code",
   "execution_count": 46,
   "id": "60b32f02",
   "metadata": {
    "execution": {
     "iopub.execute_input": "2021-05-09T03:13:40.020921Z",
     "iopub.status.busy": "2021-05-09T03:13:40.020759Z",
     "iopub.status.idle": "2021-05-09T03:13:40.556585Z",
     "shell.execute_reply": "2021-05-09T03:13:40.556032Z",
     "shell.execute_reply.started": "2021-05-09T03:13:40.020898Z"
    },
    "tags": []
   },
   "outputs": [],
   "source": [
    "tokenizer = tf.keras.preprocessing.text.Tokenizer(\n",
    "                    filters=\"\",\n",
    "                    oov_token='<unk>')\n",
    "tokenizer.fit_on_texts(que_corpus_augmented + ans_corpus_augmented)\n",
    "tokenizer.index_word.update({ 0 : '<pad>'})\n",
    "index_word = tokenizer.index_word\n",
    "word_index = { w: i for i, w in index_word.items() }"
   ]
  },
  {
   "cell_type": "markdown",
   "id": "02632237",
   "metadata": {},
   "source": [
    "- vocab 확인"
   ]
  },
  {
   "cell_type": "code",
   "execution_count": 47,
   "id": "6c12db38",
   "metadata": {
    "execution": {
     "iopub.execute_input": "2021-05-09T03:13:40.557475Z",
     "iopub.status.busy": "2021-05-09T03:13:40.557314Z",
     "iopub.status.idle": "2021-05-09T03:13:40.563171Z",
     "shell.execute_reply": "2021-05-09T03:13:40.562558Z",
     "shell.execute_reply.started": "2021-05-09T03:13:40.557453Z"
    },
    "tags": []
   },
   "outputs": [
    {
     "data": {
      "text/plain": [
       "[(1, '<unk>'), (2, '.'), (3, '<start>'), (4, '<end>'), (5, '이')]"
      ]
     },
     "execution_count": 47,
     "metadata": {},
     "output_type": "execute_result"
    }
   ],
   "source": [
    "list(index_word.items())[:5]"
   ]
  },
  {
   "cell_type": "code",
   "execution_count": 48,
   "id": "e98fec5a",
   "metadata": {
    "execution": {
     "iopub.execute_input": "2021-05-09T03:13:40.564099Z",
     "iopub.status.busy": "2021-05-09T03:13:40.563937Z",
     "iopub.status.idle": "2021-05-09T03:13:40.569094Z",
     "shell.execute_reply": "2021-05-09T03:13:40.568516Z",
     "shell.execute_reply.started": "2021-05-09T03:13:40.564077Z"
    },
    "tags": []
   },
   "outputs": [
    {
     "data": {
      "text/plain": [
       "[('<unk>', 1), ('.', 2), ('<start>', 3), ('<end>', 4), ('이', 5)]"
      ]
     },
     "execution_count": 48,
     "metadata": {},
     "output_type": "execute_result"
    }
   ],
   "source": [
    "list(word_index.items())[:5]"
   ]
  },
  {
   "cell_type": "code",
   "execution_count": 49,
   "id": "5662e6b3",
   "metadata": {
    "execution": {
     "iopub.execute_input": "2021-05-09T03:13:40.569954Z",
     "iopub.status.busy": "2021-05-09T03:13:40.569794Z",
     "iopub.status.idle": "2021-05-09T03:13:40.573418Z",
     "shell.execute_reply": "2021-05-09T03:13:40.572863Z",
     "shell.execute_reply.started": "2021-05-09T03:13:40.569932Z"
    },
    "tags": []
   },
   "outputs": [
    {
     "data": {
      "text/plain": [
       "7304"
      ]
     },
     "execution_count": 49,
     "metadata": {},
     "output_type": "execute_result"
    }
   ],
   "source": [
    "VOCAB_SIZE = len(index_word)\n",
    "VOCAB_SIZE"
   ]
  },
  {
   "cell_type": "markdown",
   "id": "36f01523",
   "metadata": {},
   "source": [
    "- 정수화 인코딩 수행"
   ]
  },
  {
   "cell_type": "code",
   "execution_count": 50,
   "id": "d4a72d91",
   "metadata": {
    "execution": {
     "iopub.execute_input": "2021-05-09T03:13:40.574517Z",
     "iopub.status.busy": "2021-05-09T03:13:40.574290Z",
     "iopub.status.idle": "2021-05-09T03:13:40.974528Z",
     "shell.execute_reply": "2021-05-09T03:13:40.973971Z",
     "shell.execute_reply.started": "2021-05-09T03:13:40.574487Z"
    },
    "tags": []
   },
   "outputs": [],
   "source": [
    "enc_tensor = tokenizer.texts_to_sequences(que_corpus_augmented)\n",
    "dec_tensor = tokenizer.texts_to_sequences(ans_corpus_augmented)"
   ]
  },
  {
   "cell_type": "markdown",
   "id": "70301d2d",
   "metadata": {
    "tags": []
   },
   "source": [
    "#### C. 패딩 삽입"
   ]
  },
  {
   "cell_type": "code",
   "execution_count": 51,
   "id": "6ba096dc",
   "metadata": {
    "execution": {
     "iopub.execute_input": "2021-05-09T03:13:40.975393Z",
     "iopub.status.busy": "2021-05-09T03:13:40.975239Z",
     "iopub.status.idle": "2021-05-09T03:13:41.203585Z",
     "shell.execute_reply": "2021-05-09T03:13:41.202989Z",
     "shell.execute_reply.started": "2021-05-09T03:13:40.975373Z"
    },
    "tags": []
   },
   "outputs": [],
   "source": [
    "enc_tensor = tf.keras.preprocessing.sequence.pad_sequences(enc_tensor, \n",
    "                                                           padding='post',\n",
    "                                                           maxlen=max_len)\n",
    "dec_tensor = tf.keras.preprocessing.sequence.pad_sequences(dec_tensor, \n",
    "                                                           padding='post',\n",
    "                                                           maxlen=max_len)"
   ]
  },
  {
   "cell_type": "code",
   "execution_count": 52,
   "id": "b07828f1",
   "metadata": {
    "execution": {
     "iopub.execute_input": "2021-05-09T03:13:41.204610Z",
     "iopub.status.busy": "2021-05-09T03:13:41.204388Z",
     "iopub.status.idle": "2021-05-09T03:13:41.209801Z",
     "shell.execute_reply": "2021-05-09T03:13:41.209295Z",
     "shell.execute_reply.started": "2021-05-09T03:13:41.204580Z"
    },
    "tags": []
   },
   "outputs": [
    {
     "name": "stdout",
     "output_type": "stream",
     "text": [
      "19609 - Q : [ 23  67 551 250   0   0   0   0   0   0   0   0   0   0   0   0   0   0\n",
      "   0   0   0   0   0   0]\n",
      "19609 - A : [   3   92   26   22 2904   14   29    2    4    0    0    0    0    0\n",
      "    0    0    0    0    0    0    0    0    0    0]\n",
      "\n",
      "7516 - Q : [147   7   6  65   9 770  24 210   2   0   0   0   0   0   0   0   0   0\n",
      "   0   0   0   0   0   0]\n",
      "7516 - A : [  3 356 202  13  19   6  37  22  10  16 141   5  86   2   4   0   0   0\n",
      "   0   0   0   0   0   0]\n",
      "\n",
      "18364 - Q : [  72   71   23   76   50   15  183 1712   17    2    0    0    0    0\n",
      "    0    0    0    0    0    0    0    0    0    0]\n",
      "18364 - A : [  3 568  26  76 202  13  19   6  82 240  99   2   4   0   0   0   0   0\n",
      "   0   0   0   0   0   0]\n",
      "\n",
      "9331 - Q : [2812 1032   60   13    0    0    0    0    0    0    0    0    0    0\n",
      "    0    0    0    0    0    0    0    0    0    0]\n",
      "9331 - A : [  3  78 901  40  10  34  28   4   0   0   0   0   0   0   0   0   0   0\n",
      "   0   0   0   0   0   0]\n",
      "\n",
      "7049 - Q : [ 10  20   7   6 200   5  23  30 960  24  22  17   0   0   0   0   0   0\n",
      "   0   0   0   0   0   0]\n",
      "7049 - A : [   3 4489   43 5382  138   22   33   34    2    4    0    0    0    0\n",
      "    0    0    0    0    0    0    0    0    0    0]\n",
      "\n"
     ]
    }
   ],
   "source": [
    "for i in samples:\n",
    "    print(f'{i} - Q : {enc_tensor[i]}')\n",
    "    print(f'{i} - A : {dec_tensor[i]}\\n')"
   ]
  },
  {
   "cell_type": "markdown",
   "id": "8789ebc0",
   "metadata": {
    "tags": []
   },
   "source": [
    "#### D. 테스트셋 분리"
   ]
  },
  {
   "cell_type": "code",
   "execution_count": 53,
   "id": "f86d80dc",
   "metadata": {
    "execution": {
     "iopub.execute_input": "2021-05-09T03:13:41.210779Z",
     "iopub.status.busy": "2021-05-09T03:13:41.210614Z",
     "iopub.status.idle": "2021-05-09T03:13:41.219380Z",
     "shell.execute_reply": "2021-05-09T03:13:41.218887Z",
     "shell.execute_reply.started": "2021-05-09T03:13:41.210757Z"
    },
    "tags": []
   },
   "outputs": [
    {
     "data": {
      "text/plain": [
       "((30069, 24), (304, 24), (30069, 24), (304, 24))"
      ]
     },
     "execution_count": 53,
     "metadata": {},
     "output_type": "execute_result"
    }
   ],
   "source": [
    "enc_train, enc_val, dec_train, dec_val = train_test_split(enc_tensor, \n",
    "                                                          dec_tensor, \n",
    "                                                          test_size=0.01)\n",
    "enc_train.shape, enc_val.shape, dec_train.shape, dec_val.shape"
   ]
  },
  {
   "cell_type": "markdown",
   "id": "bf4e8e69",
   "metadata": {},
   "source": [
    "## Step 3. 모델 정의 \n",
    "---"
   ]
  },
  {
   "cell_type": "markdown",
   "id": "6f9de1e9",
   "metadata": {
    "tags": []
   },
   "source": [
    "### A. Positional Encoding"
   ]
  },
  {
   "cell_type": "code",
   "execution_count": 150,
   "id": "891aaaf2",
   "metadata": {
    "execution": {
     "iopub.execute_input": "2021-05-09T03:25:39.150009Z",
     "iopub.status.busy": "2021-05-09T03:25:39.149106Z",
     "iopub.status.idle": "2021-05-09T03:25:39.164586Z",
     "shell.execute_reply": "2021-05-09T03:25:39.163296Z",
     "shell.execute_reply.started": "2021-05-09T03:25:39.149891Z"
    },
    "tags": []
   },
   "outputs": [],
   "source": [
    "def positional_encoding(pos, d_model):\n",
    "    def cal_angle(position, i):\n",
    "        return position / np.power(10000, int(i) / d_model)\n",
    "\n",
    "    def get_posi_angle_vec(position):\n",
    "        return [cal_angle(position, i) for i in range(d_model)]\n",
    "\n",
    "    sinusoid_table = np.array([get_posi_angle_vec(pos_i) for pos_i in range(pos)])\n",
    "\n",
    "    sinusoid_table[:, 0::2] = np.sin(sinusoid_table[:, 0::2])\n",
    "    sinusoid_table[:, 1::2] = np.cos(sinusoid_table[:, 1::2])\n",
    "\n",
    "    return sinusoid_table"
   ]
  },
  {
   "cell_type": "markdown",
   "id": "0e6f084f",
   "metadata": {
    "tags": []
   },
   "source": [
    "### B. Masking"
   ]
  },
  {
   "cell_type": "code",
   "execution_count": 151,
   "id": "e4689285",
   "metadata": {
    "execution": {
     "iopub.execute_input": "2021-05-09T03:25:39.414578Z",
     "iopub.status.busy": "2021-05-09T03:25:39.414368Z",
     "iopub.status.idle": "2021-05-09T03:25:39.419956Z",
     "shell.execute_reply": "2021-05-09T03:25:39.419327Z",
     "shell.execute_reply.started": "2021-05-09T03:25:39.414552Z"
    },
    "tags": []
   },
   "outputs": [],
   "source": [
    "def generate_padding_mask(seq):\n",
    "    seq = tf.cast(tf.math.equal(seq, 0), tf.float32)\n",
    "    return seq[:, tf.newaxis, tf.newaxis, :]\n",
    "\n",
    "def generate_causality_mask(src_len, tgt_len):\n",
    "    mask = 1 - np.cumsum(np.eye(src_len, tgt_len), 0)\n",
    "    return tf.cast(mask, tf.float32)\n",
    "\n",
    "def generate_masks(src, tgt):\n",
    "    enc_mask = generate_padding_mask(src)\n",
    "    dec_mask = generate_padding_mask(tgt)\n",
    "\n",
    "    dec_causality_mask = generate_causality_mask(tgt.shape[1], tgt.shape[1])\n",
    "    dec_mask = tf.maximum(dec_mask, dec_causality_mask)\n",
    "\n",
    "    dec_enc_causality_mask = generate_causality_mask(tgt.shape[1], src.shape[1])\n",
    "    dec_enc_mask = tf.maximum(enc_mask, dec_enc_causality_mask)\n",
    "\n",
    "    return enc_mask, dec_enc_mask, dec_mask"
   ]
  },
  {
   "cell_type": "markdown",
   "id": "bdf227b8",
   "metadata": {
    "tags": []
   },
   "source": [
    "### C. Multi-head Attention"
   ]
  },
  {
   "cell_type": "code",
   "execution_count": 152,
   "id": "3e6ee4eb",
   "metadata": {
    "execution": {
     "iopub.execute_input": "2021-05-09T03:25:39.715102Z",
     "iopub.status.busy": "2021-05-09T03:25:39.714877Z",
     "iopub.status.idle": "2021-05-09T03:25:39.724696Z",
     "shell.execute_reply": "2021-05-09T03:25:39.723869Z",
     "shell.execute_reply.started": "2021-05-09T03:25:39.715077Z"
    },
    "tags": []
   },
   "outputs": [],
   "source": [
    "class MultiHeadAttention(tf.keras.layers.Layer):\n",
    "    def __init__(self, d_model, num_heads):\n",
    "        super(MultiHeadAttention, self).__init__()\n",
    "        self.num_heads = num_heads\n",
    "        self.d_model = d_model\n",
    "\n",
    "        self.depth = d_model // self.num_heads\n",
    "\n",
    "        self.W_q = tf.keras.layers.Dense(d_model)\n",
    "        self.W_k = tf.keras.layers.Dense(d_model)\n",
    "        self.W_v = tf.keras.layers.Dense(d_model)\n",
    "\n",
    "        self.linear = tf.keras.layers.Dense(d_model)\n",
    "\n",
    "    def scaled_dot_product_attention(self, Q, K, V, mask):\n",
    "        d_k = tf.cast(K.shape[-1], tf.float32)\n",
    "        QK = tf.matmul(Q, K, transpose_b=True)\n",
    "\n",
    "        scaled_qk = QK / tf.math.sqrt(d_k)\n",
    "\n",
    "        if mask is not None:\n",
    "            scaled_qk += (mask * -1e9)  \n",
    "\n",
    "        attentions = tf.nn.softmax(scaled_qk, axis=-1)\n",
    "        out = tf.matmul(attentions, V)\n",
    "\n",
    "        return out, attentions\n",
    "\n",
    "\n",
    "    def split_heads(self, x):\n",
    "        bsz = x.shape[0]\n",
    "        split_x = tf.reshape(x, (bsz, -1, self.num_heads, self.depth))\n",
    "        split_x = tf.transpose(split_x, perm=[0, 2, 1, 3])\n",
    "\n",
    "        return split_x\n",
    "\n",
    "    def combine_heads(self, x):\n",
    "        bsz = x.shape[0]\n",
    "        combined_x = tf.transpose(x, perm=[0, 2, 1, 3])\n",
    "        combined_x = tf.reshape(combined_x, (bsz, -1, self.d_model))\n",
    "\n",
    "        return combined_x\n",
    "\n",
    "\n",
    "    def call(self, Q, K, V, mask):\n",
    "        WQ = self.W_q(Q)\n",
    "        WK = self.W_k(K)\n",
    "        WV = self.W_v(V)\n",
    "\n",
    "        WQ_splits = self.split_heads(WQ)\n",
    "        WK_splits = self.split_heads(WK)\n",
    "        WV_splits = self.split_heads(WV)\n",
    "\n",
    "        out, attention_weights = self.scaled_dot_product_attention(\n",
    "            WQ_splits, WK_splits, WV_splits, mask)\n",
    "\n",
    "        out = self.combine_heads(out)\n",
    "        out = self.linear(out)\n",
    "\n",
    "        return out, attention_weights"
   ]
  },
  {
   "cell_type": "markdown",
   "id": "83ffe92b",
   "metadata": {
    "tags": []
   },
   "source": [
    "### D. Position-wise Feed Forward Network"
   ]
  },
  {
   "cell_type": "code",
   "execution_count": 153,
   "id": "f4381f88",
   "metadata": {
    "execution": {
     "iopub.execute_input": "2021-05-09T03:25:40.027028Z",
     "iopub.status.busy": "2021-05-09T03:25:40.026819Z",
     "iopub.status.idle": "2021-05-09T03:25:40.031406Z",
     "shell.execute_reply": "2021-05-09T03:25:40.030893Z",
     "shell.execute_reply.started": "2021-05-09T03:25:40.027004Z"
    },
    "tags": []
   },
   "outputs": [],
   "source": [
    "class PoswiseFeedForwardNet(tf.keras.layers.Layer):\n",
    "    def __init__(self, d_model, d_ff):\n",
    "        super(PoswiseFeedForwardNet, self).__init__()\n",
    "        self.d_model = d_model\n",
    "        self.d_ff = d_ff\n",
    "\n",
    "        self.fc1 = tf.keras.layers.Dense(d_ff, activation='relu')\n",
    "        self.fc2 = tf.keras.layers.Dense(d_model)\n",
    "\n",
    "    def call(self, x):\n",
    "        out = self.fc1(x)\n",
    "        out = self.fc2(out)\n",
    "\n",
    "        return out"
   ]
  },
  {
   "cell_type": "markdown",
   "id": "fd298fb9",
   "metadata": {
    "tags": []
   },
   "source": [
    "### E. Encoder Layer"
   ]
  },
  {
   "cell_type": "code",
   "execution_count": 154,
   "id": "7aac21d7",
   "metadata": {
    "execution": {
     "iopub.execute_input": "2021-05-09T03:25:40.351500Z",
     "iopub.status.busy": "2021-05-09T03:25:40.351294Z",
     "iopub.status.idle": "2021-05-09T03:25:40.357198Z",
     "shell.execute_reply": "2021-05-09T03:25:40.356559Z",
     "shell.execute_reply.started": "2021-05-09T03:25:40.351475Z"
    },
    "tags": []
   },
   "outputs": [],
   "source": [
    "class EncoderLayer(tf.keras.layers.Layer):\n",
    "    def __init__(self, d_model, n_heads, d_ff, dropout):\n",
    "        super(EncoderLayer, self).__init__()\n",
    "\n",
    "        self.enc_self_attn = MultiHeadAttention(d_model, n_heads)\n",
    "        self.ffn = PoswiseFeedForwardNet(d_model, d_ff)\n",
    "\n",
    "        self.norm_1 = tf.keras.layers.LayerNormalization(epsilon=1e-6)\n",
    "        self.norm_2 = tf.keras.layers.LayerNormalization(epsilon=1e-6)\n",
    "\n",
    "        self.do = tf.keras.layers.Dropout(dropout)\n",
    "\n",
    "    def call(self, x, mask):\n",
    "\n",
    "        \"\"\"\n",
    "        Multi-Head Attention\n",
    "        \"\"\"\n",
    "        residual = x\n",
    "        out = self.norm_1(x)\n",
    "        out, enc_attn = self.enc_self_attn(out, out, out, mask)\n",
    "        out = self.do(out)\n",
    "        out += residual\n",
    "\n",
    "        \"\"\"\n",
    "        Position-Wise Feed Forward Network\n",
    "        \"\"\"\n",
    "        residual = out\n",
    "        out = self.norm_2(out)\n",
    "        out = self.ffn(out)\n",
    "        out = self.do(out)\n",
    "        out += residual\n",
    "\n",
    "        return out, enc_attn"
   ]
  },
  {
   "cell_type": "markdown",
   "id": "c4ecfa18",
   "metadata": {
    "execution": {
     "iopub.execute_input": "2021-05-07T11:46:56.515573Z",
     "iopub.status.busy": "2021-05-07T11:46:56.515365Z",
     "iopub.status.idle": "2021-05-07T11:46:56.518054Z",
     "shell.execute_reply": "2021-05-07T11:46:56.517477Z",
     "shell.execute_reply.started": "2021-05-07T11:46:56.515549Z"
    },
    "tags": []
   },
   "source": [
    "### F. Decoder Layer"
   ]
  },
  {
   "cell_type": "code",
   "execution_count": 155,
   "id": "a78b3c2e",
   "metadata": {
    "execution": {
     "iopub.execute_input": "2021-05-09T03:25:40.659311Z",
     "iopub.status.busy": "2021-05-09T03:25:40.659117Z",
     "iopub.status.idle": "2021-05-09T03:25:40.667800Z",
     "shell.execute_reply": "2021-05-09T03:25:40.667212Z",
     "shell.execute_reply.started": "2021-05-09T03:25:40.659289Z"
    },
    "tags": []
   },
   "outputs": [],
   "source": [
    "class DecoderLayer(tf.keras.layers.Layer):\n",
    "    def __init__(self, d_model, num_heads, d_ff, dropout):\n",
    "        super(DecoderLayer, self).__init__()\n",
    "\n",
    "        self.dec_self_attn = MultiHeadAttention(d_model, num_heads)\n",
    "        self.enc_dec_attn = MultiHeadAttention(d_model, num_heads)\n",
    "\n",
    "        self.ffn = PoswiseFeedForwardNet(d_model, d_ff)\n",
    "\n",
    "        self.norm_1 = tf.keras.layers.LayerNormalization(epsilon=1e-6)\n",
    "        self.norm_2 = tf.keras.layers.LayerNormalization(epsilon=1e-6)\n",
    "        self.norm_3 = tf.keras.layers.LayerNormalization(epsilon=1e-6)\n",
    "\n",
    "        self.do = tf.keras.layers.Dropout(dropout)\n",
    "\n",
    "    def call(self, x, enc_out, causality_mask, padding_mask):\n",
    "\n",
    "        \"\"\"\n",
    "        Masked Multi-Head Attention\n",
    "        \"\"\"\n",
    "        residual = x\n",
    "        out = self.norm_1(x)\n",
    "        out, dec_attn = self.dec_self_attn(out, out, out, padding_mask)\n",
    "        out = self.do(out)\n",
    "        out += residual\n",
    "\n",
    "        \"\"\"\n",
    "        Multi-Head Attention\n",
    "        \"\"\"\n",
    "        residual = out\n",
    "        out = self.norm_2(out)\n",
    "        out, dec_enc_attn = self.dec_self_attn(out, enc_out, enc_out, causality_mask)\n",
    "        out = self.do(out)\n",
    "        out += residual\n",
    "\n",
    "        \"\"\"\n",
    "        Position-Wise Feed Forward Network\n",
    "        \"\"\"\n",
    "        residual = out\n",
    "        out = self.norm_3(out)\n",
    "        out = self.ffn(out)\n",
    "        out = self.do(out)\n",
    "        out += residual\n",
    "\n",
    "        return out, dec_attn, dec_enc_attn"
   ]
  },
  {
   "cell_type": "markdown",
   "id": "419ebe89",
   "metadata": {
    "execution": {
     "iopub.execute_input": "2021-05-07T11:47:21.939454Z",
     "iopub.status.busy": "2021-05-07T11:47:21.938395Z",
     "iopub.status.idle": "2021-05-07T11:47:21.948400Z",
     "shell.execute_reply": "2021-05-07T11:47:21.945944Z",
     "shell.execute_reply.started": "2021-05-07T11:47:21.939324Z"
    },
    "tags": []
   },
   "source": [
    "### G. Encoder"
   ]
  },
  {
   "cell_type": "code",
   "execution_count": 156,
   "id": "4b9d62b4",
   "metadata": {
    "execution": {
     "iopub.execute_input": "2021-05-09T03:25:41.005287Z",
     "iopub.status.busy": "2021-05-09T03:25:41.005095Z",
     "iopub.status.idle": "2021-05-09T03:25:41.010278Z",
     "shell.execute_reply": "2021-05-09T03:25:41.009623Z",
     "shell.execute_reply.started": "2021-05-09T03:25:41.005265Z"
    },
    "tags": []
   },
   "outputs": [],
   "source": [
    "class Encoder(tf.keras.Model):\n",
    "    def __init__(self,\n",
    "                    n_layers,\n",
    "                    d_model,\n",
    "                    n_heads,\n",
    "                    d_ff,\n",
    "                    dropout):\n",
    "        super(Encoder, self).__init__()\n",
    "        self.n_layers = n_layers\n",
    "        self.enc_layers = [EncoderLayer(d_model, n_heads, d_ff, dropout) \n",
    "                        for _ in range(n_layers)]\n",
    "\n",
    "        self.do = tf.keras.layers.Dropout(dropout)\n",
    "\n",
    "    def call(self, x, mask):\n",
    "        out = x\n",
    "\n",
    "        enc_attns = list()\n",
    "        for i in range(self.n_layers):\n",
    "            out, enc_attn = self.enc_layers[i](out, mask)\n",
    "            enc_attns.append(enc_attn)\n",
    "\n",
    "        return out, enc_attns"
   ]
  },
  {
   "cell_type": "markdown",
   "id": "31e4151a",
   "metadata": {
    "tags": []
   },
   "source": [
    "### H. Decoder"
   ]
  },
  {
   "cell_type": "code",
   "execution_count": 157,
   "id": "d2a32201",
   "metadata": {
    "execution": {
     "iopub.execute_input": "2021-05-09T03:25:41.346191Z",
     "iopub.status.busy": "2021-05-09T03:25:41.345994Z",
     "iopub.status.idle": "2021-05-09T03:25:41.350953Z",
     "shell.execute_reply": "2021-05-09T03:25:41.350474Z",
     "shell.execute_reply.started": "2021-05-09T03:25:41.346167Z"
    },
    "tags": []
   },
   "outputs": [],
   "source": [
    "class Decoder(tf.keras.Model):\n",
    "    def __init__(self,\n",
    "                    n_layers,\n",
    "                    d_model,\n",
    "                    n_heads,\n",
    "                    d_ff,\n",
    "                    dropout):\n",
    "        super(Decoder, self).__init__()\n",
    "        self.n_layers = n_layers\n",
    "        self.dec_layers = [DecoderLayer(d_model, n_heads, d_ff, dropout) \n",
    "                            for _ in range(n_layers)]\n",
    "\n",
    "\n",
    "    def call(self, x, enc_out, causality_mask, padding_mask):\n",
    "        out = x\n",
    "\n",
    "        dec_attns = list()\n",
    "        dec_enc_attns = list()\n",
    "        for i in range(self.n_layers):\n",
    "            out, dec_attn, dec_enc_attn = \\\n",
    "            self.dec_layers[i](out, enc_out, causality_mask, padding_mask)\n",
    "\n",
    "            dec_attns.append(dec_attn)\n",
    "            dec_enc_attns.append(dec_enc_attn)\n",
    "\n",
    "        return out, dec_attns, dec_enc_attns"
   ]
  },
  {
   "cell_type": "markdown",
   "id": "82afd83f",
   "metadata": {
    "tags": []
   },
   "source": [
    "### I. Transformer"
   ]
  },
  {
   "cell_type": "code",
   "execution_count": 158,
   "id": "ce1f5f45",
   "metadata": {
    "execution": {
     "iopub.execute_input": "2021-05-09T03:25:41.705748Z",
     "iopub.status.busy": "2021-05-09T03:25:41.705316Z",
     "iopub.status.idle": "2021-05-09T03:25:41.720367Z",
     "shell.execute_reply": "2021-05-09T03:25:41.719507Z",
     "shell.execute_reply.started": "2021-05-09T03:25:41.705693Z"
    },
    "tags": []
   },
   "outputs": [],
   "source": [
    "class Transformer(tf.keras.Model):\n",
    "    def __init__(self,\n",
    "                    n_layers,\n",
    "                    d_model,\n",
    "                    n_heads,\n",
    "                    d_ff,\n",
    "                    src_vocab_size,\n",
    "                    tgt_vocab_size,\n",
    "                    pos_len,\n",
    "                    dropout=0.2,\n",
    "                    shared_fc=True,\n",
    "                    shared_emb=False):\n",
    "        super(Transformer, self).__init__()\n",
    "        \n",
    "        self.d_model = tf.cast(d_model, tf.float32)\n",
    "\n",
    "        if shared_emb:\n",
    "            self.enc_emb = self.dec_emb = \\\n",
    "            tf.keras.layers.Embedding(src_vocab_size, d_model)\n",
    "        else:\n",
    "            self.enc_emb = tf.keras.layers.Embedding(src_vocab_size, d_model)\n",
    "            self.dec_emb = tf.keras.layers.Embedding(tgt_vocab_size, d_model)\n",
    "\n",
    "        self.pos_encoding = positional_encoding(pos_len, d_model)\n",
    "        self.do = tf.keras.layers.Dropout(dropout)\n",
    "\n",
    "        self.encoder = Encoder(n_layers, d_model, n_heads, d_ff, dropout)\n",
    "        self.decoder = Decoder(n_layers, d_model, n_heads, d_ff, dropout)\n",
    "\n",
    "        self.fc = tf.keras.layers.Dense(tgt_vocab_size)\n",
    "\n",
    "        self.shared_fc = shared_fc\n",
    "\n",
    "        if shared_fc:\n",
    "            self.fc.set_weights(tf.transpose(self.dec_emb.weights))\n",
    "\n",
    "    def embedding(self, emb, x):\n",
    "        seq_len = x.shape[1]\n",
    "\n",
    "        out = emb(x)\n",
    "\n",
    "        if self.shared_fc: out *= tf.math.sqrt(self.d_model)\n",
    "\n",
    "        out += self.pos_encoding[np.newaxis, ...][:, :seq_len, :]\n",
    "        out = self.do(out)\n",
    "\n",
    "        return out\n",
    "\n",
    "\n",
    "    def call(self, enc_in, dec_in, enc_mask, causality_mask, dec_mask):\n",
    "        enc_in = self.embedding(self.enc_emb, enc_in)\n",
    "        dec_in = self.embedding(self.dec_emb, dec_in)\n",
    "\n",
    "        enc_out, enc_attns = self.encoder(enc_in, enc_mask)\n",
    "\n",
    "        dec_out, dec_attns, dec_enc_attns = \\\n",
    "        self.decoder(dec_in, enc_out, causality_mask, dec_mask)\n",
    "\n",
    "        logits = self.fc(dec_out)\n",
    "\n",
    "        return logits, enc_attns, dec_attns, dec_enc_attns"
   ]
  },
  {
   "cell_type": "markdown",
   "id": "fd4cbdb5",
   "metadata": {},
   "source": [
    "## Step 4. 모델 훈련\n",
    "---"
   ]
  },
  {
   "cell_type": "code",
   "execution_count": 63,
   "id": "c7adb7f6",
   "metadata": {
    "execution": {
     "iopub.execute_input": "2021-05-09T03:13:41.280990Z",
     "iopub.status.busy": "2021-05-09T03:13:41.280759Z",
     "iopub.status.idle": "2021-05-09T03:13:41.284103Z",
     "shell.execute_reply": "2021-05-09T03:13:41.283440Z",
     "shell.execute_reply.started": "2021-05-09T03:13:41.280968Z"
    },
    "tags": []
   },
   "outputs": [],
   "source": [
    "hy_1 = {\n",
    "    'n_layers' : 2,\n",
    "    'd_model' : 512,\n",
    "    'n_heads' : 8,\n",
    "    'd_ff' : 2048,\n",
    "    'src_vocab_size' : len(word_index),\n",
    "    'tgt_vocab_size' : len(word_index),\n",
    "    'pos_len' : 200,\n",
    "    'dropout' : 0.3,\n",
    "    'shared_fc' : True,\n",
    "    'shared_emb' : True\n",
    "}"
   ]
  },
  {
   "cell_type": "markdown",
   "id": "01f545e5",
   "metadata": {
    "tags": []
   },
   "source": [
    "### 1. Optimizer"
   ]
  },
  {
   "cell_type": "markdown",
   "id": "33b86364",
   "metadata": {
    "tags": []
   },
   "source": [
    "#### A. Learning Rate Scheduler"
   ]
  },
  {
   "cell_type": "code",
   "execution_count": 159,
   "id": "32d41716",
   "metadata": {
    "execution": {
     "iopub.execute_input": "2021-05-09T03:25:45.205129Z",
     "iopub.status.busy": "2021-05-09T03:25:45.204922Z",
     "iopub.status.idle": "2021-05-09T03:25:45.209827Z",
     "shell.execute_reply": "2021-05-09T03:25:45.209196Z",
     "shell.execute_reply.started": "2021-05-09T03:25:45.205103Z"
    },
    "tags": []
   },
   "outputs": [],
   "source": [
    "class LearningRateScheduler(tf.keras.optimizers.schedules.LearningRateSchedule):\n",
    "    def __init__(self, d_model, warmup_steps=4000):\n",
    "        super(LearningRateScheduler, self).__init__()\n",
    "\n",
    "        self.d_model = d_model\n",
    "        self.warmup_steps = warmup_steps\n",
    "\n",
    "    def __call__(self, step):\n",
    "        arg1 = step ** -0.5\n",
    "        arg2 = step * (self.warmup_steps ** -1.5)\n",
    "\n",
    "        return (self.d_model ** -0.5) * tf.math.minimum(arg1, arg2)"
   ]
  },
  {
   "cell_type": "markdown",
   "id": "f1926635",
   "metadata": {
    "tags": []
   },
   "source": [
    "#### B. Optimizer"
   ]
  },
  {
   "cell_type": "code",
   "execution_count": 65,
   "id": "5ef45756",
   "metadata": {
    "execution": {
     "iopub.execute_input": "2021-05-09T03:13:41.289755Z",
     "iopub.status.busy": "2021-05-09T03:13:41.289594Z",
     "iopub.status.idle": "2021-05-09T03:13:41.292855Z",
     "shell.execute_reply": "2021-05-09T03:13:41.292335Z",
     "shell.execute_reply.started": "2021-05-09T03:13:41.289733Z"
    },
    "tags": []
   },
   "outputs": [],
   "source": [
    "learning_rate = LearningRateScheduler(hy_1['d_model'])\n",
    "\n",
    "optimizer = tf.keras.optimizers.Adam(learning_rate,\n",
    "                                        beta_1=0.9,\n",
    "                                        beta_2=0.98, \n",
    "                                        epsilon=1e-9)"
   ]
  },
  {
   "cell_type": "markdown",
   "id": "c97dca19",
   "metadata": {
    "tags": []
   },
   "source": [
    "### 2. Loss Function"
   ]
  },
  {
   "cell_type": "code",
   "execution_count": 174,
   "id": "cefe19c3",
   "metadata": {
    "execution": {
     "iopub.execute_input": "2021-05-09T03:28:06.710100Z",
     "iopub.status.busy": "2021-05-09T03:28:06.709494Z",
     "iopub.status.idle": "2021-05-09T03:28:06.720173Z",
     "shell.execute_reply": "2021-05-09T03:28:06.719359Z",
     "shell.execute_reply.started": "2021-05-09T03:28:06.710025Z"
    },
    "tags": []
   },
   "outputs": [],
   "source": [
    "loss_object = tf.keras.losses.SparseCategoricalCrossentropy(\n",
    "    from_logits=True, reduction='none')\n",
    "\n",
    "def loss_function(real, pred):\n",
    "    mask = tf.math.logical_not(tf.math.equal(real, 0))\n",
    "    loss_ = loss_object(real, pred)\n",
    "\n",
    "    mask = tf.cast(mask, dtype=loss_.dtype)\n",
    "    loss_ *= mask\n",
    "\n",
    "    return tf.reduce_sum(loss_)/tf.reduce_sum(mask)"
   ]
  },
  {
   "cell_type": "markdown",
   "id": "25dce68f",
   "metadata": {},
   "source": [
    "### 3. Train Step"
   ]
  },
  {
   "cell_type": "code",
   "execution_count": 175,
   "id": "15bedc76",
   "metadata": {
    "execution": {
     "iopub.execute_input": "2021-05-09T03:28:10.540103Z",
     "iopub.status.busy": "2021-05-09T03:28:10.539742Z",
     "iopub.status.idle": "2021-05-09T03:28:10.548224Z",
     "shell.execute_reply": "2021-05-09T03:28:10.547105Z",
     "shell.execute_reply.started": "2021-05-09T03:28:10.540060Z"
    },
    "tags": []
   },
   "outputs": [],
   "source": [
    "@tf.function()\n",
    "def train_step(src, tgt, model, optimizer):\n",
    "    tgt_in = tgt[:, :-1]  # Decoder의 input\n",
    "    gold = tgt[:, 1:]     # Decoder의 output과 비교하기 위해 right shift를 통해 생성한 최종 타겟\n",
    "\n",
    "    enc_mask, dec_enc_mask, dec_mask = generate_masks(src, tgt_in)\n",
    "\n",
    "    with tf.GradientTape() as tape:\n",
    "        predictions, enc_attns, dec_attns, dec_enc_attns = \\\n",
    "        model(src, tgt_in, enc_mask, dec_enc_mask, dec_mask)\n",
    "        loss = loss_function(gold, predictions)\n",
    "\n",
    "    gradients = tape.gradient(loss, model.trainable_variables)    \n",
    "    optimizer.apply_gradients(zip(gradients, model.trainable_variables))\n",
    "\n",
    "    return loss, enc_attns, dec_attns, dec_enc_attns"
   ]
  },
  {
   "cell_type": "markdown",
   "id": "3d4f8408",
   "metadata": {},
   "source": [
    "### 4. Translate"
   ]
  },
  {
   "cell_type": "code",
   "execution_count": 176,
   "id": "2448158e",
   "metadata": {
    "execution": {
     "iopub.execute_input": "2021-05-09T03:28:13.976306Z",
     "iopub.status.busy": "2021-05-09T03:28:13.975757Z",
     "iopub.status.idle": "2021-05-09T03:28:13.988367Z",
     "shell.execute_reply": "2021-05-09T03:28:13.987318Z",
     "shell.execute_reply.started": "2021-05-09T03:28:13.976179Z"
    },
    "tags": []
   },
   "outputs": [],
   "source": [
    "def evaluate(sentence, model, src_tokenizer, tgt_tokenizer, bos_id, eos_id):\n",
    "    sentence = preprocess_sentence(sentence)\n",
    "    \n",
    "    mecab = Mecab()\n",
    "    pieces = mecab.morphs(sentence)\n",
    "    tokens = src_tokenizer.texts_to_sequences([\" \".join(pieces)])[0]\n",
    "\n",
    "    _input = tf.keras.preprocessing.sequence.pad_sequences([tokens],\n",
    "                                                           maxlen=enc_train.shape[-1],\n",
    "                                                           padding='post')\n",
    "    \n",
    "    ids = []\n",
    "    output = tf.expand_dims([bos_id], 0)\n",
    "    for i in range(dec_train.shape[-1]):\n",
    "        enc_padding_mask, combined_mask, dec_padding_mask = \\\n",
    "        generate_masks(_input, output)\n",
    "\n",
    "        predictions, enc_attns, dec_attns, dec_enc_attns =\\\n",
    "        model(_input, \n",
    "              output,\n",
    "              enc_padding_mask,\n",
    "              combined_mask,\n",
    "              dec_padding_mask)\n",
    "\n",
    "        predicted_id = \\\n",
    "        tf.argmax(tf.math.softmax(predictions, axis=-1)[0, -1]).numpy().item()\n",
    "\n",
    "        if eos_id == predicted_id:\n",
    "            result = tgt_tokenizer.sequences_to_texts([ids])\n",
    "            return pieces, result, enc_attns, dec_attns, dec_enc_attns\n",
    "\n",
    "        ids.append(predicted_id)\n",
    "        output = tf.concat([output, tf.expand_dims([predicted_id], 0)], axis=-1)\n",
    "\n",
    "    result = tgt_tokenizer.sequences_to_texts([ids])[0]\n",
    "\n",
    "    return pieces, result, enc_attns, dec_attns, dec_enc_attns"
   ]
  },
  {
   "cell_type": "code",
   "execution_count": 163,
   "id": "93a55e74",
   "metadata": {
    "execution": {
     "iopub.execute_input": "2021-05-09T03:26:04.362829Z",
     "iopub.status.busy": "2021-05-09T03:26:04.362635Z",
     "iopub.status.idle": "2021-05-09T03:26:04.366500Z",
     "shell.execute_reply": "2021-05-09T03:26:04.365995Z",
     "shell.execute_reply.started": "2021-05-09T03:26:04.362806Z"
    },
    "tags": []
   },
   "outputs": [],
   "source": [
    "def translate(sentence, model, src_tokenizer, tgt_tokenizer, bos_id, eos_id):\n",
    "    pieces, result, enc_attns, dec_attns, dec_enc_attns = evaluate(sentence, \n",
    "                                                                   model, \n",
    "                                                                   src_tokenizer, \n",
    "                                                                   tgt_tokenizer,\n",
    "                                                                   bos_id,\n",
    "                                                                   eos_id)\n",
    "    print(f'🗣 : {sentence}')\n",
    "    print(f'🤖 : {result[0]}')\n",
    "    return result"
   ]
  },
  {
   "cell_type": "markdown",
   "id": "a238fd46",
   "metadata": {},
   "source": [
    "### 5. Train"
   ]
  },
  {
   "cell_type": "code",
   "execution_count": 177,
   "id": "f0b4ba1a",
   "metadata": {
    "execution": {
     "iopub.execute_input": "2021-05-09T03:28:22.492863Z",
     "iopub.status.busy": "2021-05-09T03:28:22.492669Z",
     "iopub.status.idle": "2021-05-09T03:28:22.498829Z",
     "shell.execute_reply": "2021-05-09T03:28:22.498353Z",
     "shell.execute_reply.started": "2021-05-09T03:28:22.492841Z"
    },
    "tags": []
   },
   "outputs": [],
   "source": [
    "def train(transformer, optimizer, enc_train, dec_train, \n",
    "          enc_tokenizer, dec_tokenizer, \n",
    "          samples, sampling_period=5, BATCH_SIZE=256, EPOCHS=20,\n",
    "          bos_id=3, eos_id=4):\n",
    "    losses = []\n",
    "    for epoch in range(EPOCHS):\n",
    "        total_loss = 0\n",
    "\n",
    "        idx_list = list(range(0, enc_train.shape[0], BATCH_SIZE))\n",
    "        random.shuffle(idx_list)\n",
    "        t = tqdm(idx_list)\n",
    "\n",
    "        for (batch, idx) in enumerate(t):\n",
    "            batch_loss, enc_attns, dec_attns, dec_enc_attns = \\\n",
    "            train_step(enc_train[idx:idx+BATCH_SIZE],\n",
    "                        dec_train[idx:idx+BATCH_SIZE],\n",
    "                        transformer,\n",
    "                        optimizer)\n",
    "\n",
    "            total_loss += batch_loss\n",
    "\n",
    "            t.set_description_str('Epoch %2d' % (epoch + 1))\n",
    "            t.set_postfix_str('Loss %.4f' % (total_loss.numpy() / (batch + 1)))\n",
    "            \n",
    "        if (epoch + 1) % sampling_period == 0:\n",
    "            print(f'[EPOCH = {epoch+1}]')\n",
    "            \n",
    "            for sample in samples:\n",
    "                translate(sample, transformer, enc_tokenizer, dec_tokenizer,\n",
    "                          bos_id, eos_id)\n",
    "                \n",
    "        losses.append(total_loss.numpy())\n",
    "    return losses"
   ]
  },
  {
   "cell_type": "markdown",
   "id": "2fb50e75",
   "metadata": {},
   "source": [
    "### 6. 학습 결과 출력 함수"
   ]
  },
  {
   "cell_type": "code",
   "execution_count": 165,
   "id": "8549e4cf",
   "metadata": {
    "execution": {
     "iopub.execute_input": "2021-05-09T03:26:06.093602Z",
     "iopub.status.busy": "2021-05-09T03:26:06.093311Z",
     "iopub.status.idle": "2021-05-09T03:26:06.098076Z",
     "shell.execute_reply": "2021-05-09T03:26:06.097358Z",
     "shell.execute_reply.started": "2021-05-09T03:26:06.093568Z"
    },
    "tags": []
   },
   "outputs": [],
   "source": [
    "def show_train_loss(losses):\n",
    "    fig, ax = plt.subplots(1, 1, figsize=(10, 5))\n",
    "    ax.plot(losses)\n",
    "    ax.set_title('Traina loss', fontsize=15)\n",
    "    plt.show()"
   ]
  },
  {
   "cell_type": "code",
   "execution_count": 166,
   "id": "7a511686",
   "metadata": {
    "execution": {
     "iopub.execute_input": "2021-05-09T03:26:06.764431Z",
     "iopub.status.busy": "2021-05-09T03:26:06.764123Z",
     "iopub.status.idle": "2021-05-09T03:26:06.769821Z",
     "shell.execute_reply": "2021-05-09T03:26:06.769108Z",
     "shell.execute_reply.started": "2021-05-09T03:26:06.764393Z"
    },
    "tags": []
   },
   "outputs": [],
   "source": [
    "def print_result(model, src_tokenizer, tgt_tokenizer, sentences,\n",
    "                n_layers=2, d_model=512, n_heads=8, d_ff=2048, dropout=0.1,\n",
    "                warmup_steps=4000, batch_size=256, epochs=20):\n",
    "    \n",
    "    print(\"Examples\")\n",
    "    for i, sen in enumerate(sentences):\n",
    "        print(f\"{i+1}. {sen}\")\n",
    "    print()\n",
    "    \n",
    "    print(\"Translations\")\n",
    "    for i, sentence in enumerate(sentences):\n",
    "        pieces, result, enc_attns, dec_attns, dec_enc_attns = \\\n",
    "            evaluate(sentence, model, src_tokenizer, tgt_tokenizer, 3, 4)\n",
    "        print(f\"> {i+1}. {result[0]}\")\n",
    "    \n",
    "    print()\n",
    "    print('Hyperparameters')\n",
    "    print(f'> n_layers: {n_layers}')\n",
    "    print(f'> d_model: {d_model}')\n",
    "    print(f'> n_heads: {n_heads}')\n",
    "    print(f'> d_ff: {d_ff}')\n",
    "    print(f'> dropout: {dropout}')\n",
    "    \n",
    "    print()\n",
    "    print('Training Parameters')\n",
    "    print(f'> Warmup Steps: {warmup_steps}')\n",
    "    print(f'> Batch Size: {batch_size}')\n",
    "    print(f'> Epoch At: {epochs}')"
   ]
  },
  {
   "cell_type": "markdown",
   "id": "d056b3e6",
   "metadata": {
    "tags": []
   },
   "source": [
    "### 6. 모델 훈련"
   ]
  },
  {
   "cell_type": "code",
   "execution_count": 73,
   "id": "1252e287",
   "metadata": {
    "execution": {
     "iopub.execute_input": "2021-05-09T03:13:41.337522Z",
     "iopub.status.busy": "2021-05-09T03:13:41.337350Z",
     "iopub.status.idle": "2021-05-09T03:13:41.339948Z",
     "shell.execute_reply": "2021-05-09T03:13:41.339491Z",
     "shell.execute_reply.started": "2021-05-09T03:13:41.337499Z"
    },
    "tags": []
   },
   "outputs": [],
   "source": [
    "examples = [\n",
    "    '지루하다, 놀러가고 싶어.',\n",
    "    '오늘 일찍 일어났더니 피곤하다.',\n",
    "    '간만에 여자친구랑 데이트 하기로 했어.',\n",
    "    '집에 있는다는 소리야.',\n",
    "]"
   ]
  },
  {
   "cell_type": "code",
   "execution_count": 85,
   "id": "8d9a6aaf",
   "metadata": {
    "execution": {
     "iopub.execute_input": "2021-05-08T14:28:12.562405Z",
     "iopub.status.busy": "2021-05-08T14:28:12.562189Z",
     "iopub.status.idle": "2021-05-08T14:28:12.880758Z",
     "shell.execute_reply": "2021-05-08T14:28:12.880033Z",
     "shell.execute_reply.started": "2021-05-08T14:28:12.562379Z"
    },
    "tags": []
   },
   "outputs": [],
   "source": [
    "transformer_1 = Transformer(**hy_1)\n",
    "optimizer = tf.keras.optimizers.Adam(learning_rate,\n",
    "                                        beta_1=0.9,\n",
    "                                        beta_2=0.98, \n",
    "                                        epsilon=1e-9)"
   ]
  },
  {
   "cell_type": "code",
   "execution_count": 109,
   "id": "90ca69c9",
   "metadata": {
    "execution": {
     "iopub.execute_input": "2021-05-07T15:12:02.892456Z",
     "iopub.status.busy": "2021-05-07T15:12:02.892231Z",
     "iopub.status.idle": "2021-05-07T15:50:24.711281Z",
     "shell.execute_reply": "2021-05-07T15:50:24.710750Z",
     "shell.execute_reply.started": "2021-05-07T15:12:02.892425Z"
    },
    "tags": []
   },
   "outputs": [
    {
     "data": {
      "application/vnd.jupyter.widget-view+json": {
       "model_id": "476bb7b6726b48cfa2ed9ef53e8c28c1",
       "version_major": 2,
       "version_minor": 0
      },
      "text/plain": [
       "  0%|          | 0/118 [00:00<?, ?it/s]"
      ]
     },
     "metadata": {},
     "output_type": "display_data"
    },
    {
     "data": {
      "application/vnd.jupyter.widget-view+json": {
       "model_id": "7e0087e421b24bfd8cc0de5457bd15d0",
       "version_major": 2,
       "version_minor": 0
      },
      "text/plain": [
       "  0%|          | 0/118 [00:00<?, ?it/s]"
      ]
     },
     "metadata": {},
     "output_type": "display_data"
    },
    {
     "data": {
      "application/vnd.jupyter.widget-view+json": {
       "model_id": "e2a4105c07fa4da7a0f3428842418405",
       "version_major": 2,
       "version_minor": 0
      },
      "text/plain": [
       "  0%|          | 0/118 [00:00<?, ?it/s]"
      ]
     },
     "metadata": {},
     "output_type": "display_data"
    },
    {
     "data": {
      "application/vnd.jupyter.widget-view+json": {
       "model_id": "1cfc10ab379f4265b05c853dafd04859",
       "version_major": 2,
       "version_minor": 0
      },
      "text/plain": [
       "  0%|          | 0/118 [00:00<?, ?it/s]"
      ]
     },
     "metadata": {},
     "output_type": "display_data"
    },
    {
     "data": {
      "application/vnd.jupyter.widget-view+json": {
       "model_id": "3574f46c65a74fbf8b0ecb057b3bb457",
       "version_major": 2,
       "version_minor": 0
      },
      "text/plain": [
       "  0%|          | 0/118 [00:00<?, ?it/s]"
      ]
     },
     "metadata": {},
     "output_type": "display_data"
    },
    {
     "data": {
      "application/vnd.jupyter.widget-view+json": {
       "model_id": "83cc6f87e2e04d7fbf3a9a6a3b791a6c",
       "version_major": 2,
       "version_minor": 0
      },
      "text/plain": [
       "  0%|          | 0/118 [00:00<?, ?it/s]"
      ]
     },
     "metadata": {},
     "output_type": "display_data"
    },
    {
     "data": {
      "application/vnd.jupyter.widget-view+json": {
       "model_id": "6f53f749400e4cd59d01aee14f604aa8",
       "version_major": 2,
       "version_minor": 0
      },
      "text/plain": [
       "  0%|          | 0/118 [00:00<?, ?it/s]"
      ]
     },
     "metadata": {},
     "output_type": "display_data"
    },
    {
     "data": {
      "application/vnd.jupyter.widget-view+json": {
       "model_id": "677f0f1469ec4a6f8eda69a2412389aa",
       "version_major": 2,
       "version_minor": 0
      },
      "text/plain": [
       "  0%|          | 0/118 [00:00<?, ?it/s]"
      ]
     },
     "metadata": {},
     "output_type": "display_data"
    },
    {
     "data": {
      "application/vnd.jupyter.widget-view+json": {
       "model_id": "74e321a31d5a47bd8e331388ce7d50f8",
       "version_major": 2,
       "version_minor": 0
      },
      "text/plain": [
       "  0%|          | 0/118 [00:00<?, ?it/s]"
      ]
     },
     "metadata": {},
     "output_type": "display_data"
    },
    {
     "data": {
      "application/vnd.jupyter.widget-view+json": {
       "model_id": "536a6f90600644b3a0d768da7db97a20",
       "version_major": 2,
       "version_minor": 0
      },
      "text/plain": [
       "  0%|          | 0/118 [00:00<?, ?it/s]"
      ]
     },
     "metadata": {},
     "output_type": "display_data"
    },
    {
     "name": "stdout",
     "output_type": "stream",
     "text": [
      "[EPOCH = 10]\n",
      "🗣 : 지루하다, 놀러가고 싶어.\n",
      "🤖 : 같이 가 좀 쉬 어 보 세요 .\n",
      "🗣 : 오늘 일찍 일어났더니 피곤하다.\n",
      "🤖 : 언젠간 남 을 좀 쐬 면 되 었 나 봐요 .\n",
      "🗣 : 간만에 여자친구랑 데이트 하기로 했어.\n",
      "🤖 : 이제 라도 생각날 거 똑같 아요 .\n",
      "🗣 : 집에 있는다는 소리야.\n",
      "🤖 : 할 수 있 을 거 예요 .\n"
     ]
    },
    {
     "data": {
      "application/vnd.jupyter.widget-view+json": {
       "model_id": "254ee1176b5a4eec86d5dcd0b43cd315",
       "version_major": 2,
       "version_minor": 0
      },
      "text/plain": [
       "  0%|          | 0/118 [00:00<?, ?it/s]"
      ]
     },
     "metadata": {},
     "output_type": "display_data"
    },
    {
     "data": {
      "application/vnd.jupyter.widget-view+json": {
       "model_id": "621cde0641e546099fe0e11af753475c",
       "version_major": 2,
       "version_minor": 0
      },
      "text/plain": [
       "  0%|          | 0/118 [00:00<?, ?it/s]"
      ]
     },
     "metadata": {},
     "output_type": "display_data"
    },
    {
     "data": {
      "application/vnd.jupyter.widget-view+json": {
       "model_id": "2baf61572c264bea819049bbad454ebe",
       "version_major": 2,
       "version_minor": 0
      },
      "text/plain": [
       "  0%|          | 0/118 [00:00<?, ?it/s]"
      ]
     },
     "metadata": {},
     "output_type": "display_data"
    },
    {
     "data": {
      "application/vnd.jupyter.widget-view+json": {
       "model_id": "76c4efcf63754b7e9835725649e86675",
       "version_major": 2,
       "version_minor": 0
      },
      "text/plain": [
       "  0%|          | 0/118 [00:00<?, ?it/s]"
      ]
     },
     "metadata": {},
     "output_type": "display_data"
    },
    {
     "data": {
      "application/vnd.jupyter.widget-view+json": {
       "model_id": "d8442f1ec3474f84b155740a774ff7de",
       "version_major": 2,
       "version_minor": 0
      },
      "text/plain": [
       "  0%|          | 0/118 [00:00<?, ?it/s]"
      ]
     },
     "metadata": {},
     "output_type": "display_data"
    },
    {
     "data": {
      "application/vnd.jupyter.widget-view+json": {
       "model_id": "c118fa10ba404b8ca6f3ef3d5e2955f8",
       "version_major": 2,
       "version_minor": 0
      },
      "text/plain": [
       "  0%|          | 0/118 [00:00<?, ?it/s]"
      ]
     },
     "metadata": {},
     "output_type": "display_data"
    },
    {
     "data": {
      "application/vnd.jupyter.widget-view+json": {
       "model_id": "1c2bdd8f3c054de884b7711dc8dd7399",
       "version_major": 2,
       "version_minor": 0
      },
      "text/plain": [
       "  0%|          | 0/118 [00:00<?, ?it/s]"
      ]
     },
     "metadata": {},
     "output_type": "display_data"
    },
    {
     "data": {
      "application/vnd.jupyter.widget-view+json": {
       "model_id": "4fbf6560f2ec464e82a95bae52774da2",
       "version_major": 2,
       "version_minor": 0
      },
      "text/plain": [
       "  0%|          | 0/118 [00:00<?, ?it/s]"
      ]
     },
     "metadata": {},
     "output_type": "display_data"
    },
    {
     "data": {
      "application/vnd.jupyter.widget-view+json": {
       "model_id": "0f62d8c7c26c449b9ebf7e19fbf05efa",
       "version_major": 2,
       "version_minor": 0
      },
      "text/plain": [
       "  0%|          | 0/118 [00:00<?, ?it/s]"
      ]
     },
     "metadata": {},
     "output_type": "display_data"
    },
    {
     "data": {
      "application/vnd.jupyter.widget-view+json": {
       "model_id": "fcd07ad8d88f42f7a1ef3fddc38904aa",
       "version_major": 2,
       "version_minor": 0
      },
      "text/plain": [
       "  0%|          | 0/118 [00:00<?, ?it/s]"
      ]
     },
     "metadata": {},
     "output_type": "display_data"
    },
    {
     "name": "stdout",
     "output_type": "stream",
     "text": [
      "[EPOCH = 20]\n",
      "🗣 : 지루하다, 놀러가고 싶어.\n",
      "🤖 : 저 도 볼 수 있 어요 .\n",
      "🗣 : 오늘 일찍 일어났더니 피곤하다.\n",
      "🤖 : 오늘 에 는 습관 이 에요 .\n",
      "🗣 : 간만에 여자친구랑 데이트 하기로 했어.\n",
      "🤖 : 떨리 는 어려운 것 같 아요 .\n",
      "🗣 : 집에 있는다는 소리야.\n",
      "🤖 : 상대방 에게 너무 많이 할 수 있 으면 좋 겠 네요 .\n"
     ]
    },
    {
     "data": {
      "application/vnd.jupyter.widget-view+json": {
       "model_id": "9be36deb6408483a9e38b2a3543508f5",
       "version_major": 2,
       "version_minor": 0
      },
      "text/plain": [
       "  0%|          | 0/118 [00:00<?, ?it/s]"
      ]
     },
     "metadata": {},
     "output_type": "display_data"
    },
    {
     "data": {
      "application/vnd.jupyter.widget-view+json": {
       "model_id": "5bd007352e7a4bf0830e040570c0bc6c",
       "version_major": 2,
       "version_minor": 0
      },
      "text/plain": [
       "  0%|          | 0/118 [00:00<?, ?it/s]"
      ]
     },
     "metadata": {},
     "output_type": "display_data"
    },
    {
     "data": {
      "application/vnd.jupyter.widget-view+json": {
       "model_id": "c8d489a42c904faf8f2c7826e7bf4ea8",
       "version_major": 2,
       "version_minor": 0
      },
      "text/plain": [
       "  0%|          | 0/118 [00:00<?, ?it/s]"
      ]
     },
     "metadata": {},
     "output_type": "display_data"
    },
    {
     "data": {
      "application/vnd.jupyter.widget-view+json": {
       "model_id": "24da0b8ff28a460ea8ae7d9d566fcaef",
       "version_major": 2,
       "version_minor": 0
      },
      "text/plain": [
       "  0%|          | 0/118 [00:00<?, ?it/s]"
      ]
     },
     "metadata": {},
     "output_type": "display_data"
    },
    {
     "data": {
      "application/vnd.jupyter.widget-view+json": {
       "model_id": "2e8f644a56a941bd80d2fb14f692beb5",
       "version_major": 2,
       "version_minor": 0
      },
      "text/plain": [
       "  0%|          | 0/118 [00:00<?, ?it/s]"
      ]
     },
     "metadata": {},
     "output_type": "display_data"
    },
    {
     "data": {
      "application/vnd.jupyter.widget-view+json": {
       "model_id": "adbed7c66b494f78a14d4580db327099",
       "version_major": 2,
       "version_minor": 0
      },
      "text/plain": [
       "  0%|          | 0/118 [00:00<?, ?it/s]"
      ]
     },
     "metadata": {},
     "output_type": "display_data"
    },
    {
     "data": {
      "application/vnd.jupyter.widget-view+json": {
       "model_id": "cd3cfaad723f4b8987e2a3854e063705",
       "version_major": 2,
       "version_minor": 0
      },
      "text/plain": [
       "  0%|          | 0/118 [00:00<?, ?it/s]"
      ]
     },
     "metadata": {},
     "output_type": "display_data"
    },
    {
     "data": {
      "application/vnd.jupyter.widget-view+json": {
       "model_id": "5a4ec26fc8004904a6989606041d9b4b",
       "version_major": 2,
       "version_minor": 0
      },
      "text/plain": [
       "  0%|          | 0/118 [00:00<?, ?it/s]"
      ]
     },
     "metadata": {},
     "output_type": "display_data"
    },
    {
     "data": {
      "application/vnd.jupyter.widget-view+json": {
       "model_id": "b335e91f52ec4464859f0e96a2d0a234",
       "version_major": 2,
       "version_minor": 0
      },
      "text/plain": [
       "  0%|          | 0/118 [00:00<?, ?it/s]"
      ]
     },
     "metadata": {},
     "output_type": "display_data"
    },
    {
     "data": {
      "application/vnd.jupyter.widget-view+json": {
       "model_id": "d1f8b5ed555a40e3b4f243f5f61b7fa7",
       "version_major": 2,
       "version_minor": 0
      },
      "text/plain": [
       "  0%|          | 0/118 [00:00<?, ?it/s]"
      ]
     },
     "metadata": {},
     "output_type": "display_data"
    },
    {
     "name": "stdout",
     "output_type": "stream",
     "text": [
      "[EPOCH = 30]\n",
      "🗣 : 지루하다, 놀러가고 싶어.\n",
      "🤖 : 바람 많이 해서 나가 세요 .\n",
      "🗣 : 오늘 일찍 일어났더니 피곤하다.\n",
      "🤖 : 오늘 도 조금 씩 잊 어요 .\n",
      "🗣 : 간만에 여자친구랑 데이트 하기로 했어.\n",
      "🤖 : 휴식 이 지나간 것 같 아요 .\n",
      "🗣 : 집에 있는다는 소리야.\n",
      "🤖 : 참 많 은 것 들 어서 보 세요 .\n"
     ]
    },
    {
     "data": {
      "application/vnd.jupyter.widget-view+json": {
       "model_id": "d7efd8cc0e734fdcbddee9880d473b47",
       "version_major": 2,
       "version_minor": 0
      },
      "text/plain": [
       "  0%|          | 0/118 [00:00<?, ?it/s]"
      ]
     },
     "metadata": {},
     "output_type": "display_data"
    },
    {
     "data": {
      "application/vnd.jupyter.widget-view+json": {
       "model_id": "edfee2d304544ba3941ba885f1b4d320",
       "version_major": 2,
       "version_minor": 0
      },
      "text/plain": [
       "  0%|          | 0/118 [00:00<?, ?it/s]"
      ]
     },
     "metadata": {},
     "output_type": "display_data"
    },
    {
     "data": {
      "application/vnd.jupyter.widget-view+json": {
       "model_id": "6bf433ef585845ad89413863fdfe8985",
       "version_major": 2,
       "version_minor": 0
      },
      "text/plain": [
       "  0%|          | 0/118 [00:00<?, ?it/s]"
      ]
     },
     "metadata": {},
     "output_type": "display_data"
    },
    {
     "data": {
      "application/vnd.jupyter.widget-view+json": {
       "model_id": "f306cc13aaff4d28abd98f7e4b121f6b",
       "version_major": 2,
       "version_minor": 0
      },
      "text/plain": [
       "  0%|          | 0/118 [00:00<?, ?it/s]"
      ]
     },
     "metadata": {},
     "output_type": "display_data"
    },
    {
     "data": {
      "application/vnd.jupyter.widget-view+json": {
       "model_id": "305e2451a40d4f79a38b8240a672c05f",
       "version_major": 2,
       "version_minor": 0
      },
      "text/plain": [
       "  0%|          | 0/118 [00:00<?, ?it/s]"
      ]
     },
     "metadata": {},
     "output_type": "display_data"
    },
    {
     "data": {
      "application/vnd.jupyter.widget-view+json": {
       "model_id": "9a7a7fad83c74dec9e192ede45984ec5",
       "version_major": 2,
       "version_minor": 0
      },
      "text/plain": [
       "  0%|          | 0/118 [00:00<?, ?it/s]"
      ]
     },
     "metadata": {},
     "output_type": "display_data"
    },
    {
     "data": {
      "application/vnd.jupyter.widget-view+json": {
       "model_id": "8816484852e74a3e9c55a91931216f2a",
       "version_major": 2,
       "version_minor": 0
      },
      "text/plain": [
       "  0%|          | 0/118 [00:00<?, ?it/s]"
      ]
     },
     "metadata": {},
     "output_type": "display_data"
    },
    {
     "data": {
      "application/vnd.jupyter.widget-view+json": {
       "model_id": "4e0f9e1475dc4d60927842bb9e82d083",
       "version_major": 2,
       "version_minor": 0
      },
      "text/plain": [
       "  0%|          | 0/118 [00:00<?, ?it/s]"
      ]
     },
     "metadata": {},
     "output_type": "display_data"
    },
    {
     "data": {
      "application/vnd.jupyter.widget-view+json": {
       "model_id": "ba76c26181ef48d9afeb6749a5cc07bf",
       "version_major": 2,
       "version_minor": 0
      },
      "text/plain": [
       "  0%|          | 0/118 [00:00<?, ?it/s]"
      ]
     },
     "metadata": {},
     "output_type": "display_data"
    },
    {
     "data": {
      "application/vnd.jupyter.widget-view+json": {
       "model_id": "88cb4711927d4c87a43579e5915944e9",
       "version_major": 2,
       "version_minor": 0
      },
      "text/plain": [
       "  0%|          | 0/118 [00:00<?, ?it/s]"
      ]
     },
     "metadata": {},
     "output_type": "display_data"
    },
    {
     "name": "stdout",
     "output_type": "stream",
     "text": [
      "[EPOCH = 40]\n",
      "🗣 : 지루하다, 놀러가고 싶어.\n",
      "🤖 : 제 가 아무 거 예요 .\n",
      "🗣 : 오늘 일찍 일어났더니 피곤하다.\n",
      "🤖 : 이제 정말 잘 모르 겠 어요 .\n",
      "🗣 : 간만에 여자친구랑 데이트 하기로 했어.\n",
      "🤖 : 좋 은 표현 해 보 세요 .\n",
      "🗣 : 집에 있는다는 소리야.\n",
      "🤖 : 우연 한 고민 을 좋아하 겠 어요 .\n"
     ]
    },
    {
     "data": {
      "application/vnd.jupyter.widget-view+json": {
       "model_id": "bd7c861179194b19a692478b2011362f",
       "version_major": 2,
       "version_minor": 0
      },
      "text/plain": [
       "  0%|          | 0/118 [00:00<?, ?it/s]"
      ]
     },
     "metadata": {},
     "output_type": "display_data"
    },
    {
     "data": {
      "application/vnd.jupyter.widget-view+json": {
       "model_id": "4d1943d376c54ef080245d25951438ec",
       "version_major": 2,
       "version_minor": 0
      },
      "text/plain": [
       "  0%|          | 0/118 [00:00<?, ?it/s]"
      ]
     },
     "metadata": {},
     "output_type": "display_data"
    },
    {
     "data": {
      "application/vnd.jupyter.widget-view+json": {
       "model_id": "6abb94ba2be64fab8de340dd0074e274",
       "version_major": 2,
       "version_minor": 0
      },
      "text/plain": [
       "  0%|          | 0/118 [00:00<?, ?it/s]"
      ]
     },
     "metadata": {},
     "output_type": "display_data"
    },
    {
     "data": {
      "application/vnd.jupyter.widget-view+json": {
       "model_id": "463ead78f15e488dbf60ce5b726b67db",
       "version_major": 2,
       "version_minor": 0
      },
      "text/plain": [
       "  0%|          | 0/118 [00:00<?, ?it/s]"
      ]
     },
     "metadata": {},
     "output_type": "display_data"
    },
    {
     "data": {
      "application/vnd.jupyter.widget-view+json": {
       "model_id": "195793960c204affa6b9d9e448be7c30",
       "version_major": 2,
       "version_minor": 0
      },
      "text/plain": [
       "  0%|          | 0/118 [00:00<?, ?it/s]"
      ]
     },
     "metadata": {},
     "output_type": "display_data"
    },
    {
     "data": {
      "application/vnd.jupyter.widget-view+json": {
       "model_id": "ea620d054aef4c9189e0f954ac13898f",
       "version_major": 2,
       "version_minor": 0
      },
      "text/plain": [
       "  0%|          | 0/118 [00:00<?, ?it/s]"
      ]
     },
     "metadata": {},
     "output_type": "display_data"
    },
    {
     "data": {
      "application/vnd.jupyter.widget-view+json": {
       "model_id": "851a346a056741f9a548569859dd1d7b",
       "version_major": 2,
       "version_minor": 0
      },
      "text/plain": [
       "  0%|          | 0/118 [00:00<?, ?it/s]"
      ]
     },
     "metadata": {},
     "output_type": "display_data"
    },
    {
     "data": {
      "application/vnd.jupyter.widget-view+json": {
       "model_id": "d0ee9a2e06b846738446b588198343dd",
       "version_major": 2,
       "version_minor": 0
      },
      "text/plain": [
       "  0%|          | 0/118 [00:00<?, ?it/s]"
      ]
     },
     "metadata": {},
     "output_type": "display_data"
    },
    {
     "data": {
      "application/vnd.jupyter.widget-view+json": {
       "model_id": "bbd7d561a0f9420492652a6ea0ad64a6",
       "version_major": 2,
       "version_minor": 0
      },
      "text/plain": [
       "  0%|          | 0/118 [00:00<?, ?it/s]"
      ]
     },
     "metadata": {},
     "output_type": "display_data"
    },
    {
     "data": {
      "application/vnd.jupyter.widget-view+json": {
       "model_id": "c77084194d504edc9a7d08b2aa1e7495",
       "version_major": 2,
       "version_minor": 0
      },
      "text/plain": [
       "  0%|          | 0/118 [00:00<?, ?it/s]"
      ]
     },
     "metadata": {},
     "output_type": "display_data"
    },
    {
     "name": "stdout",
     "output_type": "stream",
     "text": [
      "[EPOCH = 50]\n",
      "🗣 : 지루하다, 놀러가고 싶어.\n",
      "🤖 : 바람 이 있 다면 표현 해 주 세요 .\n",
      "🗣 : 오늘 일찍 일어났더니 피곤하다.\n",
      "🤖 : 푹 쉬 는 날 이 되 었 길 바랄게요 .\n",
      "🗣 : 간만에 여자친구랑 데이트 하기로 했어.\n",
      "🤖 : 떨리 는 데이트 를 해 보 세요 .\n",
      "🗣 : 집에 있는다는 소리야.\n",
      "🤖 : 좋 은 방법 도 있 고 싶 어요 .\n"
     ]
    },
    {
     "data": {
      "application/vnd.jupyter.widget-view+json": {
       "model_id": "98de644c7a9c42beadf69c466b35e70b",
       "version_major": 2,
       "version_minor": 0
      },
      "text/plain": [
       "  0%|          | 0/118 [00:00<?, ?it/s]"
      ]
     },
     "metadata": {},
     "output_type": "display_data"
    },
    {
     "data": {
      "application/vnd.jupyter.widget-view+json": {
       "model_id": "04280cda4a2044b18d2debd681b06484",
       "version_major": 2,
       "version_minor": 0
      },
      "text/plain": [
       "  0%|          | 0/118 [00:00<?, ?it/s]"
      ]
     },
     "metadata": {},
     "output_type": "display_data"
    },
    {
     "data": {
      "application/vnd.jupyter.widget-view+json": {
       "model_id": "11c81387ead444f899a94828a30cf6eb",
       "version_major": 2,
       "version_minor": 0
      },
      "text/plain": [
       "  0%|          | 0/118 [00:00<?, ?it/s]"
      ]
     },
     "metadata": {},
     "output_type": "display_data"
    },
    {
     "data": {
      "application/vnd.jupyter.widget-view+json": {
       "model_id": "f8625afd8a0f4cafa46089c7470f491d",
       "version_major": 2,
       "version_minor": 0
      },
      "text/plain": [
       "  0%|          | 0/118 [00:00<?, ?it/s]"
      ]
     },
     "metadata": {},
     "output_type": "display_data"
    },
    {
     "data": {
      "application/vnd.jupyter.widget-view+json": {
       "model_id": "cc83eb12fef94b37b28ae6f45356fefc",
       "version_major": 2,
       "version_minor": 0
      },
      "text/plain": [
       "  0%|          | 0/118 [00:00<?, ?it/s]"
      ]
     },
     "metadata": {},
     "output_type": "display_data"
    },
    {
     "data": {
      "application/vnd.jupyter.widget-view+json": {
       "model_id": "0b8d39bab75246a8b2b8aff654947ae5",
       "version_major": 2,
       "version_minor": 0
      },
      "text/plain": [
       "  0%|          | 0/118 [00:00<?, ?it/s]"
      ]
     },
     "metadata": {},
     "output_type": "display_data"
    },
    {
     "data": {
      "application/vnd.jupyter.widget-view+json": {
       "model_id": "027e6d05a5b94db8a72b2e328b1bc4bc",
       "version_major": 2,
       "version_minor": 0
      },
      "text/plain": [
       "  0%|          | 0/118 [00:00<?, ?it/s]"
      ]
     },
     "metadata": {},
     "output_type": "display_data"
    },
    {
     "data": {
      "application/vnd.jupyter.widget-view+json": {
       "model_id": "c1a41d42dcbe496e81e1f775ca2c8f10",
       "version_major": 2,
       "version_minor": 0
      },
      "text/plain": [
       "  0%|          | 0/118 [00:00<?, ?it/s]"
      ]
     },
     "metadata": {},
     "output_type": "display_data"
    },
    {
     "data": {
      "application/vnd.jupyter.widget-view+json": {
       "model_id": "9845553c134246e8a235162be7e0f442",
       "version_major": 2,
       "version_minor": 0
      },
      "text/plain": [
       "  0%|          | 0/118 [00:00<?, ?it/s]"
      ]
     },
     "metadata": {},
     "output_type": "display_data"
    },
    {
     "data": {
      "application/vnd.jupyter.widget-view+json": {
       "model_id": "a700e04b7bbf4c539145e1f2d8d883e8",
       "version_major": 2,
       "version_minor": 0
      },
      "text/plain": [
       "  0%|          | 0/118 [00:00<?, ?it/s]"
      ]
     },
     "metadata": {},
     "output_type": "display_data"
    },
    {
     "name": "stdout",
     "output_type": "stream",
     "text": [
      "[EPOCH = 60]\n",
      "🗣 : 지루하다, 놀러가고 싶어.\n",
      "🤖 : 많이 답답 하 었 나요 .\n",
      "🗣 : 오늘 일찍 일어났더니 피곤하다.\n",
      "🤖 : 이제 정말 이해 하 고 함께 해요 .\n",
      "🗣 : 간만에 여자친구랑 데이트 하기로 했어.\n",
      "🤖 : 떨리 는 챙겨 주 세요 .\n",
      "🗣 : 집에 있는다는 소리야.\n",
      "🤖 : 우연 한 추억 이 에요 .\n"
     ]
    },
    {
     "data": {
      "application/vnd.jupyter.widget-view+json": {
       "model_id": "60aaa673e7e1405aa695b3927e07a317",
       "version_major": 2,
       "version_minor": 0
      },
      "text/plain": [
       "  0%|          | 0/118 [00:00<?, ?it/s]"
      ]
     },
     "metadata": {},
     "output_type": "display_data"
    },
    {
     "data": {
      "application/vnd.jupyter.widget-view+json": {
       "model_id": "26dd8aca7f2d47778a0ec2190602baeb",
       "version_major": 2,
       "version_minor": 0
      },
      "text/plain": [
       "  0%|          | 0/118 [00:00<?, ?it/s]"
      ]
     },
     "metadata": {},
     "output_type": "display_data"
    },
    {
     "data": {
      "application/vnd.jupyter.widget-view+json": {
       "model_id": "d857d243c64f4105aed2292e8a2b78bd",
       "version_major": 2,
       "version_minor": 0
      },
      "text/plain": [
       "  0%|          | 0/118 [00:00<?, ?it/s]"
      ]
     },
     "metadata": {},
     "output_type": "display_data"
    },
    {
     "data": {
      "application/vnd.jupyter.widget-view+json": {
       "model_id": "991c088e4654415881cd089e75069002",
       "version_major": 2,
       "version_minor": 0
      },
      "text/plain": [
       "  0%|          | 0/118 [00:00<?, ?it/s]"
      ]
     },
     "metadata": {},
     "output_type": "display_data"
    },
    {
     "data": {
      "application/vnd.jupyter.widget-view+json": {
       "model_id": "56a0d37240fe43c8ae3a736776c758cc",
       "version_major": 2,
       "version_minor": 0
      },
      "text/plain": [
       "  0%|          | 0/118 [00:00<?, ?it/s]"
      ]
     },
     "metadata": {},
     "output_type": "display_data"
    },
    {
     "data": {
      "application/vnd.jupyter.widget-view+json": {
       "model_id": "2ff068351f624b13b85cac35ebf8e899",
       "version_major": 2,
       "version_minor": 0
      },
      "text/plain": [
       "  0%|          | 0/118 [00:00<?, ?it/s]"
      ]
     },
     "metadata": {},
     "output_type": "display_data"
    },
    {
     "data": {
      "application/vnd.jupyter.widget-view+json": {
       "model_id": "95b32cfd34d2475fba97b41b6f4795c5",
       "version_major": 2,
       "version_minor": 0
      },
      "text/plain": [
       "  0%|          | 0/118 [00:00<?, ?it/s]"
      ]
     },
     "metadata": {},
     "output_type": "display_data"
    },
    {
     "data": {
      "application/vnd.jupyter.widget-view+json": {
       "model_id": "7fff7969731440e78f800a4086b30dfb",
       "version_major": 2,
       "version_minor": 0
      },
      "text/plain": [
       "  0%|          | 0/118 [00:00<?, ?it/s]"
      ]
     },
     "metadata": {},
     "output_type": "display_data"
    },
    {
     "data": {
      "application/vnd.jupyter.widget-view+json": {
       "model_id": "9bb0c9e783424762a63f69a34eb8cb5a",
       "version_major": 2,
       "version_minor": 0
      },
      "text/plain": [
       "  0%|          | 0/118 [00:00<?, ?it/s]"
      ]
     },
     "metadata": {},
     "output_type": "display_data"
    },
    {
     "data": {
      "application/vnd.jupyter.widget-view+json": {
       "model_id": "dcb69d0a4d0b4a078f385f16412fd615",
       "version_major": 2,
       "version_minor": 0
      },
      "text/plain": [
       "  0%|          | 0/118 [00:00<?, ?it/s]"
      ]
     },
     "metadata": {},
     "output_type": "display_data"
    },
    {
     "name": "stdout",
     "output_type": "stream",
     "text": [
      "[EPOCH = 70]\n",
      "🗣 : 지루하다, 놀러가고 싶어.\n",
      "🤖 : 바람 과 같이 가 자고 해 봐요 .\n",
      "🗣 : 오늘 일찍 일어났더니 피곤하다.\n",
      "🤖 : 조금 만 더 좋 은 선택 이 었 겠 어요 .\n",
      "🗣 : 간만에 여자친구랑 데이트 하기로 했어.\n",
      "🤖 : 떨리 죠 .\n",
      "🗣 : 집에 있는다는 소리야.\n",
      "🤖 : 사랑 받 지 않 아도 돼요 .\n"
     ]
    },
    {
     "data": {
      "application/vnd.jupyter.widget-view+json": {
       "model_id": "4a4d61d46e284c7897d2475378cf6972",
       "version_major": 2,
       "version_minor": 0
      },
      "text/plain": [
       "  0%|          | 0/118 [00:00<?, ?it/s]"
      ]
     },
     "metadata": {},
     "output_type": "display_data"
    },
    {
     "data": {
      "application/vnd.jupyter.widget-view+json": {
       "model_id": "eaf0da9fd5e24be58d32809b9bc50715",
       "version_major": 2,
       "version_minor": 0
      },
      "text/plain": [
       "  0%|          | 0/118 [00:00<?, ?it/s]"
      ]
     },
     "metadata": {},
     "output_type": "display_data"
    },
    {
     "data": {
      "application/vnd.jupyter.widget-view+json": {
       "model_id": "cf48849455654c51819cf20bc4e2bf41",
       "version_major": 2,
       "version_minor": 0
      },
      "text/plain": [
       "  0%|          | 0/118 [00:00<?, ?it/s]"
      ]
     },
     "metadata": {},
     "output_type": "display_data"
    },
    {
     "data": {
      "application/vnd.jupyter.widget-view+json": {
       "model_id": "805f193e9e6f4a34ad568bbaf1f703df",
       "version_major": 2,
       "version_minor": 0
      },
      "text/plain": [
       "  0%|          | 0/118 [00:00<?, ?it/s]"
      ]
     },
     "metadata": {},
     "output_type": "display_data"
    },
    {
     "data": {
      "application/vnd.jupyter.widget-view+json": {
       "model_id": "86f874c7e0d74d7587aacdef086659dc",
       "version_major": 2,
       "version_minor": 0
      },
      "text/plain": [
       "  0%|          | 0/118 [00:00<?, ?it/s]"
      ]
     },
     "metadata": {},
     "output_type": "display_data"
    },
    {
     "data": {
      "application/vnd.jupyter.widget-view+json": {
       "model_id": "cf5bd0f56f494cafb0fde8a0eaba9d4c",
       "version_major": 2,
       "version_minor": 0
      },
      "text/plain": [
       "  0%|          | 0/118 [00:00<?, ?it/s]"
      ]
     },
     "metadata": {},
     "output_type": "display_data"
    },
    {
     "data": {
      "application/vnd.jupyter.widget-view+json": {
       "model_id": "518405ec6026437d929a4eabe65802b3",
       "version_major": 2,
       "version_minor": 0
      },
      "text/plain": [
       "  0%|          | 0/118 [00:00<?, ?it/s]"
      ]
     },
     "metadata": {},
     "output_type": "display_data"
    },
    {
     "data": {
      "application/vnd.jupyter.widget-view+json": {
       "model_id": "c062c3af9ed74fbd82a8f30143f9cecb",
       "version_major": 2,
       "version_minor": 0
      },
      "text/plain": [
       "  0%|          | 0/118 [00:00<?, ?it/s]"
      ]
     },
     "metadata": {},
     "output_type": "display_data"
    },
    {
     "data": {
      "application/vnd.jupyter.widget-view+json": {
       "model_id": "233624e463a642ab8dc2f9dcc1f475ed",
       "version_major": 2,
       "version_minor": 0
      },
      "text/plain": [
       "  0%|          | 0/118 [00:00<?, ?it/s]"
      ]
     },
     "metadata": {},
     "output_type": "display_data"
    },
    {
     "data": {
      "application/vnd.jupyter.widget-view+json": {
       "model_id": "267b849df36b4d1ebecc6ec4fdb10e1f",
       "version_major": 2,
       "version_minor": 0
      },
      "text/plain": [
       "  0%|          | 0/118 [00:00<?, ?it/s]"
      ]
     },
     "metadata": {},
     "output_type": "display_data"
    },
    {
     "name": "stdout",
     "output_type": "stream",
     "text": [
      "[EPOCH = 80]\n",
      "🗣 : 지루하다, 놀러가고 싶어.\n",
      "🤖 : 함께 한 시간 이 흐르 고 있 어요 .\n",
      "🗣 : 오늘 일찍 일어났더니 피곤하다.\n",
      "🤖 : 푹 쉬 는 건 어떨까 요 는데\n",
      "🗣 : 간만에 여자친구랑 데이트 하기로 했어.\n",
      "🤖 : 떨리 겠 어요 는데\n",
      "🗣 : 집에 있는다는 소리야.\n",
      "🤖 : 그렇게 편하 게 타 다가 도 좋 아 질 거 예요 .\n"
     ]
    },
    {
     "data": {
      "application/vnd.jupyter.widget-view+json": {
       "model_id": "860f99b7602e4a0a89d9e929039925b5",
       "version_major": 2,
       "version_minor": 0
      },
      "text/plain": [
       "  0%|          | 0/118 [00:00<?, ?it/s]"
      ]
     },
     "metadata": {},
     "output_type": "display_data"
    },
    {
     "data": {
      "application/vnd.jupyter.widget-view+json": {
       "model_id": "2fd217c51c6a4fe29b1d9baf3a4c33ed",
       "version_major": 2,
       "version_minor": 0
      },
      "text/plain": [
       "  0%|          | 0/118 [00:00<?, ?it/s]"
      ]
     },
     "metadata": {},
     "output_type": "display_data"
    },
    {
     "data": {
      "application/vnd.jupyter.widget-view+json": {
       "model_id": "4ac1845f067a4f61adeb0bb8a33b0d82",
       "version_major": 2,
       "version_minor": 0
      },
      "text/plain": [
       "  0%|          | 0/118 [00:00<?, ?it/s]"
      ]
     },
     "metadata": {},
     "output_type": "display_data"
    },
    {
     "data": {
      "application/vnd.jupyter.widget-view+json": {
       "model_id": "28129292cd73415d900e0e8e46ba030c",
       "version_major": 2,
       "version_minor": 0
      },
      "text/plain": [
       "  0%|          | 0/118 [00:00<?, ?it/s]"
      ]
     },
     "metadata": {},
     "output_type": "display_data"
    },
    {
     "data": {
      "application/vnd.jupyter.widget-view+json": {
       "model_id": "32e9500de70e44c6a997ed427e78af06",
       "version_major": 2,
       "version_minor": 0
      },
      "text/plain": [
       "  0%|          | 0/118 [00:00<?, ?it/s]"
      ]
     },
     "metadata": {},
     "output_type": "display_data"
    },
    {
     "data": {
      "application/vnd.jupyter.widget-view+json": {
       "model_id": "91396c5639654caba7920801165ff694",
       "version_major": 2,
       "version_minor": 0
      },
      "text/plain": [
       "  0%|          | 0/118 [00:00<?, ?it/s]"
      ]
     },
     "metadata": {},
     "output_type": "display_data"
    },
    {
     "data": {
      "application/vnd.jupyter.widget-view+json": {
       "model_id": "ba7468f5211f4d7eaf65ad634120086f",
       "version_major": 2,
       "version_minor": 0
      },
      "text/plain": [
       "  0%|          | 0/118 [00:00<?, ?it/s]"
      ]
     },
     "metadata": {},
     "output_type": "display_data"
    },
    {
     "data": {
      "application/vnd.jupyter.widget-view+json": {
       "model_id": "8194b3fd2cee401e8bb1396a1afab1ae",
       "version_major": 2,
       "version_minor": 0
      },
      "text/plain": [
       "  0%|          | 0/118 [00:00<?, ?it/s]"
      ]
     },
     "metadata": {},
     "output_type": "display_data"
    },
    {
     "data": {
      "application/vnd.jupyter.widget-view+json": {
       "model_id": "854a0e686cb4484d9c98a7062c3d01f5",
       "version_major": 2,
       "version_minor": 0
      },
      "text/plain": [
       "  0%|          | 0/118 [00:00<?, ?it/s]"
      ]
     },
     "metadata": {},
     "output_type": "display_data"
    },
    {
     "data": {
      "application/vnd.jupyter.widget-view+json": {
       "model_id": "b81bba2cbb014f90a3a2e1be3584e6d1",
       "version_major": 2,
       "version_minor": 0
      },
      "text/plain": [
       "  0%|          | 0/118 [00:00<?, ?it/s]"
      ]
     },
     "metadata": {},
     "output_type": "display_data"
    },
    {
     "name": "stdout",
     "output_type": "stream",
     "text": [
      "[EPOCH = 90]\n",
      "🗣 : 지루하다, 놀러가고 싶어.\n",
      "🤖 : 바람 이 라도 쐬 고 오 는 건 어떨까 요 .\n",
      "🗣 : 오늘 일찍 일어났더니 피곤하다.\n",
      "🤖 : 푹 쉬 는 건 어떨까 오자키 .\n",
      "🗣 : 간만에 여자친구랑 데이트 하기로 했어.\n",
      "🤖 : 떨리 겠 는데요 .\n",
      "🗣 : 집에 있는다는 소리야.\n",
      "🤖 : 사랑 받 지 않 사 줄 때 도 있 힘들 어요 .\n"
     ]
    },
    {
     "data": {
      "application/vnd.jupyter.widget-view+json": {
       "model_id": "6a9a8327dc7944ea809be74e6ff81a12",
       "version_major": 2,
       "version_minor": 0
      },
      "text/plain": [
       "  0%|          | 0/118 [00:00<?, ?it/s]"
      ]
     },
     "metadata": {},
     "output_type": "display_data"
    },
    {
     "data": {
      "application/vnd.jupyter.widget-view+json": {
       "model_id": "51b2b70300a241c887e4a320ff841877",
       "version_major": 2,
       "version_minor": 0
      },
      "text/plain": [
       "  0%|          | 0/118 [00:00<?, ?it/s]"
      ]
     },
     "metadata": {},
     "output_type": "display_data"
    },
    {
     "data": {
      "application/vnd.jupyter.widget-view+json": {
       "model_id": "df1b382928114e0f83923178472551c2",
       "version_major": 2,
       "version_minor": 0
      },
      "text/plain": [
       "  0%|          | 0/118 [00:00<?, ?it/s]"
      ]
     },
     "metadata": {},
     "output_type": "display_data"
    },
    {
     "data": {
      "application/vnd.jupyter.widget-view+json": {
       "model_id": "df31d253620446699cdb7d3e743dd57d",
       "version_major": 2,
       "version_minor": 0
      },
      "text/plain": [
       "  0%|          | 0/118 [00:00<?, ?it/s]"
      ]
     },
     "metadata": {},
     "output_type": "display_data"
    },
    {
     "data": {
      "application/vnd.jupyter.widget-view+json": {
       "model_id": "b2fe7fe6b1e6444887919c066bec9d6c",
       "version_major": 2,
       "version_minor": 0
      },
      "text/plain": [
       "  0%|          | 0/118 [00:00<?, ?it/s]"
      ]
     },
     "metadata": {},
     "output_type": "display_data"
    },
    {
     "data": {
      "application/vnd.jupyter.widget-view+json": {
       "model_id": "ddc24378bb0444deaa2b1a96c190db82",
       "version_major": 2,
       "version_minor": 0
      },
      "text/plain": [
       "  0%|          | 0/118 [00:00<?, ?it/s]"
      ]
     },
     "metadata": {},
     "output_type": "display_data"
    },
    {
     "data": {
      "application/vnd.jupyter.widget-view+json": {
       "model_id": "0c2408b2ddda431f903f6b730deb4e93",
       "version_major": 2,
       "version_minor": 0
      },
      "text/plain": [
       "  0%|          | 0/118 [00:00<?, ?it/s]"
      ]
     },
     "metadata": {},
     "output_type": "display_data"
    },
    {
     "data": {
      "application/vnd.jupyter.widget-view+json": {
       "model_id": "334c188d73a749e6a8b7b441e3b6d119",
       "version_major": 2,
       "version_minor": 0
      },
      "text/plain": [
       "  0%|          | 0/118 [00:00<?, ?it/s]"
      ]
     },
     "metadata": {},
     "output_type": "display_data"
    },
    {
     "data": {
      "application/vnd.jupyter.widget-view+json": {
       "model_id": "f8f05499550945bd83356f5dff65f0f1",
       "version_major": 2,
       "version_minor": 0
      },
      "text/plain": [
       "  0%|          | 0/118 [00:00<?, ?it/s]"
      ]
     },
     "metadata": {},
     "output_type": "display_data"
    },
    {
     "data": {
      "application/vnd.jupyter.widget-view+json": {
       "model_id": "53689bcdf59b49fa9d1579c85045892a",
       "version_major": 2,
       "version_minor": 0
      },
      "text/plain": [
       "  0%|          | 0/118 [00:00<?, ?it/s]"
      ]
     },
     "metadata": {},
     "output_type": "display_data"
    },
    {
     "name": "stdout",
     "output_type": "stream",
     "text": [
      "[EPOCH = 100]\n",
      "🗣 : 지루하다, 놀러가고 싶어.\n",
      "🤖 : 바람 좀 쐬 고 오 면 끝 까지 가슴 아픈 건 아니 에요 .\n",
      "🗣 : 오늘 일찍 일어났더니 피곤하다.\n",
      "🤖 : 오늘 을 헤아리 지 마세요 .\n",
      "🗣 : 간만에 여자친구랑 데이트 하기로 했어.\n",
      "🤖 : 떨리 는 버리 는 게 좋 을 거 같 아요 .\n",
      "🗣 : 집에 있는다는 소리야.\n",
      "🤖 : 드가 편하 기 도 하 죠 .\n"
     ]
    },
    {
     "data": {
      "image/png": "[encoded data removed]",
      "text/plain": [
       "<Figure size 720x360 with 1 Axes>"
      ]
     },
     "metadata": {
      "needs_background": "light"
     },
     "output_type": "display_data"
    }
   ],
   "source": [
    "losses_1 = train(transformer_1, optimizer, enc_train, dec_train, \n",
    "                 tokenizer, tokenizer,\n",
    "                 examples, 10, 256, 100,\n",
    "                 word_index['<start>'], word_index['<end>'])\n",
    "show_train_loss(losses_1)"
   ]
  },
  {
   "cell_type": "code",
   "execution_count": 117,
   "id": "d60d3214",
   "metadata": {
    "execution": {
     "iopub.execute_input": "2021-05-07T21:43:52.058045Z",
     "iopub.status.busy": "2021-05-07T21:43:52.057707Z",
     "iopub.status.idle": "2021-05-07T21:43:53.671868Z",
     "shell.execute_reply": "2021-05-07T21:43:53.671330Z",
     "shell.execute_reply.started": "2021-05-07T21:43:52.058002Z"
    },
    "tags": []
   },
   "outputs": [
    {
     "name": "stdout",
     "output_type": "stream",
     "text": [
      "Examples\n",
      "1. 지루하다, 놀러가고 싶어.\n",
      "2. 오늘 일찍 일어났더니 피곤하다.\n",
      "3. 간만에 여자친구랑 데이트 하기로 했어.\n",
      "4. 집에 있는다는 소리야.\n",
      "\n",
      "Translations\n",
      "> 1. 바람 좀 쐬 고 오 면 끝 까지 가슴 아픈 건 아니 에요 .\n",
      "> 2. 오늘 을 헤아리 지 마세요 .\n",
      "> 3. 떨리 는 버리 는 게 좋 을 거 같 아요 .\n",
      "> 4. 드가 편하 기 도 하 죠 .\n",
      "\n",
      "Hyperparameters\n",
      "> n_layers: 2\n",
      "> d_model: 512\n",
      "> n_heads: 8\n",
      "> d_ff: 2048\n",
      "> dropout: 0.3\n",
      "\n",
      "Training Parameters\n",
      "> Warmup Steps: 4000\n",
      "> Batch Size: 256\n",
      "> Epoch At: 100\n"
     ]
    }
   ],
   "source": [
    "print_result(transformer_1, tokenizer, tokenizer, examples,\n",
    "             n_layers=hy_1['n_layers'],\n",
    "             d_model=hy_1['d_model'],\n",
    "             n_heads=hy_1['n_heads'],\n",
    "             d_ff=hy_1['d_ff'],\n",
    "             dropout=hy_1['dropout'],\n",
    "             warmup_steps=4000,\n",
    "             batch_size=256,\n",
    "             epochs=100)"
   ]
  },
  {
   "cell_type": "markdown",
   "id": "6b4be97c",
   "metadata": {
    "tags": []
   },
   "source": [
    "## Step 5. 모델 평가\n",
    "---"
   ]
  },
  {
   "cell_type": "markdown",
   "id": "9655e3d5",
   "metadata": {},
   "source": [
    "### 1. BLEU Score"
   ]
  },
  {
   "cell_type": "code",
   "execution_count": 179,
   "id": "481e7572",
   "metadata": {
    "execution": {
     "iopub.execute_input": "2021-05-09T03:31:57.189584Z",
     "iopub.status.busy": "2021-05-09T03:31:57.189304Z",
     "iopub.status.idle": "2021-05-09T03:31:57.340290Z",
     "shell.execute_reply": "2021-05-09T03:31:57.339796Z",
     "shell.execute_reply.started": "2021-05-09T03:31:57.189550Z"
    },
    "tags": []
   },
   "outputs": [],
   "source": [
    "from nltk.translate.bleu_score import sentence_bleu\n",
    "from nltk.translate.bleu_score import SmoothingFunction\n",
    "\n",
    "def calculate_bleu(reference, candidate, weights=[0.25, 0.25, 0.25, 0.25]):\n",
    "    return sentence_bleu([reference],\n",
    "                         candidate,\n",
    "                         weights=weights,\n",
    "                         smoothing_function=SmoothingFunction().method1)"
   ]
  },
  {
   "cell_type": "markdown",
   "id": "b0cda745",
   "metadata": {},
   "source": [
    "### 2. 성능 측정"
   ]
  },
  {
   "cell_type": "code",
   "execution_count": 180,
   "id": "b2f03db5",
   "metadata": {
    "execution": {
     "iopub.execute_input": "2021-05-09T03:31:57.451024Z",
     "iopub.status.busy": "2021-05-09T03:31:57.450781Z",
     "iopub.status.idle": "2021-05-09T03:31:57.460126Z",
     "shell.execute_reply": "2021-05-09T03:31:57.459541Z",
     "shell.execute_reply.started": "2021-05-09T03:31:57.450996Z"
    },
    "tags": []
   },
   "outputs": [],
   "source": [
    "def validate(model, enc_val, dec_val, tokenizer):\n",
    "    _remove_pad = lambda x: x[:np.where(x == 0)[0][0]] if len(np.where(x == 0)[0]) else x\n",
    "    _decode = lambda x: tokenizer.sequences_to_texts([_remove_pad(x)])[0]\n",
    "    \n",
    "    total_score = 0\n",
    "\n",
    "    for i in tqdm(range(len(enc_val))):\n",
    "        enc = enc_val[i][1:-2]\n",
    "        dec = dec_val[i]\n",
    "        \n",
    "        enc_text = _decode(enc)\n",
    "        \n",
    "        pieces, candidate, _, _, _ = evaluate(enc_text, model, tokenizer, tokenizer, 3, 4)\n",
    "        \n",
    "        reference = _decode(dec).split()[1:]\n",
    "        reference = reference[:-1]\n",
    "        candidate = candidate[0].split()\n",
    "        bleu = calculate_bleu(reference, candidate[0])\n",
    "\n",
    "        \n",
    "        total_score += bleu\n",
    "    \n",
    "    return total_score / len(enc_val)"
   ]
  },
  {
   "cell_type": "code",
   "execution_count": 118,
   "id": "2864ec2a",
   "metadata": {
    "execution": {
     "iopub.execute_input": "2021-05-07T21:46:04.473148Z",
     "iopub.status.busy": "2021-05-07T21:46:04.472880Z",
     "iopub.status.idle": "2021-05-07T21:47:41.446007Z",
     "shell.execute_reply": "2021-05-07T21:47:41.445554Z",
     "shell.execute_reply.started": "2021-05-07T21:46:04.473113Z"
    },
    "tags": []
   },
   "outputs": [
    {
     "data": {
      "application/vnd.jupyter.widget-view+json": {
       "model_id": "98f1509e99554c91b339454db1a04f39",
       "version_major": 2,
       "version_minor": 0
      },
      "text/plain": [
       "  0%|          | 0/304 [00:00<?, ?it/s]"
      ]
     },
     "metadata": {},
     "output_type": "display_data"
    },
    {
     "name": "stdout",
     "output_type": "stream",
     "text": [
      "0.1364688962648892\n"
     ]
    }
   ],
   "source": [
    "total_score = validate(transformer_1, enc_val, dec_val, tokenizer)\n",
    "print(total_score)"
   ]
  },
  {
   "cell_type": "code",
   "execution_count": 119,
   "id": "02610703",
   "metadata": {
    "execution": {
     "iopub.execute_input": "2021-05-07T22:34:24.222923Z",
     "iopub.status.busy": "2021-05-07T22:34:24.222570Z",
     "iopub.status.idle": "2021-05-07T22:34:24.491702Z",
     "shell.execute_reply": "2021-05-07T22:34:24.491089Z",
     "shell.execute_reply.started": "2021-05-07T22:34:24.222882Z"
    }
   },
   "outputs": [
    {
     "name": "stdout",
     "output_type": "stream",
     "text": [
      "🗣 : 안녕. 오늘 날씨 너무 좋다.\n",
      "🤖 : 안녕 하 지 마요 .\n"
     ]
    },
    {
     "data": {
      "text/plain": [
       "['안녕 하 지 마요 .']"
      ]
     },
     "execution_count": 119,
     "metadata": {},
     "output_type": "execute_result"
    }
   ],
   "source": [
    "translate('안녕. 오늘 날씨 너무 좋다.', transformer_1, tokenizer, tokenizer, 3, 4)"
   ]
  },
  {
   "cell_type": "code",
   "execution_count": 120,
   "id": "d5e60dc7",
   "metadata": {
    "execution": {
     "iopub.execute_input": "2021-05-07T22:35:05.603851Z",
     "iopub.status.busy": "2021-05-07T22:35:05.602948Z",
     "iopub.status.idle": "2021-05-07T22:35:05.948720Z",
     "shell.execute_reply": "2021-05-07T22:35:05.948108Z",
     "shell.execute_reply.started": "2021-05-07T22:35:05.603734Z"
    }
   },
   "outputs": [
    {
     "name": "stdout",
     "output_type": "stream",
     "text": [
      "🗣 : 오늘 남자친구랑 영화보기로 했어!\n",
      "🤖 : 생각날 수 밖 에 없 어요 .\n"
     ]
    },
    {
     "data": {
      "text/plain": [
       "['생각날 수 밖 에 없 어요 .']"
      ]
     },
     "execution_count": 120,
     "metadata": {},
     "output_type": "execute_result"
    }
   ],
   "source": [
    "translate('오늘 남자친구랑 영화보기로 했어!', transformer_1, tokenizer, tokenizer, 3, 4)"
   ]
  },
  {
   "cell_type": "markdown",
   "id": "cdef0864",
   "metadata": {},
   "source": [
    "## Step 8. 추가 실헐\n",
    "---"
   ]
  },
  {
   "cell_type": "markdown",
   "id": "eef8c544",
   "metadata": {},
   "source": [
    "### 1. 더 작은 모델"
   ]
  },
  {
   "cell_type": "markdown",
   "id": "6260fb77",
   "metadata": {},
   "source": [
    "모델과 관련된 사항들을 찾다보면 훈련데이터가 적을 경우, 모델 자체의 규모도 줄이는게 더 좋다는 의견들을 만날 수 있다. 이 사견을 받아들여 모델의 규모를 줄여 다시 학습을 시켜보자."
   ]
  },
  {
   "cell_type": "markdown",
   "id": "4bd4c22b",
   "metadata": {},
   "source": [
    "### A. 모델 정의"
   ]
  },
  {
   "cell_type": "code",
   "execution_count": 167,
   "id": "3dd75a94",
   "metadata": {
    "execution": {
     "iopub.execute_input": "2021-05-09T03:26:09.299943Z",
     "iopub.status.busy": "2021-05-09T03:26:09.299325Z",
     "iopub.status.idle": "2021-05-09T03:26:09.307629Z",
     "shell.execute_reply": "2021-05-09T03:26:09.306286Z",
     "shell.execute_reply.started": "2021-05-09T03:26:09.299866Z"
    },
    "tags": []
   },
   "outputs": [],
   "source": [
    "hy_2 = {\n",
    "    'n_layers' : 2,\n",
    "    'd_model' : 128,\n",
    "    'n_heads' : 8,\n",
    "    'd_ff' : 256,\n",
    "    'src_vocab_size' : len(word_index),\n",
    "    'tgt_vocab_size' : len(word_index),\n",
    "    'pos_len' : 22,\n",
    "    'dropout' : 0.3,\n",
    "    'shared_fc' : True,\n",
    "    'shared_emb' : True\n",
    "}"
   ]
  },
  {
   "cell_type": "code",
   "execution_count": 168,
   "id": "c80ad0b2",
   "metadata": {
    "execution": {
     "iopub.execute_input": "2021-05-09T03:26:09.707252Z",
     "iopub.status.busy": "2021-05-09T03:26:09.707038Z",
     "iopub.status.idle": "2021-05-09T03:26:09.766960Z",
     "shell.execute_reply": "2021-05-09T03:26:09.766366Z",
     "shell.execute_reply.started": "2021-05-09T03:26:09.707226Z"
    },
    "tags": []
   },
   "outputs": [],
   "source": [
    "transformer_2 = Transformer(**hy_2)"
   ]
  },
  {
   "cell_type": "code",
   "execution_count": 173,
   "id": "814c7d91",
   "metadata": {
    "execution": {
     "iopub.execute_input": "2021-05-09T03:27:47.392325Z",
     "iopub.status.busy": "2021-05-09T03:27:47.391868Z",
     "iopub.status.idle": "2021-05-09T03:27:47.398487Z",
     "shell.execute_reply": "2021-05-09T03:27:47.397427Z",
     "shell.execute_reply.started": "2021-05-09T03:27:47.392267Z"
    },
    "tags": []
   },
   "outputs": [],
   "source": [
    "learning_rate_2 = LearningRateScheduler(128)\n",
    "optimizer_2 = tf.keras.optimizers.Adam(learning_rate_2,\n",
    "                                        beta_1=0.9,\n",
    "                                        beta_2=0.98, \n",
    "                                        epsilon=1e-9)"
   ]
  },
  {
   "cell_type": "markdown",
   "id": "df4714b0",
   "metadata": {},
   "source": [
    "### B. 모델 훈련"
   ]
  },
  {
   "cell_type": "code",
   "execution_count": 178,
   "id": "600e28b4",
   "metadata": {
    "execution": {
     "iopub.execute_input": "2021-05-09T03:29:00.922454Z",
     "iopub.status.busy": "2021-05-09T03:29:00.922244Z",
     "iopub.status.idle": "2021-05-09T03:31:08.395675Z",
     "shell.execute_reply": "2021-05-09T03:31:08.395133Z",
     "shell.execute_reply.started": "2021-05-09T03:29:00.922429Z"
    },
    "tags": []
   },
   "outputs": [
    {
     "data": {
      "application/vnd.jupyter.widget-view+json": {
       "model_id": "8aedb441bb2e4da89463bea0af75a0f9",
       "version_major": 2,
       "version_minor": 0
      },
      "text/plain": [
       "  0%|          | 0/118 [00:00<?, ?it/s]"
      ]
     },
     "metadata": {},
     "output_type": "display_data"
    },
    {
     "data": {
      "application/vnd.jupyter.widget-view+json": {
       "model_id": "5f5ac4a165cc4b66b94079e672456783",
       "version_major": 2,
       "version_minor": 0
      },
      "text/plain": [
       "  0%|          | 0/118 [00:00<?, ?it/s]"
      ]
     },
     "metadata": {},
     "output_type": "display_data"
    },
    {
     "data": {
      "application/vnd.jupyter.widget-view+json": {
       "model_id": "5eab4bbce2e645db81d817be7ff68cd4",
       "version_major": 2,
       "version_minor": 0
      },
      "text/plain": [
       "  0%|          | 0/118 [00:00<?, ?it/s]"
      ]
     },
     "metadata": {},
     "output_type": "display_data"
    },
    {
     "data": {
      "application/vnd.jupyter.widget-view+json": {
       "model_id": "a9e5a83def074ddc8b2aff5c51ce7f46",
       "version_major": 2,
       "version_minor": 0
      },
      "text/plain": [
       "  0%|          | 0/118 [00:00<?, ?it/s]"
      ]
     },
     "metadata": {},
     "output_type": "display_data"
    },
    {
     "data": {
      "application/vnd.jupyter.widget-view+json": {
       "model_id": "e0197b06a62d42e99ea7f2c47e8a8e72",
       "version_major": 2,
       "version_minor": 0
      },
      "text/plain": [
       "  0%|          | 0/118 [00:00<?, ?it/s]"
      ]
     },
     "metadata": {},
     "output_type": "display_data"
    },
    {
     "data": {
      "application/vnd.jupyter.widget-view+json": {
       "model_id": "7542ac681fcd4e75abf9d43084c0b68c",
       "version_major": 2,
       "version_minor": 0
      },
      "text/plain": [
       "  0%|          | 0/118 [00:00<?, ?it/s]"
      ]
     },
     "metadata": {},
     "output_type": "display_data"
    },
    {
     "data": {
      "application/vnd.jupyter.widget-view+json": {
       "model_id": "f45015b2b7984bd5bc88a1579cf4e63b",
       "version_major": 2,
       "version_minor": 0
      },
      "text/plain": [
       "  0%|          | 0/118 [00:00<?, ?it/s]"
      ]
     },
     "metadata": {},
     "output_type": "display_data"
    },
    {
     "data": {
      "application/vnd.jupyter.widget-view+json": {
       "model_id": "3374c39cde7640dbb694c9b2e1165aec",
       "version_major": 2,
       "version_minor": 0
      },
      "text/plain": [
       "  0%|          | 0/118 [00:00<?, ?it/s]"
      ]
     },
     "metadata": {},
     "output_type": "display_data"
    },
    {
     "data": {
      "application/vnd.jupyter.widget-view+json": {
       "model_id": "8a18c09935004f11a2bdb3e6b20bfab3",
       "version_major": 2,
       "version_minor": 0
      },
      "text/plain": [
       "  0%|          | 0/118 [00:00<?, ?it/s]"
      ]
     },
     "metadata": {},
     "output_type": "display_data"
    },
    {
     "data": {
      "application/vnd.jupyter.widget-view+json": {
       "model_id": "74df65b5b44d404f8f43923f78ba2567",
       "version_major": 2,
       "version_minor": 0
      },
      "text/plain": [
       "  0%|          | 0/118 [00:00<?, ?it/s]"
      ]
     },
     "metadata": {},
     "output_type": "display_data"
    },
    {
     "name": "stdout",
     "output_type": "stream",
     "text": [
      "[EPOCH = 10]\n",
      "🗣 : 지루하다, 놀러가고 싶어.\n",
      "🤖 : 좋 아 하 는 연습 이 높 을 해 보 세요 .\n",
      "🗣 : 오늘 일찍 일어났더니 피곤하다.\n",
      "🤖 : 제 가 날 이 죠 .\n",
      "🗣 : 간만에 여자친구랑 데이트 하기로 했어.\n",
      "🤖 : 좋 은 선택 이 되 는 게 좋 겠 네요 .\n",
      "🗣 : 집에 있는다는 소리야.\n",
      "🤖 : 좋 아 하 셨 네요 .\n"
     ]
    },
    {
     "data": {
      "application/vnd.jupyter.widget-view+json": {
       "model_id": "b5348b7ae11b44358b7ec258cd26d82b",
       "version_major": 2,
       "version_minor": 0
      },
      "text/plain": [
       "  0%|          | 0/118 [00:00<?, ?it/s]"
      ]
     },
     "metadata": {},
     "output_type": "display_data"
    },
    {
     "data": {
      "application/vnd.jupyter.widget-view+json": {
       "model_id": "a3b9a51efa6848519af93c9a527cff1d",
       "version_major": 2,
       "version_minor": 0
      },
      "text/plain": [
       "  0%|          | 0/118 [00:00<?, ?it/s]"
      ]
     },
     "metadata": {},
     "output_type": "display_data"
    },
    {
     "data": {
      "application/vnd.jupyter.widget-view+json": {
       "model_id": "e33f8a2729a047acb05905eb27f36fd1",
       "version_major": 2,
       "version_minor": 0
      },
      "text/plain": [
       "  0%|          | 0/118 [00:00<?, ?it/s]"
      ]
     },
     "metadata": {},
     "output_type": "display_data"
    },
    {
     "data": {
      "application/vnd.jupyter.widget-view+json": {
       "model_id": "270081ae0d4b4bba81212600319e6e0f",
       "version_major": 2,
       "version_minor": 0
      },
      "text/plain": [
       "  0%|          | 0/118 [00:00<?, ?it/s]"
      ]
     },
     "metadata": {},
     "output_type": "display_data"
    },
    {
     "data": {
      "application/vnd.jupyter.widget-view+json": {
       "model_id": "61ac8ac8b85e4070bd9960034b0a4e5f",
       "version_major": 2,
       "version_minor": 0
      },
      "text/plain": [
       "  0%|          | 0/118 [00:00<?, ?it/s]"
      ]
     },
     "metadata": {},
     "output_type": "display_data"
    },
    {
     "data": {
      "application/vnd.jupyter.widget-view+json": {
       "model_id": "100a7a5d826642bda29c9fce1067abb3",
       "version_major": 2,
       "version_minor": 0
      },
      "text/plain": [
       "  0%|          | 0/118 [00:00<?, ?it/s]"
      ]
     },
     "metadata": {},
     "output_type": "display_data"
    },
    {
     "data": {
      "application/vnd.jupyter.widget-view+json": {
       "model_id": "c72d893001e244bf84f3e5e98c6747b7",
       "version_major": 2,
       "version_minor": 0
      },
      "text/plain": [
       "  0%|          | 0/118 [00:00<?, ?it/s]"
      ]
     },
     "metadata": {},
     "output_type": "display_data"
    },
    {
     "data": {
      "application/vnd.jupyter.widget-view+json": {
       "model_id": "54745cc619a94749bdb03e9f9e91125b",
       "version_major": 2,
       "version_minor": 0
      },
      "text/plain": [
       "  0%|          | 0/118 [00:00<?, ?it/s]"
      ]
     },
     "metadata": {},
     "output_type": "display_data"
    },
    {
     "data": {
      "application/vnd.jupyter.widget-view+json": {
       "model_id": "19fcbb3775834e52a94c761ebd09c878",
       "version_major": 2,
       "version_minor": 0
      },
      "text/plain": [
       "  0%|          | 0/118 [00:00<?, ?it/s]"
      ]
     },
     "metadata": {},
     "output_type": "display_data"
    },
    {
     "data": {
      "application/vnd.jupyter.widget-view+json": {
       "model_id": "ba2effbc6092416ea1287548bc22c1d0",
       "version_major": 2,
       "version_minor": 0
      },
      "text/plain": [
       "  0%|          | 0/118 [00:00<?, ?it/s]"
      ]
     },
     "metadata": {},
     "output_type": "display_data"
    },
    {
     "name": "stdout",
     "output_type": "stream",
     "text": [
      "[EPOCH = 20]\n",
      "🗣 : 지루하다, 놀러가고 싶어.\n",
      "🤖 : 마음 이 바라 면 돼요 .\n",
      "🗣 : 오늘 일찍 일어났더니 피곤하다.\n",
      "🤖 : 제 가 먹 게 드세요 .\n",
      "🗣 : 간만에 여자친구랑 데이트 하기로 했어.\n",
      "🤖 : 좋 은 선택 이 필요 하 는 건 좋 을 거 예요 .\n",
      "🗣 : 집에 있는다는 소리야.\n",
      "🤖 : 좋 아 해요 .\n"
     ]
    },
    {
     "data": {
      "image/png": "[encoded data removed]",
      "text/plain": [
       "<Figure size 720x360 with 1 Axes>"
      ]
     },
     "metadata": {
      "needs_background": "light"
     },
     "output_type": "display_data"
    }
   ],
   "source": [
    "losses_2 = train(transformer_2, optimizer_2, enc_train, dec_train, \n",
    "                 tokenizer, tokenizer,\n",
    "                 examples, 10, 256, 20,\n",
    "                 word_index['<start>'], word_index['<end>'])\n",
    "show_train_loss(losses_2)"
   ]
  },
  {
   "cell_type": "code",
   "execution_count": 182,
   "id": "7d712616",
   "metadata": {
    "execution": {
     "iopub.execute_input": "2021-05-09T03:34:18.455850Z",
     "iopub.status.busy": "2021-05-09T03:34:18.455199Z",
     "iopub.status.idle": "2021-05-09T03:34:19.869207Z",
     "shell.execute_reply": "2021-05-09T03:34:19.868645Z",
     "shell.execute_reply.started": "2021-05-09T03:34:18.455770Z"
    }
   },
   "outputs": [
    {
     "name": "stdout",
     "output_type": "stream",
     "text": [
      "Examples\n",
      "1. 지루하다, 놀러가고 싶어.\n",
      "2. 오늘 일찍 일어났더니 피곤하다.\n",
      "3. 간만에 여자친구랑 데이트 하기로 했어.\n",
      "4. 집에 있는다는 소리야.\n",
      "\n",
      "Translations\n",
      "> 1. 마음 이 바라 면 돼요 .\n",
      "> 2. 제 가 먹 게 드세요 .\n",
      "> 3. 좋 은 선택 이 필요 하 는 건 좋 을 거 예요 .\n",
      "> 4. 좋 아 해요 .\n",
      "\n",
      "Hyperparameters\n",
      "> n_layers: 2\n",
      "> d_model: 128\n",
      "> n_heads: 8\n",
      "> d_ff: 256\n",
      "> dropout: 0.3\n",
      "\n",
      "Training Parameters\n",
      "> Warmup Steps: 4000\n",
      "> Batch Size: 256\n",
      "> Epoch At: 20\n"
     ]
    }
   ],
   "source": [
    "print_result(transformer_2, tokenizer, tokenizer, examples,\n",
    "             n_layers=hy_2['n_layers'],\n",
    "             d_model=hy_2['d_model'],\n",
    "             n_heads=hy_2['n_heads'],\n",
    "             d_ff=hy_2['d_ff'],\n",
    "             dropout=hy_2['dropout'],\n",
    "             warmup_steps=4000,\n",
    "             batch_size=256,\n",
    "             epochs=20)"
   ]
  },
  {
   "cell_type": "markdown",
   "id": "7b868e71",
   "metadata": {},
   "source": [
    "### C. 성능 측정"
   ]
  },
  {
   "cell_type": "code",
   "execution_count": 181,
   "id": "f8e60fc8",
   "metadata": {
    "execution": {
     "iopub.execute_input": "2021-05-09T03:32:11.860223Z",
     "iopub.status.busy": "2021-05-09T03:32:11.860011Z",
     "iopub.status.idle": "2021-05-09T03:34:09.487857Z",
     "shell.execute_reply": "2021-05-09T03:34:09.487333Z",
     "shell.execute_reply.started": "2021-05-09T03:32:11.860198Z"
    }
   },
   "outputs": [
    {
     "data": {
      "application/vnd.jupyter.widget-view+json": {
       "model_id": "e7eb7a31aea9408f895c5ebcf72aae5b",
       "version_major": 2,
       "version_minor": 0
      },
      "text/plain": [
       "  0%|          | 0/304 [00:00<?, ?it/s]"
      ]
     },
     "metadata": {},
     "output_type": "display_data"
    },
    {
     "name": "stdout",
     "output_type": "stream",
     "text": [
      "0.0004656193384740165\n"
     ]
    }
   ],
   "source": [
    "total_score = validate(transformer_2, enc_val, dec_val, tokenizer)\n",
    "print(total_score)"
   ]
  },
  {
   "cell_type": "code",
   "execution_count": 189,
   "id": "57fe1456",
   "metadata": {
    "execution": {
     "iopub.execute_input": "2021-05-09T13:22:30.639600Z",
     "iopub.status.busy": "2021-05-09T13:22:30.639344Z",
     "iopub.status.idle": "2021-05-09T13:22:30.865501Z",
     "shell.execute_reply": "2021-05-09T13:22:30.864620Z",
     "shell.execute_reply.started": "2021-05-09T13:22:30.639572Z"
    },
    "tags": []
   },
   "outputs": [
    {
     "name": "stdout",
     "output_type": "stream",
     "text": [
      "🗣 : 안녕\n",
      "🤖 : 안녕 하 세요 .\n"
     ]
    },
    {
     "data": {
      "text/plain": [
       "['안녕 하 세요 .']"
      ]
     },
     "execution_count": 189,
     "metadata": {},
     "output_type": "execute_result"
    }
   ],
   "source": [
    "translate('안녕', transformer_2, tokenizer, tokenizer, 3, 4)"
   ]
  },
  {
   "cell_type": "markdown",
   "id": "752fcb04",
   "metadata": {},
   "source": [
    "## Step 7. 결론\n",
    "---"
   ]
  },
  {
   "cell_type": "markdown",
   "id": "48f31528",
   "metadata": {},
   "source": [
    "### 프로젝트 평가"
   ]
  },
  {
   "cell_type": "markdown",
   "id": "6542ef13",
   "metadata": {},
   "source": [
    "1. 챗봇 훈련데이터 전처리 과정이 체계적으로 진행되었는가?<br>챗봇 훈련데이터를 위한 전처리와 augmentation이 적절히 수행되어 3만개 가량의 훈련데이터셋이 구축되었다.\n",
    "    - 전처리 이후 최종적으로 30197개의 train 데이터와 306개의 validation 데이터를 구축하였다.\n",
    "2. transformer 모델을 활용한 챗봇 모델이 과적합을 피해 안정적으로 훈련되었는가?<br>과적합을 피할 수 있는 하이퍼파라미터 셋이 적절히 제시되었다.\n",
    "    - loss가 안정적으로 감소하였다.\n",
    "3. 챗봇이 사용자의 질문에 그럴듯한 형태로 답하는 사례가 있는가?<br>주어진 예문을 포함하여 챗봇에 던진 질문에 적절히 답하는 사례가 제출되었다.\n",
    "    - ```\n",
    "        🗣 : 안녕. 오늘 날씨 너무 좋다.\n",
    "        🤖 : 안녕 하 지 마요 .\n",
    "        ```\n",
    "    - ```\n",
    "        🗣 : 안녕\n",
    "        🤖 : 안녕 하 세요 .\n",
    "       ```\n",
    "   - 간단한 대화에 대해서는 적절한 답을 냈지만, 약간 긴 문장들에 대해서는 동문서답을 하는 경우가 많았다. 이전에 동안한 데이터셋과 transformer를 이용하여 챗봇을 만들어보았을 때보다 체감으로는 성능이 더 좋지 않았다. 당신에는 subword tokenizer를 사용하고 data augumentation을 사용하지 않았었는데 이 점이 차이를 만들것이지 않을까 싶다."
   ]
  },
  {
   "cell_type": "code",
   "execution_count": null,
   "id": "55bb4d4b",
   "metadata": {},
   "outputs": [],
   "source": []
  }
 ],
 "metadata": {
  "kernelspec": {
   "display_name": "Python 3",
   "language": "python",
   "name": "python3"
  },
  "language_info": {
   "codemirror_mode": {
    "name": "ipython",
    "version": 3
   },
   "file_extension": ".py",
   "mimetype": "text/x-python",
   "name": "python",
   "nbconvert_exporter": "python",
   "pygments_lexer": "ipython3",
   "version": "3.7.10"
  }
 },
 "nbformat": 4,
 "nbformat_minor": 5
}
