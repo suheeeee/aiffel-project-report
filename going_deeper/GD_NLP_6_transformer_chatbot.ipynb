{
 "cells": [
  {
   "cell_type": "markdown",
   "id": "bc578996",
   "metadata": {},
   "source": [
    "# 멋진 챗봇 만들기 :: Transfomer + Chatbot\n",
    "---"
   ]
  },
  {
   "cell_type": "markdown",
   "id": "af3dbc21",
   "metadata": {
    "execution": {
     "iopub.execute_input": "2021-05-07T06:48:35.220005Z",
     "iopub.status.busy": "2021-05-07T06:48:35.219692Z",
     "iopub.status.idle": "2021-05-07T06:48:35.227348Z",
     "shell.execute_reply": "2021-05-07T06:48:35.226353Z",
     "shell.execute_reply.started": "2021-05-07T06:48:35.219937Z"
    }
   },
   "source": [
    "Transfomer를 활용하여 한국어 챗봇을 만들어 보자 ᕕ( ᐛ )ᕗ~♪"
   ]
  },
  {
   "cell_type": "markdown",
   "id": "8bef94d1",
   "metadata": {},
   "source": [
    "## STEP 0. 설계\n",
    "---"
   ]
  },
  {
   "cell_type": "markdown",
   "id": "eb743bf8",
   "metadata": {},
   "source": [
    "한국어 챗봇을 만들기 위하여 다음과 같은 순서로 프로젝트를 수행한다.\n",
    "1. 데이터 수집 : 송영숙님이 공개한 챗봇 데이터를 다운로드 받는다.\n",
    "2. 데이터 전처리\n",
    "    - 구두점/결측치/중복 제거\n",
    "    - 데이터를 질문/답변의 쌍으로 전처리 → `que_corpus` , `ans_corpus` \n",
    "     - 토큰화 : `mecab` 사용\n",
    "    - Augmentation\n",
    "        - 사전 훈련된 한국어 Embedding 모델을 다운로드 받아 Lexical Substitution를 적용시켜 본다.\n",
    "        - Augmentation 결과를 활용하면 다음과 조합의 데이터셋이 만들어 진다.\n",
    "            - 원본 que_corpus - 원본 ans_corpus\n",
    "            - 원본 que_corpus - 생성된 ans_corpus \n",
    "            - 생성된 que_corpus - 원본 ans_corpus\n",
    "     - 데이터 인코딩\n",
    "     - ans_corpus의 양끝에 `<start>`, `<end>` 토큰을 추가 → `enc_train`, `dec_train`\n",
    "3. 모델 정의\n",
    "    - Positional Encoding\n",
    "    - Masking\n",
    "    - Multi-head Attention\n",
    "    - Position-wise Feed Forward Network\n",
    "    - Encoder Layer / Decoder Layer\n",
    "    - Encoder / Decoder\n",
    "    - Transformer\n",
    "4. 모델 훈련\n",
    "    - Learning Rate Scheduler 정의\n",
    "    - Optimizer, Loss Funciton 정의\n",
    "    - Train 함수 정의\n",
    "    - 모델 훈련 수행\n",
    "5. 모델 평가\n",
    "    - BLEU Score를 계산하여 모델을 평가한다."
   ]
  },
  {
   "cell_type": "markdown",
   "id": "8a606561",
   "metadata": {
    "tags": []
   },
   "source": [
    "#### Environment setting"
   ]
  },
  {
   "cell_type": "code",
   "execution_count": 3,
   "id": "98d73f03",
   "metadata": {
    "execution": {
     "iopub.execute_input": "2021-05-07T14:47:00.403743Z",
     "iopub.status.busy": "2021-05-07T14:47:00.403532Z",
     "iopub.status.idle": "2021-05-07T14:47:01.993922Z",
     "shell.execute_reply": "2021-05-07T14:47:01.993302Z",
     "shell.execute_reply.started": "2021-05-07T14:47:00.403721Z"
    },
    "tags": []
   },
   "outputs": [
    {
     "name": "stdout",
     "output_type": "stream",
     "text": [
      "2.4.1\n"
     ]
    }
   ],
   "source": [
    "# import packages ########################################################\n",
    "import numpy as np\n",
    "import pandas as pd\n",
    "import tensorflow as tf\n",
    "from matplotlib import pyplot as plt\n",
    "\n",
    "import re\n",
    "import os\n",
    "import io\n",
    "import time\n",
    "import random\n",
    "\n",
    "from gensim.models import word2vec\n",
    "from tqdm.notebook import tqdm\n",
    "\n",
    "from sklearn.model_selection import train_test_split\n",
    "print(tf.__version__)"
   ]
  },
  {
   "cell_type": "code",
   "execution_count": 4,
   "id": "9c36d5c1",
   "metadata": {
    "execution": {
     "iopub.execute_input": "2021-05-07T14:47:01.994989Z",
     "iopub.status.busy": "2021-05-07T14:47:01.994821Z",
     "iopub.status.idle": "2021-05-07T14:47:02.000671Z",
     "shell.execute_reply": "2021-05-07T14:47:02.000100Z",
     "shell.execute_reply.started": "2021-05-07T14:47:01.994967Z"
    },
    "tags": []
   },
   "outputs": [],
   "source": [
    "# set directory path# #######################################################\n",
    "workspace_path = os.getenv('HOME')+'/workspace/aiffel-gd-nlp/GD12_transformer_chatbot'\n",
    "data_dir_path = workspace_path + '/data'"
   ]
  },
  {
   "cell_type": "code",
   "execution_count": 5,
   "id": "778418f9",
   "metadata": {
    "execution": {
     "iopub.execute_input": "2021-05-07T14:47:02.001913Z",
     "iopub.status.busy": "2021-05-07T14:47:02.001737Z",
     "iopub.status.idle": "2021-05-07T14:47:02.650619Z",
     "shell.execute_reply": "2021-05-07T14:47:02.649378Z",
     "shell.execute_reply.started": "2021-05-07T14:47:02.001890Z"
    },
    "tags": []
   },
   "outputs": [
    {
     "name": "stdout",
     "output_type": "stream",
     "text": [
      "1 Physical GPUs, 1 Logical GPUs\n",
      "\n",
      "\n"
     ]
    }
   ],
   "source": [
    "# initialization gpu ########################################################\n",
    "import tensorflow as tf\n",
    "def init_gpu():\n",
    "    gpus = tf.config.experimental.list_physical_devices('GPU')\n",
    "    if gpus:\n",
    "        try:\n",
    "            # Currently, memory growth needs to be the same across GPUs\n",
    "            for gpu in gpus:\n",
    "                tf.config.experimental.set_memory_growth(gpu, True)\n",
    "            logical_gpus = tf.config.experimental.list_logical_devices('GPU')\n",
    "            print(len(gpus), \"Physical GPUs,\", len(logical_gpus), \"Logical GPUs\\n\\n\")\n",
    "        except RuntimeError as e:\n",
    "            # Memory growth must be set before GPUs have been initialized\n",
    "            print(e, \"\\n\\n\")\n",
    "        \n",
    "init_gpu()"
   ]
  },
  {
   "cell_type": "markdown",
   "id": "09345f25",
   "metadata": {},
   "source": [
    "## Step 1. 데이터 수집\n",
    "---"
   ]
  },
  {
   "cell_type": "markdown",
   "id": "2ef5040a",
   "metadata": {
    "tags": []
   },
   "source": [
    "### 1. 한국어 챗봇 데이터 다운로드"
   ]
  },
  {
   "cell_type": "markdown",
   "id": "1d4f6538",
   "metadata": {},
   "source": [
    "송영숙님이 공개한 챗봇 데이터를 다운로드 받는다.\n",
    "\n",
    "- link : https://github.com/songys/Chatbot_data"
   ]
  },
  {
   "cell_type": "code",
   "execution_count": 6,
   "id": "c961d5bb",
   "metadata": {
    "execution": {
     "iopub.execute_input": "2021-05-07T14:47:02.652164Z",
     "iopub.status.busy": "2021-05-07T14:47:02.651913Z",
     "iopub.status.idle": "2021-05-07T14:47:02.655524Z",
     "shell.execute_reply": "2021-05-07T14:47:02.654598Z",
     "shell.execute_reply.started": "2021-05-07T14:47:02.652130Z"
    }
   },
   "outputs": [],
   "source": [
    "# ! wget https://github.com/songys/Chatbot_data/raw/master/ChatbotData%20.csv -P ./data"
   ]
  },
  {
   "cell_type": "code",
   "execution_count": 7,
   "id": "ab84eb0f",
   "metadata": {
    "execution": {
     "iopub.execute_input": "2021-05-07T14:47:02.656745Z",
     "iopub.status.busy": "2021-05-07T14:47:02.656557Z",
     "iopub.status.idle": "2021-05-07T14:47:02.795602Z",
     "shell.execute_reply": "2021-05-07T14:47:02.794871Z",
     "shell.execute_reply.started": "2021-05-07T14:47:02.656723Z"
    }
   },
   "outputs": [
    {
     "name": "stdout",
     "output_type": "stream",
     "text": [
      "ChatbotData20.csv  ko-Word2Vec.zip  s_spm_spa-eng.model\n",
      "ko-Word2Vec\t   lang_corpus.txt  s_spm_spa-eng.vocab\n"
     ]
    }
   ],
   "source": [
    "!ls ./data"
   ]
  },
  {
   "cell_type": "code",
   "execution_count": 8,
   "id": "40ce8324",
   "metadata": {
    "execution": {
     "iopub.execute_input": "2021-05-07T14:47:02.797022Z",
     "iopub.status.busy": "2021-05-07T14:47:02.796771Z",
     "iopub.status.idle": "2021-05-07T14:47:02.799770Z",
     "shell.execute_reply": "2021-05-07T14:47:02.799181Z",
     "shell.execute_reply.started": "2021-05-07T14:47:02.796988Z"
    }
   },
   "outputs": [],
   "source": [
    "# !mv ./data/ChatbotData\\ .csv ./data/ChatbotData20.csv"
   ]
  },
  {
   "cell_type": "markdown",
   "id": "cda0a0da",
   "metadata": {
    "tags": []
   },
   "source": [
    "### 2. 사전 훈련된 한국어 Embedding 모델을 다운로드"
   ]
  },
  {
   "cell_type": "markdown",
   "id": "52077f69",
   "metadata": {},
   "source": [
    "사전 훈련된 한국어 Word2Vec Embedding을 아래의 링크에서 찾아 다운로드 받는다.\n",
    "- link : https://github.com/Kyubyong/wordvectors"
   ]
  },
  {
   "cell_type": "code",
   "execution_count": 9,
   "id": "8e2cf8fe",
   "metadata": {
    "execution": {
     "iopub.execute_input": "2021-05-07T14:47:02.800823Z",
     "iopub.status.busy": "2021-05-07T14:47:02.800647Z",
     "iopub.status.idle": "2021-05-07T14:47:02.937086Z",
     "shell.execute_reply": "2021-05-07T14:47:02.936405Z",
     "shell.execute_reply.started": "2021-05-07T14:47:02.800801Z"
    },
    "tags": []
   },
   "outputs": [
    {
     "name": "stdout",
     "output_type": "stream",
     "text": [
      "ChatbotData20.csv  ko-Word2Vec.zip  s_spm_spa-eng.model\n",
      "ko-Word2Vec\t   lang_corpus.txt  s_spm_spa-eng.vocab\n"
     ]
    }
   ],
   "source": [
    "!ls data"
   ]
  },
  {
   "cell_type": "code",
   "execution_count": 10,
   "id": "c30cf3f2",
   "metadata": {
    "execution": {
     "iopub.execute_input": "2021-05-07T14:47:02.939294Z",
     "iopub.status.busy": "2021-05-07T14:47:02.939108Z",
     "iopub.status.idle": "2021-05-07T14:50:05.038724Z",
     "shell.execute_reply": "2021-05-07T14:50:05.038010Z",
     "shell.execute_reply.started": "2021-05-07T14:47:02.939268Z"
    },
    "tags": []
   },
   "outputs": [
    {
     "name": "stdout",
     "output_type": "stream",
     "text": [
      "Archive:  data/ko-Word2Vec.zip\n",
      "replace data/ko-Word2Vec/ko.bin? [y]es, [n]o, [A]ll, [N]one, [r]ename: ^C\n"
     ]
    }
   ],
   "source": [
    "!unzip data/ko-Word2Vec.zip -d data/ko-Word2Vecreference"
   ]
  },
  {
   "cell_type": "code",
   "execution_count": 11,
   "id": "045d67f4",
   "metadata": {
    "execution": {
     "iopub.execute_input": "2021-05-07T14:50:05.040329Z",
     "iopub.status.busy": "2021-05-07T14:50:05.040156Z",
     "iopub.status.idle": "2021-05-07T14:50:05.185146Z",
     "shell.execute_reply": "2021-05-07T14:50:05.184371Z",
     "shell.execute_reply.started": "2021-05-07T14:50:05.040304Z"
    }
   },
   "outputs": [
    {
     "name": "stdout",
     "output_type": "stream",
     "text": [
      "ko.bin\tko.tsv\n"
     ]
    }
   ],
   "source": [
    "!ls data/ko-Word2Vec"
   ]
  },
  {
   "cell_type": "markdown",
   "id": "c91a574c",
   "metadata": {
    "tags": []
   },
   "source": [
    "## Step 2. 데이터 전처리\n",
    "---"
   ]
  },
  {
   "cell_type": "markdown",
   "id": "b2318304",
   "metadata": {
    "tags": []
   },
   "source": [
    "### 1. 결측치 제거 및 데이터 정제"
   ]
  },
  {
   "cell_type": "markdown",
   "id": "b58cd790",
   "metadata": {},
   "source": [
    "챗봇 데이터를 읽어들여 데이터의 결측치를 제거하고, 데이터를 정제한다.<br>\n",
    "데이터 정제는 다음과 같은 작업이 포함된다.\n",
    "- 영문 대문자를 모두 소문자로 변환\n",
    "- 영문/한글/숫자/주요 특수문자를 제외한 문자 제거"
   ]
  },
  {
   "cell_type": "markdown",
   "id": "3469f6aa",
   "metadata": {
    "tags": []
   },
   "source": [
    "#### A. 데이터 불러오기"
   ]
  },
  {
   "cell_type": "code",
   "execution_count": 12,
   "id": "fbddc7a9",
   "metadata": {
    "execution": {
     "iopub.execute_input": "2021-05-07T14:50:05.186412Z",
     "iopub.status.busy": "2021-05-07T14:50:05.186229Z",
     "iopub.status.idle": "2021-05-07T14:50:05.228027Z",
     "shell.execute_reply": "2021-05-07T14:50:05.227335Z",
     "shell.execute_reply.started": "2021-05-07T14:50:05.186386Z"
    },
    "tags": []
   },
   "outputs": [
    {
     "data": {
      "text/html": [
       "<div>\n",
       "<style scoped>\n",
       "    .dataframe tbody tr th:only-of-type {\n",
       "        vertical-align: middle;\n",
       "    }\n",
       "\n",
       "    .dataframe tbody tr th {\n",
       "        vertical-align: top;\n",
       "    }\n",
       "\n",
       "    .dataframe thead th {\n",
       "        text-align: right;\n",
       "    }\n",
       "</style>\n",
       "<table border=\"1\" class=\"dataframe\">\n",
       "  <thead>\n",
       "    <tr style=\"text-align: right;\">\n",
       "      <th></th>\n",
       "      <th>Q</th>\n",
       "      <th>A</th>\n",
       "      <th>label</th>\n",
       "    </tr>\n",
       "  </thead>\n",
       "  <tbody>\n",
       "    <tr>\n",
       "      <th>0</th>\n",
       "      <td>12시 땡!</td>\n",
       "      <td>하루가 또 가네요.</td>\n",
       "      <td>0</td>\n",
       "    </tr>\n",
       "    <tr>\n",
       "      <th>1</th>\n",
       "      <td>1지망 학교 떨어졌어</td>\n",
       "      <td>위로해 드립니다.</td>\n",
       "      <td>0</td>\n",
       "    </tr>\n",
       "    <tr>\n",
       "      <th>2</th>\n",
       "      <td>3박4일 놀러가고 싶다</td>\n",
       "      <td>여행은 언제나 좋죠.</td>\n",
       "      <td>0</td>\n",
       "    </tr>\n",
       "    <tr>\n",
       "      <th>3</th>\n",
       "      <td>3박4일 정도 놀러가고 싶다</td>\n",
       "      <td>여행은 언제나 좋죠.</td>\n",
       "      <td>0</td>\n",
       "    </tr>\n",
       "    <tr>\n",
       "      <th>4</th>\n",
       "      <td>PPL 심하네</td>\n",
       "      <td>눈살이 찌푸려지죠.</td>\n",
       "      <td>0</td>\n",
       "    </tr>\n",
       "    <tr>\n",
       "      <th>5</th>\n",
       "      <td>SD카드 망가졌어</td>\n",
       "      <td>다시 새로 사는 게 마음 편해요.</td>\n",
       "      <td>0</td>\n",
       "    </tr>\n",
       "    <tr>\n",
       "      <th>6</th>\n",
       "      <td>SD카드 안돼</td>\n",
       "      <td>다시 새로 사는 게 마음 편해요.</td>\n",
       "      <td>0</td>\n",
       "    </tr>\n",
       "    <tr>\n",
       "      <th>7</th>\n",
       "      <td>SNS 맞팔 왜 안하지ㅠㅠ</td>\n",
       "      <td>잘 모르고 있을 수도 있어요.</td>\n",
       "      <td>0</td>\n",
       "    </tr>\n",
       "    <tr>\n",
       "      <th>8</th>\n",
       "      <td>SNS 시간낭비인 거 아는데 매일 하는 중</td>\n",
       "      <td>시간을 정하고 해보세요.</td>\n",
       "      <td>0</td>\n",
       "    </tr>\n",
       "    <tr>\n",
       "      <th>9</th>\n",
       "      <td>SNS 시간낭비인데 자꾸 보게됨</td>\n",
       "      <td>시간을 정하고 해보세요.</td>\n",
       "      <td>0</td>\n",
       "    </tr>\n",
       "  </tbody>\n",
       "</table>\n",
       "</div>"
      ],
      "text/plain": [
       "                         Q                   A  label\n",
       "0                   12시 땡!          하루가 또 가네요.      0\n",
       "1              1지망 학교 떨어졌어           위로해 드립니다.      0\n",
       "2             3박4일 놀러가고 싶다         여행은 언제나 좋죠.      0\n",
       "3          3박4일 정도 놀러가고 싶다         여행은 언제나 좋죠.      0\n",
       "4                  PPL 심하네          눈살이 찌푸려지죠.      0\n",
       "5                SD카드 망가졌어  다시 새로 사는 게 마음 편해요.      0\n",
       "6                  SD카드 안돼  다시 새로 사는 게 마음 편해요.      0\n",
       "7           SNS 맞팔 왜 안하지ㅠㅠ    잘 모르고 있을 수도 있어요.      0\n",
       "8  SNS 시간낭비인 거 아는데 매일 하는 중       시간을 정하고 해보세요.      0\n",
       "9        SNS 시간낭비인데 자꾸 보게됨       시간을 정하고 해보세요.      0"
      ]
     },
     "execution_count": 12,
     "metadata": {},
     "output_type": "execute_result"
    }
   ],
   "source": [
    "raw_data = pd.read_csv(data_dir_path + '/ChatbotData20.csv')\n",
    "raw_data.head(10)"
   ]
  },
  {
   "cell_type": "code",
   "execution_count": 13,
   "id": "22f744d0",
   "metadata": {
    "execution": {
     "iopub.execute_input": "2021-05-07T14:50:05.229092Z",
     "iopub.status.busy": "2021-05-07T14:50:05.228911Z",
     "iopub.status.idle": "2021-05-07T14:50:05.232607Z",
     "shell.execute_reply": "2021-05-07T14:50:05.232111Z",
     "shell.execute_reply.started": "2021-05-07T14:50:05.229068Z"
    }
   },
   "outputs": [
    {
     "data": {
      "text/plain": [
       "(11823, 3)"
      ]
     },
     "execution_count": 13,
     "metadata": {},
     "output_type": "execute_result"
    }
   ],
   "source": [
    "raw_data.shape"
   ]
  },
  {
   "cell_type": "code",
   "execution_count": 14,
   "id": "ab5d6daa",
   "metadata": {
    "execution": {
     "iopub.execute_input": "2021-05-07T14:50:05.233567Z",
     "iopub.status.busy": "2021-05-07T14:50:05.233403Z",
     "iopub.status.idle": "2021-05-07T14:50:05.242868Z",
     "shell.execute_reply": "2021-05-07T14:50:05.242243Z",
     "shell.execute_reply.started": "2021-05-07T14:50:05.233546Z"
    }
   },
   "outputs": [
    {
     "data": {
      "text/html": [
       "<div>\n",
       "<style scoped>\n",
       "    .dataframe tbody tr th:only-of-type {\n",
       "        vertical-align: middle;\n",
       "    }\n",
       "\n",
       "    .dataframe tbody tr th {\n",
       "        vertical-align: top;\n",
       "    }\n",
       "\n",
       "    .dataframe thead th {\n",
       "        text-align: right;\n",
       "    }\n",
       "</style>\n",
       "<table border=\"1\" class=\"dataframe\">\n",
       "  <thead>\n",
       "    <tr style=\"text-align: right;\">\n",
       "      <th></th>\n",
       "      <th>Q</th>\n",
       "      <th>A</th>\n",
       "      <th>label</th>\n",
       "    </tr>\n",
       "  </thead>\n",
       "  <tbody>\n",
       "    <tr>\n",
       "      <th>0</th>\n",
       "      <td>12시 땡!</td>\n",
       "      <td>하루가 또 가네요.</td>\n",
       "      <td>0</td>\n",
       "    </tr>\n",
       "    <tr>\n",
       "      <th>1</th>\n",
       "      <td>1지망 학교 떨어졌어</td>\n",
       "      <td>위로해 드립니다.</td>\n",
       "      <td>0</td>\n",
       "    </tr>\n",
       "    <tr>\n",
       "      <th>2</th>\n",
       "      <td>3박4일 놀러가고 싶다</td>\n",
       "      <td>여행은 언제나 좋죠.</td>\n",
       "      <td>0</td>\n",
       "    </tr>\n",
       "    <tr>\n",
       "      <th>3</th>\n",
       "      <td>3박4일 정도 놀러가고 싶다</td>\n",
       "      <td>여행은 언제나 좋죠.</td>\n",
       "      <td>0</td>\n",
       "    </tr>\n",
       "    <tr>\n",
       "      <th>4</th>\n",
       "      <td>PPL 심하네</td>\n",
       "      <td>눈살이 찌푸려지죠.</td>\n",
       "      <td>0</td>\n",
       "    </tr>\n",
       "  </tbody>\n",
       "</table>\n",
       "</div>"
      ],
      "text/plain": [
       "                 Q            A  label\n",
       "0           12시 땡!   하루가 또 가네요.      0\n",
       "1      1지망 학교 떨어졌어    위로해 드립니다.      0\n",
       "2     3박4일 놀러가고 싶다  여행은 언제나 좋죠.      0\n",
       "3  3박4일 정도 놀러가고 싶다  여행은 언제나 좋죠.      0\n",
       "4          PPL 심하네   눈살이 찌푸려지죠.      0"
      ]
     },
     "execution_count": 14,
     "metadata": {},
     "output_type": "execute_result"
    }
   ],
   "source": [
    "raw_data[raw_data['label']==0][:5]"
   ]
  },
  {
   "cell_type": "code",
   "execution_count": 15,
   "id": "11ce4052",
   "metadata": {
    "execution": {
     "iopub.execute_input": "2021-05-07T14:50:05.243850Z",
     "iopub.status.busy": "2021-05-07T14:50:05.243669Z",
     "iopub.status.idle": "2021-05-07T14:50:05.253541Z",
     "shell.execute_reply": "2021-05-07T14:50:05.252881Z",
     "shell.execute_reply.started": "2021-05-07T14:50:05.243827Z"
    }
   },
   "outputs": [
    {
     "data": {
      "text/html": [
       "<div>\n",
       "<style scoped>\n",
       "    .dataframe tbody tr th:only-of-type {\n",
       "        vertical-align: middle;\n",
       "    }\n",
       "\n",
       "    .dataframe tbody tr th {\n",
       "        vertical-align: top;\n",
       "    }\n",
       "\n",
       "    .dataframe thead th {\n",
       "        text-align: right;\n",
       "    }\n",
       "</style>\n",
       "<table border=\"1\" class=\"dataframe\">\n",
       "  <thead>\n",
       "    <tr style=\"text-align: right;\">\n",
       "      <th></th>\n",
       "      <th>Q</th>\n",
       "      <th>A</th>\n",
       "      <th>label</th>\n",
       "    </tr>\n",
       "  </thead>\n",
       "  <tbody>\n",
       "    <tr>\n",
       "      <th>5290</th>\n",
       "      <td>1000일 만난 여자친구와 이별</td>\n",
       "      <td>더 오래 만날 사람 만날 거예요.</td>\n",
       "      <td>1</td>\n",
       "    </tr>\n",
       "    <tr>\n",
       "      <th>5291</th>\n",
       "      <td>10년 연애. 헤어졌습니다.</td>\n",
       "      <td>더 공허함이 크시겠네요.</td>\n",
       "      <td>1</td>\n",
       "    </tr>\n",
       "    <tr>\n",
       "      <th>5292</th>\n",
       "      <td>10년 연애사 되돌아보니 다 부질없네</td>\n",
       "      <td>더 좋은 사람 만나실 거예요.</td>\n",
       "      <td>1</td>\n",
       "    </tr>\n",
       "    <tr>\n",
       "      <th>5293</th>\n",
       "      <td>10년 연예의끝</td>\n",
       "      <td>더 마음이 허하겠어요.</td>\n",
       "      <td>1</td>\n",
       "    </tr>\n",
       "    <tr>\n",
       "      <th>5294</th>\n",
       "      <td>10년만나다 헤어지네</td>\n",
       "      <td>충분히 슬퍼하고 충분히 아파하다가 이겨내세요.</td>\n",
       "      <td>1</td>\n",
       "    </tr>\n",
       "  </tbody>\n",
       "</table>\n",
       "</div>"
      ],
      "text/plain": [
       "                         Q                          A  label\n",
       "5290     1000일 만난 여자친구와 이별         더 오래 만날 사람 만날 거예요.      1\n",
       "5291       10년 연애. 헤어졌습니다.              더 공허함이 크시겠네요.      1\n",
       "5292  10년 연애사 되돌아보니 다 부질없네           더 좋은 사람 만나실 거예요.      1\n",
       "5293              10년 연예의끝               더 마음이 허하겠어요.      1\n",
       "5294           10년만나다 헤어지네  충분히 슬퍼하고 충분히 아파하다가 이겨내세요.      1"
      ]
     },
     "execution_count": 15,
     "metadata": {},
     "output_type": "execute_result"
    }
   ],
   "source": [
    "raw_data[raw_data['label']==1][:5]"
   ]
  },
  {
   "cell_type": "code",
   "execution_count": 16,
   "id": "c70c8dd6",
   "metadata": {
    "execution": {
     "iopub.execute_input": "2021-05-07T14:50:05.254846Z",
     "iopub.status.busy": "2021-05-07T14:50:05.254583Z",
     "iopub.status.idle": "2021-05-07T14:50:05.267248Z",
     "shell.execute_reply": "2021-05-07T14:50:05.266301Z",
     "shell.execute_reply.started": "2021-05-07T14:50:05.254802Z"
    }
   },
   "outputs": [
    {
     "data": {
      "text/html": [
       "<div>\n",
       "<style scoped>\n",
       "    .dataframe tbody tr th:only-of-type {\n",
       "        vertical-align: middle;\n",
       "    }\n",
       "\n",
       "    .dataframe tbody tr th {\n",
       "        vertical-align: top;\n",
       "    }\n",
       "\n",
       "    .dataframe thead th {\n",
       "        text-align: right;\n",
       "    }\n",
       "</style>\n",
       "<table border=\"1\" class=\"dataframe\">\n",
       "  <thead>\n",
       "    <tr style=\"text-align: right;\">\n",
       "      <th></th>\n",
       "      <th>Q</th>\n",
       "      <th>A</th>\n",
       "      <th>label</th>\n",
       "    </tr>\n",
       "  </thead>\n",
       "  <tbody>\n",
       "    <tr>\n",
       "      <th>8860</th>\n",
       "      <td>짝사랑만큼 고통스러운 건 없겠지.</td>\n",
       "      <td>짝사랑 만큼 감정소모가 큰 건 없을 거예요.</td>\n",
       "      <td>2</td>\n",
       "    </tr>\n",
       "    <tr>\n",
       "      <th>8861</th>\n",
       "      <td>1년 넘게 만났는데 지금도 불타올라</td>\n",
       "      <td>정열적인 사랑을 하고 있나봐요.</td>\n",
       "      <td>2</td>\n",
       "    </tr>\n",
       "    <tr>\n",
       "      <th>8862</th>\n",
       "      <td>1년 동거 중인데 계속 좋아</td>\n",
       "      <td>서로 깊게 알게되면서 더 좋아졌나봅니다.</td>\n",
       "      <td>2</td>\n",
       "    </tr>\n",
       "    <tr>\n",
       "      <th>8863</th>\n",
       "      <td>1년 동거하고 결혼했어</td>\n",
       "      <td>축하합니다!</td>\n",
       "      <td>2</td>\n",
       "    </tr>\n",
       "    <tr>\n",
       "      <th>8864</th>\n",
       "      <td>1년 만났는데도 그 사람에 대해 잘 모르겠어</td>\n",
       "      <td>더 만나보세요.</td>\n",
       "      <td>2</td>\n",
       "    </tr>\n",
       "  </tbody>\n",
       "</table>\n",
       "</div>"
      ],
      "text/plain": [
       "                             Q                         A  label\n",
       "8860        짝사랑만큼 고통스러운 건 없겠지.  짝사랑 만큼 감정소모가 큰 건 없을 거예요.      2\n",
       "8861       1년 넘게 만났는데 지금도 불타올라         정열적인 사랑을 하고 있나봐요.      2\n",
       "8862           1년 동거 중인데 계속 좋아    서로 깊게 알게되면서 더 좋아졌나봅니다.      2\n",
       "8863              1년 동거하고 결혼했어                    축하합니다!      2\n",
       "8864  1년 만났는데도 그 사람에 대해 잘 모르겠어                  더 만나보세요.      2"
      ]
     },
     "execution_count": 16,
     "metadata": {},
     "output_type": "execute_result"
    }
   ],
   "source": [
    "raw_data[raw_data['label']==2][:5]"
   ]
  },
  {
   "cell_type": "markdown",
   "id": "ac3e7034",
   "metadata": {},
   "source": [
    "해당 데이터는 질문-대답-라벨의 구성을 가지며, 총 11823 쌍의 데이터가 존재한다.\n",
    "데이터의 라벨은 0 : 일상다반사, 1 : 이별(부정), 2 : 사랑(긍정)으로 raw_data[raw_data['label']==0][:5]정의되어 있다."
   ]
  },
  {
   "cell_type": "markdown",
   "id": "889b87f6",
   "metadata": {
    "tags": []
   },
   "source": [
    "#### B. 결측치 제거"
   ]
  },
  {
   "cell_type": "code",
   "execution_count": 17,
   "id": "f74c816c",
   "metadata": {
    "execution": {
     "iopub.execute_input": "2021-05-07T14:50:05.268437Z",
     "iopub.status.busy": "2021-05-07T14:50:05.268185Z",
     "iopub.status.idle": "2021-05-07T14:50:05.276809Z",
     "shell.execute_reply": "2021-05-07T14:50:05.276115Z",
     "shell.execute_reply.started": "2021-05-07T14:50:05.268402Z"
    }
   },
   "outputs": [
    {
     "data": {
      "text/plain": [
       "Q        0\n",
       "A        0\n",
       "label    0\n",
       "dtype: int64"
      ]
     },
     "execution_count": 17,
     "metadata": {},
     "output_type": "execute_result"
    }
   ],
   "source": [
    "raw_data.isnull().sum()"
   ]
  },
  {
   "cell_type": "markdown",
   "id": "60d95667",
   "metadata": {},
   "source": [
    "데이터에 결측치가 없기 때문에 따로 제거할 필요가 없다."
   ]
  },
  {
   "cell_type": "markdown",
   "id": "9570e8b8",
   "metadata": {
    "tags": []
   },
   "source": [
    "#### C. 중복 제거"
   ]
  },
  {
   "cell_type": "markdown",
   "id": "401bb3d3",
   "metadata": {},
   "source": [
    "- 중복 데이터 확인"
   ]
  },
  {
   "cell_type": "code",
   "execution_count": 18,
   "id": "3cd4fd6f",
   "metadata": {
    "execution": {
     "iopub.execute_input": "2021-05-07T14:50:05.278216Z",
     "iopub.status.busy": "2021-05-07T14:50:05.277944Z",
     "iopub.status.idle": "2021-05-07T14:50:05.291136Z",
     "shell.execute_reply": "2021-05-07T14:50:05.290517Z",
     "shell.execute_reply.started": "2021-05-07T14:50:05.278179Z"
    },
    "tags": []
   },
   "outputs": [
    {
     "data": {
      "text/html": [
       "<div>\n",
       "<style scoped>\n",
       "    .dataframe tbody tr th:only-of-type {\n",
       "        vertical-align: middle;\n",
       "    }\n",
       "\n",
       "    .dataframe tbody tr th {\n",
       "        vertical-align: top;\n",
       "    }\n",
       "\n",
       "    .dataframe thead th {\n",
       "        text-align: right;\n",
       "    }\n",
       "</style>\n",
       "<table border=\"1\" class=\"dataframe\">\n",
       "  <thead>\n",
       "    <tr style=\"text-align: right;\">\n",
       "      <th></th>\n",
       "      <th>Q</th>\n",
       "      <th>A</th>\n",
       "      <th>label</th>\n",
       "    </tr>\n",
       "  </thead>\n",
       "  <tbody>\n",
       "    <tr>\n",
       "      <th>196</th>\n",
       "      <td>고양이 키우고 싶어</td>\n",
       "      <td>가족들과 상의해보세요.</td>\n",
       "      <td>0</td>\n",
       "    </tr>\n",
       "    <tr>\n",
       "      <th>235</th>\n",
       "      <td>공시 준비 힘들어</td>\n",
       "      <td>잘 될 거예요.</td>\n",
       "      <td>0</td>\n",
       "    </tr>\n",
       "    <tr>\n",
       "      <th>1294</th>\n",
       "      <td>돈 벌고 싶어</td>\n",
       "      <td>많이 벌수록 좋아요.</td>\n",
       "      <td>0</td>\n",
       "    </tr>\n",
       "    <tr>\n",
       "      <th>1445</th>\n",
       "      <td>로또 번호 알려줘</td>\n",
       "      <td>알면 제가 하죠.</td>\n",
       "      <td>0</td>\n",
       "    </tr>\n",
       "    <tr>\n",
       "      <th>1481</th>\n",
       "      <td>마음이 울적해</td>\n",
       "      <td>거리를 걸어보세요.</td>\n",
       "      <td>0</td>\n",
       "    </tr>\n",
       "    <tr>\n",
       "      <th>...</th>\n",
       "      <td>...</td>\n",
       "      <td>...</td>\n",
       "      <td>...</td>\n",
       "    </tr>\n",
       "    <tr>\n",
       "      <th>11642</th>\n",
       "      <td>착해서 잘해주는 건지 좋아하는 건지</td>\n",
       "      <td>헷갈린다고 말해보세요.</td>\n",
       "      <td>2</td>\n",
       "    </tr>\n",
       "    <tr>\n",
       "      <th>11649</th>\n",
       "      <td>첫 눈에 반하는게 가능해?</td>\n",
       "      <td>당연히 가능하죠.</td>\n",
       "      <td>2</td>\n",
       "    </tr>\n",
       "    <tr>\n",
       "      <th>11658</th>\n",
       "      <td>첫사랑 생각나</td>\n",
       "      <td>지금의 사랑에 충실하세요.</td>\n",
       "      <td>2</td>\n",
       "    </tr>\n",
       "    <tr>\n",
       "      <th>11732</th>\n",
       "      <td>커플여행이 나을까 그냥 우리끼리 갈까?</td>\n",
       "      <td>저는 둘이 가는 게 좋아요.</td>\n",
       "      <td>2</td>\n",
       "    </tr>\n",
       "    <tr>\n",
       "      <th>11819</th>\n",
       "      <td>훔쳐보는 것도 눈치 보임.</td>\n",
       "      <td>훔쳐보는 거 티나나봐요.</td>\n",
       "      <td>2</td>\n",
       "    </tr>\n",
       "  </tbody>\n",
       "</table>\n",
       "<p>161 rows × 3 columns</p>\n",
       "</div>"
      ],
      "text/plain": [
       "                           Q                A  label\n",
       "196               고양이 키우고 싶어     가족들과 상의해보세요.      0\n",
       "235                공시 준비 힘들어         잘 될 거예요.      0\n",
       "1294                 돈 벌고 싶어      많이 벌수록 좋아요.      0\n",
       "1445               로또 번호 알려줘        알면 제가 하죠.      0\n",
       "1481                 마음이 울적해       거리를 걸어보세요.      0\n",
       "...                      ...              ...    ...\n",
       "11642    착해서 잘해주는 건지 좋아하는 건지     헷갈린다고 말해보세요.      2\n",
       "11649         첫 눈에 반하는게 가능해?        당연히 가능하죠.      2\n",
       "11658                첫사랑 생각나   지금의 사랑에 충실하세요.      2\n",
       "11732  커플여행이 나을까 그냥 우리끼리 갈까?  저는 둘이 가는 게 좋아요.      2\n",
       "11819         훔쳐보는 것도 눈치 보임.    훔쳐보는 거 티나나봐요.      2\n",
       "\n",
       "[161 rows x 3 columns]"
      ]
     },
     "execution_count": 18,
     "metadata": {},
     "output_type": "execute_result"
    }
   ],
   "source": [
    "raw_data[raw_data['Q'].duplicated()]"
   ]
  },
  {
   "cell_type": "code",
   "execution_count": 19,
   "id": "d0b5031c",
   "metadata": {
    "execution": {
     "iopub.execute_input": "2021-05-07T14:50:05.292066Z",
     "iopub.status.busy": "2021-05-07T14:50:05.291891Z",
     "iopub.status.idle": "2021-05-07T14:50:05.300347Z",
     "shell.execute_reply": "2021-05-07T14:50:05.299892Z",
     "shell.execute_reply.started": "2021-05-07T14:50:05.292043Z"
    },
    "tags": []
   },
   "outputs": [
    {
     "data": {
      "text/html": [
       "<div>\n",
       "<style scoped>\n",
       "    .dataframe tbody tr th:only-of-type {\n",
       "        vertical-align: middle;\n",
       "    }\n",
       "\n",
       "    .dataframe tbody tr th {\n",
       "        vertical-align: top;\n",
       "    }\n",
       "\n",
       "    .dataframe thead th {\n",
       "        text-align: right;\n",
       "    }\n",
       "</style>\n",
       "<table border=\"1\" class=\"dataframe\">\n",
       "  <thead>\n",
       "    <tr style=\"text-align: right;\">\n",
       "      <th></th>\n",
       "      <th>Q</th>\n",
       "      <th>A</th>\n",
       "      <th>label</th>\n",
       "    </tr>\n",
       "  </thead>\n",
       "  <tbody>\n",
       "    <tr>\n",
       "      <th>195</th>\n",
       "      <td>고양이 키우고 싶어</td>\n",
       "      <td>자신을 먼저 키우세요.</td>\n",
       "      <td>0</td>\n",
       "    </tr>\n",
       "    <tr>\n",
       "      <th>196</th>\n",
       "      <td>고양이 키우고 싶어</td>\n",
       "      <td>가족들과 상의해보세요.</td>\n",
       "      <td>0</td>\n",
       "    </tr>\n",
       "  </tbody>\n",
       "</table>\n",
       "</div>"
      ],
      "text/plain": [
       "              Q             A  label\n",
       "195  고양이 키우고 싶어  자신을 먼저 키우세요.      0\n",
       "196  고양이 키우고 싶어  가족들과 상의해보세요.      0"
      ]
     },
     "execution_count": 19,
     "metadata": {},
     "output_type": "execute_result"
    }
   ],
   "source": [
    "raw_data[raw_data['Q'][196]==raw_data['Q']]"
   ]
  },
  {
   "cell_type": "code",
   "execution_count": 20,
   "id": "e61bd821",
   "metadata": {
    "execution": {
     "iopub.execute_input": "2021-05-07T14:50:05.301183Z",
     "iopub.status.busy": "2021-05-07T14:50:05.301023Z",
     "iopub.status.idle": "2021-05-07T14:50:05.312348Z",
     "shell.execute_reply": "2021-05-07T14:50:05.311785Z",
     "shell.execute_reply.started": "2021-05-07T14:50:05.301161Z"
    },
    "tags": []
   },
   "outputs": [
    {
     "data": {
      "text/html": [
       "<div>\n",
       "<style scoped>\n",
       "    .dataframe tbody tr th:only-of-type {\n",
       "        vertical-align: middle;\n",
       "    }\n",
       "\n",
       "    .dataframe tbody tr th {\n",
       "        vertical-align: top;\n",
       "    }\n",
       "\n",
       "    .dataframe thead th {\n",
       "        text-align: right;\n",
       "    }\n",
       "</style>\n",
       "<table border=\"1\" class=\"dataframe\">\n",
       "  <thead>\n",
       "    <tr style=\"text-align: right;\">\n",
       "      <th></th>\n",
       "      <th>Q</th>\n",
       "      <th>A</th>\n",
       "      <th>label</th>\n",
       "    </tr>\n",
       "  </thead>\n",
       "  <tbody>\n",
       "    <tr>\n",
       "      <th>3</th>\n",
       "      <td>3박4일 정도 놀러가고 싶다</td>\n",
       "      <td>여행은 언제나 좋죠.</td>\n",
       "      <td>0</td>\n",
       "    </tr>\n",
       "    <tr>\n",
       "      <th>6</th>\n",
       "      <td>SD카드 안돼</td>\n",
       "      <td>다시 새로 사는 게 마음 편해요.</td>\n",
       "      <td>0</td>\n",
       "    </tr>\n",
       "    <tr>\n",
       "      <th>9</th>\n",
       "      <td>SNS 시간낭비인데 자꾸 보게됨</td>\n",
       "      <td>시간을 정하고 해보세요.</td>\n",
       "      <td>0</td>\n",
       "    </tr>\n",
       "    <tr>\n",
       "      <th>12</th>\n",
       "      <td>가끔 뭐하는지 궁금해</td>\n",
       "      <td>그 사람도 그럴 거예요.</td>\n",
       "      <td>0</td>\n",
       "    </tr>\n",
       "    <tr>\n",
       "      <th>18</th>\n",
       "      <td>가스불 켜놓고 나온거 같아</td>\n",
       "      <td>빨리 집에 돌아가서 끄고 나오세요.</td>\n",
       "      <td>0</td>\n",
       "    </tr>\n",
       "    <tr>\n",
       "      <th>...</th>\n",
       "      <td>...</td>\n",
       "      <td>...</td>\n",
       "      <td>...</td>\n",
       "    </tr>\n",
       "    <tr>\n",
       "      <th>11806</th>\n",
       "      <td>혼자만 설레고 혼자서 끝내는 짝사랑 그만할래.</td>\n",
       "      <td>맘고생 많았어요.</td>\n",
       "      <td>2</td>\n",
       "    </tr>\n",
       "    <tr>\n",
       "      <th>11807</th>\n",
       "      <td>화이트데이에 고백할까요?</td>\n",
       "      <td>선물을 주면서 솔직하고 당당하게 고백해보세요.</td>\n",
       "      <td>2</td>\n",
       "    </tr>\n",
       "    <tr>\n",
       "      <th>11809</th>\n",
       "      <td>확실히 날 좋아하는 걸 아는 남자랑 친구가 될 수 있을까?</td>\n",
       "      <td>그 사람을 위해서는 그러면 안돼요.</td>\n",
       "      <td>2</td>\n",
       "    </tr>\n",
       "    <tr>\n",
       "      <th>11816</th>\n",
       "      <td>회식하는데 나만 챙겨줘. 썸임?</td>\n",
       "      <td>호감이 있을 수도 있어요. 그렇지만 조금 더 상황을 지켜보세요.</td>\n",
       "      <td>2</td>\n",
       "    </tr>\n",
       "    <tr>\n",
       "      <th>11822</th>\n",
       "      <td>힘들어서 결혼할까봐</td>\n",
       "      <td>도피성 결혼은 하지 않길 바라요.</td>\n",
       "      <td>2</td>\n",
       "    </tr>\n",
       "  </tbody>\n",
       "</table>\n",
       "<p>4044 rows × 3 columns</p>\n",
       "</div>"
      ],
      "text/plain": [
       "                                      Q                                    A  \\\n",
       "3                       3박4일 정도 놀러가고 싶다                          여행은 언제나 좋죠.   \n",
       "6                               SD카드 안돼                   다시 새로 사는 게 마음 편해요.   \n",
       "9                     SNS 시간낭비인데 자꾸 보게됨                        시간을 정하고 해보세요.   \n",
       "12                          가끔 뭐하는지 궁금해                        그 사람도 그럴 거예요.   \n",
       "18                       가스불 켜놓고 나온거 같아                  빨리 집에 돌아가서 끄고 나오세요.   \n",
       "...                                 ...                                  ...   \n",
       "11806         혼자만 설레고 혼자서 끝내는 짝사랑 그만할래.                            맘고생 많았어요.   \n",
       "11807                     화이트데이에 고백할까요?            선물을 주면서 솔직하고 당당하게 고백해보세요.   \n",
       "11809  확실히 날 좋아하는 걸 아는 남자랑 친구가 될 수 있을까?                  그 사람을 위해서는 그러면 안돼요.   \n",
       "11816                 회식하는데 나만 챙겨줘. 썸임?  호감이 있을 수도 있어요. 그렇지만 조금 더 상황을 지켜보세요.   \n",
       "11822                        힘들어서 결혼할까봐                   도피성 결혼은 하지 않길 바라요.   \n",
       "\n",
       "       label  \n",
       "3          0  \n",
       "6          0  \n",
       "9          0  \n",
       "12         0  \n",
       "18         0  \n",
       "...      ...  \n",
       "11806      2  \n",
       "11807      2  \n",
       "11809      2  \n",
       "11816      2  \n",
       "11822      2  \n",
       "\n",
       "[4044 rows x 3 columns]"
      ]
     },
     "execution_count": 20,
     "metadata": {},
     "output_type": "execute_result"
    }
   ],
   "source": [
    "raw_data[raw_data['A'].duplicated()]"
   ]
  },
  {
   "cell_type": "code",
   "execution_count": 21,
   "id": "0e888c6e",
   "metadata": {
    "execution": {
     "iopub.execute_input": "2021-05-07T14:50:05.313197Z",
     "iopub.status.busy": "2021-05-07T14:50:05.313040Z",
     "iopub.status.idle": "2021-05-07T14:50:05.322262Z",
     "shell.execute_reply": "2021-05-07T14:50:05.321641Z",
     "shell.execute_reply.started": "2021-05-07T14:50:05.313177Z"
    },
    "tags": []
   },
   "outputs": [
    {
     "data": {
      "text/html": [
       "<div>\n",
       "<style scoped>\n",
       "    .dataframe tbody tr th:only-of-type {\n",
       "        vertical-align: middle;\n",
       "    }\n",
       "\n",
       "    .dataframe tbody tr th {\n",
       "        vertical-align: top;\n",
       "    }\n",
       "\n",
       "    .dataframe thead th {\n",
       "        text-align: right;\n",
       "    }\n",
       "</style>\n",
       "<table border=\"1\" class=\"dataframe\">\n",
       "  <thead>\n",
       "    <tr style=\"text-align: right;\">\n",
       "      <th></th>\n",
       "      <th>Q</th>\n",
       "      <th>A</th>\n",
       "      <th>label</th>\n",
       "    </tr>\n",
       "  </thead>\n",
       "  <tbody>\n",
       "    <tr>\n",
       "      <th>5751</th>\n",
       "      <td>끝이났네</td>\n",
       "      <td>맘고생 많았어요.</td>\n",
       "      <td>1</td>\n",
       "    </tr>\n",
       "    <tr>\n",
       "      <th>6010</th>\n",
       "      <td>니가 원망스러워</td>\n",
       "      <td>맘고생 많았어요.</td>\n",
       "      <td>1</td>\n",
       "    </tr>\n",
       "    <tr>\n",
       "      <th>6455</th>\n",
       "      <td>방금 헤어지고 왔습니다</td>\n",
       "      <td>맘고생 많았어요.</td>\n",
       "      <td>1</td>\n",
       "    </tr>\n",
       "    <tr>\n",
       "      <th>7726</th>\n",
       "      <td>이제는 정말 끝</td>\n",
       "      <td>맘고생 많았어요.</td>\n",
       "      <td>1</td>\n",
       "    </tr>\n",
       "    <tr>\n",
       "      <th>8015</th>\n",
       "      <td>정리가 되네</td>\n",
       "      <td>맘고생 많았어요.</td>\n",
       "      <td>1</td>\n",
       "    </tr>\n",
       "    <tr>\n",
       "      <th>8211</th>\n",
       "      <td>진짜 끝</td>\n",
       "      <td>맘고생 많았어요.</td>\n",
       "      <td>1</td>\n",
       "    </tr>\n",
       "    <tr>\n",
       "      <th>8221</th>\n",
       "      <td>진짜 이제 안녕</td>\n",
       "      <td>맘고생 많았어요.</td>\n",
       "      <td>1</td>\n",
       "    </tr>\n",
       "    <tr>\n",
       "      <th>8234</th>\n",
       "      <td>질질 끄는연애 드디어끝이네.</td>\n",
       "      <td>맘고생 많았어요.</td>\n",
       "      <td>1</td>\n",
       "    </tr>\n",
       "    <tr>\n",
       "      <th>10303</th>\n",
       "      <td>썸남이 짝남 됐어요. 위로해 주세요.</td>\n",
       "      <td>맘고생 많았어요.</td>\n",
       "      <td>2</td>\n",
       "    </tr>\n",
       "    <tr>\n",
       "      <th>11806</th>\n",
       "      <td>혼자만 설레고 혼자서 끝내는 짝사랑 그만할래.</td>\n",
       "      <td>맘고생 많았어요.</td>\n",
       "      <td>2</td>\n",
       "    </tr>\n",
       "  </tbody>\n",
       "</table>\n",
       "</div>"
      ],
      "text/plain": [
       "                               Q          A  label\n",
       "5751                        끝이났네  맘고생 많았어요.      1\n",
       "6010                    니가 원망스러워  맘고생 많았어요.      1\n",
       "6455                방금 헤어지고 왔습니다  맘고생 많았어요.      1\n",
       "7726                    이제는 정말 끝  맘고생 많았어요.      1\n",
       "8015                      정리가 되네  맘고생 많았어요.      1\n",
       "8211                        진짜 끝  맘고생 많았어요.      1\n",
       "8221                    진짜 이제 안녕  맘고생 많았어요.      1\n",
       "8234             질질 끄는연애 드디어끝이네.  맘고생 많았어요.      1\n",
       "10303       썸남이 짝남 됐어요. 위로해 주세요.  맘고생 많았어요.      2\n",
       "11806  혼자만 설레고 혼자서 끝내는 짝사랑 그만할래.  맘고생 많았어요.      2"
      ]
     },
     "execution_count": 21,
     "metadata": {},
     "output_type": "execute_result"
    }
   ],
   "source": [
    "raw_data[raw_data['A'][11806]==raw_data['A']]"
   ]
  },
  {
   "cell_type": "markdown",
   "id": "943178b9",
   "metadata": {},
   "source": [
    "- 중복 제거"
   ]
  },
  {
   "cell_type": "code",
   "execution_count": 22,
   "id": "35e99347",
   "metadata": {
    "execution": {
     "iopub.execute_input": "2021-05-07T14:50:05.323341Z",
     "iopub.status.busy": "2021-05-07T14:50:05.323096Z",
     "iopub.status.idle": "2021-05-07T14:50:05.337495Z",
     "shell.execute_reply": "2021-05-07T14:50:05.336778Z",
     "shell.execute_reply.started": "2021-05-07T14:50:05.323312Z"
    },
    "tags": []
   },
   "outputs": [
    {
     "data": {
      "text/html": [
       "<div>\n",
       "<style scoped>\n",
       "    .dataframe tbody tr th:only-of-type {\n",
       "        vertical-align: middle;\n",
       "    }\n",
       "\n",
       "    .dataframe tbody tr th {\n",
       "        vertical-align: top;\n",
       "    }\n",
       "\n",
       "    .dataframe thead th {\n",
       "        text-align: right;\n",
       "    }\n",
       "</style>\n",
       "<table border=\"1\" class=\"dataframe\">\n",
       "  <thead>\n",
       "    <tr style=\"text-align: right;\">\n",
       "      <th></th>\n",
       "      <th>Q</th>\n",
       "      <th>A</th>\n",
       "      <th>label</th>\n",
       "    </tr>\n",
       "  </thead>\n",
       "  <tbody>\n",
       "  </tbody>\n",
       "</table>\n",
       "</div>"
      ],
      "text/plain": [
       "Empty DataFrame\n",
       "Columns: [Q, A, label]\n",
       "Index: []"
      ]
     },
     "execution_count": 22,
     "metadata": {},
     "output_type": "execute_result"
    }
   ],
   "source": [
    "raw_data = raw_data.drop_duplicates(['Q'])\n",
    "raw_data[raw_data['Q'].duplicated()]"
   ]
  },
  {
   "cell_type": "code",
   "execution_count": 23,
   "id": "1cc70456",
   "metadata": {
    "execution": {
     "iopub.execute_input": "2021-05-07T14:50:05.338843Z",
     "iopub.status.busy": "2021-05-07T14:50:05.338585Z",
     "iopub.status.idle": "2021-05-07T14:50:05.352985Z",
     "shell.execute_reply": "2021-05-07T14:50:05.352274Z",
     "shell.execute_reply.started": "2021-05-07T14:50:05.338801Z"
    }
   },
   "outputs": [
    {
     "data": {
      "text/html": [
       "<div>\n",
       "<style scoped>\n",
       "    .dataframe tbody tr th:only-of-type {\n",
       "        vertical-align: middle;\n",
       "    }\n",
       "\n",
       "    .dataframe tbody tr th {\n",
       "        vertical-align: top;\n",
       "    }\n",
       "\n",
       "    .dataframe thead th {\n",
       "        text-align: right;\n",
       "    }\n",
       "</style>\n",
       "<table border=\"1\" class=\"dataframe\">\n",
       "  <thead>\n",
       "    <tr style=\"text-align: right;\">\n",
       "      <th></th>\n",
       "      <th>Q</th>\n",
       "      <th>A</th>\n",
       "      <th>label</th>\n",
       "    </tr>\n",
       "  </thead>\n",
       "  <tbody>\n",
       "  </tbody>\n",
       "</table>\n",
       "</div>"
      ],
      "text/plain": [
       "Empty DataFrame\n",
       "Columns: [Q, A, label]\n",
       "Index: []"
      ]
     },
     "execution_count": 23,
     "metadata": {},
     "output_type": "execute_result"
    }
   ],
   "source": [
    "raw_data = raw_data.drop_duplicates(['A'])\n",
    "raw_data[raw_data['A'].duplicated()]"
   ]
  },
  {
   "cell_type": "code",
   "execution_count": 24,
   "id": "915fb7a5",
   "metadata": {
    "execution": {
     "iopub.execute_input": "2021-05-07T14:50:05.354422Z",
     "iopub.status.busy": "2021-05-07T14:50:05.354127Z",
     "iopub.status.idle": "2021-05-07T14:50:05.358453Z",
     "shell.execute_reply": "2021-05-07T14:50:05.357826Z",
     "shell.execute_reply.started": "2021-05-07T14:50:05.354386Z"
    }
   },
   "outputs": [
    {
     "data": {
      "text/plain": [
       "(7731, 3)"
      ]
     },
     "execution_count": 24,
     "metadata": {},
     "output_type": "execute_result"
    }
   ],
   "source": [
    "raw_data.shape"
   ]
  },
  {
   "cell_type": "markdown",
   "id": "568f55d1",
   "metadata": {
    "tags": []
   },
   "source": [
    "#### D. 데이터 정제 함수 정의"
   ]
  },
  {
   "cell_type": "code",
   "execution_count": 25,
   "id": "454df637",
   "metadata": {
    "execution": {
     "iopub.execute_input": "2021-05-07T14:50:05.364244Z",
     "iopub.status.busy": "2021-05-07T14:50:05.363929Z",
     "iopub.status.idle": "2021-05-07T14:50:05.368779Z",
     "shell.execute_reply": "2021-05-07T14:50:05.368057Z",
     "shell.execute_reply.started": "2021-05-07T14:50:05.364205Z"
    },
    "tags": []
   },
   "outputs": [],
   "source": [
    "def preprocess_sentence(sentence):\n",
    "    sentence = sentence.lower().strip()\n",
    "    sentence = re.sub(r\"[^a-zA-Zㄱ-ㅣ가-힣?.!,]+\", \" \", sentence)\n",
    "    sentence = re.sub(r'[\" \"]+', \" \", sentence)\n",
    "    sentence = sentence.strip()\n",
    "    return sentence"
   ]
  },
  {
   "cell_type": "markdown",
   "id": "85ba54c5",
   "metadata": {
    "tags": []
   },
   "source": [
    "#### E. 데이터 정제 및 데이터 분리"
   ]
  },
  {
   "cell_type": "code",
   "execution_count": 26,
   "id": "96c2371f",
   "metadata": {
    "execution": {
     "iopub.execute_input": "2021-05-07T14:50:05.370755Z",
     "iopub.status.busy": "2021-05-07T14:50:05.370460Z",
     "iopub.status.idle": "2021-05-07T14:50:05.374112Z",
     "shell.execute_reply": "2021-05-07T14:50:05.373524Z",
     "shell.execute_reply.started": "2021-05-07T14:50:05.370731Z"
    },
    "tags": []
   },
   "outputs": [],
   "source": [
    "def get_questions_answers(raw_data):\n",
    "    questions = [ preprocess_sentence(sentence) for sentence in raw_data['Q'].values ]\n",
    "    answers   = [ preprocess_sentence(sentence) for sentence in raw_data['A'].values ]\n",
    "    return questions, answers"
   ]
  },
  {
   "cell_type": "code",
   "execution_count": 27,
   "id": "5884361e",
   "metadata": {
    "execution": {
     "iopub.execute_input": "2021-05-07T14:50:05.375309Z",
     "iopub.status.busy": "2021-05-07T14:50:05.375101Z",
     "iopub.status.idle": "2021-05-07T14:50:05.459872Z",
     "shell.execute_reply": "2021-05-07T14:50:05.459267Z",
     "shell.execute_reply.started": "2021-05-07T14:50:05.375285Z"
    },
    "tags": []
   },
   "outputs": [],
   "source": [
    "que_corpus, ans_corpus = get_questions_answers(raw_data)"
   ]
  },
  {
   "cell_type": "code",
   "execution_count": 28,
   "id": "e404eabc",
   "metadata": {
    "execution": {
     "iopub.execute_input": "2021-05-07T14:50:05.460784Z",
     "iopub.status.busy": "2021-05-07T14:50:05.460621Z",
     "iopub.status.idle": "2021-05-07T14:50:05.465096Z",
     "shell.execute_reply": "2021-05-07T14:50:05.464389Z",
     "shell.execute_reply.started": "2021-05-07T14:50:05.460762Z"
    },
    "tags": []
   },
   "outputs": [
    {
     "name": "stdout",
     "output_type": "stream",
     "text": [
      "Q : 시 땡!\n",
      "A : 하루가 또 가네요.\n",
      "\n",
      "Q : 지망 학교 떨어졌어\n",
      "A : 위로해 드립니다.\n",
      "\n",
      "Q : 박 일 놀러가고 싶다\n",
      "A : 여행은 언제나 좋죠.\n",
      "\n",
      "Q : ppl 심하네\n",
      "A : 눈살이 찌푸려지죠.\n",
      "\n",
      "Q : sd카드 망가졌어\n",
      "A : 다시 새로 사는 게 마음 편해요.\n",
      "\n"
     ]
    }
   ],
   "source": [
    "for q, a in zip(que_corpus[:5], ans_corpus[:5]):\n",
    "    print(f'Q : {q}')\n",
    "    print(f'A : {a}\\n')"
   ]
  },
  {
   "cell_type": "markdown",
   "id": "59cc76bf",
   "metadata": {
    "tags": []
   },
   "source": [
    "### 2. 토큰화"
   ]
  },
  {
   "cell_type": "markdown",
   "id": "3ef68341",
   "metadata": {},
   "source": [
    "KoNLPy의 `mecab` 를 활용하여 토큰화를 진행하여 준다."
   ]
  },
  {
   "cell_type": "markdown",
   "id": "7f1bf059",
   "metadata": {
    "tags": []
   },
   "source": [
    "#### A. 문장 최대 길이 선정"
   ]
  },
  {
   "cell_type": "code",
   "execution_count": 29,
   "id": "fcc837ba",
   "metadata": {
    "execution": {
     "iopub.execute_input": "2021-05-07T14:50:05.466228Z",
     "iopub.status.busy": "2021-05-07T14:50:05.465931Z",
     "iopub.status.idle": "2021-05-07T14:50:05.784422Z",
     "shell.execute_reply": "2021-05-07T14:50:05.783950Z",
     "shell.execute_reply.started": "2021-05-07T14:50:05.466202Z"
    },
    "tags": []
   },
   "outputs": [
    {
     "name": "stdout",
     "output_type": "stream",
     "text": [
      "👉 문장의 평균 길이\n",
      "질문: 13.621653084982539\n",
      "답변: 15.606260509636527\n",
      "\n",
      "👉 문장의 최소 길이\n",
      "질문: 1\n",
      "답변: 1\n",
      "\n",
      "👉 문장의 최대 길이\n",
      "질문: 56\n",
      "답변: 76\n",
      "\n"
     ]
    },
    {
     "data": {
      "image/png": "[encoded data removed]",
      "text/plain": [
       "<Figure size 720x288 with 2 Axes>"
      ]
     },
     "metadata": {
      "needs_background": "light"
     },
     "output_type": "display_data"
    }
   ],
   "source": [
    "num_questions = np.array([len(s) for s in que_corpus])\n",
    "num_answers = np.array([len(s) for s in ans_corpus])\n",
    "\n",
    "print(f'👉 문장의 평균 길이')\n",
    "print(f'질문: {np.mean(num_questions)}')\n",
    "print(f'답변: {np.mean(num_answers)}\\n')\n",
    "\n",
    "print(f'👉 문장의 최소 길이')\n",
    "print(f'질문: {np.min(num_questions)}')\n",
    "print(f'답변: {np.min(num_answers)}\\n')\n",
    "\n",
    "print(f'👉 문장의 최대 길이')\n",
    "print(f'질문: {np.max(num_questions)}')\n",
    "print(f'답변: {np.max(num_answers)}\\n')\n",
    "\n",
    "fig, (ax1, ax2) = plt.subplots(1, 2, figsize=(10, 4))\n",
    "ax1.hist(num_questions)\n",
    "ax1.set_xlabel('length of samples')\n",
    "ax1.set_ylabel('number of samples')\n",
    "ax1.set_title('questions')\n",
    "\n",
    "ax2.hist(num_answers)\n",
    "ax2.set_xlabel('length of samples')\n",
    "ax2.set_ylabel('number of samples')\n",
    "ax2.set_title('answers')\n",
    "\n",
    "plt.tight_layout()\n",
    "plt.show()"
   ]
  },
  {
   "cell_type": "markdown",
   "id": "ec9b2f33",
   "metadata": {},
   "source": [
    "문장의 최대 길이는 22 정도가 적당해 보인다."
   ]
  },
  {
   "cell_type": "code",
   "execution_count": 30,
   "id": "2c3ac9fb",
   "metadata": {
    "execution": {
     "iopub.execute_input": "2021-05-07T14:50:05.785294Z",
     "iopub.status.busy": "2021-05-07T14:50:05.785128Z",
     "iopub.status.idle": "2021-05-07T14:50:05.787829Z",
     "shell.execute_reply": "2021-05-07T14:50:05.787286Z",
     "shell.execute_reply.started": "2021-05-07T14:50:05.785272Z"
    },
    "tags": []
   },
   "outputs": [],
   "source": [
    "max_len = 22 + 2 # <start> <end> 토큰길이 포함"
   ]
  },
  {
   "cell_type": "markdown",
   "id": "2ffefa43",
   "metadata": {
    "tags": []
   },
   "source": [
    "#### B. 토큰화 함수 정의"
   ]
  },
  {
   "cell_type": "code",
   "execution_count": 31,
   "id": "51003dac",
   "metadata": {
    "execution": {
     "iopub.execute_input": "2021-05-07T14:50:05.788676Z",
     "iopub.status.busy": "2021-05-07T14:50:05.788515Z",
     "iopub.status.idle": "2021-05-07T14:50:05.835511Z",
     "shell.execute_reply": "2021-05-07T14:50:05.834851Z",
     "shell.execute_reply.started": "2021-05-07T14:50:05.788654Z"
    },
    "tags": []
   },
   "outputs": [],
   "source": [
    "from konlpy.tag import Mecab\n",
    "\n",
    "def tokenize(src_corpus, tgt_corpus, max_len):\n",
    "    mecab = Mecab()\n",
    "    src_morpheme = [ mecab.morphs(sen) for sen in src_corpus ]\n",
    "    tgt_morpheme = [ mecab.morphs(sen) for sen in tgt_corpus ]\n",
    "    \n",
    "    combined_morpheme = [(src, tgt) for src, tgt in zip(src_morpheme, tgt_morpheme)\n",
    "                          if len(src) <= max_len and len(tgt) <= max_len ]\n",
    "    \n",
    "    src_morpheme = [ sen for sen, _ in combined_morpheme ]\n",
    "    tgt_morpheme = [ sen for _, sen in combined_morpheme ]\n",
    "    \n",
    "    return src_morpheme, tgt_morpheme"
   ]
  },
  {
   "cell_type": "markdown",
   "id": "e52cadab",
   "metadata": {
    "tags": []
   },
   "source": [
    "#### C. 토큰화"
   ]
  },
  {
   "cell_type": "code",
   "execution_count": 32,
   "id": "f27508d3",
   "metadata": {
    "execution": {
     "iopub.execute_input": "2021-05-07T14:50:05.836471Z",
     "iopub.status.busy": "2021-05-07T14:50:05.836303Z",
     "iopub.status.idle": "2021-05-07T14:50:06.559523Z",
     "shell.execute_reply": "2021-05-07T14:50:06.558777Z",
     "shell.execute_reply.started": "2021-05-07T14:50:05.836448Z"
    },
    "tags": []
   },
   "outputs": [],
   "source": [
    "que_corpus_tokenized, ans_corpus_tokenized = tokenize(que_corpus, ans_corpus, max_len)"
   ]
  },
  {
   "cell_type": "code",
   "execution_count": 33,
   "id": "fd168f32",
   "metadata": {
    "execution": {
     "iopub.execute_input": "2021-05-07T14:50:06.560604Z",
     "iopub.status.busy": "2021-05-07T14:50:06.560378Z",
     "iopub.status.idle": "2021-05-07T14:50:06.565450Z",
     "shell.execute_reply": "2021-05-07T14:50:06.564821Z",
     "shell.execute_reply.started": "2021-05-07T14:50:06.560568Z"
    }
   },
   "outputs": [
    {
     "name": "stdout",
     "output_type": "stream",
     "text": [
      "Q : ['시', '땡', '!']\n",
      "A : ['하루', '가', '또', '가', '네요', '.']\n",
      "\n",
      "Q : ['지망', '학교', '떨어졌', '어']\n",
      "A : ['위로', '해', '드립니다', '.']\n",
      "\n",
      "Q : ['박', '일', '놀', '러', '가', '고', '싶', '다']\n",
      "A : ['여행', '은', '언제나', '좋', '죠', '.']\n",
      "\n",
      "Q : ['ppl', '심하', '네']\n",
      "A : ['눈살', '이', '찌푸려', '지', '죠', '.']\n",
      "\n",
      "Q : ['sd', '카드', '망가졌', '어']\n",
      "A : ['다시', '새로', '사', '는', '게', '마음', '편해요', '.']\n",
      "\n"
     ]
    }
   ],
   "source": [
    "for q, a in zip(que_corpus_tokenized[:5], ans_corpus_tokenized[:5]):\n",
    "    print(f'Q : {q}')\n",
    "    print(f'A : {a}\\n')"
   ]
  },
  {
   "cell_type": "markdown",
   "id": "cd61ef57",
   "metadata": {
    "tags": []
   },
   "source": [
    "### 3. Augmentation"
   ]
  },
  {
   "cell_type": "markdown",
   "id": "62e2441d",
   "metadata": {
    "tags": []
   },
   "source": [
    "#### A. Word2Vec 모델 불러오기"
   ]
  },
  {
   "cell_type": "code",
   "execution_count": 34,
   "id": "3e37e7d8",
   "metadata": {
    "execution": {
     "iopub.execute_input": "2021-05-07T14:50:06.566454Z",
     "iopub.status.busy": "2021-05-07T14:50:06.566258Z",
     "iopub.status.idle": "2021-05-07T14:50:06.882684Z",
     "shell.execute_reply": "2021-05-07T14:50:06.882120Z",
     "shell.execute_reply.started": "2021-05-07T14:50:06.566428Z"
    },
    "tags": []
   },
   "outputs": [],
   "source": [
    "word2vec_path = data_dir_path + '/ko-Word2Vec/ko.bin'\n",
    "wv = word2vec.Word2Vec.load(word2vec_path)"
   ]
  },
  {
   "cell_type": "markdown",
   "id": "6bbd9e72",
   "metadata": {},
   "source": [
    "- 테스트"
   ]
  },
  {
   "cell_type": "code",
   "execution_count": 36,
   "id": "0add2fbd",
   "metadata": {
    "execution": {
     "iopub.execute_input": "2021-05-07T14:50:23.653367Z",
     "iopub.status.busy": "2021-05-07T14:50:23.653178Z",
     "iopub.status.idle": "2021-05-07T14:50:23.666540Z",
     "shell.execute_reply": "2021-05-07T14:50:23.665952Z",
     "shell.execute_reply.started": "2021-05-07T14:50:23.653346Z"
    },
    "tags": []
   },
   "outputs": [
    {
     "name": "stdout",
     "output_type": "stream",
     "text": [
      "from : 하루 가 또 가 네요 .\n",
      "to   : 하루 가 또 가 군요 .\n",
      "\n",
      "from : 위로 해 드립니다 .\n",
      "to   : 위로 해 드립니다 는데\n",
      "\n",
      "from : 여행 은 언제나 좋 죠 .\n",
      "to   : 여행 은 언제나 좋 죠 는데\n",
      "\n"
     ]
    }
   ],
   "source": [
    "for sample_tokens in ans_corpus_tokenized[:3]:\n",
    "    selected_tok = random.choice(sample_tokens)\n",
    "\n",
    "    result = [ wv.wv.most_similar(tok)[0][0] if tok is selected_tok else tok for tok in sample_tokens ]\n",
    "    print(f'from : {\" \".join(sample_tokens)}')\n",
    "    print(f'to   : {\" \".join(result)}\\n')"
   ]
  },
  {
   "cell_type": "markdown",
   "id": "ef60ce23",
   "metadata": {
    "execution": {
     "iopub.execute_input": "2021-05-07T10:11:15.967528Z",
     "iopub.status.busy": "2021-05-07T10:11:15.967323Z",
     "iopub.status.idle": "2021-05-07T10:11:15.970111Z",
     "shell.execute_reply": "2021-05-07T10:11:15.969462Z",
     "shell.execute_reply.started": "2021-05-07T10:11:15.967504Z"
    },
    "tags": []
   },
   "source": [
    "#### B. Lexical Substitution"
   ]
  },
  {
   "cell_type": "code",
   "execution_count": 37,
   "id": "bd39b0b8",
   "metadata": {
    "execution": {
     "iopub.execute_input": "2021-05-07T14:50:30.481412Z",
     "iopub.status.busy": "2021-05-07T14:50:30.481031Z",
     "iopub.status.idle": "2021-05-07T14:50:30.485625Z",
     "shell.execute_reply": "2021-05-07T14:50:30.485150Z",
     "shell.execute_reply.started": "2021-05-07T14:50:30.481376Z"
    },
    "tags": []
   },
   "outputs": [],
   "source": [
    "def lexical_sub(sentence_arr, wv):\n",
    "    try:\n",
    "        i = np.random.randint(len(a))\n",
    "        res = sentence_arr[::]\n",
    "        res[i] = wv.most_similar(sentence_arr[i])[0][0]\n",
    "\n",
    "    except:   # 단어장에 없는 단어\n",
    "        return None\n",
    "\n",
    "    return res"
   ]
  },
  {
   "cell_type": "code",
   "execution_count": 38,
   "id": "357d7c76",
   "metadata": {
    "execution": {
     "iopub.execute_input": "2021-05-07T14:50:30.486981Z",
     "iopub.status.busy": "2021-05-07T14:50:30.486763Z",
     "iopub.status.idle": "2021-05-07T14:50:30.525624Z",
     "shell.execute_reply": "2021-05-07T14:50:30.525031Z",
     "shell.execute_reply.started": "2021-05-07T14:50:30.486956Z"
    },
    "tags": []
   },
   "outputs": [],
   "source": [
    "def augment_corpus(src_corpus, tgt_corpus, wv):\n",
    "    new_src_corpus = []\n",
    "    new_tgt_corpus = []\n",
    "    corpus_size = len(src_corpus)\n",
    "    \n",
    "    for i in tqdm(range(corpus_size)):\n",
    "        old_src_sen = src_corpus[i]\n",
    "        old_tgt_sen = tgt_corpus[i]\n",
    "        \n",
    "        new_src_sen = lexical_sub(old_src_sen, wv)\n",
    "        new_tgt_sen = lexical_sub(old_tgt_sen, wv)\n",
    "\n",
    "        if new_src_sen :\n",
    "            new_src_corpus.append(new_src_sen)\n",
    "            new_tgt_corpus.append(old_tgt_sen)\n",
    "        \n",
    "        if new_tgt_sen:\n",
    "            new_src_corpus.append(old_src_sen)\n",
    "            new_tgt_corpus.append(new_tgt_sen)\n",
    "    \n",
    "    return new_src_corpus, new_tgt_corpus"
   ]
  },
  {
   "cell_type": "markdown",
   "id": "df53e7f7",
   "metadata": {},
   "source": [
    "- Augmentation 수행"
   ]
  },
  {
   "cell_type": "code",
   "execution_count": 39,
   "id": "3bd54ae1",
   "metadata": {
    "execution": {
     "iopub.execute_input": "2021-05-07T14:50:30.527490Z",
     "iopub.status.busy": "2021-05-07T14:50:30.527240Z",
     "iopub.status.idle": "2021-05-07T14:50:56.909913Z",
     "shell.execute_reply": "2021-05-07T14:50:56.909336Z",
     "shell.execute_reply.started": "2021-05-07T14:50:30.527456Z"
    },
    "tags": []
   },
   "outputs": [
    {
     "data": {
      "application/vnd.jupyter.widget-view+json": {
       "model_id": "968eedee258945f18cc3fe9557cf7be2",
       "version_major": 2,
       "version_minor": 0
      },
      "text/plain": [
       "  0%|          | 0/7697 [00:00<?, ?it/s]"
      ]
     },
     "metadata": {},
     "output_type": "display_data"
    }
   ],
   "source": [
    "new_que_corpus, new_ans_corpus = augment_corpus(que_corpus_tokenized, ans_corpus_tokenized, wv.wv)"
   ]
  },
  {
   "cell_type": "markdown",
   "id": "d59ad8d9",
   "metadata": {},
   "source": [
    "- Augmentation 결과 확인"
   ]
  },
  {
   "cell_type": "code",
   "execution_count": 40,
   "id": "131576dc",
   "metadata": {
    "execution": {
     "iopub.execute_input": "2021-05-07T14:50:56.911511Z",
     "iopub.status.busy": "2021-05-07T14:50:56.911143Z",
     "iopub.status.idle": "2021-05-07T14:50:56.921109Z",
     "shell.execute_reply": "2021-05-07T14:50:56.919747Z",
     "shell.execute_reply.started": "2021-05-07T14:50:56.911480Z"
    },
    "tags": []
   },
   "outputs": [
    {
     "data": {
      "text/plain": [
       "(11411, 11411)"
      ]
     },
     "execution_count": 40,
     "metadata": {},
     "output_type": "execute_result"
    }
   ],
   "source": [
    "len(new_que_corpus), len(new_ans_corpus)"
   ]
  },
  {
   "cell_type": "markdown",
   "id": "c6a7a348",
   "metadata": {},
   "source": [
    "새로 생성된 문장의 수는 13654로 기존의 문장과 합하여도 2만개가 조금 넘는 수이다. augmentation 추가로 수행하여 데이터의 수를 더 늘리도록 하자."
   ]
  },
  {
   "cell_type": "markdown",
   "id": "dd4103ba",
   "metadata": {},
   "source": [
    "- Augmentation 수행(반복)"
   ]
  },
  {
   "cell_type": "code",
   "execution_count": 41,
   "id": "c429b10d",
   "metadata": {
    "execution": {
     "iopub.execute_input": "2021-05-07T14:50:56.922485Z",
     "iopub.status.busy": "2021-05-07T14:50:56.922115Z",
     "iopub.status.idle": "2021-05-07T14:51:26.016507Z",
     "shell.execute_reply": "2021-05-07T14:51:26.015940Z",
     "shell.execute_reply.started": "2021-05-07T14:50:56.922454Z"
    },
    "tags": []
   },
   "outputs": [
    {
     "data": {
      "application/vnd.jupyter.widget-view+json": {
       "model_id": "f78c9d8ce77e4ebaba1f1fe8157c4520",
       "version_major": 2,
       "version_minor": 0
      },
      "text/plain": [
       "  0%|          | 0/7697 [00:00<?, ?it/s]"
      ]
     },
     "metadata": {},
     "output_type": "display_data"
    }
   ],
   "source": [
    "new_que_corpus_more, new_ans_corpus_more = augment_corpus(que_corpus_tokenized, \n",
    "                                                          ans_corpus_tokenized, \n",
    "                                                          wv.wv)"
   ]
  },
  {
   "cell_type": "code",
   "execution_count": 42,
   "id": "c2dce243",
   "metadata": {
    "execution": {
     "iopub.execute_input": "2021-05-07T14:51:26.018507Z",
     "iopub.status.busy": "2021-05-07T14:51:26.017386Z",
     "iopub.status.idle": "2021-05-07T14:51:26.025117Z",
     "shell.execute_reply": "2021-05-07T14:51:26.024544Z",
     "shell.execute_reply.started": "2021-05-07T14:51:26.018475Z"
    },
    "tags": []
   },
   "outputs": [
    {
     "data": {
      "text/plain": [
       "(11395, 11395)"
      ]
     },
     "execution_count": 42,
     "metadata": {},
     "output_type": "execute_result"
    }
   ],
   "source": [
    "len(new_que_corpus_more), len(new_ans_corpus_more)"
   ]
  },
  {
   "cell_type": "markdown",
   "id": "dafccf89",
   "metadata": {},
   "source": [
    "- 데이터 합치기 : 분산되어 있는 데이터를 합쳐 하나의 셋을 만든다."
   ]
  },
  {
   "cell_type": "code",
   "execution_count": 43,
   "id": "087d70bb",
   "metadata": {
    "execution": {
     "iopub.execute_input": "2021-05-07T14:51:26.027145Z",
     "iopub.status.busy": "2021-05-07T14:51:26.026007Z",
     "iopub.status.idle": "2021-05-07T14:51:26.035730Z",
     "shell.execute_reply": "2021-05-07T14:51:26.035001Z",
     "shell.execute_reply.started": "2021-05-07T14:51:26.027115Z"
    },
    "tags": []
   },
   "outputs": [],
   "source": [
    "que_corpus_augmented = que_corpus_tokenized + new_que_corpus + new_que_corpus_more\n",
    "ans_corpus_augmented = ans_corpus_tokenized + new_ans_corpus + new_ans_corpus_more"
   ]
  },
  {
   "cell_type": "code",
   "execution_count": 44,
   "id": "6fd343ac",
   "metadata": {
    "execution": {
     "iopub.execute_input": "2021-05-07T14:51:26.036904Z",
     "iopub.status.busy": "2021-05-07T14:51:26.036596Z",
     "iopub.status.idle": "2021-05-07T14:51:26.042641Z",
     "shell.execute_reply": "2021-05-07T14:51:26.042111Z",
     "shell.execute_reply.started": "2021-05-07T14:51:26.036873Z"
    },
    "tags": []
   },
   "outputs": [
    {
     "data": {
      "text/plain": [
       "(30503, 30503)"
      ]
     },
     "execution_count": 44,
     "metadata": {},
     "output_type": "execute_result"
    }
   ],
   "source": [
    "len(que_corpus_augmented), len(ans_corpus_augmented)"
   ]
  },
  {
   "cell_type": "code",
   "execution_count": 45,
   "id": "7b3d84c0",
   "metadata": {
    "execution": {
     "iopub.execute_input": "2021-05-07T14:51:26.046793Z",
     "iopub.status.busy": "2021-05-07T14:51:26.044623Z",
     "iopub.status.idle": "2021-05-07T14:51:26.056940Z",
     "shell.execute_reply": "2021-05-07T14:51:26.056368Z",
     "shell.execute_reply.started": "2021-05-07T14:51:26.046761Z"
    },
    "tags": []
   },
   "outputs": [
    {
     "name": "stdout",
     "output_type": "stream",
     "text": [
      "29642\n",
      "Q : 좋 아 하 는 애 가 좀 노 는 애 인데 좋 아 해도 돼 ?\n",
      "A : 어떤 사람 이 냐 이에 따라 다릅니다 .\n",
      "\n",
      "4252\n",
      "Q : 이별 은 냉정 할수록 좋 은 것 같 아\n",
      "A : 감정 적 일수록 더 힘들 어 지 기 만 할 거 예요 .\n",
      "\n",
      "18658\n",
      "Q : 짝 녀 나 한테 마음 이 없 는 걸까 ?\n",
      "A : 직접 대화 를 나눠 보 는 건 어떨까 요 .\n",
      "\n",
      "4652\n",
      "Q : 전 여친 헤어졌 으니 남 이 죠 ?\n",
      "A : 그렇 습니다 .\n",
      "\n",
      "29700\n",
      "Q : 좋 아 하 는 여자 사우스캐롤라이 한테 무슨 선물 을 줄까 ?\n",
      "A : 아직 은 부담 스럽 지 않 은 선물 이 좋 겠 네요 .\n",
      "\n"
     ]
    }
   ],
   "source": [
    "samples = random.sample(list(range(len(que_corpus_augmented))), 5)\n",
    "for i in samples:\n",
    "    print(i)\n",
    "    print(f'Q : {\" \".join(que_corpus_augmented[i])}')\n",
    "    print(f'A : {\" \".join(ans_corpus_augmented[i])}\\n')"
   ]
  },
  {
   "cell_type": "markdown",
   "id": "219c91a8",
   "metadata": {
    "tags": []
   },
   "source": [
    "### 4. 데이터 인코딩"
   ]
  },
  {
   "cell_type": "markdown",
   "id": "19029401",
   "metadata": {
    "tags": []
   },
   "source": [
    "#### A. 토큰 추가"
   ]
  },
  {
   "cell_type": "code",
   "execution_count": 46,
   "id": "ddd9b8a0",
   "metadata": {
    "execution": {
     "iopub.execute_input": "2021-05-07T14:51:26.059905Z",
     "iopub.status.busy": "2021-05-07T14:51:26.058313Z",
     "iopub.status.idle": "2021-05-07T14:51:26.112705Z",
     "shell.execute_reply": "2021-05-07T14:51:26.112080Z",
     "shell.execute_reply.started": "2021-05-07T14:51:26.059874Z"
    }
   },
   "outputs": [
    {
     "data": {
      "text/plain": [
       "[['<start>', '하루', '가', '또', '가', '네요', '.', '<end>'],\n",
       " ['<start>', '위로', '해', '드립니다', '.', '<end>'],\n",
       " ['<start>', '여행', '은', '언제나', '좋', '죠', '.', '<end>'],\n",
       " ['<start>', '눈살', '이', '찌푸려', '지', '죠', '.', '<end>'],\n",
       " ['<start>', '다시', '새로', '사', '는', '게', '마음', '편해요', '.', '<end>']]"
      ]
     },
     "execution_count": 46,
     "metadata": {},
     "output_type": "execute_result"
    }
   ],
   "source": [
    "start_token = ['<start>']\n",
    "end_token = ['<end>']\n",
    "ans_corpus_augmented = [ start_token + sen + end_token for sen in ans_corpus_augmented ]\n",
    "ans_corpus_augmented[:5]"
   ]
  },
  {
   "cell_type": "code",
   "execution_count": 47,
   "id": "84506793",
   "metadata": {
    "execution": {
     "iopub.execute_input": "2021-05-07T14:51:26.113605Z",
     "iopub.status.busy": "2021-05-07T14:51:26.113462Z",
     "iopub.status.idle": "2021-05-07T14:51:26.142031Z",
     "shell.execute_reply": "2021-05-07T14:51:26.141284Z",
     "shell.execute_reply.started": "2021-05-07T14:51:26.113586Z"
    }
   },
   "outputs": [],
   "source": [
    "que_corpus_augmented = [ \" \".join(sen) for sen in que_corpus_augmented ]\n",
    "ans_corpus_augmented = [ \" \".join(sen) for sen in ans_corpus_augmented ]"
   ]
  },
  {
   "cell_type": "markdown",
   "id": "810c897c",
   "metadata": {
    "heading_collapsed": "true",
    "tags": []
   },
   "source": [
    "#### B. 정수화 인코딩"
   ]
  },
  {
   "cell_type": "markdown",
   "id": "0d265dce",
   "metadata": {},
   "source": [
    "- tokenizer 생성"
   ]
  },
  {
   "cell_type": "code",
   "execution_count": 48,
   "id": "2503f46e",
   "metadata": {
    "execution": {
     "iopub.execute_input": "2021-05-07T14:51:26.143001Z",
     "iopub.status.busy": "2021-05-07T14:51:26.142825Z",
     "iopub.status.idle": "2021-05-07T14:51:26.147642Z",
     "shell.execute_reply": "2021-05-07T14:51:26.147110Z",
     "shell.execute_reply.started": "2021-05-07T14:51:26.142979Z"
    },
    "tags": []
   },
   "outputs": [
    {
     "name": "stdout",
     "output_type": "stream",
     "text": [
      "14922 - Q : 헤어진지 일 째이\n",
      "14922 - A : <start> 헤어진 하루 를 헤아리 는 거 처럼 힘든 일 은 없 을 거 예요 . <end>\n",
      "\n",
      "19326 - Q : 공황 장애 생겼 어 .\n",
      "19326 - A : <start> 꾸준히 약 먹 고 치료 해의 보 세요 . <end>\n",
      "\n",
      "10544 - Q : 집 에 빨랑 가 고 싶 다\n",
      "10544 - A : <start> 집 이 최대 죠 . <end>\n",
      "\n",
      "8967 - Q : 막말 좀 안 했 으면 좋 겠 다\n",
      "8967 - A : <start> 생각 없이 말 시키 는 사람 이 옆 에 있 나 봐요 . 무시 하 세요 . <end>\n",
      "\n",
      "14734 - Q : 헤어졌 으며 계속 연락 중\n",
      "14734 - A : <start> 제대로 헤어지 지 못했 군요 . <end>\n",
      "\n"
     ]
    }
   ],
   "source": [
    "samples = random.sample(list(range(len(que_corpus_augmented))), 5)\n",
    "for i in samples:\n",
    "    print(f'{i} - Q : {que_corpus_augmented[i]}')\n",
    "    print(f'{i} - A : {ans_corpus_augmented[i]}\\n')"
   ]
  },
  {
   "cell_type": "code",
   "execution_count": 49,
   "id": "63ff459a",
   "metadata": {
    "execution": {
     "iopub.execute_input": "2021-05-07T14:51:26.148483Z",
     "iopub.status.busy": "2021-05-07T14:51:26.148331Z",
     "iopub.status.idle": "2021-05-07T14:51:26.754261Z",
     "shell.execute_reply": "2021-05-07T14:51:26.753598Z",
     "shell.execute_reply.started": "2021-05-07T14:51:26.148463Z"
    },
    "tags": []
   },
   "outputs": [],
   "source": [
    "tokenizer = tf.keras.preprocessing.text.Tokenizer(\n",
    "                    filters=\"\",\n",
    "                    oov_token='<unk>')\n",
    "tokenizer.fit_on_texts(que_corpus_augmented + ans_corpus_augmented)\n",
    "tokenizer.index_word.update({ 0 : '<pad>'})\n",
    "index_word = tokenizer.index_word\n",
    "word_index = { w: i for i, w in index_word.items() }"
   ]
  },
  {
   "cell_type": "markdown",
   "id": "7d27f3e5",
   "metadata": {},
   "source": [
    "- vocab 확인"
   ]
  },
  {
   "cell_type": "code",
   "execution_count": 50,
   "id": "9a1a1a39",
   "metadata": {
    "execution": {
     "iopub.execute_input": "2021-05-07T14:51:26.755142Z",
     "iopub.status.busy": "2021-05-07T14:51:26.754973Z",
     "iopub.status.idle": "2021-05-07T14:51:26.760673Z",
     "shell.execute_reply": "2021-05-07T14:51:26.759927Z",
     "shell.execute_reply.started": "2021-05-07T14:51:26.755120Z"
    },
    "tags": []
   },
   "outputs": [
    {
     "data": {
      "text/plain": [
       "[(1, '<unk>'), (2, '.'), (3, '<start>'), (4, '<end>'), (5, '이')]"
      ]
     },
     "execution_count": 50,
     "metadata": {},
     "output_type": "execute_result"
    }
   ],
   "source": [
    "list(index_word.items())[:5]"
   ]
  },
  {
   "cell_type": "code",
   "execution_count": 51,
   "id": "4302778c",
   "metadata": {
    "execution": {
     "iopub.execute_input": "2021-05-07T14:51:26.761716Z",
     "iopub.status.busy": "2021-05-07T14:51:26.761447Z",
     "iopub.status.idle": "2021-05-07T14:51:26.766196Z",
     "shell.execute_reply": "2021-05-07T14:51:26.765773Z",
     "shell.execute_reply.started": "2021-05-07T14:51:26.761693Z"
    },
    "tags": []
   },
   "outputs": [
    {
     "data": {
      "text/plain": [
       "[('<unk>', 1), ('.', 2), ('<start>', 3), ('<end>', 4), ('이', 5)]"
      ]
     },
     "execution_count": 51,
     "metadata": {},
     "output_type": "execute_result"
    }
   ],
   "source": [
    "list(word_index.items())[:5]"
   ]
  },
  {
   "cell_type": "code",
   "execution_count": 52,
   "id": "6ec80398",
   "metadata": {
    "execution": {
     "iopub.execute_input": "2021-05-07T14:51:26.766996Z",
     "iopub.status.busy": "2021-05-07T14:51:26.766837Z",
     "iopub.status.idle": "2021-05-07T14:51:26.770249Z",
     "shell.execute_reply": "2021-05-07T14:51:26.769768Z",
     "shell.execute_reply.started": "2021-05-07T14:51:26.766976Z"
    },
    "tags": []
   },
   "outputs": [
    {
     "data": {
      "text/plain": [
       "7317"
      ]
     },
     "execution_count": 52,
     "metadata": {},
     "output_type": "execute_result"
    }
   ],
   "source": [
    "VOCAB_SIZE = len(index_word)\n",
    "VOCAB_SIZE"
   ]
  },
  {
   "cell_type": "markdown",
   "id": "9ffb1687",
   "metadata": {},
   "source": [
    "- 정수화 인코딩 수행"
   ]
  },
  {
   "cell_type": "code",
   "execution_count": 53,
   "id": "21df223a",
   "metadata": {
    "execution": {
     "iopub.execute_input": "2021-05-07T14:51:26.771090Z",
     "iopub.status.busy": "2021-05-07T14:51:26.770929Z",
     "iopub.status.idle": "2021-05-07T14:51:27.285773Z",
     "shell.execute_reply": "2021-05-07T14:51:27.284282Z",
     "shell.execute_reply.started": "2021-05-07T14:51:26.771069Z"
    }
   },
   "outputs": [],
   "source": [
    "enc_tensor = tokenizer.texts_to_sequences(que_corpus_augmented)\n",
    "dec_tensor = tokenizer.texts_to_sequences(ans_corpus_augmented)"
   ]
  },
  {
   "cell_type": "markdown",
   "id": "771b4409",
   "metadata": {
    "heading_collapsed": "true",
    "tags": []
   },
   "source": [
    "#### C. 패딩 삽입"
   ]
  },
  {
   "cell_type": "code",
   "execution_count": 54,
   "id": "5916f36a",
   "metadata": {
    "execution": {
     "iopub.execute_input": "2021-05-07T14:51:27.287791Z",
     "iopub.status.busy": "2021-05-07T14:51:27.287371Z",
     "iopub.status.idle": "2021-05-07T14:51:27.500107Z",
     "shell.execute_reply": "2021-05-07T14:51:27.499691Z",
     "shell.execute_reply.started": "2021-05-07T14:51:27.287735Z"
    }
   },
   "outputs": [],
   "source": [
    "enc_tensor = tf.keras.preprocessing.sequence.pad_sequences(enc_tensor, \n",
    "                                                           padding='post',\n",
    "                                                           maxlen=max_len)\n",
    "dec_tensor = tf.keras.preprocessing.sequence.pad_sequences(dec_tensor, \n",
    "                                                           padding='post',\n",
    "                                                           maxlen=max_len)"
   ]
  },
  {
   "cell_type": "code",
   "execution_count": 55,
   "id": "cccf7d39",
   "metadata": {
    "execution": {
     "iopub.execute_input": "2021-05-07T14:51:27.501017Z",
     "iopub.status.busy": "2021-05-07T14:51:27.500817Z",
     "iopub.status.idle": "2021-05-07T14:51:27.506165Z",
     "shell.execute_reply": "2021-05-07T14:51:27.505586Z",
     "shell.execute_reply.started": "2021-05-07T14:51:27.500988Z"
    }
   },
   "outputs": [
    {
     "name": "stdout",
     "output_type": "stream",
     "text": [
      "14922 - Q : [ 246   68 2001    0    0    0    0    0    0    0    0    0    0    0\n",
      "    0    0    0    0    0    0    0    0    0    0]\n",
      "14922 - A : [   3  330  301   30 1125    6   14  347  208   68   16   36    8   14\n",
      "   29    2    4    0    0    0    0    0    0    0]\n",
      "\n",
      "19326 - Q : [2806 3035  333   13    2    0    0    0    0    0    0    0    0    0\n",
      "    0    0    0    0    0    0    0    0    0    0]\n",
      "19326 - A : [   3  940  615  110   11 1713  284   19   12    2    4    0    0    0\n",
      "    0    0    0    0    0    0    0    0    0    0]\n",
      "\n",
      "10544 - Q : [ 236   27 3848    9   11   38   41    0    0    0    0    0    0    0\n",
      "    0    0    0    0    0    0    0    0    0    0]\n",
      "10544 - A : [   3  236    5 4201   35    2    4    0    0    0    0    0    0    0\n",
      "    0    0    0    0    0    0    0    0    0    0]\n",
      "\n",
      "8967 - Q : [1337   94   46   59   80   10   25   41    0    0    0    0    0    0\n",
      "    0    0    0    0    0    0    0    0    0    0]\n",
      "8967 - A : [  3  48 448  51 105   6  26   5 652  27  15  22  52   2 570   7  12   2\n",
      "   4   0   0   0   0   0]\n",
      "\n",
      "14734 - Q : [295 279 206  63 156   0   0   0   0   0   0   0   0   0   0   0   0   0\n",
      "   0   0   0   0   0   0]\n",
      "14734 - A : [   3  894  143   21 1010  243    2    4    0    0    0    0    0    0\n",
      "    0    0    0    0    0    0    0    0    0    0]\n",
      "\n"
     ]
    }
   ],
   "source": [
    "for i in samples:\n",
    "    print(f'{i} - Q : {enc_tensor[i]}')\n",
    "    print(f'{i} - A : {dec_tensor[i]}\\n')"
   ]
  },
  {
   "cell_type": "markdown",
   "id": "5f176387",
   "metadata": {
    "tags": []
   },
   "source": [
    "#### D. 테스트셋 분리"
   ]
  },
  {
   "cell_type": "code",
   "execution_count": 79,
   "id": "97dee39d",
   "metadata": {
    "execution": {
     "iopub.execute_input": "2021-05-07T14:54:15.294220Z",
     "iopub.status.busy": "2021-05-07T14:54:15.293840Z",
     "iopub.status.idle": "2021-05-07T14:54:15.308614Z",
     "shell.execute_reply": "2021-05-07T14:54:15.308017Z",
     "shell.execute_reply.started": "2021-05-07T14:54:15.294178Z"
    },
    "tags": []
   },
   "outputs": [
    {
     "data": {
      "text/plain": [
       "((30197, 24), (306, 24), (30197, 24), (306, 24))"
      ]
     },
     "execution_count": 79,
     "metadata": {},
     "output_type": "execute_result"
    }
   ],
   "source": [
    "enc_train, enc_val, dec_train, dec_val = train_test_split(enc_tensor, \n",
    "                                                          dec_tensor, \n",
    "                                                          test_size=0.01)\n",
    "enc_train.shape, enc_val.shape, dec_train.shape, dec_val.shape"
   ]
  },
  {
   "cell_type": "markdown",
   "id": "b5f1c516",
   "metadata": {},
   "source": [
    "## Step 3. 모델 정의 \n",
    "---"
   ]
  },
  {
   "cell_type": "markdown",
   "id": "eae4c0f0",
   "metadata": {
    "heading_collapsed": "true",
    "tags": []
   },
   "source": [
    "### A. Positional Encoding"
   ]
  },
  {
   "cell_type": "code",
   "execution_count": 57,
   "id": "e5f192bf",
   "metadata": {
    "execution": {
     "iopub.execute_input": "2021-05-07T14:51:27.516397Z",
     "iopub.status.busy": "2021-05-07T14:51:27.516244Z",
     "iopub.status.idle": "2021-05-07T14:51:27.520648Z",
     "shell.execute_reply": "2021-05-07T14:51:27.520160Z",
     "shell.execute_reply.started": "2021-05-07T14:51:27.516376Z"
    }
   },
   "outputs": [],
   "source": [
    "def positional_encoding(pos, d_model):\n",
    "    def cal_angle(position, i):\n",
    "        return position / np.power(10000, int(i) / d_model)\n",
    "\n",
    "    def get_posi_angle_vec(position):\n",
    "        return [cal_angle(position, i) for i in range(d_model)]\n",
    "\n",
    "    sinusoid_table = np.array([get_posi_angle_vec(pos_i) for pos_i in range(pos)])\n",
    "\n",
    "    sinusoid_table[:, 0::2] = np.sin(sinusoid_table[:, 0::2])\n",
    "    sinusoid_table[:, 1::2] = np.cos(sinusoid_table[:, 1::2])\n",
    "\n",
    "    return sinusoid_table"
   ]
  },
  {
   "cell_type": "markdown",
   "id": "42e8ba70",
   "metadata": {
    "heading_collapsed": "true",
    "tags": []
   },
   "source": [
    "### B. Masking"
   ]
  },
  {
   "cell_type": "code",
   "execution_count": 58,
   "id": "baf1b868",
   "metadata": {
    "execution": {
     "iopub.execute_input": "2021-05-07T14:51:27.521573Z",
     "iopub.status.busy": "2021-05-07T14:51:27.521412Z",
     "iopub.status.idle": "2021-05-07T14:51:27.526379Z",
     "shell.execute_reply": "2021-05-07T14:51:27.525856Z",
     "shell.execute_reply.started": "2021-05-07T14:51:27.521551Z"
    }
   },
   "outputs": [],
   "source": [
    "def generate_padding_mask(seq):\n",
    "    seq = tf.cast(tf.math.equal(seq, 0), tf.float32)\n",
    "    return seq[:, tf.newaxis, tf.newaxis, :]\n",
    "\n",
    "def generate_causality_mask(src_len, tgt_len):\n",
    "    mask = 1 - np.cumsum(np.eye(src_len, tgt_len), 0)\n",
    "    return tf.cast(mask, tf.float32)\n",
    "\n",
    "def generate_masks(src, tgt):\n",
    "    enc_mask = generate_padding_mask(src)\n",
    "    dec_mask = generate_padding_mask(tgt)\n",
    "\n",
    "    dec_causality_mask = generate_causality_mask(tgt.shape[1], tgt.shape[1])\n",
    "    dec_mask = tf.maximum(dec_mask, dec_causality_mask)\n",
    "\n",
    "    dec_enc_causality_mask = generate_causality_mask(tgt.shape[1], src.shape[1])\n",
    "    dec_enc_mask = tf.maximum(enc_mask, dec_enc_causality_mask)\n",
    "\n",
    "    return enc_mask, dec_enc_mask, dec_mask"
   ]
  },
  {
   "cell_type": "markdown",
   "id": "4cd0c0b2",
   "metadata": {
    "heading_collapsed": "true",
    "tags": []
   },
   "source": [
    "### C. Multi-head Attention"
   ]
  },
  {
   "cell_type": "code",
   "execution_count": 59,
   "id": "7dffc576",
   "metadata": {
    "execution": {
     "iopub.execute_input": "2021-05-07T14:51:27.527404Z",
     "iopub.status.busy": "2021-05-07T14:51:27.527227Z",
     "iopub.status.idle": "2021-05-07T14:51:27.535729Z",
     "shell.execute_reply": "2021-05-07T14:51:27.535259Z",
     "shell.execute_reply.started": "2021-05-07T14:51:27.527380Z"
    }
   },
   "outputs": [],
   "source": [
    "class MultiHeadAttention(tf.keras.layers.Layer):\n",
    "    def __init__(self, d_model, num_heads):\n",
    "        super(MultiHeadAttention, self).__init__()\n",
    "        self.num_heads = num_heads\n",
    "        self.d_model = d_model\n",
    "\n",
    "        self.depth = d_model // self.num_heads\n",
    "\n",
    "        self.W_q = tf.keras.layers.Dense(d_model)\n",
    "        self.W_k = tf.keras.layers.Dense(d_model)\n",
    "        self.W_v = tf.keras.layers.Dense(d_model)\n",
    "\n",
    "        self.linear = tf.keras.layers.Dense(d_model)\n",
    "\n",
    "    def scaled_dot_product_attention(self, Q, K, V, mask):\n",
    "        d_k = tf.cast(K.shape[-1], tf.float32)\n",
    "        QK = tf.matmul(Q, K, transpose_b=True)\n",
    "\n",
    "        scaled_qk = QK / tf.math.sqrt(d_k)\n",
    "\n",
    "        if mask is not None:\n",
    "            scaled_qk += (mask * -1e9)  \n",
    "\n",
    "        attentions = tf.nn.softmax(scaled_qk, axis=-1)\n",
    "        out = tf.matmul(attentions, V)\n",
    "\n",
    "        return out, attentions\n",
    "\n",
    "\n",
    "    def split_heads(self, x):\n",
    "        bsz = x.shape[0]\n",
    "        split_x = tf.reshape(x, (bsz, -1, self.num_heads, self.depth))\n",
    "        split_x = tf.transpose(split_x, perm=[0, 2, 1, 3])\n",
    "\n",
    "        return split_x\n",
    "\n",
    "    def combine_heads(self, x):\n",
    "        bsz = x.shape[0]\n",
    "        combined_x = tf.transpose(x, perm=[0, 2, 1, 3])\n",
    "        combined_x = tf.reshape(combined_x, (bsz, -1, self.d_model))\n",
    "\n",
    "        return combined_x\n",
    "\n",
    "\n",
    "    def call(self, Q, K, V, mask):\n",
    "        WQ = self.W_q(Q)\n",
    "        WK = self.W_k(K)\n",
    "        WV = self.W_v(V)\n",
    "\n",
    "        WQ_splits = self.split_heads(WQ)\n",
    "        WK_splits = self.split_heads(WK)\n",
    "        WV_splits = self.split_heads(WV)\n",
    "\n",
    "        out, attention_weights = self.scaled_dot_product_attention(\n",
    "            WQ_splits, WK_splits, WV_splits, mask)\n",
    "\n",
    "        out = self.combine_heads(out)\n",
    "        out = self.linear(out)\n",
    "\n",
    "        return out, attention_weights"
   ]
  },
  {
   "cell_type": "markdown",
   "id": "943c620f",
   "metadata": {
    "heading_collapsed": "true",
    "tags": []
   },
   "source": [
    "### D. Position-wise Feed Forward Network"
   ]
  },
  {
   "cell_type": "code",
   "execution_count": 60,
   "id": "5938b427",
   "metadata": {
    "execution": {
     "iopub.execute_input": "2021-05-07T14:51:27.536581Z",
     "iopub.status.busy": "2021-05-07T14:51:27.536412Z",
     "iopub.status.idle": "2021-05-07T14:51:27.540894Z",
     "shell.execute_reply": "2021-05-07T14:51:27.540330Z",
     "shell.execute_reply.started": "2021-05-07T14:51:27.536559Z"
    }
   },
   "outputs": [],
   "source": [
    "class PoswiseFeedForwardNet(tf.keras.layers.Layer):\n",
    "    def __init__(self, d_model, d_ff):\n",
    "        super(PoswiseFeedForwardNet, self).__init__()\n",
    "        self.d_model = d_model\n",
    "        self.d_ff = d_ff\n",
    "\n",
    "        self.fc1 = tf.keras.layers.Dense(d_ff, activation='relu')\n",
    "        self.fc2 = tf.keras.layers.Dense(d_model)\n",
    "\n",
    "    def call(self, x):\n",
    "        out = self.fc1(x)\n",
    "        out = self.fc2(out)\n",
    "\n",
    "        return out"
   ]
  },
  {
   "cell_type": "markdown",
   "id": "c7dce2a6",
   "metadata": {
    "heading_collapsed": "true",
    "tags": []
   },
   "source": [
    "### E. Encoder Layer"
   ]
  },
  {
   "cell_type": "code",
   "execution_count": 61,
   "id": "1217fbcf",
   "metadata": {
    "execution": {
     "iopub.execute_input": "2021-05-07T14:51:27.541864Z",
     "iopub.status.busy": "2021-05-07T14:51:27.541614Z",
     "iopub.status.idle": "2021-05-07T14:51:27.547875Z",
     "shell.execute_reply": "2021-05-07T14:51:27.547396Z",
     "shell.execute_reply.started": "2021-05-07T14:51:27.541834Z"
    }
   },
   "outputs": [],
   "source": [
    "class EncoderLayer(tf.keras.layers.Layer):\n",
    "    def __init__(self, d_model, n_heads, d_ff, dropout):\n",
    "        super(EncoderLayer, self).__init__()\n",
    "\n",
    "        self.enc_self_attn = MultiHeadAttention(d_model, n_heads)\n",
    "        self.ffn = PoswiseFeedForwardNet(d_model, d_ff)\n",
    "\n",
    "        self.norm_1 = tf.keras.layers.LayerNormalization(epsilon=1e-6)\n",
    "        self.norm_2 = tf.keras.layers.LayerNormalization(epsilon=1e-6)\n",
    "\n",
    "        self.do = tf.keras.layers.Dropout(dropout)\n",
    "\n",
    "    def call(self, x, mask):\n",
    "\n",
    "        \"\"\"\n",
    "        Multi-Head Attention\n",
    "        \"\"\"\n",
    "        residual = x\n",
    "        out = self.norm_1(x)\n",
    "        out, enc_attn = self.enc_self_attn(out, out, out, mask)\n",
    "        out = self.do(out)\n",
    "        out += residual\n",
    "\n",
    "        \"\"\"\n",
    "        Position-Wise Feed Forward Network\n",
    "        \"\"\"\n",
    "        residual = out\n",
    "        out = self.norm_2(out)\n",
    "        out = self.ffn(out)\n",
    "        out = self.do(out)\n",
    "        out += residual\n",
    "\n",
    "        return out, enc_attn"
   ]
  },
  {
   "cell_type": "markdown",
   "id": "e6dd2d65",
   "metadata": {
    "execution": {
     "iopub.execute_input": "2021-05-07T11:46:56.515573Z",
     "iopub.status.busy": "2021-05-07T11:46:56.515365Z",
     "iopub.status.idle": "2021-05-07T11:46:56.518054Z",
     "shell.execute_reply": "2021-05-07T11:46:56.517477Z",
     "shell.execute_reply.started": "2021-05-07T11:46:56.515549Z"
    },
    "heading_collapsed": "true",
    "tags": []
   },
   "source": [
    "### F. Decoder Layer"
   ]
  },
  {
   "cell_type": "code",
   "execution_count": 62,
   "id": "4950f439",
   "metadata": {
    "execution": {
     "iopub.execute_input": "2021-05-07T14:51:27.548753Z",
     "iopub.status.busy": "2021-05-07T14:51:27.548594Z",
     "iopub.status.idle": "2021-05-07T14:51:27.555102Z",
     "shell.execute_reply": "2021-05-07T14:51:27.554602Z",
     "shell.execute_reply.started": "2021-05-07T14:51:27.548732Z"
    }
   },
   "outputs": [],
   "source": [
    "class DecoderLayer(tf.keras.layers.Layer):\n",
    "    def __init__(self, d_model, num_heads, d_ff, dropout):\n",
    "        super(DecoderLayer, self).__init__()\n",
    "\n",
    "        self.dec_self_attn = MultiHeadAttention(d_model, num_heads)\n",
    "        self.enc_dec_attn = MultiHeadAttention(d_model, num_heads)\n",
    "\n",
    "        self.ffn = PoswiseFeedForwardNet(d_model, d_ff)\n",
    "\n",
    "        self.norm_1 = tf.keras.layers.LayerNormalization(epsilon=1e-6)\n",
    "        self.norm_2 = tf.keras.layers.LayerNormalization(epsilon=1e-6)\n",
    "        self.norm_3 = tf.keras.layers.LayerNormalization(epsilon=1e-6)\n",
    "\n",
    "        self.do = tf.keras.layers.Dropout(dropout)\n",
    "\n",
    "    def call(self, x, enc_out, causality_mask, padding_mask):\n",
    "\n",
    "        \"\"\"\n",
    "        Masked Multi-Head Attention\n",
    "        \"\"\"\n",
    "        residual = x\n",
    "        out = self.norm_1(x)\n",
    "        out, dec_attn = self.dec_self_attn(out, out, out, padding_mask)\n",
    "        out = self.do(out)\n",
    "        out += residual\n",
    "\n",
    "        \"\"\"\n",
    "        Multi-Head Attention\n",
    "        \"\"\"\n",
    "        residual = out\n",
    "        out = self.norm_2(out)\n",
    "        out, dec_enc_attn = self.dec_self_attn(out, enc_out, enc_out, causality_mask)\n",
    "        out = self.do(out)\n",
    "        out += residual\n",
    "\n",
    "        \"\"\"\n",
    "        Position-Wise Feed Forward Network\n",
    "        \"\"\"\n",
    "        residual = out\n",
    "        out = self.norm_3(out)\n",
    "        out = self.ffn(out)\n",
    "        out = self.do(out)\n",
    "        out += residual\n",
    "\n",
    "        return out, dec_attn, dec_enc_attn"
   ]
  },
  {
   "cell_type": "markdown",
   "id": "e874ab67",
   "metadata": {
    "execution": {
     "iopub.execute_input": "2021-05-07T11:47:21.939454Z",
     "iopub.status.busy": "2021-05-07T11:47:21.938395Z",
     "iopub.status.idle": "2021-05-07T11:47:21.948400Z",
     "shell.execute_reply": "2021-05-07T11:47:21.945944Z",
     "shell.execute_reply.started": "2021-05-07T11:47:21.939324Z"
    },
    "heading_collapsed": "true",
    "tags": []
   },
   "source": [
    "### G. Encoder"
   ]
  },
  {
   "cell_type": "code",
   "execution_count": 63,
   "id": "95dbfb4f",
   "metadata": {
    "execution": {
     "iopub.execute_input": "2021-05-07T14:51:27.557760Z",
     "iopub.status.busy": "2021-05-07T14:51:27.557564Z",
     "iopub.status.idle": "2021-05-07T14:51:27.562470Z",
     "shell.execute_reply": "2021-05-07T14:51:27.561956Z",
     "shell.execute_reply.started": "2021-05-07T14:51:27.557736Z"
    }
   },
   "outputs": [],
   "source": [
    "class Encoder(tf.keras.Model):\n",
    "    def __init__(self,\n",
    "                    n_layers,\n",
    "                    d_model,\n",
    "                    n_heads,\n",
    "                    d_ff,\n",
    "                    dropout):\n",
    "        super(Encoder, self).__init__()\n",
    "        self.n_layers = n_layers\n",
    "        self.enc_layers = [EncoderLayer(d_model, n_heads, d_ff, dropout) \n",
    "                        for _ in range(n_layers)]\n",
    "\n",
    "        self.do = tf.keras.layers.Dropout(dropout)\n",
    "\n",
    "    def call(self, x, mask):\n",
    "        out = x\n",
    "\n",
    "        enc_attns = list()\n",
    "        for i in range(self.n_layers):\n",
    "            out, enc_attn = self.enc_layers[i](out, mask)\n",
    "            enc_attns.append(enc_attn)\n",
    "\n",
    "        return out, enc_attns"
   ]
  },
  {
   "cell_type": "markdown",
   "id": "3438a232",
   "metadata": {
    "heading_collapsed": "true",
    "tags": []
   },
   "source": [
    "### H. Decoder"
   ]
  },
  {
   "cell_type": "code",
   "execution_count": 64,
   "id": "92e9286f",
   "metadata": {
    "execution": {
     "iopub.execute_input": "2021-05-07T14:51:27.563737Z",
     "iopub.status.busy": "2021-05-07T14:51:27.563557Z",
     "iopub.status.idle": "2021-05-07T14:51:27.568332Z",
     "shell.execute_reply": "2021-05-07T14:51:27.567861Z",
     "shell.execute_reply.started": "2021-05-07T14:51:27.563714Z"
    }
   },
   "outputs": [],
   "source": [
    "class Decoder(tf.keras.Model):\n",
    "    def __init__(self,\n",
    "                    n_layers,\n",
    "                    d_model,\n",
    "                    n_heads,\n",
    "                    d_ff,\n",
    "                    dropout):\n",
    "        super(Decoder, self).__init__()\n",
    "        self.n_layers = n_layers\n",
    "        self.dec_layers = [DecoderLayer(d_model, n_heads, d_ff, dropout) \n",
    "                            for _ in range(n_layers)]\n",
    "\n",
    "\n",
    "    def call(self, x, enc_out, causality_mask, padding_mask):\n",
    "        out = x\n",
    "\n",
    "        dec_attns = list()\n",
    "        dec_enc_attns = list()\n",
    "        for i in range(self.n_layers):\n",
    "            out, dec_attn, dec_enc_attn = \\\n",
    "            self.dec_layers[i](out, enc_out, causality_mask, padding_mask)\n",
    "\n",
    "            dec_attns.append(dec_attn)\n",
    "            dec_enc_attns.append(dec_enc_attn)\n",
    "\n",
    "        return out, dec_attns, dec_enc_attns"
   ]
  },
  {
   "cell_type": "markdown",
   "id": "731c4705",
   "metadata": {
    "heading_collapsed": "true",
    "tags": []
   },
   "source": [
    "### I. Transformer"
   ]
  },
  {
   "cell_type": "code",
   "execution_count": 65,
   "id": "dd252c25",
   "metadata": {
    "execution": {
     "iopub.execute_input": "2021-05-07T14:51:27.569305Z",
     "iopub.status.busy": "2021-05-07T14:51:27.569135Z",
     "iopub.status.idle": "2021-05-07T14:51:27.577725Z",
     "shell.execute_reply": "2021-05-07T14:51:27.577263Z",
     "shell.execute_reply.started": "2021-05-07T14:51:27.569283Z"
    },
    "tags": []
   },
   "outputs": [],
   "source": [
    "class Transformer(tf.keras.Model):\n",
    "    def __init__(self,\n",
    "                    n_layers,\n",
    "                    d_model,\n",
    "                    n_heads,\n",
    "                    d_ff,\n",
    "                    src_vocab_size,\n",
    "                    tgt_vocab_size,\n",
    "                    pos_len,\n",
    "                    dropout=0.2,\n",
    "                    shared_fc=True,\n",
    "                    shared_emb=False):\n",
    "        super(Transformer, self).__init__()\n",
    "        \n",
    "        self.d_model = tf.cast(d_model, tf.float32)\n",
    "\n",
    "        if shared_emb:\n",
    "            self.enc_emb = self.dec_emb = \\\n",
    "            tf.keras.layers.Embedding(src_vocab_size, d_model)\n",
    "        else:\n",
    "            self.enc_emb = tf.keras.layers.Embedding(src_vocab_size, d_model)\n",
    "            self.dec_emb = tf.keras.layers.Embedding(tgt_vocab_size, d_model)\n",
    "\n",
    "        self.pos_encoding = positional_encoding(pos_len, d_model)\n",
    "        self.do = tf.keras.layers.Dropout(dropout)\n",
    "\n",
    "        self.encoder = Encoder(n_layers, d_model, n_heads, d_ff, dropout)\n",
    "        self.decoder = Decoder(n_layers, d_model, n_heads, d_ff, dropout)\n",
    "\n",
    "        self.fc = tf.keras.layers.Dense(tgt_vocab_size)\n",
    "\n",
    "        self.shared_fc = shared_fc\n",
    "\n",
    "        if shared_fc:\n",
    "            self.fc.set_weights(tf.transpose(self.dec_emb.weights))\n",
    "\n",
    "    def embedding(self, emb, x):\n",
    "        seq_len = x.shape[1]\n",
    "\n",
    "        out = emb(x)\n",
    "\n",
    "        if self.shared_fc: out *= tf.math.sqrt(self.d_model)\n",
    "\n",
    "        out += self.pos_encoding[np.newaxis, ...][:, :seq_len, :]\n",
    "        out = self.do(out)\n",
    "\n",
    "        return out\n",
    "\n",
    "\n",
    "    def call(self, enc_in, dec_in, enc_mask, causality_mask, dec_mask):\n",
    "        enc_in = self.embedding(self.enc_emb, enc_in)\n",
    "        dec_in = self.embedding(self.dec_emb, dec_in)\n",
    "\n",
    "        enc_out, enc_attns = self.encoder(enc_in, enc_mask)\n",
    "\n",
    "        dec_out, dec_attns, dec_enc_attns = \\\n",
    "        self.decoder(dec_in, enc_out, causality_mask, dec_mask)\n",
    "\n",
    "        logits = self.fc(dec_out)\n",
    "\n",
    "        return logits, enc_attns, dec_attns, dec_enc_attns"
   ]
  },
  {
   "cell_type": "markdown",
   "id": "63c9ffad",
   "metadata": {},
   "source": [
    "## Step 4. 모델 훈련\n",
    "---"
   ]
  },
  {
   "cell_type": "code",
   "execution_count": 66,
   "id": "b8dd84d4",
   "metadata": {
    "execution": {
     "iopub.execute_input": "2021-05-07T14:51:27.578612Z",
     "iopub.status.busy": "2021-05-07T14:51:27.578393Z",
     "iopub.status.idle": "2021-05-07T14:51:27.581614Z",
     "shell.execute_reply": "2021-05-07T14:51:27.581113Z",
     "shell.execute_reply.started": "2021-05-07T14:51:27.578590Z"
    }
   },
   "outputs": [],
   "source": [
    "hy_1 = {\n",
    "    'n_layers' : 2,\n",
    "    'd_model' : 512,\n",
    "    'n_heads' : 8,\n",
    "    'd_ff' : 2048,\n",
    "    'src_vocab_size' : len(word_index),\n",
    "    'tgt_vocab_size' : len(word_index),\n",
    "    'pos_len' : 200,\n",
    "    'dropout' : 0.3,\n",
    "    'shared_fc' : True,\n",
    "    'shared_emb' : True\n",
    "}"
   ]
  },
  {
   "cell_type": "markdown",
   "id": "d7b03e92",
   "metadata": {
    "tags": []
   },
   "source": [
    "### 1. Optimizer"
   ]
  },
  {
   "cell_type": "markdown",
   "id": "daf53a2c",
   "metadata": {
    "tags": []
   },
   "source": [
    "#### A. Learning Rate Scheduler"
   ]
  },
  {
   "cell_type": "code",
   "execution_count": 67,
   "id": "25ca65da",
   "metadata": {
    "execution": {
     "iopub.execute_input": "2021-05-07T14:51:27.582552Z",
     "iopub.status.busy": "2021-05-07T14:51:27.582387Z",
     "iopub.status.idle": "2021-05-07T14:51:27.586306Z",
     "shell.execute_reply": "2021-05-07T14:51:27.585761Z",
     "shell.execute_reply.started": "2021-05-07T14:51:27.582531Z"
    }
   },
   "outputs": [],
   "source": [
    "class LearningRateScheduler(tf.keras.optimizers.schedules.LearningRateSchedule):\n",
    "    def __init__(self, d_model, warmup_steps=4000):\n",
    "        super(LearningRateScheduler, self).__init__()\n",
    "\n",
    "        self.d_model = d_model\n",
    "        self.warmup_steps = warmup_steps\n",
    "\n",
    "    def __call__(self, step):\n",
    "        arg1 = step ** -0.5\n",
    "        arg2 = step * (self.warmup_steps ** -1.5)\n",
    "\n",
    "        return (self.d_model ** -0.5) * tf.math.minimum(arg1, arg2)"
   ]
  },
  {
   "cell_type": "markdown",
   "id": "f9f600c2",
   "metadata": {
    "tags": []
   },
   "source": [
    "#### B. Optimizer"
   ]
  },
  {
   "cell_type": "code",
   "execution_count": 68,
   "id": "c9c026f6",
   "metadata": {
    "execution": {
     "iopub.execute_input": "2021-05-07T14:51:27.587644Z",
     "iopub.status.busy": "2021-05-07T14:51:27.587408Z",
     "iopub.status.idle": "2021-05-07T14:51:27.591669Z",
     "shell.execute_reply": "2021-05-07T14:51:27.591073Z",
     "shell.execute_reply.started": "2021-05-07T14:51:27.587613Z"
    },
    "tags": []
   },
   "outputs": [],
   "source": [
    "learning_rate = LearningRateScheduler(hy_1['d_model'])\n",
    "\n",
    "optimizer = tf.keras.optimizers.Adam(learning_rate,\n",
    "                                        beta_1=0.9,\n",
    "                                        beta_2=0.98, \n",
    "                                        epsilon=1e-9)"
   ]
  },
  {
   "cell_type": "markdown",
   "id": "6359bf9b",
   "metadata": {
    "tags": []
   },
   "source": [
    "### 2. Loss Function"
   ]
  },
  {
   "cell_type": "code",
   "execution_count": 69,
   "id": "9d268f69",
   "metadata": {
    "execution": {
     "iopub.execute_input": "2021-05-07T14:51:27.592895Z",
     "iopub.status.busy": "2021-05-07T14:51:27.592672Z",
     "iopub.status.idle": "2021-05-07T14:51:27.597681Z",
     "shell.execute_reply": "2021-05-07T14:51:27.596994Z",
     "shell.execute_reply.started": "2021-05-07T14:51:27.592865Z"
    },
    "tags": []
   },
   "outputs": [],
   "source": [
    "loss_object = tf.keras.losses.SparseCategoricalCrossentropy(\n",
    "    from_logits=True, reduction='none')\n",
    "\n",
    "def loss_function(real, pred):\n",
    "    mask = tf.math.logical_not(tf.math.equal(real, 0))\n",
    "    loss_ = loss_object(real, pred)\n",
    "\n",
    "    mask = tf.cast(mask, dtype=loss_.dtype)\n",
    "    loss_ *= mask\n",
    "\n",
    "    return tf.reduce_sum(loss_)/tf.reduce_sum(mask)"
   ]
  },
  {
   "cell_type": "markdown",
   "id": "b010a1ea",
   "metadata": {},
   "source": [
    "### 3. Train Step"
   ]
  },
  {
   "cell_type": "code",
   "execution_count": 70,
   "id": "d6bc3395",
   "metadata": {
    "execution": {
     "iopub.execute_input": "2021-05-07T14:51:27.598890Z",
     "iopub.status.busy": "2021-05-07T14:51:27.598648Z",
     "iopub.status.idle": "2021-05-07T14:51:27.605056Z",
     "shell.execute_reply": "2021-05-07T14:51:27.604357Z",
     "shell.execute_reply.started": "2021-05-07T14:51:27.598858Z"
    },
    "tags": []
   },
   "outputs": [],
   "source": [
    "@tf.function()\n",
    "def train_step(src, tgt, model, optimizer):\n",
    "    tgt_in = tgt[:, :-1]  # Decoder의 input\n",
    "    gold = tgt[:, 1:]     # Decoder의 output과 비교하기 위해 right shift를 통해 생성한 최종 타겟\n",
    "\n",
    "    enc_mask, dec_enc_mask, dec_mask = generate_masks(src, tgt_in)\n",
    "\n",
    "    with tf.GradientTape() as tape:\n",
    "        predictions, enc_attns, dec_attns, dec_enc_attns = \\\n",
    "        model(src, tgt_in, enc_mask, dec_enc_mask, dec_mask)\n",
    "        loss = loss_function(gold, predictions)\n",
    "\n",
    "    gradients = tape.gradient(loss, model.trainable_variables)    \n",
    "    optimizer.apply_gradients(zip(gradients, model.trainable_variables))\n",
    "\n",
    "    return loss, enc_attns, dec_attns, dec_enc_attns"
   ]
  },
  {
   "cell_type": "markdown",
   "id": "9fca06e5",
   "metadata": {},
   "source": [
    "### 4. Translate"
   ]
  },
  {
   "cell_type": "code",
   "execution_count": 71,
   "id": "41bee826",
   "metadata": {
    "execution": {
     "iopub.execute_input": "2021-05-07T14:51:27.606350Z",
     "iopub.status.busy": "2021-05-07T14:51:27.606114Z",
     "iopub.status.idle": "2021-05-07T14:51:27.613322Z",
     "shell.execute_reply": "2021-05-07T14:51:27.612627Z",
     "shell.execute_reply.started": "2021-05-07T14:51:27.606318Z"
    },
    "tags": []
   },
   "outputs": [],
   "source": [
    "def evaluate(sentence, model, src_tokenizer, tgt_tokenizer, bos_id, eos_id):\n",
    "    sentence = preprocess_sentence(sentence)\n",
    "    \n",
    "    mecab = Mecab()\n",
    "    pieces = mecab.morphs(sentence)\n",
    "    tokens = src_tokenizer.texts_to_sequences([\" \".join(pieces)])[0]\n",
    "\n",
    "    _input = tf.keras.preprocessing.sequence.pad_sequences([tokens],\n",
    "                                                           maxlen=enc_train.shape[-1],\n",
    "                                                           padding='post')\n",
    "    \n",
    "    ids = []\n",
    "    output = tf.expand_dims([bos_id], 0)\n",
    "    for i in range(dec_train.shape[-1]):\n",
    "        enc_padding_mask, combined_mask, dec_padding_mask = \\\n",
    "        generate_masks(_input, output)\n",
    "\n",
    "        predictions, enc_attns, dec_attns, dec_enc_attns =\\\n",
    "        model(_input, \n",
    "              output,\n",
    "              enc_padding_mask,\n",
    "              combined_mask,\n",
    "              dec_padding_mask)\n",
    "\n",
    "        predicted_id = \\\n",
    "        tf.argmax(tf.math.softmax(predictions, axis=-1)[0, -1]).numpy().item()\n",
    "\n",
    "        if eos_id == predicted_id:\n",
    "            result = tgt_tokenizer.sequences_to_texts([ids])\n",
    "            return pieces, result, enc_attns, dec_attns, dec_enc_attns\n",
    "\n",
    "        ids.append(predicted_id)\n",
    "        output = tf.concat([output, tf.expand_dims([predicted_id], 0)], axis=-1)\n",
    "\n",
    "    result = tgt_tokenizer.sequences_to_texts([ids])[0]\n",
    "\n",
    "    return pieces, result, enc_attns, dec_attns, dec_enc_attns"
   ]
  },
  {
   "cell_type": "code",
   "execution_count": 72,
   "id": "ba5840b5",
   "metadata": {
    "execution": {
     "iopub.execute_input": "2021-05-07T14:51:27.614417Z",
     "iopub.status.busy": "2021-05-07T14:51:27.614231Z",
     "iopub.status.idle": "2021-05-07T14:51:27.618058Z",
     "shell.execute_reply": "2021-05-07T14:51:27.617449Z",
     "shell.execute_reply.started": "2021-05-07T14:51:27.614393Z"
    },
    "tags": []
   },
   "outputs": [],
   "source": [
    "def translate(sentence, model, src_tokenizer, tgt_tokenizer, bos_id, eos_id):\n",
    "    pieces, result, enc_attns, dec_attns, dec_enc_attns = evaluate(sentence, \n",
    "                                                                   model, \n",
    "                                                                   src_tokenizer, \n",
    "                                                                   tgt_tokenizer,\n",
    "                                                                   bos_id,\n",
    "                                                                   eos_id)\n",
    "    print(f'🗣 : {sentence}')\n",
    "    print(f'🤖 : {result[0]}\\n')\n",
    "    return result"
   ]
  },
  {
   "cell_type": "markdown",
   "id": "36254c51",
   "metadata": {},
   "source": [
    "### 5. Train"
   ]
  },
  {
   "cell_type": "code",
   "execution_count": 73,
   "id": "e154e249",
   "metadata": {
    "execution": {
     "iopub.execute_input": "2021-05-07T14:51:27.618922Z",
     "iopub.status.busy": "2021-05-07T14:51:27.618751Z",
     "iopub.status.idle": "2021-05-07T14:51:27.625595Z",
     "shell.execute_reply": "2021-05-07T14:51:27.624954Z",
     "shell.execute_reply.started": "2021-05-07T14:51:27.618901Z"
    },
    "tags": []
   },
   "outputs": [],
   "source": [
    "def train(transformer, optimizer, enc_train, dec_train, \n",
    "          enc_tokenizer, dec_tokenizer, \n",
    "          samples, sampling_period=5, BATCH_SIZE=256, EPOCHS=20,\n",
    "          bos_id=3, eos_id=4):\n",
    "    losses = []\n",
    "    for epoch in range(EPOCHS):\n",
    "        total_loss = 0\n",
    "\n",
    "        idx_list = list(range(0, enc_train.shape[0], BATCH_SIZE))\n",
    "        random.shuffle(idx_list)\n",
    "        t = tqdm(idx_list)\n",
    "\n",
    "        for (batch, idx) in enumerate(t):\n",
    "            batch_loss, enc_attns, dec_attns, dec_enc_attns = \\\n",
    "            train_step(enc_train[idx:idx+BATCH_SIZE],\n",
    "                        dec_train[idx:idx+BATCH_SIZE],\n",
    "                        transformer,\n",
    "                        optimizer)\n",
    "\n",
    "            total_loss += batch_loss\n",
    "\n",
    "            t.set_description_str('Epoch %2d' % (epoch + 1))\n",
    "            t.set_postfix_str('Loss %.4f' % (total_loss.numpy() / (batch + 1)))\n",
    "            \n",
    "        if (epoch + 1) % sampling_period == 0:\n",
    "            print(f'[EPOCH = {epoch+1}]')\n",
    "            \n",
    "            for sample in samples:\n",
    "                translate(sample, transformer, enc_tokenizer, dec_tokenizer,\n",
    "                          bos_id, eos_id)\n",
    "                \n",
    "        losses.append(total_loss.numpy())\n",
    "    return losses"
   ]
  },
  {
   "cell_type": "markdown",
   "id": "1dd1c1a7",
   "metadata": {},
   "source": [
    "### 6. 학습 결과 출력 함수"
   ]
  },
  {
   "cell_type": "code",
   "execution_count": 74,
   "id": "84c529c6",
   "metadata": {
    "execution": {
     "iopub.execute_input": "2021-05-07T14:51:27.626498Z",
     "iopub.status.busy": "2021-05-07T14:51:27.626320Z",
     "iopub.status.idle": "2021-05-07T14:51:27.629723Z",
     "shell.execute_reply": "2021-05-07T14:51:27.629123Z",
     "shell.execute_reply.started": "2021-05-07T14:51:27.626476Z"
    },
    "tags": []
   },
   "outputs": [],
   "source": [
    "def show_train_loss(losses):\n",
    "    fig, ax = plt.subplots(1, 1, figsize=(10, 5))\n",
    "    ax.plot(losses)\n",
    "    ax.set_title('Traina loss', fontsize=15)\n",
    "    plt.show()"
   ]
  },
  {
   "cell_type": "code",
   "execution_count": 75,
   "id": "99e62fab",
   "metadata": {
    "execution": {
     "iopub.execute_input": "2021-05-07T14:51:27.630554Z",
     "iopub.status.busy": "2021-05-07T14:51:27.630397Z",
     "iopub.status.idle": "2021-05-07T14:51:27.635322Z",
     "shell.execute_reply": "2021-05-07T14:51:27.634726Z",
     "shell.execute_reply.started": "2021-05-07T14:51:27.630534Z"
    },
    "tags": []
   },
   "outputs": [],
   "source": [
    "def print_result(model, src_tokenizer, tgt_tokenizer, sentences,\n",
    "                n_layers=2, d_model=512, n_heads=8, d_ff=2048, dropout=0.1,\n",
    "                warmup_steps=4000, batch_size=256, epochs=20):\n",
    "    \n",
    "    print(\"Translations\")\n",
    "    for i, sentence in enumerate(sentences):\n",
    "        pieces, result, enc_attns, dec_attns, dec_enc_attns = \\\n",
    "            evaluate(sentence, model, src_tokenizer, tgt_tokenizer)\n",
    "        print(f\"> {i+1}. {result}\")\n",
    "    \n",
    "    print()\n",
    "    print('Hyperparameters')\n",
    "    print(f'> n_layers: {n_layers}')\n",
    "    print(f'> d_model: {d_model}')\n",
    "    print(f'> n_heads: {n_heads}')\n",
    "    print(f'> d_ff: {d_ff}')\n",
    "    print(f'> dropout: {dropout}')\n",
    "    \n",
    "    print()\n",
    "    print('Training Parameters')\n",
    "    print(f'> Warmup Steps: {warmup_steps}')\n",
    "    print(f'> Batch Size: {batch_size}')\n",
    "    print(f'> Epoch At: {epochs}')"
   ]
  },
  {
   "cell_type": "markdown",
   "id": "e089e099",
   "metadata": {},
   "source": [
    "### 6. 모델 훈련"
   ]
  },
  {
   "cell_type": "code",
   "execution_count": 76,
   "id": "67bea939",
   "metadata": {
    "execution": {
     "iopub.execute_input": "2021-05-07T14:51:27.636427Z",
     "iopub.status.busy": "2021-05-07T14:51:27.636192Z",
     "iopub.status.idle": "2021-05-07T14:51:27.639139Z",
     "shell.execute_reply": "2021-05-07T14:51:27.638628Z",
     "shell.execute_reply.started": "2021-05-07T14:51:27.636404Z"
    },
    "tags": []
   },
   "outputs": [],
   "source": [
    "examples = [\n",
    "    '지루하다, 놀러가고 싶어.',\n",
    "    '오늘 일찍 일어났더니 피곤하다.',\n",
    "    '간만에 여자친구랑 데이트 하기로 했어.',\n",
    "    '집에 있는다는 소리야.',\n",
    "]"
   ]
  },
  {
   "cell_type": "code",
   "execution_count": 77,
   "id": "556c63a2",
   "metadata": {
    "execution": {
     "iopub.execute_input": "2021-05-07T14:51:27.640050Z",
     "iopub.status.busy": "2021-05-07T14:51:27.639885Z",
     "iopub.status.idle": "2021-05-07T14:51:27.924277Z",
     "shell.execute_reply": "2021-05-07T14:51:27.923662Z",
     "shell.execute_reply.started": "2021-05-07T14:51:27.640029Z"
    },
    "tags": []
   },
   "outputs": [],
   "source": [
    "transformer_1 = Transformer(**hy_1)\n",
    "optimizer = tf.keras.optimizers.Adam(learning_rate,\n",
    "                                        beta_1=0.9,\n",
    "                                        beta_2=0.98, \n",
    "                                        epsilon=1e-9)"
   ]
  },
  {
   "cell_type": "code",
   "execution_count": null,
   "id": "fd3db9e0",
   "metadata": {
    "execution": {
     "iopub.execute_input": "2021-05-07T14:54:27.782923Z",
     "iopub.status.busy": "2021-05-07T14:54:27.782627Z"
    },
    "tags": []
   },
   "outputs": [
    {
     "data": {
      "application/vnd.jupyter.widget-view+json": {
       "model_id": "213ed8a0e78d4e02a40eeefdb88b9f37",
       "version_major": 2,
       "version_minor": 0
      },
      "text/plain": [
       "  0%|          | 0/118 [00:00<?, ?it/s]"
      ]
     },
     "metadata": {},
     "output_type": "display_data"
    },
    {
     "data": {
      "application/vnd.jupyter.widget-view+json": {
       "model_id": "a0b4b224bff04d7999bcc7cda51c3b7f",
       "version_major": 2,
       "version_minor": 0
      },
      "text/plain": [
       "  0%|          | 0/118 [00:00<?, ?it/s]"
      ]
     },
     "metadata": {},
     "output_type": "display_data"
    },
    {
     "data": {
      "application/vnd.jupyter.widget-view+json": {
       "model_id": "6abb252a71ea42bb953aaac40f8ade58",
       "version_major": 2,
       "version_minor": 0
      },
      "text/plain": [
       "  0%|          | 0/118 [00:00<?, ?it/s]"
      ]
     },
     "metadata": {},
     "output_type": "display_data"
    },
    {
     "data": {
      "application/vnd.jupyter.widget-view+json": {
       "model_id": "e47a0023b9624ed2a036691766428ca0",
       "version_major": 2,
       "version_minor": 0
      },
      "text/plain": [
       "  0%|          | 0/118 [00:00<?, ?it/s]"
      ]
     },
     "metadata": {},
     "output_type": "display_data"
    },
    {
     "data": {
      "application/vnd.jupyter.widget-view+json": {
       "model_id": "3cf6f1fbc2fe4a93a1775227204146a3",
       "version_major": 2,
       "version_minor": 0
      },
      "text/plain": [
       "  0%|          | 0/118 [00:00<?, ?it/s]"
      ]
     },
     "metadata": {},
     "output_type": "display_data"
    },
    {
     "name": "stdout",
     "output_type": "stream",
     "text": [
      "[EPOCH = 5]\n",
      "🗣 : 지루하다, 놀러가고 싶어.\n",
      "🤖 : 마음 이 잘 마무리 해 보 세요 .\n",
      "\n",
      "🗣 : 오늘 일찍 일어났더니 피곤하다.\n",
      "🤖 : 하나 씩 노래 나 봐요 .\n",
      "\n",
      "🗣 : 간만에 여자친구랑 데이트 하기로 했어.\n",
      "🤖 : 좋 은 소식 이 었 으면 좋 아요 .\n",
      "\n",
      "🗣 : 집에 있는다는 소리야.\n",
      "🤖 : 저 에게 말 해 주 세요 .\n",
      "\n"
     ]
    },
    {
     "data": {
      "application/vnd.jupyter.widget-view+json": {
       "model_id": "ad457ab15b03411591689181e2c71b62",
       "version_major": 2,
       "version_minor": 0
      },
      "text/plain": [
       "  0%|          | 0/118 [00:00<?, ?it/s]"
      ]
     },
     "metadata": {},
     "output_type": "display_data"
    },
    {
     "data": {
      "application/vnd.jupyter.widget-view+json": {
       "model_id": "5b6e16ba65c04873aaf9d76a5175bde7",
       "version_major": 2,
       "version_minor": 0
      },
      "text/plain": [
       "  0%|          | 0/118 [00:00<?, ?it/s]"
      ]
     },
     "metadata": {},
     "output_type": "display_data"
    }
   ],
   "source": [
    "losses_1 = train(transformer_1, optimizer, enc_train, dec_train, \n",
    "                 tokenizer, tokenizer,\n",
    "                 examples, 5, 256, 10,\n",
    "                 word_index['<start>'], word_index['<end>'])\n",
    "show_train_loss(losses_1)"
   ]
  },
  {
   "cell_type": "code",
   "execution_count": null,
   "id": "13e0f927",
   "metadata": {},
   "outputs": [],
   "source": []
  },
  {
   "cell_type": "code",
   "execution_count": null,
   "id": "3ae4d12e",
   "metadata": {},
   "outputs": [],
   "source": []
  },
  {
   "cell_type": "code",
   "execution_count": null,
   "id": "4467c0e3",
   "metadata": {},
   "outputs": [],
   "source": []
  },
  {
   "cell_type": "markdown",
   "id": "49b3f81c",
   "metadata": {},
   "source": [
    "## Step 5. 모델 평가\n",
    "---"
   ]
  },
  {
   "cell_type": "markdown",
   "id": "c48c11de",
   "metadata": {},
   "source": [
    "### 1. BLEU Score"
   ]
  },
  {
   "cell_type": "code",
   "execution_count": null,
   "id": "019de628",
   "metadata": {
    "execution": {
     "iopub.status.busy": "2021-05-07T14:54:03.761685Z",
     "iopub.status.idle": "2021-05-07T14:54:03.762114Z",
     "shell.execute_reply": "2021-05-07T14:54:03.761934Z"
    },
    "tags": []
   },
   "outputs": [],
   "source": [
    "from nltk.translate.bleu_score import sentence_bleu\n",
    "from nltk.translate.bleu_score import SmoothingFunction\n",
    "\n",
    "def calculate_bleu(reference, candidate, weights=[0.25, 0.25, 0.25, 0.25]):\n",
    "    return sentence_bleu([reference],\n",
    "                         candidate,\n",
    "                         weights=weights,\n",
    "                         smoothing_function=SmoothingFunction().method1)"
   ]
  },
  {
   "cell_type": "markdown",
   "id": "67b6838e",
   "metadata": {},
   "source": [
    "### 2. 성능 측정"
   ]
  },
  {
   "cell_type": "code",
   "execution_count": null,
   "id": "697bc2ec",
   "metadata": {
    "execution": {
     "iopub.status.busy": "2021-05-07T14:54:03.765660Z",
     "iopub.status.idle": "2021-05-07T14:54:03.766076Z",
     "shell.execute_reply": "2021-05-07T14:54:03.765876Z"
    },
    "tags": []
   },
   "outputs": [],
   "source": [
    "def validate(model, enc_val, dec_val, tokenizer):\n",
    "    _remove_pad = lambda x: x[:np.where(x == 0)[0][0]] if len(np.where(x == 0)[0]) else x\n",
    "    _decode = lambda x: tokenizer.sequences_to_texts([_remove_pad(x)])[0]\n",
    "    \n",
    "    total_score = 0\n",
    "\n",
    "    for i in tqdm(range(len(enc_val))):\n",
    "        enc = enc_val[i][1:-2]\n",
    "        dec = dec_val[i]\n",
    "        \n",
    "        enc_text = _decode(enc)\n",
    "        \n",
    "        pieces, candidate, _, _, _ = evaluate(enc_text, model, tokenizer, tokenizer, 3, 4)\n",
    "        \n",
    "        reference = _decode(dec).split()[1:]\n",
    "        reference = reference[:-1]\n",
    "        candidate = candidate[0].split()\n",
    "        bleu = calculate_bleu(reference, candidate)\n",
    "\n",
    "        \n",
    "        total_score += bleu\n",
    "    \n",
    "    return total_score / len(enc_val)"
   ]
  },
  {
   "cell_type": "code",
   "execution_count": null,
   "id": "feb15a7d",
   "metadata": {
    "execution": {
     "iopub.status.busy": "2021-05-07T14:54:03.767133Z",
     "iopub.status.idle": "2021-05-07T14:54:03.767511Z",
     "shell.execute_reply": "2021-05-07T14:54:03.767320Z"
    },
    "tags": []
   },
   "outputs": [],
   "source": [
    "validate(transformer_1, enc_val, dec_val, tokenizer)"
   ]
  },
  {
   "cell_type": "markdown",
   "id": "7896654b",
   "metadata": {},
   "source": [
    "## Step 7. 결론\n",
    "---"
   ]
  },
  {
   "cell_type": "markdown",
   "id": "d9efc433",
   "metadata": {},
   "source": [
    "### 프로젝트 평가"
   ]
  },
  {
   "cell_type": "markdown",
   "id": "dabcabb9",
   "metadata": {},
   "source": [
    "1. 챗봇 훈련데이터 전처리 과정이 체계적으로 진행되었는가?<br>챗봇 훈련데이터를 위한 전처리와 augmentation이 적절히 수행되어 3만개 가량의 훈련데이터셋이 구축되었다.\n",
    "    - 전처리 이후 최종적으로 30197개의 train 데이터와 306개의 validation 데이터를 구축하였다.\n",
    "2. transformer 모델을 활용한 챗봇 모델이 과적합을 피해 안정적으로 훈련되었는가?<br>과적합을 피할 수 있는 하이퍼파라미터 셋이 적절히 제시되었다.\n",
    "    - loss가 안정적으로 감소하였다.\n",
    "3. 챗봇이 사용자의 질문에 그럴듯한 형태로 답하는 사례가 있는가?<br>주어진 예문을 포함하여 챗봇에 던진 질문에 적절히 답하는 사례가 제출되었다."
   ]
  },
  {
   "cell_type": "code",
   "execution_count": null,
   "id": "9b0d0b68",
   "metadata": {},
   "outputs": [],
   "source": []
  }
 ],
 "metadata": {
  "kernelspec": {
   "display_name": "Python 3",
   "language": "python",
   "name": "python3"
  },
  "language_info": {
   "codemirror_mode": {
    "name": "ipython",
    "version": 3
   },
   "file_extension": ".py",
   "mimetype": "text/x-python",
   "name": "python",
   "nbconvert_exporter": "python",
   "pygments_lexer": "ipython3",
   "version": "3.7.10"
  }
 },
 "nbformat": 4,
 "nbformat_minor": 5
}
