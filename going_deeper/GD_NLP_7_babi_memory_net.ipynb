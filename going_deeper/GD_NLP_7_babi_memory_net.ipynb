{
 "cells": [
  {
   "cell_type": "markdown",
   "id": "4c84531e",
   "metadata": {},
   "source": [
    "# 한국어 QA 모델 만들기\n",
    "---"
   ]
  },
  {
   "cell_type": "code",
   "execution_count": 1,
   "id": "01fe9627",
   "metadata": {
    "execution": {
     "iopub.execute_input": "2021-05-10T01:48:12.985097Z",
     "iopub.status.busy": "2021-05-10T01:48:12.984820Z",
     "iopub.status.idle": "2021-05-10T01:48:14.686797Z",
     "shell.execute_reply": "2021-05-10T01:48:14.686114Z",
     "shell.execute_reply.started": "2021-05-10T01:48:12.985009Z"
    },
    "tags": []
   },
   "outputs": [],
   "source": [
    "from tensorflow.keras.utils import get_file\n",
    "from tensorflow.keras.preprocessing.sequence import pad_sequences\n",
    "from tensorflow.keras.utils import to_categorical\n",
    "import numpy as np\n",
    "import tarfile\n",
    "from nltk import FreqDist\n",
    "from functools import reduce\n",
    "import os\n",
    "import re\n",
    "\n",
    "from tqdm import tqdm"
   ]
  },
  {
   "cell_type": "code",
   "execution_count": 2,
   "id": "60dcd26b",
   "metadata": {
    "execution": {
     "iopub.execute_input": "2021-05-10T01:48:14.687985Z",
     "iopub.status.busy": "2021-05-10T01:48:14.687724Z",
     "iopub.status.idle": "2021-05-10T01:48:15.196868Z",
     "shell.execute_reply": "2021-05-10T01:48:15.196302Z",
     "shell.execute_reply.started": "2021-05-10T01:48:14.687959Z"
    }
   },
   "outputs": [
    {
     "name": "stdout",
     "output_type": "stream",
     "text": [
      "1 Physical GPUs, 1 Logical GPUs\n",
      "\n",
      "\n"
     ]
    }
   ],
   "source": [
    "# initialization gpu ########################################################\n",
    "import tensorflow as tf\n",
    "def init_gpu():\n",
    "    gpus = tf.config.experimental.list_physical_devices('GPU')\n",
    "    if gpus:\n",
    "        try:\n",
    "            # Currently, memory growth needs to be the same across GPUs\n",
    "            for gpu in gpus:\n",
    "                tf.config.experimental.set_memory_growth(gpu, True)\n",
    "            logical_gpus = tf.config.experimental.list_logical_devices('GPU')\n",
    "            print(len(gpus), \"Physical GPUs,\", len(logical_gpus), \"Logical GPUs\\n\\n\")\n",
    "        except RuntimeError as e:\n",
    "            # Memory growth must be set before GPUs have been initialized\n",
    "            print(e, \"\\n\\n\")\n",
    "        \n",
    "init_gpu()"
   ]
  },
  {
   "cell_type": "markdown",
   "id": "0b982fbd",
   "metadata": {},
   "source": [
    "## Step 1. 데이터 다운로드\n",
    "---"
   ]
  },
  {
   "cell_type": "markdown",
   "id": "45071eea",
   "metadata": {},
   "source": [
    "- 압축풀기"
   ]
  },
  {
   "cell_type": "code",
   "execution_count": 3,
   "id": "696361e5",
   "metadata": {
    "execution": {
     "iopub.execute_input": "2021-05-10T01:48:15.197576Z",
     "iopub.status.busy": "2021-05-10T01:48:15.197424Z",
     "iopub.status.idle": "2021-05-10T01:48:15.207306Z",
     "shell.execute_reply": "2021-05-10T01:48:15.206655Z",
     "shell.execute_reply.started": "2021-05-10T01:48:15.197556Z"
    },
    "tags": []
   },
   "outputs": [],
   "source": [
    "# !unzip data/e-28-korean.zip -d data/e-28-korean"
   ]
  },
  {
   "cell_type": "markdown",
   "id": "272eb3a0",
   "metadata": {},
   "source": [
    "- 경로지정"
   ]
  },
  {
   "cell_type": "code",
   "execution_count": 4,
   "id": "040b1345",
   "metadata": {
    "execution": {
     "iopub.execute_input": "2021-05-10T01:48:15.208078Z",
     "iopub.status.busy": "2021-05-10T01:48:15.207918Z",
     "iopub.status.idle": "2021-05-10T01:48:15.210922Z",
     "shell.execute_reply": "2021-05-10T01:48:15.210484Z",
     "shell.execute_reply.started": "2021-05-10T01:48:15.208057Z"
    },
    "tags": []
   },
   "outputs": [],
   "source": [
    "home_dir = os.getenv('HOME')+'/workspace/aiffel-gd-nlp/GD14_babi_memory_net'\n",
    "DATA_DIR = home_dir + '/data/e-28-korean'\n",
    "TRAIN_FILE = os.path.join(DATA_DIR, \"qa1_single-supporting-fact_train_kor.txt\")\n",
    "TEST_FILE = os.path.join(DATA_DIR, \"qa1_single-supporting-fact_test_kor.txt\")"
   ]
  },
  {
   "cell_type": "markdown",
   "id": "f871e72d",
   "metadata": {},
   "source": [
    "- 데이터 확인"
   ]
  },
  {
   "cell_type": "code",
   "execution_count": 5,
   "id": "cec43f9a",
   "metadata": {
    "execution": {
     "iopub.execute_input": "2021-05-10T01:48:15.211823Z",
     "iopub.status.busy": "2021-05-10T01:48:15.211665Z",
     "iopub.status.idle": "2021-05-10T01:48:15.216004Z",
     "shell.execute_reply": "2021-05-10T01:48:15.215571Z",
     "shell.execute_reply.started": "2021-05-10T01:48:15.211802Z"
    },
    "tags": []
   },
   "outputs": [
    {
     "name": "stdout",
     "output_type": "stream",
     "text": [
      "1 필웅이는 화장실로 갔습니다.\n",
      "2 은경이는 복도로 이동했습니다.\n",
      "3 필웅이는 어디야? \t화장실\t1\n",
      "4 수종이는 복도로 복귀했습니다.\n",
      "5 경임이는 정원으로 갔습니다.\n",
      "6 수종이는 어디야? \t복도\t4\n",
      "7 은경이는 사무실로 갔습니다.\n",
      "8 경임이는 화장실로 뛰어갔습니다.\n",
      "9 수종이는 어디야? \t복도\t4\n",
      "10 필웅이는 복도로 갔습니다.\n",
      "11 수종이는 사무실로 가버렸습니다.\n",
      "12 수종이는 어디야? \t사무실\t11\n",
      "13 은경이는 정원으로 복귀했습니다.\n",
      "14 은경이는 침실로 갔습니다.\n",
      "15 경임이는 어디야? \t화장실\t8\n",
      "1 경임이는 사무실로 가버렸습니다.\n",
      "2 경임이는 화장실로 이동했습니다.\n",
      "3 경임이는 어디야? \t화장실\t2\n",
      "4 필웅이는 침실로 이동했습니다.\n",
      "5 수종이는 복도로 갔습니다.\n",
      "6 경임이는 어디야? \t화장실\t2\n"
     ]
    }
   ],
   "source": [
    "i = 0\n",
    "lines = open(TRAIN_FILE , \"rb\")\n",
    "for i, line in enumerate(lines):\n",
    "    line = line.decode(\"utf-8\").strip()\n",
    "    print(line)\n",
    "    if i == 20:\n",
    "        break"
   ]
  },
  {
   "cell_type": "markdown",
   "id": "7d4e3f1a",
   "metadata": {},
   "source": [
    "## Step 2. 데이터 전처리\n",
    "---"
   ]
  },
  {
   "cell_type": "markdown",
   "id": "2659f407",
   "metadata": {},
   "source": [
    "### 1. 데이터 불러오기"
   ]
  },
  {
   "cell_type": "markdown",
   "id": "79c525f1",
   "metadata": {},
   "source": [
    "- 데이터를 읽어들여 스토리/질문/답변으로 분리한다."
   ]
  },
  {
   "cell_type": "code",
   "execution_count": 6,
   "id": "da8e6776",
   "metadata": {
    "execution": {
     "iopub.execute_input": "2021-05-10T01:48:15.216824Z",
     "iopub.status.busy": "2021-05-10T01:48:15.216669Z",
     "iopub.status.idle": "2021-05-10T01:48:15.221499Z",
     "shell.execute_reply": "2021-05-10T01:48:15.221039Z",
     "shell.execute_reply.started": "2021-05-10T01:48:15.216803Z"
    },
    "tags": []
   },
   "outputs": [],
   "source": [
    "def read_data(dir):\n",
    "    stories, questions, answers = [], [], [] # 각각 스토리, 질문, 답변을 저장할 예정\n",
    "    story_temp = [] # 현재 시점의 스토리 임시 저장\n",
    "    lines = open(dir, \"rb\")\n",
    "\n",
    "    for line in lines:\n",
    "        line = line.decode(\"utf-8\") # b' 제거\n",
    "        line = line.strip() # '\\n' 제거\n",
    "        idx, text = line.split(\" \", 1) # 맨 앞에 있는 id number 분리\n",
    "        # 여기까지는 모든 줄에 적용되는 전처리\n",
    "\n",
    "        if int(idx) == 1:\n",
    "            story_temp = []\n",
    "        \n",
    "        if \"\\t\" in text: # 현재 읽는 줄이 질문 (tab) 답변 (tab)인 경우\n",
    "            question, answer, _ = text.split(\"\\t\") # 질문과 답변을 각각 저장\n",
    "            stories.append([x for x in story_temp if x]) # 지금까지의 누적 스토리를 스토리에 저장\n",
    "            questions.append(question)\n",
    "            answers.append(answer)\n",
    "\n",
    "        else: # 현재 읽는 줄이 스토리인 경우\n",
    "            story_temp.append(text) # 임시 저장\n",
    "\n",
    "    lines.close()\n",
    "    return stories, questions, answers"
   ]
  },
  {
   "cell_type": "code",
   "execution_count": 7,
   "id": "4fdc9f61",
   "metadata": {
    "execution": {
     "iopub.execute_input": "2021-05-10T01:48:15.223184Z",
     "iopub.status.busy": "2021-05-10T01:48:15.223023Z",
     "iopub.status.idle": "2021-05-10T01:48:15.267217Z",
     "shell.execute_reply": "2021-05-10T01:48:15.266739Z",
     "shell.execute_reply.started": "2021-05-10T01:48:15.223162Z"
    }
   },
   "outputs": [],
   "source": [
    "train_data = read_data(TRAIN_FILE)\n",
    "test_data = read_data(TEST_FILE)"
   ]
  },
  {
   "cell_type": "code",
   "execution_count": 8,
   "id": "baa10675",
   "metadata": {
    "execution": {
     "iopub.execute_input": "2021-05-10T01:48:15.268362Z",
     "iopub.status.busy": "2021-05-10T01:48:15.268204Z",
     "iopub.status.idle": "2021-05-10T01:48:15.311611Z",
     "shell.execute_reply": "2021-05-10T01:48:15.310972Z",
     "shell.execute_reply.started": "2021-05-10T01:48:15.268341Z"
    },
    "tags": []
   },
   "outputs": [],
   "source": [
    "train_stories, train_questions, train_answers = read_data(TRAIN_FILE)\n",
    "test_stories, test_questions, test_answers = read_data(TEST_FILE)"
   ]
  },
  {
   "cell_type": "code",
   "execution_count": 9,
   "id": "9d5e4e78",
   "metadata": {
    "execution": {
     "iopub.execute_input": "2021-05-10T01:48:15.312485Z",
     "iopub.status.busy": "2021-05-10T01:48:15.312323Z",
     "iopub.status.idle": "2021-05-10T01:48:15.317556Z",
     "shell.execute_reply": "2021-05-10T01:48:15.316963Z",
     "shell.execute_reply.started": "2021-05-10T01:48:15.312463Z"
    },
    "tags": []
   },
   "outputs": [
    {
     "name": "stdout",
     "output_type": "stream",
     "text": [
      "train 스토리 개수: 10000\n",
      "train 질문 개수: 10000\n",
      "train 답변 개수: 10000\n",
      "test 스토리 개수: 1000\n",
      "test 질문 개수: 1000\n",
      "test 답변 개수: 1000\n"
     ]
    }
   ],
   "source": [
    "print(\"train 스토리 개수:\", len(train_stories))\n",
    "print(\"train 질문 개수:\", len(train_questions))\n",
    "print(\"train 답변 개수:\", len(train_answers))\n",
    "print(\"test 스토리 개수:\", len(test_stories))\n",
    "print(\"test 질문 개수:\", len(test_questions))\n",
    "print(\"test 답변 개수:\", len(test_answers))"
   ]
  },
  {
   "cell_type": "markdown",
   "id": "c05f99a2",
   "metadata": {},
   "source": [
    "- 데이터 확인"
   ]
  },
  {
   "cell_type": "code",
   "execution_count": 10,
   "id": "9dc21731",
   "metadata": {
    "execution": {
     "iopub.execute_input": "2021-05-10T01:48:15.318442Z",
     "iopub.status.busy": "2021-05-10T01:48:15.318277Z",
     "iopub.status.idle": "2021-05-10T01:48:15.327236Z",
     "shell.execute_reply": "2021-05-10T01:48:15.326698Z",
     "shell.execute_reply.started": "2021-05-10T01:48:15.318420Z"
    },
    "tags": []
   },
   "outputs": [
    {
     "data": {
      "text/plain": [
       "['필웅이는 화장실로 갔습니다.',\n",
       " '은경이는 복도로 이동했습니다.',\n",
       " '수종이는 복도로 복귀했습니다.',\n",
       " '경임이는 정원으로 갔습니다.',\n",
       " '은경이는 사무실로 갔습니다.',\n",
       " '경임이는 화장실로 뛰어갔습니다.',\n",
       " '필웅이는 복도로 갔습니다.',\n",
       " '수종이는 사무실로 가버렸습니다.',\n",
       " '은경이는 정원으로 복귀했습니다.',\n",
       " '은경이는 침실로 갔습니다.']"
      ]
     },
     "execution_count": 10,
     "metadata": {},
     "output_type": "execute_result"
    }
   ],
   "source": [
    "train_stories[4]"
   ]
  },
  {
   "cell_type": "code",
   "execution_count": 11,
   "id": "64c8e744",
   "metadata": {
    "execution": {
     "iopub.execute_input": "2021-05-10T01:48:15.328083Z",
     "iopub.status.busy": "2021-05-10T01:48:15.327928Z",
     "iopub.status.idle": "2021-05-10T01:48:15.331970Z",
     "shell.execute_reply": "2021-05-10T01:48:15.331402Z",
     "shell.execute_reply.started": "2021-05-10T01:48:15.328061Z"
    },
    "tags": []
   },
   "outputs": [
    {
     "name": "stdout",
     "output_type": "stream",
     "text": [
      "Q : 필웅이는 어디야? \n",
      "A : 화장실\n",
      "\n",
      "Q : 수종이는 어디야? \n",
      "A : 복도\n",
      "\n",
      "Q : 수종이는 어디야? \n",
      "A : 복도\n",
      "\n",
      "Q : 수종이는 어디야? \n",
      "A : 사무실\n",
      "\n",
      "Q : 경임이는 어디야? \n",
      "A : 화장실\n",
      "\n"
     ]
    }
   ],
   "source": [
    "for i in range(5):\n",
    "    print(f'Q : {train_questions[i]}')\n",
    "    print(f'A : {train_answers[i]}\\n')"
   ]
  },
  {
   "cell_type": "markdown",
   "id": "04e3fe59",
   "metadata": {},
   "source": [
    "### 2. 토큰화"
   ]
  },
  {
   "cell_type": "markdown",
   "id": "343ceb8c",
   "metadata": {},
   "source": [
    "#### A. 단어 사전에 이름 추가"
   ]
  },
  {
   "cell_type": "markdown",
   "id": "60083829",
   "metadata": {},
   "source": [
    "- 추가할 이름 추출"
   ]
  },
  {
   "cell_type": "code",
   "execution_count": 12,
   "id": "caadce42",
   "metadata": {
    "execution": {
     "iopub.execute_input": "2021-05-10T01:48:15.332827Z",
     "iopub.status.busy": "2021-05-10T01:48:15.332670Z",
     "iopub.status.idle": "2021-05-10T01:48:15.336391Z",
     "shell.execute_reply": "2021-05-10T01:48:15.335889Z",
     "shell.execute_reply.started": "2021-05-10T01:48:15.332806Z"
    },
    "tags": []
   },
   "outputs": [],
   "source": [
    "def extract_name(corpus):\n",
    "    stop_word = ['은', '는', '이', '가']\n",
    "    names = set()\n",
    "    \n",
    "    for sen in tqdm(corpus):\n",
    "        idx = -1\n",
    "        for w in stop_word:\n",
    "            idx = sen.find(w)\n",
    "            \n",
    "            if idx > 0:\n",
    "                names.add(sen[:idx])\n",
    "                break\n",
    "                \n",
    "    return list(names)"
   ]
  },
  {
   "cell_type": "code",
   "execution_count": 13,
   "id": "84c0bda3",
   "metadata": {
    "execution": {
     "iopub.execute_input": "2021-05-10T01:48:15.337269Z",
     "iopub.status.busy": "2021-05-10T01:48:15.337057Z",
     "iopub.status.idle": "2021-05-10T01:48:15.348834Z",
     "shell.execute_reply": "2021-05-10T01:48:15.348296Z",
     "shell.execute_reply.started": "2021-05-10T01:48:15.337247Z"
    },
    "tags": []
   },
   "outputs": [
    {
     "name": "stderr",
     "output_type": "stream",
     "text": [
      "100%|██████████| 10000/10000 [00:00<00:00, 1475932.16it/s]\n"
     ]
    }
   ],
   "source": [
    "names = extract_name(train_questions)"
   ]
  },
  {
   "cell_type": "code",
   "execution_count": 14,
   "id": "f0d4fcc7",
   "metadata": {
    "execution": {
     "iopub.execute_input": "2021-05-10T01:48:15.349689Z",
     "iopub.status.busy": "2021-05-10T01:48:15.349525Z",
     "iopub.status.idle": "2021-05-10T01:48:15.353274Z",
     "shell.execute_reply": "2021-05-10T01:48:15.352703Z",
     "shell.execute_reply.started": "2021-05-10T01:48:15.349667Z"
    },
    "tags": []
   },
   "outputs": [
    {
     "data": {
      "text/plain": [
       "['수종이', '경임이', '은경이', '필웅이']"
      ]
     },
     "execution_count": 14,
     "metadata": {},
     "output_type": "execute_result"
    }
   ],
   "source": [
    "names"
   ]
  },
  {
   "cell_type": "markdown",
   "id": "f1bcd7b4",
   "metadata": {},
   "source": [
    "- tokenizer 정의 및 단어사전에 추출된 이름 추가"
   ]
  },
  {
   "cell_type": "code",
   "execution_count": 15,
   "id": "a23bdd2e",
   "metadata": {
    "execution": {
     "iopub.execute_input": "2021-05-10T01:48:15.354139Z",
     "iopub.status.busy": "2021-05-10T01:48:15.353979Z",
     "iopub.status.idle": "2021-05-10T01:48:15.636410Z",
     "shell.execute_reply": "2021-05-10T01:48:15.635680Z",
     "shell.execute_reply.started": "2021-05-10T01:48:15.354118Z"
    },
    "tags": []
   },
   "outputs": [
    {
     "name": "stderr",
     "output_type": "stream",
     "text": [
      "/home/aiffel-dj1/anaconda3/envs/aiffel/lib/python3.7/site-packages/konlpy/tag/_okt.py:16: UserWarning: \"Twitter\" has changed to \"Okt\" since KoNLPy v0.4.5.\n",
      "  warn('\"Twitter\" has changed to \"Okt\" since KoNLPy v0.4.5.')\n"
     ]
    }
   ],
   "source": [
    "from ckonlpy.tag import Twitter\n",
    "twitter = Twitter()"
   ]
  },
  {
   "cell_type": "code",
   "execution_count": 16,
   "id": "3f9c3352",
   "metadata": {
    "execution": {
     "iopub.execute_input": "2021-05-10T01:48:15.637430Z",
     "iopub.status.busy": "2021-05-10T01:48:15.637229Z",
     "iopub.status.idle": "2021-05-10T01:48:15.640823Z",
     "shell.execute_reply": "2021-05-10T01:48:15.640040Z",
     "shell.execute_reply.started": "2021-05-10T01:48:15.637397Z"
    }
   },
   "outputs": [],
   "source": [
    "for name in names:\n",
    "    twitter.add_dictionary(name, 'Noun')"
   ]
  },
  {
   "cell_type": "markdown",
   "id": "f026863a",
   "metadata": {},
   "source": [
    "- tokenizer 테스트"
   ]
  },
  {
   "cell_type": "code",
   "execution_count": 17,
   "id": "d7bb2bfe",
   "metadata": {
    "execution": {
     "iopub.execute_input": "2021-05-10T01:48:15.641890Z",
     "iopub.status.busy": "2021-05-10T01:48:15.641672Z",
     "iopub.status.idle": "2021-05-10T01:48:18.798477Z",
     "shell.execute_reply": "2021-05-10T01:48:18.798064Z",
     "shell.execute_reply.started": "2021-05-10T01:48:15.641863Z"
    },
    "tags": []
   },
   "outputs": [
    {
     "name": "stdout",
     "output_type": "stream",
     "text": [
      "1️⃣ 은 경이 는 화장실 로 이동 했습니다 .\n",
      "2️⃣ 은경이 는 화장실 로 이동 했습니다 .\n",
      "\n",
      "1️⃣ 경 임 이 는 정원 으로 가버렸습니다 .\n",
      "2️⃣ 경임이 는 정원 으로 가버렸습니다 .\n",
      "\n",
      "1️⃣ 수종 이 는 복도 로 뛰어갔습니다 .\n",
      "2️⃣ 수종이 는 복도 로 뛰어갔습니다 .\n",
      "\n",
      "1️⃣ 필웅이 는 부엌 으로 복귀 했습니다 .\n",
      "2️⃣ 필웅이 는 부엌 으로 복귀 했습니다 .\n",
      "\n",
      "1️⃣ 수종 이 는 사무실 로 갔습니다 .\n",
      "2️⃣ 수종이 는 사무실 로 갔습니다 .\n",
      "\n",
      "1️⃣ 은 경이 는 침실 로 갔습니다 .\n",
      "2️⃣ 은경이 는 침실 로 갔습니다 .\n",
      "\n"
     ]
    }
   ],
   "source": [
    "twitter_raw = Twitter()\n",
    "test_sentences = [\n",
    "    '은경이는 화장실로 이동했습니다.',\n",
    "    '경임이는 정원으로 가버렸습니다.',\n",
    "    '수종이는 복도로 뛰어갔습니다.',\n",
    "    '필웅이는 부엌으로 복귀했습니다.',\n",
    "    '수종이는 사무실로 갔습니다.',\n",
    "    '은경이는 침실로 갔습니다.'\n",
    "]\n",
    "\n",
    "for sen in test_sentences:\n",
    "    print(\"1️⃣\", \" \".join(twitter_raw.morphs(sen)))\n",
    "    print(\"2️⃣\", \" \".join(twitter.morphs(sen)))\n",
    "    print()"
   ]
  },
  {
   "cell_type": "markdown",
   "id": "d89818f1",
   "metadata": {},
   "source": [
    "#### B. 토큰화"
   ]
  },
  {
   "cell_type": "markdown",
   "id": "709a7a16",
   "metadata": {},
   "source": [
    "- 토큰화 함수"
   ]
  },
  {
   "cell_type": "code",
   "execution_count": 18,
   "id": "4f3ea75d",
   "metadata": {
    "execution": {
     "iopub.execute_input": "2021-05-10T01:48:18.799285Z",
     "iopub.status.busy": "2021-05-10T01:48:18.799129Z",
     "iopub.status.idle": "2021-05-10T01:48:18.802136Z",
     "shell.execute_reply": "2021-05-10T01:48:18.801701Z",
     "shell.execute_reply.started": "2021-05-10T01:48:18.799264Z"
    },
    "tags": []
   },
   "outputs": [],
   "source": [
    "def tokenize(sentence, tokenizer):\n",
    "    morphsem = tokenizer.morphs(sentence)\n",
    "    stop_words = ['은', '는', '이', '가', '으로', '로']\n",
    "    return [ word for word in morphsem if word not in stop_words ]"
   ]
  },
  {
   "cell_type": "markdown",
   "id": "37998b4d",
   "metadata": {},
   "source": [
    "- 단어 사전 정의 함수"
   ]
  },
  {
   "cell_type": "code",
   "execution_count": 19,
   "id": "756f567d",
   "metadata": {
    "execution": {
     "iopub.execute_input": "2021-05-10T01:48:18.802945Z",
     "iopub.status.busy": "2021-05-10T01:48:18.802782Z",
     "iopub.status.idle": "2021-05-10T01:48:18.842938Z",
     "shell.execute_reply": "2021-05-10T01:48:18.842384Z",
     "shell.execute_reply.started": "2021-05-10T01:48:18.802915Z"
    },
    "tags": []
   },
   "outputs": [],
   "source": [
    "def preprocess_data(train_data, test_data, tokenizer):\n",
    "    counter = FreqDist()\n",
    "    \n",
    "    # 두 문장의 story를 하나의 문장으로 통합하는 함수\n",
    "    flatten = lambda data: reduce(lambda x, y: x + y, data)\n",
    "\n",
    "    # 각 샘플의 길이를 저장하는 리스트\n",
    "    story_len = []\n",
    "    question_len = []\n",
    "    \n",
    "    for stories, questions, answers in [train_data, test_data]:\n",
    "        for story in tqdm(stories, desc=f'story'):\n",
    "            stories = tokenize(flatten(story), tokenizer) # 스토리의 문장들을 펼친 후 토큰화\n",
    "            story_len.append(len(stories)) # 각 story의 길이 저장\n",
    "            for word in stories: # 단어 집합에 단어 추가\n",
    "                counter[word] += 1\n",
    "        for question in tqdm(questions, desc=f'questions:8f'):\n",
    "            question = tokenize(question, tokenizer)\n",
    "            question_len.append(len(question))\n",
    "            for word in question:\n",
    "                counter[word] += 1\n",
    "        for answer in tqdm(answers, 'answers'):\n",
    "            answer = tokenize(answer, tokenizer)\n",
    "            for word in answer:\n",
    "                counter[word] += 1\n",
    "\n",
    "    # 단어장 생성\n",
    "    word2idx = {word : (idx + 1) for idx, (word, _) in enumerate(counter.most_common())}\n",
    "    idx2word = {idx : word for word, idx in word2idx.items()}\n",
    "\n",
    "    # 가장 긴 샘플의 길이\n",
    "    story_max_len = np.max(story_len)\n",
    "    question_max_len = np.max(question_len)\n",
    "\n",
    "    return word2idx, idx2word, story_max_len, question_max_len"
   ]
  },
  {
   "cell_type": "code",
   "execution_count": 20,
   "id": "acdb39f2",
   "metadata": {
    "execution": {
     "iopub.execute_input": "2021-05-10T01:48:18.843822Z",
     "iopub.status.busy": "2021-05-10T01:48:18.843653Z",
     "iopub.status.idle": "2021-05-10T01:49:02.998957Z",
     "shell.execute_reply": "2021-05-10T01:49:02.998432Z",
     "shell.execute_reply.started": "2021-05-10T01:48:18.843800Z"
    },
    "tags": []
   },
   "outputs": [
    {
     "name": "stderr",
     "output_type": "stream",
     "text": [
      "story: 100%|██████████| 10000/10000 [00:37<00:00, 267.56it/s]\n",
      "questions:8f: 100%|██████████| 10000/10000 [00:02<00:00, 4154.93it/s]\n",
      "answers: 100%|██████████| 10000/10000 [00:00<00:00, 35810.95it/s]\n",
      "story: 100%|██████████| 1000/1000 [00:03<00:00, 263.45it/s]\n",
      "questions:8f: 100%|██████████| 1000/1000 [00:00<00:00, 3900.38it/s]\n",
      "answers: 100%|██████████| 1000/1000 [00:00<00:00, 31799.84it/s]\n"
     ]
    }
   ],
   "source": [
    "word2idx, idx2word, story_max_len, question_max_len = preprocess_data(train_data, \n",
    "                                                                      test_data,\n",
    "                                                                      twitter)"
   ]
  },
  {
   "cell_type": "code",
   "execution_count": 21,
   "id": "41de554f",
   "metadata": {
    "execution": {
     "iopub.execute_input": "2021-05-10T01:49:02.999739Z",
     "iopub.status.busy": "2021-05-10T01:49:02.999586Z",
     "iopub.status.idle": "2021-05-10T01:49:03.002166Z",
     "shell.execute_reply": "2021-05-10T01:49:03.001629Z",
     "shell.execute_reply.started": "2021-05-10T01:49:02.999718Z"
    }
   },
   "outputs": [],
   "source": [
    "vocab_size = len(word2idx) + 1"
   ]
  },
  {
   "cell_type": "markdown",
   "id": "537bc804",
   "metadata": {},
   "source": [
    "- 정수 인코딩 및 패딩 추가 함수"
   ]
  },
  {
   "cell_type": "code",
   "execution_count": 22,
   "id": "db0a01b3",
   "metadata": {
    "execution": {
     "iopub.execute_input": "2021-05-10T01:49:03.003029Z",
     "iopub.status.busy": "2021-05-10T01:49:03.002865Z",
     "iopub.status.idle": "2021-05-10T01:49:03.042040Z",
     "shell.execute_reply": "2021-05-10T01:49:03.041520Z",
     "shell.execute_reply.started": "2021-05-10T01:49:03.003009Z"
    },
    "tags": []
   },
   "outputs": [],
   "source": [
    "def vectorize(data, word2idx, tokenizer, story_maxlen, question_maxlen):\n",
    "    Xs, Xq, Y = [], [], []\n",
    "    flatten = lambda data: reduce(lambda x, y: x + y, data)\n",
    "\n",
    "    stories, questions, answers = data\n",
    "    for story, question, answer in tqdm(zip(stories, questions, answers),\n",
    "                                        total=len(stories)):\n",
    "        xs = [word2idx[w] for w in tokenize(flatten(story), tokenizer)]\n",
    "        xq = [word2idx[w] for w in tokenize(question, tokenizer)]\n",
    "        Xs.append(xs)\n",
    "        Xq.append(xq)\n",
    "        Y.append(word2idx[answer])\n",
    "\n",
    "    # 스토리와 질문은 각각의 최대 길이로 패딩\n",
    "    # 정답은 원-핫 인코딩\n",
    "    return pad_sequences(Xs, maxlen=story_maxlen),\\\n",
    "           pad_sequences(Xq, maxlen=question_maxlen),\\\n",
    "           to_categorical(Y, num_classes=len(word2idx) + 1)"
   ]
  },
  {
   "cell_type": "code",
   "execution_count": 23,
   "id": "42b878ac",
   "metadata": {
    "execution": {
     "iopub.execute_input": "2021-05-10T01:49:03.042970Z",
     "iopub.status.busy": "2021-05-10T01:49:03.042745Z",
     "iopub.status.idle": "2021-05-10T01:49:46.119657Z",
     "shell.execute_reply": "2021-05-10T01:49:46.119103Z",
     "shell.execute_reply.started": "2021-05-10T01:49:03.042946Z"
    },
    "tags": []
   },
   "outputs": [
    {
     "name": "stderr",
     "output_type": "stream",
     "text": [
      "100%|██████████| 10000/10000 [00:38<00:00, 256.66it/s]\n",
      "100%|██████████| 1000/1000 [00:03<00:00, 250.63it/s]\n"
     ]
    }
   ],
   "source": [
    "Xstrain, Xqtrain, Ytrain = vectorize(train_data, \n",
    "                                     word2idx, \n",
    "                                     twitter,\n",
    "                                     story_max_len, \n",
    "                                     question_max_len)\n",
    "Xstest, Xqtest, Ytest = vectorize(test_data, \n",
    "                                  word2idx, \n",
    "                                  twitter,\n",
    "                                  story_max_len, \n",
    "                                  question_max_len)"
   ]
  },
  {
   "cell_type": "code",
   "execution_count": 24,
   "id": "170346e6",
   "metadata": {
    "execution": {
     "iopub.execute_input": "2021-05-10T01:49:46.120518Z",
     "iopub.status.busy": "2021-05-10T01:49:46.120360Z",
     "iopub.status.idle": "2021-05-10T01:49:46.124233Z",
     "shell.execute_reply": "2021-05-10T01:49:46.123731Z",
     "shell.execute_reply.started": "2021-05-10T01:49:46.120496Z"
    }
   },
   "outputs": [
    {
     "name": "stdout",
     "output_type": "stream",
     "text": [
      "(10000, 50) (10000, 4) (10000, 21) (1000, 50) (1000, 4) (1000, 21)\n"
     ]
    }
   ],
   "source": [
    "print(Xstrain.shape, Xqtrain.shape, Ytrain.shape, Xstest.shape, Xqtest.shape, Ytest.shape)"
   ]
  },
  {
   "cell_type": "markdown",
   "id": "397296f0",
   "metadata": {},
   "source": [
    "## Step 3. 메모리 네트워크 구현\n",
    "---"
   ]
  },
  {
   "cell_type": "markdown",
   "id": "72c44118",
   "metadata": {},
   "source": [
    "- package import"
   ]
  },
  {
   "cell_type": "code",
   "execution_count": 25,
   "id": "8d63a9da",
   "metadata": {
    "execution": {
     "iopub.execute_input": "2021-05-10T01:49:46.126266Z",
     "iopub.status.busy": "2021-05-10T01:49:46.126106Z",
     "iopub.status.idle": "2021-05-10T01:49:46.419243Z",
     "shell.execute_reply": "2021-05-10T01:49:46.418647Z",
     "shell.execute_reply.started": "2021-05-10T01:49:46.126245Z"
    },
    "tags": []
   },
   "outputs": [],
   "source": [
    "from tensorflow.keras.models import Sequential, Model\n",
    "from tensorflow.keras.layers import Embedding, Layer\n",
    "from tensorflow.keras.layers import Permute, dot, add, concatenate\n",
    "from tensorflow.keras.layers import LSTM, Dense, Dropout, Input, Activation\n",
    "import matplotlib.pyplot as plt"
   ]
  },
  {
   "cell_type": "markdown",
   "id": "f2befce3",
   "metadata": {},
   "source": [
    "![img](https://i.ibb.co/n0FWcfv/03.png)"
   ]
  },
  {
   "cell_type": "markdown",
   "id": "2752fae3",
   "metadata": {},
   "source": [
    "### 1. Encoder"
   ]
  },
  {
   "cell_type": "markdown",
   "id": "e6e54cba",
   "metadata": {
    "execution": {
     "iopub.execute_input": "2021-05-10T00:11:59.133805Z",
     "iopub.status.busy": "2021-05-10T00:11:59.133487Z",
     "iopub.status.idle": "2021-05-10T00:11:59.151844Z",
     "shell.execute_reply": "2021-05-10T00:11:59.150798Z",
     "shell.execute_reply.started": "2021-05-10T00:11:59.133766Z"
    }
   },
   "source": [
    "- EmbeddingA, EmbeddingB, EmbeddingC"
   ]
  },
  {
   "cell_type": "code",
   "execution_count": 26,
   "id": "567888f8",
   "metadata": {
    "execution": {
     "iopub.execute_input": "2021-05-10T01:49:46.420286Z",
     "iopub.status.busy": "2021-05-10T01:49:46.420113Z",
     "iopub.status.idle": "2021-05-10T01:49:46.427427Z",
     "shell.execute_reply": "2021-05-10T01:49:46.426823Z",
     "shell.execute_reply.started": "2021-05-10T01:49:46.420263Z"
    },
    "tags": []
   },
   "outputs": [],
   "source": [
    "class Encoder(Layer):\n",
    "    def __init__(self, vocab_size, embed_size=100, input_length=None, dropout_rate=0.1):\n",
    "        super(Encoder, self).__init__()\n",
    "        if input_length:\n",
    "            self.embedding = Embedding(input_dim=vocab_size,\n",
    "                                       output_dim=embed_size,\n",
    "                                       input_length=input_length)\n",
    "        else:\n",
    "            self.embedding = Embedding(input_dim=vocab_size,\n",
    "                                       output_dim=embed_size)\n",
    "        self.drop_out = Dropout(dropout_rate)\n",
    "    \n",
    "    def call(self, x):\n",
    "        x = self.embedding(x)\n",
    "        x = self.drop_out(x)\n",
    "        \n",
    "        return x"
   ]
  },
  {
   "cell_type": "markdown",
   "id": "64343b21",
   "metadata": {},
   "source": [
    "### 2. MatchingSimilarity"
   ]
  },
  {
   "cell_type": "code",
   "execution_count": 27,
   "id": "628e5cf8",
   "metadata": {
    "execution": {
     "iopub.execute_input": "2021-05-10T01:49:46.428413Z",
     "iopub.status.busy": "2021-05-10T01:49:46.428242Z",
     "iopub.status.idle": "2021-05-10T01:49:46.432658Z",
     "shell.execute_reply": "2021-05-10T01:49:46.431840Z",
     "shell.execute_reply.started": "2021-05-10T01:49:46.428390Z"
    },
    "tags": []
   },
   "outputs": [],
   "source": [
    "class MatchingSimilarity(Layer):\n",
    "    def __init__(self):\n",
    "        super(MatchingSimilarity, self).__init__()\n",
    "        self.activation = Activation('softmax')\n",
    "    \n",
    "    def call(self, x, y):\n",
    "        x = dot([x, y], axes=-1, normalize=False)\n",
    "        x = self.activation(x)\n",
    "        \n",
    "        return x"
   ]
  },
  {
   "cell_type": "markdown",
   "id": "7735df59",
   "metadata": {},
   "source": [
    "### 3. Predict"
   ]
  },
  {
   "cell_type": "code",
   "execution_count": 28,
   "id": "b605c683",
   "metadata": {
    "execution": {
     "iopub.execute_input": "2021-05-10T01:49:46.433878Z",
     "iopub.status.busy": "2021-05-10T01:49:46.433633Z",
     "iopub.status.idle": "2021-05-10T01:49:46.437761Z",
     "shell.execute_reply": "2021-05-10T01:49:46.437055Z",
     "shell.execute_reply.started": "2021-05-10T01:49:46.433843Z"
    },
    "tags": []
   },
   "outputs": [],
   "source": [
    "class Response(Layer):\n",
    "    def __init__(self):\n",
    "        super(Response, self).__init__()\n",
    "    \n",
    "    def call(self, x, y):\n",
    "        x = add([x, y])\n",
    "        x = Permute((2, 1))(x)\n",
    "        return x"
   ]
  },
  {
   "cell_type": "markdown",
   "id": "cf84f1fe",
   "metadata": {
    "execution": {
     "iopub.execute_input": "2021-05-10T00:46:28.693688Z",
     "iopub.status.busy": "2021-05-10T00:46:28.693411Z",
     "iopub.status.idle": "2021-05-10T00:46:28.696810Z",
     "shell.execute_reply": "2021-05-10T00:46:28.695969Z",
     "shell.execute_reply.started": "2021-05-10T00:46:28.693654Z"
    }
   },
   "source": [
    "### 4. 조립"
   ]
  },
  {
   "cell_type": "code",
   "execution_count": 29,
   "id": "81355e7e",
   "metadata": {
    "execution": {
     "iopub.execute_input": "2021-05-10T01:49:46.439067Z",
     "iopub.status.busy": "2021-05-10T01:49:46.438801Z",
     "iopub.status.idle": "2021-05-10T01:49:46.445789Z",
     "shell.execute_reply": "2021-05-10T01:49:46.445128Z",
     "shell.execute_reply.started": "2021-05-10T01:49:46.439032Z"
    },
    "tags": []
   },
   "outputs": [],
   "source": [
    "class MemoryNetwork(Model):\n",
    "    def __init__(self,\n",
    "                 vocab_size, \n",
    "                 embed_size=100, \n",
    "                 question_max_len=20,\n",
    "                 lstm_size=64, \n",
    "                 dropout_rate=0.3):\n",
    "        super(MemoryNetwork, self).__init__(self)\n",
    "        self.input_encoder_m = Encoder(vocab_size,\n",
    "                                       embed_size=embed_size,\n",
    "                                       dropout_rate=dropout_rate)\n",
    "        self.input_encoder_c = Encoder(vocab_size, \n",
    "                                       embed_size=question_max_len, \n",
    "                                       dropout_rate=dropout_rate)\n",
    "        self.question_encoder = Encoder(vocab_size, \n",
    "                                        embed_size=embed_size,\n",
    "                                       input_length=question_max_len,\n",
    "                                       dropout_rate=dropout_rate)\n",
    "        self.matching_similarity = MatchingSimilarity()\n",
    "        self.response = Response()\n",
    "        self.lstm = LSTM(lstm_size)\n",
    "        self.drop_out = Dropout(dropout_rate)\n",
    "        self.dense = Dense(vocab_size)\n",
    "        self.softmax = Activation('softmax')\n",
    "        \n",
    "    def call(self, x):\n",
    "        input_sequence = x[0]\n",
    "        question = x[1]\n",
    "        input_encoded_m = self.input_encoder_m(input_sequence)\n",
    "        input_encoded_c = self.input_encoder_c(input_sequence)\n",
    "        question_encoded = self.question_encoder(question)\n",
    "        \n",
    "        match = self.matching_similarity(input_encoded_m, question_encoded)\n",
    "        response = self.response(match, input_encoded_c)\n",
    "        answer = concatenate([response, question_encoded])\n",
    "        \n",
    "        answer = self.lstm(answer)\n",
    "        answer = self.drop_out(answer)\n",
    "        answer = self.dense(answer)\n",
    "        answer = self.softmax(answer)\n",
    "        \n",
    "        return answer"
   ]
  },
  {
   "cell_type": "markdown",
   "id": "cf9f1444",
   "metadata": {},
   "source": [
    "## Step 4. 모델 정의 및 학습\n",
    "---"
   ]
  },
  {
   "cell_type": "markdown",
   "id": "257cc700",
   "metadata": {},
   "source": [
    "### 1. 모델 정의"
   ]
  },
  {
   "cell_type": "code",
   "execution_count": 38,
   "id": "2a054be4",
   "metadata": {
    "execution": {
     "iopub.execute_input": "2021-05-10T02:01:39.224837Z",
     "iopub.status.busy": "2021-05-10T02:01:39.223993Z",
     "iopub.status.idle": "2021-05-10T02:01:39.233630Z",
     "shell.execute_reply": "2021-05-10T02:01:39.231981Z",
     "shell.execute_reply.started": "2021-05-10T02:01:39.224719Z"
    },
    "tags": []
   },
   "outputs": [],
   "source": [
    "hp = {\n",
    "    'train_epochs' : 120,\n",
    "    'batch_size' : 32,\n",
    "    'embed_size' : 50,\n",
    "    'lstm_size' : 64,\n",
    "    'dropout_rate' : 0.30\n",
    "}"
   ]
  },
  {
   "cell_type": "code",
   "execution_count": 39,
   "id": "30c506cc",
   "metadata": {
    "execution": {
     "iopub.execute_input": "2021-05-10T02:01:39.351545Z",
     "iopub.status.busy": "2021-05-10T02:01:39.351332Z",
     "iopub.status.idle": "2021-05-10T02:01:39.382822Z",
     "shell.execute_reply": "2021-05-10T02:01:39.382269Z",
     "shell.execute_reply.started": "2021-05-10T02:01:39.351519Z"
    },
    "tags": []
   },
   "outputs": [],
   "source": [
    "mmn = MemoryNetwork(vocab_size,\n",
    "                    embed_size=hp['embed_size'],\n",
    "                    question_max_len=question_max_len,\n",
    "                    lstm_size=hp['lstm_size'],\n",
    "                    dropout_rate=hp['dropout_rate'])\n",
    "mmn.compile(optimizer='rmsprop', loss='categorical_crossentropy',\n",
    "              metrics=['acc'])"
   ]
  },
  {
   "cell_type": "markdown",
   "id": "a61a38c3",
   "metadata": {},
   "source": [
    "- Input 정의"
   ]
  },
  {
   "cell_type": "code",
   "execution_count": 40,
   "id": "ca4a5a37",
   "metadata": {
    "execution": {
     "iopub.execute_input": "2021-05-10T02:01:39.671699Z",
     "iopub.status.busy": "2021-05-10T02:01:39.671380Z",
     "iopub.status.idle": "2021-05-10T02:01:39.677793Z",
     "shell.execute_reply": "2021-05-10T02:01:39.677126Z",
     "shell.execute_reply.started": "2021-05-10T02:01:39.671658Z"
    },
    "tags": []
   },
   "outputs": [
    {
     "name": "stdout",
     "output_type": "stream",
     "text": [
      "Stories : KerasTensor(type_spec=TensorSpec(shape=(None, 50), dtype=tf.float32, name='input_3'), name='input_3', description=\"created by layer 'input_3'\")\n",
      "Question: KerasTensor(type_spec=TensorSpec(shape=(None, 4), dtype=tf.float32, name='input_4'), name='input_4', description=\"created by layer 'input_4'\")\n"
     ]
    }
   ],
   "source": [
    "input_sequence = Input((story_max_len,))\n",
    "question = Input((question_max_len,))\n",
    " \n",
    "print('Stories :', input_sequence)\n",
    "print('Question:', question)"
   ]
  },
  {
   "cell_type": "markdown",
   "id": "d12e0fda",
   "metadata": {},
   "source": [
    "### 2. 학습"
   ]
  },
  {
   "cell_type": "code",
   "execution_count": 41,
   "id": "d355cf52",
   "metadata": {
    "execution": {
     "iopub.execute_input": "2021-05-10T02:01:40.764744Z",
     "iopub.status.busy": "2021-05-10T02:01:40.764147Z",
     "iopub.status.idle": "2021-05-10T02:03:52.051111Z",
     "shell.execute_reply": "2021-05-10T02:03:52.050570Z",
     "shell.execute_reply.started": "2021-05-10T02:01:40.764670Z"
    },
    "tags": []
   },
   "outputs": [
    {
     "name": "stdout",
     "output_type": "stream",
     "text": [
      "Epoch 1/120\n",
      "313/313 [==============================] - 3s 4ms/step - loss: 2.0393 - acc: 0.1651 - val_loss: 1.7994 - val_acc: 0.1760\n",
      "Epoch 2/120\n",
      "313/313 [==============================] - 1s 3ms/step - loss: 1.7957 - acc: 0.1882 - val_loss: 1.6157 - val_acc: 0.3950\n",
      "Epoch 3/120\n",
      "313/313 [==============================] - 1s 4ms/step - loss: 1.6229 - acc: 0.3358 - val_loss: 1.4862 - val_acc: 0.4350\n",
      "Epoch 4/120\n",
      "313/313 [==============================] - 1s 4ms/step - loss: 1.5245 - acc: 0.3890 - val_loss: 1.4612 - val_acc: 0.4250\n",
      "Epoch 5/120\n",
      "313/313 [==============================] - 1s 3ms/step - loss: 1.5007 - acc: 0.4029 - val_loss: 1.4153 - val_acc: 0.4620\n",
      "Epoch 6/120\n",
      "313/313 [==============================] - 1s 4ms/step - loss: 1.4251 - acc: 0.4534 - val_loss: 1.3616 - val_acc: 0.4650\n",
      "Epoch 7/120\n",
      "313/313 [==============================] - 1s 3ms/step - loss: 1.4035 - acc: 0.4547 - val_loss: 1.3313 - val_acc: 0.4920\n",
      "Epoch 8/120\n",
      "313/313 [==============================] - 1s 3ms/step - loss: 1.3854 - acc: 0.4625 - val_loss: 1.3407 - val_acc: 0.4790\n",
      "Epoch 9/120\n",
      "313/313 [==============================] - 1s 3ms/step - loss: 1.3718 - acc: 0.4640 - val_loss: 1.3304 - val_acc: 0.4850\n",
      "Epoch 10/120\n",
      "313/313 [==============================] - 1s 3ms/step - loss: 1.3466 - acc: 0.4776 - val_loss: 1.2961 - val_acc: 0.5100\n",
      "Epoch 11/120\n",
      "313/313 [==============================] - 1s 3ms/step - loss: 1.2899 - acc: 0.4941 - val_loss: 1.2658 - val_acc: 0.5050\n",
      "Epoch 12/120\n",
      "313/313 [==============================] - 1s 3ms/step - loss: 1.2592 - acc: 0.5010 - val_loss: 1.2449 - val_acc: 0.5030\n",
      "Epoch 13/120\n",
      "313/313 [==============================] - 1s 3ms/step - loss: 1.2484 - acc: 0.5059 - val_loss: 1.2260 - val_acc: 0.5090\n",
      "Epoch 14/120\n",
      "313/313 [==============================] - 1s 3ms/step - loss: 1.2566 - acc: 0.4922 - val_loss: 1.2345 - val_acc: 0.5020\n",
      "Epoch 15/120\n",
      "313/313 [==============================] - 1s 3ms/step - loss: 1.2232 - acc: 0.5025 - val_loss: 1.2198 - val_acc: 0.5140\n",
      "Epoch 16/120\n",
      "313/313 [==============================] - 1s 3ms/step - loss: 1.2150 - acc: 0.5058 - val_loss: 1.1989 - val_acc: 0.5210\n",
      "Epoch 17/120\n",
      "313/313 [==============================] - 1s 4ms/step - loss: 1.2089 - acc: 0.5100 - val_loss: 1.2023 - val_acc: 0.5060\n",
      "Epoch 18/120\n",
      "313/313 [==============================] - 1s 3ms/step - loss: 1.2027 - acc: 0.5122 - val_loss: 1.2037 - val_acc: 0.5070\n",
      "Epoch 19/120\n",
      "313/313 [==============================] - 1s 4ms/step - loss: 1.1844 - acc: 0.5181 - val_loss: 1.2011 - val_acc: 0.5040\n",
      "Epoch 20/120\n",
      "313/313 [==============================] - 1s 3ms/step - loss: 1.1859 - acc: 0.5181 - val_loss: 1.2053 - val_acc: 0.5180\n",
      "Epoch 21/120\n",
      "313/313 [==============================] - 1s 3ms/step - loss: 1.1623 - acc: 0.5219 - val_loss: 1.2087 - val_acc: 0.5030\n",
      "Epoch 22/120\n",
      "313/313 [==============================] - 1s 3ms/step - loss: 1.1607 - acc: 0.5220 - val_loss: 1.1984 - val_acc: 0.5100\n",
      "Epoch 23/120\n",
      "313/313 [==============================] - 1s 3ms/step - loss: 1.1565 - acc: 0.5289 - val_loss: 1.1857 - val_acc: 0.5070\n",
      "Epoch 24/120\n",
      "313/313 [==============================] - 1s 3ms/step - loss: 1.1550 - acc: 0.5190 - val_loss: 1.2343 - val_acc: 0.5050\n",
      "Epoch 25/120\n",
      "313/313 [==============================] - 1s 3ms/step - loss: 1.1763 - acc: 0.5203 - val_loss: 1.1939 - val_acc: 0.5130\n",
      "Epoch 26/120\n",
      "313/313 [==============================] - 1s 3ms/step - loss: 1.1434 - acc: 0.5325 - val_loss: 1.1917 - val_acc: 0.5060\n",
      "Epoch 27/120\n",
      "313/313 [==============================] - 1s 3ms/step - loss: 1.1499 - acc: 0.5247 - val_loss: 1.2143 - val_acc: 0.5000\n",
      "Epoch 28/120\n",
      "313/313 [==============================] - 1s 3ms/step - loss: 1.1408 - acc: 0.5256 - val_loss: 1.2097 - val_acc: 0.5090\n",
      "Epoch 29/120\n",
      "313/313 [==============================] - 1s 3ms/step - loss: 1.1453 - acc: 0.5284 - val_loss: 1.1966 - val_acc: 0.4950\n",
      "Epoch 30/120\n",
      "313/313 [==============================] - 1s 4ms/step - loss: 1.1254 - acc: 0.5398 - val_loss: 1.1808 - val_acc: 0.5150\n",
      "Epoch 31/120\n",
      "313/313 [==============================] - 1s 3ms/step - loss: 1.1279 - acc: 0.5404 - val_loss: 1.2057 - val_acc: 0.4950\n",
      "Epoch 32/120\n",
      "313/313 [==============================] - 1s 3ms/step - loss: 1.1048 - acc: 0.5433 - val_loss: 1.2138 - val_acc: 0.5130\n",
      "Epoch 33/120\n",
      "313/313 [==============================] - 1s 3ms/step - loss: 1.0947 - acc: 0.5490 - val_loss: 1.1811 - val_acc: 0.5070\n",
      "Epoch 34/120\n",
      "313/313 [==============================] - 1s 3ms/step - loss: 1.1071 - acc: 0.5397 - val_loss: 1.1839 - val_acc: 0.5070\n",
      "Epoch 35/120\n",
      "313/313 [==============================] - 1s 3ms/step - loss: 1.1068 - acc: 0.5474 - val_loss: 1.2190 - val_acc: 0.5100\n",
      "Epoch 36/120\n",
      "313/313 [==============================] - 1s 3ms/step - loss: 1.0971 - acc: 0.5418 - val_loss: 1.1668 - val_acc: 0.5230\n",
      "Epoch 37/120\n",
      "313/313 [==============================] - 1s 3ms/step - loss: 1.0751 - acc: 0.5593 - val_loss: 1.1710 - val_acc: 0.5060\n",
      "Epoch 38/120\n",
      "313/313 [==============================] - 1s 3ms/step - loss: 1.0596 - acc: 0.5680 - val_loss: 1.1162 - val_acc: 0.5580\n",
      "Epoch 39/120\n",
      "313/313 [==============================] - 1s 3ms/step - loss: 1.0147 - acc: 0.5984 - val_loss: 1.0382 - val_acc: 0.6080\n",
      "Epoch 40/120\n",
      "313/313 [==============================] - 1s 3ms/step - loss: 0.9071 - acc: 0.6568 - val_loss: 0.8915 - val_acc: 0.6730\n",
      "Epoch 41/120\n",
      "313/313 [==============================] - 1s 3ms/step - loss: 0.8066 - acc: 0.6950 - val_loss: 0.8233 - val_acc: 0.7010\n",
      "Epoch 42/120\n",
      "313/313 [==============================] - 1s 3ms/step - loss: 0.7569 - acc: 0.7167 - val_loss: 0.7863 - val_acc: 0.7180\n",
      "Epoch 43/120\n",
      "313/313 [==============================] - 1s 3ms/step - loss: 0.6922 - acc: 0.7392 - val_loss: 0.7139 - val_acc: 0.7530\n",
      "Epoch 44/120\n",
      "313/313 [==============================] - 1s 3ms/step - loss: 0.6722 - acc: 0.7561 - val_loss: 0.6722 - val_acc: 0.7640\n",
      "Epoch 45/120\n",
      "313/313 [==============================] - 1s 3ms/step - loss: 0.6124 - acc: 0.7755 - val_loss: 0.6190 - val_acc: 0.7860\n",
      "Epoch 46/120\n",
      "313/313 [==============================] - 1s 3ms/step - loss: 0.5710 - acc: 0.7930 - val_loss: 0.5847 - val_acc: 0.7950\n",
      "Epoch 47/120\n",
      "313/313 [==============================] - 1s 3ms/step - loss: 0.5294 - acc: 0.8079 - val_loss: 0.5235 - val_acc: 0.8160\n",
      "Epoch 48/120\n",
      "313/313 [==============================] - 1s 3ms/step - loss: 0.4741 - acc: 0.8271 - val_loss: 0.5073 - val_acc: 0.8100\n",
      "Epoch 49/120\n",
      "313/313 [==============================] - 1s 3ms/step - loss: 0.4351 - acc: 0.8517 - val_loss: 0.4640 - val_acc: 0.8300\n",
      "Epoch 50/120\n",
      "313/313 [==============================] - 1s 3ms/step - loss: 0.4233 - acc: 0.8500 - val_loss: 0.4325 - val_acc: 0.8460\n",
      "Epoch 51/120\n",
      "313/313 [==============================] - 1s 3ms/step - loss: 0.3785 - acc: 0.8661 - val_loss: 0.4180 - val_acc: 0.8510\n",
      "Epoch 52/120\n",
      "313/313 [==============================] - 1s 3ms/step - loss: 0.3690 - acc: 0.8685 - val_loss: 0.3910 - val_acc: 0.8490\n",
      "Epoch 53/120\n",
      "313/313 [==============================] - 1s 3ms/step - loss: 0.3470 - acc: 0.8786 - val_loss: 0.4157 - val_acc: 0.8470\n",
      "Epoch 54/120\n",
      "313/313 [==============================] - 1s 3ms/step - loss: 0.3161 - acc: 0.8848 - val_loss: 0.3529 - val_acc: 0.8730\n",
      "Epoch 55/120\n",
      "313/313 [==============================] - 1s 3ms/step - loss: 0.3077 - acc: 0.8861 - val_loss: 0.3335 - val_acc: 0.8820\n",
      "Epoch 56/120\n",
      "313/313 [==============================] - 1s 3ms/step - loss: 0.3014 - acc: 0.8926 - val_loss: 0.3326 - val_acc: 0.8860\n",
      "Epoch 57/120\n",
      "313/313 [==============================] - 1s 3ms/step - loss: 0.2663 - acc: 0.9068 - val_loss: 0.3184 - val_acc: 0.8890\n",
      "Epoch 58/120\n",
      "313/313 [==============================] - 1s 4ms/step - loss: 0.2597 - acc: 0.9051 - val_loss: 0.3269 - val_acc: 0.8870\n",
      "Epoch 59/120\n",
      "313/313 [==============================] - 1s 3ms/step - loss: 0.2519 - acc: 0.9117 - val_loss: 0.2759 - val_acc: 0.9110\n",
      "Epoch 60/120\n",
      "313/313 [==============================] - 1s 3ms/step - loss: 0.2232 - acc: 0.9221 - val_loss: 0.2626 - val_acc: 0.9090\n",
      "Epoch 61/120\n",
      "313/313 [==============================] - 1s 3ms/step - loss: 0.2138 - acc: 0.9236 - val_loss: 0.2763 - val_acc: 0.9010\n",
      "Epoch 62/120\n",
      "313/313 [==============================] - 1s 3ms/step - loss: 0.2025 - acc: 0.9279 - val_loss: 0.2389 - val_acc: 0.9180\n",
      "Epoch 63/120\n",
      "313/313 [==============================] - 1s 3ms/step - loss: 0.2017 - acc: 0.9284 - val_loss: 0.2432 - val_acc: 0.9220\n",
      "Epoch 64/120\n",
      "313/313 [==============================] - 1s 3ms/step - loss: 0.1841 - acc: 0.9346 - val_loss: 0.2200 - val_acc: 0.9260\n",
      "Epoch 65/120\n",
      "313/313 [==============================] - 1s 4ms/step - loss: 0.1819 - acc: 0.9367 - val_loss: 0.2174 - val_acc: 0.9290\n",
      "Epoch 66/120\n",
      "313/313 [==============================] - 1s 3ms/step - loss: 0.1906 - acc: 0.9387 - val_loss: 0.2139 - val_acc: 0.9310\n",
      "Epoch 67/120\n",
      "313/313 [==============================] - 1s 3ms/step - loss: 0.1649 - acc: 0.9452 - val_loss: 0.2362 - val_acc: 0.9240\n",
      "Epoch 68/120\n",
      "313/313 [==============================] - 1s 3ms/step - loss: 0.1766 - acc: 0.9421 - val_loss: 0.2370 - val_acc: 0.9280\n",
      "Epoch 69/120\n",
      "313/313 [==============================] - 1s 3ms/step - loss: 0.1509 - acc: 0.9473 - val_loss: 0.1900 - val_acc: 0.9340\n",
      "Epoch 70/120\n",
      "313/313 [==============================] - 1s 3ms/step - loss: 0.1433 - acc: 0.9510 - val_loss: 0.1917 - val_acc: 0.9330\n",
      "Epoch 71/120\n",
      "313/313 [==============================] - 1s 3ms/step - loss: 0.1374 - acc: 0.9535 - val_loss: 0.2032 - val_acc: 0.9280\n",
      "Epoch 72/120\n",
      "313/313 [==============================] - 1s 3ms/step - loss: 0.1262 - acc: 0.9592 - val_loss: 0.2518 - val_acc: 0.9260\n",
      "Epoch 73/120\n",
      "313/313 [==============================] - 1s 3ms/step - loss: 0.1221 - acc: 0.9561 - val_loss: 0.2561 - val_acc: 0.9200\n",
      "Epoch 74/120\n",
      "313/313 [==============================] - 1s 3ms/step - loss: 0.1242 - acc: 0.9601 - val_loss: 0.1934 - val_acc: 0.9390\n",
      "Epoch 75/120\n",
      "313/313 [==============================] - 1s 3ms/step - loss: 0.1212 - acc: 0.9630 - val_loss: 0.2197 - val_acc: 0.9300\n",
      "Epoch 76/120\n",
      "313/313 [==============================] - 1s 3ms/step - loss: 0.1160 - acc: 0.9617 - val_loss: 0.1923 - val_acc: 0.9350\n",
      "Epoch 77/120\n",
      "313/313 [==============================] - 1s 3ms/step - loss: 0.1185 - acc: 0.9601 - val_loss: 0.1971 - val_acc: 0.9390\n",
      "Epoch 78/120\n",
      "313/313 [==============================] - 1s 3ms/step - loss: 0.1168 - acc: 0.9614 - val_loss: 0.2029 - val_acc: 0.9400\n",
      "Epoch 79/120\n",
      "313/313 [==============================] - 1s 3ms/step - loss: 0.1129 - acc: 0.9611 - val_loss: 0.1946 - val_acc: 0.9340\n",
      "Epoch 80/120\n",
      "313/313 [==============================] - 1s 3ms/step - loss: 0.0986 - acc: 0.9652 - val_loss: 0.1772 - val_acc: 0.9470\n",
      "Epoch 81/120\n",
      "313/313 [==============================] - 1s 3ms/step - loss: 0.0991 - acc: 0.9655 - val_loss: 0.1826 - val_acc: 0.9430\n",
      "Epoch 82/120\n",
      "313/313 [==============================] - 1s 3ms/step - loss: 0.0925 - acc: 0.9695 - val_loss: 0.1913 - val_acc: 0.9420\n",
      "Epoch 83/120\n",
      "313/313 [==============================] - 1s 3ms/step - loss: 0.0940 - acc: 0.9659 - val_loss: 0.2260 - val_acc: 0.9310\n",
      "Epoch 84/120\n",
      "313/313 [==============================] - 1s 3ms/step - loss: 0.0830 - acc: 0.9674 - val_loss: 0.1825 - val_acc: 0.9400\n",
      "Epoch 85/120\n",
      "313/313 [==============================] - 1s 3ms/step - loss: 0.0907 - acc: 0.9706 - val_loss: 0.2066 - val_acc: 0.9380\n",
      "Epoch 86/120\n",
      "313/313 [==============================] - 1s 4ms/step - loss: 0.0944 - acc: 0.9683 - val_loss: 0.1847 - val_acc: 0.9460\n",
      "Epoch 87/120\n",
      "313/313 [==============================] - 1s 3ms/step - loss: 0.0825 - acc: 0.9732 - val_loss: 0.1844 - val_acc: 0.9490\n",
      "Epoch 88/120\n",
      "313/313 [==============================] - 1s 3ms/step - loss: 0.0772 - acc: 0.9777 - val_loss: 0.1872 - val_acc: 0.9410\n",
      "Epoch 89/120\n",
      "313/313 [==============================] - 1s 3ms/step - loss: 0.0771 - acc: 0.9752 - val_loss: 0.1923 - val_acc: 0.9490\n",
      "Epoch 90/120\n",
      "313/313 [==============================] - 1s 3ms/step - loss: 0.0742 - acc: 0.9736 - val_loss: 0.1672 - val_acc: 0.9480\n",
      "Epoch 91/120\n",
      "313/313 [==============================] - 1s 3ms/step - loss: 0.0673 - acc: 0.9782 - val_loss: 0.2200 - val_acc: 0.9430\n",
      "Epoch 92/120\n",
      "313/313 [==============================] - 1s 3ms/step - loss: 0.0806 - acc: 0.9745 - val_loss: 0.1880 - val_acc: 0.9420\n",
      "Epoch 93/120\n",
      "313/313 [==============================] - 1s 3ms/step - loss: 0.0674 - acc: 0.9771 - val_loss: 0.1913 - val_acc: 0.9420\n",
      "Epoch 94/120\n",
      "313/313 [==============================] - 1s 3ms/step - loss: 0.0721 - acc: 0.9785 - val_loss: 0.2107 - val_acc: 0.9360\n",
      "Epoch 95/120\n",
      "313/313 [==============================] - 1s 3ms/step - loss: 0.0646 - acc: 0.9797 - val_loss: 0.1842 - val_acc: 0.9490\n",
      "Epoch 96/120\n",
      "313/313 [==============================] - 1s 3ms/step - loss: 0.0613 - acc: 0.9818 - val_loss: 0.1850 - val_acc: 0.9490\n",
      "Epoch 97/120\n",
      "313/313 [==============================] - 1s 3ms/step - loss: 0.0576 - acc: 0.9833 - val_loss: 0.1934 - val_acc: 0.9470\n",
      "Epoch 98/120\n",
      "313/313 [==============================] - 1s 3ms/step - loss: 0.0551 - acc: 0.9839 - val_loss: 0.2001 - val_acc: 0.9500\n",
      "Epoch 99/120\n",
      "313/313 [==============================] - 1s 3ms/step - loss: 0.0595 - acc: 0.9802 - val_loss: 0.1949 - val_acc: 0.9520\n",
      "Epoch 100/120\n",
      "313/313 [==============================] - 1s 3ms/step - loss: 0.0632 - acc: 0.9800 - val_loss: 0.1996 - val_acc: 0.9450\n",
      "Epoch 101/120\n",
      "313/313 [==============================] - 1s 3ms/step - loss: 0.0540 - acc: 0.9841 - val_loss: 0.1774 - val_acc: 0.9500\n",
      "Epoch 102/120\n",
      "313/313 [==============================] - 1s 3ms/step - loss: 0.0497 - acc: 0.9819 - val_loss: 0.1719 - val_acc: 0.9570\n",
      "Epoch 103/120\n",
      "313/313 [==============================] - 1s 3ms/step - loss: 0.0505 - acc: 0.9830 - val_loss: 0.1940 - val_acc: 0.9520\n",
      "Epoch 104/120\n",
      "313/313 [==============================] - 1s 3ms/step - loss: 0.0512 - acc: 0.9842 - val_loss: 0.2009 - val_acc: 0.9530\n",
      "Epoch 105/120\n",
      "313/313 [==============================] - 1s 3ms/step - loss: 0.0443 - acc: 0.9862 - val_loss: 0.1959 - val_acc: 0.9540\n",
      "Epoch 106/120\n",
      "313/313 [==============================] - 1s 3ms/step - loss: 0.0518 - acc: 0.9841 - val_loss: 0.1757 - val_acc: 0.9580\n",
      "Epoch 107/120\n",
      "313/313 [==============================] - 1s 3ms/step - loss: 0.0453 - acc: 0.9846 - val_loss: 0.1771 - val_acc: 0.9590\n",
      "Epoch 108/120\n",
      "313/313 [==============================] - 1s 3ms/step - loss: 0.0447 - acc: 0.9851 - val_loss: 0.2415 - val_acc: 0.9500\n",
      "Epoch 109/120\n",
      "313/313 [==============================] - 1s 3ms/step - loss: 0.0571 - acc: 0.9836 - val_loss: 0.1791 - val_acc: 0.9520\n",
      "Epoch 110/120\n",
      "313/313 [==============================] - 1s 3ms/step - loss: 0.0471 - acc: 0.9870 - val_loss: 0.1898 - val_acc: 0.9550\n",
      "Epoch 111/120\n",
      "313/313 [==============================] - 1s 3ms/step - loss: 0.0425 - acc: 0.9870 - val_loss: 0.2012 - val_acc: 0.9570\n",
      "Epoch 112/120\n",
      "313/313 [==============================] - 1s 4ms/step - loss: 0.0517 - acc: 0.9844 - val_loss: 0.1914 - val_acc: 0.9510\n",
      "Epoch 113/120\n",
      "313/313 [==============================] - 1s 3ms/step - loss: 0.0394 - acc: 0.9856 - val_loss: 0.1706 - val_acc: 0.9610\n",
      "Epoch 114/120\n",
      "313/313 [==============================] - 1s 4ms/step - loss: 0.0473 - acc: 0.9864 - val_loss: 0.2173 - val_acc: 0.9510\n",
      "Epoch 115/120\n",
      "313/313 [==============================] - 1s 4ms/step - loss: 0.0469 - acc: 0.9874 - val_loss: 0.1778 - val_acc: 0.9570\n",
      "Epoch 116/120\n",
      "313/313 [==============================] - 1s 3ms/step - loss: 0.0367 - acc: 0.9888 - val_loss: 0.1874 - val_acc: 0.9600\n",
      "Epoch 117/120\n",
      "313/313 [==============================] - 1s 3ms/step - loss: 0.0415 - acc: 0.9874 - val_loss: 0.2433 - val_acc: 0.9480\n",
      "Epoch 118/120\n",
      "313/313 [==============================] - 1s 3ms/step - loss: 0.0507 - acc: 0.9844 - val_loss: 0.1860 - val_acc: 0.9580\n",
      "Epoch 119/120\n",
      "313/313 [==============================] - 1s 3ms/step - loss: 0.0389 - acc: 0.9878 - val_loss: 0.1597 - val_acc: 0.9580\n",
      "Epoch 120/120\n",
      "313/313 [==============================] - 1s 3ms/step - loss: 0.0512 - acc: 0.9871 - val_loss: 0.1974 - val_acc: 0.9520\n"
     ]
    }
   ],
   "source": [
    "history = mmn.fit([Xstrain, Xqtrain],\n",
    "                 Ytrain, hp['batch_size'], hp['train_epochs'],\n",
    "                 validation_data=([Xstest, Xqtest], Ytest))"
   ]
  },
  {
   "cell_type": "code",
   "execution_count": 42,
   "id": "79cb8cde",
   "metadata": {
    "execution": {
     "iopub.execute_input": "2021-05-10T02:03:52.052459Z",
     "iopub.status.busy": "2021-05-10T02:03:52.052256Z",
     "iopub.status.idle": "2021-05-10T02:03:52.354231Z",
     "shell.execute_reply": "2021-05-10T02:03:52.353559Z",
     "shell.execute_reply.started": "2021-05-10T02:03:52.052432Z"
    },
    "tags": []
   },
   "outputs": [
    {
     "data": {
      "image/png": "[encoded data removed]",
      "text/plain": [
       "<Figure size 720x504 with 2 Axes>"
      ]
     },
     "metadata": {
      "needs_background": "light"
     },
     "output_type": "display_data"
    }
   ],
   "source": [
    "# plot accuracy and loss plot\n",
    "plt.figure(figsize=(10, 7))\n",
    "\n",
    "plt.subplot(211)\n",
    "plt.title(\"Accuracy\")\n",
    "plt.plot(history.history[\"acc\"], color=\"g\", label=\"train\")\n",
    "plt.plot(history.history[\"val_acc\"], color=\"b\", label=\"validation\")\n",
    "plt.legend(loc=\"best\")\n",
    "\n",
    "plt.subplot(212)\n",
    "plt.title(\"Loss\")\n",
    "plt.plot(history.history[\"loss\"], color=\"g\", label=\"train\")\n",
    "plt.plot(history.history[\"val_loss\"], color=\"b\", label=\"validation\")\n",
    "plt.legend(loc=\"best\")\n",
    "\n",
    "plt.tight_layout()\n",
    "plt.show()"
   ]
  },
  {
   "cell_type": "markdown",
   "id": "11d6f94e",
   "metadata": {},
   "source": [
    "### 3. 예측 결과"
   ]
  },
  {
   "cell_type": "code",
   "execution_count": 43,
   "id": "e5c8ebd2",
   "metadata": {
    "execution": {
     "iopub.execute_input": "2021-05-10T02:03:52.355416Z",
     "iopub.status.busy": "2021-05-10T02:03:52.355245Z",
     "iopub.status.idle": "2021-05-10T02:03:52.707388Z",
     "shell.execute_reply": "2021-05-10T02:03:52.706753Z",
     "shell.execute_reply.started": "2021-05-10T02:03:52.355393Z"
    },
    "tags": []
   },
   "outputs": [],
   "source": [
    "# labels\n",
    "ytest = np.argmax(Ytest, axis=1)\n",
    "\n",
    "# get predictions\n",
    "Ytest_ = mmn.predict([Xstest, Xqtest])\n",
    "ytest_ = np.argmax(Ytest_, axis=1)"
   ]
  },
  {
   "cell_type": "code",
   "execution_count": 44,
   "id": "e8497fa9",
   "metadata": {
    "execution": {
     "iopub.execute_input": "2021-05-10T02:03:52.708615Z",
     "iopub.status.busy": "2021-05-10T02:03:52.708404Z",
     "iopub.status.idle": "2021-05-10T02:03:52.716531Z",
     "shell.execute_reply": "2021-05-10T02:03:52.716018Z",
     "shell.execute_reply.started": "2021-05-10T02:03:52.708586Z"
    },
    "tags": []
   },
   "outputs": [
    {
     "name": "stdout",
     "output_type": "stream",
     "text": [
      "질문                  |실제값    |예측값\n",
      "---------------------------------------\n",
      "은경이 어디 야 ?          : 복도       복도\n",
      "필웅이 어디 야 ?          : 화장실      화장실\n",
      "경임이 어디 야 ?          : 부엌       부엌\n",
      "경임이 어디 야 ?          : 복도       복도\n",
      "경임이 어디 야 ?          : 부엌       부엌\n",
      "경임이 어디 야 ?          : 복도       복도\n",
      "경임이 어디 야 ?          : 정원       정원\n",
      "수종이 어디 야 ?          : 복도       복도\n",
      "경임이 어디 야 ?          : 사무실      사무실\n",
      "수종이 어디 야 ?          : 사무실      사무실\n",
      "필웅이 어디 야 ?          : 부엌       부엌\n",
      "필웅이 어디 야 ?          : 정원       정원\n",
      "수종이 어디 야 ?          : 사무실      사무실\n",
      "필웅이 어디 야 ?          : 침실       침실\n",
      "필웅이 어디 야 ?          : 침실       침실\n",
      "은경이 어디 야 ?          : 부엌       부엌\n",
      "은경이 어디 야 ?          : 정원       정원\n",
      "은경이 어디 야 ?          : 부엌       부엌\n",
      "수종이 어디 야 ?          : 사무실      사무실\n",
      "은경이 어디 야 ?          : 부엌       부엌\n",
      "필웅이 어디 야 ?          : 복도       복도\n",
      "은경이 어디 야 ?          : 사무실      사무실\n",
      "은경이 어디 야 ?          : 사무실      사무실\n",
      "경임이 어디 야 ?          : 복도       복도\n",
      "수종이 어디 야 ?          : 침실       정원\n",
      "경임이 어디 야 ?          : 침실       침실\n",
      "필웅이 어디 야 ?          : 침실       침실\n",
      "수종이 어디 야 ?          : 부엌       부엌\n",
      "수종이 어디 야 ?          : 부엌       부엌\n",
      "수종이 어디 야 ?          : 부엌       복도\n"
     ]
    }
   ],
   "source": [
    "NUM_DISPLAY = 30\n",
    "\n",
    "print(\"{:20}|{:7}|{}\".format(\"질문\", \"실제값\", \"예측값\"))\n",
    "print(39 * \"-\")\n",
    "\n",
    "for i in range(NUM_DISPLAY):\n",
    "    question = \" \".join([idx2word[x] for x in Xqtest[i].tolist()])\n",
    "    label = idx2word[ytest[i]]\n",
    "    prediction = idx2word[ytest_[i]]\n",
    "    print(\"{:20}: {:8} {}\".format(question, label, prediction))"
   ]
  },
  {
   "cell_type": "markdown",
   "id": "8c45bd7b",
   "metadata": {},
   "source": [
    "30개의 예측 결과를 출력해 보았고 그 중 29개가 옳바를 결과를 예측한 것을 확인할 수 있었다."
   ]
  },
  {
   "cell_type": "markdown",
   "id": "a95292c7",
   "metadata": {},
   "source": [
    "### 4. 모델 평가"
   ]
  },
  {
   "cell_type": "code",
   "execution_count": 45,
   "id": "51608c1e",
   "metadata": {
    "execution": {
     "iopub.execute_input": "2021-05-10T02:11:40.187400Z",
     "iopub.status.busy": "2021-05-10T02:11:40.187192Z",
     "iopub.status.idle": "2021-05-10T02:11:40.295427Z",
     "shell.execute_reply": "2021-05-10T02:11:40.294976Z",
     "shell.execute_reply.started": "2021-05-10T02:11:40.187375Z"
    }
   },
   "outputs": [
    {
     "name": "stdout",
     "output_type": "stream",
     "text": [
      "32/32 [==============================] - 0s 2ms/step - loss: 0.1974 - acc: 0.9520\n"
     ]
    },
    {
     "data": {
      "text/plain": [
       "[0.19735872745513916, 0.9520000219345093]"
      ]
     },
     "execution_count": 45,
     "metadata": {},
     "output_type": "execute_result"
    }
   ],
   "source": [
    "mmn.evaluate([Xstest, Xqtest], Ytest)"
   ]
  },
  {
   "cell_type": "markdown",
   "id": "d5539953",
   "metadata": {},
   "source": [
    "evalutaion 결과, 95% 이상의 정확도를 보였다."
   ]
  },
  {
   "cell_type": "markdown",
   "id": "a0490329",
   "metadata": {},
   "source": [
    "## Step 5. 결론\n",
    "---"
   ]
  },
  {
   "cell_type": "markdown",
   "id": "b73b5ffd",
   "metadata": {},
   "source": [
    "### 프로젝트 평가"
   ]
  },
  {
   "cell_type": "markdown",
   "id": "3e8df723",
   "metadata": {},
   "source": [
    "1. 한국어의 특성에 알맞게 전처리가 진행되었다.<br>한국어 특성에 따른 토큰화, 임베딩을 거쳐 데이터셋이 적절히 구성되었다.\n",
    "    - 형태소 분석기를 사용하여 토큰화를 진행하였다.\n",
    "2. 메모리 네트워크가 정상적으로 구현되어 학습이 안정적으로 진행되었다. validation loss가 안정적으로 수렴하는 것을 확인하고 이를 시각화하였다. \n",
    "    - 모델이 정작적으로 작동하였고, validation loss가 안정적으로 감소하였다.\n",
    "3. 메모리 네트워크를 통해 한국어 bAbI 태스크의 높은 정확도를 달성하였다. <br>추론 태스크의 테스트 정확도가 90% 이상 달성하였다.\n",
    "    - 모델의 test accuracy는 95.2%로 90% 이상을 달성하였다."
   ]
  },
  {
   "cell_type": "markdown",
   "id": "99dbe96a",
   "metadata": {},
   "source": [
    "## Ref\n",
    "---"
   ]
  },
  {
   "cell_type": "markdown",
   "id": "5fc24a95",
   "metadata": {},
   "source": [
    "- [2) MemN으로 한국어 QA 해보기](https://wikidocs.net/85470)"
   ]
  }
 ],
 "metadata": {
  "kernelspec": {
   "display_name": "Python 3",
   "language": "python",
   "name": "python3"
  },
  "language_info": {
   "codemirror_mode": {
    "name": "ipython",
    "version": 3
   },
   "file_extension": ".py",
   "mimetype": "text/x-python",
   "name": "python",
   "nbconvert_exporter": "python",
   "pygments_lexer": "ipython3",
   "version": "3.7.10"
  }
 },
 "nbformat": 4,
 "nbformat_minor": 5
}
