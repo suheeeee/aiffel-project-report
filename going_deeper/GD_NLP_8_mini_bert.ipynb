{
 "cells": [
  {
   "cell_type": "markdown",
   "id": "3cc5d74a",
   "metadata": {},
   "source": [
    "# mini BERT\n",
    "---"
   ]
  },
  {
   "cell_type": "markdown",
   "id": "a670c32c",
   "metadata": {},
   "source": [
    "vocab size=8000, 전체 파라미터 사이즈가 1M 정도가 되는 아주 작은 mini BERT 모델을 만들어 10Epoch까지 학습시킨 모델을 만들어 보자."
   ]
  },
  {
   "cell_type": "markdown",
   "id": "905a9eab",
   "metadata": {},
   "source": [
    "## Step 1. Tokenizer 준비\n",
    "---"
   ]
  },
  {
   "cell_type": "markdown",
   "id": "aba51215",
   "metadata": {},
   "source": [
    "### 1. 환경 설정"
   ]
  },
  {
   "cell_type": "markdown",
   "id": "8cf5a66c",
   "metadata": {},
   "source": [
    "#### A. import package"
   ]
  },
  {
   "cell_type": "code",
   "execution_count": 1,
   "id": "7b21f891",
   "metadata": {
    "execution": {
     "iopub.execute_input": "2021-05-13T18:13:10.163346Z",
     "iopub.status.busy": "2021-05-13T18:13:10.163119Z",
     "iopub.status.idle": "2021-05-13T18:13:12.400711Z",
     "shell.execute_reply": "2021-05-13T18:13:12.400064Z",
     "shell.execute_reply.started": "2021-05-13T18:13:10.163282Z"
    }
   },
   "outputs": [],
   "source": [
    "# imports\n",
    "from __future__ import absolute_import, division, print_function, unicode_literals\n",
    "\n",
    "import tensorflow as tf\n",
    "import tensorflow.keras.backend as K\n",
    "\n",
    "import os\n",
    "import re\n",
    "import math\n",
    "import numpy as np\n",
    "import pandas as pd\n",
    "import random\n",
    "import collections\n",
    "import json\n",
    "import shutil\n",
    "import zipfile\n",
    "import copy\n",
    "from datetime import datetime\n",
    "\n",
    "import matplotlib.pyplot as plt\n",
    "import sentencepiece as spm\n",
    "from tqdm.notebook import tqdm"
   ]
  },
  {
   "cell_type": "markdown",
   "id": "3e7b51fd",
   "metadata": {},
   "source": [
    "#### B. set random seed"
   ]
  },
  {
   "cell_type": "code",
   "execution_count": 1,
   "id": "aa39a180",
   "metadata": {
    "execution": {
     "iopub.execute_input": "2021-05-13T18:13:10.163346Z",
     "iopub.status.busy": "2021-05-13T18:13:10.163119Z",
     "iopub.status.idle": "2021-05-13T18:13:12.400711Z",
     "shell.execute_reply": "2021-05-13T18:13:12.400064Z",
     "shell.execute_reply.started": "2021-05-13T18:13:10.163282Z"
    }
   },
   "outputs": [],
   "source": [
    "random_seed = 2021\n",
    "random.seed(random_seed)\n",
    "np.random.seed(random_seed)\n",
    "tf.random.set_seed(random_seed)"
   ]
  },
  {
   "cell_type": "markdown",
   "id": "c0d99242",
   "metadata": {},
   "source": [
    "#### C. initi gpu"
   ]
  },
  {
   "cell_type": "code",
   "execution_count": 1,
   "id": "4a58625a",
   "metadata": {
    "execution": {
     "iopub.execute_input": "2021-05-13T18:13:10.163346Z",
     "iopub.status.busy": "2021-05-13T18:13:10.163119Z",
     "iopub.status.idle": "2021-05-13T18:13:12.400711Z",
     "shell.execute_reply": "2021-05-13T18:13:12.400064Z",
     "shell.execute_reply.started": "2021-05-13T18:13:10.163282Z"
    }
   },
   "outputs": [
    {
     "name": "stdout",
     "output_type": "stream",
     "text": [
      "2.4.1\n",
      "1 Physical GPUs, 1 Logical GPUs\n",
      "\n",
      "\n"
     ]
    }
   ],
   "source": [
    "# tf version 및 gpu 확인\n",
    "print(tf.__version__)\n",
    "# initialization gpu ########################################################\n",
    "import tensorflow as tf\n",
    "def init_gpu():\n",
    "    gpus = tf.config.experimental.list_physical_devices('GPU')\n",
    "    if gpus:\n",
    "        try:\n",
    "            # Currently, memory growth needs to be the same across GPUs\n",
    "            for gpu in gpus:\n",
    "                tf.config.experimental.set_memory_growth(gpu, True)\n",
    "            logical_gpus = tf.config.experimental.list_logical_devices('GPU')\n",
    "            print(len(gpus), \"Physical GPUs,\", len(logical_gpus), \"Logical GPUs\\n\\n\")\n",
    "        except RuntimeError as e:\n",
    "            # Memory growth must be set before GPUs have been initialized\n",
    "            print(e, \"\\n\\n\")\n",
    "        \n",
    "init_gpu()"
   ]
  },
  {
   "cell_type": "markdown",
   "id": "a6e9385e",
   "metadata": {},
   "source": [
    "#### D. set path"
   ]
  },
  {
   "cell_type": "code",
   "execution_count": 2,
   "id": "6b4f6f49",
   "metadata": {
    "execution": {
     "iopub.execute_input": "2021-05-13T18:15:24.620375Z",
     "iopub.status.busy": "2021-05-13T18:15:24.620163Z",
     "iopub.status.idle": "2021-05-13T18:15:24.623777Z",
     "shell.execute_reply": "2021-05-13T18:15:24.623066Z",
     "shell.execute_reply.started": "2021-05-13T18:15:24.620349Z"
    }
   },
   "outputs": [],
   "source": [
    "workspace_path = os.path.join(os.getenv('HOME'), 'workspace/aiffel-gd-nlp/GD16_bert_pretrain')\n",
    "data_dir_path = os.path.join(workspace_path, 'data')\n",
    "model_dir_path = os.path.join(workspace_path, 'models')"
   ]
  },
  {
   "cell_type": "markdown",
   "id": "3169be9c",
   "metadata": {},
   "source": [
    "### 2. Tokenizer"
   ]
  },
  {
   "cell_type": "markdown",
   "id": "35a5803f",
   "metadata": {},
   "source": [
    "#### A. tokenizer 생성"
   ]
  },
  {
   "cell_type": "code",
   "execution_count": 5,
   "id": "3579c155",
   "metadata": {
    "execution": {
     "iopub.execute_input": "2021-05-13T18:16:41.829431Z",
     "iopub.status.busy": "2021-05-13T18:16:41.829224Z",
     "iopub.status.idle": "2021-05-13T18:16:41.832893Z",
     "shell.execute_reply": "2021-05-13T18:16:41.832252Z",
     "shell.execute_reply.started": "2021-05-13T18:16:41.829406Z"
    },
    "tags": []
   },
   "outputs": [],
   "source": [
    "import sentencepiece as spm\n",
    "import os\n",
    "\n",
    "corpus_file_path = os.path.join(data_dir_path, 'kowiki.txt')\n",
    "prefix = os.path.join(model_dir_path, 'ko_8000')\n",
    "vocab_size = 8000"
   ]
  },
  {
   "cell_type": "code",
   "execution_count": 7,
   "id": "970b6561",
   "metadata": {
    "execution": {
     "iopub.execute_input": "2021-05-13T18:17:00.169704Z",
     "iopub.status.busy": "2021-05-13T18:17:00.169498Z",
     "iopub.status.idle": "2021-05-13T18:21:08.782846Z",
     "shell.execute_reply": "2021-05-13T18:21:08.782185Z",
     "shell.execute_reply.started": "2021-05-13T18:17:00.169680Z"
    }
   },
   "outputs": [],
   "source": [
    "spm.SentencePieceTrainer.train(\n",
    "    f\"--input={corpus_file_path} --model_prefix={prefix} --vocab_size={vocab_size + 7}\" + \n",
    "    \" --model_type=bpe\" +\n",
    "    \" --max_sentence_length=999999\" + # 문장 최대 길이\n",
    "    \" --pad_id=0 --pad_piece=[PAD]\" + # pad (0)\n",
    "    \" --unk_id=1 --unk_piece=[UNK]\" + # unknown (1)\n",
    "    \" --bos_id=2 --bos_piece=[BOS]\" + # begin of sequence (2)\n",
    "    \" --eos_id=3 --eos_piece=[EOS]\" + # end of sequence (3)\n",
    "    \" --user_defined_symbols=[SEP],[CLS],[MASK]\") # 사용자 정의 토큰"
   ]
  },
  {
   "cell_type": "markdown",
   "id": "63aaafe2",
   "metadata": {},
   "source": [
    "#### B. tokenizer 확인"
   ]
  },
  {
   "cell_type": "code",
   "execution_count": 8,
   "id": "02ec4290",
   "metadata": {
    "execution": {
     "iopub.execute_input": "2021-05-13T18:22:33.565164Z",
     "iopub.status.busy": "2021-05-13T18:22:33.564948Z",
     "iopub.status.idle": "2021-05-13T18:22:33.746256Z",
     "shell.execute_reply": "2021-05-13T18:22:33.745703Z",
     "shell.execute_reply.started": "2021-05-13T18:22:33.565138Z"
    }
   },
   "outputs": [
    {
     "data": {
      "text/plain": [
       "True"
      ]
     },
     "execution_count": 8,
     "metadata": {},
     "output_type": "execute_result"
    }
   ],
   "source": [
    "# vocab loading\n",
    "vocab = spm.SentencePieceProcessor()\n",
    "vocab.load(f\"{prefix}.model\")"
   ]
  },
  {
   "cell_type": "code",
   "execution_count": 22,
   "id": "a4c0dc6f",
   "metadata": {
    "execution": {
     "iopub.execute_input": "2021-05-13T18:34:41.656541Z",
     "iopub.status.busy": "2021-05-13T18:34:41.656348Z",
     "iopub.status.idle": "2021-05-13T18:34:41.681726Z",
     "shell.execute_reply": "2021-05-13T18:34:41.681179Z",
     "shell.execute_reply.started": "2021-05-13T18:34:41.656518Z"
    },
    "tags": []
   },
   "outputs": [
    {
     "name": "stdout",
     "output_type": "stream",
     "text": [
      "['▁1', '▁이', '으로', '에서', '▁있', '▁2', '▁그', '▁대', '▁사', '이다', '었다', '▁지', '▁수', '▁19', '▁가', '▁시', '▁20', '▁기', '▁전', '▁아', '▁하', '▁있다', '▁다', '▁제', '했다', '하였', '▁일', '▁한', '▁중', '▁정', '▁주', '하는', '▁것', '▁자', '▁공', '▁인', '되었다', '▁경', '▁위', '▁유', '▁보', '하고', '▁3', '▁등', '▁부', '하였다', '▁조', '하여', '▁미', '▁동', '▁선', '▁나', '으며', '▁모', '▁연', '▁영', '▁의', '▁오', '▁마', '에는', '▁발', '▁소', '한다', '▁고', '▁개', '▁201', '▁구', '▁세', '▁도', '▁상', '▁비', '▁스', '▁국', '▁서', '▁후', '▁여', '▁200', '▁때', '▁4', '▁성', '▁해', '▁관', '▁있는', '▁신', '▁프', '▁대한', '부터', '▁5', '▁방', '▁또', '지만', '▁(', '▁역', '되어', '▁않', '▁만', '▁\"', '▁장', '▁바', '까지']\n"
     ]
    }
   ],
   "source": [
    "# 특수 token 7개를 제외한 나머지 tokens 들\n",
    "vocab_list = []\n",
    "for id in range(7, len(vocab)):\n",
    "    if not vocab.is_unknown(id):\n",
    "        vocab_list.append(vocab.id_to_piece(id))\n",
    "print(vocab_list[:100])"
   ]
  },
  {
   "cell_type": "code",
   "execution_count": 10,
   "id": "7266d13f",
   "metadata": {
    "execution": {
     "iopub.execute_input": "2021-05-13T18:22:34.046498Z",
     "iopub.status.busy": "2021-05-13T18:22:34.046293Z",
     "iopub.status.idle": "2021-05-13T18:22:34.050643Z",
     "shell.execute_reply": "2021-05-13T18:22:34.050032Z",
     "shell.execute_reply.started": "2021-05-13T18:22:34.046473Z"
    }
   },
   "outputs": [
    {
     "name": "stdout",
     "output_type": "stream",
     "text": [
      "['[CLS]', '▁추', '적', '추', '적', '▁비', '가', '▁내', '리는', '▁날', '이었', '어', '▁그', '날', '은', '▁', '왠', '지', '▁손', '님', '이', '▁많', '아', '▁첫', '▁번', '에', '▁삼', '십', '▁전', '▁둘', '째', '번', '▁오', '십', '▁전', '▁오', '랜', '만에', '▁받아', '보', '는', '▁십', '▁전', '짜', '리', '▁백', '통', '화', '▁서', '푼', '에', '[SEP]', '▁손', '바', '닥', '▁위', '엔', '▁기', '쁨', '의', '▁눈', '물이', '▁흘', '러', '▁컬', '컬', '한', '▁목', '에', '▁모', '주', '▁한', '잔', '을', '▁적', '셔', '▁몇', '▁달', '▁포', '▁전', '부터', '▁콜', '록', '거', '리는', '▁아내', '▁생각', '에', '▁그', '토', '록', '▁먹', '고', '▁싶', '다', '던', '[SEP]']\n"
     ]
    }
   ],
   "source": [
    "# [CLS], tokens a, [SEP], tokens b, [SEP] 형태의 token 생성\n",
    "string_a = \"추적추적 비가 내리는 날이었어 그날은 왠지 손님이 많아 첫 번에 삼십 전 둘째번 오십 전 오랜만에 받아보는 십 전짜리 백통화 서푼에\"\n",
    "string_b = \"손바닥 위엔 기쁨의 눈물이 흘러 컬컬한 목에 모주 한잔을 적셔 몇 달 포 전부터 콜록거리는 아내 생각에 그토록 먹고 싶다던\"\n",
    "tokens_org = [\"[CLS]\"] + vocab.encode_as_pieces(string_a) + [\"[SEP]\"] + vocab.encode_as_pieces(string_b) + [\"[SEP]\"]\n",
    "print(tokens_org)"
   ]
  },
  {
   "cell_type": "markdown",
   "id": "a143095b",
   "metadata": {},
   "source": [
    "## Step 2. 데이터 전처리 (1) MASK 생성\n",
    "---"
   ]
  },
  {
   "cell_type": "code",
   "execution_count": 11,
   "id": "5cdf8f48",
   "metadata": {
    "execution": {
     "iopub.execute_input": "2021-05-13T18:22:34.644885Z",
     "iopub.status.busy": "2021-05-13T18:22:34.644633Z",
     "iopub.status.idle": "2021-05-13T18:22:34.653685Z",
     "shell.execute_reply": "2021-05-13T18:22:34.653036Z",
     "shell.execute_reply.started": "2021-05-13T18:22:34.644855Z"
    }
   },
   "outputs": [],
   "source": [
    "def create_pretrain_mask(tokens, mask_cnt, vocab_list):\n",
    "    \"\"\"\n",
    "    마스크 생성\n",
    "    :param tokens: tokens\n",
    "    :param mask_cnt: mask 개수 (전체 tokens의 15%)\n",
    "    :param vocab_list: vocab list (random token 용)\n",
    "    :return tokens: mask된 tokens\n",
    "    :return mask_idx: mask된 token의 index\n",
    "    :return mask_label: mask된 token의 원래 값\n",
    "    \"\"\"\n",
    "    # 단어 단위로 mask 하기 위해서 index 분할\n",
    "    cand_idx = []  # word 단위의 index array\n",
    "    for (i, token) in enumerate(tokens):\n",
    "        if token == \"[CLS]\" or token == \"[SEP]\":\n",
    "            continue\n",
    "        if 0 < len(cand_idx) and not token.startswith(u\"\\u2581\"):\n",
    "            cand_idx[-1].append(i)\n",
    "        else:\n",
    "            cand_idx.append([i])\n",
    "    # random mask를 위해서 순서를 섞음\n",
    "    random.shuffle(cand_idx)\n",
    "\n",
    "    mask_lms = []  # mask 된 값\n",
    "    for index_set in cand_idx:\n",
    "        if len(mask_lms) >= mask_cnt:  # 핸재 mask된 개수가 15%를 넘으면 중지\n",
    "            break\n",
    "        if len(mask_lms) + len(index_set) > mask_cnt:  # 이번에 mask할 개수를 포함해 15%를 넘으면 skip\n",
    "            continue\n",
    "        dice = random.random()  # 0..1 사이의 확률 값\n",
    "        for index in index_set:\n",
    "            masked_token = None\n",
    "            if dice < 0.8:  # 80% replace with [MASK]\n",
    "                masked_token = \"[MASK]\"\n",
    "            elif dice < 0.9: # 10% keep original\n",
    "                masked_token = tokens[index]\n",
    "            else:  # 10% random word\n",
    "                masked_token = random.choice(vocab_list)\n",
    "            mask_lms.append({\"index\": index, \"label\": tokens[index]})\n",
    "            tokens[index] = masked_token\n",
    "    # mask_lms 정렬 후 mask_idx, mask_label 추출\n",
    "    mask_lms = sorted(mask_lms, key=lambda x: x[\"index\"])\n",
    "    mask_idx = [p[\"index\"] for p in mask_lms]  # mask된 token의 index\n",
    "    mask_label = [p[\"label\"] for p in mask_lms]  # mask된 token의 원래 값\n",
    "\n",
    "    return tokens, mask_idx, mask_label"
   ]
  },
  {
   "cell_type": "code",
   "execution_count": 13,
   "id": "6583efd7",
   "metadata": {
    "execution": {
     "iopub.execute_input": "2021-05-13T18:33:12.830901Z",
     "iopub.status.busy": "2021-05-13T18:33:12.830276Z",
     "iopub.status.idle": "2021-05-13T18:33:12.838556Z",
     "shell.execute_reply": "2021-05-13T18:33:12.837828Z",
     "shell.execute_reply.started": "2021-05-13T18:33:12.830823Z"
    }
   },
   "outputs": [
    {
     "name": "stdout",
     "output_type": "stream",
     "text": [
      "['[CLS]', '▁추', '적', '추', '적', '▁비', '가', '▁내', '리는', '▁날', '이었', '어', '▁그', '날', '은', '▁', '왠', '지', '▁손', '님', '이', '▁많', '아', '▁첫', '▁번', '에', '▁삼', '십', '▁전', '▁둘', '째', '번', '▁오', '십', '▁전', '▁오', '랜', '만에', '▁받아', '보', '는', '▁십', '▁전', '짜', '리', '▁백', '통', '화', '▁서', '푼', '에', '[SEP]', '▁손', '바', '닥', '▁위', '엔', '▁기', '쁨', '의', '▁눈', '물이', '▁흘', '러', '▁컬', '컬', '한', '▁목', '에', '▁모', '주', '▁한', '잔', '을', '▁적', '셔', '▁몇', '▁달', '▁포', '▁전', '부터', '▁콜', '록', '거', '리는', '▁아내', '▁생각', '에', '▁그', '토', '록', '▁먹', '고', '▁싶', '다', '던', '[SEP]']\n"
     ]
    },
    {
     "data": {
      "text/plain": [
       "14"
      ]
     },
     "execution_count": 13,
     "metadata": {},
     "output_type": "execute_result"
    }
   ],
   "source": [
    "print(tokens_org)\n",
    "\n",
    "# 전체 token의 15% mask\n",
    "mask_cnt = int((len(tokens_org) - 3) * 0.15)\n",
    "mask_cnt"
   ]
  },
  {
   "cell_type": "code",
   "execution_count": 14,
   "id": "305ce315",
   "metadata": {
    "execution": {
     "iopub.execute_input": "2021-05-13T18:33:17.516255Z",
     "iopub.status.busy": "2021-05-13T18:33:17.515812Z",
     "iopub.status.idle": "2021-05-13T18:33:17.525904Z",
     "shell.execute_reply": "2021-05-13T18:33:17.525225Z",
     "shell.execute_reply.started": "2021-05-13T18:33:17.516201Z"
    },
    "tags": []
   },
   "outputs": [
    {
     "name": "stdout",
     "output_type": "stream",
     "text": [
      "tokens_org\n",
      "['[CLS]', '▁추', '적', '추', '적', '▁비', '가', '▁내', '리는', '▁날', '이었', '어', '▁그', '날', '은', '▁', '왠', '지', '▁손', '님', '이', '▁많', '아', '▁첫', '▁번', '에', '▁삼', '십', '▁전', '▁둘', '째', '번', '▁오', '십', '▁전', '▁오', '랜', '만에', '▁받아', '보', '는', '▁십', '▁전', '짜', '리', '▁백', '통', '화', '▁서', '푼', '에', '[SEP]', '▁손', '바', '닥', '▁위', '엔', '▁기', '쁨', '의', '▁눈', '물이', '▁흘', '러', '▁컬', '컬', '한', '▁목', '에', '▁모', '주', '▁한', '잔', '을', '▁적', '셔', '▁몇', '▁달', '▁포', '▁전', '부터', '▁콜', '록', '거', '리는', '▁아내', '▁생각', '에', '▁그', '토', '록', '▁먹', '고', '▁싶', '다', '던', '[SEP]'] \n",
      "\n",
      "tokens\n",
      "['[CLS]', '▁추', '적', '추', '적', '▁비', '가', '▁내', '리는', '▁날', '이었', '어', '▁그', '날', '은', '▁', '왠', '지', '▁손', '님', '이', '▁많', '아', '▁첫', '▁번', '에', '▁삼', '십', '[MASK]', '[MASK]', '[MASK]', '[MASK]', '▁오', '십', '▁전', '▁오', '랜', '만에', '[MASK]', '[MASK]', '[MASK]', '▁십', '▁전', '짜', '리', '[MASK]', '[MASK]', '[MASK]', '▁서', '푼', '에', '[SEP]', '▁손', '바', '닥', '▁위', '엔', '▁기', '쁨', '의', '▁눈', '물이', '▁흘', '러', '▁컬', '컬', '한', '▁목', '에', '▁모', '주', '▁한', '잔', '을', '▁적', '셔', '▁몇', '▁달', '▁포', '▁전', '부터', '[MASK]', '[MASK]', '[MASK]', '[MASK]', '▁아내', '▁생각', '에', '▁그', '토', '록', '▁먹', '고', '▁싶', '다', '던', '[SEP]'] \n",
      "\n",
      "mask_idx   : [28, 29, 30, 31, 38, 39, 40, 45, 46, 47, 81, 82, 83, 84]\n",
      "mask_label : ['▁전', '▁둘', '째', '번', '▁받아', '보', '는', '▁백', '통', '화', '▁콜', '록', '거', '리는']\n"
     ]
    }
   ],
   "source": [
    "# tokens가 mask되므로 재 실행을 위해서 넣어줌 (테스트용)\n",
    "tokens = copy.deepcopy(tokens_org)\n",
    "\n",
    "tokens, mask_idx, mask_label = create_pretrain_mask(tokens, mask_cnt, vocab_list)\n",
    "\n",
    "print(\"tokens_org\")\n",
    "print(tokens_org, \"\\n\")\n",
    "print(\"tokens\")\n",
    "print(tokens, \"\\n\")\n",
    "\n",
    "print(\"mask_idx   :\", mask_idx)\n",
    "print(\"mask_label :\", mask_label)"
   ]
  },
  {
   "cell_type": "markdown",
   "id": "01d75ee3",
   "metadata": {},
   "source": [
    "## Step3. 데이터 전처리 (2) NSP pair 생성\n",
    "---"
   ]
  },
  {
   "cell_type": "code",
   "execution_count": 15,
   "id": "02a0c981",
   "metadata": {
    "execution": {
     "iopub.execute_input": "2021-05-13T18:33:23.679980Z",
     "iopub.status.busy": "2021-05-13T18:33:23.679640Z",
     "iopub.status.idle": "2021-05-13T18:33:23.684501Z",
     "shell.execute_reply": "2021-05-13T18:33:23.683454Z",
     "shell.execute_reply.started": "2021-05-13T18:33:23.679940Z"
    }
   },
   "outputs": [],
   "source": [
    "string = \"\"\"추적추적 비가 내리는 날이었어\n",
    "그날은 왠지 손님이 많아\n",
    "첫 번에 삼십 전 둘째 번 오십 전\n",
    "오랜만에 받아보는 십 전짜리 백통화 서푼에\n",
    "손바닥 위엔 기쁨의 눈물이 흘러\n",
    "컬컬한 목에 모주 한잔을 적셔\n",
    "몇 달 포 전부터 콜록거리는 아내\n",
    "생각에 그토록 먹고 싶다던\n",
    "설렁탕 한 그릇을 이제는 살 수 있어\n",
    "집으로 돌아가는 길 난 문득 떠올라\n",
    "아내의 목소리가 거칠어만 가는 희박한 숨소리가\n",
    "오늘은 왠지 나가지 말라던 내 옆에 있어 달라던\n",
    "그리도 나가고 싶으면 일찍이라도 들어와 달라던\n",
    "아내의 간절한 목소리가 들려와\n",
    "나를 원망하듯 비는 점점 거세져\n",
    "싸늘히 식어가는 아내가 떠올라 걱정은 더해져\n",
    "난 몰라 오늘은 운수 좋은 날\n",
    "난 맨날 이렇게 살 수 있으면 얼마나 좋을까\"\"\""
   ]
  },
  {
   "cell_type": "code",
   "execution_count": 16,
   "id": "2f721d94",
   "metadata": {
    "execution": {
     "iopub.execute_input": "2021-05-13T18:33:23.906368Z",
     "iopub.status.busy": "2021-05-13T18:33:23.906169Z",
     "iopub.status.idle": "2021-05-13T18:33:23.910226Z",
     "shell.execute_reply": "2021-05-13T18:33:23.909621Z",
     "shell.execute_reply.started": "2021-05-13T18:33:23.906343Z"
    }
   },
   "outputs": [],
   "source": [
    "def trim_tokens(tokens_a, tokens_b, max_seq):\n",
    "    \"\"\"\n",
    "    tokens_a, tokens_b의 길이를 줄임 최대 길이: max_seq\n",
    "    :param tokens_a: tokens A\n",
    "    :param tokens_b: tokens B\n",
    "    :param max_seq: 두 tokens 길이의 최대 값\n",
    "    \"\"\"\n",
    "    while True:\n",
    "        total_length = len(tokens_a) + len(tokens_b)\n",
    "        if total_length <= max_seq:\n",
    "            break\n",
    "\n",
    "        if len(tokens_a) > len(tokens_b):\n",
    "            del tokens_a[0]\n",
    "        else:\n",
    "            tokens_b.pop()"
   ]
  },
  {
   "cell_type": "code",
   "execution_count": 17,
   "id": "d251f2f4",
   "metadata": {
    "execution": {
     "iopub.execute_input": "2021-05-13T18:33:24.581102Z",
     "iopub.status.busy": "2021-05-13T18:33:24.580877Z",
     "iopub.status.idle": "2021-05-13T18:33:24.590227Z",
     "shell.execute_reply": "2021-05-13T18:33:24.589537Z",
     "shell.execute_reply.started": "2021-05-13T18:33:24.581075Z"
    }
   },
   "outputs": [],
   "source": [
    "def create_pretrain_instances(vocab, doc, n_seq, mask_prob, vocab_list):\n",
    "    \"\"\"\n",
    "    doc별 pretrain 데이터 생성\n",
    "    \"\"\"\n",
    "    # for CLS], [SEP], [SEP]\n",
    "    max_seq = n_seq - 3\n",
    "\n",
    "    instances = []\n",
    "    current_chunk = []\n",
    "    current_length = 0\n",
    "    for i in range(len(doc)):\n",
    "        current_chunk.append(doc[i])  # line\n",
    "        current_length += len(doc[i])\n",
    "        if 1 < len(current_chunk) and (i == len(doc) - 1 or current_length >= max_seq):\n",
    "            # token a\n",
    "            a_end = 1\n",
    "            if 1 < len(current_chunk):\n",
    "                a_end = random.randrange(1, len(current_chunk))\n",
    "            tokens_a = []\n",
    "            for j in range(a_end):\n",
    "                tokens_a.extend(current_chunk[j])\n",
    "            # token b\n",
    "            tokens_b = []\n",
    "            for j in range(a_end, len(current_chunk)):\n",
    "                tokens_b.extend(current_chunk[j])\n",
    "\n",
    "            if random.random() < 0.5:  # 50% 확률로 swap\n",
    "                is_next = 0\n",
    "                tokens_t = tokens_a\n",
    "                tokens_a = tokens_b\n",
    "                tokens_b = tokens_t\n",
    "            else:\n",
    "                is_next = 1\n",
    "            # max_seq 보다 큰 경우 길이 조절\n",
    "            trim_tokens(tokens_a, tokens_b, max_seq)\n",
    "            assert 0 < len(tokens_a)\n",
    "            assert 0 < len(tokens_b)\n",
    "            # tokens & aegment 생성\n",
    "            tokens = [\"[CLS]\"] + tokens_a + [\"[SEP]\"] + tokens_b + [\"[SEP]\"]\n",
    "            segment = [0] * (len(tokens_a) + 2) + [1] * (len(tokens_b) + 1)\n",
    "            # mask\n",
    "            tokens, mask_idx, mask_label = create_pretrain_mask(tokens, int((len(tokens) - 3) * mask_prob), vocab_list)\n",
    "\n",
    "            instance = {\n",
    "                \"tokens\": tokens,\n",
    "                \"segment\": segment,\n",
    "                \"is_next\": is_next,\n",
    "                \"mask_idx\": mask_idx,\n",
    "                \"mask_label\": mask_label\n",
    "            }\n",
    "            instances.append(instance)\n",
    "\n",
    "            current_chunk = []\n",
    "            current_length = 0\n",
    "    return instances"
   ]
  },
  {
   "cell_type": "code",
   "execution_count": 19,
   "id": "bf7daacd",
   "metadata": {
    "execution": {
     "iopub.execute_input": "2021-05-13T18:34:16.100291Z",
     "iopub.status.busy": "2021-05-13T18:34:16.099709Z",
     "iopub.status.idle": "2021-05-13T18:34:16.108770Z",
     "shell.execute_reply": "2021-05-13T18:34:16.107955Z",
     "shell.execute_reply.started": "2021-05-13T18:34:16.100219Z"
    }
   },
   "outputs": [
    {
     "data": {
      "text/plain": [
       "[['▁추', '적', '추', '적', '▁비', '가', '▁내', '리는', '▁날', '이었', '어'],\n",
       " ['▁그', '날', '은', '▁', '왠', '지', '▁손', '님', '이', '▁많', '아'],\n",
       " ['▁첫', '▁번', '에', '▁삼', '십', '▁전', '▁둘', '째', '▁번', '▁오', '십', '▁전']]"
      ]
     },
     "execution_count": 19,
     "metadata": {},
     "output_type": "execute_result"
    }
   ],
   "source": [
    "# 줄 단위로 tokenize\n",
    "doc = [vocab.encode_as_pieces(line) for line in string.split(\"\\n\")]\n",
    "doc[:3]"
   ]
  },
  {
   "cell_type": "code",
   "execution_count": 23,
   "id": "ca709df6",
   "metadata": {
    "execution": {
     "iopub.execute_input": "2021-05-13T18:34:48.255426Z",
     "iopub.status.busy": "2021-05-13T18:34:48.255219Z",
     "iopub.status.idle": "2021-05-13T18:34:48.258545Z",
     "shell.execute_reply": "2021-05-13T18:34:48.257995Z",
     "shell.execute_reply.started": "2021-05-13T18:34:48.255401Z"
    },
    "tags": []
   },
   "outputs": [],
   "source": [
    "# 최대 길이\n",
    "n_test_seq = 64\n",
    "# 최소 길이\n",
    "min_seq = 8\n",
    "# [CLS], tokens_a, [SEB], tokens_b, [SEP]\n",
    "max_seq = n_test_seq - 3"
   ]
  },
  {
   "cell_type": "code",
   "execution_count": 24,
   "id": "36be89da",
   "metadata": {
    "execution": {
     "iopub.execute_input": "2021-05-13T18:34:48.428506Z",
     "iopub.status.busy": "2021-05-13T18:34:48.428290Z",
     "iopub.status.idle": "2021-05-13T18:34:48.432875Z",
     "shell.execute_reply": "2021-05-13T18:34:48.432279Z",
     "shell.execute_reply.started": "2021-05-13T18:34:48.428479Z"
    },
    "tags": []
   },
   "outputs": [
    {
     "name": "stdout",
     "output_type": "stream",
     "text": [
      "{'tokens': ['[CLS]', '▁번', '에', '▁삼', '십', '▁전', '▁둘', '째', '▁번', '▁오', '십', '▁전', '▁오', '랜', '만에', '▁받아', '보', '는', '▁십', '[MASK]', '[MASK]', '[MASK]', '▁백', '통', '화', '▁서', '푼', '에', '▁손', '바', '닥', '[MASK]', '[MASK]', '▁기', '쁨', '의', '▁눈', '물이', '▁흘', '러', '[SEP]', '▁추', '적', '추', '적', '▁비', '가', '▁내', '리는', '▁날', '이었', '어', '▁그', '날', '은', '▁', '왠', '지', '▁손', '님', '이', '[MASK]', '[MASK]', '[SEP]'], 'segment': [0, 0, 0, 0, 0, 0, 0, 0, 0, 0, 0, 0, 0, 0, 0, 0, 0, 0, 0, 0, 0, 0, 0, 0, 0, 0, 0, 0, 0, 0, 0, 0, 0, 0, 0, 0, 0, 0, 0, 0, 0, 1, 1, 1, 1, 1, 1, 1, 1, 1, 1, 1, 1, 1, 1, 1, 1, 1, 1, 1, 1, 1, 1, 1], 'is_next': 0, 'mask_idx': [19, 20, 21, 31, 32, 45, 46, 61, 62], 'mask_label': ['▁전', '짜', '리', '▁위', '엔', '▁비', '가', '▁많', '아']}\n",
      "{'tokens': ['[CLS]', '제는', '▁살', '▁수', '▁있어', '[MASK]', '[MASK]', '▁돌아', '가는', '▁길', '[MASK]', '▁문', '득', '▁떠', '올', '라', '▁아내', '의', '▁목', '소', '리가', '▁거', '칠', '어', '만', '▁가는', '▁희', '박', '한', '▁숨', '소', '리가', '[SEP]', '▁컬', '컬', '한', '▁목', '에', '▁모', '주', '凱', '▁형', '벡', '▁적', '셔', '▁몇', '▁달', '▁포', '▁전', '부터', '▁콜', '록', '거', '리는', '▁하나', '▁생각', '에', '▁그', '토', '록', '[MASK]', '[MASK]', '▁싶', '[SEP]'], 'segment': [0, 0, 0, 0, 0, 0, 0, 0, 0, 0, 0, 0, 0, 0, 0, 0, 0, 0, 0, 0, 0, 0, 0, 0, 0, 0, 0, 0, 0, 0, 0, 0, 0, 1, 1, 1, 1, 1, 1, 1, 1, 1, 1, 1, 1, 1, 1, 1, 1, 1, 1, 1, 1, 1, 1, 1, 1, 1, 1, 1, 1, 1, 1, 1], 'is_next': 0, 'mask_idx': [5, 6, 10, 40, 41, 42, 54, 60, 61], 'mask_label': ['▁집', '으로', '▁난', '▁한', '잔', '을', '▁아내', '▁먹', '고']}\n",
      "{'tokens': ['[CLS]', '▁달', '라', '던', '▁아내', '의', '▁간', '절', '한', '[MASK]', '[MASK]', '[MASK]', '▁들', '려', '와', '▁나', '를', '▁원', '망', '하', '듯', '▁비', '는', '▁점', '점', '▁거', '세', '져', '▁싸', '늘', '히', '▁식', '어', '가는', '▁아내', '가', '[MASK]', '[MASK]', '[MASK]', '▁', '걱', '정은', '▁더', '해', '져', '[SEP]', '▁오늘', '은', '▁', '왠', '지', '▁나', '가지', '▁말', '라', '던', '[MASK]', '[MASK]', '[MASK]', '▁있어', '▁달', '라', '던', '[SEP]'], 'segment': [0, 0, 0, 0, 0, 0, 0, 0, 0, 0, 0, 0, 0, 0, 0, 0, 0, 0, 0, 0, 0, 0, 0, 0, 0, 0, 0, 0, 0, 0, 0, 0, 0, 0, 0, 0, 0, 0, 0, 0, 0, 0, 0, 0, 0, 0, 1, 1, 1, 1, 1, 1, 1, 1, 1, 1, 1, 1, 1, 1, 1, 1, 1, 1], 'is_next': 0, 'mask_idx': [9, 10, 11, 36, 37, 38, 56, 57, 58], 'mask_label': ['▁목', '소', '리가', '▁떠', '올', '라', '▁내', '▁옆', '에']}\n",
      "{'tokens': ['[CLS]', '[MASK]', '▁맨', '날', '▁이렇게', '▁(19', '[MASK]', '▁있', '으면', '▁얼마', '나', '▁좋', '을', '까', '[SEP]', '▁난', '▁몰', '라', '▁오늘', '은', '▁운', '수', '▁좋은', '▁날', '[SEP]'], 'segment': [0, 0, 0, 0, 0, 0, 0, 0, 0, 0, 0, 0, 0, 0, 0, 1, 1, 1, 1, 1, 1, 1, 1, 1, 1], 'is_next': 0, 'mask_idx': [1, 5, 6], 'mask_label': ['▁난', '▁살', '▁수']}\n"
     ]
    }
   ],
   "source": [
    "instances = create_pretrain_instances(vocab, doc, n_test_seq, 0.15, vocab_list)\n",
    "\n",
    "# 최종 데이터셋 결과 확인\n",
    "for instance in instances:\n",
    "    print(instance)"
   ]
  },
  {
   "cell_type": "markdown",
   "id": "2c6834a2",
   "metadata": {},
   "source": [
    "## Step 4. 데이터 전처리 (3) 데이터셋 완성\n",
    "---"
   ]
  },
  {
   "cell_type": "code",
   "execution_count": 25,
   "id": "6c9c9edf",
   "metadata": {
    "execution": {
     "iopub.execute_input": "2021-05-13T18:35:11.181092Z",
     "iopub.status.busy": "2021-05-13T18:35:11.180868Z",
     "iopub.status.idle": "2021-05-13T18:35:11.189230Z",
     "shell.execute_reply": "2021-05-13T18:35:11.188617Z",
     "shell.execute_reply.started": "2021-05-13T18:35:11.181065Z"
    }
   },
   "outputs": [],
   "source": [
    "def make_pretrain_data(vocab, in_file, out_file, n_seq, mask_prob=0.15):\n",
    "    \"\"\" pretrain 데이터 생성 \"\"\"\n",
    "    def save_pretrain_instances(out_f, doc):\n",
    "        instances = create_pretrain_instances(vocab, doc, n_seq, mask_prob, vocab_list)\n",
    "        for instance in instances:\n",
    "            out_f.write(json.dumps(instance, ensure_ascii=False))\n",
    "            out_f.write(\"\\n\")\n",
    "\n",
    "    # 특수문자 7개를 제외한 vocab_list 생성\n",
    "    vocab_list = []\n",
    "    for id in range(7, len(vocab)):\n",
    "        if not vocab.is_unknown(id):\n",
    "            vocab_list.append(vocab.id_to_piece(id))\n",
    "\n",
    "    # line count 확인\n",
    "    line_cnt = 0\n",
    "    with open(in_file, \"r\") as in_f:\n",
    "        for line in in_f:\n",
    "            line_cnt += 1\n",
    "\n",
    "    with open(in_file, \"r\") as in_f:\n",
    "        with open(out_file, \"w\") as out_f:\n",
    "            doc = []\n",
    "            for line in tqdm(in_f, total=line_cnt):\n",
    "                line = line.strip()\n",
    "                if line == \"\":  # line이 빈줄 일 경우 (새로운 단락을 의미 함)\n",
    "                    if 0 < len(doc):\n",
    "                        save_pretrain_instances(out_f, doc)\n",
    "                        doc = []\n",
    "                else:  # line이 빈줄이 아닐 경우 tokenize 해서 doc에 저장\n",
    "                    pieces = vocab.encode_as_pieces(line)\n",
    "                    if 0 < len(pieces):\n",
    "                        doc.append(pieces)\n",
    "            if 0 < len(doc):  # 마지막에 처리되지 않은 doc가 있는 경우\n",
    "                save_pretrain_instances(out_f, doc)\n",
    "                doc = []"
   ]
  },
  {
   "cell_type": "code",
   "execution_count": 27,
   "id": "f2c5bd91",
   "metadata": {
    "execution": {
     "iopub.execute_input": "2021-05-13T18:35:23.620279Z",
     "iopub.status.busy": "2021-05-13T18:35:23.620059Z",
     "iopub.status.idle": "2021-05-13T18:41:28.169920Z",
     "shell.execute_reply": "2021-05-13T18:41:28.169445Z",
     "shell.execute_reply.started": "2021-05-13T18:35:23.620251Z"
    },
    "tags": []
   },
   "outputs": [
    {
     "data": {
      "application/vnd.jupyter.widget-view+json": {
       "model_id": "8fe8671b41da49d4810187b6766fa4a5",
       "version_major": 2,
       "version_minor": 0
      },
      "text/plain": [
       "  0%|          | 0/3957761 [00:00<?, ?it/s]"
      ]
     },
     "metadata": {},
     "output_type": "display_data"
    }
   ],
   "source": [
    "pretrain_json_path = os.path.join(data_dir_path, 'bert_pre_train_8000.json')\n",
    "\n",
    "make_pretrain_data(vocab, corpus_file_path, pretrain_json_path, 128)"
   ]
  },
  {
   "cell_type": "code",
   "execution_count": 28,
   "id": "3f90acc7",
   "metadata": {
    "execution": {
     "iopub.execute_input": "2021-05-13T18:41:28.170917Z",
     "iopub.status.busy": "2021-05-13T18:41:28.170758Z",
     "iopub.status.idle": "2021-05-13T18:41:32.904373Z",
     "shell.execute_reply": "2021-05-13T18:41:32.903863Z",
     "shell.execute_reply.started": "2021-05-13T18:41:28.170896Z"
    }
   },
   "outputs": [
    {
     "data": {
      "text/plain": [
       "918189"
      ]
     },
     "execution_count": 28,
     "metadata": {},
     "output_type": "execute_result"
    }
   ],
   "source": [
    "# 라인수\n",
    "total = 0\n",
    "with open(pretrain_json_path, \"r\") as f:\n",
    "    for line in f:\n",
    "        total += 1\n",
    "total"
   ]
  },
  {
   "cell_type": "code",
   "execution_count": 29,
   "id": "25a4c06a",
   "metadata": {
    "execution": {
     "iopub.execute_input": "2021-05-13T20:38:25.201064Z",
     "iopub.status.busy": "2021-05-13T20:38:25.200859Z",
     "iopub.status.idle": "2021-05-13T20:38:25.210772Z",
     "shell.execute_reply": "2021-05-13T20:38:25.210212Z",
     "shell.execute_reply.started": "2021-05-13T20:38:25.201039Z"
    }
   },
   "outputs": [
    {
     "data": {
      "text/plain": [
       "(memmap([0, 0, 0, 0, 0, 0, 0, 0, 0, 0, 0, 0, 0, 0, 0, 0, 0, 0, 0, 0, 0, 0,\n",
       "         0, 0, 0, 0, 0, 0, 0, 0, 0, 0, 0, 0, 0, 0, 0, 0, 0, 0, 0, 0, 0, 0,\n",
       "         0, 0, 0, 0, 0, 0, 0, 0, 0, 0, 0, 0, 0, 0, 0, 0, 0, 0, 0, 0, 0, 0,\n",
       "         0, 0, 0, 0, 0, 0, 0, 0, 0, 0, 0, 0, 0, 0, 0, 0, 0, 0, 0, 0, 0, 0,\n",
       "         0, 0, 0, 0, 0, 0, 0, 0, 0, 0, 0, 0, 0, 0, 0, 0, 0, 0, 0, 0, 0, 0,\n",
       "         0, 0, 0, 0, 0, 0, 0, 0, 0, 0, 0, 0, 0, 0, 0, 0, 0, 0], dtype=int32),\n",
       " memmap([0, 0, 0, 0, 0, 0, 0, 0, 0, 0, 0, 0, 0, 0, 0, 0, 0, 0, 0, 0, 0, 0,\n",
       "         0, 0, 0, 0, 0, 0, 0, 0, 0, 0, 0, 0, 0, 0, 0, 0, 0, 0, 0, 0, 0, 0,\n",
       "         0, 0, 0, 0, 0, 0, 0, 0, 0, 0, 0, 0, 0, 0, 0, 0, 0, 0, 0, 0, 0, 0,\n",
       "         0, 0, 0, 0, 0, 0, 0, 0, 0, 0, 0, 0, 0, 0, 0, 0, 0, 0, 0, 0, 0, 0,\n",
       "         0, 0, 0, 0, 0, 0, 0, 0, 0, 0, 0, 0, 0, 0, 0, 0, 0, 0, 0, 0, 0, 0,\n",
       "         0, 0, 0, 0, 0, 0, 0, 0, 0, 0, 0, 0, 0, 0, 0, 0, 0, 0], dtype=int32),\n",
       " memmap([0, 0, 0, 0, 0, 0, 0, 0, 0, 0, 0, 0, 0, 0, 0, 0, 0, 0, 0, 0, 0, 0,\n",
       "         0, 0, 0, 0, 0, 0, 0, 0, 0, 0, 0, 0, 0, 0, 0, 0, 0, 0, 0, 0, 0, 0,\n",
       "         0, 0, 0, 0, 0, 0, 0, 0, 0, 0, 0, 0, 0, 0, 0, 0, 0, 0, 0, 0, 0, 0,\n",
       "         0, 0, 0, 0, 0, 0, 0, 0, 0, 0, 0, 0, 0, 0, 0, 0, 0, 0, 0, 0, 0, 0,\n",
       "         0, 0, 0, 0, 0, 0, 0, 0, 0, 0, 0, 0, 0, 0, 0, 0, 0, 0, 0, 0, 0, 0,\n",
       "         0, 0, 0, 0, 0, 0, 0, 0, 0, 0, 0, 0, 0, 0, 0, 0, 0, 0], dtype=int32),\n",
       " memmap([0, 0, 0, 0, 0, 0, 0, 0, 0, 0, 0, 0, 0, 0, 0, 0, 0, 0, 0, 0, 0, 0,\n",
       "         0, 0, 0, 0, 0, 0, 0, 0, 0, 0, 0, 0, 0, 0, 0, 0, 0, 0, 0, 0, 0, 0,\n",
       "         0, 0, 0, 0, 0, 0, 0, 0, 0, 0, 0, 0, 0, 0, 0, 0, 0, 0, 0, 0, 0, 0,\n",
       "         0, 0, 0, 0, 0, 0, 0, 0, 0, 0, 0, 0, 0, 0, 0, 0, 0, 0, 0, 0, 0, 0,\n",
       "         0, 0, 0, 0, 0, 0, 0, 0, 0, 0, 0, 0, 0, 0, 0, 0, 0, 0, 0, 0, 0, 0,\n",
       "         0, 0, 0, 0, 0, 0, 0, 0, 0, 0, 0, 0, 0, 0, 0, 0, 0, 0], dtype=int32),\n",
       " 0,\n",
       " 0,\n",
       " memmap([0, 0, 0, 0, 0, 0, 0, 0, 0, 0, 0, 0, 0, 0, 0, 0, 0, 0, 0, 0, 0, 0,\n",
       "         0, 0, 0, 0, 0, 0, 0, 0, 0, 0, 0, 0, 0, 0, 0, 0, 0, 0, 0, 0, 0, 0,\n",
       "         0, 0, 0, 0, 0, 0, 0, 0, 0, 0, 0, 0, 0, 0, 0, 0, 0, 0, 0, 0, 0, 0,\n",
       "         0, 0, 0, 0, 0, 0, 0, 0, 0, 0, 0, 0, 0, 0, 0, 0, 0, 0, 0, 0, 0, 0,\n",
       "         0, 0, 0, 0, 0, 0, 0, 0, 0, 0, 0, 0, 0, 0, 0, 0, 0, 0, 0, 0, 0, 0,\n",
       "         0, 0, 0, 0, 0, 0, 0, 0, 0, 0, 0, 0, 0, 0, 0, 0, 0, 0], dtype=int32),\n",
       " memmap([0, 0, 0, 0, 0, 0, 0, 0, 0, 0, 0, 0, 0, 0, 0, 0, 0, 0, 0, 0, 0, 0,\n",
       "         0, 0, 0, 0, 0, 0, 0, 0, 0, 0, 0, 0, 0, 0, 0, 0, 0, 0, 0, 0, 0, 0,\n",
       "         0, 0, 0, 0, 0, 0, 0, 0, 0, 0, 0, 0, 0, 0, 0, 0, 0, 0, 0, 0, 0, 0,\n",
       "         0, 0, 0, 0, 0, 0, 0, 0, 0, 0, 0, 0, 0, 0, 0, 0, 0, 0, 0, 0, 0, 0,\n",
       "         0, 0, 0, 0, 0, 0, 0, 0, 0, 0, 0, 0, 0, 0, 0, 0, 0, 0, 0, 0, 0, 0,\n",
       "         0, 0, 0, 0, 0, 0, 0, 0, 0, 0, 0, 0, 0, 0, 0, 0, 0, 0], dtype=int32))"
      ]
     },
     "execution_count": 29,
     "metadata": {},
     "output_type": "execute_result"
    }
   ],
   "source": [
    "n_seq = 128\n",
    "# [CLS], tokens_a, [SEP], tokens_b, [SEP]\n",
    "max_seq = n_seq - 3\n",
    "\n",
    "# 만약 일반적인 Numpy Array에다 데이터를 로딩한다면 이렇게 되겠지만\n",
    "# enc_tokens = np.zeros((total, n_seq), np.int32)\n",
    "# dec_tokens = np.zeros((total, n_seq), np.int32)\n",
    "# labels_nsp = np.zeros((total,), np.int32)\n",
    "# labels_mlm = np.zeros((total, n_seq), np.int32)\n",
    "\n",
    "# np.memmap을 사용하면 메모리를 적은 메모리에서도 대용량 데이터 처리가 가능 함\n",
    "enc_tokens = np.memmap(filename='enc_tokens.memmap', mode='w+', dtype=np.int32, shape=(total, n_seq))\n",
    "segments = np.memmap(filename='segments.memmap', mode='w+', dtype=np.int32, shape=(total, n_seq))\n",
    "labels_nsp = np.memmap(filename='labels_nsp.memmap', mode='w+', dtype=np.int32, shape=(total,))\n",
    "labels_mlm = np.memmap(filename='labels_mlm.memmap', mode='w+', dtype=np.int32, shape=(total, n_seq))\n",
    "\n",
    "\n",
    "enc_tokens[0], enc_tokens[-1], segments[0], segments[-1], labels_nsp[0], labels_nsp[-1], labels_mlm[0], labels_mlm[-1]"
   ]
  },
  {
   "cell_type": "code",
   "execution_count": 30,
   "id": "4190a755",
   "metadata": {
    "execution": {
     "iopub.execute_input": "2021-05-13T20:38:26.266847Z",
     "iopub.status.busy": "2021-05-13T20:38:26.266594Z",
     "iopub.status.idle": "2021-05-13T20:38:26.305672Z",
     "shell.execute_reply": "2021-05-13T20:38:26.305136Z",
     "shell.execute_reply.started": "2021-05-13T20:38:26.266818Z"
    }
   },
   "outputs": [
    {
     "data": {
      "application/vnd.jupyter.widget-view+json": {
       "model_id": "24d671df68e84828ab84959db1596521",
       "version_major": 2,
       "version_minor": 0
      },
      "text/plain": [
       "  0%|          | 0/918189 [00:00<?, ?it/s]"
      ]
     },
     "metadata": {},
     "output_type": "display_data"
    },
    {
     "name": "stdout",
     "output_type": "stream",
     "text": [
      "{'tokens': ['[CLS]', '일', '[MASK]', '▁)', '는', '▁민주', '당', '▁출신', '▁미국', '[MASK]', '[MASK]', '[MASK]', '▁대통령', '▁(19', '7', '7', '년', '▁~', '[MASK]', '[MASK]', '[MASK]', '[MASK]', '[MASK]', '▁지', '미', '▁카', '터', '는', '▁조지', '아', '주', '▁섬', '터', '▁카운', '티', '▁플', '레', '인', '스', '▁마을', '에서', '▁태어났다', '.', '▁조지', '아', '▁공', '과', '대학교', '를', '▁졸업', '하였다', '.', '▁그', '[MASK]', '▁해', '군에', '▁들어가', '▁전', '함', '·', '원', '자', '력', '·', '잠', '수', '함', '의', '▁승', '무', '원으로', '▁일', '하였다', '.', '▁195', '3', '년', '▁미국', '된', '▁대', '위로', '▁예', '편', '하였고', '▁이후', '▁땅', '콩', '·', '면', '화', '▁등을', '[MASK]', '[MASK]', '▁많은', '▁돈', '을', '▁벌', '었다', '.', '▁그의', '▁별', '명이', '▁\"', '땅', '콩', '[MASK]', '[MASK]', '[MASK]', '▁(', 'P', 'e', 'an', 'ut', '▁F', 'ar', 'm', 'er', ')', '로', '▁알려', '졌다', '.', '[SEP]', '[MASK]', '[MASK]', '▁카', '터', '[SEP]'], 'segment': [0, 0, 0, 0, 0, 0, 0, 0, 0, 0, 0, 0, 0, 0, 0, 0, 0, 0, 0, 0, 0, 0, 0, 0, 0, 0, 0, 0, 0, 0, 0, 0, 0, 0, 0, 0, 0, 0, 0, 0, 0, 0, 0, 0, 0, 0, 0, 0, 0, 0, 0, 0, 0, 0, 0, 0, 0, 0, 0, 0, 0, 0, 0, 0, 0, 0, 0, 0, 0, 0, 0, 0, 0, 0, 0, 0, 0, 0, 0, 0, 0, 0, 0, 0, 0, 0, 0, 0, 0, 0, 0, 0, 0, 0, 0, 0, 0, 0, 0, 0, 0, 0, 0, 0, 0, 0, 0, 0, 0, 0, 0, 0, 0, 0, 0, 0, 0, 0, 0, 0, 0, 0, 0, 1, 1, 1, 1, 1], 'is_next': 0, 'mask_idx': [2, 9, 10, 11, 18, 19, 20, 21, 22, 53, 78, 91, 92, 105, 106, 107, 123, 124], 'mask_label': ['▁~', '▁3', '9', '번째', '▁1981', '년', ')', '이다', '.', '▁후', '▁해군', '▁가', '꿔', '▁농', '부', '\"', '▁지', '미']}\n",
      "enc_token: [5, 3629, 6, 241, 3602, 1114, 3724, 788, 243, 6, 6, 6, 663, 1647, 3682, 3682, 3625, 203, 6, 6, 6, 6, 6, 18, 3686, 207, 3714, 3602, 1755, 3630, 3646, 630, 3714, 3565, 3835, 429, 3740, 3628, 3626, 1369, 10, 1605, 3599, 1755, 3630, 41, 3644, 830, 3624, 1135, 52, 3599, 13, 6, 87, 1501, 2247, 25, 3779, 3873, 3667, 3631, 3813, 3873, 4196, 3636, 3779, 3601, 249, 3725, 1232, 33, 52, 3599, 479, 3652, 3625, 243, 3711, 14, 1509, 168, 3877, 414, 165, 1697, 4290, 3873, 3703, 3683, 593, 6, 6, 399, 1927, 3607, 813, 17, 3599, 307, 587, 931, 103, 4313, 4290, 6, 6, 6, 98, 3878, 3656, 256, 2543, 309, 337, 3735, 181, 3616, 3603, 489, 376, 3599, 4, 6, 6, 207, 3714, 4]\n",
      "segment: [0, 0, 0, 0, 0, 0, 0, 0, 0, 0, 0, 0, 0, 0, 0, 0, 0, 0, 0, 0, 0, 0, 0, 0, 0, 0, 0, 0, 0, 0, 0, 0, 0, 0, 0, 0, 0, 0, 0, 0, 0, 0, 0, 0, 0, 0, 0, 0, 0, 0, 0, 0, 0, 0, 0, 0, 0, 0, 0, 0, 0, 0, 0, 0, 0, 0, 0, 0, 0, 0, 0, 0, 0, 0, 0, 0, 0, 0, 0, 0, 0, 0, 0, 0, 0, 0, 0, 0, 0, 0, 0, 0, 0, 0, 0, 0, 0, 0, 0, 0, 0, 0, 0, 0, 0, 0, 0, 0, 0, 0, 0, 0, 0, 0, 0, 0, 0, 0, 0, 0, 0, 0, 0, 1, 1, 1, 1, 1]\n",
      "label_nsp: 0\n",
      "label_mlm: [   0    0  203    0    0    0    0    0    0   49 3632  796    0    0\n",
      "    0    0    0    0 3008 3625 3616   16 3599    0    0    0    0    0\n",
      "    0    0    0    0    0    0    0    0    0    0    0    0    0    0\n",
      "    0    0    0    0    0    0    0    0    0    0    0   81    0    0\n",
      "    0    0    0    0    0    0    0    0    0    0    0    0    0    0\n",
      "    0    0    0    0    0    0    0    0 2780    0    0    0    0    0\n",
      "    0    0    0    0    0    0    0   21 5007    0    0    0    0    0\n",
      "    0    0    0    0    0    0    0  613 3638 3718    0    0    0    0\n",
      "    0    0    0    0    0    0    0    0    0    0    0   18 3686    0\n",
      "    0    0]\n",
      "\n",
      "{'tokens': ['[CLS]', '▁1976', '년', '▁대통령', '▁선거', '에', '[MASK]', '[MASK]', '▁후보', '로', '[MASK]', '[MASK]', '[MASK]', '▁도', '덕', '주의', '▁정책', '으로', '▁내', '세', '워', ',', '▁포', '드를', '▁누', '르고', '▁당선', '되었다', '.', '[SEP]', '▁196', '2', '년', '▁조지', '아', '▁주', '▁상', '원', '[MASK]', '▁선거', '에서', '▁낙', '선', '하나', '▁그', '▁선거', '가', '▁부정', '선거', '▁', '였', '음을', '▁입', '증', '하게', '▁되어', '[MASK]', '[MASK]', '[MASK]', '▁196', '6', '년', '▁조지', '아', '▁주', '▁지', '사', '▁선거', '에', '[MASK]', '[MASK]', '[MASK]', '▁1970', '년', '▁조지', '아', '▁주', '▁지', '사를', '▁역임', '했다', '.', '▁대통령', '이', '되', '§', '[MASK]', '▁조지', '아', '주', '[MASK]', '[MASK]', '[MASK]', '▁두', '번', '▁연', '임', '했으며', ',', '▁1971', '년부터', '▁1975', '년까지', '▁조지', '아', '▁지', '사로', '▁근무', '했다', '.', '▁조지', '아', '▁주', '지', '사로', '▁지', '내', '면서', ',', '▁미국', '에', '▁사는', '▁흑', '인', '▁등', '용', '법을', '[SEP]'], 'segment': [0, 0, 0, 0, 0, 0, 0, 0, 0, 0, 0, 0, 0, 0, 0, 0, 0, 0, 0, 0, 0, 0, 0, 0, 0, 0, 0, 0, 0, 0, 1, 1, 1, 1, 1, 1, 1, 1, 1, 1, 1, 1, 1, 1, 1, 1, 1, 1, 1, 1, 1, 1, 1, 1, 1, 1, 1, 1, 1, 1, 1, 1, 1, 1, 1, 1, 1, 1, 1, 1, 1, 1, 1, 1, 1, 1, 1, 1, 1, 1, 1, 1, 1, 1, 1, 1, 1, 1, 1, 1, 1, 1, 1, 1, 1, 1, 1, 1, 1, 1, 1, 1, 1, 1, 1, 1, 1, 1, 1, 1, 1, 1, 1, 1, 1, 1, 1, 1, 1, 1, 1, 1, 1, 1, 1, 1, 1, 1], 'is_next': 0, 'mask_idx': [6, 7, 10, 11, 12, 38, 56, 57, 58, 69, 70, 71, 84, 85, 86, 90, 91, 92], 'mask_label': ['▁민주', '당', '▁출', '마', '하여', '▁의원', '▁당선', '되고', ',', '▁낙', '선', '하지만', '▁되', '기', '▁전', '▁상', '원의', '원을']}\n",
      "enc_token: [5, 3306, 3625, 663, 822, 3600, 6, 6, 958, 3603, 6, 6, 6, 75, 4089, 238, 1421, 9, 114, 3692, 3964, 3604, 119, 1486, 807, 2056, 2387, 43, 3599, 4, 386, 3619, 3625, 1755, 3630, 37, 76, 3667, 6, 822, 10, 1567, 3668, 3294, 13, 822, 3608, 2386, 2163, 3596, 3671, 969, 213, 3929, 173, 607, 6, 6, 6, 386, 3673, 3625, 1755, 3630, 37, 18, 3620, 822, 3600, 6, 6, 6, 1921, 3625, 1755, 3630, 37, 18, 451, 1398, 31, 3599, 663, 3597, 3641, 7910, 6, 1755, 3630, 3646, 6, 6, 6, 157, 3821, 61, 3773, 530, 3604, 3372, 523, 3409, 673, 1755, 3630, 18, 982, 2711, 31, 3599, 1755, 3630, 37, 3610, 982, 18, 3754, 151, 3604, 243, 3600, 3554, 1733, 3628, 50, 3717, 2046, 4]\n",
      "segment: [0, 0, 0, 0, 0, 0, 0, 0, 0, 0, 0, 0, 0, 0, 0, 0, 0, 0, 0, 0, 0, 0, 0, 0, 0, 0, 0, 0, 0, 0, 1, 1, 1, 1, 1, 1, 1, 1, 1, 1, 1, 1, 1, 1, 1, 1, 1, 1, 1, 1, 1, 1, 1, 1, 1, 1, 1, 1, 1, 1, 1, 1, 1, 1, 1, 1, 1, 1, 1, 1, 1, 1, 1, 1, 1, 1, 1, 1, 1, 1, 1, 1, 1, 1, 1, 1, 1, 1, 1, 1, 1, 1, 1, 1, 1, 1, 1, 1, 1, 1, 1, 1, 1, 1, 1, 1, 1, 1, 1, 1, 1, 1, 1, 1, 1, 1, 1, 1, 1, 1, 1, 1, 1, 1, 1, 1, 1, 1]\n",
      "label_nsp: 0\n",
      "label_mlm: [   0    0    0    0    0    0 1114 3724    0    0  117 3674   54    0\n",
      "    0    0    0    0    0    0    0    0    0    0    0    0    0    0\n",
      "    0    0    0    0    0    0    0    0    0    0 2378    0    0    0\n",
      "    0    0    0    0    0    0    0    0    0    0    0    0    0    0\n",
      " 2387  317 3604    0    0    0    0    0    0    0    0    0    0 1567\n",
      " 3668 1447    0    0    0    0    0    0    0    0    0    0    0    0\n",
      "  450 3614   25    0    0    0   76  955  928    0    0    0    0    0\n",
      "    0    0    0    0    0    0    0    0    0    0    0    0    0    0\n",
      "    0    0    0    0    0    0    0    0    0    0    0    0    0    0\n",
      "    0    0]\n",
      "\n",
      "{'tokens': ['[CLS]', '과', '▁함께', '▁중', '동', '[MASK]', '[MASK]', '▁위한', '▁캠', '프', '데', '이', '비', '드', '[MASK]', '[MASK]', '▁체결', '했다', '.', '▁그러나', '▁이것은', '▁공', '화', '당', '과', '▁미국의', '[MASK]', '[MASK]', '▁단', '체의', '▁반', '발', '을', '▁일으', '켰', '다', '.', '▁1979', '년', '▁백', '악', '관', '에서', '▁양', '국', '▁간의', '▁평화', '조', '약', '으로', '▁이끌', '어졌다', '.', '▁또한', '▁소련', '과', '▁제', '2', '차', '[MASK]', '▁무', '기', '▁제한', '▁협', '상에', '▁조', '인', '했다', '.', '▁카', '터', '는', '▁1970', '년대', '▁후반', '▁당시', '▁대한민국', '▁등', '▁인', '권', '▁후', '진', '국의', '▁국민', '들의', '▁인', '권을', '▁지', '키', '기', '▁위해', '▁노력', '했으며', ',', '[MASK]', '▁이후', '▁계속', '해서', '▁도', '덕', '정', '치를', '▁내', '세', '웠다', '.', '[SEP]', '▁카', '터', '▁대통령', '은', '▁에너', '지', '▁개발', '을', '▁촉', '구', '했으나', '▁공', '화', '당의', '▁반', '대로', '▁무', '산', '되었다', '.', '[SEP]'], 'segment': [0, 0, 0, 0, 0, 0, 0, 0, 0, 0, 0, 0, 0, 0, 0, 0, 0, 0, 0, 0, 0, 0, 0, 0, 0, 0, 0, 0, 0, 0, 0, 0, 0, 0, 0, 0, 0, 0, 0, 0, 0, 0, 0, 0, 0, 0, 0, 0, 0, 0, 0, 0, 0, 0, 0, 0, 0, 0, 0, 0, 0, 0, 0, 0, 0, 0, 0, 0, 0, 0, 0, 0, 0, 0, 0, 0, 0, 0, 0, 0, 0, 0, 0, 0, 0, 0, 0, 0, 0, 0, 0, 0, 0, 0, 0, 0, 0, 0, 0, 0, 0, 0, 0, 0, 0, 0, 0, 1, 1, 1, 1, 1, 1, 1, 1, 1, 1, 1, 1, 1, 1, 1, 1, 1, 1, 1, 1, 1], 'is_next': 0, 'mask_idx': [5, 6, 8, 9, 10, 11, 12, 13, 14, 15, 26, 27, 30, 31, 32, 59, 76, 94], 'mask_label': ['▁평', '화를', '▁캠', '프', '데', '이', '비', '드', '▁협', '정을', '▁유대', '인', '▁반', '발', '을', '▁전략', '▁대한민국', '▁취임']}\n",
      "enc_token: [5, 3644, 280, 35, 3658, 6, 6, 521, 2432, 3721, 3736, 3597, 3694, 3681, 6, 6, 2525, 31, 3599, 330, 1487, 41, 3683, 3724, 3644, 679, 6, 6, 164, 1314, 141, 3720, 3607, 1213, 4174, 3598, 3599, 2995, 3625, 456, 3928, 3708, 10, 230, 3643, 2714, 2793, 3676, 3827, 9, 1435, 2521, 3599, 276, 1302, 3644, 30, 3619, 3751, 6, 107, 3614, 1956, 617, 1824, 53, 3628, 31, 3599, 207, 3714, 3602, 1921, 596, 1840, 316, 410, 50, 42, 3830, 81, 3713, 137, 968, 247, 42, 917, 18, 3793, 3614, 231, 3375, 530, 3604, 6, 165, 785, 874, 75, 4089, 3642, 1233, 114, 3692, 1853, 3599, 4, 207, 3714, 663, 3613, 1778, 3610, 570, 3607, 2270, 3653, 1003, 41, 3683, 1547, 141, 448, 107, 3726, 43, 3599, 4]\n",
      "segment: [0, 0, 0, 0, 0, 0, 0, 0, 0, 0, 0, 0, 0, 0, 0, 0, 0, 0, 0, 0, 0, 0, 0, 0, 0, 0, 0, 0, 0, 0, 0, 0, 0, 0, 0, 0, 0, 0, 0, 0, 0, 0, 0, 0, 0, 0, 0, 0, 0, 0, 0, 0, 0, 0, 0, 0, 0, 0, 0, 0, 0, 0, 0, 0, 0, 0, 0, 0, 0, 0, 0, 0, 0, 0, 0, 0, 0, 0, 0, 0, 0, 0, 0, 0, 0, 0, 0, 0, 0, 0, 0, 0, 0, 0, 0, 0, 0, 0, 0, 0, 0, 0, 0, 0, 0, 0, 0, 1, 1, 1, 1, 1, 1, 1, 1, 1, 1, 1, 1, 1, 1, 1, 1, 1, 1, 1, 1, 1]\n",
      "label_nsp: 0\n",
      "label_mlm: [   0    0    0    0    0  232  934    0 2432 3721 3736 3597 3694 3681\n",
      "  617  666    0    0    0    0    0    0    0    0    0    0 2670 3628\n",
      "    0    0  141 3720 3607    0    0    0    0    0    0    0    0    0\n",
      "    0    0    0    0    0    0    0    0    0    0    0    0    0    0\n",
      "    0    0    0 2835    0    0    0    0    0    0    0    0    0    0\n",
      "    0    0    0    0    0    0  410    0    0    0    0    0    0    0\n",
      "    0    0    0    0    0    0    0    0    0    0 2659    0    0    0\n",
      "    0    0    0    0    0    0    0    0    0    0    0    0    0    0\n",
      "    0    0    0    0    0    0    0    0    0    0    0    0    0    0\n",
      "    0    0]\n",
      "\n",
      "{'tokens': ['[CLS]', '질', '▁구', '출', '▁실패', '를', '▁일부', '[MASK]', '[MASK]', '▁대통령', '▁선거', '에서', '▁공', '화', '당의', '▁로', '널', '드', '[MASK]', '[MASK]', '▁후보', '에게', '▁', '져', '▁결국', '▁재', '선에', '▁실패', '했다', '.', '▁또한', '▁임', '기', '▁말', '기에', '▁터', '진', '▁소련', '의', '▁아', '프가', '니', '스탄', '▁침공', '[MASK]', '[MASK]', '▁인해', '▁1980', '년', '▁하계', '▁올림픽', '에', '▁반', '공', '국', '가', '들의', '▁보이', '콧', '을', '▁내', '세', '웠다', '.', '[SEP]', '▁지', '미', '▁카', '터', '는', '▁대한민국', '과의', '▁관계', '에서도', '▁중요한', '▁영향을', '▁미', '쳤', '던', '▁대통령', '▁중', '▁하나', '다', '.', '▁인', '권', '▁문제', '와', '▁주', '한', '미', '군', '▁철', '수', '▁문제', '로', '[MASK]', '▁한', '미', '[MASK]', '[MASK]', '▁불', '편', '하기도', '▁했다', '.', '▁1978', '년', '▁대한민국', '에', '▁대한', '[MASK]', '[MASK]', '[MASK]', '[MASK]', '▁대', '비', '해', '[MASK]', '[MASK]', '[MASK]', '[MASK]', '▁창설', '하면서', ',', '▁1982', '년까지', '[SEP]'], 'segment': [0, 0, 0, 0, 0, 0, 0, 0, 0, 0, 0, 0, 0, 0, 0, 0, 0, 0, 0, 0, 0, 0, 0, 0, 0, 0, 0, 0, 0, 0, 0, 0, 0, 0, 0, 0, 0, 0, 0, 0, 0, 0, 0, 0, 0, 0, 0, 0, 0, 0, 0, 0, 0, 0, 0, 0, 0, 0, 0, 0, 0, 0, 0, 0, 0, 1, 1, 1, 1, 1, 1, 1, 1, 1, 1, 1, 1, 1, 1, 1, 1, 1, 1, 1, 1, 1, 1, 1, 1, 1, 1, 1, 1, 1, 1, 1, 1, 1, 1, 1, 1, 1, 1, 1, 1, 1, 1, 1, 1, 1, 1, 1, 1, 1, 1, 1, 1, 1, 1, 1, 1, 1, 1, 1, 1, 1, 1, 1], 'is_next': 1, 'mask_idx': [6, 7, 8, 18, 19, 44, 45, 96, 99, 100, 111, 112, 113, 114, 118, 119, 120, 121], 'mask_label': ['▁이유로', '▁1980', '년', '▁레이', '건', '▁사건', '으로', '▁한때', '▁관계', '가', '▁북한', '의', '▁위협', '에', '▁한', '미', '연합', '사를']}\n",
      "enc_token: [5, 3892, 73, 3771, 1579, 3624, 498, 6, 6, 663, 822, 10, 41, 3683, 1547, 194, 4044, 3681, 6, 6, 958, 113, 3596, 3944, 875, 174, 2087, 1579, 31, 3599, 276, 273, 3614, 150, 329, 870, 3713, 1302, 3601, 26, 2986, 3733, 1323, 3232, 6, 6, 751, 1640, 3625, 2219, 779, 3600, 141, 3670, 3643, 3608, 247, 3052, 4805, 3607, 114, 3692, 1853, 3599, 4, 18, 3686, 207, 3714, 3602, 410, 786, 704, 643, 1165, 1063, 55, 4219, 3781, 663, 35, 324, 3598, 3599, 42, 3830, 550, 3665, 37, 3612, 3686, 3722, 380, 3636, 550, 3603, 6, 34, 3686, 6, 6, 128, 3877, 863, 345, 3599, 3331, 3625, 410, 3600, 92, 6, 6, 6, 6, 14, 3694, 3645, 6, 6, 6, 6, 3574, 421, 3604, 2760, 673, 4]\n",
      "segment: [0, 0, 0, 0, 0, 0, 0, 0, 0, 0, 0, 0, 0, 0, 0, 0, 0, 0, 0, 0, 0, 0, 0, 0, 0, 0, 0, 0, 0, 0, 0, 0, 0, 0, 0, 0, 0, 0, 0, 0, 0, 0, 0, 0, 0, 0, 0, 0, 0, 0, 0, 0, 0, 0, 0, 0, 0, 0, 0, 0, 0, 0, 0, 0, 0, 1, 1, 1, 1, 1, 1, 1, 1, 1, 1, 1, 1, 1, 1, 1, 1, 1, 1, 1, 1, 1, 1, 1, 1, 1, 1, 1, 1, 1, 1, 1, 1, 1, 1, 1, 1, 1, 1, 1, 1, 1, 1, 1, 1, 1, 1, 1, 1, 1, 1, 1, 1, 1, 1, 1, 1, 1, 1, 1, 1, 1, 1, 1]\n",
      "label_nsp: 1\n",
      "label_mlm: [   0    0    0    0    0    0 1827 1640 3625    0    0    0    0    0\n",
      "    0    0    0    0 1169 3803    0    0    0    0    0    0    0    0\n",
      "    0    0    0    0    0    0    0    0    0    0    0    0    0    0\n",
      "    0    0  636    9    0    0    0    0    0    0    0    0    0    0\n",
      "    0    0    0    0    0    0    0    0    0    0    0    0    0    0\n",
      "    0    0    0    0    0    0    0    0    0    0    0    0    0    0\n",
      "    0    0    0    0    0    0    0    0    0    0    0    0 3590    0\n",
      "    0  704 3608    0    0    0    0    0    0    0    0    0    0 1876\n",
      " 3601 3038 3600    0    0    0   34 3686 2569  451    0    0    0    0\n",
      "    0    0]\n",
      "\n",
      "{'tokens': ['[CLS]', '한', '▁뒤', '▁민주', '주의', '▁실', '현', '을', '▁위해', '▁제', '▁3', '세', '계의', '▁선거', '▁감', '시', '▁활동', '[MASK]', '[MASK]', '[MASK]', '▁벌', '레', '에', '▁의한', '▁드', '라', '쿤', '쿠', '르', '스', '▁질', '병', '▁방', '재', '를', '▁위해', '[MASK]', '[MASK]', '[MASK]', '[MASK]', '▁미국의', '▁빈', '곤', '층', '▁지원', '▁활동', ',', '▁사랑', '의', '▁집', '짓', '기', '▁운동', ',', '▁국제', '▁분', '쟁', '▁중', '재', '▁등의', '▁활동', '도', '▁했다', '.', '[SEP]', '[MASK]', '[MASK]', '▁~', '▁1980', '년', '[MASK]', '▁정치적', '▁격', '변', '기', '▁당시의', '▁기여', '폭', '[MASK]', '[MASK]', '▁대해', '▁애', '매', '한', '▁태', '도를', '▁보', '였고', ',', '▁이는', '▁후에', '▁대한민국', '▁내에서', '▁고', '조', '되는', '[MASK]', '[MASK]', '▁운동', '의', '▁한', '[MASK]', '[MASK]', '▁', '됐다', '.', '▁10', '월', '▁26', '일', ',', '▁박', '정', '희', '▁대통령', '이', '▁김', '재', '규', '▁중앙', '정보', '부', '장에', '▁의해', '▁살해', '된', '▁것에', '[SEP]'], 'segment': [0, 0, 0, 0, 0, 0, 0, 0, 0, 0, 0, 0, 0, 0, 0, 0, 0, 0, 0, 0, 0, 0, 0, 0, 0, 0, 0, 0, 0, 0, 0, 0, 0, 0, 0, 0, 0, 0, 0, 0, 0, 0, 0, 0, 0, 0, 0, 0, 0, 0, 0, 0, 0, 0, 0, 0, 0, 0, 0, 0, 0, 0, 0, 0, 0, 1, 1, 1, 1, 1, 1, 1, 1, 1, 1, 1, 1, 1, 1, 1, 1, 1, 1, 1, 1, 1, 1, 1, 1, 1, 1, 1, 1, 1, 1, 1, 1, 1, 1, 1, 1, 1, 1, 1, 1, 1, 1, 1, 1, 1, 1, 1, 1, 1, 1, 1, 1, 1, 1, 1, 1, 1, 1, 1, 1, 1, 1, 1], 'is_next': 0, 'mask_idx': [17, 18, 19, 36, 37, 38, 39, 65, 66, 70, 76, 77, 78, 79, 96, 97, 101, 102], 'mask_label': ['▁및', '▁기', '니', '▁힘', '썼', '다', '.', '▁1979', '년', '▁대한민국의', '▁대통령', '이었던', '▁그는', '▁이에', '▁반', '미', '▁원', '인이']}\n",
      "enc_token: [5, 3612, 339, 1114, 238, 158, 3756, 3607, 231, 30, 49, 3692, 1654, 822, 209, 3623, 375, 6, 6, 6, 813, 3740, 3600, 1332, 311, 3635, 4956, 3937, 3699, 3626, 761, 3886, 95, 3729, 3624, 231, 6, 6, 6, 6, 679, 1412, 4234, 4083, 770, 375, 3604, 1424, 3601, 313, 4333, 3614, 887, 3604, 605, 147, 3972, 35, 3729, 507, 375, 3627, 345, 3599, 4, 6, 6, 203, 1640, 3625, 6, 2843, 1032, 3889, 3614, 3195, 2187, 4058, 6, 6, 433, 442, 3823, 3612, 227, 701, 47, 2470, 3604, 594, 1140, 410, 3428, 70, 3676, 267, 6, 6, 887, 3601, 34, 6, 6, 3596, 1027, 3599, 131, 3662, 981, 3629, 3604, 338, 3642, 4055, 663, 3597, 200, 3729, 3958, 782, 2275, 3638, 1312, 355, 2591, 3711, 2057, 4]\n",
      "segment: [0, 0, 0, 0, 0, 0, 0, 0, 0, 0, 0, 0, 0, 0, 0, 0, 0, 0, 0, 0, 0, 0, 0, 0, 0, 0, 0, 0, 0, 0, 0, 0, 0, 0, 0, 0, 0, 0, 0, 0, 0, 0, 0, 0, 0, 0, 0, 0, 0, 0, 0, 0, 0, 0, 0, 0, 0, 0, 0, 0, 0, 0, 0, 0, 0, 1, 1, 1, 1, 1, 1, 1, 1, 1, 1, 1, 1, 1, 1, 1, 1, 1, 1, 1, 1, 1, 1, 1, 1, 1, 1, 1, 1, 1, 1, 1, 1, 1, 1, 1, 1, 1, 1, 1, 1, 1, 1, 1, 1, 1, 1, 1, 1, 1, 1, 1, 1, 1, 1, 1, 1, 1, 1, 1, 1, 1, 1, 1]\n",
      "label_nsp: 0\n",
      "label_mlm: [   0    0    0    0    0    0    0    0    0    0    0    0    0    0\n",
      "    0    0    0  228   24 3733    0    0    0    0    0    0    0    0\n",
      "    0    0    0    0    0    0    0    0  947 4437 3598 3599    0    0\n",
      "    0    0    0    0    0    0    0    0    0    0    0    0    0    0\n",
      "    0    0    0    0    0    0    0    0    0 2995 3625    0    0    0\n",
      "  447    0    0    0    0    0  663 1277  202  695    0    0    0    0\n",
      "    0    0    0    0    0    0    0    0    0    0    0    0  141 3686\n",
      "    0    0    0  129  828    0    0    0    0    0    0    0    0    0\n",
      "    0    0    0    0    0    0    0    0    0    0    0    0    0    0\n",
      "    0    0]\n",
      "\n",
      "{'tokens': ['[CLS]', '[MASK]', '[MASK]', '▁북', '핵', '[MASK]', '[MASK]', '[MASK]', '▁코', '소', '보', '▁전쟁', ',', '▁이', '라크', '▁전쟁', '과', '▁같이', '▁미국', '이', '▁군사', '적', '▁행', '동을', '[MASK]', '[MASK]', '[MASK]', '▁선택', '하는', '▁전통', '적', '▁사고', '를', '▁버', '리고', '[MASK]', '[MASK]', '▁행', '동을', '▁선', '행', '하는', '[MASK]', '[MASK]', '▁대해', '▁깊', '은', '▁유', '감을', '▁표시', '▁하며', '▁미국의', '▁군사', '적', '▁활동', '에', '▁강한', '[MASK]', '▁입', '장을', '▁보', '이고', '▁있다', '.', '[SEP]', '▁특히', '▁국제', '▁분', '쟁', '[MASK]', '[MASK]', '▁위해', '▁북한', '의', '▁김', '일', '성', ',', '▁아이', '티', '의', '▁세', '드', '라스', '▁장', '군', ',', '▁팔', '레', '인', '스타', '인의', '▁하', '마', '스', ',', '▁보', '스', '니아', '의', '▁세르', '비아', '계', '▁정', '권', '[MASK]', '▁미국', '▁정부', '에', '▁대해', '▁협', '상을', '▁거부', '하면서', '▁사', '태', '의', '▁위', '기를', '▁초', '래', '한', '▁인물', '▁및', '▁단', '체를', '▁직접', '[SEP]'], 'segment': [0, 0, 0, 0, 0, 0, 0, 0, 0, 0, 0, 0, 0, 0, 0, 0, 0, 0, 0, 0, 0, 0, 0, 0, 0, 0, 0, 0, 0, 0, 0, 0, 0, 0, 0, 0, 0, 0, 0, 0, 0, 0, 0, 0, 0, 0, 0, 0, 0, 0, 0, 0, 0, 0, 0, 0, 0, 0, 0, 0, 0, 0, 0, 0, 0, 1, 1, 1, 1, 1, 1, 1, 1, 1, 1, 1, 1, 1, 1, 1, 1, 1, 1, 1, 1, 1, 1, 1, 1, 1, 1, 1, 1, 1, 1, 1, 1, 1, 1, 1, 1, 1, 1, 1, 1, 1, 1, 1, 1, 1, 1, 1, 1, 1, 1, 1, 1, 1, 1, 1, 1, 1, 1, 1, 1, 1, 1, 1], 'is_next': 1, 'mask_idx': [1, 2, 5, 6, 7, 24, 25, 26, 35, 36, 42, 43, 57, 69, 70, 105, 124, 125], 'mask_label': ['▁미국', '이', '▁위', '기', ',', '▁최', '후', '로', '▁군사', '적', '▁행', '위에', '▁반대', '▁조', '정을', '▁같이', '▁단', '체를']}\n",
      "enc_token: [5, 6, 6, 251, 4166, 6, 6, 6, 258, 3688, 3672, 506, 3604, 8, 3553, 506, 3644, 733, 243, 3597, 1250, 3657, 236, 1629, 6, 6, 6, 1715, 38, 1306, 3657, 1646, 3624, 407, 999, 6, 6, 236, 1629, 57, 3752, 38, 6, 6, 433, 1910, 3613, 46, 2196, 2466, 1368, 679, 1250, 3657, 375, 3600, 2632, 6, 213, 480, 47, 458, 28, 3599, 4, 698, 605, 147, 3972, 6, 6, 231, 1876, 3601, 200, 3629, 3650, 3604, 520, 3835, 3601, 74, 3681, 1951, 104, 3722, 3604, 961, 3740, 3628, 936, 692, 27, 3674, 3626, 3604, 47, 3626, 491, 3601, 3189, 852, 3704, 36, 3830, 6, 243, 513, 3600, 433, 617, 460, 2324, 421, 15, 3800, 3601, 45, 333, 192, 3808, 3612, 1178, 228, 164, 1396, 1069, 4]\n",
      "segment: [0, 0, 0, 0, 0, 0, 0, 0, 0, 0, 0, 0, 0, 0, 0, 0, 0, 0, 0, 0, 0, 0, 0, 0, 0, 0, 0, 0, 0, 0, 0, 0, 0, 0, 0, 0, 0, 0, 0, 0, 0, 0, 0, 0, 0, 0, 0, 0, 0, 0, 0, 0, 0, 0, 0, 0, 0, 0, 0, 0, 0, 0, 0, 0, 0, 1, 1, 1, 1, 1, 1, 1, 1, 1, 1, 1, 1, 1, 1, 1, 1, 1, 1, 1, 1, 1, 1, 1, 1, 1, 1, 1, 1, 1, 1, 1, 1, 1, 1, 1, 1, 1, 1, 1, 1, 1, 1, 1, 1, 1, 1, 1, 1, 1, 1, 1, 1, 1, 1, 1, 1, 1, 1, 1, 1, 1, 1, 1]\n",
      "label_nsp: 1\n",
      "label_mlm: [   0  243 3597    0    0   45 3614 3604    0    0    0    0    0    0\n",
      "    0    0    0    0    0    0    0    0    0    0  130 3706 3603    0\n",
      "    0    0    0    0    0    0    0 1250 3657    0    0    0    0    0\n",
      "  236 1157    0    0    0    0    0    0    0    0    0    0    0    0\n",
      "    0 1216    0    0    0    0    0    0    0    0    0    0    0   53\n",
      "  666    0    0    0    0    0    0    0    0    0    0    0    0    0\n",
      "    0    0    0    0    0    0    0    0    0    0    0    0    0    0\n",
      "    0    0    0    0    0    0    0  733    0    0    0    0    0    0\n",
      "    0    0    0    0    0    0    0    0    0    0    0    0  164 1396\n",
      "    0    0]\n",
      "\n"
     ]
    }
   ],
   "source": [
    "# 라인 단위로 처리\n",
    "with open(pretrain_json_path, \"r\") as f:\n",
    "    for i, line in enumerate(tqdm(f, total=total)):\n",
    "        if 5 < i:  # 테스트를 위해서 5개만 확인\n",
    "            break\n",
    "        data = json.loads(line)\n",
    "        # encoder token\n",
    "        enc_token = [vocab.piece_to_id(p) for p in data[\"tokens\"]]\n",
    "        enc_token += [0] * (n_seq - len(enc_token))\n",
    "        # segment\n",
    "        segment = data[\"segment\"]\n",
    "        segment += [0] * (n_seq - len(segment))\n",
    "        # nsp label\n",
    "        label_nsp = data[\"is_next\"]\n",
    "        # mlm label\n",
    "        mask_idx = np.array(data[\"mask_idx\"], dtype=np.int)\n",
    "        mask_label = np.array([vocab.piece_to_id(p) for p in data[\"mask_label\"]], dtype=np.int)\n",
    "        label_mlm = np.full(n_seq, dtype=np.int, fill_value=0)\n",
    "        label_mlm[mask_idx] = mask_label\n",
    "\n",
    "        print(data)\n",
    "        print(\"enc_token:\", enc_token)\n",
    "        print(\"segment:\", segment)\n",
    "        print(\"label_nsp:\", label_nsp)\n",
    "        print(\"label_mlm:\", label_mlm)\n",
    "        print()\n",
    "\n",
    "        assert len(enc_token) == len(segment) == len(label_mlm) == n_seq\n",
    "\n",
    "        enc_tokens[i] = enc_token\n",
    "        segments[i] = segment\n",
    "        labels_nsp[i] = label_nsp\n",
    "        labels_mlm[i] = label_mlm"
   ]
  },
  {
   "cell_type": "code",
   "execution_count": 31,
   "id": "b2e84529",
   "metadata": {
    "execution": {
     "iopub.execute_input": "2021-05-13T20:38:26.445470Z",
     "iopub.status.busy": "2021-05-13T20:38:26.445277Z",
     "iopub.status.idle": "2021-05-13T20:38:26.454144Z",
     "shell.execute_reply": "2021-05-13T20:38:26.453656Z",
     "shell.execute_reply.started": "2021-05-13T20:38:26.445447Z"
    }
   },
   "outputs": [],
   "source": [
    "def load_pre_train_data(vocab, filename, n_seq, count=None):\n",
    "    \"\"\"\n",
    "    학습에 필요한 데이터를 로드\n",
    "    :param vocab: vocab\n",
    "    :param filename: 전처리된 json 파일\n",
    "    :param n_seq: 시퀀스 길이 (number of sequence)\n",
    "    :param count: 데이터 수 제한 (None이면 전체)\n",
    "    :return enc_tokens: encoder inputs\n",
    "    :return segments: segment inputs\n",
    "    :return labels_nsp: nsp labels\n",
    "    :return labels_mlm: mlm labels\n",
    "    \"\"\"\n",
    "    total = 0\n",
    "    with open(filename, \"r\") as f:\n",
    "        for line in f:\n",
    "            total += 1\n",
    "            # 데이터 수 제한\n",
    "            if count is not None and count <= total:\n",
    "                break\n",
    "    \n",
    "    # np.memmap을 사용하면 메모리를 적은 메모리에서도 대용량 데이터 처리가 가능 함\n",
    "    enc_tokens = np.memmap(filename='enc_tokens.memmap', mode='w+', dtype=np.int32, shape=(total, n_seq))\n",
    "    segments = np.memmap(filename='segments.memmap', mode='w+', dtype=np.int32, shape=(total, n_seq))\n",
    "    labels_nsp = np.memmap(filename='labels_nsp.memmap', mode='w+', dtype=np.int32, shape=(total,))\n",
    "    labels_mlm = np.memmap(filename='labels_mlm.memmap', mode='w+', dtype=np.int32, shape=(total, n_seq))\n",
    "\n",
    "    with open(filename, \"r\") as f:\n",
    "        for i, line in enumerate(tqdm(f, total=total)):\n",
    "            if total <= i:\n",
    "                print(\"data load early stop\", total, i)\n",
    "                break\n",
    "            data = json.loads(line)\n",
    "            # encoder token\n",
    "            enc_token = [vocab.piece_to_id(p) for p in data[\"tokens\"]]\n",
    "            enc_token += [0] * (n_seq - len(enc_token))\n",
    "            # segment\n",
    "            segment = data[\"segment\"]\n",
    "            segment += [0] * (n_seq - len(segment))\n",
    "            # nsp label\n",
    "            label_nsp = data[\"is_next\"]\n",
    "            # mlm label\n",
    "            mask_idx = np.array(data[\"mask_idx\"], dtype=np.int)\n",
    "            mask_label = np.array([vocab.piece_to_id(p) for p in data[\"mask_label\"]], dtype=np.int)\n",
    "            label_mlm = np.full(n_seq, dtype=np.int, fill_value=0)\n",
    "            label_mlm[mask_idx] = mask_label\n",
    "\n",
    "            assert len(enc_token) == len(segment) == len(label_mlm) == n_seq\n",
    "\n",
    "            enc_tokens[i] = enc_token\n",
    "            segments[i] = segment\n",
    "            labels_nsp[i] = label_nsp\n",
    "            labels_mlm[i] = label_mlm\n",
    "\n",
    "    return (enc_tokens, segments), (labels_nsp, labels_mlm)"
   ]
  },
  {
   "cell_type": "code",
   "execution_count": 32,
   "id": "64ecf007",
   "metadata": {
    "execution": {
     "iopub.execute_input": "2021-05-13T20:38:26.640671Z",
     "iopub.status.busy": "2021-05-13T20:38:26.640465Z",
     "iopub.status.idle": "2021-05-13T20:38:53.409034Z",
     "shell.execute_reply": "2021-05-13T20:38:53.408519Z",
     "shell.execute_reply.started": "2021-05-13T20:38:26.640646Z"
    }
   },
   "outputs": [
    {
     "data": {
      "application/vnd.jupyter.widget-view+json": {
       "model_id": "ceaf48f0d24e402c9731637a0b7c80a5",
       "version_major": 2,
       "version_minor": 0
      },
      "text/plain": [
       "  0%|          | 0/128000 [00:00<?, ?it/s]"
      ]
     },
     "metadata": {},
     "output_type": "display_data"
    },
    {
     "name": "stdout",
     "output_type": "stream",
     "text": [
      "data load early stop 128000 128000\n"
     ]
    }
   ],
   "source": [
    "# 128000건만 메모리에 로딩\n",
    "pre_train_inputs, pre_train_labels = load_pre_train_data(vocab, pretrain_json_path, 128, count=128000)"
   ]
  },
  {
   "cell_type": "code",
   "execution_count": 33,
   "id": "2ecdd011",
   "metadata": {
    "execution": {
     "iopub.execute_input": "2021-05-13T20:38:53.410008Z",
     "iopub.status.busy": "2021-05-13T20:38:53.409846Z",
     "iopub.status.idle": "2021-05-13T20:38:53.416759Z",
     "shell.execute_reply": "2021-05-13T20:38:53.416230Z",
     "shell.execute_reply.started": "2021-05-13T20:38:53.409986Z"
    }
   },
   "outputs": [
    {
     "data": {
      "text/plain": [
       "(memmap([   5, 3629,    6,  241, 3602, 1114, 3724,  788,  243,    6,    6,\n",
       "            6,  663, 1647, 3682, 3682, 3625,  203,    6,    6,    6,    6,\n",
       "            6,   18, 3686,  207, 3714, 3602, 1755, 3630, 3646,  630, 3714,\n",
       "         3565, 3835,  429, 3740, 3628, 3626, 1369,   10, 1605, 3599, 1755,\n",
       "         3630,   41, 3644,  830, 3624, 1135,   52, 3599,   13,    6,   87,\n",
       "         1501, 2247,   25, 3779, 3873, 3667, 3631, 3813, 3873, 4196, 3636,\n",
       "         3779, 3601,  249, 3725, 1232,   33,   52, 3599,  479, 3652, 3625,\n",
       "          243, 3711,   14, 1509,  168, 3877,  414,  165, 1697, 4290, 3873,\n",
       "         3703, 3683,  593,    6,    6,  399, 1927, 3607,  813,   17, 3599,\n",
       "          307,  587,  931,  103, 4313, 4290,    6,    6,    6,   98, 3878,\n",
       "         3656,  256, 2543,  309,  337, 3735,  181, 3616, 3603,  489,  376,\n",
       "         3599,    4,    6,    6,  207, 3714,    4], dtype=int32),\n",
       " memmap([   5,  848, 3784, 3833,    8, 3637, 3676,    4,  848, 3784, 1931,\n",
       "            6,    6,    6, 2316, 3619, 3625, 3617, 3744, 4335,   12, 3625,\n",
       "         3616,  175, 3662,    7, 3629,  203,  578, 3652, 3625, 3617, 4148,\n",
       "         3665,  143, 3625, 3616,  131, 3662,  342, 3629, 3616, 3602,  176,\n",
       "          334,  829, 1115, 3665, 1381, 4148, 3451, 1633,  375,  671, 1644,\n",
       "         3608,  547,    6,  765,  815, 3604,  752, 3608, 3604, 2375, 3608,\n",
       "         3604,  532, 2589, 3599,  307,  323, 2143,  321, 3611,  622,  122,\n",
       "         3725, 3620, 3627, 3837, 3608,  347,  176,  268, 4082,    6,    6,\n",
       "            6,    6,    6,    6,    6,    6, 3590,    6,  192, 1272,  158,\n",
       "         3788,  353, 3599,  202,  316, 3600,  176,   10,  323,  476, 3663,\n",
       "         1329,  605,  238, 3631, 2470, 3604, 1939,  106, 3627,   13,  162,\n",
       "          490, 1128,   48,   28, 3599,    6,    4], dtype=int32),\n",
       " memmap([0, 0, 0, 0, 0, 0, 0, 0, 0, 0, 0, 0, 0, 0, 0, 0, 0, 0, 0, 0, 0, 0,\n",
       "         0, 0, 0, 0, 0, 0, 0, 0, 0, 0, 0, 0, 0, 0, 0, 0, 0, 0, 0, 0, 0, 0,\n",
       "         0, 0, 0, 0, 0, 0, 0, 0, 0, 0, 0, 0, 0, 0, 0, 0, 0, 0, 0, 0, 0, 0,\n",
       "         0, 0, 0, 0, 0, 0, 0, 0, 0, 0, 0, 0, 0, 0, 0, 0, 0, 0, 0, 0, 0, 0,\n",
       "         0, 0, 0, 0, 0, 0, 0, 0, 0, 0, 0, 0, 0, 0, 0, 0, 0, 0, 0, 0, 0, 0,\n",
       "         0, 0, 0, 0, 0, 0, 0, 0, 0, 0, 0, 0, 0, 1, 1, 1, 1, 1], dtype=int32),\n",
       " memmap([0, 0, 0, 0, 0, 0, 0, 0, 1, 1, 1, 1, 1, 1, 1, 1, 1, 1, 1, 1, 1, 1,\n",
       "         1, 1, 1, 1, 1, 1, 1, 1, 1, 1, 1, 1, 1, 1, 1, 1, 1, 1, 1, 1, 1, 1,\n",
       "         1, 1, 1, 1, 1, 1, 1, 1, 1, 1, 1, 1, 1, 1, 1, 1, 1, 1, 1, 1, 1, 1,\n",
       "         1, 1, 1, 1, 1, 1, 1, 1, 1, 1, 1, 1, 1, 1, 1, 1, 1, 1, 1, 1, 1, 1,\n",
       "         1, 1, 1, 1, 1, 1, 1, 1, 1, 1, 1, 1, 1, 1, 1, 1, 1, 1, 1, 1, 1, 1,\n",
       "         1, 1, 1, 1, 1, 1, 1, 1, 1, 1, 1, 1, 1, 1, 1, 1, 1, 1], dtype=int32),\n",
       " 0,\n",
       " 1,\n",
       " memmap([   0,    0,  203,    0,    0,    0,    0,    0,    0,   49, 3632,\n",
       "          796,    0,    0,    0,    0,    0,    0, 3008, 3625, 3616,   16,\n",
       "         3599,    0,    0,    0,    0,    0,    0,    0,    0,    0,    0,\n",
       "            0,    0,    0,    0,    0,    0,    0,    0,    0,    0,    0,\n",
       "            0,    0,    0,    0,    0,    0,    0,    0,    0,   81,    0,\n",
       "            0,    0,    0,    0,    0,    0,    0,    0,    0,    0,    0,\n",
       "            0,    0,    0,    0,    0,    0,    0,    0,    0,    0,    0,\n",
       "            0, 2780,    0,    0,    0,    0,    0,    0,    0,    0,    0,\n",
       "            0,    0,    0,   21, 5007,    0,    0,    0,    0,    0,    0,\n",
       "            0,    0,    0,    0,    0,    0,  613, 3638, 3718,    0,    0,\n",
       "            0,    0,    0,    0,    0,    0,    0,    0,    0,    0,    0,\n",
       "            0,    0,   18, 3686,    0,    0,    0], dtype=int32),\n",
       " memmap([   0,    0,    0,    0,    0,    0,    0,    0,  848, 3784, 1931,\n",
       "           58, 3676,  416,    0,    0,    0,    0,    0,    0,    0,    0,\n",
       "            0,    0,    0,    0,    0,    0,    0,    0,    0,    0,    0,\n",
       "            0,    0,    0,    0,    0,    0,    0,    0,    0,    0,    0,\n",
       "            0,    0,    0,    0,    0,    0,    0,    0,    0,    0,    0,\n",
       "            0,    0, 3423,    0,    0,    0,    0,    0,    0,    0,    0,\n",
       "            0,    0,    0,    0,    0,    0,    0,    0,    0,    0,    0,\n",
       "            0,    0,    0,    0,    0,    0,    0,    0,    0,   94,  567,\n",
       "         4014, 3617, 7474, 3616, 3830,   66,    0,  307,    0,    0,    0,\n",
       "            0,    0,    0,    0,    0,    0,    0,    0,    0,    0,    0,\n",
       "            0,    0,    0,    0,    0,    0,    0,    0,    0,   13,    0,\n",
       "            0,    0,    0,    0,    0,  848,    0], dtype=int32))"
      ]
     },
     "execution_count": 33,
     "metadata": {},
     "output_type": "execute_result"
    }
   ],
   "source": [
    "# 처음과 마지막 확인\n",
    "pre_train_inputs[0][0], pre_train_inputs[0][-1], pre_train_inputs[1][0], pre_train_inputs[1][-1], pre_train_labels[0][0], pre_train_labels[0][-1], pre_train_labels[1][0], pre_train_labels[1][-1]"
   ]
  },
  {
   "cell_type": "markdown",
   "id": "9c583672",
   "metadata": {},
   "source": [
    "## Step 5. BERT 모델 구현\n",
    "---"
   ]
  },
  {
   "cell_type": "code",
   "execution_count": 35,
   "id": "2b818616",
   "metadata": {
    "execution": {
     "iopub.execute_input": "2021-05-13T22:25:37.688467Z",
     "iopub.status.busy": "2021-05-13T22:25:37.688257Z",
     "iopub.status.idle": "2021-05-13T22:25:37.693497Z",
     "shell.execute_reply": "2021-05-13T22:25:37.692722Z",
     "shell.execute_reply.started": "2021-05-13T22:25:37.688442Z"
    },
    "tags": []
   },
   "outputs": [],
   "source": [
    "def get_pad_mask(tokens, i_pad=0):\n",
    "    \"\"\"\n",
    "    pad mask 계산하는 함수\n",
    "    :param tokens: tokens (bs, n_seq)\n",
    "    :param i_pad: id of pad\n",
    "    :return mask: pad mask (pad: 1, other: 0)\n",
    "    \"\"\"\n",
    "    mask = tf.cast(tf.math.equal(tokens, i_pad), tf.float32)\n",
    "    mask = tf.expand_dims(mask, axis=1)\n",
    "    return mask\n",
    "\n",
    "\n",
    "def get_ahead_mask(tokens, i_pad=0):\n",
    "    \"\"\"\n",
    "    ahead mask 계산하는 함수\n",
    "    :param tokens: tokens (bs, n_seq)\n",
    "    :param i_pad: id of pad\n",
    "    :return mask: ahead and pad mask (ahead or pad: 1, other: 0)\n",
    "    \"\"\"\n",
    "    n_seq = tf.shape(tokens)[1]\n",
    "    ahead_mask = 1 - tf.linalg.band_part(tf.ones((n_seq, n_seq)), -1, 0)\n",
    "    ahead_mask = tf.expand_dims(ahead_mask, axis=0)\n",
    "    pad_mask = get_pad_mask(tokens, i_pad)\n",
    "    mask = tf.maximum(ahead_mask, pad_mask)\n",
    "    return mask"
   ]
  },
  {
   "cell_type": "code",
   "execution_count": 36,
   "id": "2e9a7f1c",
   "metadata": {
    "execution": {
     "iopub.execute_input": "2021-05-13T22:25:43.334451Z",
     "iopub.status.busy": "2021-05-13T22:25:43.333851Z",
     "iopub.status.idle": "2021-05-13T22:25:43.340197Z",
     "shell.execute_reply": "2021-05-13T22:25:43.339452Z",
     "shell.execute_reply.started": "2021-05-13T22:25:43.334376Z"
    }
   },
   "outputs": [],
   "source": [
    "@tf.function(experimental_relax_shapes=True)\n",
    "def gelu(x):\n",
    "    \"\"\"\n",
    "    gelu activation 함수\n",
    "    :param x: 입력 값\n",
    "    :return: gelu activation result\n",
    "    \"\"\"\n",
    "    return 0.5 * x * (1 + K.tanh(x * 0.7978845608 * (1 + 0.044715 * x * x)))\n"
   ]
  },
  {
   "cell_type": "code",
   "execution_count": 37,
   "id": "39a80dc3",
   "metadata": {
    "execution": {
     "iopub.execute_input": "2021-05-13T22:25:49.453002Z",
     "iopub.status.busy": "2021-05-13T22:25:49.452753Z",
     "iopub.status.idle": "2021-05-13T22:25:49.456320Z",
     "shell.execute_reply": "2021-05-13T22:25:49.455825Z",
     "shell.execute_reply.started": "2021-05-13T22:25:49.452976Z"
    }
   },
   "outputs": [],
   "source": [
    "def kernel_initializer(stddev=0.02):\n",
    "    \"\"\"\n",
    "    parameter initializer 생성\n",
    "    :param stddev: 생성할 랜덤 변수의 표준편차\n",
    "    \"\"\"\n",
    "    return tf.keras.initializers.TruncatedNormal(stddev=stddev)\n",
    "\n",
    "\n",
    "def bias_initializer():\n",
    "    \"\"\"\n",
    "    bias initializer 생성\n",
    "    \"\"\"\n",
    "    return tf.zeros_initializer"
   ]
  },
  {
   "cell_type": "code",
   "execution_count": 38,
   "id": "c2395f52",
   "metadata": {
    "execution": {
     "iopub.execute_input": "2021-05-13T22:25:54.845970Z",
     "iopub.status.busy": "2021-05-13T22:25:54.845774Z",
     "iopub.status.idle": "2021-05-13T22:25:54.849818Z",
     "shell.execute_reply": "2021-05-13T22:25:54.849185Z",
     "shell.execute_reply.started": "2021-05-13T22:25:54.845946Z"
    }
   },
   "outputs": [],
   "source": [
    "class Config(dict):\n",
    "    \"\"\"\n",
    "    json을 config 형태로 사용하기 위한 Class\n",
    "    :param dict: config dictionary\n",
    "    \"\"\"\n",
    "    __getattr__ = dict.__getitem__\n",
    "    __setattr__ = dict.__setitem__\n",
    "\n",
    "    @classmethod\n",
    "    def load(cls, file):\n",
    "        \"\"\"\n",
    "        file에서 Config를 생성 함\n",
    "        :param file: filename\n",
    "        \"\"\"\n",
    "        with open(file, 'r') as f:\n",
    "            config = json.loads(f.read())\n",
    "            return Config(config)"
   ]
  },
  {
   "cell_type": "code",
   "execution_count": 39,
   "id": "e24548fa",
   "metadata": {
    "execution": {
     "iopub.execute_input": "2021-05-13T22:26:02.199590Z",
     "iopub.status.busy": "2021-05-13T22:26:02.199327Z",
     "iopub.status.idle": "2021-05-13T22:26:02.209224Z",
     "shell.execute_reply": "2021-05-13T22:26:02.208631Z",
     "shell.execute_reply.started": "2021-05-13T22:26:02.199558Z"
    }
   },
   "outputs": [],
   "source": [
    "class SharedEmbedding(tf.keras.layers.Layer):\n",
    "    \"\"\"\n",
    "    Weighed Shaed Embedding Class\n",
    "    \"\"\"\n",
    "    def __init__(self, config, name=\"weight_shared_embedding\"):\n",
    "        \"\"\"\n",
    "        생성자\n",
    "        :param config: Config 객체\n",
    "        :param name: layer name\n",
    "        \"\"\"\n",
    "        super().__init__(name=name)\n",
    "\n",
    "        self.n_vocab = config.n_vocab\n",
    "        self.d_model = config.d_model\n",
    "    \n",
    "    def build(self, input_shape):\n",
    "        \"\"\"\n",
    "        shared weight 생성\n",
    "        :param input_shape: Tensor Shape (not used)\n",
    "        \"\"\"\n",
    "        with tf.name_scope(\"shared_embedding_weight\"):\n",
    "            self.shared_weights = self.add_weight(\n",
    "                \"weights\",\n",
    "                shape=[self.n_vocab, self.d_model],\n",
    "                initializer=kernel_initializer()\n",
    "            )\n",
    "\n",
    "    def call(self, inputs, mode=\"embedding\"):\n",
    "        \"\"\"\n",
    "        layer 실행\n",
    "        :param inputs: 입력\n",
    "        :param mode: 실행 모드\n",
    "        :return: embedding or linear 실행 결과\n",
    "        \"\"\"\n",
    "        # mode가 embedding일 경우 embedding lookup 실행\n",
    "        if mode == \"embedding\":\n",
    "            return self._embedding(inputs)\n",
    "        # mode가 linear일 경우 linear 실행\n",
    "        elif mode == \"linear\":\n",
    "            return self._linear(inputs)\n",
    "        # mode가 기타일 경우 오류 발생\n",
    "        else:\n",
    "            raise ValueError(f\"mode {mode} is not valid.\")\n",
    "    \n",
    "    def _embedding(self, inputs):\n",
    "        \"\"\"\n",
    "        embedding lookup\n",
    "        :param inputs: 입력\n",
    "        \"\"\"\n",
    "        embed = tf.gather(self.shared_weights, tf.cast(inputs, tf.int32))\n",
    "        return embed\n",
    "\n",
    "    def _linear(self, inputs):  # (bs, n_seq, d_model)\n",
    "        \"\"\"\n",
    "        linear 실행\n",
    "        :param inputs: 입력\n",
    "        \"\"\"\n",
    "        n_batch = tf.shape(inputs)[0]\n",
    "        n_seq = tf.shape(inputs)[1]\n",
    "        inputs = tf.reshape(inputs, [-1, self.d_model])  # (bs * n_seq, d_model)\n",
    "        outputs = tf.matmul(inputs, self.shared_weights, transpose_b=True)\n",
    "        outputs = tf.reshape(outputs, [n_batch, n_seq, self.n_vocab])  # (bs, n_seq, n_vocab)\n",
    "        return outputs"
   ]
  },
  {
   "cell_type": "code",
   "execution_count": 40,
   "id": "34c0ef84",
   "metadata": {
    "execution": {
     "iopub.execute_input": "2021-05-13T22:26:07.611238Z",
     "iopub.status.busy": "2021-05-13T22:26:07.611034Z",
     "iopub.status.idle": "2021-05-13T22:26:07.615813Z",
     "shell.execute_reply": "2021-05-13T22:26:07.615141Z",
     "shell.execute_reply.started": "2021-05-13T22:26:07.611214Z"
    }
   },
   "outputs": [],
   "source": [
    "class PositionalEmbedding(tf.keras.layers.Layer):\n",
    "    \"\"\"\n",
    "    Positional Embedding Class\n",
    "    \"\"\"\n",
    "    def __init__(self, config, name=\"position_embedding\"):\n",
    "        \"\"\"\n",
    "        생성자\n",
    "        :param config: Config 객체\n",
    "        :param name: layer name\n",
    "        \"\"\"\n",
    "        super().__init__(name=name)\n",
    "        \n",
    "        self.embedding = tf.keras.layers.Embedding(config.n_seq, config.d_model, embeddings_initializer=kernel_initializer())\n",
    "\n",
    "    def call(self, inputs):\n",
    "        \"\"\"\n",
    "        layer 실행\n",
    "        :param inputs: 입력\n",
    "        :return embed: positional embedding lookup 결과\n",
    "        \"\"\"\n",
    "        position = tf.cast(tf.math.cumsum(tf.ones_like(inputs), axis=1, exclusive=True), tf.int32)\n",
    "        embed = self.embedding(position)\n",
    "        return embed"
   ]
  },
  {
   "cell_type": "code",
   "execution_count": 42,
   "id": "0051264d",
   "metadata": {
    "execution": {
     "iopub.execute_input": "2021-05-13T22:26:22.654348Z",
     "iopub.status.busy": "2021-05-13T22:26:22.654126Z",
     "iopub.status.idle": "2021-05-13T22:26:22.659936Z",
     "shell.execute_reply": "2021-05-13T22:26:22.659293Z",
     "shell.execute_reply.started": "2021-05-13T22:26:22.654321Z"
    },
    "tags": []
   },
   "outputs": [],
   "source": [
    "class ScaleDotProductAttention(tf.keras.layers.Layer):\n",
    "    \"\"\"\n",
    "    Scale Dot Product Attention Class\n",
    "    \"\"\"\n",
    "    def __init__(self, name=\"scale_dot_product_attention\"):\n",
    "        \"\"\"\n",
    "        생성자\n",
    "        :param name: layer name\n",
    "        \"\"\"\n",
    "        super().__init__(name=name)\n",
    "\n",
    "    def call(self, Q, K, V, attn_mask):\n",
    "        \"\"\"\n",
    "        layer 실행\n",
    "        :param Q: Q value\n",
    "        :param K: K value\n",
    "        :param V: V value\n",
    "        :param attn_mask: 실행 모드\n",
    "        :return attn_out: attention 실행 결과\n",
    "        \"\"\"\n",
    "        attn_score = tf.matmul(Q, K, transpose_b=True)\n",
    "        scale = tf.math.sqrt(tf.cast(tf.shape(K)[-1], tf.float32))\n",
    "        attn_scale = tf.math.divide(attn_score, scale)\n",
    "        attn_scale -= 1.e9 * attn_mask\n",
    "        attn_prob = tf.nn.softmax(attn_scale, axis=-1)\n",
    "        attn_out = tf.matmul(attn_prob, V)\n",
    "        return attn_out"
   ]
  },
  {
   "cell_type": "code",
   "execution_count": 43,
   "id": "b0997c77",
   "metadata": {
    "execution": {
     "iopub.execute_input": "2021-05-13T22:26:33.234618Z",
     "iopub.status.busy": "2021-05-13T22:26:33.234377Z",
     "iopub.status.idle": "2021-05-13T22:26:33.244789Z",
     "shell.execute_reply": "2021-05-13T22:26:33.244068Z",
     "shell.execute_reply.started": "2021-05-13T22:26:33.234588Z"
    }
   },
   "outputs": [],
   "source": [
    "class MultiHeadAttention(tf.keras.layers.Layer):\n",
    "    \"\"\"\n",
    "    Multi Head Attention Class\n",
    "    \"\"\"\n",
    "    def __init__(self, config, name=\"multi_head_attention\"):\n",
    "        \"\"\"\n",
    "        생성자\n",
    "        :param config: Config 객체\n",
    "        :param name: layer name\n",
    "        \"\"\"\n",
    "        super().__init__(name=name)\n",
    "\n",
    "        self.d_model = config.d_model\n",
    "        self.n_head = config.n_head\n",
    "        self.d_head = config.d_head\n",
    "\n",
    "        # Q, K, V input dense layer\n",
    "        self.W_Q = tf.keras.layers.Dense(config.n_head * config.d_head, kernel_initializer=kernel_initializer(), bias_initializer=bias_initializer())\n",
    "        self.W_K = tf.keras.layers.Dense(config.n_head * config.d_head, kernel_initializer=kernel_initializer(), bias_initializer=bias_initializer())\n",
    "        self.W_V = tf.keras.layers.Dense(config.n_head * config.d_head, kernel_initializer=kernel_initializer(), bias_initializer=bias_initializer())\n",
    "        # Scale Dot Product Attention class\n",
    "        self.attention = ScaleDotProductAttention(name=\"self_attention\")\n",
    "        # output dense layer\n",
    "        self.W_O = tf.keras.layers.Dense(config.d_model, kernel_initializer=kernel_initializer(), bias_initializer=bias_initializer())\n",
    "\n",
    "    def call(self, Q, K, V, attn_mask):\n",
    "        \"\"\"\n",
    "        layer 실행\n",
    "        :param Q: Q value\n",
    "        :param K: K value\n",
    "        :param V: V value\n",
    "        :param attn_mask: 실행 모드\n",
    "        :return attn_out: attention 실행 결과\n",
    "        \"\"\"\n",
    "        # reshape Q, K, V, attn_mask\n",
    "        batch_size = tf.shape(Q)[0]\n",
    "        Q_m = tf.transpose(tf.reshape(self.W_Q(Q), [batch_size, -1, self.n_head, self.d_head]), [0, 2, 1, 3])  # (bs, n_head, Q_len, d_head)\n",
    "        K_m = tf.transpose(tf.reshape(self.W_K(K), [batch_size, -1, self.n_head, self.d_head]), [0, 2, 1, 3])  # (bs, n_head, K_len, d_head)\n",
    "        V_m = tf.transpose(tf.reshape(self.W_V(V), [batch_size, -1, self.n_head, self.d_head]), [0, 2, 1, 3])  # (bs, n_head, K_len, d_head)\n",
    "        attn_mask_m = tf.expand_dims(attn_mask, axis=1)\n",
    "        # Scale Dot Product Attention with multi head Q, K, V, attn_mask\n",
    "        attn_out = self.attention(Q_m, K_m, V_m, attn_mask_m)  # (bs, n_head, Q_len, d_head)\n",
    "        # transpose and liner\n",
    "        attn_out_m = tf.transpose(attn_out, perm=[0, 2, 1, 3])  # (bs, Q_len, n_head, d_head)\n",
    "        attn_out = tf.reshape(attn_out_m, [batch_size, -1, config.n_head * config.d_head])  # (bs, Q_len, d_model)\n",
    "        attn_out = self.W_O(attn_out) # (bs, Q_len, d_model)\n",
    "\n",
    "        return attn_out"
   ]
  },
  {
   "cell_type": "code",
   "execution_count": 44,
   "id": "0a49d718",
   "metadata": {
    "execution": {
     "iopub.execute_input": "2021-05-13T22:26:44.290853Z",
     "iopub.status.busy": "2021-05-13T22:26:44.290497Z",
     "iopub.status.idle": "2021-05-13T22:26:44.299317Z",
     "shell.execute_reply": "2021-05-13T22:26:44.298211Z",
     "shell.execute_reply.started": "2021-05-13T22:26:44.290809Z"
    }
   },
   "outputs": [],
   "source": [
    "class PositionWiseFeedForward(tf.keras.layers.Layer):\n",
    "    \"\"\"\n",
    "    Position Wise Feed Forward Class\n",
    "    \"\"\"\n",
    "    def __init__(self, config, name=\"feed_forward\"):\n",
    "        \"\"\"\n",
    "        생성자\n",
    "        :param config: Config 객체\n",
    "        :param name: layer name\n",
    "        \"\"\"\n",
    "        super().__init__(name=name)\n",
    "\n",
    "        self.W_1 = tf.keras.layers.Dense(config.d_ff, activation=gelu, kernel_initializer=kernel_initializer(), bias_initializer=bias_initializer())\n",
    "        self.W_2 = tf.keras.layers.Dense(config.d_model, kernel_initializer=kernel_initializer(), bias_initializer=bias_initializer())\n",
    "\n",
    "    def call(self, inputs):\n",
    "        \"\"\"\n",
    "        layer 실행\n",
    "        :param inputs: inputs\n",
    "        :return ff_val: feed forward 실행 결과\n",
    "        \"\"\"\n",
    "        ff_val = self.W_2(self.W_1(inputs))\n",
    "        return ff_val"
   ]
  },
  {
   "cell_type": "code",
   "execution_count": 45,
   "id": "8f04e414",
   "metadata": {
    "execution": {
     "iopub.execute_input": "2021-05-13T22:26:55.059341Z",
     "iopub.status.busy": "2021-05-13T22:26:55.058846Z",
     "iopub.status.idle": "2021-05-13T22:26:55.070573Z",
     "shell.execute_reply": "2021-05-13T22:26:55.069810Z",
     "shell.execute_reply.started": "2021-05-13T22:26:55.059281Z"
    }
   },
   "outputs": [],
   "source": [
    "class EncoderLayer(tf.keras.layers.Layer):\n",
    "    \"\"\"\n",
    "    Encoder Layer Class\n",
    "    \"\"\"\n",
    "    def __init__(self, config, name=\"encoder_layer\"):\n",
    "        \"\"\"\n",
    "        생성자\n",
    "        :param config: Config 객체\n",
    "        :param name: layer name\n",
    "        \"\"\"\n",
    "        super().__init__(name=name)\n",
    "\n",
    "        self.self_attention = MultiHeadAttention(config)\n",
    "        self.norm1 = tf.keras.layers.LayerNormalization(epsilon=config.layernorm_epsilon)\n",
    "\n",
    "        self.ffn = PositionWiseFeedForward(config)\n",
    "        self.norm2 = tf.keras.layers.LayerNormalization(epsilon=config.layernorm_epsilon)\n",
    "\n",
    "        self.dropout = tf.keras.layers.Dropout(config.dropout)\n",
    " \n",
    "    def call(self, enc_embed, self_mask):\n",
    "        \"\"\"\n",
    "        layer 실행\n",
    "        :param enc_embed: enc_embed 또는 이전 EncoderLayer의 출력\n",
    "        :param self_mask: enc_tokens의 pad mask\n",
    "        :return enc_out: EncoderLayer 실행 결과\n",
    "        \"\"\"\n",
    "        self_attn_val = self.self_attention(enc_embed, enc_embed, enc_embed, self_mask)\n",
    "        norm1_val = self.norm1(enc_embed + self.dropout(self_attn_val))\n",
    "\n",
    "        ffn_val = self.ffn(norm1_val)\n",
    "        enc_out = self.norm2(norm1_val + self.dropout(ffn_val))\n",
    "\n",
    "        return enc_out"
   ]
  },
  {
   "cell_type": "code",
   "execution_count": 46,
   "id": "d7a4fe0c",
   "metadata": {
    "execution": {
     "iopub.execute_input": "2021-05-13T22:27:02.536088Z",
     "iopub.status.busy": "2021-05-13T22:27:02.535886Z",
     "iopub.status.idle": "2021-05-13T22:27:02.543708Z",
     "shell.execute_reply": "2021-05-13T22:27:02.543052Z",
     "shell.execute_reply.started": "2021-05-13T22:27:02.536063Z"
    }
   },
   "outputs": [],
   "source": [
    "class BERT(tf.keras.layers.Layer):\n",
    "    \"\"\"\n",
    "    BERT Class\n",
    "    \"\"\"\n",
    "    def __init__(self, config, name=\"bert\"):\n",
    "        \"\"\"\n",
    "        생성자\n",
    "        :param config: Config 객체\n",
    "        :param name: layer name\n",
    "        \"\"\"\n",
    "        super().__init__(name=name)\n",
    "\n",
    "        self.i_pad = config.i_pad\n",
    "        self.embedding = SharedEmbedding(config)\n",
    "        self.position = PositionalEmbedding(config)\n",
    "        self.segment = tf.keras.layers.Embedding(2, config.d_model, embeddings_initializer=kernel_initializer())\n",
    "        self.norm = tf.keras.layers.LayerNormalization(epsilon=config.layernorm_epsilon)\n",
    "        \n",
    "        self.encoder_layers = [EncoderLayer(config, name=f\"encoder_layer_{i}\") for i in range(config.n_layer)]\n",
    "\n",
    "        self.dropout = tf.keras.layers.Dropout(config.dropout)\n",
    "\n",
    "    def call(self, inputs):\n",
    "        \"\"\"\n",
    "        layer 실행\n",
    "        :param inputs: (enc_tokens, segments)\n",
    "        :return logits: dec_tokens에 대한 다음 토큰 예측 결과 logits\n",
    "        \"\"\"\n",
    "        enc_tokens, segments = inputs\n",
    "\n",
    "        enc_self_mask = tf.keras.layers.Lambda(get_pad_mask, output_shape=(1, None), name='enc_self_mask')(enc_tokens, self.i_pad)\n",
    "\n",
    "        enc_embed = self.get_embedding(enc_tokens, segments)\n",
    "\n",
    "        enc_out = self.dropout(enc_embed)\n",
    "        for encoder_layer in self.encoder_layers:\n",
    "            enc_out = encoder_layer(enc_out, enc_self_mask)\n",
    "\n",
    "        logits_cls = enc_out[:,0]\n",
    "        logits_lm = self.embedding(enc_out, mode=\"linear\")\n",
    "        return logits_cls, logits_lm\n",
    "    \n",
    "    def get_embedding(self, tokens, segments):\n",
    "        \"\"\"\n",
    "        token embedding, position embedding lookup\n",
    "        :param tokens: 입력 tokens\n",
    "        :param segments: 입력 segments\n",
    "        :return embed: embedding 결과\n",
    "        \"\"\"\n",
    "        embed = self.embedding(tokens) + self.position(tokens) + self.segment(segments)\n",
    "        embed = self.norm(embed)\n",
    "        return embed"
   ]
  },
  {
   "cell_type": "code",
   "execution_count": 47,
   "id": "ccb4a1c7",
   "metadata": {
    "execution": {
     "iopub.execute_input": "2021-05-13T22:27:13.876213Z",
     "iopub.status.busy": "2021-05-13T22:27:13.875998Z",
     "iopub.status.idle": "2021-05-13T22:27:13.881097Z",
     "shell.execute_reply": "2021-05-13T22:27:13.880446Z",
     "shell.execute_reply.started": "2021-05-13T22:27:13.876185Z"
    }
   },
   "outputs": [],
   "source": [
    "# Encoder Layer class 정의\n",
    "class PooledOutput(tf.keras.layers.Layer):\n",
    "    def __init__(self, config, n_output, name=\"pooled_output\"):\n",
    "        super().__init__(name=name)\n",
    "\n",
    "        self.dense1 = tf.keras.layers.Dense(config.d_model, activation=tf.nn.tanh, kernel_initializer=kernel_initializer(), bias_initializer=bias_initializer())\n",
    "        self.dense2 = tf.keras.layers.Dense(n_output, use_bias=False, activation=tf.nn.softmax, name=\"nsp\", kernel_initializer=kernel_initializer(), bias_initializer=bias_initializer())\n",
    " \n",
    "    def call(self, inputs):\n",
    "        outputs = self.dense1(inputs)\n",
    "        outputs = self.dense2(outputs)\n",
    "        return outputs"
   ]
  },
  {
   "cell_type": "code",
   "execution_count": 48,
   "id": "060062d9",
   "metadata": {
    "execution": {
     "iopub.execute_input": "2021-05-13T22:27:19.179664Z",
     "iopub.status.busy": "2021-05-13T22:27:19.179452Z",
     "iopub.status.idle": "2021-05-13T22:27:19.184138Z",
     "shell.execute_reply": "2021-05-13T22:27:19.183624Z",
     "shell.execute_reply.started": "2021-05-13T22:27:19.179638Z"
    }
   },
   "outputs": [],
   "source": [
    "def build_model_pre_train(config):\n",
    "    enc_tokens = tf.keras.layers.Input((None,), name=\"enc_tokens\")\n",
    "    segments = tf.keras.layers.Input((None,), name=\"segments\")\n",
    "\n",
    "    bert = BERT(config)\n",
    "    logits_cls, logits_lm = bert((enc_tokens, segments))\n",
    "\n",
    "    logits_cls = PooledOutput(config, 2, name=\"pooled_nsp\")(logits_cls)\n",
    "    outputs_nsp = tf.keras.layers.Softmax(name=\"nsp\")(logits_cls)\n",
    "\n",
    "    outputs_mlm = tf.keras.layers.Softmax(name=\"mlm\")(logits_lm)\n",
    "\n",
    "    model = tf.keras.Model(inputs=(enc_tokens, segments), outputs=(outputs_nsp, outputs_mlm))\n",
    "    return model"
   ]
  },
  {
   "cell_type": "code",
   "execution_count": 49,
   "id": "d5e5db6a",
   "metadata": {
    "execution": {
     "iopub.execute_input": "2021-05-13T22:27:27.385961Z",
     "iopub.status.busy": "2021-05-13T22:27:27.385744Z",
     "iopub.status.idle": "2021-05-13T22:27:27.390859Z",
     "shell.execute_reply": "2021-05-13T22:27:27.390417Z",
     "shell.execute_reply.started": "2021-05-13T22:27:27.385934Z"
    }
   },
   "outputs": [
    {
     "data": {
      "text/plain": [
       "{'d_model': 256,\n",
       " 'n_head': 4,\n",
       " 'd_head': 64,\n",
       " 'dropout': 0.1,\n",
       " 'd_ff': 1024,\n",
       " 'layernorm_epsilon': 0.001,\n",
       " 'n_layer': 3,\n",
       " 'n_seq': 256,\n",
       " 'n_vocab': 8007,\n",
       " 'i_pad': 0}"
      ]
     },
     "execution_count": 49,
     "metadata": {},
     "output_type": "execute_result"
    }
   ],
   "source": [
    "config = Config({\"d_model\": 256, \"n_head\": 4, \"d_head\": 64, \"dropout\": 0.1, \"d_ff\": 1024, \"layernorm_epsilon\": 0.001, \"n_layer\": 3, \"n_seq\": 256, \"n_vocab\": 0, \"i_pad\": 0})\n",
    "config.n_vocab = len(vocab)\n",
    "config.i_pad = vocab.pad_id()\n",
    "config"
   ]
  },
  {
   "cell_type": "code",
   "execution_count": 51,
   "id": "c8af27fc",
   "metadata": {
    "execution": {
     "iopub.execute_input": "2021-05-13T22:28:16.921963Z",
     "iopub.status.busy": "2021-05-13T22:28:16.921727Z",
     "iopub.status.idle": "2021-05-13T22:28:20.658479Z",
     "shell.execute_reply": "2021-05-13T22:28:20.658063Z",
     "shell.execute_reply.started": "2021-05-13T22:28:16.921935Z"
    },
    "tags": []
   },
   "outputs": [
    {
     "name": "stdout",
     "output_type": "stream",
     "text": [
      "Epoch 1/2\n",
      "1/1 [==============================] - 3s 3s/step - loss: 9.7319 - nsp_loss: 0.6928 - mlm_loss: 9.0391 - nsp_acc: 0.5000 - mlm_acc: 0.0000e+00\n",
      "Epoch 2/2\n",
      "1/1 [==============================] - 0s 10ms/step - loss: 8.9471 - nsp_loss: 0.6100 - mlm_loss: 8.3372 - nsp_acc: 0.7000 - mlm_acc: 0.0000e+00\n"
     ]
    },
    {
     "data": {
      "text/plain": [
       "<tensorflow.python.keras.callbacks.History at 0x7f935c091110>"
      ]
     },
     "execution_count": 51,
     "metadata": {},
     "output_type": "execute_result"
    }
   ],
   "source": [
    "n_seq = 10\n",
    "\n",
    "# make test inputs\n",
    "enc_tokens = np.random.randint(0, len(vocab), (10, n_seq))\n",
    "segments = np.random.randint(0, 2, (10, n_seq))\n",
    "labels_nsp = np.random.randint(0, 2, (10,))\n",
    "labels_mlm = np.random.randint(0, len(vocab), (10, n_seq))\n",
    "\n",
    "test_model = build_model_pre_train(config)\n",
    "test_model.compile(loss=tf.keras.losses.sparse_categorical_crossentropy, optimizer=tf.keras.optimizers.Adam(), metrics=[\"acc\"])\n",
    "\n",
    "# test model fit\n",
    "test_model.fit((enc_tokens, segments), (labels_nsp, labels_mlm), epochs=2, batch_size=256)"
   ]
  },
  {
   "cell_type": "markdown",
   "id": "bbe2997b",
   "metadata": {},
   "source": [
    "## Step 6. pretrain 진행\n",
    "---"
   ]
  },
  {
   "cell_type": "code",
   "execution_count": 52,
   "id": "c578df02",
   "metadata": {
    "execution": {
     "iopub.execute_input": "2021-05-13T22:28:28.498599Z",
     "iopub.status.busy": "2021-05-13T22:28:28.498254Z",
     "iopub.status.idle": "2021-05-13T22:28:28.504826Z",
     "shell.execute_reply": "2021-05-13T22:28:28.504019Z",
     "shell.execute_reply.started": "2021-05-13T22:28:28.498555Z"
    }
   },
   "outputs": [],
   "source": [
    "def lm_loss(y_true, y_pred):\n",
    "    \"\"\"\n",
    "    loss 계산 함수\n",
    "    :param y_true: 정답 (bs, n_seq)\n",
    "    :param y_pred: 예측 값 (bs, n_seq, n_vocab)\n",
    "    \"\"\"\n",
    "    # loss 계산\n",
    "    loss = tf.keras.losses.SparseCategoricalCrossentropy(reduction=tf.keras.losses.Reduction.NONE)(y_true, y_pred)\n",
    "    # pad(0) 인 부분 mask\n",
    "    mask = tf.cast(tf.math.not_equal(y_true, 0), dtype=loss.dtype)\n",
    "    loss *= mask\n",
    "    return loss * 20  # mlm을 더 잘 학습하도록 20배 증가 시킴"
   ]
  },
  {
   "cell_type": "code",
   "execution_count": 53,
   "id": "a9e92940",
   "metadata": {
    "execution": {
     "iopub.execute_input": "2021-05-13T22:28:36.393450Z",
     "iopub.status.busy": "2021-05-13T22:28:36.393221Z",
     "iopub.status.idle": "2021-05-13T22:28:36.397740Z",
     "shell.execute_reply": "2021-05-13T22:28:36.397200Z",
     "shell.execute_reply.started": "2021-05-13T22:28:36.393422Z"
    }
   },
   "outputs": [],
   "source": [
    "def lm_acc(y_true, y_pred):\n",
    "    \"\"\"\n",
    "    acc 계산 함수\n",
    "    :param y_true: 정답 (bs, n_seq)\n",
    "    :param y_pred: 예측 값 (bs, n_seq, n_vocab)\n",
    "    \"\"\"\n",
    "    # 정답 여부 확인\n",
    "    y_pred_class = tf.cast(K.argmax(y_pred, axis=-1), tf.float32)\n",
    "    matches = tf.cast(K.equal(y_true, y_pred_class), tf.float32)\n",
    "    # pad(0) 인 부분 mask\n",
    "    mask = tf.cast(tf.math.not_equal(y_true, 0), dtype=matches.dtype)\n",
    "    matches *= mask\n",
    "    # 정확도 계산\n",
    "    accuracy = K.sum(matches) / K.maximum(K.sum(mask), 1)\n",
    "    return accuracy"
   ]
  },
  {
   "cell_type": "code",
   "execution_count": 54,
   "id": "4ab9f5eb",
   "metadata": {
    "execution": {
     "iopub.execute_input": "2021-05-13T22:28:43.560969Z",
     "iopub.status.busy": "2021-05-13T22:28:43.560759Z",
     "iopub.status.idle": "2021-05-13T22:28:43.566558Z",
     "shell.execute_reply": "2021-05-13T22:28:43.565869Z",
     "shell.execute_reply.started": "2021-05-13T22:28:43.560943Z"
    }
   },
   "outputs": [],
   "source": [
    "class CosineSchedule(tf.keras.optimizers.schedules.LearningRateSchedule):\n",
    "    \"\"\"\n",
    "    CosineSchedule Class\n",
    "    \"\"\"\n",
    "    def __init__(self, train_steps=4000, warmup_steps=2000, max_lr=2.5e-4):\n",
    "        \"\"\"\n",
    "        생성자\n",
    "        :param train_steps: 학습 step 총 합\n",
    "        :param warmup_steps: warmup steps\n",
    "        :param max_lr: 최대 learning rate\n",
    "        \"\"\"\n",
    "        super().__init__()\n",
    "\n",
    "        assert 0 < warmup_steps < train_steps\n",
    "        self.warmup_steps = warmup_steps\n",
    "        self.train_steps = train_steps\n",
    "        self.max_lr = max_lr\n",
    "\n",
    "    def __call__(self, step_num):\n",
    "        \"\"\"\n",
    "        learning rate 계산\n",
    "        :param step_num: 현재 step number\n",
    "        :retrun: 계산된 learning rate\n",
    "        \"\"\"\n",
    "        state = tf.cast(step_num <= self.warmup_steps, tf.float32)\n",
    "        lr1 = tf.cast(step_num, tf.float32) / self.warmup_steps\n",
    "        progress = tf.cast(step_num - self.warmup_steps, tf.float32) / max(1, self.train_steps - self.warmup_steps)\n",
    "        lr2 = 0.5 * (1.0 + tf.math.cos(math.pi * progress))\n",
    "        return (state * lr1 + (1 - state) * lr2) * self.max_lr"
   ]
  },
  {
   "cell_type": "code",
   "execution_count": 55,
   "id": "01a5886b",
   "metadata": {
    "execution": {
     "iopub.execute_input": "2021-05-13T22:28:58.597260Z",
     "iopub.status.busy": "2021-05-13T22:28:58.597045Z",
     "iopub.status.idle": "2021-05-13T22:29:01.297508Z",
     "shell.execute_reply": "2021-05-13T22:29:01.297002Z",
     "shell.execute_reply.started": "2021-05-13T22:28:58.597234Z"
    }
   },
   "outputs": [
    {
     "data": {
      "image/png": "[encoded data removed]",
      "text/plain": [
       "<Figure size 432x288 with 1 Axes>"
      ]
     },
     "metadata": {
      "needs_background": "light"
     },
     "output_type": "display_data"
    }
   ],
   "source": [
    "# compute lr \n",
    "test_schedule = CosineSchedule(train_steps=4000, warmup_steps=500)\n",
    "lrs = []\n",
    "for step_num in range(4000):\n",
    "    lrs.append(test_schedule(float(step_num)).numpy())\n",
    "\n",
    "# draw\n",
    "plt.plot(lrs, 'r-', label='learning_rate')\n",
    "plt.xlabel('Step')\n",
    "plt.show()"
   ]
  },
  {
   "cell_type": "code",
   "execution_count": 56,
   "id": "c0eb832d",
   "metadata": {
    "execution": {
     "iopub.execute_input": "2021-05-13T22:29:02.318116Z",
     "iopub.status.busy": "2021-05-13T22:29:02.317840Z",
     "iopub.status.idle": "2021-05-13T22:29:02.795620Z",
     "shell.execute_reply": "2021-05-13T22:29:02.795099Z",
     "shell.execute_reply.started": "2021-05-13T22:29:02.318083Z"
    }
   },
   "outputs": [
    {
     "name": "stdout",
     "output_type": "stream",
     "text": [
      "Model: \"model_2\"\n",
      "__________________________________________________________________________________________________\n",
      "Layer (type)                    Output Shape         Param #     Connected to                     \n",
      "==================================================================================================\n",
      "enc_tokens (InputLayer)         [(None, None)]       0                                            \n",
      "__________________________________________________________________________________________________\n",
      "segments (InputLayer)           [(None, None)]       0                                            \n",
      "__________________________________________________________________________________________________\n",
      "bert (BERT)                     ((None, 256), (None, 4485632     enc_tokens[0][0]                 \n",
      "                                                                 segments[0][0]                   \n",
      "__________________________________________________________________________________________________\n",
      "pooled_nsp (PooledOutput)       (None, 2)            66304       bert[0][0]                       \n",
      "__________________________________________________________________________________________________\n",
      "nsp (Softmax)                   (None, 2)            0           pooled_nsp[0][0]                 \n",
      "__________________________________________________________________________________________________\n",
      "mlm (Softmax)                   (None, None, 8007)   0           bert[0][1]                       \n",
      "==================================================================================================\n",
      "Total params: 4,551,936\n",
      "Trainable params: 4,551,936\n",
      "Non-trainable params: 0\n",
      "__________________________________________________________________________________________________\n"
     ]
    }
   ],
   "source": [
    "# 모델 생성\n",
    "pre_train_model = build_model_pre_train(config)\n",
    "pre_train_model.summary()"
   ]
  },
  {
   "cell_type": "markdown",
   "id": "93afd53a",
   "metadata": {},
   "source": [
    "모델의 파라미터 수가 목표인 1M보다 크므로 config를 수정하여 준다."
   ]
  },
  {
   "cell_type": "code",
   "execution_count": 62,
   "id": "ab29e869",
   "metadata": {
    "execution": {
     "iopub.execute_input": "2021-05-13T22:32:58.032148Z",
     "iopub.status.busy": "2021-05-13T22:32:58.031798Z",
     "iopub.status.idle": "2021-05-13T22:32:58.039106Z",
     "shell.execute_reply": "2021-05-13T22:32:58.038438Z",
     "shell.execute_reply.started": "2021-05-13T22:32:58.032104Z"
    },
    "tags": []
   },
   "outputs": [
    {
     "data": {
      "text/plain": [
       "{'d_model': 128,\n",
       " 'n_head': 4,\n",
       " 'd_head': 64,\n",
       " 'dropout': 0.1,\n",
       " 'd_ff': 512,\n",
       " 'layernorm_epsilon': 0.001,\n",
       " 'n_layer': 3,\n",
       " 'n_seq': 256,\n",
       " 'n_vocab': 8007,\n",
       " 'i_pad': 0}"
      ]
     },
     "execution_count": 62,
     "metadata": {},
     "output_type": "execute_result"
    }
   ],
   "source": [
    "config_2 = Config({\"d_model\": 128, \"n_head\": 4, \"d_head\": 64, \"dropout\": 0.1, \"d_ff\": 512, \"layernorm_epsilon\": 0.001, \"n_layer\": 3, \"n_seq\": 256, \"n_vocab\": 0, \"i_pad\": 0})\n",
    "config_2.n_vocab = len(vocab)\n",
    "config_2.i_pad = vocab.pad_id()\n",
    "config_2"
   ]
  },
  {
   "cell_type": "code",
   "execution_count": 63,
   "id": "94729829",
   "metadata": {
    "execution": {
     "iopub.execute_input": "2021-05-13T22:32:58.963328Z",
     "iopub.status.busy": "2021-05-13T22:32:58.963093Z",
     "iopub.status.idle": "2021-05-13T22:32:59.434380Z",
     "shell.execute_reply": "2021-05-13T22:32:59.433973Z",
     "shell.execute_reply.started": "2021-05-13T22:32:58.963299Z"
    },
    "tags": []
   },
   "outputs": [
    {
     "name": "stdout",
     "output_type": "stream",
     "text": [
      "Model: \"model_4\"\n",
      "__________________________________________________________________________________________________\n",
      "Layer (type)                    Output Shape         Param #     Connected to                     \n",
      "==================================================================================================\n",
      "enc_tokens (InputLayer)         [(None, None)]       0                                            \n",
      "__________________________________________________________________________________________________\n",
      "segments (InputLayer)           [(None, None)]       0                                            \n",
      "__________________________________________________________________________________________________\n",
      "bert (BERT)                     ((None, 128), (None, 1850752     enc_tokens[0][0]                 \n",
      "                                                                 segments[0][0]                   \n",
      "__________________________________________________________________________________________________\n",
      "pooled_nsp (PooledOutput)       (None, 2)            16768       bert[0][0]                       \n",
      "__________________________________________________________________________________________________\n",
      "nsp (Softmax)                   (None, 2)            0           pooled_nsp[0][0]                 \n",
      "__________________________________________________________________________________________________\n",
      "mlm (Softmax)                   (None, None, 8007)   0           bert[0][1]                       \n",
      "==================================================================================================\n",
      "Total params: 1,867,520\n",
      "Trainable params: 1,867,520\n",
      "Non-trainable params: 0\n",
      "__________________________________________________________________________________________________\n"
     ]
    }
   ],
   "source": [
    "# 모델 생성\n",
    "pre_train_model = build_model_pre_train(config_2)\n",
    "pre_train_model.summary()"
   ]
  },
  {
   "cell_type": "code",
   "execution_count": 67,
   "id": "9f44d883",
   "metadata": {
    "execution": {
     "iopub.execute_input": "2021-05-13T22:34:47.352196Z",
     "iopub.status.busy": "2021-05-13T22:34:47.351958Z",
     "iopub.status.idle": "2021-05-13T22:34:47.370131Z",
     "shell.execute_reply": "2021-05-13T22:34:47.369439Z",
     "shell.execute_reply.started": "2021-05-13T22:34:47.352167Z"
    },
    "tags": []
   },
   "outputs": [
    {
     "name": "stdout",
     "output_type": "stream",
     "text": [
      "train_steps: 10000\n"
     ]
    }
   ],
   "source": [
    "epochs = 10\n",
    "batch_size = 128\n",
    "\n",
    "# optimizer\n",
    "train_steps = math.ceil(len(pre_train_inputs[0]) / batch_size) * epochs\n",
    "print(\"train_steps:\", train_steps)\n",
    "learning_rate = CosineSchedule(train_steps=train_steps, warmup_steps=max(100, train_steps // 10))\n",
    "optimizer = tf.keras.optimizers.Adam(learning_rate, beta_1=0.9, beta_2=0.98, epsilon=1e-9)\n",
    "\n",
    "# compile\n",
    "pre_train_model.compile(loss=(tf.keras.losses.sparse_categorical_crossentropy, lm_loss), optimizer=optimizer, metrics={\"nsp\": \"acc\", \"mlm\": lm_acc})"
   ]
  },
  {
   "cell_type": "code",
   "execution_count": 68,
   "id": "b7321158",
   "metadata": {
    "execution": {
     "iopub.execute_input": "2021-05-13T22:34:48.935684Z",
     "iopub.status.busy": "2021-05-13T22:34:48.935250Z",
     "iopub.status.idle": "2021-05-13T22:55:00.960869Z",
     "shell.execute_reply": "2021-05-13T22:55:00.960227Z",
     "shell.execute_reply.started": "2021-05-13T22:34:48.935630Z"
    },
    "tags": []
   },
   "outputs": [
    {
     "name": "stdout",
     "output_type": "stream",
     "text": [
      "Epoch 1/10\n",
      "1000/1000 [==============================] - 123s 121ms/step - loss: 21.9304 - nsp_loss: 0.6769 - mlm_loss: 21.2535 - nsp_acc: 0.5638 - mlm_lm_acc: 0.0618\n",
      "\n",
      "Epoch 00001: mlm_lm_acc improved from -inf to 0.05288, saving model to /home/aiffel-dj1/workspace/aiffel-gd-nlp/GD16_bert_pretrain/models/bert_pre_train_8000.hdf5\n",
      "Epoch 2/10\n",
      "1000/1000 [==============================] - 122s 122ms/step - loss: 18.9461 - nsp_loss: 0.6354 - mlm_loss: 18.3107 - nsp_acc: 0.6090 - mlm_lm_acc: 0.0898\n",
      "\n",
      "Epoch 00002: mlm_lm_acc improved from 0.05288 to 0.09951, saving model to /home/aiffel-dj1/workspace/aiffel-gd-nlp/GD16_bert_pretrain/models/bert_pre_train_8000.hdf5\n",
      "Epoch 3/10\n",
      "1000/1000 [==============================] - 122s 122ms/step - loss: 17.8621 - nsp_loss: 0.6227 - mlm_loss: 17.2395 - nsp_acc: 0.6254 - mlm_lm_acc: 0.1189\n",
      "\n",
      "Epoch 00003: mlm_lm_acc improved from 0.09951 to 0.12150, saving model to /home/aiffel-dj1/workspace/aiffel-gd-nlp/GD16_bert_pretrain/models/bert_pre_train_8000.hdf5\n",
      "Epoch 4/10\n",
      "1000/1000 [==============================] - 122s 122ms/step - loss: 17.3782 - nsp_loss: 0.6160 - mlm_loss: 16.7622 - nsp_acc: 0.6415 - mlm_lm_acc: 0.1277\n",
      "\n",
      "Epoch 00004: mlm_lm_acc improved from 0.12150 to 0.12895, saving model to /home/aiffel-dj1/workspace/aiffel-gd-nlp/GD16_bert_pretrain/models/bert_pre_train_8000.hdf5\n",
      "Epoch 5/10\n",
      "1000/1000 [==============================] - 121s 121ms/step - loss: 17.0783 - nsp_loss: 0.6098 - mlm_loss: 16.4685 - nsp_acc: 0.6482 - mlm_lm_acc: 0.1323\n",
      "\n",
      "Epoch 00005: mlm_lm_acc improved from 0.12895 to 0.13266, saving model to /home/aiffel-dj1/workspace/aiffel-gd-nlp/GD16_bert_pretrain/models/bert_pre_train_8000.hdf5\n",
      "Epoch 6/10\n",
      "1000/1000 [==============================] - 121s 121ms/step - loss: 16.8881 - nsp_loss: 0.6036 - mlm_loss: 16.2846 - nsp_acc: 0.6596 - mlm_lm_acc: 0.1347\n",
      "\n",
      "Epoch 00006: mlm_lm_acc improved from 0.13266 to 0.13576, saving model to /home/aiffel-dj1/workspace/aiffel-gd-nlp/GD16_bert_pretrain/models/bert_pre_train_8000.hdf5\n",
      "Epoch 7/10\n",
      "1000/1000 [==============================] - 121s 121ms/step - loss: 16.6997 - nsp_loss: 0.6010 - mlm_loss: 16.0986 - nsp_acc: 0.6646 - mlm_lm_acc: 0.1380\n",
      "\n",
      "Epoch 00007: mlm_lm_acc improved from 0.13576 to 0.13780, saving model to /home/aiffel-dj1/workspace/aiffel-gd-nlp/GD16_bert_pretrain/models/bert_pre_train_8000.hdf5\n",
      "Epoch 8/10\n",
      "1000/1000 [==============================] - 120s 120ms/step - loss: 16.6051 - nsp_loss: 0.5970 - mlm_loss: 16.0081 - nsp_acc: 0.6719 - mlm_lm_acc: 0.1386\n",
      "\n",
      "Epoch 00008: mlm_lm_acc improved from 0.13780 to 0.13887, saving model to /home/aiffel-dj1/workspace/aiffel-gd-nlp/GD16_bert_pretrain/models/bert_pre_train_8000.hdf5\n",
      "Epoch 9/10\n",
      "1000/1000 [==============================] - 120s 120ms/step - loss: 16.5466 - nsp_loss: 0.5955 - mlm_loss: 15.9512 - nsp_acc: 0.6746 - mlm_lm_acc: 0.1398\n",
      "\n",
      "Epoch 00009: mlm_lm_acc improved from 0.13887 to 0.13975, saving model to /home/aiffel-dj1/workspace/aiffel-gd-nlp/GD16_bert_pretrain/models/bert_pre_train_8000.hdf5\n",
      "Epoch 10/10\n",
      "1000/1000 [==============================] - 120s 120ms/step - loss: 16.5260 - nsp_loss: 0.5932 - mlm_loss: 15.9328 - nsp_acc: 0.6792 - mlm_lm_acc: 0.1398\n",
      "\n",
      "Epoch 00010: mlm_lm_acc improved from 0.13975 to 0.14026, saving model to /home/aiffel-dj1/workspace/aiffel-gd-nlp/GD16_bert_pretrain/models/bert_pre_train_8000.hdf5\n"
     ]
    }
   ],
   "source": [
    "# save weights callback\n",
    "save_weights = tf.keras.callbacks.ModelCheckpoint(f\"{model_dir_path}/bert_pre_train_8000.hdf5\", monitor=\"mlm_lm_acc\", verbose=1, save_best_only=True, mode=\"max\", save_freq=\"epoch\", save_weights_only=True)\n",
    "# train\n",
    "history = pre_train_model.fit(pre_train_inputs, pre_train_labels, epochs=epochs, batch_size=batch_size, callbacks=[save_weights])"
   ]
  },
  {
   "cell_type": "markdown",
   "id": "aa2eecaa",
   "metadata": {},
   "source": [
    "## 7. 프로젝트 결과\n",
    "---"
   ]
  },
  {
   "cell_type": "code",
   "execution_count": 69,
   "id": "15c2535b",
   "metadata": {
    "execution": {
     "iopub.execute_input": "2021-05-13T22:57:00.739062Z",
     "iopub.status.busy": "2021-05-13T22:57:00.738833Z",
     "iopub.status.idle": "2021-05-13T22:57:00.992893Z",
     "shell.execute_reply": "2021-05-13T22:57:00.992320Z",
     "shell.execute_reply.started": "2021-05-13T22:57:00.739033Z"
    }
   },
   "outputs": [
    {
     "data": {
      "image/png": "[encoded data removed]",
      "text/plain": [
       "<Figure size 864x288 with 2 Axes>"
      ]
     },
     "metadata": {
      "needs_background": "light"
     },
     "output_type": "display_data"
    }
   ],
   "source": [
    "# training result\n",
    "plt.figure(figsize=(12, 4))\n",
    "\n",
    "plt.subplot(1, 2, 1)\n",
    "plt.plot(history.history['nsp_loss'], 'b-', label='nsp_loss')\n",
    "plt.plot(history.history['mlm_loss'], 'r--', label='mlm_loss')\n",
    "plt.xlabel('Epoch')\n",
    "plt.legend()\n",
    "\n",
    "plt.subplot(1, 2, 2)\n",
    "plt.plot(history.history['nsp_acc'], 'g-', label='nsp_acc')\n",
    "plt.plot(history.history['mlm_lm_acc'], 'k--', label='mlm_acc')\n",
    "plt.xlabel('Epoch')\n",
    "plt.legend()\n",
    "\n",
    "plt.show()"
   ]
  },
  {
   "cell_type": "markdown",
   "id": "78af6209",
   "metadata": {},
   "source": [
    "학습 과정에서 MLM, NSP Loss가 안정적으로 감소하는 것을 볼 수 있었다. "
   ]
  }
 ],
 "metadata": {
  "kernelspec": {
   "display_name": "Python 3",
   "language": "python",
   "name": "python3"
  },
  "language_info": {
   "codemirror_mode": {
    "name": "ipython",
    "version": 3
   },
   "file_extension": ".py",
   "mimetype": "text/x-python",
   "name": "python",
   "nbconvert_exporter": "python",
   "pygments_lexer": "ipython3",
   "version": "3.7.10"
  }
 },
 "nbformat": 4,
 "nbformat_minor": 5
}
