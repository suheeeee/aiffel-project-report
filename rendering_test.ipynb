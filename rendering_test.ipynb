{
 "cells": [
  {
   "cell_type": "markdown",
   "id": "historical-slovakia",
   "metadata": {},
   "source": [
    "- somthing\n",
    "    - something\n",
    "    \n",
    "| First Header  | Second Header |\n",
    "|:-------------:|:-------------:|\n",
    "| Content Cell  | Content Cell  |\n",
    "| Content Cell  | Content Cell  |\n",
    "\n",
    "    - blah  blahblahblahblahblah\n",
    "    - ehitheiahldjlkdjflad\n",
    "        - ahldjfaldjflkjl"
   ]
  },
  {
   "cell_type": "markdown",
   "id": "drawn-aquatic",
   "metadata": {},
   "source": [
    "- recognition accuracy - 1) 기댓값(라벨)과 recognition 결과값\n",
    "\n",
    "|  기댓값  | google-ocr-api | keras-ocr | tesseract |\n",
    "|:-------:|:--------------:|:---------:|:--------:|\n",
    "| 102kcal |  102kcal | 102kcal  | EAR  |\n",
    "| 나트륨 |  나트륨 |  le | -  |\n",
    "| 30mg | 30mg  |  30mg | -  |\n",
    "| 탄수화물 | 탄수화물  |  eae |  탄수화물 |\n",
    "| 11g |  11g | 119  | - |\n",
    "| 당류 | 당류  | c  |  당류 |\n",
    "| 5g | 5g  |  5g | 58  |\n",
    "| 지방 | 지방  |  mib | 시방  |\n",
    "| 6g |  6g |  bg | 68  |\n",
    "| 트랜스지방 | 트랜스지방  |  eehato |  EMATI |\n",
    "| 0.1g |  1g |  01g |  0.1g |\n",
    "| 포화지방 | 포화지방 | totio  | see  |\n",
    "| 3.4g | 3.4g  | 34g  | see  |\n",
    "| 콜레스테롤 |  콜레스테롤 | etaee  | see  |\n",
    "| 5mg | 5mg  |  5mg | see  |\n",
    "| 단백질 | 단백질  | chaie  | - |\n",
    "| 1g | 18  |  1g | - |\n"
   ]
  },
  {
   "cell_type": "code",
   "execution_count": null,
   "id": "knowing-poland",
   "metadata": {},
   "outputs": [],
   "source": []
  }
 ],
 "metadata": {
  "kernelspec": {
   "display_name": "Python 3",
   "language": "python",
   "name": "python3"
  },
  "language_info": {
   "codemirror_mode": {
    "name": "ipython",
    "version": 3
   },
   "file_extension": ".py",
   "mimetype": "text/x-python",
   "name": "python",
   "nbconvert_exporter": "python",
   "pygments_lexer": "ipython3",
   "version": "3.7.10"
  },
  "toc": {
   "base_numbering": 1,
   "nav_menu": {},
   "number_sections": true,
   "sideBar": true,
   "skip_h1_title": false,
   "title_cell": "Table of Contents",
   "title_sidebar": "Contents",
   "toc_cell": false,
   "toc_position": {},
   "toc_section_display": true,
   "toc_window_display": false
  }
 },
 "nbformat": 4,
 "nbformat_minor": 5
}
